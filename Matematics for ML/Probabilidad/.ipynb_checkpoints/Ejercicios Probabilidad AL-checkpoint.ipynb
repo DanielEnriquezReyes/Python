{
 "cells": [
  {
   "cell_type": "markdown",
   "id": "vanilla-democracy",
   "metadata": {},
   "source": [
    "<hr>\n",
    "<h1>Ejercicio 1 (Probabilidad condicional)</h1>\n",
    "\n",
    "En un centro de maquinaria hay cuatro máquinas automáticas que producen tornillos. Un análisis de\n",
    "los registros de inspección anteriores produce los siguientes datos:\n",
    "\n",
    "|Máquina|Porcentaje de producción|Porcentaje de defectos producidos|\n",
    "|:-----:|:----------------------:|:-------------------------------:|\n",
    "|1|15|4|\n",
    "|2|30|3|\n",
    "|3|20|5|\n",
    "|4|35|2|\n",
    "\n",
    "\n",
    "Las máquinas 2 y 4 son más nuevas y se les ha asignado más producción que a las máquinas 1 y 3.\n",
    "Supóngase que la combinación de inventarios refleja los porcentajes de producción indicados.\n",
    "\n",
    "- Si se elige un tornillo al azar del inventario, ¿cuál es la probabilidad de que esté defectuoso?\n",
    "- Si se elige un tornillo y se encuentra que está defectuoso, ¿cuál es la probabilidad de que se haya producido en la máquina 3? "
   ]
  },
  {
   "cell_type": "markdown",
   "id": "african-northeast",
   "metadata": {},
   "source": [
    "Sea $D$ el evento que representa a los tornillos que se producen defectuosos y $M_i$ el evento que representa la producción de tornillos en la máquina $i$,  $i =1, 2, 3, 4$"
   ]
  },
  {
   "cell_type": "code",
   "execution_count": 1,
   "id": "unlikely-district",
   "metadata": {},
   "outputs": [],
   "source": []
  },
  {
   "cell_type": "markdown",
   "id": "classified-consortium",
   "metadata": {},
   "source": [
    "<hr>\n",
    "<h1>Ejercicio 2 (Esperanza y Varianza)</h1>\n",
    "\n",
    "La función de distribución acumulativa de una variable aleatoria X está definida por:\n",
    "\n",
    "$$\n",
    "F_X(x)\n",
    "= \n",
    "\\left\\{ \n",
    "\\begin{array}{lcc}\n",
    "0 &   si  & x < 0 \\\\\n",
    "\\frac{x^3 + x^2}{2} &  si & 0 \\le x \\le 1 \\\\\n",
    "1 &  si  & x > 1\n",
    "\\end{array}\n",
    "\\right.\n",
    "$$\n",
    "\n",
    "- Obtener la media y la variancia X\n",
    "- Calcular la probabilidad de que la variable aleatoria se encuentre ente 0.5 y 1 "
   ]
  },
  {
   "cell_type": "code",
   "execution_count": null,
   "id": "close-jerusalem",
   "metadata": {},
   "outputs": [],
   "source": []
  },
  {
   "cell_type": "markdown",
   "id": "compound-contributor",
   "metadata": {},
   "source": [
    "<hr>\n",
    "<h1>Ejercicio 3 (Distribuciones de Probabilidad)</h1>\n",
    "\n",
    "Un explorador de petróleo perforará una serie de pozos en cierta área para encontrar un pozo\n",
    "productivo. La probabilidad de que tenga éxito en una prueba es 0.2\n",
    "\n",
    "- ¿Cuál es la probabilidad de que el primer pozo productivo sea el tercer pozo perforado?\n",
    "- ¿Cuál es la probabilidad de que el explorador no vaya a encontrar un pozo productivo si\n",
    "solamente puede perforar 10 pozos?\n"
   ]
  },
  {
   "cell_type": "code",
   "execution_count": null,
   "id": "upset-saturn",
   "metadata": {},
   "outputs": [],
   "source": []
  }
 ],
 "metadata": {
  "kernelspec": {
   "display_name": "Python 3",
   "language": "python",
   "name": "python3"
  },
  "language_info": {
   "codemirror_mode": {
    "name": "ipython",
    "version": 3
   },
   "file_extension": ".py",
   "mimetype": "text/x-python",
   "name": "python",
   "nbconvert_exporter": "python",
   "pygments_lexer": "ipython3",
   "version": "3.8.5"
  }
 },
 "nbformat": 4,
 "nbformat_minor": 5
}
