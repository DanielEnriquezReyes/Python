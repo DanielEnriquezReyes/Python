{
 "cells": [
  {
   "cell_type": "markdown",
   "id": "vanilla-democracy",
   "metadata": {},
   "source": [
    "<hr>\n",
    "<h1>Ejercicio 1 (Probabilidad condicional)</h1>\n",
    "\n",
    "En un centro de maquinaria hay cuatro máquinas automáticas que producen tornillos. Un análisis de\n",
    "los registros de inspección anteriores produce los siguientes datos:\n",
    "\n",
    "|Máquina|Porcentaje de producción|Porcentaje de defectos producidos|\n",
    "|:-----:|:----------------------:|:-------------------------------:|\n",
    "|1|15|4|\n",
    "|2|30|3|\n",
    "|3|20|5|\n",
    "|4|35|2|\n",
    "\n",
    "\n",
    "Las máquinas 2 y 4 son más nuevas y se les ha asignado más producción que a las máquinas 1 y 3.\n",
    "Supóngase que la combinación de inventarios refleja los porcentajes de producción indicados.\n",
    "\n",
    "- Si se elige un tornillo al azar del inventario, ¿cuál es la probabilidad de que esté defectuoso?\n",
    "- Si se elige un tornillo y se encuentra que está defectuoso, ¿cuál es la probabilidad de que se haya producido en la máquina 3? "
   ]
  },
  {
   "cell_type": "markdown",
   "id": "african-northeast",
   "metadata": {},
   "source": [
    "Sea $D$ el evento que representa a los tornillos que se producen defectuosos y $M_i$ el evento que representa la producción de tornillos en la máquina $i$,  $i =1, 2, 3, 4$"
   ]
  },
  {
   "cell_type": "code",
   "execution_count": 1,
   "id": "unlikely-district",
   "metadata": {},
   "outputs": [],
   "source": [
    "#probabilidaddes del enunciado\n",
    "pm1 = 0.15\n",
    "pm2 = 0.30\n",
    "pm3 = 0.20\n",
    "pm4 = 0.35"
   ]
  },
  {
   "cell_type": "code",
   "execution_count": 2,
   "id": "coupled-miami",
   "metadata": {},
   "outputs": [],
   "source": [
    "pD_m1 = 0.04\n",
    "pD_m2 = 0.03\n",
    "pD_m3 = 0.05\n",
    "pD_m4 = 0.02"
   ]
  },
  {
   "cell_type": "markdown",
   "id": "competitive-reynolds",
   "metadata": {},
   "source": [
    "aplicamos el teorema de la probabilidad total"
   ]
  },
  {
   "cell_type": "code",
   "execution_count": 3,
   "id": "bacterial-scientist",
   "metadata": {},
   "outputs": [],
   "source": [
    "pD = pm1 * pD_m1 + pm2 * pD_m2 + pm3 * pD_m3 + pm4 * pD_m4"
   ]
  },
  {
   "cell_type": "code",
   "execution_count": 4,
   "id": "occupied-spare",
   "metadata": {},
   "outputs": [
    {
     "data": {
      "text/plain": [
       "0.032"
      ]
     },
     "execution_count": 4,
     "metadata": {},
     "output_type": "execute_result"
    }
   ],
   "source": [
    "pD"
   ]
  },
  {
   "cell_type": "markdown",
   "id": "conventional-specific",
   "metadata": {},
   "source": [
    "aplicamos teorema de bayes"
   ]
  },
  {
   "cell_type": "code",
   "execution_count": 6,
   "id": "peaceful-decimal",
   "metadata": {},
   "outputs": [],
   "source": [
    "pm3_D = (pm3 * pD_m3) / pD"
   ]
  },
  {
   "cell_type": "code",
   "execution_count": 7,
   "id": "cooked-parish",
   "metadata": {},
   "outputs": [
    {
     "data": {
      "text/plain": [
       "0.31250000000000006"
      ]
     },
     "execution_count": 7,
     "metadata": {},
     "output_type": "execute_result"
    }
   ],
   "source": [
    "pm3_D"
   ]
  },
  {
   "cell_type": "markdown",
   "id": "classified-consortium",
   "metadata": {},
   "source": [
    "<hr>\n",
    "<h1>Ejercicio 2 (Esperanza y Varianza)</h1>\n",
    "\n",
    "La función de distribución acumulativa de una variable aleatoria X está definida por:\n",
    "\n",
    "$$\n",
    "F_X(x)\n",
    "= \n",
    "\\left\\{ \n",
    "\\begin{array}{lcc}\n",
    "0 &   si  & x < 0 \\\\\n",
    "\\frac{x^3 + x^2}{2} &  si & 0 \\le x \\le 1 \\\\\n",
    "1 &  si  & x > 1\n",
    "\\end{array}\n",
    "\\right.\n",
    "$$\n",
    "\n",
    "- Obtener la media y la variancia X\n",
    "- Calcular la probabilidad de que la variable aleatoria se encuentre ente 0.5 y 1 "
   ]
  },
  {
   "cell_type": "code",
   "execution_count": 8,
   "id": "close-jerusalem",
   "metadata": {},
   "outputs": [],
   "source": [
    "from sympy import *"
   ]
  },
  {
   "cell_type": "code",
   "execution_count": 9,
   "id": "creative-operations",
   "metadata": {},
   "outputs": [],
   "source": [
    "x = symbols('x')"
   ]
  },
  {
   "cell_type": "code",
   "execution_count": 10,
   "id": "surgical-pricing",
   "metadata": {},
   "outputs": [],
   "source": [
    "F = (x ** 3 + x ** 2) / 2"
   ]
  },
  {
   "cell_type": "code",
   "execution_count": 11,
   "id": "pretty-people",
   "metadata": {},
   "outputs": [
    {
     "data": {
      "text/latex": [
       "$\\displaystyle \\frac{x^{3}}{2} + \\frac{x^{2}}{2}$"
      ],
      "text/plain": [
       "x**3/2 + x**2/2"
      ]
     },
     "execution_count": 11,
     "metadata": {},
     "output_type": "execute_result"
    }
   ],
   "source": [
    "F"
   ]
  },
  {
   "cell_type": "code",
   "execution_count": 12,
   "id": "meaning-legislature",
   "metadata": {},
   "outputs": [],
   "source": [
    "f = F.diff(x)"
   ]
  },
  {
   "cell_type": "code",
   "execution_count": 13,
   "id": "international-strength",
   "metadata": {},
   "outputs": [
    {
     "data": {
      "text/latex": [
       "$\\displaystyle \\frac{3 x^{2}}{2} + x$"
      ],
      "text/plain": [
       "3*x**2/2 + x"
      ]
     },
     "execution_count": 13,
     "metadata": {},
     "output_type": "execute_result"
    }
   ],
   "source": [
    "f"
   ]
  },
  {
   "cell_type": "markdown",
   "id": "comparative-export",
   "metadata": {},
   "source": [
    "$$E[X] = \\int_{-\\infty}^{\\infty} x f_X(x)dx$$"
   ]
  },
  {
   "cell_type": "code",
   "execution_count": 16,
   "id": "dirty-oakland",
   "metadata": {},
   "outputs": [],
   "source": [
    "E = (x * f).integrate((x, 0, 1))"
   ]
  },
  {
   "cell_type": "code",
   "execution_count": 17,
   "id": "backed-frame",
   "metadata": {},
   "outputs": [
    {
     "data": {
      "text/latex": [
       "$\\displaystyle \\frac{17}{24}$"
      ],
      "text/plain": [
       "17/24"
      ]
     },
     "execution_count": 17,
     "metadata": {},
     "output_type": "execute_result"
    }
   ],
   "source": [
    "E"
   ]
  },
  {
   "cell_type": "markdown",
   "id": "current-orange",
   "metadata": {},
   "source": [
    "$$Var[X] = E[(X - \\mu)^2]$$"
   ]
  },
  {
   "cell_type": "code",
   "execution_count": 18,
   "id": "systematic-bridal",
   "metadata": {},
   "outputs": [],
   "source": [
    "var = ((x - E) ** 2 * f).integrate((x, 0, 1))"
   ]
  },
  {
   "cell_type": "code",
   "execution_count": 19,
   "id": "latin-memory",
   "metadata": {},
   "outputs": [
    {
     "data": {
      "text/latex": [
       "$\\displaystyle \\frac{139}{2880}$"
      ],
      "text/plain": [
       "139/2880"
      ]
     },
     "execution_count": 19,
     "metadata": {},
     "output_type": "execute_result"
    }
   ],
   "source": [
    "var"
   ]
  },
  {
   "cell_type": "markdown",
   "id": "chinese-therapist",
   "metadata": {},
   "source": [
    "Calcular la probabilidad de que la variable aleatoria se encuentre ente 0.5 y 1"
   ]
  },
  {
   "cell_type": "code",
   "execution_count": 21,
   "id": "heavy-blair",
   "metadata": {},
   "outputs": [
    {
     "data": {
      "text/latex": [
       "$\\displaystyle 0.8125$"
      ],
      "text/plain": [
       "0.812500000000000"
      ]
     },
     "execution_count": 21,
     "metadata": {},
     "output_type": "execute_result"
    }
   ],
   "source": [
    "F.evalf(subs = {x : 1}) - F.evalf(subs = {x : 0.5})"
   ]
  },
  {
   "cell_type": "markdown",
   "id": "compound-contributor",
   "metadata": {},
   "source": [
    "<hr>\n",
    "<h1>Ejercicio 3 (Distribuciones de Probabilidad)</h1>\n",
    "\n",
    "Un explorador de petróleo perforará una serie de pozos en cierta área para encontrar un pozo\n",
    "productivo. La probabilidad de que tenga éxito en una prueba es 0.2\n",
    "\n",
    "- ¿Cuál es la probabilidad de que el primer pozo productivo sea el tercer pozo perforado?\n",
    "- ¿Cuál es la probabilidad de que el explorador no vaya a encontrar un pozo productivo si\n",
    "solamente puede perforar 10 pozos?\n"
   ]
  },
  {
   "cell_type": "code",
   "execution_count": 22,
   "id": "upset-saturn",
   "metadata": {},
   "outputs": [],
   "source": [
    "from scipy import stats"
   ]
  },
  {
   "cell_type": "markdown",
   "id": "alleged-estimate",
   "metadata": {},
   "source": [
    "¿Cuál es la probabilidad de que el primer pozo productivo sea el tercer pozo perforado?\n",
    "$$X \\sim Geo(p = 0.2)$$"
   ]
  },
  {
   "cell_type": "code",
   "execution_count": 23,
   "id": "controlled-senator",
   "metadata": {},
   "outputs": [],
   "source": [
    "dist = stats.geom(0.2)"
   ]
  },
  {
   "cell_type": "code",
   "execution_count": 24,
   "id": "sophisticated-notification",
   "metadata": {},
   "outputs": [
    {
     "data": {
      "text/plain": [
       "0.12800000000000003"
      ]
     },
     "execution_count": 24,
     "metadata": {},
     "output_type": "execute_result"
    }
   ],
   "source": [
    "dist.pmf(3)"
   ]
  },
  {
   "cell_type": "markdown",
   "id": "judicial-sleeve",
   "metadata": {},
   "source": [
    "¿Cuál es la probabilidad de que el explorador no vaya a encontrar un pozo productivo si solamente puede perforar 10 pozos?\n",
    "\n",
    "$$P(X \\ge 11)$$\n",
    "$$1 - P(X \\le 10)$$"
   ]
  },
  {
   "cell_type": "code",
   "execution_count": 28,
   "id": "acoustic-composition",
   "metadata": {},
   "outputs": [
    {
     "data": {
      "text/plain": [
       "0.10737418239999996"
      ]
     },
     "execution_count": 28,
     "metadata": {},
     "output_type": "execute_result"
    }
   ],
   "source": [
    "1 - dist.cdf(10)"
   ]
  },
  {
   "cell_type": "markdown",
   "id": "intensive-projection",
   "metadata": {},
   "source": [
    "$$X \\sim Binom(n = 10, p = 0.2)$$"
   ]
  },
  {
   "cell_type": "code",
   "execution_count": 30,
   "id": "distinct-african",
   "metadata": {},
   "outputs": [],
   "source": [
    "dist2 = stats.binom(10, 0.2)"
   ]
  },
  {
   "cell_type": "code",
   "execution_count": 31,
   "id": "recreational-priest",
   "metadata": {},
   "outputs": [
    {
     "data": {
      "text/plain": [
       "0.1073741824"
      ]
     },
     "execution_count": 31,
     "metadata": {},
     "output_type": "execute_result"
    }
   ],
   "source": [
    "dist2.pmf(0)"
   ]
  },
  {
   "cell_type": "code",
   "execution_count": null,
   "id": "bronze-musical",
   "metadata": {},
   "outputs": [],
   "source": []
  }
 ],
 "metadata": {
  "kernelspec": {
   "display_name": "Python 3",
   "language": "python",
   "name": "python3"
  },
  "language_info": {
   "codemirror_mode": {
    "name": "ipython",
    "version": 3
   },
   "file_extension": ".py",
   "mimetype": "text/x-python",
   "name": "python",
   "nbconvert_exporter": "python",
   "pygments_lexer": "ipython3",
   "version": "3.8.5"
  }
 },
 "nbformat": 4,
 "nbformat_minor": 5
}
