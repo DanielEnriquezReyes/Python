{
 "cells": [
  {
   "cell_type": "markdown",
   "metadata": {},
   "source": [
    "## Contenido\n",
    "\n",
    "- [Probabilidad](#Probabilidad)\n",
    "    - [Operaciones con sucesos](#Operaciones-con-sucesos)\n",
    "    - [Probabilidad (definición)](#Probabilidad-(definición))\n",
    "    - [Propiedades de las probabilidades](#Propiedades-de-las-probabilidades)\n",
    "    - [Formula de Laplace](#Formula-de-Laplace)\n",
    "    - [Probabilidad condicional](#Probabilidad-condicional)\n",
    "    - [Teorema de la probabilidad total](#Teorema-de-la-probabilidad-total)\n",
    "\n",
    "\n",
    "- [Teorema de Bayes](#Teorema-de-Bayes)\n",
    "    - [El problema de Monty Hall](#El-problema-de-Monty-Hall)\n",
    "    - [Clasificador Naive Bayes](#Clasificador-Naive-Bayes)\n",
    "\n",
    "\n",
    "- [Variables Aleatorias](#Variables-Aleatorias)\n",
    "    - [Variables discretas](#Variables-discretas)\n",
    "        - [Función de probabilidad](#Función-de-probabilidad)\n",
    "        - [Función de Distribución](#Función-de-Distribución)\n",
    "        - [Valor esperado o esperanza](#Valor-esperado-o-esperanza)\n",
    "        - [Momento de orden m](#Momento-de-orden-m)\n",
    "        - [Varianza](#Varianza)\n",
    "    - [Variables aleatorias continuas](#Variables-aleatorias-continuas)\n",
    "        - [Esperanza y varianza para variables continuas](#Esperanza-y-varianza-para-variables-continuas)\n",
    "\n",
    "\n",
    "- [Distribuciones de Probabilidad](#Distribuciones-de-Probabilidad)\n",
    "    - [Distribuciones Discretas notables](#Distribuciones-Discretas-notables)\n",
    "        - [Distribución de Bernoulli](#Distribución-de-Bernoulli)\n",
    "        - [Distribución Binomial.](#Distribución-Binomial.)\n",
    "        - [Distribución Geométrica](#Distribución-Geométrica)\n",
    "        - [Distribución de Poisson](#Distribución-de-Poisson)\n",
    "        - [Distribución hipergeométrica](#Distribución-hipergeométrica)\n",
    "    - [Distribuciones continuas notables](#Distribuciones-continuas-notables)\n",
    "        - [Distribución uniforme](#Distribución-uniforme)\n",
    "        - [Distribución normal](#Distribución-normal)\n",
    "\n",
    "- [Más métricas](#Más-métricas)\n",
    "    - [Asimetría de una variable Aleatoria](#Asimetría-de-una-variable-Aleatoria)\n",
    "    - [Curtosis de una variable Aleatoria](#Curtosis-de-una-variable-Aleatoria)\n",
    "    - [Entropía de una variable aleatoria](#Entropía-de-una-variable-aleatoria)\n",
    "        \n",
    "- [Vectores Aleatorios](#Vectores-Aleatorios)\n",
    "    - [Vectores Aleatorios Bidimensionales](#Vectores-Aleatorios-Bidimensionales)\n",
    "        - [Función de distribución conjunta](#Función-de-distribución-conjunta)\n",
    "        - [Variable Aleatoria Bidimensional Discreta](#Variable-Aleatoria-Bidimensional-Discreta)\n",
    "            - [Marginales de una V.A.B.D.](#Marginales-de-una-V.A.B.D.)\n",
    "        - [Variable Aleatoria Continua Bidimensional](#Variable-Aleatoria-Continua-Bidimensional)\n",
    "            - [Distribución Gaussiana Bidimensional](#Distribución-Gaussiana-Bidimensional)\n",
    "        - [Valor esperado de Variables Aleatorias Bidimensionales](#Valor-esperado-de-Variables-Aleatorias-Bidimensionales)\n",
    "        - [Covarianza de Variables aleatorias Bidimensionales](#Covarianza-de-Variables-aleatorias-Bidimensionales)\n",
    "        - [Correlación entre Variables](#Correlación-entre-Variables)\n",
    " \n",
    " \n",
    "- [Ley de los grandes Números](#Ley-de-los-grandes-Números)\n",
    "\n",
    "                \n",
    "    \n",
    "- [Teorema central del límite](#Teorema-central-del-límite)\n",
    "       \n",
    "    \n",
    "        \n",
    "    \n"
   ]
  },
  {
   "cell_type": "markdown",
   "metadata": {},
   "source": [
    "## Probabilidad\n",
    "\n",
    "\n",
    "Para prepararnos en el estudio de la probabilidad empezaremos dando unas definiciones previas:\n",
    "\n",
    "\n",
    "- Experimento aleatorio:  Un experimento que bajo el mismo conjunto aparente de condiciones iniciales, puede presentar resultados diferentes, es decir, no se puede predecir o reproducir el resultado exacto de cada experiencia particular.\n",
    "\n",
    "\n",
    "- Suceso elemental: Es el resultado de realizar una sola vez el experimento aleatorio.\n",
    "\n",
    "- Espacio muestral: Es el conjunto de todos los sucesos elementales posibles en nuestro experimento aleatorio. denotado por $\\Omega$\n",
    "\n",
    "- Sucesos: denotamos por $P(\\Omega)$ al conjunto de todos los subconjuntos de $\\Omega$, a cada elemento de $P(\\Omega)$ lo llamamos suseso.\n",
    "\n",
    "\n",
    "Aquí cabe destacar el suceso seguro y el suceso imposible.\n"
   ]
  },
  {
   "cell_type": "markdown",
   "metadata": {},
   "source": [
    "### Operaciones con sucesos\n",
    "\n",
    "- $\\Omega$\n",
    "- $\\emptyset$\n",
    "- $A \\cup B$ (A o b)\n",
    "- $A \\cap B$ (A y B)\n",
    "- $\\overline{A}$ que no pase A\n",
    "- $A - B = A \\cap \\overline{B}$ que pase A y no B\n",
    "- $\\overline{A} \\cap \\overline{B} = \\overline{(A \\cup B)}$ \n",
    "- $\\overline{A} \\cup \\overline{B} = \\overline{(A \\cap B)}$ \n",
    "\n",
    "\n",
    "Diremos que dos sucesos $A$ y $B$ son incompatibles si $A \\cap B = \\emptyset$\n"
   ]
  },
  {
   "cell_type": "markdown",
   "metadata": {},
   "source": [
    "[Regresar al contenido](#Contenido)"
   ]
  },
  {
   "cell_type": "markdown",
   "metadata": {},
   "source": [
    "### Probabilidad (definición)\n",
    "\n",
    "Una probabilidad es un número entre 0 y 1 que mide la verosimilitud de que un evento pase. Puede estar justificada por:\n",
    "\n",
    "- Estimación personal\n",
    "- Estimación profesional\n",
    "- La frecuencia con la que se da\n",
    "- Cálculo formal\n"
   ]
  },
  {
   "cell_type": "markdown",
   "metadata": {},
   "source": [
    "### Formula de Laplace\n",
    "\n",
    "Si tenemos un experimento aleatorio en el que todos los sucesos elementales son igual de probables, entonces:\n",
    "\n",
    "\n",
    "$$P(A) = \\frac{\\textrm{número de casos favorables}}{\\textrm{número de casos posibles}} $$"
   ]
  },
  {
   "cell_type": "markdown",
   "metadata": {},
   "source": [
    "[Regresar al contenido](#Contenido)"
   ]
  },
  {
   "cell_type": "markdown",
   "metadata": {},
   "source": [
    "\n",
    "\n",
    "\n",
    "<h3>Propiedades de las probabilidades</h3>\n",
    "\n",
    "Las probabilidades, sean experimentales o teóricas, deben cumplir ciertas propiedades. La primera de ellas yes: _para un evento $A$ siempre se cumple que $P(A)$ es mayor igual que 0 y menor igual que 1_\n",
    "\n",
    "$$0 \\leq P(A) \\leq 1 $$\n",
    "\n",
    "Un evento con probabilidad 1 es uno que siempre ocurre, y un evento de probabilidad 0 es aquel que no llega a ocurrir nunca. La siguiente propiedad nos dice que la suma de las probabilidades de todos los posibles resultados de un experimento es exactamente igual a 1, si $A_1, A_2, \\cdots, A_n$ son todos los posibles resultados de un experimento se tiene:\n",
    "\n",
    "$$\\sum P(A_i) = P(A_1) + \\cdots + P(A_n) = 1$$\n",
    "\n",
    "\n",
    "<h4>Probabilidad del suceso imposible</h4>\n",
    "\n",
    "$$P(\\emptyset) = 0$$\n",
    "\n",
    "\n",
    "<h4>Probabilidad de que no pase A</h4>\n",
    "\n",
    "Para este caso definiremos al evento complementario de $A$ como el conjunto de todos los puntos del espacio muestra que no pertenecen al evento $A$, lo representaremos como $\\overline{A}$. Como sabemos que la suma de las probabilidades de todos los elementos del espacio muestra debe ser igual a 1, se tiene que $P(A) + P(\\overline{A}) = 1$, así para calcular el valor de $P(\\overline{A})$ haremos lo siguiente:\n",
    "\n",
    "$$P(\\overline{A}) = 1 - P(A)$$\n",
    "\n",
    "\n",
    "<h4>Probabilidad de A o B</h4>\n",
    "\n",
    "Para encontrar la probabilidad de que ocurra $A$ u ocurra $B$ usamos la _regla de la suma:_\n",
    "\n",
    "$$P(A \\cup B) = P(A) + P(B) - P(A \\cap B)$$\n",
    "\n",
    "Gráficamente es más fácil ver que es lo que está ocurriendo con estas probabilidades, veamos un ejemplo con carros, si sacamos una llave al azar de un recipiente que contiene 66 llaves de las cuales 50 son de carros compactos y 38 son de carros extranjeros y queremos saber la probabilidad de que la llave que saquemos sea de _un carro compacto o uno extranjero_ tenemos que saber el número de casos favorables, como tenemos 50 carros compactos y 38 extranjeros, sin embargo si sumamos estas cantidades estaremos contando 2 veces a los 22 carros que son compactos y extranjeros, por lo que el número de casos favorables es de 66.\n",
    "\n",
    "<img src=\"Diagrama de Venn intercepción.png\" width = 500 height = 500>\n",
    "\n",
    "LLegado este punto definiremos los eventos **mutuamente excluyentes** que son aquellos eventos en los que la ocurrencia de uno excluye la ocurrencia del otro, es decir $P(A \\cap B) = 0$. Gráficamente estos son eventos dentro del espacio muestra que no se intersectan.\n",
    "\n",
    "<img src=\"Diagrama excluyentes.png\" width = 500 height = 500>\n",
    "\n",
    "\n",
    "\n",
    "$$P(A \\cup B) = P(A) + P(B)$$\n",
    "\n",
    "\n",
    "<h4>Probabilidad de que pase A y no B</h4>\n",
    "\n",
    "En este caso la probabilidad de $A - B$ será:\n",
    "\n",
    "$$P(A - B) = P(A) - P(A \\cap B)$$\n",
    "\n",
    "Esto es ya que A se puede descomponer como: $A = (A - B) \\cup (A \\cap B) $\n",
    "\n",
    "<img src=\"Diagrama de Venn intercepción.png\" width = 500 height = 500>\n",
    "\n",
    "\n"
   ]
  },
  {
   "cell_type": "markdown",
   "metadata": {},
   "source": [
    "[Regresar al contenido](#Contenido)"
   ]
  },
  {
   "cell_type": "markdown",
   "metadata": {},
   "source": [
    "<h3>Probabilidad condicional</h3>\n",
    "\n",
    "Cuando hablamos de una probabilidad condicionada nos referimos a la probabilidad de que ocurra el evento $A$ teniendo información adicional, como por ejemplo que anteriormente se ha dado el evento $B$. Esta probabilidad la representamos como $P(A|B)$.\n",
    "\n",
    "$$P(A|B) = \\frac{P(A \\cap B)}{P(B)}$$\n",
    "\n",
    "Suponer que tenemos una clase con 20 hombres y 30 mujeres, de los cuales 15 hombres y 18 mujeres usan lentes:\n",
    "\n",
    "\n",
    "- ¿Cuál es la probabilidad de que un alumno use lentes?\n",
    "\n",
    "$$\\frac{33}{50}$$\n",
    "\n",
    "\n",
    "- ¿Cuál es la probabilidad de que un alumno sea mujer y use lentes?\n",
    "\n",
    "$$\\frac{18}{50}$$\n",
    "\n",
    "- ¿Cuál es la probabilidad de que una chica use lentes? (ya sabemos que es una chica)\n",
    "\n",
    "\n",
    "$$\\frac{\\frac{18}{50}}{\\frac{30}{50}} = \\frac{18}{30}$$\n",
    "\n",
    "\n",
    "- ¿Cuál es la probabilidad de que un alumno que lleva lentes, sea mujer?\n",
    "\n",
    "$$\\frac{\\frac{18}{50}}{\\frac{33}{50}} = \\frac{18}{33}$$\n",
    "\n",
    "\n",
    "\n",
    "La probabilidad condicionada cumple las siguientes propiedades:\n",
    "\n",
    "\n",
    "- $P(\\bar{B}|A) = 1 - P(B|A)$\n",
    "- $P(B_1 \\cup B_2|A) = P(B_1|A) + P(B_2|A) - P(B_1 \\cap B_2|A)$\n",
    "\n",
    "\n",
    "**Ejemplo**\n",
    "\n",
    "Si el 15% de los adultos son hipertensos, un 25% de los adultos cree que son hipertensos y 9% de los adultos son hipertensos y cree que lo son:\n",
    "\n",
    "\n",
    "-¿Si un adulto cree que es hipertenso, cual es la probabilidad de que lo sea?\n",
    "\n",
    "$A$ - ser hipertenso\n",
    "$B$ - Creer ser hipertenso\n",
    "\n",
    "$P(A) = 0.15$\n",
    "$P(B) = 0.25$\n",
    "$P(A \\cap B) = 0.09$\n",
    "\n",
    "\n",
    "$$P(A|B) = \\frac{P(A \\cap B)}{P(B)} = \\frac{0.09}{0.25} = 0.36$$\n",
    "\n",
    "\n",
    "$$P(B|A) = \\frac{P(A \\cap B)}{P(A)} = \\frac{0.09}{0.15} = 0.6$$"
   ]
  },
  {
   "cell_type": "markdown",
   "metadata": {},
   "source": [
    "**Ejercicio**\n",
    "\n",
    "En 50% de los correos electronicos recibidos contienen archivos adjuntos, y el 65% de ellos son SPAM. Solo un 15% de los correos no tienen adjuntos y no son SPAM.\n",
    "\n",
    "- ¿Cuál es la probabilidad de que un correos lleve adjuntos si es SPAM?"
   ]
  },
  {
   "cell_type": "markdown",
   "metadata": {},
   "source": [
    "- $A$ llevar adjuntos, $P(A) = 0.5$\n",
    "- $B$ ser SPAM, $P(B) = 0.65$\n",
    "- No tiener adjuntos y no ser SPAM → $\\overline{A} \\cap \\overline{B}$, $P(\\overline{A} \\cap \\overline{B}) = 0.15$\n",
    "\n",
    "Queremos saber $P(A|B)$ por lo que deberiamos aplicar la definición, pero nos falta $P(A \\cap B)$, sin empbargo noten que:\n",
    "\n",
    "$$P(\\overline{A} \\cap \\overline{B}) = P(\\overline{A \\cup B})$$\n",
    "$$P(A \\cup B) = 1 - P(\\overline{A \\cup B})$$"
   ]
  },
  {
   "cell_type": "code",
   "execution_count": 1,
   "metadata": {},
   "outputs": [
    {
     "data": {
      "text/plain": [
       "0.85"
      ]
     },
     "execution_count": 1,
     "metadata": {},
     "output_type": "execute_result"
    }
   ],
   "source": [
    "pA, pB, pnAynB = 0.5, 0.65, 0.15\n",
    "\n",
    "\n",
    "pAoB = 1 - pnAynB\n",
    "pAoB"
   ]
  },
  {
   "cell_type": "markdown",
   "metadata": {},
   "source": [
    "Ahora usando la definición de $P(A \\cup B)$ podemos despejar $P(A \\cap B)$:\n",
    "\n",
    "$$P(A \\cap B) = P(A) + P(B) - P(A \\cup B)$$"
   ]
  },
  {
   "cell_type": "code",
   "execution_count": 2,
   "metadata": {},
   "outputs": [
    {
     "data": {
      "text/plain": [
       "0.29999999999999993"
      ]
     },
     "execution_count": 2,
     "metadata": {},
     "output_type": "execute_result"
    }
   ],
   "source": [
    "pAyB = pA + pB - pAoB\n",
    "pAyB #cuidado con los errores de redondeo"
   ]
  },
  {
   "cell_type": "code",
   "execution_count": 3,
   "metadata": {},
   "outputs": [
    {
     "data": {
      "text/plain": [
       "0.4615384615384614"
      ]
     },
     "execution_count": 3,
     "metadata": {},
     "output_type": "execute_result"
    }
   ],
   "source": [
    "#Definición de probabilidad condicionada\n",
    "pA_si_B = pAyB / pB\n",
    "pA_si_B"
   ]
  },
  {
   "cell_type": "markdown",
   "metadata": {},
   "source": [
    "[Regresar al contenido](#Contenido)"
   ]
  },
  {
   "cell_type": "markdown",
   "metadata": {},
   "source": [
    "<h3>Teorema de la probabilidad total</h3>\n",
    "\n",
    "\n",
    "Suponga que tenemos dos sucesos A y B, entonces el teorema de la probabilidad total nos dice que:\n",
    "\n",
    "$$P(B) = P(B \\cap A) + P(B \\cap \\bar{A})$$\n",
    "$$P(B) = P(A) P(B|A) + P(\\bar{A}) P(B|\\bar{A})$$\n",
    "\n",
    "Supóngase que podemos dividir el espacio muestra en $A_n$ eventos mutuamente excluyentes, y que se quiere conocer la probabilidad de que ocurra un evento $B$.\n",
    "\n",
    "\n",
    "<img src=\"teorema de la probabilidad total.jpg\" width = 500 height = 500>\n",
    "\n",
    "\n",
    "En la imagen podemos ver que $B = (B \\cap A_1) \\cup (B \\cap A_2) \\cup \\cdots (B \\cap A_n)$. Como los eventos son mutuamente excluyentes se tiene que:\n",
    "\n",
    "$$P(B) = P(B \\cap A_1) + P(B \\cap A_2) + \\cdots + P(B \\cap A_n)$$\n",
    "\n",
    "Reescribiendo $P(B)$ usando la definición de la probabilidad $P(B \\cap A_i)$ tenemos _el teorema de la probabilidad total:_\n",
    "\n",
    "$$ P(B) = P(B|A_1)P(A_1) + P(B|A_2)P(A_2) + \\cdots + P(B|A_n)P(A_n)$$"
   ]
  },
  {
   "cell_type": "markdown",
   "metadata": {},
   "source": [
    "**Problema de diagnóstico**\n",
    "\n",
    "Una de las aplicaciones de la probabilidad es la realización de algoritmos de clasificación, y para ejemplificar esto vamos a imaginar una prueba diagnostico (como las que utilizan para el COVID-19), en un caso como este hay dos posibles eventos, el primero es _tener la enfermedad_ ($E$) y el segundo es _dar positivo en la prueba,_ ($T$) vamos a ver en la siguiente tabla (matriz de confusión) que es lo que está ocurriendo:\n",
    "\n",
    "\n",
    "|Realidad/Resultado|Test Positivo|Test Negativo|\n",
    "|:----------------:|:-----------:|:-----------:|\n",
    "|Enermo|Correcto|Error|\n",
    "|No enfermo|Error|Correcto|\n",
    "\n",
    "- Si la persona está enferma y el test da positivo, entonces tenemos un verdadero positivo (**VP**).\n",
    "- Si la persona está enferma pero el test da negativo estamos ante un falso negativo (**FN**).\n",
    "- Si la persona no está enferma y el test da positivo, entonces tenemos un falso positivo (**FP**).\n",
    "- Si la persona no está enferma y el test da negativo tenemos un verdadero negativo (**VN**).\n",
    "\n",
    "¿Qué es peor, un falso negativo o un falso positivo? Con los eventos que definimos antes podemos calcular los falsos positivos y negativos fácilmente:\n",
    "\n",
    "- **FN** → $E \\cap \\overline{P}$\n",
    "- **FP** → $\\overline{E} \\cap P$\n",
    "\n",
    "Vamosa definir entonces lo siguiente:\n",
    "\n",
    "- Coeficiente de **FP** → $P(T|\\overline{E})$\n",
    "- Coeficiente de **FN** → $P(\\overline{T}|E)$\n",
    "\n",
    "Siempre se va a tratar que estas dos cantidades sean muy bajas (en la practica es imposible que sean 0), veamos un ejemplo:\n",
    "\n",
    "\n",
    "_Imaginemos que una prueba de COVID-19 de anticuerpos se hiciera a 1000 trabajadores sanitarios (en un contexto de alto riesgo) que habían tenido síntomas:_\n",
    "\n",
    "- _464 personas darían positivo en la prueba de covid-19. De estas, siete personas (2%) no tendrían covid-19 (resultado falso positivo)._\n",
    "\n",
    "- _537 personas darían negativo en la prueba de covid-19. De estas, 43 personas (8%) tendrían realmente covid-19 (resultado falso negativo)._\n",
    "\n",
    "_¿Cuál es la probabilidad de que una persona elegida al azar este enferma ($P(E)$)?_\n"
   ]
  },
  {
   "cell_type": "code",
   "execution_count": 4,
   "metadata": {},
   "outputs": [],
   "source": [
    "T = 464/1000\n",
    "FP, FN = 0.02, 0.08"
   ]
  },
  {
   "cell_type": "markdown",
   "metadata": {},
   "source": [
    "$$P(T) = P(E)P(T|E) + P(\\overline{E})P(T|\\overline{E})$$\n",
    "$$P(T) = P(E)(1 - P(\\overline{T}|E)) + (1 - P(E))P(T|\\overline{E})$$\n",
    "$$P(E) = \\frac{P(T) - P(T|\\overline{E})}{((1 - P(\\overline{T}|E)) - P(T|\\overline{E}))}$$"
   ]
  },
  {
   "cell_type": "code",
   "execution_count": 5,
   "metadata": {},
   "outputs": [
    {
     "data": {
      "text/plain": [
       "0.49333333333333335"
      ]
     },
     "execution_count": 5,
     "metadata": {},
     "output_type": "execute_result"
    }
   ],
   "source": [
    "E = (T - FP)/((1 - FN) - FP)\n",
    "E"
   ]
  },
  {
   "cell_type": "markdown",
   "metadata": {},
   "source": [
    "Estos datos fueron tomados de un estudio real y 500 (50%) de ellos realmente tenían covid-19."
   ]
  },
  {
   "cell_type": "markdown",
   "metadata": {},
   "source": [
    "[Regresar al contenido](#Contenido)"
   ]
  },
  {
   "cell_type": "markdown",
   "metadata": {},
   "source": [
    "## Teorema de Bayes\n",
    "\n",
    "\n",
    "El teorema de Bayes proporciona una forma alternativa para calcular una probabilidad condicional.\n",
    "\n",
    "Es un cálculo engañosamente simple, aunque se puede usar para calcular fácilmente la probabilidad condicional de eventos donde la intuición a menudo falla.\n",
    "\n",
    "Aunque es una herramienta poderosa en el campo de la probabilidad, el Teorema de Bayes también se usa ampliamente en el campo del aprendizaje automático. \n",
    "\n",
    "$$P(A|B) = \\frac{P(A)P(B|A)}{P(B)}$$\n",
    "\n",
    "\n",
    "En algunas ocasiones el denominador del teorema de Bayes no será posible de obtener de forma directa, por lo que nos podremos ayudar del teorema de la probabilidad total.\n",
    "\n",
    "$$P(A|B) = \\frac{P(A)P(B|A)}{P(A)P(B|A) + P(\\bar{A})P(B|\\bar{A})}$$\n",
    "\n",
    "\n",
    "y tenemos que:\n",
    "\n",
    "- $A$ es entendido como una hipótesis contrastable, por experiencia o análisis de datos previos. por lo que $P(A)$ se llama _probabilidad previa_ o _a priori_ de que la hipótesis $A$ sea cierta.\n",
    "\n",
    "\n",
    "- $B$ se introduce como condición con el objetivo de aportar algo nuevo a la probabilidad del evento $A$. $B$ es otro evento que analizamos por separado, con sus propios datos que nos permitan conocer su probabilidad, por lo tanto $P(B)$ es la probabilidad de observar $B$ independientemente de que la hipótesis $A$ sea cierta o no, se suele llamar _evidencia_.\n",
    "\n",
    "- $P(B|A)$ es conocido como _verosimilitud_ o _fiabilidad_. Es decir, la probabilidad de haber observado el evento $B$ sabiendo que $A$ es cierta.\n",
    "\n",
    "- $P(A|B)$ es la probabilidad de que la hipótesis $A$ sea cierta una vez observados los datos. Recibe el nombre de probabilidad _a posteriori_ y es aquella que deseamos calcular. Es una probabilidad actualizada de que observemos $A$.\n",
    "\n",
    "\n",
    "Ahora veamos un ejemplo del teorema de Bayes. Un ejemplo excelente y ampliamente utilizado del beneficio del Teorema de Bayes es el análisis de una prueba de diagnóstico médico. Retomemos el ejemplo de la prueba anterior, los datos del ejemplo anterior son validos cuando la prueba es aplicada al personal médico que tiene alto riesgo de ser infectado, pero cuando la prueba es aplicada a la población en general presenta un valor de **FP** de 1.26% y un valor de **FN** de 8%.\n",
    "\n",
    "Problema: si un paciente seleccionado al azar se hace la prueba y resulta positivo, ¿cuál es la probabilidad de que el paciente tenga COVID-19?\n",
    "\n",
    "\n",
    "En este caso, la prueba tiene una sensibilidad del 92%. Es decir, de todas las personas que tienen COVID-19 y se hacen pruebas, el 92% de ellas obtendrá un resultado positivo de la prueba.\n",
    "\n",
    "$$P(T|E) = 0.92$$\n",
    "\n",
    "\n",
    "Dada esta información, nuestra intuición sugeriría que hay un 92% de probabilidad de que el paciente tenga COVID-19. Pero nuestra intuición suele fallar. Este tipo de error en la interpretación de las probabilidades es tan común que tiene su propio nombre; se le conoce como la falacia de la tasa base.\n",
    "\n",
    "Tiene este nombre porque el error al estimar la probabilidad de un evento es causado por ignorar la tasa base. Es decir, ignora la probabilidad de que una persona seleccionada al azar tenga COVID-19, independientemente de los resultados de una prueba de diagnóstico. Teniendo en cuenta el número de infectados y la población de México al 27 de Enero de 2021, la probabilidad de que un mexicano tenga COVID-19 es del 1.4%.\n",
    "\n",
    "\n",
    "$$P(E) = 0.014$$\n",
    "\n",
    "\n",
    "\n",
    "Podemos calcular correctamente la probabilidad de que un paciente tenga COVID-19 con un resultado positivo en la prueba usando el Teorema de Bayes.\n",
    "\n",
    "\n",
    "$$P(E|T) = \\frac{P(E)P(T|E)}{P(T)}$$\n",
    "\n",
    "\n",
    "En este caso $P(T)$ no está dada directamente, por lo que nos apoyaremos del teorema de la probabilidad total:\n",
    "\n",
    "\n",
    "$$P(T) = P(E)P(T|E) + P(\\overline{E})P(T|\\overline{E})$$\n",
    "\n"
   ]
  },
  {
   "cell_type": "code",
   "execution_count": 6,
   "metadata": {},
   "outputs": [],
   "source": [
    "def bayes_theorem(p_a, p_b_given_a, p_b_given_not_a):\n",
    "\n",
    "    not_a = 1 - p_a\n",
    "    p_b = p_b_given_a * p_a + p_b_given_not_a * not_a\n",
    "    p_a_given_b = (p_b_given_a * p_a) / p_b\n",
    "    \n",
    "    return p_a_given_b"
   ]
  },
  {
   "cell_type": "code",
   "execution_count": 7,
   "metadata": {},
   "outputs": [
    {
     "data": {
      "text/plain": [
       "0.5090184795839328"
      ]
     },
     "execution_count": 7,
     "metadata": {},
     "output_type": "execute_result"
    }
   ],
   "source": [
    "#probabilidad de estar enfermo\n",
    "p_a = 0.014\n",
    "# P(T|E) sensibilidad (1 - P(not T|E))\n",
    "p_b_given_a = 0.92\n",
    "# P(B|not A)\n",
    "p_b_given_not_a = 0.0126\n",
    "\n",
    "bayes_theorem(p_a, p_b_given_a, p_b_given_not_a)"
   ]
  },
  {
   "cell_type": "markdown",
   "metadata": {},
   "source": [
    "\n",
    "El cálculo sugiere que, si una persona al azar (presente sintomas o no) se va a hacer la prueba del COVID-19 y resulta positivo, tiene un 50% de probablidades de tener la enfermedad, y es por esto que se recomienda que te hagas la prueba solo sí tienes sintomas.\n",
    "\n"
   ]
  },
  {
   "cell_type": "code",
   "execution_count": 8,
   "metadata": {},
   "outputs": [
    {
     "data": {
      "text/plain": [
       "0.9787234042553191"
      ]
     },
     "execution_count": 8,
     "metadata": {},
     "output_type": "execute_result"
    }
   ],
   "source": [
    "#probabilidad de estar enfermo\n",
    "p_a = 0.50\n",
    "# P(T|E) sensibilidad (1 - P(not T|E))\n",
    "p_b_given_a = 0.92\n",
    "# P(B|not A)\n",
    "p_b_given_not_a = 0.02\n",
    "\n",
    "bayes_theorem(p_a, p_b_given_a, p_b_given_not_a)"
   ]
  },
  {
   "cell_type": "markdown",
   "metadata": {},
   "source": [
    "Estos son los calculos ralizados pero tomando los datos de los trabajadores del sector salud, que tenian un 50% de probabilidades de estar enfermos, y en este caso si se hacen la prueba y el resultado es positivo la probabilidad de estar enfermos es mucho más alta (97.9%)."
   ]
  },
  {
   "cell_type": "markdown",
   "metadata": {},
   "source": [
    "[Regresar al contenido](#Contenido)"
   ]
  },
  {
   "cell_type": "markdown",
   "metadata": {},
   "source": [
    "### El problema de Monty Hall\n",
    "\n",
    "\n",
    "El concursante debe elegir una puerta entre tres (todas cerradas); el premio consiste en llevarse lo que se encuentra detrás de la elegida. Se sabe con certeza que tras una de ellas se oculta un automóvil, y tras las otras dos hay cabras. Una vez que el concursante haya elegido una puerta y comunicado su elección a los presentes, el presentador, que sabe lo que hay detrás de cada puerta, abrirá una de las otras dos en la que haya una cabra. A continuación, le da la opción al concursante de cambiar de puerta si lo desea (tiene dos opciones). ¿Debe el concursante mantener su elección original o escoger la otra puerta? ¿Hay alguna diferencia?\n",
    "\n",
    "\n",
    "\n",
    "\n",
    "\n",
    "__Ejercicio__\n",
    "\n",
    "Simular el juego en 1000 ocasiones en las que si se cambia de puerta, y 1000 en las que no."
   ]
  },
  {
   "cell_type": "code",
   "execution_count": 9,
   "metadata": {},
   "outputs": [],
   "source": [
    "class Puerta:\n",
    "    \n",
    "    def __init__(self, cabra = False):\n",
    "        self.cabra = cabra\n"
   ]
  },
  {
   "cell_type": "code",
   "execution_count": 10,
   "metadata": {},
   "outputs": [
    {
     "data": {
      "text/plain": [
       "<__main__.Puerta at 0x21811aada30>"
      ]
     },
     "execution_count": 10,
     "metadata": {},
     "output_type": "execute_result"
    }
   ],
   "source": [
    "puerta1 = Puerta()\n",
    "puerta1"
   ]
  },
  {
   "cell_type": "code",
   "execution_count": 11,
   "metadata": {},
   "outputs": [
    {
     "data": {
      "text/plain": [
       "False"
      ]
     },
     "execution_count": 11,
     "metadata": {},
     "output_type": "execute_result"
    }
   ],
   "source": [
    "puerta1.cabra"
   ]
  },
  {
   "cell_type": "code",
   "execution_count": 12,
   "metadata": {},
   "outputs": [],
   "source": [
    "import random\n",
    "\n",
    "puertas = [Puerta(), Puerta(True), Puerta(True)]\n",
    "random.shuffle(puertas)"
   ]
  },
  {
   "cell_type": "code",
   "execution_count": 13,
   "metadata": {},
   "outputs": [
    {
     "data": {
      "text/plain": [
       "[<__main__.Puerta at 0x21811aadd00>,\n",
       " <__main__.Puerta at 0x21811aadeb0>,\n",
       " <__main__.Puerta at 0x21811aadcd0>]"
      ]
     },
     "execution_count": 13,
     "metadata": {},
     "output_type": "execute_result"
    }
   ],
   "source": [
    "puertas"
   ]
  },
  {
   "cell_type": "code",
   "execution_count": 14,
   "metadata": {},
   "outputs": [
    {
     "data": {
      "text/plain": [
       "0.677"
      ]
     },
     "execution_count": 14,
     "metadata": {},
     "output_type": "execute_result"
    }
   ],
   "source": [
    "n = 1000\n",
    "victorias = 0\n",
    "\n",
    "for i in range(n):\n",
    "\n",
    "    #se generan las puertas\n",
    "    puertas = [Puerta(), Puerta(True), Puerta(True)]\n",
    "    random.shuffle(puertas)\n",
    "    \n",
    "    #el jugador elige una puerta al azar\n",
    "    elec = puertas.pop()\n",
    "    \n",
    "    #el presentador abre (descarta) una puerta con cabra\n",
    "    for p in puertas:\n",
    "        \n",
    "        if p.cabra:\n",
    "            puertas.remove(p)\n",
    "            break\n",
    "    \n",
    "    #el jugador cambia de puerta:\n",
    "    elec = puertas.pop()\n",
    "    \n",
    "    #contar victorias\n",
    "    if not elec.cabra:\n",
    "        victorias += 1\n",
    "    \n",
    "victorias / n"
   ]
  },
  {
   "cell_type": "code",
   "execution_count": 15,
   "metadata": {},
   "outputs": [
    {
     "data": {
      "text/plain": [
       "0.331"
      ]
     },
     "execution_count": 15,
     "metadata": {},
     "output_type": "execute_result"
    }
   ],
   "source": [
    "n = 1000\n",
    "victorias = 0\n",
    "\n",
    "for i in range(n):\n",
    "\n",
    "    #se generan las puertas\n",
    "    puertas = [Puerta(), Puerta(True), Puerta(True)]\n",
    "    random.shuffle(puertas)\n",
    "    \n",
    "    #el jugador elige una puerta al azar\n",
    "    elec = puertas.pop()\n",
    "    \n",
    "    #el presentador abre (descarta) una puerta con cabra\n",
    "    for p in puertas:\n",
    "        \n",
    "        if p.cabra:\n",
    "            puertas.remove(p)\n",
    "            break\n",
    "    \n",
    "    #el jugador no cambia de puerta:\n",
    "    #elec = puertas.pop()\n",
    "    \n",
    "    #contar victorias\n",
    "    if not elec.cabra:\n",
    "        victorias += 1\n",
    "    \n",
    "victorias / n"
   ]
  },
  {
   "cell_type": "markdown",
   "metadata": {},
   "source": [
    "La intuición nos puede traicionar, y pensar que da igual, que al quedar dos puertas la elección es un 50|50. pero es incorrecto, la mejor opción siempre es cambiar. veamos esto, suponga que $G$ es el evento _ganar_ y los eventos _elegir la puerta con el auto_ y _elegir la puerta con la cabra_ son respectivamente $A$ y $C$ entonces:\n",
    "\n",
    "$$P(G) = P(G \\cap A) + P(G \\cap C)$$\n",
    "$$P(G) = P(A)P(G|A) + P(C)P(G|C)$$\n",
    "\n",
    "Resulta claro que $P(A) = \\frac{1}{3}$ y $P(C) = \\frac{2}{3}$, ahora pensemos que no se cambia de puerta, en este caso $P(G|A) = 1$ y $P(G|C) = 0$. Pero si cambiamos de puerta las probabilidades se invierten, $P(G|A) = 0$ y $P(G|C) = 1$.\n",
    "\n",
    "\n",
    "Es decir si no cambiamos de puerta $P(G) = \\frac{1}{3}$, pero si cambiamos de puerta $P(G) = \\frac{2}{3}$"
   ]
  },
  {
   "cell_type": "markdown",
   "metadata": {},
   "source": [
    "[Regresar al contenido](#Contenido)"
   ]
  },
  {
   "cell_type": "markdown",
   "metadata": {},
   "source": [
    "### Clasificador Naive Bayes\n",
    "\n",
    "\n",
    "El teorema de Bayes supone que cada variable de entrada depende de todas las demás variables. Esta es una causa de complejidad en el cálculo. Podemos eliminar esta suposición y considerar que cada variable de entrada es independiente entre sí.\n",
    "\n",
    "Esto cambia el modelo de un modelo de probabilidad condicional dependiente a un modelo de probabilidad condicional independiente y simplifica drásticamente el cálculo. Supongamos que estamos observando dos características de un objeto $X_1$, y $X_2$, podemos usar el teorema de Bayes para saber cuál es la probabilidad de que el objeto pertenezca a una determinada clase $C$.\n",
    "\n",
    "$$P(C|X_1) = \\frac{P(C)P(X_1|C)}{P(X_1)}$$\n",
    "\n",
    "Podemos hacer algo similar para $X_2$, ahora podemos querer mejorar esta probabilidad haciendo que se cumplan las dos condiciones a la vez, es decir:\n",
    "\n",
    "\n",
    "$$P(C|X_1 \\cap X_2) = \\frac{P(C)P(X_1 \\cap X_2|C)}{P(X_1 \\cap X_2)}$$\n",
    "\n",
    "\n",
    "Noten que en principio se cumple que:\n",
    "\n",
    "$$P(X_1 \\cap X_2) = P(X_1)P(X_2|X_1)$$\n",
    "\n",
    "El modelo de Naive Bayes va a suponer que estos eventos son independientes y por ende:\n",
    "\n",
    "$$P(X_1 \\cap X_2) = P(X_1)P(X_2)$$\n",
    "\n",
    "\n",
    "lo que convierte a nuestra expresión en lo siguiente:\n",
    "\n",
    "\n",
    "$$P(C|X_1 \\cap X_2) = \\frac{P(C)P(X_1|C)P(X_2|C)}{P(X_1)P(X_2)}$$\n",
    "\n",
    "\n",
    "Naive Bayes es un algoritmo de clasificación para problemas de clasificación binaria (dos clases) y multiclase. Se llama Naive Bayes (Bayes ingenuo) o Bayes idiota porque los cálculos de las probabilidades para cada clase se simplifican para que sus cálculos sean manejables.\n",
    "\n",
    "En lugar de intentar calcular las probabilidades de cada valor de atributo, se supone que son condicionalmente independientes dado el valor de la clase.\n",
    "\n",
    "Ahora si tenemos un conjunto de $n$ características y $m$ clases podemos extender esta definición para cada clase, llamemos $Y$ al conjunto de todas las características y obtendremos lo siguiente:\n",
    "\n",
    "$$y = argmax_Y \\frac{P(C)P(X_1|C)P(X_2|C) \\cdots P(X_n|C)}{P(X_1)P(X_2) \\cdots P(X_n)}$$\n",
    "\n",
    "\n",
    "Podemos ser aún más idiotas y pensar que como las $P(X_i)$ no cambian, las podemos ignorar y obtener el siguiente resultado:\n",
    "\n",
    "\n",
    "$$y = argmax_Y P(C)P(X_1|C)P(X_2|C) \\cdots P(X_n|C)$$\n",
    "\n",
    "Esta es una suposición muy fuerte que es muy poco probable en datos reales, es decir, que los atributos no interactúan. Sin embargo, el enfoque funciona sorprendentemente bien en datos donde esta suposición no se cumple."
   ]
  },
  {
   "cell_type": "code",
   "execution_count": 16,
   "metadata": {},
   "outputs": [],
   "source": [
    "import numpy as np\n",
    "import pandas as pd\n",
    "import matplotlib.pyplot as plt\n",
    "import seaborn as sns\n",
    "from sklearn.preprocessing import StandardScaler\n",
    "from scipy import stats\n",
    "%matplotlib inline"
   ]
  },
  {
   "cell_type": "code",
   "execution_count": 17,
   "metadata": {},
   "outputs": [],
   "source": [
    "from jupyterthemes import jtplot\n",
    "jtplot.style()"
   ]
  },
  {
   "cell_type": "code",
   "execution_count": 18,
   "metadata": {},
   "outputs": [
    {
     "data": {
      "text/html": [
       "<div>\n",
       "<style scoped>\n",
       "    .dataframe tbody tr th:only-of-type {\n",
       "        vertical-align: middle;\n",
       "    }\n",
       "\n",
       "    .dataframe tbody tr th {\n",
       "        vertical-align: top;\n",
       "    }\n",
       "\n",
       "    .dataframe thead th {\n",
       "        text-align: right;\n",
       "    }\n",
       "</style>\n",
       "<table border=\"1\" class=\"dataframe\">\n",
       "  <thead>\n",
       "    <tr style=\"text-align: right;\">\n",
       "      <th></th>\n",
       "      <th>lng sepalo</th>\n",
       "      <th>anch sepalo</th>\n",
       "      <th>lng petalo</th>\n",
       "      <th>anch petalo</th>\n",
       "      <th>especie</th>\n",
       "    </tr>\n",
       "  </thead>\n",
       "  <tbody>\n",
       "    <tr>\n",
       "      <th>0</th>\n",
       "      <td>5.1</td>\n",
       "      <td>3.5</td>\n",
       "      <td>1.4</td>\n",
       "      <td>0.2</td>\n",
       "      <td>Iris-setosa</td>\n",
       "    </tr>\n",
       "    <tr>\n",
       "      <th>1</th>\n",
       "      <td>4.9</td>\n",
       "      <td>3.0</td>\n",
       "      <td>1.4</td>\n",
       "      <td>0.2</td>\n",
       "      <td>Iris-setosa</td>\n",
       "    </tr>\n",
       "    <tr>\n",
       "      <th>2</th>\n",
       "      <td>4.7</td>\n",
       "      <td>3.2</td>\n",
       "      <td>1.3</td>\n",
       "      <td>0.2</td>\n",
       "      <td>Iris-setosa</td>\n",
       "    </tr>\n",
       "    <tr>\n",
       "      <th>3</th>\n",
       "      <td>4.6</td>\n",
       "      <td>3.1</td>\n",
       "      <td>1.5</td>\n",
       "      <td>0.2</td>\n",
       "      <td>Iris-setosa</td>\n",
       "    </tr>\n",
       "    <tr>\n",
       "      <th>4</th>\n",
       "      <td>5.0</td>\n",
       "      <td>3.6</td>\n",
       "      <td>1.4</td>\n",
       "      <td>0.2</td>\n",
       "      <td>Iris-setosa</td>\n",
       "    </tr>\n",
       "  </tbody>\n",
       "</table>\n",
       "</div>"
      ],
      "text/plain": [
       "   lng sepalo  anch sepalo  lng petalo  anch petalo      especie\n",
       "0         5.1          3.5         1.4          0.2  Iris-setosa\n",
       "1         4.9          3.0         1.4          0.2  Iris-setosa\n",
       "2         4.7          3.2         1.3          0.2  Iris-setosa\n",
       "3         4.6          3.1         1.5          0.2  Iris-setosa\n",
       "4         5.0          3.6         1.4          0.2  Iris-setosa"
      ]
     },
     "execution_count": 18,
     "metadata": {},
     "output_type": "execute_result"
    }
   ],
   "source": [
    "url = \"https://archive.ics.uci.edu/ml/machine-learning-databases/iris/iris.data\"\n",
    "\n",
    "\n",
    "df = pd.read_csv(url, names=['lng sepalo','anch sepalo','lng petalo','anch petalo','especie'])\n",
    "\n",
    "df.head()"
   ]
  },
  {
   "cell_type": "markdown",
   "metadata": {},
   "source": [
    "Este dataset se usa como datos de entrenamiento para un modelo de machine learning cuyo objetivo es determinar de forma automática la especie a la que pertenece una determinada flor, a partir de las medidas 4 atributos o características. En particular, la longitud y la anchura de sus pétalos y sépalos expresadas en centímetros. Por tanto, se trata de un problema de 4 dimensiones, en el que la variable objetivo (target) es la especie. Los datos se pueden representar en forma de una matriz de 150 filas (los datos de cada flor), por 4 columnas (las medidas de sus pétalos/sépalos). La quinta, corresponde a la variable objetivo, la especie.\n",
    "\n",
    "\n",
    "<img src=\"Iris data set.PNG\" width = 600 height = 600> \n"
   ]
  },
  {
   "cell_type": "code",
   "execution_count": 19,
   "metadata": {},
   "outputs": [
    {
     "data": {
      "text/plain": [
       "(150, 5)"
      ]
     },
     "execution_count": 19,
     "metadata": {},
     "output_type": "execute_result"
    }
   ],
   "source": [
    "df.shape"
   ]
  },
  {
   "cell_type": "code",
   "execution_count": 20,
   "metadata": {},
   "outputs": [
    {
     "data": {
      "text/plain": [
       "120.0"
      ]
     },
     "execution_count": 20,
     "metadata": {},
     "output_type": "execute_result"
    }
   ],
   "source": [
    "df.shape[0] * 0.8"
   ]
  },
  {
   "cell_type": "code",
   "execution_count": 21,
   "metadata": {},
   "outputs": [
    {
     "data": {
      "text/html": [
       "<div>\n",
       "<style scoped>\n",
       "    .dataframe tbody tr th:only-of-type {\n",
       "        vertical-align: middle;\n",
       "    }\n",
       "\n",
       "    .dataframe tbody tr th {\n",
       "        vertical-align: top;\n",
       "    }\n",
       "\n",
       "    .dataframe thead th {\n",
       "        text-align: right;\n",
       "    }\n",
       "</style>\n",
       "<table border=\"1\" class=\"dataframe\">\n",
       "  <thead>\n",
       "    <tr style=\"text-align: right;\">\n",
       "      <th></th>\n",
       "      <th>lng sepalo</th>\n",
       "      <th>anch sepalo</th>\n",
       "      <th>lng petalo</th>\n",
       "      <th>anch petalo</th>\n",
       "      <th>especie</th>\n",
       "    </tr>\n",
       "  </thead>\n",
       "  <tbody>\n",
       "    <tr>\n",
       "      <th>48</th>\n",
       "      <td>5.3</td>\n",
       "      <td>3.7</td>\n",
       "      <td>1.5</td>\n",
       "      <td>0.2</td>\n",
       "      <td>Iris-setosa</td>\n",
       "    </tr>\n",
       "    <tr>\n",
       "      <th>145</th>\n",
       "      <td>6.7</td>\n",
       "      <td>3.0</td>\n",
       "      <td>5.2</td>\n",
       "      <td>2.3</td>\n",
       "      <td>Iris-virginica</td>\n",
       "    </tr>\n",
       "    <tr>\n",
       "      <th>135</th>\n",
       "      <td>7.7</td>\n",
       "      <td>3.0</td>\n",
       "      <td>6.1</td>\n",
       "      <td>2.3</td>\n",
       "      <td>Iris-virginica</td>\n",
       "    </tr>\n",
       "    <tr>\n",
       "      <th>87</th>\n",
       "      <td>6.3</td>\n",
       "      <td>2.3</td>\n",
       "      <td>4.4</td>\n",
       "      <td>1.3</td>\n",
       "      <td>Iris-versicolor</td>\n",
       "    </tr>\n",
       "    <tr>\n",
       "      <th>75</th>\n",
       "      <td>6.6</td>\n",
       "      <td>3.0</td>\n",
       "      <td>4.4</td>\n",
       "      <td>1.4</td>\n",
       "      <td>Iris-versicolor</td>\n",
       "    </tr>\n",
       "  </tbody>\n",
       "</table>\n",
       "</div>"
      ],
      "text/plain": [
       "     lng sepalo  anch sepalo  lng petalo  anch petalo          especie\n",
       "48          5.3          3.7         1.5          0.2      Iris-setosa\n",
       "145         6.7          3.0         5.2          2.3   Iris-virginica\n",
       "135         7.7          3.0         6.1          2.3   Iris-virginica\n",
       "87          6.3          2.3         4.4          1.3  Iris-versicolor\n",
       "75          6.6          3.0         4.4          1.4  Iris-versicolor"
      ]
     },
     "execution_count": 21,
     "metadata": {},
     "output_type": "execute_result"
    }
   ],
   "source": [
    "from sklearn.utils import shuffle\n",
    "shuffle_data = shuffle(df)\n",
    "shuffle_data.head()"
   ]
  },
  {
   "cell_type": "code",
   "execution_count": 22,
   "metadata": {},
   "outputs": [
    {
     "data": {
      "text/plain": [
       "(120, 5)"
      ]
     },
     "execution_count": 22,
     "metadata": {},
     "output_type": "execute_result"
    }
   ],
   "source": [
    "entrenamiento = shuffle_data.iloc[:int(df.shape[0] * 0.8)]\n",
    "entrenamiento.shape"
   ]
  },
  {
   "cell_type": "code",
   "execution_count": 23,
   "metadata": {},
   "outputs": [
    {
     "data": {
      "text/html": [
       "<div>\n",
       "<style scoped>\n",
       "    .dataframe tbody tr th:only-of-type {\n",
       "        vertical-align: middle;\n",
       "    }\n",
       "\n",
       "    .dataframe tbody tr th {\n",
       "        vertical-align: top;\n",
       "    }\n",
       "\n",
       "    .dataframe thead th {\n",
       "        text-align: right;\n",
       "    }\n",
       "</style>\n",
       "<table border=\"1\" class=\"dataframe\">\n",
       "  <thead>\n",
       "    <tr style=\"text-align: right;\">\n",
       "      <th></th>\n",
       "      <th>lng sepalo</th>\n",
       "      <th>anch sepalo</th>\n",
       "      <th>lng petalo</th>\n",
       "      <th>anch petalo</th>\n",
       "      <th>especie</th>\n",
       "    </tr>\n",
       "  </thead>\n",
       "  <tbody>\n",
       "    <tr>\n",
       "      <th>48</th>\n",
       "      <td>5.3</td>\n",
       "      <td>3.7</td>\n",
       "      <td>1.5</td>\n",
       "      <td>0.2</td>\n",
       "      <td>Iris-setosa</td>\n",
       "    </tr>\n",
       "    <tr>\n",
       "      <th>145</th>\n",
       "      <td>6.7</td>\n",
       "      <td>3.0</td>\n",
       "      <td>5.2</td>\n",
       "      <td>2.3</td>\n",
       "      <td>Iris-virginica</td>\n",
       "    </tr>\n",
       "    <tr>\n",
       "      <th>135</th>\n",
       "      <td>7.7</td>\n",
       "      <td>3.0</td>\n",
       "      <td>6.1</td>\n",
       "      <td>2.3</td>\n",
       "      <td>Iris-virginica</td>\n",
       "    </tr>\n",
       "    <tr>\n",
       "      <th>87</th>\n",
       "      <td>6.3</td>\n",
       "      <td>2.3</td>\n",
       "      <td>4.4</td>\n",
       "      <td>1.3</td>\n",
       "      <td>Iris-versicolor</td>\n",
       "    </tr>\n",
       "    <tr>\n",
       "      <th>75</th>\n",
       "      <td>6.6</td>\n",
       "      <td>3.0</td>\n",
       "      <td>4.4</td>\n",
       "      <td>1.4</td>\n",
       "      <td>Iris-versicolor</td>\n",
       "    </tr>\n",
       "  </tbody>\n",
       "</table>\n",
       "</div>"
      ],
      "text/plain": [
       "     lng sepalo  anch sepalo  lng petalo  anch petalo          especie\n",
       "48          5.3          3.7         1.5          0.2      Iris-setosa\n",
       "145         6.7          3.0         5.2          2.3   Iris-virginica\n",
       "135         7.7          3.0         6.1          2.3   Iris-virginica\n",
       "87          6.3          2.3         4.4          1.3  Iris-versicolor\n",
       "75          6.6          3.0         4.4          1.4  Iris-versicolor"
      ]
     },
     "execution_count": 23,
     "metadata": {},
     "output_type": "execute_result"
    }
   ],
   "source": [
    "entrenamiento.head()"
   ]
  },
  {
   "cell_type": "code",
   "execution_count": 24,
   "metadata": {},
   "outputs": [
    {
     "data": {
      "text/plain": [
       "(30, 5)"
      ]
     },
     "execution_count": 24,
     "metadata": {},
     "output_type": "execute_result"
    }
   ],
   "source": [
    "test = shuffle_data.iloc[int(df.shape[0] * 0.8):]\n",
    "test.shape"
   ]
  },
  {
   "cell_type": "code",
   "execution_count": 25,
   "metadata": {},
   "outputs": [
    {
     "data": {
      "text/html": [
       "<div>\n",
       "<style scoped>\n",
       "    .dataframe tbody tr th:only-of-type {\n",
       "        vertical-align: middle;\n",
       "    }\n",
       "\n",
       "    .dataframe tbody tr th {\n",
       "        vertical-align: top;\n",
       "    }\n",
       "\n",
       "    .dataframe thead th {\n",
       "        text-align: right;\n",
       "    }\n",
       "</style>\n",
       "<table border=\"1\" class=\"dataframe\">\n",
       "  <thead>\n",
       "    <tr style=\"text-align: right;\">\n",
       "      <th></th>\n",
       "      <th>lng sepalo</th>\n",
       "      <th>anch sepalo</th>\n",
       "      <th>lng petalo</th>\n",
       "      <th>anch petalo</th>\n",
       "      <th>especie</th>\n",
       "    </tr>\n",
       "  </thead>\n",
       "  <tbody>\n",
       "    <tr>\n",
       "      <th>88</th>\n",
       "      <td>5.6</td>\n",
       "      <td>3.0</td>\n",
       "      <td>4.1</td>\n",
       "      <td>1.3</td>\n",
       "      <td>Iris-versicolor</td>\n",
       "    </tr>\n",
       "    <tr>\n",
       "      <th>146</th>\n",
       "      <td>6.3</td>\n",
       "      <td>2.5</td>\n",
       "      <td>5.0</td>\n",
       "      <td>1.9</td>\n",
       "      <td>Iris-virginica</td>\n",
       "    </tr>\n",
       "    <tr>\n",
       "      <th>72</th>\n",
       "      <td>6.3</td>\n",
       "      <td>2.5</td>\n",
       "      <td>4.9</td>\n",
       "      <td>1.5</td>\n",
       "      <td>Iris-versicolor</td>\n",
       "    </tr>\n",
       "    <tr>\n",
       "      <th>31</th>\n",
       "      <td>5.4</td>\n",
       "      <td>3.4</td>\n",
       "      <td>1.5</td>\n",
       "      <td>0.4</td>\n",
       "      <td>Iris-setosa</td>\n",
       "    </tr>\n",
       "    <tr>\n",
       "      <th>73</th>\n",
       "      <td>6.1</td>\n",
       "      <td>2.8</td>\n",
       "      <td>4.7</td>\n",
       "      <td>1.2</td>\n",
       "      <td>Iris-versicolor</td>\n",
       "    </tr>\n",
       "  </tbody>\n",
       "</table>\n",
       "</div>"
      ],
      "text/plain": [
       "     lng sepalo  anch sepalo  lng petalo  anch petalo          especie\n",
       "88          5.6          3.0         4.1          1.3  Iris-versicolor\n",
       "146         6.3          2.5         5.0          1.9   Iris-virginica\n",
       "72          6.3          2.5         4.9          1.5  Iris-versicolor\n",
       "31          5.4          3.4         1.5          0.4      Iris-setosa\n",
       "73          6.1          2.8         4.7          1.2  Iris-versicolor"
      ]
     },
     "execution_count": 25,
     "metadata": {},
     "output_type": "execute_result"
    }
   ],
   "source": [
    "test.head()"
   ]
  },
  {
   "cell_type": "code",
   "execution_count": 26,
   "metadata": {},
   "outputs": [
    {
     "data": {
      "text/plain": [
       "array(['Iris-setosa', 'Iris-versicolor', 'Iris-virginica'], dtype=object)"
      ]
     },
     "execution_count": 26,
     "metadata": {},
     "output_type": "execute_result"
    }
   ],
   "source": [
    "np.unique(df['especie'])"
   ]
  },
  {
   "cell_type": "code",
   "execution_count": 27,
   "metadata": {},
   "outputs": [
    {
     "data": {
      "text/plain": [
       "array([5.75666667, 3.02333333, 3.50666667, 1.07333333])"
      ]
     },
     "execution_count": 27,
     "metadata": {},
     "output_type": "execute_result"
    }
   ],
   "source": [
    "test.mean().values"
   ]
  },
  {
   "cell_type": "code",
   "execution_count": 28,
   "metadata": {},
   "outputs": [],
   "source": [
    "class Naive_Bayes:\n",
    "    \n",
    "    \n",
    "    #alimentar el modelo\n",
    "    def fit(self, x, tarjet):\n",
    "        \n",
    "        num_data, num_features = x.shape\n",
    "        #unimos los datos y el tarjet\n",
    "        x['class'] = tarjet\n",
    "        self.clases = np.unique(tarjet)#identifico las clases\n",
    "        \n",
    "        data_clases = {k : x[x['class'] == k] for k in self.clases} #filtro mis clases\n",
    "        \n",
    "        self._data_means  = {k : data_clases[k].mean().values for k in self.clases} #array con las medias\n",
    "        self._data_std    = {k : data_clases[k].std().values for k in self.clases} #array con las desviaciones estandar\n",
    "        self._prioris     = {k : data_clases[k].shape[0] / num_data for k in self.clases} #probabilidades a priori\n",
    "        \n",
    "        \n",
    "    def predict(self, x):\n",
    "        l = x.shape[0]\n",
    "        \n",
    "        pred = [self._predict(x.iloc[i]) for i in range(l)]\n",
    "        \n",
    "        return pred\n",
    "    \n",
    "        \n",
    "    def _predict(self, x):\n",
    "        \n",
    "        post = []\n",
    "        \n",
    "        for cl in self.clases:\n",
    "            \n",
    "            #elementos de la clase\n",
    "            mean = self._data_means[cl]\n",
    "            std  = self._data_std[cl]\n",
    "            pri = self._prioris[cl]\n",
    "            \n",
    "            \n",
    "            condi = np.array([stats.norm(mean[i], std[i]).pdf(x[i]) for i in range(len(mean))]) #verosimilitudes\n",
    "            pt  = pri * condi.prod()\n",
    "            post.append(pt)\n",
    "            \n",
    "        return self.clases[np.argmax(post)] #argmax devuelve el indice del maximo de la lista\n",
    "        "
   ]
  },
  {
   "cell_type": "code",
   "execution_count": 29,
   "metadata": {},
   "outputs": [],
   "source": [
    "x, t = entrenamiento.iloc[:,:-1], entrenamiento.iloc[:, -1] #separar variables y el tarjet"
   ]
  },
  {
   "cell_type": "code",
   "execution_count": 30,
   "metadata": {},
   "outputs": [
    {
     "data": {
      "text/html": [
       "<div>\n",
       "<style scoped>\n",
       "    .dataframe tbody tr th:only-of-type {\n",
       "        vertical-align: middle;\n",
       "    }\n",
       "\n",
       "    .dataframe tbody tr th {\n",
       "        vertical-align: top;\n",
       "    }\n",
       "\n",
       "    .dataframe thead th {\n",
       "        text-align: right;\n",
       "    }\n",
       "</style>\n",
       "<table border=\"1\" class=\"dataframe\">\n",
       "  <thead>\n",
       "    <tr style=\"text-align: right;\">\n",
       "      <th></th>\n",
       "      <th>lng sepalo</th>\n",
       "      <th>anch sepalo</th>\n",
       "      <th>lng petalo</th>\n",
       "      <th>anch petalo</th>\n",
       "    </tr>\n",
       "  </thead>\n",
       "  <tbody>\n",
       "    <tr>\n",
       "      <th>48</th>\n",
       "      <td>5.3</td>\n",
       "      <td>3.7</td>\n",
       "      <td>1.5</td>\n",
       "      <td>0.2</td>\n",
       "    </tr>\n",
       "    <tr>\n",
       "      <th>145</th>\n",
       "      <td>6.7</td>\n",
       "      <td>3.0</td>\n",
       "      <td>5.2</td>\n",
       "      <td>2.3</td>\n",
       "    </tr>\n",
       "    <tr>\n",
       "      <th>135</th>\n",
       "      <td>7.7</td>\n",
       "      <td>3.0</td>\n",
       "      <td>6.1</td>\n",
       "      <td>2.3</td>\n",
       "    </tr>\n",
       "    <tr>\n",
       "      <th>87</th>\n",
       "      <td>6.3</td>\n",
       "      <td>2.3</td>\n",
       "      <td>4.4</td>\n",
       "      <td>1.3</td>\n",
       "    </tr>\n",
       "    <tr>\n",
       "      <th>75</th>\n",
       "      <td>6.6</td>\n",
       "      <td>3.0</td>\n",
       "      <td>4.4</td>\n",
       "      <td>1.4</td>\n",
       "    </tr>\n",
       "  </tbody>\n",
       "</table>\n",
       "</div>"
      ],
      "text/plain": [
       "     lng sepalo  anch sepalo  lng petalo  anch petalo\n",
       "48          5.3          3.7         1.5          0.2\n",
       "145         6.7          3.0         5.2          2.3\n",
       "135         7.7          3.0         6.1          2.3\n",
       "87          6.3          2.3         4.4          1.3\n",
       "75          6.6          3.0         4.4          1.4"
      ]
     },
     "execution_count": 30,
     "metadata": {},
     "output_type": "execute_result"
    }
   ],
   "source": [
    "x.head()"
   ]
  },
  {
   "cell_type": "code",
   "execution_count": 31,
   "metadata": {},
   "outputs": [
    {
     "data": {
      "text/plain": [
       "48         Iris-setosa\n",
       "145     Iris-virginica\n",
       "135     Iris-virginica\n",
       "87     Iris-versicolor\n",
       "75     Iris-versicolor\n",
       "Name: especie, dtype: object"
      ]
     },
     "execution_count": 31,
     "metadata": {},
     "output_type": "execute_result"
    }
   ],
   "source": [
    "t.head()"
   ]
  },
  {
   "cell_type": "code",
   "execution_count": 32,
   "metadata": {},
   "outputs": [],
   "source": [
    "model = Naive_Bayes()"
   ]
  },
  {
   "cell_type": "code",
   "execution_count": 33,
   "metadata": {},
   "outputs": [
    {
     "data": {
      "text/plain": [
       "<__main__.Naive_Bayes at 0x21816de5d90>"
      ]
     },
     "execution_count": 33,
     "metadata": {},
     "output_type": "execute_result"
    }
   ],
   "source": [
    "model"
   ]
  },
  {
   "cell_type": "code",
   "execution_count": 34,
   "metadata": {},
   "outputs": [],
   "source": [
    "model.fit(x, t)"
   ]
  },
  {
   "cell_type": "code",
   "execution_count": 35,
   "metadata": {},
   "outputs": [],
   "source": [
    "x_prueba = test.iloc[:, :-1]"
   ]
  },
  {
   "cell_type": "code",
   "execution_count": 36,
   "metadata": {},
   "outputs": [
    {
     "data": {
      "text/html": [
       "<div>\n",
       "<style scoped>\n",
       "    .dataframe tbody tr th:only-of-type {\n",
       "        vertical-align: middle;\n",
       "    }\n",
       "\n",
       "    .dataframe tbody tr th {\n",
       "        vertical-align: top;\n",
       "    }\n",
       "\n",
       "    .dataframe thead th {\n",
       "        text-align: right;\n",
       "    }\n",
       "</style>\n",
       "<table border=\"1\" class=\"dataframe\">\n",
       "  <thead>\n",
       "    <tr style=\"text-align: right;\">\n",
       "      <th></th>\n",
       "      <th>lng sepalo</th>\n",
       "      <th>anch sepalo</th>\n",
       "      <th>lng petalo</th>\n",
       "      <th>anch petalo</th>\n",
       "    </tr>\n",
       "  </thead>\n",
       "  <tbody>\n",
       "    <tr>\n",
       "      <th>88</th>\n",
       "      <td>5.6</td>\n",
       "      <td>3.0</td>\n",
       "      <td>4.1</td>\n",
       "      <td>1.3</td>\n",
       "    </tr>\n",
       "    <tr>\n",
       "      <th>146</th>\n",
       "      <td>6.3</td>\n",
       "      <td>2.5</td>\n",
       "      <td>5.0</td>\n",
       "      <td>1.9</td>\n",
       "    </tr>\n",
       "    <tr>\n",
       "      <th>72</th>\n",
       "      <td>6.3</td>\n",
       "      <td>2.5</td>\n",
       "      <td>4.9</td>\n",
       "      <td>1.5</td>\n",
       "    </tr>\n",
       "    <tr>\n",
       "      <th>31</th>\n",
       "      <td>5.4</td>\n",
       "      <td>3.4</td>\n",
       "      <td>1.5</td>\n",
       "      <td>0.4</td>\n",
       "    </tr>\n",
       "    <tr>\n",
       "      <th>73</th>\n",
       "      <td>6.1</td>\n",
       "      <td>2.8</td>\n",
       "      <td>4.7</td>\n",
       "      <td>1.2</td>\n",
       "    </tr>\n",
       "  </tbody>\n",
       "</table>\n",
       "</div>"
      ],
      "text/plain": [
       "     lng sepalo  anch sepalo  lng petalo  anch petalo\n",
       "88          5.6          3.0         4.1          1.3\n",
       "146         6.3          2.5         5.0          1.9\n",
       "72          6.3          2.5         4.9          1.5\n",
       "31          5.4          3.4         1.5          0.4\n",
       "73          6.1          2.8         4.7          1.2"
      ]
     },
     "execution_count": 36,
     "metadata": {},
     "output_type": "execute_result"
    }
   ],
   "source": [
    "x_prueba.head()"
   ]
  },
  {
   "cell_type": "code",
   "execution_count": 37,
   "metadata": {},
   "outputs": [
    {
     "data": {
      "text/plain": [
       "['Iris-versicolor',\n",
       " 'Iris-virginica',\n",
       " 'Iris-versicolor',\n",
       " 'Iris-setosa',\n",
       " 'Iris-versicolor',\n",
       " 'Iris-versicolor',\n",
       " 'Iris-versicolor',\n",
       " 'Iris-versicolor',\n",
       " 'Iris-virginica',\n",
       " 'Iris-setosa',\n",
       " 'Iris-setosa',\n",
       " 'Iris-versicolor',\n",
       " 'Iris-setosa',\n",
       " 'Iris-virginica',\n",
       " 'Iris-setosa',\n",
       " 'Iris-versicolor',\n",
       " 'Iris-virginica',\n",
       " 'Iris-setosa',\n",
       " 'Iris-setosa',\n",
       " 'Iris-setosa',\n",
       " 'Iris-virginica',\n",
       " 'Iris-setosa',\n",
       " 'Iris-virginica',\n",
       " 'Iris-setosa',\n",
       " 'Iris-virginica',\n",
       " 'Iris-versicolor',\n",
       " 'Iris-setosa',\n",
       " 'Iris-setosa',\n",
       " 'Iris-versicolor',\n",
       " 'Iris-virginica']"
      ]
     },
     "execution_count": 37,
     "metadata": {},
     "output_type": "execute_result"
    }
   ],
   "source": [
    "pred = model.predict(x_prueba)\n",
    "pred"
   ]
  },
  {
   "cell_type": "code",
   "execution_count": 38,
   "metadata": {},
   "outputs": [
    {
     "data": {
      "text/plain": [
       "88      True\n",
       "146     True\n",
       "72      True\n",
       "31      True\n",
       "73      True\n",
       "119    False\n",
       "53      True\n",
       "81      True\n",
       "144     True\n",
       "49      True\n",
       "30      True\n",
       "80      True\n",
       "17      True\n",
       "126     True\n",
       "1       True\n",
       "134    False\n",
       "131     True\n",
       "18      True\n",
       "8       True\n",
       "22      True\n",
       "125     True\n",
       "35      True\n",
       "147     True\n",
       "21      True\n",
       "111     True\n",
       "69      True\n",
       "34      True\n",
       "44      True\n",
       "51      True\n",
       "141     True\n",
       "Name: especie, dtype: bool"
      ]
     },
     "execution_count": 38,
     "metadata": {},
     "output_type": "execute_result"
    }
   ],
   "source": [
    "test['especie'] == pred"
   ]
  },
  {
   "cell_type": "code",
   "execution_count": 39,
   "metadata": {},
   "outputs": [
    {
     "data": {
      "text/plain": [
       "0.9333333333333333"
      ]
     },
     "execution_count": 39,
     "metadata": {},
     "output_type": "execute_result"
    }
   ],
   "source": [
    "(test['especie'] == pred).sum() / test.shape[0]"
   ]
  },
  {
   "cell_type": "markdown",
   "metadata": {},
   "source": [
    "[Regresar al contenido](#Contenido)"
   ]
  },
  {
   "cell_type": "markdown",
   "metadata": {},
   "source": [
    "## Variables Aleatorias\n",
    "\n",
    "\n",
    "Una variable aleatoria es una función que asigna un valor, usualmente numérico, al resultado de un experimento aleatorio. Una variable aleatoria puede concebirse como un valor numérico que está afectado por el azar. Dada una variable aleatoria no es posible conocer con certeza el valor que tomará esta al ser medida o determinada, aunque sí se conoce que existe una distribución de probabilidad asociada al conjunto de valores posibles. Por ejemplo, durante la actual pandemia, se sabe que una persona cualquiera puede enfermar o no (suceso), pero no se sabe cuál de los dos sucesos va a ocurrir. Solamente se puede decir que existe una probabilidad de que la persona enferme. En general hay dos tipos de variables aleatorias, las continuas y las discretas."
   ]
  },
  {
   "cell_type": "markdown",
   "metadata": {},
   "source": [
    "[Regresar al contenido](#Contenido)"
   ]
  },
  {
   "cell_type": "markdown",
   "metadata": {},
   "source": [
    "###  Variables discretas\n",
    "#### Función de probabilidad\n",
    "\n",
    "\n",
    "En teoría de la probabilidad, una función de probabilidad (también denominada función de masa de probabilidad o función densidad de probabilidad: __PDF__) es una función que asocia a cada punto de su espacio muestral X la probabilidad de que esta lo asuma. Suponga que nuestra variable aleatoria es $X$ y esta puede asumir $k$ valores diferentes $x_1, x_2, \\cdots, x_k$, entonces la función de probabilidad asociada es:\n",
    "\n",
    "$$P_X(x_i) = P(X = x_i)$$\n",
    "\n",
    "\n",
    "Esta función cumple siempre que:\n",
    "\n",
    "- $0 \\leq P_X(x) \\leq 1$\n",
    "- $\\sum P_X(x_i) = 1$\n",
    "\n",
    "\n",
    "\n",
    "Imaginemos que estamos realizando un experimento que consiste en lanzar una moneda 3 veces al aire y en medir cuantas veces la moneda cae cara, en este caso nuestra variable aleatoria $X$ tomada los valores 0, 1, 2, 3 y el espacio muestra del experimento será:\n",
    "\n",
    "$$\\Omega = \\{ ccc, cc+, c+c, +cc, c++, +c+, ++c, +++ \\}$$\n",
    "\n",
    "\n",
    "En este experimento nuestra función de probabilidad seria:\n",
    "\n",
    "\n",
    "- $P(X = 0) = \\frac{1}{8}$\n",
    "- $P(X = 1) = \\frac{3}{8}$\n",
    "- $P(X = 2) = \\frac{3}{8}$\n",
    "- $P(X = 3) = \\frac{1}{8}$"
   ]
  },
  {
   "cell_type": "markdown",
   "metadata": {},
   "source": [
    "[Regresar al contenido](#Contenido)"
   ]
  },
  {
   "cell_type": "markdown",
   "metadata": {},
   "source": [
    "#### Función de Distribución\n",
    "\n",
    "La función de distribución o función de probabilidad acumulada, se representa por $F_X(x)$ y nos representa la probabilidad de que la variable aleatoria $X$ tome un valor igual o menor a $x$, es decir:\n",
    "\n",
    "\n",
    "$$F_X(x) = P(X \\leq x)$$\n",
    "\n",
    "\n",
    "Note las siguientes propiedades:\n",
    "\n",
    "- $P(X > x) ) = 1 - P(X \\leq x) = 1 - F_X(x)$\n",
    "- si se tienen $a$ y $b$ tales que $ a < b$ entonces: $P(a < X \\leq b) = P(X \\leq b) - P(X \\leq a) = F_X(b) - F_X(a)$\n",
    "\n",
    "\n",
    "Note que esta función es siempre creciente, vale 0 en menos infinito y vale 1 en infinito. En el caso de que $X$ sea una variable aleatoria discreta entonces la función de distribución será:\n",
    "\n",
    "$$F_X(x_i) = \\sum_{x \\leq x_i} P_X(x)$$"
   ]
  },
  {
   "cell_type": "markdown",
   "metadata": {},
   "source": [
    "[Regresar al contenido](#Contenido)"
   ]
  },
  {
   "cell_type": "markdown",
   "metadata": {},
   "source": [
    "#### Valor esperado o esperanza\n",
    "\n",
    "Vamos a definir el valor esperado de una variable aleatoria discreta $X$ como:\n",
    "\n",
    "\n",
    "$$E(X) = \\sum xP_X(x)$$\n",
    "\n",
    "\n",
    "También se le conoce como media y se puede representar frecuentemente como $\\mu$. tomen en cuenta que nosotros podemos transformar la variable aleatoria usando una función $g(X)$, en ese caso el valor esperado de dicha función será:\n",
    "\n",
    "$$E(g(X)) = \\sum g(x)P_X(x)$$"
   ]
  },
  {
   "cell_type": "markdown",
   "metadata": {},
   "source": [
    "[Regresar al contenido](#Contenido)"
   ]
  },
  {
   "cell_type": "markdown",
   "metadata": {},
   "source": [
    "**Ejemplo**\n",
    "\n",
    "¿Cuándo un juego es justo?, pues cuando la ganancia esperada (valor esperado) de todos los jugadores es 0. Imaginemos que tenemos dos jugadores $A$ y $B$, van a tirar un dado por turnos y va a ganar el primero que obtenga un 5, cada uno va a apostar una cantidad $C_A$ y $C_B$ y el ganador se lleva ambas cantidades. Suponiendo que primero va a lanzar A, ¿qué condición deben cumplir las cantidades para que este juego sea justo?\n",
    "\n",
    "\n",
    "Vamos a definir el evento $A_i$ como _el jugador A gana en la tirada i_ y el evento $B_i$ _el jugador B gana en la tirada i_. Veamos la probabilidad de que gane cada jugador.\n",
    "\n",
    "$$P(A) = \\sum_{i = 1}^{\\infty} P(A_{2i - 1})$$\n",
    "$$P(B) = \\sum_{i = 1}^{\\infty} P(B_{2i})$$\n",
    "\n",
    "\n",
    "Ahora la probabilidad de que $A$ gane en la primera tirada es $\\frac{1}{6}$, de que gane en la tercera es $P(A_3) = (\\frac{5}{6})^2 \\frac{1}{6}$ ya que tiene que perder en la primera y $B$ en la segunda, entonces:\n",
    "\n",
    "$$P(A_{2i-1}) =  (\\frac{5}{6})^{2i-2} \\frac{1}{6}$$\n",
    "$$P(A) = \\sum_{i=1}^{\\infty} (\\frac{5}{6})^{2i-2} \\frac{1}{6} = (\\frac{5}{6})^{-2} \\frac{1}{6}\\sum_{i=1}^{\\infty}(\\frac{5}{6})^{2i} = \\frac{6}{25}\\sum_{i=1}^{\\infty}(\\frac{25}{36})^{i}$$\n",
    "\n",
    "$$P(A) =  \\frac{6}{25} \\frac{\\frac{25}{36}}{1 - \\frac{25}{36}} = \\frac{6}{25} \\frac{\\frac{25}{36}}{\\frac{11}{36}} = \\frac{6}{11}$$\n",
    "\n",
    "En el caso de $B$ se tiene que $P(B_2) = (\\frac{5}{6})\\frac{1}{6}$, $P(B_4) = (\\frac{5}{6})^3 \\frac{1}{6}$ y en general:\n",
    "\n",
    "$$P(B_{2i}) = (\\frac{5}{6})^{2i - 1}\\frac{1}{6}$$\n",
    "\n",
    "$$P(B) = \\sum_{i=1}^{\\infty}(\\frac{5}{6})^{2i - 1}\\frac{1}{6} = (\\frac{5}{6})^{-1} \\frac{1}{6}\\sum_{i=1}^{\\infty}(\\frac{25}{36})^{i} = \\frac{1}{5} \\frac{\\frac{25}{36}}{ 1 - \\frac{25}{36}} = \\frac{1}{5} \\frac{\\frac{25}{36}}{\\frac{11}{36}} = \\frac{5}{11}$$\n",
    "\n",
    "\n",
    "\n",
    "Ahora que ya sabemos las probabilidades de que cada uno gane, sea $X$ la variable aleatoria que nos indica que es lo que gana el jugador $A$, notemos que:\n",
    "\n",
    "$$X(\\Omega) = \\{ C_B, -C_A \\}$$\n",
    "\n",
    "Y también tenemos que:\n",
    "\n",
    "- $P(X = C_B) = P(A) = \\frac{6}{11}$\n",
    "- $P(X = - C_A) = P(B) = \\frac{5}{11}$\n",
    "\n",
    "Cálculamos el valor esperado e igualamos a 0:\n",
    "\n",
    "$$E[X] = C_B P(A) - C_A P(B) = C_B \\frac{6}{11} - C_A \\frac{5}{11} = 0$$\n",
    "$$C_B \\frac{6}{11} = C_A \\frac{5}{11}$$\n",
    "$$C_B = \\frac{5}{6} C_A$$"
   ]
  },
  {
   "cell_type": "markdown",
   "metadata": {},
   "source": [
    "#### Momento de orden m\n",
    "\n",
    "Llamaremos momento de orden $m$ en el punto $C$ a:\n",
    "\n",
    "$$E((X - C)^m)$$\n",
    "\n",
    "Si $C = 0$ y $m = 1$ obtenemos el valor esperado. Los momentos en los que $C = 0$ reciben el nombre de momentos respecto al origen y cuando $C = E[X]$ se denominan momento central."
   ]
  },
  {
   "cell_type": "markdown",
   "metadata": {},
   "source": [
    "[Regresar al contenido](#Contenido)"
   ]
  },
  {
   "cell_type": "markdown",
   "metadata": {},
   "source": [
    "#### Varianza\n",
    "\n",
    "Si $X$ es una variable aleatoria llamaremos varianza de $X$ a:\n",
    "\n",
    "$$var(x) = E((X - E(x))^2)$$\n",
    "\n",
    "Es decir la varianza es el momento central de orden dos y se cumple que su raiz cuadrada es $\\sigma$ la desviación estándar"
   ]
  },
  {
   "cell_type": "markdown",
   "metadata": {},
   "source": [
    "#### Transformaciones lineales de Variables Aleatorias\n",
    "\n",
    "Si tenemos una variable aleatoria $X$, una transformación lineal de X es otra v.a. $Y = b + aX$ donde $a, b \\in \\mathbb{R}$. y si $E[X] = \\mu_X$ y $var(X) = \\sigma^{2}_{X}$, entonces:\n",
    "\n",
    "- $E[Y] = E[b +aX] = b + a\\mu_x$\n",
    "- $var(Y) = var(b +aX) = a^2 \\sigma^{2}_{X}$"
   ]
  },
  {
   "cell_type": "markdown",
   "metadata": {},
   "source": [
    "[Regresar al contenido](#Contenido)"
   ]
  },
  {
   "cell_type": "markdown",
   "metadata": {},
   "source": [
    "### Variables aleatorias continuas\n",
    "\n",
    "\n",
    "Son las variables que toman valores en un intervalo y cumplen principalmente que $P(X = x_0) = 0$, por lo que a diferencia de las variables discretas, aquí pierde el sentido hablar de una función de probabilidad. Para las variables continuas vamos a definir la función de densidad $f_X(x)$ que va a cumplir las siguientes propiedades:\n",
    "\n",
    "\n",
    "- $f_X(x) \\geq 0$\n",
    "- Debe ser continua en excepto en una cantidad finita de puntos.\n",
    "- $\\int_{-\\infty}^{\\infty} f_X(x) = 1$\n",
    "\n",
    "\n",
    "Sea $X$ una variable aleatoria continua, entonces a función de distribución $F_X(x)$ para la variable $X$ será:\n",
    "\n",
    "$$F_X(x) = \\int_{-\\infty}^{x} f_X(t)dt$$\n",
    "\n",
    "\n",
    "Esto implica que si queremos conocer $P(a < X < b)$ esto es:\n",
    "\n",
    "$$P(a < X < b) = \\int_{a}^{b} f_X(t)dt$$"
   ]
  },
  {
   "cell_type": "markdown",
   "metadata": {},
   "source": [
    "[Regresar al contenido](#Contenido)"
   ]
  },
  {
   "cell_type": "markdown",
   "metadata": {},
   "source": [
    "#### Esperanza y varianza para variables continuas\n",
    "\n",
    "\n",
    "Las definiciones serán similares al caso continuo. La esperanza de una variable aleatoria continua $X$ será:\n",
    "\n",
    "\n",
    "$$E(X) = \\int_{-\\infty}^{\\infty} xf_X(x)dx$$\n",
    "\n",
    "\n",
    "En el caso de la varianza se tiene:\n",
    "\n",
    "\n",
    "$$var(X) = E((X - \\mu)^2) =\\int_{-\\infty}^{\\infty}(x - \\mu)^2f_X(x)dx$$\n",
    "\n",
    "$$var(X) = E(X^2) - \\mu_{X}^{2} = \\int_{-\\infty}^{\\infty} x^2 f_X(x)dx - \\mu_{X}^{2}$$\n"
   ]
  },
  {
   "cell_type": "markdown",
   "metadata": {},
   "source": [
    "**Ejemplo**\n",
    "\n",
    "Supongamos que se tiene una v.a. $X$ con función de densidad: \n",
    "\n",
    "$$\n",
    "f_X(x)\n",
    "=\n",
    "\\left\\{\n",
    "\\begin{matrix}\n",
    "2(1-x)&\\text{si}&0<x<1\\\\\n",
    "0&\\text{ }&\\text{en otro caso}\\\\\n",
    "\\end{matrix}\n",
    "\\right.\n",
    "$$\n",
    "\n",
    "\n",
    "Para comprobar que es una v.a. hay que verificar que sea continua salvo un conjunto finito de puntos (en este caso en 0 y 1) y que integre a 1:\n",
    "\n",
    "\n",
    "$$\\int_{-\\infty}^{\\infty} f_X(x) = 2\\int_{0}^{1} (1 - x)dx =\\left. \\left [2x - x^2 \\right ] \\right |_{0}^{1} = [1 - 0] = 1$$\n",
    "\n",
    "Ahora vamos a calcular su esperanza:\n",
    "\n",
    "$$E[X] = \\int_{0}^{1} xf(x)dx = 2\\int_{0}^{1}x(1-x)dx = 2\\int_{0}^{1} x - x^2 dx = \\left. \\left [x^2 - \\frac{2}{3}x^3 \\right ] \\right |_{0}^{1} = [1 - \\frac{2}{3}] = \\frac{1}{3}$$\n",
    "\n",
    "\n",
    "Ahora calculemos la varianza, para ello necesitamos primero el valor esperado de $X^2$:\n",
    "\n",
    "$$E[X^2] = 2\\int_{0}^{1} x^2(1-x)dx = 2\\int_{0}^{1} x^2 - x^3 dx = \\left. \\left [\\frac{2}{3} x^3 - \\frac{1}{2}x^4 \\right ] \\right |_{0}^{1} = \\frac{1}{6}$$\n",
    "\n",
    "Y finalmente la varianza de $X$ es:\n",
    "\n",
    "$$var(X) = E[X^2] - E[X]^2 = \\frac{1}{6} - \\frac{1}{9} = \\frac{1}{18}$$"
   ]
  },
  {
   "cell_type": "markdown",
   "metadata": {},
   "source": [
    "[Regresar al contenido](#Contenido)"
   ]
  },
  {
   "cell_type": "markdown",
   "metadata": {},
   "source": [
    "## Distribuciones de Probabilidad\n",
    "### Distribuciones Discretas notables\n",
    "\n",
    "\n",
    "Una vez que definimos las propiedades anteriores es hora de hablar de las distribuciones de probabilidad notables de cada tipo de variable y de empezar a trabajarlas con python, empezaremos como es natural con las variables discretas.\n",
    "\n",
    "\n",
    "#### Distribución de Bernoulli\n",
    "\n",
    "\n",
    "\n",
    "Esta es la distribución más sencilla de todas, en la que tenemos un experimento que solo tiene dos posibles resultados, éxito o fracaso, y vamos a suponer que la probabilidad de éxito $P(E) = p$ y la probabilidad de fracaso es $P(F) = 1 - p = q$, la variable aleatoria que describe este suceso es $X$ talque $X(E) = 1$ y $X(F) = 0$. Bajo estas características diremos que $X$ sigue una distribución de Bernoulli con parámetro $p$, y lo denotaremos como:\n",
    "\n",
    "$$X \\sim Ber(p)$$\n",
    "\n",
    "\n",
    "A este tipo de experimento se le conoce como experimento de Bernoulli (Jacob), En este caso el valor esperado es simplemente $E(X) = p$ y la varianza es $var(X) = pq$."
   ]
  },
  {
   "cell_type": "markdown",
   "metadata": {},
   "source": [
    "[Regresar al contenido](#Contenido)"
   ]
  },
  {
   "cell_type": "markdown",
   "metadata": {},
   "source": [
    "#### Distribución Binomial.\n",
    "\n",
    "la distribución binomial es una distribución de probabilidad discreta que cuenta el número de éxitos en una secuencia de $n$ ensayos de [Bernoulli](https://es.wikipedia.org/wiki/Ensayo_de_Bernoulli) **independientes entre sí**. En la distribución binomial el anterior experimento se repite $n$ veces, de forma independiente, y se trata de calcular la probabilidad de un determinado número de éxitos. La representaremos como:\n",
    "\n",
    "\n",
    "$$X \\sim B(n, p)$$\n",
    "\n",
    "\n",
    "\n",
    "La variable aleatoria que analizamos es el número de casos _éxito_ dentro de los n ensayos, por lo que la variable $X$ toma valores en ${0, 1, 2, 3, \\cdots, n}$. La función de probabilidad de la distribución binomial es:\n",
    "\n",
    "$$P(x) = {n \\choose x}p^x(1-p)^{n-x}$$\n",
    "\n",
    "Recordando que ${n \\choose x} = \\frac{n!}{x!(n-x)!}$\n",
    "\n",
    "\n",
    "Y la función de distribución será:\n",
    "\n",
    "$$F_X(x) = \\sum_{i = 0}^{x} P(X = i)$$\n",
    "\n",
    "\n",
    "Y se tiene $E(X) = np$ y la varianza es $var(X) = npq$."
   ]
  },
  {
   "cell_type": "code",
   "execution_count": null,
   "metadata": {},
   "outputs": [],
   "source": [
    "import scipy.stats as stats\n",
    "from scipy.stats import binom #función de probabilidad pfm y la de distribución cdf, \n",
    "# si quieres una muestra aleatorea se usa rvs\n",
    "import matplotlib.pyplot as plt\n",
    "import numpy as np\n",
    "#%matplotlib inline"
   ]
  },
  {
   "cell_type": "code",
   "execution_count": 40,
   "metadata": {},
   "outputs": [
    {
     "data": {
      "text/plain": [
       "0.06786199515844335"
      ]
     },
     "execution_count": 40,
     "metadata": {},
     "output_type": "execute_result"
    }
   ],
   "source": [
    "stats.binom.pmf(20, 100, 1/6) #P(x = 20), n = 100, p = 1/6"
   ]
  },
  {
   "cell_type": "code",
   "execution_count": 41,
   "metadata": {},
   "outputs": [],
   "source": [
    "bi = stats.binom(100, 1/6)"
   ]
  },
  {
   "cell_type": "code",
   "execution_count": 42,
   "metadata": {},
   "outputs": [
    {
     "data": {
      "text/plain": [
       "0.06786199515844335"
      ]
     },
     "execution_count": 42,
     "metadata": {},
     "output_type": "execute_result"
    }
   ],
   "source": [
    "bi.pmf(20)"
   ]
  },
  {
   "cell_type": "code",
   "execution_count": 43,
   "metadata": {},
   "outputs": [
    {
     "data": {
      "text/plain": [
       "array([14, 18, 18, 12, 19, 10, 22, 16, 12, 17, 15, 15, 10, 19, 24, 16, 12,\n",
       "       19, 19, 23, 20, 17, 20, 20, 17, 21, 10, 20, 22, 12, 20, 17, 12, 19,\n",
       "       16, 12, 19, 15, 14, 20, 19, 15, 16, 10, 17, 22, 18, 21, 21, 13, 13,\n",
       "       17, 14, 14, 25, 20, 17, 12, 15, 13, 20, 12, 11, 14, 10, 13, 21, 15,\n",
       "       19, 19, 18, 18, 21, 19, 18, 23, 18, 16, 17, 15, 12, 17, 15, 16, 11,\n",
       "       13, 14, 18, 15, 16, 12, 17, 14, 14, 20, 15, 14, 14, 12, 20])"
      ]
     },
     "execution_count": 43,
     "metadata": {},
     "output_type": "execute_result"
    }
   ],
   "source": [
    "bi.rvs(100)"
   ]
  },
  {
   "cell_type": "code",
   "execution_count": 50,
   "metadata": {},
   "outputs": [
    {
     "data": {
      "image/png": "[encoded data removed]",
      "text/plain": [
       "<Figure size 936x576 with 3 Axes>"
      ]
     },
     "metadata": {},
     "output_type": "display_data"
    }
   ],
   "source": [
    "x, x2, x3  = np.arange(51), np.arange(101), np.arange(201)\n",
    "y, y2, y3  = stats.binom.pmf(x, 50, 1/6), stats.binom.pmf(x2, 100, 1/6), stats.binom.pmf(x3, 200, 1/6) \n",
    "\n",
    "fig, ax = plt.subplots(3, figsize = (13, 8))\n",
    "\n",
    "ax[0].plot(x, y, 'or', ms = 3.5)\n",
    "ax[1].plot(x2, y2, 'ob', ms = 3.5)\n",
    "ax[2].plot(x3, y3, 'og', ms = 3.5)\n",
    "\n",
    "for i in range(3):\n",
    "    ax[i].set_xlim([0, 50])"
   ]
  },
  {
   "cell_type": "code",
   "execution_count": 61,
   "metadata": {},
   "outputs": [
    {
     "data": {
      "image/png": "[encoded data removed]",
      "text/plain": [
       "<Figure size 936x576 with 3 Axes>"
      ]
     },
     "metadata": {},
     "output_type": "display_data"
    }
   ],
   "source": [
    "x = [np.arange(51), np.arange(101), np.arange(201)]\n",
    "y = [stats.binom.pmf(x[0], 50, 1/6), stats.binom.pmf(x[1], 100, 1/6), stats.binom.pmf(x[2], 200, 1/6)]\n",
    "fig, ax = plt.subplots(3, figsize = (13, 8))\n",
    "mean = [stats.binom.mean(50, 1/6), stats.binom.mean(100, 1/6), stats.binom.mean(200, 1/6)]\n",
    "std = [stats.binom.std(50, 1/6), stats.binom.std(100, 1/6), stats.binom.std(200, 1/6)]\n",
    "color = ['or', 'ob', 'og']\n",
    "\n",
    "\n",
    "for i in range(3):\n",
    "    ax[i].plot(x[i], y[i], color[i], ms = 3.5)\n",
    "    ax[i].set_xlim([0, 50])\n",
    "    ax[i].axvline(x = mean[i])\n",
    "    ax[i].axvline(x = mean[i] - std[i], color = 'r')\n",
    "    ax[i].axvline(x = mean[i] + std[i], color = 'r')\n",
    "    ax[i].fill_between(x[i], y[i], where = (x[i] > (mean[i] - std[i])) & (x[i] < (mean[i] + std[i])),\n",
    "                       color = color[i][-1], alpha = 0.25)"
   ]
  },
  {
   "cell_type": "markdown",
   "metadata": {},
   "source": [
    "Como Ejemplo supongamos que tenemos una urna con 100 bolas, 40 rojas y 60 blancas, si tomamos al azar una bola anotamos su color y lo devolvemos, llamemos al caso sacar una bola roja como el caso de éxito y repitamos el experimento 10 veces, en este caso nuestra variable aleatoria $X$ que cuente el número de veces que sacamos una bola roja seguirá una distribución $B(10, 0.4)$"
   ]
  },
  {
   "cell_type": "code",
   "execution_count": 63,
   "metadata": {},
   "outputs": [
    {
     "data": {
      "text/plain": [
       "0.2508226560000002"
      ]
     },
     "execution_count": 63,
     "metadata": {},
     "output_type": "execute_result"
    }
   ],
   "source": [
    "bi = stats.binom(10, 0.4)\n",
    "bi.pmf(4) #probabilidad de sacer 4 rojas"
   ]
  },
  {
   "cell_type": "code",
   "execution_count": 64,
   "metadata": {},
   "outputs": [
    {
     "data": {
      "text/plain": [
       "0.3822806016000001"
      ]
     },
     "execution_count": 64,
     "metadata": {},
     "output_type": "execute_result"
    }
   ],
   "source": [
    "#probabilidad de sacar al menos 4 rojas P(X >= 4) = 1 - P(X <= 3)\n",
    "bi.cdf(3)"
   ]
  },
  {
   "cell_type": "code",
   "execution_count": 65,
   "metadata": {},
   "outputs": [
    {
     "data": {
      "text/plain": [
       "0.6177193983999999"
      ]
     },
     "execution_count": 65,
     "metadata": {},
     "output_type": "execute_result"
    }
   ],
   "source": [
    "1 - bi.cdf(3)"
   ]
  },
  {
   "cell_type": "code",
   "execution_count": 66,
   "metadata": {},
   "outputs": [
    {
     "data": {
      "text/plain": [
       "0.16728975360000004"
      ]
     },
     "execution_count": 66,
     "metadata": {},
     "output_type": "execute_result"
    }
   ],
   "source": [
    "#P(X < 3) = P(X <= 2)\n",
    "bi.cdf(2)"
   ]
  },
  {
   "cell_type": "code",
   "execution_count": 67,
   "metadata": {},
   "outputs": [
    {
     "data": {
      "text/plain": [
       "4.0"
      ]
     },
     "execution_count": 67,
     "metadata": {},
     "output_type": "execute_result"
    }
   ],
   "source": [
    "bi.mean()"
   ]
  },
  {
   "cell_type": "code",
   "execution_count": 68,
   "metadata": {},
   "outputs": [
    {
     "data": {
      "text/plain": [
       "2.4"
      ]
     },
     "execution_count": 68,
     "metadata": {},
     "output_type": "execute_result"
    }
   ],
   "source": [
    "bi.var()"
   ]
  },
  {
   "cell_type": "code",
   "execution_count": 69,
   "metadata": {},
   "outputs": [
    {
     "data": {
      "text/plain": [
       "1.5491933384829668"
      ]
     },
     "execution_count": 69,
     "metadata": {},
     "output_type": "execute_result"
    }
   ],
   "source": [
    "bi.std()"
   ]
  },
  {
   "cell_type": "markdown",
   "metadata": {},
   "source": [
    "[Regresar al contenido](#Contenido)"
   ]
  },
  {
   "cell_type": "markdown",
   "metadata": {},
   "source": [
    "#### Distribución Geométrica\n",
    "\n",
    "la distribución de probabilidad del número $X$ de ensayos de Bernoulli con parámetro $p$ necesarios para obtener un éxito, la función de probabilidad de la distribución geométrica es:\n",
    "\n",
    "\n",
    "$$P(X = x) = q^x p$$\n",
    "\n",
    "Diremos entonces que $X$ sigue una distribución de probabilidad geométrica de parámetro $p$ y lo representaremos como:\n",
    "\n",
    "$$X \\sim Ge(p)$$\n",
    " \n",
    "En Python la función stats.geom implementa la distribución geométrica empezando en 1"
   ]
  },
  {
   "cell_type": "code",
   "execution_count": 70,
   "metadata": {},
   "outputs": [],
   "source": [
    "Ge = stats.geom(0.25)"
   ]
  },
  {
   "cell_type": "code",
   "execution_count": 71,
   "metadata": {},
   "outputs": [
    {
     "data": {
      "text/plain": [
       "0.25"
      ]
     },
     "execution_count": 71,
     "metadata": {},
     "output_type": "execute_result"
    }
   ],
   "source": [
    "Ge.pmf(1) #cuenta el número de intentos hasta el exito"
   ]
  },
  {
   "cell_type": "code",
   "execution_count": 72,
   "metadata": {},
   "outputs": [
    {
     "data": {
      "text/plain": [
       "0.25"
      ]
     },
     "execution_count": 72,
     "metadata": {},
     "output_type": "execute_result"
    }
   ],
   "source": [
    "stats.geom.pmf(0, 0.25, loc = -1) # De esta forma cuenta el número de fracasos hasta el primer exito"
   ]
  },
  {
   "cell_type": "code",
   "execution_count": 73,
   "metadata": {},
   "outputs": [
    {
     "data": {
      "text/plain": [
       "4.0"
      ]
     },
     "execution_count": 73,
     "metadata": {},
     "output_type": "execute_result"
    }
   ],
   "source": [
    "Ge.mean()"
   ]
  },
  {
   "cell_type": "code",
   "execution_count": 74,
   "metadata": {},
   "outputs": [
    {
     "data": {
      "text/plain": [
       "3.4641016151377544"
      ]
     },
     "execution_count": 74,
     "metadata": {},
     "output_type": "execute_result"
    }
   ],
   "source": [
    "Ge.std()"
   ]
  },
  {
   "cell_type": "code",
   "execution_count": 75,
   "metadata": {},
   "outputs": [
    {
     "data": {
      "text/plain": [
       "<matplotlib.collections.PolyCollection at 0x218186bb280>"
      ]
     },
     "execution_count": 75,
     "metadata": {},
     "output_type": "execute_result"
    },
    {
     "data": {
      "image/png": "[encoded data removed]",
      "text/plain": [
       "<Figure size 936x576 with 2 Axes>"
      ]
     },
     "metadata": {},
     "output_type": "display_data"
    }
   ],
   "source": [
    "x = np.arange(51)\n",
    "y = stats.geom.pmf(x, 0.25)\n",
    "z = stats.geom.cdf(x, 0.25)\n",
    "fig, ax = plt.subplots(2, figsize = (13, 8))\n",
    "mean = stats.geom.mean(0.25)\n",
    "std = stats.geom.std(0.25)\n",
    "\n",
    "\n",
    "\n",
    "\n",
    "ax[0].plot(x, y, 'or', ms = 3.5)\n",
    "ax[0].set_xlim([0, 50])\n",
    "ax[0].axvline(x = mean)\n",
    "ax[0].axvline(x = (mean - std), color = 'r')\n",
    "ax[0].axvline(x = (mean + std), color = 'r')\n",
    "ax[0].fill_between(x, y, where = (x > (mean - std)) & (x < (mean + std)),\n",
    "                   color = 'r', alpha = 0.25)\n",
    "\n",
    "ax[1].plot(x, z, 'ob', ms = 3.5)\n",
    "ax[1].set_xlim([0, 50])\n",
    "ax[1].axvline(x = mean)\n",
    "ax[1].axvline(x = (mean - std), color = 'r')\n",
    "ax[1].axvline(x = (mean + std), color = 'r')\n",
    "ax[1].fill_between(x, z, where = (x > (mean - std)) & (x < (mean + std)),\n",
    "                   color = 'b', alpha = 0.25)"
   ]
  },
  {
   "cell_type": "markdown",
   "metadata": {},
   "source": [
    "[Regresar al contenido](#Contenido)"
   ]
  },
  {
   "cell_type": "markdown",
   "metadata": {},
   "source": [
    "#### Distribución de Poisson\n",
    "\n",
    "La distribución de Poisson es una distribución de probabilidad discreta que se aplica a las ocurrencias de algún suceso durante un intervalo determinado. Nuestra variable aleatoria $X$ representará el _número de ocurrencias de un suceso en un intervalo determinado, el cual podrá ser tiempo, distancia, área, volumen o alguna otra unidad similar o derivada de éstas._\n",
    "\n",
    "La variable aleatoria discreta $X$ debe cumplir ciertos requisitos:\n",
    "\n",
    "- Debe ser un evento aleatorio\n",
    "- Los sucesos que estamos estudiando deben ser **independientes**\n",
    "\n",
    "La probabilidad de nuestra variable aleatoria X viene dada por la siguiente expresión: \n",
    "\n",
    "$$P(X, \\lambda) = \\frac{e^{-\\lambda}\\lambda^X}{X!}$$\n",
    "\n",
    "- X es el número de ocurrencias del evento estudiado\n",
    "- $\\lambda$ es un parámetro positivo que representa el número de veces que se espera que ocurra el fenómeno durante un intervalo dado. Por ejemplo, si el suceso estudiado tiene lugar en promedio 4 veces por minuto y estamos interesados en la probabilidad de que ocurra k veces dentro de un intervalo de 10 minutos, usaremos un modelo de distribución de Poisson con $\\lambda$ = 10×4 = 40.\n",
    "\n",
    "Podemos notar que tanto el valor esperado como la varianza de una variable aleatoria con distribución de Poisson son iguales a $\\lambda$. También se tiene que se cumple que $\\displaystyle\\sum_{x=1}^{\\infty} P(X,\\lambda) = 1$. Algunos ejemplos de eventos que siguen una distribución de Poisson son:\n",
    "\n",
    "- El número de llamadas telefónicas en una central telefónica por minuto.\n",
    "- El número de mutaciones de determinada cadena de ADN después de cierta cantidad de radiación.\n",
    "- El número de núcleos atómicos inestables que se han desintegrado en un determinado período.\n",
    "- El número de estrellas en un determinado volumen de espacio.\n",
    "\n",
    "\n",
    "Si tenemos una distribución Binomial $B(n, p)$ donde $n$ sea relativamente grande y $p$ relativamente pequeño, se puede aproximas dicha binomial usando una Poisson con parámetro $\\lambda = np$. No hay un criterio específico para realizar la aproximación pero se suele decir que si $n \\geq 30$, $np \\geq 10$ y $p \\leq 0.05$ la Poisson ya es una buena aproximación de la binomial."
   ]
  },
  {
   "cell_type": "code",
   "execution_count": 76,
   "metadata": {},
   "outputs": [],
   "source": [
    "P = stats.poisson(15)"
   ]
  },
  {
   "cell_type": "code",
   "execution_count": 77,
   "metadata": {},
   "outputs": [
    {
     "data": {
      "text/plain": [
       "3.4414011056455366e-05"
      ]
     },
     "execution_count": 77,
     "metadata": {},
     "output_type": "execute_result"
    }
   ],
   "source": [
    "P.pmf(2)"
   ]
  },
  {
   "cell_type": "code",
   "execution_count": 78,
   "metadata": {},
   "outputs": [
    {
     "data": {
      "text/plain": [
       "3.930844818448459e-05"
      ]
     },
     "execution_count": 78,
     "metadata": {},
     "output_type": "execute_result"
    }
   ],
   "source": [
    "P.cdf(2)"
   ]
  },
  {
   "cell_type": "code",
   "execution_count": 79,
   "metadata": {},
   "outputs": [
    {
     "data": {
      "text/plain": [
       "3.872983346207417"
      ]
     },
     "execution_count": 79,
     "metadata": {},
     "output_type": "execute_result"
    }
   ],
   "source": [
    "P.std()"
   ]
  },
  {
   "cell_type": "code",
   "execution_count": 81,
   "metadata": {},
   "outputs": [
    {
     "data": {
      "text/plain": [
       "15.0"
      ]
     },
     "execution_count": 81,
     "metadata": {},
     "output_type": "execute_result"
    }
   ],
   "source": [
    "P.mean()"
   ]
  },
  {
   "cell_type": "code",
   "execution_count": 80,
   "metadata": {},
   "outputs": [
    {
     "data": {
      "text/plain": [
       "15.0"
      ]
     },
     "execution_count": 80,
     "metadata": {},
     "output_type": "execute_result"
    }
   ],
   "source": [
    "P.var()"
   ]
  },
  {
   "cell_type": "code",
   "execution_count": 82,
   "metadata": {},
   "outputs": [
    {
     "data": {
      "text/plain": [
       "<matplotlib.collections.PolyCollection at 0x218187cdf40>"
      ]
     },
     "execution_count": 82,
     "metadata": {},
     "output_type": "execute_result"
    },
    {
     "data": {
      "image/png": "[encoded data removed]",
      "text/plain": [
       "<Figure size 936x576 with 2 Axes>"
      ]
     },
     "metadata": {},
     "output_type": "display_data"
    }
   ],
   "source": [
    "x = np.arange(51)\n",
    "y = P.pmf(x)\n",
    "z = P.cdf(x)\n",
    "fig, ax = plt.subplots(2, figsize = (13, 8))\n",
    "mean = P.mean()\n",
    "std = P.std()\n",
    "\n",
    "\n",
    "\n",
    "\n",
    "ax[0].plot(x, y, 'or', ms = 1.9)\n",
    "ax[0].set_xlim([0, 50])\n",
    "ax[0].axvline(x = mean)\n",
    "ax[0].axvline(x = mean - std, color = 'r')\n",
    "ax[0].axvline(x = mean + std, color = 'r')\n",
    "ax[0].fill_between(x, y, where = (x > (mean - std)) & (x < (mean + std)),\n",
    "                   color = 'r', alpha = 0.25)\n",
    "\n",
    "ax[1].plot(x, z, 'ob', ms = 1.9)\n",
    "ax[1].set_xlim([0, 50])\n",
    "ax[1].axvline(x = mean)\n",
    "ax[1].axvline(x = mean - std, color = 'r')\n",
    "ax[1].axvline(x = mean + std, color = 'r')\n",
    "ax[1].fill_between(x, z, where = (x > (mean - std)) & (x < (mean + std)),\n",
    "                   color = 'b', alpha = 0.25)\n"
   ]
  },
  {
   "cell_type": "markdown",
   "metadata": {},
   "source": [
    "__Ejemplo__\n",
    "\n",
    "\n",
    "Durante la segunda guerra mundial, Alemania bombardeaba Inglaterra desde Calaes (Francia) utilizando los cohetes V1 y V2, siendo estos el primer misil guiado que se utilizó en la guerra  y el primer misil balístico de combate. Con la finalidad de descubrir si los Nazis podían elegir los objetivos de dichos ataques o estaban atacando a ciegas se dividió el sur de Londres en 576 regiones con la misma extensión de $0.25 km^2$, a lo largo de la contienda impactaron en esas regiones un total de 535 bombas V1 y V2.\n",
    "\n",
    "- Si se selecciona una región al azar, ¿cuál es la probabilidad de que fuese blanco de las bombas en dos ocasiones?\n",
    "- ¿Cuál es la probabilidad de que la región no recibiera ningún impacto?\n",
    "- según lo anterior, cuantas de las 576 regiones se espera que reciban 2 impactos, y cuantas ninguno?\n"
   ]
  },
  {
   "cell_type": "code",
   "execution_count": 83,
   "metadata": {},
   "outputs": [
    {
     "data": {
      "text/plain": [
       "0.17039287947064016"
      ]
     },
     "execution_count": 83,
     "metadata": {},
     "output_type": "execute_result"
    }
   ],
   "source": [
    "#x - número de impactor por área\n",
    "#lambda \n",
    "l = 535 / 576\n",
    "#P(2, l)\n",
    "p2 = stats.poisson.pmf(2, l)\n",
    "p2"
   ]
  },
  {
   "cell_type": "code",
   "execution_count": 84,
   "metadata": {},
   "outputs": [
    {
     "data": {
      "text/plain": [
       "0.39501977800158"
      ]
     },
     "execution_count": 84,
     "metadata": {},
     "output_type": "execute_result"
    }
   ],
   "source": [
    "p0 = stats.poisson.pmf(0, l)\n",
    "p0"
   ]
  },
  {
   "cell_type": "code",
   "execution_count": 85,
   "metadata": {},
   "outputs": [
    {
     "data": {
      "text/plain": [
       "98.14629857508874"
      ]
     },
     "execution_count": 85,
     "metadata": {},
     "output_type": "execute_result"
    }
   ],
   "source": [
    "576 * p2"
   ]
  },
  {
   "cell_type": "code",
   "execution_count": 86,
   "metadata": {},
   "outputs": [
    {
     "data": {
      "text/plain": [
       "227.53139212891008"
      ]
     },
     "execution_count": 86,
     "metadata": {},
     "output_type": "execute_result"
    }
   ],
   "source": [
    "576 * p0"
   ]
  },
  {
   "cell_type": "markdown",
   "metadata": {},
   "source": [
    "Según el análisis teórico si los bombardeos, se espera que alrededor de 98 regiones sean bombardeadas 2 veces, y que alrededor de 228 no sean bombardeadas. Los datos reales fueron que 93 regiones fueron bombardeadas 2 veces y 229 no fueron bombardeadas, por lo que se llega a a conclusión de que los alemanes no apuntaban los misiles, estaban atacando al azar.\n"
   ]
  },
  {
   "cell_type": "markdown",
   "metadata": {},
   "source": [
    "[Regresar al contenido](#Contenido)"
   ]
  },
  {
   "cell_type": "markdown",
   "metadata": {},
   "source": [
    "#### Distribución hipergeométrica\n",
    "\n",
    "\n",
    "La distribución hipergeométrica es una distribución discreta relacionada con muestreos aleatorios y sin reemplazo. Suponga que se tiene una población de $N$ elementos de los cuales, $d$ pertenecen a la categoría $A$ y $N-d$ a la $B$. La distribución hipergeométrica mide la probabilidad de obtener $x$ ($ 0\\leq x\\leq d$) elementos de la categoría A en una muestra sin reemplazo de n elementos de la población original.\n",
    "\n",
    "Las características de una distribución hipergeómetrica son:\n",
    "\n",
    "- La población debe tener un número finito de elementos $N$.\n",
    "- se toma una muestra aleatoria de $n$ elementos de la población\n",
    "- Existen $d$ elementos con una característica deseada en la población.\n",
    "- En la muestra $n$ hay $x$ elementos con la caractarística deseada\n",
    "\n",
    "\n",
    "La función de probabilidad de una variable aleatoria con distribución hipergeométrica es igual a:\n",
    "\n",
    "$$P(X=x)=\\frac {\\binom{d}{x}  \\binom{N-d}{n-x}}{N \\choose n}$$\n",
    "\n",
    "Donde $\\displaystyle N$ es el tamaño de población, $n$ es el tamaño de la muestra extraída, $d$ es el número de elementos en la población original que pertenecen a la categoría deseada y $x$ es el número de elementos en la muestra que pertenecen a dicha categoría. La notación $\\displaystyle {a \\choose x}$ al número de combinaciones posibles al seleccionar $x$ elementos de un total $a$.\n",
    "\n",
    "El valor esperado de una variable aleatoria $X$ (media) que sigue una distribución hipergeométrica es:\n",
    "\n",
    "$$\\displaystyle E[X]={\\frac {nd}{N}}$$\n",
    "\n",
    "y su varianza:\n",
    "\n",
    "$$Var[X]=\\bigg (\\frac{N-n}{N-1}\\bigg )\\bigg (\\frac {nd}{N}\\bigg )\\bigg (1-\\frac{d}{N}\\bigg )$$\n",
    "En la fórmula anterior, definiendo\n",
    "\n",
    "$$p=\\frac {d}{N}$$\n",
    "y\n",
    "\n",
    "$$q=1-p$$\n",
    "se obtiene\n",
    "\n",
    "$$Var[X]=npq\\frac{N-n}{N-1}$$\n",
    "$$E[X]= np$$\n",
    "La distribución hipergeométrica es aplicable a muestreos sin reemplazo y la binomial a muestreos con reemplazo. "
   ]
  },
  {
   "cell_type": "markdown",
   "metadata": {},
   "source": [
    "__Ejemplo__\n",
    "\n",
    "Se reparten 5 cartas de una baraja de 52, ¿cuál es la probabilidad de obtener un poker de aces (4 aces) si se sabe que al menos ya salieron 3?\n",
    "\n",
    "Se quiere calcular la probabilidad $P(x = 4 | x \\ge 3)$, por teorema de bayes sabemos que:\n",
    "\n",
    "\n",
    "$$P(x = 4 | x \\ge 3) = \\frac{P(x = 4)P(x \\ge 3 | x = 4)}{P(x \\ge 3)}$$\n",
    "\n",
    "notando que $P(x \\ge 3 | x = 4)$ = 1 el problema se reduce a calcular:\n",
    "$$P(x = 4 | x \\ge 3) = \\frac{P(x = 4)}{P(x \\ge 3)}$$\n",
    "\n",
    "\n",
    "Y $P(x \\ge 3) = P(x = 4) + P(x = 3)$"
   ]
  },
  {
   "cell_type": "code",
   "execution_count": 87,
   "metadata": {},
   "outputs": [
    {
     "data": {
      "text/plain": [
       "1.8468926031951275e-05"
      ]
     },
     "execution_count": 87,
     "metadata": {},
     "output_type": "execute_result"
    }
   ],
   "source": [
    "N, d, n = 52, 4, 5\n",
    "hy = stats.hypergeom(N, d, n)\n",
    "p4 = hy.pmf(4) #x, N, d, n\n",
    "p4"
   ]
  },
  {
   "cell_type": "code",
   "execution_count": 88,
   "metadata": {},
   "outputs": [
    {
     "data": {
      "text/plain": [
       "0.0017545479730353693"
      ]
     },
     "execution_count": 88,
     "metadata": {},
     "output_type": "execute_result"
    }
   ],
   "source": [
    "p3 = hy.pmf(3) + hy.pmf(4)\n",
    "p3"
   ]
  },
  {
   "cell_type": "code",
   "execution_count": 89,
   "metadata": {},
   "outputs": [
    {
     "data": {
      "text/plain": [
       "0.010526315789473696"
      ]
     },
     "execution_count": 89,
     "metadata": {},
     "output_type": "execute_result"
    }
   ],
   "source": [
    "p4  / p3"
   ]
  },
  {
   "cell_type": "markdown",
   "metadata": {},
   "source": [
    "[Regresar al contenido](#Contenido)"
   ]
  },
  {
   "cell_type": "markdown",
   "metadata": {},
   "source": [
    "### Distribuciones continuas notables\n",
    "\n",
    "\n",
    "#### Distribución uniforme\n",
    "\n",
    "Una variable aleatoria $X$ tiene distribución uniforme sobre un intervalo real $(a, b)$, si su función de densidad es:\n",
    "\n",
    "\n",
    "$$f(X) = \\frac{1}{b - a}$$\n",
    "\n",
    "para $x \\in (a, b)$, si $X$ sigue una distribución uniforme lo denotaremos por $X \\sim U(a, b)$. Noten que el valor esperado de esta distribución es $E(x) = \\frac{a + b}{2}$ y su varianza $var(x) = \\frac{(b - a)^2}{12}$ \n",
    "\n",
    "\n",
    "Dentro de Python la función uniform nos permite generar distribuciones uniformes pero utilizando los parámetros _loc_ y _scale_ que seran $loc = a$, y $scale = b - a$"
   ]
  },
  {
   "cell_type": "code",
   "execution_count": 90,
   "metadata": {},
   "outputs": [],
   "source": [
    "U = stats.uniform(-1, 2) #→ U(-1, 1)"
   ]
  },
  {
   "cell_type": "code",
   "execution_count": 91,
   "metadata": {},
   "outputs": [
    {
     "data": {
      "text/plain": [
       "0.5"
      ]
     },
     "execution_count": 91,
     "metadata": {},
     "output_type": "execute_result"
    }
   ],
   "source": [
    "U.pdf(0.3)"
   ]
  },
  {
   "cell_type": "code",
   "execution_count": 92,
   "metadata": {},
   "outputs": [
    {
     "data": {
      "text/plain": [
       "array([ 0.73280179, -0.66524111, -0.60146458, -0.70449583,  0.98437933,\n",
       "        0.56210581,  0.65349011, -0.53462367, -0.18086299, -0.14928506,\n",
       "       -0.73151263,  0.98603554,  0.10602142,  0.21591735, -0.53242825,\n",
       "        0.46736006, -0.72918549, -0.20761525, -0.56958274, -0.27185942,\n",
       "       -0.40315261, -0.027613  , -0.61724897,  0.90063196,  0.47589736,\n",
       "       -0.75024202,  0.68585298,  0.40065997, -0.72732722, -0.6061577 ])"
      ]
     },
     "execution_count": 92,
     "metadata": {},
     "output_type": "execute_result"
    }
   ],
   "source": [
    "U.rvs(30)"
   ]
  },
  {
   "cell_type": "code",
   "execution_count": 93,
   "metadata": {},
   "outputs": [
    {
     "data": {
      "text/plain": [
       "<matplotlib.collections.PolyCollection at 0x21818e7ef40>"
      ]
     },
     "execution_count": 93,
     "metadata": {},
     "output_type": "execute_result"
    },
    {
     "data": {
      "image/png": "[encoded data removed]",
      "text/plain": [
       "<Figure size 460.8x403.2 with 2 Axes>"
      ]
     },
     "metadata": {},
     "output_type": "display_data"
    }
   ],
   "source": [
    "x = np.linspace(-2, 2)\n",
    "y = U.pdf(x)\n",
    "z = U.cdf(x)\n",
    "fig, ax = plt.subplots(2)\n",
    "mean = U.mean()\n",
    "std = U.std()\n",
    "\n",
    "\n",
    "\n",
    "\n",
    "ax[0].plot(x, y, 'r', ms = 1.9)\n",
    "ax[0].set_xlim([-2, 2])\n",
    "ax[0].axvline(x = mean)\n",
    "ax[0].fill_between(x, y, where = (x > (mean - std)) & (x < (mean + std)),\n",
    "                   color = 'r', alpha = 0.25)\n",
    "\n",
    "ax[1].plot(x, z, 'b', ms = 1.9)\n",
    "ax[1].set_xlim([-2, 2])\n",
    "ax[1].axvline(x = mean)\n",
    "ax[1].fill_between(x, z, where = (x > (mean - std)) & (x < (mean + std)),\n",
    "                   color = 'b', alpha = 0.25)"
   ]
  },
  {
   "cell_type": "markdown",
   "metadata": {},
   "source": [
    "[Regresar al contenido](#Contenido)"
   ]
  },
  {
   "cell_type": "markdown",
   "metadata": {},
   "source": [
    "<hr>\n",
    "<h4>Distribución normal</h4>\n",
    "\n",
    "\n",
    "La distribución normal o distribución gaussiana es una de las distribuciones de probabilidad de variable continua que con más frecuencia aparece en estadística y en la teoría de probabilidades. La función distribución de probabilidad está dada por:\n",
    "\n",
    "$$f(x; \\mu, \\sigma) = \\frac{1}{\\sigma \\sqrt{2 \\pi}} e^{\\frac{-1}{2} \\big(\\frac{x - \\mu}{\\sigma}\\big)^2}$$\n",
    "\n",
    "Donde $\\mu$ es la media y $\\sigma$ es la desviación estándar. La distribución de probabilidad _normal estandar_ es aquella que tiene por media $0$ y por desviación estándar $1$. Al ser una distribución de probabilidad el área bajo la curba que resulta de graficar $f$ es igual a $1$ y podemos asociar la integral $\\displaystyle\\int_{-\\infty}^{a} f(x)\\, dx$ con el valor de la probabilidad de que la variable $x$ tome un valor menor o igual a $a$."
   ]
  },
  {
   "cell_type": "code",
   "execution_count": 96,
   "metadata": {},
   "outputs": [
    {
     "data": {
      "text/plain": [
       "[<matplotlib.lines.Line2D at 0x21818fecbe0>]"
      ]
     },
     "execution_count": 96,
     "metadata": {},
     "output_type": "execute_result"
    },
    {
     "data": {
      "image/png": "[encoded data removed]",
      "text/plain": [
       "<Figure size 936x576 with 1 Axes>"
      ]
     },
     "metadata": {},
     "output_type": "display_data"
    }
   ],
   "source": [
    "mu, sig = 0, 1\n",
    "norm = stats.norm(mu, sig)\n",
    "x = np.linspace(norm.ppf(0.01), norm.ppf(0.99))\n",
    "y = norm.pdf(x)\n",
    "fig, ax = plt.subplots(figsize = (13, 8))\n",
    "ax.axvline(x = norm.mean())\n",
    "ax.fill_between(x, y, where = (x <= 1) & (x >= -1),\n",
    "                alpha = 0.25, color = 'r')\n",
    "ax.plot(x, y, color = 'g')"
   ]
  },
  {
   "cell_type": "code",
   "execution_count": 97,
   "metadata": {},
   "outputs": [
    {
     "data": {
      "text/plain": [
       "<matplotlib.lines.Line2D at 0x21819247b50>"
      ]
     },
     "execution_count": 97,
     "metadata": {},
     "output_type": "execute_result"
    },
    {
     "data": {
      "image/png": "[encoded data removed]",
      "text/plain": [
       "<Figure size 936x576 with 1 Axes>"
      ]
     },
     "metadata": {},
     "output_type": "display_data"
    }
   ],
   "source": [
    "x = np.linspace(norm.ppf(0.01), norm.ppf(0.99))\n",
    "y = norm.pdf(x)\n",
    "z = norm.cdf(x)\n",
    "\n",
    "fig, ax = plt.subplots(figsize = (13, 8))\n",
    "ax.plot(x, y, color = 'g')\n",
    "ax.plot(x, z, color = 'r')\n",
    "ax.fill_between(x, y, where = (x <= 0), alpha = .25, color = 'g')\n",
    "ax.axhline(0.5, color = 'k', alpha = 0.5)\n",
    "ax.axvline(0, color = 'k', alpha = 0.5)"
   ]
  },
  {
   "cell_type": "markdown",
   "metadata": {},
   "source": [
    "Si $X \\sim N(\\mu, \\sigma)$ entonces $\\frac{X - \\mu}{\\sigma} \\sim N(0, 1)$"
   ]
  },
  {
   "cell_type": "markdown",
   "metadata": {},
   "source": [
    "[Regresar al contenido](#Contenido)"
   ]
  },
  {
   "cell_type": "markdown",
   "metadata": {},
   "source": [
    "<hr>\n",
    "<h2>Más métricas</h2>\n",
    "\n",
    "<h3>Asimetría de una variable Aleatoria</h3>\n",
    "\n",
    "\n",
    "Una veriable aletaria **asimetría positiva** si su función de probabilidad o densidad presenta una cola a la derecha y **asimetría negativa** si su función de densidad o probabilidad presenta una cola a la izquierda.\n",
    "\n",
    "<img src = https://upload.wikimedia.org/wikipedia/commons/thumb/c/ca/Posiciones_relativas_de_par%C3%A1metros_centrales.svg/1920px-Posiciones_relativas_de_par%C3%A1metros_centrales.svg.png>\n",
    "\n",
    "\n",
    "La asimetría de una variable aleatoria $X$ se calcula a partir de sus momentos centrales de orden 2 y 3.\n",
    "\n",
    "$$\\gamma_1 = E\\left(\\left( \\frac{X - \\mu}{\\sigma}\\right)^3\\right) = \\frac{\\mu_3}{\\sigma^3}$$\n",
    "\n",
    "Este es el **coeficiente de asimetría de Pearson.** Y se tiene que una variable aleatoria tiene **asimetría positiva** si $\\gamma_1 > 0$ y **asimetría negativa** si $\\gamma_1 < 0$"
   ]
  },
  {
   "cell_type": "markdown",
   "metadata": {},
   "source": [
    "<h4>Ejemplo: Distribución exponencial</h4>\n",
    "\n",
    "$$X \\sim Exp(\\lambda)$$\n",
    "\n",
    "$$f_{X}(x)=\\lambda e^{-\\lambda x}$$"
   ]
  },
  {
   "cell_type": "code",
   "execution_count": 98,
   "metadata": {},
   "outputs": [],
   "source": [
    "dist = stats.expon(1)"
   ]
  },
  {
   "cell_type": "code",
   "execution_count": 99,
   "metadata": {},
   "outputs": [
    {
     "data": {
      "image/png": "[encoded data removed]",
      "text/plain": [
       "<Figure size 936x576 with 1 Axes>"
      ]
     },
     "metadata": {},
     "output_type": "display_data"
    }
   ],
   "source": [
    "fig, ax = plt.subplots(figsize = (13, 8))\n",
    "\n",
    "x = np.linspace(1, 5)\n",
    "y = dist.pdf(x)\n",
    "\n",
    "sns.lineplot(x = x, y = y, ax = ax);"
   ]
  },
  {
   "cell_type": "code",
   "execution_count": 100,
   "metadata": {},
   "outputs": [
    {
     "data": {
      "text/plain": [
       "1.287654606668532"
      ]
     },
     "execution_count": 100,
     "metadata": {},
     "output_type": "execute_result"
    }
   ],
   "source": [
    "stats.skew(y)"
   ]
  },
  {
   "cell_type": "code",
   "execution_count": 101,
   "metadata": {},
   "outputs": [
    {
     "data": {
      "text/plain": [
       "1.3278260686270642"
      ]
     },
     "execution_count": 101,
     "metadata": {},
     "output_type": "execute_result"
    }
   ],
   "source": [
    "y = pd.Series(y)\n",
    "y.skew()"
   ]
  },
  {
   "cell_type": "markdown",
   "metadata": {},
   "source": [
    "[Regresar al contenido](#Contenido)"
   ]
  },
  {
   "cell_type": "markdown",
   "metadata": {},
   "source": [
    "<h3>Curtosis de una variable Aleatoria</h3>\n",
    "\n",
    "La curtosis de una variable aleatoria es una medida de como son las colas de su función de densidad.\n",
    "\n",
    "Dicho de otra manera, buscamos medir de alguna manera la tendencia que tiene una variable aleatoria a tener **outliers.**\n",
    "\n",
    "La manera estandar de medir la curtosis de una variable aleatoria $X$ es apartir de su momento central de cuarto orden:\n",
    "\n",
    "$$\\gamma_2 = E\\left(\\left(\\frac{X - \\mu}{\\sigma} \\right)^4\\right) = \\frac{\\mu_4}{\\sigma^4}$$\n",
    "\n",
    "\n",
    "A la expresion anterior se le denomina **medida de curtosis de Pearson**\n",
    "\n",
    "- Diremos que una variable aleatoria no tiene exceso de curtosis o es **mesocúrtica** si $\\gamma_2 \\approx 3$\n",
    "\n",
    "- Diremos que una variable aleatoria tiene exceso positivo de curtosis o es **leptocúrtica** si $\\gamma_2 > 3$\n",
    "\n",
    "- Diremos que una variable aleatoria tiene exceso negativo de curtosis o es **platicúrtica** si $\\gamma_2 < 3$\n",
    "\n",
    "\n",
    "<img src = https://www.lifeder.com/wp-content/uploads/2020/03/curtosis.jpg>"
   ]
  },
  {
   "cell_type": "code",
   "execution_count": 102,
   "metadata": {},
   "outputs": [],
   "source": [
    "dist = stats.norm(0, 0.1)"
   ]
  },
  {
   "cell_type": "code",
   "execution_count": 103,
   "metadata": {},
   "outputs": [
    {
     "data": {
      "image/png": "[encoded data removed]",
      "text/plain": [
       "<Figure size 936x576 with 1 Axes>"
      ]
     },
     "metadata": {},
     "output_type": "display_data"
    }
   ],
   "source": [
    "fig, ax = plt.subplots(figsize = (13, 8))\n",
    "\n",
    "x = np.linspace(-2, 2, 1000)\n",
    "y = dist.pdf(x)\n",
    "\n",
    "sns.lineplot(x = x, y = y, ax = ax);"
   ]
  },
  {
   "cell_type": "code",
   "execution_count": 104,
   "metadata": {},
   "outputs": [
    {
     "data": {
      "text/plain": [
       "11.278982482431115"
      ]
     },
     "execution_count": 104,
     "metadata": {},
     "output_type": "execute_result"
    }
   ],
   "source": [
    "stats.kurtosis(y)"
   ]
  },
  {
   "cell_type": "code",
   "execution_count": 105,
   "metadata": {},
   "outputs": [],
   "source": [
    "y = pd.Series(y)"
   ]
  },
  {
   "cell_type": "code",
   "execution_count": 106,
   "metadata": {},
   "outputs": [
    {
     "data": {
      "text/plain": [
       "11.341605179716131"
      ]
     },
     "execution_count": 106,
     "metadata": {},
     "output_type": "execute_result"
    }
   ],
   "source": [
    "y.kurtosis()"
   ]
  },
  {
   "cell_type": "markdown",
   "metadata": {},
   "source": [
    "[Regresar al contenido](#Contenido)"
   ]
  },
  {
   "cell_type": "markdown",
   "metadata": {},
   "source": [
    "<h3>Entropía de una variable aleatoria</h3>\n",
    "\n",
    "\n",
    "Sí, entropía. Al igual que en la física, la entropía juega un papel fundamental en la teoría de la información, y es que están relacionadas (aunque no lo parezca). La idea de entropía se describe a menudo como \"la cantidad de desorden\", lo cual es ciertamente horrible porque \"desorden\" es un término subjetivo.\n",
    "\n",
    "Me gusta más definir la entropía de un sistema físico como el número de microestados compatibles con el macroestado. Esta es, en palabras más comunes, una medida de información que no conocemos.\n",
    "\n",
    "Imagina que lanzas un dado y observas qué cara cae, es fácil entender que todas las caras tienen la misma probabilidad de observar. Pero si tiramos dos dados y observamos la suma de sus caras, ¿ocurre lo mismo?\n",
    "\n",
    "\n",
    "La respuesta es no, solo hay una forma en que el resultado es dos ($ 1 + 1 $) pero hay 3 formas en las que el resultado es 4($ 1 + 3 $, $ 2 + 2 $, $ 3 + 1 $), vamos a llamr al estado _el resultado es 4_ como **macroestado** y los estados $ 1 + 3 $, $ 2 + 2 $ y $ 3 + 1 $ los **microestados** compatibles.\n",
    "\n",
    "Entonces, hay un estado que es más probable que ocurra (que la suma sea 7) y, sin embargo, si este macroestado ocurre, tendremos una gran incertidumbre sobre el microestado de nuestro experimento (¿cuál de las 6 combinaciones posibles es la que está frente a nosotros?), entonces decimos que la el estado _la suma igual a 7_ tiene una gran **incertidumbre**, es decir, tiene una **gran entropía**, por otro lado si el resultado es que la suma es igual a 2 solo hay un posible microestado, no tenemos incertidumbre o tenemos una **baja entropía**.\n",
    "\n",
    "\n",
    "Entonces, como acabamos de ver, lo más probable al realizar nuestro experimento es que obtengamos un estado con alta entropía. Felicitaciones, acaba de deducir la **segunda ley de la termodinámica** usando dados.\n",
    "\n",
    "Y esto, ¿qué tiene que ver con la información? Bueno, si observas un macroestado, _la suma es igual a dos_, y luego alguien te dice que uno de los dados cae 1, eso no te sorprende, no te da información, pero si el macroestado es _la suma es igual a 7_, saber que uno de los callos de dados 3 proporciona mucha información, ahora sabes que el segundo callo de dados 4.\n",
    "\n",
    "La entropía (Shannon) se define mediante la siguiente fórmula:\n",
    "\n",
    "$$ H (S) = \\sum_{i = 1} ^ {c} - p_i \\ log_{2} {p_i} $$\n",
    "\n",
    "La entropía toma el valor máximo cuando todos los resultados son igualmente probables, y toma su valor mínimo (0) cuando tenemos certeza absoluta.\n",
    "\n",
    "\n",
    "Ahora la entropia es una medida de la **incertidumbre** de una variable aleatoria.\n",
    "\n",
    "Supongamos que tenemos una variable aleatoria $X$ discreta con valores enteros:\n",
    "\n",
    "$$D_X = \\{ 1, 2, 3, \\cdots, n \\}$$\n",
    "\n",
    "Sea $k \\in D_X$ un valor de la variable. Estamos interesados en cuantificar la incertidumbre del suceso $A_k = \\{ X = k \\}$, entre menos incertidumbre tenga $A_k$ más alta sera su probabilidad, y cuanto más incertidumbre menos probable será de obserbar $A_k$.\n",
    "\n",
    "$$I(A_k) = \\ln\\left(\\frac{1}{P(X = k)} \\right) = - \\ln \\left(P(X = k)\\right)$$\n",
    "\n",
    "\n",
    "Sea $X$ una variable aleatoria con función de densidad $f_X(x)$ en el caso continuo o función de probabilidad $P_X(x)$ en el caso discreto. Definimos la **Entropía** de $X$ como:\n",
    "\n",
    "$$H_X = E\\left(- \\ln \\left(f_x(x)\\right)\\right) = \\int_{- \\infty}^{\\infty} - \\ln \\left(f_X(x)\\right) f_X(x) dx$$\n",
    "\n",
    "$$H_X = E\\left(- \\ln \\left(P_x(x)\\right)\\right) = \\sum - \\ln \\left(P_x(x)\\right) P_x(x)$$\n",
    "\n",
    "\n",
    "<h4>Ejemplo: Entrpía de una Bernoulli</h4>\n",
    "\n",
    "Sea $X$ una variable de Bernoulli de parámetro $p$ y recordando que $P(0) = 1 - p$ y $P(1) = p$\n",
    "\n",
    "La entropía de $X$ será:\n",
    "\n",
    "$$H_X = E\\left(- \\ln \\left(P_x(x)\\right)\\right) = - (1 - p) \\ln(1 - p) - p \\ln(p)$$"
   ]
  },
  {
   "cell_type": "code",
   "execution_count": 107,
   "metadata": {},
   "outputs": [],
   "source": [
    "def H_bernouli(p):\n",
    "    return -(1 - p) * np.log(1 - p) - p * np.log(p)"
   ]
  },
  {
   "cell_type": "code",
   "execution_count": 108,
   "metadata": {},
   "outputs": [
    {
     "name": "stderr",
     "output_type": "stream",
     "text": [
      "<ipython-input-107-a98c1f218522>:2: RuntimeWarning: divide by zero encountered in log\n",
      "  return -(1 - p) * np.log(1 - p) - p * np.log(p)\n",
      "<ipython-input-107-a98c1f218522>:2: RuntimeWarning: invalid value encountered in multiply\n",
      "  return -(1 - p) * np.log(1 - p) - p * np.log(p)\n"
     ]
    },
    {
     "data": {
      "image/png": "[encoded data removed]",
      "text/plain": [
       "<Figure size 936x576 with 1 Axes>"
      ]
     },
     "metadata": {},
     "output_type": "display_data"
    }
   ],
   "source": [
    "fig, ax = plt.subplots(figsize = (13, 8))\n",
    "\n",
    "x = np.linspace(0, 1, 1000)\n",
    "y = H_bernouli(x)\n",
    "\n",
    "sns.lineplot(x = x, y = y, ax = ax)\n",
    "ax.axvline(0.5, color = 'r', alpha = 0.7);"
   ]
  },
  {
   "cell_type": "markdown",
   "metadata": {},
   "source": [
    "[Regresar al contenido](#Contenido)"
   ]
  },
  {
   "cell_type": "markdown",
   "metadata": {},
   "source": [
    "## Vectores Aleatorios\n",
    "\n",
    "### Vectores Aleatorios Bidimensionales\n",
    "\n",
    "Recordemos que una variable analeatoria unidimensional es una función que asigna a cada resultado de un experimento aleatorio un valor numérico $X: \\Omega \\to \\mathbb{R}$, Ahora definiremos un variable aleatoria bidimensional como una función $W$ tal que $W: \\Omega \\to \\mathbb{R}^2$, y la podemos visualizar como una pareja ordenada $(X, Y)$ donde $X$ y $Y$ son variables aleatoreas unidimensionales.\n",
    "\n",
    "\n",
    "Por ejemplo, podemos tomar un estudio donde analizamos la altura y el peso de un grupo de personas, o por ejemplo: Suponga un experimento aleatorio en el que se tiran dos dados de 6 caras, y $S$ es la variable aleatoria que mide la suma de las caras de los dados, y $P$ la variable aleatoria que mide el producto de las caras de los dados. Entonces $(S, P)$ es una variable aleatoria bidimensional."
   ]
  },
  {
   "cell_type": "markdown",
   "metadata": {},
   "source": [
    "[Regresar al contenido](#Contenido)"
   ]
  },
  {
   "cell_type": "markdown",
   "metadata": {},
   "source": [
    "#### Función de distribución conjunta\n",
    "\n",
    "\n",
    "Suponga que $(X, Y)$ son una VAB, entonces vamos a extender el concepto de función de distribución de una variable a nuestro caso bidimensional, la extensión será la función de distribución conjunta $F_{XY}: \\mathbb{R}^2 \\to \\mathbb{R}$ y que vamos a definir como:\n",
    "\n",
    "$$F_{XY}(x, y) = P(X \\leq x, Y \\leq y)$$\n",
    "\n",
    "\n",
    "Vamos a dar un par de propiedades de $F_{XY}$:\n",
    "\n",
    "\n",
    "- $F_{XY}(x, -\\infty) = F_{XY}(-\\infty, y) = 0$\n",
    "- $F_{XY}(\\infty, \\infty) = 1$\n",
    "\n",
    "También definiremos a $X$ y $Y$ como las variables aleatorias marginales, y cada una va a tener su función de distribución marginal que está definida por:\n",
    "\n",
    "\n",
    "- $F_X(x) = F_{XY}(x, \\infty)$\n",
    "- $F_Y(y) = F_{XY}(\\infty, y)$\n",
    "\n",
    "\n"
   ]
  },
  {
   "cell_type": "markdown",
   "metadata": {},
   "source": [
    "[Regresar al contenido](#Contenido)"
   ]
  },
  {
   "cell_type": "markdown",
   "metadata": {},
   "source": [
    "#### Variable Aleatoria Bidimensional Discreta\n",
    "\n",
    "Retomemos el ejemplo del dado y la variable $(S, P)$, dicha variable es discreta, ya que solo puede tomar determinados valores numerables, veamos los valores que puede tomar $(S, P)$."
   ]
  },
  {
   "cell_type": "code",
   "execution_count": 109,
   "metadata": {},
   "outputs": [
    {
     "data": {
      "text/plain": [
       "[(1, 1),\n",
       " (1, 2),\n",
       " (1, 3),\n",
       " (1, 4),\n",
       " (1, 5),\n",
       " (1, 6),\n",
       " (2, 1),\n",
       " (2, 2),\n",
       " (2, 3),\n",
       " (2, 4),\n",
       " (2, 5),\n",
       " (2, 6),\n",
       " (3, 1),\n",
       " (3, 2),\n",
       " (3, 3),\n",
       " (3, 4),\n",
       " (3, 5),\n",
       " (3, 6),\n",
       " (4, 1),\n",
       " (4, 2),\n",
       " (4, 3),\n",
       " (4, 4),\n",
       " (4, 5),\n",
       " (4, 6),\n",
       " (5, 1),\n",
       " (5, 2),\n",
       " (5, 3),\n",
       " (5, 4),\n",
       " (5, 5),\n",
       " (5, 6),\n",
       " (6, 1),\n",
       " (6, 2),\n",
       " (6, 3),\n",
       " (6, 4),\n",
       " (6, 5),\n",
       " (6, 6)]"
      ]
     },
     "execution_count": 109,
     "metadata": {},
     "output_type": "execute_result"
    }
   ],
   "source": [
    "omega = [(i, j) for i in range(1, 7) for j in range(1, 7)]\n",
    "omega"
   ]
  },
  {
   "cell_type": "code",
   "execution_count": null,
   "metadata": {},
   "outputs": [],
   "source": [
    "len(omega)"
   ]
  },
  {
   "cell_type": "code",
   "execution_count": 110,
   "metadata": {},
   "outputs": [
    {
     "data": {
      "text/plain": [
       "{(2, 1),\n",
       " (3, 2),\n",
       " (4, 3),\n",
       " (4, 4),\n",
       " (5, 4),\n",
       " (5, 6),\n",
       " (6, 5),\n",
       " (6, 8),\n",
       " (6, 9),\n",
       " (7, 6),\n",
       " (7, 10),\n",
       " (7, 12),\n",
       " (8, 12),\n",
       " (8, 15),\n",
       " (8, 16),\n",
       " (9, 18),\n",
       " (9, 20),\n",
       " (10, 24),\n",
       " (10, 25),\n",
       " (11, 30),\n",
       " (12, 36)}"
      ]
     },
     "execution_count": 110,
     "metadata": {},
     "output_type": "execute_result"
    }
   ],
   "source": [
    "D = {(elem[0] + elem[1], elem[0] * elem[1]) for elem in omega}\n",
    "D"
   ]
  },
  {
   "cell_type": "code",
   "execution_count": 111,
   "metadata": {},
   "outputs": [
    {
     "data": {
      "text/plain": [
       "set"
      ]
     },
     "execution_count": 111,
     "metadata": {},
     "output_type": "execute_result"
    }
   ],
   "source": [
    "type(D)"
   ]
  },
  {
   "cell_type": "code",
   "execution_count": 112,
   "metadata": {},
   "outputs": [
    {
     "data": {
      "text/plain": [
       "21"
      ]
     },
     "execution_count": 112,
     "metadata": {},
     "output_type": "execute_result"
    }
   ],
   "source": [
    "len(D)"
   ]
  },
  {
   "cell_type": "markdown",
   "metadata": {},
   "source": [
    "Vamos a definir la función de probabilidad conjunta $P_{XY}: \\mathbb{R}^2 \\to \\mathbb{R}$ como:\n",
    "\n",
    "\n",
    "$$P_{XY}(x, y) = P(X = x, Y = y)$$\n",
    "\n",
    "\n",
    "Note que $$\\sum \\sum P_{XY}(x_i, y_i) = 1$$\n",
    "\n",
    "Y también vamos a extender el concepto de función de distribución, a la función de distribución conjunta $F_{XY}$ como:\n",
    "\n",
    "\n",
    "$$F_{XY}(x, y) = \\sum_{x_i \\leq x | y_i \\leq y} P_{XY}(x_i, y_i)$$"
   ]
  },
  {
   "cell_type": "markdown",
   "metadata": {},
   "source": [
    "[Regresar al contenido](#Contenido)"
   ]
  },
  {
   "cell_type": "markdown",
   "metadata": {},
   "source": [
    "##### Marginales de una V.A.B.D.\n",
    "\n",
    "\n",
    "Sea $(X, Y)$ una V.A.B.D. con $P_{XY}$, entonces la función de probabilidad conjunta tiene suficiente información para obtener la función de probabilidad de las marginales $X$, y $Y$. Las funciones de probabilidad marginales $P_X(x)$ y $P_Y(y)$ serán:\n",
    "\n",
    "\n",
    "- $P_X(x_i) = \\sum_{j = 1} P_{XY}(x_i, y_j)$\n",
    "- $P_Y(y_j) = \\sum_{i = 1} P_{XY}(x_i, y_j)$"
   ]
  },
  {
   "cell_type": "markdown",
   "metadata": {},
   "source": [
    "[Regresar al contenido](#Contenido)"
   ]
  },
  {
   "cell_type": "markdown",
   "metadata": {},
   "source": [
    "#### Variable Aleatoria Continua Bidimensional\n",
    "\n",
    "De forma análoga como definimos las variables continuas en una dimensión, diremos que $(X, Y)$ es una V.A.B.C. si existe una función $f_{XY} = \\mathbb{R}^2 \\to \\mathbb{R}$, tal que:\n",
    "\n",
    "$$P(a \\leq X \\leq b, c \\leq Y \\leq d) = \\int_a^b \\int_c^d f_{XY}(x, y) dxdy$$\n",
    "\n",
    "Y de forma análoga definiremos la función de distribución $F_{XY}(x, y)$ como:\n",
    "\n",
    "\n",
    "$$F_{XY}(x, y) = \\int_{-\\infty}^x \\int_{-\\infty}^y f_{XY}(u, v) dudv$$\n",
    "\n",
    "\n",
    "Para el caso continuo tambián se van a definir las variables aleatorias marginales $X$ y $Y$, y las funciones de densidad marginales serán:\n",
    "\n",
    "- $F_X(x) = \\int_{-\\infty}^{\\infty} f_{XY}(x, y) dy$\n",
    "- $F_Y(y) = \\int_{-\\infty}^{\\infty} f_{XY}(x, y) dx$\n",
    "\n"
   ]
  },
  {
   "cell_type": "markdown",
   "metadata": {},
   "source": [
    "[Regresar al contenido](#Contenido)"
   ]
  },
  {
   "cell_type": "markdown",
   "metadata": {},
   "source": [
    "##### Distribución Gaussiana Bidimensional\n",
    "\n",
    "\n",
    "Suponga que $(X, Y)$ es una V.A.B.C., diremos que $(X, Y)$ es bidimensional gaussiana de parámetro $\\rho$ si la función de densidad conjunta es:\n",
    "\n",
    "$$f_{XY}(x, y) = \\frac{1}{2 \\pi \\sqrt{1 - \\rho^2}} e^{- \\frac{x^2 - 2\\rho xy + y^2}{2 (1 - \\rho^2)}}$$\n",
    "\n",
    "\n",
    "\n",
    "Noten que $f_{XY}$ tiene un máximo absoluto en $(0, 0)$, dicho máximo toma un valor:\n",
    "\n",
    "$$f_{XY}(0, 0) = \\frac{1}{2 \\pi \\sqrt{1 - \\rho^2}}$$\n",
    "\n",
    "\n",
    "Y dicho máximo alcanza el mínimo valor posible cuando $\\rho = 0$. Otra propiedad que cabe resaltar de la Distribución Gaussiana bidimensional es que las funciones de densidad marginales siempre son una normal de media 0 y desviación estándar 1, es decir:\n",
    "\n",
    "\n",
    "- $F_X(x) \\sim N(0, 1) \\to \\frac{1}{\\sqrt{2\\pi}} e^{\\frac{-x}{2}}$\n",
    "- $F_Y(y) \\sim N(0, 1) \\to \\frac{1}{\\sqrt{2\\pi}} e^{\\frac{-y}{2}}$"
   ]
  },
  {
   "cell_type": "markdown",
   "metadata": {},
   "source": [
    "[Regresar al contenido](#Contenido)"
   ]
  },
  {
   "cell_type": "markdown",
   "metadata": {},
   "source": [
    "#### Valor esperado de Variables Aleatorias Bidimensionales\n",
    "\n",
    "\n",
    "En el caso de variables aleatorias bidimensionales lo que nos interesa es saber cómo varían $X$ y $Y$ juntas, es decir ver si estan correlacionadas. Supongamos que tenemos $(X, Y)$ una VAB y $Z = g(X, Y)$\n",
    "\n",
    "\n",
    "- $E(Z) = \\sum \\sum g(x_i, y_i)P_{XY}(x_i, y_i)$\n",
    "- $E(Z) = \\int_{-\\infty}^{\\infty} \\int_{-\\infty}^{\\infty} g(x_i, y_i)f_{XY}(x_i, y_i)$"
   ]
  },
  {
   "cell_type": "markdown",
   "metadata": {},
   "source": [
    "[Regresar al contenido](#Contenido)"
   ]
  },
  {
   "cell_type": "markdown",
   "metadata": {},
   "source": [
    "#### Covarianza de Variables aleatorias Bidimensionales\n",
    "\n",
    "\n",
    "Vamos a Definir la covarianza de una VAB como:\n",
    "\n",
    "$$Cov(X, Y) = E((X - \\mu_x)(Y - \\mu_y))$$\n",
    "\n",
    "$$Cov(X, Y) = E(XY) - \\mu_x \\mu_y$$\n",
    "\n",
    "Si mis variables son independientes $Cov(X, Y) = 0$, sin embargo que $Cov(X, Y) = 0$ no implica que $X$ y $Y$ sean independientes. La covarianza nos va a servir como una medida de que tan correlacionadas están nuestras variables, hay un propiedad que nos relaciona la varianza de las variables marginales con la covarianza conjunta, esta es la siguiente expresión:\n",
    "\n",
    "\n",
    "$$Var(X + Y) = Var(X) + Var(Y) + 2Cov(X, Y)$$\n",
    "$$Var(X - Y) = Var(X) + Var(Y) - 2Cov(X, Y)$$"
   ]
  },
  {
   "cell_type": "markdown",
   "metadata": {},
   "source": [
    "[Regresar al contenido](#Contenido)"
   ]
  },
  {
   "cell_type": "markdown",
   "metadata": {},
   "source": [
    "#### Correlación entre Variables\n",
    "\n",
    "\n",
    "Noten que la covarianza es una medida que depende de la escala, es decir depende de las unidades con las que esta medida la variables aleatorias en cuestión, esto puede provocar que la covarianza nos de pista de una correlación más grande entre las variables que la que realmente tienen, para evitar esto vamos a tratar de normalizar la covarianza definiendo el coeficiente de correlación. Sea $(X, Y)$ una VAB, definiremos el coeficiente de correlación $\\rho_{XY}$ como:\n",
    "\n",
    "\n",
    "$$\\rho_{XY} = \\frac{Cov(X, Y)}{\\sqrt{Var(X)} \\sqrt{Var(Y)}}$$\n",
    "\n",
    "\n",
    "La ventaja del coeficiente de correlación es que es adimensional, lo que evita el problema de la escala que teníamos con la covarianza. El coeficiente de correlación siempre toma valores entre $-1 \\leq \\rho_{XY} \\leq 1$. Noten que en la normal bidimensional el coeficiente de correlación es el parámetro $\\rho$ que aparece en la expresión, y entonces para $\\rho \\neq 0$ se tiene que las variables $X$, y $Y$ son dependientes:\n",
    "\n",
    "\n",
    "$$f_{XY}(x, y) = \\frac{1}{2 \\pi \\sqrt{1 - \\rho^2}} e^{- \\frac{x^2 - 2\\rho xy + y^2}{2 (1 - \\rho^2)}}$$\n",
    "\n",
    "\n",
    "Tengan en cuenta que si se tienen dos variables $X$ y $Y$ independientes entonces $\\rho = 0$, pero un valor $\\rho = 0$ no implica necesariamente independencia entre las variables.\n",
    "\n",
    "\n",
    "**Ejemplo**\n",
    "\n",
    "Veaamos un ejemplo de una VAB con $\\rho_{XY} = 0$ pero donde $X$ y $Y$ no son independientes.\n",
    "\n",
    "$$\n",
    "f_{XY}(x, y)= \\left\\{ \n",
    "\\begin{array}{lcc}\n",
    "\\frac{3}{8} (x^2 + y^2)&   si  & (x, y) \\in [-1, 1] \\times [-1, 1] \\\\\n",
    "0&   & \\text{En caso contrario}\\\\\n",
    "\\end{array}\n",
    "\\right.\n",
    "$$"
   ]
  },
  {
   "cell_type": "code",
   "execution_count": 113,
   "metadata": {},
   "outputs": [],
   "source": [
    "from sympy import *\n",
    "x = symbols('x')"
   ]
  },
  {
   "cell_type": "code",
   "execution_count": 114,
   "metadata": {},
   "outputs": [
    {
     "data": {
      "text/latex": [
       "$\\displaystyle 2 x$"
      ],
      "text/plain": [
       "2*x"
      ]
     },
     "execution_count": 114,
     "metadata": {},
     "output_type": "execute_result"
    }
   ],
   "source": [
    "g = 2*x\n",
    "g"
   ]
  },
  {
   "cell_type": "code",
   "execution_count": 115,
   "metadata": {},
   "outputs": [
    {
     "data": {
      "text/latex": [
       "$\\displaystyle x^{2}$"
      ],
      "text/plain": [
       "x**2"
      ]
     },
     "execution_count": 115,
     "metadata": {},
     "output_type": "execute_result"
    }
   ],
   "source": [
    "g.integrate(x)"
   ]
  },
  {
   "cell_type": "code",
   "execution_count": 116,
   "metadata": {},
   "outputs": [
    {
     "data": {
      "text/latex": [
       "$\\displaystyle 1$"
      ],
      "text/plain": [
       "1"
      ]
     },
     "execution_count": 116,
     "metadata": {},
     "output_type": "execute_result"
    }
   ],
   "source": [
    "g.integrate((x, 0, 1))"
   ]
  },
  {
   "cell_type": "code",
   "execution_count": 117,
   "metadata": {},
   "outputs": [
    {
     "data": {
      "text/latex": [
       "$\\displaystyle 0.375 x^{2} + 0.375 y^{2}$"
      ],
      "text/plain": [
       "0.375*x**2 + 0.375*y**2"
      ]
     },
     "execution_count": 117,
     "metadata": {},
     "output_type": "execute_result"
    }
   ],
   "source": [
    "x, y = symbols('x, y')\n",
    "\n",
    "f = (3/8)*(x**2 + y**2)\n",
    "f"
   ]
  },
  {
   "cell_type": "markdown",
   "metadata": {},
   "source": [
    "Noten que según la definición de funciones de densidad marginales:\n",
    "\n",
    "- $f_X(x) = \\int_{-\\infty}^{\\infty} f_{XY}(x, y) dy$\n",
    "- $f_Y(y) = \\int_{-\\infty}^{\\infty} f_{XY}(x, y) dx$\n",
    "\n",
    "pero en este caso fuera del intervalo $[-1, 1]$ todos los valores son 0 tanto para $X$ como para $Y$ por lo que nuestras marginales serán:\n",
    "\n",
    "\n",
    "- $f_X(x) = \\int_{-1}^{1} f_{XY}(x, y) dy$\n",
    "- $f_Y(y) = \\int_{-1}^{1} f_{XY}(x, y) dx$"
   ]
  },
  {
   "cell_type": "code",
   "execution_count": 118,
   "metadata": {},
   "outputs": [
    {
     "data": {
      "text/latex": [
       "$\\displaystyle 0.75 x^{2} + 0.25$"
      ],
      "text/plain": [
       "0.75*x**2 + 0.25"
      ]
     },
     "execution_count": 118,
     "metadata": {},
     "output_type": "execute_result"
    }
   ],
   "source": [
    "fx = f.integrate((y, -1, 1))\n",
    "fx"
   ]
  },
  {
   "cell_type": "code",
   "execution_count": 119,
   "metadata": {},
   "outputs": [
    {
     "data": {
      "text/latex": [
       "$\\displaystyle 0.75 y^{2} + 0.25$"
      ],
      "text/plain": [
       "0.75*y**2 + 0.25"
      ]
     },
     "execution_count": 119,
     "metadata": {},
     "output_type": "execute_result"
    }
   ],
   "source": [
    "fy = f.integrate((x, -1, 1))\n",
    "fy"
   ]
  },
  {
   "cell_type": "markdown",
   "metadata": {},
   "source": [
    "ahora vamos a calcular los valores esperados para las marginales.\n",
    "\n",
    "$$E(X) = \\int_{-\\infty}^{\\infty} xf_X(x)dx$$\n",
    "\n",
    "De forma similar al caso anterior debido al dominio de $f_{XY}$ basta integrar en $[-1, 1]$"
   ]
  },
  {
   "cell_type": "code",
   "execution_count": 120,
   "metadata": {},
   "outputs": [
    {
     "data": {
      "text/latex": [
       "$\\displaystyle 0$"
      ],
      "text/plain": [
       "0"
      ]
     },
     "execution_count": 120,
     "metadata": {},
     "output_type": "execute_result"
    }
   ],
   "source": [
    "Ex = (x * fx).integrate((x, -1, 1))\n",
    "Ex"
   ]
  },
  {
   "cell_type": "code",
   "execution_count": 121,
   "metadata": {},
   "outputs": [
    {
     "data": {
      "text/latex": [
       "$\\displaystyle 0$"
      ],
      "text/plain": [
       "0"
      ]
     },
     "execution_count": 121,
     "metadata": {},
     "output_type": "execute_result"
    }
   ],
   "source": [
    "Ey = (y * fy).integrate((y, -1, 1))\n",
    "Ey"
   ]
  },
  {
   "cell_type": "markdown",
   "metadata": {},
   "source": [
    "Ahora vamos a calcular el valor esperado para $Z = XY$, recordando:\n",
    "\n",
    "$$E(Z) = \\int_{-\\infty}^{\\infty} \\int_{-\\infty}^{\\infty} g(x_i, y_i)f_{XY}(x_i, y_i)dxdy$$"
   ]
  },
  {
   "cell_type": "code",
   "execution_count": 122,
   "metadata": {},
   "outputs": [
    {
     "data": {
      "text/latex": [
       "$\\displaystyle 0$"
      ],
      "text/plain": [
       "0"
      ]
     },
     "execution_count": 122,
     "metadata": {},
     "output_type": "execute_result"
    }
   ],
   "source": [
    "Exy = (x * y * f).integrate((x, -1, 1))\n",
    "Exy = Exy.integrate((y, -1, 1))\n",
    "Exy"
   ]
  },
  {
   "cell_type": "markdown",
   "metadata": {},
   "source": [
    "Noten entonces que:\n",
    "\n",
    "$$Cov(X, Y) = E(XY) - \\mu_x \\mu_y = 0$$\n",
    "\n",
    "Y por tanto el coeficiente de correlación $\\rho_{XY}$ también es 0, pero las variables X e Y no son independientes. Recordemos que de forma análoga a los eventos, donde decíamos que $A$ y $B$ son independientes si $P(A \\cap B) = P(A)P(B)$ en este caso diremos que las marginales $X$ y $Y$ son independientes si $f_{XY} = f_{x}f_{y}$."
   ]
  },
  {
   "cell_type": "code",
   "execution_count": 123,
   "metadata": {},
   "outputs": [
    {
     "data": {
      "text/latex": [
       "$\\displaystyle 0.375 x^{2} + 0.375 y^{2}$"
      ],
      "text/plain": [
       "0.375*x**2 + 0.375*y**2"
      ]
     },
     "execution_count": 123,
     "metadata": {},
     "output_type": "execute_result"
    }
   ],
   "source": [
    "f"
   ]
  },
  {
   "cell_type": "code",
   "execution_count": 124,
   "metadata": {},
   "outputs": [
    {
     "data": {
      "text/latex": [
       "$\\displaystyle \\left(0.75 x^{2} + 0.25\\right) \\left(0.75 y^{2} + 0.25\\right)$"
      ],
      "text/plain": [
       "(0.75*x**2 + 0.25)*(0.75*y**2 + 0.25)"
      ]
     },
     "execution_count": 124,
     "metadata": {},
     "output_type": "execute_result"
    }
   ],
   "source": [
    "fx * fy"
   ]
  },
  {
   "cell_type": "code",
   "execution_count": 125,
   "metadata": {},
   "outputs": [
    {
     "data": {
      "text/plain": [
       "False"
      ]
     },
     "execution_count": 125,
     "metadata": {},
     "output_type": "execute_result"
    }
   ],
   "source": [
    "f == (fx * fy)"
   ]
  },
  {
   "cell_type": "markdown",
   "metadata": {},
   "source": [
    "[Regresar al contenido](#Contenido)"
   ]
  },
  {
   "cell_type": "markdown",
   "metadata": {},
   "source": [
    "## Ley de los grandes Números\n",
    "\n",
    "\n",
    "A medida que aumenta el número de repeticiones de un experimento, el promedio de las medias muestrales se aproxima mejor a la media de la población.\n",
    "\n",
    "$$\\frac{1}{n} \\sum \\bar{x}_i \\to \\mu$$\n",
    "$$\\bar{X_n} \\to \\mu$$\n",
    "\n",
    "- Cualquier muestra (o experimento) es sensible a la variabilidad del muestreo, ruido, etc.\n",
    "\n",
    "    - Esto significa que es poco probable que una muestra o experimento proporcione una buena estimación de la media real de la población.\n",
    "\n",
    "- Pero muestrear muchas veces puede proporcionar una medida precisa de la media real de la población."
   ]
  },
  {
   "cell_type": "code",
   "execution_count": 126,
   "metadata": {},
   "outputs": [
    {
     "data": {
      "text/plain": [
       "3.0"
      ]
     },
     "execution_count": 126,
     "metadata": {},
     "output_type": "execute_result"
    }
   ],
   "source": [
    "#Illegal die\n",
    "probabilities = np.array([1/4, 1/4, 1/8, 1/8, 1/8, 1/8])\n",
    "values        = np.array([1, 2, 3, 4, 5, 6])\n",
    "\n",
    "\n",
    "E = (values * probabilities).sum()\n",
    "E"
   ]
  },
  {
   "cell_type": "code",
   "execution_count": 127,
   "metadata": {},
   "outputs": [
    {
     "data": {
      "text/plain": [
       "3.5"
      ]
     },
     "execution_count": 127,
     "metadata": {},
     "output_type": "execute_result"
    }
   ],
   "source": [
    "values.mean()"
   ]
  },
  {
   "cell_type": "code",
   "execution_count": 128,
   "metadata": {},
   "outputs": [
    {
     "name": "stdout",
     "output_type": "stream",
     "text": [
      "3.0034070781681743\n",
      "3.237477954144621\n"
     ]
    },
    {
     "data": {
      "image/png": "[encoded data removed]",
      "text/plain": [
       "<Figure size 936x576 with 1 Axes>"
      ]
     },
     "metadata": {},
     "output_type": "display_data"
    }
   ],
   "source": [
    "population = np.random.choice(values, size = 1_000_000, p = probabilities)\n",
    "\n",
    "## experiment: draw larger and larger samples\n",
    "\n",
    "k = 5000  # maximum number of samples\n",
    "sampleAve = np.zeros(k)\n",
    "\n",
    "for i in range(k):\n",
    "    sample = np.random.choice(population, size = i + 1) \n",
    "    sampleAve[i] = np.mean(sample)\n",
    "\n",
    "\n",
    "    \n",
    "#plot\n",
    "fig, ax = plt.subplots(figsize = (13, 8))\n",
    "\n",
    "ax.plot(sampleAve, 'b', label = 'Sample average')\n",
    "ax.axhline(E, color = 'r', alpha = 0.7, linewidth = 4, label = 'expected value')\n",
    "ax.set_xlabel('Number of samples', fontsize = 15)\n",
    "ax.set_ylabel('Value', fontsize = 15)\n",
    "ax.set_ylim([E - 1, E + 1])\n",
    "ax.legend()\n",
    "\n",
    "# mean of samples converges to population estimate quickly:\n",
    "print( np.mean(sampleAve) )\n",
    "print( np.mean(sampleAve[:9]))"
   ]
  },
  {
   "cell_type": "code",
   "execution_count": 131,
   "metadata": {},
   "outputs": [
    {
     "data": {
      "image/png": "[encoded data removed]",
      "text/plain": [
       "<Figure size 936x576 with 2 Axes>"
      ]
     },
     "metadata": {},
     "output_type": "display_data"
    }
   ],
   "source": [
    "# generate population data with known mean\n",
    "gauss = stats.norm(1.64, 0.15)\n",
    "populationN = 1_000_000\n",
    "population = gauss.rvs(populationN)\n",
    "\n",
    "# get means of samples\n",
    "samplesize   = 30\n",
    "number_of_exps = 500\n",
    "samplemeans  = np.zeros(number_of_exps)\n",
    "\n",
    "for i in range(number_of_exps):\n",
    "    # get a sample and compute its mean\n",
    "    samplemeans[i] = np.mean(np.random.choice(population, samplesize))\n",
    "\n",
    "\n",
    "# show the results!\n",
    "fig, ax = plt.subplots(2, 1, figsize = (13, 8))\n",
    "\n",
    "ax[0].plot(samplemeans,'s-', label = 'Sample means')\n",
    "ax[0].axhline(gauss.mean(), color = 'r', linewidth = 3, alpha = 0.7, label = 'Population mean')\n",
    "ax[0].set_xlabel('Experiment number', fontsize = 15)\n",
    "ax[0].set_ylabel('mean value', fontsize = 15)\n",
    "ax[0].legend(prop={'size': 15})\n",
    "\n",
    "ax[1].plot(np.cumsum(samplemeans) / np.arange(1, number_of_exps + 1),'s-', label = 'Sample means')\n",
    "ax[1].axhline(gauss.mean(), color = 'r', linewidth = 3, alpha = 0.7, label = 'Population mean')\n",
    "ax[1].set_xlabel('Experiment number', fontsize = 15)\n",
    "ax[1].set_ylabel('mean value', fontsize = 15)\n",
    "ax[1].legend(prop={'size': 15});"
   ]
  },
  {
   "cell_type": "code",
   "execution_count": 132,
   "metadata": {},
   "outputs": [
    {
     "data": {
      "text/plain": [
       "1.64"
      ]
     },
     "execution_count": 132,
     "metadata": {},
     "output_type": "execute_result"
    }
   ],
   "source": [
    "gauss.mean()"
   ]
  },
  {
   "cell_type": "markdown",
   "metadata": {},
   "source": [
    "Vamos a simular la ley de los grandes números simulando el lanzamiento de un dado, en este caso particular las variables $X_n$ seguirán una distribución de Bernoulli de parámetro $p = \\frac{1}{6}$ y va a contar cuantas veces obtenemos una cara en la tirada. En este caso cada una de las $X_i$ tendran el mismo valor esperado $E[X_i]= \\frac{1}{6}$, y vamos a suponer que nuestro caso de exito es que el dado salga en 3, entonces $X_i$ sera 1 si el dado cayo 3 en la i-ésima tirada y 0 en otro caso, entonces:\n",
    "\n",
    "$$\\bar{X_n} = \\frac{X_1 + X_2 + \\cdots + X_n}{n} = \\frac{\\text{número de exitos}}{\\text{número de tiradas}}$$\n",
    "\n",
    "Lo mismo sucede para cada cara del dado, y entonces lo que esperamos es que entre más tiradas hagamos:\n",
    "\n",
    "$$\\bar{X_n} \\to \\frac{1}{6}$$"
   ]
  },
  {
   "cell_type": "code",
   "execution_count": 133,
   "metadata": {},
   "outputs": [],
   "source": [
    "d = list(np.random.randint(1, 7, 10_000))\n",
    "\n",
    "def rolls(d, n):\n",
    "    \n",
    "    aux = d[:n]\n",
    "    die = {}.fromkeys(aux)\n",
    "    \n",
    "    for k in die.keys():\n",
    "        die[k] = aux.count(k) / len(aux)\n",
    "        \n",
    "    return die"
   ]
  },
  {
   "cell_type": "code",
   "execution_count": 134,
   "metadata": {},
   "outputs": [],
   "source": [
    "from matplotlib.animation import FuncAnimation\n",
    "from IPython.display import HTML"
   ]
  },
  {
   "cell_type": "code",
   "execution_count": 136,
   "metadata": {},
   "outputs": [],
   "source": [
    "def makeplots(n):\n",
    "    \n",
    "    ax.cla()\n",
    "    \n",
    "    die = rolls(d, n)\n",
    "    pl = ax.bar(die.keys(), die.values(), color = ['r', 'g', 'b', 'brown', 'y', 'purple'])\n",
    "    ax.axhline(1/6, color = 'g', alpha = 0.5, label = 'Theoric value')\n",
    "    \n",
    "    \n",
    "    ax.set_title(\"Number of rolls: {}\".format(n))\n",
    "    ax.set_xlabel(\"Die Face\")\n",
    "    ax.set_ylabel(\"Relative Frequency\")\n",
    "    ax.set_ylim(0, 1 / 4)\n",
    "    ax.legend()\n",
    "    return (pl, )"
   ]
  },
  {
   "cell_type": "code",
   "execution_count": 137,
   "metadata": {},
   "outputs": [
    {
     "data": {
      "text/html": [
       "<video width=\"576\" height=\"576\" controls autoplay loop>\n",
       "  <source type=\"video/mp4\" src=\"data:video/mp4;base64,AAAAIGZ0eXBNNFYgAAACAE00ViBpc29taXNvMmF2YzEAAAAIZnJlZQABUVdtZGF0AAACnwYF//+b\n",
       "3EXpvebZSLeWLNgg2SPu73gyNjQgLSBjb3JlIDE1OSAtIEguMjY0L01QRUctNCBBVkMgY29kZWMg\n",
       "LSBDb3B5bGVmdCAyMDAzLTIwMTkgLSBodHRwOi8vd3d3LnZpZGVvbGFuLm9yZy94MjY0Lmh0bWwg\n",
       "LSBvcHRpb25zOiBjYWJhYz0xIHJlZj0zIGRlYmxvY2s9MTowOjAgYW5hbHlzZT0weDM6MHgxMTMg\n",
       "bWU9aGV4IHN1Ym1lPTcgcHN5PTEgcHN5X3JkPTEuMDA6MC4wMCBtaXhlZF9yZWY9MSBtZV9yYW5n\n",
       "ZT0xNiBjaHJvbWFfbWU9MSB0cmVsbGlzPTEgOHg4ZGN0PTEgY3FtPTAgZGVhZHpvbmU9MjEsMTEg\n",
       "ZmFzdF9wc2tpcD0xIGNocm9tYV9xcF9vZmZzZXQ9LTIgdGhyZWFkcz0zIGxvb2thaGVhZF90aHJl\n",
       "YWRzPTEgc2xpY2VkX3RocmVhZHM9MCBucj0wIGRlY2ltYXRlPTEgaW50ZXJsYWNlZD0wIGJsdXJh\n",
       "eV9jb21wYXQ9MCBjb25zdHJhaW5lZF9pbnRyYT0wIGJmcmFtZXM9MyBiX3B5cmFtaWQ9MiBiX2Fk\n",
       "YXB0PTEgYl9iaWFzPTAgZGlyZWN0PTEgd2VpZ2h0Yj0xIG9wZW5fZ29wPTAgd2VpZ2h0cD0yIGtl\n",
       "eWludD0yNTAga2V5aW50X21pbj01IHNjZW5lY3V0PTQwIGludHJhX3JlZnJlc2g9MCByY19sb29r\n",
       "YWhlYWQ9NDAgcmM9Y3JmIG1idHJlZT0xIGNyZj0yMy4wIHFjb21wPTAuNjAgcXBtaW49MCBxcG1h\n",
       "eD02OSBxcHN0ZXA9NCBpcF9yYXRpbz0xLjQwIGFxPTE6MS4wMACAAAAijmWIhAAS//73rd+BTbHC\n",
       "ZWu6Vzi0y6uUND1R9pSmeLZIAAADAAADAAIRcKTdcx9EHWf4AAAhYALdjL7/OJ9PMDD33je4wDlw\n",
       "P2ogutGWNsiq1BsEK6+yE+TR/xxxI07k1U4TpGpBISKZdRZhoak9JmCah9SYy2dWpSftgNbS5ZTW\n",
       "smNhgSabKOTXCsfcAe2KYnXWnyohie8D8TIwqFW75aPs/1DQJuZ3cJbmDsYd0KYXFFIks8At05Ui\n",
       "dBo5vafFhEfL66MAPNyTVfI8KoixO+S0RyfZi5YkH8BaYDs6vCAc5iIRm0ru7tRulZo4Vh2jALRb\n",
       "wLv49AQIfC2aNIC1P8kUnWZC6XOLlGAWu8kdNPjTMmMuYfZkzRZ7a5niwaOucUsV5MX5LppVI/2x\n",
       "khQMh8VeNLrTuO3UTNyjHjoQKzPQkkVB/qBp1cSLR0BrCn+VAdoKfxQ8rCc3URl1EBOl8qvosWnJ\n",
       "dy/gCkoy8mGMmLfCe7TiIPPk9B5+AwUpY1Ye6x5zheXQOe+Z/Hhe1nIXaXD6gzH9LPAfKPIsrE6E\n",
       "Ii0bv5sc1WRf9rYQuLLw0YY8rDpubmtDhElJEO8j4XA04DKLR+vfhR6B3sSkWoobRNJ1yulWPBF2\n",
       "5sTkhL+IJzLpvzN1MJ2FlmeYnf7AhsdB0dRYkkdcAiPUi2G8TuKQGdvuD2kPI4G+39GNeWskMkor\n",
       "WxRmdU8jGiIbygNPxwrX52dWdBUbQYi1aVUBjfXy1HXxPmKUEGamQ63O3GeJXTkJPx4kSKhtbDd6\n",
       "TRZCDJlhLShVlaRauR/IQEAfMdOv6WVzbRuJCBtkHmGlomM4IpThrIgZPna1QY4F47K/PgO16u09\n",
       "W7DT3eNtmhJdghn1FXtkf1VeZP2Afwfd6OBTLhctNYi5Y+ICnzk+H/jfuCmlG25iZ79MBo6dOPIv\n",
       "5e7cwUc04ovuyPBcc+acLL/TVwL3if4PVycjCzaUPyJOFcX9OyqYusEtm5QsDEttNLx9yjoF1bII\n",
       "E7pTugFMAnz+ezOPFJKsj0LAb9qhXxjnJg9xvei3OXEhNlIKpRCJYq5xWYyLQ7ROnHfadBqxR17k\n",
       "dYb8bNjvFRyztK01ChMmIuwZT6z0DBsrbpsO/mYdQal38WWypAmNpBHBnOjv20twaPFoN/J1oBpc\n",
       "82m8/OB1foq+S6LqvpG+Ed4vDk6YyUrLMV5lh25EzAOam/T9laUhmcjadInXfQXBOxFb5iYmN9cz\n",
       "YEPEpS/Wmy94VhfAuwOATOd+F8RYu5oyzswHrMpr+O9nxhIt2gEUVWXDc/ItUGbtzjwc8+1njDaL\n",
       "rs+2DwezJsl5JXw8/7f8EOZoZ+JNo3jq83SluBo/bGhVQk0D9BZeY2S+AHeZfvQbymqSAzcKil9J\n",
       "K/yJ+SK9sVmldgr1YlzWuMaUBesWL10MgvseeBsPArIsoRqzElG4tVgV/K5xPpVk8dkJdQJvnZJd\n",
       "rn7JV0jBG98t7pNRkH4Bb3qKSHpj6JCDYhYhMCzJyqm+TENRL/vno8jpIg0tMq0NPtXZogMw3rcN\n",
       "5tkH51uTd1OOdEZ2VPIMl99H8g4egiPr3XeqnFq3JzPlZOk86oB6M8WYeAuBlzfdRC4DG1LsSkqf\n",
       "BrxXqsyELuinF79L8ZgCgKwJtQbDBc/sSOp4vs5f8hN1VcTHc4+6BjnWWvBgxtYud+4mtVHsdppD\n",
       "LpHafvxk0v4BKQRVZ9j4XYh08QW7PusDQBefSOOUliMX5kXxQ9R8e5BE1ksxaqPPSrmI2Rr3jl/H\n",
       "fFODgSpZ4FAN0CnxaF6eHIApls7nFltU9f1QBEChwZWLEWyVjXBKhvl1lRVRe/Mmq3CXs88cfVT3\n",
       "9mmz7JEC0OVGxXzsh/P2s0RXjX4lMX8HGXMlA3rS1cfER99wClyEaFDg95F/hA+aeob3IIkNnopv\n",
       "HSVWeVgLgTlKmm4xgCC3EZuslEtzcpy0cYt/r2vwjN2Wbiamk9RgNoorlfVVqcVkj9LtxcpF+s/5\n",
       "zKix67kMYBJEFhYvJUj0tBXuB+MvUUhMpgcthRs0nCRNoSOBMOKE3zH3JMUY/xmIzsUX+71OOy0B\n",
       "rdhPkhAAcpL+VDsENA81xw8t8C4hBuG8+Umrk6nqvxAC42z2+P1ojvQgP3utzy3dhjKSQz0mUeeb\n",
       "/TmmGPNsHAhu3Slk+M9s33Dhuc5gH1oQhRzW+uHM+7aF+C7/h5pztErvtUVS3erP9PlGKa+gU0Za\n",
       "mFx+s2l1CL7jtWTL+VwnqJdRgRc0YkV/p/g5Ft8bMEcdidxqxa3zd8AZ06Aw6xlQz1Jg1IzMDPmO\n",
       "ya4z3XWNSrAfc99rNG5S3AA2yaKa9A5uuG8EeAnjyMvHY1KUislbK/C4rpB7+Jar4sv0nzTO6aR6\n",
       "YlNJwA1CGmgTObZhJj6x8F7hf+tdrr2G2ciLvMTcm8O0AZElTxKZsCiBTUk6HUKQCr2UNrZwuNb4\n",
       "y/VKmZCQGhPm/RDNdehajqVVmJypLOe/fpmkLQAfKXrdSLQDMOE53yehP7dfBVusxaAX1SSFmquv\n",
       "p0wHY53kun7dw6SEn6qIJEoBM0fYunswU6bk5VzCPAdzoNgK9ptI9BpLLy8OOEpGdiHMn/JQ1CkB\n",
       "XfVCLitHzgVJOa2myG58JbMZuTwDv1RUgngD1Bby2Yv4T7vdiX2x7+GXtIE6/+2XL+5MWw9Y7EFw\n",
       "gK/PyYP+Owe/DEMhN+L7W/I3AkTr7VgjbIlqyxd8C/1reP5UIniLETToDo785CWxZAvo70rugo+U\n",
       "rTa6tw0O5wAP0x74fWASQkI6fTIZS4eDwlR4+R6jiEUWJYIlol04JaT/oAmq8FseDtP6oy0ccCDg\n",
       "6h+Nm//dBAB+ZY8K0/bMc6YWPqR01so+3tvFXEG7idFj4k+CHwhxakfhO0vbaQI2HTAVi8CIce0x\n",
       "fh0nOhlxOr6BN5Sf5zbIhGYYN2kBiCusdy6RXAwPlH9m2I1m7DsBzkk365yMwjPs6khJnSjgPC0R\n",
       "YiCTxezsThGd7Lf9PxqVnTOu+o7nL46D2cR9hR/N9YHm87/pHe1fwGu8eCv2Eeh3yiQkBUbfBtoQ\n",
       "85mTR3fZsTUhqd0KuNgpmBey1FnC6YvWtvLZToxyKM65vkUzJnZJbXzfrne98/+mbyh7+FxY4LEc\n",
       "nHSgJPcKasPto9yLiAIfSg3nfje4MUoBrc0FWa7goqrfxTWrpKws5LrZg1dkjfuzOkFaZ86Rk0Zr\n",
       "OeC4KcJkP2j8ACFQ45u3B/TjqlBN2ohum06lgUoyUoc5aPEWCmbX5TATqkFijXb8f+MVeeiiJlPs\n",
       "ideQXGGgEaZeuUFgiCsk+etwgIrIiIlPJAdWXkeH/4kLHGBo11HoUYvfQcozV4xovhzTaxqcIJ+p\n",
       "m/zoYhv3w2eDD7kHVnV3xGjMZWR6TnIY+3VjK0H5P+5vY2GqiHtkHOqBev0yPeGshUlgat2YD7U7\n",
       "VPgHl2MxJWU6YMfRAAJ75IRj9wgS+JRAM5dba4sMJly3Qs0T/k8GL63VF2SjKKWvGC9sJOkO+LJC\n",
       "yso/ItMHMj4Fn2VgNTlEIYAB3EEprq4u4vJYQo5NSL4BuBKWRTTEbxq/+7T2R12Ev1MTN5UYbYnx\n",
       "8lSRMs9TZ8Y0WD3MQye1eJcAFxmghHdALBGtknv39RyozEOCr//H1GZYgQlJvHvmd6aOmxJlgqYj\n",
       "Rnw/2+YlWGZsCtRAKauqFP0ja60HHtNKrY4A+qxauVmSAYDhNBvGaPDLuifWyG+AAMmFXgPf8lpK\n",
       "fc9Xb77YLpByYTl8WMbjy7HUmcr5NERWumDZECZhS5m6L4SZCzeinpbJgApp04XTAW5hrJZlw4JB\n",
       "Uu+oNGq9/pJZ5ETrlR3mEJMbJouPbGrDr9PKsjscDyghzQzioHcO5xSDYBcSTy20bf244zBNFVkq\n",
       "WpAdBLpra8eIQAoxkLemeDNGLnwa9VZ+MnfiHOfypA14T36es/vL6q4+h9Vvh4tJCwvMHy3lOHyf\n",
       "n275XvEtkPGnj3vr6vlVqptefmf7fHVTG7fhX71Wzlryn/Mm7XJ67afeNNzSUPDIbW2qYuq5Q14I\n",
       "afmyAR6i3uNk/Ky7b4uz587I7/SS5dtYHJOHimtQhqQKrpkJ2HQ2X5HH98BCfjmY9JIs6Hh9UfCk\n",
       "+En5hM8LKrO3qcl7AlsbZNYeMQs3QHt9tvEBrFnb2scrYQ+BRUa2ZjX7t6Xey1ae165u4Yej8BLi\n",
       "QI//UD+FhIh1RlA9xgUtDu5UrN489VC8HBRhaWE0kSEA+p+5Q8WXlVCdtpQP9117sfTGLkny77gM\n",
       "Gf/SSdENFuuxiFy3oeHX6oPfyZfThusV7MEiUVgOw1PJ7yBm0bizn8QZdW5GMmlDkt2j5lzE5aFU\n",
       "eKQQqFvEgGFxlsBo6g0I8ivU/7pj5mnJzyQUmTabWZuMe6ADCYRzkx5u8eMeTKgVwYOHiVu3diCu\n",
       "2E9yg1ykXtVnGKojT1maarcBxyovMUGizkERqBb3oSKpxzlIzQQojRa/9G/I3/xRgbuHFkTZerZl\n",
       "swu0KfCqYjqpWQ3wHv0bNHwasAe67USv38traKDK1XKY/4F0PQg9OHzursXa5t9zwMI6bEg471V7\n",
       "1iXgWhCJaws4BKPQzNRXv9hMo6EP/MNaVlosXHju/os3+0Pa1bAMbBLA6l0DwAxaURhEUi4ircBL\n",
       "W14PUqwRNRRr/2on2IxB68azuMSuXvsElUJNI+YJ4OGMIwtQcLquHRBwCgQ+JG4en5w9BBSDQVSG\n",
       "KaKfyYIJ+A3s7rphTfBRYZ5zHqq1s+CfODYQ1l3NsuANr5EkHg6eWUDPjN9SgvrahpYbIUp/FTlZ\n",
       "ZAaWfpwR7CI9bynbeYuR77FS79HJ8ItLmPAuGPNyBChD6pG4EM8BTrTt4dmQpYQL/9bucUa6CzUp\n",
       "nXyh9Y7zMI073CCULJmBqWSJYu11gGOiwHKO9Z6YFmZQ7ov6JpO4IBX2MjFNhQT2Os7RSdfXGNSF\n",
       "SONR6g3W/T/Zi8X2HNWfBxDodgNQa5dinaNi2ZQJHfHsDcGi8/GhZNc9qL6hCu3H0wcjZ2dr/xrd\n",
       "m4nRrftCom1pUJ1Bva/RH2iGaXJg0U+C22qVn1V4PZyU05EJcW/a3yQZHpeIw+5hu/+gB4f4P+//\n",
       "6xg4q6k+OKkr3R13OJn4QGQtXJbt3P+KjSYc8yjDKSIMgpX/554pn05NvM3HrSBRUHAUFHJ9J+1p\n",
       "uzqVhhVj3vrl2LTCccuTbpue9z5V87zy2gpJ0hSfVtBCc29uBuo6fOQB34D/ljuIBv3TquizDnRa\n",
       "sbnfBjwWOHF+a/MGgM7McFRAU5flD/vJCvZSSplnBm5A01L1wlO6zTMOmHYnNIhcfoorxJbwBNAq\n",
       "ZoQjJJ4ZroFJWQZSVe/02PkdhObXqbmrM32roWyUhHMlaKzIIk+q1GA30Vn2CvbQ3Ilt8ukURSqV\n",
       "swx66nTzXXbG87viDEeMo2ma8IDk5xYG9TOQDb7vj4hh5hGBF9Vl75XN6o11avRGDto/bYDOQjoW\n",
       "zPWMx4+PDjrL2xlButZU3LiTUoPIh33lydGUAr6XSFoulQ9ZM6MO9J6NvIYvFmOkuBmqlEtgX6Kb\n",
       "RxUQMoXK1wqBwDm38CpRUGmzkb9BV3n768KNkmCd68wV0rortB/1r2f775FiaSlhXG4sGOETYoRg\n",
       "P37DzgkXsXqrtIIALDFr1Pd98QkDeaQhOE+B4+8rRQoMz3aBSvfuIBMqdBh0Bw+PucI/6AnzsEHy\n",
       "Xp1YY4LKy2byD0ndAtdFx4MnLxrmRETLy4rDqGFyHw7/4qY9VGLtAvYkGtmfH/XTmAY8BSaPu7gs\n",
       "Mbd8Zi7wqcXGHW8BAsjyIodaPBvfl1h0DYHQYiVGW/WsG1+dAv0rHHEAAOFKPue0ik5yyRIl3VY5\n",
       "FyrGqe1EsTm/Mmg4q4krTGdOGExthexay0y5PX5rdE/HdE+rgq+d2xLNrfkwdl7tM4Ge4oNSZlBY\n",
       "sWdo32Bj8V9KvUtUoS1F0Q9BhKlkq73waQeJnsEF1ZoBsbNDBbSgn5ilS++jhJXMVz2kj9OEMIaw\n",
       "Bu6IYnzP6f5lRDzQyxlthTAgLorzw3BLIsAOtHQt803ddJcEidVulXDR+5ltwDa47FOJ2xYDuG8v\n",
       "Q7TbNAjMZpYqh46XhPkXz6ystdr3LvLDCsES9fJj4geSaOib4jJndut07BZwZFl5SSpYcu+BIeyU\n",
       "+wlbKS0zM2VyV44iXTeb8c337LchuEqYI9vW+3GWL+37oTMYMMR3DBL19o1J+PmFSLPKxXWaJBRJ\n",
       "xwNL9wg5S/F8kJWvpmm2mGaTupjOuomj5MxUoj2FE1eaUvkA0aU0wagApvJ/XeLgzlz8G4VCUjwY\n",
       "mSO/054BXLVNa3Zu1COsxOIV9sBi6L7nK3pgWYy+wAayfXY63rvwUrbvBUa1x2MU1tn/+rUgJIJA\n",
       "4EJJP3btPDc5hP/oeHSVMjQPW3gME0Opxw0OzWPhqt25IqnWKIKUZybtuWr2drSkzW2DjXG22yp8\n",
       "831peeDXEigWwG6BCbijiX4sNQnQ+6eIWwlTsCRsTwRz34yHDj6YYw1Z48+jnsUy+KRo9TcpxI8X\n",
       "aHHvwuzWncjQsJoNINElTgfUGv3zY1q8+3xghVaDcRqc7vNSepFY3eGl7vEoCo+LtBe+wPkVzlDi\n",
       "PF7W2DmmE+K7LWgJJfM0Qa06owlRkG6RgBP7qzGxWR4BZoE8gkSEZtyNPj43N9ixp2aAKOqyDixt\n",
       "OA0WYwZB/FA1lkfO1i1HrPPlUvWdi+7eYY0oEf6rSVSP0S0avYPP4zw3fbGeeRrUTdmNKV+r0mWw\n",
       "0fcNIJeuqJLy7h/rBNZACBgJac37bqPK6FmGuoo0UniQ2Rkp5oz643UljoZ5ilDZsarcBSv2bUAQ\n",
       "dpBTwwyt9inKw7BRhoikM6nkP+kDZYLfbRN4r6sMARbSvlwXly13LpTnyWn5sRCNtanntR+qhlCJ\n",
       "ufE78ACqmVF6ouFaBcvIEsLV3HVWZKhzGjZVPfUJaw5uLhEvdXpLqjjNSf/0zfeYOyHipmjsMZiW\n",
       "oo2FDTeURRzcPFPFHcbmz1MkSZ7NmcORfB5YGL54bC/AvtSyu2j16Vexg4DyDOf+pVbLZ1uwi+iW\n",
       "7Guk1DYwK47DTOpaPpiy0jA0OMXcMdD0LpQIYrA3BXCRtq+NV4oPhmhSzOCdGh0DbfCIbf+Bhs1V\n",
       "ajCEx+/5NrNx/xys4GQFEF4T71vbikpZ3a/mUmP8ftaRqvEtPQidqXqGxY/k/oH87ufT69lS7Vpp\n",
       "UBPjRLnN793JkMQDkiOJNcJtCG2L60JW8MBgRuOhyQHh2H0YhTpGzAGtyRsGyAoN7yymcbMCMP3d\n",
       "OH9MXbOvfSVXrs6L3WLG/Cib4Tt24CoPAX1aBpcCQ5yR9tAunyLe+2WYomYpvhAB3C7gL/Kk4Dq7\n",
       "6m2ygx+MHI1CsMJbft9/0cDFbI9PX9ySJ3mvn9voA3rR5YAHc1nPtpdKlD0ioBWtyaLIrAvZaTZw\n",
       "ygpiKil2cPnfBIs7JzrOD5y7QedlYXt5j2s3vP37kigcJjKAAOk6ED+4mogHfEHP/MnlbzhmmdL/\n",
       "r4rXTzTl4EaSQKRAdjWpgwbMtKRjSYbkqphwIlSiGHvpnHsKiQZkj/cKGJ8kTjQQEhWC2koYmufo\n",
       "ZWdSm/Y6Pf5gqeSvJ5bhza7kzfh9uKU3NIWmZiEv4uI7xnFTIfMwANfJwf5EDYZO6e+BE+UOPbL1\n",
       "4WhmtHvCqQ4Cj1R0V0QfjACQYCv5oDoWHQtkBTtZtSmlmqFJRRVyCxe0hh9kzW0wS1TTo+Z6bxtt\n",
       "jjsQPdX5gvms+FdBlKVKr4jfsVf9CXqNi8lUgnmk01KDl4c/4f3aVRLPvmCrO7AFcAxDa/i8gopw\n",
       "Zsh9KwWzW5nWFk+e/FzAD+BPD0gnjQHDQreHAI+sELzL0otNa/hwgK8lsP2dZ13eH+WMqrrF4A0E\n",
       "ztEadPLRZ+HPptsN4CJSoDUW55y+2ylmLmLhPUh+qxfpUsg81P9jObVOpQ1Yv+wk0aVjLL89nh+r\n",
       "5oG153ounMAd+thznyJMe5XTsnOnUhjvSZLIMuKo+R0SIM6DtfFdD3N+LlnXhJjpvvvVNGwPwRkb\n",
       "YGfLvt1V08MAnIHFGWomtIS8nJ0MttVuFvN7HXhWqdA0RHY9azQYebe9lnU7DmAAu0VA/DV7eyKr\n",
       "vzOKmdMx1KnrIv4S8Ive+jS3m6o3StF66ppNzlTbxe/4rhnSoMffNnQc7UGUASLO7Pg85JlJlSvA\n",
       "xb77ptpNthtlfYSIKIE5qqR53wCMjMM6e4ADG6sXwUGRtWo0pdO/FM6Mivc2BDEdXziAN2GrHX3q\n",
       "0MMObllOF3r6rUaigg8/BG6JFzvOLCKo9tawioxIzWNLya8sRl3UN+R4O4AsUSMu5NqbV949WTyg\n",
       "JVnf+K6KFOc0Qp8KYHEc6p5NuUEIm9vjA+p1f9Zuq+UNWWBJm1RKd/bQkkIiEni1CGzwTbmnc390\n",
       "RI3qBU3C64vo7w7GY8m+eCfNI6ZkV9Ys38b1UiYbm6wsyt9COLpv1zqiP2VEsGhQbfghh/RuvSO6\n",
       "3vAc5hHltK0t5aIne3b7w3iLf7oK6R/m1Bsc0Iy0Sd7/8sTUe8oXKGRUclu5YxLZhAqQwNdJRqMb\n",
       "U8eWf3HbBY+9yRBu0NocfvaBc0eWzODB6t36U6bbOtdcEmG5/7T4uZDx6e4DtcYA1mFsex5aL6tb\n",
       "Cn+Fjg1bjMl9NNQPGEv4CX+D3HNvzz00w/Go6+xJP/eTE4+u14el39C7Kiz4dAoq3DYLMrtGksRl\n",
       "vpQu5LUX+bta506xpNFN8jAdX1D1+WfkaUZzh9mfDrpj+mcrC0ugbdA0zOI+0AX77Sh9MnOYMQxl\n",
       "LSVnhUpXEY6dKev2kz4EDVdjRk9MS70JQenrcYA3aXMkilQAk+8nLero1+PI3GQqAjbXIxX/jR3y\n",
       "Q+a6OZKPKn0pvOsu76ZoY96o2v4YUuTLfxZAcw0RY90jtRMi1R8ap+krmmm+S3mJr6e5PTpyI9iy\n",
       "o5bjCAys1oIb6/f18IXanx/sWBEfliscepm9CUZq+H9/Qe0FCN1eObRNl4N4e2NZFpoUMymfkkuY\n",
       "HiDLk5Q3xwjqjt1CZ2Hz1RzkuKBnceS5nL4vfCmJ6+zyuG2Qj17Zn7ZqfoIAZu2G1TufMhGm9CR3\n",
       "xWJR0WXVTyXYzpEm7IMVHEt7iKWsJCc+yOU17G2HBxkJSQK2TopHVWGzO7j24iZY8D2xAW4KPoEP\n",
       "4T2hXWjaJO881BbF975yMPeWslselKVovQ8lm8XuoNF/7+3ICFHrWbbNhBZ2mZZ0n5Lpm/cfBv1X\n",
       "xBGRsb+bhviJOUsNzBir/6+4nFH6fxdRm/242UK209kdUsArmwmr4WAG/3XW3mtWlJhRhYT4dzGf\n",
       "oSWhcB6wU5QtLjKgrEr3e9SNEiYv41bv/YT5BWv38QfXhhL1+LluJOva3gpllUBjmtXFagsz52Sj\n",
       "eoFrnavfOnOVIxrwiih6CvEaavZdd4gC21Q8s6ioanIMn33YOGBhVUguhQsWp1s2BjpO+oavSrWH\n",
       "GwAADHnmMFjJ6VlrOatEjMoaX6fTpuDwQGW9ZTx/nGMQfyxCJhJyiMYojzi4U+N2ntBWi1whC5lz\n",
       "YquHWCBvLboxDZO4Kxa2zyqOQl8EDqNW/OJoBvZ7eImT7OWL2GCvcm7skE8DWzYSvqlmCXw2GBUU\n",
       "VjMOMUbVEc0HWEIrj9aCWpXpBCy70MMQKWfOxpvXVjHiE3YO2Lcr84yEBmEPlp8lZMBqSNqziNc2\n",
       "RENCakg5DSW5c1A3YsS4PuomoHyECtxmajegdEnTcYLyrCL9Dy0Tq7OrJpnkX5Qw4hTH3OHITuQC\n",
       "lHO69anv3qu7Hr26gNP9z9BuMiD8YhrH7MV5cHjF4ICv+pSu8YjnsTjoRbbZGLDbGcC91BOwfrie\n",
       "1Fev3fyIwGJc8w0vrvixfKRCR28U2GcMN3yJ+lzy8qtebyRsGAEki/luFOfPjKmu9Z2LUldstKni\n",
       "rx49DXpl7DgCDCELWAq6MLhDIC1j+vncx8IVvWA7M7431VfIBidYfKA55NwNs0t+tUUC66dfBk3F\n",
       "OkxOvqUy+E4U4w5UM/dpsI5x73OXILjJ3Y4Wg1F3OTS5NGVh/KtLgzipMarYgpDcjc+NoB/NnYq7\n",
       "2blzJXNL0o5tWHTtoIk+v1P5hBiQ5AHnP0X5B0gEs47bH5NSs/cXB9fvpHHCxrPABVTUS5xir5u9\n",
       "gVD6wsAlHqXetQZjnICBI3QklSsUb1/JHAjdi2nfd5CFSjiVE+w3clYIZJShTdnMMDs+bZOSLYzB\n",
       "rcyaD+weElOiW3TIwlpHEeBWlcquiquzrBfSuIGc+E8wOCVhIIt43Im2lt4x/yKkQcSFo3Fe5LDO\n",
       "67aS0Nz9s8GIPZ6SHQrK07gEcI+eMWhKu2gfdr8QstPYfQPge3z2lKI2rytwXG9L1y4b6TfD9tiK\n",
       "OFFoEg+NPwyhAD9QAjpgkf4VXw3H7AdEa/KbsRy8pFltNR84Q4suWw21GNYKeQKMPeDuwo5Q5j8Y\n",
       "Zf66CL+36JY+Jh6fA3g+ELwAN20ifVeEBcuuan5mNzZGFd8LGy00rFqsG0DRUr5/iSAD8WpXcB1D\n",
       "jfpp81e9nqoPJmJweCzFh4Tu5wAAOWCzWuD0n7BpPakdnOQfz2thku6EwWR7jOWnvjAgBWifDevO\n",
       "ITksgRjWq6+C72ErONlL4LjZpO9vAsfJb3pkbYGiDW3FpHKcqWdffVEAgpADCwgWf0XAYB/EiUV9\n",
       "fGdJG4r6LdjBlTOhDf+GDuv5kUSJ2kOR3bcohqYoqTBwOz/9CM19APbPxDY6KVk4HXH7yc0k2JZO\n",
       "0XDMTS64eoySp3/Um1yaZ9ccjsPMCuQENPG3pX96rCkatfRLJ27ACYZVIgojnMSE9CAuSAc8Xok9\n",
       "VLcjtzdwRh1gJrdkZ7qzsQwNWqBKdj9dN+EARQ7ezuqOyz+LuPa3aPGN3ATed2yCLlKxFr+Oy/6t\n",
       "cN4+Z2KMV9Ug9TIvpN5glcG6DD2V0lUVVqKkBYG2PKvlU82TrzkKkje7bqSzc1apnvhsEZE9nZ/E\n",
       "HxteC1aFZDjKs7WgJz2gG+mn55zvi//RPprtkfBOpq6vvKwkB213b1DP2Rir24hK6mkI66LyzvTN\n",
       "x2mzCm/AY5jthCCqkqsS0vjN3uQW8JSTgcg/m3NtOo95deJYmDT5V/+h/IvtE/wWVqjKd1sQdrVK\n",
       "GY+f1W6L4H31nxLiBf/VSPXMB9Q639wHcAAAAwCD8Ty4ffMqAVwGVEeyGxTUjf/wTCG0Imed/ThC\n",
       "ELu+erH6fmfyS6oz2DHcK8pMw2vEi0TzlfDpA15jD8I0tqTvLU8oMe66u3N6nyQRDxD+F9fHAwxi\n",
       "zMSyL+vGwmXug6qk6rYEbalC0TGkTxpoK4opUEiNUsjL3eWhpbDEpMWNpZpWLQJzvQ96JuKte7Kw\n",
       "ZRbDduaWPWkALhOUdIOjjs5M5/U+znJxq9AcBUb7qsQA1o0/3PDcIDHHm07AF+cTnaORhIcDOYqz\n",
       "lG/npLF3y9bksV2C17B9c3A44EaYm3ZjiGl9+2W1uWZfaHpx79zUcuENUMVvRFGhtkXTsPqntElQ\n",
       "x81vq9QpfdET3EZlwk5jNehOhxPh96HFyRRK6T8FJdCfn4iqbX5dfhHhT8tFn+3YH5+RUHgAxuAW\n",
       "6wH/KnGqfLrMAxpgYuNU0EqLTh1Q2wvNJLoNo3mhYAwMtnwF1DwbpokyxpTvclXwEyE6Ympvztur\n",
       "v9NXhNZUmZwNK31NBDI2aXtWhKrhZxLrEK4ukH4/aAboZY65y62stR20AAADAAADAAADACChAAAE\n",
       "TUGaIWxBL/61KoAEh5q5MITN5tVACFTgd10FqMbZX+JnDCwXpcmcr9UaPxSqF/msShWgotKp4wO0\n",
       "UJ8UNRVZO6p5+SJnaBodYHFyjXuCV4YKgcgiBxPKk8O2d7WhACtX/2oRz7btgxtDSaCBvaxlBT13\n",
       "SxZePYMrhaHQdFyeT/3rbFQW/gTsLIXDQnoKUqgf6LOOQfL1PipgF1467yLEN+WrBIlEhuI6XCtq\n",
       "jJMfm6IiR6lK/9j1RHjLXarh4wWrOVYcSH5bdD5UndfNdeNR/rdBJ+s8UYGJdB9d3nkJ3H1nIZ8x\n",
       "zrzBwfcCBuU9FFXSxvypkUe7Ub23EGWvkyOESY3eSNA9LDUF9YH9Pw9jEzm28gzHfu1tPDu2iuAV\n",
       "jXCEjxUkQrD8dyJ/ticpENrDAMADhEiPr0OfN3E67pV7CLKmm39K0vt4d3NCQdTXIrgDzGEJn2Ab\n",
       "Hqo7CoBZeFWPxZorLYJ9q9K1C+EBr39+ZiijUTRiiAVlfP0LLx8VaQKcQCrDaZFEjuirv+hhm3uy\n",
       "5U4wPjg7a+UtbJSpEYknJMH0OkHcma0dEcYUPZDihc1LEYk99AVMEeeBfJ9SoyEUDb4/ayBLLlrn\n",
       "04dx6z+vmPhwwzy2n7F0T90yq6fKS5kNMXfOAABWteTL4b+e0k7GATju14aCFuYNODrb8Sp5DuZ/\n",
       "2tkuPMQZprIbedJa2AE9GV5d6DhtQmDj6Gd0NMl9fsz//tTbNGF9hjUEirLHrCqVIZ6CFPnTFCpe\n",
       "XVsV/qJX5+E1anYaFf9p36QkcE0M9cQlv7/jMf1jNxTfbtALUlq+3VYdX/6QjWZsKEvnTQNEFSFi\n",
       "2dhH9H3FQ4TMmrtneR1VphmYvnwj21mhCQ3wrY0iqWZj73BaGMbxxx92TPjFiFy43Pd0Y4PdvJl1\n",
       "f3kZwx8VD6x2DLFa+LBnJEXMLMpd6QJy8iiTzr8VYiMsiKBZVrXKuxK4Qbya4vYdn0oL1WdonqYw\n",
       "yr+KXcgjC0ceyZ7T90OJkQrejDuMo/s0LSf7R66DNfPLkxkGyJaNuPkdxTgYma757hpoLi8l3yMY\n",
       "hBzRkWWUnKqeUq9Ic2ebGphggtMwZHhzvDUQ11mm+LBl1QmA6QmymNKrnjmNGj+wtCiDsZ4R4am4\n",
       "Jz9BPAKSbW9iZnIgenVh2P5NIW/YQJFlY3X77uPSU2Rp6l7Q8QawALRtP8d6iGhH/Bzv8sAIKxN7\n",
       "AKK3lWMmM0TL79SEkU/+re9hVZL5EH6YOoQfmiVo+I7DvjHWIdPSws8WvhDTZn4inRBeBPx9+nJ5\n",
       "2XOjM5scvtVjtOjuQtpbU3xz5sYFQ4YXSum6thVdeSgvyiUDNiZFKEJyAb0MpJ+vdrtQB74wD9Kp\n",
       "vB8yBA+J+CyIV+JTVEChwQF/PGkHzy/VlT1feL1KA1xuLqjMOEKdrXoV2x7jXGUu4FbA7X66IIOU\n",
       "ZOEQW6lG7TwxSQu/4eHDyjU7gAAAAxBBmkI8IZMphBP//rUqgASB2BAAQqn00bmWlHjNPVSyX3ni\n",
       "Rdysg2XHa1uV7z6H2E54o4nHOvhZYdDuHAwFyPw9RfoPk+3u0Mi8Uq8YVBeWqgTcKXtCW2waVy0D\n",
       "es15FloSWlOTfY2RUN0sNmSJG/eEfQFdbY7u9B2g5hvYrVwWA9Y93FonPWiOTZ8Ly/TGRoGtXHD5\n",
       "JQN9D4P82T3rEaNHGmQHptmjBXT/5ShSFhY9DAVRgBt9muGJHQHXMWwTtwkZLC4vAIBq+sBlyoRr\n",
       "JanoNcW3Aq5LpOAnnZrca/BssOYCVRJxt6M+YsEhPYtInFU4lfRpjQyEuWWQ3E5lPb1J5Av+wAMS\n",
       "W0/ueZojVubwMeD3U5u0Oqb2sWBs6xcHMu+vqpNhnK1dps5pEEMN9h5xfNAL7673iA7X2baJ/rap\n",
       "XISv1JKc5t4cDW9tHvw0gFt16y0s16fufYRfZR7f+sAnHqPzWqP80ZCvP06f9V8GDRKnpdvg54XM\n",
       "QTfYkRCLrBIIJZASsuDvI2tsKpHSGrMdRoRjfRoeaDpOtEmyq+Ak/asAKDks2MH+EjaZgAlJdUO4\n",
       "bdxLWsphf457ZPEyXmVc4ci1BzOd96bOOtO0YsaD93eukNdC4crNh7xRmQa40EBNlVQC7aDAE0O6\n",
       "d6JfJpR4ib1FIs4htAIGq90vC7qHhdScsfAv/6gx2o3Yy14oWCL5I4oEiqVdq3hAXhUUI6SWoUSS\n",
       "mzNBW7slS5ALFasAFGL9VPaTSoVUCmVS5cC4GBVN98s++ushd0AB8LD7cHRlnxXoADI5NbzNblyV\n",
       "OOs60v4cpJswejSCXF9j7Q8KjQkDGsQ6ALXIlzhdq8ImWmKj0oti6ezM4tgz95iaUZPy0qsGZucO\n",
       "fsCiLzIDblyRs8rgnE6KBvbnkO1LAzUAXMQNSv7GnmiygaJ3QnvGjHmf5dm0MkbViov78S6Ijq4O\n",
       "c8H9+FV3+2OTJKRoT+IuhCnSYr6B1VQPRSf2pfPh2oHrdZutVqdSX2tjv+QJi384+M5muU0fU3UK\n",
       "sRIA50osNAFlAAACYUGaY0nhDyZTAgn//rUqgASA3PPAiWWBVKACd06glMmfYgOwq1qgeupyLMzV\n",
       "HVtNvkCBJr4Kd+pVv7k7JbRptG+WPthcTt9uKeblBJ9vOeBUKpDkm3nP4aXuQ+uZfkPrxvWeJKbm\n",
       "EK4YNdNCcH/Fkw1EcMfRHviKxLsQ5Ym7LTgey/S7heh+uj1x89WUua/db/UXGFz9vgXHpTS6KKbg\n",
       "PPBu4ZltpkFDgsFCLEF/WJ1xRVQ/IzFsfEr9AmJAfx9aH3EkMe4BcPmRNsVqJ8dpgwAf9MUAi4Lj\n",
       "Q4wrnvPDWVNgfb8nPIjoQV5QKyl7K6fWZaWdYTRxD+jM+5PEOr8T5S4chnC8wYYm4HTtcdambkNE\n",
       "TGDSael3+190mLd4+nR0kBKKAqlNpi4hafEPg16ryxJXOEVxGKMhvDv41lbbEQI7vSh9tt+Qdv/6\n",
       "PxDEUmXZhhmg/vjCK3d+oVUb+BHtgIqncUoSGZHlECmlrWpBLceWI5Wzn8bKzqhXfhq1qslGicDI\n",
       "YJ0y0FKWhbMTNfbyP63fVKfAz1oG9jEA8GB5HIqt6dasS4JpaX3Wfh2l23GOn9dj7dV8VJyNxAeX\n",
       "MVTVyeotHITEBjFf9hAG2gLThYj2PRxwbhHK/q+JY+qrOQMM9XgEBgsDB0ySAoFy6CfkN2LkB0GS\n",
       "p8GNodHPzMtdp/8uluVJN1Y9mL3ZlQ8qV2HHVxOsmImZHXSCACNq2fPYSziRDdRiCrBQEXmJT7F7\n",
       "8ijEp5DYscUupREX9cx/mbAlXpPXlZu/Jf5wiXGQYeww3KWpI1xSFxFt9sksfHEOYGU1BAAAAq1B\n",
       "modJ4Q8mUwIJ//61KoAEgTR1ACxKWZ0TBHEt+Mdk1gn+RUwVLekSVRIQPAl8ps8sAnnuyuFVyPA6\n",
       "3/egybeEkvAT1D0b1CKXyDNlp1iA5Z7GXIfdxQKgYbbV7S4IZzjqfo7tfzCiGHwUhknRFsDLbAnO\n",
       "5pkR8f54JJcpuIwDiSHh7se6CnIfUzJvCNnVt54wD8Q3eERmW6avExr2g4lr4yAYKtIAadbEWF5s\n",
       "NoV/RKCqKs+rV6ApMXA53Pj63JXotFwfqe0cH0KEr6QRFj91tjyq9dr996eK48gVEThKezhsfzQN\n",
       "WSTt1gtE2zBRg2hZJ+WTxorSmMXNeCMAInIE+A/MJbfyuGvpkHDGrDRSSDd6gjBQ+EDR/yPYxMWv\n",
       "1qwmynJsLxdqYfxepdkMRRjhPWGISWHIVnn3wWWj6TgGC+SfSf6TC2rCEODBH55dV09xRMxZBQbj\n",
       "T9WO9Qv8g8GNG++6+aVcWl6NZ69lyfwnXxIB22pv0tq6tIGS86hiPjYxNJcTWkc0Ku+4UdO4B6oN\n",
       "wdWRMbw4AUL82mpRs3mKo8uLP/HAGo2KCrdxVPAjQ/Nvrf+i7JwM86NOopYpSpOvQZbNIZ4uco4a\n",
       "P9BSoMKFg5W9A2Y+ztm51kT27rSAFuiDpDPN5/wHjIPz3l3thsfEcWm3BztutnrpXKHGmmqJA0z5\n",
       "v0cu70zBiKsdKypVpqibDHHA6H5eCqOmP3awqHIIuzFNSkiwZgnZit5Heffd4yLwxezYlLZZ3Ok6\n",
       "LfPAk+Fa55Vw3MdgurgCXJgggL4OmKTKC+hSc0Ysd4sT4eNwU5/DBiPmRnMBFTucvthV0eOIg6PV\n",
       "RkgTiPMNXvcftHYnGjIafFcIq3SRywVyg37l1qF3cf/DcbjILDA3faWO94zrQSzcwA+VboNxAEHB\n",
       "AAABIEGepUURPBD/AAWYyS2qYvwAC3hvX4oe3yPZEIp9i5pUn0bkamzzNIxyDMoeaZTMuzk1ySvo\n",
       "7YBRgSTOxjV2CNzihVDwk9obV7txUa/UjQsibzV3XJOZMOeUIFWmgfZLSR55SpqLfpcv6uEqnBri\n",
       "0YokpU/dCqmvwOqR7eMO1btSnaBa4usXW+pFz+OCDMlWF2kczua1cro1k60KhttIx8qhpj6/yZSW\n",
       "JeWiKhGcwxcNXdpAR8qC42YXkc+v/6T6zfh/V9zJtVXFvK5ju5x25766LYgde6vOb/BGyQWk/e8z\n",
       "/irLBtwiniM139zvDxYidjL5AWYxXAWaIlf4ueiV0h/oM9bDdzM8L+HOzooSFtB0fwsSpBZuClgy\n",
       "XrYAAAMDZwAAAYgBnsR0Q/8ADI38VACWkBXnXFbe/oyCU+Ji0VLRSkjpoUjV3gx4b3jQ1Tm4JEeF\n",
       "I5o0zSa6LSmdWs3KKLpTmRAo3wc+AvJ+ug/P2L2UHahrS+IHpqRNs8G/0gmP6BOdiuUKmB5sDFhC\n",
       "f8/+P9vzfuiwqfhu4puvTZVaaC96iRBJ4e4nBB1jINAM2S2juVkdW6qWXn4QCNTCtsmhJ1yasHS5\n",
       "JGRixv+ZTxokfjgFLe8N7slSJhjSjxuZ0u9C+ngp/1KtCYctn0KwDLwpIG39xZ0lbPql4avIKm+L\n",
       "kxkSheakBwErweqoL9nNqlj8ho3NKueeok81PW/6jdI3IAZ9r8YddiRbI7F2iU7iRkaIzSq9ueDo\n",
       "pqU9l0uyh6+W8xBsIweoywS4tZEWgbj63mYvhb7bIEzdiYNCbLpj1ljs4Bh3DEiZMUNEXnY8vXqF\n",
       "C7eoDQ75vdpJI+jPI3odWJTkksB1UZtE2hildf77nmTmtLBQkdkeHejVwXNWLUGatHO1yY0W/6pQ\n",
       "AABdwQAAAUcBnsZqQ/8ADI+ufABb12TpAJ9WTlFqaFsZy3XCodeKMwD7/cN/2Y37NUdy3YWsu/qg\n",
       "z8DB8WSCZwPxCE5T041L4FeE1Dl/TR+sVFuzy3rKK/F6fPP3Dd150DkRGsEwTx9n81YBUsdq1jat\n",
       "aVw5H0NGV0SfrnOJcvlI+g/mVBuX0WkmRO5WE6U21hRiLunyjOiZGWk+cEcBFjABH9eV/CG5mqj3\n",
       "CBnV2w0EJkct5Dr6AFyKHdSSdDdzUJVeUaigbGQziTcYemgf365f5noPEOXND1m99TEnrE7tWDaA\n",
       "o1avbqGvZAAlcl6uT+pnO951jSJ5EvbE0S/DYh+WTB81yI6cRbxKfLckEIBEEU/3+58twkJsIHp0\n",
       "ymtFeFuTg+1stusQHhQasOPqsXQUKkCLIWYNh6JcDIlE0pLgzCLY7u0Fy+bPV4AAAdcAAAJLQZrJ\n",
       "SahBaJlMFPBP//61KoAFcI+W0hlzHroiqFAKTnsrYeuw2fdPRU/DLbz/cls/q+6V/s+A8p9DRaOb\n",
       "NDc1ioB6zKe5BUZBsI9WPP5M7OrpK7lOchxJ4BcyTo86paPC23dohNRfaOlt5RP62n/Yk7+/ElS7\n",
       "fc7/A5E8pLrmmXapyharR+gjp7QEicK1NeZDfb3GuLlLKGMVONz3v40YcLynGH62u2TOYmYGT91C\n",
       "/HOjPAy4jN50TeZ2/pwJseWSK+Bmqr/3cwJQ0sV6HeE/uIN3pWJvT6lPBnRjnc4DblBiD7RsMMxt\n",
       "3Ax44+xBKx6/LXZTg3ICX1JO2W9D4fTOy1KNFL4bMiAmZ4fIOwxc9iF22a9k6megDGmHZeqe0+85\n",
       "BuYBA9HpjLo2Zra4vd+TjCxNYZn4GRH7JZXGcqPey2+r3HTAHCtAGif9Ueki0eYPQzPq+2RrxPz4\n",
       "VEe+nONLPdxJ16fJ5C4CgB6JrGDBHvmLb4AxDDa6irc+W9XqicBk01IFHLBsCpEW4so3pRyWZjCO\n",
       "EDcquBCs20MxgKs3kM8YIy3EBla+rpiGjAMhfw5+0ISyghV9na+Id/5HRugpBTDj1FH/x/wTxsXi\n",
       "an/mtSGEGtZ/+6rQz5YinbjSixnjns/AW1cPlqwufHKrX9Tl7c+ScQOut4QRR9EGgO2OpppBUQxe\n",
       "q6EFO8YR+Wbtt7D6Ezy3JEL8fsmX/veST0ztDvwsvUTuRqq78PFUEh4VkZAWo91Dcn7UOyXim8tU\n",
       "GRYCUZgpUxYwBRAgB6QAAAFuAZ7oakP/AA7XYyKUWvAxbh6ECEAJaQFWRr8X0TFyxHL4aV8sc9oL\n",
       "2DIvIh2cSbqwY9y62TNWmhuZejulk5dAoweOXGZogUYzYNSfeluH3HTlp8JGGInIuGcItkV8c1oJ\n",
       "ql6WXQabtPc6admVpYSl/rwvBM2YXgEB5vv+i/rsVNxgHF1FF4S3N4v+0qAnYIIdAzi9UDcaAtdN\n",
       "svZAcuOoRMbVJvRIxtS3X93qFqgrD9nJh7jHpsOmbZ1uZ8UryUuD4FQ+WzNqa770wMYOBigAaaPW\n",
       "Tupw92u1A28dZ5cfoPZWfKsWn20dPOS8+Bmos63efxi+rm7NW+hAnsQPYNCZyavrrmQse4g+9FlT\n",
       "9JLxv2e7IzbViwfS3Ue1zWaKQicfGIn+HCa5x+DdUS+77G18Gl6XGUCWQocWkQuMgYJVcgBjGoQK\n",
       "Ny3uFmvNoKXCK62hPtoV2u32E8ekVVqkq497Z1B1aX2SofMgbPqAAAPaAAABkUGa7UnhClJlMCCX\n",
       "//61KoAEgNiwpKyeKsAEPqBxZvDOu5FAA+FxLbUM/WcrEBSy/fKXLueoNeCq6jElIODi/IEh97uy\n",
       "SaADOgQmFmVHNHTIXd/PC4T7WzeAaq6/8BS9s9h41DNi0DsrXqJAzZwyhbZlPIo9EEGjFL+m1ZnI\n",
       "5oY4/c9vwGwa3ZrEy+qp3wT12Ag4uvdkYkz6T+/0aG+Nik7TxGcy05pQI2+m9dPn1rJ2TnJMT083\n",
       "AuX9OO1S59ot+V1z45jMNaJbQdrR5CjdjNO3YZR6epT0UnzzqEtcd7STp3LRq5XX9xRt6te/AzYU\n",
       "iCu3a+gO0di/owTGPLf9WrBfBpE5dESPHQesbqc0af/mQD5NALE6Y/87LNFvADOETduk6woESdbj\n",
       "swhcH+gpxWju/119xZ6mZ3UrLqErEexyfO6Ncu4pejEoH5ufEUvGPQJe5AEgMo3j96avpfHMUN3y\n",
       "Y4Qsqdt9gtuDkYrdRaYpGdERLCWjyMGSR6SLNas5TG1VVx3UDmjIpzcLWw5YAAQtAAABoEGfC0U0\n",
       "TBD/AAWbTh0jaljQAJY8f81zwxAP10kf+7jhdKW2odr41ZfTaZXxBoCTO7jmwIRcYX1gAHGNCNMr\n",
       "faV4xX+E4cOWsN2+thAHC2UDrf14cLns94Se1mNW31K9XH7Agc8N1Pr55rQG1WLaPjo0b0miS58F\n",
       "Zw23ZwRr9xmbe1UVuXoGFnHqFPe26viWBwKb/cqMCvm/CDPllJibhqhY6i08n+Qsc5MsxlxAtyd+\n",
       "x9d8dYYFCs4JpSkjNYpqK5msl/aNIcntJd6rIhT605r74fe+9wCrhkSyaWb4R8y3Jvx7dJ77Gjzr\n",
       "PWyf2taPUAbFcQadnaTifxgpFReyHkdkhsgA6oJOG4pg4irsFPm1t9z7klDN7+cMHWYKUBiIuH99\n",
       "2kLqzO/Ja8uH/dk49EEOcPu8CPyLxxen3GaS8j66auhQOOIVillgYtth1HNP16ulQr/jMvb67wSH\n",
       "NgiCu3yIdrv6b2vQiAvTk/s/6P+EiV7+9QWlux0B/vR5oDQrotlUCgOzTL/QGBuxIBFI4nL5u0f2\n",
       "8iwLHJ089dIAAAwIAAAA9AGfKnRD/wAO15/DLwWNgIZZ4Po96tkrACWRT5GxpPueiY97Ob0njIa1\n",
       "n+WjddjVy+KD234hU6B+W8QBO7NjO4LdovVWDhJqPW1Es3J8WtYM51G8ddFn/F9b8YmaLJdTwH7/\n",
       "cnhVFjh68AFaJiPQRmSz+XdYxxdGkn7i3I/5Wu66cF/sFTNzp1uvrskwFo7IoxGa73znWz65drUd\n",
       "zbuqBqSaC6URudhahL+q/zMODm8hNrAuWhw6g9biP5xzcicyybVkxYD/ejtejHHanD2PFwHdUW/M\n",
       "gTA0X8zP9u0Pr81NfszQC+dAgJUiQUMht9TTdwAABBwAAAEBAZ8sakP/AAyMnnmYASyiDrLri9UW\n",
       "4qNgU4Hv/E7Q6ahEIyaw7mW2BVOPXeok3/7oVwxPK8cc631jcZcpmyZTORfLCtPJyVcuVVOPZ3+B\n",
       "l7Go6EwWI+IvsiQhlu136C2v/oLOGnGHuslfRyCSJjp6CsDwa4S4xyKCjaz6EzVXPJkAj4ScvH50\n",
       "nmjSqdof+Tt9Zyed9fC0hpxASiUW/tqPjWLTTgKKM1suM7l7oyzAeHUJqLm1xZLoKbawQ3prRr4K\n",
       "yElySmihXf9xGSYrBA5R58X7mwoD55rTYwv2sByDwMG4QMIRV2ZoNwkJKM+CU4WeWnGwmJ2kdPTa\n",
       "sCHB4MAADHkAAAE8QZsuSahBaJlMCCX//rUqgASBKKtgBLLjkg7WGT/5RcC9xMG8Z7OkIUGDMh3f\n",
       "6/CRM2/l245zWPs21jgIT0Qm57DV9i9tRNbPppDGAS1wBY4I3LQ9sGv0MYnH1lKJQNDn2ls1+04N\n",
       "C8vS8dTQ3RW8HJCWuKhxUstrYn4dTdw7NMNi8VL/q5FmuOdWsCVaYpPWiKCck1JaASzDDtziChGA\n",
       "C5J7CO+G8JhHR0BPXsHAfERz/xRhF8sh2LbLPUIOKA0gxx0HVFQ0GrlBbZEKITyGL232oW7xGiMk\n",
       "Ht+dTprg4kt/r+1scG9aPSPPcWSJKO8bwn+m5Ff/3s377zKQTwTopEPcWJE2mnahYIO8GzyoPDOj\n",
       "XI4bwuBDbHY0qMZsV4gP4HF1EP83SJ9sxMqP0mvEV5SmQAJ0WV2mBiA6YQAAAXRBm09J4QpSZTAg\n",
       "n//+tSqABIazWyACIDjsTkyOjY4o6bCja3l4BtW7WK0Mln9W5EtxjMuLhIDdV2ASPvT7cGZSduhV\n",
       "j2MApadWpYDfeIi7RjHqtO8yCQnTiae1yZLKumyYaijjH9fFikgHSXnbCr2XgdXTSzsvguEAVsya\n",
       "WRRfHyLUAVwoaOm/1t4ei57fJ4H4422dV+3HWiU6qH+93e/LtEr//lPLFNiNvYijnTdi5K3kvSvF\n",
       "4UeMVyVb+Sr9r2sFktOu0R80fs/gI8rMQ13XTB/uIy7eAJHBhxYWPMcfDRoPggRfNktuX7iQgKGg\n",
       "4W7Zl7Tp6Lszolt7oP+koVaTgAnyx/9SjV6fuitH4Y40JsBkAFC/NpqUavgAzRDxvCk6ir3v+f0N\n",
       "wvqlTvcNjL596VdRih74jlvpMR8uF8g23FYi6oyL2/quoLdfAyXxhsncctXx7sOhgtOd5sdO1dzG\n",
       "TWNJKbjapHtcRmeAPQyZnAAAHdEAAADkQZtySeEOiZTAgl/+tSqABIHF2wAbSTxgL0r86yP/+hZM\n",
       "tEjLuN3TzZr2liNVOvX7gZrSmAWVS+hJN3aQ2q1I/zghpkZtJCrF7pp167c0XZ4WgxKnNEXcgPuQ\n",
       "3uiAngMO4hjUGhpCFQeqHruUrjpjFuk7El5E2yOoYGXLNOUguhdiN7k54PnQtiTz1opSYY2Rm8sU\n",
       "pB/GAbFvkMAAAAMB+kQCpbtp5ld5ZcIV7ugqn2uDm3261W68hO+KtCS0/uKHrPAzAO1gozIj8H/p\n",
       "mvBor8lwBWB/MJXCBsaf2kVt68AAAG9AAAAAtkGfkEURPBD/AAWbTgRxqh5IgATrbUQsin1pGqIB\n",
       "jGKbHtA0axalhLcilLcqBZchbGclahBPFTH+zlCmf2hN228PPH3D3bSvt1lVMbyrDl0BKG6r8etb\n",
       "dlv2C/buEkvixAj7Gzbiu637rbpfkGMN1VvUrq90mFjeABEqiO3IthUG2gLpcwq7v469zKIMdt2P\n",
       "XNUADlOUt4mgqHkSivtvSUjcVjTO4jVAk4L1qyax2VvPTbZAAAFbAAABMQGfsWpD/wAMkGw7ABbq\n",
       "HiM8bbCPx884KGZtc4i6dXKAeR+KHEPlpjfi3hzLiwDYY/vhOYF/0b0N+yJj4dfUUqgHv+iXb5r7\n",
       "KhsXhSAA2+9u0Iw9YcvpXmvs5paMXaYs8owUAMQjjvShndop2wHoxjS/468my0U9fjmIvhuQtq2n\n",
       "xz8jjJcsqY4utoHJdHtx0BiTMmjGRgsR3xgG3ZfnnanmVBBQq4pGwsLcpjsZwdzRfakyiFVnOfhP\n",
       "phXveAKBhPpGQBzRcg25Vvd4M5e6BneLfRLndmnh1Tcg/7VVjdGTAlauzh152TIesHCxbKVdbzwg\n",
       "zYIVS6S+bZxss7Ocj7kMsrRujI5QYTnPPhBW5zB+f6EWY0vFuJFdxdiK/wLr9x5xSH5byshCAleI\n",
       "FAAAAwHVAAABk0Gbs0moQWiZTAgn//61KoAEgdgQAE1HHYnL0nyTL/UCIdVLo568AvGbfhxwsFRg\n",
       "UAzWNCw1HReDiXLTil531zIVW6GEvcx2Bhtm0GhdtQntdAoBiZ9ayu3MFMowh1sCGMQ1TW5VPRvA\n",
       "dBGuzSoXura81FgFB5GstoUJ/cGhBqLskosWIzS0JFroC0Gvy5eDSdh+xek1PlVVoEO8bPv3neVe\n",
       "3pZCfOS8dBtGid6axlK99slbUUizCRq/mcBkgWjr6HMvnt60p6tBNZEZCQPIZs7a63gBmEkalqUI\n",
       "8qSLFCH3rzich667SFiR+nW8G2+51TZss4cLR4rnBxBL79uzGePaHVEn+X7v3JIlc0UGNJQNGobL\n",
       "2N+wzkuNefplccOyIQHP839hoUSLMwYyWjrHTQFnzgS3zz/wwlP3n9FiSmaHGmd5oDliroWc7vaS\n",
       "XpqoiqSfGkJIGAfB9pJkTbA08Ke4Zc99JBBokTSBja2mR2/fWLGTbqRsLKrxlG90yj9PKoLwriio\n",
       "OgAjP3BNSwjzhqXIBzQAAAFfQZvVSeEKUmUwURLBP/61KoAEgQW509GwAE0/VyHLluTRjpMCERZ8\n",
       "4slbWLDwcFETH5nLTLSZts/zWv4t0oIfjmIkcJdkhcfOmbDO6G55j5CwCDdf9812KjRoZFsWGjkf\n",
       "MMYXPkchOWSPU2j6oB4FE1tra2bol8cFO0E16/IjqjQORdSEUpRVxy/LUoWhVWOyuuuuIdS0PB+i\n",
       "s1xoHt/V6UmQBJXk0MXwzj0SsnNeuBwEERhhnzSfEa6JeN93P8gaLvz1MReXBbdRlYPBMeU44/3L\n",
       "TbAvi7eV0SybHfdAU7gdE63diWUX1H4+XeU9iLVCIBsCd1ChVFeo9ldLhk2sX/s9i/B8ZHuvb6Jg\n",
       "yw8EhrA/tmCP3fPXHQDZM+lffUNcTU18KRl6qnI54kKSAlHY8JGGuXLd1WkoUgGZ2hPej05hfAaw\n",
       "LI2PnfqhTaQqVfXkubNj9ob0EHc2axgAACygAAABKAGf9GpD/wAMgQAf6fzbsAJZOcnVNYBtpfXN\n",
       "SqXEUivWP5OO1bDBR8cr7BwIhxZtSK6u7O51EGCHpeB2ZW9+CvZAj4pP5sBlZfeedg+k85x/BiQB\n",
       "MJvyxg3aHZI5QF9ZLkGDJ9XdKo9ZbBosS+20hwb1wf+4Vk6IBWvCkGIsg2ORj8kNkenPXLvkRxF7\n",
       "J4b5EwVST6UcdFVtLSpvVWl8Z4eE6gSzcQbIaU7Ex56jL+XNkKM/c53fOHXtNuzm5wJJ/j1Qc3m0\n",
       "3buX2u6RKjrSxTg3Z6hq5aTRsbpsCIPnIMDociKh5MYLp6J7Svdppkp1Yvl3fHqsmplco11rMnvT\n",
       "FFFMvylmuOyLmZAxBloul4V67JelxJcHjvYhpZ/TmwN2otF7AlwAAAQNAAABYkGb9knhDomUwIJ/\n",
       "/rUqgASBByfGMgAnYwkZjIzg+HLGmWzwemByn/FapKlpev244mtkqqCtuz19INMudKJX0FSbIk9Z\n",
       "49Fr+bCj9+IteMAzb2kJD2Hlro3i27g2Tl7URqZwU0O/e1M6iEP+kp1TlNDHuVOTsk+9bVI2S+/Y\n",
       "mqrCdnHB8Yvk8gva7RTiHoyFUjIaxmLeFqLj7OreishfT4CUHUHEhkXVqzK/CyFC1iK/ZnLYmiP9\n",
       "aJUCeG4B1L1NVJkGDISx8VaE03E5lFL6OqUPHbvfNQCdgB5gTCnqzlLPSeo2SYBjoH/fn+53VBJD\n",
       "UKXtexiBrHkbL5nHzMrkFCAIIGqi24X3SPP77bLliMkDnhefvTadHhTOXmUDTJfPWCPXGsBjKc8o\n",
       "Q1ifSvjC2wAFjDkEvoV2CABJjVRbrOwmnbzfDjew+FJfxAAiN7KotjAAAD+ujQABHwABNAAFMAAB\n",
       "TQAAAetBmhpJ4Q8mUwIJ//61KoAEgQkRhy6LTAAc241Yq4KTrAVScEOAI6pQCt8Fu1+IPIKyYkpv\n",
       "UHJs37vLBa4tUzPf4mY1TaHtwRT3BjpQUdz+INJkeD7VUq9z+pX4Sb9nEc1ME1eprvaippd/ku3F\n",
       "gxyC3AQp0TUt5yzqGV1/6QTYviHWeeOklZcRIEwQ+1zGNlIw25uYmZKDn6eTof/7/N8h1UsH8yMO\n",
       "XGR6AwNvhNpkDkJHsvjvbLQfxQ8h1Wx6QImq3hHr8q2uDXeIFUcwkj48MoASRQcQ9sxPNYSy7yMl\n",
       "QuORAsLCBKtac5mcY9rMv4xqyiXnBDDMD60R8l/xeuUedu1VkpreK/QwBLGuO3Adr7UCE7y/DVwp\n",
       "UPjcOypbCuL2Y2SzlUwpuqYVRKDmsyhzwUbEk1GSKtKIM4nIOMcRM4lG0v0TPPvjcEabPbgdi+hA\n",
       "AB9dMORLKAJAopHBY6skiVIoDRRhjohYQtSIaun1mA5PUK0U+q0eQ6+HxKkuylnDBq1Ub3XzNNnV\n",
       "wbhBT4ujEzjJl8VwUQ7FTN4Al7N6p918rcNW445OcTM2LZG1QeOlLgFY6ZMviYXo1Q/ghg6jrso1\n",
       "rNja9+SsS6+QyPT99aPgU+aVes/G6/YUu38PVLDIgydCHN1OAAAFbQAAAPBBnjhFETwQ/wAFpaOn\n",
       "oAEsnniTI4mscP4bZ2v6udO77RaHdWrs7gdKFeQ9/UIbLS1nsz0GpodLS2+ETXzxVR1j0vmvq0Ol\n",
       "XmtD3pOJ/T+DKBfGXBiUkYhQIy5sAd3s5USLfjdfLnBjrHknXIRGQd2x4tQ+ec1VbUEvuNBI2JMx\n",
       "1k5UhVJjIz0D6cEsKXN51ic2oTgze1a38iFcURLphEAqWpfNqyTRTvzDLCDyfvNfMu9b44KYEr7V\n",
       "OQq2WjHBLGVJ6e0ginmuMVSJbPtEQZdwQqQadnglW2na0UgBJR3KvQzXZ0+txnb+BwxLwAAAEfEA\n",
       "AADkAZ5XdEP/AAxmrZqdOUkqVydgA/bZ39CMrty+u4RUbBydGDYMDR/9wDPc4HX11PUUKXALGnCO\n",
       "NuO0RF2t77slrmFEZCDoxe15+qlalq8pD5h9mjj5gCgrQYzYfXKcI+m6jwlnCi7GgAAMoFYAEbxt\n",
       "AAEkZDzHRF/9NQ2j2W+Xrh8nTVUkSKKOvTQEjuauGG15qUjXdE+wjS6I2GOyx8v9qsC0a1NkYV1R\n",
       "ejKx5XnLuMr3QsogpZEHv6557MP/z7geWw5r5FYAd7EtGHXvYuFFRMR9fk3cblwt14fQmPgVlwAA\n",
       "AwGLAAAAyAGeWWpD/wAMZ47MpawAfvgu8EgYITu+k9XCo0KeYJjk8XPpMjQiSPtQHZaF4+pe8WE8\n",
       "DujDVeRbOuDwwdlf2TnTHUH0Zu+XIRxW5sfRHth0D/I6c9dtW88d/6qhcdSQrSnH+TpINFj91XS/\n",
       "UQpc1XTmqPF1CdpE91wMXP4M9HZsCw123XCedbqDjbRS08OFl2OH8U4vZceuUagqIb2vP1G029Ys\n",
       "7O5v0hLC0mBdFMWQ1ObLqMjGWldEPSvC4t6KhRnLAAADAA3pAAACPEGaXUmoQWiZTAgn//61KoAE\n",
       "g+ayuAD+P3cnIOjUirMpMwWc8W5lLPMXqPfYstVEGfQa+jYOuNkkAy9p46hP8aXbOkv3ZmwNU0Lx\n",
       "gowBq5MxZJqyRnQ4Toy2DxiDZAw9e5kL2Oyzfbs3Ph9pNKasNaQfjOC/xwUWYhIWmFpb2sBdZuRb\n",
       "VB/mz9KmsYC5kvF/yTDXm+X6G81le/o29AlpcqIxj3LzpIimbCzcJFuSyKjW2jMzLoqfLhjGXNN1\n",
       "AUojQLYDkBIC/aRZKFGjlDJZ56WgfBGTdBqIAUV21wHgxz+Q1z2LCNEO/fuIlMHoza9QqszCACBl\n",
       "9ShB3kHANpBgfzyikxtDZxtEgIfT1kzdAa1fOFJTZVhQXZM+W2aaVAB6zDQR3RpkgI93NeIauWUd\n",
       "BGIZa5tc8+BPh2gGb2NSZAvRlCqBoR8LGSxthAophr4l8MOBeU0/ObxqXiNGlx6k4kYkf8Ye5BgB\n",
       "S4d3VqwFfOCH4Ejk8wIqUtcOeiTsv8ADoGBax22mT+ECPYXE4KK8MM5orW25HOb+qpjorPwVfu7l\n",
       "yAl5or0FUxqYvHgjA4F9wWHlWukLnuuOI1hv9j0yBtvXP7/FpH7qd2+FTKpTstVHSswtcnlcBVuR\n",
       "fuqyvUbk8sGQ6GA9KoXQzvZM9370CgmrUZutMjUWC+xM4gHwHFhWxJYe2B3gecoPOju1p/xzNWR/\n",
       "WKz+iL+2GMLxGNNwkJ+TuHqnZhBUqEJQq6tyBvRKbVVHCkepEefgAALuAAAAy0Gee0URLBD/AAWa\n",
       "fylrtUwAXSjsc9bt3keAeiFenGozvJgPdrF4rgvmCh77AFr/sQmmwqPhnql8ke6YcYlJLOSwz/vU\n",
       "agJxUwmg8tqdEGXUFn14zOtd7XSIMuFm+LoGvzXo87BdUk5j1YdMaORYvZQuqR0k4ygGifQO6qdq\n",
       "7aLBQcVhHOYxXKJ9hgSurxDQLS2iDCRXjXMt257mBg4BbsBiF0meYtOBygbaWA5/RozlJMuarTCh\n",
       "dNMS6Dy0GMc0gwlMm28KgMAAAAZVAAABIwGenGpD/wAMic8awATTPD/culeH0i4ZYEWu7U6ZDKGY\n",
       "Suv+XiAwLprAz2/VAtk4cJ5RKi7V+grwPmNyWtdzYKFh1TTjbbXv+iUPQIGCBjdk6QS4pPeY33wu\n",
       "1XmT6+KqYTCov4Ve2nLigAZTM7MAbFK63eh5V2CplGsmrNYSDi14Ts0i+ON/FeKxGnS6MVkDwG1T\n",
       "a29BF9F9V37VmhMgvjES9H+/hDdQgtjP1U0plfsHfUuVeJpJdAPrDzN445tYRaIwJFtKTuf/wKbW\n",
       "ZSj0nXjknPnu7dvL/Asg/2lLv6EJIA28agLT1/OSvKqQQD+wThBgExYwBAP1eJwiTJqxyeWKkvbJ\n",
       "SJO47P5IexFOwJt8M5Bt6qS0/hdxPvzjb43psAAI+QAAAbdBmp9JqEFsmUwUTBP//rUqgASBBatl\n",
       "Y8wAJp+rwJwLwTxn/udcBPTWPdvUSKrOIkB+bu2MI3506CDePgiWvhv165lLaW0o4SopvxYlrbYN\n",
       "4CFuv++mJn/n6PRUVT7wBueuPSyI4CWazmG7PpWb6jPq/GwPSl1dH9dAHHQO5VZuPIeeuBjw/3fW\n",
       "ZdgppStv2BIhYHaU+QcA2s6kRCBFHPhb12d6GPXIFPmoVwKQ0bFSKwMtjcT9JGsHa+RdDhAsnjot\n",
       "Wu9UfTdrWFuFy28ham94THiEyohfdxttHxmDr9g3gYzr2IEhwg66KzyfP4Sz1xYGtoOuDBVnV1dS\n",
       "g1dy8JHN6Ri7BHZ1+J6Ij7KN6N65QHALgAIT0xVWGLstUrBZUNg45iv+ILAbSyf1DxnuFiVAL38P\n",
       "c3O8Hzk6CjDqyJmxlWqhJzWEJz6kBKhDrdbkc1Kvft65d0/23WLTi28KTCjurSWwgtTEAW2KNpfY\n",
       "sawwhVWt2z1FYwCPUVO1p9JovyoTywLNZj3qrFZnMTdCYznqP1gyZ5mKYuc3xOh7eLxRHcSWQv2Y\n",
       "q0R2FTOCVMzw7vSmHUAAAAr4AAAAxwGevmpD/wAMgP4X6fzbsAJZPkjv85QX/1s5lCdeFrbXnR7i\n",
       "XKTfmVwuZs9l2dLmkdhxWw7a+OLfjTqBrSxaxrXuFAUFuITKT6kbOEgiTDE+RXzTQcP6PPQCCfid\n",
       "fIAg9xoI21876TpXSc4uzQgzIUf4KJlGy0iOkW0v59XTTBl1GhPBi8c3BQHLGyTUndIqBHAdxi2A\n",
       "xmSXsGD/pCVY6mQL9HkU+B85IqKKpOvGmQVT8K70vlecF1BYcnLQo1T1QFjHgAAAoIAAAAHQQZqi\n",
       "SeEKUmUwIJ///rUqgASA/U274YAE1HG5Cym/yU5bkljOnCzwO5UeJR8zOGJrPwsAFFW1VCKQPXPN\n",
       "TfRfBxii+bmTX1x6yZzBSze+3Sl8yQlLM8iuRfeuJPQtVRJaeVvgmwPOacUlX9l12uINCEHUe83d\n",
       "h588mD8ljLCrgMClisBVl6Dskgyx0LiqjAUuHlkfyuQwhaxHThbz7IZgY/S1I0Bwli0+UceSWuKx\n",
       "K8Pj35zx4HOXzH65eB2lVB6HeT0TFJEalTJaXvzMbfkcIHvIbVpp1xao28Bb+k2pKMT3aGFz84Q1\n",
       "9NQst9yWW82aC45UDGCILYmAntDZrb/Yp+351v/ARfk/OsHnILyjEaLDJ022Ez6OVbN7QCbJQJfM\n",
       "CCkw0gxd5uRqE03km4zmTLdVAJzJEqxAfbrwJeXwYBMB6/hf/IA/nrhB9Tyr4a+/V3ZFegPWzMkk\n",
       "xPjaQSL8aZLrx++1fmdC1phFuTOnoYOc/j1Tgvq6LJ0iMYf4/XL2loETUsVL8g/p9DOrEUjcbRfk\n",
       "3S6pE++nVjGbYd0NNgVNzMSlTaCjZ4p1+nTH6ftVu9rCY+rXAkBeyC5BOCYQKRdsV0CCTH2PzASU\n",
       "QGgAMCEAAAE5QZ7ARTRMEP8ABapWgsAC3TxCvWOdMSmH3F+Q9mttmsq6PnyNEEPnyxcXuKXAavQa\n",
       "eZQOR6G5QIFaRUVnEaaCq5AXthkxd9Dh/Tahr3nXmEzkS0uFOZW6o6EkOHVShralCvHvesebBqfL\n",
       "oshGizlpSlBr07S3w5evjGkxyxNVu4tbShje3oeJs6nUFLWsTCifrY2xxLCGPR8/c69pc9htXCOm\n",
       "PqfpktQxsQ/MUSWGdg/q4E7PgXmrBQF9pATcTyBMuZdpH6iVkXiMXnGUoOE+wCkXcbTO4Mc3zR16\n",
       "jg/tw0pX7JEpXsFA/H3wShlYmE5StuE24kqtBWnp/cyHs3gM38aFZUyhfwwmxOgSoLPtTllff2zF\n",
       "McgnuWlfQIKF381frv7MyCL66O78vVWzWqjlvEhf0hSgAAAPSAAAAUcBnuFqQ/8ADGatZg6cpJCh\n",
       "osAJYSIoUd62R/49k9/YZoLVutzEB87plsyp6qqbWKQdEAq0Jr/MVwNlQM1QLZcqqhyu2mg4f0ee\n",
       "gEFG+n8ovry6csT+idBBDcBBiZqTStUpHIYfsHLSDtXzuK3VMBDCk3FBUhVfuNZn3PBsI7ZUn+6n\n",
       "bFU5JLmB7styRaYerIedkDzC2VlAo2hGSO7FKYy3ejFmbdKhqxLvIwFq8LZYkMfIl5GbYlVZjrrw\n",
       "tmUCwgAmWlOs4zBUrM/NRvOYVRrgtZlTooVRJNvD1GF2SRr61T+QU3X4RT6PMdqEsPbEN98wYMgE\n",
       "x9V+7kwaqmVTLRKvL/nN+opYdd0FlZ0aYBJ529SEsqmp0dbfYeC5kX2B93PbmhDTnzodIiHLCIqf\n",
       "15SjKlo2wla8mUjJ+4fPKa/ZVCE+TAAAVMEAAAFXQZrlSahBaJlMCCf//rUqgASA++DRZABEBxv0\n",
       "Sn9bwrVqKXvQIgY7W9tOqtZwSjOjQ4vI1YBJvtP5Fft05K63K+FCXxlVJSRSlKQyMeWxbSvmyCdI\n",
       "C0epL5xIfRI4sdvsa6lEz/l7CKbe0Uffc6kbC0Bc5l9rVvtS2PW9UredVmw8cnc4NLj/SUC3bAbQ\n",
       "K1bVQkoa56vnPF5stw6EaW3Sdippp6Bu28KBiEXyR82Jxjlkn4j2F6gEMDH31MGSmTtMPxEr6J3Z\n",
       "2E6cRMn80fjsNNiTM33pwosA6eXb7W+3MywpDJVGXkBgx2OaxlMJeIuVXiLXxoTnV0DOMJYiqfsz\n",
       "JqXNNGgm10O1RNgWoC/gWbNRdqaQVUQEWzP83YIIMVxDXHrHG50KpFwD/Yu6hvr+KApZi4HetehO\n",
       "C5jjiNHI5W8d4FQJRNVdTxhsje7qa6tYyolAAAAGZAAAAM1BnwNFESwQ/wAFoZljNgAQkb2Qk9sg\n",
       "tRFVFwyLwBlvbdPp/cAat6jD5EzytOg9jaL0a2IDf6esVopq1gpP+TTFSfGsUkSP5Xup1Wwr4L+S\n",
       "2ewhAElk7crKqbLM6rDVU5CzLbIGBTsmbvvvBBAASjHx151gNrDbwc3P8g+BPujKpLbfE7xQf5F4\n",
       "UD0CR+AeZKpUbsOMDXxHhVqd5/2lhaAHQE6wnR/c7jwDhPZjr74mlsvCqKPp5Ig8WzCSxjuZGFwz\n",
       "Gwr/Fi8hAAADAAD/AAAA4AGfJGpD/wAMZq7hQA7d1KmAEsoMapKGztrhfNSSbSbVU5RyEtM8D8RL\n",
       "NV/cL9wvIDS85x7jy1bqJndsgoYGlvfiHuQkfSZtHJg8l1wigxBl5Zt0GqIeipgrvq/VScSEhWeW\n",
       "SPBg/M4q65O6qzfDtArEH8okTbllmdoQttCbTKY8dN4tojbeHm4o8JWnWYCwWHb7m2+REikT+nlO\n",
       "Is4NhnMl0Ps3uyv6gpPsLU4B0mzV66GLg17suzW4k8dSj1fgNZV9CBRSjS7HzqFJL6pRMIV1hA9/\n",
       "zSd5dCsWAAADAFNBAAAB/EGbKUmoQWyZTAgl//61KoAEh5q4YvtTtDiqAFus3KThAnZqWitVqh8E\n",
       "9TLzACYoXIhTeLBsyITYwyPEsRb3VUtxFJYm/je15l/58uwYAj02tFdc8QzXxeKbGM5GLthFf1tH\n",
       "GdQlrjuO6/qCWAvn/mC6IOMgmdi+oALcm/Gk0u6/x+vCqwbw6/DtDyXhTBwXDhvRf5yFficS+8VC\n",
       "0YaitO4R94AR4iAyieBWe4qOlxP2f72m9eZP2OXHk72kg3qN7/0lQFJ3DGeemDoDpgOI4ybc+93h\n",
       "/zqOuYwBA6i953Tif6jfX4iGkILwXoKVjsDR078w5YNejNZ0QHCWf5v7Mn/v2RtGBh3H4wgyZraI\n",
       "IhGqb1eMlM/mHXkJBdtREtCYnVxq+30fSf4u6uIWCKXtrE18uwhm2xDAYiJ2YCF1FBmujU0fjbiz\n",
       "57Vgc0Mr08WJpNEp2YcndHway/jYY8ArRQiHwe13SjNL3rVqKBEvBPH6ZSfHnkr5UPBuPIezKWlE\n",
       "jgfBRZj1gbUlrZPMzowBuyZWkBAKQ4pVuA/UUghwMlKL3EDkZYvch41QEzGZShkynf4hthYN2XL0\n",
       "7FG2LXZVMCnGgUFCpsNbXf/I2pShe/s8LvG+F8dFUBh6CLPetjCVEcNoy4UEmosjxTrswUybozfa\n",
       "pY/X72H15d0Aj4EAAADJQZ9HRRUsEP8ABZrZJA07oAD9qTmFARhmtABG97yTTL2vYecxFBMujb3K\n",
       "KZ+JuFRx3fBkqHz3HmlgMb14YF6o0T7LXqbPDWfpE5i8Bh83w563f1z5D7kOGFwNLZ/5MrVBQDPN\n",
       "+roJM3bMGeAckBIBa49kiyYux5RfW18ERQ/7+E884hr6ynkQ9vgi3AYkKZy0TYCj6wGZU4Mr5/a0\n",
       "0ahX4P0bS86U6KJSnpUSClPa8dzRlkYnnQVUB4QDe2ZgPfCvwloUOyAAAB6xAAAAswGfZnRD/wAM\n",
       "ic8awATS8I0wuYqr1aMoAuAXwQP0RHhpMCT8YwlnDmxXhKjKEXV84z57NZayDDg4DDIxS9rBNKYs\n",
       "G5taiIsVa9tASsT1nFSxo/DtIEQB4cTeAyWtfTm4jBNLYb0ptw++sW/L6CsorzSklawtT+Pss/ly\n",
       "7WGuYBwPgHBr+p/q+z8vPic96WpyKNUREdRRRvglAFwddR9ln0trDYMuZD2KKbAtqe83WBAAAAcE\n",
       "AAAAwQGfaGpD/wAMZ4kb3+yeeYrTACV+MRNKL7OHs25cnQxYRbpn4vRpPvyPMcrRJPJ4MwsLEKEh\n",
       "nUc5QGcf7f70Qux4eexARWsqQLUINN+fjJ9bxpw+fUif46tS+fnfcS4zlXGY30o64vDMX6osX/pg\n",
       "3BFuMHhdiPMvUexMIs2bPFJR8uL3nSuMpTUheUyNIOnV/zJ91bfPtR/FkbUOXcKWYIZOzW6d0Ff3\n",
       "dHTm1S7vCEaTyvMRGgcv2k8WpOsaAAADAesAAADQQZtqSahBbJlMCCf//rUqgASBB9qB1gBLLNlw\n",
       "iMgZ3ILLdfr99t2EFmILddzuxJFGf0OIoRpYSfb0NaMAOieOMOhyJVjkGl50bdgJsflM6/CH6luO\n",
       "Y0IGaURWHWbbPdwQrBGhdt0yWFJ8MaIfPSVp/oRiduB4UUAVxXmgflg6HbFuPKK1ngruGu57Ly1S\n",
       "ek/p9LC4PIo32yC1egyLgn3Skl4EM1TDgCAiWqc3YtSbrCgH9EHUARPil5QFnb7MbjNpeck4FbQm\n",
       "SKgGe8a4AAAfMQAAATlBm4xJ4QpSZTBRUsFP/taMsAEoSb3PSABCh1QoND9F0m2ym8h3lEMxcU9/\n",
       "kf1j4mqm3pW+Uc1WEYRK0Qt7rtjPt5QYXc9+ZXZzFs1wzcTqOSNlJUlN63ZI4DsMzUmhsRwV3cgm\n",
       "L2ayf/ea9yrRshqfLfIkNBQXCeGxT+jwuXjkYyDtrL51rCGZHeN7G6n4uqbe0uEi5sqq7np/LgZP\n",
       "picI4tUY2Ch/rnPubuLUk7APo32AQ0eIBUMKzbJyuUFuYpM9MHISTnW5SQ7Ge2X2WbCyF5ebq+tv\n",
       "tTLZz4ZNumlwwzjkRi8PGFGmVsei1fKw5S+vM8xHzIJx51Ohk2GHyBvpbv+xNK736ThnY6D+tv8g\n",
       "p4FHIezWAFcU1ijWSDLFiBd0Kun18TlF9AAoR/K4XsALb8CkgKYurMXNAAAAowGfq2pD/wAMZq1m\n",
       "DpykjPcWwATlHtltRNuZ7yQpukgdYGYNntX3KhSvU06TVWRUU1AfPWUUHUO2wTztyCy5VX0H3kk2\n",
       "51yqKxg6iPl1TIRSxcw9AkTLJPzYQgnspN5DGHTDmdhXivQlAUFW9dLAAH4MoC40TSL+/a4oD3B3\n",
       "UrIyZm5s0qjPev3qhaWWAamsmrlfRZKtEaVVccn20VltQAAAdMAAAADKQZuwSeEOiZTAgn/+tSqA\n",
       "BIW3YWAAc23f186ULNLrRsaDt2WuaqZf0xUoC97VR51cNh0QaFasgVDTqgxGt/T6wPjCJzBXULfT\n",
       "v3lqYENFvts3clE2yDp1fVOgp8hPErcZUqjqztTl8LNZ3Ksyfr+b/ymGyr/hgMb9EaQo/mD+Vqrn\n",
       "QsBWpUnNyPlEDgMgd8qhXVKcmQy45NEf60SoE2aNg7klqtM8Y2/Z92DpAQmz+/tAGi4a1FMq6Sv7\n",
       "qXl2ss7bfF9u8kaZAABZQQAAAOJBn85FFTwQ/wAFm04JY8x+4gATrbU1qoI5QJC4TzWcOtOmlRyL\n",
       "As1yeTd+oZW4Lcqj0bXRZjKlKI5Hs9RxPCMMGLGDY1caTn1jb7QxhcV1DFMBWzt5+hPsqYoDVIns\n",
       "38VMn8hS032D0hKvFK7luJ6l8UE1VfQ7OlNLRz8+xKEygj96auEmpqBd2qz4vKU0Opxn0VxUFWXi\n",
       "ZLuDxPPzpTFWAAFeSbu47aMJa2J5iP0XK1kYjmFZqzuLF56pB37aecHlfBUO0PLZwfCEatvmCoej\n",
       "2X8lZeTa64GLBBmAPtBAAAL3AAAAkwGf7XRD/wAMZ6AGxCwAftwtnAWmqGnqcQZ2Rml4s5a0v6s8\n",
       "iPy3ILGldvdbChXUbY+f3F74I7qBiTmxtgB0NUWN6Cm5c08G/7LGaJpCqQYAAIcIs/vMQUFm3OnI\n",
       "yuE2LUGe68m9Ziv3CDGKJISeaXOR18/uv0CpTSqBpWIsFJ+u8yBoE7yUZHjZVnNRs/CTAAAFbQAA\n",
       "AJIBn+9qQ/8ADImL5mAD9q8qBpirygWs6f1b3c5yZ4sPmcjg10+W5BYtG3aoj3voTMrgoUnbRpRm\n",
       "W2TpeyRefTRwbQ40G3ETX53ax2lq5c6DjbquPKlraus11hL+jfDBPJQukYRABo7jdNRQPTTQDAAA\n",
       "3n+KotObXeXqM+v030ujSx1QCsZ7sG2NeNq+ZyngAAAPSAAAAdNBm/RJqEFomUwIJ//+tSqABIDk\n",
       "cs8BfLcOABbrji4TD3U0raq0PbN/bRaiwS0T32J3qctZP2amEGpY1nJtDknk/d+Qz6zVjpNcfNOx\n",
       "evuwkdF7LqGimIFzEm7mcVWQdkW9qmnRuZObs+7/jJoo4O38KVigwFCVdunT60pfFc0eiJ//XFQM\n",
       "Fg0Gdkw4RMZz7kSNgfJD/4lVijTUMf29K/f6CsEpOvSSNrvqDBkEAXo7ryQCijTmIocDMLnixR4S\n",
       "pQOntQCFuqhPJYzxp/+anDcBIhLsWLpLWQo0k1p+I7LqxJ5bVS4VqJF0Xuy3/OBcIHDD0PvrrAr3\n",
       "PRMpSLHoV9jhpT4Q6ntaVuDgVluCcdLan+pWRrnnGhmW9Nfe6Iz6Q1qzN5Af8Dq5NJfiSZU0rNXY\n",
       "jl4uWqrWt0QgVBRO03e/4HRT5Ka+WJux5b20VYD2v/VD6AONu37GmP8p+SqcCcpeuh90ieOXwHUg\n",
       "pRIlTyy9gikiyruineLSA/Nu7+YHeG9HgKRu/5vuWH7kQvDeXaGHiIGjYy6DisAXdfUfW8mlFdvp\n",
       "Nx4Yp8x5T9R5uH7WN3x7YVHf1jDto18qr8J6IZoggr/VrosG4fDxjt0lpC3oAAAj4AAAAOhBnhJF\n",
       "ESwQ/wAFpoN8EgO9vaABLJEAlWt9S4uvHmFt3VuBvGD0uN26iKhQzmw44WVCQoi7WXR4E4dxwoNJ\n",
       "KSbpmaHm1mp2oNbHKF6ibDbsKWH6aoGLKqd1uarNfI2elMgJ8uoai1qkUxISdzMAF0p0BYKE/jAb\n",
       "00VDY23uDMlAMko0NkWm+SWSQtUQBE7Q1XA89W+YwHQYIttCmQetKB8hTQxhhu+lEx1FJqaWMXg4\n",
       "gbO3j8V4lFZr0WSpfRss8h8nr/M6hJCDL2aKEGupci+sndCT2Dv3aZQpDXcZ6Tv64gTeAAADACFh\n",
       "AAAAoQGeMXRD/wAMgZBEzAB+r3MwIZBPcN0KJ87sj4jLkBX8S3WXX0nO6yshH/ycU01ACD6SqgAD\n",
       "IO6k+o1H9n6nziU0mZAh5oiYy3t9eaUCKaCE0WQGS+nKG0GKTX/YGjz2zCy3zVxDrIC/cehAFvzP\n",
       "f5WSkErRueNxgAc8y+RWjtc0YgcaGKWUfogv3dfCVLWrDYsaUd8qk5w9i0f2NIAAABdwAAAAxAGe\n",
       "M2pD/wAMg19ywATTUiv9XZpJ80VgueuOIw6FOuF19aeRjIiDHsmixfMLMPc4Es/kiZ1fw0jPIaFE\n",
       "KEbkFp7W4lO2uSYCHouI7SQ0GKQhoEorg6ELAS9WuVAaDKmLRDjvSqmv4Uu7rlRh4gD466Vn8keE\n",
       "hT882NU4uRzaEhT5yvzv/KJn+aiJ+J0pf73wOZAps1BgAy3iS5S5E2JgYwPNTgV9dcbK943e3XXU\n",
       "zEgMKN/NmIiUBk2/UxHHZ1IAAAMAKaAAAAFeQZo2SahBbJlMFEwU//7WjLABKEvxM9IAE1HYNJ+7\n",
       "l/1cyg+9BXoQDSdOCNiFet4dgbMFBFzI0RVnJfc1ZXIgvjMiodsAOj/RbhZ29Ex7wc0Kaw0ojTHD\n",
       "7kqcMQwIh9Q8Cs8YCGDilbTwoTE96ik47VFfqKFsNsu7PG77t2c+ghzk1RTdHbZGybFio5sDh+Ny\n",
       "SrZERnJy+s4UN2PPKP8xMK+QXvRTUVJGm1P24rNNtCRpoq00UggYwQqD5BTPrYGoKT/PFCeoHsRm\n",
       "K8NZ9tOOPsreL/TJ8MTgyuWdmvyJdIZL4S0qR6kZ3qPwtxOIJTCdsfT+qRNHl8VI8nlBRqqA/LjN\n",
       "gBkplHaiWc79PAxoCGOAyxnbig6Q863ksM/4i7AeCSQ3ONF5GhbtLdcLXgnrnFTvyUmc06l4hKY1\n",
       "nKLu2vvS+tnIi25uP/kqaZ1fCcN0rVihCK/MRSPisAAAm4EAAAByAZ5VakP/AAxsfZtgAmhVOr1G\n",
       "Ff5M8qeYuMkr1G5nxXTbWZTVc9tKRHW5tliotJJtgWZOM5VWeVcppunIuwE1UzUFi+wyXFaQgBK3\n",
       "0eHy1KtmljdEBoZeoZgII0rjy6bK4i+4nQz05gvrGoLF9gAAAwGLAAABLkGaWknhClJlMCCn//7W\n",
       "jLABKWZGiABCh2DSjxlADTb0LzFQOjRzQaWFmnnPg0vNdq4/4R9odTZD3WICQBl5cbgX+KW8a5mA\n",
       "ttEHCaEW6t9odpDi1f35oXtdfVZRXHluOWh6mNfavNwyZH7l99g+KmaAFoSKrqRabi0cG8keCu5t\n",
       "ysG2usDmQnd/Uf30PCCT3VX/HFxIVcmIBp/546C3xYZlUGm91QlHPJEJSwkTeWrKnckjOu9y+pI8\n",
       "4c8wQRo3sMNIwDM7hq/Yu1zkY1yZqf9kO59rgu1bVINN68B9z4itjQZTqzpfKpGRZB30dvgMq5+H\n",
       "zva6lTikH+sf6UovmtAweoViJZSbNOA2KFkFwOPRtVOLGCcsu6l1KNecoApqt+NZygALgKcEQccW\n",
       "LYFBAAAA7EGeeEU0TBD/AAWbTgJ5r5GoAD+EeKze/wawNpWQV0fclGJKJmsfexZgoMmlQ4FoR6N5\n",
       "fJLEe8gsuQHys26tDVDB/coImYsz2eeCcNPe+xQ77rkapJyDh+6ItSeYIarzSuF+WOZdrAMeKhMj\n",
       "5VJFZ0+/dOIR5ZLlZQHi4GEbKRLj0+oXDAggrQJD7l4Gz9H+MJjdK2hWbZJh2fL8+2XDxgAJm+H8\n",
       "PaPb6hnX02gOmKlzVmKMmSTQrf97nQrl9DXtLN0H34uy8M0N/0WgU9kgF2QJy/WY/hjL+UxsQ4gj\n",
       "f2D/GSNTe/YJ1AAAAwFlAAAAjAGel3RD/wAMZ6AGxCwAfsJUaniU2KTaQFsDST0wZcq08ThddWvx\n",
       "/yMYM9v8DL2NR0JgsQqV3cZ77QP57owvGcRczT0WRDE5TbG2UYpYPCev3o79eLS/FZ+9TdIdegBR\n",
       "TGvvpEprqofY9iXNRCow5FQ9xRBRoGjJQctYqrZod3AXhs10Nyw3IyAAAMKAAAAAowGemWpD/wAM\n",
       "Z6AGxCwAfuyRsYVQoaI1epSfBAPl/A3Yfl4DsY+K508rKjDUuntz7/0Sh6BxvocAYsqjp34pk+uu\n",
       "Pv+h5QtuvaKptJJM5U88wz1fKSAX78wXjcDk253onPneDs59TOHTd8F0cVY/YnSn1X++LTCH5IWg\n",
       "gDgYkM4mfq2MRbttWq6x5h9XYSzEEWFdMrRcpIDaTgY0oinkYQgAAQ8AAADjQZqeSahBaJlMCCn/\n",
       "/taMsAEpnGKQAE0/rDVKhikr6eafUSqdgamIlUwvH1f14izcfYisOPpNj4DZnOFUFmNTA1u62alz\n",
       "eRowhA+4n1YXXpcaLKcyQT19m43kVqnp24FCCYXfFXLoN4UANK8uZNaJbjIRdnvcf1CbVhnfoEkB\n",
       "v5YBhINBj38CZqKvQGRJujfyd7PWYzUK8hilwgvTptoOyebkRcCQhKlTcQQOgWTM+5T2uPZ9z1aJ\n",
       "W/G0++VxNdZLoI+1nJY9NBorBf9/odnY8a7iz80en+odvdJv0AAdYmCyAfMAAADfQZ68RREsEP8A\n",
       "Baqp77jyABOtsvhxNn4xnIGN1JO5yAbxwjQ6+aenvXYMCi9yF0+Rf5WSYzmA3xD9+K5axP2vx4A+\n",
       "hLXv2ORiz2R+eET3cktJFk4jinhqV3gjqxj5fGx3WSGKW5ZYZukbye3Fc+2ynE8dDYpb546V0/zy\n",
       "Ok+NAqMo5lP8HTPsekNoB301x69KcDBEu0W9JjUqQWnvtOzx1zqFKa1z4CFqr3Tf4Nk/bOSy+ru8\n",
       "xtcVngM/vakla+eOFGFXUBXtcBkCwa+WiIqj+PsezqAV6D3RVQAAAwA0IQAAAMUBntt0Q/8ADGZG\n",
       "TOC0lcWAD99SWOgVu9HT6Ei9f8Ao45Yq3IYXjesaHtAWBQYMsTMsGq2B52iHocAEaEj/Q+YlKgQx\n",
       "VKDtgF2tC5a2pLdQRK2u1oVs91Qh2Pxqtj3GfGeqqPtjXtXi6MfyuANRMw+YNKdOB/EMgTP0Ma9O\n",
       "Wyg96nTckDQ5A2FGucwXJZKQNSM8IoAIY1Ic/MdDn6CwOmn234WS+y59f+VpKk6qFH4MyoNCX4eP\n",
       "4G/yR642o4kpdQAAAwA44QAAAPABnt1qQ/8ADINfcsAE000wZkDaU4ApUZ8akPtjc4OJ/+tPH81B\n",
       "Bj1dhlpMbD+scSKg3NfvCfzgwxPEw8ENx2yeRRidLxDbjl0ZFpf53ytDg0WDv4dyYZBz2eKYRXr7\n",
       "zt3Avmz5l8OiCkuKkMixNpoTXS8lq5j+8bSbX6nCO/ip2q06hyQdB5MTIoWmUanEjhPRheiNNhx2\n",
       "ntEEVQB/wHfrGPvL70LLX3pxVU6DrW2AdWPArv6VDXRvlB8acJwx0i1v8djbpmaq2qS+dm2XHbed\n",
       "gmfLeZEN8NNAH5CUL6dkwC8cNhcuC10CIMRDYAAAGtAAAAEYQZrCSahBbJlMCCn//taMsAEoS8Uw\n",
       "+jcSwAL6OtwArHySlG0sBf4FJmqqEcpYrCH0k0naP3A0H4HgTXfkFy8cW8rF2ll9lOvNq/tiK6Pi\n",
       "aGwBpqydW2ko/hUttTSBmxDlX0W9dMsFJRm/yOmA5VRVzavQh5DgL0MmwoLz7FgOurQ3o7oaG15h\n",
       "l88Txeyv+yVTTd6+mT9IPdCrrPY2Zg+sIlYIbi8vSI0v6iqkr9b08xXywWIFkbWDu0/4+PO37lXT\n",
       "DCLFdfV1zETF5OPUNsTaWAkmn40wFrUstqTUoNnrIxYL3uZN+ZyG43rigSTMQcSlUARrZhDu7fKO\n",
       "YljXrlJ9RIbKH7Ek9czF5cKKCQrMckAABcCFJaBcQAAAAKlBnuBFFSwQ/wAFpaOnoAEsnniTI4ms\n",
       "cP4bZ2v7iNqhrV3cQvlGdu1DV1rT1VZv/i25WmFQyNfUVH3mSTlIsJ2ElJ/SF9ox6XVgWlIuKzDa\n",
       "d7Knyh+8w+JV4dADPzAxgDD6h9H+X/EnenYkjP2KMK1IASeEQQCzbBIYGtgbkce8d4QJk3uAytcg\n",
       "HccPugUErLM0ACekmu6zI4TjGUaiI6JHrWSYrAAAAwLbAAAArAGfH3RD/wAMZq2anTlJKlcnYAP3\n",
       "etKWdfQvByOgpVugK843L2s+ZbmyTU/xmjz8Ns2yDjFrN63MWiIu1uO194IM61/tz8W1dSgnhshg\n",
       "h4rxKACxVBF4DlMGrebH8zDAXb1OKI7dvXBukQcKXitpudWhaV/isx3fYbdXXYKVglID/dA0wAoe\n",
       "ILjtygJtdxPUXY53niBLc6ekgA0/pJbCk0SFZINYhpNAAAADAYsAAACQAZ8BakP/AAxpuNYAJojq\n",
       "Y8MInr0MdI24shXwJgFYpdLLCSrtv+dINpnUWNPKydZ1YE7Q9paxDCImqCzNHLXMJOLgxp4i0cHb\n",
       "9E+DIlUyofxS+LcE+/S7smM6QQ5EUp6Lb/PpeXINvNSSyS6zNtDJsG9MFj8x75fX+cG1YUVXYOci\n",
       "ISq7xvhqM4ycP4AAAAspAAAA+0GbBkmoQWyZTAgp//7WjLABKEmPpP639ILMboywAP4/w9c85/rK\n",
       "lYu6Be2gDjrdCD3pFhF1t8ioog4n1DXrrAAoIM5dWAfGds23ccds4kZzgwd2OMxU04QOljpRmH3/\n",
       "mq73w1mAQvnop+SwKQtc2TW/mnmhU9STtuHTA60Isy8V57ahuLhd0v8Aw1FgTfFvJq+Dfdk8NXA1\n",
       "6Br19HfMjR4AtgXKuENfSKG5E7TzLSdfPe3Q0llRbE/T85d8naum+ukOJcIAz+q/grEnYB7ev5rO\n",
       "Yz+m0/iU5J4W9UhNV1brtpby8C/QNYwHuUL3ok2TILltIDuKoSoAABswAAAAjkGfJEUVLBD/AAWr\n",
       "Qk7mAC6UfLatey+FQP/q+BfFUVkQ4kDNTHJEXUNUB9dE96hH6jfb50H8VhhJKH527rIwIwz3Def3\n",
       "JOj/0Clul/T6K9XzTUmLc2X7iwFJenDabG/X8KapyUsH4tCNHPDi0/LH+zwXPqmvhZfAXzaaWcna\n",
       "vcJToU02+JFkBMqKAAADAl8AAACfAZ9DdEP/AAyJxgFgAmlajqcWdkTWWbW0+saByUbcqQjmGemC\n",
       "YUfvnrDi87IScBVYRisLj64swZXgMN1Ot1qs6dLZMjlFhRw5tGyc83NtlQbqx5F3yiAAkwAu7HWU\n",
       "JdPtxDouDyaCF/2gVBt3aFJK0bv4Eum1l2mZeD4Ej45lWWJOy8Uy+0JjJ6Oel/TvO37JL70+gTc3\n",
       "uaiBcKAAAAaFAAAAlAGfRWpD/wAMabjWAC2/GBGBor5g6iTcGIxmLpV3tvVC510rB7eCkLX3HBae\n",
       "VYTJlgi7u2awPPKWloWktHghGrMyV33LJosXOQd4V364dVQGTCYs5by+Ineu/5tba0Y2FiKEvsWt\n",
       "EqhSrmr0a3FEcwAABupkirr+16Xg7ZjgMdUtkrKSuaMPMg6h4Z1ZWFQAAAMA0IEAAAFXQZtKSahB\n",
       "bJlMCCf//rUqgASBCStx/4qMACajjlGX0v5oUMqspk1JWs3yZxS8hxHic0p0fsjhumwgJXqD+oFq\n",
       "MAvbjfYL0FF6+W30MKCAz/Ihkk5JDhyPbdHhLZkVgBpdrEDpICTFayk6TNFb4qRRRzwg1BUmSKyj\n",
       "A+jtTOBzWNvIs1XohFTeNXCx+c5V51lG5pX2SV+vhIdgfhuwE+Gr4ZG+qlyv9AxTR3uftO6ogMGO\n",
       "4lioob4vaukqv/iaCEv8A9rWahXZ7nXcf2irDth0W2NGxMEksYpsUMp1b4uWXRGzdIIC5iKe35Zh\n",
       "G+3ORl52i5sLZZO2zOzY/PMBMYJsxHL6DvJBVbXf+i7BaJm/2N93spK2/h0Mk3WBF8WKikamxIiA\n",
       "sv7mY8c6lsw2YDzBXCyDq7Jc3OAwCbjPr570fF7QMm1s2UF/Vc7wrNO9ylyjEkwwAABswQAAAYZB\n",
       "n2hFFSwQ/wAFo5C22wAcaJL/urWYFP/0/nohLAoFJXAdFwWK7poJG0q7zpmG0vOqURFOIAf1XKQE\n",
       "urwEVv/1tHwHvoDi1AMxCX32ymyR+IWW8w6JT9I/e1kteQeRbgB4RHihmA3Ujpg0MIpZH2Rs2fwc\n",
       "57qTGEhaW9Seay2KSVOOJ9FLlX0p+xcSxivMX2MQB6m6D7IlykrZutYnucThV7/WQEMDYlRs7IxZ\n",
       "HNk5U+Qyk1NCInNSz+b6W7d5xgA+em+IbgIqAAB6MUOC8W25ht860HzV97qtebBhhwGN6J51pQIp\n",
       "ng/U9QYlrOphWMh8yr2+/GbuAOAZRHDhMqmD6SNQ1NCGMuK2ay0yE5kU6XzmGuo5SzxDWIeC/4sP\n",
       "FDftrFw/vXpyGSs9eQRyAEU9wdY0lKuZAOTSqFqu1V6Zp9wNi6/syPLYJ/5PP02R5uuKjkv5PHFU\n",
       "YbODSMozzTod9xBxqnezFJR686O9ubCWM+i97kgTuXRiUBwgqdZSkfauBAAABJwAAACgAZ+HdEP/\n",
       "AAyN6WYASyhQ59Mcmv9pAn3q/Un8nQQIEd7mYdNiXp2pDRnSJVF71qVjIeeIRFmND3MZfMfUX55P\n",
       "lnWvBlZB4sCgUM8b0/PiOilf6PSXGzJBy0KHnQXwggA4Hx9vGaqDAMcnzrjW0m+xsz0ie45qPFWj\n",
       "OmkyUYmBxuI0ftJ6pu8xLg6mF8cnexVNf4aWNMZ9u4z4XAAAAwCygAAAAMcBn4lqQ/8ADGx9m2AC\n",
       "268l+mUNq2d7hktdfhikXaUU3oAaVTu207rw3yBWATRNKF1uO2O6OPWAvLHgV8BW1AEk5UcmhhKb\n",
       "bvJ5N3yJ517EpdsgeYQwcWsQXah9dJ7vwfrpJP0xUoMCdbGjpbuQA+mNKy3bFf/lwILxIJ2lrZ+f\n",
       "KPRn3IbV+pLzCHjqsni7uVJSSJMrenVfxokuM59fh5A3wTrhUZYlswKJlPSp1Fq+K8M4wV817r82\n",
       "ijtr9rUksW4+AAADAIGBAAABTEGbjkmoQWyZTAgn//61KoAEgPvg0WQAOzceBy0TtZZDbBombOde\n",
       "KCJ9KKkIcgmhyQiaBe6+mMpnWnZAKLY6cuTz+0ofJHX6Ij3X/fNdio0QM4Mu7obvfhyvP+rlsBDG\n",
       "g9nMbBRnXqlzsTJq8zTCO90oawB4VunaAVlgpMrr/6gLmUN3N2l7iGTfd51tMpNzxvM2FPf8i2br\n",
       "594Fn2vN6eUGpaNGm/Sjvi3uKug6vj+Z4VvAr92cbuwol1PzKwSLlAKlI4GnY2EapYn/SDPYD8pA\n",
       "By3y73JSWdFE8IUZzSKkQVcsD/B9Dnf7BnUx9ZKkNYu7501V1J8X/BwAd1XVy4UptPUdtal177xQ\n",
       "/10ofIlejEYRwlqaaSGumur5Nhl2aAjlSMEEkyaPWdocj9R9zY3y9x36+xNmjXiclpvE6wclKXVM\n",
       "lUxBAAADAA34AAABGEGfrEUVLBD/AAWbTgJ5r5GoAD+EeKze/wawZQmnG/szzmE9ISWWboEiMmrJ\n",
       "cMt5HZtW5Iz8f8GPwZi817N2dq7K8lp5bz1iJa32yWhMwc7aLMQq9fGAnBbAyuPntk8MqH8/R/2f\n",
       "/4oK6rllaSk5ea+HXM3ENo01f2WLpyvYHadRH16wXKFzDDhyxsCiXdDfLUsmcAAL55zOal1W9DXX\n",
       "bBFDuA5LMxx0ZNaY2FaxR97rZoyF5zd2gIHO8m1ricmFsEQgLFJ64eUlfKTadtSgmTIo7IezD67f\n",
       "ew194V86IVLO3JNDOkUOYjFpC9CWuG3bEgzsJpCWUhOQ8NMf4Eyv2XObHoi2fDbUwWBT5TbHyZm8\n",
       "+WILgAAAEfAAAADoAZ/LdEP/AAyJi+ZgA/fUhQ03cDggIeV/ITnKmaNjbF3fsk7DGM0FuO13JG+e\n",
       "ySB6M9hriefUMCFv1uT3MdCga6c69Gl2Hy2Is84oMD0vqz2Mp/SaItrkH3j8hSZ64yV+1vF1q/d7\n",
       "c0dt9lRmMNIwfx+7s44wrw12v8sQ7JsWBCR4BX1S9pqU6Flr8QKqnYt/IzHtUPyhO5aV6y4D6TyC\n",
       "nyY2+GcRdb0j7RGtgAdb1o7q2RXWVdTmM0Z8tODvv/ZcOo+8yexQPeDAz6Q0KoAYam0JXKuwMaL9\n",
       "0Ku0Xno58VMxHwAAAwAWUQAAAGUBn81qQ/8ADImL5mAD9q+IvXhtuDAKeC0VvjFJOeIOTPEb0dGM\n",
       "pD/+G8/ykGVlglWN0vRZOsjWxMoF/pcEfh92jOdSk14VsyPDGYcDe1fvTNUYxuxkA4Kwa8vDmsSt\n",
       "P62AAAAFDQAAAW5Bm9JJqEFsmUwIJ//+tSqABIZxiOABbo45Dt4KBWQnmC0TYtKPWPSV0zTHCMX3\n",
       "kgArrjnwP+PRXDk2Xs1XSkSLNIBOXkNMoAXNTaeX2j4WsnIhp+TdrX3KL/rju85CNFTS5EDmIKTN\n",
       "g5qiU8wEVYS4V0nhWt0aHcbgxLUj389fVSsBNcVeLBhUvLAFTx5y/vi8KHypKaAQKeYdtTBQjn6B\n",
       "gonh+DWoXFJKZg8Jl5HhrPGP++MKSJFc3m75u/+ZRH91cjml5XUB6YvatRxed6r6HADoPjtKvkcC\n",
       "BWDVw8AiCwDc+BovUm//pgxaYGjyzEa6imsMwdit17hjuXlhnD7B0G/nE+Ihd/2R3udC9zB3I5Hu\n",
       "ayJPWjBOnmG9Oo4YQK+pUNgY4g5DcAq/zO+f9HQ7ezakls76Poh+yRrjuVdIZm0alfWNmD7fHJX2\n",
       "XbScIWK/AG6LbRpS4H7gXD1owAanVDr2UBQCxKu5WW/A1IEAAACjQZ/wRRUsEP8ABZrUnn+n5NSa\n",
       "UAB/CO8bDuiBakKZsdG75dOyUMp6T+zsyWOHrtJ58++uej+97/KyMhlgAxGaubnyCDbnKUVe9vIo\n",
       "3D3CoFAwyspB+Y+ce1yinvcA6pn2veMPD6not9JpiAaA6YqXNWShSLjbdW/+fA9sd0/ZGY30jiFU\n",
       "4Km378onUx+ckkfkwtZMvxq+QtaR4YC5UAAAAwAfMAAAASEBng90Q/8ADIGQRMwAfrgWOJ1N+cfi\n",
       "d5pm3xPl867AIMUdPY8PlOWktp5WTfMQhYuM0TYQwRkJpmmY1/f5wW/X6jmv2aldpu2JBXxCu097\n",
       "kuJ+qGOxu8oOpMZrqSMfv+MBWmW2HEN8PzqvNpkZ2YpjaJZHRqSZjTcD6e/izYWfoPSPJVHxg+/s\n",
       "FhwZ2HyVNE3vEDLklCiyGwfZQfPBLk/nRWTiMRMRINRPWW5/4l302hXwfFR5azHh+wl9yoGBaJdZ\n",
       "X7MnWpf+pgVdcONrpFt+jXnRrqhcwH0ZIno3pJdeE16eL/svRwY2C70yXjfHHdNA4svj4GVfgzWV\n",
       "N7VSw7VR8RF5kHAxpraLOjveN3Lb4L8/HRdMue4+0z1EAAADAI+AAAABKwGeEWpD/wAMjpbMAH8I\n",
       "hZaT9Rc3zwHFfDZg6MbvIOYhy7j482m8CS0jMxHGDUcGMtfEo425FKrr1nyBMtJRmTyst3GK+1V5\n",
       "SHzD7NHHzN1Eq6dZOHrd/Qj6bqPCz3/LFfi6cUVtonMCvY920EFBYuVpWzeh7dM1x4yFKeKsgUa1\n",
       "nwAF2OlaC/PvVouYLzpmgxJlNIN5m74pqYRMv9SUvvQstfiBVU7Fv5GYXd9YBICIllwLq3izx9sr\n",
       "bR9W0HUh5utjql3B4EvPvlyLfaZsoBcH5gCORn0rtUAU+wObR52qp/J123rV/vTaThKL6RQiUK1b\n",
       "508rwsUAq3cmlsaxEK2IgBkTCCKTLY4sYtXrWUg6UjOPd9B7yNvdeNu4R99OV88xyu3msAAAAwJn\n",
       "AAACEkGaFEmoQWyZTBRME//+tSqABIHK/AATUcdiY4pU/Te8ULlo6sZk2SLgAs4/mTk/XGjEW30d\n",
       "2HOvQrDwFlPqN8t1X4Ah8uQ++a7FRofJyJctMOXEieYFMvnRYvO/5+V/ZRL71hfeG3wHC4j7SL+I\n",
       "O/XWauUSCaRinYlkRfmj73+sKh3FvDQexifoXYvYLZzZ9dIZhM7yVpB8KsNFeq0Iwb7LWC5PSZGw\n",
       "gfENJ9cz/5nanDtOD1syTtlnXglZcfs6UBmvETKcK5oWZMjzgHrxcBAwq3AAADMnwTHMIRIveNJ8\n",
       "aKB9s4+KKxmcFUv/2clGjcbx04kRGL5F1Z2S+9FEXELcJd84vcB16BBtUgKRAgSaDP0EfxATLVKq\n",
       "+G+UX9TEOygHEKN3XARkXVLtFgyNJggHbCOYuwwzpJbqg79S/sseNpqlPB4yw8M/Auro3C4pqgbZ\n",
       "bWYXq5CWpqSBC7mPWMUQeh/+cSDDnw02u3q56Iqdp+QunkCaBlroX0g80bP/lVUd/+wE2G7MRWRN\n",
       "ICRrmSA7PX7Vd+8zOD9C3zAdQ8sn1mXKFM+sK23eDZqpkZ9GZ4GhsA9qAzLxVRnnZhgUT/fPVqXF\n",
       "3YAYyRrP5BP/v+AE1w0evY+LgUIXGkUtrfHKZd+5CPXdN60yiKEcwzRTwI2nNln65zNf4Pwy46jC\n",
       "wn/VSO3cEXxh4bivLpk1AAADAFNAAAAA5QGeM2pD/wAMbH2bYAJoQFwNGdxEu52TQXEU4BOPBEQ6\n",
       "CFe2Hnd4tJs4JlX7/yeW47ZOmJqp1m+JrUqLBa80Jy0CUqnN/DuvOf6uXZrijyF+RX8MRVponM7F\n",
       "lWumOhmkcqZkk4CQWAkb+/AOuJk4x0LCetf60PVRYaJDRmuPhCo8Atc0K0Fwcnla4IQwwqxyH5VD\n",
       "JCt6rWs8sClbzaHLi3pFxs/mY6YsTpZNICzLlP+R/87rKCh+9RItLJ/QqwFVI5SANlA00Z+AQDvW\n",
       "61aJJexif5jvAgyNaSTkHWpBgigAAAMALaAAAAD1QZo4SeEKUmUwIJ///rUqgASFisSwAbS47wfL\n",
       "qyXz0VMdB/0fWow+dcUtUuJUMJPdK/2mC2HF8g0mm3q31mhIrivGaS44QzfcGCUIVe3fc/DSUn32\n",
       "dYd/kNgd/TJ86yNah8PYBfQNqzyhvdYlmUm+esxgBIlvAv7auN7NDh+Ez4eJ8zE0qSZd1FuHrU9E\n",
       "rHyKFuZoCnNTb0+/l6jiJG/gricSEOgDDCGdDlVKAFz4KlG25Mn5Tp+ypQ+iQx1j8X3TETbUddph\n",
       "qSa5lK2EmWQuzJ32GsnSDe/zW84ANJ75DkduGnvLgydPP7GPFLkiIAACmT2QAP8AAADsQZ5WRTRM\n",
       "EP8ABZtOAnmvkagANpR6IZR6esW1T9+kA9E96Do2KjoluRk1P/DiNI8DPzvkdc6MT1Pmu5N2Nfsl\n",
       "IyOwnS05qCNzwlK4J9GZPPcu93/N3DI4jgFul0K+AmUK3VT3FNUosHaxgxt++QfrZ5e1lrlY4xtP\n",
       "hvUgdvaCux5OWeF6Tg3VG+V5Flu0k3BmHXgB3DlkLoFm7idZ0KWPCAAl14lrjAAAyEyyjQ10ZOoM\n",
       "iFmVd0Ai/2d5do5EHTXe8MS4tlfcuIk1wfze3GipHvTmXkBD0QbtKENJE+foScMnoJcNXWOAAAAD\n",
       "AZ8AAAC0AZ51dEP/AAyJi+ZgA/Z50ooEFBpOJ2h3mcs9Qzc8TdamQeixWY+LcdBNoS6OK4/Q8Wyp\n",
       "wg5p4k07unjA7SVTagFBoGLwShiJkB85MA+E0KTc4g7DX0LfwhgG1/xOyRlQ9tu5p32KtCIlrnL3\n",
       "PAbGIF9cghlO2/PnXnq75MS2upN42dRSolFQHWK6HRySmG0Mx3qoXwS4EocGujFtSZDk93XhdV+7\n",
       "3mxTonYie+wPhzQAAAz5AAAAxgGed2pD/wAMiYvmYAP2r4LtPcL7au83a+2FsnVfCKPArGCf9/4f\n",
       "Qe1i68oMTGHa9WJQ0UXFsIhmjic5cOauwVMzXqYpfWfJ3R+5jkZdfOYSzGiyI6dTJaNSLmVYmcZO\n",
       "DRFkEFdDWFsqlpbWE5+Z84NFN4WOAOKixbOff/18W6mNlyeCznl3imAjzcGkLb/+Y43kADTjjxt3\n",
       "JI5iHZOrfsMH5gTUmaoB3SAcH2sxnojiU+99GdG0DEGC0eldFzmofYAAAAMBnwAAAQtBmntJqEFo\n",
       "mUwIKf/+1oywASmrC2gA/er9FGBgRYOVPo53AbFA2QuJ/VGUZpKNhKSVEC1/hYed8sKHIIL5/VbP\n",
       "DD+amaOYF00p/prZJYgL3f7cB0IzTX3fGwVN6H+k4bPoZ61X8xDy5qCEftHi9+Jt88Vjr5CVtH0w\n",
       "CIhbaRApiaiwXusAFP8yQEUGiZWH+QAV8XRvHBe4uxfTUIrBe+MbFvl+VV3TT7R9VTgnfg8mcyWS\n",
       "h853V8W0WEn2ATXl2ka4XvHleRGLPvcIW9zAzYQfpBF+XNdjUMqYbm5OBxQ36m3uDm530MXYQdKi\n",
       "8txamGtc8bmwSiLaRLZZFSfyF16OLy1eNwAMutN/AekAAABYQZ6ZRREsEP8ABZxMFgATQ4esf90S\n",
       "n1oH7g6kswLQyF8sU6Y1OxAR9i6I+mBgHz7NdgZ+vyQTXYE5hXEJxwUE4gNZo1sSTgo+w+PAzgg7\n",
       "4yJ+7wAAAwAFtQAAASoBnrpqQ/8ADITy6JCBG7ABdJzk6prANtL65qWLbJEivWP5ZuVZgXJvTIJX\n",
       "AiHFji2P5QY4vzpW4vMEeN//D6AQbT5oRNUW9U0XxnPquAkgWBp1Stgu+gYq6uUqdls1SlPCw4d6\n",
       "xHZyDwW0HxcYD15ooX8J/dwW4Rc0prH8C1g2cSVp1vDPPzLOna4X9cMXTphz30HVhE8VFy13qqfz\n",
       "YPNUh91cKOqY+vJjGjN9y573V22K+Gxc1+A3goPepql5fUxJs+Ks/gItSiWZyq2wx/+RwbLWtV4E\n",
       "hLB/BGK0WeJxojW2zYncuoTg9NUr/+wO0JXpOcJ1KLjOwBvu0yRDyHMj8IUYoTBsxLFYu478kJCh\n",
       "LwEP8LXmEHBhbeudG0gmAu+wHmkQAAADADAgAAABAkGav0moQWyZTAgn//61KoAEgS+iwAfo1eyQ\n",
       "/nwRjGQp4HT+YRjdi5s+uDHLzHLSQnbXI4O3KvNnF8Zp7dIitufLeiGd/ot7NmQTf02+++qPulvr\n",
       "Fg5uwpYJ1OQkTHOsOI0YnzyVWN2McQp/stR4cW7HtnZkb/vO6eMGcJ0vVYxQBXiKUfjexiukvIpY\n",
       "8nLBqqsorwl0oBkHZfAmpHPz1VKkEeyRaW+C/xCtzKqaUlZQdaw+9v5zW8jTjrHdzojAj6Jfojr7\n",
       "HOIKzE3LiXAMRei7VRJ1zW/8ZeJNkv/4NLLyFak1Z8WB/JaqZ9kl7obSxFRqPAotmJfxq2ookb4w\n",
       "AAAUkQAAALRBnt1FFSwQ/wAFm04Dw93NzYwATpPv8T4qU5RZP8Ha7ZeqoZOZkkgMoci6th1ki2T0\n",
       "mvOzQ7J86kILVn0qZl0ZP3gsBixhFw1SqIZsamkhvbOW3W8Em/Nc2F8qwM3LzUCxYreqIADyY5vV\n",
       "lNCjCpxxqKODDsVkgOz6RLjmkw+zhoeB6gCZOnqm9Afxs+29fenDRxb6XpRxGCnkLfwFb1Q+J/hj\n",
       "5V05ACD6jw4TGQgAAAMAAu8AAACCAZ78dEP/AAyKzNswAfwiGzU9cX2I+oJOgW1SMp6Y+ihPVccj\n",
       "8UR7+Hz6CKHvzZdD5h5EqRmJ5UR8JpMPHi55j40pDDfKQy8J/CKboGn75FUdogiuYZnJR4H0wuwm\n",
       "J39aioIU8aGM3GvcgMTEsn2Nqp0laz7QSaODvn7OiAAAAwANSAAAAMgBnv5qQ/8ADI6WzAB+1g3m\n",
       "s+homdzNs7VhensI1yb6fw5MC+6Xw5oWXs2FNkjsgtxUI+eWzDkY7GVJVqrXu7wedMhAtNbvh0ww\n",
       "LJ3oHIclgprorj+vAxdNU5tKZpj3g8hSUZO6JCm3KO04tG6b0m3/JNgrx+DfLK7UQvSQ7TCk8rWI\n",
       "8cZnb4RLc6pwqs/mGZgTwCrOXsPTQwUTmelXyN53WIZtUQPDtO9FkYSLXc3ZP6HmFkNiUBCtBG44\n",
       "frSua5iU4QAAAwCdgAAAAXpBmuJJqEFsmUwIKf/+1oywAShz7EADaBl6g0CCGxsYN+TYc89BLGq8\n",
       "7xgUuEamNI4XL5oNHw4f4iHAO+Srf9/mX4PKPBh5zFxlX+4MHdrYWiUfDPliqtu0v3ZOb864nw23\n",
       "VaFRcYRdmrD+vEiSy9kPuej8zQ3yexdiq4hEMMzXnS78R/UPxgTnhGDhym2gI3TKeXRKtt7/yzVs\n",
       "UOFtAdg9axx3O3MmIULQAFejAnVl3knIkOHH/XPHrqfqucrZIJCLfGCeSWgk205/gCumTcE7qQeR\n",
       "JHBXQ4rWq1Et5lPK5JVdqoRqCEh/Dracm2aBwFjLsgQS2/RL50CTO4Mxf6EfKdkIn/LqbkvOFjYV\n",
       "fEyE8QiQaZuNMcE+43T4CWN586yN6QSRh3ZFicJKxM7k7RXbtfQri4QflhqS2g9UheyG7XZsyuHm\n",
       "YxOq11Gb849VIR6SyF10ZAWint020ZmZgEOgE6YZZyUooAjg2Q6U/zroygqxbAFhX9BAIeEAAACn\n",
       "QZ8ARRUsEP8ABZtOC3m6DCJBAAh+2oYhBx/xEEtXAIO5xIPs+QmlU/+w22+Lvl5JVZ+SWQRea3KX\n",
       "YhgMp1n3YJWWFUu6zehJFz0f9AlQMwnF6ZmrYia7Gom4mefXOC7gd2lPv/QUca//TIRvdFrCfalO\n",
       "kUhfV7QHxBf7aJFfOdkyndAUWH+OXemzTlp01Sth6IIMYREiWiC77MdmGYPJmXxVcAAAFFAAAADS\n",
       "AZ8hakP/AAyQbDsAE0KZDPBbv+o+abgk+RElsX4fGIlKvR0URSrcVkxgXrCn1+Norc9FAleUqlh+\n",
       "waEZ7C6BAgYtJeDbBYFtiZKHl/hG+lwk1+xnlV+u1ItrPn5U3dfn++RKoG3GAe3//ZsfqY0muweC\n",
       "8xzFabXllxRiwy2ZDjiUd+NBFGILuZEZrH+o89b5G2lfAcV3z9JGUiXjecwAdiaAmsJAkontpwVW\n",
       "3098HGSH3YIPVXs8holDhcC3sNfhZOIpt7+EjfOfB38PKN4AAAfNAAABgkGbJkmoQWyZTAgp//7W\n",
       "jLABZSY53/C/G6IY5xjSjtRJ4tpVdy9OALXgP0LM/IOx4xCLWN5k9ACQIYO2FJHTuTzvBCTu/jp6\n",
       "woRwWdpgASjSYOaOkbgpuotMF5Cvo1PboxZ8u7bZtqk7dzZSyrrsdWYN4VcNO2vm0REXLzHsbL1y\n",
       "b/hbyM58Ar3wzVWJWQg+gglst2ha13dZZjbHYfjZsvpGZs87D4h8a5QQD0uauTDHAEzJ0gK3eOdG\n",
       "HjsDmL82fB9SzM3ZGBKj7vtZUipG8qWoUdzTClJ+xKeckzzI/eEpBjzcspKr35YWN9JAFC7cTWBb\n",
       "su3U7rDPNN063Rd/Pyqh9/+mLzOjQew7Wd8DtFbDLZDD5xnPenJedK/YhqOqRWW8xZmR3ub1cScp\n",
       "b6dU9HGa8GN8mDgFMHX6mYipW7NUWjsS71Pxi7x6pzOTSKj6rn4tbF9zNY/V443ZPiLM79y/2MWO\n",
       "PKNYZDgAbuYHKY1LTDqMpiohHAzi0sACkJCagJuAAAAA4UGfREUVLBD/AAa+h0yeW805l3YACWrz\n",
       "mFVjVvKmSVUjUuNv5b8IFy2oYLIkhibdUZ6wWhxUXoybKc3pSpav3C91gkIu4J7diWlyLFdX2fpz\n",
       "mCtarWcXFGPAePPdiuZFaspq4kXjZhPRIugr+yaMx0yNsdbdV/mUidTx4ZdBOa25Xxbp3shoMHdw\n",
       "ud9TnC5PI1FbwRVI4CRz+ojNtoznTJrn1bPjZcrYG3R/1SrwjSyoam2UuCqSx+A6tfgBS6KWBaRl\n",
       "tMoNiDA03vsRn8uoZxpAKZXtERb/A4903qyYAAAHBQAAAIMBn2N0Q/8ADtV7MZ6FKiGr8fMLgA+E\n",
       "X9oAzSO0Ojh1SM6iO14fMvnlujzgUY8Oevgj+aPYqZlCtAdDRvGhhYYUVOZfeKO8XLG01RlzEBDT\n",
       "emz7p9jSbMkkC9sZWbOWqh+1lG5M52wbZALL+oLUFemCXvtS3+CJabZJez+ZI/1AAAAF3QAAAK0B\n",
       "n2VqQ/8ADINfcsAE1eoxZ3mRnmonsT6B0AbDorOI+07iE+E5Ht0+zZ6pxT04CGv7lAuhbdt1vKvK\n",
       "DZ7XaexX8O5h/8AfYquraAbngA7B05TZtSe6BZoonNvVN4uEkjuhQR2F72KcpXxew35nYpn+yKZv\n",
       "Xb7EIE+5ecGiyK2PJsT5YbkoiRHHXeM9YXlGP7Ek2gbOSklcJvzG8HXwfjOGmhHOrcBSPHrAAAAK\n",
       "+QAAARtBm2pJqEFsmUwIJ//+tSqABIHK/AAQqcNay9O9d/mWOLmOz+wo0U8vuZdZf24CtGXQ/S/X\n",
       "TKN/pCKSbxevx+cxvQeDA9fhA9zgP4HShumIeEq3Qk7W7N3KB6+8YDB+3IiDe2V0CDHhSZlpal5Z\n",
       "X0YXIvk44sAPHakO449PBn2ki763/eurCi83ukLE6OSKguRXOCODbxIcEOW0BhG2eGjC5+wX+ko5\n",
       "2zKpQjwEDjpdEWOzbqRzhOphscMKirbdbG+WOZDf5jyHi3OJA9yEXBcSLoCfPUDuni5o9T/uJhbN\n",
       "YawVNe6QcBRQMq4y09VGf4BK5nAex/smzvvtKVZVpcIlxINVTEQCvBR6J0B0KU1cSZIV22UTP2AA\n",
       "AAvZAAAAlUGfiEUVLBD/AAWlo6egAS1cKgWIqaj38Nt1xZ6/iOciwKV9hykJOS1W2iUTBWmSenOk\n",
       "HQRUJkp590YzdV1MZ1I+C7GNewiG5yy6H84akrl+BsGz24yGfKyjXx7I0HOCAhLdET1+wbLex+XM\n",
       "l7ZwGdcytyN7ovOqaRyKFWWPwd6EFgMoLki506MiGvpai8+kAAADAEXAAAAAvgGfp3RD/wAMjv+r\n",
       "AB/SHbZEZ2ppSJtdKpRIL8udCiYL4Yvq3xuYdihewpQamy3fONNxgL6OQn6IIGxCRFdEIZiLisYa\n",
       "1d6EICJNiJbF6S0GUpruK6j3wqnLd1ufY/rdV0v2lfBkirpzkDxdPVZI8izSVPTkj+gv65SI+xXd\n",
       "jGnm9/WwKg56Vx5rDo3QTa2oAvRpVP+4omGXqZh0zmfxTyQEbBvbK8tv/G2vUxRp7GVfs4aWmmgM\n",
       "ewwAAAMAu4AAAACWAZ+pakP/AAyPn/YAP6RA6yGEUclZZ8NnbzDhFeqvUUY3lmBDTWoeFfSp44/6\n",
       "NiJrgtXd3Po1ksaNaKl0hM9jUzsaGvxpgMC1oib49ReXL0zO+lY8QUwBk1t+lvJJBBVm6PeGFBgb\n",
       "AoYtStD0sXOviKWKOpFXBJuEwD1O9nstgL2aj+25orRQzqyeggYHYrABwAAAAwOrAAABtUGbrUmo\n",
       "QWyZTAgp//7WjLABZShcwSPKPYMdgano9vgqaACFVMicWOMP2+qwirO/T5ND2YfdkcWkiq0HMn2l\n",
       "eNZDsfjTLnfxreXLB0el/quJyYMG2CkgpYlZAWQAzrnlgUe7zrqoriM7Fm+rCcJ00aF7uXKlgo0H\n",
       "eglP0h1w1e19dFEbUsq08vyj9nle1gL3Dw6HzV5T3Nzrwxvaqe/lL3x9ltaoXSM/bHxDyYs8iTZT\n",
       "niNqvyk6E8472BIaH5yw43AO/PVJfWZKJ+yGW3nacK00pSK2L6JeqIgw67v/2997FmXtTH+Vbsla\n",
       "Mvv2wv544GiF7FluzSOmedsTSsf/5kYgm0Oal1LPZFYzYK+25nnt8Fk645H/i8CqBhnPQ4LNHydT\n",
       "a1SCz3lfpW8/aUUT/z8j6QIH3FGlN6bTXHvCygWZRePzS4Mvx6BdyH8wHDiU12KugYZlIDy96sbD\n",
       "sh3gn4rWG0KSoe2oxx5esknC4cWnsc6MqcmcW6AoBUa93Nfgqc3YIOw+yuEFMryH6AXzMyAl68F0\n",
       "kYLtjBcOeuNNaIHU4CB+m3lhc+KL3YsHfoAGuikzQE3AAAAAtUGfy0UVLBD/AAa+/rGh/XdBSmhG\n",
       "UAC6kHO/en3qNZvyo9WG1LTqX+xy2MNeN9iVOSQ+8HPtPXLqMJxBfjfW9wKg1oRB704RuELOZ7vd\n",
       "CuqMzX/KqTsstTMdBBKaIeuuG5d/obMPvjg+G2QEeul6oR06tA5e91rZO/Y/Ch1OYKjARYDPszmH\n",
       "BZXpHThV1LJNmJr+4Bo2q7BQ7u9ssIjGQErVPCymV/pzxi4SScCvH+pjoAAACbgAAAC1AZ/sakP/\n",
       "AA7XYyKUWuV0smQqgA/malUFS0xrFx9Z3xJafh8JumT2EXmDlk9wVDxJuWLrsEUwNLCRM8K1GOfG\n",
       "hTyzwTnvu5mwrRzX6nE63yDu7N5lwnuhePu0IvnLAEZjXXZ5Y/uj9MwqINObXfUWZZAMJ8whrnZb\n",
       "NBDhyvwZtgU7e5ptguTq6LqjHCoCmn50tsdYlOwkY2vbymvqQRSIvxOkuXurmxVY2/HC6eQK/uwA\n",
       "AAMBLwAAATZBm/FJqEFsmUwIKf/+1oywAShz7EADat9nYacOM+APeawJJ8I2A4EvCdcmqPSLWWNT\n",
       "vqP0WmEWjez8se0xGAW7zq5bu9LwDnXti5kMTQXAXby4YzBvpVmXpPApdHzAO5YzRgNu/qGdJ3VL\n",
       "LjEjVYsXh3MYVBl+Zbko08MRYOpLUPcVdwtvYEYMGUIIijcQTGlof8nv1D9coBWKg2SuD/i4a6IS\n",
       "fPD2U3clUOhSTDVnm6BPatRCRNtx09ceSbjFnNV2Y8HuJJ2QL7M89vFEa9jp5cXS281EF4NRctcy\n",
       "4Pcf8xnnbbzWYnmGPVS4nPISeSBhaibUt0TcZolztz1arzKCF1Ij2Rk0tgHeNhiVZd4R9B8m/sVE\n",
       "bP7+kYzm2Q4eU+EIKEE+fcys1847MS7SmXABtKfi4DjhAAAAzkGeD0UVLBD/AAWsZ5MAHG32DaTV\n",
       "ZbIRXp1/wLIXT4RshbwYlrmuUyx2fjVa6KzCl533pZHp2p6LfrTFkvG6FQcroE+bNjLEw49SgFe7\n",
       "Q4EroYAH/c1eturJUzwg79Po2Yapqjb2VPwOsB/EHAZNLCglipAsK5PkmP1aN3Le++0epTh5GI/E\n",
       "FJofxZHUROh1AghmrFIvudA82gah//Kg6rvfyL1q0VL3g3ALr9+tjWNPsmVkDYcTx1EjL+gFbY6A\n",
       "Bjw+loEhrJ5YgAAAAwPDAAAAzQGeLnRD/wAMmVmAD+kQOsox4C/S+GIDmKQATDBRAe6iJVtRq0oK\n",
       "tcARAt10SCHldtuv+8BPVdNbPfhwf254vRRJTVL9hM53cvYSs/uRarajzONULmJC2BT4OHXtp5Bm\n",
       "7tU+xIQ0uRDgO4Y12bV66Z+uEtKz1W6TcVjH8Vp6fQbp+AAAAwApCRKL77rJohe2fvnhsgFJ0Xxo\n",
       "dR4Ibrnro8ACzlL+dWHta21OiBEeuHwIamMy8qBEe7v+7mFRoZNM5Qs7WLg6cgQAAAMACmgAAACS\n",
       "AZ4wakP/AAyMnnmYAS1bS6sJgBEXh62iqZ/NqMGGDf+IcplIIpP1K6WPJ/gY6ZYqENJ8Mmwp8TYi\n",
       "OxJnvA1xeYLQ2Y+pKo/RWAbVuMyAa4np7YcIjR/F2szxvAZid21hAXrUipX58uekLw3P3qYOjUkY\n",
       "/ENrd0NLP5XPGHU9xt1XzX7gV769GIC+dF+AAAADAXkAAAFGQZo1SahBbJlMCCn//taMsAEoV/kQ\n",
       "AIVSxE8mbjWAxGn9w0qTCCmKQqV8hFLwgITxH9di09kJ4rGD0IQI/4O7ZxXF0P3EQlks68nacot4\n",
       "qOnaLYU+kqwXe21LxJ6Fl2tj2L7sgTWU8D8AP7qwRmH8u7HFcxlmtzm1Xo4LKuaLQt9xiiX2v2VR\n",
       "wATr143JKc8MpctLY85PYVeZJKCmzkGeJFvkDxiyrdLO9ppYE+Ya8haLGkofFaObsxPRi7iBZe3S\n",
       "CR7aCZ1o9q10I5h1TN89khzGSO8tQol0Rc8r7EbJNKHBjrEUsggsk/kmG/1Dvlv6clMAL1yaK/YH\n",
       "KDLg5qjGnjbAc01eEZbwKlX4T/8xspb2HYCfkh/Q4gsBRiTeQP7yEXxNaVyjainmvRo6ae+nuKlD\n",
       "qah0aWR/jXAurvNMKg8TaAAAN+EAAAB6QZ5TRRUsEP8ABalPuyAALlKRMKFCBf7tzhEoMxaoIlAM\n",
       "t2QE8syYFtqBUA0pMsQqQzzNVHkXbLY5kP4E8iiwx0+QQI7szsYFS6wIKduOxbpuO5AYyO+25Wgi\n",
       "ZFcDLUTMM0mw/BwMTIcNZVhqC2iS0HnFCyD4wAAACDgAAAB6AZ5ydEP/AAyO/6sAH8ypidPM7XpO\n",
       "7tJ0yY6xoWf4c2M4oCJdIyAdG/GxEdTD/dKs4KsZbVDggFYa6mgqgKaOR3pXfFf7llN+HpvPx2g6\n",
       "vS9uZYCgAubzgFVbiL5krhjSZNBQE0JWPKHCo9JEWBPAMQ9x7CAAAAMATcAAAAC6AZ50akP/AAyP\n",
       "n/YAS1dledgVU+FItIB0SJ3RGcAc+Sy7INzpCQix9XReu7oPJ8DPm1LbI5hHgddR1PCOAV7EL6B8\n",
       "vM7sIryK2enXF05xabWh3Hl7n75E3x3Lc9awnj8fpGSx0KwtuIs8zNrQwHOwfflI8fFZz1o5UC7K\n",
       "gGCbpcRszocDYGzBRV0kQ/oacGBc3RcLlGr0fEa6Vi3TqKJQsradYPSQ7BBP+wC27Xadkg/9o5ha\n",
       "AAADABoRAAABnUGaeUmoQWyZTAgp//7WjLABZSgqwQlKBoGlZiVnb+nY/peKj6AB/H9nnvsGKS/4\n",
       "6bBn5sHg/PAG7NkCeOthJd7fauwlOwoipUMHH8wSdNZ9WB/MRtGexsFJLzzUteMorMjbU3RwbG6R\n",
       "RlfQ5Oj0BPFOpuypLqhgou7lSlz+L7gIRc4Tt5ZFBMiORMUN8LjtfYvLbxMPbM6DCLAWWr/GeE/x\n",
       "So8gUpCdG3iNfv/cgIJmsdJLXuAvR4/eBTFzfDShoDNGkVSp5cwuJqb3gCPuJXVTXSzzqGxg9Qd6\n",
       "TyySU2x9jwX1rWewQ3MDdEkjxY7YjBDoo6uB4czWBm87rdECb/z7g3p0wBeALJen5RdYS7zxg23r\n",
       "v8sOWtzPAJ7U88fvEiiv9wm0tAomssMZulFlCRkJk4QvTvBSXo+NxE4SzrILF4GUOFTeJ9T8IRh7\n",
       "FIBk7eaJ68tut1zYph5Y/238SuIAM5SMiOTnyuwsJuxFfq5ShFlMHD6swWO0v5TUkGO7i0lZaul1\n",
       "QtazrW3TzLSacwUxpcAnAd+HR0AAAI+AAAAAhUGel0UVLBD/AAa+h0yeW805l3YAB/Q00Bx5ly0t\n",
       "e3t0DptxGn/wn2Bjr+ADLZw8NleOsonK0bh4nYMQPQoYWzH9yxs9OfFxRjwOzvA04m3UTwlau3rG\n",
       "X2l3DwyIQSPM9nSIcbAKKFWKwQkUd0mst15bKUA9tikrzqlBlbluMIYAAAMABZUAAACKAZ62dEP/\n",
       "AA7X5mpk6dnvyW1AB/LxCgvSM1aIZWmwejwk7r7ScvJuju1NaqFrFLNicKkcOxoPKT1RhM/hWox4\n",
       "ZZCInzi5Bm1pyFp0lvQ0L9bvsGziAaIZmBX+2RNLTf+jl0cVpvIEwVDCXkSqJ9s0lV+PIxwnKQaM\n",
       "P631KOE5ljaH+QiAAAADAMqBAAAAmAGeuGpD/wAMg19ywAW9dleeE8AZCLsglYgbsESIMVlE9YUQ\n",
       "GRmb7FjF7njsV6hJVxOC4dh+f2zj9euEmt2bJPmp8Fd4AzQgd0NhpxWGRkda37EiSNAVNGHxXfWE\n",
       "TYnty8o5Mah1XfhBTzDmlMaruDUTACH7wrIVDGz8A3l1h5KxIFJNAOz0bN4mepIv3TGIXsW4AAAD\n",
       "AGLAAAAAx0GavUmoQWyZTAgn//61KoAEgS+iwAlpyrV97GtdTlklueP4b5SxZqFCOxpLHWE/swkf\n",
       "424z2JW7+/dRo9/R4XozBR+OOmhVnjBCliy07L2IGP9fQpY2d1o2sopIOjW2KWPvfkMFoG0e2TOB\n",
       "FeoC3y4bYQnr0J+dH3p9qr1oq/2+jF+/uTW03T8hc4CHle1EZGh4vzhnYBRc6/dtfZammwU5SJZL\n",
       "LefpxCZMlsPEFlOqqJie5Mex/hpshCeBvqEaImLD6AAAKmEAAADGQZ7bRRUsEP8ABbCswARB896T\n",
       "K9/Pfy2DvSh4wBSaVzTAp5jwLZJkE7ycCQAMNAhIFdZwijJ/bXwaxLlmCMdTgGhuHYBCkG4z0zGj\n",
       "NyEpXl7cqPNdY90A7UIOwqfWA6kZjaMhR5OAt8ta87y7d3O1wpgqFUb6rcuAOmNnO+tBlwAAX2xv\n",
       "0vh4Bh6C0/sy/8e8iP2eP2dgJuBhhLX1EI499r4qrsoEfLR4RjCLjo7NlU0lKQQcBGmO44H9IaxV\n",
       "gOK7AAADAAJuAAAAXwGe+nRD/wAMiszbMAH9HlokaSq/d/qnOTGtSe5sqmXEjvGE5uCn/4/7x8w/\n",
       "1+VVGWCz59i64vMA/5vAADU8jjRyyKfA742x9AZ1QV67PS3SszQ4QcJRQDaUDEAAAEDBAAAAjAGe\n",
       "/GpD/wAMjTr+sAH8zZvNZ9CcP0rK6lI363oj96fXjIuaYfuDx4PlDEDbHKNpIulKc/A2y272bte5\n",
       "A3EI5km46D3WETYnuLJOVs1Dqu993OnvAaRWAZNZsSc1jZBlrAI9AAPd3+y+JZ8I/rkMmzJvdJD/\n",
       "wNeugbSF0eflOcyvSCFKN3nJAAADAAPnAAABakGa4UmoQWyZTAgn//61KoAEgdgQAFvbVt+Xv4fG\n",
       "lvNRKO3IvqjLjlq5dPDrhtkJEZJ1sErgxggBFC+5WPbG5s+GZgLtgYZN24nWLaDDcPKTxHm/5xMr\n",
       "uEjdA7EqYW9sq1BpPZN1aOz0qfRrqTCF7V+f/TyoDNCF+qVxpPuhY54xU/cAUhzIEQ+nbDyiUpz2\n",
       "iMhO3C/D5V/u5TSLtU5CJ8DsbCwZCjo5fiS7MQXqrtfhHhbgPSqOQQRyemf2Scenut5YWYnF7wzp\n",
       "YXakrfizDqvejXvwn1cayuztcU09GF4V+3qaVV1E0RDI6zUsoQfQAVBPTz8L+mqWHek1NVl/ZRBk\n",
       "3M9aV7v0TuuMtEAZzgy3AQlZzXNRli06elAdmKzk0NZrwBiuylxbRhq152zqUSYPZNhWH1bCng6Z\n",
       "JncfptQzjGe27IIzD3MephSOQB5aREiNCehqM731hlRQGQFUGL+H1PdeuwAAAwFbAAAAdkGfH0UV\n",
       "LBD/AAWsZ5MAHG+cXyeNr35XbpTfVyWURSKnqkpbvUZ0rW6fhCLDDNhz767WYV6IVzgqTAsn8d9E\n",
       "6LJHI6K3e3W3zWl942ym9TJ5dePLQdI9A26LrZB5OvI7ydXV8N2jFfuQgBj0NqCgx+De6AAACNgA\n",
       "AAByAZ8+dEP/AAyKf/rAB/SIO7H6DitGWOUBsZJHQIpgDFZn93gU564i4fPd/2KK6vXtUzc9Kydt\n",
       "79p59+x5ITPrK/tiBn12xgHA4gpxuY2JPmXzlP7qNxVeZh//UGeksUKepRplVoIQxAha7Z4ZYfAA\n",
       "AAc1AAAAjQGfIGpD/wAMkGw7ABNS3lVtpL1MSawPlwDMUVhPhjEEBcleaCve6vFQPVeylOfTraDD\n",
       "qb6k81ksraHFKjWUJFWbpHG3rxn/zFBZ2cneaM1pqYerVZ9Ncy4fW1+hNqJ0i2jkcM1vhR9YGxoE\n",
       "K+NmwhgmpCrbLS4oYGBn534zpktj0qf4fKhiLAAAAwDrgAAAAMVBmyRJqEFsmUwIJ//+tSqABIHK\n",
       "/AAW9vO8GaR+57ewM/DdsyuCRhsrJZ1tG2HG5Qfjo32MYDjSF05ObYSIE72qr/XBYyKmg/W3QXmE\n",
       "CDTGigJG+X6xTua+wa5tL+a9ZNL0am7Thmky47Mmw81b+Ck29z4LHOC5l6qZIOPKklN711sWurmb\n",
       "oKlEOGJu0MPXHfsA/dwUXQ92z354qOBLqfUlsRGl5D+w4UX9yue76iUk/JZv40TRltOqlYCWtB8J\n",
       "ADapwwwGZQAAANJBn0JFFSwQ/wAFrGeTABO3z4l9WAPql/EQPcxh2H+/nQS8aWz+f07MjI3n/z2Q\n",
       "4jXzoFNPIBHsmB5AvL28ALz8+znv1rcO8i9NGbm0izAK3oPqJJBC35uQYGoSQ0g2ezXuqILr0gJa\n",
       "vfw21u5bcujob80jMHDcwXCZaLqt2157ZcSWr0LZrJr8lSifoYfchOBl3Fl8+4krrRfOzxzloPlL\n",
       "chRNTuPsE60e7CoIzcJjbQX1wA2YHGgx6zdpxHwNMmW9BnhPgetz8f+m2CScsAAACmgAAACzAZ9j\n",
       "akP/AAyNOv6wAfywp0dzZ7BAIh+0rcXpeumjKM3EzFrDzNQAV3+GEnC99MG6vyf9nd+qKfmrepjX\n",
       "dfHzD9USLAY+MrZvEG85RuDkUJDUFCa8WunIdd+rCI750BySzqDAN6S64pmVxaar2gSHTwwXc+DG\n",
       "Qm+1IHfEF2RaA9VH90GzE6TFIfqxSZyUWMy07LejTLldUKABswayy/hLxW5Uau+BBBmzAAD2L07n\n",
       "gAAAB3UAAAEiQZtoSahBbJlMCCf//rUqgASByvwAE1nExDEJ3qblPyKyTaX9cJfaMRIMu6R7ktWD\n",
       "d2UOPra2J00hFJN4jd4iFCA5TaqBXs4gt9Kuga5DWPQjTH3UdaqWcP6o+iOqLEdKYvDUPRKbMNvv\n",
       "H6ErPl4xAz75kTHlTr0YEVv2L8qazC5J/KI37JWK4acAnJfzbHhHUf7Ty8SZrjz/II07tKeZ23NM\n",
       "hI/GG8es2Mu/gJvcwbUYB+Y5UW7VNi5I+tVMc/hVIrvwiYP7ACDNTxdbQysZyMpCiHonfhnDyEnz\n",
       "ngNgIsMPDx+A2yZ6jSo+9lekfJ9S/YZETiwI1RBD1WBcvKkV87WYoDm0YypGWT5BRCOYUUvDKpIP\n",
       "B03qP3Z8egomAAADA6cAAACGQZ+GRRUsEP8ABaxnkwAXVeclSEiSAWFVfx5gDBsmKgeu5u0hD/gE\n",
       "m2G4Lh7DZN/5NESvSM1KC6ERbBs9I4CzzSNtrvN/q5vfCkW+vvDHDedEnFmUlOxd5/wv8cR/UmuA\n",
       "ZzxDKtdr7Mh2xnyx/TQWluW/Q5Vrm6h6+x+uLCkoaa952AAABg0AAACRAZ+ldEP/AAyNOv6wAlq7\n",
       "LNVP8wz1fNaxJu6KmIpBrTUZI8YGDsTkrQXHd03cHKTVAOAfqhvIIxZIR9Bc2vnafhz2QC+1er2H\n",
       "4Ya6/W80O6G0u5vOV03f59NjqQWcwY/+QWw9eJfynpIG9bdAzgleOIKukZHvPIqlNYkETKawf6+V\n",
       "TjIC9tZLz5wtiAAAAwAu4QAAAGcBn6dqQ/8ADI+f9gA/mbHWdf43Pn7R0qfBiAKdhTNfI+NN4ADp\n",
       "SUvUIoBsSe69hsebgr2A04W57E38xSCT1ZoJuiIl86YGPi4KAPYdzHNxlsRzwTx6ihVQFFU/Ocgq\n",
       "TsCruCAAAAu4AAABBUGbqkmoQWyZTBRMFP/+1oywAShS2yAA5xzXFIwO3c184BbTjgj7gU+/VN+L\n",
       "KvQjLHKa76k9c6hziuCTJLQ8vn00sYRvAb5CM62RAWIhXQqVUkrp1FmOkEyXUoYIWfq3muPKKqcz\n",
       "F0y82XvzKfYdA/0DvoBnhTSt8FeGJE01XJ3dioIWx43E4+eGDAz42i11tn629nnkrhWsrgoOnfY7\n",
       "GI1iER+N1SbLfsUINJy/j1V5K5Api70K97FAadjUAvbzaMmI3LhEp0rnhh7aFAUo/AG3gZyqmYKj\n",
       "rVVaDDeTiPKfL4it96JFIHx19CvYDbYIGSj1KD8hfFaIuE/3AMSKAG1quZAQ8AAAAFcBn8lqQ/8A\n",
       "DJBsOwATVHwlH9PeNrud+yVWzYt1v2H6NgMAACXlsnmxJ8cU0UGQo4jqCZA1civac2xn0XgmI19X\n",
       "9xAgzj18aUCDmOWvGevbN6MyAAADA1MAAAHSQZvOSeEKUmUwIKf//taMsAEoWGogAf1uvTtp3uH4\n",
       "95uc1BxdXO3ckW9ijxvgEpWp9B+XI3XFkt7Buf8Bxjt0CJENGwjF/Gyl139pGB7qXPWCz/5oEJ1J\n",
       "aoUmljboGsA5g/RoKkC1cIUQ4iz6CPb5+78qMJXv46xKUXS3r206yMZji+RH4wGIqFS40smIBEhv\n",
       "F/uKYWHf+AFLFukDiBHeyHJcrPYdiikVyN6bRBE4CYB+fq1CVmyS8LeZuKDLSSW0SakDdSOi8X/Z\n",
       "wcDqCxLn/0TP/fJxFHX+15yuMWihlCkS6PTcw86MahhMOuM0f7XYbcfKGu5fwFjCHPuELQVyrSs+\n",
       "GCHgFn8NpfC8UTQjASy5LZ6AzSqfPSRrrgzmhNBTOX6eEygZHg6mlpP4JmuJ20tZowvrXxPwopVb\n",
       "bvN1gaD5pha0TBzdw/K3nejlyQl3rOIhFNKrPrGPBIGJstgRxIl72gYEbK2JCpTNUVioWi8vO7J5\n",
       "u2HRAg1Nj7+voQmmk8bMy8xnkpBvaqUP6rSCFI1wSu4EgCIqF5MtSX4E8pq5Ok36gXFSMpuZzQsE\n",
       "tdH7Uk0LEpe+CKv/UsYvY2ZAOVOgjgDafsIfRy7AAp3M2ABBwAAAAOBBn+xFNEwQ/wAFq/kmAC6r\n",
       "zmFV3pDr0bpHMIhzs+W/BgSmJcozvPjbrK2Jy9IJnijsu1X9BbzZOOPERpamJ18ogdUmtWQaHClG\n",
       "YqxA2CFpNJhBapHJmTc0upDUsRxiwB2BymdYEooMsgQa4FhX1aHy1AGnDyN6t00C+hodHWIJ6Ez3\n",
       "t0X6ayIP83bHR/2bVFcnr4GneZIZdC2yxyzvqaqcVlCYhBCoVVaIIxng7ZKNF9vDN42yOXiUEApc\n",
       "Al+XOlylIAACnc56CReYxR9iOyWRQtVL9OQT3lEK0AAAAwD0gAAAAJABngt0Q/8ADI7/qwAf0iEY\n",
       "8aPqL7MFKMPt3sJaLMEFq9VBv3W6M8OnBATvl8md/YSnPia8VTEw/ytnCtz2SQPRoQcpdb5aCUpc\n",
       "O1NMXRC3X+sg24KkKGi02jfuaf/+gbE/Q9W7QoBgV8GhIF+ZfMIJ78yf2I8UG0SIzi+pFHpy7XvH\n",
       "pCfVRRu10l4KKAAABX0AAACDAZ4NakP/AAyOlswAf0dVROogoQ0BUeIPqbddzbewyp1qdy6oRda7\n",
       "kBBAbYk5MvhCP92CKBIOL724VLq86TYk+PlfpOl4y2mQsPpjEEJaEtYS5q5gxvBmdgQr54eJHnke\n",
       "zP+aaFNnvJGgDN+F/I+OUF7bYW4Y7Nvx0LqtAOqAAAADAxcAAAGhQZoSSahBaJlMCCn//taMsAEo\n",
       "c+xAAvs5AGYkr83QUBvikA2eRrGlIrrtQYt40W4m2RDiMT+WzCkyOhTeZo7N+7FbSTvcH+10dEm+\n",
       "fcj9HKGA+HqJYtrW6gMtxY5+OrjwNRZjqf0W4ez2sdfYvHJx8wE1mmc2FWZ7eGLrwuaH6SUFqDaH\n",
       "sPM1cgm8jmRnVcUkK3N+clqLtW+bhWj31UXUaxSbTeYjzHA3626lMpSRtor2cWOobC17u0TsuzFt\n",
       "hSKiq9u9hUpZIKz8BK9Kw/noJzpPh+flnZHbQmOd0vXZHHuP6rCePwzo5AQrrTlKJ516rI4rvLxU\n",
       "XCvCAJvx4uzWIAa03NGuyFNDz6SgI2HiVrlY0qlCa0yKsLsW5bYE1kdBMn78ReAlQPZTK0FyKb8G\n",
       "SGjgFFp1m0O4kIhXKbL7L92I/3UOqjKK199RjKDCvA7JSltd1wsUHb9Yxqj0u+zclbTndhp9b2ZT\n",
       "u94txXVSDtifTDS0hE+3WbxV4En5g0N3+PnkhkFgyiiQWgKhYNDsxUA8dRLXPjRYXIAH4BczoGFB\n",
       "AAAAs0GeMEURLBD/AAWbcHiTABdVwnHKR4uci1LxrivlVQmfg5V60vc8t8Z9BeSJVd0vWcCmJSUa\n",
       "lBdBu9e3UimrZybBvEzINhfqlwhQM0dv+JdiG0VCAh37/4uwW6wKgjlQyRepTTSEIS4d2JKY3K87\n",
       "0nXV70IHC+J7Fj44ioftmui9MiwRBVPJaYVYugb7rz4jc0PRB7vgAYJV1uYED1NwdbTAJ/6aNxKA\n",
       "hr8loC6KgAAAAwNmAAAA0AGeT3RD/wAMin/6wAf0iEfBW9VHq+VJHyiW8TTpWiLX0ZwrFw73bKul\n",
       "zWda2NCC7/wv6aFawDobLASlKwe0OOAXJOi+QATeDMgbQ7oah2qPaTPEi9dREx+bW77kcMsi5CP6\n",
       "H8h4Y0Q8HaFR5+bzAdZUndKvwV/+AKRMNbAs0vv7ZgH80/WXSZMwHj/Y4zqDYXCH63jgShlZ1Hm+\n",
       "mnwADwDIMyY80vFY7m7QSfJoAkw3Ofa517NpJlEuOBxC5Y0pacA0qt9Ya3H97gAAAwAAf4AAAABU\n",
       "AZ5RakP/AAyPn/YAP5mx1nYBYtDHS0B28bR8qtHxJAs+NN38Hp5xZnJa5SiCtwVCdNqt295ED0YJ\n",
       "/sffJATDlRrUNkMNfYZVJuzKRUhzAAADAEnBAAAB/UGaVkmoQWyZTAgp//7WjLABKef/CSSDYXWQ\n",
       "At1y7NqECea+JWhaoRQOgFezowv/KYi6s6q1OBijWs5OfBivh1y23TxZrk7EXxz3OQ3R6lUKDuu/\n",
       "NffoD0wxXMfapVn3WswkqhZvtm81DTvHKihsvnNEcZw6hq+c2cPCKU0WM8prWrEKZuwIDwFNeDk7\n",
       "WiBgG6zIJrIZQt1V++yUF1EnfZbrbmEnTNBeHc7DjAYi36KfubgY6+XJisj4GwHo1H1TcCdg4PxG\n",
       "X2Lz4cckqi+WOYTorF5Zq1Fr28XAOdriKiafezJ6Bt4W3y5lzoEKM2YO3fvLK7yPbBru5Ugj64iH\n",
       "yJko7zFV4x76VYGBhtCZbW18vFoedvuyVYWJsU+A8wdO8NlVcd/UXPvizROW79PHA22DsyX8lbIN\n",
       "lpJiPEuxtPnnQ6F8my9OVOeZyzuHm6TjjhZKdswdfKFIPQaP5alnCqS+Ia7QEnmuchvz5yJBant3\n",
       "aTV2gbzj/mCNn9L/A4Vh40M/6EUDA1BWU+1n1uTO8osR1APhkh0lxDkR2SfJCj3QWvH1+d19cIWS\n",
       "QGcCB5cOS9Ds5YyMXKqpUwEgF41zQIuS8VSp1qC6frLYZ4nqkm2j8ApayZOt7iHC6Gz13SjAWP16\n",
       "K1u3rB7Wu7bQH+2QMb0Qry/znsAATVWIABQQAAAA8EGedEUVLBD/AAWst3UACWka41dKAF+LiLzF\n",
       "2CUXcEZwuHBrAUp3vLFrU2s+jpW+5UbQDXbWHLWPbnWmoWGpmjN0KnGeylGuqaSd7kqW0/ENmqmU\n",
       "LNahBLwQqYC2FDLtYG35wt04K/YMh7lCJwdfr1OhwpK/s/fGSzypWCM3g2A2hxW/400C0XVZO5G9\n",
       "/+x16Y/xc07MAAI0vA4LxOGBR4E9QGs909QUQdm/p8SxgrrshV3131ZkS4/ONmuBC3MsdEA8fKjW\n",
       "K7B+6mtjzADQZVjGev5OaUBHjUCxJREEOQkKdvIWekFSM8fE9AAAAwALuAAAAOUBnpN0Q/8ADI3p\n",
       "ZgA/mbLAYKLvKtwiAEGiKfHTxruDyQLn//f8B2o4LhgGPT6XNmfYVA+cB3cyeZYk+cP51D+pHLmd\n",
       "M4PF3Fk+/W2wtYsbn55EDAa1bETem94Iv2DNd95Yin6KNxm+diPVjuzmB05Le9xerB25fqUqP0fA\n",
       "f+dTf/qsAjGH0HYCN6wTVZHgfxZq4PSNUUihVbptiLpxdzD33DuWpRMhD7W3pZLsag0yusxur6XW\n",
       "euXvTW3jgmcWtFM5ykB4bUlkb3Mgtr6saABaoK7UcQKXfgJZpXXknB9xAAADAB3RAAAAiAGelWpD\n",
       "/wAMjpbMAH9IhK3/etzgnMvlkHe/Xr/hC6D0nX8x71g20tJaG+Tg5uQlRUGR2R9lKc+gJB1g14pB\n",
       "xU3niTJuJvXVdf1q7Bapzfw7rzn+rl2bNaU2b3CVZOxXg8W/z9JS0ym2cRv9maRNQL3j6hOwrJ9z\n",
       "O+/X5yW0WQtAFJeAgAAABZwAAAFwQZqaSahBbJlMCCn//taMsAEoc+xAA/rdeoghK3gS1iyIXwrZ\n",
       "8EIdsMCctnC9ViqJKn7FrArbYTBvEtmIzriEPYdwXKRGHPQyGqMOPrkWAhoJWRG+jMJLCijUCWhZ\n",
       "gS7VFut2TRbGRU31X8KjswGG8spfeEL0Lx6e6RBO2ueAH0VdK+wdVIolJvQDJX+DtWl7nqCZsjMg\n",
       "6vhFKS+llD5zgXu4dUaNjvbHf9BsmIsOyUNqxGjYWgRnAosKj2cnw8UZfP/KQdFsjHRvmcWQSw0t\n",
       "NltcDCiQixSZw08d/iSeaP2NTUjvys8XJY0yhZCB9WU//DbgDhkWzzg4XpmKj7NK4yns1L6ACnoJ\n",
       "pNEURJmY/UyLs8NuspRBU57feiqt6i1tc04du9v3XIWrTpFOx3lNtI1vIjgYN6MdGSz0EBFkS+M0\n",
       "nTEL5wcXsNXcSc7/pFBXFDy7mK7HncIZ7VjfcjBsoAQ2jWefLNiygAB1UNpMEfEAAADFQZ64RRUs\n",
       "EP8ABav5JgA43z4GrrGht7Gyle69H6g6h7uxSNooVwT6rAM8emQ8cxEvCAZpBe+XbrwejN0Kj3tZ\n",
       "qdqDWxyX+v4XaHyKy+PxyEOdkbMRaNZ0Idr9a13tXP2PC0LLjGIxZppUGx1RJSGYk9VB19zAPKjq\n",
       "60YznBNVEMaGkKhiIAAEAOmfTF05N2TiUmPncKyih/pN8pigC+UHlFPeCYTTZQEDdMuYAgW6OJHI\n",
       "Ne2J8C0RpGokBs3wAVQc4AAABL0AAACnAZ7XdEP/AAyN6WYAP6O6EvV5Ol8zxKNnzY28s68Lwypx\n",
       "K8t3gLszFGHjDyAxQykev+gomO42WZMvZDHiZGoa8w7kNMSPnlKGnY9Gs7VkLBDlprIQUYY8sK9f\n",
       "yGlE7BpvPSAx70MDbHo9nT/39fLnNHsC4OEcjeFZxEVxsweN39s8jEv1zNc5F1nOWBdoA1W6tpoo\n",
       "CZDeM1essQQOu3DeELngAAADAoIAAADLAZ7ZakP/AAyQbDsAE1YELYFTBX/bURJqv7IuC95+FCqz\n",
       "kWq2DufFZd4iCiY5O5yZj53djzmtciH3myjYk9/tyDsVijsk3BTSqQmmaUzNNagzc/5psrK8mOO9\n",
       "h2SqRdn4dpUM1vB6yChSFs1p5jY+c+aw6ArkBj2YnYXUkbxNMGl7n1kkKMHilkpkZrIj2MIeOisa\n",
       "niPctNelbErWiJMm7FoWhFZuK0wDkXXcjE+2XSeCbJYKGVMJ6fBmY/Do+MJKM9WHMBnwAAADA7sA\n",
       "AAEvQZreSahBbJlMCCn//taMsAEoc+xAA2pzXFLCkD1zNgSdFoxGB1VuXXV4Yn0sEGzZ0Bosc9ii\n",
       "/YagE/nrAtGSd/LhSHRnIiu+7PvFsdXpf4lq3aLYOIENKx/r85YGnXUx2THFdQ9Sx0ULzUVk8PLk\n",
       "Ic1w5SP+BPGLYLDSHB1d5SltV2G0tdYlazd1txpSF97Sq+BrAB8b9jMQGxvtbYm7G1SBT1OTgq1W\n",
       "H+LGjeUAZVDtp3EhDieCaATzxH6av/sCkIPfwg76OIQZWWouJksiD/hauWISCa3OAk393F5moqXS\n",
       "RFqZnPMa4GR0xZ9fivEDFdXNqLHydQKJUDDpf3m2pVK1w/zLH1h6WOR0OO+3AmMwk8BkquT1Ck5i\n",
       "PDSacoUGn+OFnv3vD+AAartwACDgAAAA20Ge/EUVLBD/AAWdcy0ABtUxzWZSHZaxvjVCqiwC2WZc\n",
       "E/+edc+srARYOnyZvHKbKXzM/mCkA3Au9IYjFFR8fvCBkSZfzWeGl+fG4b4k0mC0Pm9F7hsIoSOC\n",
       "U3gbtOXH1mpDXO0AOeMjKHkoZQn4yx61108snIAqONGGiZqldWLnqOiJUxplX4PHNVOYjE2MP//s\n",
       "iMhYqinaAu6c/XwkkOXcjffFMJEn73MWyKzXDyNIeNtpE6frNcHUkkkd8LZBXxCTr9C0pNUOS1vn\n",
       "JfbHz5pTs+x9vAAAAwACgwAAAMABnxt0Q/8ADIRwblgAmpbw+dxhu1BYZie5VLbc9wON8pJdbIeY\n",
       "K32nwmxJ8bYW/B+y6k5RDvI0duOgKmEgMgHD6LJOVJMZT8r4IlCGMnjDxUCHykFke/3G79IVe460\n",
       "ADd3DANZ8Bv2AyjITuXs/BngeHFqSm3KOGxj977O3mti8XwM7CooG6YNqM8R1xDhiCXqQZ6ceiw4\n",
       "gNLF5+UnpKdxPigwlunk6IXf/zUoaZRgzLpRJA1A2BRxsatYAAADAf8AAAB3AZ8dakP/AAyAcG5Y\n",
       "AJqk2Xhg88W4nDUIPUJ88JaBbAM3gVIyjtHsguq3ahKc/blZEX+LrLlEqEcyTcdAVMJAZAOH0WSc\n",
       "qSYyn5XwRKH9V1gM+fLOoNXeeSA6LnoRqF6/MWkyL8Aot+y2DX+I9OkI73gAAAMANSAAAADlQZsC\n",
       "SahBbJlMCCn//taMsAEoSkXkCAAmtTInFeZvQrZpQDeKUbA1Q0PABHDdvDZNOJJGDwqO5y/c1PzY\n",
       "2TKyKpEvZOX52o2lRmZ/EaHeWYVpGTQpOR/ZZzbzqrgogPRlEg+6yzO2qaxyjzzxip+f68MAC3El\n",
       "dbxHbhBb2XdZOL+y5QTJOEeNySm9HicovOG1+0l1WRVmHWCp8z6VBZ311jO1s9NlXsyePfek6ixm\n",
       "Ga4nVyPDRPDbtDRMyzn8sx/LA6TKLuPOKCZWcWmGVGsFKQnDuRXeQsBmIv+98mlMABq2UvQCBgAA\n",
       "AMNBnyBFFSwQ/wAFq/kmACdvnxNH7Y98HC55U1IpVVwp9VRhQjg4tusD4AgE167woN5YCS8/Pyk9\n",
       "MAmSoLIH/2cPYnqeCGDLKnr7aiHVpNJg61XB9cXIfwnCA5kqGskBZCW/TR16qLV/FzXXIfOYPlJ+\n",
       "gha0ZCiw9gKB4TYjk8trObWoPQ7AFr/BjXeofc14ulQzx45k9KJYOQ2/UkiZfgBqU0ScAC39PXSo\n",
       "20THaG9+rTKfQoU1ImjPV1CtAJ7V8AAAEvEAAAB/AZ9fdEP/AAyO/6sAH9IhNcWmrYQZgpRhiUY4\n",
       "dezBBb6ULsIOrozjQgYhJTkPd/7KU6CebqT6jUf1xgFTEppMyBDzRExZIFhJDC4UkCLvsY/VrCgV\n",
       "4Z6R+R461he3ZcOdZ1YNEiZMgPotENXLRmW60IxDE7RaXgVtx4AAAAMB6QAAAGoBn0FqQ/8ADINf\n",
       "csAE1fB92sb4uNwBrcZsWnVIlx4cYLjZ3NkC5Zr3X/+kSVeoo+aqpxpLpayezW+CpmnHTx8w+epn\n",
       "kmE4znox+vcRQYUzqJoGokMyAhFZKcotWwSJ8ZDGkMHvAAADAAInAAABUkGbRkmoQWyZTAgp//7W\n",
       "jLABKHPsQAL7OQBmJKPboKA2W4lmdynW68oO9txgFFwByXTTh6vSpLyLI6FN5+nVRl7TZcrBoB+d\n",
       "R0OXprpyFaL9fzDn0DLPGuZDVh5RZhwVOVzxiqFgFbfCpzgvDXk4JGKIR21FicgdkqbCcSkdc6g0\n",
       "KZ8FhjZde3quXPEjXRN7ZRrsPSKTSOLfNr8A32W8jN1AwphswFL/pJMFfM9GNlgTSf2JRm4F7jDH\n",
       "7DksVy2ZZvDdm9GEepiESDopGMZ7zh1wOcdhrvMXEBukSV4VAJwI4cBk8IR1F5NHpT1jAKHpfMjN\n",
       "isEH278E4puk/SRSB/8ysPKOyP4hXw4a8de7K3qHVEdVXdJ5nGeasKf2XkXJgUwgJ0BEZRi+qQNL\n",
       "DhX4KGM285M7/cCK0L8p07oqi5UdkFgsgPy+du2ujqSAG1IGAAHHAAAApEGfZEUVLBD/AAWbcHiT\n",
       "ABdV5yIwktrRw5m6DVg14CUPLBIj7klf0ATQ4L7HR6PFNb2I4ZYlp17iaTBQsKhM+1ywAtuAMCCN\n",
       "7/s53V2WAM8yNxf0spZcFaW5YW11yFAb9GU3OLjfPR4K31ix3Ti8FvSb1z9NfieQpFEH/+qFST7v\n",
       "iRc9NbzpkrQ6wYDetpVq+xzt00gAXQCCkNN0E/ozeAAAAwIPAAAAmQGfg3RD/wAMe+ZxmAD+kQnM\n",
       "eVurterAwMp/HRYcFANH+5hy0hbaMHrlW6HSzPWVzQyzI1LTNAb56eqx0jTxkR01VV0DRZU/Wi6a\n",
       "WxJ8hannrpgd+fqlfS23AKo/NBpDZ6d+oZuBIB4BxvXfBp9qou1g2VoxwWeCc6giKPZp6dRdPiDs\n",
       "ebthlbPvrkP1WRHMa0UBGgwAAAMB3QAAAMgBn4VqQ/8ADI+f9gA/pEJXjGU9ehjpgucVDiEOJyil\n",
       "NFkfGmfHDTCKsFl8Hj5h8wVCdO1dh3HoTTNKZmnuRO2n+S7HJlpdqF+RubSFxrRqA5kQwy1Befuf\n",
       "P0eW/mWNDxTlUy8RuZXs5oFzEp1Iqp8/xvVrcKwa/VdXnup1XwFOSJm7jowLHJJ/Yjac206SQ39d\n",
       "p2dwzJvwy2EdVtwEDWm5OWpSt4csC3JzTuOVziYVbXfCmu2Yw3Z8R84EydCh9LhH2/hAAAA6YQAA\n",
       "ARhBm4pJqEFsmUwIKf/+1oywASnn6TXtkJYtyoASy5dm1CBPNfErQtUIoArjLukI6b17bJiefLHN\n",
       "RqY1Ac5yudFp+raN2TPd1qfKBMmU0h8SxBA1tKb5bSFCc6jv3jOXBxh8hSH4ymznUklbMWvocOlW\n",
       "6oDHJrDLnRjFlSwf2kyIDqhxaIZN6HYaQivWOVdA1yuPYI0UDOPRbo240Niw8L7U9BOGz/5baM4G\n",
       "OvlyA+22bcUYJCZyuSQKzPUJlGm11C/iQKGciSvrdrT0y6rV+yQHjM6WF5KeDR2P2yKWEfMGwEwf\n",
       "lcGfBxVY3w7VxEkrnpQHhPnqw7e0opJP0ozfCI5i2qIX5M6RWclrgdcoJlMew/AAeAtTsBoxAAAA\n",
       "s0GfqEUVLBD/AAWst3UACWka41dKAF+7pKwZkyxEAD7I96SJWooXeWLVpm1zNTC9IcsUmewnWbQy\n",
       "/Ffmzy33hpGqzSZELuHdrNQObgarlqDDYeMZRehcjNzH7lwtNRjXIZG0bkIC9ESvU6d9fwSo/Ov6\n",
       "O9qIruZ8p4ercvpd31k08P3xmSn39nZZ2HpJEbFi7ztpVw6xVadERK4fMpklAoE5HSh2n52iCU4j\n",
       "ADgNAAADABswAAAAdgGfx3RD/wAMjelmAD+Zq0iU+ZlWm4PYAcWAfhlZBjTkcHf4zYf9lNKwLtRf\n",
       "M5yuccIF6V7asLilIO6G0sL3IKL7HlGu9R9hJuOgKmEEzYqB8V4kSPXZKZtz/ycyTCjMTlkCnlr7\n",
       "nEAQt/HHJncjet4AAAMA9IAAAACGAZ/JakP/AAyOlswAf0iErf/qiWhU/D4ekTHcr/hoM4fN0ckK\n",
       "UKqA/S4B5OGsUh+3vQkLYH+ylGlzQGeSV9qKq41chHcbAAUTvHhI3zzRshoc50boq4vJ1x2HY/Lm\n",
       "liyb/Ov0BYFAUXxQpALTrAXEpaTq1s7Qyl7Me93AonYLHgMAAAMABTUAAAEvQZvOSahBbJlMCCn/\n",
       "/taMsAEoc+xAA/rdeoghK3gS1iyR1TCJqwIdsMCctnC9WXT0j32LV/7O6zm7fb2DapjkOk4LlI9A\n",
       "ukQTrsvEIGCy34PxqyRLFYd5qkGsVxb1gedUWYQhZ54LFDVSjecrjCg3mBRjv/gJGA6heW1b25iF\n",
       "Dv/nTXHeecJW7AmMHov43FfTzxxgx0fGeXvzJ4mDJatoGQPlibZimkixanhFsuQLIS7Pg3erwA5V\n",
       "2VlV7fAIe0AyZwqABx1NlnWfMQkhkvBN4ou89gTkoLOmQN9hj0QdyNwaHj2DgmmZcfKbUprHA/Ro\n",
       "VjKpZebviwwbuVASh0phcteS2TYZD+n2fQHamMM1znsiqDWauOF5uVPBcu2yAvO++D25eKIbQqAD\n",
       "faKQAHTAAAAAtUGf7EUVLBD/AAWr+SYAON8+Bq6xobexsqsSWZqwdQ8i3zpIY2AI7VgGePTId3XJ\n",
       "JaakDa4IxFggmTSUUMOk2DeJmQbC/Tw0Mllu9v8iS7xkQg9vfTdDuP9McE+bYw4ClgIYZOsk310h\n",
       "xGoR3dVpYr8sjbtTVIjETT47hRb3p9OvBBpWed67dtvnqZ0Y05uipnqPfauIXwV1ZOoG8S8KAAWg\n",
       "3OoluZr7Gm/e9G1nX4/DIAAABCwAAABuAZ4LdEP/AAyN6WYAP6O6EvWCQJq8HAT8978r7nRxdHdn\n",
       "6DdV1PzcLomMPyA6NSGA82SMSo3K2APjU8ziu1ZO4JstuHceUw+68oQYjbYCRW5ZWkMQ/7gAXr7x\n",
       "+RgEj+XwdaKZMvNAyH2MAAADAQ8AAACIAZ4NakP/AAyQbDsAFvPApsQofT9Cp3pNV/EVd2O4MBDz\n",
       "6ZLVbB3PisvSXDLQTkvfv3h9Tv7a6ydgbNOv1LRsRHZX+71xf0YJwn23h5r63iM+mG0TmmDQAF0o\n",
       "L6mea8Vd17fWoNuOHPCw/uSdrxYwyHyUUFQ/cllQ2r+XefGbFsZ/gAAAAwB3QQAAANFBmhJJqEFs\n",
       "mUwIJ//+tSqABIHK/AAQp7BQNBqntkM2Cg8HTy9Rg299Ukn7foFLshGgXsrMHztW8aTTdshhlWdc\n",
       "QbqKrDqWFN9QO9F0Pz4nueMVXq32S4YoVDieF+Zul861XhBG5TTiCQigHNgepwZX3kUDwKblO/kL\n",
       "+mnYQ/TzpfjdyYTI5mi08JVKyqpEf0AyFUSPaeVMkutckhaeUfyD3yL2BBi1Gdb10ohbtOfQUEva\n",
       "A+/2+DsWJtNnAE1Q2pMui/oVRGhhUhvgABCFrGAEDQAAANpBnjBFFSwQ/wAFrLd1AAf0NaMFyTRt\n",
       "rG+E+BbJgFhaxofL/0pc+tNLR99dg55DtakIlf/pOpUUSBVDzFgPU/3c7o7dBC3FY+MEkuhNGMjg\n",
       "5fV7qU1il+NYsQYAhYO6dXANQ3LVt9k0vmHjZI5OEhfZyJUbZ/b5JgDyIts/KYiYo3bszz4VduLN\n",
       "Gzyl/uAa7xv3Rad2tDFbfKsZMu4yw/sG2aJz9RX1jy8VycJEcFPKyg7Tqf/XxgXFPXaBmltbyrp2\n",
       "Z+kcu5x7R17sIC0KfGxTuljrPAAAAwBWwAAAAIYBnk90Q/8ADImL5mAD+X/jGsVVOiCvKFX9MpaA\n",
       "yQfijaSZqip4snKMaEouhvyKenKiDydAHjQewiGcYhhH/DMW8y9l03t+deH52bG2fBOcZCEe51+H\n",
       "mkilXvNo4RWwmdhAfUndSj0dAeetq4U4bFrUpCFS3okMH0WB/Fsa5skAsiAAAAMDugAAAIQBnlFq\n",
       "Q/8ADJBsOwATVHwlIBP2NQ9kQWbWBglLxcCH5vJT82lv/NCf7K9KEoujRHEXoh2EhBQXOeN+p77F\n",
       "iP7suzmWS2oxR9+6Pxz+Y++jhQjvH+qH1GEh1AgCgDixfgxOPg6ZBvj6pKyVmJy2WLEq/BECYBf4\n",
       "l3R9uZlPTCAAAAMAz4EAAAFJQZpWSahBbJlMCCf//rUqgASGfRPAAt6/YcK1B0swnnDAWyiV8VLW\n",
       "vymWvFF3B79n/eZj9TkDfMzjll9GgS//uCblhcprc9XitX/qpTO/VaONWWV/scYosf/meYQKi7pt\n",
       "IVCPCllzFWaxMp278+DUqpaiFhaQrHF9oGZHoQSUK8PxETs9KJe4LGRVmx5NmVn4/CB/+G6lKq22\n",
       "5gi8PNWu06ckSX+oEmJMwBIjPMzlM1sTah6yTPazQkuN3jVDMpK3XH+T29Qd1l8KUZGRxTJWWOle\n",
       "+JGVU9qrSegy87ERKMeIMYZs3VPNGuP3WI+W34Boy7pWrNGTi4NwRQLdkqWZ4z2K3cjJ2NIY/d2E\n",
       "g8RZfMV1ADJglLv4nlk+4X7MzpRG7OiWIrOr2/MAFwiqB6kJI+wkn2R9pL7biJiRGhxMlJAP0ABJ\n",
       "XoAAKuAAAADMQZ50RRUsEP8ABav5JgAuq85hVY1bypklVI1LbzO6cKhp8uenhP7Jt1shDJEP8IL2\n",
       "S2Ur3RcfqieQ5k2tV2rQHS1XK5ozGesCvallP19ENpozcs1citJN31U8/jP2i1LGarvZ9TvUk9Gq\n",
       "yIgznB39lLb81bS6cyLaBmFZmi/EN2yfzYtdIq5y2+okm0C0qhyu65i8RcEg4K/hGYo8RD1AdZsY\n",
       "z5tCnY6XZPV79QLVlddIKu1K+SBsWL1jGeAweEjty0hIGG7iAAADAC7gAAAAhAGek3RD/wAMjv+r\n",
       "AB/SIRkz9ZdZrET5O8NjNgiugFvpTBHa7yGdK0fUCXzlhYz7KU57LC4JavKQ+YfZo4+Y7fGkGM/m\n",
       "D39CPpuo8KkRwl+jDEoQVgASEXQ6EqAQOLXamvqB18ABOe6L8+eVrkusvsFxKDAWNIRCcwNTksyn\n",
       "IAAAAwBDwQAAANwBnpVqQ/8ADI6WzAB/R3ZRl7i1LgRUDT7beV9zpl6juz9Bx65hBda7cDSWQlt0\n",
       "XtCWI6KVZQOQHfY8TIrzASHdDXwFykBY55km8D5i9J199WWqIPDa4wgpDzII13J0LC+jKSsJK8xn\n",
       "W+BYxasjvoJbFf+NxNZfioggxXnqlqz2AhNjPvlv4zwY5pKz8N5kv+NjIABomT722kWRXNFvsZmr\n",
       "6cXhDA3PkLc1GrS2OamCutsHMqU5TMacN521xrIO0R0b9SfoRiTg7OBJBah3vrlVtnzoGXXUAAAD\n",
       "AAEPAAAA+kGamkmoQWyZTAgn//61KoAEgcr8ABNZw4ZiE71NyXF5/m16HQIXP5Kubazo9mlpTCU4\n",
       "Oq5rkRtliZeIbs3VaQ8BcprSkx01gt8at/0HcQuKNBzm3zIbBHLay67kGAxFUmeGHXBFZU/aWO/+\n",
       "siYigCHzUBBvSNOG1/xMA6QzrWZ2yLKVfdlyfKphhm6jSMGvy32RyriOA8KYjcv+BE3MPQ6osdn3\n",
       "3IUm7LEMONiBYF9C9HSI0PTyqPmBdMyqy06H5LrhXvrhfWoKpM9/znfgO7hSXirfkuYtRADbriN1\n",
       "qaA240Rg6Zz5smB2kiL6fzGeSjYELfJcEAAAF3EAAAEVQZ64RRUsEP8ABZtweJMAF1Xm3kUDRBB3\n",
       "M3QasHO/Wh5YJEfRi1/QE9xG9+ND9A77FxItpFu6bDRm5wmCFhRjqXv2G728y+cio4mgwjD3foWe\n",
       "HcVtNfZollQiVu4urrJfVOksZgdS9pWProTX1CmiWAGfqGZ9ylE6kUyyLAFU4M7cYM17QJdSAR3z\n",
       "A1UCR2QadmFGh5OgdlAiCdfEN6PHqcQoOhk6I/PXXCh0MhzJW4aLH6BbkoBgWagyiyvyf/AxCBUK\n",
       "nHiLG5TVYBjD+UAc1NuQMTIBu4JtuVZLEJLdJlB2O2GyFQ15a3RUavxTywDLeycqDjt4PDNC00Ha\n",
       "SCDdjTeckT1N95AzPsG9diT/1gAAAwAeMQAAAIUBntd0Q/8ADHvmcZgA/pEJzbr5hhuZWjUlEtg1\n",
       "KtAcRvLfGYnDlqQPjXI0OlmeOAqDhZfhk5yU40AeNWIPXHmGN4gdL2uJFhCCsO6GzIM6tjNXv17v\n",
       "F+0RcYqN40MdLCQV2BiGZiD9MR3kl+0HQdlU3ddpEg8+skatra78sD+SsoAAAHHAAAAAjwGe2WpD\n",
       "/wAMj5/2AD+ZtK7v1pL7T/CbSYTEjOxoREuCWfGm7ySMK8VnPOw2JPmlbDtClB4R+kEUv8cQlbYV\n",
       "bS93MNHuT7ZELS6YeFz2LvlGO+6ZKxbyvKr0UHZk1LzKdz8uSwp/ut2QAjSMADy7zkFxCiCANKwa\n",
       "f7XZxbdtH3hWYyKTkDd7OyYxCsAAAFBBAAABVkGa3EmoQWyZTBRME//+tSqABIEvosAG1NqJxlkf\n",
       "6ULuG3FMZ/TL1hoFCs0XVB3ESFC/xUTn/rqFuWh2XXbMn0SPJTCM4E28WbTOGO3zMyPaixHU/otd\n",
       "mYtZLE+lsBar5tzQEQhjn5s8MAMbY6fboDGylTA8+jcsRyY34EG8xdQ7IRQjJFrOcwPM56/DPmdG\n",
       "J+Xp3qcV+CuRwn4n4+HIDuxEfOaQ/+CXoIJoGDzFNa2th2DYesNyq57aahWH9m8UmQsZByY0GFQp\n",
       "d4415hDibbidyK9xC2KzTnV4+5bHD4GfZyX+AIH3OPKllU+7n5yjMlTiAWUKgx7MQ0afVH9V8WpO\n",
       "Xvsf7+IWg1At7NcXbvHF6HJ6BY1z0OAUV4iPXb+GdNwDYkVpZ+F3Jv9FxO9nMKazluO6QAdhv12i\n",
       "PGqxBLsokaHVo9vGRgpYZ/apnEDgATGCR+A2YAAAAFwBnvtqQ/8ADGauy/NYAJqi7OmDeUcsevfW\n",
       "BVx2ruiH0DQc1NbUmdk82JPigK/2OB5zYgNsn/dtcgPcWxiEwEpIfHqWIAvMQIZa+VKF2EqkmEEz\n",
       "WKEOxd5AAABCwQAAAWBBmv1J4QpSZTAgp//+1oywASh2+oAP6SvUSk6uBeKzPJtSfBOoaDVU8HN+\n",
       "hjqGD0g2P0975epuDRnVAao8c2gdwjilM0GaWgRrciaY9XHIPanOyuRSsn3fIjxx9PPIBiuozeOG\n",
       "8VidxUz3taOt+ZZ5kuk0Q3jxyUyuN1HnjFM7P9KBW/Biq/h/cQdz5vvQVl4bhatnO3wb2a2KHiHA\n",
       "IjmimSDjrCxmNto0NQuSACCdxygeay5/n3Mbyt0L//A+g0AtgSCQFgN9L+1PtNjoTkd98mKp9uww\n",
       "Cs+OS64b0MlIfVqvmxpg0l56TU0IByonHCE3GhMipOyt6bTTdyexifiJTeqY95OrQDO8SMKQaC5O\n",
       "eOoJJEvHIFKJTCh/FerKeWOEHoj96VMKaUIiCs8U3xwbSr3FHiIb8A8qwVkuSRVOXD89E82yXOc+\n",
       "tTGf/kb+AJdHAiw6B81ugbAABzPqwAPDAAABEkGbAUnhDomUwIKf/taMsAEoc+xAA2rbwtPL042R\n",
       "9wfKRZPPwH9U5Tz5bPM+nWA5A9P2vQCcqi8AZamUBKLzkMqUB/p8WVxBGrUSMxwJdK8MN6vDUlg8\n",
       "USdNhxLw7U9WcQUGg7UWY6n9FrXwwz68PA3kbPdagp8YeSLG0wbrd83gbvLVrQpKBOwUg2UGbyxH\n",
       "wHsRXBIJ06gRXNjyQGXp39o1PyoFQxIYr6Okpn4GPY4V90GuCoX/1u/0sevCgGtGwNjS6pJIBuWX\n",
       "YuXl/036DanzS4f3xV+xY6mvOsqV8q1p7ShL3rZyqEswpy+NPqr+74UALxn/6E2Dqln04Z4TZlLG\n",
       "ozeHsqsC+cQdIADrIWowJuAAAACyQZ8/RRE8EP8ABbCswAXVeckzgMDlhmSBfjqkKMVhuztqHl4j\n",
       "pQaf9uxzSq8Vv2Dc+EbmVMyz1pNFcVsEId1ACcGv1bWRTTRm5xy4euwKMlgNmnA+zSSIYbFJABq7\n",
       "8PAXG/4J9JolIW+5ChLZMDSCneilBa2FmNiW2MtJaRZKY7D2clbiSmO+zicXLbaSx1njKqPW5brb\n",
       "vQq5JlakFSwF/EXADf0bINWIpxy8gAAAAwCtgAAAAKIBn150Q/8ADI7/qwAlp4JJMwd0nM+esu1O\n",
       "1dWl3fBNRb27gZLcQd03r5yoKGfjQbWvawj8GINdtJChzAFgW3j5iEyJfQKzNB4wRwiCogTmlrRp\n",
       "7cx95x8JZ6gesTBxYdd0ZqRHkuGtSiYXWbzUiatEp2n+UtFFyAux6rJYbVFsD87TY0TBeakCH/xi\n",
       "qm8A604Me/tZAkGqlfzyQNAAAAMAKCEAAACWAZ9AakP/AAyMnnmYAP6OqlO83Gft0fWlFfuzcOaX\n",
       "AT/heLRZwrl9anyKUeSWc7YIdXK8TYk+curPpdpG2boh28iGcVYQBUjjf2owq/BhcAnXFxaQa4BT\n",
       "suhvwsCPnaVpq9LFAFqwSFalHX3nK5QmXyU5ZdM6J0ZG54hhuOJ1PTYuKHjNCQnhDVIkG0y3kyyg\n",
       "AAADAK2AAAAAvUGbRUmoQWiZTAgp//7WjLABKFf5EABl6mPdZRSL4udQHIYcICK8hm4V+ejYgcme\n",
       "mFp5eMZ+zonGp9UB4Td6TtL+qiaiwj65JXZE/u+6DDGAxFRFUyRuBjr5cm/Y8/Fno1N6N6/peq+s\n",
       "8Ev9PkgEq/D3k1/VJFAtta3NzfnJai7WM5aSj5IfgT/r1oYH2TGSTiuyPQJp9k2N2B3QVgcRaShS\n",
       "vEat9eB4Dc8a2nsKKtld8twynSVoAN0LVXAccQAAAJ1Bn2NFESwQ/wAFqU+7IAAuUpGI6LHjfckH\n",
       "7cRKDMWgt/ApznOuII5xtQXRl7RMsiU1EIU7KE91LZyOq3h0RB2kupDMGFs1F8If90lxU6EPdrg/\n",
       "gUhDyyouIp2b/yzKZQzgAcDDnHjJYQ0S1jTxJQz4flzwP5V4VOpYzrUueKpCN0AuRe56ldgN9IUr\n",
       "2JuDKwY/ExVXkYMcAAADAA1IAAAAmwGfgnRD/wAMjv+rAB/MmHwLTOmqot2EY+QO06ptr4a7/j0e\n",
       "+LutU54kObflmxD4ka2tP4hThmIdBKFW5SzUZyOU1bLGlVKfI0Hv/7dywbaTn8jcLzTey/m1vE1v\n",
       "1P4kbXShG0xzWdmI7JxBR+UtKqcbMxP81PcNBay1U7OiWZItpxjN1zSyxQCsLgXYyvGzpKM0cSmg\n",
       "AAADAIeBAAAAxQGfhGpD/wAMmVmAD+g1Oau2RldwhkobG5I8edGdZS615AcKUoDzAKvMurRFcA50\n",
       "VC22efQVrMZQIyxgxD+nc7ja3DK4zkYd2XcFVod0NUuF/gZexqoCJ8j1ayG+DSqI4Uur9LKyXppY\n",
       "lIRZpXK6AFs/wua522xXs6Q3806ObCviN9ffoc1oU/TbLE0vdCdlCzl8LY9TxZb8NPCHFjqEvaWi\n",
       "i0mb97OP7ZE3Tuf+N2nKJBejgMpilt0gOKg9BX+AAAADAI+BAAABNkGbiUmoQWyZTAgp//7WjLAB\n",
       "MHPsQBa9+DSpf7/g36plnIsFgxoXGa9brpTaKBB5CJP5YOaW4pkZwPxJnjP9DNPl5ML+tXF3KvUl\n",
       "EV8/iCM5iWMdY961C7wX3qUW46cXSMIiNCrvRHI3vDrl7Ty6S/50qPVxf5dI9IovRDp/gNc1UUg5\n",
       "HZfuV8fhG1EIr/39cZOEn/4wkvsydRtfDqlWV6ahmxKWlJZcCxT/rOXIrr62cD8JOnTtWea5gqf7\n",
       "AGMSwVdCBTHqMPAaDymyUkjdcNTPAw+BLMcn+eqjHKOIjJoK2njei3dm600xGCfMSwO5Ou2PGmVR\n",
       "4y8FuZFNfh8skLQOX484jXsCzZehqiSDzalX6G8d1gLM0fHpUZgJTSgXjBfGTVA2k7EvaiJwHbRV\n",
       "UAFHwpHQQMEAAAB8QZ+nRRUsEP8ABc/lSxU3HBAAfBSWxFp0dDmyMzrKyl8Anr6D1lgcO1ub5Fio\n",
       "0+o0/lJdhLBKMd618JlqQNnNEDvk+xM0kAhE4tDKsVmBE3qriSgkLQAYdFFRG6CRbuWu8Vhye8oA\n",
       "MbeelM96M3yHTa9WWQHTcwAAAwAD7wAAAGYBn8Z0Q/8ADN/3VCkMBoAD+hUZOpXPbaMo6v/VI6n7\n",
       "cttmFHlUf78li/tK9kR8IRDofRh4fKB6NDkGKlcPyNEexHHjEqf4yRiKApTW56unJyUTmAwelNLV\n",
       "N9ZoOe61cPgAAAMAVsAAAACCAZ/IakP/AAyOlswAlq7K88J4AzWl3o6b1QCGt9LTnjdOqjEIOZB8\n",
       "ltY7my5AlFJSljHFgEey5M5QXFg8FBKwySOeqHNG4RjjYifKor7OLlX3lD/sDR5aZSMLsPGZVUf5\n",
       "g/wJ+1jsb3e/PGguIR9+/D6K9n4pacsamf2uLQAAAwAl4AAAANFBm81JqEFsmUwIKf/+1oywAShS\n",
       "2yABCac2LkQj5v5uRHHnOg3mXFtvzTIgCz8RKZcWNozMTeHIEUE0f8C28sydIJ54xVf7l43a6V11\n",
       "Lk4fve9xPYNsPNAaKD3BBe4cXRDZdFXXkDUzK/guw+Cu5wxR6BGMP40kaF+cO90RraMGX+RPPYSR\n",
       "MBMdhPRSfEwLN4b2fZ8cyGWOpeKpYbrC/zm+rmk27ZKm9tJf8iNDsqwPTCqPFY87n+bZn04wyTnx\n",
       "IRyj0TN1MY2aGHIADrokSgD5gQAAAGpBn+tFFSwQ/wAFsKzABEHz3pMr3Z7+Wwd6UPGAKZOJtvS1\n",
       "WEKX4mQVE4L/aPnoEJArohCZ8eZ3gnYS5EbGd9bbb7h05kve083pBUS/WXNfd0AD0HseFfMkD8x/\n",
       "K0dyhAMZLXDBT6AAAAXcAAAAWgGeCnRD/wAMiszbMAH9Hf/tjOPzIG+rt68nXMbavBaSO8Yf/aYk\n",
       "PmhlePl+Tz7OANo1n+3V9DENwtezklQarqEo0Ba4M5tlOLwXmaVjS6lchwb1KAAAAwA2YAAAAE4B\n",
       "ngxqQ/8ADI06/rAB/SIN5rOdCAr5WhBSPMEETWG6spa7mIEC+GcRHot3uAD+hJw7kNbYc+1SmreW\n",
       "07P+D97K7+SArDE60OSxgAAACbkAAADpQZoRSahBbJlMCCn//taMsAEprUYgAbVvwmeN+8nzZC8k\n",
       "z8hh1j8mpHCYmawXgRCXwddc0/f5SwJmTNXccZzDd29MVXclaBo1eJAYPY8I1LhlccuPMcdSUKH9\n",
       "x22yXFwg8MF+MLffGqp8v4DpHZQya0oRR7Z16p6GZHxwwtth7Z/7nEnGAwiqzzsv56hCGy64/EDp\n",
       "h5tqk3AuNCSksu/wSuG2+S7i9xhhL71zfow1Fz9ZvT3dIuF5NcPFehhahdU16cnTKEQHs2WzCMD1\n",
       "NgF+18HS2cIrb9jR5kX5lZDNVBEmAAFVTzGgNGEAAACpQZ4vRRUsEP8ABaxnkwAcb58DQd3SF0Oa\n",
       "ms3dWRaPApre6GSCd25UBtZfGP0BN/4klthAGTLSaTChrN3audGpqWCmSgK58NTmApJYHWtZoTLQ\n",
       "JQ+BftqLmjRnKnCWJ54GmkGjxm6R2mv6ECQvTYG8t/YNQBXeCMIyRwsV2n2MLFFIcbAhQl4MZ+qa\n",
       "0p00xgq1i9hJGMjcl4hfGYmMvSGjy7UlTQAAAwAGfQAAAJIBnk50Q/8ADJlZgA/oNTmorESnYCgI\n",
       "ZcwR49bIHATI1IYnXWGGCCWvuQJ35M/Wj0O6WY+xHY6DOLzoW4f7nVOw1aEDOvoujnFzNoTh3Q2b\n",
       "35nzCp7HJLsFT9FFGIIALKXYB02TSqKR3YU+87ZdEKSfVEgF/smjyuUwT7s/8W7QakVa1iLY2c4j\n",
       "tTPxTgAAAwAUEAAAAHcBnlBqQ/8ADIzbY1gAmrdH20gWvAPDPuflISw86sTFyOJ442xJTYy7BIvh\n",
       "3oQ7obnMympyKrjkl2Cp+iijEEAGU0yIttk0qikd2FUm4Mk+tlyB0kVmCggVhYodN7NZj1gGZGHL\n",
       "LlQ3LLCaNH79bHA3McAAAAMCTgAAAQxBmlVJqEFsmUwIKf/+1oywAShz7EADatvF9+Xpxnyw/Fa2\n",
       "vyDcz2jPXelHcN1uDDncAGUyG0SAPAxXmm2pie/tS107p/Pf3DF0cdhWwCPfb9hfoXBKOdsDdJgM\n",
       "Rl/k3VfJVXnkjGAxFSCouShgeXs/5uJ0ViQC7TNznJai7aHOoRlxJJaVi1jObN2l9AIRxrL/WWWN\n",
       "tFCvooPXvDwfNmBE+o5sG/ytPMF18r1YrkCtvWiHfizoPw9+DHvp78fyV8JhAIRMNLZJ2vqEqw+J\n",
       "GsrNRJ6GsowYaFoUwdl69ApIH4hJAlUClg0X/u8BMV/zNd/Itc2Ce7+psJyMlfg98fMt6pp8PU4A\n",
       "OalWQAbdAAAA7EGec0UVLBD/AAWwrMAHG+fAqxdgacbSd6nVFoY16LQe16h/bJjPr+ZBm3/0nFTx\n",
       "nnguPNOmz16dG3qsOjppdzLpws/midC4pIAFSYMgHyYOI4W8Zp5jmXlt5B0dPhG/bFgucCp7FbUn\n",
       "SYUUnBN4BrwzU0r9FqUjUKmochHBvf/wYGYukc0Z8H4ID4OSFsThkCqIx0B6g6e+E6QK70UobRs7\n",
       "PEsyjYRkWBHH0KeKGX8YrQBYfRUfpSaNq2mdTSbAACgOWQA0ftlXpfSIwgZdHXr97Z6RegH6BBcu\n",
       "6RhFnu2OQMjN45YIAAADANGAAAAAxwGeknRD/wAO15/DLwWNgIZZ4PonoAxQALeuyvPAyFfajlTx\n",
       "Kp7DujmZ7H1wHKeZWsa+nO1QZjPI7A+ND39ewF/4jj5lpS8n52GKMk888S23OAJ7BeV7Ai1sPAow\n",
       "m7K5KJhyMdjKc/3LP30pD2hP1AlSFElHK0n287RYlP8azhHOnydJzWbMnAqBV+Cacp08OB5R3fyf\n",
       "HcZLmXn9lJfLI0tLBN/uZ+MtRFAoCEVMv+NCFBSRwocf9NySbjcsg96ZxQingAAABMwAAACWAZ6U\n",
       "akP/AAyMnnmYAS1bJQirExF6nHZtgQjJrDkEVRsZqNQn3/H6gJZv+qvlcENoaE/5bZXSlOgmTH+3\n",
       "fof1JivlKfAfLRBfRJU+55u7NyQAdArX30sHXS9hbyF0wmulPeWP5oDxXfxQd6UmkEY28UtpXCZ1\n",
       "okB4QEYLE3UwsvGPNXj67+Vm/no+xG/cP8ZgAAADAOmBAAAA5EGamUmoQWyZTAgp//7WjLABKFf5\n",
       "EABl6mPdZRSL4udQHIYZ6Or9VP3+7mw92j8uvGO5eAsO2G6eHHxNBnYSu7702HqiUGKOQNhMRVDt\n",
       "RZjpHHL1z2r6+XJrWFTMH41EtyG/JQvU9NFYHx5bOAqsORl9J86AMzy187B4qmmYUzPpP/+A1wp2\n",
       "Pc7eyUIFa9NPfOiSai2hhYN2KXBmTD9h+6/3o13hoQDYrajjf9AWFztCt6wxVMaO8tbaXOgYcmhJ\n",
       "ANOx3T8pkl4oOQMCdcvlhp0kDsgwNubvRdriVNtGAHUURSgQcAAAAJtBnrdFFSwQ/wAFqU+7IAAu\n",
       "UpGIpgUQtiM/7iJQZi9XjRuqO18LoF/FNqC6MwSmVYA1IJfPUrzN3TrWq0H/UMps2//GrEVRewc4\n",
       "i9arL5JayomWZaJNNTNhii56XeHjkr+6Ucf2OM8niClJ5lryahskLgs+Xr/W5d06BB9g9dYvve/F\n",
       "M69zQfX5lqAbvPv6t+jOKrAbGgAAAwA7oQAAAI4BntZ0Q/8ADI7/qwAlo7X8Dqc0nHbI3V9Tb7rs\n",
       "8sehjj/x6QB3nBQ9KGuyAyWuhKcVMqtEiQKjeMTD3fi0gXpLXTlo1gIXDwfa7kenyVOhAUjBZKCb\n",
       "pn2NMfCR0K0qZGmItlmaY9AQ7UzD1OaJYu2AGBS8ozVfq+YRc77TcgOXRlkwmWTJjDR5gAAAAwJv\n",
       "AAAAhQGe2GpD/wAMgoSpYALeuyzUgL+OXGT1d1uM1phZPPQH+AFhPN8MxMeFmi9Ns3njq2JkKUX4\n",
       "rHyTGHniT3t6YOefi179RFbQf54b4UUO58UyqzjBUbwmJ9zABmo1VUH7/BxDDvQeTi4Q9RQtdUa0\n",
       "19mSFB9KTgYj20E1quOV8Q0ZwAAAB6QAAAGwQZrdSahBbJlMCCn//taMsAEpPC2gA/rdfOGDKjLa\n",
       "2IXmpyG/lHDHIn+jZ50GXflUM3V0S8jnEUNxL41FBcD7r4zwU5XjodrdLODmApkVcpDcny/pBgfE\n",
       "waoSJLAMotceDmcWKM6pOHrZUwbasZf6arsmMN/U6dFotWpbIi1ubyuUdZWTyxcoQq1JiF83AkoC\n",
       "TROidMLHJKOk4D8YDEVRD9c5R42DTQ4hAv5yYVA176LQPxgrnSnzrnUCPjqx0isfgoCP8yl42VmF\n",
       "g8bECE02RWskH5sJgr7K9h/U9HBvVb8tksuUR4/O+52N6Cqwhh8F5Gbyy/1ind20Q04CC9YRxLRQ\n",
       "u1oL63oYBmVIsE5sGF+GBmgD9h5yj+SQjBG496lMMaGsaY+YyrPmXTVd5Kvo9Uy0MrikYf6nB46H\n",
       "d9KsejEhXYfwz03/xA+cEIU57CGqpEX876Ln8hmCXRMz7wyva0wzuq7Xn7NuX1zSigR6BF925r6U\n",
       "6wtB9QIw9oqLqpVR6X/lcdjlUJTPRQm06pvAOpCEk2tXDuJm1zv2KNiMwPDiiB6eXbkJl9oAQlhf\n",
       "+wLbAAAAukGe+0UVLBD/AAWr+SYAJ238iTHVKHm4TXwfo3A9l59Hw+7d74xeK7iQF57H3fw4k/Yg\n",
       "yMfGMiov5W0e+FeYUDRm5yvzQLTS8Lte2Nm5KAkipXSdQWiwMps32eNSIQquU9HCt1wNF+9EVhsB\n",
       "31xJvGq6F1YQAZqSG1FUJ/ASHqzGLrsERw4wPd7QKpRhQKEI1cHVuxbNBpOlZthpoOM6CK182HRV\n",
       "+fq8CyGlj/fhub/ber37byowAAAK2AAAALIBnxp0Q/8ADJAf7ACWkBVpIRMyrGXB/nesqaJETvRv\n",
       "mTR1iG8jXpug/jqWnQEikEbWpHdDcFnP1sb7nNgFTEZS/+Tt9DEzlNlBiShN4nkFYYu4id0nlzzs\n",
       "ahteJ2tcEQ8XL7dgHHhcaJXyhS93h/0tEQuEZU3OJanVjEll2JskgVqq1Xtjavw3JVxfTTqqO5F1\n",
       "gODfvZEU+a5D0nNk5bwJ+w9DJORcvDNEZiKCAAADABGxAAAAnAGfHGpD/wAMg19ywAW9dleeE8AZ\n",
       "rS+ETvSoBDaJ20Sce0C19fQhx8ziMQ2n16g+vTrXJ1mc510MVPV5CWHZ5CiODWMsthQO6GyG/VU5\n",
       "VJlddRWL6qXtQDLJdOotBMsDj+EqNBaZwVCzCb3Kd+cAEq+xalsTw41KZwgRvdtK/45XiveEGd8r\n",
       "Ggddsst04hZcfI/IgGYpTAAAAwAXcQAAATVBmwFJqEFsmUwIKf/+1oywAShS2yABCkHqi8STEh3b\n",
       "zzRy3WYvf+ftUMLzhcwu/OVf32FT9EkAzNFQ7zG12WN54xU9jXAhxGOAjXwI8t+1+930TADw259Y\n",
       "R//4EHRpOvu4lLFbU89feJBwsUuBEIH5QkpYi/sD/CJqycE6QJTdOmyQrXmAg0Ll1z5speBBTIGI\n",
       "iNJP8LqEeABut+YDcpG+7Kb87r8CGeL3u1zZT20ulpar9z157yR8lLvQ/QGWK5SkVlXbbHLDiUvJ\n",
       "Bic4AUPzjR94x0GhQaxY3E++sVTsCBps9PFIxNkPUrkHB5jyGD99Zl0jzlfkroLQzRNMEDkaMHAw\n",
       "dXeAU6pKPbCDW/diMy0CJRO0d8tkletfrQQ7Ni85+HNL/uZq8mypDs1pQ0AKWochgQ8AAADEQZ8/\n",
       "RRUsEP8ABav5JgAiD2PhbQl/aDZAmGZl3T9owCn0XIft5GbssV2QSawCAhHrz1WSQw/3U/8vQdh/\n",
       "chR3nJ/liVfdm+zsncUuihozc8my/NZoN5IJCovmYdfUpITr9Itf5Z4SZHjZr0rA1t7qiUmacY1R\n",
       "7uTmXLpsNnNYuX6BvgDCY9MROTSaUMSBIvYfAwSrN3UFjtegfBAGkLADagecaeEBlMygh5yT8OO7\n",
       "FjSWNg+xgn+zM7P+bz2fnp7AAAAFTAAAAE4Bn150Q/8ADIrM2zAB/R4uMAt0L7RxSbkaAnqq33+j\n",
       "kl5hlk9eIGjMxpSnQENecyG1Ds1Z+VuFLKXxHFJhEKreyyMjOp43cItrgAAABo0AAABsAZ9AakP/\n",
       "AAyNOv6wAf0iDea4nsAVFnSwpSOc5B7Xvt7suZC+adxHcFgnP41tbv+bdKU5+BtGsMjesL9SCUm/\n",
       "G/mVduXYvZSIYc6tBjirZ69dy0VfXODGckeEAyCu6v0qWak00poxfgAAAwHpAAABPUGbRUmoQWyZ\n",
       "TAgp//7WjLABKHb6gA2rbuVka4+9jPD3e9jPwEkRqQowZOfmE61LZsxpycEmaQISgJGTAhWxwTnb\n",
       "eDd4idMWfhos2tmUaxP2bR7K+mg0LlHU6u688XoKaxK1zqeabSBF9j27ApWYVU6cd8j5IoaV8Rh/\n",
       "+Hw8YDEVetTMpiJ7WNZr42bVE/MwfKtHoVKM35sD2zM5fK2TW7dFAXC1SuWQXXmFbRa0qGJBA2I6\n",
       "9bDCYqYWtJC19Qbo0ISKVIZQfjlwnMYptvP0rQLjbe+bf9oTDVTnnFLS+TtpHsxME4BIKqFGW51V\n",
       "jBJCu6pR/mQWR3WxKjNYrOOwilDBXa0vY8+h2PEeLpduGy8uS2r4VAjKxZcMJ++IVdqc/zpHz3p+\n",
       "/oOFDpCEvW9t17dc/ugIzoAAfg9EoBDxAAAAkUGfY0UVLBD/AAWsZ5MAHG+cjq2xCw5HW503uCW0\n",
       "9knKA2zC4yXSrUdzjwGAb8Xe6TfSc0Zuat9Djo9lJbYqdoKw0oxAAM7eDmsD1k/1OsSO/Vq5bsBD\n",
       "ai80OgVNHVQgY8LW6sic2T4e2nZJnfSkjE0+KjTsv0+qNzU5O4hl+WhwWYCa/CfsDtik06AwAAAD\n",
       "AXcAAAB2AZ+CdEP/AAyZWYAP6DU5q7ZGV2v/0dheptx50Z1ia/hgM/1hhfmKCIEBT+82uZ53qVYt\n",
       "6edh3lAh2dpEP6dzuOvDch6RWCiXPiNyw2JPcHkQviZ2zITdl8W2u3+xda5EnATfE+sqqMKPZbmv\n",
       "GVRgH88IAAAMCQAAAFMBn4RqQ/8ADJBsOwATVujrCpDQpT2dsrWJOiFA6Gx9lrkc898lRWj9lCPY\n",
       "SnPpvat7u0UHphosGpJ3GX0s36u1WCLfB866gxV+jGudggAAAwAoYQAAAU9Bm4lJqEFsmUwIKf/+\n",
       "1oywAShz7EAC+1MjwwoONbzYF2ixBNRAgtQBC/7eJGgJ3Z7d85ejJkA+6fKK7V3f2pK7fpPzM3sJ\n",
       "35IYIzjZa4XLeI9bTkbnCCecuVNWArr3eTTt9zxiqL+eIuwCsuGqa33/87jG8AwvC6Jijyl3oV5S\n",
       "EyMK2xDXRPrxg3A6lLw7T7b42WQMIB2m0F5el0uH0yX8F+4NOV5uaFNAvr/FbHw/gDqJ0yRXbQOZ\n",
       "bH477/lxOpdedWq52b7ZwTtVx/Riyr/B+Mr7aKRoEGZRqG9bzP5DG/aO1No3hEiYSZpV0+b4aX3Z\n",
       "OgPtDn04GsO1t3Qolyr4aYL4fRr1Y4gM0ILclsRdk243OYAzCu/VthaggVzhOxXNeVqJl0K3mYxF\n",
       "Gsz32gVDaYqhnn7FcVh7js1NpcaWVQ35GzRZbkMeM52oAAAKSQAAAINBn6dFFSwQ/wAFqQsnoAEt\n",
       "TE7MDsKU16Vt0dwMHrVsE2RTuNnkFfOsUv1sWDtWCvEv8A6VEgRB8bX9sLqf1x0YZS3PDYqTSYJr\n",
       "UxoH4z8XYqxBgs9eP8u7I2uXlGzdvQCqr1xP5ZBjMFCveNtG5hkVJ/sOV4zrdeAgkyOPogAAAwA5\n",
       "oQAAAKcBn8Z0Q/8ADI7/qwAlp4FNgVmk0RIrZyagpAXnAfqJ87oM4JbiDumj1TfyXPxqGIH2wcMM\n",
       "329gkoNE/berzYhaAt98EFZZySB6NAeWf02yjWd0r7Qm6uAWndQBHLNdfLkBOec96VVeplKlYOzp\n",
       "ndMBTqSbisvTvilon8tZc3yUuG/OWxP0ZmKGlZRNu67moAZK5TyhnkeqPOLposkfiJLG24CAAAAF\n",
       "xAAAAFwBn8hqQ/8ADIyeeZgBLVtO6lgmjmzwY0GUwhGiKQXGSOZqF456XVWMIRKWKoZSUly7045b\n",
       "ZXSlOfg7j6gJ/NbgBjJC0xs1BVoExYlN7r4TJjWzKqrKbAAAAwAWUAAAAJ5Bm81JqEFsmUwIKf/+\n",
       "1oywAShX+RAAc5vpyFmwF7sMd2wMuE818JKBvpd8qjI5ONSMd0KYb2eNuOhy5JDmMMANUnUv4LGC\n",
       "B/PkS3TTfjVGAxFQB9xNelup8fjVG+mH9Qs9rOca/Tkttk2hYU0e9PXfJl6BtbFAV01V+JV/MmTA\n",
       "ifwOqpl/F4evjPqB/emu7efxVACi+iYPArfRAAAHHQAAAFtBn+tFFSwQ/wAFrI1eAASqYxPiRFid\n",
       "V9JZjvGtBmVh5XOkrjy2zp8wpozc0LGMWV3Z8Uv6APyzDf35EfnyAAkkACBDcf0ST+kIUHgJUaTx\n",
       "SJsrJWv+QAAAAwGjAAAA4QGeCnRD/wAMjv+rAB/MmEm6SWcYbudwoywfz8iKnw13/bu6EGyzIUt1\n",
       "sTpvqhKdAkXNaBRfY8hAqn/CN2Osn9bIGkq6u6qzbkxiew1VWNeWf/5BOL3Rhjvn1VXZX4jJDPIw\n",
       "xF2z72IXnF7HrH/OaJUfIcxDHaThR39vCZiT9x2KLJjosyBMF4ij0GEjMzz2fx/Xmx8I0vkVljIV\n",
       "fzL6hps0u6UTPTh43ymfjdFfdGfXWRuqV3nQyZsTky/6XzX+ZaPqMgcdlDs3h+Nt0t2204ynN0Hi\n",
       "gMeCyvNmPQAAAwAMCAAAAJMBngxqQ/8ADI06/rACWrss1ICsfLkp5d6+ztaYWT9PcrU8iBxoccEy\n",
       "8nCcxgviFxVSVqHC6SofSkaGZJisZhjz8W2+qIrepwKTHO14+YfOlCqsstgj5eq+dx/sZzuiV/fX\n",
       "A1NoJiQn9uz4uf4LPXb63hbjnAc9VEdD0osuMXqckngXPw6ogZVK+woAQccCgAAAHVEAAAFnQZoR\n",
       "SahBbJlMCCf//rUqgASB2BAAW9vMRDR3sKyF3nqgmk+Sz1dd0EDBdXJjHK+W8jv7F1WWVXdXYxtt\n",
       "bUUTo7mH7SOd/jZ2GC9IAGjC5PCnHQccgb5F7b0sA5rKyDXcNA3TSFlKPynVLINmvulUWR3FTA3t\n",
       "JFcGfUsdes2qOu6ebRmRuTCxk2y5oi26cFOvDon2PPESzeiYyCTjAYiqS5xr/cP+zQJx+i/1Gdct\n",
       "3h+rS87C8glRkSlxQBpukE8o6rZJVt5NGagiyw1bls6sm0PlbXgfH8GjF2sSbJFe8M1zw2hNESmU\n",
       "HoSIScmpYAaPsb0QAA8rB1qWagMagJl04SlOi3SzmeHn+njEqz+Hts3V3ROdpLkAUL82lfN8hMIZ\n",
       "oPtVsY9H851SfmSoikYxY3z7I2hRZui8TbyxfquGm/4Ju2GRsnH1uBdvHcU4AW9c962TxIlnGehu\n",
       "grnEYqkhrRgAAAMAGXEAAACbQZ4vRRUsEP8ABav5JgAnbfX15GNi3uE17dBEvb3/nMUS76L+mQlO\n",
       "T+uY4Lv4ceNp8NoVZrxjIAMTQBKbP3WyaM3OXq/CtD+fXeAGO+aY6aYj9erjBGoPbdH06eVF8QkC\n",
       "GZvlwB5P6gB0O8pvUVN6eEZWWov8qreF9FiYDAcoLHQmL7qgrbzoK7Kuvx0e+ptoBgkZ+y6wAAAD\n",
       "A7sAAABqAZ5OdEP/AAyQH+wAfzNYiNflo75qHwBV+s93XkRP7bgZFGYkWrsV4uhkJTilLdsQtVzt\n",
       "lcmv/KrZBuBiI1fWLbW4vA6PY0TZXdEr/0moVEPCpOcrDsPVRRHjYr8bV8+Nv0SmUAAAAwAYEAAA\n",
       "AHgBnlBqQ/8ADJlZgBLV2V54TtbM2y8CT0spwQjNZTdR2az5AvVG9e3TS0IC4AzgMs1NRqCeSyaW\n",
       "gHZ2xc2x95FImBNlosXqDuhn5Q+1FVlbFhNbH9t/dJcsShfrse5M14XcnBJwgL6kIdY+wVqDHs1l\n",
       "Z7sAAAMAF3AAAADQQZpUSahBbJlMCCn//taMsAEoUtsgAQqpjUT6I3T0le+hpB/qht0SkF35zgIL\n",
       "ExMi5ZRAF6CHhe2DQUPrjBxe53zsrHuY//zFmOkEyXUoYIWJ7EuiplQuT2cuqs2K/6YNMn0KGJ3J\n",
       "xetiG1eLp203xmrlAw+VsQHr7e/YDrDE82kJppeutXBAgbDMByHAzvElfwre8n7w4thSUx1ZE+T5\n",
       "2tvPpVAStij9kr9st0fIsnXaebvRf7vRinei6LafGt3axisvBuaVWtKYYBGV5wICHwAAAH9BnnJF\n",
       "FSwQ/wAFqlaCwAJq9ZYufMoGBgatVpcVTb+sA1MjfNtYPc+SLxT3bf6M3MSRsoJA9oCPAFvgEiAU\n",
       "ihGvKB/zePvIfNhdtoe9kkh6AJzla1W+esUHuvgdCcJMA7Luab+II/4HKCdjOHEoqh9lR33tDjLm\n",
       "ZBP9mKAAABBwAAAAdwGek2pD/wAMdNKCbABb1tTvKnUznce38w9F0FV7/gCyh7KlmaPo/TI3zls9\n",
       "xwNnlQDgvEha8QwSrzpnmhZyF3rLZHWYRRQK4WBOqwda3Q7hqtBce8ADNYFOkifFz7PDTtQ8S/6C\n",
       "U449Y2vj2J5MR8+4QAAAAwLaAAAAwUGamEmoQWyZTAgn//61KoAEgcr8AAtUhYtljycKhsh5I32c\n",
       "Wj0pndhfzIG8BofjN1t7HZWWoyd4jEss9jvpMPH/N3Bjgb/GH/5tRYpT9+Fk4Ha5jq5/fAjtt4fi\n",
       "5rMBOaq13dvM0In/yPXT2jvAiziHlo5zw30OYViJeGH8Xd53g8tDHIgykoyhWN45UDsWbZU18RRl\n",
       "rTTYi+LAr3iX+kkGIRf4maXPIRkngSoA4bNqdJeBcDVvJGUCO45IQAAAHTEAAABzQZ62RRUsEP8A\n",
       "BbCswARBv5KGhkY6xFhKaaNqybCUmxikkLk0spIv1LF7gpY2TyKYxcUXK9DjhmkBUYvJ/4WLK4yo\n",
       "7K6ma8YprsQ6bLNcqAVJf4lmhReF5EmAImBiPe15wS9FtZp1VJsEWv2GARAAAAMCggAAAEYBntV0\n",
       "Q/8ADIRwblgAmqDksm8rqFXmkKxqitTc9vwKTYiEqlfvQzzwGxJ8vv++pSXBF+PQhSevygBsLGgA\n",
       "iNqcMAAAAwEfAAAASgGe12pD/wAMkGw7ABNUfCUgF/r5ueyGj90rN/37Dh+jYC4qSDyuFvHdDXeV\n",
       "/aJW6erw5djz5RPsiVw4cAARsI0PKRFDx4AAAN6BAAAA40Ga2UmoQWyZTAh///6plgAjCLxgAnb4\n",
       "8x7VZz3Evs7WDjlqJ+3oAv6YgcGQBnLze0LdGTKNK8yQtgWnd9HAnzoAKb5QJBQNuOduFwmR0Xh2\n",
       "WDOIyNqcPdSexjX2V1pjgZwk9hwar52Usdyne0UAZMqEv2SQ/6LEavq8cCQy92bzzKEu6f5ZMlyC\n",
       "+OgYAX2DNg/LEVw4qAyuQdFY3Xgd1dEWOGTGFK5Es9vvMbp9FZ2SqW7HJcQirZiwig+GWvdeXH0i\n",
       "WRgeHrPlKxoFTdVwBIVlXmHAjq/UxIUbN/NgAAADABswAAAoa2WIggAFv/730z/MsuZIIteOo96K\n",
       "eJl9DdSUBm5bE7TqAAADAAADAAAQXWknjAAtuIEswAAA9QAQN5MhnGVVLP8wCfG8xPZ7/ffOWT16\n",
       "deZ08yFIfU4UYTX/weS+OKFnDJpfro7ZHWs4vEks/lgFOkeI5Hn7G//1dV4KNuvc9SxPrL5VozWR\n",
       "mlrWa4LxGEA2SU6hYg0pXs6zV7BkNXHhcr/u9SKhL1d3K6l54KgOJE8muwpVyW2KilvB9FgkjXQp\n",
       "Z2FVKE6UPui2PIp3j0rCcn2PUIxtUv/HuP05GvyjlcERC4DJ2wyfwALqIvbpHoAypcNLJKtjqT2E\n",
       "tSWRSfZ1EyvC05n/pb4cbOE1YASyr46OJwbz4iVTNeX00gwy3TKIw8Dd3xwaznk5pWpiNyPdDwZQ\n",
       "0mXqc+qzSbK3YV5++VxfbIOf3cZN9OwabFmImaUQdtMxP32nBFSIpKHEeoWWX5UoshYF/2y4I7Qo\n",
       "zCs80PJBpmAagvQwEqeuewczR043bwdETe8SpwyOi3Dp5Z8WIEoXyNN/Sjir+7xo3TgdUQm1LVT7\n",
       "FCbgsV1ITAWvrZQOUsIzzPcPXYo9GWenOk9gOEgR4WsgNyDoi38qLTZ/RJdfDt6Odbmca+c3MkCm\n",
       "tj/1lv1O8uRpv2TqrLGdvy7x5l7AGZlHEvkSip7EQbzgAnTPp91UTdPqVmFZxP0q7Vrf7pyut7jO\n",
       "aC7nLHWbFjdp8k78RTNGDXFwa99WRnzpssZ6q80KNoWtWo132QJL9pdYSRxJH2accwGYl5dyjOG7\n",
       "bpkjxsfpaTwZlrOO+ffK+8S/hm5CuCXxAjBNmiMevK74Iro4XcG3lztyVZmxdxIWIh2IOjS+SpUm\n",
       "OEWNvNrDTSdo/JS/AMBNmhGV88kdWh/u2+gBc1XUAhXpS/7hd6lYCrY7m1FLbuTMbrFHjlfDXf5W\n",
       "khTHtjwLoRwXopePmuQuljcDNI2QbiW1apbQX/xI7ZNSVn8hcS7PacF8IGaXGFZfPvmP1QZD9aYE\n",
       "su3k1bV+gVKCh/y3/ggxXc5tUzhApEaH1o2cZVBeI/H8X+X8Ug2M3Ie3ro7OnCgRepDHthgvvH7R\n",
       "kLGrVQ1kOOIaj1wfe2hPNJO/SCznbYSj+Ks49nl+UFKk7uRlTBhFbXuGALjV3wicK+/o6TXK7fxl\n",
       "6N2a8Hvxi0kcP6iG0iOctrx2cMiOyAPgaaUkaPyuLKbm4lirSUKf2rgSIf3A0e1GHn9/sqQP/BDh\n",
       "wZgbfhx3vlcFgWjeYT3GAynTN6TfHJqO+bipQGn4hJyyJlokPODTF9uUwl4Uy5KkNCMNcwOObM1X\n",
       "fKtF4SxqIGIpZhtsd86XAjJtXrsXRIBO23UX2wfkbLtE0t6eqfOlL2nzrsHrdVqK6+lOIAtS/0jZ\n",
       "N4vF+6lQ6gGnbvO/8TScnbfdy0i6hy4iN9q5p9gCJppaZ+SEC10TD4FqjwFOJPpADitjgW3GRES1\n",
       "iQgs+utOly9HIwOaSupmeUoKjD4Xz3d832Oo1jGKGBLQRF0Zp8B55lG+YwD0cducEx5nKJFKouKr\n",
       "p/YwammQ9VgsuWWDV0rU3vw+ZZE8v9N5xn0CZuKyH5zfinfmibcncvZ+uVKPDLHv8y0k4JTn+zPL\n",
       "dt59Ki7T0/Sj7RNB+EdNzHHMDhd2c9xHe20h+xJiBAN4e+Hri364SKJNFGRD28BzojBazGMRYlnB\n",
       "+bIXuMkb0pm+fmhn9T7e5XXBCzSTmjsa8w346vrlXTAUWid9oS7tDHOENNsOoCH4xjTKylwds7mf\n",
       "RP9aUIB8ALbJyWAxt7rU0ai6I8lH84mA9fMg3LDymDxFo841BgAGQnfdqc7oNhQEGeFuDZw8J+zv\n",
       "GLoiZMPAO+XLrvZIfwZc85pkofhdwr7P7paTRQqqgLiNhZLk4W4r1pVnXreryv5XXwzLpbuMBAXI\n",
       "uECiQxy783xt34h2exO3VpNsGyfwoPfyyLNX7RCBm5zFcXX///z4rQJEl6Ts/fqmX9faj5prixHS\n",
       "iz9m1Q8OE5xgkP7Oi0/R8ih2WxCu4eSPkprPOiUubM9UWWS9tR2DSYMQBFmFydmUeNdD7w6thgju\n",
       "TfTRWXEkzgznx65cgKw/21HUvbqr1ZOJkaZiTwR5dZYMCS9pssbhHgT+2KAKuEmdhw8fqYl4AFBn\n",
       "c/pnhIbWxkfDa3nCDNZF+vvFgDjYqKLT878TKi07VPgs3szHace0loCJKbs94N34w64c1GM+HmLm\n",
       "hn/K/UmFMs07WFz5DPf1K/VtE5WC0fRkGzIAJ6UI5DsenMo1AG492rjSsABr08fNcx2BwKTQksac\n",
       "4pMp6KW5I6v1Uli3wXllsEP4lzfYeDT2I2cVe8OQCAcD0P31oG867O7egJR/kAuZ5ZzfI0zT64Df\n",
       "ZLkKw/50hdl+5GVIEC6jghDWM/9WSiLu0MpY4cUU4xu4UbsNjcQ4Q6pa4PPyH4zuNM8BzshqvPQE\n",
       "mzVBr5g7VuNvu0sgX2Ba9JH/yPi8iJ6jHUcdq11UxS7wugZ0ciZ3bcVosX8sM8QjQdAY33ddaIGU\n",
       "NvJm2CGF16cqTfmjM4446G5zNX1xKByoT+rLdZ/xfkmZZqLGPmnKG4UWfr9mhzjUB5OMT/7TYUId\n",
       "cHEBTyq+nrzXfJmBvEJRDAgCy7hLpk4f3MFJEksGGpiZNhfw8o/StXweY/2vK5W0Jh7yOmPJ3oaS\n",
       "ejqzMt+80wD2x4K9gvmqouBum8YZRo/LJn4PNDhIiy2DxqtayKKbcMZWTNxFvIMhxd8PcvkEKvny\n",
       "V2PqN96/KTFGzY7/MiXqkRDPp/4H7v9rrtRYZ+HPe612ycz0qlDB2AuTrVLpWBm7MFHLMiswqemy\n",
       "WuMx3ek290rpw+H+tqMhhSM7FImsHbhCc1FhDan8VgadK0vgrJ4mqViXoAJtv8A0X54xmKpiXUAv\n",
       "bJdtr0sLJMrauwq1SkOCu0cCvUrmM7tMxiSTZy8EEbFPJ9XBNOl01t8YP3qvzLjM0aLDN6ZXG+Fu\n",
       "anzP8ZGPMlPnHv+LMUlf4c5C6o/ZUTK3waOI3EuCeWCO6qs7Z2Ov8eRpSraKQaOH/7ocZH2Vhx10\n",
       "surL6EpbRvu61cyNDo5MMZFu5CNjEACkzmMnLunxDl0bxf8tiIrG9OiusLdNLLo+AJW5ErxohOIS\n",
       "MsivTy4vpvsl9pb9rxpEMMaXCDt2+H6FJ9ILniCMY36z5jXvA/uJX2fh3H+kZ9K/HmAH4F4T2jJl\n",
       "zuYBDXBcJN5U+D89pdiCypfMtJXre4EWYvrUfEenOOO18vBwNg1CZQJToaiCLgTTWLyjwfWE1Qsw\n",
       "diXllLMWUF3qUb/tGps92+bx5WelOha0vDEmnUxrOOBZyfZ3rZkeyeCGAzmOOAwPs8z7Iuvv+h/o\n",
       "arLbnS3oxatUqLM6ovaXxop3rg9RnYZRQfbJjGaSjnG6LxVPlPhTvA2gQJ8a3JH0/rzScFiGh+cN\n",
       "R8VS5uaIWiDFcQEc3luMTGQgSxuzh8fEpng/gz6lHJWperOtj4iyhVExyHyk4GJDJUI9oYqrEN+z\n",
       "DYlcaO8dtNeg7RQDTM9uN1AA7/LgeqUAKiWYya2aHNvankPXluSFa3MKeO2knc9lmBOnxtHzL8JG\n",
       "rFXi6OkOAfL9IcpuHTxldXl5B7cvIYeEv64zC/qZygA61jtgffZglfEE4mmUt0YvrIJPygsTzHIb\n",
       "Mpj5801hDwq7Nu44OKhdCbRVJGHj2std16KEQNX3FyQPcQqlFbdYyGspZh0P10HHf0IUsFGAwubm\n",
       "AcO6CQ7BFZVRduXb0BokoUoRjZm0DvL7CwEHS3H//8AqzX9kvYN4Lcf0EfCUc7oEIIAAE2qFDy6H\n",
       "UJ//kp6b3z+3gUXru7ImVe19XFiKQSpYKzDHD9V5kdRFr1flykkjaa4JpZ9jSrXtVEaZ+IcKOop/\n",
       "816Gtvlk48B6Ol6SDlqnZ+rgfibWYaobLcnxZwAtGpAwsScsT0gtCaFmeOE7oC4SvwPZq+T84Sgb\n",
       "m2HmhuArrK4ftpnDu+g7d9BwRoEBw+bZANROCGGi3bsZbzmw4+4tcrM/iGbMhFu8zO8rNc/sjRrC\n",
       "ZnOhMDT4vkNGopr6v5mVnUZT181TunadqIp/kG4SGB0eiSnBR1IlEpYQ4N9o+QlW7SeZsDoE9bQW\n",
       "rcZjhoj/3t1uCgVxDmTb1Jj/sV/+HvF0qYemwsoG5xOnAjqGF7Q4airZuCVBjS7V1GG1CRrfCjZf\n",
       "PmmYuSA5ye3cHLGrChfGdI8AC72Pcw2qKSJrTotqBdfboKAK1CiXoDGTFhML4Bptno3ZZAS5zRpc\n",
       "2YjZCT/CSzX4fQx8KGMlaNOokrl2fB/xy1wZgrLZHdMNKnzJtjLUEV/I7/4vaNQE4+ejTcAvUbGh\n",
       "xoHUqcxP5N+M19mEtsjgi/C5ELKagv5lpILiX9prMWz/5ssSAG4jvbLPxbnCe0gB94Bje/XCVgAg\n",
       "H+7LEkku6sMBYMxYJmrwrHgL0JieqIGCppvhaZxI/+O2GI8L4NuV+3+BPb242q08TPx0sZhqw65a\n",
       "j1A6+d+YLLr5xazq4atS7se8WqbklvN34yxMFl3a1VJamdKPr7k4wp5+AhxihTODQV5p8BoiN++R\n",
       "zlxrOjgtz59MXluyI7wCH93CAXW/+vJheJ4Wd3ObY/F35xupvVQiaX9H/N4vEzPAkWLH+ZdiPs5t\n",
       "4pvT/aG3CzBbd9/RVxE1mALXddN5JCD7tA75nsJg/6ipML9GsHUjI7ujLpVLf7Nae9S5Qp35IEGI\n",
       "kCJ4aTqrihEQeZ8/x3AJdM2sGlEixjB7V1Z8yGEYkbVe434YJpYcF//pbsCb7CWPHsL0NnP6MH9z\n",
       "VETKM9KfPP4QvKIrdkCeXk+tRaAMAHH47Spw5GRumJJcqGDAS8BNKdjp9v9mnQtNcup1K8gYKQ2Z\n",
       "xgdkifkr15v+2WKXsK9XoGYcIVYR0S2+BBGEBJHrcujCf/pVZL3dp+eiBu1P1rAReI6fZB77vGCw\n",
       "Jwp5CUmmS1yaiyWUo1ypKTulbERm3VPVLLJdeqe6gErKRmeidu7cQiSbs7rgzoeEsB36fl/wEqHJ\n",
       "iahB5sfUgJXN8Pk2SdBN689CtovjtQIBWett3cATZf34J4I3L5Xb5o1tdBnSyS7aBs/eRL/Bx5ok\n",
       "qBGErLdxqKvGPOs8sFVKl47kCMGSAGvAj/xT2Nrnumww5uXKPNH+BDiDSvoBN0qcbFJRlx9LHP/V\n",
       "4i7j+ael1KUY3UCf6DtgLQQpDPneX76cGfxMNPxDmkJv4Mwi+UYcgo0fHb1HprzZ9WrWXi/Iwcu5\n",
       "79D+bkyZH8rLLYW1t7kH9eivZ58wk7Vb7gpO2QPgvpTl3yIGK2HnYvKNl240meFHtM1+NUTBVGCZ\n",
       "hBN+YTytGrVD3TmxeAOoIXpo6+zvbBNqpVN77OD7kkDqV2FPW5xzybxpejTRYuquhh5eqS8L16kq\n",
       "cLqUrIBe4Gt8WiE3QeERn8j0oKr5QSjFASnfYnfFRwOjpyVo8fsPjFS7d73C8J8Dpdtk5m98XtS7\n",
       "cOFtfiTCCvUjR+DI5t23H82IU7h1Epny6DPKBXZYbtedlA3I2cDg+sF4TMYp/fejo8srtriHMfSl\n",
       "s4FzwCxEIS89Svn17AUixurT0sFG7l7Vk8jYRWU9lnvt29pK1UQUeLPESjvVKfDRIhb2+JinBqNO\n",
       "suAH+5CqDnhHM5Ge9HE7XMZ1KFDZ2c4qTSWJhn6BWxEuJpvzzq4zANAu9ThCvi3HuiDCuiHOuNDW\n",
       "22/wQMtL8wm3+1CoWrJUUCBNbxYD/si7OWfdH66eagMRN7SWGrXUT+EqAaLaXY+BIDigIGukw3BF\n",
       "dd4xbjJhC9uTOn4tGey8OkyXgH+2WrKXjJFT4+N+XHohIjUI9VPto5mC5aLS39P/bo8KDOzug9gG\n",
       "tWd07RWx4PmN0biSuGhwqq7IjDA/RJppYSp8sCHg37eubwcxn/8/jC4wlJeq6/nX5N3KpeYTgK0H\n",
       "cX+zGvKvqMe4MsqebWnX+FYYPAaDxEI6Yi8rPNqXCX5TLTiKWbXZaUmy80p6K6XfztpTT3XYXmCC\n",
       "636tCxdnGzaQbUvLAaBthtbFnjeB5HAXCVkKawXR9TmMUTIFg89Lenefwcx1KGpz+i/u5yF1vUZu\n",
       "auzkigCiFZMpOuWoHedRbpI5T1U5U8OdEP3Uwat9/iL7YyA7Cb2I7AZIKSTNbP8GoLhDyCfnSmbr\n",
       "7oP7tGA2k7fdzeuq2Ph5saDEd8ePhc1xgsGsA3grPdbCYrXmMh0+XTXpG/cWOq0bCBv/2yYUp180\n",
       "U0EBTGSuzShnZTTSvbwogWmI6n2lnIk7TFkhBON1+oBDp/CyEc3ziDt7Rkvec4AMcuOckzv9TC4X\n",
       "12YOAf37YaU75MQHJu/zZ/GqEGX2fktUAe4mktUJ0Hf5Dbr/efr8zVH4zGo4heucRHa8ibmuskc4\n",
       "aVgUQKbo7Kr72+CBb4+UOUuyu6FK0IjuoPUSlbdH7FzZaWVsrgImfHtMBA+J98ZM/XvLIM7Hi3Be\n",
       "WZNZAf9voaHWsopfSLNCTqAupS3wZocQ6wq752tfn7QRKxuUuPEDLqvHuhg7uhdQP0Ha5A71Yt9b\n",
       "T0ZlsJX1CU0GovRiY6EgSUthgHrAR7QJYBFFp9XaYOR0tUleYNQUW9iambkrO8wnP6Y7ZSBbjkwj\n",
       "SMrjXwX0xuID7CZfyU0BldbUYCNDDZKDzKizhGKVqw9/ntw6lk2KrSWoP+/hCbmbmGnijhVTX3kh\n",
       "o/qr4pLBgSDLm+mlmPHSUjRPh9YAeaI9wmHDK0z/vHC3v1yZ9jtEGHrGabGEdPILt+twDuxTT3Ni\n",
       "M2oxJQe+mvyFb46YN2ib5zsqogyqMhHOkBT5B4Xyv8QsHMK/ygOsUG5ClamKBbxschUv3xoCOjwN\n",
       "3bkVZSwTI9mveFkYGI6nckUoFh5tIhNBVdsz2vq/Smm8NKF5erNrfwZFoobS+EXFA0ZpEYrVoDzE\n",
       "Xz70ylPID/MaPmCZxcpZaVUFvIlNMXuJ6ykpjgX8oQYel2LIR+YGvhMcik8uV6DBW6uqFh2cM7vX\n",
       "V4iGYkrBZ46A7KYbL+moxUl/LVUrHUXNTnXI6E9HcCM9A3eDvpJyeDnRYG/60awrsrIR0pPAxfn4\n",
       "mb/jcUCWjp4mfO3hFVgnWvanxMC3UPG07GBwa3JKUIQnWirmGq2iVbrOMcOrIJkI5HwgsOJPt8RD\n",
       "R4rj8MATUcgKI5v9pzeQZ7OeyBmPk5sr/t84H13nlZsxwKAueLmT1Q5CSzoxRI0T4bjJf5d3npzC\n",
       "2SVKsNs4JePVi0RTBg+A2e0tJOVh6vH9FuyVyQWmQuGY7job7fonf7pZDzg3+WMF/zHdMvmUX4Qy\n",
       "q/QWhK5+GnbqyZ1GJIcMlVJdjsOBIziNPUbGGHblrvxvadgiWqW2drn1e8UWU8slL+ZvsKdjY8pY\n",
       "REgv1KPsVK1OYvLdA1E4UQ63Pp1wsTvDWLlJuI9a3Ov29ScDexTEmDCto7JtSQU4KBdUYjNaS61i\n",
       "3BrMKD63DBTLZXAtrimnhQbJNuu20+T+eUpvVwj7kNWjsN6NhhkDhfAPlXRii84r/dQLuNWchc6Y\n",
       "CQkw63uluOzCVnV3h/q3+5W/hXUcOX1wcszuka/GW1FtqiqZIk7k19whUnCt7asc6/oalcLnGCoG\n",
       "vYkyrnMmXYKHrQP5T4wOb8aO1zSXmY+uev4URTRq62F7zKb4JLW48ECWR3sOJ+AH49d2OT66rVNm\n",
       "ToE22iovilMSaNLBhauYmWmDBOQ0///5QbWyxh8t6wMlB+lZgCpdk4/Sj04X/jz4lxMP4k6R+s6R\n",
       "yUqXhu+CNouvjcDm/ananqcGcot/xOWI8hAd4WuwHM4JX4leQzef3a0seeHn3ayKpZvm13iIOoj2\n",
       "PyL1XCog0VnMHeBecHfI1Evh11urfn/58u6lFNlW42GQDugUEZ55s8gAMg9fBLV/iXZMupcHPT2O\n",
       "LkrJtNh3sEjHA/TlIwOh3P0qBjLAPIJ1PhU6PNbqLo6R4Nw1j4mSmyrV9RceXo1b5x85yJLI0/GB\n",
       "TffZyRsXLfQN+CKn3kjhWENcCu+YXn3x6zGj15ZXsTNilh3sQ97rmop90sFa+siL9behayngThMC\n",
       "ayzCSm7r4Ml9NiTB0VNFbgojiYma4tQ00meTzxY5O+TI9jVBSW9Q6rgOCsUukXkuLbw7+eC1Gn9P\n",
       "AekupVOKGouraVUYnXwdBL1jN2tdeH0QIlNDuU5BkvHgtpWKAE3ByKNxQIG75rdZazuvoDCMMdCq\n",
       "pPRAM3mnNnu/v1IQezL/lES/H8uYcv+300Y6WUpKZike+5DRB02dUYTrpMGDyOSGYCu8TAvpZ7RM\n",
       "ChgGszAXNXPfuDAgivu/gXYWm3sQLxTgZtWt1OneZU6YxcFOhq//9ISGs2UAdoySUelzmTruXJkb\n",
       "YBILo8SGiwPu5TYeyGpc5z6YFRPBD/z/01HB0wq3JkiRQF6yC5+GQd8PEe+1KWOWw9+A/3iqiOOz\n",
       "U4K6fPh4HSDDXdIfvlzxEKzLoX/yushBfEmgMmce7BgVwt71NQtlH4oqqezc6B5fJeRqefPcoIQx\n",
       "/8ujQp9JpEXdjpZ278keMWPQpwBeVco3pU5f/MI0jhoeDFvU1LaMsTm0DdV4tJ2JBswwjgdb+I9M\n",
       "bPzX5JNcKHfnFXp7D9p6Ci0EZQ+7BWGq1j7GucL//of9vPdUelTqSyKF8nw3bfjdH46L8/EgGrch\n",
       "RA/2br+g9ltqhi9CPjraDzDH9nMh7QTfnmluR4EccdYjHBxksr7tkJrd+RWsyCsvEs5moaJ1J6iC\n",
       "ZKSmYJ33nqnALIQUOqH1P9xjjnsuKBcyPBBDR5kDItASgZj1b8dCaaSa0eJcqxku9WldNprHJ97C\n",
       "YSAebga0PAkOjDU7l/T1LkjFZU2PuqEKiQPagd2gUTw/qTVlOmX80+JsID73h++/PTE1FHVsgu6S\n",
       "PeYxA7QU7vZFPXnzUzE2+ft8Q2UDb+Y40g33Xk8ZaMx03p9RLonQ4a2ZvS4ARt6G0gKADT7c7tnZ\n",
       "P9J4cJm/c3Q/KoN34jTUthpA1EgEjYD66T1atJWdWoBgFIgJeQJSvbRf0K9W6xQFMQfweTk3nHhx\n",
       "QI6sHvfi1UFjxeL23an3jIYMS/L+s/oTEaH2kJe4mzuI9ZN11w7/7312dwEJp9bx+1ACg+YeuvzF\n",
       "oZvAlDo57TUYa3mpCx252DCXRLXl+amm6/tL/vfWgVZhpQi38SMl9UkwS31sjKXqVcc/hUYTUCzl\n",
       "Pd5jW8jO/HF6XD/u02k9uOvQm93BQWQu6m9p9ORlZJSESDbyPUYlaBFle/+k8hCvdq4nwKjzb+XZ\n",
       "QRXX+nx6Iu+Gu8G+rk6GWE5vADDKW/2zn3GOFl20fbGzhL+PfBzcsv6AnqrxcZ+r5U2cwAa9IRHq\n",
       "y6PaIzvuidbMxhghl18tvOOEs6gL4pgrPzJrlVOz9V2ZG+CJHiVGW/3MkLBX1ij5wj/vxlbnv8CK\n",
       "CVAKmp2P+BHmv8LVI5fJYfQWRfQ5FZ1juz6yxfZbeaNjmCDXg4PgKo6myLQ+2Pz6kWq4Y9qvCT2l\n",
       "txQi9RuBAMcHrKsbRuBDY/FChDQ+I888rWwZqeSeafZoeMFWrFMq8xCiHlGT5dDvHTPDMHiQrQlR\n",
       "TGYkZGAkxkp3D/5MP5m//+p0K3289CyaM2/BlXc1fZXuwYAqvTt+VX5/PlM+j+HomPQt4CB+40aG\n",
       "o7sD2CLrCBPOhF3BKjHFF9c1SWbS/OYly0+tIerlyznjRKrjBgLs3yK+ny8kmjAwU5lWWGZYSuxL\n",
       "i/7nIxwwFwY7IAttUSg+9LiuX6a4ES97iiZHnA7sa+y3xE2MnGcPL6BP04PCrznHHw5HJ/W+h91/\n",
       "hHXjSiDNnRm+2RfaW+zULo7m9wcnBikjEP7bZhVoJnvdqbeop0q2Meq0YfxRILC1/pwOCNqlauPE\n",
       "EhMxeD26Rkm5DoEcum3BD7Pu4vJvrG8LfXI9qMNNTJK8lxf+rSQ5a49jnvMIaSWk1TrFwLMBBmmk\n",
       "deokFVMg2Hit1Y8zup4rR1hX0AdM1A1dsotG5WwOiU0oYfr8oMHw5BxwTGKNyMoZl06PaOlG5GmN\n",
       "iwUdAmKVVU9FGrREXxy//zv+AoJgLNaBho3WyZ/3xq0F0heHS5djsJEamxuLcU7LfOQ0NBpgMMri\n",
       "BfwbvUDPpWojCpx2KT/6Q07P6GYKlZnG7Wyxgrd2nZOe6Lc+iDrOeNPKzD5lphMiaI1ZaR4qqrUL\n",
       "mPI8EDkuB/5ZElXER87rZnTI742ikDfIzh1/EHQAaZnbZomqTTkM+NjQF2z0BX5LfXXfCIMRZPz+\n",
       "Iv8NDd9efJ9hFhDpNbQ9RS8OLB38uBeWAM/8ij3Af1989Srz+JBy+QuF+ExnYVeIThSg8ArNM9F+\n",
       "XGwMwKLcREsQbb0/ACAHWWJJn0B0mpLNJIooyix1YT/LRcelzBynKCMh8qkeCswPX68wLAJjkNvl\n",
       "vwL5doRH/4QzQOIzTDpuPyMJLB3I4gcuqvQ03uUQ8qxbT/Cygx88dr7XR2OgXBQ3S4zmwb8qrMtC\n",
       "q4IbZfKWPDbSrYZVjRFYgJBsU+Synwaiqbm53MG6eNq0oELaHf40B7y+W4nu4ugVTH9iki6PiGDa\n",
       "0aGSu+RqeGS8MkvTxfuwgXbU/33OeyUKpnic2sseSh562eK575YF0r+0/7m+JeCNQI3hS+k7POyZ\n",
       "mcXwv8yoOcPKA/E/a0L1pPThif0tcBVCv0lkFC0/+LPerB8j1vskH7Um1y03FCcVJFBD3nVTABSV\n",
       "5Ll4P3nnaPvZ0lTOy4FRxCA29SHzY9z9sfaWlX9BEaeIGvy2epxzhi10bwkBE945UGL3jOJwZ5nt\n",
       "XDa1UeZtoGdUVxuEhRHvpEKBL7WxG/UYRjlSER/cNb6/y6bdhucImf1rsQ2KtlTK4tt9ZIfVLO8K\n",
       "QiQlvgVYK5e17ulUZL7fkZkkZS0Fjm4BewDYIPNF4YAYr0Q2q7ZPWtnfhhdZ/7D1CQV7GuMqT2Aq\n",
       "WfBQtzwWo0fk/Jg6mcVmk91Kj6Yxks3B9rpcDWn2TY0KBY0wO0XAkZkhyNmkfAwHz3mUdltE7cHx\n",
       "LB2N0cJB+MTi8h3bFlMax7TeEmx0YZWVomwwBnJPKxzlbsF4XbzAe+kriSktgoyV5efIMxbGp8Vm\n",
       "riz/OKGP2Aeu/4n7P8a5zE1ako0ifrQmBs2QZMFkpAgmpR70gZcbZnsIbfjY7/avGonZy0L5+P8O\n",
       "za5X54IoE4NNNd2z7mkgydbkNXWbxV4ph8yrKh+UbvvInyotjGGbKIg1A/vRGMSIGRbELknnkR2J\n",
       "wnN9ANOzgWMarUvSCnpl8uIHyc7YYLyhnKa7x7ETUB6HpQzPcH6c0ZjPvQwqOv0n2IOGEhU4MbSI\n",
       "ofUoXZJfhWxboIBWL5bjz/880B51KSxo+i+iPcLxZpcHcsPZ35deS6D2+t7GV+gaowxmomQ7APah\n",
       "KjF4aeK4vTIMCKfTNtriK5btBcS4rk2v0SlC05advrzQaTGrcBRGqixmcnTz0DtMEidBsLu76dCY\n",
       "ZcgMSJzKZGDiAkzi3RvrBuaLJlfXaxuMewC8glzqpe6VrNwPngE56lb943E6U6gEkN101ZzmzOxz\n",
       "ei9pXtSBAZue8HvcrX2SCU+kQXv+5dUPQ7B0SWyELCku0OGnBom7TPeezvRNFnEVuoCrjVS+aRI+\n",
       "x/AfDP7ZM7Z9h+/8tv6u4LnJwEBikTC0p4oHc08ouBAeuKQ18NkEi3jF5LwHAOWmKg5O+pAx/yhN\n",
       "PQKJcOdCnUZcHtFAo8KuMCiTIYXd3I1w5pRPgycEMyisA/Gj9qwJ9LMmQP9FvgXlHFBto8XzY+RR\n",
       "C8ScM6PQkA3GwQDblMvhFTdGV8hMTq+vBWC8ZY/Gf7lzFLtFv1zfuB2FPGAqqEHb4/nXysP4UExO\n",
       "+b7XHClOVEF6ku/cRUBmhPXdajFf1ljZaX4IGdOA5xeLfl32X0I/Auu/++RWNc5PvYD5lCnBda+U\n",
       "5WYdQDKTQoG7fzJW+9fXH1s6Uxttq7s7eSSbGO7j68SlZbLpaOk8s+5jWIw19xuQ1sJ+AYo99qUw\n",
       "FpPGYxe10tspSeP7pDKEfHIKqI0Z2OG3Yk4wQA+qR+DIwfTd29PD5hlZbPTPVqezHp3u8mFPOm0d\n",
       "8MVAy5UtIuVTFuGr/n+ST6rSkytud2cibRVXnWhp87TD7qRbh9H266pcZ0xmXtZ16x3Aidg1ckkv\n",
       "4t1T1dmBmHXqyEYZtSnUP/hhUqgNp4uWZCAnwXZP36XLtE5r0EiBilUQlT2VlKdvMEeHuFnTw5w8\n",
       "Eq4lppbFX9Z4Ytu0wsXA/WumgHyIFqiJqF6kyYh1rZyoI3CDoRpNemiYUQvifkcolaAPJ5pXhuIV\n",
       "Ue7Dw/01sMrSa3CO6XhTWbf3E8G4hwQAioGPcbj9NxDVd5EtrWJgKtSTv2k44nZyXQXoMhqsYbmC\n",
       "MXJ5uSzBaSAediszOX3v7kRStucEUiIeLgx/NuxivLpuBQlUG/iar9+mmHS1BYozAfuWqtaV3fzx\n",
       "CTBTjn/ayfvLvJ8iedh6sNRyc2qQcuQ08aYEG3mOaP6RUAXvhyLaswflvvb2AEV4TpLwNQCKNHs1\n",
       "ppSNesKMEXWwJizg2PS15LoCOlKVO0SY4G2S9Q0+asJg4/9HR8nqmqViCrky86rP+YclAOZkEsRw\n",
       "EJpePUhIPxpYCbDrGkxdtyOSv452FWEHOx+1pxBeJi+nbzWRAX79qtjPFU353l2TXjloE3LTUnHE\n",
       "HXC2kayNOoh8DNPcAmroo7syhTx2duO9cWZfnbDiQx8QHMwpgoa0N/NaGU6Aq5agvGyJ2lLe+sGo\n",
       "NKYKdg0cgoFLu8JsSYSawYvj8JyDYnTvJRRATnEkILPHlaKBgfMt7eW6UE1ofx1ET5vOG2Tilru9\n",
       "QTpRQNLFnHQJ/+2eJdwb+M+sVOV7YP0OscDCuhLOiYedp49QJvcGRO2/x1kt9P7xkqRPABlyxl8r\n",
       "zT+EgCLmRw6yiBghnqB0saS6GgjUV9ZRxVJCemh4Gd9sZETyEGYUAu6QA7ZieeKZcrbF+7K/ktM3\n",
       "aHQESJHx3K6MA1+dyPSuUHH/2N1D4uwSwPMkuQxpjpvkHFbU7wwwx2/R9Sk9xBkU1K5YEWoZueIO\n",
       "dyyKbWlv7qHYrwDYqmjGrLH/b74mrlkPveqffBKvlsYy7wVwiDRmAxi5wZ+A3o2YXgWz7OFdRjuO\n",
       "QTZTzXVYAAADASL8yBBVfqtAkuz/uXnbpPeIczJpFZ+dVsqdH3f1yAStacZcB9xhNzPsPrrnF2W8\n",
       "P38uHSq7FrPQ84uuIamMopSucxncJVeTn/cJXjBPKF8wC9Og9hvfeyb1drmZoqiJd0raVlP0Fdec\n",
       "epfjSSB0UE27E4r8KwEMTUYArjs0SgUSclotpa29aIs5+FQN2bGxfve3etc4f3KYueU1Va4+JrER\n",
       "ZC6FpdfTqrzKZBsbib3I/T7OcnGGobipbq6tBXHUQlIZT3jUcNnEMOosu7sAT5GnXJpDA7uHicoh\n",
       "v8zbAsqJSxHItjLhGz79xctaf9OHsuYbZwc9qkT0Qq0ri+8vGQXEdGbhDVDFdKZzLQiU5C/zmoJ7\n",
       "vT1EjDZMwZ9mbc8n4ce7tm28RWKbriJ4T3JM2m15gYt8hGukc7LEDK2eihuZaELkWQ7Vsh6OcC5M\n",
       "hbqPiKm0iwgyEQpNK+ZCbW/SGGF6uqcsHzip9h2/KZ3TKT7n6ifoeGflwEHZ1QGm5XPv2hR7580j\n",
       "9Y910bG1ii0wgwRryw57qhuWawrNmWPGjOgUp+CSmGw7NQn+jS6eLiF1YWkpKJwGyd/C6gR6d4AS\n",
       "RZV5tgAAAwAEhQAAAXFBmiRsQT/+tSqABIGl+AAt7edicqE/dagFwoXhFQ1/+sj6WwxMkBVjapzD\n",
       "2SUSzhQWzBIGeGzhcAghZjqVNs3p1DVcIhyZatIjxqcv8uHX2nSxPf9nM555tyc2tRhxQdvOpi2k\n",
       "96W2/7C0OFGdp05mKYEzF2qTksnbx+VGscXitc1l5TI7yHrYJU79R/1FbqC2+I1kHYi+jnZ8uWYi\n",
       "//KAKQX3pckP8sT2NKQuSliNtGTBVLT2cdrHWM6Xllgpo4lr+4j7p18lLwH0R35+xSi/bB3F3IRR\n",
       "iC+thT54EQxlg4c8XoFj4b+DW29rbddE9oWethYdBNSdeCLm4LjV3peWHvm+WjLnCDLcoa9gUJ8o\n",
       "IQKWzZPWBcfrLBC1+grTqtwu2FJYKKJzV2mQgdLW99Vuv+mZq5siviJgiDU5hCtEtEl2ls4zv7XI\n",
       "dt+h1lwCNMmMUjRdUKYiwXT5ejtj77DGQJkrDTy0K/IvgjRWAAADA1YAAACmQZ5CeIIfAAWr+SYA\n",
       "LqvOSpLtSL1g4mhwDkYOoZhJ6c67QV8dCTYeHe8xbIDUTzDxu0oB09GldWjNzNlJky1lApTvZYVh\n",
       "I219tpE5E2DD0ZojhKIFS4ypkShKls5ps8JsXFS+i/0KHGn7D4X4bxJPgcgJHNLAo2/mHZHGWBXZ\n",
       "IPZrdrMT0weOdJdI998SCxJiNZoH/eZ6waaDatVHnuvNRAAAAwADQwAAAJsBnmF0Q/8ADI3pZgA/\n",
       "o8gkGZpLOAcJvWkgqZGw993ZEw5KoTz+zFj/VxHsDywKTDr6X7d8Pe3CYrVOwhUKnQEh3Q1lSAWz\n",
       "cvz8sBDkBfq76+FbmpFnGazjrBu8eN2aAbH24gevh2ro8Rq5HA+QxZKKCTHvsPLTfJdq+LVdkYX6\n",
       "j7nZ9yPERDB/tprq/sTsuBTnh9x/YoAAAAMBdwAAAFwBnmNqQ/8ADJBsOwATVgRyJVXNnuSIk1Wd\n",
       "kXBe8/ChVZyLVbB3PisvSMgomORN/j6nLGi6kC2MvE5ZY+HdDZWH6+N9gsUgRsTyBHyaAAtMJFrs\n",
       "51JQgAAAAwC7gAAAAPNBmmdJqEFomUwIJ//+tSqABIHK/AATWohFJs6ATfGgp0Imc9n/T7Dc46+X\n",
       "i4sSyCrdbf9KHDk4hswkL7njNXxf3xgYvsil+L8Z9L8BP7oC3dc0swdpQBTaxX4/f7aCU44hMYZ/\n",
       "8HtABsbtipdEktQSSjW0ZpzMaIChc5xexsO35KPYjj91NZrs5t5LGQXXqGbkkFjb9TtN5SXjKOMK\n",
       "RttsC1x3NaBOeBb4Q+avDu1YBDu5gk8pfELEdEi9xmgmBxwKWGX0PfUCDULA7Frt2wACzX1gPQqY\n",
       "UqXrwQLxLlkrJEKfHRMyadyJyfj6flAgKAAACDgAAABqQZ6FRREsEP8ABbCswARBMoDKKIJZ2P9u\n",
       "niHUDlQEBTRegSjMc/kVPhiETRm5kt9Wg57sVA9b6vS/pwQIa6i7we9wDMDIRom9J/cTjRlhsOWK\n",
       "SDLMPe5FZxTnwXiYnYsPFVbscIuAAAAFxQAAAJABnqZqQ/8ADJBsOwATV8eYhHiEbUP4RrSh4Uit\n",
       "VcSTIbxWZV1GJTLgWYIiOagGYOWG5GA1spUgnuskrv9xxt3M6tVujSdNfRibQnDxYAHJeLcsHAT7\n",
       "J5/PpOdRlCARKYK0cDHj7QuQNAYONlxAS0Mmn1glVVqlowugvHcDoPTIGNruV54Ml8V5w2AAAAMA\n",
       "BFwAAAD+QZqpSahBbJlMFEwT//61KoAEgTR1ABO6lmc5MzmvhzPY15FTT8u6/V8fw47AxPnmmJ18\n",
       "irQx9JV1PZU5Gln1SRs1FgN8wYsasheZEk4VUarTR0e40dVroHwpKFj82IXI0ygBFZ+J9NcKitig\n",
       "yBpUYDEU9rmVNBGNSzucMJOntGgAE5tFLpCt4r2NCg9gM800IaGdZPqe4Z6i5gK4J6p364N66A3T\n",
       "gV47W1R1JncdbPdylzKQ3Sg6SDn333v0fmQ20cyOirq136UhCKJxRGQKm0qrIxj7pwRTc5E7fLlq\n",
       "60P3zD2/dde+pIvQGHBCgzvyxPYFDc/uE+AAAAMA6YEAAABPAZ7IakP/AAyQbDsAE1Le3WkCM+2w\n",
       "/67Rm930DvDMUMgSjA/xBA9dZTOht5M7Qs34jgeqTD8IJKMxUl7HgAIc5yqTYcp1b/mQAAADAAAJ\n",
       "eAAAAUFBms1J4QpSZTAgn//+tSqABIHK/AAQqn2CLeg8a3lx5tDq4PekjkSUDgOXmR765imkVQGh\n",
       "KWvwQNj11VOWQlmfYUCVIQpk7KOMcLkPzN8/Kmd81tTe4iJeQUvp/poKd40aosR0dHtIStp7PGHh\n",
       "4v80dGCJKBEbh15mhk4iR8kvW72e5A4TQM+FqJsFgS+dgg2xLYItnTJRWhm3LG+lRhNt1MFZfzfs\n",
       "a2bgicMSOpRiccI2Tt0sYiX1AflRTesVaaqSN7XSxmKey7XQALphwNTJjlzS+O0yMUVBDaTFQ2/S\n",
       "o80KbTmJtMbwDidfzRsrxcxsZdQcThCVs1Ox/+WOrVfrF5jNaEFJTZB9Y+r1qbA7ssorWpbdD1Be\n",
       "euAzOA98BN+4dQnwlQHiCDcd331HehIecCjPgCB52PAAAvbRaFSAXcEAAADHQZ7rRTRMEP8ABakL\n",
       "J6ABLUxOwrRXFhKLHB535Bc1QhtPP8qOH6kj++1q4x6E2rLdBPLA62hKAwiOOD176fE/Gnryfb6B\n",
       "Q00jEM1xlv2X1otIVgpz1E0eWUbafUFFZ4d3POxAK8hJgOGqq4JX/So4UXnaDKmTAiKYv8WieUA/\n",
       "hnaTeWI5NWrAwlCciESEKghWlBA4O8ASkEqmw7En53uZJDCw48bKLASeGs9uCrbROgsMLc4uOeAp\n",
       "jAC+K+Naj8KuAAADAACHgQAAAGcBnwp0Q/8ADI7/qwAlp4IIJg2yQYZNz6kbkBZS3D6xeo9vE2Of\n",
       "mu6CkmdLzP9FjQD4C9cbS4hDig4DWWYq3kBqliFCStOA45krzSzhURI5jagAG1AAEPpcIRYrfD5d\n",
       "XoDYAAADABXxAAAAVwGfDGpD/wAMjJ55mAD+jy4iAx9nicgaS/D9vA3Crg8R4XivYzU1G4fxrl65\n",
       "UIfMo80LOHiwFMAq2WYvHgNRvisyxo5D4ACFAAP34QoCENiJgcAAAAMCHwAAAMBBmw9JqEFomUwU\n",
       "8FP//taMsAEoV8YAAEOoSWggwFWNPqCew7t5WDOWgEm9UGdrsPJ+7xM4hb0edux/KyDOz6dvO6is\n",
       "MfJa5mi2CfYKfi98c0lGTmbkyDx/ZEdf1jK64xW+736II/hAWeqHwhRDItvCpwPwIIUwICZe2YG5\n",
       "qg9IFUXo1vthigWQvEzmDVR0xXHZs/hkiLvYJZwa9Jxx+vHceSW+0gmnXN068HrqTR7k8gDsy/Sm\n",
       "eTrwr17nUgAAVUAAAABXAZ8uakP/AAyNOv6wAf0iDdAGoFDdqQHGIEBeM53SJf8OQC9ueem9Hkq5\n",
       "cLDaYuIcPFf6cbk1Mmjx3i/iiMphdi+XxdarNfcYwRHznCEc8um8wIAAAMCAAAABjEGbM0nhClJl\n",
       "MCCf//61KoAEhrUSAAt7edickwKNsSBAbCXOBv+lYzV2ZODQSGlhhT8kEucc0uIEGESeRSbeEZfl\n",
       "D3I5UaHZq07bIdddyVTv/rmTWXHoTKu2sViVyEKHsBNoqnD05BV5CgKVZN6CdvRcYvRjC126+28u\n",
       "QvhDBGagtkGhk5xsQmT0wGVHs9fwwzY2FYh+eyZFDjpqMghOa9sbLaAkwZCrS2UkIkx7FQ+wDeF9\n",
       "qrzpejY5OvceWoa+BBEZa+hk/bPdvl+yfIuZnGw8kFPW5woIxqVusuBd6hG1EPJSKWNiJ0wS2ZhI\n",
       "/pED+8h8zbkv8qCRH/UtS2h9ONQo6FA+HP0zsz8Odc2ValMUD/XeANqDVcM1dq81lGoLo+93Chew\n",
       "5ZblN26bAvd3li4Zz+ZZlrC3+CHq6d5crL4pQOpeixmdflYT/NmhGlL6iL6p13pcTsInt/scrkDU\n",
       "cWMcrkXxRJTOi4H8n6s2dI74Em24tN9ivaeg9ODQcBqlKcT9eKdR/QAAAwB6QQAAAGdBn1FFNEwQ\n",
       "/wAFrGeTABxvnF8njZ9KMhd1xkaMA/m96T/l9pdS3StbojWkPsja1Byk/6EKU7tKaRiI4oyrylPw\n",
       "WlXdePfsIRwJgEL1S1jkQAAUsquWN7Srv5Xb/hENncwzMWAAADUgAAAAdwGfcHRD/wAMmVmAD+g1\n",
       "OaubZMJ6YcteWWR486NUzVGFrq3qwwv0EDRmV00QXskgJPVA7fDkHD1xRsxMkFYzv+9Gslgcy2mw\n",
       "4uZtCcPFerp6uY7Pwvn+n1HZeWHaWfdtGDLqNh+lvjBZXohN12K1pFsbUzYAAAUEAAAAVwGfcmpD\n",
       "/wAMkGw7ABNW6PtqpDQj8P+2LAMn2kYquVIIC5GvVE2kZHwyQNFRK88gNZoNMgXojyjAUKCz2VMo\n",
       "hUPPLVYmRfFbPh5rYmyoNfEkbhlAAAAEDQAAAOxBm3ZJqEFomUwIKf/+1oywAShz7EAD+t1/FANG\n",
       "4mrkUVCmkwEHqPY/0K4mbSidkFSWz46/HM1ArmT1viC5JKkIlYGvzFmOpe9U50GYhW4DkjCwcDKP\n",
       "7t5fGcKxkPXyUiKPmVF3tPwtDBIOkJCEaxnPy3YizW4ed412pypptJQ9ObmkNmmD1MGOtTjG/+Ud\n",
       "r5ajieQ0O/TzML/0cv/anxS/VChPk8COh0XIRyx4JLvvuYgOATmcjCB5XBIP4wPcUTKjyxjU9E9N\n",
       "OxIHKyjCm1EGpRBO33fREoJEtb9KA0H/DNXdeSmxewAAAwALaQAAAK9Bn5RFESwQ/wAFm1KlxdyF\n",
       "5gAnb58TR+t+bbZq5Cr9XSpiqbW15BozMjpCOeuQsmuJFPqhs6qk50PALL0vgEgdjPxcb1MHAm+w\n",
       "aaRiRciCt66itAjqz1zCj40A3p1iqAmxb1L3jppeZnTZIfTxVzIrlHiTjbvzAsao83q92vXe1lDh\n",
       "9VBTeKDQ54Na1shryzO07XXxJtmUIgfaKIn0GhqAJwqR08B/cjaIAAADAAf5AAAAhAGftWpD/wAM\n",
       "ZrPG2YASzRyej7jozxev/BuYHbgLvB5Ti/vZL1wZqAOVqM/v8E34qD7dskFKL3Z3Z5f0rN+bEPFg\n",
       "JsilTgVZ+T/Foj8v1dUnLoMq+rhQIzU2kyovXXtFM8+bESKgIwzN5M6CfIFrH3gW1ucWX0cJkRO4\n",
       "zMjk414EAAAHHAAAAQ9Bm7pJqEFsmUwIKf/+1oywAShz7EAC+zkAZiSj26CgN8UOnreU64YO2PWd\n",
       "Sixb/lwprwypZSiELI6FN5+nM7E6wUOeBdBtqtLPN0vu8X0l+Q7l4AQcpmKfPafl4ttRl+GAxFWC\n",
       "P9rlV8JRokZZIktS+xltfq5zsX3km9PRnOPDEoPxSUiJ1TsNC5zQF50LZTeTgfR0JtTlI3htLKdt\n",
       "icEeK79BDEgPFtFHWWg71fE85rX+3HWdrep5kNoEGvpipS3FlX4axbuaDR8WQSP/nsq/ZDfvYuj/\n",
       "6P/JoncLJF33ZqN3Cn8qMnElyHHLEmVHKZZOY//5492o33E+Eg/foZoQYQZOc3AoGo0AAU1bqLUr\n",
       "AAAAn0Gf2EUVLBD/AAWbcHiTABdV5yJMlpES4czdBqwb2hznIz8WKu6NLfEPAqecc7Bl7bjpeSZq\n",
       "UksE1eKpE+n32GtxOnPrDqLbzNdAZv1LS+KDaL2p03jJluU2D85WEcDgsqngVTAkjkvsVU/Vz/dh\n",
       "l/y73eoKIbvbgdPkVdZhpmIJOw4fih/jjVf5NUtfxPABPlXHvJBSYMvqagAAAwBXwQAAAJsBn/d0\n",
       "Q/8ADJlZgBLV2UhoPU02R7dQZP1KGu4rXFvjxhVY/cnw14pTcwVoi7UuEIav+2Q8XK+jExA+HuO7\n",
       "PhKSToRhSvFVikpi6ZhooeK9XT1cx2fcsI5x+FHJOPxynkMil10/jp0QY9gi+Qm6m02Fu9kL+fIp\n",
       "dxv3lTUTdphn2wutCmBGBbcuZQRoEmq6vWh5YCxiCmwAAAMBNwAAAHoBn/lqQ/8ADI+f9gA/mbSu\n",
       "79YaXdX8SBcJAcixUMvzeR8abvGGOarMD0k8gNW4KwcmIcwo4x/BJFyr5dDHPNbJ83oB66m6FbVM\n",
       "W85DUyoPNLRls0dQBIBU5ka5E3+qxjLuZLIrPrHlB6uMXGmtua2nmzTHAAADAADUgAAAAaNBm/5J\n",
       "qEFsmUwIJ//+tSqABIEJTfTRhqPYAFvX7DhWoOo0a04S1aR7XAyb4Ey1+Km0IiVkFy/+n4CMlGRC\n",
       "ja1FMbE46p0xLXdYK49CU0zj/kY3+giJ6PlGxthduEl1FKibYruomI2QbUHVg8BQrjs4XBl9WXnY\n",
       "FmLhK7OFE4JIL3Oa1iG0ZVC9G0Rz0I73pLZyXXBYyO27C5gnlWsz/NSeRRD1/8t1Vp+iFBM+vrRZ\n",
       "sl02zKEurXnB0t/UcTWH6sxqW+NtE5KdKlkB2QX7EKq+YXWsLwW/2gt6sRPl+4xVziC8knqjHaw/\n",
       "ipuidmof8102K4afx2R8D6iHTzXfsYlugy2tL2dkN7IiP+8r6/y68L/RoiHyNr40gNtKzwis8KYs\n",
       "J6iIFswYL1tVSjYTIahBMkhawtyi9e+IAwDFmT1SAA6L4pRTAHadqYqi8XOit6zsEERU3jU6WF2O\n",
       "x/JITpDVjNsO4ZisU6VOoazZBFmE5IoUQYbwWa7Ui0tH8H5SNi9il+JuGRbMG1OTJoElk7O9TYqG\n",
       "Lgf8/sx94K9ZAoYAAAMC8wAAANJBnhxFFSwQ/wAFrLd1AAlpGuHoVG5tE75YYxKjmhVk4V7ZO1zY\n",
       "t5ZLGrZMpB8h+rAVhvSL1cb+A0WNIuX3wk3u1VhoLKorRPxHKzv1RsGBLrqboVYrzSWPKxnqluAI\n",
       "TKqThNzVG92DePXhO+E2K4PYm6RHnqL3Rc+tRz6LLu4qfBkI6SmVRDBbPgOpCy2SBBm50JJR7/DX\n",
       "KwPhGR/1nnnihQux11v1yHYnptj3lGHOVW6KSXk3Fgp0n8MbC9i2D3Dt3msmfPjqTa/az2AAAAMA\n",
       "EfAAAABhAZ47dEP/AAyN6WYAP5msMM3oZD3cfDBcoPcl/ZIYJpEkjg77nSP443EirfS1/8PJskIO\n",
       "gny424+MgNRURQSY1Z17Jl2fwnYOpmVz6M/vm5f4XYsTjaaZz/jNCwWAAAAG9QAAAJsBnj1qQ/8A\n",
       "DI6WzAB/SITlwVmihi9NYTeZ+t6/zIXsVuWwbEH7TtcwzbUk4OaoqusTJor7yA1dd2dilH3mzx04\n",
       "Mrvr6LDSRHsBT7jW2HiLtdrkKlZ/EocQavpNKcZrhBGfrH2fB2a3FI5g0EbV+g0P4sJqwYxCBN/S\n",
       "FQ2zy6wHK+eo2mDTaS10TWDLowGLOSqcw5d4g1wAAAMBxwAAAQFBmiJJqEFsmUwIJ//+tSqABIHK\n",
       "/AAW9vOxOW+w+z/J2BEBxzhr/1kfNv6GwiMtGhGe33JKJNYuzR1Prtvo2qXIGkmZ3O+gCa+xECkA\n",
       "nYponfE6xA19GDtLKvZijY/ywVFiC7QJw51GoC+QfruvkIJo3oVP4fDVpUdBW+pTZD/OTATKnXw7\n",
       "krnBuaNlzXRJH3K51/B4jopJe+2sPg//xYqfwyJJgE/wkl1DOMCaoCOhjgBJ1Pj1gPwkLOgiu8PK\n",
       "ivWQifU1IjhLmdi34XielbCc8ta8WFpXtVezE1egXUbZ0Ve+uql38TS9CusyoAKTPZPWYOVpra93\n",
       "6qKvfLYgAAAj4AAAAGZBnkBFFSwQ/wAFq/kmAC6rzkqLhzUFzY8rmDkYOmoYQyB1FZbb9wDPHpiF\n",
       "/H9kq1kfHSkJKdUm93IyEPhy0jy3HatNYrIWwaAANGe6J9tIUh0DTUoKN5/b9rjIs2R+7IYgAAAD\n",
       "AssAAABjAZ5/dEP/AAyN6WYAP6QuRF4zCNzGNt+e9+V9zTGBPH22DdCh0OzMTk6vjOFpb+GrPzQg\n",
       "5IJFCd87ZKi3Uc4vhT5AamVXEoIxwCoCt0UxHXly7B/JeHeFLG0dVpopAAADAAGfAAAAYQGeYWpD\n",
       "/wAMkGw7ABNWBHIlVZdp8kRJqs7ItpdffChVZyLVbB2WCeWRh3kIT8QsIjvtR/Jsf/nIupIQ8WAX\n",
       "yKMlkcymt1yz6Zh7y+uOHWHx+/oDzrAWiwwQ/ZAAAAMAS8EAAAD8QZpmSahBbJlMCCf//rUqgASB\n",
       "yvwAEKewUDQaqLZvdJD4bLvGm7Qksn/qtGu5XKo0EEDjocGcbcmx9lSsuzwgtVSVBCE3V1wON8Fz\n",
       "QcVxgMGJ5D76Fvs5zqDWlRrJ8xLqqxuK26S18SysGrDF8fH5YhwfUjSZKp43MRPBZZdrhtVP+4wb\n",
       "8fn70BzdI+dKn6kAL9VZeulgpbLd2EjyNW1xe4kGi69s5ZXozFzdODoJcnPZCI5V8JPIjVS7gltc\n",
       "LC9Z6idV0aZHm7h+xCng6Ljql00qkkj4cbBbcuTjU60dj6XYRepXFmL+S2qk/wJAtl8paz4VU4au\n",
       "AAADAH+BAAAAq0GehEUVLBD/AAWdcy0ABtUxzWZSHZe8AtyFVFgFtKxpDu2Elz6ysBEI05soFOUx\n",
       "iaT+J16Bi74NO+tMoSUNdTAKsDohNw60SEZ+kMmg2o5Jvd3G17rl7z7/WTzzCDJKy/6DPn32QuvN\n",
       "Qo1Axycz9S88I+Vv2lGQG8+f0thbvuH5MYdA63CeRZJ1rgIS/yB9PKigKRiW6zzSpzmUAIdEePzc\n",
       "vvivsAAAAwAd0AAAAEsBnqN0Q/8ADIRwblgAmqEOYUeZWzUc8VLUmqW258mcJHzCLwdQeB2PxEAS\n",
       "szdZwGXNWVstgcKYrgAqWAB/4BsFwN74NAYAAAMABeQAAABRAZ6lakP/AAyQbDsAE1R8JWNQHo+O\n",
       "bJouV0pabB6WH5vJqqlUafnN1ycjs2PxFMR3D+acA9KPMeKqE/NOphcJOxizAWYTBMYjuNdAAAAD\n",
       "AKSBAAAA9kGaqkmoQWyZTAgn//61KoAEhn0TwAJq9hcSO3gIxJcG2kIWCu9ViV7AUoyl6wEEJY3m\n",
       "w8v96a7apvDY5f+aWKdn/+/LhONhAKkURjTHZ8Yc9A9xID96K5hEQ+qqLH5wIVg4VHwhrHl29zm3\n",
       "oiaTWORWrgsZFWph7S5eestWmO7D+W6iZCo3zjEkE+ZvAa9j3eNk0lwzZURKoyoOEAOvKT+1e38E\n",
       "kdtQuny3GzG1wnW37+k9F7Afxqa1660z3ZOZXfJEqyP3BGGQtHFBVw0YXy6IkvW/a1Qg8NeZaWKj\n",
       "Bs0dkBEtBUONKIkbha+x8MYVZebA4AADegAAAJFBnshFFSwQ/wAFq/kmACdvnxNH6ydadTrjJYg2\n",
       "3pwqGmBf1ul2TbrVLsxhEFJ5yLAMjUtxpKstYXy96nZuZ1P5RD45SyWLzslsRDIzSMSFm255Nim/\n",
       "HnC3TP2OWAaJ72sCjZKbdE3BTiWdfxsRcMFMZVO33WLsLgWupAEC3NE8EAdSwT7IgTASdfh7AAAD\n",
       "ALaBAAAATQGe53RD/wAMjv+rAB/SITXtw3I2qTclGGIJWaMDS+2YG9yzuujOtBw2EGumWB/Gx+Hu\n",
       "/aFnE3+NGzK4GkHEVc3PJ6XdFlqK4AAAAwFTAAAAfwGe6WpD/wAMjpbMAH9HZUQ8jMi0Y3E+264s\n",
       "tmYgTx9tFWoolY7+L3ifEIGaQtBgWkygMfhD912/M82ubPeQGsz5oGKNfhPtdAtBWq+7x8AAODsX\n",
       "liKsCm/EuX3bphQ88y7x5+dlmrIM0B1MDtZO9O0ApBypgRuNSPkuAAADA68AAAEBQZruSahBbJlM\n",
       "CCP//rUqgASBxiMAJ23//4gdG0wtYYPeHChz8Xryiz0JMjPCRDG9LI87vI/TBlaMlwup9YQOUPoS\n",
       "6z20zxVFC7quS1C+wJCbwz/TRvdLVzwixDDLiBbR/eyKxrEdYZ21n5wA4Z/1XHnzQBWSE7R2fI1/\n",
       "ZL/M9WIFFTev78nihas1ko096KChKaJw6kn3xJBPcFejcj7nBnAZ1cKVlar9KFQb+yAeRxABrx+d\n",
       "dWUb83boHGs69JW4x8RgN951gw3dd3XAhML/TbMfA+zlUUAbQYSsG0SZSiexEu8YyZ6fLFPxchDn\n",
       "h9k3yFfM2vyPgACgIWiOAAADAVMAAACKQZ8MRRUsEP8ABZtweJMAF1XnIkyWkXPDmboNWDXpCeuC\n",
       "FbBBGLX9Awv8fMS94EPONhRmBEqm2wwt6RiRlJZAIoI/CqIWmJ4cuzG6KwV+ShEX2GLyfBvHBZD3\n",
       "ewjddAOiPD+bK1DpLfrUPnUpVigbIuf4AdPqmvk1sj7YuLEkGg7+rHxcAAADABBxAAAAoQGfK3RD\n",
       "/wAMmVmAD+jzCGVCCz2Smv4eiMNdxcQimzVZUMZgOKvFLemZ7rQhZP64O3/byTxrGAXSE5f0uLor\n",
       "Amb0sZc1maydzr0YPFfRYRkbIVXJNhAricIb7iXVT29q4cqd23ub7TpON69DNUoo6Ip35Y3QVWWy\n",
       "fMFTbEIx3Q0O4/RCPgRZVz+dZVuwiNbxG33vl4C1VYiu6ojI6TgAAAb1AAAAdwGfLWpD/wAMj5/2\n",
       "AD+ZsdZDCKORy0CWmbyCDg7+TF7ZZ8abv665Uy8W74PIDVuCsHJiN/NyZkvsa8eW5QPRne2h9AlJ\n",
       "qlGWfmilpuwNzzJvvO30jEgZnMmfqDL9bhA/TY52sUcIFmQZcAFc2TuuKr0AAAMAAGzAAAAAdkGb\n",
       "MEmoQWyZTBRMP//+qZYAIwtp2ACapObkHbdzX3+D+WIswY5ap9Bw65FfB7/rGyL9TJ91wSghiOj/\n",
       "jU4Ecz0UAqPVvYTuWH++t9PMGJtJoBiT4TZqlBj8QtxKFwL8aDYd/HJOvaAA0cURf6LiD+gAAAMA\n",
       "qYAAAABfAZ9PakP/AAxmrsvzWACaovCRUnlHZ8Gls8HvjhCDl/1CJSIUm+G76QsaKEzowBkYW5WO\n",
       "A1+8d3WpQZbdFFNQGOMp1qs6MP++LbXkABxlF7XzwCUNfXgDtEQAAAMAAUEAABC7bW9vdgAAAGxt\n",
       "dmhkAAAAAAAAAAAAAAAAAAAD6AAA6ZgAAQAAAQAAAAAAAAAAAAAAAAEAAAAAAAAAAAAAAAAAAAAB\n",
       "AAAAAAAAAAAAAAAAAABAAAAAAAAAAAAAAAAAAAAAAAAAAAAAAAAAAAAAAAAAAgAAD+V0cmFrAAAA\n",
       "XHRraGQAAAADAAAAAAAAAAAAAAABAAAAAAAA6ZgAAAAAAAAAAAAAAAAAAAAAAAEAAAAAAAAAAAAA\n",
       "AAAAAAABAAAAAAAAAAAAAAAAAABAAAAAAkAAAAJAAAAAAAAkZWR0cwAAABxlbHN0AAAAAAAAAAEA\n",
       "AOmYAAAQAAABAAAAAA9dbWRpYQAAACBtZGhkAAAAAAAAAAAAAAAAAAAoAAAJWABVxAAAAAAALWhk\n",
       "bHIAAAAAAAAAAHZpZGUAAAAAAAAAAAAAAABWaWRlb0hhbmRsZXIAAAAPCG1pbmYAAAAUdm1oZAAA\n",
       "AAEAAAAAAAAAAAAAACRkaW5mAAAAHGRyZWYAAAAAAAAAAQAAAAx1cmwgAAAAAQAADshzdGJsAAAA\n",
       "uHN0c2QAAAAAAAAAAQAAAKhhdmMxAAAAAAAAAAEAAAAAAAAAAAAAAAAAAAAAAkACQABIAAAASAAA\n",
       "AAAAAAABAAAAAAAAAAAAAAAAAAAAAAAAAAAAAAAAAAAAAAAAAAAAGP//AAAANmF2Y0MBZAAW/+EA\n",
       "GWdkABas2UCQEmhAAAADAEAAAAMCg8WLZYABAAZo6+PLIsD9+PgAAAAAHHV1aWRraEDyXyRPxbo5\n",
       "pRvPAyPzAAAAAAAAABhzdHRzAAAAAAAAAAEAAAErAAAIAAAAABhzdHNzAAAAAAAAAAIAAAABAAAA\n",
       "+wAACOhjdHRzAAAAAAAAARsAAAAEAAAQAAAAAAEAACgAAAAAAQAAEAAAAAABAAAAAAAAAAEAAAgA\n",
       "AAAAAQAAGAAAAAABAAAIAAAAAAEAACgAAAAAAQAAEAAAAAABAAAAAAAAAAEAAAgAAAAAAgAAEAAA\n",
       "AAABAAAgAAAAAAIAAAgAAAAAAQAAEAAAAAABAAAYAAAAAAEAAAgAAAAAAQAAEAAAAAABAAAoAAAA\n",
       "AAEAABAAAAAAAQAAAAAAAAABAAAIAAAAAAEAACAAAAAAAgAACAAAAAABAAAYAAAAAAEAAAgAAAAA\n",
       "AQAAIAAAAAACAAAIAAAAAAEAACAAAAAAAgAACAAAAAABAAAoAAAAAAEAABAAAAAAAQAAAAAAAAAB\n",
       "AAAIAAAAAAEAABAAAAAAAQAAGAAAAAABAAAIAAAAAAEAACgAAAAAAQAAEAAAAAABAAAAAAAAAAEA\n",
       "AAgAAAAAAQAAKAAAAAABAAAQAAAAAAEAAAAAAAAAAQAACAAAAAABAAAYAAAAAAEAAAgAAAAAAQAA\n",
       "KAAAAAABAAAQAAAAAAEAAAAAAAAAAQAACAAAAAABAAAoAAAAAAEAABAAAAAAAQAAAAAAAAABAAAI\n",
       "AAAAAAEAACgAAAAAAQAAEAAAAAABAAAAAAAAAAEAAAgAAAAAAQAAKAAAAAABAAAQAAAAAAEAAAAA\n",
       "AAAAAQAACAAAAAABAAAoAAAAAAEAABAAAAAAAQAAAAAAAAABAAAIAAAAAAEAACgAAAAAAQAAEAAA\n",
       "AAABAAAAAAAAAAEAAAgAAAAAAQAAKAAAAAABAAAQAAAAAAEAAAAAAAAAAQAACAAAAAABAAAYAAAA\n",
       "AAEAAAgAAAAAAQAAKAAAAAABAAAQAAAAAAEAAAAAAAAAAQAACAAAAAABAAAgAAAAAAIAAAgAAAAA\n",
       "AQAAKAAAAAABAAAQAAAAAAEAAAAAAAAAAQAACAAAAAABAAAgAAAAAAIAAAgAAAAAAQAAKAAAAAAB\n",
       "AAAQAAAAAAEAAAAAAAAAAQAACAAAAAABAAAoAAAAAAEAABAAAAAAAQAAAAAAAAABAAAIAAAAAAEA\n",
       "ACAAAAAAAgAACAAAAAABAAAoAAAAAAEAABAAAAAAAQAAAAAAAAABAAAIAAAAAAEAACgAAAAAAQAA\n",
       "EAAAAAABAAAAAAAAAAEAAAgAAAAAAQAAKAAAAAABAAAQAAAAAAEAAAAAAAAAAQAACAAAAAABAAAo\n",
       "AAAAAAEAABAAAAAAAQAAAAAAAAABAAAIAAAAAAEAACgAAAAAAQAAEAAAAAABAAAAAAAAAAEAAAgA\n",
       "AAAAAQAAIAAAAAACAAAIAAAAAAEAACgAAAAAAQAAEAAAAAABAAAAAAAAAAEAAAgAAAAAAQAAGAAA\n",
       "AAABAAAIAAAAAAEAACgAAAAAAQAAEAAAAAABAAAAAAAAAAEAAAgAAAAAAQAAKAAAAAABAAAQAAAA\n",
       "AAEAAAAAAAAAAQAACAAAAAABAAAoAAAAAAEAABAAAAAAAQAAAAAAAAABAAAIAAAAAAEAACgAAAAA\n",
       "AQAAEAAAAAABAAAAAAAAAAEAAAgAAAAAAQAAKAAAAAABAAAQAAAAAAEAAAAAAAAAAQAACAAAAAAB\n",
       "AAAoAAAAAAEAABAAAAAAAQAAAAAAAAABAAAIAAAAAAEAACgAAAAAAQAAEAAAAAABAAAAAAAAAAEA\n",
       "AAgAAAAAAQAAKAAAAAABAAAQAAAAAAEAAAAAAAAAAQAACAAAAAABAAAoAAAAAAEAABAAAAAAAQAA\n",
       "AAAAAAABAAAIAAAAAAEAACgAAAAAAQAAEAAAAAABAAAAAAAAAAEAAAgAAAAAAQAAKAAAAAABAAAQ\n",
       "AAAAAAEAAAAAAAAAAQAACAAAAAABAAAoAAAAAAEAABAAAAAAAQAAAAAAAAABAAAIAAAAAAEAABgA\n",
       "AAAAAQAACAAAAAABAAAQAAAAAAEAACgAAAAAAQAAEAAAAAABAAAAAAAAAAEAAAgAAAAAAQAAKAAA\n",
       "AAABAAAQAAAAAAEAAAAAAAAAAQAACAAAAAABAAAoAAAAAAEAABAAAAAAAQAAAAAAAAABAAAIAAAA\n",
       "AAEAACgAAAAAAQAAEAAAAAABAAAAAAAAAAEAAAgAAAAAAQAAKAAAAAABAAAQAAAAAAEAAAAAAAAA\n",
       "AQAACAAAAAABAAAoAAAAAAEAABAAAAAAAQAAAAAAAAABAAAIAAAAAAEAACgAAAAAAQAAEAAAAAAB\n",
       "AAAAAAAAAAEAAAgAAAAAAQAAKAAAAAABAAAQAAAAAAEAAAAAAAAAAQAACAAAAAABAAAoAAAAAAEA\n",
       "ABAAAAAAAQAAAAAAAAABAAAIAAAAAAEAACgAAAAAAQAAEAAAAAABAAAAAAAAAAEAAAgAAAAAAQAA\n",
       "KAAAAAABAAAQAAAAAAEAAAAAAAAAAQAACAAAAAABAAAoAAAAAAEAABAAAAAAAQAAAAAAAAABAAAI\n",
       "AAAAAAEAACgAAAAAAQAAEAAAAAABAAAAAAAAAAEAAAgAAAAAAQAAIAAAAAACAAAIAAAAAAEAACgA\n",
       "AAAAAQAAEAAAAAABAAAAAAAAAAEAAAgAAAAAAgAAEAAAAAABAAAoAAAAAAEAABAAAAAAAQAAAAAA\n",
       "AAABAAAIAAAAAAEAACAAAAAAAgAACAAAAAABAAAYAAAAAAEAAAgAAAAAAQAAKAAAAAABAAAQAAAA\n",
       "AAEAAAAAAAAAAQAACAAAAAABAAAYAAAAAAEAAAgAAAAAAQAAKAAAAAABAAAQAAAAAAEAAAAAAAAA\n",
       "AQAACAAAAAABAAAgAAAAAAIAAAgAAAAAAQAAKAAAAAABAAAQAAAAAAEAAAAAAAAAAQAACAAAAAAB\n",
       "AAAoAAAAAAEAABAAAAAAAQAAAAAAAAABAAAIAAAAAAEAACgAAAAAAQAAEAAAAAABAAAAAAAAAAEA\n",
       "AAgAAAAAAQAAKAAAAAABAAAQAAAAAAEAAAAAAAAAAQAACAAAAAABAAAoAAAAAAEAABAAAAAAAQAA\n",
       "AAAAAAABAAAIAAAAAAEAACgAAAAAAQAAEAAAAAABAAAAAAAAAAEAAAgAAAAAAQAAGAAAAAABAAAI\n",
       "AAAAABxzdHNjAAAAAAAAAAEAAAABAAABKwAAAAEAAATAc3RzegAAAAAAAAAAAAABKwAAJTUAAARR\n",
       "AAADFAAAAmUAAAKxAAABJAAAAYwAAAFLAAACTwAAAXIAAAGVAAABpAAAAPgAAAEFAAABQAAAAXgA\n",
       "AADoAAAAugAAATUAAAGXAAABYwAAASwAAAFmAAAB7wAAAPQAAADoAAAAzAAAAkAAAADPAAABJwAA\n",
       "AbsAAADLAAAB1AAAAT0AAAFLAAABWwAAANEAAADkAAACAAAAAM0AAAC3AAAAxQAAANQAAAE9AAAA\n",
       "pwAAAM4AAADmAAAAlwAAAJYAAAHXAAAA7AAAAKUAAADIAAABYgAAAHYAAAEyAAAA8AAAAJAAAACn\n",
       "AAAA5wAAAOMAAADJAAAA9AAAARwAAACtAAAAsAAAAJQAAAD/AAAAkgAAAKMAAACYAAABWwAAAYoA\n",
       "AACkAAAAywAAAVAAAAEcAAAA7AAAAGkAAAFyAAAApwAAASUAAAEvAAACFgAAAOkAAAD5AAAA8AAA\n",
       "ALgAAADKAAABDwAAAFwAAAEuAAABBgAAALgAAACGAAAAzAAAAX4AAACrAAAA1gAAAYYAAADlAAAA\n",
       "hwAAALEAAAEfAAAAmQAAAMIAAACaAAABuQAAALkAAAC5AAABOgAAANIAAADRAAAAlgAAAUoAAAB+\n",
       "AAAAfgAAAL4AAAGhAAAAiQAAAI4AAACcAAAAywAAAMoAAABjAAAAkAAAAW4AAAB6AAAAdgAAAJEA\n",
       "AADJAAAA1gAAALcAAAEmAAAAigAAAJUAAABrAAABCQAAAFsAAAHWAAAA5AAAAJQAAACHAAABpQAA\n",
       "ALcAAADUAAAAWAAAAgEAAAD0AAAA6QAAAIwAAAF0AAAAyQAAAKsAAADPAAABMwAAAN8AAADEAAAA\n",
       "ewAAAOkAAADHAAAAgwAAAG4AAAFWAAAAqAAAAJ0AAADMAAABHAAAALcAAAB6AAAAigAAATMAAAC5\n",
       "AAAAcgAAAIwAAADVAAAA3gAAAIoAAACIAAABTQAAANAAAACIAAAA4AAAAP4AAAEZAAAAiQAAAJMA\n",
       "AAFaAAAAYAAAAWQAAAEWAAAAtgAAAKYAAACaAAAAwQAAAKEAAACfAAAAyQAAAToAAACAAAAAagAA\n",
       "AIYAAADVAAAAbgAAAF4AAABSAAAA7QAAAK0AAACWAAAAewAAARAAAADwAAAAywAAAJoAAADoAAAA\n",
       "nwAAAJIAAACJAAABtAAAAL4AAAC2AAAAoAAAATkAAADIAAAAUgAAAHAAAAFBAAAAlQAAAHoAAABX\n",
       "AAABUwAAAIcAAACrAAAAYAAAAKIAAABfAAAA5QAAAJcAAAFrAAAAnwAAAG4AAAB8AAAA1AAAAIMA\n",
       "AAB7AAAAxQAAAHcAAABKAAAATgAAAOcAAChvAAABdQAAAKoAAACfAAAAYAAAAPcAAABuAAAAlAAA\n",
       "AQIAAABTAAABRQAAAMsAAABrAAAAWwAAAMQAAABbAAABkAAAAGsAAAB7AAAAWwAAAPAAAACzAAAA\n",
       "iAAAARMAAACjAAAAnwAAAH4AAAGnAAAA1gAAAGUAAACfAAABBQAAAGoAAABnAAAAZQAAAQAAAACv\n",
       "AAAATwAAAFUAAAD6AAAAlQAAAFEAAACDAAABBQAAAI4AAAClAAAAewAAAHoAAABjAAAAFHN0Y28A\n",
       "AAAAAAAAAQAAADAAAABidWR0YQAAAFptZXRhAAAAAAAAACFoZGxyAAAAAAAAAABtZGlyYXBwbAAA\n",
       "AAAAAAAAAAAAAC1pbHN0AAAAJal0b28AAAAdZGF0YQAAAAEAAAAATGF2ZjU4LjQyLjEwMg==\n",
       "\">\n",
       "  Your browser does not support the video tag.\n",
       "</video>"
      ],
      "text/plain": [
       "<IPython.core.display.HTML object>"
      ]
     },
     "execution_count": 137,
     "metadata": {},
     "output_type": "execute_result"
    },
    {
     "data": {
      "image/png": "[encoded data removed]",
      "text/plain": [
       "<Figure size 576x576 with 1 Axes>"
      ]
     },
     "metadata": {},
     "output_type": "display_data"
    }
   ],
   "source": [
    "fig, ax = plt.subplots(figsize = (8, 8))\n",
    "\n",
    "values = range(10, 3000, 10)\n",
    "animation = FuncAnimation(fig, makeplots, values)\n",
    "HTML(animation.to_html5_video())"
   ]
  },
  {
   "cell_type": "markdown",
   "metadata": {},
   "source": [
    "[Regresar al contenido](#Contenido)"
   ]
  },
  {
   "cell_type": "markdown",
   "metadata": {},
   "source": [
    "## Teorema central del límite\n",
    "\n",
    "\n",
    "La distribución de las medias muestrales se aproxima a una distribución gaussiana, independientemente de la forma de la distribución de la población.\n",
    "\n",
    "\n",
    "$$Z = \\frac{\\bar{X_n} - \\mu}{\\frac{\\sigma}{\\sqrt{n}}} \\to N(0, 1)$$\n",
    "\n",
    "$$\\bar{X_n} \\sim N(\\mu, \\frac{\\sigma}{\\sqrt{n}})$$\n"
   ]
  },
  {
   "cell_type": "code",
   "execution_count": 138,
   "metadata": {},
   "outputs": [
    {
     "data": {
      "image/png": "[encoded data removed]",
      "text/plain": [
       "<Figure size 936x576 with 2 Axes>"
      ]
     },
     "metadata": {},
     "output_type": "display_data"
    }
   ],
   "source": [
    "## create data\n",
    "\n",
    "# data\n",
    "N = 1_000_000\n",
    "data = np.random.randn(N) ** 2\n",
    "\n",
    "# show the distribution\n",
    "fig, ax = plt.subplots(2, 1, figsize = (13, 8))\n",
    "ax[0].plot(data,'.')\n",
    "\n",
    "\n",
    "ax[1].hist(data, 40);"
   ]
  },
  {
   "cell_type": "code",
   "execution_count": 139,
   "metadata": {},
   "outputs": [
    {
     "data": {
      "image/png": "[encoded data removed]",
      "text/plain": [
       "<Figure size 936x576 with 1 Axes>"
      ]
     },
     "metadata": {},
     "output_type": "display_data"
    }
   ],
   "source": [
    "## repeated samples of the mean\n",
    "\n",
    "samplesize   = 30\n",
    "number_of_exps = 500\n",
    "\n",
    "samplemeans  = np.zeros(number_of_exps)\n",
    "\n",
    "for i in range(number_of_exps):\n",
    "    # get a sample and compute its mean\n",
    "    samplemeans[i] = np.mean(np.random.choice(data, samplesize))\n",
    "    \n",
    "\n",
    "    \n",
    "gauss = stats.norm(samplemeans.mean(), samplemeans.std())\n",
    "x = np.linspace(0.2, 2, 1000)\n",
    "# and show its distribution\n",
    "fig, ax = plt.subplots(figsize = (13, 8))\n",
    "\n",
    "ax.hist(samplemeans, bins = 30, density = True)\n",
    "ax.plot(x, gauss.pdf(x), color = 'r')\n",
    "ax.set_xlabel('Mean estimate', fontsize = 15)\n",
    "ax.set_ylabel('Count', fontsize = 15);"
   ]
  },
  {
   "cell_type": "markdown",
   "metadata": {},
   "source": [
    "[Regresar al contenido](#Contenido)"
   ]
  }
 ],
 "metadata": {
  "kernelspec": {
   "display_name": "Python 3",
   "language": "python",
   "name": "python3"
  },
  "language_info": {
   "codemirror_mode": {
    "name": "ipython",
    "version": 3
   },
   "file_extension": ".py",
   "mimetype": "text/x-python",
   "name": "python",
   "nbconvert_exporter": "python",
   "pygments_lexer": "ipython3",
   "version": "3.8.5"
  },
  "toc": {
   "base_numbering": 1,
   "nav_menu": {},
   "number_sections": true,
   "sideBar": true,
   "skip_h1_title": false,
   "title_cell": "Table of Contents",
   "title_sidebar": "Contents",
   "toc_cell": false,
   "toc_position": {},
   "toc_section_display": true,
   "toc_window_display": false
  },
  "varInspector": {
   "cols": {
    "lenName": 16,
    "lenType": 16,
    "lenVar": 40
   },
   "kernels_config": {
    "python": {
     "delete_cmd_postfix": "",
     "delete_cmd_prefix": "del ",
     "library": "var_list.py",
     "varRefreshCmd": "print(var_dic_list())"
    },
    "r": {
     "delete_cmd_postfix": ") ",
     "delete_cmd_prefix": "rm(",
     "library": "var_list.r",
     "varRefreshCmd": "cat(var_dic_list()) "
    }
   },
   "types_to_exclude": [
    "module",
    "function",
    "builtin_function_or_method",
    "instance",
    "_Feature"
   ],
   "window_display": false
  }
 },
 "nbformat": 4,
 "nbformat_minor": 2
}
