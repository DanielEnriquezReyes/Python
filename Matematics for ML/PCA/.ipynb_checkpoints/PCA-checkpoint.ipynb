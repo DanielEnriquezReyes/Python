{
 "cells": [
  {
   "cell_type": "markdown",
   "id": "moral-revolution",
   "metadata": {},
   "source": [
    "# Contenido\n",
    "\n",
    "- [PCA](#PCA)\n",
    "    - [Media de un Data set o valor esperado](#Media-de-un-Data-set-o-valor-esperado)\n",
    "    - [Varianza de un Data set](#Varianza-de-un-Data-set)\n",
    "    - [Producto punto y proyección en un subespacio](#Producto-punto-y-proyección-en-un-subespacio)\n",
    "    - [Proyección ortogonal en múltiples dimensiones](#Proyección-ortogonal-en-múltiples-dimensiones)\n",
    "    - [La idea detrás de PCA](#La-idea-detrás-de-PCA)\n",
    "    \n",
    "    \n",
    "- [Ejemplo: Iris Data Set](#Ejemplo:-Iris-Data-Set)\n",
    "\n",
    "\n",
    "- [Ejercicio](#Ejercicio)"
   ]
  },
  {
   "cell_type": "markdown",
   "id": "eastern-association",
   "metadata": {},
   "source": [
    "## PCA \n",
    "\n",
    "\n",
    "El análisis de componentes principales es una técnica utilizada para describir un conjunto de datos en términos de nuevas variables (`componentes`) no correlacionadas. Los componentes se ordenan por la cantidad de varianza original que describen, por lo que la técnica es útil para reducir la dimensionalidad de un conjunto de datos.\n",
    "\n",
    "\n",
    "Vamos a construir poco a poco la idea detrás del PCA."
   ]
  },
  {
   "cell_type": "markdown",
   "id": "angry-runner",
   "metadata": {},
   "source": [
    "[Regresar al contenido](#Contenido)"
   ]
  },
  {
   "cell_type": "markdown",
   "id": "unknown-beaver",
   "metadata": {},
   "source": [
    "### Media de un Data set o valor esperado\n",
    "\n",
    "\n",
    "Este es un concepto equivalente a la media aritmética, pero extendido a conjuntos de vectores, cuando pensemos en un data set (DataFrame), podemos pensar que es un conjunto de vectores, en el que cada vector es una observación individual, simplemente diremos que si tenemos un data set $D$, formado por n vectores $\\vec{x}$ en $\\mathbb{R}^d$, la media del data set, o el _valor esperado_ será:\n",
    "\n",
    "\n",
    "$$E[D] = \\frac{1}{n} \\sum_{i= 1}^n \\vec{x_i}$$\n",
    "\n",
    "\n",
    "Cabe destacar que el valor esperado de $D$ no necesariamente es un punto dentro de $D$."
   ]
  },
  {
   "cell_type": "markdown",
   "id": "plastic-april",
   "metadata": {},
   "source": [
    "[Regresar al contenido](#Contenido)"
   ]
  },
  {
   "cell_type": "markdown",
   "id": "cardiac-labor",
   "metadata": {},
   "source": [
    "### Varianza de un Data set\n",
    "\n",
    "\n",
    "Anterior mente habíamos hablado de la varianza como una medida que nos permite hacernos una idea de que tan dispersos están los datos, notemos que podemos tener dos data set $D_1$ y $D_2$ con la misma media:\n",
    "\n",
    "$$D_1 = {1, 2, 4, 5}$$\n",
    "\n",
    "$$D_2 = {-1, 7, 3}$$\n",
    "\n",
    "Note que $E[D_1] = E[D_2] = 3$, en principio la media no nos ayuda a poder diferenciar estos dos data sets, y para poder hacernos una idea de en que se diferencian vamos a observar la varianza. Para este caso unidimensional tenemos que:\n",
    "\n",
    "$$var[D] = \\frac{1}{n} \\sum_{i= 1}^n (x_i - \\mu)^2$$\n",
    "\n",
    "Donde $\\mu = E[D]$, con esta definición tenemos que $var[D_1] = \\frac{10}{11}$ y $var[D_2] = \\frac{32}{3}$. Una varianza mayor nos indica que los elementos del data set están menos concentrados alrededor de la media, están más dispersos. Ahora extenderemos esta definición a dimensiones más altas. El primer problema que encontramos es que no hay algo como _vectores cuadrados_ por lo que la definición anterior queda obsoleta. Para poder dar una definición útil rescataremos el concepto de covarianza:\n",
    "\n",
    "$$cov[x, y] = \\frac{1}{n} \\sum_{i= 1}^n (x_i - \\mu_x)(y_i - \\mu_y) = E[(x - \\mu_x)(y - \\mu_y)]$$\n",
    "\n",
    "\n",
    "Donde $\\mu_x = E[x]$ y $\\mu_y = E[y]$. Como habíamos mencionado antes la varianza de $x$ puede ser entendida como $cov[x, x]$. Una vez rescatado este concepto definiremos la _matriz de covarianza_\n",
    "\n",
    "Sea $D$ un vector aleatorio formado por $d$ variables aleatorias y que forman a nuestro data set $X_1, \\cdots, X_n$, la matriz de covarianza de $D$ como:\n",
    "\n",
    "$$var[D] = E[(D - \\mu)(D - \\mu)^T]$$\n",
    "\n",
    "Que es una matriz simétrica de valores reales (no todos positivos) que tiene el siguiente aspecto:\n",
    "\n",
    "\n",
    "$$\n",
    "\\begin{bmatrix}\n",
    "var[X_1] & cov[X_1, X_2] & \\cdots & cov[X_1, X_n]\\\\\n",
    "cov[X_2, X_1] & var[X_2] & \\cdots & cov[X_2, X_n]\\\\\n",
    "\\vdots & \\vdots & \\cdots & \\vdots\\\\\n",
    "cov[X_n, X_1] & cov[X_n, X_2] & \\cdots & var[X_n]\\\\\n",
    "\\end{bmatrix}\n",
    "$$"
   ]
  },
  {
   "cell_type": "code",
   "execution_count": 1,
   "id": "polished-outside",
   "metadata": {},
   "outputs": [],
   "source": [
    "import pandas as pd\n",
    "import numpy as np\n",
    "import seaborn as sns\n",
    "from sympy import *"
   ]
  },
  {
   "cell_type": "code",
   "execution_count": 2,
   "id": "second-quebec",
   "metadata": {},
   "outputs": [],
   "source": [
    "planetas = sns.load_dataset('planets')"
   ]
  },
  {
   "cell_type": "code",
   "execution_count": 3,
   "id": "acceptable-courage",
   "metadata": {},
   "outputs": [
    {
     "data": {
      "text/html": [
       "<div>\n",
       "<style scoped>\n",
       "    .dataframe tbody tr th:only-of-type {\n",
       "        vertical-align: middle;\n",
       "    }\n",
       "\n",
       "    .dataframe tbody tr th {\n",
       "        vertical-align: top;\n",
       "    }\n",
       "\n",
       "    .dataframe thead th {\n",
       "        text-align: right;\n",
       "    }\n",
       "</style>\n",
       "<table border=\"1\" class=\"dataframe\">\n",
       "  <thead>\n",
       "    <tr style=\"text-align: right;\">\n",
       "      <th></th>\n",
       "      <th>method</th>\n",
       "      <th>number</th>\n",
       "      <th>orbital_period</th>\n",
       "      <th>mass</th>\n",
       "      <th>distance</th>\n",
       "      <th>year</th>\n",
       "    </tr>\n",
       "  </thead>\n",
       "  <tbody>\n",
       "    <tr>\n",
       "      <th>0</th>\n",
       "      <td>Radial Velocity</td>\n",
       "      <td>1</td>\n",
       "      <td>269.300</td>\n",
       "      <td>7.10</td>\n",
       "      <td>77.40</td>\n",
       "      <td>2006</td>\n",
       "    </tr>\n",
       "    <tr>\n",
       "      <th>1</th>\n",
       "      <td>Radial Velocity</td>\n",
       "      <td>1</td>\n",
       "      <td>874.774</td>\n",
       "      <td>2.21</td>\n",
       "      <td>56.95</td>\n",
       "      <td>2008</td>\n",
       "    </tr>\n",
       "    <tr>\n",
       "      <th>2</th>\n",
       "      <td>Radial Velocity</td>\n",
       "      <td>1</td>\n",
       "      <td>763.000</td>\n",
       "      <td>2.60</td>\n",
       "      <td>19.84</td>\n",
       "      <td>2011</td>\n",
       "    </tr>\n",
       "    <tr>\n",
       "      <th>3</th>\n",
       "      <td>Radial Velocity</td>\n",
       "      <td>1</td>\n",
       "      <td>326.030</td>\n",
       "      <td>19.40</td>\n",
       "      <td>110.62</td>\n",
       "      <td>2007</td>\n",
       "    </tr>\n",
       "    <tr>\n",
       "      <th>4</th>\n",
       "      <td>Radial Velocity</td>\n",
       "      <td>1</td>\n",
       "      <td>516.220</td>\n",
       "      <td>10.50</td>\n",
       "      <td>119.47</td>\n",
       "      <td>2009</td>\n",
       "    </tr>\n",
       "  </tbody>\n",
       "</table>\n",
       "</div>"
      ],
      "text/plain": [
       "            method  number  orbital_period   mass  distance  year\n",
       "0  Radial Velocity       1         269.300   7.10     77.40  2006\n",
       "1  Radial Velocity       1         874.774   2.21     56.95  2008\n",
       "2  Radial Velocity       1         763.000   2.60     19.84  2011\n",
       "3  Radial Velocity       1         326.030  19.40    110.62  2007\n",
       "4  Radial Velocity       1         516.220  10.50    119.47  2009"
      ]
     },
     "execution_count": 3,
     "metadata": {},
     "output_type": "execute_result"
    }
   ],
   "source": [
    "planetas.head()"
   ]
  },
  {
   "cell_type": "code",
   "execution_count": 4,
   "id": "appointed-interaction",
   "metadata": {},
   "outputs": [
    {
     "data": {
      "text/html": [
       "<div>\n",
       "<style scoped>\n",
       "    .dataframe tbody tr th:only-of-type {\n",
       "        vertical-align: middle;\n",
       "    }\n",
       "\n",
       "    .dataframe tbody tr th {\n",
       "        vertical-align: top;\n",
       "    }\n",
       "\n",
       "    .dataframe thead th {\n",
       "        text-align: right;\n",
       "    }\n",
       "</style>\n",
       "<table border=\"1\" class=\"dataframe\">\n",
       "  <thead>\n",
       "    <tr style=\"text-align: right;\">\n",
       "      <th></th>\n",
       "      <th>number</th>\n",
       "      <th>orbital_period</th>\n",
       "      <th>mass</th>\n",
       "      <th>distance</th>\n",
       "      <th>year</th>\n",
       "    </tr>\n",
       "  </thead>\n",
       "  <tbody>\n",
       "    <tr>\n",
       "      <th>number</th>\n",
       "      <td>1.540022</td>\n",
       "      <td>-4.109673e+02</td>\n",
       "      <td>-1.073362</td>\n",
       "      <td>-31.780638</td>\n",
       "      <td>0.728876</td>\n",
       "    </tr>\n",
       "    <tr>\n",
       "      <th>orbital_period</th>\n",
       "      <td>-410.967320</td>\n",
       "      <td>6.767661e+08</td>\n",
       "      <td>1005.472594</td>\n",
       "      <td>-255305.071038</td>\n",
       "      <td>-3367.807803</td>\n",
       "    </tr>\n",
       "    <tr>\n",
       "      <th>mass</th>\n",
       "      <td>-1.073362</td>\n",
       "      <td>1.005473e+03</td>\n",
       "      <td>14.581833</td>\n",
       "      <td>46.439431</td>\n",
       "      <td>-1.963811</td>\n",
       "    </tr>\n",
       "    <tr>\n",
       "      <th>distance</th>\n",
       "      <td>-31.780638</td>\n",
       "      <td>-2.553051e+05</td>\n",
       "      <td>46.439431</td>\n",
       "      <td>537459.792221</td>\n",
       "      <td>517.198294</td>\n",
       "    </tr>\n",
       "    <tr>\n",
       "      <th>year</th>\n",
       "      <td>0.728876</td>\n",
       "      <td>-3.367808e+03</td>\n",
       "      <td>-1.963811</td>\n",
       "      <td>517.198294</td>\n",
       "      <td>15.781287</td>\n",
       "    </tr>\n",
       "  </tbody>\n",
       "</table>\n",
       "</div>"
      ],
      "text/plain": [
       "                    number  orbital_period         mass       distance  \\\n",
       "number            1.540022   -4.109673e+02    -1.073362     -31.780638   \n",
       "orbital_period -410.967320    6.767661e+08  1005.472594 -255305.071038   \n",
       "mass             -1.073362    1.005473e+03    14.581833      46.439431   \n",
       "distance        -31.780638   -2.553051e+05    46.439431  537459.792221   \n",
       "year              0.728876   -3.367808e+03    -1.963811     517.198294   \n",
       "\n",
       "                       year  \n",
       "number             0.728876  \n",
       "orbital_period -3367.807803  \n",
       "mass              -1.963811  \n",
       "distance         517.198294  \n",
       "year              15.781287  "
      ]
     },
     "execution_count": 4,
     "metadata": {},
     "output_type": "execute_result"
    }
   ],
   "source": [
    "planetas.cov()"
   ]
  },
  {
   "cell_type": "code",
   "execution_count": 5,
   "id": "incident-sentence",
   "metadata": {},
   "outputs": [
    {
     "data": {
      "text/plain": [
       "array([[ 1.54002187e+00, -4.10967320e+02, -1.07336151e+00,\n",
       "        -3.17806382e+01,  7.28876181e-01],\n",
       "       [-4.10967320e+02,  6.76766089e+08,  1.00547259e+03,\n",
       "        -2.55305071e+05, -3.36780780e+03],\n",
       "       [-1.07336151e+00,  1.00547259e+03,  1.45818331e+01,\n",
       "         4.64394307e+01, -1.96381089e+00],\n",
       "       [-3.17806382e+01, -2.55305071e+05,  4.64394307e+01,\n",
       "         5.37459792e+05,  5.17198294e+02],\n",
       "       [ 7.28876181e-01, -3.36780780e+03, -1.96381089e+00,\n",
       "         5.17198294e+02,  1.57812874e+01]])"
      ]
     },
     "execution_count": 5,
     "metadata": {},
     "output_type": "execute_result"
    }
   ],
   "source": [
    "cov = planetas.cov().values\n",
    "cov"
   ]
  },
  {
   "cell_type": "code",
   "execution_count": 6,
   "id": "alive-fancy",
   "metadata": {},
   "outputs": [
    {
     "data": {
      "text/latex": [
       "$\\displaystyle \\left[\\begin{matrix}1.54002186527626 & -410.967319640645 & -1.07336151407164 & -31.7806382273917 & 0.728876180865254\\\\-410.967319640645 & 676766088.734191 & 1005.47259444658 & -255305.071037532 & -3367.80780264884\\\\-1.07336151407164 & 1005.47259444658 & 14.5818331270012 & 46.4394306783416 & -1.96381088998525\\\\-31.7806382273917 & -255305.071037532 & 46.4394306783416 & 537459.792221293 & 517.198294226256\\\\0.728876180865254 & -3367.80780264884 & -1.96381088998525 & 517.198294226256 & 15.7812874349449\\end{matrix}\\right]$"
      ],
      "text/plain": [
       "Matrix([\n",
       "[ 1.54002186527626, -410.967319640645, -1.07336151407164, -31.7806382273917, 0.728876180865254],\n",
       "[-410.967319640645,  676766088.734191,  1005.47259444658, -255305.071037532, -3367.80780264884],\n",
       "[-1.07336151407164,  1005.47259444658,  14.5818331270012,  46.4394306783416, -1.96381088998525],\n",
       "[-31.7806382273917, -255305.071037532,  46.4394306783416,  537459.792221293,  517.198294226256],\n",
       "[0.728876180865254, -3367.80780264884, -1.96381088998525,  517.198294226256,  15.7812874349449]])"
      ]
     },
     "execution_count": 6,
     "metadata": {},
     "output_type": "execute_result"
    }
   ],
   "source": [
    "Matrix(cov)"
   ]
  },
  {
   "cell_type": "markdown",
   "id": "protected-walter",
   "metadata": {},
   "source": [
    "Esta matriz de covarianza es la extensión de la varianza para el caso multidimensional, y nos será de utilidad más adelante.\n",
    "\n",
    "[Regresar al contenido](#Contenido)"
   ]
  },
  {
   "cell_type": "markdown",
   "id": "advised-dollar",
   "metadata": {},
   "source": [
    "### Producto punto y proyección en un subespacio\n",
    "\n",
    "\n",
    "Recordemos el producto punto entre vectores rápidamente.\n",
    "\n",
    "$$ X \\cdot Y = X^T Y = \\sum x_i y_i$$\n",
    "\n",
    "Una aplicación que vimos anteriormente del producto punto es el de proyectar un vector $\\vec{a}$ en un subespacio $\\mathcal{L}$\n",
    "\n",
    "\n",
    "<img src=\"Proyeccion ortogonal.png\" width = 400 height = 400> \n",
    "\n",
    "\n",
    "\n",
    "Supongamos que tenemos un vector $\\vec{b}$ que genera un subespacio $\\mathcal{L}$, y tenemos un vector $\\vec{a}$ que no pertenece a $\\mathcal{L}$, entonces podemos hallar la proyección $\\pi_{\\mathcal{L}} (\\vec{a})$. Esta proyección debe cumplir las siguientes dos propiedades.\n",
    "\n",
    "\n",
    "\n",
    "- $\\pi_{\\mathcal{L}} (\\vec{a}) \\in \\mathcal{L}$, es decir, existe un escalar $\\lambda$ tal que $\\pi_u (\\vec{a}) = \\lambda \\vec{b}$\n",
    "- $\\vec{b}  \\cdot (\\pi_{\\mathcal{L}} (\\vec{a}) - \\vec{a}) = 0$\n",
    "\n",
    "\n",
    "Analicemos un poco que pasa con la segunda condición para poder deducir quien es nuestra proyección. Tenemos:\n",
    "\n",
    "\n",
    "$$\\vec{b}  \\cdot (\\pi_{\\mathcal{L}} (\\vec{a}) - \\vec{a}) = \\vec{b} \\cdot \\pi_{\\mathcal{L}} (\\vec{a}) - \\vec{b} \\cdot \\vec{a} = \\vec{b} \\cdot \\lambda \\vec{b} - \\vec{b} \\cdot \\vec{a} = 0$$\n",
    "$$\\lambda ||\\vec{b}||^2 = \\vec{b} \\cdot \\vec{a}$$\n",
    "$$\\lambda = \\frac{\\vec{b} \\cdot \\vec{a}}{||\\vec{b}||^2}$$"
   ]
  },
  {
   "cell_type": "markdown",
   "id": "successful-southeast",
   "metadata": {},
   "source": [
    "A $\\lambda$ se le conoce como la coordenada de $\\pi_{\\mathcal{L}} (\\vec{a})$ en la base $\\{\\vec{b}\\}$. una vez que ya identificamos $\\lambda$ podemos escribir la proyección como:\n",
    "\n",
    "$$\\pi_{\\mathcal{L}} (\\vec{a}) = \\lambda \\vec{b} = \\frac{\\vec{b} \\cdot \\vec{a}}{||\\vec{b}||^2} \\vec{b} = \\frac{b b^T}{||b||^2}a$$\n",
    "\n",
    "\n",
    "Donde a $\\frac{b b^T}{||b||^2}$ la llamaremos matriz de proyección. Que cumple ser cuadrada y simétrica. Veamos un ejemplo en 2 dimensiones. Suponga que:\n",
    "\n",
    "\n",
    "$$\n",
    "b = \n",
    "\\begin{bmatrix}\n",
    "b_1\\\\\n",
    "b_2\\\\\n",
    "\\end{bmatrix}\n",
    "$$\n",
    "\n",
    "Entonces:\n",
    "\n",
    "$$\n",
    "bb^T = \n",
    "\\begin{bmatrix}\n",
    "b_1\\\\\n",
    "b_2\\\\\n",
    "\\end{bmatrix}\n",
    "\\begin{bmatrix}\n",
    "b_1 & b_2\\\\\n",
    "\\end{bmatrix}\n",
    "=\n",
    "\\begin{bmatrix}\n",
    "b_1^2  & b_1 b_2\\\\\n",
    "b_1 b_2  & b_2^2\\\\\n",
    "\\end{bmatrix}\n",
    "$$\n",
    "\n"
   ]
  },
  {
   "cell_type": "markdown",
   "id": "final-bikini",
   "metadata": {},
   "source": [
    "[Regresar al contenido](#Contenido)"
   ]
  },
  {
   "cell_type": "markdown",
   "id": "global-asian",
   "metadata": {},
   "source": [
    "### Proyección ortogonal en múltiples dimensiones\n",
    "\n",
    "\n",
    "Imaginemos que ahora el subespacio $\\mathcal{L}$ tiene una base de más de un elemento, pongamos como ejemplo el caso en el que $\\mathcal{L}$ es un plano en el espacio\n",
    "\n",
    "\n",
    "\n",
    "<img src=\"Proyección ortogonal 2D.png\" width = 400 height = 400> \n",
    "\n",
    "\n",
    "en este caso la base de $\\mathcal{L}$ estará formada por dos vectores $\\{\\vec{b_1}, \\vec{b_2}\\}$, la proyección $\\pi_{\\mathcal{L}} (\\vec{a})$ sera un vector en $\\mathcal{L}$, es decir que se puede escribir como una combinación lineal de $\\vec{b_1}$ y $\\vec{b_2}$. En general si la base de $\\mathcal{L}$ está formada por $n$ vectores $\\vec{b_i}$ tenemos que $\\pi_{\\mathcal{L}} (\\vec{a})$ cumplirá que:\n",
    "\n",
    "\n",
    "- $\\pi_{\\mathcal{L}} (\\vec{a}) = \\sum_{i = 1}^{n} \\lambda_i \\vec{b_i}$\n",
    "- $b_i \\cdot (\\pi_{\\mathcal{L}} (\\vec{a}) - \\vec{a}) = 0$, para todo $i = 1, \\cdots, n$\n",
    "\n",
    "\n",
    "No te que si llamamos simplemente $\\lambda$ al vector que contiene a todos los $\\lambda_i$ y $B$ a la matriz que tiene por columnas los vectores de la base $\\vec{b_i}$, podemos escribir la primera propiedad como:\n",
    "\n",
    "$$\\pi_{\\mathcal{L}} (\\vec{a}) = B \\lambda$$\n",
    "\n",
    "De esta forma tenemos (recordando que $(AB)^T = B^TA^T$):\n",
    "\n",
    "$$\\vec{b_i} \\cdot (\\pi_{\\mathcal{L}} (\\vec{a}) - \\vec{a}) = \\vec{b_i} \\cdot (B \\lambda - \\vec{a}) =  \\vec{b_i} \\cdot B \\lambda - \\vec{b_i} \\cdot \\vec{a} = 0$$\n",
    "$$\\vec{b_i} \\cdot B \\lambda = \\vec{b_i} \\cdot \\vec{a}$$\n",
    "$$\\lambda^T B^T b_i = a^T b_i$$\n",
    "$$\\lambda^T B^T B = a^T B$$\n",
    "$$\\lambda^T = a^T B (B^TB)^{-1}$$\n",
    "$$\\lambda = (B^TB)^{-1}B^T a $$\n",
    "\n",
    "Hay que notar que $(B^TB)^{-1}$ es simétrica, y por tanto igual a su transpuesta. veámoslo con un ejemplo de dos vectores $b$ y $v$:\n",
    "\n",
    "$$\n",
    "\\begin{bmatrix}\n",
    "b_1  & b_2\\\\\n",
    "v_1  & v_2\\\\\n",
    "\\end{bmatrix}\n",
    "\\begin{bmatrix}\n",
    "b_1  & v_1\\\\\n",
    "b_2  & v_2\\\\\n",
    "\\end{bmatrix}\n",
    "=\n",
    "\\begin{bmatrix}\n",
    "b \\cdot b  & b \\cdot v\\\\\n",
    "v \\cdot b  & v \\cdot v\\\\\n",
    "\\end{bmatrix}\n",
    "$$\n",
    "\n",
    "\n",
    "\n",
    "Ahora $\\lambda$ es el vector de coordenadas de $\\pi_{\\mathcal{L}} (\\vec{a})$ en la base $\\{ b_1, b_2\\}$, y podemos escribir:\n",
    "\n",
    "$$\\pi_{\\mathcal{L}} (\\vec{a}) = B \\lambda = B (B^TB)^{-1}B^T a$$\n",
    "\n",
    "Donde $B (B^TB)^{-1}B^T$ es la matriz de proyección, nos interesa destacar un caso particular, y es en el que $b_1$, $b_2$ forman una base ortonormal, en ese caso $(B^TB)^{-1} = I$ y podemos simplificar la proyección:\n",
    "\n",
    "$$\\pi_u (X) = B \\lambda = BB^T X$$\n"
   ]
  },
  {
   "cell_type": "markdown",
   "id": "passive-inventory",
   "metadata": {},
   "source": [
    "[Regresar al contenido](#Contenido)"
   ]
  },
  {
   "cell_type": "markdown",
   "id": "interim-extreme",
   "metadata": {},
   "source": [
    "### La idea detrás de PCA\n",
    "\n",
    "\n",
    "La idea subyacente al aplicar PCA es la de buscar una aproximación de nuestros datos, en forma de proyección ortogonal de nuestros datos en un subespacio vectorial, la idea es hacerlo de forma óptima para perder la menor información posible, pero al mismo tiempo obteniendo una aproximación de nuestros con una dimensionalidad menor, es decir que necesitamos menos vectores para describirla.\n",
    "\n",
    "\n",
    "<img src=\"Posibles proyecciones.gif\" width = 600 height = 600> \n",
    "<img src=\"Proyección optima.gif\" width = 600 height = 600> \n",
    "\n",
    "\n",
    "Ahora supongamos que tenemos un data set $X = \\{X_1, \\cdots, X_n\\}$ con $X_i \\in \\mathbb{R}^d$. Cabe destacar que el modelo supone que $E[X] = 0$. Y suponga que se tiene una base $B = \\{b_1, \\cdots, b_d\\}$, siendo una base ortonormal. Entonces cada $X_i$ puede ser escrito como:\n",
    "\n",
    "\n",
    "$$X_i = \\sum_{j = 1}^d \\beta_{ji} b_j$$\n",
    "\n",
    "Ahora vamos a generar dos subespacios de $\\mathbb{R}^d$ dividiendo la base $B$ en dos conjuntos separados: $B_p = \\{b_1, \\cdots, b_m\\}$ y $B_c = \\{b_{m + 1}, \\cdots, b_d\\}$, en si mismas cada una nos representa un subespacio, al que llamaremos subespacio principal, y complementario respectivamente. Note también que $B_p$ y $B_c$ son ortonormales, y podemos reescribir la expresión anterior:\n",
    "\n",
    "\n",
    "\n",
    "\n",
    "$$X_i = \\sum_{j = 1}^m \\beta_{ji} b_j + \\sum_{j = m + 1}^d \\beta_{ji} b_j$$\n",
    "\n",
    "\n",
    "Lo que buscamos entonces es una proyección ortogonal de cada $X_i$ en $B_p$, es decir buscamos $\\tilde{X}_i$ tal que:\n",
    "\n",
    "$$\\tilde{X}_i = B_p B_p^T X_i$$\n",
    "\n",
    "\n",
    "Donde a $B_p^T X_i$ llamaremos las coordenadas de $\\tilde{X}_i$ en el subespacio principal. Buscamos optimizar la función error $J$, que viene expresada de la siguiente forma:\n",
    "\n",
    "\n",
    "$$J = \\frac{1}{n} \\sum_{i = 1}^{n} ||X_i - \\tilde{X}_i||^2$$\n",
    "\n",
    "Ahora noten que podemos escribir $X_i$ como: \n",
    "\n",
    "\n",
    "$$X_i = B_p B_p^T X_i + B_c B_c^T X_i$$\n",
    "\n",
    "\n",
    "Entonces:\n",
    "\n",
    "$$J = \\frac{1}{n} \\sum_{i = 1}^{n} ||X_i - \\tilde{X}_i||^2 = \\frac{1}{n} \\sum_{i = 1}^{n} ||B_c B_c^T X_i||^2$$\n",
    "\n",
    "$$B_c B_c^T \\frac{1}{n} \\sum_{i = 1}^{n} ||X_i||^2 = B_c B_c^T \\frac{1}{n} \\sum_{i = 1}^{n} X_i X_i^T$$\n",
    "\n",
    "$$J = B_c B_c^T var[X]$$\n",
    "\n",
    "\n",
    "Este resultado es muy potente y para poder entender porque, vamos a simplificar el caso, suponga que $B$ solo está formada por los vectores $b_1$, y $b_2$, $b_1$ generará el espacio principal, y $b_2$ el complementario. por lo que podemos simplificar $J$ como sigue:\n",
    "\n",
    "\n",
    "$$J = b_2^T var[X] b_2$$\n",
    "\n",
    "Y además se cumple que $b_2^T b_2 = 1$ ya que la base es ortonormal. Ahora podemos aplicar el método de los multiplicadores de Lagrange para optimizar $J$, no desarrollaremos todo el método solo nos fijaremos en lo siguiente:\n",
    "\n",
    "\n",
    "$$\\frac{\\partial L}{\\partial b_2} = b_2^T var[X] - \\lambda b_2^T$$\n",
    "\n",
    "$$b_2^T var[X] = \\lambda b_2^T$$\n",
    "$$var[X] b_2 = \\lambda b_2$$\n",
    "\n",
    "\n",
    "Es decir los vectores de la base son los vectores propios de $var[X]$ !!!!. \n",
    "\n",
    "<img src=\"impactado.gif\" width = 600 height = 600> \n",
    "\n",
    "\n",
    "Además podemos escribir $J = \\lambda$ por lo que optimizar $J$ se puede entender como tomar los vectores propios correspondientes a los valores propios de $var[X]$ más pequeños como base del subespacio complementario.\n"
   ]
  },
  {
   "cell_type": "markdown",
   "id": "ambient-settle",
   "metadata": {},
   "source": [
    "[Regresar al contenido](#Contenido)"
   ]
  },
  {
   "cell_type": "markdown",
   "id": "czech-store",
   "metadata": {},
   "source": [
    "# Ejemplo: Iris Data Set\n",
    "\n",
    "A continuación mostraremos un ejemplo de PCA aplicado a un data set de 4 dimensiones, los pasos a elegir son los siguientes:\n",
    "\n",
    "\n",
    "- Cargar los datos\n",
    "- Normalizarlos\n",
    "- Obtener los autovectores y autovalores a partir de la matriz de covarianza\n",
    "- Seleccionar los autovectores correspondientes a las componentes principales\n",
    "- Proyectar el dataset original sobre el nuevo espacio de dimensión < 4\n",
    "\n",
    "\n",
    "\n",
    "Este dataset se usa como datos de entrenamiento para un modelo de machine learning cuyo objetivo es determinar de forma automática la especie a la que pertenece una determinada flor, a partir de las medidas 4 atributos o características. En particular, la longitud y la anchura de sus pétalos y sépalos expresadas en centímetros. Por tanto, se trata de un problema de 4 dimensiones, en el que la variable objetivo (target) es la especie. Los datos se pueden representar en forma de una matriz de 150 filas (los datos de cada flor), por 4 columnas (las medidas de sus pétalos/sépalos). La quinta, corresponde a la variable objetivo, la especie.\n",
    "\n",
    "\n",
    "<img src=\"Iris data set.PNG\" width = 600 height = 600> "
   ]
  },
  {
   "cell_type": "code",
   "execution_count": 7,
   "id": "documentary-newton",
   "metadata": {},
   "outputs": [],
   "source": [
    "import numpy as np\n",
    "import matplotlib.pyplot as plt\n",
    "from sklearn.preprocessing import StandardScaler\n",
    "%matplotlib inline"
   ]
  },
  {
   "cell_type": "code",
   "execution_count": 8,
   "id": "elegant-insert",
   "metadata": {},
   "outputs": [],
   "source": [
    "from jupyterthemes import jtplot\n",
    "jtplot.style()"
   ]
  },
  {
   "cell_type": "code",
   "execution_count": 9,
   "id": "stretch-reasoning",
   "metadata": {},
   "outputs": [
    {
     "data": {
      "text/html": [
       "<div>\n",
       "<style scoped>\n",
       "    .dataframe tbody tr th:only-of-type {\n",
       "        vertical-align: middle;\n",
       "    }\n",
       "\n",
       "    .dataframe tbody tr th {\n",
       "        vertical-align: top;\n",
       "    }\n",
       "\n",
       "    .dataframe thead th {\n",
       "        text-align: right;\n",
       "    }\n",
       "</style>\n",
       "<table border=\"1\" class=\"dataframe\">\n",
       "  <thead>\n",
       "    <tr style=\"text-align: right;\">\n",
       "      <th></th>\n",
       "      <th>lng sepalo</th>\n",
       "      <th>anch sepalo</th>\n",
       "      <th>lng petalo</th>\n",
       "      <th>anch petalo</th>\n",
       "      <th>especie</th>\n",
       "    </tr>\n",
       "  </thead>\n",
       "  <tbody>\n",
       "    <tr>\n",
       "      <th>0</th>\n",
       "      <td>5.1</td>\n",
       "      <td>3.5</td>\n",
       "      <td>1.4</td>\n",
       "      <td>0.2</td>\n",
       "      <td>Iris-setosa</td>\n",
       "    </tr>\n",
       "    <tr>\n",
       "      <th>1</th>\n",
       "      <td>4.9</td>\n",
       "      <td>3.0</td>\n",
       "      <td>1.4</td>\n",
       "      <td>0.2</td>\n",
       "      <td>Iris-setosa</td>\n",
       "    </tr>\n",
       "    <tr>\n",
       "      <th>2</th>\n",
       "      <td>4.7</td>\n",
       "      <td>3.2</td>\n",
       "      <td>1.3</td>\n",
       "      <td>0.2</td>\n",
       "      <td>Iris-setosa</td>\n",
       "    </tr>\n",
       "    <tr>\n",
       "      <th>3</th>\n",
       "      <td>4.6</td>\n",
       "      <td>3.1</td>\n",
       "      <td>1.5</td>\n",
       "      <td>0.2</td>\n",
       "      <td>Iris-setosa</td>\n",
       "    </tr>\n",
       "    <tr>\n",
       "      <th>4</th>\n",
       "      <td>5.0</td>\n",
       "      <td>3.6</td>\n",
       "      <td>1.4</td>\n",
       "      <td>0.2</td>\n",
       "      <td>Iris-setosa</td>\n",
       "    </tr>\n",
       "  </tbody>\n",
       "</table>\n",
       "</div>"
      ],
      "text/plain": [
       "   lng sepalo  anch sepalo  lng petalo  anch petalo      especie\n",
       "0         5.1          3.5         1.4          0.2  Iris-setosa\n",
       "1         4.9          3.0         1.4          0.2  Iris-setosa\n",
       "2         4.7          3.2         1.3          0.2  Iris-setosa\n",
       "3         4.6          3.1         1.5          0.2  Iris-setosa\n",
       "4         5.0          3.6         1.4          0.2  Iris-setosa"
      ]
     },
     "execution_count": 9,
     "metadata": {},
     "output_type": "execute_result"
    }
   ],
   "source": [
    "url = \"https://archive.ics.uci.edu/ml/machine-learning-databases/iris/iris.data\"\n",
    "\n",
    "\n",
    "df = pd.read_csv(url, names=['lng sepalo','anch sepalo','lng petalo','anch petalo','especie'])\n",
    "\n",
    "df.head()"
   ]
  },
  {
   "cell_type": "code",
   "execution_count": 10,
   "id": "static-postage",
   "metadata": {},
   "outputs": [
    {
     "data": {
      "text/plain": [
       "array([[5.1, 3.5, 1.4, 0.2],\n",
       "       [4.9, 3. , 1.4, 0.2],\n",
       "       [4.7, 3.2, 1.3, 0.2],\n",
       "       [4.6, 3.1, 1.5, 0.2],\n",
       "       [5. , 3.6, 1.4, 0.2],\n",
       "       [5.4, 3.9, 1.7, 0.4],\n",
       "       [4.6, 3.4, 1.4, 0.3],\n",
       "       [5. , 3.4, 1.5, 0.2],\n",
       "       [4.4, 2.9, 1.4, 0.2],\n",
       "       [4.9, 3.1, 1.5, 0.1],\n",
       "       [5.4, 3.7, 1.5, 0.2],\n",
       "       [4.8, 3.4, 1.6, 0.2],\n",
       "       [4.8, 3. , 1.4, 0.1],\n",
       "       [4.3, 3. , 1.1, 0.1],\n",
       "       [5.8, 4. , 1.2, 0.2],\n",
       "       [5.7, 4.4, 1.5, 0.4],\n",
       "       [5.4, 3.9, 1.3, 0.4],\n",
       "       [5.1, 3.5, 1.4, 0.3],\n",
       "       [5.7, 3.8, 1.7, 0.3],\n",
       "       [5.1, 3.8, 1.5, 0.3],\n",
       "       [5.4, 3.4, 1.7, 0.2],\n",
       "       [5.1, 3.7, 1.5, 0.4],\n",
       "       [4.6, 3.6, 1. , 0.2],\n",
       "       [5.1, 3.3, 1.7, 0.5],\n",
       "       [4.8, 3.4, 1.9, 0.2],\n",
       "       [5. , 3. , 1.6, 0.2],\n",
       "       [5. , 3.4, 1.6, 0.4],\n",
       "       [5.2, 3.5, 1.5, 0.2],\n",
       "       [5.2, 3.4, 1.4, 0.2],\n",
       "       [4.7, 3.2, 1.6, 0.2],\n",
       "       [4.8, 3.1, 1.6, 0.2],\n",
       "       [5.4, 3.4, 1.5, 0.4],\n",
       "       [5.2, 4.1, 1.5, 0.1],\n",
       "       [5.5, 4.2, 1.4, 0.2],\n",
       "       [4.9, 3.1, 1.5, 0.1],\n",
       "       [5. , 3.2, 1.2, 0.2],\n",
       "       [5.5, 3.5, 1.3, 0.2],\n",
       "       [4.9, 3.1, 1.5, 0.1],\n",
       "       [4.4, 3. , 1.3, 0.2],\n",
       "       [5.1, 3.4, 1.5, 0.2],\n",
       "       [5. , 3.5, 1.3, 0.3],\n",
       "       [4.5, 2.3, 1.3, 0.3],\n",
       "       [4.4, 3.2, 1.3, 0.2],\n",
       "       [5. , 3.5, 1.6, 0.6],\n",
       "       [5.1, 3.8, 1.9, 0.4],\n",
       "       [4.8, 3. , 1.4, 0.3],\n",
       "       [5.1, 3.8, 1.6, 0.2],\n",
       "       [4.6, 3.2, 1.4, 0.2],\n",
       "       [5.3, 3.7, 1.5, 0.2],\n",
       "       [5. , 3.3, 1.4, 0.2],\n",
       "       [7. , 3.2, 4.7, 1.4],\n",
       "       [6.4, 3.2, 4.5, 1.5],\n",
       "       [6.9, 3.1, 4.9, 1.5],\n",
       "       [5.5, 2.3, 4. , 1.3],\n",
       "       [6.5, 2.8, 4.6, 1.5],\n",
       "       [5.7, 2.8, 4.5, 1.3],\n",
       "       [6.3, 3.3, 4.7, 1.6],\n",
       "       [4.9, 2.4, 3.3, 1. ],\n",
       "       [6.6, 2.9, 4.6, 1.3],\n",
       "       [5.2, 2.7, 3.9, 1.4],\n",
       "       [5. , 2. , 3.5, 1. ],\n",
       "       [5.9, 3. , 4.2, 1.5],\n",
       "       [6. , 2.2, 4. , 1. ],\n",
       "       [6.1, 2.9, 4.7, 1.4],\n",
       "       [5.6, 2.9, 3.6, 1.3],\n",
       "       [6.7, 3.1, 4.4, 1.4],\n",
       "       [5.6, 3. , 4.5, 1.5],\n",
       "       [5.8, 2.7, 4.1, 1. ],\n",
       "       [6.2, 2.2, 4.5, 1.5],\n",
       "       [5.6, 2.5, 3.9, 1.1],\n",
       "       [5.9, 3.2, 4.8, 1.8],\n",
       "       [6.1, 2.8, 4. , 1.3],\n",
       "       [6.3, 2.5, 4.9, 1.5],\n",
       "       [6.1, 2.8, 4.7, 1.2],\n",
       "       [6.4, 2.9, 4.3, 1.3],\n",
       "       [6.6, 3. , 4.4, 1.4],\n",
       "       [6.8, 2.8, 4.8, 1.4],\n",
       "       [6.7, 3. , 5. , 1.7],\n",
       "       [6. , 2.9, 4.5, 1.5],\n",
       "       [5.7, 2.6, 3.5, 1. ],\n",
       "       [5.5, 2.4, 3.8, 1.1],\n",
       "       [5.5, 2.4, 3.7, 1. ],\n",
       "       [5.8, 2.7, 3.9, 1.2],\n",
       "       [6. , 2.7, 5.1, 1.6],\n",
       "       [5.4, 3. , 4.5, 1.5],\n",
       "       [6. , 3.4, 4.5, 1.6],\n",
       "       [6.7, 3.1, 4.7, 1.5],\n",
       "       [6.3, 2.3, 4.4, 1.3],\n",
       "       [5.6, 3. , 4.1, 1.3],\n",
       "       [5.5, 2.5, 4. , 1.3],\n",
       "       [5.5, 2.6, 4.4, 1.2],\n",
       "       [6.1, 3. , 4.6, 1.4],\n",
       "       [5.8, 2.6, 4. , 1.2],\n",
       "       [5. , 2.3, 3.3, 1. ],\n",
       "       [5.6, 2.7, 4.2, 1.3],\n",
       "       [5.7, 3. , 4.2, 1.2],\n",
       "       [5.7, 2.9, 4.2, 1.3],\n",
       "       [6.2, 2.9, 4.3, 1.3],\n",
       "       [5.1, 2.5, 3. , 1.1],\n",
       "       [5.7, 2.8, 4.1, 1.3],\n",
       "       [6.3, 3.3, 6. , 2.5],\n",
       "       [5.8, 2.7, 5.1, 1.9],\n",
       "       [7.1, 3. , 5.9, 2.1],\n",
       "       [6.3, 2.9, 5.6, 1.8],\n",
       "       [6.5, 3. , 5.8, 2.2],\n",
       "       [7.6, 3. , 6.6, 2.1],\n",
       "       [4.9, 2.5, 4.5, 1.7],\n",
       "       [7.3, 2.9, 6.3, 1.8],\n",
       "       [6.7, 2.5, 5.8, 1.8],\n",
       "       [7.2, 3.6, 6.1, 2.5],\n",
       "       [6.5, 3.2, 5.1, 2. ],\n",
       "       [6.4, 2.7, 5.3, 1.9],\n",
       "       [6.8, 3. , 5.5, 2.1],\n",
       "       [5.7, 2.5, 5. , 2. ],\n",
       "       [5.8, 2.8, 5.1, 2.4],\n",
       "       [6.4, 3.2, 5.3, 2.3],\n",
       "       [6.5, 3. , 5.5, 1.8],\n",
       "       [7.7, 3.8, 6.7, 2.2],\n",
       "       [7.7, 2.6, 6.9, 2.3],\n",
       "       [6. , 2.2, 5. , 1.5],\n",
       "       [6.9, 3.2, 5.7, 2.3],\n",
       "       [5.6, 2.8, 4.9, 2. ],\n",
       "       [7.7, 2.8, 6.7, 2. ],\n",
       "       [6.3, 2.7, 4.9, 1.8],\n",
       "       [6.7, 3.3, 5.7, 2.1],\n",
       "       [7.2, 3.2, 6. , 1.8],\n",
       "       [6.2, 2.8, 4.8, 1.8],\n",
       "       [6.1, 3. , 4.9, 1.8],\n",
       "       [6.4, 2.8, 5.6, 2.1],\n",
       "       [7.2, 3. , 5.8, 1.6],\n",
       "       [7.4, 2.8, 6.1, 1.9],\n",
       "       [7.9, 3.8, 6.4, 2. ],\n",
       "       [6.4, 2.8, 5.6, 2.2],\n",
       "       [6.3, 2.8, 5.1, 1.5],\n",
       "       [6.1, 2.6, 5.6, 1.4],\n",
       "       [7.7, 3. , 6.1, 2.3],\n",
       "       [6.3, 3.4, 5.6, 2.4],\n",
       "       [6.4, 3.1, 5.5, 1.8],\n",
       "       [6. , 3. , 4.8, 1.8],\n",
       "       [6.9, 3.1, 5.4, 2.1],\n",
       "       [6.7, 3.1, 5.6, 2.4],\n",
       "       [6.9, 3.1, 5.1, 2.3],\n",
       "       [5.8, 2.7, 5.1, 1.9],\n",
       "       [6.8, 3.2, 5.9, 2.3],\n",
       "       [6.7, 3.3, 5.7, 2.5],\n",
       "       [6.7, 3. , 5.2, 2.3],\n",
       "       [6.3, 2.5, 5. , 1.9],\n",
       "       [6.5, 3. , 5.2, 2. ],\n",
       "       [6.2, 3.4, 5.4, 2.3],\n",
       "       [5.9, 3. , 5.1, 1.8]])"
      ]
     },
     "execution_count": 10,
     "metadata": {},
     "output_type": "execute_result"
    }
   ],
   "source": [
    "X = df.iloc[:,0:4].values\n",
    "X"
   ]
  },
  {
   "cell_type": "code",
   "execution_count": 36,
   "id": "defined-produce",
   "metadata": {},
   "outputs": [
    {
     "data": {
      "text/plain": [
       "(150, 4)"
      ]
     },
     "execution_count": 36,
     "metadata": {},
     "output_type": "execute_result"
    }
   ],
   "source": [
    "X.shape"
   ]
  },
  {
   "cell_type": "code",
   "execution_count": 11,
   "id": "former-feeling",
   "metadata": {},
   "outputs": [
    {
     "data": {
      "text/plain": [
       "array(['Iris-setosa', 'Iris-setosa', 'Iris-setosa', 'Iris-setosa',\n",
       "       'Iris-setosa', 'Iris-setosa', 'Iris-setosa', 'Iris-setosa',\n",
       "       'Iris-setosa', 'Iris-setosa', 'Iris-setosa', 'Iris-setosa',\n",
       "       'Iris-setosa', 'Iris-setosa', 'Iris-setosa', 'Iris-setosa',\n",
       "       'Iris-setosa', 'Iris-setosa', 'Iris-setosa', 'Iris-setosa',\n",
       "       'Iris-setosa', 'Iris-setosa', 'Iris-setosa', 'Iris-setosa',\n",
       "       'Iris-setosa', 'Iris-setosa', 'Iris-setosa', 'Iris-setosa',\n",
       "       'Iris-setosa', 'Iris-setosa', 'Iris-setosa', 'Iris-setosa',\n",
       "       'Iris-setosa', 'Iris-setosa', 'Iris-setosa', 'Iris-setosa',\n",
       "       'Iris-setosa', 'Iris-setosa', 'Iris-setosa', 'Iris-setosa',\n",
       "       'Iris-setosa', 'Iris-setosa', 'Iris-setosa', 'Iris-setosa',\n",
       "       'Iris-setosa', 'Iris-setosa', 'Iris-setosa', 'Iris-setosa',\n",
       "       'Iris-setosa', 'Iris-setosa', 'Iris-versicolor', 'Iris-versicolor',\n",
       "       'Iris-versicolor', 'Iris-versicolor', 'Iris-versicolor',\n",
       "       'Iris-versicolor', 'Iris-versicolor', 'Iris-versicolor',\n",
       "       'Iris-versicolor', 'Iris-versicolor', 'Iris-versicolor',\n",
       "       'Iris-versicolor', 'Iris-versicolor', 'Iris-versicolor',\n",
       "       'Iris-versicolor', 'Iris-versicolor', 'Iris-versicolor',\n",
       "       'Iris-versicolor', 'Iris-versicolor', 'Iris-versicolor',\n",
       "       'Iris-versicolor', 'Iris-versicolor', 'Iris-versicolor',\n",
       "       'Iris-versicolor', 'Iris-versicolor', 'Iris-versicolor',\n",
       "       'Iris-versicolor', 'Iris-versicolor', 'Iris-versicolor',\n",
       "       'Iris-versicolor', 'Iris-versicolor', 'Iris-versicolor',\n",
       "       'Iris-versicolor', 'Iris-versicolor', 'Iris-versicolor',\n",
       "       'Iris-versicolor', 'Iris-versicolor', 'Iris-versicolor',\n",
       "       'Iris-versicolor', 'Iris-versicolor', 'Iris-versicolor',\n",
       "       'Iris-versicolor', 'Iris-versicolor', 'Iris-versicolor',\n",
       "       'Iris-versicolor', 'Iris-versicolor', 'Iris-versicolor',\n",
       "       'Iris-versicolor', 'Iris-versicolor', 'Iris-versicolor',\n",
       "       'Iris-virginica', 'Iris-virginica', 'Iris-virginica',\n",
       "       'Iris-virginica', 'Iris-virginica', 'Iris-virginica',\n",
       "       'Iris-virginica', 'Iris-virginica', 'Iris-virginica',\n",
       "       'Iris-virginica', 'Iris-virginica', 'Iris-virginica',\n",
       "       'Iris-virginica', 'Iris-virginica', 'Iris-virginica',\n",
       "       'Iris-virginica', 'Iris-virginica', 'Iris-virginica',\n",
       "       'Iris-virginica', 'Iris-virginica', 'Iris-virginica',\n",
       "       'Iris-virginica', 'Iris-virginica', 'Iris-virginica',\n",
       "       'Iris-virginica', 'Iris-virginica', 'Iris-virginica',\n",
       "       'Iris-virginica', 'Iris-virginica', 'Iris-virginica',\n",
       "       'Iris-virginica', 'Iris-virginica', 'Iris-virginica',\n",
       "       'Iris-virginica', 'Iris-virginica', 'Iris-virginica',\n",
       "       'Iris-virginica', 'Iris-virginica', 'Iris-virginica',\n",
       "       'Iris-virginica', 'Iris-virginica', 'Iris-virginica',\n",
       "       'Iris-virginica', 'Iris-virginica', 'Iris-virginica',\n",
       "       'Iris-virginica', 'Iris-virginica', 'Iris-virginica',\n",
       "       'Iris-virginica', 'Iris-virginica'], dtype=object)"
      ]
     },
     "execution_count": 11,
     "metadata": {},
     "output_type": "execute_result"
    }
   ],
   "source": [
    "y = df.iloc[:,4].values\n",
    "y"
   ]
  },
  {
   "cell_type": "markdown",
   "id": "honey-planning",
   "metadata": {},
   "source": [
    "Cuando las distintas características o atributos de un dataset están expresadas en distintas escalas se hace patente la necesidad de normalizar sus valores. En este caso, en el que las medidas de sépalos y pétalos están expresadas en centímetros, no sería imprescindible. Sin embargo, como ya comentamos en el post anterior (en forma de una de las limitaciones del PCA), al aplicar esta técnica se asume que los datos de trabajado tienen una distribución gaussiana o normal.  Por tanto, aplicamos a los datos una transformación de normalización de forma que su media sea igual a 0, y su varianza=1. Para ello, usaremos la transformación Standardscaler de sklearn."
   ]
  },
  {
   "cell_type": "code",
   "execution_count": 13,
   "id": "signal-light",
   "metadata": {},
   "outputs": [],
   "source": [
    "scaler = StandardScaler()"
   ]
  },
  {
   "cell_type": "code",
   "execution_count": 14,
   "id": "christian-portrait",
   "metadata": {},
   "outputs": [
    {
     "data": {
      "text/plain": [
       "StandardScaler()"
      ]
     },
     "execution_count": 14,
     "metadata": {},
     "output_type": "execute_result"
    }
   ],
   "source": [
    "scaler"
   ]
  },
  {
   "cell_type": "code",
   "execution_count": 15,
   "id": "utility-uzbekistan",
   "metadata": {},
   "outputs": [],
   "source": [
    "X_std = scaler.fit_transform(X)"
   ]
  },
  {
   "cell_type": "code",
   "execution_count": 16,
   "id": "chubby-sentence",
   "metadata": {},
   "outputs": [
    {
     "data": {
      "text/plain": [
       "array([[ 1.00671141, -0.11010327,  0.87760486,  0.82344326],\n",
       "       [-0.11010327,  1.00671141, -0.42333835, -0.358937  ],\n",
       "       [ 0.87760486, -0.42333835,  1.00671141,  0.96921855],\n",
       "       [ 0.82344326, -0.358937  ,  0.96921855,  1.00671141]])"
      ]
     },
     "execution_count": 16,
     "metadata": {},
     "output_type": "execute_result"
    }
   ],
   "source": [
    "cov_mat = np.cov(X_std.T)\n",
    "cov_mat"
   ]
  },
  {
   "cell_type": "code",
   "execution_count": 17,
   "id": "national-georgia",
   "metadata": {},
   "outputs": [],
   "source": [
    "eig_vals, eig_vecs = np.linalg.eig(cov_mat)"
   ]
  },
  {
   "cell_type": "code",
   "execution_count": 18,
   "id": "joined-mobile",
   "metadata": {},
   "outputs": [
    {
     "data": {
      "text/plain": [
       "array([2.93035378, 0.92740362, 0.14834223, 0.02074601])"
      ]
     },
     "execution_count": 18,
     "metadata": {},
     "output_type": "execute_result"
    }
   ],
   "source": [
    "eig_vals"
   ]
  },
  {
   "cell_type": "code",
   "execution_count": 19,
   "id": "indonesian-sacrifice",
   "metadata": {},
   "outputs": [
    {
     "data": {
      "text/plain": [
       "array([[ 0.52237162, -0.37231836, -0.72101681,  0.26199559],\n",
       "       [-0.26335492, -0.92555649,  0.24203288, -0.12413481],\n",
       "       [ 0.58125401, -0.02109478,  0.14089226, -0.80115427],\n",
       "       [ 0.56561105, -0.06541577,  0.6338014 ,  0.52354627]])"
      ]
     },
     "execution_count": 19,
     "metadata": {},
     "output_type": "execute_result"
    }
   ],
   "source": [
    "eig_vecs"
   ]
  },
  {
   "cell_type": "markdown",
   "id": "extra-penny",
   "metadata": {},
   "source": [
    "Si lo que queremos es reducir la dimensionalidad del dataset, perdiendo la menor información posible, descartaremos los autovectores cuyos autovalores sean más bajos, ya que son aquellos que menos información aportan al conjunto global. Para ello, lo que se hace es ordenarlos por parejas de autovector, autovalor."
   ]
  },
  {
   "cell_type": "code",
   "execution_count": 20,
   "id": "informed-rwanda",
   "metadata": {},
   "outputs": [],
   "source": [
    "eig_pairs = [(np.abs(eig_vals[i]), eig_vecs[:,i]) for i in range(len(eig_vals))]"
   ]
  },
  {
   "cell_type": "code",
   "execution_count": 21,
   "id": "settled-civilian",
   "metadata": {},
   "outputs": [],
   "source": [
    "eig_pairs.sort(reverse = True)"
   ]
  },
  {
   "cell_type": "code",
   "execution_count": 22,
   "id": "greek-minnesota",
   "metadata": {
    "scrolled": true
   },
   "outputs": [
    {
     "name": "stdout",
     "output_type": "stream",
     "text": [
      "2.930353775589317\n",
      "0.9274036215173427\n",
      "0.14834222648163983\n",
      "0.02074601399559585\n"
     ]
    }
   ],
   "source": [
    "for i in eig_pairs:\n",
    "    print(i[0])"
   ]
  },
  {
   "cell_type": "markdown",
   "id": "disturbed-stupid",
   "metadata": {},
   "source": [
    "El objetivo de este caso es proyectar este dataset 4D en un espacio de menor dimensionalidad, para mejorar la eficiencia de cálculo, al mismo tiempo que se retiene la mayor parte de la información. La pregunta clave será ¿cuál va ser este valor? ¿3D?¿2D?¿1D?. Para ello seguiremos el siguiente proceso.\n",
    "\n",
    "Una vez ordenados los autovalores, que recordamos son una medida de la varianza de los datos, la cuestión es decidir, cuál es el menor número de autovectores o componentes principales, con el que podemos expresar “la esencia principal” de la información contenida en ese dataset. Para ello, usaremos una métrica que se conoce como “varianza explicada”, que muestra cuánta varianza se puede atribuir a cada una de estas componentes principales."
   ]
  },
  {
   "cell_type": "code",
   "execution_count": 23,
   "id": "surprised-palmer",
   "metadata": {},
   "outputs": [
    {
     "data": {
      "text/plain": [
       "[72.77045209380132, 23.030523267680657, 3.6838319576273864, 0.5151926808906299]"
      ]
     },
     "execution_count": 23,
     "metadata": {},
     "output_type": "execute_result"
    }
   ],
   "source": [
    "tot = sum(eig_vals)\n",
    "var_exp = [(i / tot)*100 for i in sorted(eig_vals, reverse = True)]\n",
    "var_exp"
   ]
  },
  {
   "cell_type": "code",
   "execution_count": 24,
   "id": "clean-railway",
   "metadata": {},
   "outputs": [],
   "source": [
    "cum_var_exp = np.cumsum(var_exp)"
   ]
  },
  {
   "cell_type": "code",
   "execution_count": 25,
   "id": "systematic-consequence",
   "metadata": {},
   "outputs": [
    {
     "data": {
      "image/png": "[encoded data removed]",
      "text/plain": [
       "<Figure size 936x576 with 1 Axes>"
      ]
     },
     "metadata": {},
     "output_type": "display_data"
    }
   ],
   "source": [
    "# Representamos en un diagrama de barras la varianza explicada por cada autovalor, y la acumulada\n",
    "fig, ax = plt.subplots(figsize = (13, 8))\n",
    "ax.bar(range(1, len(var_exp) + 1), var_exp, alpha=0.5, align='center',\n",
    "        label='Explained variance ratio', color='g')\n",
    "ax.step(range(1, len(var_exp) + 1), cum_var_exp, where='mid', color = 'b', alpha = 0.7,\n",
    "        linestyle='--', label='Cumulative Explained variance ratio')\n",
    "\n",
    "ax.set_xlabel('Number of components', fontsize = 15)\n",
    "ax.set_ylabel('Explained variance', fontsize = 15);"
   ]
  },
  {
   "cell_type": "markdown",
   "id": "entitled-department",
   "metadata": {},
   "source": [
    "En la gráfica se aprecia claramente que la mayor parte de la varianza (en torno al 70%) corresponde a la primera componente. La segunda acumula algo más del 20% de la varianza, mientras que la tercera puede ser descartada sin perder demasiada información, ya que las dos primeras componentes explican más del 90% de la varianza."
   ]
  },
  {
   "cell_type": "code",
   "execution_count": 26,
   "id": "analyzed-duration",
   "metadata": {},
   "outputs": [
    {
     "data": {
      "text/plain": [
       "array([[ 0.52237162, -0.37231836],\n",
       "       [-0.26335492, -0.92555649],\n",
       "       [ 0.58125401, -0.02109478],\n",
       "       [ 0.56561105, -0.06541577]])"
      ]
     },
     "execution_count": 26,
     "metadata": {},
     "output_type": "execute_result"
    }
   ],
   "source": [
    "matrix_w = np.hstack((eig_pairs[0][1].reshape(4,1),\n",
    "                      eig_pairs[1][1].reshape(4,1)))\n",
    "matrix_w"
   ]
  },
  {
   "cell_type": "code",
   "execution_count": 27,
   "id": "juvenile-adobe",
   "metadata": {},
   "outputs": [],
   "source": [
    "from sklearn.decomposition import PCA"
   ]
  },
  {
   "cell_type": "code",
   "execution_count": 28,
   "id": "helpful-roots",
   "metadata": {},
   "outputs": [],
   "source": [
    "pca = PCA()"
   ]
  },
  {
   "cell_type": "code",
   "execution_count": 29,
   "id": "fluid-teach",
   "metadata": {},
   "outputs": [
    {
     "data": {
      "text/plain": [
       "PCA()"
      ]
     },
     "execution_count": 29,
     "metadata": {},
     "output_type": "execute_result"
    }
   ],
   "source": [
    "pca.fit(X)"
   ]
  },
  {
   "cell_type": "code",
   "execution_count": 30,
   "id": "alien-rider",
   "metadata": {},
   "outputs": [
    {
     "data": {
      "text/plain": [
       "array([0.92461621, 0.05301557, 0.01718514, 0.00518309])"
      ]
     },
     "execution_count": 30,
     "metadata": {},
     "output_type": "execute_result"
    }
   ],
   "source": [
    "pca.explained_variance_ratio_"
   ]
  },
  {
   "cell_type": "code",
   "execution_count": 31,
   "id": "modern-commission",
   "metadata": {},
   "outputs": [],
   "source": [
    "pca = PCA(n_components = 2)"
   ]
  },
  {
   "cell_type": "code",
   "execution_count": 32,
   "id": "collectible-israel",
   "metadata": {},
   "outputs": [],
   "source": [
    "Y = pca.fit_transform(X)"
   ]
  },
  {
   "cell_type": "code",
   "execution_count": 33,
   "id": "consistent-circulation",
   "metadata": {},
   "outputs": [
    {
     "data": {
      "text/plain": [
       "numpy.ndarray"
      ]
     },
     "execution_count": 33,
     "metadata": {},
     "output_type": "execute_result"
    }
   ],
   "source": [
    "type(Y)"
   ]
  },
  {
   "cell_type": "code",
   "execution_count": 34,
   "id": "qualified-limit",
   "metadata": {},
   "outputs": [
    {
     "data": {
      "text/plain": [
       "(150, 2)"
      ]
     },
     "execution_count": 34,
     "metadata": {},
     "output_type": "execute_result"
    }
   ],
   "source": [
    "Y.shape"
   ]
  },
  {
   "cell_type": "code",
   "execution_count": 35,
   "id": "horizontal-harvard",
   "metadata": {},
   "outputs": [
    {
     "data": {
      "image/png": "[encoded data removed]",
      "text/plain": [
       "<Figure size 936x576 with 1 Axes>"
      ]
     },
     "metadata": {},
     "output_type": "display_data"
    }
   ],
   "source": [
    "plt.figure(figsize = (13, 8))\n",
    "for label, col in zip(('Iris-setosa', 'Iris-versicolor', 'Iris-virginica'),\n",
    "                    ('magenta', 'cyan', 'limegreen')):\n",
    "    mask = y == label\n",
    "    plt.scatter(Y[mask, 0], Y[mask, 1], label = label,c = col)\n",
    "plt.xlabel('Componente Principal 1')\n",
    "plt.ylabel('Componente Principal 2')\n",
    "plt.legend(loc = 'lower center');"
   ]
  },
  {
   "cell_type": "markdown",
   "id": "defined-associate",
   "metadata": {},
   "source": [
    "Y ¡ya está!. Hemos conseguido reducir el conjunto de datos de trabajo inicial a un conjunto de datos de dos dimensiones que aun así conserva la información más esencial. de forma que nos resultará mucho más sencillo el trabajo de crear un modelo de clasificación a partir de estos datos. Como ya indicamos anteriormente, es una técnica muy frecuente, ya que es sencilla y facilita mucho el trabajo posterior."
   ]
  },
  {
   "cell_type": "code",
   "execution_count": 53,
   "id": "incorporated-broadcast",
   "metadata": {},
   "outputs": [
    {
     "ename": "AttributeError",
     "evalue": "type object 'PCA' has no attribute 'components_'",
     "output_type": "error",
     "traceback": [
      "\u001b[1;31m---------------------------------------------------------------------------\u001b[0m",
      "\u001b[1;31mAttributeError\u001b[0m                            Traceback (most recent call last)",
      "\u001b[1;32m<ipython-input-53-271905efef40>\u001b[0m in \u001b[0;36m<module>\u001b[1;34m\u001b[0m\n\u001b[1;32m----> 1\u001b[1;33m \u001b[0mPCA\u001b[0m\u001b[1;33m.\u001b[0m\u001b[0mcomponents_\u001b[0m\u001b[1;33m\u001b[0m\u001b[1;33m\u001b[0m\u001b[0m\n\u001b[0m",
      "\u001b[1;31mAttributeError\u001b[0m: type object 'PCA' has no attribute 'components_'"
     ]
    }
   ],
   "source": [
    "PCA.components_"
   ]
  },
  {
   "cell_type": "code",
   "execution_count": 54,
   "id": "quality-freedom",
   "metadata": {},
   "outputs": [
    {
     "data": {
      "text/plain": [
       "array([[ 0.36158968, -0.08226889,  0.85657211,  0.35884393],\n",
       "       [ 0.65653988,  0.72971237, -0.1757674 , -0.07470647]])"
      ]
     },
     "execution_count": 54,
     "metadata": {},
     "output_type": "execute_result"
    }
   ],
   "source": [
    "pca.components_"
   ]
  },
  {
   "cell_type": "code",
   "execution_count": 55,
   "id": "permanent-demand",
   "metadata": {},
   "outputs": [
    {
     "data": {
      "text/html": [
       "<div>\n",
       "<style scoped>\n",
       "    .dataframe tbody tr th:only-of-type {\n",
       "        vertical-align: middle;\n",
       "    }\n",
       "\n",
       "    .dataframe tbody tr th {\n",
       "        vertical-align: top;\n",
       "    }\n",
       "\n",
       "    .dataframe thead th {\n",
       "        text-align: right;\n",
       "    }\n",
       "</style>\n",
       "<table border=\"1\" class=\"dataframe\">\n",
       "  <thead>\n",
       "    <tr style=\"text-align: right;\">\n",
       "      <th></th>\n",
       "      <th>lng sepalo</th>\n",
       "      <th>anch sepalo</th>\n",
       "      <th>lng petalo</th>\n",
       "      <th>anch petalo</th>\n",
       "    </tr>\n",
       "  </thead>\n",
       "  <tbody>\n",
       "    <tr>\n",
       "      <th>0</th>\n",
       "      <td>5.1</td>\n",
       "      <td>3.5</td>\n",
       "      <td>1.4</td>\n",
       "      <td>0.2</td>\n",
       "    </tr>\n",
       "    <tr>\n",
       "      <th>1</th>\n",
       "      <td>4.9</td>\n",
       "      <td>3.0</td>\n",
       "      <td>1.4</td>\n",
       "      <td>0.2</td>\n",
       "    </tr>\n",
       "    <tr>\n",
       "      <th>2</th>\n",
       "      <td>4.7</td>\n",
       "      <td>3.2</td>\n",
       "      <td>1.3</td>\n",
       "      <td>0.2</td>\n",
       "    </tr>\n",
       "    <tr>\n",
       "      <th>3</th>\n",
       "      <td>4.6</td>\n",
       "      <td>3.1</td>\n",
       "      <td>1.5</td>\n",
       "      <td>0.2</td>\n",
       "    </tr>\n",
       "    <tr>\n",
       "      <th>4</th>\n",
       "      <td>5.0</td>\n",
       "      <td>3.6</td>\n",
       "      <td>1.4</td>\n",
       "      <td>0.2</td>\n",
       "    </tr>\n",
       "  </tbody>\n",
       "</table>\n",
       "</div>"
      ],
      "text/plain": [
       "   lng sepalo  anch sepalo  lng petalo  anch petalo\n",
       "0         5.1          3.5         1.4          0.2\n",
       "1         4.9          3.0         1.4          0.2\n",
       "2         4.7          3.2         1.3          0.2\n",
       "3         4.6          3.1         1.5          0.2\n",
       "4         5.0          3.6         1.4          0.2"
      ]
     },
     "execution_count": 55,
     "metadata": {},
     "output_type": "execute_result"
    }
   ],
   "source": [
    "df.head()"
   ]
  },
  {
   "cell_type": "code",
   "execution_count": 50,
   "id": "disturbed-incidence",
   "metadata": {},
   "outputs": [
    {
     "data": {
      "text/html": [
       "<div>\n",
       "<style scoped>\n",
       "    .dataframe tbody tr th:only-of-type {\n",
       "        vertical-align: middle;\n",
       "    }\n",
       "\n",
       "    .dataframe tbody tr th {\n",
       "        vertical-align: top;\n",
       "    }\n",
       "\n",
       "    .dataframe thead th {\n",
       "        text-align: right;\n",
       "    }\n",
       "</style>\n",
       "<table border=\"1\" class=\"dataframe\">\n",
       "  <thead>\n",
       "    <tr style=\"text-align: right;\">\n",
       "      <th></th>\n",
       "      <th>lng sepalo</th>\n",
       "      <th>anch sepalo</th>\n",
       "      <th>lng petalo</th>\n",
       "      <th>anch petalo</th>\n",
       "    </tr>\n",
       "  </thead>\n",
       "  <tbody>\n",
       "    <tr>\n",
       "      <th>0</th>\n",
       "      <td>5.1</td>\n",
       "      <td>3.5</td>\n",
       "      <td>1.4</td>\n",
       "      <td>0.2</td>\n",
       "    </tr>\n",
       "    <tr>\n",
       "      <th>1</th>\n",
       "      <td>4.9</td>\n",
       "      <td>3.0</td>\n",
       "      <td>1.4</td>\n",
       "      <td>0.2</td>\n",
       "    </tr>\n",
       "    <tr>\n",
       "      <th>2</th>\n",
       "      <td>4.7</td>\n",
       "      <td>3.2</td>\n",
       "      <td>1.3</td>\n",
       "      <td>0.2</td>\n",
       "    </tr>\n",
       "    <tr>\n",
       "      <th>3</th>\n",
       "      <td>4.6</td>\n",
       "      <td>3.1</td>\n",
       "      <td>1.5</td>\n",
       "      <td>0.2</td>\n",
       "    </tr>\n",
       "    <tr>\n",
       "      <th>4</th>\n",
       "      <td>5.0</td>\n",
       "      <td>3.6</td>\n",
       "      <td>1.4</td>\n",
       "      <td>0.2</td>\n",
       "    </tr>\n",
       "  </tbody>\n",
       "</table>\n",
       "</div>"
      ],
      "text/plain": [
       "   lng sepalo  anch sepalo  lng petalo  anch petalo\n",
       "0         5.1          3.5         1.4          0.2\n",
       "1         4.9          3.0         1.4          0.2\n",
       "2         4.7          3.2         1.3          0.2\n",
       "3         4.6          3.1         1.5          0.2\n",
       "4         5.0          3.6         1.4          0.2"
      ]
     },
     "execution_count": 50,
     "metadata": {},
     "output_type": "execute_result"
    }
   ],
   "source": [
    "df = df.drop('especie', axis = 1)\n",
    "df.head()"
   ]
  },
  {
   "cell_type": "code",
   "execution_count": 51,
   "id": "golden-elements",
   "metadata": {},
   "outputs": [],
   "source": [
    "weights = pd.DataFrame(pca.components_, columns = df.columns, index = ['PC-1','PC-2'])"
   ]
  },
  {
   "cell_type": "code",
   "execution_count": 52,
   "id": "initial-blast",
   "metadata": {},
   "outputs": [
    {
     "data": {
      "text/html": [
       "<div>\n",
       "<style scoped>\n",
       "    .dataframe tbody tr th:only-of-type {\n",
       "        vertical-align: middle;\n",
       "    }\n",
       "\n",
       "    .dataframe tbody tr th {\n",
       "        vertical-align: top;\n",
       "    }\n",
       "\n",
       "    .dataframe thead th {\n",
       "        text-align: right;\n",
       "    }\n",
       "</style>\n",
       "<table border=\"1\" class=\"dataframe\">\n",
       "  <thead>\n",
       "    <tr style=\"text-align: right;\">\n",
       "      <th></th>\n",
       "      <th>lng sepalo</th>\n",
       "      <th>anch sepalo</th>\n",
       "      <th>lng petalo</th>\n",
       "      <th>anch petalo</th>\n",
       "    </tr>\n",
       "  </thead>\n",
       "  <tbody>\n",
       "    <tr>\n",
       "      <th>PC-1</th>\n",
       "      <td>0.36159</td>\n",
       "      <td>-0.082269</td>\n",
       "      <td>0.856572</td>\n",
       "      <td>0.358844</td>\n",
       "    </tr>\n",
       "    <tr>\n",
       "      <th>PC-2</th>\n",
       "      <td>0.65654</td>\n",
       "      <td>0.729712</td>\n",
       "      <td>-0.175767</td>\n",
       "      <td>-0.074706</td>\n",
       "    </tr>\n",
       "  </tbody>\n",
       "</table>\n",
       "</div>"
      ],
      "text/plain": [
       "      lng sepalo  anch sepalo  lng petalo  anch petalo\n",
       "PC-1     0.36159    -0.082269    0.856572     0.358844\n",
       "PC-2     0.65654     0.729712   -0.175767    -0.074706"
      ]
     },
     "execution_count": 52,
     "metadata": {},
     "output_type": "execute_result"
    }
   ],
   "source": [
    "weights"
   ]
  },
  {
   "cell_type": "markdown",
   "id": "alpha-routine",
   "metadata": {},
   "source": [
    "[Regresar al contenido](#Contenido)"
   ]
  },
  {
   "cell_type": "markdown",
   "id": "taken-greece",
   "metadata": {},
   "source": [
    "<hr>\n",
    "<h2>Ejercicio</h2>\n",
    "\n",
    "En los modelos de ML es muy importante usar como variables predictoras aquellas que tengan una baja correlación entre ellas, y ahí es donde entra PCA en nuestro análisis.\n",
    "\n",
    "La siguiente línea importa un data set que contiene información sobre el estatus socioeconómico de diferentes países."
   ]
  },
  {
   "cell_type": "code",
   "execution_count": 40,
   "id": "imported-turtle",
   "metadata": {},
   "outputs": [
    {
     "data": {
      "text/html": [
       "<div>\n",
       "<style scoped>\n",
       "    .dataframe tbody tr th:only-of-type {\n",
       "        vertical-align: middle;\n",
       "    }\n",
       "\n",
       "    .dataframe tbody tr th {\n",
       "        vertical-align: top;\n",
       "    }\n",
       "\n",
       "    .dataframe thead th {\n",
       "        text-align: right;\n",
       "    }\n",
       "</style>\n",
       "<table border=\"1\" class=\"dataframe\">\n",
       "  <thead>\n",
       "    <tr style=\"text-align: right;\">\n",
       "      <th></th>\n",
       "      <th>child_mort</th>\n",
       "      <th>exports</th>\n",
       "      <th>health</th>\n",
       "      <th>imports</th>\n",
       "      <th>income</th>\n",
       "      <th>inflation</th>\n",
       "      <th>life_expec</th>\n",
       "      <th>total_fer</th>\n",
       "      <th>gdpp</th>\n",
       "    </tr>\n",
       "    <tr>\n",
       "      <th>country</th>\n",
       "      <th></th>\n",
       "      <th></th>\n",
       "      <th></th>\n",
       "      <th></th>\n",
       "      <th></th>\n",
       "      <th></th>\n",
       "      <th></th>\n",
       "      <th></th>\n",
       "      <th></th>\n",
       "    </tr>\n",
       "  </thead>\n",
       "  <tbody>\n",
       "    <tr>\n",
       "      <th>Afghanistan</th>\n",
       "      <td>90.2</td>\n",
       "      <td>10.0</td>\n",
       "      <td>7.58</td>\n",
       "      <td>44.9</td>\n",
       "      <td>1610</td>\n",
       "      <td>9.44</td>\n",
       "      <td>56.2</td>\n",
       "      <td>5.82</td>\n",
       "      <td>553</td>\n",
       "    </tr>\n",
       "    <tr>\n",
       "      <th>Albania</th>\n",
       "      <td>16.6</td>\n",
       "      <td>28.0</td>\n",
       "      <td>6.55</td>\n",
       "      <td>48.6</td>\n",
       "      <td>9930</td>\n",
       "      <td>4.49</td>\n",
       "      <td>76.3</td>\n",
       "      <td>1.65</td>\n",
       "      <td>4090</td>\n",
       "    </tr>\n",
       "    <tr>\n",
       "      <th>Algeria</th>\n",
       "      <td>27.3</td>\n",
       "      <td>38.4</td>\n",
       "      <td>4.17</td>\n",
       "      <td>31.4</td>\n",
       "      <td>12900</td>\n",
       "      <td>16.10</td>\n",
       "      <td>76.5</td>\n",
       "      <td>2.89</td>\n",
       "      <td>4460</td>\n",
       "    </tr>\n",
       "    <tr>\n",
       "      <th>Angola</th>\n",
       "      <td>119.0</td>\n",
       "      <td>62.3</td>\n",
       "      <td>2.85</td>\n",
       "      <td>42.9</td>\n",
       "      <td>5900</td>\n",
       "      <td>22.40</td>\n",
       "      <td>60.1</td>\n",
       "      <td>6.16</td>\n",
       "      <td>3530</td>\n",
       "    </tr>\n",
       "    <tr>\n",
       "      <th>Antigua and Barbuda</th>\n",
       "      <td>10.3</td>\n",
       "      <td>45.5</td>\n",
       "      <td>6.03</td>\n",
       "      <td>58.9</td>\n",
       "      <td>19100</td>\n",
       "      <td>1.44</td>\n",
       "      <td>76.8</td>\n",
       "      <td>2.13</td>\n",
       "      <td>12200</td>\n",
       "    </tr>\n",
       "  </tbody>\n",
       "</table>\n",
       "</div>"
      ],
      "text/plain": [
       "                     child_mort  exports  health  imports  income  inflation  \\\n",
       "country                                                                        \n",
       "Afghanistan                90.2     10.0    7.58     44.9    1610       9.44   \n",
       "Albania                    16.6     28.0    6.55     48.6    9930       4.49   \n",
       "Algeria                    27.3     38.4    4.17     31.4   12900      16.10   \n",
       "Angola                    119.0     62.3    2.85     42.9    5900      22.40   \n",
       "Antigua and Barbuda        10.3     45.5    6.03     58.9   19100       1.44   \n",
       "\n",
       "                     life_expec  total_fer   gdpp  \n",
       "country                                            \n",
       "Afghanistan                56.2       5.82    553  \n",
       "Albania                    76.3       1.65   4090  \n",
       "Algeria                    76.5       2.89   4460  \n",
       "Angola                     60.1       6.16   3530  \n",
       "Antigua and Barbuda        76.8       2.13  12200  "
      ]
     },
     "execution_count": 40,
     "metadata": {},
     "output_type": "execute_result"
    }
   ],
   "source": [
    "# Supress Warnings\n",
    "import warnings\n",
    "warnings.filterwarnings('ignore')\n",
    "\n",
    "#read data\n",
    "data = pd.read_csv('Country-data.csv')\n",
    "data.set_index('country', inplace = True)\n",
    "data.head()"
   ]
  },
  {
   "cell_type": "code",
   "execution_count": 41,
   "id": "normal-catering",
   "metadata": {},
   "outputs": [
    {
     "data": {
      "image/png": "[encoded data removed]",
      "text/plain": [
       "<Figure size 936x576 with 2 Axes>"
      ]
     },
     "metadata": {},
     "output_type": "display_data"
    }
   ],
   "source": [
    "fig, ax = plt.subplots(figsize = (13, 8))\n",
    "\n",
    "sns.heatmap(data.corr(), ax = ax, annot = True);"
   ]
  },
  {
   "cell_type": "markdown",
   "id": "careful-mileage",
   "metadata": {},
   "source": [
    "Como se puede observar en la matriz de correlación tenemos varias variables (columnas) con una alta correlación.\n",
    "\n",
    "- Haga una inspección y limpieza general del DataFrame (NaN's y outliers)\n",
    "- Aplique PCA para encontrar las componentes principales del DataFrame\n",
    "    - Utilice el criterio de la varianza explicada para conocer el número de componentes\n",
    "    \n",
    "- Grafique la matriz de covarianza de las componentes principales para corroborar que las componentes que obtuvimos tienen poca correlación entre ellas."
   ]
  },
  {
   "cell_type": "code",
   "execution_count": 56,
   "id": "appropriate-virus",
   "metadata": {},
   "outputs": [
    {
     "name": "stdout",
     "output_type": "stream",
     "text": [
      "<class 'pandas.core.frame.DataFrame'>\n",
      "Index: 167 entries, Afghanistan to Zambia\n",
      "Data columns (total 9 columns):\n",
      " #   Column      Non-Null Count  Dtype  \n",
      "---  ------      --------------  -----  \n",
      " 0   child_mort  167 non-null    float64\n",
      " 1   exports     167 non-null    float64\n",
      " 2   health      167 non-null    float64\n",
      " 3   imports     167 non-null    float64\n",
      " 4   income      167 non-null    int64  \n",
      " 5   inflation   167 non-null    float64\n",
      " 6   life_expec  167 non-null    float64\n",
      " 7   total_fer   167 non-null    float64\n",
      " 8   gdpp        167 non-null    int64  \n",
      "dtypes: float64(7), int64(2)\n",
      "memory usage: 13.0+ KB\n"
     ]
    }
   ],
   "source": [
    "data.info()"
   ]
  },
  {
   "cell_type": "code",
   "execution_count": 57,
   "id": "infrared-presentation",
   "metadata": {},
   "outputs": [
    {
     "data": {
      "text/html": [
       "<div>\n",
       "<style scoped>\n",
       "    .dataframe tbody tr th:only-of-type {\n",
       "        vertical-align: middle;\n",
       "    }\n",
       "\n",
       "    .dataframe tbody tr th {\n",
       "        vertical-align: top;\n",
       "    }\n",
       "\n",
       "    .dataframe thead th {\n",
       "        text-align: right;\n",
       "    }\n",
       "</style>\n",
       "<table border=\"1\" class=\"dataframe\">\n",
       "  <thead>\n",
       "    <tr style=\"text-align: right;\">\n",
       "      <th></th>\n",
       "      <th>child_mort</th>\n",
       "      <th>exports</th>\n",
       "      <th>health</th>\n",
       "      <th>imports</th>\n",
       "      <th>income</th>\n",
       "      <th>inflation</th>\n",
       "      <th>life_expec</th>\n",
       "      <th>total_fer</th>\n",
       "      <th>gdpp</th>\n",
       "    </tr>\n",
       "    <tr>\n",
       "      <th>country</th>\n",
       "      <th></th>\n",
       "      <th></th>\n",
       "      <th></th>\n",
       "      <th></th>\n",
       "      <th></th>\n",
       "      <th></th>\n",
       "      <th></th>\n",
       "      <th></th>\n",
       "      <th></th>\n",
       "    </tr>\n",
       "  </thead>\n",
       "  <tbody>\n",
       "    <tr>\n",
       "      <th>Afghanistan</th>\n",
       "      <td>90.2</td>\n",
       "      <td>10.0</td>\n",
       "      <td>7.58</td>\n",
       "      <td>44.9</td>\n",
       "      <td>1610</td>\n",
       "      <td>9.44</td>\n",
       "      <td>56.2</td>\n",
       "      <td>5.82</td>\n",
       "      <td>553</td>\n",
       "    </tr>\n",
       "    <tr>\n",
       "      <th>Albania</th>\n",
       "      <td>16.6</td>\n",
       "      <td>28.0</td>\n",
       "      <td>6.55</td>\n",
       "      <td>48.6</td>\n",
       "      <td>9930</td>\n",
       "      <td>4.49</td>\n",
       "      <td>76.3</td>\n",
       "      <td>1.65</td>\n",
       "      <td>4090</td>\n",
       "    </tr>\n",
       "    <tr>\n",
       "      <th>Algeria</th>\n",
       "      <td>27.3</td>\n",
       "      <td>38.4</td>\n",
       "      <td>4.17</td>\n",
       "      <td>31.4</td>\n",
       "      <td>12900</td>\n",
       "      <td>16.10</td>\n",
       "      <td>76.5</td>\n",
       "      <td>2.89</td>\n",
       "      <td>4460</td>\n",
       "    </tr>\n",
       "    <tr>\n",
       "      <th>Angola</th>\n",
       "      <td>119.0</td>\n",
       "      <td>62.3</td>\n",
       "      <td>2.85</td>\n",
       "      <td>42.9</td>\n",
       "      <td>5900</td>\n",
       "      <td>22.40</td>\n",
       "      <td>60.1</td>\n",
       "      <td>6.16</td>\n",
       "      <td>3530</td>\n",
       "    </tr>\n",
       "    <tr>\n",
       "      <th>Antigua and Barbuda</th>\n",
       "      <td>10.3</td>\n",
       "      <td>45.5</td>\n",
       "      <td>6.03</td>\n",
       "      <td>58.9</td>\n",
       "      <td>19100</td>\n",
       "      <td>1.44</td>\n",
       "      <td>76.8</td>\n",
       "      <td>2.13</td>\n",
       "      <td>12200</td>\n",
       "    </tr>\n",
       "  </tbody>\n",
       "</table>\n",
       "</div>"
      ],
      "text/plain": [
       "                     child_mort  exports  health  imports  income  inflation  \\\n",
       "country                                                                        \n",
       "Afghanistan                90.2     10.0    7.58     44.9    1610       9.44   \n",
       "Albania                    16.6     28.0    6.55     48.6    9930       4.49   \n",
       "Algeria                    27.3     38.4    4.17     31.4   12900      16.10   \n",
       "Angola                    119.0     62.3    2.85     42.9    5900      22.40   \n",
       "Antigua and Barbuda        10.3     45.5    6.03     58.9   19100       1.44   \n",
       "\n",
       "                     life_expec  total_fer   gdpp  \n",
       "country                                            \n",
       "Afghanistan                56.2       5.82    553  \n",
       "Albania                    76.3       1.65   4090  \n",
       "Algeria                    76.5       2.89   4460  \n",
       "Angola                     60.1       6.16   3530  \n",
       "Antigua and Barbuda        76.8       2.13  12200  "
      ]
     },
     "execution_count": 57,
     "metadata": {},
     "output_type": "execute_result"
    }
   ],
   "source": [
    "data.head()"
   ]
  },
  {
   "cell_type": "markdown",
   "id": "minimal-belize",
   "metadata": {},
   "source": [
    "### Data Cleaning"
   ]
  },
  {
   "cell_type": "code",
   "execution_count": 58,
   "id": "wired-thomson",
   "metadata": {},
   "outputs": [
    {
     "data": {
      "text/plain": [
       "child_mort    0\n",
       "exports       0\n",
       "health        0\n",
       "imports       0\n",
       "income        0\n",
       "inflation     0\n",
       "life_expec    0\n",
       "total_fer     0\n",
       "gdpp          0\n",
       "dtype: int64"
      ]
     },
     "execution_count": 58,
     "metadata": {},
     "output_type": "execute_result"
    }
   ],
   "source": [
    "data.isnull().sum() # No NULL values are observed."
   ]
  },
  {
   "cell_type": "markdown",
   "id": "realistic-recovery",
   "metadata": {},
   "source": [
    "### Outlier Analysis"
   ]
  },
  {
   "cell_type": "code",
   "execution_count": 59,
   "id": "australian-favor",
   "metadata": {},
   "outputs": [
    {
     "data": {
      "image/png": "[encoded data removed]",
      "text/plain": [
       "<Figure size 936x576 with 9 Axes>"
      ]
     },
     "metadata": {},
     "output_type": "display_data"
    }
   ],
   "source": [
    "fig, axs = plt.subplots(3, 3, figsize = (13, 8))\n",
    "\n",
    "plt1 = sns.boxplot(data['child_mort'], ax = axs[0,0])\n",
    "plt2 = sns.boxplot(data['health'], ax = axs[0,1])\n",
    "plt3 = sns.boxplot(data['life_expec'], ax = axs[0,2])\n",
    "plt4 = sns.boxplot(data['total_fer'], ax = axs[1,0])\n",
    "plt5 = sns.boxplot(data['income'], ax = axs[1,1])\n",
    "plt6 = sns.boxplot(data['inflation'], ax = axs[1,2])\n",
    "plt7 = sns.boxplot(data['gdpp'], ax = axs[2,0])\n",
    "plt8 = sns.boxplot(data['imports'], ax = axs[2,1])\n",
    "plt9 = sns.boxplot(data['exports'], ax = axs[2,2])\n",
    "\n",
    "\n",
    "plt.tight_layout();"
   ]
  },
  {
   "cell_type": "code",
   "execution_count": 60,
   "id": "tracked-checkout",
   "metadata": {},
   "outputs": [],
   "source": [
    "import dprocessing as dp"
   ]
  },
  {
   "cell_type": "code",
   "execution_count": 61,
   "id": "decent-regression",
   "metadata": {},
   "outputs": [],
   "source": [
    "outliers = dp.Outliers()"
   ]
  },
  {
   "cell_type": "code",
   "execution_count": 62,
   "id": "charged-finger",
   "metadata": {},
   "outputs": [
    {
     "name": "stdout",
     "output_type": "stream",
     "text": [
      "4 outliers were found\n",
      "5 outliers were found\n",
      "2 outliers were found\n",
      "4 outliers were found\n",
      "8 outliers were found\n",
      "5 outliers were found\n",
      "3 outliers were found\n",
      "1 outliers were found\n",
      "25 outliers were found\n"
     ]
    }
   ],
   "source": [
    "data_help = outliers.fit(data, verbose = True, how = 'iqr', impute = 'extremes')[0]"
   ]
  },
  {
   "cell_type": "code",
   "execution_count": 63,
   "id": "abstract-albuquerque",
   "metadata": {},
   "outputs": [],
   "source": [
    "data_help.index = data.index #don't forget the country name"
   ]
  },
  {
   "cell_type": "code",
   "execution_count": 64,
   "id": "random-happening",
   "metadata": {},
   "outputs": [
    {
     "data": {
      "text/html": [
       "<div>\n",
       "<style scoped>\n",
       "    .dataframe tbody tr th:only-of-type {\n",
       "        vertical-align: middle;\n",
       "    }\n",
       "\n",
       "    .dataframe tbody tr th {\n",
       "        vertical-align: top;\n",
       "    }\n",
       "\n",
       "    .dataframe thead th {\n",
       "        text-align: right;\n",
       "    }\n",
       "</style>\n",
       "<table border=\"1\" class=\"dataframe\">\n",
       "  <thead>\n",
       "    <tr style=\"text-align: right;\">\n",
       "      <th></th>\n",
       "      <th>child_mort</th>\n",
       "      <th>exports</th>\n",
       "      <th>health</th>\n",
       "      <th>imports</th>\n",
       "      <th>income</th>\n",
       "      <th>inflation</th>\n",
       "      <th>life_expec</th>\n",
       "      <th>total_fer</th>\n",
       "      <th>gdpp</th>\n",
       "    </tr>\n",
       "    <tr>\n",
       "      <th>country</th>\n",
       "      <th></th>\n",
       "      <th></th>\n",
       "      <th></th>\n",
       "      <th></th>\n",
       "      <th></th>\n",
       "      <th></th>\n",
       "      <th></th>\n",
       "      <th></th>\n",
       "      <th></th>\n",
       "    </tr>\n",
       "  </thead>\n",
       "  <tbody>\n",
       "    <tr>\n",
       "      <th>Afghanistan</th>\n",
       "      <td>90.2</td>\n",
       "      <td>10.0</td>\n",
       "      <td>7.58</td>\n",
       "      <td>44.9</td>\n",
       "      <td>1610.0</td>\n",
       "      <td>9.44</td>\n",
       "      <td>56.2</td>\n",
       "      <td>5.82</td>\n",
       "      <td>553</td>\n",
       "    </tr>\n",
       "    <tr>\n",
       "      <th>Albania</th>\n",
       "      <td>16.6</td>\n",
       "      <td>28.0</td>\n",
       "      <td>6.55</td>\n",
       "      <td>48.6</td>\n",
       "      <td>9930.0</td>\n",
       "      <td>4.49</td>\n",
       "      <td>76.3</td>\n",
       "      <td>1.65</td>\n",
       "      <td>4090</td>\n",
       "    </tr>\n",
       "    <tr>\n",
       "      <th>Algeria</th>\n",
       "      <td>27.3</td>\n",
       "      <td>38.4</td>\n",
       "      <td>4.17</td>\n",
       "      <td>31.4</td>\n",
       "      <td>12900.0</td>\n",
       "      <td>16.10</td>\n",
       "      <td>76.5</td>\n",
       "      <td>2.89</td>\n",
       "      <td>4460</td>\n",
       "    </tr>\n",
       "    <tr>\n",
       "      <th>Angola</th>\n",
       "      <td>119.0</td>\n",
       "      <td>62.3</td>\n",
       "      <td>2.85</td>\n",
       "      <td>42.9</td>\n",
       "      <td>5900.0</td>\n",
       "      <td>22.40</td>\n",
       "      <td>60.1</td>\n",
       "      <td>6.16</td>\n",
       "      <td>3530</td>\n",
       "    </tr>\n",
       "    <tr>\n",
       "      <th>Antigua and Barbuda</th>\n",
       "      <td>10.3</td>\n",
       "      <td>45.5</td>\n",
       "      <td>6.03</td>\n",
       "      <td>58.9</td>\n",
       "      <td>19100.0</td>\n",
       "      <td>1.44</td>\n",
       "      <td>76.8</td>\n",
       "      <td>2.13</td>\n",
       "      <td>12200</td>\n",
       "    </tr>\n",
       "  </tbody>\n",
       "</table>\n",
       "</div>"
      ],
      "text/plain": [
       "                     child_mort  exports  health  imports   income  inflation  \\\n",
       "country                                                                         \n",
       "Afghanistan                90.2     10.0    7.58     44.9   1610.0       9.44   \n",
       "Albania                    16.6     28.0    6.55     48.6   9930.0       4.49   \n",
       "Algeria                    27.3     38.4    4.17     31.4  12900.0      16.10   \n",
       "Angola                    119.0     62.3    2.85     42.9   5900.0      22.40   \n",
       "Antigua and Barbuda        10.3     45.5    6.03     58.9  19100.0       1.44   \n",
       "\n",
       "                     life_expec  total_fer   gdpp  \n",
       "country                                            \n",
       "Afghanistan                56.2       5.82    553  \n",
       "Albania                    76.3       1.65   4090  \n",
       "Algeria                    76.5       2.89   4460  \n",
       "Angola                     60.1       6.16   3530  \n",
       "Antigua and Barbuda        76.8       2.13  12200  "
      ]
     },
     "execution_count": 64,
     "metadata": {},
     "output_type": "execute_result"
    }
   ],
   "source": [
    "data_help.head()"
   ]
  },
  {
   "cell_type": "code",
   "execution_count": 65,
   "id": "other-hypothetical",
   "metadata": {},
   "outputs": [
    {
     "data": {
      "image/png": "[encoded data removed]",
      "text/plain": [
       "<Figure size 1080x540 with 9 Axes>"
      ]
     },
     "metadata": {},
     "output_type": "display_data"
    }
   ],
   "source": [
    "fig, axs = plt.subplots(3,3, figsize = (15,7.5))\n",
    "\n",
    "plt1 = sns.boxplot(data_help['child_mort'], ax = axs[0,0])\n",
    "plt2 = sns.boxplot(data_help['health'], ax = axs[0,1])\n",
    "plt3 = sns.boxplot(data_help['life_expec'], ax = axs[0,2])\n",
    "plt4 = sns.boxplot(data_help['total_fer'], ax = axs[1,0])\n",
    "plt5 = sns.boxplot(data_help['income'], ax = axs[1,1])\n",
    "plt6 = sns.boxplot(data_help['inflation'], ax = axs[1,2])\n",
    "plt7 = sns.boxplot(data_help['gdpp'], ax = axs[2,0])\n",
    "plt8 = sns.boxplot(data_help['imports'], ax = axs[2,1])\n",
    "plt9 = sns.boxplot(data_help['exports'], ax = axs[2,2])\n",
    "\n",
    "\n",
    "plt.tight_layout()"
   ]
  },
  {
   "cell_type": "code",
   "execution_count": 66,
   "id": "geographic-durham",
   "metadata": {},
   "outputs": [],
   "source": [
    "# Create a scaling object\n",
    "scaler = StandardScaler()"
   ]
  },
  {
   "cell_type": "code",
   "execution_count": 67,
   "id": "accepted-richardson",
   "metadata": {},
   "outputs": [],
   "source": [
    "# Scale these variables using 'fit_transform'\n",
    "data_help = scaler.fit_transform(data_help)"
   ]
  },
  {
   "cell_type": "code",
   "execution_count": 68,
   "id": "international-playlist",
   "metadata": {},
   "outputs": [
    {
     "data": {
      "text/plain": [
       "array([[ 1.36980194, -1.39110684,  0.29601312, ..., -1.70222504,\n",
       "         1.91527602, -0.84634107],\n",
       "       [-0.55046422, -0.54354731, -0.09119005, ...,  0.66332125,\n",
       "        -0.86277926, -0.54082746],\n",
       "       [-0.27129509, -0.05384625, -0.98589252, ...,  0.68685903,\n",
       "        -0.03669088, -0.50886816],\n",
       "       ...,\n",
       "       [-0.37565738,  1.52826487,  0.01782832, ...,  0.28671687,\n",
       "        -0.66291917, -0.78095407],\n",
       "       [ 0.48533152, -0.44937403, -0.60620786, ..., -0.37234081,\n",
       "         1.14914567, -0.78095407],\n",
       "       [ 1.18455887, -0.11976755, -0.33930082, ..., -2.19651829,\n",
       "         1.63547189, -0.7679976 ]])"
      ]
     },
     "execution_count": 68,
     "metadata": {},
     "output_type": "execute_result"
    }
   ],
   "source": [
    "data_help"
   ]
  },
  {
   "cell_type": "markdown",
   "id": "behavioral-spectacular",
   "metadata": {},
   "source": [
    "## PCA on the Data\n",
    "\n",
    "[PCA in sklearn](https://scikit-learn.org/stable/modules/generated/sklearn.decomposition.PCA.html)"
   ]
  },
  {
   "cell_type": "code",
   "execution_count": 69,
   "id": "fuzzy-significance",
   "metadata": {},
   "outputs": [],
   "source": [
    "pca = PCA()"
   ]
  },
  {
   "cell_type": "code",
   "execution_count": 70,
   "id": "going-green",
   "metadata": {},
   "outputs": [
    {
     "data": {
      "text/plain": [
       "PCA()"
      ]
     },
     "execution_count": 70,
     "metadata": {},
     "output_type": "execute_result"
    }
   ],
   "source": [
    "pca.fit(data_help)"
   ]
  },
  {
   "cell_type": "code",
   "execution_count": 71,
   "id": "african-incidence",
   "metadata": {},
   "outputs": [
    {
     "data": {
      "image/png": "[encoded data removed]",
      "text/plain": [
       "<Figure size 936x576 with 1 Axes>"
      ]
     },
     "metadata": {},
     "output_type": "display_data"
    }
   ],
   "source": [
    "fig, ax = plt.subplots(figsize = (13, 8))\n",
    "cum_var_exp = np.cumsum(pca.explained_variance_ratio_)\n",
    "\n",
    "ax.bar(range(1, len(pca.explained_variance_ratio_) + 1), pca.explained_variance_ratio_, alpha=0.5, align='center',\n",
    "        label='Explained variance ratio', color='g')\n",
    "ax.step(range(1, len(pca.explained_variance_ratio_) + 1), cum_var_exp, where='mid', color = 'b', alpha = 0.7,\n",
    "        linestyle='--', label='Cumulative Explained variance ratio')\n",
    "\n",
    "ax.set_xlabel('Number of components', fontsize = 15)\n",
    "ax.set_ylabel('Explained variance', fontsize = 15);"
   ]
  },
  {
   "cell_type": "markdown",
   "id": "naval-learning",
   "metadata": {},
   "source": [
    "#### Parece que 5 componentes son suficientes para describir el 95% de la varianza en el conjunto de datos\n",
    "Elegiremos 5 componentes para nuestro modelado"
   ]
  },
  {
   "cell_type": "code",
   "execution_count": 72,
   "id": "compact-newcastle",
   "metadata": {},
   "outputs": [],
   "source": [
    "pca = PCA(n_components = 5)"
   ]
  },
  {
   "cell_type": "code",
   "execution_count": 77,
   "id": "christian-anthropology",
   "metadata": {},
   "outputs": [
    {
     "data": {
      "text/plain": [
       "(167, 5)"
      ]
     },
     "execution_count": 77,
     "metadata": {},
     "output_type": "execute_result"
    }
   ],
   "source": [
    "df_pca = pca.fit_transform(data_help)\n",
    "df_pca.shape"
   ]
  },
  {
   "cell_type": "code",
   "execution_count": 74,
   "id": "structural-defeat",
   "metadata": {},
   "outputs": [
    {
     "data": {
      "text/plain": [
       "array([[-3.17791739e+00, -2.51291807e-01, -1.01147443e+00,\n",
       "         7.78803595e-01, -1.41022495e-02],\n",
       "       [ 4.34978909e-01, -2.18700436e-01, -2.92590675e-01,\n",
       "        -1.39124146e+00,  1.56711346e-01],\n",
       "       [-4.16783953e-01, -6.13869574e-01,  1.63785860e+00,\n",
       "        -6.15021493e-01,  5.36603860e-01],\n",
       "       [-3.30640928e+00,  1.06664902e+00,  2.15121921e+00,\n",
       "         1.69867748e+00,  1.60550529e-01],\n",
       "       [ 1.25324554e+00,  5.47778085e-01, -1.36955092e-01,\n",
       "        -7.16889756e-01, -3.94628179e-01],\n",
       "       [-2.86331783e-02, -2.16769200e+00,  1.04348335e+00,\n",
       "        -3.42502164e-02,  1.65971957e+00],\n",
       "       [-2.02343083e-01, -3.86555635e-01,  3.87940790e-01,\n",
       "        -1.63906854e+00,  3.98966166e-02],\n",
       "       [ 2.65113941e+00, -2.24611465e+00, -4.06301168e-01,\n",
       "         6.43814169e-01, -7.38102424e-01],\n",
       "       [ 3.41037290e+00, -5.10214852e-01, -8.24463487e-01,\n",
       "         1.13265715e+00,  4.03642881e-03],\n",
       "       [-2.16017878e-01, -5.19685146e-01,  1.30455864e+00,\n",
       "        -1.54867718e-01,  4.32801869e-01],\n",
       "       [ 1.77090845e+00, -5.54636753e-01, -7.03997288e-01,\n",
       "         1.41627759e-01, -6.94802842e-01],\n",
       "       [ 2.08271077e+00,  6.19474449e-01,  1.37207015e+00,\n",
       "         6.03330275e-01, -3.91615651e-01],\n",
       "       [-1.27343374e+00, -1.12094345e+00,  5.64098818e-01,\n",
       "        -1.44233203e+00, -6.43158424e-01],\n",
       "       [ 1.36687295e+00, -1.05992296e-01, -7.39592605e-01,\n",
       "        -5.92415962e-01, -2.43174194e-01],\n",
       "       [ 4.77936796e-01,  8.83301903e-01,  1.06750120e+00,\n",
       "        -6.95506446e-01,  1.21794087e+00],\n",
       "       [ 3.58601343e+00,  1.20073525e+00, -6.28676871e-01,\n",
       "         1.43075949e+00,  3.13928350e-01],\n",
       "       [ 2.51000508e-01,  1.21834617e+00, -6.89420968e-03,\n",
       "        -9.62553055e-01, -5.24463431e-01],\n",
       "       [-2.80043384e+00,  1.16548672e-01, -5.22013833e-01,\n",
       "         1.93536871e-01, -1.75973371e+00],\n",
       "       [-2.74442764e-01,  1.23709378e+00, -2.54101205e-02,\n",
       "        -9.78620562e-01,  8.23041262e-02],\n",
       "       [-9.14604480e-01, -1.08788251e-01,  6.35960734e-01,\n",
       "        -6.60814375e-01, -1.61665791e-01],\n",
       "       [ 1.08880083e+00, -3.10841378e-01, -1.69377226e+00,\n",
       "        -1.13457305e+00,  8.69791256e-01],\n",
       "       [-9.30562843e-01,  5.50561372e-01, -4.73511511e-01,\n",
       "         4.93385442e-01,  4.53054143e-01],\n",
       "       [ 2.61648900e-01, -2.32759767e+00, -4.01022614e-01,\n",
       "        -5.63713559e-01,  4.81855408e-01],\n",
       "       [ 2.34984223e+00, -5.98959914e-01,  3.12237835e+00,\n",
       "         1.37473489e+00, -3.45916864e-01],\n",
       "       [ 1.04928909e+00,  5.61253087e-01, -3.28480727e-01,\n",
       "        -9.96815047e-01, -1.69397187e-01],\n",
       "       [-3.33051075e+00, -4.40171389e-01, -7.55996297e-01,\n",
       "         9.29753365e-01, -7.65269247e-01],\n",
       "       [-3.17993738e+00, -7.63490756e-01, -1.76356741e+00,\n",
       "         1.42500357e+00,  1.02501111e+00],\n",
       "       [-6.83011636e-01,  1.35363349e+00, -2.45512422e-01,\n",
       "        -7.50954492e-01, -2.96015839e-01],\n",
       "       [-2.92519385e+00, -3.16461422e-01, -6.41137397e-01,\n",
       "         3.94116904e-01, -1.56240416e+00],\n",
       "       [ 2.92981002e+00, -1.78296735e+00, -9.01839428e-01,\n",
       "         1.00090668e+00,  1.05735353e-01],\n",
       "       [-1.75563822e-01,  7.62096037e-01, -2.31198636e-01,\n",
       "        -1.43317187e+00, -7.77355535e-01],\n",
       "       [-4.07257634e+00, -2.91760628e-01, -7.07121774e-01,\n",
       "         6.80084805e-01, -2.06252867e+00],\n",
       "       [-3.71482864e+00,  7.76189714e-01, -2.08855179e-01,\n",
       "         1.36397777e+00, -1.36139055e+00],\n",
       "       [ 1.12472121e+00, -9.87854215e-01,  2.48792379e-01,\n",
       "        -4.12913192e-01,  5.64830906e-01],\n",
       "       [ 5.48616308e-02, -1.15350101e+00,  5.38171958e-01,\n",
       "        -1.46000436e+00, -1.61571157e-01],\n",
       "       [ 2.11864290e-01, -1.74745707e+00, -4.50312775e-01,\n",
       "        -1.14270226e+00, -1.13319083e-01],\n",
       "       [-2.27407857e+00,  2.28123949e-01, -5.22030181e-01,\n",
       "        -2.68963724e-01, -9.70979407e-01],\n",
       "       [-3.60193682e+00,  6.07925839e-01,  2.16149109e-01,\n",
       "         1.88458693e+00,  1.14835048e+00],\n",
       "       [-2.05557952e+00,  2.05086465e+00,  2.46504995e+00,\n",
       "         8.42668887e-01,  4.85009384e-01],\n",
       "       [ 1.05505643e+00, -1.00924594e+00, -8.96755553e-01,\n",
       "        -5.77456488e-01,  1.08469980e+00],\n",
       "       [-2.75081207e+00,  1.02175868e+00, -1.67569460e-01,\n",
       "         8.91457545e-01, -1.01318380e+00],\n",
       "       [ 1.44025139e+00, -5.55532391e-01, -4.84857615e-01,\n",
       "        -7.17239766e-01, -2.79086094e-01],\n",
       "       [ 2.74802357e+00,  1.72300609e-01,  3.20205825e-01,\n",
       "         1.89674333e-01, -6.73901673e-01],\n",
       "       [ 2.51045431e+00,  1.00272926e+00, -4.24149548e-01,\n",
       "        -7.60826661e-02, -3.87396713e-01],\n",
       "       [ 3.18401158e+00, -7.25224680e-01, -7.06964156e-01,\n",
       "         1.42198951e+00,  2.39217248e-01],\n",
       "       [-2.13306676e-01, -8.55370881e-01, -1.08348877e-01,\n",
       "        -8.49467983e-01, -2.12831575e-01],\n",
       "       [ 4.22427137e-03, -9.17158424e-01, -2.96586562e-01,\n",
       "        -7.28137660e-01,  4.73906133e-01],\n",
       "       [-9.55800850e-01, -1.00614693e+00,  6.64072841e-01,\n",
       "        -8.26752562e-01, -1.02507845e-01],\n",
       "       [ 8.01482051e-02, -2.10282889e-01, -6.24534542e-01,\n",
       "        -1.27773869e+00, -4.10281058e-02],\n",
       "       [-1.30384486e+00,  1.75107047e+00,  2.48121356e+00,\n",
       "         3.16456435e+00,  5.10611648e-01],\n",
       "       [-2.74775048e+00, -1.15763127e+00,  7.79733250e-01,\n",
       "        -6.16064825e-01, -6.41789446e-01],\n",
       "       [ 1.94675276e+00,  1.65526339e+00,  2.84973298e-01,\n",
       "        -3.76659326e-01, -2.60196180e-01],\n",
       "       [-2.36728747e-01,  1.54038091e+00,  1.73458963e-01,\n",
       "        -7.66207888e-01, -2.60209072e-01],\n",
       "       [ 2.88461584e+00, -1.07410811e+00, -4.71909455e-01,\n",
       "         7.83331527e-01, -5.89949292e-01],\n",
       "       [ 2.79636749e+00, -1.91988227e+00, -1.26695942e+00,\n",
       "         9.81442079e-01,  8.23488965e-03],\n",
       "       [-1.50329949e+00, -2.19569049e-01,  2.02992872e+00,\n",
       "         8.22967071e-01, -2.17878889e-01],\n",
       "       [-2.37090004e+00,  5.08377592e-02, -5.95407829e-01,\n",
       "         1.73307340e-01, -8.22563659e-01],\n",
       "       [ 2.48149743e-01, -3.19976212e-02, -8.90578575e-01,\n",
       "        -7.55740228e-01,  1.36119857e+00],\n",
       "       [ 3.21248681e+00, -1.15687787e+00, -1.04019967e+00,\n",
       "         1.03077463e+00,  2.88432162e-02],\n",
       "       [-2.38036070e+00,  1.13075385e-01,  6.66093418e-01,\n",
       "         2.37780978e-01,  5.61049727e-01],\n",
       "       [ 2.33115213e+00, -1.71775435e+00, -1.09764068e+00,\n",
       "         9.54039369e-02, -1.07509399e-01],\n",
       "       [ 2.41571232e-01, -1.45493455e-01, -5.81446533e-01,\n",
       "        -1.19523166e+00, -5.71500820e-01],\n",
       "       [-7.10565190e-01, -5.36477932e-01, -4.10554362e-01,\n",
       "        -6.74444574e-01, -1.09177816e-01],\n",
       "       [-3.33480554e+00,  2.60588273e-01,  5.53372520e-01,\n",
       "         8.78531505e-01,  1.08043592e-01],\n",
       "       [-2.98857468e+00, -3.64289923e-01, -1.66398543e+00,\n",
       "         7.60968058e-01, -6.94128443e-01],\n",
       "       [-4.43833879e-01,  1.90091692e+00, -1.39435754e-01,\n",
       "        -6.77347045e-01,  1.15125538e-01],\n",
       "       [-3.23831228e+00,  9.11155772e-01, -1.46654855e+00,\n",
       "         6.13298057e-01, -5.20952126e-01],\n",
       "       [ 2.09597959e+00,  2.08381584e+00, -1.87529549e-03,\n",
       "        -3.04107818e-01,  2.04149131e-01],\n",
       "       [ 2.92928251e+00, -5.94129603e-01,  1.06970654e-02,\n",
       "         1.15390186e+00,  1.21445507e-01],\n",
       "       [-1.51186788e+00, -7.23193406e-01,  5.68393591e-01,\n",
       "        -9.01068557e-01, -4.26422573e-01],\n",
       "       [-1.14889825e+00, -1.05899991e+00,  1.71830531e+00,\n",
       "        -1.04125677e+00,  4.05870394e-02],\n",
       "       [-5.74462892e-02, -1.58349245e+00,  1.26378636e+00,\n",
       "        -7.26841526e-01,  7.36553548e-01],\n",
       "       [-1.17139731e+00, -4.85489988e-01,  3.84605504e-01,\n",
       "         7.16783096e-01,  1.18750156e+00],\n",
       "       [ 4.00506426e+00,  2.22793149e+00, -5.14551883e-01,\n",
       "         1.42097016e+00, -4.76563301e-01],\n",
       "       [ 2.06632699e+00, -1.18222527e+00, -1.64666603e-01,\n",
       "         5.56826702e-01, -7.21412862e-01],\n",
       "       [ 2.80275409e+00, -1.87095516e+00, -7.21676161e-01,\n",
       "         4.67372255e-01, -5.01244439e-01],\n",
       "       [-7.56043980e-02, -4.05126407e-02,  5.89563146e-01,\n",
       "        -1.22101835e+00,  3.23260178e-01],\n",
       "       [ 2.75980221e+00, -2.62838437e+00, -8.90741143e-01,\n",
       "         2.35050715e-01, -8.69090679e-01],\n",
       "       [ 9.01625550e-02,  1.01882354e+00, -3.43998446e-01,\n",
       "        -2.90700358e-01,  8.96074513e-01],\n",
       "       [-3.73462947e-01, -5.53915564e-01,  2.01945927e+00,\n",
       "         2.24393097e-02,  7.55616778e-01],\n",
       "       [-1.97792457e+00, -3.07845539e-01, -4.32587077e-01,\n",
       "        -4.99064194e-01, -1.15690975e+00],\n",
       "       [-1.36933680e+00,  8.48707046e-01, -2.80142553e+00,\n",
       "         4.16411639e-02,  6.30182874e-01],\n",
       "       [ 2.47649434e+00, -4.26415382e-01,  2.66826618e+00,\n",
       "         1.25050887e+00, -9.86332488e-01],\n",
       "       [-5.61686802e-01,  1.86844171e+00, -3.52370036e-03,\n",
       "        -6.48794611e-01,  8.65180730e-01],\n",
       "       [-1.74053890e+00,  5.20474891e-01,  3.27669347e-01,\n",
       "        -3.34715064e-01, -2.65337997e-01],\n",
       "       [ 1.43859325e+00,  7.02955807e-01, -3.64255343e-01,\n",
       "        -8.48269250e-01, -4.66284306e-01],\n",
       "       [ 1.34949364e+00,  2.85684098e-01, -6.44521485e-01,\n",
       "        -1.18001258e+00, -1.49449783e-01],\n",
       "       [-1.95116348e+00,  2.60014647e+00, -2.58814747e+00,\n",
       "         8.74634070e-01,  8.19358886e-01],\n",
       "       [-2.01088527e+00,  1.47850545e+00, -2.75289407e+00,\n",
       "         8.06873545e-01,  1.05732070e+00],\n",
       "       [ 9.38884379e-01,  3.39806704e-01,  2.08703774e+00,\n",
       "         1.18471424e-01,  2.07963957e-01],\n",
       "       [ 1.63536976e+00,  1.35775607e+00, -1.07470274e-01,\n",
       "        -4.66797770e-01,  4.15488661e-02],\n",
       "       [ 4.10971857e+00,  2.65635642e+00,  3.73197923e-01,\n",
       "         1.48496678e+00,  1.26377693e-01],\n",
       "       [ 7.89920716e-01,  4.81486443e-01, -5.62999370e-01,\n",
       "        -1.29391034e+00,  1.14873643e-01],\n",
       "       [-2.37558938e+00,  1.43597017e-01,  3.08851657e-01,\n",
       "        -3.04998957e-01, -5.53886894e-01],\n",
       "       [-3.27354536e+00, -2.06696982e-01, -2.59979495e-01,\n",
       "         7.90859399e-01, -4.15854390e-03],\n",
       "       [ 1.34238227e+00,  2.18884516e+00,  1.25569601e+00,\n",
       "        -3.55410721e-01,  6.24540939e-02],\n",
       "       [ 1.20988680e+00,  1.74534298e+00,  2.02630704e-01,\n",
       "        -7.54541344e-01,  5.13539417e-02],\n",
       "       [-3.60523815e+00,  2.78765040e-02, -5.62412793e-01,\n",
       "         1.06684961e+00, -1.51005936e+00],\n",
       "       [ 3.07595874e+00,  2.94363627e+00, -1.62382103e-01,\n",
       "         3.88878241e-01,  7.49958760e-01],\n",
       "       [-2.32155536e+00,  1.21069524e+00,  1.22529814e+00,\n",
       "         7.06553028e-01,  6.65411712e-01],\n",
       "       [ 1.03907576e+00,  9.69937007e-01, -1.94776904e-01,\n",
       "        -9.76354950e-01, -3.03346948e-01],\n",
       "       [-4.69789892e-01,  7.99672164e-01, -3.04542799e+00,\n",
       "         1.93840635e-01,  1.64297485e+00],\n",
       "       [ 3.31658157e-01,  9.64586513e-01, -1.36074816e+00,\n",
       "        -7.11467607e-01,  2.31243466e+00],\n",
       "       [-1.02185538e+00,  5.64948918e-01,  1.66289149e+00,\n",
       "        -2.08725396e-01,  1.95054745e+00],\n",
       "       [ 1.14572769e+00,  3.78027089e-01, -1.14524923e+00,\n",
       "        -9.44763475e-01,  4.82293846e-01],\n",
       "       [-2.27151318e-01, -1.35242105e-02, -2.70476422e-01,\n",
       "        -1.25852175e+00, -7.15850430e-01],\n",
       "       [-3.16960822e+00,  6.07914451e-01, -2.99150833e-01,\n",
       "         7.03486092e-01, -7.19419234e-01],\n",
       "       [-1.98341073e+00, -2.17882777e+00,  8.91268905e-01,\n",
       "        -1.45656651e+00, -1.34733667e+00],\n",
       "       [-1.07842712e+00,  1.24049412e+00, -6.56483192e-01,\n",
       "         1.96714742e-01, -3.48524198e-01],\n",
       "       [-1.60205356e+00, -9.60565509e-01,  5.13071680e-01,\n",
       "        -9.72375162e-01,  6.98067536e-01],\n",
       "       [ 3.76034164e+00,  5.82613526e-01, -9.06215525e-01,\n",
       "         1.59714982e+00,  3.01810727e-01],\n",
       "       [ 2.42602076e+00, -1.72955408e+00, -5.89995004e-01,\n",
       "         8.27299094e-01, -5.56836426e-02],\n",
       "       [-3.51476421e+00,  5.57975522e-01, -9.33751413e-01,\n",
       "         9.76023144e-01, -1.47700798e+00],\n",
       "       [-3.85730525e+00, -1.01886772e+00,  1.44247877e+00,\n",
       "         1.60695796e+00,  5.26284124e-01],\n",
       "       [ 3.05184984e+00, -1.60005004e+00,  1.38516803e-01,\n",
       "         1.40167768e+00, -8.43554289e-02],\n",
       "       [ 1.41744389e+00,  1.47947521e-01,  2.70578959e+00,\n",
       "         8.86994726e-01, -1.65996649e-01],\n",
       "       [-2.59492413e+00, -1.06697603e+00,  1.03265305e+00,\n",
       "        -4.33108999e-01, -9.95338219e-01],\n",
       "       [ 1.29364213e+00,  1.88990972e+00, -4.97632404e-01,\n",
       "        -2.74327778e-01,  3.74345252e-01],\n",
       "       [ 7.86639516e-02,  7.62838994e-01,  2.79546259e-01,\n",
       "        -8.21202887e-01,  1.02752176e-01],\n",
       "       [ 6.84155959e-03, -1.08107508e+00,  4.48034879e-01,\n",
       "        -1.20871581e+00, -3.78090434e-01],\n",
       "       [-8.48977492e-01, -3.25894824e-02,  4.42386638e-01,\n",
       "        -1.10083047e+00, -8.24435241e-01],\n",
       "       [ 1.48949476e+00, -3.41062461e-01, -3.22384810e-01,\n",
       "        -7.26986416e-01, -1.98273386e-01],\n",
       "       [ 2.29873322e+00, -1.21561391e+00, -1.27425172e+00,\n",
       "         1.22246488e-02,  1.95235886e-01],\n",
       "       [ 2.60465364e+00, -6.97814617e-01,  2.54786083e+00,\n",
       "         8.90689198e-01, -1.64538234e+00],\n",
       "       [ 7.07737979e-01, -4.48177396e-01,  1.34991771e-01,\n",
       "        -1.08539002e+00, -3.79942308e-01],\n",
       "       [ 2.17062766e-01, -1.34555383e+00,  1.34219092e+00,\n",
       "        -4.76559142e-01,  3.64007755e-01],\n",
       "       [-1.76372851e+00, -1.02196621e+00, -1.95251662e+00,\n",
       "         7.17402938e-02,  4.99784358e-02],\n",
       "       [-5.76900685e-01,  2.48232068e-01, -7.45556323e-01,\n",
       "        -7.12309397e-01, -3.72453962e-01],\n",
       "       [ 1.12493154e+00, -6.83225891e-01,  2.28237908e+00,\n",
       "         1.04948963e+00,  1.89026946e-01],\n",
       "       [-2.01403857e+00,  1.50316931e-02, -7.17715027e-01,\n",
       "        -1.52030312e-01, -1.00438634e+00],\n",
       "       [ 8.86398289e-01, -3.77376612e-01, -1.03736268e+00,\n",
       "        -8.34112237e-01,  1.10277238e+00],\n",
       "       [ 1.79607159e+00,  3.74724953e+00,  2.39606325e-01,\n",
       "        -6.56846405e-01, -1.13461636e+00],\n",
       "       [-3.55514037e+00, -7.81415352e-01, -1.66308201e+00,\n",
       "         2.11369875e+00,  1.59826243e+00],\n",
       "       [ 4.19509835e+00,  2.89404850e+00,  1.06846300e+00,\n",
       "         7.45349390e-01, -9.92216122e-01],\n",
       "       [ 2.38338778e+00,  1.85326192e+00, -5.81446896e-01,\n",
       "         2.07198067e-02,  2.15751081e-01],\n",
       "       [ 2.79446750e+00,  7.73621515e-01, -7.63985915e-01,\n",
       "         2.26990182e-01, -7.60321765e-02],\n",
       "       [-9.82644813e-01,  1.87608439e+00, -1.04369011e+00,\n",
       "        -2.17864790e-02,  8.39173047e-01],\n",
       "       [-1.17767207e+00, -6.82184360e-01, -8.60053002e-01,\n",
       "         3.53782835e-01,  4.39958900e-02],\n",
       "       [ 2.35888108e+00, -2.01560632e-01,  2.24099286e-01,\n",
       "        -1.74569317e-01, -2.75730092e-01],\n",
       "       [ 2.66157402e+00, -1.82387357e+00, -7.74221768e-01,\n",
       "         2.24648615e-01, -4.32958706e-01],\n",
       "       [-8.72803830e-01, -1.31923460e+00,  2.27581852e+00,\n",
       "        -1.23815388e+00,  1.16540141e+00],\n",
       "       [ 1.92054050e-02,  2.56953341e-01,  5.21985479e-02,\n",
       "        -1.28860192e+00, -3.29510056e-01],\n",
       "       [-2.63743446e+00, -1.38302128e+00,  8.45529193e-01,\n",
       "         5.04115716e-01,  7.71615986e-01],\n",
       "       [ 2.45482962e-01,  8.01841217e-02,  2.41954846e-01,\n",
       "        -2.23431456e-01,  1.52076247e-01],\n",
       "       [ 3.13754411e+00, -8.40835634e-01, -4.64550404e-01,\n",
       "         1.04229730e+00, -3.71091517e-01],\n",
       "       [ 3.93164247e+00, -6.16157639e-02, -7.51634585e-01,\n",
       "         1.53788142e+00,  3.00203690e-02],\n",
       "       [-1.52335874e+00,  1.43320020e-02, -8.45603916e-02,\n",
       "        -6.39339722e-01,  6.90477991e-01],\n",
       "       [-2.77151823e+00, -6.07416883e-01, -2.23932571e-01,\n",
       "         3.32695532e-01, -3.53018061e-01],\n",
       "       [ 9.77190765e-01,  1.39938472e+00,  8.50035907e-01,\n",
       "        -1.25484569e+00, -3.24467953e-01],\n",
       "       [-2.69624667e+00, -1.81855715e+00,  1.82393577e-01,\n",
       "         9.73342967e-01,  1.92157545e+00],\n",
       "       [-2.12245923e+00,  1.11568406e+00, -1.37274275e+00,\n",
       "         4.60210200e-01, -6.37507453e-01],\n",
       "       [-8.39826491e-01,  1.02681882e-01, -5.54473421e-01,\n",
       "        -1.09731837e+00, -3.39845898e-01],\n",
       "       [ 6.31431455e-01,  6.81230572e-01, -6.34300449e-03,\n",
       "        -1.08241958e+00,  4.00058236e-02],\n",
       "       [ 5.39932629e-01, -1.49057123e+00,  1.35444845e-01,\n",
       "        -7.10264501e-01, -6.48288699e-03],\n",
       "       [-4.37244973e-01,  1.51083927e+00,  1.07957512e+00,\n",
       "        -4.30045637e-01, -1.39772909e+00],\n",
       "       [-3.08901303e+00, -7.69396868e-01, -9.76910013e-01,\n",
       "         1.05649630e+00,  2.64258795e-01],\n",
       "       [ 1.59676902e-01,  2.97631836e-01,  3.43526522e-01,\n",
       "        -8.57711587e-01,  1.42530696e+00],\n",
       "       [ 2.82369044e+00,  1.02709324e+00,  2.30707263e+00,\n",
       "         1.41402318e+00, -2.55828050e-01],\n",
       "       [ 2.61327889e+00, -1.64324529e+00, -6.71937389e-01,\n",
       "         7.27930962e-01, -3.68693249e-01],\n",
       "       [ 2.89564768e+00, -2.92042373e+00, -1.79266748e+00,\n",
       "         1.55314106e+00,  1.94881655e-01],\n",
       "       [ 8.15754853e-01, -1.37545662e+00, -3.78682279e-01,\n",
       "        -5.68950910e-01,  1.24845790e-01],\n",
       "       [-1.09850611e+00, -7.56502896e-01,  9.71911851e-01,\n",
       "        -7.36870171e-01,  9.46532943e-01],\n",
       "       [-8.82086734e-01,  9.45856341e-01, -2.27549956e-01,\n",
       "        -6.80104815e-01, -5.51247329e-01],\n",
       "       [-2.40053381e-01, -1.74231500e+00,  2.23833081e+00,\n",
       "        -8.05001031e-02,  1.31847492e+00],\n",
       "       [ 3.05578745e-01,  2.15278473e+00,  4.55745151e-01,\n",
       "        -7.46171027e-01,  1.38375916e+00],\n",
       "       [-2.27110493e+00, -5.54296452e-01,  1.52496693e+00,\n",
       "         3.13638501e-01,  1.29547663e+00],\n",
       "       [-3.14128798e+00,  2.50027596e-02,  3.66950143e-01,\n",
       "         9.99005031e-01,  6.67627247e-03]])"
      ]
     },
     "execution_count": 74,
     "metadata": {},
     "output_type": "execute_result"
    }
   ],
   "source": [
    "df_pca"
   ]
  },
  {
   "cell_type": "code",
   "execution_count": 85,
   "id": "reflected-geography",
   "metadata": {},
   "outputs": [
    {
     "data": {
      "text/plain": [
       "array([[ 1.00000000e+00,  1.50014273e-16,  1.05953444e-16,\n",
       "         3.17989495e-16, -9.28135305e-17],\n",
       "       [ 1.50014273e-16,  1.00000000e+00,  0.00000000e+00,\n",
       "         5.38715773e-16, -9.71409262e-17],\n",
       "       [ 1.05953444e-16,  0.00000000e+00,  1.00000000e+00,\n",
       "         4.59946043e-16,  1.56226739e-16],\n",
       "       [ 3.17989495e-16,  5.38715773e-16,  4.59946043e-16,\n",
       "         1.00000000e+00, -6.52664932e-16],\n",
       "       [-9.28135305e-17, -9.71409262e-17,  1.56226739e-16,\n",
       "        -6.52664932e-16,  1.00000000e+00]])"
      ]
     },
     "execution_count": 85,
     "metadata": {},
     "output_type": "execute_result"
    }
   ],
   "source": [
    "np.corrcoef(df_pca.T)"
   ]
  },
  {
   "cell_type": "code",
   "execution_count": 86,
   "id": "wicked-twelve",
   "metadata": {},
   "outputs": [],
   "source": [
    "?np.corrcoef"
   ]
  },
  {
   "cell_type": "code",
   "execution_count": 87,
   "id": "fossil-solid",
   "metadata": {},
   "outputs": [
    {
     "name": "stdout",
     "output_type": "stream",
     "text": [
      "Help on function corrcoef in module numpy:\n",
      "\n",
      "corrcoef(x, y=None, rowvar=True, bias=<no value>, ddof=<no value>)\n",
      "    Return Pearson product-moment correlation coefficients.\n",
      "    \n",
      "    Please refer to the documentation for `cov` for more detail.  The\n",
      "    relationship between the correlation coefficient matrix, `R`, and the\n",
      "    covariance matrix, `C`, is\n",
      "    \n",
      "    .. math:: R_{ij} = \\frac{ C_{ij} } { \\sqrt{ C_{ii} * C_{jj} } }\n",
      "    \n",
      "    The values of `R` are between -1 and 1, inclusive.\n",
      "    \n",
      "    Parameters\n",
      "    ----------\n",
      "    x : array_like\n",
      "        A 1-D or 2-D array containing multiple variables and observations.\n",
      "        Each row of `x` represents a variable, and each column a single\n",
      "        observation of all those variables. Also see `rowvar` below.\n",
      "    y : array_like, optional\n",
      "        An additional set of variables and observations. `y` has the same\n",
      "        shape as `x`.\n",
      "    rowvar : bool, optional\n",
      "        If `rowvar` is True (default), then each row represents a\n",
      "        variable, with observations in the columns. Otherwise, the relationship\n",
      "        is transposed: each column represents a variable, while the rows\n",
      "        contain observations.\n",
      "    bias : _NoValue, optional\n",
      "        Has no effect, do not use.\n",
      "    \n",
      "        .. deprecated:: 1.10.0\n",
      "    ddof : _NoValue, optional\n",
      "        Has no effect, do not use.\n",
      "    \n",
      "        .. deprecated:: 1.10.0\n",
      "    \n",
      "    Returns\n",
      "    -------\n",
      "    R : ndarray\n",
      "        The correlation coefficient matrix of the variables.\n",
      "    \n",
      "    See Also\n",
      "    --------\n",
      "    cov : Covariance matrix\n",
      "    \n",
      "    Notes\n",
      "    -----\n",
      "    Due to floating point rounding the resulting array may not be Hermitian,\n",
      "    the diagonal elements may not be 1, and the elements may not satisfy the\n",
      "    inequality abs(a) <= 1. The real and imaginary parts are clipped to the\n",
      "    interval [-1,  1] in an attempt to improve on that situation but is not\n",
      "    much help in the complex case.\n",
      "    \n",
      "    This function accepts but discards arguments `bias` and `ddof`.  This is\n",
      "    for backwards compatibility with previous versions of this function.  These\n",
      "    arguments had no effect on the return values of the function and can be\n",
      "    safely ignored in this and previous versions of numpy.\n",
      "\n"
     ]
    }
   ],
   "source": [
    "help(np.corrcoef)"
   ]
  },
  {
   "cell_type": "code",
   "execution_count": 81,
   "id": "expired-model",
   "metadata": {},
   "outputs": [
    {
     "data": {
      "text/html": [
       "<div>\n",
       "<style scoped>\n",
       "    .dataframe tbody tr th:only-of-type {\n",
       "        vertical-align: middle;\n",
       "    }\n",
       "\n",
       "    .dataframe tbody tr th {\n",
       "        vertical-align: top;\n",
       "    }\n",
       "\n",
       "    .dataframe thead th {\n",
       "        text-align: right;\n",
       "    }\n",
       "</style>\n",
       "<table border=\"1\" class=\"dataframe\">\n",
       "  <thead>\n",
       "    <tr style=\"text-align: right;\">\n",
       "      <th></th>\n",
       "      <th>PC1</th>\n",
       "      <th>PC2</th>\n",
       "      <th>PC3</th>\n",
       "      <th>PC4</th>\n",
       "      <th>PC5</th>\n",
       "    </tr>\n",
       "    <tr>\n",
       "      <th>country</th>\n",
       "      <th></th>\n",
       "      <th></th>\n",
       "      <th></th>\n",
       "      <th></th>\n",
       "      <th></th>\n",
       "    </tr>\n",
       "  </thead>\n",
       "  <tbody>\n",
       "    <tr>\n",
       "      <th>Afghanistan</th>\n",
       "      <td>-3.177917</td>\n",
       "      <td>-0.251292</td>\n",
       "      <td>-1.011474</td>\n",
       "      <td>0.778804</td>\n",
       "      <td>-0.014102</td>\n",
       "    </tr>\n",
       "    <tr>\n",
       "      <th>Albania</th>\n",
       "      <td>0.434979</td>\n",
       "      <td>-0.218700</td>\n",
       "      <td>-0.292591</td>\n",
       "      <td>-1.391241</td>\n",
       "      <td>0.156711</td>\n",
       "    </tr>\n",
       "    <tr>\n",
       "      <th>Algeria</th>\n",
       "      <td>-0.416784</td>\n",
       "      <td>-0.613870</td>\n",
       "      <td>1.637859</td>\n",
       "      <td>-0.615021</td>\n",
       "      <td>0.536604</td>\n",
       "    </tr>\n",
       "    <tr>\n",
       "      <th>Angola</th>\n",
       "      <td>-3.306409</td>\n",
       "      <td>1.066649</td>\n",
       "      <td>2.151219</td>\n",
       "      <td>1.698677</td>\n",
       "      <td>0.160551</td>\n",
       "    </tr>\n",
       "    <tr>\n",
       "      <th>Antigua and Barbuda</th>\n",
       "      <td>1.253246</td>\n",
       "      <td>0.547778</td>\n",
       "      <td>-0.136955</td>\n",
       "      <td>-0.716890</td>\n",
       "      <td>-0.394628</td>\n",
       "    </tr>\n",
       "  </tbody>\n",
       "</table>\n",
       "</div>"
      ],
      "text/plain": [
       "                          PC1       PC2       PC3       PC4       PC5\n",
       "country                                                              \n",
       "Afghanistan         -3.177917 -0.251292 -1.011474  0.778804 -0.014102\n",
       "Albania              0.434979 -0.218700 -0.292591 -1.391241  0.156711\n",
       "Algeria             -0.416784 -0.613870  1.637859 -0.615021  0.536604\n",
       "Angola              -3.306409  1.066649  2.151219  1.698677  0.160551\n",
       "Antigua and Barbuda  1.253246  0.547778 -0.136955 -0.716890 -0.394628"
      ]
     },
     "execution_count": 81,
     "metadata": {},
     "output_type": "execute_result"
    }
   ],
   "source": [
    "df_pca = pd.DataFrame(df_pca)\n",
    "df_pca.index = data.index\n",
    "df_pca.columns = ['PC{}'.format(i) for i in range(1, 6)]\n",
    "df_pca.head()"
   ]
  },
  {
   "cell_type": "code",
   "execution_count": 82,
   "id": "hidden-editing",
   "metadata": {},
   "outputs": [
    {
     "data": {
      "image/png": "[encoded data removed]",
      "text/plain": [
       "<Figure size 936x576 with 2 Axes>"
      ]
     },
     "metadata": {},
     "output_type": "display_data"
    }
   ],
   "source": [
    "fig, ax = plt.subplots(figsize = (13, 8))\n",
    "\n",
    "sns.heatmap(df_pca.corr(), ax = ax, annot = True);"
   ]
  },
  {
   "cell_type": "markdown",
   "id": "variable-tyler",
   "metadata": {},
   "source": [
    "[Regresar al contenido](#Contenido)"
   ]
  }
 ],
 "metadata": {
  "kernelspec": {
   "display_name": "Python 3",
   "language": "python",
   "name": "python3"
  },
  "language_info": {
   "codemirror_mode": {
    "name": "ipython",
    "version": 3
   },
   "file_extension": ".py",
   "mimetype": "text/x-python",
   "name": "python",
   "nbconvert_exporter": "python",
   "pygments_lexer": "ipython3",
   "version": "3.8.5"
  }
 },
 "nbformat": 4,
 "nbformat_minor": 5
}
