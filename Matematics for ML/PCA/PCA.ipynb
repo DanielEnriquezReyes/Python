{
 "cells": [
  {
   "cell_type": "markdown",
   "id": "moral-revolution",
   "metadata": {},
   "source": [
    "# Contenido\n",
    "\n",
    "- [PCA](#PCA)\n",
    "    - [Media de un Data set o valor esperado](#Media-de-un-Data-set-o-valor-esperado)\n",
    "    - [Varianza de un Data set](#Varianza-de-un-Data-set)\n",
    "    - [Producto punto y proyección en un subespacio](#Producto-punto-y-proyección-en-un-subespacio)\n",
    "    - [Proyección ortogonal en múltiples dimensiones](#Proyección-ortogonal-en-múltiples-dimensiones)\n",
    "    - [La idea detrás de PCA](#La-idea-detrás-de-PCA)\n",
    "    \n",
    "    \n",
    "- [Ejemplo: Iris Data Set](#Ejemplo:-Iris-Data-Set)\n",
    "\n",
    "\n",
    "- [Ejercicio](#Ejercicio)"
   ]
  },
  {
   "cell_type": "markdown",
   "id": "eastern-association",
   "metadata": {},
   "source": [
    "## PCA \n",
    "\n",
    "\n",
    "El análisis de componentes principales es una técnica utilizada para describir un conjunto de datos en términos de nuevas variables (`componentes`) no correlacionadas. Los componentes se ordenan por la cantidad de varianza original que describen, por lo que la técnica es útil para reducir la dimensionalidad de un conjunto de datos.\n",
    "\n",
    "\n",
    "Vamos a construir poco a poco la idea detrás del PCA."
   ]
  },
  {
   "cell_type": "markdown",
   "id": "angry-runner",
   "metadata": {},
   "source": [
    "[Regresar al contenido](#Contenido)"
   ]
  },
  {
   "cell_type": "markdown",
   "id": "unknown-beaver",
   "metadata": {},
   "source": [
    "### Media de un Data set o valor esperado\n",
    "\n",
    "\n",
    "Este es un concepto equivalente a la media aritmética, pero extendido a conjuntos de vectores, cuando pensemos en un data set (DataFrame), podemos pensar que es un conjunto de vectores, en el que cada vector es una observación individual, simplemente diremos que si tenemos un data set $D$, formado por n vectores $\\vec{x}$ en $\\mathbb{R}^d$, la media del data set, o el _valor esperado_ será:\n",
    "\n",
    "\n",
    "$$E[D] = \\frac{1}{n} \\sum_{i= 1}^n \\vec{x_i}$$\n",
    "\n",
    "\n",
    "Cabe destacar que el valor esperado de $D$ no necesariamente es un punto dentro de $D$."
   ]
  },
  {
   "cell_type": "markdown",
   "id": "plastic-april",
   "metadata": {},
   "source": [
    "[Regresar al contenido](#Contenido)"
   ]
  },
  {
   "cell_type": "markdown",
   "id": "cardiac-labor",
   "metadata": {},
   "source": [
    "### Varianza de un Data set\n",
    "\n",
    "\n",
    "Anterior mente habíamos hablado de la varianza como una medida que nos permite hacernos una idea de que tan dispersos están los datos, notemos que podemos tener dos data set $D_1$ y $D_2$ con la misma media:\n",
    "\n",
    "$$D_1 = {1, 2, 4, 5}$$\n",
    "\n",
    "$$D_2 = {-1, 7, 3}$$\n",
    "\n",
    "Note que $E[D_1] = E[D_2] = 3$, en principio la media no nos ayuda a poder diferenciar estos dos data sets, y para poder hacernos una idea de en que se diferencian vamos a observar la varianza. Para este caso unidimensional tenemos que:\n",
    "\n",
    "$$var[D] = \\frac{1}{n} \\sum_{i= 1}^n (x_i - \\mu)^2$$\n",
    "\n",
    "Donde $\\mu = E[D]$, con esta definición tenemos que $var[D_1] = \\frac{10}{11}$ y $var[D_2] = \\frac{32}{3}$. Una varianza mayor nos indica que los elementos del data set están menos concentrados alrededor de la media, están más dispersos. Ahora extenderemos esta definición a dimensiones más altas. El primer problema que encontramos es que no hay algo como _vectores cuadrados_ por lo que la definición anterior queda obsoleta. Para poder dar una definición útil rescataremos el concepto de covarianza:\n",
    "\n",
    "$$cov[x, y] = \\frac{1}{n} \\sum_{i= 1}^n (x_i - \\mu_x)(y_i - \\mu_y) = E[(x - \\mu_x)(y - \\mu_y)]$$\n",
    "\n",
    "\n",
    "Donde $\\mu_x = E[x]$ y $\\mu_y = E[y]$. Como habíamos mencionado antes la varianza de $x$ puede ser entendida como $cov[x, x]$. Una vez rescatado este concepto definiremos la _matriz de covarianza_\n",
    "\n",
    "Sea $D$ un vector aleatorio formado por $d$ variables aleatorias y que forman a nuestro data set $X_1, \\cdots, X_n$, la matriz de covarianza de $D$ como:\n",
    "\n",
    "$$var[D] = E[(D - \\mu)(D - \\mu)^T]$$\n",
    "\n",
    "Que es una matriz simétrica de valores reales (no todos positivos) que tiene el siguiente aspecto:\n",
    "\n",
    "\n",
    "$$\n",
    "\\begin{bmatrix}\n",
    "var[X_1] & cov[X_1, X_2] & \\cdots & cov[X_1, X_n]\\\\\n",
    "cov[X_2, X_1] & var[X_2] & \\cdots & cov[X_2, X_n]\\\\\n",
    "\\vdots & \\vdots & \\cdots & \\vdots\\\\\n",
    "cov[X_n, X_1] & cov[X_n, X_2] & \\cdots & var[X_n]\\\\\n",
    "\\end{bmatrix}\n",
    "$$"
   ]
  },
  {
   "cell_type": "code",
   "execution_count": 1,
   "id": "polished-outside",
   "metadata": {},
   "outputs": [],
   "source": [
    "import pandas as pd\n",
    "import numpy as np\n",
    "import seaborn as sns\n",
    "from sympy import *"
   ]
  },
  {
   "cell_type": "code",
   "execution_count": null,
   "id": "second-quebec",
   "metadata": {},
   "outputs": [],
   "source": [
    "planetas = sns.load_dataset('planets')"
   ]
  },
  {
   "cell_type": "code",
   "execution_count": null,
   "id": "acceptable-courage",
   "metadata": {},
   "outputs": [],
   "source": [
    "planetas.head()"
   ]
  },
  {
   "cell_type": "code",
   "execution_count": null,
   "id": "appointed-interaction",
   "metadata": {},
   "outputs": [],
   "source": [
    "planetas.cov()"
   ]
  },
  {
   "cell_type": "code",
   "execution_count": null,
   "id": "incident-sentence",
   "metadata": {},
   "outputs": [],
   "source": [
    "cov = planetas.cov().values\n",
    "cov"
   ]
  },
  {
   "cell_type": "code",
   "execution_count": null,
   "id": "alive-fancy",
   "metadata": {},
   "outputs": [],
   "source": [
    "Matrix(cov)"
   ]
  },
  {
   "cell_type": "markdown",
   "id": "protected-walter",
   "metadata": {},
   "source": [
    "Esta matriz de covarianza es la extensión de la varianza para el caso multidimensional, y nos será de utilidad más adelante.\n",
    "\n",
    "[Regresar al contenido](#Contenido)"
   ]
  },
  {
   "cell_type": "markdown",
   "id": "advised-dollar",
   "metadata": {},
   "source": [
    "### Producto punto y proyección en un subespacio\n",
    "\n",
    "\n",
    "Recordemos el producto punto entre vectores rápidamente.\n",
    "\n",
    "$$ X \\cdot Y = X^T Y = \\sum x_i y_i$$\n",
    "\n",
    "Una aplicación que vimos anteriormente del producto punto es el de proyectar un vector $\\vec{a}$ en un subespacio $\\mathcal{L}$\n",
    "\n",
    "\n",
    "<img src=\"Proyeccion ortogonal.png\" width = 400 height = 400> \n",
    "\n",
    "\n",
    "\n",
    "Supongamos que tenemos un vector $\\vec{b}$ que genera un subespacio $\\mathcal{L}$, y tenemos un vector $\\vec{a}$ que no pertenece a $\\mathcal{L}$, entonces podemos hallar la proyección $\\pi_{\\mathcal{L}} (\\vec{a})$. Esta proyección debe cumplir las siguientes dos propiedades.\n",
    "\n",
    "\n",
    "\n",
    "- $\\pi_{\\mathcal{L}} (\\vec{a}) \\in \\mathcal{L}$, es decir, existe un escalar $\\lambda$ tal que $\\pi_u (\\vec{a}) = \\lambda \\vec{b}$\n",
    "- $\\vec{b}  \\cdot (\\pi_{\\mathcal{L}} (\\vec{a}) - \\vec{a}) = 0$\n",
    "\n",
    "\n",
    "Analicemos un poco que pasa con la segunda condición para poder deducir quien es nuestra proyección. Tenemos:\n",
    "\n",
    "\n",
    "$$\\vec{b}  \\cdot (\\pi_{\\mathcal{L}} (\\vec{a}) - \\vec{a}) = \\vec{b} \\cdot \\pi_{\\mathcal{L}} (\\vec{a}) - \\vec{b} \\cdot \\vec{a} = \\vec{b} \\cdot \\lambda \\vec{b} - \\vec{b} \\cdot \\vec{a} = 0$$\n",
    "$$\\lambda ||\\vec{b}||^2 = \\vec{b} \\cdot \\vec{a}$$\n",
    "$$\\lambda = \\frac{\\vec{b} \\cdot \\vec{a}}{||\\vec{b}||^2}$$"
   ]
  },
  {
   "cell_type": "markdown",
   "id": "successful-southeast",
   "metadata": {},
   "source": [
    "A $\\lambda$ se le conoce como la coordenada de $\\pi_{\\mathcal{L}} (\\vec{a})$ en la base $\\{\\vec{b}\\}$. una vez que ya identificamos $\\lambda$ podemos escribir la proyección como:\n",
    "\n",
    "$$\\pi_{\\mathcal{L}} (\\vec{a}) = \\lambda \\vec{b} = \\frac{\\vec{b} \\cdot \\vec{a}}{||\\vec{b}||^2} \\vec{b} = \\frac{b b^T}{||b||^2}a$$\n",
    "\n",
    "\n",
    "Donde a $\\frac{b b^T}{||b||^2}$ la llamaremos matriz de proyección. Que cumple ser cuadrada y simétrica. Veamos un ejemplo en 2 dimensiones. Suponga que:\n",
    "\n",
    "\n",
    "$$\n",
    "b = \n",
    "\\begin{bmatrix}\n",
    "b_1\\\\\n",
    "b_2\\\\\n",
    "\\end{bmatrix}\n",
    "$$\n",
    "\n",
    "Entonces:\n",
    "\n",
    "$$\n",
    "bb^T = \n",
    "\\begin{bmatrix}\n",
    "b_1\\\\\n",
    "b_2\\\\\n",
    "\\end{bmatrix}\n",
    "\\begin{bmatrix}\n",
    "b_1 & b_2\\\\\n",
    "\\end{bmatrix}\n",
    "=\n",
    "\\begin{bmatrix}\n",
    "b_1^2  & b_1 b_2\\\\\n",
    "b_1 b_2  & b_2^2\\\\\n",
    "\\end{bmatrix}\n",
    "$$\n",
    "\n"
   ]
  },
  {
   "cell_type": "markdown",
   "id": "final-bikini",
   "metadata": {},
   "source": [
    "[Regresar al contenido](#Contenido)"
   ]
  },
  {
   "cell_type": "markdown",
   "id": "global-asian",
   "metadata": {},
   "source": [
    "### Proyección ortogonal en múltiples dimensiones\n",
    "\n",
    "\n",
    "Imaginemos que ahora el subespacio $\\mathcal{L}$ tiene una base de más de un elemento, pongamos como ejemplo el caso en el que $\\mathcal{L}$ es un plano en el espacio\n",
    "\n",
    "\n",
    "\n",
    "<img src=\"Proyección ortogonal 2D.png\" width = 400 height = 400> \n",
    "\n",
    "\n",
    "en este caso la base de $\\mathcal{L}$ estará formada por dos vectores $\\{\\vec{b_1}, \\vec{b_2}\\}$, la proyección $\\pi_{\\mathcal{L}} (\\vec{a})$ sera un vector en $\\mathcal{L}$, es decir que se puede escribir como una combinación lineal de $\\vec{b_1}$ y $\\vec{b_2}$. En general si la base de $\\mathcal{L}$ está formada por $n$ vectores $\\vec{b_i}$ tenemos que $\\pi_{\\mathcal{L}} (\\vec{a})$ cumplirá que:\n",
    "\n",
    "\n",
    "- $\\pi_{\\mathcal{L}} (\\vec{a}) = \\sum_{i = 1}^{n} \\lambda_i \\vec{b_i}$\n",
    "- $b_i \\cdot (\\pi_{\\mathcal{L}} (\\vec{a}) - \\vec{a}) = 0$, para todo $i = 1, \\cdots, n$\n",
    "\n",
    "\n",
    "No te que si llamamos simplemente $\\lambda$ al vector que contiene a todos los $\\lambda_i$ y $B$ a la matriz que tiene por columnas los vectores de la base $\\vec{b_i}$, podemos escribir la primera propiedad como:\n",
    "\n",
    "$$\\pi_{\\mathcal{L}} (\\vec{a}) = B \\lambda$$\n",
    "\n",
    "De esta forma tenemos (recordando que $(AB)^T = B^TA^T$):\n",
    "\n",
    "$$\\vec{b_i} \\cdot (\\pi_{\\mathcal{L}} (\\vec{a}) - \\vec{a}) = \\vec{b_i} \\cdot (B \\lambda - \\vec{a}) =  \\vec{b_i} \\cdot B \\lambda - \\vec{b_i} \\cdot \\vec{a} = 0$$\n",
    "$$\\vec{b_i} \\cdot B \\lambda = \\vec{b_i} \\cdot \\vec{a}$$\n",
    "$$\\lambda^T B^T b_i = a^T b_i$$\n",
    "$$\\lambda^T B^T B = a^T B$$\n",
    "$$\\lambda^T = a^T B (B^TB)^{-1}$$\n",
    "$$\\lambda = (B^TB)^{-1}B^T a $$\n",
    "\n",
    "Hay que notar que $(B^TB)^{-1}$ es simétrica, y por tanto igual a su transpuesta. veámoslo con un ejemplo de dos vectores $b$ y $v$:\n",
    "\n",
    "$$\n",
    "\\begin{bmatrix}\n",
    "b_1  & b_2\\\\\n",
    "v_1  & v_2\\\\\n",
    "\\end{bmatrix}\n",
    "\\begin{bmatrix}\n",
    "b_1  & v_1\\\\\n",
    "b_2  & v_2\\\\\n",
    "\\end{bmatrix}\n",
    "=\n",
    "\\begin{bmatrix}\n",
    "b \\cdot b  & b \\cdot v\\\\\n",
    "v \\cdot b  & v \\cdot v\\\\\n",
    "\\end{bmatrix}\n",
    "$$\n",
    "\n",
    "\n",
    "\n",
    "Ahora $\\lambda$ es el vector de coordenadas de $\\pi_{\\mathcal{L}} (\\vec{a})$ en la base $\\{ b_1, b_2\\}$, y podemos escribir:\n",
    "\n",
    "$$\\pi_{\\mathcal{L}} (\\vec{a}) = B \\lambda = B (B^TB)^{-1}B^T a$$\n",
    "\n",
    "Donde $B (B^TB)^{-1}B^T$ es la matriz de proyección, nos interesa destacar un caso particular, y es en el que $b_1$, $b_2$ forman una base ortonormal, en ese caso $(B^TB)^{-1} = I$ y podemos simplificar la proyección:\n",
    "\n",
    "$$\\pi_u (X) = B \\lambda = BB^T X$$\n"
   ]
  },
  {
   "cell_type": "markdown",
   "id": "passive-inventory",
   "metadata": {},
   "source": [
    "[Regresar al contenido](#Contenido)"
   ]
  },
  {
   "cell_type": "markdown",
   "id": "interim-extreme",
   "metadata": {},
   "source": [
    "### La idea detrás de PCA\n",
    "\n",
    "\n",
    "La idea subyacente al aplicar PCA es la de buscar una aproximación de nuestros datos, en forma de proyección ortogonal de nuestros datos en un subespacio vectorial, la idea es hacerlo de forma óptima para perder la menor información posible, pero al mismo tiempo obteniendo una aproximación de nuestros con una dimensionalidad menor, es decir que necesitamos menos vectores para describirla.\n",
    "\n",
    "\n",
    "<img src=\"Posibles proyecciones.gif\" width = 600 height = 600> \n",
    "<img src=\"Proyección optima.gif\" width = 600 height = 600> \n",
    "\n",
    "\n",
    "Ahora supongamos que tenemos un data set $X = \\{X_1, \\cdots, X_n\\}$ con $X_i \\in \\mathbb{R}^d$. Cabe destacar que el modelo supone que $E[X] = 0$. Y suponga que se tiene una base $B = \\{b_1, \\cdots, b_d\\}$, siendo una base ortonormal. Entonces cada $X_i$ puede ser escrito como:\n",
    "\n",
    "\n",
    "$$X_i = \\sum_{j = 1}^d \\beta_{ji} b_j$$\n",
    "\n",
    "Ahora vamos a generar dos subespacios de $\\mathbb{R}^d$ dividiendo la base $B$ en dos conjuntos separados: $B_p = \\{b_1, \\cdots, b_m\\}$ y $B_c = \\{b_{m + 1}, \\cdots, b_d\\}$, en si mismas cada una nos representa un subespacio, al que llamaremos subespacio principal, y complementario respectivamente. Note también que $B_p$ y $B_c$ son ortonormales, y podemos reescribir la expresión anterior:\n",
    "\n",
    "\n",
    "\n",
    "\n",
    "$$X_i = \\sum_{j = 1}^m \\beta_{ji} b_j + \\sum_{j = m + 1}^d \\beta_{ji} b_j$$\n",
    "\n",
    "\n",
    "Lo que buscamos entonces es una proyección ortogonal de cada $X_i$ en $B_p$, es decir buscamos $\\tilde{X}_i$ tal que:\n",
    "\n",
    "$$\\tilde{X}_i = B_p B_p^T X_i$$\n",
    "\n",
    "\n",
    "Donde a $B_p^T X_i$ llamaremos las coordenadas de $\\tilde{X}_i$ en el subespacio principal. Buscamos optimizar la función error $J$, que viene expresada de la siguiente forma:\n",
    "\n",
    "\n",
    "$$J = \\frac{1}{n} \\sum_{i = 1}^{n} ||X_i - \\tilde{X}_i||^2$$\n",
    "\n",
    "Ahora noten que podemos escribir $X_i$ como: \n",
    "\n",
    "\n",
    "$$X_i = B_p B_p^T X_i + B_c B_c^T X_i$$\n",
    "\n",
    "\n",
    "Entonces:\n",
    "\n",
    "$$J = \\frac{1}{n} \\sum_{i = 1}^{n} ||X_i - \\tilde{X}_i||^2 = \\frac{1}{n} \\sum_{i = 1}^{n} ||B_c B_c^T X_i||^2$$\n",
    "\n",
    "$$B_c B_c^T \\frac{1}{n} \\sum_{i = 1}^{n} ||X_i||^2 = B_c B_c^T \\frac{1}{n} \\sum_{i = 1}^{n} X_i X_i^T$$\n",
    "\n",
    "$$J = B_c B_c^T var[X]$$\n",
    "\n",
    "\n",
    "Este resultado es muy potente y para poder entender porque, vamos a simplificar el caso, suponga que $B$ solo está formada por los vectores $b_1$, y $b_2$, $b_1$ generará el espacio principal, y $b_2$ el complementario. por lo que podemos simplificar $J$ como sigue:\n",
    "\n",
    "\n",
    "$$J = b_2^T var[X] b_2$$\n",
    "\n",
    "Y además se cumple que $b_2^T b_2 = 1$ ya que la base es ortonormal. Ahora podemos aplicar el método de los multiplicadores de Lagrange para optimizar $J$, no desarrollaremos todo el método solo nos fijaremos en lo siguiente:\n",
    "\n",
    "\n",
    "$$\\frac{\\partial L}{\\partial b_2} = b_2^T var[X] - \\lambda b_2^T$$\n",
    "\n",
    "$$b_2^T var[X] = \\lambda b_2^T$$\n",
    "$$var[X] b_2 = \\lambda b_2$$\n",
    "\n",
    "\n",
    "Es decir los vectores de la base son los vectores propios de $var[X]$ !!!!. \n",
    "\n",
    "<img src=\"impactado.gif\" width = 600 height = 600> \n",
    "\n",
    "\n",
    "Además podemos escribir $J = \\lambda$ por lo que optimizar $J$ se puede entender como tomar los vectores propios correspondientes a los valores propios de $var[X]$ más pequeños como base del subespacio complementario.\n"
   ]
  },
  {
   "cell_type": "markdown",
   "id": "ambient-settle",
   "metadata": {},
   "source": [
    "[Regresar al contenido](#Contenido)"
   ]
  },
  {
   "cell_type": "markdown",
   "id": "czech-store",
   "metadata": {},
   "source": [
    "# Ejemplo: Iris Data Set\n",
    "\n",
    "A continuación mostraremos un ejemplo de PCA aplicado a un data set de 4 dimensiones, los pasos a elegir son los siguientes:\n",
    "\n",
    "\n",
    "- Cargar los datos\n",
    "- Normalizarlos\n",
    "- Obtener los autovectores y autovalores a partir de la matriz de covarianza\n",
    "- Seleccionar los autovectores correspondientes a las componentes principales\n",
    "- Proyectar el dataset original sobre el nuevo espacio de dimensión < 4\n",
    "\n",
    "\n",
    "\n",
    "Este dataset se usa como datos de entrenamiento para un modelo de machine learning cuyo objetivo es determinar de forma automática la especie a la que pertenece una determinada flor, a partir de las medidas 4 atributos o características. En particular, la longitud y la anchura de sus pétalos y sépalos expresadas en centímetros. Por tanto, se trata de un problema de 4 dimensiones, en el que la variable objetivo (target) es la especie. Los datos se pueden representar en forma de una matriz de 150 filas (los datos de cada flor), por 4 columnas (las medidas de sus pétalos/sépalos). La quinta, corresponde a la variable objetivo, la especie.\n",
    "\n",
    "\n",
    "<img src=\"Iris data set.PNG\" width = 600 height = 600> "
   ]
  },
  {
   "cell_type": "code",
   "execution_count": 2,
   "id": "documentary-newton",
   "metadata": {},
   "outputs": [],
   "source": [
    "import numpy as np\n",
    "import matplotlib.pyplot as plt\n",
    "from sklearn.preprocessing import StandardScaler\n",
    "%matplotlib inline"
   ]
  },
  {
   "cell_type": "code",
   "execution_count": null,
   "id": "elegant-insert",
   "metadata": {},
   "outputs": [],
   "source": [
    "from jupyterthemes import jtplot\n",
    "jtplot.style()"
   ]
  },
  {
   "cell_type": "code",
   "execution_count": null,
   "id": "stretch-reasoning",
   "metadata": {},
   "outputs": [],
   "source": [
    "url = \"https://archive.ics.uci.edu/ml/machine-learning-databases/iris/iris.data\"\n",
    "\n",
    "\n",
    "df = pd.read_csv(url, names=['lng sepalo','anch sepalo','lng petalo','anch petalo','especie'])\n",
    "\n",
    "df.head()"
   ]
  },
  {
   "cell_type": "code",
   "execution_count": null,
   "id": "static-postage",
   "metadata": {},
   "outputs": [],
   "source": [
    "X = df.iloc[:,0:4].values\n",
    "X"
   ]
  },
  {
   "cell_type": "code",
   "execution_count": null,
   "id": "defined-produce",
   "metadata": {},
   "outputs": [],
   "source": [
    "X.shape"
   ]
  },
  {
   "cell_type": "code",
   "execution_count": null,
   "id": "former-feeling",
   "metadata": {},
   "outputs": [],
   "source": [
    "y = df.iloc[:,4].values\n",
    "y"
   ]
  },
  {
   "cell_type": "markdown",
   "id": "honey-planning",
   "metadata": {},
   "source": [
    "Cuando las distintas características o atributos de un dataset están expresadas en distintas escalas se hace patente la necesidad de normalizar sus valores. En este caso, en el que las medidas de sépalos y pétalos están expresadas en centímetros, no sería imprescindible. Sin embargo, como ya comentamos en el post anterior (en forma de una de las limitaciones del PCA), al aplicar esta técnica se asume que los datos de trabajado tienen una distribución gaussiana o normal.  Por tanto, aplicamos a los datos una transformación de normalización de forma que su media sea igual a 0, y su varianza=1. Para ello, usaremos la transformación Standardscaler de sklearn."
   ]
  },
  {
   "cell_type": "code",
   "execution_count": null,
   "id": "signal-light",
   "metadata": {},
   "outputs": [],
   "source": [
    "scaler = StandardScaler()"
   ]
  },
  {
   "cell_type": "code",
   "execution_count": null,
   "id": "christian-portrait",
   "metadata": {},
   "outputs": [],
   "source": [
    "scaler"
   ]
  },
  {
   "cell_type": "code",
   "execution_count": null,
   "id": "utility-uzbekistan",
   "metadata": {},
   "outputs": [],
   "source": [
    "X_std = scaler.fit_transform(X)"
   ]
  },
  {
   "cell_type": "code",
   "execution_count": null,
   "id": "chubby-sentence",
   "metadata": {},
   "outputs": [],
   "source": [
    "cov_mat = np.cov(X_std.T)\n",
    "cov_mat"
   ]
  },
  {
   "cell_type": "code",
   "execution_count": null,
   "id": "national-georgia",
   "metadata": {},
   "outputs": [],
   "source": [
    "eig_vals, eig_vecs = np.linalg.eig(cov_mat)"
   ]
  },
  {
   "cell_type": "code",
   "execution_count": null,
   "id": "joined-mobile",
   "metadata": {},
   "outputs": [],
   "source": [
    "eig_vals"
   ]
  },
  {
   "cell_type": "code",
   "execution_count": null,
   "id": "indonesian-sacrifice",
   "metadata": {},
   "outputs": [],
   "source": [
    "eig_vecs"
   ]
  },
  {
   "cell_type": "markdown",
   "id": "extra-penny",
   "metadata": {},
   "source": [
    "Si lo que queremos es reducir la dimensionalidad del dataset, perdiendo la menor información posible, descartaremos los autovectores cuyos autovalores sean más bajos, ya que son aquellos que menos información aportan al conjunto global. Para ello, lo que se hace es ordenarlos por parejas de autovector, autovalor."
   ]
  },
  {
   "cell_type": "code",
   "execution_count": null,
   "id": "informed-rwanda",
   "metadata": {},
   "outputs": [],
   "source": [
    "eig_pairs = [(np.abs(eig_vals[i]), eig_vecs[:,i]) for i in range(len(eig_vals))]"
   ]
  },
  {
   "cell_type": "code",
   "execution_count": null,
   "id": "settled-civilian",
   "metadata": {},
   "outputs": [],
   "source": [
    "eig_pairs.sort(reverse = True)"
   ]
  },
  {
   "cell_type": "code",
   "execution_count": null,
   "id": "greek-minnesota",
   "metadata": {
    "scrolled": true
   },
   "outputs": [],
   "source": [
    "for i in eig_pairs:\n",
    "    print(i[0])"
   ]
  },
  {
   "cell_type": "markdown",
   "id": "disturbed-stupid",
   "metadata": {},
   "source": [
    "El objetivo de este caso es proyectar este dataset 4D en un espacio de menor dimensionalidad, para mejorar la eficiencia de cálculo, al mismo tiempo que se retiene la mayor parte de la información. La pregunta clave será ¿cuál va ser este valor? ¿3D?¿2D?¿1D?. Para ello seguiremos el siguiente proceso.\n",
    "\n",
    "Una vez ordenados los autovalores, que recordamos son una medida de la varianza de los datos, la cuestión es decidir, cuál es el menor número de autovectores o componentes principales, con el que podemos expresar “la esencia principal” de la información contenida en ese dataset. Para ello, usaremos una métrica que se conoce como “varianza explicada”, que muestra cuánta varianza se puede atribuir a cada una de estas componentes principales."
   ]
  },
  {
   "cell_type": "code",
   "execution_count": null,
   "id": "surprised-palmer",
   "metadata": {},
   "outputs": [],
   "source": [
    "tot = sum(eig_vals)\n",
    "var_exp = [(i / tot)*100 for i in sorted(eig_vals, reverse = True)]\n",
    "var_exp"
   ]
  },
  {
   "cell_type": "code",
   "execution_count": null,
   "id": "clean-railway",
   "metadata": {},
   "outputs": [],
   "source": [
    "cum_var_exp = np.cumsum(var_exp)"
   ]
  },
  {
   "cell_type": "code",
   "execution_count": null,
   "id": "systematic-consequence",
   "metadata": {},
   "outputs": [],
   "source": [
    "# Representamos en un diagrama de barras la varianza explicada por cada autovalor, y la acumulada\n",
    "fig, ax = plt.subplots(figsize = (13, 8))\n",
    "ax.bar(range(1, len(var_exp) + 1), var_exp, alpha=0.5, align='center',\n",
    "        label='Explained variance ratio', color='g')\n",
    "ax.step(range(1, len(var_exp) + 1), cum_var_exp, where='mid', color = 'b', alpha = 0.7,\n",
    "        linestyle='--', label='Cumulative Explained variance ratio')\n",
    "\n",
    "ax.set_xlabel('Number of components', fontsize = 15)\n",
    "ax.set_ylabel('Explained variance', fontsize = 15);"
   ]
  },
  {
   "cell_type": "markdown",
   "id": "entitled-department",
   "metadata": {},
   "source": [
    "En la gráfica se aprecia claramente que la mayor parte de la varianza (en torno al 70%) corresponde a la primera componente. La segunda acumula algo más del 20% de la varianza, mientras que la tercera puede ser descartada sin perder demasiada información, ya que las dos primeras componentes explican más del 90% de la varianza."
   ]
  },
  {
   "cell_type": "code",
   "execution_count": null,
   "id": "analyzed-duration",
   "metadata": {},
   "outputs": [],
   "source": [
    "matrix_w = np.hstack((eig_pairs[0][1].reshape(4,1),\n",
    "                      eig_pairs[1][1].reshape(4,1)))\n",
    "matrix_w"
   ]
  },
  {
   "cell_type": "code",
   "execution_count": 3,
   "id": "juvenile-adobe",
   "metadata": {},
   "outputs": [],
   "source": [
    "from sklearn.decomposition import PCA"
   ]
  },
  {
   "cell_type": "code",
   "execution_count": null,
   "id": "helpful-roots",
   "metadata": {},
   "outputs": [],
   "source": [
    "pca = PCA()"
   ]
  },
  {
   "cell_type": "code",
   "execution_count": null,
   "id": "fluid-teach",
   "metadata": {},
   "outputs": [],
   "source": [
    "pca.fit(X)"
   ]
  },
  {
   "cell_type": "code",
   "execution_count": null,
   "id": "alien-rider",
   "metadata": {},
   "outputs": [],
   "source": [
    "pca.explained_variance_ratio_"
   ]
  },
  {
   "cell_type": "code",
   "execution_count": null,
   "id": "modern-commission",
   "metadata": {},
   "outputs": [],
   "source": [
    "pca = PCA(n_components = 2)"
   ]
  },
  {
   "cell_type": "code",
   "execution_count": null,
   "id": "collectible-israel",
   "metadata": {},
   "outputs": [],
   "source": [
    "Y = pca.fit_transform(X)"
   ]
  },
  {
   "cell_type": "code",
   "execution_count": null,
   "id": "consistent-circulation",
   "metadata": {},
   "outputs": [],
   "source": [
    "type(Y)"
   ]
  },
  {
   "cell_type": "code",
   "execution_count": null,
   "id": "qualified-limit",
   "metadata": {},
   "outputs": [],
   "source": [
    "Y.shape"
   ]
  },
  {
   "cell_type": "code",
   "execution_count": null,
   "id": "horizontal-harvard",
   "metadata": {},
   "outputs": [],
   "source": [
    "plt.figure(figsize = (13, 8))\n",
    "for label, col in zip(('Iris-setosa', 'Iris-versicolor', 'Iris-virginica'),\n",
    "                    ('magenta', 'cyan', 'limegreen')):\n",
    "    mask = y == label\n",
    "    plt.scatter(Y[mask, 0], Y[mask, 1], label = label,c = col)\n",
    "plt.xlabel('Componente Principal 1')\n",
    "plt.ylabel('Componente Principal 2')\n",
    "plt.legend(loc = 'lower center');"
   ]
  },
  {
   "cell_type": "markdown",
   "id": "defined-associate",
   "metadata": {},
   "source": [
    "Y ¡ya está!. Hemos conseguido reducir el conjunto de datos de trabajo inicial a un conjunto de datos de dos dimensiones que aun así conserva la información más esencial. de forma que nos resultará mucho más sencillo el trabajo de crear un modelo de clasificación a partir de estos datos. Como ya indicamos anteriormente, es una técnica muy frecuente, ya que es sencilla y facilita mucho el trabajo posterior."
   ]
  },
  {
   "cell_type": "code",
   "execution_count": null,
   "id": "incorporated-broadcast",
   "metadata": {},
   "outputs": [],
   "source": [
    "PCA.components_"
   ]
  },
  {
   "cell_type": "code",
   "execution_count": null,
   "id": "quality-freedom",
   "metadata": {},
   "outputs": [],
   "source": [
    "pca.components_"
   ]
  },
  {
   "cell_type": "code",
   "execution_count": null,
   "id": "permanent-demand",
   "metadata": {},
   "outputs": [],
   "source": [
    "df.head()"
   ]
  },
  {
   "cell_type": "code",
   "execution_count": null,
   "id": "disturbed-incidence",
   "metadata": {},
   "outputs": [],
   "source": [
    "df = df.drop('especie', axis = 1)\n",
    "df.head()"
   ]
  },
  {
   "cell_type": "code",
   "execution_count": null,
   "id": "golden-elements",
   "metadata": {},
   "outputs": [],
   "source": [
    "weights = pd.DataFrame(pca.components_, columns = df.columns, index = ['PC-1','PC-2'])"
   ]
  },
  {
   "cell_type": "code",
   "execution_count": null,
   "id": "initial-blast",
   "metadata": {},
   "outputs": [],
   "source": [
    "weights"
   ]
  },
  {
   "cell_type": "markdown",
   "id": "alpha-routine",
   "metadata": {},
   "source": [
    "[Regresar al contenido](#Contenido)"
   ]
  },
  {
   "cell_type": "markdown",
   "id": "taken-greece",
   "metadata": {},
   "source": [
    "<hr>\n",
    "<h2>Ejercicio</h2>\n",
    "\n",
    "En los modelos de ML es muy importante usar como variables predictoras aquellas que tengan una baja correlación entre ellas, y ahí es donde entra PCA en nuestro análisis.\n",
    "\n",
    "La siguiente línea importa un data set que contiene información sobre el estatus socioeconómico de diferentes países."
   ]
  },
  {
   "cell_type": "code",
   "execution_count": 4,
   "id": "imported-turtle",
   "metadata": {},
   "outputs": [
    {
     "data": {
      "text/html": [
       "<div>\n",
       "<style scoped>\n",
       "    .dataframe tbody tr th:only-of-type {\n",
       "        vertical-align: middle;\n",
       "    }\n",
       "\n",
       "    .dataframe tbody tr th {\n",
       "        vertical-align: top;\n",
       "    }\n",
       "\n",
       "    .dataframe thead th {\n",
       "        text-align: right;\n",
       "    }\n",
       "</style>\n",
       "<table border=\"1\" class=\"dataframe\">\n",
       "  <thead>\n",
       "    <tr style=\"text-align: right;\">\n",
       "      <th></th>\n",
       "      <th>child_mort</th>\n",
       "      <th>exports</th>\n",
       "      <th>health</th>\n",
       "      <th>imports</th>\n",
       "      <th>income</th>\n",
       "      <th>inflation</th>\n",
       "      <th>life_expec</th>\n",
       "      <th>total_fer</th>\n",
       "      <th>gdpp</th>\n",
       "    </tr>\n",
       "    <tr>\n",
       "      <th>country</th>\n",
       "      <th></th>\n",
       "      <th></th>\n",
       "      <th></th>\n",
       "      <th></th>\n",
       "      <th></th>\n",
       "      <th></th>\n",
       "      <th></th>\n",
       "      <th></th>\n",
       "      <th></th>\n",
       "    </tr>\n",
       "  </thead>\n",
       "  <tbody>\n",
       "    <tr>\n",
       "      <th>Afghanistan</th>\n",
       "      <td>90.2</td>\n",
       "      <td>10.0</td>\n",
       "      <td>7.58</td>\n",
       "      <td>44.9</td>\n",
       "      <td>1610</td>\n",
       "      <td>9.44</td>\n",
       "      <td>56.2</td>\n",
       "      <td>5.82</td>\n",
       "      <td>553</td>\n",
       "    </tr>\n",
       "    <tr>\n",
       "      <th>Albania</th>\n",
       "      <td>16.6</td>\n",
       "      <td>28.0</td>\n",
       "      <td>6.55</td>\n",
       "      <td>48.6</td>\n",
       "      <td>9930</td>\n",
       "      <td>4.49</td>\n",
       "      <td>76.3</td>\n",
       "      <td>1.65</td>\n",
       "      <td>4090</td>\n",
       "    </tr>\n",
       "    <tr>\n",
       "      <th>Algeria</th>\n",
       "      <td>27.3</td>\n",
       "      <td>38.4</td>\n",
       "      <td>4.17</td>\n",
       "      <td>31.4</td>\n",
       "      <td>12900</td>\n",
       "      <td>16.10</td>\n",
       "      <td>76.5</td>\n",
       "      <td>2.89</td>\n",
       "      <td>4460</td>\n",
       "    </tr>\n",
       "    <tr>\n",
       "      <th>Angola</th>\n",
       "      <td>119.0</td>\n",
       "      <td>62.3</td>\n",
       "      <td>2.85</td>\n",
       "      <td>42.9</td>\n",
       "      <td>5900</td>\n",
       "      <td>22.40</td>\n",
       "      <td>60.1</td>\n",
       "      <td>6.16</td>\n",
       "      <td>3530</td>\n",
       "    </tr>\n",
       "    <tr>\n",
       "      <th>Antigua and Barbuda</th>\n",
       "      <td>10.3</td>\n",
       "      <td>45.5</td>\n",
       "      <td>6.03</td>\n",
       "      <td>58.9</td>\n",
       "      <td>19100</td>\n",
       "      <td>1.44</td>\n",
       "      <td>76.8</td>\n",
       "      <td>2.13</td>\n",
       "      <td>12200</td>\n",
       "    </tr>\n",
       "  </tbody>\n",
       "</table>\n",
       "</div>"
      ],
      "text/plain": [
       "                     child_mort  exports  health  imports  income  inflation  \\\n",
       "country                                                                        \n",
       "Afghanistan                90.2     10.0    7.58     44.9    1610       9.44   \n",
       "Albania                    16.6     28.0    6.55     48.6    9930       4.49   \n",
       "Algeria                    27.3     38.4    4.17     31.4   12900      16.10   \n",
       "Angola                    119.0     62.3    2.85     42.9    5900      22.40   \n",
       "Antigua and Barbuda        10.3     45.5    6.03     58.9   19100       1.44   \n",
       "\n",
       "                     life_expec  total_fer   gdpp  \n",
       "country                                            \n",
       "Afghanistan                56.2       5.82    553  \n",
       "Albania                    76.3       1.65   4090  \n",
       "Algeria                    76.5       2.89   4460  \n",
       "Angola                     60.1       6.16   3530  \n",
       "Antigua and Barbuda        76.8       2.13  12200  "
      ]
     },
     "execution_count": 4,
     "metadata": {},
     "output_type": "execute_result"
    }
   ],
   "source": [
    "# Supress Warnings\n",
    "import warnings\n",
    "warnings.filterwarnings('ignore')\n",
    "\n",
    "#read data\n",
    "data = pd.read_csv('Country-data.csv')\n",
    "data.set_index('country', inplace = True)\n",
    "data.head()"
   ]
  },
  {
   "cell_type": "code",
   "execution_count": 5,
   "id": "normal-catering",
   "metadata": {},
   "outputs": [
    {
     "data": {
      "image/png": "[encoded data removed]",
      "text/plain": [
       "<Figure size 936x576 with 2 Axes>"
      ]
     },
     "metadata": {
      "needs_background": "light"
     },
     "output_type": "display_data"
    }
   ],
   "source": [
    "fig, ax = plt.subplots(figsize = (13, 8))\n",
    "\n",
    "sns.heatmap(data.corr(), ax = ax, annot = True);"
   ]
  },
  {
   "cell_type": "markdown",
   "id": "careful-mileage",
   "metadata": {},
   "source": [
    "Como se puede observar en la matriz de correlación tenemos varias variables (columnas) con una alta correlación.\n",
    "\n",
    "- Haga una inspección y limpieza general del DataFrame (NaN's y outliers)\n",
    "- Aplique PCA para encontrar las componentes principales del DataFrame\n",
    "    - Utilice el criterio de la varianza explicada para conocer el número de componentes\n",
    "    \n",
    "- Grafique la matriz de covarianza de las componentes principales para corroborar que las componentes que obtuvimos tienen poca correlación entre ellas."
   ]
  },
  {
   "cell_type": "code",
   "execution_count": 6,
   "id": "appropriate-virus",
   "metadata": {},
   "outputs": [
    {
     "name": "stdout",
     "output_type": "stream",
     "text": [
      "<class 'pandas.core.frame.DataFrame'>\n",
      "Index: 167 entries, Afghanistan to Zambia\n",
      "Data columns (total 9 columns):\n",
      " #   Column      Non-Null Count  Dtype  \n",
      "---  ------      --------------  -----  \n",
      " 0   child_mort  167 non-null    float64\n",
      " 1   exports     167 non-null    float64\n",
      " 2   health      167 non-null    float64\n",
      " 3   imports     167 non-null    float64\n",
      " 4   income      167 non-null    int64  \n",
      " 5   inflation   167 non-null    float64\n",
      " 6   life_expec  167 non-null    float64\n",
      " 7   total_fer   167 non-null    float64\n",
      " 8   gdpp        167 non-null    int64  \n",
      "dtypes: float64(7), int64(2)\n",
      "memory usage: 13.0+ KB\n"
     ]
    }
   ],
   "source": [
    "data.info()"
   ]
  },
  {
   "cell_type": "code",
   "execution_count": 7,
   "id": "infrared-presentation",
   "metadata": {},
   "outputs": [
    {
     "data": {
      "text/html": [
       "<div>\n",
       "<style scoped>\n",
       "    .dataframe tbody tr th:only-of-type {\n",
       "        vertical-align: middle;\n",
       "    }\n",
       "\n",
       "    .dataframe tbody tr th {\n",
       "        vertical-align: top;\n",
       "    }\n",
       "\n",
       "    .dataframe thead th {\n",
       "        text-align: right;\n",
       "    }\n",
       "</style>\n",
       "<table border=\"1\" class=\"dataframe\">\n",
       "  <thead>\n",
       "    <tr style=\"text-align: right;\">\n",
       "      <th></th>\n",
       "      <th>child_mort</th>\n",
       "      <th>exports</th>\n",
       "      <th>health</th>\n",
       "      <th>imports</th>\n",
       "      <th>income</th>\n",
       "      <th>inflation</th>\n",
       "      <th>life_expec</th>\n",
       "      <th>total_fer</th>\n",
       "      <th>gdpp</th>\n",
       "    </tr>\n",
       "    <tr>\n",
       "      <th>country</th>\n",
       "      <th></th>\n",
       "      <th></th>\n",
       "      <th></th>\n",
       "      <th></th>\n",
       "      <th></th>\n",
       "      <th></th>\n",
       "      <th></th>\n",
       "      <th></th>\n",
       "      <th></th>\n",
       "    </tr>\n",
       "  </thead>\n",
       "  <tbody>\n",
       "    <tr>\n",
       "      <th>Afghanistan</th>\n",
       "      <td>90.2</td>\n",
       "      <td>10.0</td>\n",
       "      <td>7.58</td>\n",
       "      <td>44.9</td>\n",
       "      <td>1610</td>\n",
       "      <td>9.44</td>\n",
       "      <td>56.2</td>\n",
       "      <td>5.82</td>\n",
       "      <td>553</td>\n",
       "    </tr>\n",
       "    <tr>\n",
       "      <th>Albania</th>\n",
       "      <td>16.6</td>\n",
       "      <td>28.0</td>\n",
       "      <td>6.55</td>\n",
       "      <td>48.6</td>\n",
       "      <td>9930</td>\n",
       "      <td>4.49</td>\n",
       "      <td>76.3</td>\n",
       "      <td>1.65</td>\n",
       "      <td>4090</td>\n",
       "    </tr>\n",
       "    <tr>\n",
       "      <th>Algeria</th>\n",
       "      <td>27.3</td>\n",
       "      <td>38.4</td>\n",
       "      <td>4.17</td>\n",
       "      <td>31.4</td>\n",
       "      <td>12900</td>\n",
       "      <td>16.10</td>\n",
       "      <td>76.5</td>\n",
       "      <td>2.89</td>\n",
       "      <td>4460</td>\n",
       "    </tr>\n",
       "    <tr>\n",
       "      <th>Angola</th>\n",
       "      <td>119.0</td>\n",
       "      <td>62.3</td>\n",
       "      <td>2.85</td>\n",
       "      <td>42.9</td>\n",
       "      <td>5900</td>\n",
       "      <td>22.40</td>\n",
       "      <td>60.1</td>\n",
       "      <td>6.16</td>\n",
       "      <td>3530</td>\n",
       "    </tr>\n",
       "    <tr>\n",
       "      <th>Antigua and Barbuda</th>\n",
       "      <td>10.3</td>\n",
       "      <td>45.5</td>\n",
       "      <td>6.03</td>\n",
       "      <td>58.9</td>\n",
       "      <td>19100</td>\n",
       "      <td>1.44</td>\n",
       "      <td>76.8</td>\n",
       "      <td>2.13</td>\n",
       "      <td>12200</td>\n",
       "    </tr>\n",
       "  </tbody>\n",
       "</table>\n",
       "</div>"
      ],
      "text/plain": [
       "                     child_mort  exports  health  imports  income  inflation  \\\n",
       "country                                                                        \n",
       "Afghanistan                90.2     10.0    7.58     44.9    1610       9.44   \n",
       "Albania                    16.6     28.0    6.55     48.6    9930       4.49   \n",
       "Algeria                    27.3     38.4    4.17     31.4   12900      16.10   \n",
       "Angola                    119.0     62.3    2.85     42.9    5900      22.40   \n",
       "Antigua and Barbuda        10.3     45.5    6.03     58.9   19100       1.44   \n",
       "\n",
       "                     life_expec  total_fer   gdpp  \n",
       "country                                            \n",
       "Afghanistan                56.2       5.82    553  \n",
       "Albania                    76.3       1.65   4090  \n",
       "Algeria                    76.5       2.89   4460  \n",
       "Angola                     60.1       6.16   3530  \n",
       "Antigua and Barbuda        76.8       2.13  12200  "
      ]
     },
     "execution_count": 7,
     "metadata": {},
     "output_type": "execute_result"
    }
   ],
   "source": [
    "data.head()"
   ]
  },
  {
   "cell_type": "markdown",
   "id": "minimal-belize",
   "metadata": {},
   "source": [
    "### Data Cleaning"
   ]
  },
  {
   "cell_type": "code",
   "execution_count": 8,
   "id": "wired-thomson",
   "metadata": {},
   "outputs": [
    {
     "data": {
      "text/plain": [
       "child_mort    0\n",
       "exports       0\n",
       "health        0\n",
       "imports       0\n",
       "income        0\n",
       "inflation     0\n",
       "life_expec    0\n",
       "total_fer     0\n",
       "gdpp          0\n",
       "dtype: int64"
      ]
     },
     "execution_count": 8,
     "metadata": {},
     "output_type": "execute_result"
    }
   ],
   "source": [
    "data.isnull().sum() # No NULL values are observed."
   ]
  },
  {
   "cell_type": "markdown",
   "id": "realistic-recovery",
   "metadata": {},
   "source": [
    "### Outlier Analysis"
   ]
  },
  {
   "cell_type": "code",
   "execution_count": 9,
   "id": "australian-favor",
   "metadata": {},
   "outputs": [
    {
     "data": {
      "image/png": "[encoded data removed]",
      "text/plain": [
       "<Figure size 936x576 with 9 Axes>"
      ]
     },
     "metadata": {
      "needs_background": "light"
     },
     "output_type": "display_data"
    }
   ],
   "source": [
    "fig, axs = plt.subplots(3, 3, figsize = (13, 8))\n",
    "\n",
    "plt1 = sns.boxplot(data['child_mort'], ax = axs[0,0])\n",
    "plt2 = sns.boxplot(data['health'], ax = axs[0,1])\n",
    "plt3 = sns.boxplot(data['life_expec'], ax = axs[0,2])\n",
    "plt4 = sns.boxplot(data['total_fer'], ax = axs[1,0])\n",
    "plt5 = sns.boxplot(data['income'], ax = axs[1,1])\n",
    "plt6 = sns.boxplot(data['inflation'], ax = axs[1,2])\n",
    "plt7 = sns.boxplot(data['gdpp'], ax = axs[2,0])\n",
    "plt8 = sns.boxplot(data['imports'], ax = axs[2,1])\n",
    "plt9 = sns.boxplot(data['exports'], ax = axs[2,2])\n",
    "\n",
    "\n",
    "plt.tight_layout();"
   ]
  },
  {
   "cell_type": "code",
   "execution_count": 10,
   "id": "tracked-checkout",
   "metadata": {},
   "outputs": [],
   "source": [
    "import dprocessing as dp"
   ]
  },
  {
   "cell_type": "code",
   "execution_count": 11,
   "id": "decent-regression",
   "metadata": {},
   "outputs": [],
   "source": [
    "outliers = dp.Outliers()"
   ]
  },
  {
   "cell_type": "code",
   "execution_count": 12,
   "id": "charged-finger",
   "metadata": {},
   "outputs": [
    {
     "name": "stdout",
     "output_type": "stream",
     "text": [
      "4 outliers were found\n",
      "5 outliers were found\n",
      "2 outliers were found\n",
      "4 outliers were found\n",
      "8 outliers were found\n",
      "5 outliers were found\n",
      "3 outliers were found\n",
      "1 outliers were found\n",
      "25 outliers were found\n"
     ]
    }
   ],
   "source": [
    "data_help = outliers.fit(data, verbose = True, how = 'iqr', impute = 'extremes')[0]"
   ]
  },
  {
   "cell_type": "code",
   "execution_count": 13,
   "id": "abstract-albuquerque",
   "metadata": {},
   "outputs": [],
   "source": [
    "data_help.index = data.index #don't forget the country name"
   ]
  },
  {
   "cell_type": "code",
   "execution_count": 14,
   "id": "random-happening",
   "metadata": {},
   "outputs": [
    {
     "data": {
      "text/html": [
       "<div>\n",
       "<style scoped>\n",
       "    .dataframe tbody tr th:only-of-type {\n",
       "        vertical-align: middle;\n",
       "    }\n",
       "\n",
       "    .dataframe tbody tr th {\n",
       "        vertical-align: top;\n",
       "    }\n",
       "\n",
       "    .dataframe thead th {\n",
       "        text-align: right;\n",
       "    }\n",
       "</style>\n",
       "<table border=\"1\" class=\"dataframe\">\n",
       "  <thead>\n",
       "    <tr style=\"text-align: right;\">\n",
       "      <th></th>\n",
       "      <th>child_mort</th>\n",
       "      <th>exports</th>\n",
       "      <th>health</th>\n",
       "      <th>imports</th>\n",
       "      <th>income</th>\n",
       "      <th>inflation</th>\n",
       "      <th>life_expec</th>\n",
       "      <th>total_fer</th>\n",
       "      <th>gdpp</th>\n",
       "    </tr>\n",
       "    <tr>\n",
       "      <th>country</th>\n",
       "      <th></th>\n",
       "      <th></th>\n",
       "      <th></th>\n",
       "      <th></th>\n",
       "      <th></th>\n",
       "      <th></th>\n",
       "      <th></th>\n",
       "      <th></th>\n",
       "      <th></th>\n",
       "    </tr>\n",
       "  </thead>\n",
       "  <tbody>\n",
       "    <tr>\n",
       "      <th>Afghanistan</th>\n",
       "      <td>90.2</td>\n",
       "      <td>10.0</td>\n",
       "      <td>7.58</td>\n",
       "      <td>44.9</td>\n",
       "      <td>1610.0</td>\n",
       "      <td>9.44</td>\n",
       "      <td>56.2</td>\n",
       "      <td>5.82</td>\n",
       "      <td>553</td>\n",
       "    </tr>\n",
       "    <tr>\n",
       "      <th>Albania</th>\n",
       "      <td>16.6</td>\n",
       "      <td>28.0</td>\n",
       "      <td>6.55</td>\n",
       "      <td>48.6</td>\n",
       "      <td>9930.0</td>\n",
       "      <td>4.49</td>\n",
       "      <td>76.3</td>\n",
       "      <td>1.65</td>\n",
       "      <td>4090</td>\n",
       "    </tr>\n",
       "    <tr>\n",
       "      <th>Algeria</th>\n",
       "      <td>27.3</td>\n",
       "      <td>38.4</td>\n",
       "      <td>4.17</td>\n",
       "      <td>31.4</td>\n",
       "      <td>12900.0</td>\n",
       "      <td>16.10</td>\n",
       "      <td>76.5</td>\n",
       "      <td>2.89</td>\n",
       "      <td>4460</td>\n",
       "    </tr>\n",
       "    <tr>\n",
       "      <th>Angola</th>\n",
       "      <td>119.0</td>\n",
       "      <td>62.3</td>\n",
       "      <td>2.85</td>\n",
       "      <td>42.9</td>\n",
       "      <td>5900.0</td>\n",
       "      <td>22.40</td>\n",
       "      <td>60.1</td>\n",
       "      <td>6.16</td>\n",
       "      <td>3530</td>\n",
       "    </tr>\n",
       "    <tr>\n",
       "      <th>Antigua and Barbuda</th>\n",
       "      <td>10.3</td>\n",
       "      <td>45.5</td>\n",
       "      <td>6.03</td>\n",
       "      <td>58.9</td>\n",
       "      <td>19100.0</td>\n",
       "      <td>1.44</td>\n",
       "      <td>76.8</td>\n",
       "      <td>2.13</td>\n",
       "      <td>12200</td>\n",
       "    </tr>\n",
       "  </tbody>\n",
       "</table>\n",
       "</div>"
      ],
      "text/plain": [
       "                     child_mort  exports  health  imports   income  inflation  \\\n",
       "country                                                                         \n",
       "Afghanistan                90.2     10.0    7.58     44.9   1610.0       9.44   \n",
       "Albania                    16.6     28.0    6.55     48.6   9930.0       4.49   \n",
       "Algeria                    27.3     38.4    4.17     31.4  12900.0      16.10   \n",
       "Angola                    119.0     62.3    2.85     42.9   5900.0      22.40   \n",
       "Antigua and Barbuda        10.3     45.5    6.03     58.9  19100.0       1.44   \n",
       "\n",
       "                     life_expec  total_fer   gdpp  \n",
       "country                                            \n",
       "Afghanistan                56.2       5.82    553  \n",
       "Albania                    76.3       1.65   4090  \n",
       "Algeria                    76.5       2.89   4460  \n",
       "Angola                     60.1       6.16   3530  \n",
       "Antigua and Barbuda        76.8       2.13  12200  "
      ]
     },
     "execution_count": 14,
     "metadata": {},
     "output_type": "execute_result"
    }
   ],
   "source": [
    "data_help.head()"
   ]
  },
  {
   "cell_type": "code",
   "execution_count": 15,
   "id": "other-hypothetical",
   "metadata": {},
   "outputs": [
    {
     "data": {
      "image/png": "[encoded data removed]",
      "text/plain": [
       "<Figure size 1080x540 with 9 Axes>"
      ]
     },
     "metadata": {
      "needs_background": "light"
     },
     "output_type": "display_data"
    }
   ],
   "source": [
    "fig, axs = plt.subplots(3,3, figsize = (15,7.5))\n",
    "\n",
    "plt1 = sns.boxplot(data_help['child_mort'], ax = axs[0,0])\n",
    "plt2 = sns.boxplot(data_help['health'], ax = axs[0,1])\n",
    "plt3 = sns.boxplot(data_help['life_expec'], ax = axs[0,2])\n",
    "plt4 = sns.boxplot(data_help['total_fer'], ax = axs[1,0])\n",
    "plt5 = sns.boxplot(data_help['income'], ax = axs[1,1])\n",
    "plt6 = sns.boxplot(data_help['inflation'], ax = axs[1,2])\n",
    "plt7 = sns.boxplot(data_help['gdpp'], ax = axs[2,0])\n",
    "plt8 = sns.boxplot(data_help['imports'], ax = axs[2,1])\n",
    "plt9 = sns.boxplot(data_help['exports'], ax = axs[2,2])\n",
    "\n",
    "\n",
    "plt.tight_layout()"
   ]
  },
  {
   "cell_type": "code",
   "execution_count": 16,
   "id": "geographic-durham",
   "metadata": {},
   "outputs": [],
   "source": [
    "# Create a scaling object\n",
    "scaler = StandardScaler()"
   ]
  },
  {
   "cell_type": "code",
   "execution_count": 17,
   "id": "accepted-richardson",
   "metadata": {},
   "outputs": [],
   "source": [
    "# Scale these variables using 'fit_transform'\n",
    "data_help = scaler.fit_transform(data_help)"
   ]
  },
  {
   "cell_type": "code",
   "execution_count": 18,
   "id": "international-playlist",
   "metadata": {},
   "outputs": [
    {
     "data": {
      "text/plain": [
       "array([[ 1.36980194, -1.39110684,  0.29601312, ..., -1.70222504,\n",
       "         1.91527602, -0.84634107],\n",
       "       [-0.55046422, -0.54354731, -0.09119005, ...,  0.66332125,\n",
       "        -0.86277926, -0.54082746],\n",
       "       [-0.27129509, -0.05384625, -0.98589252, ...,  0.68685903,\n",
       "        -0.03669088, -0.50886816],\n",
       "       ...,\n",
       "       [-0.37565738,  1.52826487,  0.01782832, ...,  0.28671687,\n",
       "        -0.66291917, -0.78095407],\n",
       "       [ 0.48533152, -0.44937403, -0.60620786, ..., -0.37234081,\n",
       "         1.14914567, -0.78095407],\n",
       "       [ 1.18455887, -0.11976755, -0.33930082, ..., -2.19651829,\n",
       "         1.63547189, -0.7679976 ]])"
      ]
     },
     "execution_count": 18,
     "metadata": {},
     "output_type": "execute_result"
    }
   ],
   "source": [
    "data_help"
   ]
  },
  {
   "cell_type": "markdown",
   "id": "behavioral-spectacular",
   "metadata": {},
   "source": [
    "## PCA on the Data\n",
    "\n",
    "[PCA in sklearn](https://scikit-learn.org/stable/modules/generated/sklearn.decomposition.PCA.html)"
   ]
  },
  {
   "cell_type": "code",
   "execution_count": 19,
   "id": "fuzzy-significance",
   "metadata": {},
   "outputs": [],
   "source": [
    "pca = PCA()"
   ]
  },
  {
   "cell_type": "code",
   "execution_count": 20,
   "id": "going-green",
   "metadata": {},
   "outputs": [
    {
     "data": {
      "text/plain": [
       "PCA()"
      ]
     },
     "execution_count": 20,
     "metadata": {},
     "output_type": "execute_result"
    }
   ],
   "source": [
    "pca.fit(data_help)"
   ]
  },
  {
   "cell_type": "code",
   "execution_count": 21,
   "id": "african-incidence",
   "metadata": {},
   "outputs": [
    {
     "data": {
      "image/png": "[encoded data removed]",
      "text/plain": [
       "<Figure size 936x576 with 1 Axes>"
      ]
     },
     "metadata": {
      "needs_background": "light"
     },
     "output_type": "display_data"
    }
   ],
   "source": [
    "fig, ax = plt.subplots(figsize = (13, 8))\n",
    "cum_var_exp = np.cumsum(pca.explained_variance_ratio_)\n",
    "\n",
    "ax.bar(range(1, len(pca.explained_variance_ratio_) + 1), pca.explained_variance_ratio_, alpha=0.5, align='center',\n",
    "        label='Explained variance ratio', color='g')\n",
    "ax.step(range(1, len(pca.explained_variance_ratio_) + 1), cum_var_exp, where='mid', color = 'b', alpha = 0.7,\n",
    "        linestyle='--', label='Cumulative Explained variance ratio')\n",
    "\n",
    "ax.set_xlabel('Number of components', fontsize = 15)\n",
    "ax.set_ylabel('Explained variance', fontsize = 15);"
   ]
  },
  {
   "cell_type": "code",
   "execution_count": 22,
   "id": "southwest-africa",
   "metadata": {},
   "outputs": [
    {
     "ename": "ValueError",
     "evalue": "shape mismatch: objects cannot be broadcast to a single shape",
     "output_type": "error",
     "traceback": [
      "\u001b[1;31m---------------------------------------------------------------------------\u001b[0m",
      "\u001b[1;31mValueError\u001b[0m                                Traceback (most recent call last)",
      "\u001b[1;32m<ipython-input-22-af74821ce138>\u001b[0m in \u001b[0;36m<module>\u001b[1;34m\u001b[0m\n\u001b[1;32m----> 1\u001b[1;33m \u001b[0mdp\u001b[0m\u001b[1;33m.\u001b[0m\u001b[0mplot_evr\u001b[0m\u001b[1;33m(\u001b[0m\u001b[0mpca\u001b[0m\u001b[1;33m.\u001b[0m\u001b[0mexplained_variance_ratio_\u001b[0m\u001b[1;33m)\u001b[0m\u001b[1;33m\u001b[0m\u001b[1;33m\u001b[0m\u001b[0m\n\u001b[0m",
      "\u001b[1;32mD:\\Jupyter\\Python Bootcamp\\Diplomado 2021\\Clases\\Matemáticas\\PCA\\dprocessing.py\u001b[0m in \u001b[0;36mplot_evr\u001b[1;34m(evr)\u001b[0m\n\u001b[0;32m    710\u001b[0m     \u001b[0mcum_var_exp\u001b[0m \u001b[1;33m=\u001b[0m \u001b[0mnp\u001b[0m\u001b[1;33m.\u001b[0m\u001b[0mcumsum\u001b[0m\u001b[1;33m(\u001b[0m\u001b[0mevr\u001b[0m\u001b[1;33m)\u001b[0m\u001b[1;33m\u001b[0m\u001b[1;33m\u001b[0m\u001b[0m\n\u001b[0;32m    711\u001b[0m \u001b[1;33m\u001b[0m\u001b[0m\n\u001b[1;32m--> 712\u001b[1;33m     ax.bar(range(1, len(evr + 1)), evr, \n\u001b[0m\u001b[0;32m    713\u001b[0m            \u001b[0malpha\u001b[0m \u001b[1;33m=\u001b[0m \u001b[1;36m0.5\u001b[0m\u001b[1;33m,\u001b[0m\u001b[1;33m\u001b[0m\u001b[1;33m\u001b[0m\u001b[0m\n\u001b[0;32m    714\u001b[0m            \u001b[0malign\u001b[0m \u001b[1;33m=\u001b[0m \u001b[1;34m'center'\u001b[0m\u001b[1;33m,\u001b[0m\u001b[1;33m\u001b[0m\u001b[1;33m\u001b[0m\u001b[0m\n",
      "\u001b[1;32mD:\\Anaconda\\lib\\site-packages\\matplotlib\\__init__.py\u001b[0m in \u001b[0;36minner\u001b[1;34m(ax, data, *args, **kwargs)\u001b[0m\n\u001b[0;32m   1445\u001b[0m     \u001b[1;32mdef\u001b[0m \u001b[0minner\u001b[0m\u001b[1;33m(\u001b[0m\u001b[0max\u001b[0m\u001b[1;33m,\u001b[0m \u001b[1;33m*\u001b[0m\u001b[0margs\u001b[0m\u001b[1;33m,\u001b[0m \u001b[0mdata\u001b[0m\u001b[1;33m=\u001b[0m\u001b[1;32mNone\u001b[0m\u001b[1;33m,\u001b[0m \u001b[1;33m**\u001b[0m\u001b[0mkwargs\u001b[0m\u001b[1;33m)\u001b[0m\u001b[1;33m:\u001b[0m\u001b[1;33m\u001b[0m\u001b[1;33m\u001b[0m\u001b[0m\n\u001b[0;32m   1446\u001b[0m         \u001b[1;32mif\u001b[0m \u001b[0mdata\u001b[0m \u001b[1;32mis\u001b[0m \u001b[1;32mNone\u001b[0m\u001b[1;33m:\u001b[0m\u001b[1;33m\u001b[0m\u001b[1;33m\u001b[0m\u001b[0m\n\u001b[1;32m-> 1447\u001b[1;33m             \u001b[1;32mreturn\u001b[0m \u001b[0mfunc\u001b[0m\u001b[1;33m(\u001b[0m\u001b[0max\u001b[0m\u001b[1;33m,\u001b[0m \u001b[1;33m*\u001b[0m\u001b[0mmap\u001b[0m\u001b[1;33m(\u001b[0m\u001b[0msanitize_sequence\u001b[0m\u001b[1;33m,\u001b[0m \u001b[0margs\u001b[0m\u001b[1;33m)\u001b[0m\u001b[1;33m,\u001b[0m \u001b[1;33m**\u001b[0m\u001b[0mkwargs\u001b[0m\u001b[1;33m)\u001b[0m\u001b[1;33m\u001b[0m\u001b[1;33m\u001b[0m\u001b[0m\n\u001b[0m\u001b[0;32m   1448\u001b[0m \u001b[1;33m\u001b[0m\u001b[0m\n\u001b[0;32m   1449\u001b[0m         \u001b[0mbound\u001b[0m \u001b[1;33m=\u001b[0m \u001b[0mnew_sig\u001b[0m\u001b[1;33m.\u001b[0m\u001b[0mbind\u001b[0m\u001b[1;33m(\u001b[0m\u001b[0max\u001b[0m\u001b[1;33m,\u001b[0m \u001b[1;33m*\u001b[0m\u001b[0margs\u001b[0m\u001b[1;33m,\u001b[0m \u001b[1;33m**\u001b[0m\u001b[0mkwargs\u001b[0m\u001b[1;33m)\u001b[0m\u001b[1;33m\u001b[0m\u001b[1;33m\u001b[0m\u001b[0m\n",
      "\u001b[1;32mD:\\Anaconda\\lib\\site-packages\\matplotlib\\axes\\_axes.py\u001b[0m in \u001b[0;36mbar\u001b[1;34m(self, x, height, width, bottom, align, **kwargs)\u001b[0m\n\u001b[0;32m   2428\u001b[0m                 \u001b[0myerr\u001b[0m \u001b[1;33m=\u001b[0m \u001b[0mself\u001b[0m\u001b[1;33m.\u001b[0m\u001b[0m_convert_dx\u001b[0m\u001b[1;33m(\u001b[0m\u001b[0myerr\u001b[0m\u001b[1;33m,\u001b[0m \u001b[0my0\u001b[0m\u001b[1;33m,\u001b[0m \u001b[0my\u001b[0m\u001b[1;33m,\u001b[0m \u001b[0mself\u001b[0m\u001b[1;33m.\u001b[0m\u001b[0mconvert_yunits\u001b[0m\u001b[1;33m)\u001b[0m\u001b[1;33m\u001b[0m\u001b[1;33m\u001b[0m\u001b[0m\n\u001b[0;32m   2429\u001b[0m \u001b[1;33m\u001b[0m\u001b[0m\n\u001b[1;32m-> 2430\u001b[1;33m         x, height, width, y, linewidth = np.broadcast_arrays(\n\u001b[0m\u001b[0;32m   2431\u001b[0m             \u001b[1;31m# Make args iterable too.\u001b[0m\u001b[1;33m\u001b[0m\u001b[1;33m\u001b[0m\u001b[1;33m\u001b[0m\u001b[0m\n\u001b[0;32m   2432\u001b[0m             np.atleast_1d(x), height, width, y, linewidth)\n",
      "\u001b[1;32m<__array_function__ internals>\u001b[0m in \u001b[0;36mbroadcast_arrays\u001b[1;34m(*args, **kwargs)\u001b[0m\n",
      "\u001b[1;32mD:\\Anaconda\\lib\\site-packages\\numpy\\lib\\stride_tricks.py\u001b[0m in \u001b[0;36mbroadcast_arrays\u001b[1;34m(subok, *args)\u001b[0m\n\u001b[0;32m    256\u001b[0m     \u001b[0margs\u001b[0m \u001b[1;33m=\u001b[0m \u001b[1;33m[\u001b[0m\u001b[0mnp\u001b[0m\u001b[1;33m.\u001b[0m\u001b[0marray\u001b[0m\u001b[1;33m(\u001b[0m\u001b[0m_m\u001b[0m\u001b[1;33m,\u001b[0m \u001b[0mcopy\u001b[0m\u001b[1;33m=\u001b[0m\u001b[1;32mFalse\u001b[0m\u001b[1;33m,\u001b[0m \u001b[0msubok\u001b[0m\u001b[1;33m=\u001b[0m\u001b[0msubok\u001b[0m\u001b[1;33m)\u001b[0m \u001b[1;32mfor\u001b[0m \u001b[0m_m\u001b[0m \u001b[1;32min\u001b[0m \u001b[0margs\u001b[0m\u001b[1;33m]\u001b[0m\u001b[1;33m\u001b[0m\u001b[1;33m\u001b[0m\u001b[0m\n\u001b[0;32m    257\u001b[0m \u001b[1;33m\u001b[0m\u001b[0m\n\u001b[1;32m--> 258\u001b[1;33m     \u001b[0mshape\u001b[0m \u001b[1;33m=\u001b[0m \u001b[0m_broadcast_shape\u001b[0m\u001b[1;33m(\u001b[0m\u001b[1;33m*\u001b[0m\u001b[0margs\u001b[0m\u001b[1;33m)\u001b[0m\u001b[1;33m\u001b[0m\u001b[1;33m\u001b[0m\u001b[0m\n\u001b[0m\u001b[0;32m    259\u001b[0m \u001b[1;33m\u001b[0m\u001b[0m\n\u001b[0;32m    260\u001b[0m     \u001b[1;32mif\u001b[0m \u001b[0mall\u001b[0m\u001b[1;33m(\u001b[0m\u001b[0marray\u001b[0m\u001b[1;33m.\u001b[0m\u001b[0mshape\u001b[0m \u001b[1;33m==\u001b[0m \u001b[0mshape\u001b[0m \u001b[1;32mfor\u001b[0m \u001b[0marray\u001b[0m \u001b[1;32min\u001b[0m \u001b[0margs\u001b[0m\u001b[1;33m)\u001b[0m\u001b[1;33m:\u001b[0m\u001b[1;33m\u001b[0m\u001b[1;33m\u001b[0m\u001b[0m\n",
      "\u001b[1;32mD:\\Anaconda\\lib\\site-packages\\numpy\\lib\\stride_tricks.py\u001b[0m in \u001b[0;36m_broadcast_shape\u001b[1;34m(*args)\u001b[0m\n\u001b[0;32m    187\u001b[0m     \u001b[1;31m# use the old-iterator because np.nditer does not handle size 0 arrays\u001b[0m\u001b[1;33m\u001b[0m\u001b[1;33m\u001b[0m\u001b[1;33m\u001b[0m\u001b[0m\n\u001b[0;32m    188\u001b[0m     \u001b[1;31m# consistently\u001b[0m\u001b[1;33m\u001b[0m\u001b[1;33m\u001b[0m\u001b[1;33m\u001b[0m\u001b[0m\n\u001b[1;32m--> 189\u001b[1;33m     \u001b[0mb\u001b[0m \u001b[1;33m=\u001b[0m \u001b[0mnp\u001b[0m\u001b[1;33m.\u001b[0m\u001b[0mbroadcast\u001b[0m\u001b[1;33m(\u001b[0m\u001b[1;33m*\u001b[0m\u001b[0margs\u001b[0m\u001b[1;33m[\u001b[0m\u001b[1;33m:\u001b[0m\u001b[1;36m32\u001b[0m\u001b[1;33m]\u001b[0m\u001b[1;33m)\u001b[0m\u001b[1;33m\u001b[0m\u001b[1;33m\u001b[0m\u001b[0m\n\u001b[0m\u001b[0;32m    190\u001b[0m     \u001b[1;31m# unfortunately, it cannot handle 32 or more arguments directly\u001b[0m\u001b[1;33m\u001b[0m\u001b[1;33m\u001b[0m\u001b[1;33m\u001b[0m\u001b[0m\n\u001b[0;32m    191\u001b[0m     \u001b[1;32mfor\u001b[0m \u001b[0mpos\u001b[0m \u001b[1;32min\u001b[0m \u001b[0mrange\u001b[0m\u001b[1;33m(\u001b[0m\u001b[1;36m32\u001b[0m\u001b[1;33m,\u001b[0m \u001b[0mlen\u001b[0m\u001b[1;33m(\u001b[0m\u001b[0margs\u001b[0m\u001b[1;33m)\u001b[0m\u001b[1;33m,\u001b[0m \u001b[1;36m31\u001b[0m\u001b[1;33m)\u001b[0m\u001b[1;33m:\u001b[0m\u001b[1;33m\u001b[0m\u001b[1;33m\u001b[0m\u001b[0m\n",
      "\u001b[1;31mValueError\u001b[0m: shape mismatch: objects cannot be broadcast to a single shape"
     ]
    },
    {
     "data": {
      "image/png": "[encoded data removed]",
      "text/plain": [
       "<Figure size 936x576 with 1 Axes>"
      ]
     },
     "metadata": {
      "needs_background": "light"
     },
     "output_type": "display_data"
    }
   ],
   "source": [
    "dp.plot_evr(pca.explained_variance_ratio_)"
   ]
  },
  {
   "cell_type": "markdown",
   "id": "naval-learning",
   "metadata": {},
   "source": [
    "#### Parece que 5 componentes son suficientes para describir el 95% de la varianza en el conjunto de datos\n",
    "Elegiremos 5 componentes para nuestro modelado"
   ]
  },
  {
   "cell_type": "code",
   "execution_count": null,
   "id": "compact-newcastle",
   "metadata": {},
   "outputs": [],
   "source": [
    "pca = PCA(n_components = 5)"
   ]
  },
  {
   "cell_type": "code",
   "execution_count": null,
   "id": "christian-anthropology",
   "metadata": {},
   "outputs": [],
   "source": [
    "df_pca = pca.fit_transform(data_help)\n",
    "df_pca.shape"
   ]
  },
  {
   "cell_type": "code",
   "execution_count": null,
   "id": "structural-defeat",
   "metadata": {},
   "outputs": [],
   "source": [
    "df_pca"
   ]
  },
  {
   "cell_type": "code",
   "execution_count": null,
   "id": "reflected-geography",
   "metadata": {},
   "outputs": [],
   "source": [
    "np.corrcoef(df_pca.T)"
   ]
  },
  {
   "cell_type": "code",
   "execution_count": null,
   "id": "wicked-twelve",
   "metadata": {},
   "outputs": [],
   "source": [
    "?np.corrcoef"
   ]
  },
  {
   "cell_type": "code",
   "execution_count": null,
   "id": "fossil-solid",
   "metadata": {},
   "outputs": [],
   "source": [
    "help(np.corrcoef)"
   ]
  },
  {
   "cell_type": "code",
   "execution_count": null,
   "id": "expired-model",
   "metadata": {},
   "outputs": [],
   "source": [
    "df_pca = pd.DataFrame(df_pca)\n",
    "df_pca.index = data.index\n",
    "df_pca.columns = ['PC{}'.format(i) for i in range(1, 6)]\n",
    "df_pca.head()"
   ]
  },
  {
   "cell_type": "code",
   "execution_count": null,
   "id": "hidden-editing",
   "metadata": {},
   "outputs": [],
   "source": [
    "fig, ax = plt.subplots(figsize = (13, 8))\n",
    "\n",
    "sns.heatmap(df_pca.corr(), ax = ax, annot = True);"
   ]
  },
  {
   "cell_type": "markdown",
   "id": "variable-tyler",
   "metadata": {},
   "source": [
    "[Regresar al contenido](#Contenido)"
   ]
  }
 ],
 "metadata": {
  "kernelspec": {
   "display_name": "Python 3",
   "language": "python",
   "name": "python3"
  },
  "language_info": {
   "codemirror_mode": {
    "name": "ipython",
    "version": 3
   },
   "file_extension": ".py",
   "mimetype": "text/x-python",
   "name": "python",
   "nbconvert_exporter": "python",
   "pygments_lexer": "ipython3",
   "version": "3.8.5"
  }
 },
 "nbformat": 4,
 "nbformat_minor": 5
}
