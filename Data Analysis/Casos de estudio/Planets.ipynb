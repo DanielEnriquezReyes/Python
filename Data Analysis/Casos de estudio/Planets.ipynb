{
 "cells": [
  {
   "cell_type": "markdown",
   "id": "advance-facial",
   "metadata": {},
   "source": [
    "<hr>\n",
    "<h1>Exoplanets</h1>"
   ]
  },
  {
   "cell_type": "code",
   "execution_count": 1,
   "id": "russian-creator",
   "metadata": {},
   "outputs": [],
   "source": [
    "import pandas as pd\n",
    "import numpy as np\n",
    "import matplotlib.pyplot as plt\n",
    "import seaborn as sns\n",
    "%matplotlib inline"
   ]
  },
  {
   "cell_type": "code",
   "execution_count": 2,
   "id": "soviet-repeat",
   "metadata": {},
   "outputs": [],
   "source": [
    "planets = sns.load_dataset('planets')"
   ]
  },
  {
   "cell_type": "code",
   "execution_count": 3,
   "id": "duplicate-uruguay",
   "metadata": {},
   "outputs": [
    {
     "data": {
      "text/html": [
       "<div>\n",
       "<style scoped>\n",
       "    .dataframe tbody tr th:only-of-type {\n",
       "        vertical-align: middle;\n",
       "    }\n",
       "\n",
       "    .dataframe tbody tr th {\n",
       "        vertical-align: top;\n",
       "    }\n",
       "\n",
       "    .dataframe thead th {\n",
       "        text-align: right;\n",
       "    }\n",
       "</style>\n",
       "<table border=\"1\" class=\"dataframe\">\n",
       "  <thead>\n",
       "    <tr style=\"text-align: right;\">\n",
       "      <th></th>\n",
       "      <th>method</th>\n",
       "      <th>number</th>\n",
       "      <th>orbital_period</th>\n",
       "      <th>mass</th>\n",
       "      <th>distance</th>\n",
       "      <th>year</th>\n",
       "    </tr>\n",
       "  </thead>\n",
       "  <tbody>\n",
       "    <tr>\n",
       "      <th>0</th>\n",
       "      <td>Radial Velocity</td>\n",
       "      <td>1</td>\n",
       "      <td>269.300</td>\n",
       "      <td>7.10</td>\n",
       "      <td>77.40</td>\n",
       "      <td>2006</td>\n",
       "    </tr>\n",
       "    <tr>\n",
       "      <th>1</th>\n",
       "      <td>Radial Velocity</td>\n",
       "      <td>1</td>\n",
       "      <td>874.774</td>\n",
       "      <td>2.21</td>\n",
       "      <td>56.95</td>\n",
       "      <td>2008</td>\n",
       "    </tr>\n",
       "    <tr>\n",
       "      <th>2</th>\n",
       "      <td>Radial Velocity</td>\n",
       "      <td>1</td>\n",
       "      <td>763.000</td>\n",
       "      <td>2.60</td>\n",
       "      <td>19.84</td>\n",
       "      <td>2011</td>\n",
       "    </tr>\n",
       "    <tr>\n",
       "      <th>3</th>\n",
       "      <td>Radial Velocity</td>\n",
       "      <td>1</td>\n",
       "      <td>326.030</td>\n",
       "      <td>19.40</td>\n",
       "      <td>110.62</td>\n",
       "      <td>2007</td>\n",
       "    </tr>\n",
       "    <tr>\n",
       "      <th>4</th>\n",
       "      <td>Radial Velocity</td>\n",
       "      <td>1</td>\n",
       "      <td>516.220</td>\n",
       "      <td>10.50</td>\n",
       "      <td>119.47</td>\n",
       "      <td>2009</td>\n",
       "    </tr>\n",
       "  </tbody>\n",
       "</table>\n",
       "</div>"
      ],
      "text/plain": [
       "            method  number  orbital_period   mass  distance  year\n",
       "0  Radial Velocity       1         269.300   7.10     77.40  2006\n",
       "1  Radial Velocity       1         874.774   2.21     56.95  2008\n",
       "2  Radial Velocity       1         763.000   2.60     19.84  2011\n",
       "3  Radial Velocity       1         326.030  19.40    110.62  2007\n",
       "4  Radial Velocity       1         516.220  10.50    119.47  2009"
      ]
     },
     "execution_count": 3,
     "metadata": {},
     "output_type": "execute_result"
    }
   ],
   "source": [
    "planets.head()"
   ]
  },
  {
   "cell_type": "code",
   "execution_count": 4,
   "id": "fossil-hypothesis",
   "metadata": {},
   "outputs": [
    {
     "data": {
      "text/html": [
       "<div>\n",
       "<style scoped>\n",
       "    .dataframe tbody tr th:only-of-type {\n",
       "        vertical-align: middle;\n",
       "    }\n",
       "\n",
       "    .dataframe tbody tr th {\n",
       "        vertical-align: top;\n",
       "    }\n",
       "\n",
       "    .dataframe thead th {\n",
       "        text-align: right;\n",
       "    }\n",
       "</style>\n",
       "<table border=\"1\" class=\"dataframe\">\n",
       "  <thead>\n",
       "    <tr style=\"text-align: right;\">\n",
       "      <th></th>\n",
       "      <th>method</th>\n",
       "      <th>number</th>\n",
       "      <th>orbital_period</th>\n",
       "      <th>mass</th>\n",
       "      <th>distance</th>\n",
       "      <th>year</th>\n",
       "    </tr>\n",
       "  </thead>\n",
       "  <tbody>\n",
       "    <tr>\n",
       "      <th>1030</th>\n",
       "      <td>Transit</td>\n",
       "      <td>1</td>\n",
       "      <td>3.941507</td>\n",
       "      <td>NaN</td>\n",
       "      <td>172.0</td>\n",
       "      <td>2006</td>\n",
       "    </tr>\n",
       "    <tr>\n",
       "      <th>1031</th>\n",
       "      <td>Transit</td>\n",
       "      <td>1</td>\n",
       "      <td>2.615864</td>\n",
       "      <td>NaN</td>\n",
       "      <td>148.0</td>\n",
       "      <td>2007</td>\n",
       "    </tr>\n",
       "    <tr>\n",
       "      <th>1032</th>\n",
       "      <td>Transit</td>\n",
       "      <td>1</td>\n",
       "      <td>3.191524</td>\n",
       "      <td>NaN</td>\n",
       "      <td>174.0</td>\n",
       "      <td>2007</td>\n",
       "    </tr>\n",
       "    <tr>\n",
       "      <th>1033</th>\n",
       "      <td>Transit</td>\n",
       "      <td>1</td>\n",
       "      <td>4.125083</td>\n",
       "      <td>NaN</td>\n",
       "      <td>293.0</td>\n",
       "      <td>2008</td>\n",
       "    </tr>\n",
       "    <tr>\n",
       "      <th>1034</th>\n",
       "      <td>Transit</td>\n",
       "      <td>1</td>\n",
       "      <td>4.187757</td>\n",
       "      <td>NaN</td>\n",
       "      <td>260.0</td>\n",
       "      <td>2008</td>\n",
       "    </tr>\n",
       "  </tbody>\n",
       "</table>\n",
       "</div>"
      ],
      "text/plain": [
       "       method  number  orbital_period  mass  distance  year\n",
       "1030  Transit       1        3.941507   NaN     172.0  2006\n",
       "1031  Transit       1        2.615864   NaN     148.0  2007\n",
       "1032  Transit       1        3.191524   NaN     174.0  2007\n",
       "1033  Transit       1        4.125083   NaN     293.0  2008\n",
       "1034  Transit       1        4.187757   NaN     260.0  2008"
      ]
     },
     "execution_count": 4,
     "metadata": {},
     "output_type": "execute_result"
    }
   ],
   "source": [
    "planets.tail()"
   ]
  },
  {
   "cell_type": "code",
   "execution_count": 5,
   "id": "exempt-lying",
   "metadata": {},
   "outputs": [
    {
     "data": {
      "text/plain": [
       "(1035, 6)"
      ]
     },
     "execution_count": 5,
     "metadata": {},
     "output_type": "execute_result"
    }
   ],
   "source": [
    "planets.shape"
   ]
  },
  {
   "cell_type": "code",
   "execution_count": 6,
   "id": "concerned-lewis",
   "metadata": {},
   "outputs": [
    {
     "name": "stdout",
     "output_type": "stream",
     "text": [
      "<class 'pandas.core.frame.DataFrame'>\n",
      "RangeIndex: 1035 entries, 0 to 1034\n",
      "Data columns (total 6 columns):\n",
      " #   Column          Non-Null Count  Dtype  \n",
      "---  ------          --------------  -----  \n",
      " 0   method          1035 non-null   object \n",
      " 1   number          1035 non-null   int64  \n",
      " 2   orbital_period  992 non-null    float64\n",
      " 3   mass            513 non-null    float64\n",
      " 4   distance        808 non-null    float64\n",
      " 5   year            1035 non-null   int64  \n",
      "dtypes: float64(3), int64(2), object(1)\n",
      "memory usage: 48.6+ KB\n"
     ]
    }
   ],
   "source": [
    "planets.info()"
   ]
  },
  {
   "cell_type": "markdown",
   "id": "specialized-growth",
   "metadata": {},
   "source": [
    "<img src=\"Exoplanetas.gif\" width = 200 height = 200> "
   ]
  },
  {
   "cell_type": "code",
   "execution_count": 7,
   "id": "tribal-sigma",
   "metadata": {},
   "outputs": [
    {
     "data": {
      "text/plain": [
       "Radial Velocity                  553\n",
       "Transit                          397\n",
       "Imaging                           38\n",
       "Microlensing                      23\n",
       "Eclipse Timing Variations          9\n",
       "Pulsar Timing                      5\n",
       "Transit Timing Variations          4\n",
       "Orbital Brightness Modulation      3\n",
       "Astrometry                         2\n",
       "Pulsation Timing Variations        1\n",
       "Name: method, dtype: int64"
      ]
     },
     "execution_count": 7,
     "metadata": {},
     "output_type": "execute_result"
    }
   ],
   "source": [
    "planets['method'].value_counts()"
   ]
  },
  {
   "cell_type": "code",
   "execution_count": 8,
   "id": "fifteen-radiation",
   "metadata": {},
   "outputs": [],
   "source": [
    "planets['method'] = planets['method'].astype('category')"
   ]
  },
  {
   "cell_type": "markdown",
   "id": "fabulous-spider",
   "metadata": {},
   "source": [
    "<h3>Time Analisys</h3>"
   ]
  },
  {
   "cell_type": "code",
   "execution_count": 9,
   "id": "empty-bruce",
   "metadata": {},
   "outputs": [
    {
     "data": {
      "text/plain": [
       "2011    185\n",
       "2012    140\n",
       "2013    118\n",
       "2010    102\n",
       "2009     98\n",
       "2008     74\n",
       "2007     53\n",
       "2014     52\n",
       "2005     39\n",
       "2002     32\n",
       "2006     31\n",
       "2004     26\n",
       "2003     25\n",
       "2000     16\n",
       "1999     15\n",
       "2001     12\n",
       "1996      6\n",
       "1998      5\n",
       "1992      2\n",
       "1995      1\n",
       "1997      1\n",
       "1989      1\n",
       "1994      1\n",
       "Name: year, dtype: int64"
      ]
     },
     "execution_count": 9,
     "metadata": {},
     "output_type": "execute_result"
    }
   ],
   "source": [
    "planets['year'].value_counts()"
   ]
  },
  {
   "cell_type": "code",
   "execution_count": 10,
   "id": "optimum-racing",
   "metadata": {},
   "outputs": [],
   "source": [
    "years = planets['year'].value_counts()\n",
    "years.sort_index(inplace = True)"
   ]
  },
  {
   "cell_type": "code",
   "execution_count": 11,
   "id": "designing-cause",
   "metadata": {},
   "outputs": [
    {
     "data": {
      "image/png": "[encoded data removed]",
      "text/plain": [
       "<Figure size 1080x576 with 1 Axes>"
      ]
     },
     "metadata": {
      "needs_background": "light"
     },
     "output_type": "display_data"
    }
   ],
   "source": [
    "fig, ax = plt.subplots(figsize = (15, 8))\n",
    "\n",
    "ax.plot(years.index, years.values)\n",
    "ax.set_title('Planets Discovered per Year', fontsize = 15)\n",
    "ax.axvline(2009, color = 'r', alpha = 0.7);"
   ]
  },
  {
   "cell_type": "markdown",
   "id": "spatial-asbestos",
   "metadata": {},
   "source": [
    "This increase is [Kepler's fault](https://es.wikipedia.org/wiki/Kepler_(telescopio_espacial))"
   ]
  },
  {
   "cell_type": "code",
   "execution_count": 12,
   "id": "interested-chile",
   "metadata": {},
   "outputs": [
    {
     "data": {
      "text/html": [
       "<div>\n",
       "<style scoped>\n",
       "    .dataframe tbody tr th:only-of-type {\n",
       "        vertical-align: middle;\n",
       "    }\n",
       "\n",
       "    .dataframe tbody tr th {\n",
       "        vertical-align: top;\n",
       "    }\n",
       "\n",
       "    .dataframe thead th {\n",
       "        text-align: right;\n",
       "    }\n",
       "</style>\n",
       "<table border=\"1\" class=\"dataframe\">\n",
       "  <thead>\n",
       "    <tr style=\"text-align: right;\">\n",
       "      <th>method</th>\n",
       "      <th>Astrometry</th>\n",
       "      <th>Eclipse Timing Variations</th>\n",
       "      <th>Imaging</th>\n",
       "      <th>Microlensing</th>\n",
       "      <th>Orbital Brightness Modulation</th>\n",
       "      <th>Pulsar Timing</th>\n",
       "      <th>Pulsation Timing Variations</th>\n",
       "      <th>Radial Velocity</th>\n",
       "      <th>Transit</th>\n",
       "      <th>Transit Timing Variations</th>\n",
       "    </tr>\n",
       "    <tr>\n",
       "      <th>year</th>\n",
       "      <th></th>\n",
       "      <th></th>\n",
       "      <th></th>\n",
       "      <th></th>\n",
       "      <th></th>\n",
       "      <th></th>\n",
       "      <th></th>\n",
       "      <th></th>\n",
       "      <th></th>\n",
       "      <th></th>\n",
       "    </tr>\n",
       "  </thead>\n",
       "  <tbody>\n",
       "    <tr>\n",
       "      <th>1989</th>\n",
       "      <td>0</td>\n",
       "      <td>0</td>\n",
       "      <td>0</td>\n",
       "      <td>0</td>\n",
       "      <td>0</td>\n",
       "      <td>0</td>\n",
       "      <td>0</td>\n",
       "      <td>1</td>\n",
       "      <td>0</td>\n",
       "      <td>0</td>\n",
       "    </tr>\n",
       "    <tr>\n",
       "      <th>1992</th>\n",
       "      <td>0</td>\n",
       "      <td>0</td>\n",
       "      <td>0</td>\n",
       "      <td>0</td>\n",
       "      <td>0</td>\n",
       "      <td>2</td>\n",
       "      <td>0</td>\n",
       "      <td>0</td>\n",
       "      <td>0</td>\n",
       "      <td>0</td>\n",
       "    </tr>\n",
       "    <tr>\n",
       "      <th>1994</th>\n",
       "      <td>0</td>\n",
       "      <td>0</td>\n",
       "      <td>0</td>\n",
       "      <td>0</td>\n",
       "      <td>0</td>\n",
       "      <td>1</td>\n",
       "      <td>0</td>\n",
       "      <td>0</td>\n",
       "      <td>0</td>\n",
       "      <td>0</td>\n",
       "    </tr>\n",
       "    <tr>\n",
       "      <th>1995</th>\n",
       "      <td>0</td>\n",
       "      <td>0</td>\n",
       "      <td>0</td>\n",
       "      <td>0</td>\n",
       "      <td>0</td>\n",
       "      <td>0</td>\n",
       "      <td>0</td>\n",
       "      <td>1</td>\n",
       "      <td>0</td>\n",
       "      <td>0</td>\n",
       "    </tr>\n",
       "    <tr>\n",
       "      <th>1996</th>\n",
       "      <td>0</td>\n",
       "      <td>0</td>\n",
       "      <td>0</td>\n",
       "      <td>0</td>\n",
       "      <td>0</td>\n",
       "      <td>0</td>\n",
       "      <td>0</td>\n",
       "      <td>6</td>\n",
       "      <td>0</td>\n",
       "      <td>0</td>\n",
       "    </tr>\n",
       "    <tr>\n",
       "      <th>1997</th>\n",
       "      <td>0</td>\n",
       "      <td>0</td>\n",
       "      <td>0</td>\n",
       "      <td>0</td>\n",
       "      <td>0</td>\n",
       "      <td>0</td>\n",
       "      <td>0</td>\n",
       "      <td>1</td>\n",
       "      <td>0</td>\n",
       "      <td>0</td>\n",
       "    </tr>\n",
       "    <tr>\n",
       "      <th>1998</th>\n",
       "      <td>0</td>\n",
       "      <td>0</td>\n",
       "      <td>0</td>\n",
       "      <td>0</td>\n",
       "      <td>0</td>\n",
       "      <td>0</td>\n",
       "      <td>0</td>\n",
       "      <td>5</td>\n",
       "      <td>0</td>\n",
       "      <td>0</td>\n",
       "    </tr>\n",
       "    <tr>\n",
       "      <th>1999</th>\n",
       "      <td>0</td>\n",
       "      <td>0</td>\n",
       "      <td>0</td>\n",
       "      <td>0</td>\n",
       "      <td>0</td>\n",
       "      <td>0</td>\n",
       "      <td>0</td>\n",
       "      <td>15</td>\n",
       "      <td>0</td>\n",
       "      <td>0</td>\n",
       "    </tr>\n",
       "    <tr>\n",
       "      <th>2000</th>\n",
       "      <td>0</td>\n",
       "      <td>0</td>\n",
       "      <td>0</td>\n",
       "      <td>0</td>\n",
       "      <td>0</td>\n",
       "      <td>0</td>\n",
       "      <td>0</td>\n",
       "      <td>16</td>\n",
       "      <td>0</td>\n",
       "      <td>0</td>\n",
       "    </tr>\n",
       "    <tr>\n",
       "      <th>2001</th>\n",
       "      <td>0</td>\n",
       "      <td>0</td>\n",
       "      <td>0</td>\n",
       "      <td>0</td>\n",
       "      <td>0</td>\n",
       "      <td>0</td>\n",
       "      <td>0</td>\n",
       "      <td>12</td>\n",
       "      <td>0</td>\n",
       "      <td>0</td>\n",
       "    </tr>\n",
       "    <tr>\n",
       "      <th>2002</th>\n",
       "      <td>0</td>\n",
       "      <td>0</td>\n",
       "      <td>0</td>\n",
       "      <td>0</td>\n",
       "      <td>0</td>\n",
       "      <td>0</td>\n",
       "      <td>0</td>\n",
       "      <td>31</td>\n",
       "      <td>1</td>\n",
       "      <td>0</td>\n",
       "    </tr>\n",
       "    <tr>\n",
       "      <th>2003</th>\n",
       "      <td>0</td>\n",
       "      <td>0</td>\n",
       "      <td>0</td>\n",
       "      <td>0</td>\n",
       "      <td>0</td>\n",
       "      <td>1</td>\n",
       "      <td>0</td>\n",
       "      <td>24</td>\n",
       "      <td>0</td>\n",
       "      <td>0</td>\n",
       "    </tr>\n",
       "    <tr>\n",
       "      <th>2004</th>\n",
       "      <td>0</td>\n",
       "      <td>0</td>\n",
       "      <td>3</td>\n",
       "      <td>1</td>\n",
       "      <td>0</td>\n",
       "      <td>0</td>\n",
       "      <td>0</td>\n",
       "      <td>17</td>\n",
       "      <td>5</td>\n",
       "      <td>0</td>\n",
       "    </tr>\n",
       "    <tr>\n",
       "      <th>2005</th>\n",
       "      <td>0</td>\n",
       "      <td>0</td>\n",
       "      <td>1</td>\n",
       "      <td>2</td>\n",
       "      <td>0</td>\n",
       "      <td>0</td>\n",
       "      <td>0</td>\n",
       "      <td>36</td>\n",
       "      <td>0</td>\n",
       "      <td>0</td>\n",
       "    </tr>\n",
       "    <tr>\n",
       "      <th>2006</th>\n",
       "      <td>0</td>\n",
       "      <td>0</td>\n",
       "      <td>4</td>\n",
       "      <td>1</td>\n",
       "      <td>0</td>\n",
       "      <td>0</td>\n",
       "      <td>0</td>\n",
       "      <td>21</td>\n",
       "      <td>5</td>\n",
       "      <td>0</td>\n",
       "    </tr>\n",
       "    <tr>\n",
       "      <th>2007</th>\n",
       "      <td>0</td>\n",
       "      <td>0</td>\n",
       "      <td>1</td>\n",
       "      <td>0</td>\n",
       "      <td>0</td>\n",
       "      <td>0</td>\n",
       "      <td>1</td>\n",
       "      <td>35</td>\n",
       "      <td>16</td>\n",
       "      <td>0</td>\n",
       "    </tr>\n",
       "    <tr>\n",
       "      <th>2008</th>\n",
       "      <td>0</td>\n",
       "      <td>2</td>\n",
       "      <td>8</td>\n",
       "      <td>4</td>\n",
       "      <td>0</td>\n",
       "      <td>0</td>\n",
       "      <td>0</td>\n",
       "      <td>43</td>\n",
       "      <td>17</td>\n",
       "      <td>0</td>\n",
       "    </tr>\n",
       "    <tr>\n",
       "      <th>2009</th>\n",
       "      <td>0</td>\n",
       "      <td>1</td>\n",
       "      <td>3</td>\n",
       "      <td>2</td>\n",
       "      <td>0</td>\n",
       "      <td>0</td>\n",
       "      <td>0</td>\n",
       "      <td>74</td>\n",
       "      <td>18</td>\n",
       "      <td>0</td>\n",
       "    </tr>\n",
       "    <tr>\n",
       "      <th>2010</th>\n",
       "      <td>1</td>\n",
       "      <td>2</td>\n",
       "      <td>6</td>\n",
       "      <td>2</td>\n",
       "      <td>0</td>\n",
       "      <td>0</td>\n",
       "      <td>0</td>\n",
       "      <td>43</td>\n",
       "      <td>48</td>\n",
       "      <td>0</td>\n",
       "    </tr>\n",
       "    <tr>\n",
       "      <th>2011</th>\n",
       "      <td>0</td>\n",
       "      <td>3</td>\n",
       "      <td>3</td>\n",
       "      <td>1</td>\n",
       "      <td>2</td>\n",
       "      <td>1</td>\n",
       "      <td>0</td>\n",
       "      <td>94</td>\n",
       "      <td>80</td>\n",
       "      <td>1</td>\n",
       "    </tr>\n",
       "    <tr>\n",
       "      <th>2012</th>\n",
       "      <td>0</td>\n",
       "      <td>1</td>\n",
       "      <td>2</td>\n",
       "      <td>6</td>\n",
       "      <td>0</td>\n",
       "      <td>0</td>\n",
       "      <td>0</td>\n",
       "      <td>38</td>\n",
       "      <td>92</td>\n",
       "      <td>1</td>\n",
       "    </tr>\n",
       "    <tr>\n",
       "      <th>2013</th>\n",
       "      <td>1</td>\n",
       "      <td>0</td>\n",
       "      <td>7</td>\n",
       "      <td>4</td>\n",
       "      <td>1</td>\n",
       "      <td>0</td>\n",
       "      <td>0</td>\n",
       "      <td>29</td>\n",
       "      <td>75</td>\n",
       "      <td>1</td>\n",
       "    </tr>\n",
       "    <tr>\n",
       "      <th>2014</th>\n",
       "      <td>0</td>\n",
       "      <td>0</td>\n",
       "      <td>0</td>\n",
       "      <td>0</td>\n",
       "      <td>0</td>\n",
       "      <td>0</td>\n",
       "      <td>0</td>\n",
       "      <td>11</td>\n",
       "      <td>40</td>\n",
       "      <td>1</td>\n",
       "    </tr>\n",
       "  </tbody>\n",
       "</table>\n",
       "</div>"
      ],
      "text/plain": [
       "method  Astrometry  Eclipse Timing Variations  Imaging  Microlensing  \\\n",
       "year                                                                   \n",
       "1989             0                          0        0             0   \n",
       "1992             0                          0        0             0   \n",
       "1994             0                          0        0             0   \n",
       "1995             0                          0        0             0   \n",
       "1996             0                          0        0             0   \n",
       "1997             0                          0        0             0   \n",
       "1998             0                          0        0             0   \n",
       "1999             0                          0        0             0   \n",
       "2000             0                          0        0             0   \n",
       "2001             0                          0        0             0   \n",
       "2002             0                          0        0             0   \n",
       "2003             0                          0        0             0   \n",
       "2004             0                          0        3             1   \n",
       "2005             0                          0        1             2   \n",
       "2006             0                          0        4             1   \n",
       "2007             0                          0        1             0   \n",
       "2008             0                          2        8             4   \n",
       "2009             0                          1        3             2   \n",
       "2010             1                          2        6             2   \n",
       "2011             0                          3        3             1   \n",
       "2012             0                          1        2             6   \n",
       "2013             1                          0        7             4   \n",
       "2014             0                          0        0             0   \n",
       "\n",
       "method  Orbital Brightness Modulation  Pulsar Timing  \\\n",
       "year                                                   \n",
       "1989                                0              0   \n",
       "1992                                0              2   \n",
       "1994                                0              1   \n",
       "1995                                0              0   \n",
       "1996                                0              0   \n",
       "1997                                0              0   \n",
       "1998                                0              0   \n",
       "1999                                0              0   \n",
       "2000                                0              0   \n",
       "2001                                0              0   \n",
       "2002                                0              0   \n",
       "2003                                0              1   \n",
       "2004                                0              0   \n",
       "2005                                0              0   \n",
       "2006                                0              0   \n",
       "2007                                0              0   \n",
       "2008                                0              0   \n",
       "2009                                0              0   \n",
       "2010                                0              0   \n",
       "2011                                2              1   \n",
       "2012                                0              0   \n",
       "2013                                1              0   \n",
       "2014                                0              0   \n",
       "\n",
       "method  Pulsation Timing Variations  Radial Velocity  Transit  \\\n",
       "year                                                            \n",
       "1989                              0                1        0   \n",
       "1992                              0                0        0   \n",
       "1994                              0                0        0   \n",
       "1995                              0                1        0   \n",
       "1996                              0                6        0   \n",
       "1997                              0                1        0   \n",
       "1998                              0                5        0   \n",
       "1999                              0               15        0   \n",
       "2000                              0               16        0   \n",
       "2001                              0               12        0   \n",
       "2002                              0               31        1   \n",
       "2003                              0               24        0   \n",
       "2004                              0               17        5   \n",
       "2005                              0               36        0   \n",
       "2006                              0               21        5   \n",
       "2007                              1               35       16   \n",
       "2008                              0               43       17   \n",
       "2009                              0               74       18   \n",
       "2010                              0               43       48   \n",
       "2011                              0               94       80   \n",
       "2012                              0               38       92   \n",
       "2013                              0               29       75   \n",
       "2014                              0               11       40   \n",
       "\n",
       "method  Transit Timing Variations  \n",
       "year                               \n",
       "1989                            0  \n",
       "1992                            0  \n",
       "1994                            0  \n",
       "1995                            0  \n",
       "1996                            0  \n",
       "1997                            0  \n",
       "1998                            0  \n",
       "1999                            0  \n",
       "2000                            0  \n",
       "2001                            0  \n",
       "2002                            0  \n",
       "2003                            0  \n",
       "2004                            0  \n",
       "2005                            0  \n",
       "2006                            0  \n",
       "2007                            0  \n",
       "2008                            0  \n",
       "2009                            0  \n",
       "2010                            0  \n",
       "2011                            1  \n",
       "2012                            1  \n",
       "2013                            1  \n",
       "2014                            1  "
      ]
     },
     "execution_count": 12,
     "metadata": {},
     "output_type": "execute_result"
    }
   ],
   "source": [
    "planets.pivot_table(values = 'number', index = 'year', columns = 'method', aggfunc = 'count')"
   ]
  },
  {
   "cell_type": "code",
   "execution_count": 13,
   "id": "talented-frank",
   "metadata": {},
   "outputs": [],
   "source": [
    "method_per_year = planets.pivot_table(values = 'number', index = 'year', columns = 'method', aggfunc = 'count')"
   ]
  },
  {
   "cell_type": "code",
   "execution_count": 14,
   "id": "graphic-timothy",
   "metadata": {},
   "outputs": [
    {
     "data": {
      "image/png": "[encoded data removed]",
      "text/plain": [
       "<Figure size 1080x576 with 1 Axes>"
      ]
     },
     "metadata": {
      "needs_background": "light"
     },
     "output_type": "display_data"
    }
   ],
   "source": [
    "fig, ax = plt.subplots(figsize = (15, 8))\n",
    "\n",
    "sns.lineplot(data = method_per_year)\n",
    "ax.axvline(2009, color = 'r', alpha = 0.7);"
   ]
  },
  {
   "cell_type": "code",
   "execution_count": 15,
   "id": "political-assault",
   "metadata": {},
   "outputs": [
    {
     "data": {
      "image/png": "[encoded data removed]",
      "text/plain": [
       "<Figure size 1080x576 with 1 Axes>"
      ]
     },
     "metadata": {
      "needs_background": "light"
     },
     "output_type": "display_data"
    }
   ],
   "source": [
    "fig, ax = plt.subplots(figsize = (15, 8))\n",
    "\n",
    "sns.lineplot(data = method_per_year[['Radial Velocity', 'Transit']])\n",
    "ax.axvline(2009, color = 'r', alpha = 0.7);"
   ]
  },
  {
   "cell_type": "code",
   "execution_count": 16,
   "id": "structured-dylan",
   "metadata": {},
   "outputs": [],
   "source": [
    "methods = planets.groupby('method')"
   ]
  },
  {
   "cell_type": "code",
   "execution_count": 17,
   "id": "superior-alabama",
   "metadata": {},
   "outputs": [
    {
     "name": "stdout",
     "output_type": "stream",
     "text": [
      "Astrometry                     Count = 2\n",
      "Eclipse Timing Variations      Count = 9\n",
      "Imaging                        Count = 38\n",
      "Microlensing                   Count = 23\n",
      "Orbital Brightness Modulation  Count = 3\n",
      "Pulsar Timing                  Count = 5\n",
      "Pulsation Timing Variations    Count = 1\n",
      "Radial Velocity                Count = 553\n",
      "Transit                        Count = 397\n",
      "Transit Timing Variations      Count = 4\n"
     ]
    }
   ],
   "source": [
    "for method, group in methods:\n",
    "    print('{:30} Count = {}'.format(method, group.shape[0]))"
   ]
  },
  {
   "cell_type": "markdown",
   "id": "normal-reset",
   "metadata": {},
   "source": [
    "the different methods detect planets with different characteristics?"
   ]
  },
  {
   "cell_type": "code",
   "execution_count": 18,
   "id": "incredible-moderator",
   "metadata": {},
   "outputs": [],
   "source": [
    "planets = pd.read_csv('..\\\\data\\\\phl_exoplanet_catalog_2019.csv')"
   ]
  },
  {
   "cell_type": "code",
   "execution_count": 19,
   "id": "mature-transcription",
   "metadata": {},
   "outputs": [
    {
     "data": {
      "text/html": [
       "<div>\n",
       "<style scoped>\n",
       "    .dataframe tbody tr th:only-of-type {\n",
       "        vertical-align: middle;\n",
       "    }\n",
       "\n",
       "    .dataframe tbody tr th {\n",
       "        vertical-align: top;\n",
       "    }\n",
       "\n",
       "    .dataframe thead th {\n",
       "        text-align: right;\n",
       "    }\n",
       "</style>\n",
       "<table border=\"1\" class=\"dataframe\">\n",
       "  <thead>\n",
       "    <tr style=\"text-align: right;\">\n",
       "      <th></th>\n",
       "      <th>P_NAME</th>\n",
       "      <th>P_STATUS</th>\n",
       "      <th>P_MASS</th>\n",
       "      <th>P_MASS_ERROR_MIN</th>\n",
       "      <th>P_MASS_ERROR_MAX</th>\n",
       "      <th>P_RADIUS</th>\n",
       "      <th>P_RADIUS_ERROR_MIN</th>\n",
       "      <th>P_RADIUS_ERROR_MAX</th>\n",
       "      <th>P_YEAR</th>\n",
       "      <th>P_UPDATED</th>\n",
       "      <th>...</th>\n",
       "      <th>P_HABZONE_CON</th>\n",
       "      <th>P_TYPE_TEMP</th>\n",
       "      <th>P_HABITABLE</th>\n",
       "      <th>P_ESI</th>\n",
       "      <th>S_CONSTELLATION</th>\n",
       "      <th>S_CONSTELLATION_ABR</th>\n",
       "      <th>S_CONSTELLATION_ENG</th>\n",
       "      <th>P_RADIUS_EST</th>\n",
       "      <th>P_MASS_EST</th>\n",
       "      <th>P_SEMI_MAJOR_AXIS_EST</th>\n",
       "    </tr>\n",
       "  </thead>\n",
       "  <tbody>\n",
       "    <tr>\n",
       "      <th>0</th>\n",
       "      <td>11 Com b</td>\n",
       "      <td>3.0</td>\n",
       "      <td>6165.86330</td>\n",
       "      <td>-476.74200</td>\n",
       "      <td>476.74200</td>\n",
       "      <td>NaN</td>\n",
       "      <td>NaN</td>\n",
       "      <td>NaN</td>\n",
       "      <td>2007</td>\n",
       "      <td>2014-05-14</td>\n",
       "      <td>...</td>\n",
       "      <td>0</td>\n",
       "      <td>Hot</td>\n",
       "      <td>0</td>\n",
       "      <td>0.083813</td>\n",
       "      <td>Coma Berenices</td>\n",
       "      <td>Com</td>\n",
       "      <td>Berenice's Hair</td>\n",
       "      <td>12.082709</td>\n",
       "      <td>6165.86330</td>\n",
       "      <td>1.29</td>\n",
       "    </tr>\n",
       "    <tr>\n",
       "      <th>1</th>\n",
       "      <td>11 UMi b</td>\n",
       "      <td>3.0</td>\n",
       "      <td>4684.78480</td>\n",
       "      <td>-794.57001</td>\n",
       "      <td>794.57001</td>\n",
       "      <td>NaN</td>\n",
       "      <td>NaN</td>\n",
       "      <td>NaN</td>\n",
       "      <td>2009</td>\n",
       "      <td>2018-09-06</td>\n",
       "      <td>...</td>\n",
       "      <td>0</td>\n",
       "      <td>Hot</td>\n",
       "      <td>0</td>\n",
       "      <td>0.082414</td>\n",
       "      <td>Ursa Minor</td>\n",
       "      <td>UMi</td>\n",
       "      <td>Little Bear</td>\n",
       "      <td>12.229641</td>\n",
       "      <td>4684.78480</td>\n",
       "      <td>1.53</td>\n",
       "    </tr>\n",
       "    <tr>\n",
       "      <th>2</th>\n",
       "      <td>14 And b</td>\n",
       "      <td>3.0</td>\n",
       "      <td>1525.57440</td>\n",
       "      <td>NaN</td>\n",
       "      <td>NaN</td>\n",
       "      <td>NaN</td>\n",
       "      <td>NaN</td>\n",
       "      <td>NaN</td>\n",
       "      <td>2008</td>\n",
       "      <td>2014-05-14</td>\n",
       "      <td>...</td>\n",
       "      <td>0</td>\n",
       "      <td>Hot</td>\n",
       "      <td>0</td>\n",
       "      <td>0.081917</td>\n",
       "      <td>Andromeda</td>\n",
       "      <td>And</td>\n",
       "      <td>Andromeda</td>\n",
       "      <td>12.848516</td>\n",
       "      <td>1525.57440</td>\n",
       "      <td>0.83</td>\n",
       "    </tr>\n",
       "    <tr>\n",
       "      <th>3</th>\n",
       "      <td>14 Her b</td>\n",
       "      <td>3.0</td>\n",
       "      <td>1481.07850</td>\n",
       "      <td>-47.67420</td>\n",
       "      <td>47.67420</td>\n",
       "      <td>NaN</td>\n",
       "      <td>NaN</td>\n",
       "      <td>NaN</td>\n",
       "      <td>2002</td>\n",
       "      <td>2018-09-06</td>\n",
       "      <td>...</td>\n",
       "      <td>0</td>\n",
       "      <td>Cold</td>\n",
       "      <td>0</td>\n",
       "      <td>0.145241</td>\n",
       "      <td>Hercules</td>\n",
       "      <td>Her</td>\n",
       "      <td>Hercules</td>\n",
       "      <td>12.865261</td>\n",
       "      <td>1481.07850</td>\n",
       "      <td>2.93</td>\n",
       "    </tr>\n",
       "    <tr>\n",
       "      <th>4</th>\n",
       "      <td>16 Cyg B b</td>\n",
       "      <td>3.0</td>\n",
       "      <td>565.73385</td>\n",
       "      <td>-25.42624</td>\n",
       "      <td>25.42624</td>\n",
       "      <td>NaN</td>\n",
       "      <td>NaN</td>\n",
       "      <td>NaN</td>\n",
       "      <td>1996</td>\n",
       "      <td>2018-09-06</td>\n",
       "      <td>...</td>\n",
       "      <td>1</td>\n",
       "      <td>Warm</td>\n",
       "      <td>0</td>\n",
       "      <td>0.368627</td>\n",
       "      <td>Cygnus</td>\n",
       "      <td>Cyg</td>\n",
       "      <td>Swan</td>\n",
       "      <td>13.421749</td>\n",
       "      <td>565.73385</td>\n",
       "      <td>1.66</td>\n",
       "    </tr>\n",
       "  </tbody>\n",
       "</table>\n",
       "<p>5 rows × 112 columns</p>\n",
       "</div>"
      ],
      "text/plain": [
       "       P_NAME  P_STATUS      P_MASS  P_MASS_ERROR_MIN  P_MASS_ERROR_MAX  \\\n",
       "0    11 Com b       3.0  6165.86330        -476.74200         476.74200   \n",
       "1    11 UMi b       3.0  4684.78480        -794.57001         794.57001   \n",
       "2    14 And b       3.0  1525.57440               NaN               NaN   \n",
       "3    14 Her b       3.0  1481.07850         -47.67420          47.67420   \n",
       "4  16 Cyg B b       3.0   565.73385         -25.42624          25.42624   \n",
       "\n",
       "   P_RADIUS  P_RADIUS_ERROR_MIN  P_RADIUS_ERROR_MAX  P_YEAR   P_UPDATED  ...  \\\n",
       "0       NaN                 NaN                 NaN    2007  2014-05-14  ...   \n",
       "1       NaN                 NaN                 NaN    2009  2018-09-06  ...   \n",
       "2       NaN                 NaN                 NaN    2008  2014-05-14  ...   \n",
       "3       NaN                 NaN                 NaN    2002  2018-09-06  ...   \n",
       "4       NaN                 NaN                 NaN    1996  2018-09-06  ...   \n",
       "\n",
       "   P_HABZONE_CON  P_TYPE_TEMP  P_HABITABLE     P_ESI  S_CONSTELLATION  \\\n",
       "0              0          Hot            0  0.083813   Coma Berenices   \n",
       "1              0          Hot            0  0.082414       Ursa Minor   \n",
       "2              0          Hot            0  0.081917        Andromeda   \n",
       "3              0         Cold            0  0.145241         Hercules   \n",
       "4              1         Warm            0  0.368627           Cygnus   \n",
       "\n",
       "   S_CONSTELLATION_ABR  S_CONSTELLATION_ENG  P_RADIUS_EST  P_MASS_EST  \\\n",
       "0                  Com      Berenice's Hair     12.082709  6165.86330   \n",
       "1                  UMi          Little Bear     12.229641  4684.78480   \n",
       "2                  And            Andromeda     12.848516  1525.57440   \n",
       "3                  Her             Hercules     12.865261  1481.07850   \n",
       "4                  Cyg                 Swan     13.421749   565.73385   \n",
       "\n",
       "   P_SEMI_MAJOR_AXIS_EST  \n",
       "0                   1.29  \n",
       "1                   1.53  \n",
       "2                   0.83  \n",
       "3                   2.93  \n",
       "4                   1.66  \n",
       "\n",
       "[5 rows x 112 columns]"
      ]
     },
     "execution_count": 19,
     "metadata": {},
     "output_type": "execute_result"
    }
   ],
   "source": [
    "planets.head()"
   ]
  },
  {
   "cell_type": "code",
   "execution_count": 20,
   "id": "norman-musician",
   "metadata": {},
   "outputs": [
    {
     "name": "stdout",
     "output_type": "stream",
     "text": [
      "<class 'pandas.core.frame.DataFrame'>\n",
      "RangeIndex: 4048 entries, 0 to 4047\n",
      "Columns: 112 entries, P_NAME to P_SEMI_MAJOR_AXIS_EST\n",
      "dtypes: float64(94), int64(4), object(14)\n",
      "memory usage: 3.5+ MB\n"
     ]
    }
   ],
   "source": [
    "planets.info()"
   ]
  },
  {
   "cell_type": "markdown",
   "id": "handmade-saskatchewan",
   "metadata": {},
   "source": [
    "[Click here to understand this disaster](http://phl.upr.edu/projects/habitable-exoplanets-catalog/data/database)\n",
    "\n",
    "\n",
    "- P_DETECTION - planet detection method\n",
    "- P_MASS - planet mass (earth masses)\n",
    "- P_RADIUS - planet radius (earth radii)\n",
    "- P_PERIOD - planet period (days)\n",
    "- P_ECCENTRICITY - planet eccentricity\n",
    "- S_DISTANCE - star distance (parsecs)\n",
    "- S_MASS - star mass (solar units)\n",
    "- S_RADIUS - star radius (solar units)"
   ]
  },
  {
   "cell_type": "code",
   "execution_count": 21,
   "id": "distant-classic",
   "metadata": {},
   "outputs": [],
   "source": [
    "columns = ['P_DETECTION', 'P_MASS', 'P_RADIUS', 'P_ECCENTRICITY', 'S_DISTANCE', 'S_MASS', 'S_RADIUS']\n",
    "planets = planets[columns]"
   ]
  },
  {
   "cell_type": "code",
   "execution_count": 22,
   "id": "fallen-harassment",
   "metadata": {},
   "outputs": [
    {
     "data": {
      "text/html": [
       "<div>\n",
       "<style scoped>\n",
       "    .dataframe tbody tr th:only-of-type {\n",
       "        vertical-align: middle;\n",
       "    }\n",
       "\n",
       "    .dataframe tbody tr th {\n",
       "        vertical-align: top;\n",
       "    }\n",
       "\n",
       "    .dataframe thead th {\n",
       "        text-align: right;\n",
       "    }\n",
       "</style>\n",
       "<table border=\"1\" class=\"dataframe\">\n",
       "  <thead>\n",
       "    <tr style=\"text-align: right;\">\n",
       "      <th></th>\n",
       "      <th>P_DETECTION</th>\n",
       "      <th>P_MASS</th>\n",
       "      <th>P_RADIUS</th>\n",
       "      <th>P_ECCENTRICITY</th>\n",
       "      <th>S_DISTANCE</th>\n",
       "      <th>S_MASS</th>\n",
       "      <th>S_RADIUS</th>\n",
       "    </tr>\n",
       "  </thead>\n",
       "  <tbody>\n",
       "    <tr>\n",
       "      <th>0</th>\n",
       "      <td>Radial Velocity</td>\n",
       "      <td>6165.86330</td>\n",
       "      <td>NaN</td>\n",
       "      <td>0.231</td>\n",
       "      <td>93.37</td>\n",
       "      <td>2.70</td>\n",
       "      <td>19.00</td>\n",
       "    </tr>\n",
       "    <tr>\n",
       "      <th>1</th>\n",
       "      <td>Radial Velocity</td>\n",
       "      <td>4684.78480</td>\n",
       "      <td>NaN</td>\n",
       "      <td>0.080</td>\n",
       "      <td>125.72</td>\n",
       "      <td>2.78</td>\n",
       "      <td>29.79</td>\n",
       "    </tr>\n",
       "    <tr>\n",
       "      <th>2</th>\n",
       "      <td>Radial Velocity</td>\n",
       "      <td>1525.57440</td>\n",
       "      <td>NaN</td>\n",
       "      <td>0.000</td>\n",
       "      <td>75.59</td>\n",
       "      <td>2.20</td>\n",
       "      <td>11.00</td>\n",
       "    </tr>\n",
       "    <tr>\n",
       "      <th>3</th>\n",
       "      <td>Radial Velocity</td>\n",
       "      <td>1481.07850</td>\n",
       "      <td>NaN</td>\n",
       "      <td>0.370</td>\n",
       "      <td>17.94</td>\n",
       "      <td>0.90</td>\n",
       "      <td>0.93</td>\n",
       "    </tr>\n",
       "    <tr>\n",
       "      <th>4</th>\n",
       "      <td>Radial Velocity</td>\n",
       "      <td>565.73385</td>\n",
       "      <td>NaN</td>\n",
       "      <td>0.680</td>\n",
       "      <td>21.15</td>\n",
       "      <td>1.08</td>\n",
       "      <td>1.13</td>\n",
       "    </tr>\n",
       "  </tbody>\n",
       "</table>\n",
       "</div>"
      ],
      "text/plain": [
       "       P_DETECTION      P_MASS  P_RADIUS  P_ECCENTRICITY  S_DISTANCE  S_MASS  \\\n",
       "0  Radial Velocity  6165.86330       NaN           0.231       93.37    2.70   \n",
       "1  Radial Velocity  4684.78480       NaN           0.080      125.72    2.78   \n",
       "2  Radial Velocity  1525.57440       NaN           0.000       75.59    2.20   \n",
       "3  Radial Velocity  1481.07850       NaN           0.370       17.94    0.90   \n",
       "4  Radial Velocity   565.73385       NaN           0.680       21.15    1.08   \n",
       "\n",
       "   S_RADIUS  \n",
       "0     19.00  \n",
       "1     29.79  \n",
       "2     11.00  \n",
       "3      0.93  \n",
       "4      1.13  "
      ]
     },
     "execution_count": 22,
     "metadata": {},
     "output_type": "execute_result"
    }
   ],
   "source": [
    "planets.head()"
   ]
  },
  {
   "cell_type": "code",
   "execution_count": 23,
   "id": "minus-destination",
   "metadata": {},
   "outputs": [
    {
     "name": "stdout",
     "output_type": "stream",
     "text": [
      "<class 'pandas.core.frame.DataFrame'>\n",
      "RangeIndex: 4048 entries, 0 to 4047\n",
      "Data columns (total 7 columns):\n",
      " #   Column          Non-Null Count  Dtype  \n",
      "---  ------          --------------  -----  \n",
      " 0   P_DETECTION     4048 non-null   object \n",
      " 1   P_MASS          1598 non-null   float64\n",
      " 2   P_RADIUS        3139 non-null   float64\n",
      " 3   P_ECCENTRICITY  1380 non-null   float64\n",
      " 4   S_DISTANCE      4042 non-null   float64\n",
      " 5   S_MASS          3283 non-null   float64\n",
      " 6   S_RADIUS        3723 non-null   float64\n",
      "dtypes: float64(6), object(1)\n",
      "memory usage: 221.5+ KB\n"
     ]
    }
   ],
   "source": [
    "planets.info()"
   ]
  },
  {
   "cell_type": "code",
   "execution_count": 24,
   "id": "modified-channel",
   "metadata": {},
   "outputs": [
    {
     "data": {
      "text/plain": [
       "Transit                          3114\n",
       "Radial Velocity                   765\n",
       "Microlensing                       78\n",
       "Imaging                            47\n",
       "Transit Timing Variations          18\n",
       "Eclipse Timing Variations          11\n",
       "Orbital Brightness Modulation       6\n",
       "Pulsar Timing                       6\n",
       "Pulsation Timing Variations         2\n",
       "Astrometry                          1\n",
       "Name: P_DETECTION, dtype: int64"
      ]
     },
     "execution_count": 24,
     "metadata": {},
     "output_type": "execute_result"
    }
   ],
   "source": [
    "planets['P_DETECTION'].value_counts()"
   ]
  },
  {
   "cell_type": "code",
   "execution_count": 25,
   "id": "martial-bidder",
   "metadata": {},
   "outputs": [],
   "source": [
    "to_remove = ['Pulsar Timing', 'Orbital Brightness Modulation',\n",
    "             'Pulsation Timing Variations', 'Astrometry']\n",
    "\n",
    "for m in to_remove:\n",
    "    mask = planets['P_DETECTION'] == m\n",
    "    idx = planets[mask].index\n",
    "    \n",
    "    planets.drop(idx, inplace = True)"
   ]
  },
  {
   "cell_type": "code",
   "execution_count": 26,
   "id": "protecting-wheat",
   "metadata": {},
   "outputs": [
    {
     "data": {
      "text/plain": [
       "Transit                      3114\n",
       "Radial Velocity               765\n",
       "Microlensing                   78\n",
       "Imaging                        47\n",
       "Transit Timing Variations      18\n",
       "Eclipse Timing Variations      11\n",
       "Name: P_DETECTION, dtype: int64"
      ]
     },
     "execution_count": 26,
     "metadata": {},
     "output_type": "execute_result"
    }
   ],
   "source": [
    "planets['P_DETECTION'].value_counts()"
   ]
  },
  {
   "cell_type": "code",
   "execution_count": 27,
   "id": "geological-theory",
   "metadata": {},
   "outputs": [],
   "source": [
    "methods = planets.groupby('P_DETECTION')"
   ]
  },
  {
   "cell_type": "code",
   "execution_count": 28,
   "id": "palestinian-princeton",
   "metadata": {},
   "outputs": [
    {
     "name": "stdout",
     "output_type": "stream",
     "text": [
      "Eclipse Timing Variations      Count = 11\n",
      "Imaging                        Count = 47\n",
      "Microlensing                   Count = 78\n",
      "Radial Velocity                Count = 765\n",
      "Transit                        Count = 3114\n",
      "Transit Timing Variations      Count = 18\n"
     ]
    }
   ],
   "source": [
    "for method, group in methods:\n",
    "    print('{:30} Count = {}'.format(method, group.shape[0]))"
   ]
  },
  {
   "cell_type": "code",
   "execution_count": 29,
   "id": "optional-chapter",
   "metadata": {},
   "outputs": [
    {
     "data": {
      "text/plain": [
       "P_DETECTION\n",
       "Eclipse Timing Variations    2555.316915\n",
       "Imaging                      4262.759937\n",
       "Microlensing                  644.194536\n",
       "Radial Velocity               928.827704\n",
       "Transit                       432.085127\n",
       "Transit Timing Variations     265.226559\n",
       "Name: P_MASS, dtype: float64"
      ]
     },
     "execution_count": 29,
     "metadata": {},
     "output_type": "execute_result"
    }
   ],
   "source": [
    "methods['P_MASS'].mean()"
   ]
  },
  {
   "cell_type": "code",
   "execution_count": 30,
   "id": "circular-republican",
   "metadata": {},
   "outputs": [
    {
     "data": {
      "text/html": [
       "<svg  width=\"660\" height=\"55\"><rect x=\"0\" y=\"0\" width=\"55\" height=\"55\" style=\"fill:#a6cee3;stroke-width:2;stroke:rgb(255,255,255)\"/><rect x=\"55\" y=\"0\" width=\"55\" height=\"55\" style=\"fill:#1f78b4;stroke-width:2;stroke:rgb(255,255,255)\"/><rect x=\"110\" y=\"0\" width=\"55\" height=\"55\" style=\"fill:#b2df8a;stroke-width:2;stroke:rgb(255,255,255)\"/><rect x=\"165\" y=\"0\" width=\"55\" height=\"55\" style=\"fill:#33a02c;stroke-width:2;stroke:rgb(255,255,255)\"/><rect x=\"220\" y=\"0\" width=\"55\" height=\"55\" style=\"fill:#fb9a99;stroke-width:2;stroke:rgb(255,255,255)\"/><rect x=\"275\" y=\"0\" width=\"55\" height=\"55\" style=\"fill:#e31a1c;stroke-width:2;stroke:rgb(255,255,255)\"/><rect x=\"330\" y=\"0\" width=\"55\" height=\"55\" style=\"fill:#fdbf6f;stroke-width:2;stroke:rgb(255,255,255)\"/><rect x=\"385\" y=\"0\" width=\"55\" height=\"55\" style=\"fill:#ff7f00;stroke-width:2;stroke:rgb(255,255,255)\"/><rect x=\"440\" y=\"0\" width=\"55\" height=\"55\" style=\"fill:#cab2d6;stroke-width:2;stroke:rgb(255,255,255)\"/><rect x=\"495\" y=\"0\" width=\"55\" height=\"55\" style=\"fill:#6a3d9a;stroke-width:2;stroke:rgb(255,255,255)\"/><rect x=\"550\" y=\"0\" width=\"55\" height=\"55\" style=\"fill:#ffff99;stroke-width:2;stroke:rgb(255,255,255)\"/><rect x=\"605\" y=\"0\" width=\"55\" height=\"55\" style=\"fill:#b15928;stroke-width:2;stroke:rgb(255,255,255)\"/></svg>"
      ],
      "text/plain": [
       "[(0.6509803921568628, 0.807843137254902, 0.8901960784313725),\n",
       " (0.12156862745098039, 0.47058823529411764, 0.7058823529411765),\n",
       " (0.6980392156862745, 0.8745098039215686, 0.5411764705882353),\n",
       " (0.2, 0.6274509803921569, 0.17254901960784313),\n",
       " (0.984313725490196, 0.6039215686274509, 0.6),\n",
       " (0.8901960784313725, 0.10196078431372549, 0.10980392156862745),\n",
       " (0.9921568627450981, 0.7490196078431373, 0.43529411764705883),\n",
       " (1.0, 0.4980392156862745, 0.0),\n",
       " (0.792156862745098, 0.6980392156862745, 0.8392156862745098),\n",
       " (0.41568627450980394, 0.23921568627450981, 0.6039215686274509),\n",
       " (1.0, 1.0, 0.6),\n",
       " (0.6941176470588235, 0.34901960784313724, 0.1568627450980392)]"
      ]
     },
     "execution_count": 30,
     "metadata": {},
     "output_type": "execute_result"
    }
   ],
   "source": [
    "palette = sns.color_palette(\"Paired\")\n",
    "palette"
   ]
  },
  {
   "cell_type": "code",
   "execution_count": 31,
   "id": "dedicated-burst",
   "metadata": {},
   "outputs": [
    {
     "data": {
      "image/png": "[encoded data removed]",
      "text/plain": [
       "<Figure size 1080x576 with 1 Axes>"
      ]
     },
     "metadata": {
      "needs_background": "light"
     },
     "output_type": "display_data"
    }
   ],
   "source": [
    "fig, ax = plt.subplots(figsize = (15, 8))\n",
    "\n",
    "sns.barplot(x = methods['P_MASS'].mean().index, y = methods['P_MASS'].mean().values, ax = ax,\n",
    "           palette = palette)\n",
    "fig.autofmt_xdate(rotation = 45);"
   ]
  },
  {
   "cell_type": "code",
   "execution_count": 32,
   "id": "overhead-lightning",
   "metadata": {},
   "outputs": [
    {
     "data": {
      "image/png": "[encoded data removed]",
      "text/plain": [
       "<Figure size 1152x1152 with 6 Axes>"
      ]
     },
     "metadata": {
      "needs_background": "light"
     },
     "output_type": "display_data"
    }
   ],
   "source": [
    "fig, axs = plt.subplots(3, 2, figsize = (16, 16))\n",
    "\n",
    "index = 1\n",
    "for ax in axs.flat:\n",
    "    x = methods[columns[index]].mean().index\n",
    "    y = methods[columns[index]].mean().values\n",
    "    \n",
    "    sns.barplot(x = x, y = y, ax = ax, palette = palette)\n",
    "    ax.set_title('{}'.format(columns[index]))\n",
    "    fig.autofmt_xdate(rotation = 45)\n",
    "    \n",
    "    index += 1"
   ]
  },
  {
   "cell_type": "markdown",
   "id": "coated-preserve",
   "metadata": {},
   "source": [
    "**P_MASS**"
   ]
  },
  {
   "cell_type": "code",
   "execution_count": 33,
   "id": "familiar-alexandria",
   "metadata": {},
   "outputs": [
    {
     "data": {
      "text/plain": [
       "P_DETECTION\n",
       "Eclipse Timing Variations    2555.316915\n",
       "Imaging                      4262.759937\n",
       "Microlensing                  644.194536\n",
       "Radial Velocity               928.827704\n",
       "Transit                       432.085127\n",
       "Transit Timing Variations     265.226559\n",
       "Name: P_MASS, dtype: float64"
      ]
     },
     "execution_count": 33,
     "metadata": {},
     "output_type": "execute_result"
    }
   ],
   "source": [
    "methods['P_MASS'].mean()"
   ]
  },
  {
   "cell_type": "markdown",
   "id": "changing-satisfaction",
   "metadata": {},
   "source": [
    "**P_RADIUS**"
   ]
  },
  {
   "cell_type": "code",
   "execution_count": 34,
   "id": "advisory-outline",
   "metadata": {},
   "outputs": [
    {
     "data": {
      "text/plain": [
       "P_DETECTION\n",
       "Eclipse Timing Variations          NaN\n",
       "Imaging                      19.344256\n",
       "Microlensing                       NaN\n",
       "Radial Velocity               6.147392\n",
       "Transit                       4.108566\n",
       "Transit Timing Variations     2.004989\n",
       "Name: P_RADIUS, dtype: float64"
      ]
     },
     "execution_count": 34,
     "metadata": {},
     "output_type": "execute_result"
    }
   ],
   "source": [
    "methods['P_RADIUS'].mean()"
   ]
  },
  {
   "cell_type": "markdown",
   "id": "unable-velvet",
   "metadata": {},
   "source": [
    "**P_ECCENTRICITY**"
   ]
  },
  {
   "cell_type": "code",
   "execution_count": 35,
   "id": "unsigned-grass",
   "metadata": {},
   "outputs": [
    {
     "data": {
      "text/plain": [
       "P_DETECTION\n",
       "Eclipse Timing Variations    0.145556\n",
       "Imaging                      0.362000\n",
       "Microlensing                 0.150000\n",
       "Radial Velocity              0.221056\n",
       "Transit                      0.086608\n",
       "Transit Timing Variations    0.140326\n",
       "Name: P_ECCENTRICITY, dtype: float64"
      ]
     },
     "execution_count": 35,
     "metadata": {},
     "output_type": "execute_result"
    }
   ],
   "source": [
    "methods['P_ECCENTRICITY'].mean()"
   ]
  },
  {
   "cell_type": "code",
   "execution_count": null,
   "id": "interstate-latvia",
   "metadata": {},
   "outputs": [],
   "source": [
    "import pingouin as pg "
   ]
  },
  {
   "cell_type": "code",
   "execution_count": null,
   "id": "norman-paintball",
   "metadata": {},
   "outputs": [],
   "source": [
    "pg.anova(data = planets, dv = 'P_ECCENTRICITY', between = 'P_DETECTION', detailed = True)"
   ]
  },
  {
   "cell_type": "code",
   "execution_count": null,
   "id": "fifth-anthropology",
   "metadata": {},
   "outputs": [],
   "source": [
    "pg.pairwise_tukey(data = planets, dv = 'P_ECCENTRICITY', between = 'P_DETECTION')"
   ]
  },
  {
   "cell_type": "markdown",
   "id": "operational-navigator",
   "metadata": {},
   "source": [
    "**S_DISTANCE**"
   ]
  },
  {
   "cell_type": "code",
   "execution_count": null,
   "id": "orange-tennis",
   "metadata": {},
   "outputs": [],
   "source": [
    "methods['S_DISTANCE'].mean()"
   ]
  },
  {
   "cell_type": "markdown",
   "id": "fuzzy-cosmetic",
   "metadata": {},
   "source": [
    "**S_MASS**"
   ]
  },
  {
   "cell_type": "code",
   "execution_count": null,
   "id": "abandoned-healing",
   "metadata": {},
   "outputs": [],
   "source": [
    "methods['S_MASS'].mean()"
   ]
  },
  {
   "cell_type": "markdown",
   "id": "every-celtic",
   "metadata": {},
   "source": [
    "**S_RADIUS**"
   ]
  },
  {
   "cell_type": "code",
   "execution_count": null,
   "id": "generous-orbit",
   "metadata": {},
   "outputs": [],
   "source": [
    "methods['S_RADIUS'].mean()"
   ]
  },
  {
   "cell_type": "markdown",
   "id": "alternative-trout",
   "metadata": {},
   "source": [
    "\n",
    "- The Eclipse Timing Variations method favors massive planets but is not useful for estimating their radius.\n",
    "\n",
    "- The Microlensing method favors planets in very distant stars.\n",
    "\n",
    "- The Radial Velocity method favors massive star systems and planets"
   ]
  }
 ],
 "metadata": {
  "kernelspec": {
   "display_name": "Python 3 (ipykernel)",
   "language": "python",
   "name": "python3"
  },
  "language_info": {
   "codemirror_mode": {
    "name": "ipython",
    "version": 3
   },
   "file_extension": ".py",
   "mimetype": "text/x-python",
   "name": "python",
   "nbconvert_exporter": "python",
   "pygments_lexer": "ipython3",
   "version": "3.8.5"
  },
  "toc": {
   "base_numbering": 1,
   "nav_menu": {},
   "number_sections": true,
   "sideBar": true,
   "skip_h1_title": false,
   "title_cell": "Table of Contents",
   "title_sidebar": "Contents",
   "toc_cell": false,
   "toc_position": {},
   "toc_section_display": true,
   "toc_window_display": false
  },
  "varInspector": {
   "cols": {
    "lenName": 16,
    "lenType": 16,
    "lenVar": 40
   },
   "kernels_config": {
    "python": {
     "delete_cmd_postfix": "",
     "delete_cmd_prefix": "del ",
     "library": "var_list.py",
     "varRefreshCmd": "print(var_dic_list())"
    },
    "r": {
     "delete_cmd_postfix": ") ",
     "delete_cmd_prefix": "rm(",
     "library": "var_list.r",
     "varRefreshCmd": "cat(var_dic_list()) "
    }
   },
   "types_to_exclude": [
    "module",
    "function",
    "builtin_function_or_method",
    "instance",
    "_Feature"
   ],
   "window_display": false
  }
 },
 "nbformat": 4,
 "nbformat_minor": 5
}
