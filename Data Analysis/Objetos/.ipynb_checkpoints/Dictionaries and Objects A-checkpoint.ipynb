{
 "cells": [
  {
   "cell_type": "markdown",
   "id": "anticipated-diary",
   "metadata": {},
   "source": [
    "# Dictionaries\n",
    "## Basics"
   ]
  },
  {
   "cell_type": "code",
   "execution_count": null,
   "id": "imperial-courage",
   "metadata": {},
   "outputs": [],
   "source": [
    "{}"
   ]
  },
  {
   "cell_type": "code",
   "execution_count": null,
   "id": "designed-michigan",
   "metadata": {},
   "outputs": [],
   "source": [
    "type({})"
   ]
  },
  {
   "cell_type": "markdown",
   "id": "continent-engineer",
   "metadata": {},
   "source": [
    "The dictionaries has the following structure"
   ]
  },
  {
   "cell_type": "code",
   "execution_count": null,
   "id": "resistant-prime",
   "metadata": {},
   "outputs": [],
   "source": [
    "dic = {'key': 'value'}"
   ]
  },
  {
   "cell_type": "code",
   "execution_count": null,
   "id": "unexpected-longitude",
   "metadata": {},
   "outputs": [],
   "source": [
    "dic['key']"
   ]
  },
  {
   "cell_type": "code",
   "execution_count": null,
   "id": "continuing-middle",
   "metadata": {},
   "outputs": [],
   "source": [
    "dic = {'key': 1, 'key' : 2}\n",
    "dic"
   ]
  },
  {
   "cell_type": "code",
   "execution_count": null,
   "id": "attractive-sampling",
   "metadata": {},
   "outputs": [],
   "source": [
    "dic= {'A' : 1}\n",
    "dic"
   ]
  },
  {
   "cell_type": "code",
   "execution_count": null,
   "id": "commercial-williams",
   "metadata": {},
   "outputs": [],
   "source": [
    "dic['B']"
   ]
  },
  {
   "cell_type": "code",
   "execution_count": null,
   "id": "guilty-council",
   "metadata": {},
   "outputs": [],
   "source": [
    "dic['B'] = 2"
   ]
  },
  {
   "cell_type": "code",
   "execution_count": null,
   "id": "fantastic-yahoo",
   "metadata": {},
   "outputs": [],
   "source": [
    "dic"
   ]
  },
  {
   "cell_type": "code",
   "execution_count": null,
   "id": "royal-variable",
   "metadata": {},
   "outputs": [],
   "source": [
    "l = [1] #this dosen't happen with lists"
   ]
  },
  {
   "cell_type": "code",
   "execution_count": null,
   "id": "compatible-green",
   "metadata": {},
   "outputs": [],
   "source": [
    "l[1] = 2"
   ]
  },
  {
   "cell_type": "code",
   "execution_count": null,
   "id": "acting-scope",
   "metadata": {},
   "outputs": [],
   "source": [
    "dic"
   ]
  },
  {
   "cell_type": "code",
   "execution_count": null,
   "id": "sound-database",
   "metadata": {},
   "outputs": [],
   "source": [
    "dic['A'] = 19\n",
    "dic"
   ]
  },
  {
   "cell_type": "code",
   "execution_count": null,
   "id": "informative-ebony",
   "metadata": {},
   "outputs": [],
   "source": [
    "del dic['B']\n",
    "dic"
   ]
  },
  {
   "cell_type": "markdown",
   "id": "champion-greensboro",
   "metadata": {},
   "source": [
    "The dictionaries are very useful for things like a calendar:"
   ]
  },
  {
   "cell_type": "code",
   "execution_count": null,
   "id": "initial-stuff",
   "metadata": {},
   "outputs": [],
   "source": [
    "days = [31, 28, 31, 30, 31, 30, 31, 31, 30, 31, 30, 31]"
   ]
  },
  {
   "cell_type": "code",
   "execution_count": null,
   "id": "front-applicant",
   "metadata": {},
   "outputs": [],
   "source": [
    "months = ['January', 'February', 'March', 'April', 'May', 'June', 'July', 'August',\n",
    "          'September', 'October', 'November', 'December']"
   ]
  },
  {
   "cell_type": "markdown",
   "id": "invalid-duncan",
   "metadata": {},
   "source": [
    "Time to talk about `enumerate` "
   ]
  },
  {
   "cell_type": "code",
   "execution_count": null,
   "id": "desperate-polls",
   "metadata": {},
   "outputs": [],
   "source": [
    "l = [(1, 2), (3, 4), (5, 6)]"
   ]
  },
  {
   "cell_type": "code",
   "execution_count": null,
   "id": "czech-steel",
   "metadata": {},
   "outputs": [],
   "source": [
    "for elem in l:\n",
    "    print('First → {} | Second → {}'.format(elem[0], elem[1]))"
   ]
  },
  {
   "cell_type": "code",
   "execution_count": null,
   "id": "absent-float",
   "metadata": {},
   "outputs": [],
   "source": [
    "for f, s in l:\n",
    "    print('First → {} | Second → {}'.format(f, s))"
   ]
  },
  {
   "cell_type": "code",
   "execution_count": null,
   "id": "entire-highland",
   "metadata": {},
   "outputs": [],
   "source": [
    "l = [(1, 2, 3), (4, 5, 6), (7, 8, 9)]"
   ]
  },
  {
   "cell_type": "code",
   "execution_count": null,
   "id": "persistent-massage",
   "metadata": {},
   "outputs": [],
   "source": [
    "for f, s, t in l:\n",
    "    print('First → {} | Second → {} | Third → {}'.format(f, s, t))"
   ]
  },
  {
   "cell_type": "code",
   "execution_count": null,
   "id": "broken-worse",
   "metadata": {},
   "outputs": [],
   "source": [
    "enumerate(months)"
   ]
  },
  {
   "cell_type": "code",
   "execution_count": null,
   "id": "august-audience",
   "metadata": {},
   "outputs": [],
   "source": [
    "list(enumerate(months))"
   ]
  },
  {
   "cell_type": "code",
   "execution_count": null,
   "id": "outside-cherry",
   "metadata": {},
   "outputs": [],
   "source": [
    "for i, m in enumerate(months):\n",
    "    print('Index → {:2} | element → {}'.format(i, m)) "
   ]
  },
  {
   "cell_type": "code",
   "execution_count": null,
   "id": "similar-ireland",
   "metadata": {},
   "outputs": [],
   "source": [
    "days_in_month = {}\n",
    "\n",
    "for i, k in enumerate(months):\n",
    "    days_in_month[k] = days[i]\n",
    "    \n",
    "days_in_month"
   ]
  },
  {
   "cell_type": "code",
   "execution_count": null,
   "id": "overall-medium",
   "metadata": {},
   "outputs": [],
   "source": [
    "days_in_month['October']"
   ]
  },
  {
   "cell_type": "markdown",
   "id": "norwegian-composite",
   "metadata": {},
   "source": [
    "Another way: `zip`"
   ]
  },
  {
   "cell_type": "code",
   "execution_count": null,
   "id": "latter-anchor",
   "metadata": {},
   "outputs": [],
   "source": [
    "l1 = [1, 2, 3, 4, 5]"
   ]
  },
  {
   "cell_type": "code",
   "execution_count": null,
   "id": "verbal-panama",
   "metadata": {},
   "outputs": [],
   "source": [
    "l2 = ['a', 'b', 'c', 'd', 'e']"
   ]
  },
  {
   "cell_type": "code",
   "execution_count": null,
   "id": "unlike-instruction",
   "metadata": {},
   "outputs": [],
   "source": [
    "zip(l1, l2)"
   ]
  },
  {
   "cell_type": "code",
   "execution_count": null,
   "id": "municipal-mailman",
   "metadata": {},
   "outputs": [],
   "source": [
    "list(zip(l1, l2))"
   ]
  },
  {
   "cell_type": "code",
   "execution_count": null,
   "id": "internal-leonard",
   "metadata": {},
   "outputs": [],
   "source": [
    "for n, l in zip(l1, l2):\n",
    "    print('First → {} | Second → {}'.format(n, l))"
   ]
  },
  {
   "cell_type": "code",
   "execution_count": null,
   "id": "white-layout",
   "metadata": {},
   "outputs": [],
   "source": [
    "days_in_month = {}\n",
    "\n",
    "for k, v in zip(months, days):\n",
    "    days_in_month[k] = v\n",
    "    \n",
    "days_in_month"
   ]
  },
  {
   "cell_type": "code",
   "execution_count": null,
   "id": "corrected-contamination",
   "metadata": {},
   "outputs": [],
   "source": [
    "dic1 = {'A' : 2}\n",
    "dic2 = {'B' : 1}"
   ]
  },
  {
   "cell_type": "code",
   "execution_count": null,
   "id": "voluntary-broadcast",
   "metadata": {},
   "outputs": [],
   "source": [
    "dic1 + dic2"
   ]
  },
  {
   "cell_type": "markdown",
   "id": "detailed-daughter",
   "metadata": {},
   "source": [
    "## Dictionaries Methods"
   ]
  },
  {
   "cell_type": "code",
   "execution_count": null,
   "id": "modular-blackberry",
   "metadata": {},
   "outputs": [],
   "source": [
    "dir(dict)"
   ]
  },
  {
   "cell_type": "code",
   "execution_count": null,
   "id": "existing-alexander",
   "metadata": {},
   "outputs": [],
   "source": [
    "days_in_month"
   ]
  },
  {
   "cell_type": "markdown",
   "id": "abandoned-mortgage",
   "metadata": {},
   "source": [
    "**Clear**"
   ]
  },
  {
   "cell_type": "code",
   "execution_count": null,
   "id": "detailed-power",
   "metadata": {},
   "outputs": [],
   "source": [
    "days_in_month.clear()\n",
    "days_in_month"
   ]
  },
  {
   "cell_type": "markdown",
   "id": "bigger-glossary",
   "metadata": {},
   "source": [
    "**copy**"
   ]
  },
  {
   "cell_type": "code",
   "execution_count": null,
   "id": "standing-natural",
   "metadata": {},
   "outputs": [],
   "source": [
    "dic1 = {}\n",
    "dic2 = dic1"
   ]
  },
  {
   "cell_type": "code",
   "execution_count": null,
   "id": "tracked-navigator",
   "metadata": {},
   "outputs": [],
   "source": [
    "dic1['A'] = 1"
   ]
  },
  {
   "cell_type": "code",
   "execution_count": null,
   "id": "yellow-encyclopedia",
   "metadata": {},
   "outputs": [],
   "source": [
    "dic1"
   ]
  },
  {
   "cell_type": "code",
   "execution_count": null,
   "id": "automatic-burner",
   "metadata": {},
   "outputs": [],
   "source": [
    "dic2"
   ]
  },
  {
   "cell_type": "code",
   "execution_count": null,
   "id": "thousand-blair",
   "metadata": {},
   "outputs": [],
   "source": [
    "dic1 = {}\n",
    "dic2 = dic1.copy()"
   ]
  },
  {
   "cell_type": "code",
   "execution_count": null,
   "id": "clear-meeting",
   "metadata": {},
   "outputs": [],
   "source": [
    "dic1['A'] = 1"
   ]
  },
  {
   "cell_type": "code",
   "execution_count": null,
   "id": "hindu-painting",
   "metadata": {},
   "outputs": [],
   "source": [
    "dic1"
   ]
  },
  {
   "cell_type": "code",
   "execution_count": null,
   "id": "cheap-sister",
   "metadata": {},
   "outputs": [],
   "source": [
    "dic2"
   ]
  },
  {
   "cell_type": "markdown",
   "id": "respiratory-aaron",
   "metadata": {},
   "source": [
    "**fromkeys**"
   ]
  },
  {
   "cell_type": "code",
   "execution_count": null,
   "id": "cardiovascular-narrative",
   "metadata": {},
   "outputs": [],
   "source": [
    "keys = ['key{}'.format(i) for i in range(1, 10)]"
   ]
  },
  {
   "cell_type": "code",
   "execution_count": null,
   "id": "congressional-rebel",
   "metadata": {},
   "outputs": [],
   "source": [
    "keys"
   ]
  },
  {
   "cell_type": "code",
   "execution_count": null,
   "id": "injured-heritage",
   "metadata": {},
   "outputs": [],
   "source": [
    "{}.fromkeys(keys)"
   ]
  },
  {
   "cell_type": "code",
   "execution_count": null,
   "id": "spoken-conference",
   "metadata": {},
   "outputs": [],
   "source": [
    "keys = 'abcdefg'"
   ]
  },
  {
   "cell_type": "code",
   "execution_count": null,
   "id": "threaded-buying",
   "metadata": {},
   "outputs": [],
   "source": [
    "{}.fromkeys(keys)"
   ]
  },
  {
   "cell_type": "code",
   "execution_count": null,
   "id": "japanese-cleanup",
   "metadata": {},
   "outputs": [],
   "source": [
    "{}.fromkeys(keys, 0)"
   ]
  },
  {
   "cell_type": "code",
   "execution_count": null,
   "id": "regional-effects",
   "metadata": {},
   "outputs": [],
   "source": [
    "{}.fromkeys(keys, '')"
   ]
  },
  {
   "cell_type": "markdown",
   "id": "abstract-merit",
   "metadata": {},
   "source": [
    "**Warning**"
   ]
  },
  {
   "cell_type": "code",
   "execution_count": null,
   "id": "ranging-convertible",
   "metadata": {},
   "outputs": [],
   "source": [
    "keys = ['key{}'.format(i) for i in range(1, 10)]"
   ]
  },
  {
   "cell_type": "code",
   "execution_count": null,
   "id": "killing-communications",
   "metadata": {},
   "outputs": [],
   "source": [
    "dic = {}.fromkeys(keys, [])\n",
    "dic"
   ]
  },
  {
   "cell_type": "code",
   "execution_count": null,
   "id": "bored-bibliography",
   "metadata": {},
   "outputs": [],
   "source": [
    "dic['key1'].append(1)"
   ]
  },
  {
   "cell_type": "code",
   "execution_count": null,
   "id": "arranged-range",
   "metadata": {},
   "outputs": [],
   "source": [
    "dic #all these keys point to the same list"
   ]
  },
  {
   "cell_type": "code",
   "execution_count": null,
   "id": "effective-lafayette",
   "metadata": {},
   "outputs": [],
   "source": [
    "dic = {}.fromkeys(keys, [].copy())\n",
    "dic"
   ]
  },
  {
   "cell_type": "code",
   "execution_count": null,
   "id": "assured-former",
   "metadata": {},
   "outputs": [],
   "source": [
    "dic['key1'].append(1)"
   ]
  },
  {
   "cell_type": "code",
   "execution_count": null,
   "id": "breathing-ground",
   "metadata": {},
   "outputs": [],
   "source": [
    "dic #what happened?"
   ]
  },
  {
   "cell_type": "code",
   "execution_count": null,
   "id": "chinese-official",
   "metadata": {},
   "outputs": [],
   "source": [
    "dic = {}.fromkeys(keys, {})\n",
    "dic"
   ]
  },
  {
   "cell_type": "code",
   "execution_count": null,
   "id": "disturbed-california",
   "metadata": {},
   "outputs": [],
   "source": [
    "dic['key1']['subkey'] = 1"
   ]
  },
  {
   "cell_type": "code",
   "execution_count": null,
   "id": "hungarian-county",
   "metadata": {},
   "outputs": [],
   "source": [
    "dic"
   ]
  },
  {
   "cell_type": "code",
   "execution_count": null,
   "id": "secondary-arizona",
   "metadata": {},
   "outputs": [],
   "source": [
    "dic = {}\n",
    "\n",
    "for k in keys:\n",
    "    dic[k] = []\n",
    "    \n",
    "dic"
   ]
  },
  {
   "cell_type": "code",
   "execution_count": null,
   "id": "collectible-impact",
   "metadata": {},
   "outputs": [],
   "source": [
    "dic['key1'].append(2)\n",
    "dic"
   ]
  },
  {
   "cell_type": "markdown",
   "id": "mexican-harris",
   "metadata": {},
   "source": [
    "**Apply list comprehension to dictionaries**"
   ]
  },
  {
   "cell_type": "code",
   "execution_count": null,
   "id": "collectible-producer",
   "metadata": {},
   "outputs": [],
   "source": [
    "dic = {k : [] for k in keys}\n",
    "dic"
   ]
  },
  {
   "cell_type": "code",
   "execution_count": null,
   "id": "boolean-polymer",
   "metadata": {},
   "outputs": [],
   "source": [
    "dic['key1'].append(1)"
   ]
  },
  {
   "cell_type": "code",
   "execution_count": null,
   "id": "written-reward",
   "metadata": {},
   "outputs": [],
   "source": [
    "dic"
   ]
  },
  {
   "cell_type": "code",
   "execution_count": null,
   "id": "smart-indiana",
   "metadata": {},
   "outputs": [],
   "source": [
    "dic = {k : i for k, i in zip(keys, range(1, len(keys) + 1))}\n",
    "dic"
   ]
  },
  {
   "cell_type": "markdown",
   "id": "intermediate-stone",
   "metadata": {},
   "source": [
    "**get**"
   ]
  },
  {
   "cell_type": "code",
   "execution_count": null,
   "id": "invisible-birmingham",
   "metadata": {},
   "outputs": [],
   "source": [
    "dic.get('key1')"
   ]
  },
  {
   "cell_type": "code",
   "execution_count": null,
   "id": "egyptian-danger",
   "metadata": {},
   "outputs": [],
   "source": [
    "dic['key66']"
   ]
  },
  {
   "cell_type": "code",
   "execution_count": null,
   "id": "flying-evaluation",
   "metadata": {},
   "outputs": [],
   "source": [
    "dic.get('key66')"
   ]
  },
  {
   "cell_type": "code",
   "execution_count": null,
   "id": "appreciated-brighton",
   "metadata": {},
   "outputs": [],
   "source": [
    "dic.get('key66', 'Error 404 page no found')"
   ]
  },
  {
   "cell_type": "markdown",
   "id": "english-friendly",
   "metadata": {},
   "source": [
    "**items**"
   ]
  },
  {
   "cell_type": "code",
   "execution_count": null,
   "id": "horizontal-storage",
   "metadata": {},
   "outputs": [],
   "source": [
    "dic.items()"
   ]
  },
  {
   "cell_type": "code",
   "execution_count": null,
   "id": "coordinate-lancaster",
   "metadata": {},
   "outputs": [],
   "source": [
    "for k, v in dic.items():\n",
    "    print('Key → {} | Value → {}'.format(k, v))"
   ]
  },
  {
   "cell_type": "markdown",
   "id": "extraordinary-anniversary",
   "metadata": {},
   "source": [
    " **keys**"
   ]
  },
  {
   "cell_type": "code",
   "execution_count": null,
   "id": "medical-sullivan",
   "metadata": {},
   "outputs": [],
   "source": [
    "dic.keys()"
   ]
  },
  {
   "cell_type": "code",
   "execution_count": null,
   "id": "hydraulic-berry",
   "metadata": {},
   "outputs": [],
   "source": [
    "for k in dic.keys():\n",
    "    print('Key → {}'.format(k))"
   ]
  },
  {
   "cell_type": "markdown",
   "id": "conditional-major",
   "metadata": {},
   "source": [
    "**values**"
   ]
  },
  {
   "cell_type": "code",
   "execution_count": null,
   "id": "expensive-headline",
   "metadata": {},
   "outputs": [],
   "source": [
    "dic.values()"
   ]
  },
  {
   "cell_type": "code",
   "execution_count": null,
   "id": "conventional-kidney",
   "metadata": {},
   "outputs": [],
   "source": [
    "for v in dic.values():\n",
    "    print('Value → {}'.format(v))"
   ]
  },
  {
   "cell_type": "markdown",
   "id": "surprised-knowing",
   "metadata": {},
   "source": [
    "**Performance tip**"
   ]
  },
  {
   "cell_type": "code",
   "execution_count": null,
   "id": "informational-birmingham",
   "metadata": {},
   "outputs": [],
   "source": [
    "l = [i for i in range(1, 10001)]\n",
    "l"
   ]
  },
  {
   "cell_type": "code",
   "execution_count": null,
   "id": "manufactured-temple",
   "metadata": {},
   "outputs": [],
   "source": [
    "%timeit 2 in l"
   ]
  },
  {
   "cell_type": "code",
   "execution_count": null,
   "id": "partial-paragraph",
   "metadata": {},
   "outputs": [],
   "source": [
    "%timeit 9998 in l"
   ]
  },
  {
   "cell_type": "code",
   "execution_count": null,
   "id": "sealed-approach",
   "metadata": {},
   "outputs": [],
   "source": [
    "d = {}.fromkeys(l)"
   ]
  },
  {
   "cell_type": "code",
   "execution_count": null,
   "id": "spread-funeral",
   "metadata": {},
   "outputs": [],
   "source": [
    "%timeit 2 in d"
   ]
  },
  {
   "cell_type": "code",
   "execution_count": null,
   "id": "interested-daughter",
   "metadata": {},
   "outputs": [],
   "source": [
    "%timeit 9998 in d"
   ]
  },
  {
   "cell_type": "code",
   "execution_count": null,
   "id": "lined-option",
   "metadata": {},
   "outputs": [],
   "source": [
    "%timeit 2 in d.keys()"
   ]
  },
  {
   "cell_type": "code",
   "execution_count": null,
   "id": "indirect-converter",
   "metadata": {},
   "outputs": [],
   "source": [
    "%timeit 9998 in d.keys()"
   ]
  },
  {
   "cell_type": "code",
   "execution_count": null,
   "id": "resident-attempt",
   "metadata": {},
   "outputs": [],
   "source": [
    "d.values();"
   ]
  },
  {
   "cell_type": "code",
   "execution_count": null,
   "id": "comic-learning",
   "metadata": {},
   "outputs": [],
   "source": [
    "%timeit 2 in d.values()"
   ]
  },
  {
   "cell_type": "code",
   "execution_count": null,
   "id": "fundamental-hughes",
   "metadata": {},
   "outputs": [],
   "source": [
    "%timeit 9998 in d.values()#what is happening"
   ]
  },
  {
   "cell_type": "markdown",
   "id": "great-preview",
   "metadata": {},
   "source": [
    " **pop**"
   ]
  },
  {
   "cell_type": "code",
   "execution_count": null,
   "id": "chronic-programming",
   "metadata": {},
   "outputs": [],
   "source": [
    "dic"
   ]
  },
  {
   "cell_type": "code",
   "execution_count": null,
   "id": "incorporate-expansion",
   "metadata": {},
   "outputs": [],
   "source": [
    "dic.pop()"
   ]
  },
  {
   "cell_type": "code",
   "execution_count": null,
   "id": "given-disney",
   "metadata": {},
   "outputs": [],
   "source": [
    "dic.pop('key9')"
   ]
  },
  {
   "cell_type": "code",
   "execution_count": null,
   "id": "viral-contrast",
   "metadata": {},
   "outputs": [],
   "source": [
    "?dic.pop"
   ]
  },
  {
   "cell_type": "code",
   "execution_count": null,
   "id": "particular-logging",
   "metadata": {},
   "outputs": [],
   "source": [
    "dic.pop('key66')"
   ]
  },
  {
   "cell_type": "code",
   "execution_count": null,
   "id": "specified-operator",
   "metadata": {},
   "outputs": [],
   "source": [
    "dic.pop('key66', 'Error 404 page no found')"
   ]
  },
  {
   "cell_type": "markdown",
   "id": "equal-cowboy",
   "metadata": {},
   "source": [
    "**popitem**"
   ]
  },
  {
   "cell_type": "code",
   "execution_count": null,
   "id": "quantitative-marketplace",
   "metadata": {},
   "outputs": [],
   "source": [
    "dic"
   ]
  },
  {
   "cell_type": "code",
   "execution_count": null,
   "id": "finnish-abortion",
   "metadata": {},
   "outputs": [],
   "source": [
    "dic.popitem()"
   ]
  },
  {
   "cell_type": "code",
   "execution_count": null,
   "id": "manufactured-hamilton",
   "metadata": {},
   "outputs": [],
   "source": [
    "?dic.popitem"
   ]
  },
  {
   "cell_type": "markdown",
   "id": "matched-diana",
   "metadata": {},
   "source": [
    "The `popitem()` method removes the item that was last inserted into the dictionary. In versions before `3.7`, the `popitem()` method removes a random item."
   ]
  },
  {
   "cell_type": "code",
   "execution_count": null,
   "id": "arabic-employee",
   "metadata": {},
   "outputs": [],
   "source": [
    "dic2 = {}"
   ]
  },
  {
   "cell_type": "code",
   "execution_count": null,
   "id": "apart-render",
   "metadata": {},
   "outputs": [],
   "source": [
    "dic2.popitem()"
   ]
  },
  {
   "cell_type": "code",
   "execution_count": null,
   "id": "blocked-scanning",
   "metadata": {},
   "outputs": [],
   "source": [
    "dic2.popitem('Error 404 page no found')"
   ]
  },
  {
   "cell_type": "markdown",
   "id": "vietnamese-table",
   "metadata": {},
   "source": [
    "**setdefault**\n"
   ]
  },
  {
   "cell_type": "code",
   "execution_count": null,
   "id": "incorrect-nudist",
   "metadata": {},
   "outputs": [],
   "source": [
    "dic"
   ]
  },
  {
   "cell_type": "code",
   "execution_count": null,
   "id": "perfect-prior",
   "metadata": {},
   "outputs": [],
   "source": [
    "dic.setdefault('key8')"
   ]
  },
  {
   "cell_type": "code",
   "execution_count": null,
   "id": "american-massage",
   "metadata": {},
   "outputs": [],
   "source": [
    "dic"
   ]
  },
  {
   "cell_type": "code",
   "execution_count": null,
   "id": "incident-andorra",
   "metadata": {},
   "outputs": [],
   "source": [
    "?dic.setdefault"
   ]
  },
  {
   "cell_type": "code",
   "execution_count": null,
   "id": "unusual-colombia",
   "metadata": {},
   "outputs": [],
   "source": [
    "dic.setdefault('key8', 8)"
   ]
  },
  {
   "cell_type": "code",
   "execution_count": null,
   "id": "amended-arkansas",
   "metadata": {},
   "outputs": [],
   "source": [
    "dic"
   ]
  },
  {
   "cell_type": "code",
   "execution_count": null,
   "id": "original-shock",
   "metadata": {},
   "outputs": [],
   "source": [
    "dic.setdefault('key9', 9)"
   ]
  },
  {
   "cell_type": "markdown",
   "id": "nervous-blank",
   "metadata": {},
   "source": [
    "**update**"
   ]
  },
  {
   "cell_type": "code",
   "execution_count": null,
   "id": "figured-reset",
   "metadata": {},
   "outputs": [],
   "source": [
    "dic.update({'key8' : 8})"
   ]
  },
  {
   "cell_type": "code",
   "execution_count": null,
   "id": "offensive-simon",
   "metadata": {},
   "outputs": [],
   "source": [
    "dic"
   ]
  },
  {
   "cell_type": "code",
   "execution_count": null,
   "id": "foreign-boston",
   "metadata": {},
   "outputs": [],
   "source": [
    "dic.update({'key1' : '1', 'key2' : '2', 'key10' : 10})"
   ]
  },
  {
   "cell_type": "code",
   "execution_count": null,
   "id": "correct-billy",
   "metadata": {},
   "outputs": [],
   "source": [
    "dic"
   ]
  },
  {
   "cell_type": "markdown",
   "id": "compound-repeat",
   "metadata": {},
   "source": [
    "### Exercise\n",
    "<hr>"
   ]
  },
  {
   "cell_type": "markdown",
   "id": "serious-acceptance",
   "metadata": {},
   "source": [
    "**Mode**\n",
    "\n",
    "- Write the `mode` function but in this case use dictionaries in your implementation."
   ]
  },
  {
   "cell_type": "code",
   "execution_count": null,
   "id": "touched-manor",
   "metadata": {},
   "outputs": [],
   "source": []
  },
  {
   "cell_type": "markdown",
   "id": "saved-samuel",
   "metadata": {},
   "source": [
    "- Read the `El Hobbit.txt` file an count how many times appear each word, **Be careful with the special symbols**"
   ]
  },
  {
   "cell_type": "code",
   "execution_count": null,
   "id": "surgical-material",
   "metadata": {},
   "outputs": [],
   "source": []
  },
  {
   "cell_type": "markdown",
   "id": "robust-measurement",
   "metadata": {},
   "source": [
    "## Map and Filter"
   ]
  },
  {
   "cell_type": "code",
   "execution_count": null,
   "id": "disabled-temperature",
   "metadata": {},
   "outputs": [],
   "source": [
    "import auxiliar"
   ]
  },
  {
   "cell_type": "code",
   "execution_count": null,
   "id": "indoor-praise",
   "metadata": {},
   "outputs": [],
   "source": [
    "l = [i for i in range(1, 101)]"
   ]
  },
  {
   "cell_type": "code",
   "execution_count": null,
   "id": "decreased-fields",
   "metadata": {},
   "outputs": [],
   "source": [
    "map(auxiliar.is_prime, l)"
   ]
  },
  {
   "cell_type": "code",
   "execution_count": null,
   "id": "imperial-cedar",
   "metadata": {},
   "outputs": [],
   "source": [
    "list(map(auxiliar.is_prime, l))"
   ]
  },
  {
   "cell_type": "code",
   "execution_count": null,
   "id": "metropolitan-border",
   "metadata": {},
   "outputs": [],
   "source": [
    "%timeit -n 1000 -r 10 [auxiliar.is_prime(elem) for elem in l]"
   ]
  },
  {
   "cell_type": "code",
   "execution_count": null,
   "id": "representative-pension",
   "metadata": {},
   "outputs": [],
   "source": [
    "%%timeit -n 1000 -r 10 \n",
    "p = []\n",
    "for elem in l:\n",
    "    p.append(auxiliar.is_prime(elem))"
   ]
  },
  {
   "cell_type": "code",
   "execution_count": null,
   "id": "conservative-pierre",
   "metadata": {},
   "outputs": [],
   "source": [
    "%timeit -n 1000 -r 10 map(auxiliar.is_prime, l)"
   ]
  },
  {
   "cell_type": "code",
   "execution_count": null,
   "id": "automotive-metadata",
   "metadata": {},
   "outputs": [],
   "source": [
    "filter(auxiliar.is_prime, l)"
   ]
  },
  {
   "cell_type": "code",
   "execution_count": null,
   "id": "copyrighted-string",
   "metadata": {},
   "outputs": [],
   "source": [
    "list(filter(auxiliar.is_prime, l))"
   ]
  },
  {
   "cell_type": "code",
   "execution_count": null,
   "id": "confused-focus",
   "metadata": {},
   "outputs": [],
   "source": [
    "%timeit -n 1000 -r 10 [elem for elem in l if auxiliar.is_prime(elem)]"
   ]
  },
  {
   "cell_type": "code",
   "execution_count": null,
   "id": "quality-branch",
   "metadata": {},
   "outputs": [],
   "source": [
    "%timeit -n 1000 -r 10 filter(auxiliar.is_prime, l)"
   ]
  },
  {
   "cell_type": "code",
   "execution_count": null,
   "id": "supreme-engagement",
   "metadata": {},
   "outputs": [],
   "source": [
    "list(filter(str.isupper, 'AbCdEfG'))"
   ]
  },
  {
   "cell_type": "code",
   "execution_count": null,
   "id": "allied-firmware",
   "metadata": {},
   "outputs": [],
   "source": [
    "l = [r.randint(1, 100) for i in range(200)]"
   ]
  },
  {
   "cell_type": "code",
   "execution_count": null,
   "id": "manual-shark",
   "metadata": {},
   "outputs": [],
   "source": [
    "f = filter(lambda x: x > 50, l)"
   ]
  },
  {
   "cell_type": "code",
   "execution_count": null,
   "id": "informative-bracket",
   "metadata": {
    "scrolled": true
   },
   "outputs": [],
   "source": [
    "list(f)"
   ]
  },
  {
   "cell_type": "code",
   "execution_count": null,
   "id": "bored-percentage",
   "metadata": {},
   "outputs": [],
   "source": [
    "g_t_50 = lambda x: x > 50"
   ]
  },
  {
   "cell_type": "code",
   "execution_count": null,
   "id": "opposed-expert",
   "metadata": {},
   "outputs": [],
   "source": [
    "g_t_50"
   ]
  },
  {
   "cell_type": "code",
   "execution_count": null,
   "id": "unique-above",
   "metadata": {},
   "outputs": [],
   "source": [
    "g_t_50(25)"
   ]
  },
  {
   "cell_type": "code",
   "execution_count": null,
   "id": "published-expression",
   "metadata": {},
   "outputs": [],
   "source": [
    "def g_t_50_l(x):\n",
    "    return x > 50"
   ]
  },
  {
   "cell_type": "code",
   "execution_count": null,
   "id": "later-infection",
   "metadata": {},
   "outputs": [],
   "source": [
    "g_t_50_l"
   ]
  },
  {
   "cell_type": "code",
   "execution_count": null,
   "id": "insured-chambers",
   "metadata": {},
   "outputs": [],
   "source": [
    "g_t_50_l(25)"
   ]
  },
  {
   "cell_type": "code",
   "execution_count": null,
   "id": "smoking-service",
   "metadata": {},
   "outputs": [],
   "source": [
    "is_even = lambda x: x % 2 == 0"
   ]
  },
  {
   "cell_type": "code",
   "execution_count": null,
   "id": "bacterial-ebony",
   "metadata": {},
   "outputs": [],
   "source": [
    "is_even(4)"
   ]
  },
  {
   "cell_type": "code",
   "execution_count": null,
   "id": "female-cleveland",
   "metadata": {},
   "outputs": [],
   "source": [
    "rectangle_area = lambda h, w: h * w"
   ]
  },
  {
   "cell_type": "code",
   "execution_count": null,
   "id": "indirect-characteristic",
   "metadata": {},
   "outputs": [],
   "source": [
    "rectangle_area(4, 3)"
   ]
  },
  {
   "cell_type": "markdown",
   "id": "greater-somalia",
   "metadata": {},
   "source": [
    "# Objects\n",
    "<hr>\n",
    "\n",
    "## Basics (Clases)\n",
    "\n",
    "In matters I code a class in a code container, in a similar way to functions, but conceptually it will represent a new type of object within python, and we can give it the characteristics of the object we are inspired by."
   ]
  },
  {
   "cell_type": "code",
   "execution_count": null,
   "id": "aging-johns",
   "metadata": {},
   "outputs": [],
   "source": [
    "class Beer:\n",
    "    pass"
   ]
  },
  {
   "cell_type": "markdown",
   "id": "treated-techno",
   "metadata": {},
   "source": [
    "## Attributes"
   ]
  },
  {
   "cell_type": "code",
   "execution_count": null,
   "id": "arctic-willow",
   "metadata": {},
   "outputs": [],
   "source": [
    "class Beer:\n",
    "    national = True\n",
    "    type_    = 'ales'"
   ]
  },
  {
   "cell_type": "code",
   "execution_count": null,
   "id": "substantial-credit",
   "metadata": {},
   "outputs": [],
   "source": [
    "Beer.national"
   ]
  },
  {
   "cell_type": "code",
   "execution_count": null,
   "id": "proud-puppy",
   "metadata": {},
   "outputs": [],
   "source": [
    "Beer.type_"
   ]
  },
  {
   "cell_type": "markdown",
   "id": "monetary-knife",
   "metadata": {},
   "source": [
    "**Instances**"
   ]
  },
  {
   "cell_type": "code",
   "execution_count": null,
   "id": "floppy-commons",
   "metadata": {},
   "outputs": [],
   "source": [
    "heineken = Beer()\n",
    "indio    = Beer()"
   ]
  },
  {
   "cell_type": "code",
   "execution_count": null,
   "id": "front-portfolio",
   "metadata": {},
   "outputs": [],
   "source": [
    "indio"
   ]
  },
  {
   "cell_type": "code",
   "execution_count": null,
   "id": "natural-audience",
   "metadata": {},
   "outputs": [],
   "source": [
    "type(indio)"
   ]
  },
  {
   "cell_type": "code",
   "execution_count": null,
   "id": "separated-chancellor",
   "metadata": {},
   "outputs": [],
   "source": [
    "isinstance(indio, Beer)"
   ]
  },
  {
   "cell_type": "code",
   "execution_count": null,
   "id": "beneficial-spelling",
   "metadata": {},
   "outputs": [],
   "source": [
    "indio.type_"
   ]
  },
  {
   "cell_type": "code",
   "execution_count": null,
   "id": "chubby-compromise",
   "metadata": {},
   "outputs": [],
   "source": [
    "indio.national"
   ]
  },
  {
   "cell_type": "code",
   "execution_count": null,
   "id": "virtual-flesh",
   "metadata": {},
   "outputs": [],
   "source": [
    "heineken.national"
   ]
  },
  {
   "cell_type": "code",
   "execution_count": null,
   "id": "sized-morning",
   "metadata": {},
   "outputs": [],
   "source": [
    "heineken.type_"
   ]
  },
  {
   "cell_type": "code",
   "execution_count": null,
   "id": "elder-puppy",
   "metadata": {},
   "outputs": [],
   "source": [
    "heineken.national = False\n",
    "heineken.type_    = 'lagers'"
   ]
  },
  {
   "cell_type": "code",
   "execution_count": null,
   "id": "complicated-cigarette",
   "metadata": {},
   "outputs": [],
   "source": [
    "heineken.national"
   ]
  },
  {
   "cell_type": "code",
   "execution_count": null,
   "id": "robust-ribbon",
   "metadata": {},
   "outputs": [],
   "source": [
    "heineken.type_"
   ]
  },
  {
   "cell_type": "code",
   "execution_count": null,
   "id": "arranged-sample",
   "metadata": {},
   "outputs": [],
   "source": [
    "indio.type_"
   ]
  },
  {
   "cell_type": "code",
   "execution_count": null,
   "id": "funny-trinity",
   "metadata": {},
   "outputs": [],
   "source": [
    "indio.national"
   ]
  },
  {
   "cell_type": "code",
   "execution_count": null,
   "id": "broken-hygiene",
   "metadata": {},
   "outputs": [],
   "source": [
    "heineken.price = 20.0"
   ]
  },
  {
   "cell_type": "code",
   "execution_count": null,
   "id": "polished-recorder",
   "metadata": {},
   "outputs": [],
   "source": [
    "heineken.price"
   ]
  },
  {
   "cell_type": "code",
   "execution_count": null,
   "id": "ambient-wrestling",
   "metadata": {},
   "outputs": [],
   "source": [
    "indio.price"
   ]
  },
  {
   "cell_type": "markdown",
   "id": "unlimited-moldova",
   "metadata": {},
   "source": [
    "## Methods"
   ]
  },
  {
   "cell_type": "code",
   "execution_count": null,
   "id": "aquatic-uncle",
   "metadata": {},
   "outputs": [],
   "source": [
    "class Beer:\n",
    "    national = True\n",
    "    type_    = 'ales'\n",
    "    \n",
    "    \n",
    "    def beer_type(t):\n",
    "        print('This is a {} beer'.format(t))"
   ]
  },
  {
   "cell_type": "code",
   "execution_count": null,
   "id": "respiratory-riding",
   "metadata": {},
   "outputs": [],
   "source": [
    "Beer.beer_type"
   ]
  },
  {
   "cell_type": "code",
   "execution_count": null,
   "id": "psychological-savings",
   "metadata": {},
   "outputs": [],
   "source": [
    "Beer.beer_type('Ale')"
   ]
  },
  {
   "cell_type": "code",
   "execution_count": null,
   "id": "revolutionary-metabolism",
   "metadata": {},
   "outputs": [],
   "source": [
    "indio = Beer()"
   ]
  },
  {
   "cell_type": "code",
   "execution_count": null,
   "id": "danish-intranet",
   "metadata": {},
   "outputs": [],
   "source": [
    "indio.beer_type"
   ]
  },
  {
   "cell_type": "code",
   "execution_count": null,
   "id": "coated-joint",
   "metadata": {},
   "outputs": [],
   "source": [
    "indio.beer_type()"
   ]
  },
  {
   "cell_type": "code",
   "execution_count": null,
   "id": "indirect-transfer",
   "metadata": {},
   "outputs": [],
   "source": [
    "indio"
   ]
  },
  {
   "cell_type": "code",
   "execution_count": null,
   "id": "grateful-ivory",
   "metadata": {},
   "outputs": [],
   "source": [
    "int(0x00000197FF57F160) == int(0x197ff57f160)"
   ]
  },
  {
   "cell_type": "markdown",
   "id": "ranking-rescue",
   "metadata": {},
   "source": [
    "**self**"
   ]
  },
  {
   "cell_type": "code",
   "execution_count": null,
   "id": "interested-employment",
   "metadata": {},
   "outputs": [],
   "source": [
    "class Beer:\n",
    "    national = True\n",
    "    type_    = 'ales'\n",
    "    \n",
    "    \n",
    "    def beer_type(self):\n",
    "        print('This is a {} beer'.format(self.type_))"
   ]
  },
  {
   "cell_type": "code",
   "execution_count": null,
   "id": "virgin-seattle",
   "metadata": {},
   "outputs": [],
   "source": [
    "indio = Beer()"
   ]
  },
  {
   "cell_type": "code",
   "execution_count": null,
   "id": "absent-salad",
   "metadata": {},
   "outputs": [],
   "source": [
    "indio.beer_type()"
   ]
  },
  {
   "cell_type": "markdown",
   "id": "purple-detective",
   "metadata": {},
   "source": [
    "`__init__` **method**"
   ]
  },
  {
   "cell_type": "code",
   "execution_count": null,
   "id": "unexpected-guess",
   "metadata": {},
   "outputs": [],
   "source": [
    "class Beer:\n",
    "    \n",
    "    def __init__(self, national = True, type_ = 'ales'):\n",
    "        national = national\n",
    "        type_    = type_\n",
    "        \n",
    "    def beer_type(self):\n",
    "        print('This is a {} beer'.format(self.type_))"
   ]
  },
  {
   "cell_type": "code",
   "execution_count": null,
   "id": "overall-aircraft",
   "metadata": {},
   "outputs": [],
   "source": [
    "indio =  Beer()"
   ]
  },
  {
   "cell_type": "code",
   "execution_count": null,
   "id": "neither-place",
   "metadata": {},
   "outputs": [],
   "source": [
    "indio.national"
   ]
  },
  {
   "cell_type": "code",
   "execution_count": null,
   "id": "collective-circus",
   "metadata": {},
   "outputs": [],
   "source": [
    "class Beer:\n",
    "    \n",
    "    def __init__(self, national = True, type_ = 'ales'):\n",
    "        self.national = national\n",
    "        self.type_    = type_\n",
    "        \n",
    "    def beer_type(self):\n",
    "        print('This is a {} beer'.format(self.type_))"
   ]
  },
  {
   "cell_type": "code",
   "execution_count": null,
   "id": "fixed-isaac",
   "metadata": {},
   "outputs": [],
   "source": [
    "indio =  Beer()"
   ]
  },
  {
   "cell_type": "code",
   "execution_count": null,
   "id": "comfortable-smell",
   "metadata": {},
   "outputs": [],
   "source": [
    "indio.national"
   ]
  },
  {
   "cell_type": "code",
   "execution_count": null,
   "id": "diverse-universe",
   "metadata": {},
   "outputs": [],
   "source": [
    "indio.beer_type()"
   ]
  },
  {
   "cell_type": "code",
   "execution_count": null,
   "id": "opponent-belgium",
   "metadata": {},
   "outputs": [],
   "source": [
    "import math"
   ]
  },
  {
   "cell_type": "code",
   "execution_count": null,
   "id": "simple-tissue",
   "metadata": {},
   "outputs": [],
   "source": [
    "class Circle:\n",
    "    \n",
    "    def __init__(self, radius):\n",
    "        self.radius = radius\n",
    "        self.perimeter = 2 * math.pi * self.radius\n",
    "        self.area      = math.pi * self.radius ** 2"
   ]
  },
  {
   "cell_type": "code",
   "execution_count": null,
   "id": "adverse-reception",
   "metadata": {},
   "outputs": [],
   "source": [
    "c = Circle()"
   ]
  },
  {
   "cell_type": "code",
   "execution_count": null,
   "id": "romance-resort",
   "metadata": {},
   "outputs": [],
   "source": [
    "c = Circle(1)"
   ]
  },
  {
   "cell_type": "code",
   "execution_count": null,
   "id": "serious-suggestion",
   "metadata": {},
   "outputs": [],
   "source": [
    "c"
   ]
  },
  {
   "cell_type": "code",
   "execution_count": null,
   "id": "chronic-lewis",
   "metadata": {},
   "outputs": [],
   "source": [
    "c.radius"
   ]
  },
  {
   "cell_type": "code",
   "execution_count": null,
   "id": "standing-tiger",
   "metadata": {},
   "outputs": [],
   "source": [
    "c.perimeter"
   ]
  },
  {
   "cell_type": "code",
   "execution_count": null,
   "id": "public-render",
   "metadata": {},
   "outputs": [],
   "source": [
    "c.area"
   ]
  },
  {
   "cell_type": "markdown",
   "id": "excess-child",
   "metadata": {},
   "source": [
    "## Properties"
   ]
  },
  {
   "cell_type": "code",
   "execution_count": null,
   "id": "corporate-identity",
   "metadata": {},
   "outputs": [],
   "source": [
    "class Circle:\n",
    "    \n",
    "    def __init__(self, radius):\n",
    "        self.radius = radius\n",
    "        \n",
    "    def area(self):\n",
    "        return math.pi * self.radius ** 2"
   ]
  },
  {
   "cell_type": "code",
   "execution_count": null,
   "id": "infectious-franklin",
   "metadata": {},
   "outputs": [],
   "source": [
    "c = Circle(1)"
   ]
  },
  {
   "cell_type": "code",
   "execution_count": null,
   "id": "fossil-international",
   "metadata": {},
   "outputs": [],
   "source": [
    "c.area()"
   ]
  },
  {
   "cell_type": "code",
   "execution_count": null,
   "id": "indie-iraqi",
   "metadata": {},
   "outputs": [],
   "source": [
    "c.radius = 'two'"
   ]
  },
  {
   "cell_type": "code",
   "execution_count": null,
   "id": "entertaining-celtic",
   "metadata": {},
   "outputs": [],
   "source": [
    "c.area()"
   ]
  },
  {
   "cell_type": "code",
   "execution_count": null,
   "id": "bearing-three",
   "metadata": {},
   "outputs": [],
   "source": [
    "class Circle:\n",
    "    \n",
    "    def __init__(self, radius):\n",
    "        self._radius = radius#set_radius(radius)\n",
    "        \n",
    "        \n",
    "    def area(self):\n",
    "        return math.pi * self._radius ** 2\n",
    "    \n",
    "    def get_radius(self):\n",
    "        return self._radius\n",
    "    \n",
    "    def set_radius(self, new_radius):\n",
    "        if isinstance(new_radius, (int, float)):\n",
    "            self._radius = new_radius\n",
    "            \n",
    "        else:\n",
    "            raise ValueError('The radius must be an int or float type')"
   ]
  },
  {
   "cell_type": "code",
   "execution_count": null,
   "id": "functional-pathology",
   "metadata": {},
   "outputs": [],
   "source": [
    "c = Circle(1)"
   ]
  },
  {
   "cell_type": "code",
   "execution_count": null,
   "id": "genuine-corps",
   "metadata": {},
   "outputs": [],
   "source": [
    "c.get_radius()"
   ]
  },
  {
   "cell_type": "code",
   "execution_count": null,
   "id": "severe-frost",
   "metadata": {},
   "outputs": [],
   "source": [
    "c.set_radius('two')"
   ]
  },
  {
   "cell_type": "code",
   "execution_count": null,
   "id": "announced-rachel",
   "metadata": {},
   "outputs": [],
   "source": [
    "c.set_radius(2)"
   ]
  },
  {
   "cell_type": "code",
   "execution_count": null,
   "id": "finite-publication",
   "metadata": {},
   "outputs": [],
   "source": [
    "c.area()"
   ]
  },
  {
   "cell_type": "code",
   "execution_count": null,
   "id": "bibliographic-biology",
   "metadata": {},
   "outputs": [],
   "source": [
    "c._radius = 'two'"
   ]
  },
  {
   "cell_type": "code",
   "execution_count": null,
   "id": "blond-objective",
   "metadata": {},
   "outputs": [],
   "source": [
    "c.area()"
   ]
  },
  {
   "cell_type": "code",
   "execution_count": null,
   "id": "stopped-sullivan",
   "metadata": {},
   "outputs": [],
   "source": [
    "class Circle:\n",
    "    \n",
    "    def __init__(self, radius):\n",
    "        self.set_radius(radius)\n",
    "        \n",
    "        \n",
    "    def area(self):\n",
    "        return math.pi * self._radius ** 2\n",
    "    \n",
    "    def get_radius(self):\n",
    "        return self._radius\n",
    "    \n",
    "    def set_radius(self, new_radius):\n",
    "        if isinstance(new_radius, (int, float)):\n",
    "            self._radius = new_radius\n",
    "            \n",
    "        else:\n",
    "            raise ValueError('The radius must be an int or float type')\n",
    "            \n",
    "    radius = property(fget = get_radius, fset = set_radius)"
   ]
  },
  {
   "cell_type": "code",
   "execution_count": null,
   "id": "bottom-split",
   "metadata": {},
   "outputs": [],
   "source": [
    "c = Circle(1)"
   ]
  },
  {
   "cell_type": "code",
   "execution_count": null,
   "id": "unlike-heaven",
   "metadata": {},
   "outputs": [],
   "source": [
    "c.radius"
   ]
  },
  {
   "cell_type": "code",
   "execution_count": null,
   "id": "black-beverage",
   "metadata": {},
   "outputs": [],
   "source": [
    "c.radius = 2"
   ]
  },
  {
   "cell_type": "code",
   "execution_count": null,
   "id": "renewable-fossil",
   "metadata": {},
   "outputs": [],
   "source": [
    "c.radius"
   ]
  },
  {
   "cell_type": "code",
   "execution_count": null,
   "id": "framed-saver",
   "metadata": {},
   "outputs": [],
   "source": [
    "c.area()"
   ]
  },
  {
   "cell_type": "code",
   "execution_count": null,
   "id": "likely-defense",
   "metadata": {},
   "outputs": [],
   "source": [
    "c.radius = 'two'"
   ]
  },
  {
   "cell_type": "code",
   "execution_count": null,
   "id": "completed-adjustment",
   "metadata": {},
   "outputs": [],
   "source": [
    "c._radius = 'two'"
   ]
  },
  {
   "cell_type": "code",
   "execution_count": null,
   "id": "imposed-limitation",
   "metadata": {},
   "outputs": [],
   "source": [
    "c.area()"
   ]
  },
  {
   "cell_type": "markdown",
   "id": "heard-filter",
   "metadata": {},
   "source": [
    "## Read-Only Properties"
   ]
  },
  {
   "cell_type": "code",
   "execution_count": null,
   "id": "prescribed-subscriber",
   "metadata": {},
   "outputs": [],
   "source": [
    "class DebitCard:\n",
    "    \"\"\"\n",
    "    A class used to represent a debit card\n",
    "    \n",
    "    ...\n",
    "    Attributes\n",
    "    ----------\n",
    "    account : int\n",
    "        The account number of the card\n",
    "    card : int\n",
    "        The card number\n",
    "        \n",
    "    \"\"\"\n",
    "    \n",
    "    def __init__(self, account: int, card: int):\n",
    "        \n",
    "        if isinstance(account, int) and len(str(account)) == 8:\n",
    "            self._account = account\n",
    "        else:\n",
    "            raise ValueError('The account number must be an 8-digit integer.')\n",
    "        \n",
    "        self.card  = card\n",
    "    \n",
    "    #account property x-x-x-x-x-x-x-x-x-x-x-x-x-x-x-x-x-x-x-x-x-x-x-x-x-x-x-x-x-x-x-x-x-x-x-x-x-x-x-x-x-x-x-x-x-x-x\n",
    "    def get_account(self):\n",
    "        return self._account\n",
    "    \n",
    "    account = property(fget = get_account, doc = 'The account number')\n",
    "    \n",
    "    \n",
    "    #card property x-x-x-x-x-x-x-x-x-x-x-x-x-x-x-x-x-x-x-x-x-x-x-x-x-x-x-x-x-x-x-x-x-x-x-x-x-x-x-x-x-x-x-x-x-x-x-x\n",
    "    def get_card(self):\n",
    "        return self._card\n",
    "    \n",
    "    def set_card(self, card: int):\n",
    "        if isinstance(card, int) and len(str(card)) == 16:\n",
    "            self._card = card\n",
    "            \n",
    "        else:\n",
    "            raise ValueError('The card number must be an 16-digit integer.')\n",
    "            \n",
    "    card = property(fget = get_card, fset = set_card, doc = 'The card number')\n"
   ]
  },
  {
   "cell_type": "code",
   "execution_count": null,
   "id": "comic-innocent",
   "metadata": {},
   "outputs": [],
   "source": [
    "?DebitCard"
   ]
  },
  {
   "cell_type": "code",
   "execution_count": null,
   "id": "remarkable-consultation",
   "metadata": {},
   "outputs": [],
   "source": [
    "my_card = DebitCard(12345678, 4456859636257854)"
   ]
  },
  {
   "cell_type": "code",
   "execution_count": null,
   "id": "early-dragon",
   "metadata": {},
   "outputs": [],
   "source": [
    "my_card.account"
   ]
  },
  {
   "cell_type": "code",
   "execution_count": null,
   "id": "informed-details",
   "metadata": {},
   "outputs": [],
   "source": [
    "?my_card.account"
   ]
  },
  {
   "cell_type": "code",
   "execution_count": null,
   "id": "spanish-factor",
   "metadata": {},
   "outputs": [],
   "source": [
    "my_card.card"
   ]
  },
  {
   "cell_type": "code",
   "execution_count": null,
   "id": "valuable-thunder",
   "metadata": {},
   "outputs": [],
   "source": [
    "?my_card.card"
   ]
  },
  {
   "cell_type": "code",
   "execution_count": null,
   "id": "civic-services",
   "metadata": {},
   "outputs": [],
   "source": [
    "my_card.card = 5456859678257854"
   ]
  },
  {
   "cell_type": "code",
   "execution_count": null,
   "id": "legislative-tradition",
   "metadata": {},
   "outputs": [],
   "source": [
    "my_card.account = 87654321"
   ]
  },
  {
   "cell_type": "markdown",
   "id": "registered-wallace",
   "metadata": {},
   "source": [
    "**Exercise**\n",
    "\n",
    "Complete the above class with:\n",
    "\n",
    "- An attribute(property) called `balance`.\n",
    "- A method called `deposit` that increase the money of the client.\n",
    "    - Check that the amount to be entered is a positive number.\n",
    "- A method called `bank_withdrawal` that simulates a purchase or a bank withdrawal.\n",
    "    - Check if the client has enough money in his account. "
   ]
  },
  {
   "cell_type": "code",
   "execution_count": null,
   "id": "conceptual-scale",
   "metadata": {},
   "outputs": [],
   "source": []
  },
  {
   "cell_type": "markdown",
   "id": "pursuant-manufacturer",
   "metadata": {},
   "source": [
    "## Special Methods\n",
    "\n",
    "`__str__` and `__repr__`"
   ]
  },
  {
   "cell_type": "code",
   "execution_count": null,
   "id": "dutch-engineer",
   "metadata": {},
   "outputs": [],
   "source": [
    "class Circle:\n",
    "    \n",
    "    def __init__(self, radius):\n",
    "        self.set_radius(radius)\n",
    "        \n",
    "        \n",
    "    def area(self):\n",
    "        return math.pi * self._radius ** 2\n",
    "    \n",
    "    #radius property x-x-x-x-x-x-x-x-x-x-x-x-x-x-x-x-x-x-x-x-x-x-x-x-x-x-x-x-x-x-x-x-x-x-x-x-x-x-x-x-x-x-x-x-x\n",
    "    def get_radius(self):\n",
    "        return self._radius\n",
    "    \n",
    "    def set_radius(self, new_radius):\n",
    "        if isinstance(new_radius, (int, float)):\n",
    "            self._radius = new_radius\n",
    "            \n",
    "        else:\n",
    "            raise ValueError('The radius must be an int or float type')\n",
    "            \n",
    "    radius = property(fget = get_radius, fset = set_radius)"
   ]
  },
  {
   "cell_type": "code",
   "execution_count": null,
   "id": "falling-running",
   "metadata": {},
   "outputs": [],
   "source": [
    "c = Circle(1)"
   ]
  },
  {
   "cell_type": "code",
   "execution_count": null,
   "id": "terminal-horizon",
   "metadata": {},
   "outputs": [],
   "source": [
    "c"
   ]
  },
  {
   "cell_type": "code",
   "execution_count": null,
   "id": "invalid-nowhere",
   "metadata": {},
   "outputs": [],
   "source": [
    "class Circle:\n",
    "    \n",
    "    def __init__(self, radius):\n",
    "        self.set_radius(radius)\n",
    "        \n",
    "        \n",
    "    def area(self):\n",
    "        return math.pi * self._radius ** 2\n",
    "    \n",
    "    #radius property x-x-x-x-x-x-x-x-x-x-x-x-x-x-x-x-x-x-x-x-x-x-x-x-x-x-x-x-x-x-x-x-x-x-x-x-x-x-x-x-x-x-x-x-x\n",
    "    def get_radius(self):\n",
    "        return self._radius\n",
    "    \n",
    "    def set_radius(self, new_radius):\n",
    "        if isinstance(new_radius, (int, float)) and new_radius > 0:\n",
    "            self._radius = new_radius\n",
    "            \n",
    "        else:\n",
    "            raise ValueError('The radius must be an int or float type non-negative')\n",
    "            \n",
    "    radius = property(fget = get_radius, fset = set_radius)\n",
    "    \n",
    "    #repr and str x-x-x-x-x-x-x-x-x-x-x-x-x-x-x-x-x-x-x-x-x-x-x-x-x-x-x-x-x-x-x-x-x-x-x-x-x-x-x-x-x-x-x-x-x-x-x\n",
    "    \n",
    "    def __repr__(self):\n",
    "        return 'Circle(radius = {})'.format(round(self.radius, 2))\n",
    "    \n",
    "    def __str__(self):\n",
    "        return '⚫ radius → {}'.format(round(self.radius, 2))"
   ]
  },
  {
   "cell_type": "code",
   "execution_count": null,
   "id": "worth-compilation",
   "metadata": {},
   "outputs": [],
   "source": [
    "c = Circle(1.2356)"
   ]
  },
  {
   "cell_type": "code",
   "execution_count": null,
   "id": "virtual-penguin",
   "metadata": {},
   "outputs": [],
   "source": [
    "c"
   ]
  },
  {
   "cell_type": "code",
   "execution_count": null,
   "id": "sublime-victory",
   "metadata": {},
   "outputs": [],
   "source": [
    "str(c)"
   ]
  },
  {
   "cell_type": "code",
   "execution_count": null,
   "id": "committed-laugh",
   "metadata": {},
   "outputs": [],
   "source": [
    "print(c)"
   ]
  },
  {
   "cell_type": "code",
   "execution_count": null,
   "id": "beautiful-liverpool",
   "metadata": {},
   "outputs": [],
   "source": [
    "class Person:\n",
    "    \n",
    "    def __init__(self, name, age):\n",
    "        self.name = name\n",
    "        self.age  = age\n",
    "        \n",
    "    def __repr__(self):\n",
    "        return 'Person(name = {}, age = {})'.format(self.name, self.age)\n",
    "    \n",
    "    def __str__(self):\n",
    "        return self.name"
   ]
  },
  {
   "cell_type": "code",
   "execution_count": null,
   "id": "japanese-submission",
   "metadata": {},
   "outputs": [],
   "source": [
    "dany = Person('Daniel', 25)"
   ]
  },
  {
   "cell_type": "code",
   "execution_count": null,
   "id": "violent-vehicle",
   "metadata": {},
   "outputs": [],
   "source": [
    "dany"
   ]
  },
  {
   "cell_type": "code",
   "execution_count": null,
   "id": "bizarre-synthesis",
   "metadata": {},
   "outputs": [],
   "source": [
    "print('The person who are you looking for is {}'.format(dany))"
   ]
  },
  {
   "cell_type": "markdown",
   "id": "female-assist",
   "metadata": {},
   "source": [
    "**Arithmetic Operators**"
   ]
  },
  {
   "cell_type": "code",
   "execution_count": null,
   "id": "polyphonic-acoustic",
   "metadata": {},
   "outputs": [],
   "source": [
    "5 + 6"
   ]
  },
  {
   "cell_type": "code",
   "execution_count": null,
   "id": "ignored-river",
   "metadata": {},
   "outputs": [],
   "source": [
    "dir(5)"
   ]
  },
  {
   "cell_type": "code",
   "execution_count": null,
   "id": "improved-ordinance",
   "metadata": {},
   "outputs": [],
   "source": [
    "a = 5"
   ]
  },
  {
   "cell_type": "code",
   "execution_count": null,
   "id": "second-plastic",
   "metadata": {},
   "outputs": [],
   "source": [
    "a.__add__(6)"
   ]
  },
  {
   "cell_type": "markdown",
   "id": "starting-sense",
   "metadata": {},
   "source": [
    "|Special Method|Arithmetic Operation|\n",
    "|:------------:|:------------------:|\n",
    "|`__add__`|+|\n",
    "|`__sub__`|-|\n",
    "|`__mul__`|* |\n",
    "|`__truediv__`|/|\n",
    "|`__floordiv__`|//|\n",
    "|`__mod__`|%|\n",
    "|`__pow__`|** |\n",
    "|`__abs__`|abs()|\n",
    "|`__len__`|len()|"
   ]
  },
  {
   "cell_type": "code",
   "execution_count": null,
   "id": "infectious-colombia",
   "metadata": {},
   "outputs": [],
   "source": [
    "class Movie:\n",
    "    \n",
    "    def __init__(self, name, length, director):\n",
    "        self.name     = name\n",
    "        self.length   = length\n",
    "        self.director = director\n",
    "        \n",
    "    def __add__(self, other_movie):\n",
    "        if isinstance(other_movie, Movie):\n",
    "            print('The combined length of these movies is: {}'.format(self.length + other_movie.length))\n",
    "        else: \n",
    "            return NotImplemented"
   ]
  },
  {
   "cell_type": "code",
   "execution_count": null,
   "id": "standard-relative",
   "metadata": {},
   "outputs": [],
   "source": [
    "lor1 = Movie('El señor de lso anillos: el retorno del rey', 201, 'Peter Jackson')\n",
    "lor2 = Movie('El señor de lso anillos: las dos torres', 172, 'Peter Jackson')"
   ]
  },
  {
   "cell_type": "code",
   "execution_count": null,
   "id": "rubber-burden",
   "metadata": {},
   "outputs": [],
   "source": [
    "lor1 + lor2"
   ]
  },
  {
   "cell_type": "code",
   "execution_count": null,
   "id": "absent-warrant",
   "metadata": {},
   "outputs": [],
   "source": [
    "lor1 + 1"
   ]
  },
  {
   "cell_type": "code",
   "execution_count": null,
   "id": "experienced-artist",
   "metadata": {},
   "outputs": [],
   "source": [
    "class Movie:\n",
    "    \n",
    "    def __init__(self, name, length, director):\n",
    "        self.name     = name\n",
    "        self.length   = length\n",
    "        self.director = director\n",
    "        \n",
    "    def __add__(self, other_movie):\n",
    "        if isinstance(other_movie, Movie):\n",
    "            print('The combined length of these movies is: {}'.format(self.length + other_movie.length))\n",
    "        else: \n",
    "            return NotImplemented\n",
    "        \n",
    "    def __sub__(self, other_movie):\n",
    "        if isinstance(other_movie, Movie):\n",
    "            print('The difference length of these movies is: {}'.format(self.length - other_movie.length))\n",
    "        else: \n",
    "            return NotImplemented"
   ]
  },
  {
   "cell_type": "code",
   "execution_count": null,
   "id": "smoking-colors",
   "metadata": {},
   "outputs": [],
   "source": [
    "lor1 = Movie('El señor de lso anillos: el retorno del rey', 201, 'Peter Jackson')\n",
    "lor2 = Movie('El señor de lso anillos: las dos torres', 172, 'Peter Jackson')"
   ]
  },
  {
   "cell_type": "code",
   "execution_count": null,
   "id": "multiple-being",
   "metadata": {},
   "outputs": [],
   "source": [
    "lor1 + lor2"
   ]
  },
  {
   "cell_type": "code",
   "execution_count": null,
   "id": "surgical-pointer",
   "metadata": {},
   "outputs": [],
   "source": [
    "lor1 - lor2"
   ]
  },
  {
   "cell_type": "code",
   "execution_count": null,
   "id": "searching-going",
   "metadata": {},
   "outputs": [],
   "source": [
    "lor2 - lor1"
   ]
  },
  {
   "cell_type": "code",
   "execution_count": null,
   "id": "behavioral-essex",
   "metadata": {},
   "outputs": [],
   "source": [
    "len(lor1)"
   ]
  },
  {
   "cell_type": "code",
   "execution_count": null,
   "id": "facial-notice",
   "metadata": {},
   "outputs": [],
   "source": [
    "class Movie:\n",
    "    \n",
    "    def __init__(self, name, length, director):\n",
    "        self.name     = name\n",
    "        self.length   = length\n",
    "        self.director = director\n",
    "        \n",
    "    def __add__(self, other_movie):\n",
    "        if isinstance(other_movie, Movie):\n",
    "            print('The combined length of these movies is: {}'.format(self.length + other_movie.length))\n",
    "        else: \n",
    "            return NotImplemented\n",
    "        \n",
    "    def __sub__(self, other_movie):\n",
    "        if isinstance(other_movie, Movie):\n",
    "            print('The difference length of these movies is: {}'.format(self.length - other_movie.length))\n",
    "        else: \n",
    "            return NotImplemented\n",
    "        \n",
    "    def __len__(self):\n",
    "        return self.length"
   ]
  },
  {
   "cell_type": "code",
   "execution_count": null,
   "id": "worst-encoding",
   "metadata": {},
   "outputs": [],
   "source": [
    "lor1 = Movie('El señor de lso anillos: el retorno del rey', 201, 'Peter Jackson')"
   ]
  },
  {
   "cell_type": "code",
   "execution_count": null,
   "id": "french-january",
   "metadata": {},
   "outputs": [],
   "source": [
    "len(lor1)"
   ]
  },
  {
   "cell_type": "code",
   "execution_count": null,
   "id": "wrong-education",
   "metadata": {},
   "outputs": [],
   "source": [
    "class Movie:\n",
    "    \n",
    "    def __init__(self, name, length, director):\n",
    "        self.name     = name\n",
    "        self.length   = length\n",
    "        self.director = director\n",
    "        \n",
    "    def __add__(self, other_movie):\n",
    "        if isinstance(other_movie, Movie):\n",
    "            print('The combined length of these movies is: {}'.format(self.length + other_movie.length))\n",
    "        else: \n",
    "            return NotImplemented\n",
    "        \n",
    "    def __sub__(self, other_movie):\n",
    "        if isinstance(other_movie, Movie):\n",
    "            print('The difference length of these movies is: {}'.format(self.length - other_movie.length))\n",
    "        else: \n",
    "            return NotImplemented\n",
    "        \n",
    "    def __len__(self):\n",
    "        return self.length\n",
    "    \n",
    "    def __mul__(self, an_int):\n",
    "        if isinstance(an_int, int) and an_int > 0:\n",
    "            msn = 'If you see this movie {} times you will spend {} minutes of you life'\n",
    "            print(msn.format(an_int, self.length * an_int))\n",
    "        else:\n",
    "            return NotImplemented"
   ]
  },
  {
   "cell_type": "code",
   "execution_count": null,
   "id": "falling-hamburg",
   "metadata": {},
   "outputs": [],
   "source": [
    "lor1 = Movie('El señor de lso anillos: el retorno del rey', 201, 'Peter Jackson')\n",
    "lor2 = Movie('El señor de lso anillos: las dos torres', 172, 'Peter Jackson')"
   ]
  },
  {
   "cell_type": "code",
   "execution_count": null,
   "id": "substantial-letter",
   "metadata": {},
   "outputs": [],
   "source": [
    "lor1 * 2"
   ]
  },
  {
   "cell_type": "code",
   "execution_count": null,
   "id": "primary-genre",
   "metadata": {},
   "outputs": [],
   "source": [
    "lor1.__mul__(2)"
   ]
  },
  {
   "cell_type": "code",
   "execution_count": null,
   "id": "european-robert",
   "metadata": {},
   "outputs": [],
   "source": [
    "2 * lor1"
   ]
  },
  {
   "cell_type": "code",
   "execution_count": null,
   "id": "preceding-solomon",
   "metadata": {},
   "outputs": [],
   "source": [
    "lor1 * (-1)"
   ]
  },
  {
   "cell_type": "code",
   "execution_count": null,
   "id": "ongoing-latex",
   "metadata": {},
   "outputs": [],
   "source": [
    "class Movie:\n",
    "    \n",
    "    def __init__(self, name, length, director):\n",
    "        self.name     = name\n",
    "        self.length   = length\n",
    "        self.director = director\n",
    "        \n",
    "    def __add__(self, other_movie):\n",
    "        if isinstance(other_movie, Movie):\n",
    "            print('The combined length of these movies is: {}'.format(self.length + other_movie.length))\n",
    "        else: \n",
    "            return NotImplemented\n",
    "        \n",
    "    def __sub__(self, other_movie):\n",
    "        if isinstance(other_movie, Movie):\n",
    "            print('The difference length of these movies is: {}'.format(self.length - other_movie.length))\n",
    "        else: \n",
    "            return NotImplemented\n",
    "        \n",
    "    def __len__(self):\n",
    "        return self.length\n",
    "    \n",
    "    def __mul__(self, an_int):\n",
    "        if isinstance(an_int, int) and an_int > 0:\n",
    "            msn = 'If you see this movie {} times you will spend {} minutes of you life'\n",
    "            print(msn.format(an_int, self.length * an_int))\n",
    "        else:\n",
    "            return NotImplemented\n",
    "        \n",
    "    def __rmul__(self, an_int):\n",
    "        if isinstance(an_int, int) and an_int > 0:\n",
    "            msn = 'If you see this movie {} times you will spend {} minutes of you life'\n",
    "            print(msn.format(an_int, self.length * an_int))\n",
    "        else:\n",
    "            return NotImplemented"
   ]
  },
  {
   "cell_type": "code",
   "execution_count": null,
   "id": "seventh-screen",
   "metadata": {},
   "outputs": [],
   "source": [
    "lor1 = Movie('El señor de lso anillos: el retorno del rey', 201, 'Peter Jackson')\n",
    "lor2 = Movie('El señor de lso anillos: las dos torres', 172, 'Peter Jackson')"
   ]
  },
  {
   "cell_type": "code",
   "execution_count": null,
   "id": "collaborative-asian",
   "metadata": {},
   "outputs": [],
   "source": [
    "lor1 * 3"
   ]
  },
  {
   "cell_type": "code",
   "execution_count": null,
   "id": "ready-invalid",
   "metadata": {},
   "outputs": [],
   "source": [
    "3 * lor1"
   ]
  },
  {
   "cell_type": "markdown",
   "id": "portable-handle",
   "metadata": {},
   "source": [
    "**Rich Comparisons**\n",
    "\n",
    "\n",
    "|Special Method|Rich Comparison|\n",
    "|:------------:|:-------------:|\n",
    "|`__lt__`|<|\n",
    "|`__le__`|<=|\n",
    "|`__eq__`|==|\n",
    "|`__ne__`|!=|\n",
    "|`__gt__`|>|\n",
    "|`__ge__`|>=|"
   ]
  },
  {
   "cell_type": "code",
   "execution_count": null,
   "id": "swiss-cycling",
   "metadata": {},
   "outputs": [],
   "source": [
    "class Movie:\n",
    "    \n",
    "    def __init__(self, name, length, director):\n",
    "        self.name     = name\n",
    "        self.length   = length\n",
    "        self.director = director\n",
    "        \n",
    "    def __add__(self, other_movie):\n",
    "        if isinstance(other_movie, Movie):\n",
    "            print('The combined length of these movies is: {}'.format(self.length + other_movie.length))\n",
    "        else: \n",
    "            return NotImplemented\n",
    "        \n",
    "    def __sub__(self, other_movie):\n",
    "        if isinstance(other_movie, Movie):\n",
    "            print('The difference length of these movies is: {}'.format(self.length - other_movie.length))\n",
    "        else: \n",
    "            return NotImplemented\n",
    "        \n",
    "    def __len__(self):\n",
    "        return self.length\n",
    "    \n",
    "    def __mul__(self, an_int):\n",
    "        if isinstance(an_int, int) and an_int > 0:\n",
    "            msn = 'If you see this movie {} times you will spend {} minutes of you life'\n",
    "            print(msn.format(an_int, self.length * an_int))\n",
    "        else:\n",
    "            return NotImplemented\n",
    "        \n",
    "    def __rmul__(self, an_int):\n",
    "        if isinstance(an_int, int) and an_int > 0:\n",
    "            msn = 'If you see this movie {} times you will spend {} minutes of you life'\n",
    "            print(msn.format(an_int, self.length * an_int))\n",
    "        else:\n",
    "            return NotImplemented\n",
    "        \n",
    "    def __eq__(self, other):\n",
    "        if isinstance(other, Movie):\n",
    "            return self.name == other.name and self.length == other.length and self.director == other.director\n",
    "        else:\n",
    "            return NotImplemented\n",
    "        \n",
    "    def __gt__(self, other):\n",
    "        \n",
    "        if isinstance(other, Movie):\n",
    "            return self.length > other.length\n",
    "        else:\n",
    "            return NotImplemented"
   ]
  },
  {
   "cell_type": "code",
   "execution_count": null,
   "id": "dramatic-superior",
   "metadata": {},
   "outputs": [],
   "source": [
    "lor1 = Movie('El señor de lso anillos: el retorno del rey', 201, 'Peter Jackson')\n",
    "lor2 = Movie('El señor de lso anillos: las dos torres', 172, 'Peter Jackson')"
   ]
  },
  {
   "cell_type": "code",
   "execution_count": null,
   "id": "lined-portland",
   "metadata": {},
   "outputs": [],
   "source": [
    "lor1 == lor2"
   ]
  },
  {
   "cell_type": "code",
   "execution_count": null,
   "id": "ordered-association",
   "metadata": {},
   "outputs": [],
   "source": [
    "lor1 == lor1"
   ]
  },
  {
   "cell_type": "code",
   "execution_count": null,
   "id": "medieval-genetics",
   "metadata": {},
   "outputs": [],
   "source": [
    "lor1 != lor2"
   ]
  },
  {
   "cell_type": "code",
   "execution_count": null,
   "id": "fresh-companion",
   "metadata": {},
   "outputs": [],
   "source": [
    "lor1 > lor2"
   ]
  },
  {
   "cell_type": "code",
   "execution_count": null,
   "id": "fewer-pickup",
   "metadata": {},
   "outputs": [],
   "source": [
    "lor1 < lor2"
   ]
  },
  {
   "cell_type": "markdown",
   "id": "realistic-capacity",
   "metadata": {},
   "source": [
    "**Exercise**\n",
    "\n",
    "Create a `class` called `Vector` and emulate the behaviour of a vector:\n",
    "\n",
    "- Make it for 3 dimensional vectors only\n",
    "- Use the `__repr__` method to give the vector a good representation\n",
    "- Define the sum of vectors (component by component)\n",
    "- Define the `*` operator like the scalar product of vectors\n",
    "\n",
    "$$\n",
    "\\begin{bmatrix}\n",
    "a_1, a_2, a_3\n",
    "\\end{bmatrix}\n",
    "\\cdot\n",
    "\\begin{bmatrix}\n",
    "b_1, b_2, b_3\n",
    "\\end{bmatrix}\n",
    "=\n",
    "a_1 b_1 + a_2 b_2 + a_3 b_3\n",
    "$$\n",
    "\n",
    "- Define the `*` operator for the case of Vector and any number\n",
    "- Define a property for the norm of the vector\n",
    "- Define a property for the dimension of the vector"
   ]
  },
  {
   "cell_type": "code",
   "execution_count": null,
   "id": "indoor-access",
   "metadata": {},
   "outputs": [],
   "source": []
  }
 ],
 "metadata": {
  "kernelspec": {
   "display_name": "Python 3",
   "language": "python",
   "name": "python3"
  },
  "language_info": {
   "codemirror_mode": {
    "name": "ipython",
    "version": 3
   },
   "file_extension": ".py",
   "mimetype": "text/x-python",
   "name": "python",
   "nbconvert_exporter": "python",
   "pygments_lexer": "ipython3",
   "version": "3.8.5"
  }
 },
 "nbformat": 4,
 "nbformat_minor": 5
}
