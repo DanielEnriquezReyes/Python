{
 "cells": [
  {
   "cell_type": "markdown",
   "id": "alpine-speech",
   "metadata": {},
   "source": [
    "# Dictionaries\n",
    "## Basics"
   ]
  },
  {
   "cell_type": "code",
   "execution_count": null,
   "id": "cardiac-report",
   "metadata": {},
   "outputs": [],
   "source": [
    "{}"
   ]
  },
  {
   "cell_type": "code",
   "execution_count": null,
   "id": "rolled-amplifier",
   "metadata": {},
   "outputs": [],
   "source": [
    "type({})"
   ]
  },
  {
   "cell_type": "markdown",
   "id": "soviet-strengthening",
   "metadata": {},
   "source": [
    "The dictionaries has the following structure"
   ]
  },
  {
   "cell_type": "code",
   "execution_count": null,
   "id": "knowing-graduate",
   "metadata": {},
   "outputs": [],
   "source": [
    "l = [1, 2, 3]\n",
    "l[1] = 19\n",
    "l"
   ]
  },
  {
   "cell_type": "code",
   "execution_count": null,
   "id": "marine-elder",
   "metadata": {},
   "outputs": [],
   "source": [
    "dic = {'key': 'value'}"
   ]
  },
  {
   "cell_type": "code",
   "execution_count": null,
   "id": "postal-documentary",
   "metadata": {},
   "outputs": [],
   "source": [
    "dic['key']"
   ]
  },
  {
   "cell_type": "code",
   "execution_count": null,
   "id": "fallen-communications",
   "metadata": {},
   "outputs": [],
   "source": [
    "dic = {'key': 1, 'key' : 2}\n",
    "dic"
   ]
  },
  {
   "cell_type": "code",
   "execution_count": null,
   "id": "mysterious-happening",
   "metadata": {},
   "outputs": [],
   "source": [
    "dic= {'A' : 1}\n",
    "dic"
   ]
  },
  {
   "cell_type": "code",
   "execution_count": null,
   "id": "about-order",
   "metadata": {},
   "outputs": [],
   "source": [
    "dic['B']"
   ]
  },
  {
   "cell_type": "code",
   "execution_count": null,
   "id": "weighted-carrier",
   "metadata": {},
   "outputs": [],
   "source": [
    "dic['B'] = 2"
   ]
  },
  {
   "cell_type": "code",
   "execution_count": null,
   "id": "subjective-vault",
   "metadata": {},
   "outputs": [],
   "source": [
    "dic"
   ]
  },
  {
   "cell_type": "code",
   "execution_count": null,
   "id": "lesbian-induction",
   "metadata": {},
   "outputs": [],
   "source": [
    "dic['Bb'] = 3"
   ]
  },
  {
   "cell_type": "code",
   "execution_count": null,
   "id": "swiss-strike",
   "metadata": {},
   "outputs": [],
   "source": [
    "dic"
   ]
  },
  {
   "cell_type": "code",
   "execution_count": null,
   "id": "fresh-finnish",
   "metadata": {},
   "outputs": [],
   "source": [
    "l = [1] #this dosen't happen with lists"
   ]
  },
  {
   "cell_type": "code",
   "execution_count": null,
   "id": "streaming-genealogy",
   "metadata": {},
   "outputs": [],
   "source": [
    "l[1] = 2"
   ]
  },
  {
   "cell_type": "code",
   "execution_count": null,
   "id": "arranged-turtle",
   "metadata": {},
   "outputs": [],
   "source": [
    "dic"
   ]
  },
  {
   "cell_type": "code",
   "execution_count": null,
   "id": "casual-briefs",
   "metadata": {},
   "outputs": [],
   "source": [
    "dic['A'] = 19\n",
    "dic"
   ]
  },
  {
   "cell_type": "code",
   "execution_count": null,
   "id": "large-projection",
   "metadata": {},
   "outputs": [],
   "source": [
    "del dic['Bb']\n",
    "dic"
   ]
  },
  {
   "cell_type": "markdown",
   "id": "dated-possible",
   "metadata": {},
   "source": [
    "The dictionaries are very useful for things like a calendar:"
   ]
  },
  {
   "cell_type": "code",
   "execution_count": null,
   "id": "collected-sunday",
   "metadata": {},
   "outputs": [],
   "source": [
    "days = [31, 28, 31, 30, 31, 30, 31, 31, 30, 31, 30, 31]"
   ]
  },
  {
   "cell_type": "code",
   "execution_count": null,
   "id": "cathedral-cosmetic",
   "metadata": {},
   "outputs": [],
   "source": [
    "months = ['January', 'February', 'March', 'April', 'May', 'June', 'July', 'August',\n",
    "          'September', 'October', 'November', 'December']"
   ]
  },
  {
   "cell_type": "markdown",
   "id": "antique-vegetable",
   "metadata": {},
   "source": [
    "Time to talk about `enumerate` "
   ]
  },
  {
   "cell_type": "code",
   "execution_count": null,
   "id": "modern-brooklyn",
   "metadata": {},
   "outputs": [],
   "source": [
    "l = [(1, 2), (3, 4), (5, 6)]"
   ]
  },
  {
   "cell_type": "code",
   "execution_count": null,
   "id": "deluxe-queen",
   "metadata": {},
   "outputs": [],
   "source": [
    "for elem in l:\n",
    "    print('First → {} | Second → {}'.format(elem[0], elem[1]))"
   ]
  },
  {
   "cell_type": "code",
   "execution_count": null,
   "id": "pleased-international",
   "metadata": {},
   "outputs": [],
   "source": [
    "for f, s in l:\n",
    "    print('First → {} | Second → {}'.format(f, s))"
   ]
  },
  {
   "cell_type": "code",
   "execution_count": null,
   "id": "needed-herald",
   "metadata": {},
   "outputs": [],
   "source": [
    "l = [(1, 2, 3), (4, 5, 6), (7, 8, 9)]"
   ]
  },
  {
   "cell_type": "code",
   "execution_count": null,
   "id": "otherwise-september",
   "metadata": {},
   "outputs": [],
   "source": [
    "for f, s, t in l:\n",
    "    print('First → {} | Second → {} | Third → {}'.format(f, s, t))"
   ]
  },
  {
   "cell_type": "code",
   "execution_count": null,
   "id": "determined-chile",
   "metadata": {},
   "outputs": [],
   "source": [
    "enumerate(months)"
   ]
  },
  {
   "cell_type": "code",
   "execution_count": null,
   "id": "therapeutic-exhibition",
   "metadata": {},
   "outputs": [],
   "source": [
    "list(enumerate(months))"
   ]
  },
  {
   "cell_type": "code",
   "execution_count": null,
   "id": "composite-visitor",
   "metadata": {},
   "outputs": [],
   "source": [
    "for i, m in enumerate(months):\n",
    "    print('Index → {:2} | element → {}'.format(i, m)) "
   ]
  },
  {
   "cell_type": "code",
   "execution_count": null,
   "id": "arbitrary-convertible",
   "metadata": {},
   "outputs": [],
   "source": [
    "days_in_month = {}\n",
    "\n",
    "for i, k in enumerate(months):\n",
    "    days_in_month[k] = days[i]\n",
    "    \n",
    "days_in_month"
   ]
  },
  {
   "cell_type": "code",
   "execution_count": null,
   "id": "stone-breakdown",
   "metadata": {},
   "outputs": [],
   "source": [
    "days_in_month['October']"
   ]
  },
  {
   "cell_type": "markdown",
   "id": "effective-sense",
   "metadata": {},
   "source": [
    "Another way: `zip`"
   ]
  },
  {
   "cell_type": "code",
   "execution_count": null,
   "id": "transparent-dimension",
   "metadata": {},
   "outputs": [],
   "source": [
    "l1 = [1, 2, 3, 4, 5]"
   ]
  },
  {
   "cell_type": "code",
   "execution_count": null,
   "id": "valuable-links",
   "metadata": {},
   "outputs": [],
   "source": [
    "l2 = ['a', 'b', 'c', 'd', 'e']"
   ]
  },
  {
   "cell_type": "code",
   "execution_count": null,
   "id": "junior-signature",
   "metadata": {},
   "outputs": [],
   "source": [
    "zip(l1, l2)"
   ]
  },
  {
   "cell_type": "code",
   "execution_count": null,
   "id": "coupled-christian",
   "metadata": {},
   "outputs": [],
   "source": [
    "list(zip(l1, l2))"
   ]
  },
  {
   "cell_type": "code",
   "execution_count": null,
   "id": "clear-favorite",
   "metadata": {},
   "outputs": [],
   "source": [
    "for n, l in zip(l1, l2):\n",
    "    print('First → {} | Second → {}'.format(n, l))"
   ]
  },
  {
   "cell_type": "code",
   "execution_count": null,
   "id": "recent-processing",
   "metadata": {},
   "outputs": [],
   "source": [
    "days_in_month = {}\n",
    "\n",
    "for k, v in zip(months, days):\n",
    "    days_in_month[k] = v\n",
    "    \n",
    "days_in_month"
   ]
  },
  {
   "cell_type": "code",
   "execution_count": null,
   "id": "manufactured-header",
   "metadata": {},
   "outputs": [],
   "source": [
    "dic1 = {'A' : 2}\n",
    "dic2 = {'B' : 1}"
   ]
  },
  {
   "cell_type": "code",
   "execution_count": null,
   "id": "missing-attitude",
   "metadata": {},
   "outputs": [],
   "source": [
    "dic1 + dic2"
   ]
  },
  {
   "cell_type": "markdown",
   "id": "adult-lightweight",
   "metadata": {},
   "source": [
    "## Dictionaries Methods"
   ]
  },
  {
   "cell_type": "code",
   "execution_count": null,
   "id": "excessive-aurora",
   "metadata": {},
   "outputs": [],
   "source": [
    "dir(dict)"
   ]
  },
  {
   "cell_type": "code",
   "execution_count": null,
   "id": "dominican-mixture",
   "metadata": {},
   "outputs": [],
   "source": [
    "days_in_month"
   ]
  },
  {
   "cell_type": "markdown",
   "id": "quiet-drama",
   "metadata": {},
   "source": [
    "**Clear**"
   ]
  },
  {
   "cell_type": "code",
   "execution_count": null,
   "id": "sweet-register",
   "metadata": {},
   "outputs": [],
   "source": [
    "days_in_month.clear()\n",
    "days_in_month"
   ]
  },
  {
   "cell_type": "markdown",
   "id": "british-rover",
   "metadata": {},
   "source": [
    "**copy**"
   ]
  },
  {
   "cell_type": "code",
   "execution_count": null,
   "id": "derived-daily",
   "metadata": {},
   "outputs": [],
   "source": [
    "dic1 = {}\n",
    "dic2 = dic1"
   ]
  },
  {
   "cell_type": "code",
   "execution_count": null,
   "id": "greater-operations",
   "metadata": {},
   "outputs": [],
   "source": [
    "dic1['A'] = 1"
   ]
  },
  {
   "cell_type": "code",
   "execution_count": null,
   "id": "iraqi-religion",
   "metadata": {},
   "outputs": [],
   "source": [
    "dic1"
   ]
  },
  {
   "cell_type": "code",
   "execution_count": null,
   "id": "continued-accent",
   "metadata": {},
   "outputs": [],
   "source": [
    "dic2"
   ]
  },
  {
   "cell_type": "code",
   "execution_count": null,
   "id": "successful-scenario",
   "metadata": {},
   "outputs": [],
   "source": [
    "dic1 = {}\n",
    "dic2 = dic1.copy()"
   ]
  },
  {
   "cell_type": "code",
   "execution_count": null,
   "id": "invalid-suicide",
   "metadata": {},
   "outputs": [],
   "source": [
    "dic1['A'] = 1"
   ]
  },
  {
   "cell_type": "code",
   "execution_count": null,
   "id": "imported-awareness",
   "metadata": {},
   "outputs": [],
   "source": [
    "dic1"
   ]
  },
  {
   "cell_type": "code",
   "execution_count": null,
   "id": "wound-notification",
   "metadata": {},
   "outputs": [],
   "source": [
    "dic2"
   ]
  },
  {
   "cell_type": "markdown",
   "id": "polyphonic-plastic",
   "metadata": {},
   "source": [
    "**fromkeys**"
   ]
  },
  {
   "cell_type": "code",
   "execution_count": null,
   "id": "radio-height",
   "metadata": {},
   "outputs": [],
   "source": [
    "keys = ['key{}'.format(i) for i in range(1, 10)]"
   ]
  },
  {
   "cell_type": "code",
   "execution_count": null,
   "id": "australian-arnold",
   "metadata": {},
   "outputs": [],
   "source": [
    "keys"
   ]
  },
  {
   "cell_type": "code",
   "execution_count": null,
   "id": "conventional-aspect",
   "metadata": {},
   "outputs": [],
   "source": [
    "{}.fromkeys(keys)"
   ]
  },
  {
   "cell_type": "code",
   "execution_count": null,
   "id": "aging-theorem",
   "metadata": {},
   "outputs": [],
   "source": [
    "keys = 'abc'"
   ]
  },
  {
   "cell_type": "code",
   "execution_count": null,
   "id": "satisfied-routine",
   "metadata": {},
   "outputs": [],
   "source": [
    "{}.fromkeys(keys)"
   ]
  },
  {
   "cell_type": "code",
   "execution_count": null,
   "id": "revolutionary-injury",
   "metadata": {},
   "outputs": [],
   "source": [
    "{}.fromkeys(keys, 0)"
   ]
  },
  {
   "cell_type": "code",
   "execution_count": null,
   "id": "growing-ticket",
   "metadata": {},
   "outputs": [],
   "source": [
    "{}.fromkeys(keys, '')"
   ]
  },
  {
   "cell_type": "markdown",
   "id": "controlled-darwin",
   "metadata": {},
   "source": [
    "**Warning**"
   ]
  },
  {
   "cell_type": "code",
   "execution_count": null,
   "id": "convertible-refund",
   "metadata": {},
   "outputs": [],
   "source": [
    "keys = ['key{}'.format(i) for i in range(1, 10)]"
   ]
  },
  {
   "cell_type": "code",
   "execution_count": null,
   "id": "killing-communications",
   "metadata": {},
   "outputs": [],
   "source": [
    "dic = {}.fromkeys(keys, ['e'])\n",
    "dic"
   ]
  },
  {
   "cell_type": "code",
   "execution_count": null,
   "id": "bored-bibliography",
   "metadata": {},
   "outputs": [],
   "source": [
    "dic['key1'].append(1)"
   ]
  },
  {
   "cell_type": "code",
   "execution_count": null,
   "id": "arranged-range",
   "metadata": {},
   "outputs": [],
   "source": [
    "dic #all these keys point to the same list"
   ]
  },
  {
   "cell_type": "code",
   "execution_count": null,
   "id": "effective-lafayette",
   "metadata": {},
   "outputs": [],
   "source": [
    "dic = {}.fromkeys(keys, [].copy())\n",
    "dic"
   ]
  },
  {
   "cell_type": "code",
   "execution_count": null,
   "id": "assured-former",
   "metadata": {},
   "outputs": [],
   "source": [
    "dic['key1'].append(1)"
   ]
  },
  {
   "cell_type": "code",
   "execution_count": null,
   "id": "breathing-ground",
   "metadata": {},
   "outputs": [],
   "source": [
    "dic #what happened?"
   ]
  },
  {
   "cell_type": "code",
   "execution_count": null,
   "id": "frozen-narrative",
   "metadata": {},
   "outputs": [],
   "source": [
    "dic = {}.fromkeys(keys, {})\n",
    "dic"
   ]
  },
  {
   "cell_type": "code",
   "execution_count": null,
   "id": "ruled-poison",
   "metadata": {},
   "outputs": [],
   "source": [
    "dic['key1']['subkey'] = 1"
   ]
  },
  {
   "cell_type": "code",
   "execution_count": null,
   "id": "sophisticated-airport",
   "metadata": {},
   "outputs": [],
   "source": [
    "dic"
   ]
  },
  {
   "cell_type": "code",
   "execution_count": null,
   "id": "secondary-arizona",
   "metadata": {},
   "outputs": [],
   "source": [
    "dic = {}\n",
    "\n",
    "for k in keys:\n",
    "    dic[k] = []\n",
    "    \n",
    "dic"
   ]
  },
  {
   "cell_type": "code",
   "execution_count": null,
   "id": "collectible-impact",
   "metadata": {},
   "outputs": [],
   "source": [
    "dic['key1'].append(2)\n",
    "dic "
   ]
  },
  {
   "cell_type": "code",
   "execution_count": null,
   "id": "respiratory-friend",
   "metadata": {},
   "outputs": [],
   "source": [
    "{}.fromkeys(keys, ())"
   ]
  },
  {
   "cell_type": "code",
   "execution_count": null,
   "id": "dedicated-toyota",
   "metadata": {},
   "outputs": [],
   "source": [
    "dic = {}.fromkeys(keys, 0)"
   ]
  },
  {
   "cell_type": "code",
   "execution_count": null,
   "id": "involved-patent",
   "metadata": {},
   "outputs": [],
   "source": [
    "dic['key1'] += 1"
   ]
  },
  {
   "cell_type": "code",
   "execution_count": null,
   "id": "offensive-above",
   "metadata": {},
   "outputs": [],
   "source": [
    "dic"
   ]
  },
  {
   "cell_type": "markdown",
   "id": "mexican-harris",
   "metadata": {},
   "source": [
    "**Apply list comprehension to dictionaries**"
   ]
  },
  {
   "cell_type": "code",
   "execution_count": null,
   "id": "collectible-producer",
   "metadata": {},
   "outputs": [],
   "source": [
    "dic = {k : [] for k in keys}\n",
    "dic"
   ]
  },
  {
   "cell_type": "code",
   "execution_count": null,
   "id": "boolean-polymer",
   "metadata": {},
   "outputs": [],
   "source": [
    "dic['key1'].append(1)"
   ]
  },
  {
   "cell_type": "code",
   "execution_count": null,
   "id": "written-reward",
   "metadata": {},
   "outputs": [],
   "source": [
    "dic"
   ]
  },
  {
   "cell_type": "code",
   "execution_count": null,
   "id": "smart-indiana",
   "metadata": {},
   "outputs": [],
   "source": [
    "dic = {k : i for k, i in zip(keys, range(1, len(keys) + 1))}\n",
    "dic"
   ]
  },
  {
   "cell_type": "markdown",
   "id": "conceptual-joining",
   "metadata": {},
   "source": [
    "**get**"
   ]
  },
  {
   "cell_type": "code",
   "execution_count": null,
   "id": "small-command",
   "metadata": {},
   "outputs": [],
   "source": [
    "dic.get('key1')"
   ]
  },
  {
   "cell_type": "code",
   "execution_count": null,
   "id": "awful-duration",
   "metadata": {},
   "outputs": [],
   "source": [
    "dic['key66']"
   ]
  },
  {
   "cell_type": "code",
   "execution_count": null,
   "id": "retained-furniture",
   "metadata": {},
   "outputs": [],
   "source": [
    "dic.get('key66')"
   ]
  },
  {
   "cell_type": "code",
   "execution_count": null,
   "id": "prescribed-pantyhose",
   "metadata": {},
   "outputs": [],
   "source": [
    "dic.get('key66', 'Error 404 page no found')"
   ]
  },
  {
   "cell_type": "markdown",
   "id": "graphic-criticism",
   "metadata": {},
   "source": [
    "**items**"
   ]
  },
  {
   "cell_type": "code",
   "execution_count": null,
   "id": "activated-macedonia",
   "metadata": {},
   "outputs": [],
   "source": [
    "dic.items()"
   ]
  },
  {
   "cell_type": "code",
   "execution_count": null,
   "id": "governing-collection",
   "metadata": {},
   "outputs": [],
   "source": [
    "for k, v in dic.items():\n",
    "    print('Key → {} | Value → {}'.format(k, v))"
   ]
  },
  {
   "cell_type": "markdown",
   "id": "cathedral-midnight",
   "metadata": {},
   "source": [
    " **keys**"
   ]
  },
  {
   "cell_type": "code",
   "execution_count": null,
   "id": "expanded-accessory",
   "metadata": {},
   "outputs": [],
   "source": [
    "dic.keys()"
   ]
  },
  {
   "cell_type": "code",
   "execution_count": null,
   "id": "genetic-polymer",
   "metadata": {},
   "outputs": [],
   "source": [
    "for k in dic.keys():\n",
    "    print('Key → {}'.format(k))"
   ]
  },
  {
   "cell_type": "markdown",
   "id": "competitive-stomach",
   "metadata": {},
   "source": [
    "**values**"
   ]
  },
  {
   "cell_type": "code",
   "execution_count": null,
   "id": "needed-joyce",
   "metadata": {},
   "outputs": [],
   "source": [
    "dic.values()"
   ]
  },
  {
   "cell_type": "code",
   "execution_count": null,
   "id": "fundamental-daniel",
   "metadata": {},
   "outputs": [],
   "source": [
    "for v in dic.values():\n",
    "    print('Value → {}'.format(v))"
   ]
  },
  {
   "cell_type": "markdown",
   "id": "surprised-knowing",
   "metadata": {},
   "source": [
    "**Performance tip**"
   ]
  },
  {
   "cell_type": "code",
   "execution_count": null,
   "id": "informational-birmingham",
   "metadata": {},
   "outputs": [],
   "source": [
    "l = [i for i in range(1, 10001)]\n",
    "l"
   ]
  },
  {
   "cell_type": "code",
   "execution_count": null,
   "id": "manufactured-temple",
   "metadata": {},
   "outputs": [],
   "source": [
    "%timeit 2 in l"
   ]
  },
  {
   "cell_type": "code",
   "execution_count": null,
   "id": "partial-paragraph",
   "metadata": {},
   "outputs": [],
   "source": [
    "%timeit 9998 in l"
   ]
  },
  {
   "cell_type": "code",
   "execution_count": null,
   "id": "sealed-approach",
   "metadata": {},
   "outputs": [],
   "source": [
    "d = {}.fromkeys(l)"
   ]
  },
  {
   "cell_type": "code",
   "execution_count": null,
   "id": "spread-funeral",
   "metadata": {},
   "outputs": [],
   "source": [
    "%timeit 2 in d"
   ]
  },
  {
   "cell_type": "code",
   "execution_count": null,
   "id": "interested-daughter",
   "metadata": {},
   "outputs": [],
   "source": [
    "%timeit 9998 in d"
   ]
  },
  {
   "cell_type": "code",
   "execution_count": null,
   "id": "lined-option",
   "metadata": {},
   "outputs": [],
   "source": [
    "%timeit 2 in d.keys()"
   ]
  },
  {
   "cell_type": "code",
   "execution_count": null,
   "id": "indirect-converter",
   "metadata": {},
   "outputs": [],
   "source": [
    "%timeit 9998 in d.keys()"
   ]
  },
  {
   "cell_type": "code",
   "execution_count": null,
   "id": "resident-attempt",
   "metadata": {},
   "outputs": [],
   "source": [
    "d.values();"
   ]
  },
  {
   "cell_type": "code",
   "execution_count": null,
   "id": "comic-learning",
   "metadata": {},
   "outputs": [],
   "source": [
    "%timeit 2 in d.values()"
   ]
  },
  {
   "cell_type": "code",
   "execution_count": null,
   "id": "fundamental-hughes",
   "metadata": {},
   "outputs": [],
   "source": [
    "%timeit 9998 in d.values()#what is happening"
   ]
  },
  {
   "cell_type": "markdown",
   "id": "atlantic-detective",
   "metadata": {},
   "source": [
    " **pop**"
   ]
  },
  {
   "cell_type": "code",
   "execution_count": null,
   "id": "atomic-jersey",
   "metadata": {},
   "outputs": [],
   "source": [
    "dic"
   ]
  },
  {
   "cell_type": "code",
   "execution_count": null,
   "id": "excessive-archive",
   "metadata": {},
   "outputs": [],
   "source": [
    "dic.pop()"
   ]
  },
  {
   "cell_type": "code",
   "execution_count": null,
   "id": "radio-boating",
   "metadata": {},
   "outputs": [],
   "source": [
    "dic.pop('key9')"
   ]
  },
  {
   "cell_type": "code",
   "execution_count": null,
   "id": "successful-botswana",
   "metadata": {},
   "outputs": [],
   "source": [
    "?dic.pop"
   ]
  },
  {
   "cell_type": "code",
   "execution_count": null,
   "id": "catholic-mailing",
   "metadata": {},
   "outputs": [],
   "source": [
    "dic.pop('key66')"
   ]
  },
  {
   "cell_type": "code",
   "execution_count": null,
   "id": "architectural-eagle",
   "metadata": {},
   "outputs": [],
   "source": [
    "dic.pop('key66', 'Error 404 page no found')"
   ]
  },
  {
   "cell_type": "markdown",
   "id": "wrong-vancouver",
   "metadata": {},
   "source": [
    "**popitem**"
   ]
  },
  {
   "cell_type": "code",
   "execution_count": null,
   "id": "boxed-oregon",
   "metadata": {},
   "outputs": [],
   "source": [
    "dic"
   ]
  },
  {
   "cell_type": "code",
   "execution_count": null,
   "id": "internal-combination",
   "metadata": {},
   "outputs": [],
   "source": [
    "dic.popitem()"
   ]
  },
  {
   "cell_type": "code",
   "execution_count": null,
   "id": "billion-uzbekistan",
   "metadata": {},
   "outputs": [],
   "source": [
    "?dic.popitem"
   ]
  },
  {
   "cell_type": "markdown",
   "id": "hazardous-parallel",
   "metadata": {},
   "source": [
    "The `popitem()` method removes the item that was last inserted into the dictionary. In versions before `3.7`, the `popitem()` method removes a random item."
   ]
  },
  {
   "cell_type": "code",
   "execution_count": null,
   "id": "limited-substitute",
   "metadata": {},
   "outputs": [],
   "source": [
    "dic2 = {}"
   ]
  },
  {
   "cell_type": "code",
   "execution_count": null,
   "id": "roman-solid",
   "metadata": {},
   "outputs": [],
   "source": [
    "dic2.popitem()"
   ]
  },
  {
   "cell_type": "code",
   "execution_count": null,
   "id": "amateur-sierra",
   "metadata": {},
   "outputs": [],
   "source": [
    "dic2.popitem('Error 404 page no found')"
   ]
  },
  {
   "cell_type": "markdown",
   "id": "returning-oakland",
   "metadata": {},
   "source": [
    "**setdefault**\n"
   ]
  },
  {
   "cell_type": "code",
   "execution_count": null,
   "id": "canadian-lithuania",
   "metadata": {},
   "outputs": [],
   "source": [
    "dic"
   ]
  },
  {
   "cell_type": "code",
   "execution_count": null,
   "id": "pursuant-village",
   "metadata": {},
   "outputs": [],
   "source": [
    "dic.setdefault('key8')"
   ]
  },
  {
   "cell_type": "code",
   "execution_count": null,
   "id": "smart-engineer",
   "metadata": {},
   "outputs": [],
   "source": [
    "dic"
   ]
  },
  {
   "cell_type": "code",
   "execution_count": null,
   "id": "pacific-paris",
   "metadata": {},
   "outputs": [],
   "source": [
    "?dic.setdefault"
   ]
  },
  {
   "cell_type": "code",
   "execution_count": null,
   "id": "hourly-advertiser",
   "metadata": {},
   "outputs": [],
   "source": [
    "dic.setdefault('key8', 8)"
   ]
  },
  {
   "cell_type": "code",
   "execution_count": null,
   "id": "chemical-tonight",
   "metadata": {},
   "outputs": [],
   "source": [
    "dic"
   ]
  },
  {
   "cell_type": "code",
   "execution_count": null,
   "id": "polished-literature",
   "metadata": {},
   "outputs": [],
   "source": [
    "dic.setdefault('key9', 9)"
   ]
  },
  {
   "cell_type": "markdown",
   "id": "executed-plant",
   "metadata": {},
   "source": [
    "**update**"
   ]
  },
  {
   "cell_type": "code",
   "execution_count": null,
   "id": "portuguese-benjamin",
   "metadata": {},
   "outputs": [],
   "source": [
    "dic.update({'key8' : 8})"
   ]
  },
  {
   "cell_type": "code",
   "execution_count": null,
   "id": "removed-exhaust",
   "metadata": {},
   "outputs": [],
   "source": [
    "dic"
   ]
  },
  {
   "cell_type": "code",
   "execution_count": null,
   "id": "eligible-melbourne",
   "metadata": {},
   "outputs": [],
   "source": [
    "dic.update({'key1' : '1', 'key2' : '2', 'key10' : 10})"
   ]
  },
  {
   "cell_type": "code",
   "execution_count": null,
   "id": "centered-seller",
   "metadata": {},
   "outputs": [],
   "source": [
    "dic"
   ]
  },
  {
   "cell_type": "markdown",
   "id": "furnished-hotel",
   "metadata": {},
   "source": [
    "### Exercise\n",
    "<hr>"
   ]
  },
  {
   "cell_type": "markdown",
   "id": "bronze-barcelona",
   "metadata": {},
   "source": [
    "**Mode**\n",
    "\n",
    "- Write the `mode` function but in this case use dictionaries in your implementation."
   ]
  },
  {
   "cell_type": "code",
   "execution_count": 1,
   "id": "proprietary-register",
   "metadata": {},
   "outputs": [],
   "source": [
    "import random as r"
   ]
  },
  {
   "cell_type": "code",
   "execution_count": 2,
   "id": "crude-equation",
   "metadata": {},
   "outputs": [],
   "source": [
    "l = [r.randint(1, 100) for i in range(100)]"
   ]
  },
  {
   "cell_type": "code",
   "execution_count": 4,
   "id": "outside-instruction",
   "metadata": {},
   "outputs": [
    {
     "data": {
      "text/plain": [
       "{'a': 0, 'b': 0, 'c': 0}"
      ]
     },
     "execution_count": 4,
     "metadata": {},
     "output_type": "execute_result"
    }
   ],
   "source": [
    "d = {}.fromkeys('abc', 0)\n",
    "d"
   ]
  },
  {
   "cell_type": "code",
   "execution_count": 5,
   "id": "baking-buyer",
   "metadata": {},
   "outputs": [
    {
     "data": {
      "text/plain": [
       "dict_items([('a', 0), ('b', 0), ('c', 0)])"
      ]
     },
     "execution_count": 5,
     "metadata": {},
     "output_type": "execute_result"
    }
   ],
   "source": [
    "d.items()"
   ]
  },
  {
   "cell_type": "code",
   "execution_count": 6,
   "id": "perceived-corpus",
   "metadata": {},
   "outputs": [],
   "source": [
    "def mode(l: list) -> list:\n",
    "    \"\"\"\n",
    "    Calculates the mode of the elements in l\n",
    "    \n",
    "    \n",
    "    Returns a list of tuples where the first element of the tuple is one of the modes, and the second one is \n",
    "    the number of occurrences\n",
    "    \"\"\"\n",
    "    \n",
    "    mode = []\n",
    "    counter = {}.fromkeys(l, 0)\n",
    "    \n",
    "    for elem in l:\n",
    "        counter[elem] += 1\n",
    "        \n",
    "    m = max([(f, e) for e, f in counter.items()])[0]\n",
    "    \n",
    "    for elem in counter.items():\n",
    "        if elem[1] == m:\n",
    "            mode.append(elem)\n",
    "    \n",
    "    return mode"
   ]
  },
  {
   "cell_type": "code",
   "execution_count": 3,
   "id": "noticed-columbia",
   "metadata": {},
   "outputs": [
    {
     "data": {
      "text/plain": [
       "(10, 100)"
      ]
     },
     "execution_count": 3,
     "metadata": {},
     "output_type": "execute_result"
    }
   ],
   "source": [
    "max([(10, 100), (1, 1000), (2, 15)])"
   ]
  },
  {
   "cell_type": "code",
   "execution_count": 7,
   "id": "varying-centre",
   "metadata": {},
   "outputs": [
    {
     "data": {
      "text/plain": [
       "[(19, 4), (26, 4)]"
      ]
     },
     "execution_count": 7,
     "metadata": {},
     "output_type": "execute_result"
    }
   ],
   "source": [
    "mode(l)"
   ]
  },
  {
   "cell_type": "code",
   "execution_count": 8,
   "id": "universal-wallpaper",
   "metadata": {},
   "outputs": [],
   "source": [
    "l = [1, 1, 1, 1, 1, 2, 3, 4, 5, 5, 5, 5, 5]"
   ]
  },
  {
   "cell_type": "code",
   "execution_count": 9,
   "id": "completed-style",
   "metadata": {},
   "outputs": [
    {
     "data": {
      "text/plain": [
       "[(1, 5), (5, 5)]"
      ]
     },
     "execution_count": 9,
     "metadata": {},
     "output_type": "execute_result"
    }
   ],
   "source": [
    "mode(l)"
   ]
  },
  {
   "cell_type": "markdown",
   "id": "departmental-catch",
   "metadata": {},
   "source": [
    "- Read the `El Hobbit.txt` file an count how many times appear each word, **Be careful with the special symbols**"
   ]
  },
  {
   "cell_type": "code",
   "execution_count": 10,
   "id": "intimate-china",
   "metadata": {},
   "outputs": [],
   "source": [
    "file = open('El Hobbit.txt', 'r')\n",
    "text = file.read()\n",
    "file.close()"
   ]
  },
  {
   "cell_type": "code",
   "execution_count": 11,
   "id": "lucky-dance",
   "metadata": {},
   "outputs": [],
   "source": [
    "text = text.lower()"
   ]
  },
  {
   "cell_type": "code",
   "execution_count": 12,
   "id": "registered-surface",
   "metadata": {},
   "outputs": [
    {
     "data": {
      "text/plain": [
       "'\\nen un agujero en el suelo, vivia un hobbit. no un agujero humedo, sucio, repugnante, con restos de\\ngusanos y olor a fango, ni tampoco un agujero seco, desnudo y arenoso, sin nada en que sentarse o que\\ncomer: era un agujero-hobbit, y eso significa comodidad.\\ntenia una puerta redonda, perfecta como un ojo de buey, pintada de verde, con una manilla de bronce\\ndorada y brillante, justo en el medio. la puerta se abria a un vestibulo cilindrico, como un tunel: un tunel\\nmuy comodo, sin humos, con paredes revestidas de madera y suelos enlosados y alfombrados, provistos\\nde sillas barnizadas, y montones y montones de perchas para sombreros y abrigos; el hobbit era\\naficionado a las visitas. el tunel se extendia serpeando, y penetraba bastante, pero no directamente, en la\\nladera de la colina â€”la colina, como la llamaba toda la gente de muchas millas alrededorâ€”, y muchas\\npuertecitas redondas se abrian en el, primero a un lado y luego al otro. nada de subir escaleras para el\\nhobbit: dormitorios, cuartos de baã±o, bodegas, despensas (muchas), armarios (habitaciones enteras\\ndedicadas a ropa), cocinas, comedores, se encontraban en la misma planta, y en verdad en el mismo\\npasillo. las mejores habitaciones estaban todas a la izquierda de la puerta principal, pues eran las unicas\\nque tenian ventanas, ventanas redondas, profundamente excavadas, que miraban al jardin y los prados de\\nmas alla, camino del rio.\\neste hobbit era un hobbit acomodado, y se apellidaba bolson. los bolson habian vivido en las\\ncercanias de la colina desde hacia muchisimo tiempo, y la gente los consideraba muy respetables, no \\nsolo porque casi todos eran ricos, sino tambien porque nunca tenian ninguna aventura ni hacian algo\\ninesperado: uno podia saber lo que diria un bolson acerca de cualquier asunto sin necesidad de\\npreguntarselo. ã‰sta es la historia de como un bolson tuvo una aventura, y se encontro a si mismo\\nhaciendo y diciendo cosas por completo inesperadas. podria haber perdido el respeto de los vecinos,\\npero gano... bueno, ya vereis si al final gano algo.\\nla madre de nuestro hobbit particular... pero â¿que es un hobbit? supongo que los hobbits necesitan\\nhoy que se los describa de algun modo, ya que se volvieron bastante raros y timidos con la gente\\ngrande, como nos llaman. son (o fueron) gente menuda de la mitad de nuestra talla, y mas pequeã±os que\\nlos enanos barbados. los hobbits no tienen barba. hay poca o ninguna magia en ellos, excepto esa\\ncomun y cotidiana que los ayuda a desaparecer en silencio y rapidamente, cuando gente grande y\\nestupida como vosotros o yo se acerca sin mirar por donde va, con un ruido de elefantes que puede oirse\\na una milla de distancia. tienden a ser gruesos de vientre; visten de colores brillantes (sobre todo verde y\\namarillo); no usan zapatos, porque en los pies tienen suelas naturales de piel y un pelo espeso y tibio de\\ncolor castaã±o, como el que les crece en la cabeza (que es rizado); los dedos son largos, maã±osos y\\nmorenos, los rostros afables, y se rien con profundas y jugosas risas (especialmente despues de cenar, lo\\nque hacen dos veces al dia, cuando pueden). ahora sabeis lo suficiente como para continuar el relato.\\ncomo iba diciendo, la madre de este hobbit â€”o sea, bilbo bolsonâ€” era la famosa belladonna tuk, una\\nde las tres extraordinarias hijas del viejo tuk, patriarca de los hobbits que vivian al otro lado de el\\nagua, el riachuelo que corria al pie de la colina. se decia a menudo (en otras familias) que tiempo atras\\nun antepasado de los tuk se habia casado sin duda con un hada. eso era, desde luego, absurdo, pero por\\ncierto habia todavia algo no del todo hobbit en ellos, y de cuando en cuando miembros del clan tuk\\nsalian a correr aventuras. desaparecian con discrecion, y la familia echaba tierra sobre el asunto; pero\\nlos tuk no eran tan respetables como los bolson, aunque indudablemente mas ricos.\\nal menos belladonna tuk no habia tenido ninguna aventura despues de convertirse en la seã±ora de\\nbungo bolson. bungo, el padre de bilbo, le construyo el agujero-hobbit mas lujoso (en parte con el\\ndinero de ella) que pudiera encontrarse bajo la colina o sobre la colina o al otro lado de el agua, y alli\\nse quedaron hasta el fin. no obstante, es probable que bilbo, hijo unico, aunque se parecia y se\\ncomportaba exactamente como una segunda edicion de su padre, firme y comodon, tuviese alguna rareza\\nde caracter del lado de los tuk, algo que solo esperaba una ocasion para salir a la luz. la ocasion no\\nllego a presentarse nunca, hasta que bilbo bolson fue un adulto que rondaba los cincuenta aã±os y vivia\\nen el hermoso agujero-hobbit que acabo de describiros, y cuando en verdad ya parecia que se habia\\nasentado alli para siempre.\\npor alguna curiosa coincidencia, una maã±ana de hace tiempo en la quietud del mundo, cuando habia\\nmenos ruido y mas verdor, y los hobbits eran todavia numerosos y prosperos, y bilbo bolson estaba de\\npie en la puerta del agujero, despues del desayuno, fumando una enorme y larga pipa de madera que casi\\nle llegaba a los dedos lanudos de los pies (bien cepillados), gandalf aparecio de pronto. â¡gandalf! si\\nsolo hubieseis oido un cuarto de lo que yo he oido de el, y he oido solo muy poco de todo lo que hay que\\noir, estariais preparados para cualquier especie de cuento notable. cuentos y aventuras brotaban por\\ndondequiera que pasara, de la forma mas extraordinaria. no habia bajado a aquel camino al pie de la\\ncolina desde hacia aã±os y aã±os, desde la muerte de su amigo el viejo tuk, y los hobbits casi habian\\nolvidado como era. habia estado lejos, mas alla de la colina y del otro lado de el agua por asuntos\\nparticulares, desde el tiempo en que todos ellos eran pequeã±os niã±os hobbits y niã±as hobbits.\\ntodo lo que el confiado bilbo vio aquella maã±ana fue un anciano con un baston. tenia un sombrero\\nazul, alto y puntiagudo, una larga capa gris, una bufanda de plata sobre la que colgaba una barba larga y\\nblanca hasta mas abajo de la cintura, y botas negras.\\nâ€”â¡buenos dias! â€”dijo bilbo, y esto era exactamente lo que queria decir. el sol brillaba y la hierba\\nestaba muy verde. pero gandalf lo miro desde abajo de las cejas largas y espesas, mas sobresalientes que\\nel ala del sombrero, que le ensombrecia la cara.\\nâ€”â¿que quieres decir? â€”preguntoâ€”. â¿me deseas un buen dia, o quieres decir que es un buen dia, lo\\nquiera yo o no; o que hoy te sientes bien; o que es un dia en que conviene ser bueno?\\nâ€”todo eso a la vez â€”dijo bilboâ€”. y un dia estupendo para una pipa de tabaco a la puerta de casa,\\nademas. â¡si llevais una pipa encima, sentaos y tomad un poco de mi tabaco! â¡no hay prisa, tenemos todo\\nel dia por delante! â€”entonces bilbo se sento en una silla junto a la puerta, cruzo las piernas y lanzo un\\nhermoso anillo de humo gris que navego en el aire sin romperse, y se alejo flotando sobre la colina. \\nâ€”â¡muy bonito! â€”dijo gandalfâ€”. pero esta maã±ana no tengo tiempo para anillos de humo. busco a\\nalguien con quien compartir una aventura que estoy planeando, y es dificil dar con el.\\nâ€”pienso lo mismo... en estos lugares somos gente sencilla y tranquila y no estamos acostumbrados a\\nlas aventuras. â¡cosas desagradables, molestas e incomodas que retrasan la cena! no me explico por que\\natraen a la gente â€”dijo nuestro seã±or bolson, y metiendo un pulgar detras del tirante, lanzo otro anillo\\nde humo mas grande aun. luego saco el correo matutino y se puso a leer, fingiendo ignorar al viejo.\\npero el viejo no se movio. permanecio apoyado en el baston observando al hobbit sin decir nada, hasta\\nque bilbo se sintio bastante incomodo y aun un poco enfadadoâ€”. â¡buenos dias! â€”dijo al finâ€”. â¡no\\nqueremos aventuras aqui, gracias! â¿por que no probais mas alla de la colina o al otro lado de el agua?\\nâ€”con esto daba a entender que la conversacion habia terminado.\\nâ€”â¡para cuantas cosas empleas el buenos dias! â€”dijo gandalfâ€”. ahora quieres decir que intentas\\ndeshacerte de mi y que no seran buenos hasta que me vaya.\\nâ€”â¡de ningun modo, de ningun modo, mi querido seã±or! veamos, no creo conocer vuestro nombre...\\nâ€”â¡si, si, mi querido seã±or, y yo si que conozco tu nombre, seã±or bilbo bolson! y tu tambien sabes el\\nmio, aunque no me unas a el. â¡yo soy gandalf, y gandalf soy yo! â¡quien iba a pensar que un hijo de\\nbelladonna tuk me daria los buenos dias como si yo fuese vendiendo botones de puerta en puerta!\\nâ€”â¡gandalf, gandalf! â¡valgame el cielo! â¿no sois vos el mago errante que dio al viejo tuk un par de\\nbotones magicos de diamante que se abrochaban solos y no se desabrochaban hasta que les dabas una\\norden? â¿no sois vos quien contaba en las reuniones aquellas historias maravillosas de dragones y trasgos\\ny gigantes y rescates de princesas y la inesperada fortuna de los hijos de madre viuda? â¿no el hombre\\nque acostumbraba a fabricar aquellos fuegos de artificio tan excelentes? â¡los recuerdo! el viejo tuk los\\npreparaba en los solsticios de verano. â¡esplendidos! subian como grandes lirios, cabezas de dragon y\\narboles de fuego que quedaban suspendidos en el aire durante todo el crepusculo. â€”ya os habreis dado\\ncuenta de que el seã±or bolson no era tan prosaico como el mismo creia, y tambien de que era muy\\naficionado a las flores.â€” â¡diantre! â€”continuoâ€”. â¿no sois vos el gandalf responsable de que tantos y\\ntantos jovenes apacibles partiesen hacia el azul en busca de locas aventuras? cualquier cosa desde\\ntrepar arboles a visitar elfos... o zarpar en barcos, â¡y navegar hacia otras costas! â¡caramba!, la vida era\\nbastante apacible entonces... quiero decir, en un tiempo tuvisteis la costumbre de perturbarlo todo en\\nestos sitios. os pido perdon, pero no tenia ni idea de que todavia estuvieseis en actividad.\\nâ€”â¿donde si no iba a estar? â€”dijo el magoâ€”. de cualquier modo, me complace descubrir que aun\\nrecuerdas algo de mi. al menos, parece que recuerdas con cariã±o mis fuegos artificiales, y eso es\\nreconfortante. y en verdad, por la memoria de tu viejo abuelo tuk y por la memoria de la pobre\\nbelladonna, te concedere lo que has pedido.\\nâ€”perdon, â¡yo no he pedido nada!\\nâ€”â¡si, si, lo has hecho! dos veces ya. mi perdon. te lo doy. de hecho ire tan lejos como para\\nembarcarme en esa aventura. muy divertida para mi, muy buena para ti... y quiza tambien muy\\nprovechosa, si sales de ella sano y salvo.\\nâ€”â¡disculpad! no quiero ninguna aventura, gracias. hoy no. â¡buenos dias! pero venid a tomar el te...\\nâ¡cuando gusteis! â¿por que no maã±ana? â¡si, venid maã±ana! â¡adios! â€”con esto el hobbit retrocedio\\nescabullendose por la redonda puerta verde, y la cerro lo mas rapido que pudo sin llegar a parecer\\ngrosero. al fin y al cabo, un mago es un mago.\\nâ«â¡para que diablos lo habre invitado al te!â», se dijo bilbo cuando iba hacia la despensa. acababa de\\ndesayunar hacia muy poco, pero penso que un pastelillo o dos y un trago de algo le sentarian bien\\ndespues del sobresalto.\\ngandalf, mientras tanto, seguia a la puerta, riendose larga y apaciblemente. al cabo de un rato subio,\\ny con la punta del baston dibujo un signo extraã±o en la hermosa puerta verde del hobbit. luego se alejo a\\ngrandes zancadas, justo en el momento en que bilbo ya estaba terminando el segundo pastel y\\nempezando a pensar que habia conseguido librarse al fin de cualquier posible aventura.\\nal dia siguiente casi se habia olvidado de gandalf. no recordaba muy bien las cosas, a menos que las\\nescribiese en la libreta de compromisos; de este modo: gandalf te miercoles. el dia anterior habia\\nestado demasiado aturdido como para ponerse a anotar.\\nun momento antes de la hora del te se oyo un tremendo campanillazo en la puerta principal, â¡y\\nentonces se acordo! se apresuro y puso la marmita, saco otra taza y un platillo y un pastel o dos mas, y\\ncorrio a la puerta. \\nâ«â¡siento de veras haberle hecho esperar!â», iba a decir, cuando vio que en realidad no era gandalf. era\\nun enano de barba azul, recogida en un cinturon dorado, y ojos muy brillantes bajo el capuchon verde\\noscuro. tan pronto como la puerta se abrio, entro de prisa como si le estuviesen esperando.\\ncolgo la capa encapuchada en la percha mas cercana, y â€”â¡dwalin, a vuestro servicio! â€”dijo\\nsaludando con una reverencia.\\nâ€”â¡bilbo bolson, al vuestro! â€”dijo el hobbit, demasiado sorprendido como para hacer cualquier\\npregunta por el momento. cuando el silencio que siguio empezo a hacerse incomodo, aã±adioâ€”: estoy a\\npunto de tomar el te; por favor, acercaos y tomad algo conmigo. â€”un tanto tieso, tal vez, pero hablo con\\namabilidad. â¿y que hariais vosotros, si un enano llegara de subito y colgara sus cosas en vuestro\\nvestibulo sin dar explicaciones?\\nllevaban apenas un rato sentados a la mesa, en verdad estaban empezando el tercer pastelillo, cuando\\nresono otro campanillazo todavia mas estridente.\\nâ€”â¡disculpad! â€”dijo el hobbit, y se encamino hacia la puerta.\\nâ«â¡asi que al fin habeis venido!â» esto era lo que iba a decirle ahora a gandalf. pero no era gandalf. en\\ncambio, vio en el umbral un enano que parecia muy viejo, de barba blanca y capuchon escarlata; y este\\ntambien entro de un salto tan pronto como la puerta se abrio, como si fuera un invitado.\\nâ€”veo que han empezado a llegar â€”dijo cuando vio en la percha el capuchon verde de dwalin.\\ncoloco el suyo rojo junto al otro y â€”â¡balin, a vuestro servicio! â€”dijo con la mano en el pecho.\\nâ€”â¡gracias! â€”dijo bilbo casi sin voz. no era la respuesta mas apropiada, pero el han empezado a\\nllegar lo habia dejado perplejo. le gustaban las visitas, aunque preferia conocerlas antes de que llegasen,\\ne invitarlas el mismo. tenia el terrible presentimiento de que los pasteles no serian suficientes, y como\\nconocia las obligaciones de un anfitrion y las cumplia con puntualidad aunque le parecieran penosas,\\nquiza el se quedara sin ninguno.\\nâ€”â¡entre, y sirvase una taza de te! â€”consiguio decir luego de tomar aliento.\\nâ€”un poco de cerveza me iria mejor, si a vos no os importa, mi buen seã±or â€”dijo balin, el de la barba\\nblancaâ€”. pero no me incomodaria un pastelillo, un pastelillo de semillas, si teneis alguno.\\nâ€”â¡muchos! â€”se encontro bilbo respondiendo, sorprendido, y se encontro, tambien, corriendo a la\\nbodega para echar en una jarra una pinta de cerveza, y despues a la despensa a recoger dos sabrosos\\npastelillos de semillas que habia hecho esa tarde para el refrigerio de despues de la cena.\\ncuando regreso, balin y dwalin estaban charlando a la mesa como viejos amigos (en realidad eran\\nhermanos). bilbo deposito la cerveza y el pastel delante de ellos, cuando de nuevo se oyo un fuerte\\ncampanillazo, y despues otro.\\nâ«â¡gandalf de seguro esta vez!â», penso mientras resoplaba por el pasillo. pero no; eran dos enanos\\nmas, ambos con capuchones azules, cinturones de plata y barbas amarillas; y cada uno de ellos llevaba\\nuna bolsa de herramientas y una pala. saltaron al interior tan pronto la puerta comenzo a abrirse. bilbo\\nya apenas se sorprendio.\\nâ€”â¿en que puedo yo serviros, mis queridos enanos? â€”dijo.\\nâ€”â¡kili, a vuestro servicio! â€”dijo unoâ€”. â¡y fili! â€”aã±adio el otro; y ambos se sacaron a toda prisa\\nlos capuchones azules e hicieron una reverencia.\\nâ€”â¡al vuestro y al de vuestra familia! â€”replico bilbo, recordando esta vez sus buenos modales.\\nâ€”veo que dwalin y balin estan ya aqui â€”dijo kiliâ€”. â¡unamonos al tropel!\\nâ«â¡tropel!â», penso el seã±or bolson. â«no me gusta el sonido de esa palabra. necesito sentarme un\\nminuto y recapacitar, y echar un trago.â» solo habia alcanzado a mojarse los labios, en un rincon,\\nmientras los cuatro enanos se sentaban en torno a la mesa, y charlaban sobre minas y oro y problemas\\ncon los trasgos, y las depredaciones de los dragones, y un monton de otras cosas que el no entendia, y no\\nqueria entender, pues parecian demasiado aventureras, cuando, din-don-dan, la campana sono de nuevo,\\ncomo si algun travieso niã±o hobbit intentase arrancar el llamador.\\nâ€”â¡alguien mas a la puerta! â€”dijo parpadeando.\\nâ€”por el sonido yo diria que unos cuatro â€”dijo filiâ€”. ademas, los vimos venir detras de nosotros a\\nlo lejos.\\nel pobrecito hobbit se sento en el vestibulo y apoyando la cabeza en las manos, se pregunto que habia\\npasado, y que pasaria ahora, y si todos se quedarian a cenar. en ese momento la campana sono de nuevo\\nmas fuerte que nunca, y tuvo que correr hacia la puerta. y no eran cuatro, sino cinco. otro enano se les\\nhabia acercado mientras el seguia en el vestibulo preguntandose que ocurria. apenas habia girado la \\nmanija y ya todos estaban dentro, haciendo reverencias y diciendo uno tras otro â«a vuestro servicioâ».\\ndori, nori, ori, oin y gloin eran sus nombres, y al momento dos capuchones de color purpura, uno gris,\\nuno castaã±o y uno blanco colgaban de las perchas, y alla fueron los enanos con las manos anchas\\nmetidas en los cinturones de oro y plata a reunirse con los otros. ya casi eran un tropel. unos pedian\\ncerveza del pais, otros cerveza negra, uno cafe, y todos ellos pastelillos; asi que tuvieron al hobbit muy\\nocupado durante un rato.\\nuna gran cafetera habia sido puesta a la lumbre, los pastelillos de semillas ya se habian acabado, y los\\nenanos empezaban una ronda de bollos con mantequilla, cuando de pronto... un fuerte golpe. no un\\ncampanillazo, sino un fuerte toc-toc en la preciosa puerta verde del hobbit. â¡alguien estaba llamando a\\nbastonazos!\\nbilbo corrio por el pasillo, muy enfadado, y por completo atribulado y compungido; este era el\\nmiercoles mas desagradable que pudiera recordar. abrio la puerta de un bandazo, y todos rodaron\\ndentro, uno sobre otro. mas enanos, â¡cuatro mas! y detras gandalf, apoyado en su vara y riendo. habia\\nhecho una muesca bastante grande en la hermosa puerta; por cierto, tambien habia borrado la marca\\nsecreta que pusiera alli la maã±ana anterior.\\nâ€”â¡tranquilidad, tranquilidad! â€”dijoâ€”. â¡no es propio de ti, bilbo, tener a los amigos esperando en el\\nfelpudo y luego abrir la puerta de sopeton! â¡dejame presentarte a bifur, bofur, bombur, y sobre todo a\\nthorin!\\nâ€”â¡a vuestro servicio! â€”dijeron bifur, bofur y bombur, los tres en hilera. en seguida colgaron dos\\ncapuchones amarillos y uno verde palido; y tambien uno celeste con una larga borla de plata. este ultimo\\npertenecia a thorin, un enorme e importante enano, de hecho nada mas y nada menos que el propio\\nthorin escudo de roble, a quien no le gusto nada caer de bruces sobre el felpudo de bilbo con bifur,\\nbofur y bombur sobre el. ante todo, bombur era enormemente gordo y pesado. thorin era muy\\narrogante, y no dijo nada sobre servicio; pero el pobre seã±or bolson le repitio tantas veces que lo sentia,\\nque el enano gruã±o al fin: â€”le ruego no lo mencione mas â€”y dejo de fruncir el entrecejo.\\nâ€”â¡vaya, ya estamos todos aqui! â€”dijo gandalf, mirando la hilera de trece capuchones, una muy\\nvistosa coleccion de capuchones, y su propio sombrero colgados en las perchasâ€”. â¡que alegre reunion!\\nâ¡espero que quede algo de comer y beber para los rezagados! â¿que es eso? â¡te! â¡no, gracias! para mi un\\npoco de vino tinto.\\nâ€”y tambien yo â€”dijo thorin.\\nâ€”y mermelada de frambuesa y tarta de manzana â€”dijo bifur.\\nâ€”y pastelillos de carne y queso â€”dijo bofur.\\nâ€”y pastel de carne de cerdo y tambien ensalada â€”dijo bombur.\\nâ€”y mas pasteles, y cerveza, y cafe, si no os importa â€”gritaron los otros enanos al otro lado de la\\npuerta.\\nâ€”prepara unos pocos huevos. â¡que gran amigo! â€”grito gandalf mientras el hobbit corria a las\\ndespensasâ€”. â¡y saca el pollo frio y unos encurtidos!\\nâ«â¡parece conocer el interior de mi despensa tanto como yo!â», penso el seã±or bolson, que se sentia del\\ntodo desconcertado y empezaba a preguntarse si la mas lamentable aventura no habia ido a caer justo a\\nsu propia casa. cuando termino de apilar las botellas y los platos y los cuchillos y los tenedores y los\\nvasos y las fuentes y las cucharas y demas cosas en grandes bandejas, estaba acalorado, rojo como la\\ngrana y muy fastidiado.\\nâ€”â¡fustigados y condenados enanos! â€”dijo en voz altaâ€”. â¿por que no vienen y me echan una mano?\\nâ€”y he aqui que alli estaban balin y dwalin en la puerta de la cocina, y fili y kili tras ellos, y antes de\\nque pudiese decir cuchillo, ya se habian llevado a toda prisa las bandejas y un par de mesas pequeã±as al\\nsalon, y alli colocaron todo otra vez.\\ngandalf se puso a la cabecera, con los trece enanos alrededor, y bilbo se sento en un taburete junto al\\nfuego, mordisqueando una galleta (habia perdido el apetito) e intentando aparentar que todo era normal y\\nde ningun modo una aventura. los enanos comieron y comieron, charlaron y charlaron, y el tiempo\\npaso. por ultimo echaron atras las sillas, y bilbo se puso en movimiento, recogiendo platos y vasos.\\nâ€”supongo que os quedareis todos a cenar â€”dijo en uno de sus mas educados y reposados tonos.\\nâ€”â¡claro que si! â€”dijo thorinâ€”, y despues tambien. no nos meteremos en el asunto hasta mas tarde,\\ny antes podemos hacer un poco de musica. â¡ahora a levantar las mesas!\\nen seguida los doce enanos â€”no thorin, el era demasiado importante, y se quedo charlando con \\ngandalfâ€” se incorporaron de un salto, e hicieron enormes pilas con todas las cosas. alla se fueron, sin\\nesperar por las bandejas, llevando en equilibrio en una mano las columnas de platos, cada una de ellas\\ncon una botella encima, mientras el hobbit corria detras casi dando chillidos de miedo: â€”â¡por favor,\\ncuidado! â€”yâ€” â¡por favor, no se molesten! yo me las arreglo. â€”pero los enanos no le hicieron caso y\\nse pusieron a cantar: \\n\\n'"
      ]
     },
     "execution_count": 12,
     "metadata": {},
     "output_type": "execute_result"
    }
   ],
   "source": [
    "text"
   ]
  },
  {
   "cell_type": "code",
   "execution_count": 13,
   "id": "interracial-jersey",
   "metadata": {},
   "outputs": [],
   "source": [
    "dic = {}.fromkeys(text)\n",
    "characters = list(dic.keys())"
   ]
  },
  {
   "cell_type": "code",
   "execution_count": 14,
   "id": "swedish-insertion",
   "metadata": {},
   "outputs": [
    {
     "data": {
      "text/plain": [
       "['\\n',\n",
       " 'e',\n",
       " 'n',\n",
       " ' ',\n",
       " 'u',\n",
       " 'a',\n",
       " 'g',\n",
       " 'j',\n",
       " 'r',\n",
       " 'o',\n",
       " 'l',\n",
       " 's',\n",
       " ',',\n",
       " 'v',\n",
       " 'i',\n",
       " 'h',\n",
       " 'b',\n",
       " 't',\n",
       " '.',\n",
       " 'm',\n",
       " 'd',\n",
       " 'c',\n",
       " 'p',\n",
       " 'y',\n",
       " 'f',\n",
       " 'q',\n",
       " ':',\n",
       " '-',\n",
       " 'z',\n",
       " ';',\n",
       " 'x',\n",
       " 'â',\n",
       " '€',\n",
       " '”',\n",
       " 'ã',\n",
       " '±',\n",
       " '(',\n",
       " ')',\n",
       " '‰',\n",
       " '¿',\n",
       " '?',\n",
       " 'k',\n",
       " '¡',\n",
       " '!',\n",
       " '«',\n",
       " '»',\n",
       " 'w']"
      ]
     },
     "execution_count": 14,
     "metadata": {},
     "output_type": "execute_result"
    }
   ],
   "source": [
    "characters"
   ]
  },
  {
   "cell_type": "code",
   "execution_count": 15,
   "id": "broad-colonial",
   "metadata": {},
   "outputs": [],
   "source": [
    "special_characters = []\n",
    "\n",
    "for c in characters:\n",
    "    if not c.isalpha() and c != ' ':\n",
    "        special_characters.append(c)"
   ]
  },
  {
   "cell_type": "code",
   "execution_count": 16,
   "id": "alone-relative",
   "metadata": {},
   "outputs": [
    {
     "data": {
      "text/plain": [
       "['\\n',\n",
       " ',',\n",
       " '.',\n",
       " ':',\n",
       " '-',\n",
       " ';',\n",
       " '€',\n",
       " '”',\n",
       " '±',\n",
       " '(',\n",
       " ')',\n",
       " '‰',\n",
       " '¿',\n",
       " '?',\n",
       " '¡',\n",
       " '!',\n",
       " '«',\n",
       " '»']"
      ]
     },
     "execution_count": 16,
     "metadata": {},
     "output_type": "execute_result"
    }
   ],
   "source": [
    "special_characters"
   ]
  },
  {
   "cell_type": "code",
   "execution_count": 17,
   "id": "blond-formation",
   "metadata": {},
   "outputs": [],
   "source": [
    "clean_text = ''\n",
    "for c in text:\n",
    "    \n",
    "    if c in special_characters:\n",
    "        clean_text += ' '\n",
    "        \n",
    "    else:\n",
    "        clean_text += c"
   ]
  },
  {
   "cell_type": "code",
   "execution_count": 18,
   "id": "taken-samoa",
   "metadata": {},
   "outputs": [
    {
     "data": {
      "text/plain": [
       "' en un agujero en el suelo  vivia un hobbit  no un agujero humedo  sucio  repugnante  con restos de gusanos y olor a fango  ni tampoco un agujero seco  desnudo y arenoso  sin nada en que sentarse o que comer  era un agujero hobbit  y eso significa comodidad  tenia una puerta redonda  perfecta como un ojo de buey  pintada de verde  con una manilla de bronce dorada y brillante  justo en el medio  la puerta se abria a un vestibulo cilindrico  como un tunel  un tunel muy comodo  sin humos  con paredes revestidas de madera y suelos enlosados y alfombrados  provistos de sillas barnizadas  y montones y montones de perchas para sombreros y abrigos  el hobbit era aficionado a las visitas  el tunel se extendia serpeando  y penetraba bastante  pero no directamente  en la ladera de la colina â  la colina  como la llamaba toda la gente de muchas millas alrededorâ    y muchas puertecitas redondas se abrian en el  primero a un lado y luego al otro  nada de subir escaleras para el hobbit  dormitorios  cuartos de baã o  bodegas  despensas  muchas   armarios  habitaciones enteras dedicadas a ropa   cocinas  comedores  se encontraban en la misma planta  y en verdad en el mismo pasillo  las mejores habitaciones estaban todas a la izquierda de la puerta principal  pues eran las unicas que tenian ventanas  ventanas redondas  profundamente excavadas  que miraban al jardin y los prados de mas alla  camino del rio  este hobbit era un hobbit acomodado  y se apellidaba bolson  los bolson habian vivido en las cercanias de la colina desde hacia muchisimo tiempo  y la gente los consideraba muy respetables  no  solo porque casi todos eran ricos  sino tambien porque nunca tenian ninguna aventura ni hacian algo inesperado  uno podia saber lo que diria un bolson acerca de cualquier asunto sin necesidad de preguntarselo  ã sta es la historia de como un bolson tuvo una aventura  y se encontro a si mismo haciendo y diciendo cosas por completo inesperadas  podria haber perdido el respeto de los vecinos  pero gano    bueno  ya vereis si al final gano algo  la madre de nuestro hobbit particular    pero â que es un hobbit  supongo que los hobbits necesitan hoy que se los describa de algun modo  ya que se volvieron bastante raros y timidos con la gente grande  como nos llaman  son  o fueron  gente menuda de la mitad de nuestra talla  y mas pequeã os que los enanos barbados  los hobbits no tienen barba  hay poca o ninguna magia en ellos  excepto esa comun y cotidiana que los ayuda a desaparecer en silencio y rapidamente  cuando gente grande y estupida como vosotros o yo se acerca sin mirar por donde va  con un ruido de elefantes que puede oirse a una milla de distancia  tienden a ser gruesos de vientre  visten de colores brillantes  sobre todo verde y amarillo   no usan zapatos  porque en los pies tienen suelas naturales de piel y un pelo espeso y tibio de color castaã o  como el que les crece en la cabeza  que es rizado   los dedos son largos  maã osos y morenos  los rostros afables  y se rien con profundas y jugosas risas  especialmente despues de cenar  lo que hacen dos veces al dia  cuando pueden   ahora sabeis lo suficiente como para continuar el relato  como iba diciendo  la madre de este hobbit â  o sea  bilbo bolsonâ   era la famosa belladonna tuk  una de las tres extraordinarias hijas del viejo tuk  patriarca de los hobbits que vivian al otro lado de el agua  el riachuelo que corria al pie de la colina  se decia a menudo  en otras familias  que tiempo atras un antepasado de los tuk se habia casado sin duda con un hada  eso era  desde luego  absurdo  pero por cierto habia todavia algo no del todo hobbit en ellos  y de cuando en cuando miembros del clan tuk salian a correr aventuras  desaparecian con discrecion  y la familia echaba tierra sobre el asunto  pero los tuk no eran tan respetables como los bolson  aunque indudablemente mas ricos  al menos belladonna tuk no habia tenido ninguna aventura despues de convertirse en la seã ora de bungo bolson  bungo  el padre de bilbo  le construyo el agujero hobbit mas lujoso  en parte con el dinero de ella  que pudiera encontrarse bajo la colina o sobre la colina o al otro lado de el agua  y alli se quedaron hasta el fin  no obstante  es probable que bilbo  hijo unico  aunque se parecia y se comportaba exactamente como una segunda edicion de su padre  firme y comodon  tuviese alguna rareza de caracter del lado de los tuk  algo que solo esperaba una ocasion para salir a la luz  la ocasion no llego a presentarse nunca  hasta que bilbo bolson fue un adulto que rondaba los cincuenta aã os y vivia en el hermoso agujero hobbit que acabo de describiros  y cuando en verdad ya parecia que se habia asentado alli para siempre  por alguna curiosa coincidencia  una maã ana de hace tiempo en la quietud del mundo  cuando habia menos ruido y mas verdor  y los hobbits eran todavia numerosos y prosperos  y bilbo bolson estaba de pie en la puerta del agujero  despues del desayuno  fumando una enorme y larga pipa de madera que casi le llegaba a los dedos lanudos de los pies  bien cepillados   gandalf aparecio de pronto  â gandalf  si solo hubieseis oido un cuarto de lo que yo he oido de el  y he oido solo muy poco de todo lo que hay que oir  estariais preparados para cualquier especie de cuento notable  cuentos y aventuras brotaban por dondequiera que pasara  de la forma mas extraordinaria  no habia bajado a aquel camino al pie de la colina desde hacia aã os y aã os  desde la muerte de su amigo el viejo tuk  y los hobbits casi habian olvidado como era  habia estado lejos  mas alla de la colina y del otro lado de el agua por asuntos particulares  desde el tiempo en que todos ellos eran pequeã os niã os hobbits y niã as hobbits  todo lo que el confiado bilbo vio aquella maã ana fue un anciano con un baston  tenia un sombrero azul  alto y puntiagudo  una larga capa gris  una bufanda de plata sobre la que colgaba una barba larga y blanca hasta mas abajo de la cintura  y botas negras  â  â buenos dias  â  dijo bilbo  y esto era exactamente lo que queria decir  el sol brillaba y la hierba estaba muy verde  pero gandalf lo miro desde abajo de las cejas largas y espesas  mas sobresalientes que el ala del sombrero  que le ensombrecia la cara  â  â que quieres decir  â  preguntoâ    â me deseas un buen dia  o quieres decir que es un buen dia  lo quiera yo o no  o que hoy te sientes bien  o que es un dia en que conviene ser bueno  â  todo eso a la vez â  dijo bilboâ    y un dia estupendo para una pipa de tabaco a la puerta de casa  ademas  â si llevais una pipa encima  sentaos y tomad un poco de mi tabaco  â no hay prisa  tenemos todo el dia por delante  â  entonces bilbo se sento en una silla junto a la puerta  cruzo las piernas y lanzo un hermoso anillo de humo gris que navego en el aire sin romperse  y se alejo flotando sobre la colina   â  â muy bonito  â  dijo gandalfâ    pero esta maã ana no tengo tiempo para anillos de humo  busco a alguien con quien compartir una aventura que estoy planeando  y es dificil dar con el  â  pienso lo mismo    en estos lugares somos gente sencilla y tranquila y no estamos acostumbrados a las aventuras  â cosas desagradables  molestas e incomodas que retrasan la cena  no me explico por que atraen a la gente â  dijo nuestro seã or bolson  y metiendo un pulgar detras del tirante  lanzo otro anillo de humo mas grande aun  luego saco el correo matutino y se puso a leer  fingiendo ignorar al viejo  pero el viejo no se movio  permanecio apoyado en el baston observando al hobbit sin decir nada  hasta que bilbo se sintio bastante incomodo y aun un poco enfadadoâ    â buenos dias  â  dijo al finâ    â no queremos aventuras aqui  gracias  â por que no probais mas alla de la colina o al otro lado de el agua  â  con esto daba a entender que la conversacion habia terminado  â  â para cuantas cosas empleas el buenos dias  â  dijo gandalfâ    ahora quieres decir que intentas deshacerte de mi y que no seran buenos hasta que me vaya  â  â de ningun modo  de ningun modo  mi querido seã or  veamos  no creo conocer vuestro nombre    â  â si  si  mi querido seã or  y yo si que conozco tu nombre  seã or bilbo bolson  y tu tambien sabes el mio  aunque no me unas a el  â yo soy gandalf  y gandalf soy yo  â quien iba a pensar que un hijo de belladonna tuk me daria los buenos dias como si yo fuese vendiendo botones de puerta en puerta  â  â gandalf  gandalf  â valgame el cielo  â no sois vos el mago errante que dio al viejo tuk un par de botones magicos de diamante que se abrochaban solos y no se desabrochaban hasta que les dabas una orden  â no sois vos quien contaba en las reuniones aquellas historias maravillosas de dragones y trasgos y gigantes y rescates de princesas y la inesperada fortuna de los hijos de madre viuda  â no el hombre que acostumbraba a fabricar aquellos fuegos de artificio tan excelentes  â los recuerdo  el viejo tuk los preparaba en los solsticios de verano  â esplendidos  subian como grandes lirios  cabezas de dragon y arboles de fuego que quedaban suspendidos en el aire durante todo el crepusculo  â  ya os habreis dado cuenta de que el seã or bolson no era tan prosaico como el mismo creia  y tambien de que era muy aficionado a las flores â   â diantre  â  continuoâ    â no sois vos el gandalf responsable de que tantos y tantos jovenes apacibles partiesen hacia el azul en busca de locas aventuras  cualquier cosa desde trepar arboles a visitar elfos    o zarpar en barcos  â y navegar hacia otras costas  â caramba   la vida era bastante apacible entonces    quiero decir  en un tiempo tuvisteis la costumbre de perturbarlo todo en estos sitios  os pido perdon  pero no tenia ni idea de que todavia estuvieseis en actividad  â  â donde si no iba a estar  â  dijo el magoâ    de cualquier modo  me complace descubrir que aun recuerdas algo de mi  al menos  parece que recuerdas con cariã o mis fuegos artificiales  y eso es reconfortante  y en verdad  por la memoria de tu viejo abuelo tuk y por la memoria de la pobre belladonna  te concedere lo que has pedido  â  perdon  â yo no he pedido nada  â  â si  si  lo has hecho  dos veces ya  mi perdon  te lo doy  de hecho ire tan lejos como para embarcarme en esa aventura  muy divertida para mi  muy buena para ti    y quiza tambien muy provechosa  si sales de ella sano y salvo  â  â disculpad  no quiero ninguna aventura  gracias  hoy no  â buenos dias  pero venid a tomar el te    â cuando gusteis  â por que no maã ana  â si  venid maã ana  â adios  â  con esto el hobbit retrocedio escabullendose por la redonda puerta verde  y la cerro lo mas rapido que pudo sin llegar a parecer grosero  al fin y al cabo  un mago es un mago  â â para que diablos lo habre invitado al te â   se dijo bilbo cuando iba hacia la despensa  acababa de desayunar hacia muy poco  pero penso que un pastelillo o dos y un trago de algo le sentarian bien despues del sobresalto  gandalf  mientras tanto  seguia a la puerta  riendose larga y apaciblemente  al cabo de un rato subio  y con la punta del baston dibujo un signo extraã o en la hermosa puerta verde del hobbit  luego se alejo a grandes zancadas  justo en el momento en que bilbo ya estaba terminando el segundo pastel y empezando a pensar que habia conseguido librarse al fin de cualquier posible aventura  al dia siguiente casi se habia olvidado de gandalf  no recordaba muy bien las cosas  a menos que las escribiese en la libreta de compromisos  de este modo  gandalf te miercoles  el dia anterior habia estado demasiado aturdido como para ponerse a anotar  un momento antes de la hora del te se oyo un tremendo campanillazo en la puerta principal  â y entonces se acordo  se apresuro y puso la marmita  saco otra taza y un platillo y un pastel o dos mas  y corrio a la puerta   â â siento de veras haberle hecho esperar â   iba a decir  cuando vio que en realidad no era gandalf  era un enano de barba azul  recogida en un cinturon dorado  y ojos muy brillantes bajo el capuchon verde oscuro  tan pronto como la puerta se abrio  entro de prisa como si le estuviesen esperando  colgo la capa encapuchada en la percha mas cercana  y â  â dwalin  a vuestro servicio  â  dijo saludando con una reverencia  â  â bilbo bolson  al vuestro  â  dijo el hobbit  demasiado sorprendido como para hacer cualquier pregunta por el momento  cuando el silencio que siguio empezo a hacerse incomodo  aã adioâ    estoy a punto de tomar el te  por favor  acercaos y tomad algo conmigo  â  un tanto tieso  tal vez  pero hablo con amabilidad  â y que hariais vosotros  si un enano llegara de subito y colgara sus cosas en vuestro vestibulo sin dar explicaciones  llevaban apenas un rato sentados a la mesa  en verdad estaban empezando el tercer pastelillo  cuando resono otro campanillazo todavia mas estridente  â  â disculpad  â  dijo el hobbit  y se encamino hacia la puerta  â â asi que al fin habeis venido â  esto era lo que iba a decirle ahora a gandalf  pero no era gandalf  en cambio  vio en el umbral un enano que parecia muy viejo  de barba blanca y capuchon escarlata  y este tambien entro de un salto tan pronto como la puerta se abrio  como si fuera un invitado  â  veo que han empezado a llegar â  dijo cuando vio en la percha el capuchon verde de dwalin  coloco el suyo rojo junto al otro y â  â balin  a vuestro servicio  â  dijo con la mano en el pecho  â  â gracias  â  dijo bilbo casi sin voz  no era la respuesta mas apropiada  pero el han empezado a llegar lo habia dejado perplejo  le gustaban las visitas  aunque preferia conocerlas antes de que llegasen  e invitarlas el mismo  tenia el terrible presentimiento de que los pasteles no serian suficientes  y como conocia las obligaciones de un anfitrion y las cumplia con puntualidad aunque le parecieran penosas  quiza el se quedara sin ninguno  â  â entre  y sirvase una taza de te  â  consiguio decir luego de tomar aliento  â  un poco de cerveza me iria mejor  si a vos no os importa  mi buen seã or â  dijo balin  el de la barba blancaâ    pero no me incomodaria un pastelillo  un pastelillo de semillas  si teneis alguno  â  â muchos  â  se encontro bilbo respondiendo  sorprendido  y se encontro  tambien  corriendo a la bodega para echar en una jarra una pinta de cerveza  y despues a la despensa a recoger dos sabrosos pastelillos de semillas que habia hecho esa tarde para el refrigerio de despues de la cena  cuando regreso  balin y dwalin estaban charlando a la mesa como viejos amigos  en realidad eran hermanos   bilbo deposito la cerveza y el pastel delante de ellos  cuando de nuevo se oyo un fuerte campanillazo  y despues otro  â â gandalf de seguro esta vez â   penso mientras resoplaba por el pasillo  pero no  eran dos enanos mas  ambos con capuchones azules  cinturones de plata y barbas amarillas  y cada uno de ellos llevaba una bolsa de herramientas y una pala  saltaron al interior tan pronto la puerta comenzo a abrirse  bilbo ya apenas se sorprendio  â  â en que puedo yo serviros  mis queridos enanos  â  dijo  â  â kili  a vuestro servicio  â  dijo unoâ    â y fili  â  aã adio el otro  y ambos se sacaron a toda prisa los capuchones azules e hicieron una reverencia  â  â al vuestro y al de vuestra familia  â  replico bilbo  recordando esta vez sus buenos modales  â  veo que dwalin y balin estan ya aqui â  dijo kiliâ    â unamonos al tropel  â â tropel â   penso el seã or bolson  â no me gusta el sonido de esa palabra  necesito sentarme un minuto y recapacitar  y echar un trago â  solo habia alcanzado a mojarse los labios  en un rincon  mientras los cuatro enanos se sentaban en torno a la mesa  y charlaban sobre minas y oro y problemas con los trasgos  y las depredaciones de los dragones  y un monton de otras cosas que el no entendia  y no queria entender  pues parecian demasiado aventureras  cuando  din don dan  la campana sono de nuevo  como si algun travieso niã o hobbit intentase arrancar el llamador  â  â alguien mas a la puerta  â  dijo parpadeando  â  por el sonido yo diria que unos cuatro â  dijo filiâ    ademas  los vimos venir detras de nosotros a lo lejos  el pobrecito hobbit se sento en el vestibulo y apoyando la cabeza en las manos  se pregunto que habia pasado  y que pasaria ahora  y si todos se quedarian a cenar  en ese momento la campana sono de nuevo mas fuerte que nunca  y tuvo que correr hacia la puerta  y no eran cuatro  sino cinco  otro enano se les habia acercado mientras el seguia en el vestibulo preguntandose que ocurria  apenas habia girado la  manija y ya todos estaban dentro  haciendo reverencias y diciendo uno tras otro â a vuestro servicioâ   dori  nori  ori  oin y gloin eran sus nombres  y al momento dos capuchones de color purpura  uno gris  uno castaã o y uno blanco colgaban de las perchas  y alla fueron los enanos con las manos anchas metidas en los cinturones de oro y plata a reunirse con los otros  ya casi eran un tropel  unos pedian cerveza del pais  otros cerveza negra  uno cafe  y todos ellos pastelillos  asi que tuvieron al hobbit muy ocupado durante un rato  una gran cafetera habia sido puesta a la lumbre  los pastelillos de semillas ya se habian acabado  y los enanos empezaban una ronda de bollos con mantequilla  cuando de pronto    un fuerte golpe  no un campanillazo  sino un fuerte toc toc en la preciosa puerta verde del hobbit  â alguien estaba llamando a bastonazos  bilbo corrio por el pasillo  muy enfadado  y por completo atribulado y compungido  este era el miercoles mas desagradable que pudiera recordar  abrio la puerta de un bandazo  y todos rodaron dentro  uno sobre otro  mas enanos  â cuatro mas  y detras gandalf  apoyado en su vara y riendo  habia hecho una muesca bastante grande en la hermosa puerta  por cierto  tambien habia borrado la marca secreta que pusiera alli la maã ana anterior  â  â tranquilidad  tranquilidad  â  dijoâ    â no es propio de ti  bilbo  tener a los amigos esperando en el felpudo y luego abrir la puerta de sopeton  â dejame presentarte a bifur  bofur  bombur  y sobre todo a thorin  â  â a vuestro servicio  â  dijeron bifur  bofur y bombur  los tres en hilera  en seguida colgaron dos capuchones amarillos y uno verde palido  y tambien uno celeste con una larga borla de plata  este ultimo pertenecia a thorin  un enorme e importante enano  de hecho nada mas y nada menos que el propio thorin escudo de roble  a quien no le gusto nada caer de bruces sobre el felpudo de bilbo con bifur  bofur y bombur sobre el  ante todo  bombur era enormemente gordo y pesado  thorin era muy arrogante  y no dijo nada sobre servicio  pero el pobre seã or bolson le repitio tantas veces que lo sentia  que el enano gruã o al fin  â  le ruego no lo mencione mas â  y dejo de fruncir el entrecejo  â  â vaya  ya estamos todos aqui  â  dijo gandalf  mirando la hilera de trece capuchones  una muy vistosa coleccion de capuchones  y su propio sombrero colgados en las perchasâ    â que alegre reunion  â espero que quede algo de comer y beber para los rezagados  â que es eso  â te  â no  gracias  para mi un poco de vino tinto  â  y tambien yo â  dijo thorin  â  y mermelada de frambuesa y tarta de manzana â  dijo bifur  â  y pastelillos de carne y queso â  dijo bofur  â  y pastel de carne de cerdo y tambien ensalada â  dijo bombur  â  y mas pasteles  y cerveza  y cafe  si no os importa â  gritaron los otros enanos al otro lado de la puerta  â  prepara unos pocos huevos  â que gran amigo  â  grito gandalf mientras el hobbit corria a las despensasâ    â y saca el pollo frio y unos encurtidos  â â parece conocer el interior de mi despensa tanto como yo â   penso el seã or bolson  que se sentia del todo desconcertado y empezaba a preguntarse si la mas lamentable aventura no habia ido a caer justo a su propia casa  cuando termino de apilar las botellas y los platos y los cuchillos y los tenedores y los vasos y las fuentes y las cucharas y demas cosas en grandes bandejas  estaba acalorado  rojo como la grana y muy fastidiado  â  â fustigados y condenados enanos  â  dijo en voz altaâ    â por que no vienen y me echan una mano  â  y he aqui que alli estaban balin y dwalin en la puerta de la cocina  y fili y kili tras ellos  y antes de que pudiese decir cuchillo  ya se habian llevado a toda prisa las bandejas y un par de mesas pequeã as al salon  y alli colocaron todo otra vez  gandalf se puso a la cabecera  con los trece enanos alrededor  y bilbo se sento en un taburete junto al fuego  mordisqueando una galleta  habia perdido el apetito  e intentando aparentar que todo era normal y de ningun modo una aventura  los enanos comieron y comieron  charlaron y charlaron  y el tiempo paso  por ultimo echaron atras las sillas  y bilbo se puso en movimiento  recogiendo platos y vasos  â  supongo que os quedareis todos a cenar â  dijo en uno de sus mas educados y reposados tonos  â  â claro que si  â  dijo thorinâ    y despues tambien  no nos meteremos en el asunto hasta mas tarde  y antes podemos hacer un poco de musica  â ahora a levantar las mesas  en seguida los doce enanos â  no thorin  el era demasiado importante  y se quedo charlando con  gandalfâ   se incorporaron de un salto  e hicieron enormes pilas con todas las cosas  alla se fueron  sin esperar por las bandejas  llevando en equilibrio en una mano las columnas de platos  cada una de ellas con una botella encima  mientras el hobbit corria detras casi dando chillidos de miedo  â  â por favor  cuidado  â  yâ   â por favor  no se molesten  yo me las arreglo  â  pero los enanos no le hicieron caso y se pusieron a cantar    '"
      ]
     },
     "execution_count": 18,
     "metadata": {},
     "output_type": "execute_result"
    }
   ],
   "source": [
    "clean_text"
   ]
  },
  {
   "cell_type": "code",
   "execution_count": 19,
   "id": "advanced-shore",
   "metadata": {},
   "outputs": [
    {
     "name": "stdout",
     "output_type": "stream",
     "text": [
      "['en', 'un', 'agujero', 'en', 'el', 'suelo', 'vivia', 'un', 'hobbit', 'no', 'un', 'agujero', 'humedo', 'sucio', 'repugnante', 'con', 'restos', 'de', 'gusanos', 'y', 'olor', 'a', 'fango', 'ni', 'tampoco', 'un', 'agujero', 'seco', 'desnudo', 'y', 'arenoso', 'sin', 'nada', 'en', 'que', 'sentarse', 'o', 'que', 'comer', 'era', 'un', 'agujero', 'hobbit', 'y', 'eso', 'significa', 'comodidad', 'tenia', 'una', 'puerta', 'redonda', 'perfecta', 'como', 'un', 'ojo', 'de', 'buey', 'pintada', 'de', 'verde', 'con', 'una', 'manilla', 'de', 'bronce', 'dorada', 'y', 'brillante', 'justo', 'en', 'el', 'medio', 'la', 'puerta', 'se', 'abria', 'a', 'un', 'vestibulo', 'cilindrico', 'como', 'un', 'tunel', 'un', 'tunel', 'muy', 'comodo', 'sin', 'humos', 'con', 'paredes', 'revestidas', 'de', 'madera', 'y', 'suelos', 'enlosados', 'y', 'alfombrados', 'provistos', 'de', 'sillas', 'barnizadas', 'y', 'montones', 'y', 'montones', 'de', 'perchas', 'para', 'sombreros', 'y', 'abrigos', 'el', 'hobbit', 'era', 'aficionado', 'a', 'las', 'visitas', 'el', 'tunel', 'se', 'extendia', 'serpeando', 'y', 'penetraba', 'bastante', 'pero', 'no', 'directamente', 'en', 'la', 'ladera', 'de', 'la', 'colina', 'â', 'la', 'colina', 'como', 'la', 'llamaba', 'toda', 'la', 'gente', 'de', 'muchas', 'millas', 'alrededorâ', 'y', 'muchas', 'puertecitas', 'redondas', 'se', 'abrian', 'en', 'el', 'primero', 'a', 'un', 'lado', 'y', 'luego', 'al', 'otro', 'nada', 'de', 'subir', 'escaleras', 'para', 'el', 'hobbit', 'dormitorios', 'cuartos', 'de', 'baã', 'o', 'bodegas', 'despensas', 'muchas', 'armarios', 'habitaciones', 'enteras', 'dedicadas', 'a', 'ropa', 'cocinas', 'comedores', 'se', 'encontraban', 'en', 'la', 'misma', 'planta', 'y', 'en', 'verdad', 'en', 'el', 'mismo', 'pasillo', 'las', 'mejores', 'habitaciones', 'estaban', 'todas', 'a', 'la', 'izquierda', 'de', 'la', 'puerta', 'principal', 'pues', 'eran', 'las', 'unicas', 'que', 'tenian', 'ventanas', 'ventanas', 'redondas', 'profundamente', 'excavadas', 'que', 'miraban', 'al', 'jardin', 'y', 'los', 'prados', 'de', 'mas', 'alla', 'camino', 'del', 'rio', 'este', 'hobbit', 'era', 'un', 'hobbit', 'acomodado', 'y', 'se', 'apellidaba', 'bolson', 'los', 'bolson', 'habian', 'vivido', 'en', 'las', 'cercanias', 'de', 'la', 'colina', 'desde', 'hacia', 'muchisimo', 'tiempo', 'y', 'la', 'gente', 'los', 'consideraba', 'muy', 'respetables', 'no', 'solo', 'porque', 'casi', 'todos', 'eran', 'ricos', 'sino', 'tambien', 'porque', 'nunca', 'tenian', 'ninguna', 'aventura', 'ni', 'hacian', 'algo', 'inesperado', 'uno', 'podia', 'saber', 'lo', 'que', 'diria', 'un', 'bolson', 'acerca', 'de', 'cualquier', 'asunto', 'sin', 'necesidad', 'de', 'preguntarselo', 'ã', 'sta', 'es', 'la', 'historia', 'de', 'como', 'un', 'bolson', 'tuvo', 'una', 'aventura', 'y', 'se', 'encontro', 'a', 'si', 'mismo', 'haciendo', 'y', 'diciendo', 'cosas', 'por', 'completo', 'inesperadas', 'podria', 'haber', 'perdido', 'el', 'respeto', 'de', 'los', 'vecinos', 'pero', 'gano', 'bueno', 'ya', 'vereis', 'si', 'al', 'final', 'gano', 'algo', 'la', 'madre', 'de', 'nuestro', 'hobbit', 'particular', 'pero', 'â', 'que', 'es', 'un', 'hobbit', 'supongo', 'que', 'los', 'hobbits', 'necesitan', 'hoy', 'que', 'se', 'los', 'describa', 'de', 'algun', 'modo', 'ya', 'que', 'se', 'volvieron', 'bastante', 'raros', 'y', 'timidos', 'con', 'la', 'gente', 'grande', 'como', 'nos', 'llaman', 'son', 'o', 'fueron', 'gente', 'menuda', 'de', 'la', 'mitad', 'de', 'nuestra', 'talla', 'y', 'mas', 'pequeã', 'os', 'que', 'los', 'enanos', 'barbados', 'los', 'hobbits', 'no', 'tienen', 'barba', 'hay', 'poca', 'o', 'ninguna', 'magia', 'en', 'ellos', 'excepto', 'esa', 'comun', 'y', 'cotidiana', 'que', 'los', 'ayuda', 'a', 'desaparecer', 'en', 'silencio', 'y', 'rapidamente', 'cuando', 'gente', 'grande', 'y', 'estupida', 'como', 'vosotros', 'o', 'yo', 'se', 'acerca', 'sin', 'mirar', 'por', 'donde', 'va', 'con', 'un', 'ruido', 'de', 'elefantes', 'que', 'puede', 'oirse', 'a', 'una', 'milla', 'de', 'distancia', 'tienden', 'a', 'ser', 'gruesos', 'de', 'vientre', 'visten', 'de', 'colores', 'brillantes', 'sobre', 'todo', 'verde', 'y', 'amarillo', 'no', 'usan', 'zapatos', 'porque', 'en', 'los', 'pies', 'tienen', 'suelas', 'naturales', 'de', 'piel', 'y', 'un', 'pelo', 'espeso', 'y', 'tibio', 'de', 'color', 'castaã', 'o', 'como', 'el', 'que', 'les', 'crece', 'en', 'la', 'cabeza', 'que', 'es', 'rizado', 'los', 'dedos', 'son', 'largos', 'maã', 'osos', 'y', 'morenos', 'los', 'rostros', 'afables', 'y', 'se', 'rien', 'con', 'profundas', 'y', 'jugosas', 'risas', 'especialmente', 'despues', 'de', 'cenar', 'lo', 'que', 'hacen', 'dos', 'veces', 'al', 'dia', 'cuando', 'pueden', 'ahora', 'sabeis', 'lo', 'suficiente', 'como', 'para', 'continuar', 'el', 'relato', 'como', 'iba', 'diciendo', 'la', 'madre', 'de', 'este', 'hobbit', 'â', 'o', 'sea', 'bilbo', 'bolsonâ', 'era', 'la', 'famosa', 'belladonna', 'tuk', 'una', 'de', 'las', 'tres', 'extraordinarias', 'hijas', 'del', 'viejo', 'tuk', 'patriarca', 'de', 'los', 'hobbits', 'que', 'vivian', 'al', 'otro', 'lado', 'de', 'el', 'agua', 'el', 'riachuelo', 'que', 'corria', 'al', 'pie', 'de', 'la', 'colina', 'se', 'decia', 'a', 'menudo', 'en', 'otras', 'familias', 'que', 'tiempo', 'atras', 'un', 'antepasado', 'de', 'los', 'tuk', 'se', 'habia', 'casado', 'sin', 'duda', 'con', 'un', 'hada', 'eso', 'era', 'desde', 'luego', 'absurdo', 'pero', 'por', 'cierto', 'habia', 'todavia', 'algo', 'no', 'del', 'todo', 'hobbit', 'en', 'ellos', 'y', 'de', 'cuando', 'en', 'cuando', 'miembros', 'del', 'clan', 'tuk', 'salian', 'a', 'correr', 'aventuras', 'desaparecian', 'con', 'discrecion', 'y', 'la', 'familia', 'echaba', 'tierra', 'sobre', 'el', 'asunto', 'pero', 'los', 'tuk', 'no', 'eran', 'tan', 'respetables', 'como', 'los', 'bolson', 'aunque', 'indudablemente', 'mas', 'ricos', 'al', 'menos', 'belladonna', 'tuk', 'no', 'habia', 'tenido', 'ninguna', 'aventura', 'despues', 'de', 'convertirse', 'en', 'la', 'seã', 'ora', 'de', 'bungo', 'bolson', 'bungo', 'el', 'padre', 'de', 'bilbo', 'le', 'construyo', 'el', 'agujero', 'hobbit', 'mas', 'lujoso', 'en', 'parte', 'con', 'el', 'dinero', 'de', 'ella', 'que', 'pudiera', 'encontrarse', 'bajo', 'la', 'colina', 'o', 'sobre', 'la', 'colina', 'o', 'al', 'otro', 'lado', 'de', 'el', 'agua', 'y', 'alli', 'se', 'quedaron', 'hasta', 'el', 'fin', 'no', 'obstante', 'es', 'probable', 'que', 'bilbo', 'hijo', 'unico', 'aunque', 'se', 'parecia', 'y', 'se', 'comportaba', 'exactamente', 'como', 'una', 'segunda', 'edicion', 'de', 'su', 'padre', 'firme', 'y', 'comodon', 'tuviese', 'alguna', 'rareza', 'de', 'caracter', 'del', 'lado', 'de', 'los', 'tuk', 'algo', 'que', 'solo', 'esperaba', 'una', 'ocasion', 'para', 'salir', 'a', 'la', 'luz', 'la', 'ocasion', 'no', 'llego', 'a', 'presentarse', 'nunca', 'hasta', 'que', 'bilbo', 'bolson', 'fue', 'un', 'adulto', 'que', 'rondaba', 'los', 'cincuenta', 'aã', 'os', 'y', 'vivia', 'en', 'el', 'hermoso', 'agujero', 'hobbit', 'que', 'acabo', 'de', 'describiros', 'y', 'cuando', 'en', 'verdad', 'ya', 'parecia', 'que', 'se', 'habia', 'asentado', 'alli', 'para', 'siempre', 'por', 'alguna', 'curiosa', 'coincidencia', 'una', 'maã', 'ana', 'de', 'hace', 'tiempo', 'en', 'la', 'quietud', 'del', 'mundo', 'cuando', 'habia', 'menos', 'ruido', 'y', 'mas', 'verdor', 'y', 'los', 'hobbits', 'eran', 'todavia', 'numerosos', 'y', 'prosperos', 'y', 'bilbo', 'bolson', 'estaba', 'de', 'pie', 'en', 'la', 'puerta', 'del', 'agujero', 'despues', 'del', 'desayuno', 'fumando', 'una', 'enorme', 'y', 'larga', 'pipa', 'de', 'madera', 'que', 'casi', 'le', 'llegaba', 'a', 'los', 'dedos', 'lanudos', 'de', 'los', 'pies', 'bien', 'cepillados', 'gandalf', 'aparecio', 'de', 'pronto', 'â', 'gandalf', 'si', 'solo', 'hubieseis', 'oido', 'un', 'cuarto', 'de', 'lo', 'que', 'yo', 'he', 'oido', 'de', 'el', 'y', 'he', 'oido', 'solo', 'muy', 'poco', 'de', 'todo', 'lo', 'que', 'hay', 'que', 'oir', 'estariais', 'preparados', 'para', 'cualquier', 'especie', 'de', 'cuento', 'notable', 'cuentos', 'y', 'aventuras', 'brotaban', 'por', 'dondequiera', 'que', 'pasara', 'de', 'la', 'forma', 'mas', 'extraordinaria', 'no', 'habia', 'bajado', 'a', 'aquel', 'camino', 'al', 'pie', 'de', 'la', 'colina', 'desde', 'hacia', 'aã', 'os', 'y', 'aã', 'os', 'desde', 'la', 'muerte', 'de', 'su', 'amigo', 'el', 'viejo', 'tuk', 'y', 'los', 'hobbits', 'casi', 'habian', 'olvidado', 'como', 'era', 'habia', 'estado', 'lejos', 'mas', 'alla', 'de', 'la', 'colina', 'y', 'del', 'otro', 'lado', 'de', 'el', 'agua', 'por', 'asuntos', 'particulares', 'desde', 'el', 'tiempo', 'en', 'que', 'todos', 'ellos', 'eran', 'pequeã', 'os', 'niã', 'os', 'hobbits', 'y', 'niã', 'as', 'hobbits', 'todo', 'lo', 'que', 'el', 'confiado', 'bilbo', 'vio', 'aquella', 'maã', 'ana', 'fue', 'un', 'anciano', 'con', 'un', 'baston', 'tenia', 'un', 'sombrero', 'azul', 'alto', 'y', 'puntiagudo', 'una', 'larga', 'capa', 'gris', 'una', 'bufanda', 'de', 'plata', 'sobre', 'la', 'que', 'colgaba', 'una', 'barba', 'larga', 'y', 'blanca', 'hasta', 'mas', 'abajo', 'de', 'la', 'cintura', 'y', 'botas', 'negras', 'â', 'â', 'buenos', 'dias', 'â', 'dijo', 'bilbo', 'y', 'esto', 'era', 'exactamente', 'lo', 'que', 'queria', 'decir', 'el', 'sol', 'brillaba', 'y', 'la', 'hierba', 'estaba', 'muy', 'verde', 'pero', 'gandalf', 'lo', 'miro', 'desde', 'abajo', 'de', 'las', 'cejas', 'largas', 'y', 'espesas', 'mas', 'sobresalientes', 'que', 'el', 'ala', 'del', 'sombrero', 'que', 'le', 'ensombrecia', 'la', 'cara', 'â', 'â', 'que', 'quieres', 'decir', 'â', 'preguntoâ', 'â', 'me', 'deseas', 'un', 'buen', 'dia', 'o', 'quieres', 'decir', 'que', 'es', 'un', 'buen', 'dia', 'lo', 'quiera', 'yo', 'o', 'no', 'o', 'que', 'hoy', 'te', 'sientes', 'bien', 'o', 'que', 'es', 'un', 'dia', 'en', 'que', 'conviene', 'ser', 'bueno', 'â', 'todo', 'eso', 'a', 'la', 'vez', 'â', 'dijo', 'bilboâ', 'y', 'un', 'dia', 'estupendo', 'para', 'una', 'pipa', 'de', 'tabaco', 'a', 'la', 'puerta', 'de', 'casa', 'ademas', 'â', 'si', 'llevais', 'una', 'pipa', 'encima', 'sentaos', 'y', 'tomad', 'un', 'poco', 'de', 'mi', 'tabaco', 'â', 'no', 'hay', 'prisa', 'tenemos', 'todo', 'el', 'dia', 'por', 'delante', 'â', 'entonces', 'bilbo', 'se', 'sento', 'en', 'una', 'silla', 'junto', 'a', 'la', 'puerta', 'cruzo', 'las', 'piernas', 'y', 'lanzo', 'un', 'hermoso', 'anillo', 'de', 'humo', 'gris', 'que', 'navego', 'en', 'el', 'aire', 'sin', 'romperse', 'y', 'se', 'alejo', 'flotando', 'sobre', 'la', 'colina', 'â', 'â', 'muy', 'bonito', 'â', 'dijo', 'gandalfâ', 'pero', 'esta', 'maã', 'ana', 'no', 'tengo', 'tiempo', 'para', 'anillos', 'de', 'humo', 'busco', 'a', 'alguien', 'con', 'quien', 'compartir', 'una', 'aventura', 'que', 'estoy', 'planeando', 'y', 'es', 'dificil', 'dar', 'con', 'el', 'â', 'pienso', 'lo', 'mismo', 'en', 'estos', 'lugares', 'somos', 'gente', 'sencilla', 'y', 'tranquila', 'y', 'no', 'estamos', 'acostumbrados', 'a', 'las', 'aventuras', 'â', 'cosas', 'desagradables', 'molestas', 'e', 'incomodas', 'que', 'retrasan', 'la', 'cena', 'no', 'me', 'explico', 'por', 'que', 'atraen', 'a', 'la', 'gente', 'â', 'dijo', 'nuestro', 'seã', 'or', 'bolson', 'y', 'metiendo', 'un', 'pulgar', 'detras', 'del', 'tirante', 'lanzo', 'otro', 'anillo', 'de', 'humo', 'mas', 'grande', 'aun', 'luego', 'saco', 'el', 'correo', 'matutino', 'y', 'se', 'puso', 'a', 'leer', 'fingiendo', 'ignorar', 'al', 'viejo', 'pero', 'el', 'viejo', 'no', 'se', 'movio', 'permanecio', 'apoyado', 'en', 'el', 'baston', 'observando', 'al', 'hobbit', 'sin', 'decir', 'nada', 'hasta', 'que', 'bilbo', 'se', 'sintio', 'bastante', 'incomodo', 'y', 'aun', 'un', 'poco', 'enfadadoâ', 'â', 'buenos', 'dias', 'â', 'dijo', 'al', 'finâ', 'â', 'no', 'queremos', 'aventuras', 'aqui', 'gracias', 'â', 'por', 'que', 'no', 'probais', 'mas', 'alla', 'de', 'la', 'colina', 'o', 'al', 'otro', 'lado', 'de', 'el', 'agua', 'â', 'con', 'esto', 'daba', 'a', 'entender', 'que', 'la', 'conversacion', 'habia', 'terminado', 'â', 'â', 'para', 'cuantas', 'cosas', 'empleas', 'el', 'buenos', 'dias', 'â', 'dijo', 'gandalfâ', 'ahora', 'quieres', 'decir', 'que', 'intentas', 'deshacerte', 'de', 'mi', 'y', 'que', 'no', 'seran', 'buenos', 'hasta', 'que', 'me', 'vaya', 'â', 'â', 'de', 'ningun', 'modo', 'de', 'ningun', 'modo', 'mi', 'querido', 'seã', 'or', 'veamos', 'no', 'creo', 'conocer', 'vuestro', 'nombre', 'â', 'â', 'si', 'si', 'mi', 'querido', 'seã', 'or', 'y', 'yo', 'si', 'que', 'conozco', 'tu', 'nombre', 'seã', 'or', 'bilbo', 'bolson', 'y', 'tu', 'tambien', 'sabes', 'el', 'mio', 'aunque', 'no', 'me', 'unas', 'a', 'el', 'â', 'yo', 'soy', 'gandalf', 'y', 'gandalf', 'soy', 'yo', 'â', 'quien', 'iba', 'a', 'pensar', 'que', 'un', 'hijo', 'de', 'belladonna', 'tuk', 'me', 'daria', 'los', 'buenos', 'dias', 'como', 'si', 'yo', 'fuese', 'vendiendo', 'botones', 'de', 'puerta', 'en', 'puerta', 'â', 'â', 'gandalf', 'gandalf', 'â', 'valgame', 'el', 'cielo', 'â', 'no', 'sois', 'vos', 'el', 'mago', 'errante', 'que', 'dio', 'al', 'viejo', 'tuk', 'un', 'par', 'de', 'botones', 'magicos', 'de', 'diamante', 'que', 'se', 'abrochaban', 'solos', 'y', 'no', 'se', 'desabrochaban', 'hasta', 'que', 'les', 'dabas', 'una', 'orden', 'â', 'no', 'sois', 'vos', 'quien', 'contaba', 'en', 'las', 'reuniones', 'aquellas', 'historias', 'maravillosas', 'de', 'dragones', 'y', 'trasgos', 'y', 'gigantes', 'y', 'rescates', 'de', 'princesas', 'y', 'la', 'inesperada', 'fortuna', 'de', 'los', 'hijos', 'de', 'madre', 'viuda', 'â', 'no', 'el', 'hombre', 'que', 'acostumbraba', 'a', 'fabricar', 'aquellos', 'fuegos', 'de', 'artificio', 'tan', 'excelentes', 'â', 'los', 'recuerdo', 'el', 'viejo', 'tuk', 'los', 'preparaba', 'en', 'los', 'solsticios', 'de', 'verano', 'â', 'esplendidos', 'subian', 'como', 'grandes', 'lirios', 'cabezas', 'de', 'dragon', 'y', 'arboles', 'de', 'fuego', 'que', 'quedaban', 'suspendidos', 'en', 'el', 'aire', 'durante', 'todo', 'el', 'crepusculo', 'â', 'ya', 'os', 'habreis', 'dado', 'cuenta', 'de', 'que', 'el', 'seã', 'or', 'bolson', 'no', 'era', 'tan', 'prosaico', 'como', 'el', 'mismo', 'creia', 'y', 'tambien', 'de', 'que', 'era', 'muy', 'aficionado', 'a', 'las', 'flores', 'â', 'â', 'diantre', 'â', 'continuoâ', 'â', 'no', 'sois', 'vos', 'el', 'gandalf', 'responsable', 'de', 'que', 'tantos', 'y', 'tantos', 'jovenes', 'apacibles', 'partiesen', 'hacia', 'el', 'azul', 'en', 'busca', 'de', 'locas', 'aventuras', 'cualquier', 'cosa', 'desde', 'trepar', 'arboles', 'a', 'visitar', 'elfos', 'o', 'zarpar', 'en', 'barcos', 'â', 'y', 'navegar', 'hacia', 'otras', 'costas', 'â', 'caramba', 'la', 'vida', 'era', 'bastante', 'apacible', 'entonces', 'quiero', 'decir', 'en', 'un', 'tiempo', 'tuvisteis', 'la', 'costumbre', 'de', 'perturbarlo', 'todo', 'en', 'estos', 'sitios', 'os', 'pido', 'perdon', 'pero', 'no', 'tenia', 'ni', 'idea', 'de', 'que', 'todavia', 'estuvieseis', 'en', 'actividad', 'â', 'â', 'donde', 'si', 'no', 'iba', 'a', 'estar', 'â', 'dijo', 'el', 'magoâ', 'de', 'cualquier', 'modo', 'me', 'complace', 'descubrir', 'que', 'aun', 'recuerdas', 'algo', 'de', 'mi', 'al', 'menos', 'parece', 'que', 'recuerdas', 'con', 'cariã', 'o', 'mis', 'fuegos', 'artificiales', 'y', 'eso', 'es', 'reconfortante', 'y', 'en', 'verdad', 'por', 'la', 'memoria', 'de', 'tu', 'viejo', 'abuelo', 'tuk', 'y', 'por', 'la', 'memoria', 'de', 'la', 'pobre', 'belladonna', 'te', 'concedere', 'lo', 'que', 'has', 'pedido', 'â', 'perdon', 'â', 'yo', 'no', 'he', 'pedido', 'nada', 'â', 'â', 'si', 'si', 'lo', 'has', 'hecho', 'dos', 'veces', 'ya', 'mi', 'perdon', 'te', 'lo', 'doy', 'de', 'hecho', 'ire', 'tan', 'lejos', 'como', 'para', 'embarcarme', 'en', 'esa', 'aventura', 'muy', 'divertida', 'para', 'mi', 'muy', 'buena', 'para', 'ti', 'y', 'quiza', 'tambien', 'muy', 'provechosa', 'si', 'sales', 'de', 'ella', 'sano', 'y', 'salvo', 'â', 'â', 'disculpad', 'no', 'quiero', 'ninguna', 'aventura', 'gracias', 'hoy', 'no', 'â', 'buenos', 'dias', 'pero', 'venid', 'a', 'tomar', 'el', 'te', 'â', 'cuando', 'gusteis', 'â', 'por', 'que', 'no', 'maã', 'ana', 'â', 'si', 'venid', 'maã', 'ana', 'â', 'adios', 'â', 'con', 'esto', 'el', 'hobbit', 'retrocedio', 'escabullendose', 'por', 'la', 'redonda', 'puerta', 'verde', 'y', 'la', 'cerro', 'lo', 'mas', 'rapido', 'que', 'pudo', 'sin', 'llegar', 'a', 'parecer', 'grosero', 'al', 'fin', 'y', 'al', 'cabo', 'un', 'mago', 'es', 'un', 'mago', 'â', 'â', 'para', 'que', 'diablos', 'lo', 'habre', 'invitado', 'al', 'te', 'â', 'se', 'dijo', 'bilbo', 'cuando', 'iba', 'hacia', 'la', 'despensa', 'acababa', 'de', 'desayunar', 'hacia', 'muy', 'poco', 'pero', 'penso', 'que', 'un', 'pastelillo', 'o', 'dos', 'y', 'un', 'trago', 'de', 'algo', 'le', 'sentarian', 'bien', 'despues', 'del', 'sobresalto', 'gandalf', 'mientras', 'tanto', 'seguia', 'a', 'la', 'puerta', 'riendose', 'larga', 'y', 'apaciblemente', 'al', 'cabo', 'de', 'un', 'rato', 'subio', 'y', 'con', 'la', 'punta', 'del', 'baston', 'dibujo', 'un', 'signo', 'extraã', 'o', 'en', 'la', 'hermosa', 'puerta', 'verde', 'del', 'hobbit', 'luego', 'se', 'alejo', 'a', 'grandes', 'zancadas', 'justo', 'en', 'el', 'momento', 'en', 'que', 'bilbo', 'ya', 'estaba', 'terminando', 'el', 'segundo', 'pastel', 'y', 'empezando', 'a', 'pensar', 'que', 'habia', 'conseguido', 'librarse', 'al', 'fin', 'de', 'cualquier', 'posible', 'aventura', 'al', 'dia', 'siguiente', 'casi', 'se', 'habia', 'olvidado', 'de', 'gandalf', 'no', 'recordaba', 'muy', 'bien', 'las', 'cosas', 'a', 'menos', 'que', 'las', 'escribiese', 'en', 'la', 'libreta', 'de', 'compromisos', 'de', 'este', 'modo', 'gandalf', 'te', 'miercoles', 'el', 'dia', 'anterior', 'habia', 'estado', 'demasiado', 'aturdido', 'como', 'para', 'ponerse', 'a', 'anotar', 'un', 'momento', 'antes', 'de', 'la', 'hora', 'del', 'te', 'se', 'oyo', 'un', 'tremendo', 'campanillazo', 'en', 'la', 'puerta', 'principal', 'â', 'y', 'entonces', 'se', 'acordo', 'se', 'apresuro', 'y', 'puso', 'la', 'marmita', 'saco', 'otra', 'taza', 'y', 'un', 'platillo', 'y', 'un', 'pastel', 'o', 'dos', 'mas', 'y', 'corrio', 'a', 'la', 'puerta', 'â', 'â', 'siento', 'de', 'veras', 'haberle', 'hecho', 'esperar', 'â', 'iba', 'a', 'decir', 'cuando', 'vio', 'que', 'en', 'realidad', 'no', 'era', 'gandalf', 'era', 'un', 'enano', 'de', 'barba', 'azul', 'recogida', 'en', 'un', 'cinturon', 'dorado', 'y', 'ojos', 'muy', 'brillantes', 'bajo', 'el', 'capuchon', 'verde', 'oscuro', 'tan', 'pronto', 'como', 'la', 'puerta', 'se', 'abrio', 'entro', 'de', 'prisa', 'como', 'si', 'le', 'estuviesen', 'esperando', 'colgo', 'la', 'capa', 'encapuchada', 'en', 'la', 'percha', 'mas', 'cercana', 'y', 'â', 'â', 'dwalin', 'a', 'vuestro', 'servicio', 'â', 'dijo', 'saludando', 'con', 'una', 'reverencia', 'â', 'â', 'bilbo', 'bolson', 'al', 'vuestro', 'â', 'dijo', 'el', 'hobbit', 'demasiado', 'sorprendido', 'como', 'para', 'hacer', 'cualquier', 'pregunta', 'por', 'el', 'momento', 'cuando', 'el', 'silencio', 'que', 'siguio', 'empezo', 'a', 'hacerse', 'incomodo', 'aã', 'adioâ', 'estoy', 'a', 'punto', 'de', 'tomar', 'el', 'te', 'por', 'favor', 'acercaos', 'y', 'tomad', 'algo', 'conmigo', 'â', 'un', 'tanto', 'tieso', 'tal', 'vez', 'pero', 'hablo', 'con', 'amabilidad', 'â', 'y', 'que', 'hariais', 'vosotros', 'si', 'un', 'enano', 'llegara', 'de', 'subito', 'y', 'colgara', 'sus', 'cosas', 'en', 'vuestro', 'vestibulo', 'sin', 'dar', 'explicaciones', 'llevaban', 'apenas', 'un', 'rato', 'sentados', 'a', 'la', 'mesa', 'en', 'verdad', 'estaban', 'empezando', 'el', 'tercer', 'pastelillo', 'cuando', 'resono', 'otro', 'campanillazo', 'todavia', 'mas', 'estridente', 'â', 'â', 'disculpad', 'â', 'dijo', 'el', 'hobbit', 'y', 'se', 'encamino', 'hacia', 'la', 'puerta', 'â', 'â', 'asi', 'que', 'al', 'fin', 'habeis', 'venido', 'â', 'esto', 'era', 'lo', 'que', 'iba', 'a', 'decirle', 'ahora', 'a', 'gandalf', 'pero', 'no', 'era', 'gandalf', 'en', 'cambio', 'vio', 'en', 'el', 'umbral', 'un', 'enano', 'que', 'parecia', 'muy', 'viejo', 'de', 'barba', 'blanca', 'y', 'capuchon', 'escarlata', 'y', 'este', 'tambien', 'entro', 'de', 'un', 'salto', 'tan', 'pronto', 'como', 'la', 'puerta', 'se', 'abrio', 'como', 'si', 'fuera', 'un', 'invitado', 'â', 'veo', 'que', 'han', 'empezado', 'a', 'llegar', 'â', 'dijo', 'cuando', 'vio', 'en', 'la', 'percha', 'el', 'capuchon', 'verde', 'de', 'dwalin', 'coloco', 'el', 'suyo', 'rojo', 'junto', 'al', 'otro', 'y', 'â', 'â', 'balin', 'a', 'vuestro', 'servicio', 'â', 'dijo', 'con', 'la', 'mano', 'en', 'el', 'pecho', 'â', 'â', 'gracias', 'â', 'dijo', 'bilbo', 'casi', 'sin', 'voz', 'no', 'era', 'la', 'respuesta', 'mas', 'apropiada', 'pero', 'el', 'han', 'empezado', 'a', 'llegar', 'lo', 'habia', 'dejado', 'perplejo', 'le', 'gustaban', 'las', 'visitas', 'aunque', 'preferia', 'conocerlas', 'antes', 'de', 'que', 'llegasen', 'e', 'invitarlas', 'el', 'mismo', 'tenia', 'el', 'terrible', 'presentimiento', 'de', 'que', 'los', 'pasteles', 'no', 'serian', 'suficientes', 'y', 'como', 'conocia', 'las', 'obligaciones', 'de', 'un', 'anfitrion', 'y', 'las', 'cumplia', 'con', 'puntualidad', 'aunque', 'le', 'parecieran', 'penosas', 'quiza', 'el', 'se', 'quedara', 'sin', 'ninguno', 'â', 'â', 'entre', 'y', 'sirvase', 'una', 'taza', 'de', 'te', 'â', 'consiguio', 'decir', 'luego', 'de', 'tomar', 'aliento', 'â', 'un', 'poco', 'de', 'cerveza', 'me', 'iria', 'mejor', 'si', 'a', 'vos', 'no', 'os', 'importa', 'mi', 'buen', 'seã', 'or', 'â', 'dijo', 'balin', 'el', 'de', 'la', 'barba', 'blancaâ', 'pero', 'no', 'me', 'incomodaria', 'un', 'pastelillo', 'un', 'pastelillo', 'de', 'semillas', 'si', 'teneis', 'alguno', 'â', 'â', 'muchos', 'â', 'se', 'encontro', 'bilbo', 'respondiendo', 'sorprendido', 'y', 'se', 'encontro', 'tambien', 'corriendo', 'a', 'la', 'bodega', 'para', 'echar', 'en', 'una', 'jarra', 'una', 'pinta', 'de', 'cerveza', 'y', 'despues', 'a', 'la', 'despensa', 'a', 'recoger', 'dos', 'sabrosos', 'pastelillos', 'de', 'semillas', 'que', 'habia', 'hecho', 'esa', 'tarde', 'para', 'el', 'refrigerio', 'de', 'despues', 'de', 'la', 'cena', 'cuando', 'regreso', 'balin', 'y', 'dwalin', 'estaban', 'charlando', 'a', 'la', 'mesa', 'como', 'viejos', 'amigos', 'en', 'realidad', 'eran', 'hermanos', 'bilbo', 'deposito', 'la', 'cerveza', 'y', 'el', 'pastel', 'delante', 'de', 'ellos', 'cuando', 'de', 'nuevo', 'se', 'oyo', 'un', 'fuerte', 'campanillazo', 'y', 'despues', 'otro', 'â', 'â', 'gandalf', 'de', 'seguro', 'esta', 'vez', 'â', 'penso', 'mientras', 'resoplaba', 'por', 'el', 'pasillo', 'pero', 'no', 'eran', 'dos', 'enanos', 'mas', 'ambos', 'con', 'capuchones', 'azules', 'cinturones', 'de', 'plata', 'y', 'barbas', 'amarillas', 'y', 'cada', 'uno', 'de', 'ellos', 'llevaba', 'una', 'bolsa', 'de', 'herramientas', 'y', 'una', 'pala', 'saltaron', 'al', 'interior', 'tan', 'pronto', 'la', 'puerta', 'comenzo', 'a', 'abrirse', 'bilbo', 'ya', 'apenas', 'se', 'sorprendio', 'â', 'â', 'en', 'que', 'puedo', 'yo', 'serviros', 'mis', 'queridos', 'enanos', 'â', 'dijo', 'â', 'â', 'kili', 'a', 'vuestro', 'servicio', 'â', 'dijo', 'unoâ', 'â', 'y', 'fili', 'â', 'aã', 'adio', 'el', 'otro', 'y', 'ambos', 'se', 'sacaron', 'a', 'toda', 'prisa', 'los', 'capuchones', 'azules', 'e', 'hicieron', 'una', 'reverencia', 'â', 'â', 'al', 'vuestro', 'y', 'al', 'de', 'vuestra', 'familia', 'â', 'replico', 'bilbo', 'recordando', 'esta', 'vez', 'sus', 'buenos', 'modales', 'â', 'veo', 'que', 'dwalin', 'y', 'balin', 'estan', 'ya', 'aqui', 'â', 'dijo', 'kiliâ', 'â', 'unamonos', 'al', 'tropel', 'â', 'â', 'tropel', 'â', 'penso', 'el', 'seã', 'or', 'bolson', 'â', 'no', 'me', 'gusta', 'el', 'sonido', 'de', 'esa', 'palabra', 'necesito', 'sentarme', 'un', 'minuto', 'y', 'recapacitar', 'y', 'echar', 'un', 'trago', 'â', 'solo', 'habia', 'alcanzado', 'a', 'mojarse', 'los', 'labios', 'en', 'un', 'rincon', 'mientras', 'los', 'cuatro', 'enanos', 'se', 'sentaban', 'en', 'torno', 'a', 'la', 'mesa', 'y', 'charlaban', 'sobre', 'minas', 'y', 'oro', 'y', 'problemas', 'con', 'los', 'trasgos', 'y', 'las', 'depredaciones', 'de', 'los', 'dragones', 'y', 'un', 'monton', 'de', 'otras', 'cosas', 'que', 'el', 'no', 'entendia', 'y', 'no', 'queria', 'entender', 'pues', 'parecian', 'demasiado', 'aventureras', 'cuando', 'din', 'don', 'dan', 'la', 'campana', 'sono', 'de', 'nuevo', 'como', 'si', 'algun', 'travieso', 'niã', 'o', 'hobbit', 'intentase', 'arrancar', 'el', 'llamador', 'â', 'â', 'alguien', 'mas', 'a', 'la', 'puerta', 'â', 'dijo', 'parpadeando', 'â', 'por', 'el', 'sonido', 'yo', 'diria', 'que', 'unos', 'cuatro', 'â', 'dijo', 'filiâ', 'ademas', 'los', 'vimos', 'venir', 'detras', 'de', 'nosotros', 'a', 'lo', 'lejos', 'el', 'pobrecito', 'hobbit', 'se', 'sento', 'en', 'el', 'vestibulo', 'y', 'apoyando', 'la', 'cabeza', 'en', 'las', 'manos', 'se', 'pregunto', 'que', 'habia', 'pasado', 'y', 'que', 'pasaria', 'ahora', 'y', 'si', 'todos', 'se', 'quedarian', 'a', 'cenar', 'en', 'ese', 'momento', 'la', 'campana', 'sono', 'de', 'nuevo', 'mas', 'fuerte', 'que', 'nunca', 'y', 'tuvo', 'que', 'correr', 'hacia', 'la', 'puerta', 'y', 'no', 'eran', 'cuatro', 'sino', 'cinco', 'otro', 'enano', 'se', 'les', 'habia', 'acercado', 'mientras', 'el', 'seguia', 'en', 'el', 'vestibulo', 'preguntandose', 'que', 'ocurria', 'apenas', 'habia', 'girado', 'la', 'manija', 'y', 'ya', 'todos', 'estaban', 'dentro', 'haciendo', 'reverencias', 'y', 'diciendo', 'uno', 'tras', 'otro', 'â', 'a', 'vuestro', 'servicioâ', 'dori', 'nori', 'ori', 'oin', 'y', 'gloin', 'eran', 'sus', 'nombres', 'y', 'al', 'momento', 'dos', 'capuchones', 'de', 'color', 'purpura', 'uno', 'gris', 'uno', 'castaã', 'o', 'y', 'uno', 'blanco', 'colgaban', 'de', 'las', 'perchas', 'y', 'alla', 'fueron', 'los', 'enanos', 'con', 'las', 'manos', 'anchas', 'metidas', 'en', 'los', 'cinturones', 'de', 'oro', 'y', 'plata', 'a', 'reunirse', 'con', 'los', 'otros', 'ya', 'casi', 'eran', 'un', 'tropel', 'unos', 'pedian', 'cerveza', 'del', 'pais', 'otros', 'cerveza', 'negra', 'uno', 'cafe', 'y', 'todos', 'ellos', 'pastelillos', 'asi', 'que', 'tuvieron', 'al', 'hobbit', 'muy', 'ocupado', 'durante', 'un', 'rato', 'una', 'gran', 'cafetera', 'habia', 'sido', 'puesta', 'a', 'la', 'lumbre', 'los', 'pastelillos', 'de', 'semillas', 'ya', 'se', 'habian', 'acabado', 'y', 'los', 'enanos', 'empezaban', 'una', 'ronda', 'de', 'bollos', 'con', 'mantequilla', 'cuando', 'de', 'pronto', 'un', 'fuerte', 'golpe', 'no', 'un', 'campanillazo', 'sino', 'un', 'fuerte', 'toc', 'toc', 'en', 'la', 'preciosa', 'puerta', 'verde', 'del', 'hobbit', 'â', 'alguien', 'estaba', 'llamando', 'a', 'bastonazos', 'bilbo', 'corrio', 'por', 'el', 'pasillo', 'muy', 'enfadado', 'y', 'por', 'completo', 'atribulado', 'y', 'compungido', 'este', 'era', 'el', 'miercoles', 'mas', 'desagradable', 'que', 'pudiera', 'recordar', 'abrio', 'la', 'puerta', 'de', 'un', 'bandazo', 'y', 'todos', 'rodaron', 'dentro', 'uno', 'sobre', 'otro', 'mas', 'enanos', 'â', 'cuatro', 'mas', 'y', 'detras', 'gandalf', 'apoyado', 'en', 'su', 'vara', 'y', 'riendo', 'habia', 'hecho', 'una', 'muesca', 'bastante', 'grande', 'en', 'la', 'hermosa', 'puerta', 'por', 'cierto', 'tambien', 'habia', 'borrado', 'la', 'marca', 'secreta', 'que', 'pusiera', 'alli', 'la', 'maã', 'ana', 'anterior', 'â', 'â', 'tranquilidad', 'tranquilidad', 'â', 'dijoâ', 'â', 'no', 'es', 'propio', 'de', 'ti', 'bilbo', 'tener', 'a', 'los', 'amigos', 'esperando', 'en', 'el', 'felpudo', 'y', 'luego', 'abrir', 'la', 'puerta', 'de', 'sopeton', 'â', 'dejame', 'presentarte', 'a', 'bifur', 'bofur', 'bombur', 'y', 'sobre', 'todo', 'a', 'thorin', 'â', 'â', 'a', 'vuestro', 'servicio', 'â', 'dijeron', 'bifur', 'bofur', 'y', 'bombur', 'los', 'tres', 'en', 'hilera', 'en', 'seguida', 'colgaron', 'dos', 'capuchones', 'amarillos', 'y', 'uno', 'verde', 'palido', 'y', 'tambien', 'uno', 'celeste', 'con', 'una', 'larga', 'borla', 'de', 'plata', 'este', 'ultimo', 'pertenecia', 'a', 'thorin', 'un', 'enorme', 'e', 'importante', 'enano', 'de', 'hecho', 'nada', 'mas', 'y', 'nada', 'menos', 'que', 'el', 'propio', 'thorin', 'escudo', 'de', 'roble', 'a', 'quien', 'no', 'le', 'gusto', 'nada', 'caer', 'de', 'bruces', 'sobre', 'el', 'felpudo', 'de', 'bilbo', 'con', 'bifur', 'bofur', 'y', 'bombur', 'sobre', 'el', 'ante', 'todo', 'bombur', 'era', 'enormemente', 'gordo', 'y', 'pesado', 'thorin', 'era', 'muy', 'arrogante', 'y', 'no', 'dijo', 'nada', 'sobre', 'servicio', 'pero', 'el', 'pobre', 'seã', 'or', 'bolson', 'le', 'repitio', 'tantas', 'veces', 'que', 'lo', 'sentia', 'que', 'el', 'enano', 'gruã', 'o', 'al', 'fin', 'â', 'le', 'ruego', 'no', 'lo', 'mencione', 'mas', 'â', 'y', 'dejo', 'de', 'fruncir', 'el', 'entrecejo', 'â', 'â', 'vaya', 'ya', 'estamos', 'todos', 'aqui', 'â', 'dijo', 'gandalf', 'mirando', 'la', 'hilera', 'de', 'trece', 'capuchones', 'una', 'muy', 'vistosa', 'coleccion', 'de', 'capuchones', 'y', 'su', 'propio', 'sombrero', 'colgados', 'en', 'las', 'perchasâ', 'â', 'que', 'alegre', 'reunion', 'â', 'espero', 'que', 'quede', 'algo', 'de', 'comer', 'y', 'beber', 'para', 'los', 'rezagados', 'â', 'que', 'es', 'eso', 'â', 'te', 'â', 'no', 'gracias', 'para', 'mi', 'un', 'poco', 'de', 'vino', 'tinto', 'â', 'y', 'tambien', 'yo', 'â', 'dijo', 'thorin', 'â', 'y', 'mermelada', 'de', 'frambuesa', 'y', 'tarta', 'de', 'manzana', 'â', 'dijo', 'bifur', 'â', 'y', 'pastelillos', 'de', 'carne', 'y', 'queso', 'â', 'dijo', 'bofur', 'â', 'y', 'pastel', 'de', 'carne', 'de', 'cerdo', 'y', 'tambien', 'ensalada', 'â', 'dijo', 'bombur', 'â', 'y', 'mas', 'pasteles', 'y', 'cerveza', 'y', 'cafe', 'si', 'no', 'os', 'importa', 'â', 'gritaron', 'los', 'otros', 'enanos', 'al', 'otro', 'lado', 'de', 'la', 'puerta', 'â', 'prepara', 'unos', 'pocos', 'huevos', 'â', 'que', 'gran', 'amigo', 'â', 'grito', 'gandalf', 'mientras', 'el', 'hobbit', 'corria', 'a', 'las', 'despensasâ', 'â', 'y', 'saca', 'el', 'pollo', 'frio', 'y', 'unos', 'encurtidos', 'â', 'â', 'parece', 'conocer', 'el', 'interior', 'de', 'mi', 'despensa', 'tanto', 'como', 'yo', 'â', 'penso', 'el', 'seã', 'or', 'bolson', 'que', 'se', 'sentia', 'del', 'todo', 'desconcertado', 'y', 'empezaba', 'a', 'preguntarse', 'si', 'la', 'mas', 'lamentable', 'aventura', 'no', 'habia', 'ido', 'a', 'caer', 'justo', 'a', 'su', 'propia', 'casa', 'cuando', 'termino', 'de', 'apilar', 'las', 'botellas', 'y', 'los', 'platos', 'y', 'los', 'cuchillos', 'y', 'los', 'tenedores', 'y', 'los', 'vasos', 'y', 'las', 'fuentes', 'y', 'las', 'cucharas', 'y', 'demas', 'cosas', 'en', 'grandes', 'bandejas', 'estaba', 'acalorado', 'rojo', 'como', 'la', 'grana', 'y', 'muy', 'fastidiado', 'â', 'â', 'fustigados', 'y', 'condenados', 'enanos', 'â', 'dijo', 'en', 'voz', 'altaâ', 'â', 'por', 'que', 'no', 'vienen', 'y', 'me', 'echan', 'una', 'mano', 'â', 'y', 'he', 'aqui', 'que', 'alli', 'estaban', 'balin', 'y', 'dwalin', 'en', 'la', 'puerta', 'de', 'la', 'cocina', 'y', 'fili', 'y', 'kili', 'tras', 'ellos', 'y', 'antes', 'de', 'que', 'pudiese', 'decir', 'cuchillo', 'ya', 'se', 'habian', 'llevado', 'a', 'toda', 'prisa', 'las', 'bandejas', 'y', 'un', 'par', 'de', 'mesas', 'pequeã', 'as', 'al', 'salon', 'y', 'alli', 'colocaron', 'todo', 'otra', 'vez', 'gandalf', 'se', 'puso', 'a', 'la', 'cabecera', 'con', 'los', 'trece', 'enanos', 'alrededor', 'y', 'bilbo', 'se', 'sento', 'en', 'un', 'taburete', 'junto', 'al', 'fuego', 'mordisqueando', 'una', 'galleta', 'habia', 'perdido', 'el', 'apetito', 'e', 'intentando', 'aparentar', 'que', 'todo', 'era', 'normal', 'y', 'de', 'ningun', 'modo', 'una', 'aventura', 'los', 'enanos', 'comieron', 'y', 'comieron', 'charlaron', 'y', 'charlaron', 'y', 'el', 'tiempo', 'paso', 'por', 'ultimo', 'echaron', 'atras', 'las', 'sillas', 'y', 'bilbo', 'se', 'puso', 'en', 'movimiento', 'recogiendo', 'platos', 'y', 'vasos', 'â', 'supongo', 'que', 'os', 'quedareis', 'todos', 'a', 'cenar', 'â', 'dijo', 'en', 'uno', 'de', 'sus', 'mas', 'educados', 'y', 'reposados', 'tonos', 'â', 'â', 'claro', 'que', 'si', 'â', 'dijo', 'thorinâ', 'y', 'despues', 'tambien', 'no', 'nos', 'meteremos', 'en', 'el', 'asunto', 'hasta', 'mas', 'tarde', 'y', 'antes', 'podemos', 'hacer', 'un', 'poco', 'de', 'musica', 'â', 'ahora', 'a', 'levantar', 'las', 'mesas', 'en', 'seguida', 'los', 'doce', 'enanos', 'â', 'no', 'thorin', 'el', 'era', 'demasiado', 'importante', 'y', 'se', 'quedo', 'charlando', 'con', 'gandalfâ', 'se', 'incorporaron', 'de', 'un', 'salto', 'e', 'hicieron', 'enormes', 'pilas', 'con', 'todas', 'las', 'cosas', 'alla', 'se', 'fueron', 'sin', 'esperar', 'por', 'las', 'bandejas', 'llevando', 'en', 'equilibrio', 'en', 'una', 'mano', 'las', 'columnas', 'de', 'platos', 'cada', 'una', 'de', 'ellas', 'con', 'una', 'botella', 'encima', 'mientras', 'el', 'hobbit', 'corria', 'detras', 'casi', 'dando', 'chillidos', 'de', 'miedo', 'â', 'â', 'por', 'favor', 'cuidado', 'â', 'yâ', 'â', 'por', 'favor', 'no', 'se', 'molesten', 'yo', 'me', 'las', 'arreglo', 'â', 'pero', 'los', 'enanos', 'no', 'le', 'hicieron', 'caso', 'y', 'se', 'pusieron', 'a', 'cantar']\n"
     ]
    }
   ],
   "source": [
    "words = clean_text.split()\n",
    "print(words)"
   ]
  },
  {
   "cell_type": "code",
   "execution_count": 20,
   "id": "operational-binary",
   "metadata": {},
   "outputs": [],
   "source": [
    "counter = {}.fromkeys(words, 0)"
   ]
  },
  {
   "cell_type": "code",
   "execution_count": 21,
   "id": "distinguished-sudan",
   "metadata": {},
   "outputs": [],
   "source": [
    "for w in words:\n",
    "    counter[w] += 1"
   ]
  },
  {
   "cell_type": "code",
   "execution_count": 22,
   "id": "solved-brush",
   "metadata": {},
   "outputs": [
    {
     "data": {
      "text/plain": [
       "{'en': 81,\n",
       " 'un': 73,\n",
       " 'agujero': 7,\n",
       " 'el': 99,\n",
       " 'suelo': 1,\n",
       " 'vivia': 2,\n",
       " 'hobbit': 23,\n",
       " 'no': 59,\n",
       " 'humedo': 1,\n",
       " 'sucio': 1,\n",
       " 'repugnante': 1,\n",
       " 'con': 31,\n",
       " 'restos': 1,\n",
       " 'de': 175,\n",
       " 'gusanos': 1,\n",
       " 'y': 197,\n",
       " 'olor': 1,\n",
       " 'a': 80,\n",
       " 'fango': 1,\n",
       " 'ni': 3,\n",
       " 'tampoco': 1,\n",
       " 'seco': 1,\n",
       " 'desnudo': 1,\n",
       " 'arenoso': 1,\n",
       " 'sin': 12,\n",
       " 'nada': 8,\n",
       " 'que': 108,\n",
       " 'sentarse': 1,\n",
       " 'o': 22,\n",
       " 'comer': 2,\n",
       " 'era': 20,\n",
       " 'eso': 5,\n",
       " 'significa': 1,\n",
       " 'comodidad': 1,\n",
       " 'tenia': 4,\n",
       " 'una': 35,\n",
       " 'puerta': 25,\n",
       " 'redonda': 2,\n",
       " 'perfecta': 1,\n",
       " 'como': 27,\n",
       " 'ojo': 1,\n",
       " 'buey': 1,\n",
       " 'pintada': 1,\n",
       " 'verde': 9,\n",
       " 'manilla': 1,\n",
       " 'bronce': 1,\n",
       " 'dorada': 1,\n",
       " 'brillante': 1,\n",
       " 'justo': 3,\n",
       " 'medio': 1,\n",
       " 'la': 97,\n",
       " 'se': 54,\n",
       " 'abria': 1,\n",
       " 'vestibulo': 4,\n",
       " 'cilindrico': 1,\n",
       " 'tunel': 3,\n",
       " 'muy': 18,\n",
       " 'comodo': 1,\n",
       " 'humos': 1,\n",
       " 'paredes': 1,\n",
       " 'revestidas': 1,\n",
       " 'madera': 2,\n",
       " 'suelos': 1,\n",
       " 'enlosados': 1,\n",
       " 'alfombrados': 1,\n",
       " 'provistos': 1,\n",
       " 'sillas': 2,\n",
       " 'barnizadas': 1,\n",
       " 'montones': 2,\n",
       " 'perchas': 2,\n",
       " 'para': 19,\n",
       " 'sombreros': 1,\n",
       " 'abrigos': 1,\n",
       " 'aficionado': 2,\n",
       " 'las': 31,\n",
       " 'visitas': 2,\n",
       " 'extendia': 1,\n",
       " 'serpeando': 1,\n",
       " 'penetraba': 1,\n",
       " 'bastante': 5,\n",
       " 'pero': 18,\n",
       " 'directamente': 1,\n",
       " 'ladera': 1,\n",
       " 'colina': 10,\n",
       " 'â': 185,\n",
       " 'llamaba': 1,\n",
       " 'toda': 3,\n",
       " 'gente': 7,\n",
       " 'muchas': 3,\n",
       " 'millas': 1,\n",
       " 'alrededorâ': 1,\n",
       " 'puertecitas': 1,\n",
       " 'redondas': 2,\n",
       " 'abrian': 1,\n",
       " 'primero': 1,\n",
       " 'lado': 7,\n",
       " 'luego': 6,\n",
       " 'al': 34,\n",
       " 'otro': 14,\n",
       " 'subir': 1,\n",
       " 'escaleras': 1,\n",
       " 'dormitorios': 1,\n",
       " 'cuartos': 1,\n",
       " 'baã': 1,\n",
       " 'bodegas': 1,\n",
       " 'despensas': 1,\n",
       " 'armarios': 1,\n",
       " 'habitaciones': 2,\n",
       " 'enteras': 1,\n",
       " 'dedicadas': 1,\n",
       " 'ropa': 1,\n",
       " 'cocinas': 1,\n",
       " 'comedores': 1,\n",
       " 'encontraban': 1,\n",
       " 'misma': 1,\n",
       " 'planta': 1,\n",
       " 'verdad': 4,\n",
       " 'mismo': 5,\n",
       " 'pasillo': 3,\n",
       " 'mejores': 1,\n",
       " 'estaban': 5,\n",
       " 'todas': 2,\n",
       " 'izquierda': 1,\n",
       " 'principal': 2,\n",
       " 'pues': 2,\n",
       " 'eran': 10,\n",
       " 'unicas': 1,\n",
       " 'tenian': 2,\n",
       " 'ventanas': 2,\n",
       " 'profundamente': 1,\n",
       " 'excavadas': 1,\n",
       " 'miraban': 1,\n",
       " 'jardin': 1,\n",
       " 'los': 51,\n",
       " 'prados': 1,\n",
       " 'mas': 28,\n",
       " 'alla': 5,\n",
       " 'camino': 2,\n",
       " 'del': 18,\n",
       " 'rio': 1,\n",
       " 'este': 6,\n",
       " 'acomodado': 1,\n",
       " 'apellidaba': 1,\n",
       " 'bolson': 15,\n",
       " 'habian': 4,\n",
       " 'vivido': 1,\n",
       " 'cercanias': 1,\n",
       " 'desde': 7,\n",
       " 'hacia': 8,\n",
       " 'muchisimo': 1,\n",
       " 'tiempo': 7,\n",
       " 'consideraba': 1,\n",
       " 'respetables': 2,\n",
       " 'solo': 5,\n",
       " 'porque': 3,\n",
       " 'casi': 7,\n",
       " 'todos': 8,\n",
       " 'ricos': 2,\n",
       " 'sino': 3,\n",
       " 'tambien': 11,\n",
       " 'nunca': 3,\n",
       " 'ninguna': 4,\n",
       " 'aventura': 9,\n",
       " 'hacian': 1,\n",
       " 'algo': 8,\n",
       " 'inesperado': 1,\n",
       " 'uno': 11,\n",
       " 'podia': 1,\n",
       " 'saber': 1,\n",
       " 'lo': 20,\n",
       " 'diria': 2,\n",
       " 'acerca': 2,\n",
       " 'cualquier': 6,\n",
       " 'asunto': 3,\n",
       " 'necesidad': 1,\n",
       " 'preguntarselo': 1,\n",
       " 'ã': 1,\n",
       " 'sta': 1,\n",
       " 'es': 11,\n",
       " 'historia': 1,\n",
       " 'tuvo': 2,\n",
       " 'encontro': 3,\n",
       " 'si': 23,\n",
       " 'haciendo': 2,\n",
       " 'diciendo': 3,\n",
       " 'cosas': 8,\n",
       " 'por': 25,\n",
       " 'completo': 2,\n",
       " 'inesperadas': 1,\n",
       " 'podria': 1,\n",
       " 'haber': 1,\n",
       " 'perdido': 2,\n",
       " 'respeto': 1,\n",
       " 'vecinos': 1,\n",
       " 'gano': 2,\n",
       " 'bueno': 2,\n",
       " 'ya': 13,\n",
       " 'vereis': 1,\n",
       " 'final': 1,\n",
       " 'madre': 3,\n",
       " 'nuestro': 2,\n",
       " 'particular': 1,\n",
       " 'supongo': 2,\n",
       " 'hobbits': 7,\n",
       " 'necesitan': 1,\n",
       " 'hoy': 3,\n",
       " 'describa': 1,\n",
       " 'algun': 2,\n",
       " 'modo': 6,\n",
       " 'volvieron': 1,\n",
       " 'raros': 1,\n",
       " 'timidos': 1,\n",
       " 'grande': 4,\n",
       " 'nos': 2,\n",
       " 'llaman': 1,\n",
       " 'son': 2,\n",
       " 'fueron': 3,\n",
       " 'menuda': 1,\n",
       " 'mitad': 1,\n",
       " 'nuestra': 1,\n",
       " 'talla': 1,\n",
       " 'pequeã': 3,\n",
       " 'os': 11,\n",
       " 'enanos': 13,\n",
       " 'barbados': 1,\n",
       " 'tienen': 2,\n",
       " 'barba': 5,\n",
       " 'hay': 3,\n",
       " 'poca': 1,\n",
       " 'magia': 1,\n",
       " 'ellos': 7,\n",
       " 'excepto': 1,\n",
       " 'esa': 4,\n",
       " 'comun': 1,\n",
       " 'cotidiana': 1,\n",
       " 'ayuda': 1,\n",
       " 'desaparecer': 1,\n",
       " 'silencio': 2,\n",
       " 'rapidamente': 1,\n",
       " 'cuando': 17,\n",
       " 'estupida': 1,\n",
       " 'vosotros': 2,\n",
       " 'yo': 13,\n",
       " 'mirar': 1,\n",
       " 'donde': 2,\n",
       " 'va': 1,\n",
       " 'ruido': 2,\n",
       " 'elefantes': 1,\n",
       " 'puede': 1,\n",
       " 'oirse': 1,\n",
       " 'milla': 1,\n",
       " 'distancia': 1,\n",
       " 'tienden': 1,\n",
       " 'ser': 2,\n",
       " 'gruesos': 1,\n",
       " 'vientre': 1,\n",
       " 'visten': 1,\n",
       " 'colores': 1,\n",
       " 'brillantes': 2,\n",
       " 'sobre': 11,\n",
       " 'todo': 13,\n",
       " 'amarillo': 1,\n",
       " 'usan': 1,\n",
       " 'zapatos': 1,\n",
       " 'pies': 2,\n",
       " 'suelas': 1,\n",
       " 'naturales': 1,\n",
       " 'piel': 1,\n",
       " 'pelo': 1,\n",
       " 'espeso': 1,\n",
       " 'tibio': 1,\n",
       " 'color': 2,\n",
       " 'castaã': 2,\n",
       " 'les': 3,\n",
       " 'crece': 1,\n",
       " 'cabeza': 2,\n",
       " 'rizado': 1,\n",
       " 'dedos': 2,\n",
       " 'largos': 1,\n",
       " 'maã': 7,\n",
       " 'osos': 1,\n",
       " 'morenos': 1,\n",
       " 'rostros': 1,\n",
       " 'afables': 1,\n",
       " 'rien': 1,\n",
       " 'profundas': 1,\n",
       " 'jugosas': 1,\n",
       " 'risas': 1,\n",
       " 'especialmente': 1,\n",
       " 'despues': 8,\n",
       " 'cenar': 3,\n",
       " 'hacen': 1,\n",
       " 'dos': 8,\n",
       " 'veces': 3,\n",
       " 'dia': 8,\n",
       " 'pueden': 1,\n",
       " 'ahora': 5,\n",
       " 'sabeis': 1,\n",
       " 'suficiente': 1,\n",
       " 'continuar': 1,\n",
       " 'relato': 1,\n",
       " 'iba': 6,\n",
       " 'sea': 1,\n",
       " 'bilbo': 23,\n",
       " 'bolsonâ': 1,\n",
       " 'famosa': 1,\n",
       " 'belladonna': 4,\n",
       " 'tuk': 12,\n",
       " 'tres': 2,\n",
       " 'extraordinarias': 1,\n",
       " 'hijas': 1,\n",
       " 'viejo': 8,\n",
       " 'patriarca': 1,\n",
       " 'vivian': 1,\n",
       " 'agua': 4,\n",
       " 'riachuelo': 1,\n",
       " 'corria': 3,\n",
       " 'pie': 3,\n",
       " 'decia': 1,\n",
       " 'menudo': 1,\n",
       " 'otras': 3,\n",
       " 'familias': 1,\n",
       " 'atras': 2,\n",
       " 'antepasado': 1,\n",
       " 'habia': 22,\n",
       " 'casado': 1,\n",
       " 'duda': 1,\n",
       " 'hada': 1,\n",
       " 'absurdo': 1,\n",
       " 'cierto': 2,\n",
       " 'todavia': 4,\n",
       " 'miembros': 1,\n",
       " 'clan': 1,\n",
       " 'salian': 1,\n",
       " 'correr': 2,\n",
       " 'aventuras': 5,\n",
       " 'desaparecian': 1,\n",
       " 'discrecion': 1,\n",
       " 'familia': 2,\n",
       " 'echaba': 1,\n",
       " 'tierra': 1,\n",
       " 'tan': 7,\n",
       " 'aunque': 5,\n",
       " 'indudablemente': 1,\n",
       " 'menos': 5,\n",
       " 'tenido': 1,\n",
       " 'convertirse': 1,\n",
       " 'seã': 10,\n",
       " 'ora': 1,\n",
       " 'bungo': 2,\n",
       " 'padre': 2,\n",
       " 'le': 11,\n",
       " 'construyo': 1,\n",
       " 'lujoso': 1,\n",
       " 'parte': 1,\n",
       " 'dinero': 1,\n",
       " 'ella': 2,\n",
       " 'pudiera': 2,\n",
       " 'encontrarse': 1,\n",
       " 'bajo': 2,\n",
       " 'alli': 5,\n",
       " 'quedaron': 1,\n",
       " 'hasta': 7,\n",
       " 'fin': 5,\n",
       " 'obstante': 1,\n",
       " 'probable': 1,\n",
       " 'hijo': 2,\n",
       " 'unico': 1,\n",
       " 'parecia': 3,\n",
       " 'comportaba': 1,\n",
       " 'exactamente': 2,\n",
       " 'segunda': 1,\n",
       " 'edicion': 1,\n",
       " 'su': 5,\n",
       " 'firme': 1,\n",
       " 'comodon': 1,\n",
       " 'tuviese': 1,\n",
       " 'alguna': 2,\n",
       " 'rareza': 1,\n",
       " 'caracter': 1,\n",
       " 'esperaba': 1,\n",
       " 'ocasion': 2,\n",
       " 'salir': 1,\n",
       " 'luz': 1,\n",
       " 'llego': 1,\n",
       " 'presentarse': 1,\n",
       " 'fue': 2,\n",
       " 'adulto': 1,\n",
       " 'rondaba': 1,\n",
       " 'cincuenta': 1,\n",
       " 'aã': 5,\n",
       " 'hermoso': 2,\n",
       " 'acabo': 1,\n",
       " 'describiros': 1,\n",
       " 'asentado': 1,\n",
       " 'siempre': 1,\n",
       " 'curiosa': 1,\n",
       " 'coincidencia': 1,\n",
       " 'ana': 6,\n",
       " 'hace': 1,\n",
       " 'quietud': 1,\n",
       " 'mundo': 1,\n",
       " 'verdor': 1,\n",
       " 'numerosos': 1,\n",
       " 'prosperos': 1,\n",
       " 'estaba': 5,\n",
       " 'desayuno': 1,\n",
       " 'fumando': 1,\n",
       " 'enorme': 2,\n",
       " 'larga': 5,\n",
       " 'pipa': 3,\n",
       " 'llegaba': 1,\n",
       " 'lanudos': 1,\n",
       " 'bien': 4,\n",
       " 'cepillados': 1,\n",
       " 'gandalf': 19,\n",
       " 'aparecio': 1,\n",
       " 'pronto': 5,\n",
       " 'hubieseis': 1,\n",
       " 'oido': 3,\n",
       " 'cuarto': 1,\n",
       " 'he': 4,\n",
       " 'poco': 7,\n",
       " 'oir': 1,\n",
       " 'estariais': 1,\n",
       " 'preparados': 1,\n",
       " 'especie': 1,\n",
       " 'cuento': 1,\n",
       " 'notable': 1,\n",
       " 'cuentos': 1,\n",
       " 'brotaban': 1,\n",
       " 'dondequiera': 1,\n",
       " 'pasara': 1,\n",
       " 'forma': 1,\n",
       " 'extraordinaria': 1,\n",
       " 'bajado': 1,\n",
       " 'aquel': 1,\n",
       " 'muerte': 1,\n",
       " 'amigo': 2,\n",
       " 'olvidado': 2,\n",
       " 'estado': 2,\n",
       " 'lejos': 3,\n",
       " 'asuntos': 1,\n",
       " 'particulares': 1,\n",
       " 'niã': 3,\n",
       " 'as': 2,\n",
       " 'confiado': 1,\n",
       " 'vio': 4,\n",
       " 'aquella': 1,\n",
       " 'anciano': 1,\n",
       " 'baston': 3,\n",
       " 'sombrero': 3,\n",
       " 'azul': 3,\n",
       " 'alto': 1,\n",
       " 'puntiagudo': 1,\n",
       " 'capa': 2,\n",
       " 'gris': 3,\n",
       " 'bufanda': 1,\n",
       " 'plata': 4,\n",
       " 'colgaba': 1,\n",
       " 'blanca': 2,\n",
       " 'abajo': 2,\n",
       " 'cintura': 1,\n",
       " 'botas': 1,\n",
       " 'negras': 1,\n",
       " 'buenos': 7,\n",
       " 'dias': 5,\n",
       " 'dijo': 29,\n",
       " 'esto': 4,\n",
       " 'queria': 2,\n",
       " 'decir': 9,\n",
       " 'sol': 1,\n",
       " 'brillaba': 1,\n",
       " 'hierba': 1,\n",
       " 'miro': 1,\n",
       " 'cejas': 1,\n",
       " 'largas': 1,\n",
       " 'espesas': 1,\n",
       " 'sobresalientes': 1,\n",
       " 'ala': 1,\n",
       " 'ensombrecia': 1,\n",
       " 'cara': 1,\n",
       " 'quieres': 3,\n",
       " 'preguntoâ': 1,\n",
       " 'me': 11,\n",
       " 'deseas': 1,\n",
       " 'buen': 3,\n",
       " 'quiera': 1,\n",
       " 'te': 10,\n",
       " 'sientes': 1,\n",
       " 'conviene': 1,\n",
       " 'vez': 5,\n",
       " 'bilboâ': 1,\n",
       " 'estupendo': 1,\n",
       " 'tabaco': 2,\n",
       " 'casa': 2,\n",
       " 'ademas': 2,\n",
       " 'llevais': 1,\n",
       " 'encima': 2,\n",
       " 'sentaos': 1,\n",
       " 'tomad': 2,\n",
       " 'mi': 10,\n",
       " 'prisa': 4,\n",
       " 'tenemos': 1,\n",
       " 'delante': 2,\n",
       " 'entonces': 3,\n",
       " 'sento': 3,\n",
       " 'silla': 1,\n",
       " 'junto': 3,\n",
       " 'cruzo': 1,\n",
       " 'piernas': 1,\n",
       " 'lanzo': 2,\n",
       " 'anillo': 2,\n",
       " 'humo': 3,\n",
       " 'navego': 1,\n",
       " 'aire': 2,\n",
       " 'romperse': 1,\n",
       " 'alejo': 2,\n",
       " 'flotando': 1,\n",
       " 'bonito': 1,\n",
       " 'gandalfâ': 3,\n",
       " 'esta': 3,\n",
       " 'tengo': 1,\n",
       " 'anillos': 1,\n",
       " 'busco': 1,\n",
       " 'alguien': 3,\n",
       " 'quien': 4,\n",
       " 'compartir': 1,\n",
       " 'estoy': 2,\n",
       " 'planeando': 1,\n",
       " 'dificil': 1,\n",
       " 'dar': 2,\n",
       " 'pienso': 1,\n",
       " 'estos': 2,\n",
       " 'lugares': 1,\n",
       " 'somos': 1,\n",
       " 'sencilla': 1,\n",
       " 'tranquila': 1,\n",
       " 'estamos': 2,\n",
       " 'acostumbrados': 1,\n",
       " 'desagradables': 1,\n",
       " 'molestas': 1,\n",
       " 'e': 6,\n",
       " 'incomodas': 1,\n",
       " 'retrasan': 1,\n",
       " 'cena': 2,\n",
       " 'explico': 1,\n",
       " 'atraen': 1,\n",
       " 'or': 9,\n",
       " 'metiendo': 1,\n",
       " 'pulgar': 1,\n",
       " 'detras': 4,\n",
       " 'tirante': 1,\n",
       " 'aun': 3,\n",
       " 'saco': 2,\n",
       " 'correo': 1,\n",
       " 'matutino': 1,\n",
       " 'puso': 4,\n",
       " 'leer': 1,\n",
       " 'fingiendo': 1,\n",
       " 'ignorar': 1,\n",
       " 'movio': 1,\n",
       " 'permanecio': 1,\n",
       " 'apoyado': 2,\n",
       " 'observando': 1,\n",
       " 'sintio': 1,\n",
       " 'incomodo': 2,\n",
       " 'enfadadoâ': 1,\n",
       " 'finâ': 1,\n",
       " 'queremos': 1,\n",
       " 'aqui': 4,\n",
       " 'gracias': 4,\n",
       " 'probais': 1,\n",
       " 'daba': 1,\n",
       " 'entender': 2,\n",
       " 'conversacion': 1,\n",
       " 'terminado': 1,\n",
       " 'cuantas': 1,\n",
       " 'empleas': 1,\n",
       " 'intentas': 1,\n",
       " 'deshacerte': 1,\n",
       " 'seran': 1,\n",
       " 'vaya': 2,\n",
       " 'ningun': 3,\n",
       " 'querido': 2,\n",
       " 'veamos': 1,\n",
       " 'creo': 1,\n",
       " 'conocer': 2,\n",
       " 'vuestro': 9,\n",
       " 'nombre': 2,\n",
       " 'conozco': 1,\n",
       " 'tu': 3,\n",
       " 'sabes': 1,\n",
       " 'mio': 1,\n",
       " 'unas': 1,\n",
       " 'soy': 2,\n",
       " 'pensar': 2,\n",
       " 'daria': 1,\n",
       " 'fuese': 1,\n",
       " 'vendiendo': 1,\n",
       " 'botones': 2,\n",
       " 'valgame': 1,\n",
       " 'cielo': 1,\n",
       " 'sois': 3,\n",
       " 'vos': 4,\n",
       " 'mago': 3,\n",
       " 'errante': 1,\n",
       " 'dio': 1,\n",
       " 'par': 2,\n",
       " 'magicos': 1,\n",
       " 'diamante': 1,\n",
       " 'abrochaban': 1,\n",
       " 'solos': 1,\n",
       " 'desabrochaban': 1,\n",
       " 'dabas': 1,\n",
       " 'orden': 1,\n",
       " 'contaba': 1,\n",
       " 'reuniones': 1,\n",
       " 'aquellas': 1,\n",
       " 'historias': 1,\n",
       " 'maravillosas': 1,\n",
       " 'dragones': 2,\n",
       " 'trasgos': 2,\n",
       " 'gigantes': 1,\n",
       " 'rescates': 1,\n",
       " 'princesas': 1,\n",
       " 'inesperada': 1,\n",
       " 'fortuna': 1,\n",
       " 'hijos': 1,\n",
       " 'viuda': 1,\n",
       " 'hombre': 1,\n",
       " 'acostumbraba': 1,\n",
       " 'fabricar': 1,\n",
       " 'aquellos': 1,\n",
       " 'fuegos': 2,\n",
       " 'artificio': 1,\n",
       " 'excelentes': 1,\n",
       " 'recuerdo': 1,\n",
       " 'preparaba': 1,\n",
       " 'solsticios': 1,\n",
       " 'verano': 1,\n",
       " 'esplendidos': 1,\n",
       " 'subian': 1,\n",
       " 'grandes': 3,\n",
       " 'lirios': 1,\n",
       " 'cabezas': 1,\n",
       " 'dragon': 1,\n",
       " 'arboles': 2,\n",
       " 'fuego': 2,\n",
       " 'quedaban': 1,\n",
       " 'suspendidos': 1,\n",
       " 'durante': 2,\n",
       " 'crepusculo': 1,\n",
       " 'habreis': 1,\n",
       " 'dado': 1,\n",
       " 'cuenta': 1,\n",
       " 'prosaico': 1,\n",
       " 'creia': 1,\n",
       " 'flores': 1,\n",
       " 'diantre': 1,\n",
       " 'continuoâ': 1,\n",
       " 'responsable': 1,\n",
       " 'tantos': 2,\n",
       " 'jovenes': 1,\n",
       " 'apacibles': 1,\n",
       " 'partiesen': 1,\n",
       " 'busca': 1,\n",
       " 'locas': 1,\n",
       " 'cosa': 1,\n",
       " 'trepar': 1,\n",
       " 'visitar': 1,\n",
       " 'elfos': 1,\n",
       " 'zarpar': 1,\n",
       " 'barcos': 1,\n",
       " 'navegar': 1,\n",
       " 'costas': 1,\n",
       " 'caramba': 1,\n",
       " 'vida': 1,\n",
       " 'apacible': 1,\n",
       " 'quiero': 2,\n",
       " 'tuvisteis': 1,\n",
       " 'costumbre': 1,\n",
       " 'perturbarlo': 1,\n",
       " 'sitios': 1,\n",
       " 'pido': 1,\n",
       " 'perdon': 3,\n",
       " 'idea': 1,\n",
       " 'estuvieseis': 1,\n",
       " 'actividad': 1,\n",
       " 'estar': 1,\n",
       " 'magoâ': 1,\n",
       " 'complace': 1,\n",
       " 'descubrir': 1,\n",
       " 'recuerdas': 2,\n",
       " 'parece': 2,\n",
       " 'cariã': 1,\n",
       " 'mis': 2,\n",
       " 'artificiales': 1,\n",
       " 'reconfortante': 1,\n",
       " 'memoria': 2,\n",
       " 'abuelo': 1,\n",
       " 'pobre': 2,\n",
       " 'concedere': 1,\n",
       " 'has': 2,\n",
       " 'pedido': 2,\n",
       " 'hecho': 6,\n",
       " 'doy': 1,\n",
       " 'ire': 1,\n",
       " 'embarcarme': 1,\n",
       " 'divertida': 1,\n",
       " 'buena': 1,\n",
       " 'ti': 2,\n",
       " 'quiza': 2,\n",
       " 'provechosa': 1,\n",
       " 'sales': 1,\n",
       " 'sano': 1,\n",
       " 'salvo': 1,\n",
       " 'disculpad': 2,\n",
       " 'venid': 2,\n",
       " 'tomar': 3,\n",
       " 'gusteis': 1,\n",
       " 'adios': 1,\n",
       " 'retrocedio': 1,\n",
       " 'escabullendose': 1,\n",
       " 'cerro': 1,\n",
       " 'rapido': 1,\n",
       " 'pudo': 1,\n",
       " 'llegar': 3,\n",
       " 'parecer': 1,\n",
       " 'grosero': 1,\n",
       " 'cabo': 2,\n",
       " 'diablos': 1,\n",
       " 'habre': 1,\n",
       " 'invitado': 2,\n",
       " 'despensa': 3,\n",
       " 'acababa': 1,\n",
       " 'desayunar': 1,\n",
       " 'penso': 4,\n",
       " 'pastelillo': 4,\n",
       " 'trago': 2,\n",
       " 'sentarian': 1,\n",
       " 'sobresalto': 1,\n",
       " 'mientras': 6,\n",
       " 'tanto': 3,\n",
       " 'seguia': 2,\n",
       " 'riendose': 1,\n",
       " 'apaciblemente': 1,\n",
       " 'rato': 3,\n",
       " 'subio': 1,\n",
       " 'punta': 1,\n",
       " 'dibujo': 1,\n",
       " 'signo': 1,\n",
       " 'extraã': 1,\n",
       " 'hermosa': 2,\n",
       " 'zancadas': 1,\n",
       " 'momento': 5,\n",
       " 'terminando': 1,\n",
       " 'segundo': 1,\n",
       " 'pastel': 4,\n",
       " 'empezando': 2,\n",
       " 'conseguido': 1,\n",
       " 'librarse': 1,\n",
       " 'posible': 1,\n",
       " 'siguiente': 1,\n",
       " 'recordaba': 1,\n",
       " 'escribiese': 1,\n",
       " 'libreta': 1,\n",
       " 'compromisos': 1,\n",
       " 'miercoles': 2,\n",
       " 'anterior': 2,\n",
       " 'demasiado': 4,\n",
       " 'aturdido': 1,\n",
       " 'ponerse': 1,\n",
       " 'anotar': 1,\n",
       " 'antes': 4,\n",
       " 'hora': 1,\n",
       " 'oyo': 2,\n",
       " 'tremendo': 1,\n",
       " 'campanillazo': 4,\n",
       " 'acordo': 1,\n",
       " 'apresuro': 1,\n",
       " 'marmita': 1,\n",
       " 'otra': 2,\n",
       " 'taza': 2,\n",
       " 'platillo': 1,\n",
       " 'corrio': 2,\n",
       " 'siento': 1,\n",
       " 'veras': 1,\n",
       " 'haberle': 1,\n",
       " 'esperar': 2,\n",
       " 'realidad': 2,\n",
       " 'enano': 6,\n",
       " 'recogida': 1,\n",
       " 'cinturon': 1,\n",
       " 'dorado': 1,\n",
       " 'ojos': 1,\n",
       " 'capuchon': 3,\n",
       " 'oscuro': 1,\n",
       " 'abrio': 3,\n",
       " 'entro': 2,\n",
       " 'estuviesen': 1,\n",
       " 'esperando': 2,\n",
       " 'colgo': 1,\n",
       " 'encapuchada': 1,\n",
       " 'percha': 2,\n",
       " 'cercana': 1,\n",
       " 'dwalin': 5,\n",
       " 'servicio': 5,\n",
       " 'saludando': 1,\n",
       " 'reverencia': 2,\n",
       " 'sorprendido': 2,\n",
       " 'hacer': 2,\n",
       " 'pregunta': 1,\n",
       " 'siguio': 1,\n",
       " 'empezo': 1,\n",
       " 'hacerse': 1,\n",
       " 'adioâ': 1,\n",
       " 'punto': 1,\n",
       " 'favor': 3,\n",
       " 'acercaos': 1,\n",
       " 'conmigo': 1,\n",
       " 'tieso': 1,\n",
       " 'tal': 1,\n",
       " 'hablo': 1,\n",
       " 'amabilidad': 1,\n",
       " 'hariais': 1,\n",
       " 'llegara': 1,\n",
       " 'subito': 1,\n",
       " 'colgara': 1,\n",
       " 'sus': 4,\n",
       " 'explicaciones': 1,\n",
       " 'llevaban': 1,\n",
       " 'apenas': 3,\n",
       " 'sentados': 1,\n",
       " 'mesa': 3,\n",
       " 'tercer': 1,\n",
       " 'resono': 1,\n",
       " 'estridente': 1,\n",
       " 'encamino': 1,\n",
       " 'asi': 2,\n",
       " 'habeis': 1,\n",
       " 'venido': 1,\n",
       " 'decirle': 1,\n",
       " 'cambio': 1,\n",
       " 'umbral': 1,\n",
       " 'escarlata': 1,\n",
       " 'salto': 2,\n",
       " 'fuera': 1,\n",
       " 'veo': 2,\n",
       " 'han': 2,\n",
       " 'empezado': 2,\n",
       " 'coloco': 1,\n",
       " 'suyo': 1,\n",
       " 'rojo': 2,\n",
       " 'balin': 5,\n",
       " 'mano': 3,\n",
       " 'pecho': 1,\n",
       " 'voz': 2,\n",
       " 'respuesta': 1,\n",
       " 'apropiada': 1,\n",
       " 'dejado': 1,\n",
       " 'perplejo': 1,\n",
       " 'gustaban': 1,\n",
       " 'preferia': 1,\n",
       " 'conocerlas': 1,\n",
       " 'llegasen': 1,\n",
       " 'invitarlas': 1,\n",
       " 'terrible': 1,\n",
       " 'presentimiento': 1,\n",
       " 'pasteles': 2,\n",
       " 'serian': 1,\n",
       " 'suficientes': 1,\n",
       " 'conocia': 1,\n",
       " 'obligaciones': 1,\n",
       " 'anfitrion': 1,\n",
       " 'cumplia': 1,\n",
       " 'puntualidad': 1,\n",
       " 'parecieran': 1,\n",
       " 'penosas': 1,\n",
       " 'quedara': 1,\n",
       " 'ninguno': 1,\n",
       " 'entre': 1,\n",
       " 'sirvase': 1,\n",
       " 'consiguio': 1,\n",
       " 'aliento': 1,\n",
       " 'cerveza': 6,\n",
       " 'iria': 1,\n",
       " 'mejor': 1,\n",
       " 'importa': 2,\n",
       " 'blancaâ': 1,\n",
       " 'incomodaria': 1,\n",
       " 'semillas': 3,\n",
       " 'teneis': 1,\n",
       " 'alguno': 1,\n",
       " 'muchos': 1,\n",
       " 'respondiendo': 1,\n",
       " 'corriendo': 1,\n",
       " 'bodega': 1,\n",
       " 'echar': 2,\n",
       " 'jarra': 1,\n",
       " 'pinta': 1,\n",
       " 'recoger': 1,\n",
       " 'sabrosos': 1,\n",
       " 'pastelillos': 4,\n",
       " 'tarde': 2,\n",
       " 'refrigerio': 1,\n",
       " 'regreso': 1,\n",
       " 'charlando': 2,\n",
       " 'viejos': 1,\n",
       " 'amigos': 2,\n",
       " 'hermanos': 1,\n",
       " 'deposito': 1,\n",
       " 'nuevo': 3,\n",
       " 'fuerte': 4,\n",
       " 'seguro': 1,\n",
       " 'resoplaba': 1,\n",
       " 'ambos': 2,\n",
       " 'capuchones': 6,\n",
       " 'azules': 2,\n",
       " 'cinturones': 2,\n",
       " 'barbas': 1,\n",
       " 'amarillas': 1,\n",
       " 'cada': 2,\n",
       " 'llevaba': 1,\n",
       " 'bolsa': 1,\n",
       " 'herramientas': 1,\n",
       " 'pala': 1,\n",
       " 'saltaron': 1,\n",
       " 'interior': 2,\n",
       " 'comenzo': 1,\n",
       " 'abrirse': 1,\n",
       " 'sorprendio': 1,\n",
       " 'puedo': 1,\n",
       " 'serviros': 1,\n",
       " 'queridos': 1,\n",
       " 'kili': 2,\n",
       " 'unoâ': 1,\n",
       " 'fili': 2,\n",
       " 'adio': 1,\n",
       " 'sacaron': 1,\n",
       " 'hicieron': 3,\n",
       " 'vuestra': 1,\n",
       " 'replico': 1,\n",
       " 'recordando': 1,\n",
       " 'modales': 1,\n",
       " 'estan': 1,\n",
       " 'kiliâ': 1,\n",
       " 'unamonos': 1,\n",
       " 'tropel': 3,\n",
       " 'gusta': 1,\n",
       " 'sonido': 2,\n",
       " 'palabra': 1,\n",
       " 'necesito': 1,\n",
       " 'sentarme': 1,\n",
       " 'minuto': 1,\n",
       " 'recapacitar': 1,\n",
       " 'alcanzado': 1,\n",
       " 'mojarse': 1,\n",
       " 'labios': 1,\n",
       " 'rincon': 1,\n",
       " 'cuatro': 4,\n",
       " 'sentaban': 1,\n",
       " 'torno': 1,\n",
       " 'charlaban': 1,\n",
       " 'minas': 1,\n",
       " 'oro': 2,\n",
       " 'problemas': 1,\n",
       " 'depredaciones': 1,\n",
       " 'monton': 1,\n",
       " 'entendia': 1,\n",
       " 'parecian': 1,\n",
       " 'aventureras': 1,\n",
       " 'din': 1,\n",
       " 'don': 1,\n",
       " 'dan': 1,\n",
       " 'campana': 2,\n",
       " 'sono': 2,\n",
       " 'travieso': 1,\n",
       " 'intentase': 1,\n",
       " 'arrancar': 1,\n",
       " 'llamador': 1,\n",
       " 'parpadeando': 1,\n",
       " 'unos': 4,\n",
       " 'filiâ': 1,\n",
       " 'vimos': 1,\n",
       " 'venir': 1,\n",
       " 'nosotros': 1,\n",
       " 'pobrecito': 1,\n",
       " 'apoyando': 1,\n",
       " 'manos': 2,\n",
       " 'pregunto': 1,\n",
       " 'pasado': 1,\n",
       " 'pasaria': 1,\n",
       " 'quedarian': 1,\n",
       " 'ese': 1,\n",
       " 'cinco': 1,\n",
       " 'acercado': 1,\n",
       " 'preguntandose': 1,\n",
       " 'ocurria': 1,\n",
       " 'girado': 1,\n",
       " ...}"
      ]
     },
     "execution_count": 22,
     "metadata": {},
     "output_type": "execute_result"
    }
   ],
   "source": [
    "counter"
   ]
  },
  {
   "cell_type": "markdown",
   "id": "cathedral-hughes",
   "metadata": {},
   "source": [
    "## Map and Filter"
   ]
  },
  {
   "cell_type": "code",
   "execution_count": null,
   "id": "spare-collection",
   "metadata": {},
   "outputs": [],
   "source": [
    "import auxiliar"
   ]
  },
  {
   "cell_type": "code",
   "execution_count": null,
   "id": "herbal-spoke",
   "metadata": {},
   "outputs": [],
   "source": [
    "l = [i for i in range(1, 101)]"
   ]
  },
  {
   "cell_type": "code",
   "execution_count": null,
   "id": "interpreted-framing",
   "metadata": {},
   "outputs": [],
   "source": [
    "map(auxiliar.is_prime, l)"
   ]
  },
  {
   "cell_type": "code",
   "execution_count": null,
   "id": "logical-richardson",
   "metadata": {},
   "outputs": [],
   "source": [
    "list(map(auxiliar.is_prime, l));"
   ]
  },
  {
   "cell_type": "code",
   "execution_count": null,
   "id": "increasing-grill",
   "metadata": {},
   "outputs": [],
   "source": [
    "%timeit -n 1000 -r 10 [auxiliar.is_prime(elem) for elem in l]"
   ]
  },
  {
   "cell_type": "code",
   "execution_count": null,
   "id": "known-acoustic",
   "metadata": {},
   "outputs": [],
   "source": [
    "%%timeit -n 1000 -r 10 \n",
    "p = []\n",
    "for elem in l:\n",
    "    p.append(auxiliar.is_prime(elem))"
   ]
  },
  {
   "cell_type": "code",
   "execution_count": null,
   "id": "spatial-regard",
   "metadata": {},
   "outputs": [],
   "source": [
    "%timeit -n 1000 -r 10 map(auxiliar.is_prime, l)"
   ]
  },
  {
   "cell_type": "code",
   "execution_count": null,
   "id": "organizational-lease",
   "metadata": {},
   "outputs": [],
   "source": [
    "l1 = [1, 2, 3, 4, 5]\n",
    "l2 = [1, 2, 3, 4, 5, 6, 7, 8]\n",
    "l3 = [1, 2, 3]"
   ]
  },
  {
   "cell_type": "code",
   "execution_count": null,
   "id": "brave-wrist",
   "metadata": {},
   "outputs": [],
   "source": [
    "def add(a, b):\n",
    "    return a + b"
   ]
  },
  {
   "cell_type": "code",
   "execution_count": null,
   "id": "functioning-arcade",
   "metadata": {},
   "outputs": [],
   "source": [
    "list(map(add, l1))"
   ]
  },
  {
   "cell_type": "code",
   "execution_count": null,
   "id": "defined-tractor",
   "metadata": {},
   "outputs": [],
   "source": [
    "filter(auxiliar.is_prime, l)"
   ]
  },
  {
   "cell_type": "code",
   "execution_count": null,
   "id": "deadly-poverty",
   "metadata": {},
   "outputs": [],
   "source": [
    "list(filter(auxiliar.is_prime, l))"
   ]
  },
  {
   "cell_type": "code",
   "execution_count": null,
   "id": "frequent-secondary",
   "metadata": {},
   "outputs": [],
   "source": [
    "%timeit -n 1000 -r 10 [elem for elem in l if auxiliar.is_prime(elem)]"
   ]
  },
  {
   "cell_type": "code",
   "execution_count": null,
   "id": "toxic-neighborhood",
   "metadata": {},
   "outputs": [],
   "source": [
    "%timeit -n 1000 -r 10 filter(auxiliar.is_prime, l)"
   ]
  },
  {
   "cell_type": "code",
   "execution_count": null,
   "id": "special-determination",
   "metadata": {},
   "outputs": [],
   "source": [
    "list(filter(str.isupper, 'AbCdEfG'))"
   ]
  },
  {
   "cell_type": "code",
   "execution_count": null,
   "id": "opponent-czech",
   "metadata": {},
   "outputs": [],
   "source": [
    "l = [r.randint(1, 100) for i in range(200)]"
   ]
  },
  {
   "cell_type": "code",
   "execution_count": null,
   "id": "organized-cherry",
   "metadata": {},
   "outputs": [],
   "source": [
    "f = filter(lambda x: x > 50, l)"
   ]
  },
  {
   "cell_type": "code",
   "execution_count": null,
   "id": "happy-talent",
   "metadata": {
    "scrolled": true
   },
   "outputs": [],
   "source": [
    "list(f)"
   ]
  },
  {
   "cell_type": "code",
   "execution_count": null,
   "id": "blocked-place",
   "metadata": {},
   "outputs": [],
   "source": [
    "g_t_50 = lambda x: x > 50"
   ]
  },
  {
   "cell_type": "code",
   "execution_count": null,
   "id": "known-cleaner",
   "metadata": {},
   "outputs": [],
   "source": [
    "g_t_50"
   ]
  },
  {
   "cell_type": "code",
   "execution_count": null,
   "id": "material-coalition",
   "metadata": {},
   "outputs": [],
   "source": [
    "g_t_50(25)"
   ]
  },
  {
   "cell_type": "code",
   "execution_count": null,
   "id": "arranged-christmas",
   "metadata": {},
   "outputs": [],
   "source": [
    "def g_t_50_l(x):\n",
    "    return x > 50"
   ]
  },
  {
   "cell_type": "code",
   "execution_count": null,
   "id": "wireless-thread",
   "metadata": {},
   "outputs": [],
   "source": [
    "g_t_50_l"
   ]
  },
  {
   "cell_type": "code",
   "execution_count": null,
   "id": "separated-anaheim",
   "metadata": {},
   "outputs": [],
   "source": [
    "g_t_50_l(25)"
   ]
  },
  {
   "cell_type": "code",
   "execution_count": null,
   "id": "israeli-barcelona",
   "metadata": {},
   "outputs": [],
   "source": [
    "is_even = lambda x: x % 2 == 0"
   ]
  },
  {
   "cell_type": "code",
   "execution_count": null,
   "id": "qualified-azerbaijan",
   "metadata": {},
   "outputs": [],
   "source": [
    "is_even(4)"
   ]
  },
  {
   "cell_type": "code",
   "execution_count": null,
   "id": "linear-plant",
   "metadata": {},
   "outputs": [],
   "source": [
    "rectangle_area = lambda h, w: h * w"
   ]
  },
  {
   "cell_type": "code",
   "execution_count": null,
   "id": "nominated-savage",
   "metadata": {},
   "outputs": [],
   "source": [
    "rectangle_area(4, 3)"
   ]
  },
  {
   "cell_type": "code",
   "execution_count": null,
   "id": "ruled-produce",
   "metadata": {},
   "outputs": [],
   "source": [
    "h = [1, 2, 3, 4, 5]\n",
    "w = [6, 5, 4, 6, 7]"
   ]
  },
  {
   "cell_type": "code",
   "execution_count": null,
   "id": "rocky-miniature",
   "metadata": {},
   "outputs": [],
   "source": [
    "list(map(lambda a, b: (a * b) / 2, h, w))"
   ]
  },
  {
   "cell_type": "markdown",
   "id": "entire-intervention",
   "metadata": {},
   "source": [
    "# Objects\n",
    "<hr>\n",
    "\n",
    "## Basics (Clases)\n",
    "\n",
    "In matters I code a class in a code container, in a similar way to functions, but conceptually it will represent a new type of object within python, and we can give it the characteristics of the object we are inspired by."
   ]
  },
  {
   "cell_type": "code",
   "execution_count": null,
   "id": "subject-dairy",
   "metadata": {},
   "outputs": [],
   "source": [
    "class Beer:\n",
    "    pass"
   ]
  },
  {
   "cell_type": "markdown",
   "id": "cleared-allowance",
   "metadata": {},
   "source": [
    "## Attributes"
   ]
  },
  {
   "cell_type": "code",
   "execution_count": null,
   "id": "celtic-metadata",
   "metadata": {},
   "outputs": [],
   "source": [
    "class Beer:\n",
    "    national = True\n",
    "    type_    = 'ales'"
   ]
  },
  {
   "cell_type": "code",
   "execution_count": null,
   "id": "stock-night",
   "metadata": {},
   "outputs": [],
   "source": [
    "Beer.national"
   ]
  },
  {
   "cell_type": "code",
   "execution_count": null,
   "id": "medical-ability",
   "metadata": {},
   "outputs": [],
   "source": [
    "Beer.type_"
   ]
  },
  {
   "cell_type": "markdown",
   "id": "dense-colorado",
   "metadata": {},
   "source": [
    "**Instances**"
   ]
  },
  {
   "cell_type": "code",
   "execution_count": null,
   "id": "innovative-logic",
   "metadata": {},
   "outputs": [],
   "source": [
    "l = list()"
   ]
  },
  {
   "cell_type": "code",
   "execution_count": null,
   "id": "accepting-cardiff",
   "metadata": {},
   "outputs": [],
   "source": [
    "l"
   ]
  },
  {
   "cell_type": "code",
   "execution_count": null,
   "id": "assisted-tampa",
   "metadata": {},
   "outputs": [],
   "source": [
    "heineken = Beer()\n",
    "indio    = Beer()"
   ]
  },
  {
   "cell_type": "code",
   "execution_count": null,
   "id": "changed-greensboro",
   "metadata": {},
   "outputs": [],
   "source": [
    "indio"
   ]
  },
  {
   "cell_type": "code",
   "execution_count": null,
   "id": "entire-intelligence",
   "metadata": {},
   "outputs": [],
   "source": [
    "type(indio)"
   ]
  },
  {
   "cell_type": "code",
   "execution_count": null,
   "id": "measured-personal",
   "metadata": {},
   "outputs": [],
   "source": [
    "isinstance(indio, Beer)"
   ]
  },
  {
   "cell_type": "code",
   "execution_count": null,
   "id": "ongoing-court",
   "metadata": {},
   "outputs": [],
   "source": [
    "indio.type_"
   ]
  },
  {
   "cell_type": "code",
   "execution_count": null,
   "id": "identical-divorce",
   "metadata": {},
   "outputs": [],
   "source": [
    "indio.national"
   ]
  },
  {
   "cell_type": "code",
   "execution_count": null,
   "id": "quarterly-lawrence",
   "metadata": {},
   "outputs": [],
   "source": [
    "heineken.national"
   ]
  },
  {
   "cell_type": "code",
   "execution_count": null,
   "id": "hidden-stick",
   "metadata": {},
   "outputs": [],
   "source": [
    "heineken.type_"
   ]
  },
  {
   "cell_type": "code",
   "execution_count": null,
   "id": "wrapped-recorder",
   "metadata": {},
   "outputs": [],
   "source": [
    "heineken.national = False\n",
    "heineken.type_    = 'lagers'"
   ]
  },
  {
   "cell_type": "code",
   "execution_count": null,
   "id": "imported-marine",
   "metadata": {},
   "outputs": [],
   "source": [
    "heineken.national"
   ]
  },
  {
   "cell_type": "code",
   "execution_count": null,
   "id": "native-israel",
   "metadata": {},
   "outputs": [],
   "source": [
    "heineken.type_"
   ]
  },
  {
   "cell_type": "code",
   "execution_count": null,
   "id": "macro-netscape",
   "metadata": {},
   "outputs": [],
   "source": [
    "indio.type_"
   ]
  },
  {
   "cell_type": "code",
   "execution_count": null,
   "id": "artificial-mason",
   "metadata": {},
   "outputs": [],
   "source": [
    "indio.national"
   ]
  },
  {
   "cell_type": "code",
   "execution_count": null,
   "id": "married-factor",
   "metadata": {},
   "outputs": [],
   "source": [
    "isinstance(heineken, Beer)"
   ]
  },
  {
   "cell_type": "code",
   "execution_count": null,
   "id": "intelligent-report",
   "metadata": {},
   "outputs": [],
   "source": [
    "heineken.price = 20.0"
   ]
  },
  {
   "cell_type": "code",
   "execution_count": null,
   "id": "enormous-exception",
   "metadata": {},
   "outputs": [],
   "source": [
    "heineken.price"
   ]
  },
  {
   "cell_type": "code",
   "execution_count": null,
   "id": "fabulous-grass",
   "metadata": {},
   "outputs": [],
   "source": [
    "indio.price"
   ]
  },
  {
   "cell_type": "code",
   "execution_count": null,
   "id": "collective-listening",
   "metadata": {},
   "outputs": [],
   "source": [
    "isinstance(heineken, Beer)"
   ]
  },
  {
   "cell_type": "markdown",
   "id": "involved-bangkok",
   "metadata": {},
   "source": [
    "## Methods"
   ]
  },
  {
   "cell_type": "code",
   "execution_count": null,
   "id": "returning-worcester",
   "metadata": {},
   "outputs": [],
   "source": [
    "class Beer:\n",
    "    national = True\n",
    "    type_    = 'ales'\n",
    "    \n",
    "    \n",
    "    def beer_type(t):\n",
    "        print('This is a {} beer'.format(t))"
   ]
  },
  {
   "cell_type": "code",
   "execution_count": null,
   "id": "reverse-fiction",
   "metadata": {},
   "outputs": [],
   "source": [
    "Beer.beer_type"
   ]
  },
  {
   "cell_type": "code",
   "execution_count": null,
   "id": "polished-plumbing",
   "metadata": {},
   "outputs": [],
   "source": [
    "Beer.beer_type('Ale')"
   ]
  },
  {
   "cell_type": "code",
   "execution_count": null,
   "id": "hundred-magazine",
   "metadata": {},
   "outputs": [],
   "source": [
    "indio = Beer()"
   ]
  },
  {
   "cell_type": "code",
   "execution_count": null,
   "id": "indirect-briefing",
   "metadata": {},
   "outputs": [],
   "source": [
    "indio.beer_type"
   ]
  },
  {
   "cell_type": "code",
   "execution_count": null,
   "id": "effective-roots",
   "metadata": {},
   "outputs": [],
   "source": [
    "indio.beer_type()"
   ]
  },
  {
   "cell_type": "code",
   "execution_count": null,
   "id": "decent-check",
   "metadata": {},
   "outputs": [],
   "source": [
    "indio"
   ]
  },
  {
   "cell_type": "code",
   "execution_count": null,
   "id": "together-shooting",
   "metadata": {},
   "outputs": [],
   "source": [
    "int(0x1ed25791580) == int(0x000001ED25791580)"
   ]
  },
  {
   "cell_type": "markdown",
   "id": "judicial-mentor",
   "metadata": {},
   "source": [
    "**self**"
   ]
  },
  {
   "cell_type": "code",
   "execution_count": null,
   "id": "legal-reproduction",
   "metadata": {},
   "outputs": [],
   "source": [
    "class Beer:\n",
    "    national = True\n",
    "    type_    = 'ales'\n",
    "    \n",
    "    \n",
    "    def beer_type(self):\n",
    "        print('This is a {} beer and is {}'.format(self.type_, self.national))"
   ]
  },
  {
   "cell_type": "code",
   "execution_count": null,
   "id": "japanese-phone",
   "metadata": {},
   "outputs": [],
   "source": [
    "indio = Beer()"
   ]
  },
  {
   "cell_type": "code",
   "execution_count": null,
   "id": "embedded-prevention",
   "metadata": {},
   "outputs": [],
   "source": [
    "indio.beer_type()"
   ]
  },
  {
   "cell_type": "markdown",
   "id": "removable-coupon",
   "metadata": {},
   "source": [
    "`__init__` **method**"
   ]
  },
  {
   "cell_type": "code",
   "execution_count": null,
   "id": "peripheral-beverage",
   "metadata": {},
   "outputs": [],
   "source": [
    "class Beer:\n",
    "    \n",
    "    def __init__(self, national = True, type_ = 'ales'):\n",
    "        national = national\n",
    "        type_    = type_\n",
    "        \n",
    "    def beer_type(self):\n",
    "        print('This is a {} beer'.format(self.type_))"
   ]
  },
  {
   "cell_type": "code",
   "execution_count": null,
   "id": "composed-short",
   "metadata": {},
   "outputs": [],
   "source": [
    "indio =  Beer()"
   ]
  },
  {
   "cell_type": "code",
   "execution_count": null,
   "id": "announced-reducing",
   "metadata": {},
   "outputs": [],
   "source": [
    "indio.national"
   ]
  },
  {
   "cell_type": "code",
   "execution_count": null,
   "id": "light-accommodation",
   "metadata": {},
   "outputs": [],
   "source": [
    "class Beer:\n",
    "    \n",
    "    def __init__(self, national = True, type_ = 'ales'):\n",
    "        self.national = national\n",
    "        self.type_    = type_\n",
    "        \n",
    "    def beer_type(self):\n",
    "        print('This is a {} beer'.format(self.type_))"
   ]
  },
  {
   "cell_type": "code",
   "execution_count": null,
   "id": "optimum-efficiency",
   "metadata": {},
   "outputs": [],
   "source": [
    "indio =  Beer()"
   ]
  },
  {
   "cell_type": "code",
   "execution_count": null,
   "id": "greater-toolbox",
   "metadata": {},
   "outputs": [],
   "source": [
    "indio.national"
   ]
  },
  {
   "cell_type": "code",
   "execution_count": null,
   "id": "actual-poverty",
   "metadata": {},
   "outputs": [],
   "source": [
    "indio.beer_type()"
   ]
  },
  {
   "cell_type": "code",
   "execution_count": null,
   "id": "continued-coalition",
   "metadata": {},
   "outputs": [],
   "source": [
    "heineken = Beer(False, 'lager')"
   ]
  },
  {
   "cell_type": "code",
   "execution_count": null,
   "id": "recorded-association",
   "metadata": {},
   "outputs": [],
   "source": [
    "heineken.national"
   ]
  },
  {
   "cell_type": "code",
   "execution_count": null,
   "id": "higher-sample",
   "metadata": {},
   "outputs": [],
   "source": [
    "import math"
   ]
  },
  {
   "cell_type": "code",
   "execution_count": null,
   "id": "allied-environment",
   "metadata": {},
   "outputs": [],
   "source": [
    "class Circle:\n",
    "    \n",
    "    def __init__(self, radius):\n",
    "        self.radius = radius\n",
    "        self.perimeter = 2 * math.pi * self.radius\n",
    "        self.area      = math.pi * self.radius ** 2"
   ]
  },
  {
   "cell_type": "code",
   "execution_count": null,
   "id": "killing-palestine",
   "metadata": {},
   "outputs": [],
   "source": [
    "c = Circle()"
   ]
  },
  {
   "cell_type": "code",
   "execution_count": null,
   "id": "every-revision",
   "metadata": {},
   "outputs": [],
   "source": [
    "c = Circle(1)"
   ]
  },
  {
   "cell_type": "code",
   "execution_count": null,
   "id": "enormous-designer",
   "metadata": {},
   "outputs": [],
   "source": [
    "c"
   ]
  },
  {
   "cell_type": "code",
   "execution_count": null,
   "id": "rocky-range",
   "metadata": {},
   "outputs": [],
   "source": [
    "c.radius"
   ]
  },
  {
   "cell_type": "code",
   "execution_count": null,
   "id": "valid-preference",
   "metadata": {},
   "outputs": [],
   "source": [
    "c.perimeter"
   ]
  },
  {
   "cell_type": "code",
   "execution_count": null,
   "id": "academic-thirty",
   "metadata": {},
   "outputs": [],
   "source": [
    "c.area"
   ]
  },
  {
   "cell_type": "code",
   "execution_count": null,
   "id": "thrown-charity",
   "metadata": {},
   "outputs": [],
   "source": [
    "c.radius = 'two'"
   ]
  },
  {
   "cell_type": "markdown",
   "id": "electoral-microwave",
   "metadata": {},
   "source": [
    "## Properties"
   ]
  },
  {
   "cell_type": "code",
   "execution_count": null,
   "id": "induced-proportion",
   "metadata": {},
   "outputs": [],
   "source": [
    "class Circle:\n",
    "    \n",
    "    def __init__(self, radius):\n",
    "        self.radius = radius\n",
    "        \n",
    "    def area(self):\n",
    "        return math.pi * self.radius ** 2"
   ]
  },
  {
   "cell_type": "code",
   "execution_count": null,
   "id": "senior-islam",
   "metadata": {},
   "outputs": [],
   "source": [
    "c = Circle(1)"
   ]
  },
  {
   "cell_type": "code",
   "execution_count": null,
   "id": "suitable-candle",
   "metadata": {},
   "outputs": [],
   "source": [
    "c.area()"
   ]
  },
  {
   "cell_type": "code",
   "execution_count": null,
   "id": "inner-scratch",
   "metadata": {},
   "outputs": [],
   "source": [
    "c.radius = 'two'"
   ]
  },
  {
   "cell_type": "code",
   "execution_count": null,
   "id": "excessive-builder",
   "metadata": {},
   "outputs": [],
   "source": [
    "c.area()"
   ]
  },
  {
   "cell_type": "code",
   "execution_count": null,
   "id": "desperate-enlargement",
   "metadata": {},
   "outputs": [],
   "source": [
    "class Circle:\n",
    "    \n",
    "    def __init__(self, radius):\n",
    "        self._radius = radius#set_radius(radius)\n",
    "        \n",
    "        \n",
    "    def area(self):\n",
    "        return math.pi * self._radius ** 2\n",
    "    \n",
    "    def get_radius(self):\n",
    "        return self._radius\n",
    "    \n",
    "    def set_radius(self, new_radius):\n",
    "        if isinstance(new_radius, (int, float)):\n",
    "            self._radius = new_radius\n",
    "            \n",
    "        else:\n",
    "            raise ValueError('The radius must be an int or float type')"
   ]
  },
  {
   "cell_type": "code",
   "execution_count": null,
   "id": "bottom-cradle",
   "metadata": {},
   "outputs": [],
   "source": [
    "c = Circle(1)"
   ]
  },
  {
   "cell_type": "code",
   "execution_count": null,
   "id": "sought-controversy",
   "metadata": {},
   "outputs": [],
   "source": [
    "c.get_radius()"
   ]
  },
  {
   "cell_type": "code",
   "execution_count": null,
   "id": "funny-festival",
   "metadata": {},
   "outputs": [],
   "source": [
    "c.set_radius('two')"
   ]
  },
  {
   "cell_type": "code",
   "execution_count": null,
   "id": "threaded-majority",
   "metadata": {},
   "outputs": [],
   "source": [
    "c.set_radius(2)"
   ]
  },
  {
   "cell_type": "code",
   "execution_count": null,
   "id": "natural-platform",
   "metadata": {},
   "outputs": [],
   "source": [
    "c.area()"
   ]
  },
  {
   "cell_type": "code",
   "execution_count": null,
   "id": "intimate-percentage",
   "metadata": {},
   "outputs": [],
   "source": [
    "c._radius = 'two'"
   ]
  },
  {
   "cell_type": "code",
   "execution_count": null,
   "id": "greek-broadcasting",
   "metadata": {},
   "outputs": [],
   "source": [
    "c.area()"
   ]
  },
  {
   "cell_type": "code",
   "execution_count": null,
   "id": "balanced-melissa",
   "metadata": {},
   "outputs": [],
   "source": [
    "class Circle:\n",
    "    \n",
    "    def __init__(self, radius):\n",
    "        self.set_radius(radius)\n",
    "        \n",
    "        \n",
    "    def area(self):\n",
    "        return math.pi * self._radius ** 2\n",
    "    \n",
    "    def get_radius(self):\n",
    "        return self._radius\n",
    "    \n",
    "    def set_radius(self, new_radius):\n",
    "        if isinstance(new_radius, (int, float)):\n",
    "            self._radius = new_radius\n",
    "            \n",
    "        else:\n",
    "            raise ValueError('The radius must be an int or float type')\n",
    "            \n",
    "    radius = property(fget = get_radius, fset = set_radius)"
   ]
  },
  {
   "cell_type": "code",
   "execution_count": null,
   "id": "possible-enemy",
   "metadata": {},
   "outputs": [],
   "source": [
    "c = Circle(1)"
   ]
  },
  {
   "cell_type": "code",
   "execution_count": null,
   "id": "essential-drill",
   "metadata": {},
   "outputs": [],
   "source": [
    "c.radius"
   ]
  },
  {
   "cell_type": "code",
   "execution_count": null,
   "id": "comic-heaven",
   "metadata": {},
   "outputs": [],
   "source": [
    "c.radius = 2"
   ]
  },
  {
   "cell_type": "code",
   "execution_count": null,
   "id": "extraordinary-verification",
   "metadata": {},
   "outputs": [],
   "source": [
    "c.radius"
   ]
  },
  {
   "cell_type": "code",
   "execution_count": null,
   "id": "mineral-primary",
   "metadata": {},
   "outputs": [],
   "source": [
    "c.area()"
   ]
  },
  {
   "cell_type": "code",
   "execution_count": null,
   "id": "stock-anniversary",
   "metadata": {},
   "outputs": [],
   "source": [
    "c.radius = 'two'"
   ]
  },
  {
   "cell_type": "code",
   "execution_count": null,
   "id": "printable-anderson",
   "metadata": {},
   "outputs": [],
   "source": [
    "c._radius = 'two'"
   ]
  },
  {
   "cell_type": "code",
   "execution_count": null,
   "id": "fossil-liabilities",
   "metadata": {},
   "outputs": [],
   "source": [
    "c.area()"
   ]
  },
  {
   "cell_type": "markdown",
   "id": "collected-knight",
   "metadata": {},
   "source": [
    "## Read-Only Properties"
   ]
  },
  {
   "cell_type": "code",
   "execution_count": null,
   "id": "satisfied-sewing",
   "metadata": {},
   "outputs": [],
   "source": [
    "class DebitCard:\n",
    "    \"\"\"\n",
    "    A class used to represent a debit card\n",
    "    \n",
    "    ...\n",
    "    Attributes\n",
    "    ----------\n",
    "    account : int\n",
    "        The account number of the card\n",
    "    card : int\n",
    "        The card number\n",
    "        \n",
    "    \"\"\"\n",
    "    \n",
    "    def __init__(self, account: int, card: int):\n",
    "        \n",
    "        if isinstance(account, int) and len(str(account)) == 8:\n",
    "            self._account = account\n",
    "        else:\n",
    "            raise ValueError('The account number must be an 8-digit integer.')\n",
    "        \n",
    "        self.card  = card\n",
    "    \n",
    "    #account property x-x-x-x-x-x-x-x-x-x-x-x-x-x-x-x-x-x-x-x-x-x-x-x-x-x-x-x-x-x-x-x-x-x-x-x-x-x-x-x-x-x-x-x-x-x-x\n",
    "    def get_account(self):\n",
    "        return self._account\n",
    "    \n",
    "    account = property(fget = get_account, doc = 'The account number')\n",
    "    \n",
    "    \n",
    "    #card property x-x-x-x-x-x-x-x-x-x-x-x-x-x-x-x-x-x-x-x-x-x-x-x-x-x-x-x-x-x-x-x-x-x-x-x-x-x-x-x-x-x-x-x-x-x-x-x\n",
    "    def get_card(self):\n",
    "        return self._card\n",
    "    \n",
    "    def set_card(self, card: int):\n",
    "        if isinstance(card, int) and len(str(card)) == 16:\n",
    "            self._card = card\n",
    "            \n",
    "        else:\n",
    "            raise ValueError('The card number must be an 16-digit integer.')\n",
    "            \n",
    "    card = property(fget = get_card, fset = set_card, doc = 'The card number')\n"
   ]
  },
  {
   "cell_type": "code",
   "execution_count": null,
   "id": "declared-colony",
   "metadata": {},
   "outputs": [],
   "source": [
    "?DebitCard"
   ]
  },
  {
   "cell_type": "code",
   "execution_count": null,
   "id": "recovered-tourism",
   "metadata": {},
   "outputs": [],
   "source": [
    "my_card = DebitCard(12345678, 4456859636257854)"
   ]
  },
  {
   "cell_type": "code",
   "execution_count": null,
   "id": "christian-violation",
   "metadata": {},
   "outputs": [],
   "source": [
    "my_card.account"
   ]
  },
  {
   "cell_type": "code",
   "execution_count": null,
   "id": "arbitrary-mortgage",
   "metadata": {},
   "outputs": [],
   "source": [
    "?my_card.account"
   ]
  },
  {
   "cell_type": "code",
   "execution_count": null,
   "id": "revolutionary-excitement",
   "metadata": {},
   "outputs": [],
   "source": [
    "my_card.card"
   ]
  },
  {
   "cell_type": "code",
   "execution_count": null,
   "id": "hollywood-garbage",
   "metadata": {},
   "outputs": [],
   "source": [
    "?my_card.card"
   ]
  },
  {
   "cell_type": "code",
   "execution_count": null,
   "id": "israeli-broad",
   "metadata": {},
   "outputs": [],
   "source": [
    "my_card.card = 5456859678257854"
   ]
  },
  {
   "cell_type": "code",
   "execution_count": null,
   "id": "private-murder",
   "metadata": {},
   "outputs": [],
   "source": [
    "my_card.account = 87654321"
   ]
  },
  {
   "cell_type": "markdown",
   "id": "mighty-bathroom",
   "metadata": {},
   "source": [
    "**Exercise**\n",
    "\n",
    "Complete the above class with:\n",
    "\n",
    "- An attribute(property) called `balance`.\n",
    "- A method called `deposit` that increase the money of the client.\n",
    "    - Check that the amount to be entered is a positive number.\n",
    "- A method called `bank_withdrawal` that simulates a purchase or a bank withdrawal.\n",
    "    - Check if the client has enough money in his account. "
   ]
  },
  {
   "cell_type": "code",
   "execution_count": 23,
   "id": "choice-appendix",
   "metadata": {},
   "outputs": [],
   "source": [
    "class DebitCard:\n",
    "    \"\"\"\n",
    "    A class used to represent a debit card\n",
    "    \n",
    "    ...\n",
    "    Attributes\n",
    "    ----------\n",
    "    account : int\n",
    "        The account number of the card\n",
    "    card : int\n",
    "        The card number\n",
    "        \n",
    "    \"\"\"\n",
    "    \n",
    "    def __init__(self, account: int, card: int, balance: int):\n",
    "        \n",
    "        if isinstance(account, int) and len(str(account)) == 8:\n",
    "            self._account = account\n",
    "        else:\n",
    "            raise ValueError('The account number must be an 8-digit integer.')\n",
    "        \n",
    "        self.card  = card\n",
    "        self.balance = balance\n",
    "    \n",
    "    #account property x-x-x-x-x-x-x-x-x-x-x-x-x-x-x-x-x-x-x-x-x-x-x-x-x-x-x-x-x-x-x-x-x-x-x-x-x-x-x-x-x-x-x-x-x-x-x\n",
    "    def get_account(self):\n",
    "        return self._account\n",
    "    \n",
    "    account = property(fget = get_account, doc = 'The account number')\n",
    "    \n",
    "    \n",
    "    #card property x-x-x-x-x-x-x-x-x-x-x-x-x-x-x-x-x-x-x-x-x-x-x-x-x-x-x-x-x-x-x-x-x-x-x-x-x-x-x-x-x-x-x-x-x-x-x-x\n",
    "    def get_card(self):\n",
    "        return self._card\n",
    "    \n",
    "    def set_card(self, card: int):\n",
    "        if isinstance(card, int) and len(str(card)) == 16:\n",
    "            self._card = card\n",
    "            \n",
    "        else:\n",
    "            raise ValueError('The card number must be an 16-digit integer.')\n",
    "            \n",
    "    card = property(fget = get_card, fset = set_card, doc = 'The card number')\n",
    "\n",
    "    \n",
    "    #balance property x-x-x-x-x-x-x-x-x-x-x-x-x-x-x-x-x-x-x-x-x-x-x-x-x-x-x-x-x-x-x-x-x-x-x-x-x-x-x-x-x-x-x-x-x-x-x-x\n",
    "    def get_balance(self):\n",
    "        return self._balance\n",
    "    \n",
    "    def set_balance(self, balance: int):\n",
    "        if isinstance(balance, (int, float)):\n",
    "            self._balance = balance\n",
    "            \n",
    "        else:\n",
    "            raise ValueError('Invalid')\n",
    "            \n",
    "    balance = property(fget = get_balance, fset = set_balance)\n",
    "    \n",
    "    #Deposit x-x-x-x-x-x-x-x-x-x-x-x-x-x-x-x-x-x-x-x-x-x-x-x-x-x-x-x-x-x-x-x-x-x-x-x-x-x-x-x-x-x-x-x-x-x-x-x\n",
    "    def deposit(self, money):\n",
    "        if isinstance(money, (int, float)) and money > 0:\n",
    "            self.balance += money\n",
    "        else:\n",
    "            raise ValueError('Cannot do this deposit')\n",
    "            \n",
    "    #bank_withdrawal x-x-x-x-x-x-x-x-x-x-x-x-x-x-x-x-x-x-x-x-x-x-x-x-x-x-x-x-x-x-x-x-x-x-x-x-x-x-x-x-x-x-x-x-x-x-x-x\n",
    "    def bank_withdrawal(self, cost):\n",
    "        if isinstance(cost, (int, float)) and cost > 0 and self.balance > cost:\n",
    "            self.balance -= cost\n",
    "        else:\n",
    "            raise ValueError('Declined card')"
   ]
  },
  {
   "cell_type": "code",
   "execution_count": 24,
   "id": "stylish-component",
   "metadata": {},
   "outputs": [],
   "source": [
    "d = DebitCard(12345678, 1234567891234567, 10000)"
   ]
  },
  {
   "cell_type": "code",
   "execution_count": 25,
   "id": "fabulous-sharp",
   "metadata": {},
   "outputs": [
    {
     "data": {
      "text/plain": [
       "10000"
      ]
     },
     "execution_count": 25,
     "metadata": {},
     "output_type": "execute_result"
    }
   ],
   "source": [
    "d.balance"
   ]
  },
  {
   "cell_type": "code",
   "execution_count": 26,
   "id": "regional-relevance",
   "metadata": {},
   "outputs": [],
   "source": [
    "d.deposit(15000)"
   ]
  },
  {
   "cell_type": "code",
   "execution_count": 27,
   "id": "overall-network",
   "metadata": {},
   "outputs": [
    {
     "data": {
      "text/plain": [
       "25000"
      ]
     },
     "execution_count": 27,
     "metadata": {},
     "output_type": "execute_result"
    }
   ],
   "source": [
    "d.balance"
   ]
  },
  {
   "cell_type": "code",
   "execution_count": 28,
   "id": "alternate-trustee",
   "metadata": {},
   "outputs": [],
   "source": [
    "d.bank_withdrawal(12500)"
   ]
  },
  {
   "cell_type": "code",
   "execution_count": 29,
   "id": "aware-mozambique",
   "metadata": {},
   "outputs": [
    {
     "data": {
      "text/plain": [
       "12500"
      ]
     },
     "execution_count": 29,
     "metadata": {},
     "output_type": "execute_result"
    }
   ],
   "source": [
    "d.balance"
   ]
  },
  {
   "cell_type": "markdown",
   "id": "strange-antenna",
   "metadata": {},
   "source": [
    "## BH\n",
    "\n",
    "Write a class called `Wordplay`. It should have a field that holds a list of words. The user\n",
    "of the class should pass the list of words they want to use to the class. There should be the\n",
    "following methods:\n",
    "\n",
    "- `words_with_length(length)` — returns a list of all the words of length length\n",
    "- `starts_with(s)` — returns a list of all the words that start with s\n",
    "- `ends_with(s)` — returns a list of all the words that end with s\n",
    "- `palindromes()` — returns a list of all the palindromes in the list\n",
    "- `only(L)` — returns a list of the words that contain only those letters in L\n",
    "- `avoids(L)` — returns a list of the words that contain none of the letters in L"
   ]
  },
  {
   "cell_type": "code",
   "execution_count": 30,
   "id": "narrative-sherman",
   "metadata": {},
   "outputs": [],
   "source": [
    "class Wordplay:\n",
    "    \n",
    "    def __init__(self, words: list):\n",
    "        self.words = words\n",
    "        \n",
    "        \n",
    "        \n",
    "    def words_with_length(self, length: int) -> list:\n",
    "        \"\"\"Returns a list of all the words of length length\"\"\"\n",
    "        return [w for w in self.words if len(w) == length]\n",
    "    \n",
    "    \n",
    "    def starts_with(self, s: str) -> list:\n",
    "        \"\"\"Returns a list of all the words that start with s\"\"\"\n",
    "        return [w for w in self.words if s == w[:len(s)]]\n",
    "    \n",
    "    \n",
    "    def ends_with(self, s: str) -> str:\n",
    "        \"\"\"Returns a list of all the words that end with s\"\"\"\n",
    "        return [w for w in self.words if s[::-1] == w[::-1][:len(s)]]\n",
    "    \n",
    "    \n",
    "    def palindromes(self):\n",
    "        \"\"\"returns a list of all the palindromes in the list\"\"\"\n",
    "        return [w for w in self.words if w[::-1] == w]\n",
    "    \n",
    "    \n",
    "    def only(self, L: list) -> list:\n",
    "        \"\"\"returns a list of the words that contain only those letters in L\"\"\"\n",
    "        return [w for w in self.words if self._check_every_letter(w, L)]\n",
    "    \n",
    "    \n",
    "    def avoids(self, L: list) -> list:\n",
    "        \"\"\"returns a list of the words that contain none of the letters in L\"\"\"\n",
    "        return [w for w in self.words if not self._check_letter(w, L)]\n",
    "    \n",
    "        \n",
    "    \n",
    "    def _check_letter(self, word: str, letters: list) -> bool:\n",
    "        \"\"\"Checks if some of the letters are in the word\"\"\"\n",
    "        flag = False\n",
    "    \n",
    "        for l in letters:\n",
    "            if l in word:\n",
    "                flag = True\n",
    "\n",
    "        return flag\n",
    "    \n",
    "    def _check_every_letter(self, word, letters):\n",
    "        \"\"\"Checks if all letters are in word\"\"\"\n",
    "        flag = True\n",
    "\n",
    "        for l in letters:\n",
    "            if l not in word:\n",
    "                flag = False\n",
    "\n",
    "        return flag"
   ]
  },
  {
   "cell_type": "code",
   "execution_count": 32,
   "id": "established-potato",
   "metadata": {
    "scrolled": false
   },
   "outputs": [],
   "source": [
    "words;"
   ]
  },
  {
   "cell_type": "code",
   "execution_count": 33,
   "id": "ready-hampshire",
   "metadata": {},
   "outputs": [],
   "source": [
    "wp = Wordplay(words)"
   ]
  },
  {
   "cell_type": "code",
   "execution_count": 35,
   "id": "hazardous-representation",
   "metadata": {},
   "outputs": [],
   "source": [
    "wp.words;"
   ]
  },
  {
   "cell_type": "code",
   "execution_count": 36,
   "id": "affecting-community",
   "metadata": {},
   "outputs": [
    {
     "data": {
      "text/plain": [
       "['olor',\n",
       " 'seco',\n",
       " 'nada',\n",
       " 'como',\n",
       " 'buey',\n",
       " 'como',\n",
       " 'para',\n",
       " 'pero',\n",
       " 'como',\n",
       " 'toda',\n",
       " 'lado',\n",
       " 'otro',\n",
       " 'nada',\n",
       " 'para',\n",
       " 'ropa',\n",
       " 'pues',\n",
       " 'eran',\n",
       " 'alla',\n",
       " 'este',\n",
       " 'solo',\n",
       " 'casi',\n",
       " 'eran',\n",
       " 'sino',\n",
       " 'algo',\n",
       " 'como',\n",
       " 'tuvo',\n",
       " 'pero',\n",
       " 'gano',\n",
       " 'gano',\n",
       " 'algo',\n",
       " 'pero',\n",
       " 'modo',\n",
       " 'como',\n",
       " 'poca',\n",
       " 'como',\n",
       " 'todo',\n",
       " 'usan',\n",
       " 'pies',\n",
       " 'piel',\n",
       " 'pelo',\n",
       " 'como',\n",
       " 'osos',\n",
       " 'rien',\n",
       " 'como',\n",
       " 'para',\n",
       " 'como',\n",
       " 'este',\n",
       " 'tres',\n",
       " 'otro',\n",
       " 'lado',\n",
       " 'agua',\n",
       " 'duda',\n",
       " 'hada',\n",
       " 'pero',\n",
       " 'algo',\n",
       " 'todo',\n",
       " 'clan',\n",
       " 'pero',\n",
       " 'eran',\n",
       " 'como',\n",
       " 'ella',\n",
       " 'bajo',\n",
       " 'otro',\n",
       " 'lado',\n",
       " 'agua',\n",
       " 'alli',\n",
       " 'hijo',\n",
       " 'como',\n",
       " 'lado',\n",
       " 'algo',\n",
       " 'solo',\n",
       " 'para',\n",
       " 'alli',\n",
       " 'para',\n",
       " 'hace',\n",
       " 'eran',\n",
       " 'pipa',\n",
       " 'casi',\n",
       " 'pies',\n",
       " 'bien',\n",
       " 'solo',\n",
       " 'oido',\n",
       " 'oido',\n",
       " 'oido',\n",
       " 'solo',\n",
       " 'poco',\n",
       " 'todo',\n",
       " 'para',\n",
       " 'casi',\n",
       " 'como',\n",
       " 'alla',\n",
       " 'otro',\n",
       " 'lado',\n",
       " 'agua',\n",
       " 'eran',\n",
       " 'todo',\n",
       " 'azul',\n",
       " 'alto',\n",
       " 'capa',\n",
       " 'gris',\n",
       " 'dias',\n",
       " 'dijo',\n",
       " 'esto',\n",
       " 'pero',\n",
       " 'miro',\n",
       " 'cara',\n",
       " 'buen',\n",
       " 'buen',\n",
       " 'bien',\n",
       " 'todo',\n",
       " 'dijo',\n",
       " 'para',\n",
       " 'pipa',\n",
       " 'casa',\n",
       " 'pipa',\n",
       " 'poco',\n",
       " 'todo',\n",
       " 'humo',\n",
       " 'gris',\n",
       " 'aire',\n",
       " 'dijo',\n",
       " 'pero',\n",
       " 'esta',\n",
       " 'para',\n",
       " 'humo',\n",
       " 'cena',\n",
       " 'dijo',\n",
       " 'otro',\n",
       " 'humo',\n",
       " 'saco',\n",
       " 'puso',\n",
       " 'leer',\n",
       " 'pero',\n",
       " 'nada',\n",
       " 'poco',\n",
       " 'dias',\n",
       " 'dijo',\n",
       " 'finâ',\n",
       " 'aqui',\n",
       " 'alla',\n",
       " 'otro',\n",
       " 'lado',\n",
       " 'agua',\n",
       " 'esto',\n",
       " 'daba',\n",
       " 'para',\n",
       " 'dias',\n",
       " 'dijo',\n",
       " 'vaya',\n",
       " 'modo',\n",
       " 'modo',\n",
       " 'creo',\n",
       " 'unas',\n",
       " 'hijo',\n",
       " 'dias',\n",
       " 'como',\n",
       " 'sois',\n",
       " 'mago',\n",
       " 'sois',\n",
       " 'como',\n",
       " 'aire',\n",
       " 'todo',\n",
       " 'dado',\n",
       " 'como',\n",
       " 'sois',\n",
       " 'azul',\n",
       " 'cosa',\n",
       " 'vida',\n",
       " 'todo',\n",
       " 'pido',\n",
       " 'pero',\n",
       " 'idea',\n",
       " 'dijo',\n",
       " 'modo',\n",
       " 'algo',\n",
       " 'nada',\n",
       " 'como',\n",
       " 'para',\n",
       " 'para',\n",
       " 'para',\n",
       " 'ella',\n",
       " 'sano',\n",
       " 'dias',\n",
       " 'pero',\n",
       " 'esto',\n",
       " 'pudo',\n",
       " 'cabo',\n",
       " 'mago',\n",
       " 'mago',\n",
       " 'para',\n",
       " 'dijo',\n",
       " 'poco',\n",
       " 'pero',\n",
       " 'algo',\n",
       " 'bien',\n",
       " 'cabo',\n",
       " 'rato',\n",
       " 'casi',\n",
       " 'bien',\n",
       " 'este',\n",
       " 'modo',\n",
       " 'como',\n",
       " 'para',\n",
       " 'hora',\n",
       " 'puso',\n",
       " 'saco',\n",
       " 'otra',\n",
       " 'taza',\n",
       " 'azul',\n",
       " 'ojos',\n",
       " 'bajo',\n",
       " 'como',\n",
       " 'como',\n",
       " 'capa',\n",
       " 'dijo',\n",
       " 'dijo',\n",
       " 'como',\n",
       " 'para',\n",
       " 'algo',\n",
       " 'pero',\n",
       " 'rato',\n",
       " 'mesa',\n",
       " 'otro',\n",
       " 'dijo',\n",
       " 'esto',\n",
       " 'pero',\n",
       " 'este',\n",
       " 'como',\n",
       " 'como',\n",
       " 'dijo',\n",
       " 'suyo',\n",
       " 'rojo',\n",
       " 'otro',\n",
       " 'dijo',\n",
       " 'mano',\n",
       " 'dijo',\n",
       " 'casi',\n",
       " 'pero',\n",
       " 'como',\n",
       " 'taza',\n",
       " 'poco',\n",
       " 'iria',\n",
       " 'buen',\n",
       " 'dijo',\n",
       " 'pero',\n",
       " 'para',\n",
       " 'para',\n",
       " 'cena',\n",
       " 'mesa',\n",
       " 'como',\n",
       " 'eran',\n",
       " 'otro',\n",
       " 'esta',\n",
       " 'pero',\n",
       " 'eran',\n",
       " 'cada',\n",
       " 'pala',\n",
       " 'dijo',\n",
       " 'kili',\n",
       " 'dijo',\n",
       " 'unoâ',\n",
       " 'fili',\n",
       " 'adio',\n",
       " 'otro',\n",
       " 'toda',\n",
       " 'esta',\n",
       " 'aqui',\n",
       " 'dijo',\n",
       " 'solo',\n",
       " 'mesa',\n",
       " 'pues',\n",
       " 'sono',\n",
       " 'como',\n",
       " 'dijo',\n",
       " 'unos',\n",
       " 'dijo',\n",
       " 'sono',\n",
       " 'tuvo',\n",
       " 'eran',\n",
       " 'sino',\n",
       " 'otro',\n",
       " 'tras',\n",
       " 'otro',\n",
       " 'dori',\n",
       " 'nori',\n",
       " 'eran',\n",
       " 'gris',\n",
       " 'alla',\n",
       " 'casi',\n",
       " 'eran',\n",
       " 'unos',\n",
       " 'pais',\n",
       " 'cafe',\n",
       " 'rato',\n",
       " 'gran',\n",
       " 'sido',\n",
       " 'sino',\n",
       " 'este',\n",
       " 'otro',\n",
       " 'vara',\n",
       " 'alli',\n",
       " 'todo',\n",
       " 'tres',\n",
       " 'este',\n",
       " 'nada',\n",
       " 'nada',\n",
       " 'nada',\n",
       " 'caer',\n",
       " 'ante',\n",
       " 'todo',\n",
       " 'dijo',\n",
       " 'nada',\n",
       " 'pero',\n",
       " 'gruã',\n",
       " 'dejo',\n",
       " 'vaya',\n",
       " 'aqui',\n",
       " 'dijo',\n",
       " 'algo',\n",
       " 'para',\n",
       " 'para',\n",
       " 'poco',\n",
       " 'vino',\n",
       " 'dijo',\n",
       " 'dijo',\n",
       " 'dijo',\n",
       " 'dijo',\n",
       " 'cafe',\n",
       " 'otro',\n",
       " 'lado',\n",
       " 'unos',\n",
       " 'gran',\n",
       " 'saca',\n",
       " 'frio',\n",
       " 'unos',\n",
       " 'como',\n",
       " 'todo',\n",
       " 'caer',\n",
       " 'casa',\n",
       " 'rojo',\n",
       " 'como',\n",
       " 'dijo',\n",
       " 'mano',\n",
       " 'aqui',\n",
       " 'alli',\n",
       " 'fili',\n",
       " 'kili',\n",
       " 'tras',\n",
       " 'toda',\n",
       " 'alli',\n",
       " 'todo',\n",
       " 'otra',\n",
       " 'puso',\n",
       " 'todo',\n",
       " 'modo',\n",
       " 'paso',\n",
       " 'puso',\n",
       " 'dijo',\n",
       " 'dijo',\n",
       " 'poco',\n",
       " 'doce',\n",
       " 'alla',\n",
       " 'mano',\n",
       " 'cada',\n",
       " 'casi',\n",
       " 'pero',\n",
       " 'caso']"
      ]
     },
     "execution_count": 36,
     "metadata": {},
     "output_type": "execute_result"
    }
   ],
   "source": [
    "wp.words_with_length(4)"
   ]
  },
  {
   "cell_type": "code",
   "execution_count": 38,
   "id": "retired-geneva",
   "metadata": {},
   "outputs": [
    {
     "data": {
      "text/plain": [
       "['hobbit',\n",
       " 'hobbit',\n",
       " 'hobbit',\n",
       " 'hobbit',\n",
       " 'hobbit',\n",
       " 'hobbit',\n",
       " 'hobbit',\n",
       " 'hobbit',\n",
       " 'hobbits',\n",
       " 'hobbits',\n",
       " 'hobbit',\n",
       " 'hobbits',\n",
       " 'hobbit',\n",
       " 'hobbit',\n",
       " 'hobbit',\n",
       " 'hobbits',\n",
       " 'hobbits',\n",
       " 'hobbits',\n",
       " 'hobbits',\n",
       " 'hobbit',\n",
       " 'hobbit',\n",
       " 'hobbit',\n",
       " 'hobbit',\n",
       " 'hobbit',\n",
       " 'hobbit',\n",
       " 'hobbit',\n",
       " 'hobbit',\n",
       " 'hobbit',\n",
       " 'hobbit',\n",
       " 'hobbit']"
      ]
     },
     "execution_count": 38,
     "metadata": {},
     "output_type": "execute_result"
    }
   ],
   "source": [
    "wp.starts_with('hob')"
   ]
  },
  {
   "cell_type": "code",
   "execution_count": 39,
   "id": "caring-cisco",
   "metadata": {},
   "outputs": [
    {
     "data": {
      "text/plain": [
       "['vivia', 'todavia', 'vivia', 'todavia', 'todavia', 'todavia']"
      ]
     },
     "execution_count": 39,
     "metadata": {},
     "output_type": "execute_result"
    }
   ],
   "source": [
    "wp.ends_with('via')"
   ]
  },
  {
   "cell_type": "code",
   "execution_count": 41,
   "id": "revolutionary-melissa",
   "metadata": {},
   "outputs": [],
   "source": [
    "wp.palindromes();"
   ]
  },
  {
   "cell_type": "code",
   "execution_count": 42,
   "id": "fatty-atlanta",
   "metadata": {},
   "outputs": [
    {
     "data": {
      "text/plain": [
       "['gandalf',\n",
       " 'gandalf',\n",
       " 'gandalf',\n",
       " 'gandalfâ',\n",
       " 'fingiendo',\n",
       " 'gandalfâ',\n",
       " 'gandalf',\n",
       " 'gandalf',\n",
       " 'gandalf',\n",
       " 'gandalf',\n",
       " 'gandalf',\n",
       " 'gandalf',\n",
       " 'gandalf',\n",
       " 'gandalf',\n",
       " 'gandalf',\n",
       " 'gandalf',\n",
       " 'gandalf',\n",
       " 'gandalf',\n",
       " 'gandalf',\n",
       " 'gandalf',\n",
       " 'gandalf',\n",
       " 'fustigados',\n",
       " 'gandalf',\n",
       " 'gandalfâ']"
      ]
     },
     "execution_count": 42,
     "metadata": {},
     "output_type": "execute_result"
    }
   ],
   "source": [
    "wp.only(['g', 'd', 'f'])"
   ]
  },
  {
   "cell_type": "code",
   "execution_count": 43,
   "id": "different-polymer",
   "metadata": {},
   "outputs": [
    {
     "data": {
      "text/plain": [
       "['en',\n",
       " 'un',\n",
       " 'agujero',\n",
       " 'en',\n",
       " 'el',\n",
       " 'vivia',\n",
       " 'un',\n",
       " 'no',\n",
       " 'un',\n",
       " 'agujero',\n",
       " 'con',\n",
       " 'y',\n",
       " 'olor',\n",
       " 'a',\n",
       " 'fango',\n",
       " 'ni',\n",
       " 'un',\n",
       " 'agujero',\n",
       " 'y',\n",
       " 'en',\n",
       " 'que',\n",
       " 'o',\n",
       " 'que',\n",
       " 'comer',\n",
       " 'era',\n",
       " 'un',\n",
       " 'agujero',\n",
       " 'y',\n",
       " 'una',\n",
       " 'como',\n",
       " 'un',\n",
       " 'ojo',\n",
       " 'buey',\n",
       " 'con',\n",
       " 'una',\n",
       " 'manilla',\n",
       " 'bronce',\n",
       " 'y',\n",
       " 'en',\n",
       " 'el',\n",
       " 'la',\n",
       " 'abria',\n",
       " 'a',\n",
       " 'un',\n",
       " 'como',\n",
       " 'un',\n",
       " 'un',\n",
       " 'muy',\n",
       " 'con',\n",
       " 'y',\n",
       " 'y',\n",
       " 'y',\n",
       " 'y',\n",
       " 'para',\n",
       " 'y',\n",
       " 'el',\n",
       " 'era',\n",
       " 'a',\n",
       " 'el',\n",
       " 'y',\n",
       " 'pero',\n",
       " 'no',\n",
       " 'en',\n",
       " 'la',\n",
       " 'la',\n",
       " 'colina',\n",
       " 'â',\n",
       " 'la',\n",
       " 'colina',\n",
       " 'como',\n",
       " 'la',\n",
       " 'llamaba',\n",
       " 'la',\n",
       " 'y',\n",
       " 'abrian',\n",
       " 'en',\n",
       " 'el',\n",
       " 'primero',\n",
       " 'a',\n",
       " 'un',\n",
       " 'y',\n",
       " 'luego',\n",
       " 'al',\n",
       " 'para',\n",
       " 'el',\n",
       " 'baã',\n",
       " 'o',\n",
       " 'a',\n",
       " 'ropa',\n",
       " 'en',\n",
       " 'la',\n",
       " 'y',\n",
       " 'en',\n",
       " 'en',\n",
       " 'el',\n",
       " 'a',\n",
       " 'la',\n",
       " 'la',\n",
       " 'principal',\n",
       " 'eran',\n",
       " 'que',\n",
       " 'que',\n",
       " 'miraban',\n",
       " 'al',\n",
       " 'y',\n",
       " 'alla',\n",
       " 'camino',\n",
       " 'rio',\n",
       " 'era',\n",
       " 'un',\n",
       " 'y',\n",
       " 'en',\n",
       " 'la',\n",
       " 'colina',\n",
       " 'y',\n",
       " 'la',\n",
       " 'muy',\n",
       " 'no',\n",
       " 'porque',\n",
       " 'eran',\n",
       " 'porque',\n",
       " 'nunca',\n",
       " 'ninguna',\n",
       " 'ni',\n",
       " 'algo',\n",
       " 'uno',\n",
       " 'lo',\n",
       " 'que',\n",
       " 'un',\n",
       " 'acerca',\n",
       " 'cualquier',\n",
       " 'ã',\n",
       " 'la',\n",
       " 'como',\n",
       " 'un',\n",
       " 'una',\n",
       " 'y',\n",
       " 'a',\n",
       " 'y',\n",
       " 'por',\n",
       " 'el',\n",
       " 'pero',\n",
       " 'gano',\n",
       " 'bueno',\n",
       " 'ya',\n",
       " 'al',\n",
       " 'final',\n",
       " 'gano',\n",
       " 'algo',\n",
       " 'la',\n",
       " 'pero',\n",
       " 'â',\n",
       " 'que',\n",
       " 'un',\n",
       " 'que',\n",
       " 'que',\n",
       " 'algun',\n",
       " 'ya',\n",
       " 'que',\n",
       " 'volvieron',\n",
       " 'y',\n",
       " 'con',\n",
       " 'la',\n",
       " 'como',\n",
       " 'llaman',\n",
       " 'o',\n",
       " 'fueron',\n",
       " 'la',\n",
       " 'y',\n",
       " 'pequeã',\n",
       " 'que',\n",
       " 'no',\n",
       " 'barba',\n",
       " 'poca',\n",
       " 'o',\n",
       " 'ninguna',\n",
       " 'magia',\n",
       " 'en',\n",
       " 'comun',\n",
       " 'y',\n",
       " 'que',\n",
       " 'a',\n",
       " 'en',\n",
       " 'y',\n",
       " 'y',\n",
       " 'como',\n",
       " 'o',\n",
       " 'yo',\n",
       " 'acerca',\n",
       " 'mirar',\n",
       " 'por',\n",
       " 'va',\n",
       " 'con',\n",
       " 'un',\n",
       " 'que',\n",
       " 'a',\n",
       " 'una',\n",
       " 'milla',\n",
       " 'a',\n",
       " 'y',\n",
       " 'amarillo',\n",
       " 'no',\n",
       " 'porque',\n",
       " 'en',\n",
       " 'piel',\n",
       " 'y',\n",
       " 'un',\n",
       " 'pelo',\n",
       " 'y',\n",
       " 'color',\n",
       " 'o',\n",
       " 'como',\n",
       " 'el',\n",
       " 'que',\n",
       " 'crece',\n",
       " 'en',\n",
       " 'la',\n",
       " 'cabeza',\n",
       " 'que',\n",
       " 'maã',\n",
       " 'y',\n",
       " 'y',\n",
       " 'rien',\n",
       " 'con',\n",
       " 'y',\n",
       " 'cenar',\n",
       " 'lo',\n",
       " 'que',\n",
       " 'al',\n",
       " 'lo',\n",
       " 'como',\n",
       " 'para',\n",
       " 'el',\n",
       " 'como',\n",
       " 'iba',\n",
       " 'la',\n",
       " 'â',\n",
       " 'o',\n",
       " 'bilbo',\n",
       " 'era',\n",
       " 'la',\n",
       " 'una',\n",
       " 'viejo',\n",
       " 'que',\n",
       " 'vivian',\n",
       " 'al',\n",
       " 'el',\n",
       " 'agua',\n",
       " 'el',\n",
       " 'que',\n",
       " 'corria',\n",
       " 'al',\n",
       " 'pie',\n",
       " 'la',\n",
       " 'colina',\n",
       " 'a',\n",
       " 'en',\n",
       " 'que',\n",
       " 'un',\n",
       " 'con',\n",
       " 'un',\n",
       " 'era',\n",
       " 'luego',\n",
       " 'pero',\n",
       " 'por',\n",
       " 'algo',\n",
       " 'no',\n",
       " 'en',\n",
       " 'y',\n",
       " 'en',\n",
       " 'clan',\n",
       " 'a',\n",
       " 'correr',\n",
       " 'con',\n",
       " 'y',\n",
       " 'la',\n",
       " 'familia',\n",
       " 'el',\n",
       " 'pero',\n",
       " 'no',\n",
       " 'eran',\n",
       " 'como',\n",
       " 'aunque',\n",
       " 'al',\n",
       " 'no',\n",
       " 'ninguna',\n",
       " 'en',\n",
       " 'la',\n",
       " 'ora',\n",
       " 'bungo',\n",
       " 'bungo',\n",
       " 'el',\n",
       " 'bilbo',\n",
       " 'le',\n",
       " 'el',\n",
       " 'agujero',\n",
       " 'en',\n",
       " 'con',\n",
       " 'el',\n",
       " 'ella',\n",
       " 'que',\n",
       " 'bajo',\n",
       " 'la',\n",
       " 'colina',\n",
       " 'o',\n",
       " 'la',\n",
       " 'colina',\n",
       " 'o',\n",
       " 'al',\n",
       " 'el',\n",
       " 'agua',\n",
       " 'y',\n",
       " 'alli',\n",
       " 'el',\n",
       " 'fin',\n",
       " 'no',\n",
       " 'probable',\n",
       " 'que',\n",
       " 'bilbo',\n",
       " 'unico',\n",
       " 'aunque',\n",
       " 'parecia',\n",
       " 'y',\n",
       " 'como',\n",
       " 'una',\n",
       " 'firme',\n",
       " 'y',\n",
       " 'alguna',\n",
       " 'rareza',\n",
       " 'algo',\n",
       " 'que',\n",
       " 'una',\n",
       " 'para',\n",
       " 'a',\n",
       " 'la',\n",
       " 'luz',\n",
       " 'la',\n",
       " 'no',\n",
       " 'llego',\n",
       " 'a',\n",
       " 'nunca',\n",
       " 'que',\n",
       " 'bilbo',\n",
       " 'fue',\n",
       " 'un',\n",
       " 'que',\n",
       " 'aã',\n",
       " 'y',\n",
       " 'vivia',\n",
       " 'en',\n",
       " 'el',\n",
       " 'agujero',\n",
       " 'que',\n",
       " 'acabo',\n",
       " 'y',\n",
       " 'en',\n",
       " 'ya',\n",
       " 'parecia',\n",
       " 'que',\n",
       " 'alli',\n",
       " 'para',\n",
       " 'por',\n",
       " 'alguna',\n",
       " 'una',\n",
       " 'maã',\n",
       " 'ana',\n",
       " 'en',\n",
       " 'la',\n",
       " 'y',\n",
       " 'y',\n",
       " 'eran',\n",
       " 'y',\n",
       " 'y',\n",
       " 'bilbo',\n",
       " 'pie',\n",
       " 'en',\n",
       " 'la',\n",
       " 'agujero',\n",
       " 'una',\n",
       " 'enorme',\n",
       " 'y',\n",
       " 'larga',\n",
       " 'pipa',\n",
       " 'que',\n",
       " 'le',\n",
       " 'llegaba',\n",
       " 'a',\n",
       " 'bien',\n",
       " 'aparecio',\n",
       " 'â',\n",
       " 'un',\n",
       " 'lo',\n",
       " 'que',\n",
       " 'yo',\n",
       " 'el',\n",
       " 'y',\n",
       " 'muy',\n",
       " 'poco',\n",
       " 'lo',\n",
       " 'que',\n",
       " 'que',\n",
       " 'oir',\n",
       " 'para',\n",
       " 'cualquier',\n",
       " 'y',\n",
       " 'por',\n",
       " 'que',\n",
       " 'la',\n",
       " 'forma',\n",
       " 'no',\n",
       " 'a',\n",
       " 'aquel',\n",
       " 'camino',\n",
       " 'al',\n",
       " 'pie',\n",
       " 'la',\n",
       " 'colina',\n",
       " 'aã',\n",
       " 'y',\n",
       " 'aã',\n",
       " 'la',\n",
       " 'amigo',\n",
       " 'el',\n",
       " 'viejo',\n",
       " 'y',\n",
       " 'como',\n",
       " 'era',\n",
       " 'alla',\n",
       " 'la',\n",
       " 'colina',\n",
       " 'y',\n",
       " 'el',\n",
       " 'agua',\n",
       " 'por',\n",
       " 'el',\n",
       " 'en',\n",
       " 'que',\n",
       " 'eran',\n",
       " 'pequeã',\n",
       " 'niã',\n",
       " 'y',\n",
       " 'niã',\n",
       " 'lo',\n",
       " 'que',\n",
       " 'el',\n",
       " 'bilbo',\n",
       " 'vio',\n",
       " 'aquella',\n",
       " 'maã',\n",
       " 'ana',\n",
       " 'fue',\n",
       " 'un',\n",
       " 'anciano',\n",
       " 'con',\n",
       " 'un',\n",
       " 'un',\n",
       " 'azul',\n",
       " 'y',\n",
       " 'una',\n",
       " 'larga',\n",
       " 'capa',\n",
       " 'una',\n",
       " 'la',\n",
       " 'que',\n",
       " 'colgaba',\n",
       " 'una',\n",
       " 'barba',\n",
       " 'larga',\n",
       " 'y',\n",
       " 'blanca',\n",
       " 'abajo',\n",
       " 'la',\n",
       " 'y',\n",
       " 'â',\n",
       " 'â',\n",
       " 'â',\n",
       " 'bilbo',\n",
       " 'y',\n",
       " 'era',\n",
       " 'lo',\n",
       " 'que',\n",
       " 'queria',\n",
       " 'el',\n",
       " 'brillaba',\n",
       " 'y',\n",
       " 'la',\n",
       " 'muy',\n",
       " 'pero',\n",
       " 'lo',\n",
       " 'miro',\n",
       " 'abajo',\n",
       " 'y',\n",
       " 'que',\n",
       " 'el',\n",
       " 'ala',\n",
       " 'que',\n",
       " 'le',\n",
       " 'la',\n",
       " 'cara',\n",
       " 'â',\n",
       " 'â',\n",
       " 'que',\n",
       " 'â',\n",
       " 'â',\n",
       " 'me',\n",
       " 'un',\n",
       " 'buen',\n",
       " 'o',\n",
       " 'que',\n",
       " 'un',\n",
       " 'buen',\n",
       " 'lo',\n",
       " 'quiera',\n",
       " 'yo',\n",
       " 'o',\n",
       " 'no',\n",
       " 'o',\n",
       " 'que',\n",
       " 'bien',\n",
       " 'o',\n",
       " 'que',\n",
       " 'un',\n",
       " 'en',\n",
       " 'que',\n",
       " 'conviene',\n",
       " 'bueno',\n",
       " 'â',\n",
       " 'a',\n",
       " 'la',\n",
       " 'vez',\n",
       " 'â',\n",
       " 'bilboâ',\n",
       " 'y',\n",
       " 'un',\n",
       " 'para',\n",
       " 'una',\n",
       " 'pipa',\n",
       " 'a',\n",
       " 'la',\n",
       " 'â',\n",
       " 'una',\n",
       " 'pipa',\n",
       " 'encima',\n",
       " 'y',\n",
       " 'un',\n",
       " 'poco',\n",
       " 'mi',\n",
       " 'â',\n",
       " 'no',\n",
       " 'el',\n",
       " 'por',\n",
       " 'â',\n",
       " 'bilbo',\n",
       " 'en',\n",
       " 'una',\n",
       " 'a',\n",
       " 'la',\n",
       " 'cruzo',\n",
       " 'y',\n",
       " 'lanzo',\n",
       " 'un',\n",
       " 'anillo',\n",
       " 'que',\n",
       " 'navego',\n",
       " 'en',\n",
       " 'el',\n",
       " 'aire',\n",
       " 'y',\n",
       " 'alejo',\n",
       " 'la',\n",
       " 'colina',\n",
       " 'â',\n",
       " 'â',\n",
       " 'muy',\n",
       " 'â',\n",
       " 'pero',\n",
       " 'maã',\n",
       " 'ana',\n",
       " 'no',\n",
       " 'para',\n",
       " 'a',\n",
       " 'alguien',\n",
       " 'con',\n",
       " 'quien',\n",
       " 'una',\n",
       " 'que',\n",
       " 'y',\n",
       " 'con',\n",
       " 'el',\n",
       " 'â',\n",
       " 'lo',\n",
       " 'en',\n",
       " 'y',\n",
       " 'y',\n",
       " 'no',\n",
       " 'a',\n",
       " 'â',\n",
       " 'e',\n",
       " 'que',\n",
       " 'la',\n",
       " 'cena',\n",
       " 'no',\n",
       " 'me',\n",
       " 'explico',\n",
       " 'por',\n",
       " 'que',\n",
       " 'a',\n",
       " 'la',\n",
       " 'â',\n",
       " 'or',\n",
       " 'y',\n",
       " 'un',\n",
       " 'pulgar',\n",
       " 'lanzo',\n",
       " 'anillo',\n",
       " 'aun',\n",
       " 'luego',\n",
       " 'el',\n",
       " 'correo',\n",
       " 'y',\n",
       " 'a',\n",
       " 'leer',\n",
       " 'ignorar',\n",
       " 'al',\n",
       " 'viejo',\n",
       " 'pero',\n",
       " 'el',\n",
       " 'viejo',\n",
       " 'no',\n",
       " 'movio',\n",
       " 'permanecio',\n",
       " 'en',\n",
       " 'el',\n",
       " 'al',\n",
       " 'que',\n",
       " 'bilbo',\n",
       " 'y',\n",
       " 'aun',\n",
       " 'un',\n",
       " 'poco',\n",
       " 'â',\n",
       " 'â',\n",
       " 'al',\n",
       " 'finâ',\n",
       " 'â',\n",
       " 'no',\n",
       " 'aqui',\n",
       " 'â',\n",
       " 'por',\n",
       " 'que',\n",
       " 'no',\n",
       " 'alla',\n",
       " 'la',\n",
       " 'colina',\n",
       " 'o',\n",
       " 'al',\n",
       " 'el',\n",
       " 'agua',\n",
       " 'â',\n",
       " 'con',\n",
       " 'a',\n",
       " 'que',\n",
       " 'la',\n",
       " 'â',\n",
       " 'â',\n",
       " 'para',\n",
       " 'el',\n",
       " 'â',\n",
       " 'que',\n",
       " 'mi',\n",
       " 'y',\n",
       " 'que',\n",
       " 'no',\n",
       " 'que',\n",
       " 'me',\n",
       " 'vaya',\n",
       " 'â',\n",
       " 'â',\n",
       " 'ningun',\n",
       " 'ningun',\n",
       " 'mi',\n",
       " 'or',\n",
       " 'no',\n",
       " 'creo',\n",
       " 'conocer',\n",
       " 'nombre',\n",
       " 'â',\n",
       " 'â',\n",
       " 'mi',\n",
       " 'or',\n",
       " 'y',\n",
       " 'yo',\n",
       " 'que',\n",
       " 'conozco',\n",
       " 'nombre',\n",
       " 'or',\n",
       " 'bilbo',\n",
       " 'y',\n",
       " 'el',\n",
       " 'mio',\n",
       " 'aunque',\n",
       " 'no',\n",
       " 'me',\n",
       " 'a',\n",
       " 'el',\n",
       " 'â',\n",
       " 'yo',\n",
       " 'y',\n",
       " 'yo',\n",
       " 'â',\n",
       " 'quien',\n",
       " 'iba',\n",
       " 'a',\n",
       " 'que',\n",
       " 'un',\n",
       " 'me',\n",
       " 'como',\n",
       " 'yo',\n",
       " 'en',\n",
       " 'â',\n",
       " 'â',\n",
       " 'â',\n",
       " 'valgame',\n",
       " 'el',\n",
       " 'cielo',\n",
       " 'â',\n",
       " 'no',\n",
       " 'el',\n",
       " 'mago',\n",
       " 'que',\n",
       " 'al',\n",
       " 'viejo',\n",
       " 'un',\n",
       " 'par',\n",
       " 'que',\n",
       " 'y',\n",
       " 'no',\n",
       " 'que',\n",
       " 'una',\n",
       " 'â',\n",
       " 'no',\n",
       " 'quien',\n",
       " 'en',\n",
       " 'y',\n",
       " 'y',\n",
       " 'y',\n",
       " 'y',\n",
       " 'la',\n",
       " 'â',\n",
       " 'no',\n",
       " 'el',\n",
       " 'que',\n",
       " 'a',\n",
       " 'fabricar',\n",
       " 'â',\n",
       " 'el',\n",
       " 'viejo',\n",
       " 'preparaba',\n",
       " 'en',\n",
       " 'verano',\n",
       " 'â',\n",
       " 'como',\n",
       " 'y',\n",
       " 'fuego',\n",
       " 'que',\n",
       " 'en',\n",
       " 'el',\n",
       " 'aire',\n",
       " 'el',\n",
       " 'â',\n",
       " 'ya',\n",
       " 'que',\n",
       " 'el',\n",
       " 'or',\n",
       " 'no',\n",
       " 'era',\n",
       " 'como',\n",
       " 'el',\n",
       " 'creia',\n",
       " 'y',\n",
       " 'que',\n",
       " 'era',\n",
       " 'muy',\n",
       " 'a',\n",
       " 'â',\n",
       " 'â',\n",
       " 'â',\n",
       " 'â',\n",
       " 'no',\n",
       " 'el',\n",
       " 'que',\n",
       " 'y',\n",
       " 'el',\n",
       " 'azul',\n",
       " 'en',\n",
       " 'cualquier',\n",
       " 'a',\n",
       " 'o',\n",
       " 'zarpar',\n",
       " 'en',\n",
       " 'â',\n",
       " 'y',\n",
       " 'navegar',\n",
       " 'â',\n",
       " 'caramba',\n",
       " 'la',\n",
       " 'era',\n",
       " 'apacible',\n",
       " 'quiero',\n",
       " 'en',\n",
       " 'un',\n",
       " 'la',\n",
       " 'en',\n",
       " 'pero',\n",
       " 'no',\n",
       " 'ni',\n",
       " 'que',\n",
       " 'en',\n",
       " 'â',\n",
       " 'â',\n",
       " 'no',\n",
       " 'iba',\n",
       " 'a',\n",
       " 'â',\n",
       " 'el',\n",
       " 'magoâ',\n",
       " 'cualquier',\n",
       " 'me',\n",
       " 'complace',\n",
       " 'que',\n",
       " 'aun',\n",
       " 'algo',\n",
       " 'mi',\n",
       " 'al',\n",
       " 'parece',\n",
       " 'que',\n",
       " 'con',\n",
       " 'cariã',\n",
       " 'o',\n",
       " 'y',\n",
       " 'y',\n",
       " 'en',\n",
       " 'por',\n",
       " 'la',\n",
       " 'memoria',\n",
       " 'viejo',\n",
       " 'abuelo',\n",
       " 'y',\n",
       " 'por',\n",
       " 'la',\n",
       " 'memoria',\n",
       " 'la',\n",
       " 'pobre',\n",
       " 'lo',\n",
       " 'que',\n",
       " 'â',\n",
       " 'â',\n",
       " 'yo',\n",
       " 'no',\n",
       " 'â',\n",
       " 'â',\n",
       " 'lo',\n",
       " 'ya',\n",
       " 'mi',\n",
       " 'lo',\n",
       " 'ire',\n",
       " 'como',\n",
       " 'para',\n",
       " 'embarcarme',\n",
       " 'en',\n",
       " 'muy',\n",
       " 'para',\n",
       " 'mi',\n",
       " 'muy',\n",
       " 'buena',\n",
       " 'para',\n",
       " 'y',\n",
       " 'quiza',\n",
       " 'muy',\n",
       " 'ella',\n",
       " 'y',\n",
       " 'â',\n",
       " 'â',\n",
       " 'no',\n",
       " 'quiero',\n",
       " 'ninguna',\n",
       " 'no',\n",
       " 'â',\n",
       " 'pero',\n",
       " 'a',\n",
       " 'el',\n",
       " 'â',\n",
       " 'â',\n",
       " 'por',\n",
       " 'que',\n",
       " 'no',\n",
       " 'maã',\n",
       " 'ana',\n",
       " 'â',\n",
       " 'maã',\n",
       " 'ana',\n",
       " 'â',\n",
       " 'â',\n",
       " 'con',\n",
       " 'el',\n",
       " 'por',\n",
       " 'la',\n",
       " 'y',\n",
       " 'la',\n",
       " 'cerro',\n",
       " 'lo',\n",
       " 'que',\n",
       " 'llegar',\n",
       " 'a',\n",
       " 'parecer',\n",
       " 'al',\n",
       " 'fin',\n",
       " 'y',\n",
       " 'al',\n",
       " 'cabo',\n",
       " 'un',\n",
       " 'mago',\n",
       " 'un',\n",
       " 'mago',\n",
       " 'â',\n",
       " 'â',\n",
       " 'para',\n",
       " 'que',\n",
       " 'lo',\n",
       " 'al',\n",
       " 'â',\n",
       " 'bilbo',\n",
       " 'iba',\n",
       " 'la',\n",
       " 'acababa',\n",
       " 'muy',\n",
       " 'poco',\n",
       " 'pero',\n",
       " 'que',\n",
       " 'un',\n",
       " 'o',\n",
       " 'y',\n",
       " 'un',\n",
       " 'algo',\n",
       " 'le',\n",
       " 'bien',\n",
       " 'a',\n",
       " 'la',\n",
       " 'larga',\n",
       " 'y',\n",
       " 'al',\n",
       " 'cabo',\n",
       " 'un',\n",
       " 'y',\n",
       " 'con',\n",
       " 'la',\n",
       " 'un',\n",
       " 'o',\n",
       " 'en',\n",
       " 'la',\n",
       " 'luego',\n",
       " 'alejo',\n",
       " 'a',\n",
       " 'en',\n",
       " 'el',\n",
       " 'en',\n",
       " 'que',\n",
       " 'bilbo',\n",
       " 'ya',\n",
       " 'el',\n",
       " 'y',\n",
       " 'a',\n",
       " 'que',\n",
       " 'al',\n",
       " 'fin',\n",
       " 'cualquier',\n",
       " 'al',\n",
       " 'no',\n",
       " 'muy',\n",
       " 'bien',\n",
       " 'a',\n",
       " 'que',\n",
       " 'en',\n",
       " 'la',\n",
       " 'el',\n",
       " 'como',\n",
       " 'para',\n",
       " 'a',\n",
       " 'un',\n",
       " 'la',\n",
       " 'oyo',\n",
       " 'un',\n",
       " 'campanillazo',\n",
       " 'en',\n",
       " 'la',\n",
       " 'principal',\n",
       " 'â',\n",
       " 'y',\n",
       " 'y',\n",
       " 'la',\n",
       " ...]"
      ]
     },
     "execution_count": 43,
     "metadata": {},
     "output_type": "execute_result"
    }
   ],
   "source": [
    "wp.avoids('htdks')"
   ]
  },
  {
   "cell_type": "markdown",
   "id": "dutch-november",
   "metadata": {},
   "source": [
    "## Special Methods\n",
    "\n",
    "`__str__` and `__repr__`"
   ]
  },
  {
   "cell_type": "code",
   "execution_count": 44,
   "id": "charitable-medline",
   "metadata": {},
   "outputs": [],
   "source": [
    "class Circle:\n",
    "    \n",
    "    def __init__(self, radius):\n",
    "        self.set_radius(radius)\n",
    "        \n",
    "        \n",
    "    def area(self):\n",
    "        return math.pi * self._radius ** 2\n",
    "    \n",
    "    #radius property x-x-x-x-x-x-x-x-x-x-x-x-x-x-x-x-x-x-x-x-x-x-x-x-x-x-x-x-x-x-x-x-x-x-x-x-x-x-x-x-x-x-x-x-x\n",
    "    def get_radius(self):\n",
    "        return self._radius\n",
    "    \n",
    "    def set_radius(self, new_radius):\n",
    "        if isinstance(new_radius, (int, float)):\n",
    "            self._radius = new_radius\n",
    "            \n",
    "        else:\n",
    "            raise ValueError('The radius must be an int or float type')\n",
    "            \n",
    "    radius = property(fget = get_radius, fset = set_radius)"
   ]
  },
  {
   "cell_type": "code",
   "execution_count": 45,
   "id": "minimal-insert",
   "metadata": {},
   "outputs": [],
   "source": [
    "c = Circle(1)"
   ]
  },
  {
   "cell_type": "code",
   "execution_count": 46,
   "id": "numerous-christopher",
   "metadata": {},
   "outputs": [
    {
     "data": {
      "text/plain": [
       "<__main__.Circle at 0x20a8c0fa250>"
      ]
     },
     "execution_count": 46,
     "metadata": {},
     "output_type": "execute_result"
    }
   ],
   "source": [
    "c"
   ]
  },
  {
   "cell_type": "code",
   "execution_count": 47,
   "id": "limited-hearts",
   "metadata": {},
   "outputs": [
    {
     "data": {
      "text/plain": [
       "'<__main__.Circle object at 0x0000020A8C0FA250>'"
      ]
     },
     "execution_count": 47,
     "metadata": {},
     "output_type": "execute_result"
    }
   ],
   "source": [
    "str(c)"
   ]
  },
  {
   "cell_type": "code",
   "execution_count": 48,
   "id": "scheduled-bunch",
   "metadata": {},
   "outputs": [],
   "source": [
    "class Circle:\n",
    "    \n",
    "    def __init__(self, radius):\n",
    "        self.set_radius(radius)\n",
    "        \n",
    "        \n",
    "    def area(self):\n",
    "        return math.pi * self._radius ** 2\n",
    "    \n",
    "    #radius property x-x-x-x-x-x-x-x-x-x-x-x-x-x-x-x-x-x-x-x-x-x-x-x-x-x-x-x-x-x-x-x-x-x-x-x-x-x-x-x-x-x-x-x-x\n",
    "    def get_radius(self):\n",
    "        return self._radius\n",
    "    \n",
    "    def set_radius(self, new_radius):\n",
    "        if isinstance(new_radius, (int, float)) and new_radius > 0:\n",
    "            self._radius = new_radius\n",
    "            \n",
    "        else:\n",
    "            raise ValueError('The radius must be an int or float type non-negative')\n",
    "            \n",
    "    radius = property(fget = get_radius, fset = set_radius)\n",
    "    \n",
    "    #repr and str x-x-x-x-x-x-x-x-x-x-x-x-x-x-x-x-x-x-x-x-x-x-x-x-x-x-x-x-x-x-x-x-x-x-x-x-x-x-x-x-x-x-x-x-x-x-x\n",
    "    \n",
    "    def __repr__(self):\n",
    "        return 'Circle(radius = {})'.format(round(self.radius, 2))\n",
    "    \n",
    "    def __str__(self):\n",
    "        return '⚫ radius → {}'.format(round(self.radius, 2))"
   ]
  },
  {
   "cell_type": "code",
   "execution_count": 49,
   "id": "olive-interim",
   "metadata": {},
   "outputs": [],
   "source": [
    "c = Circle(1.2356)"
   ]
  },
  {
   "cell_type": "code",
   "execution_count": 50,
   "id": "broken-emission",
   "metadata": {},
   "outputs": [
    {
     "data": {
      "text/plain": [
       "Circle(radius = 1.24)"
      ]
     },
     "execution_count": 50,
     "metadata": {},
     "output_type": "execute_result"
    }
   ],
   "source": [
    "c"
   ]
  },
  {
   "cell_type": "code",
   "execution_count": 51,
   "id": "aware-wheat",
   "metadata": {},
   "outputs": [
    {
     "data": {
      "text/plain": [
       "'⚫ radius → 1.24'"
      ]
     },
     "execution_count": 51,
     "metadata": {},
     "output_type": "execute_result"
    }
   ],
   "source": [
    "str(c)"
   ]
  },
  {
   "cell_type": "code",
   "execution_count": 52,
   "id": "arbitrary-concert",
   "metadata": {},
   "outputs": [
    {
     "name": "stdout",
     "output_type": "stream",
     "text": [
      "⚫ radius → 1.24\n"
     ]
    }
   ],
   "source": [
    "print(c)"
   ]
  },
  {
   "cell_type": "code",
   "execution_count": 54,
   "id": "hairy-blackjack",
   "metadata": {},
   "outputs": [],
   "source": [
    "class Person:\n",
    "    \n",
    "    def __init__(self, name, age):\n",
    "        self.name = name\n",
    "        self.age  = age\n",
    "        \n",
    "    def __repr__(self):\n",
    "        return 'Person(name = {}, age = {})'.format(self.name, self.age)\n",
    "    \n",
    "    def __str__(self):\n",
    "        return self.name"
   ]
  },
  {
   "cell_type": "code",
   "execution_count": 55,
   "id": "finite-active",
   "metadata": {},
   "outputs": [],
   "source": [
    "dany = Person('Daniel', 25)"
   ]
  },
  {
   "cell_type": "code",
   "execution_count": 56,
   "id": "cosmetic-netherlands",
   "metadata": {},
   "outputs": [
    {
     "data": {
      "text/plain": [
       "Person(name = Daniel, age = 25)"
      ]
     },
     "execution_count": 56,
     "metadata": {},
     "output_type": "execute_result"
    }
   ],
   "source": [
    "dany"
   ]
  },
  {
   "cell_type": "code",
   "execution_count": 57,
   "id": "listed-passion",
   "metadata": {},
   "outputs": [
    {
     "name": "stdout",
     "output_type": "stream",
     "text": [
      "The person who are you looking for is Daniel\n"
     ]
    }
   ],
   "source": [
    "print('The person who are you looking for is {}'.format(dany))"
   ]
  },
  {
   "cell_type": "markdown",
   "id": "caring-lyric",
   "metadata": {},
   "source": [
    "**Arithmetic Operators**"
   ]
  },
  {
   "cell_type": "code",
   "execution_count": 58,
   "id": "economic-parade",
   "metadata": {},
   "outputs": [
    {
     "data": {
      "text/plain": [
       "11"
      ]
     },
     "execution_count": 58,
     "metadata": {},
     "output_type": "execute_result"
    }
   ],
   "source": [
    "5 + 6"
   ]
  },
  {
   "cell_type": "code",
   "execution_count": 59,
   "id": "hazardous-trigger",
   "metadata": {},
   "outputs": [
    {
     "data": {
      "text/plain": [
       "['__abs__',\n",
       " '__add__',\n",
       " '__and__',\n",
       " '__bool__',\n",
       " '__ceil__',\n",
       " '__class__',\n",
       " '__delattr__',\n",
       " '__dir__',\n",
       " '__divmod__',\n",
       " '__doc__',\n",
       " '__eq__',\n",
       " '__float__',\n",
       " '__floor__',\n",
       " '__floordiv__',\n",
       " '__format__',\n",
       " '__ge__',\n",
       " '__getattribute__',\n",
       " '__getnewargs__',\n",
       " '__gt__',\n",
       " '__hash__',\n",
       " '__index__',\n",
       " '__init__',\n",
       " '__init_subclass__',\n",
       " '__int__',\n",
       " '__invert__',\n",
       " '__le__',\n",
       " '__lshift__',\n",
       " '__lt__',\n",
       " '__mod__',\n",
       " '__mul__',\n",
       " '__ne__',\n",
       " '__neg__',\n",
       " '__new__',\n",
       " '__or__',\n",
       " '__pos__',\n",
       " '__pow__',\n",
       " '__radd__',\n",
       " '__rand__',\n",
       " '__rdivmod__',\n",
       " '__reduce__',\n",
       " '__reduce_ex__',\n",
       " '__repr__',\n",
       " '__rfloordiv__',\n",
       " '__rlshift__',\n",
       " '__rmod__',\n",
       " '__rmul__',\n",
       " '__ror__',\n",
       " '__round__',\n",
       " '__rpow__',\n",
       " '__rrshift__',\n",
       " '__rshift__',\n",
       " '__rsub__',\n",
       " '__rtruediv__',\n",
       " '__rxor__',\n",
       " '__setattr__',\n",
       " '__sizeof__',\n",
       " '__str__',\n",
       " '__sub__',\n",
       " '__subclasshook__',\n",
       " '__truediv__',\n",
       " '__trunc__',\n",
       " '__xor__',\n",
       " 'as_integer_ratio',\n",
       " 'bit_length',\n",
       " 'conjugate',\n",
       " 'denominator',\n",
       " 'from_bytes',\n",
       " 'imag',\n",
       " 'numerator',\n",
       " 'real',\n",
       " 'to_bytes']"
      ]
     },
     "execution_count": 59,
     "metadata": {},
     "output_type": "execute_result"
    }
   ],
   "source": [
    "dir(5)"
   ]
  },
  {
   "cell_type": "code",
   "execution_count": 60,
   "id": "governing-completion",
   "metadata": {},
   "outputs": [],
   "source": [
    "a = 5"
   ]
  },
  {
   "cell_type": "code",
   "execution_count": 61,
   "id": "under-suffering",
   "metadata": {},
   "outputs": [
    {
     "data": {
      "text/plain": [
       "11"
      ]
     },
     "execution_count": 61,
     "metadata": {},
     "output_type": "execute_result"
    }
   ],
   "source": [
    "a.__add__(6)"
   ]
  },
  {
   "cell_type": "markdown",
   "id": "liquid-radar",
   "metadata": {},
   "source": [
    "|Special Method|Arithmetic Operation|\n",
    "|:------------:|:------------------:|\n",
    "|`__add__`|+|\n",
    "|`__sub__`|-|\n",
    "|`__mul__`|* |\n",
    "|`__truediv__`|/|\n",
    "|`__floordiv__`|//|\n",
    "|`__mod__`|%|\n",
    "|`__pow__`|** |\n",
    "|`__abs__`|abs()|\n",
    "|`__len__`|len()|"
   ]
  },
  {
   "cell_type": "code",
   "execution_count": 63,
   "id": "developmental-prayer",
   "metadata": {},
   "outputs": [],
   "source": [
    "class Movie:\n",
    "    \n",
    "    def __init__(self, name, length, director):\n",
    "        self.name     = name\n",
    "        self.length   = length\n",
    "        self.director = director\n",
    "        \n",
    "    def __add__(self, other_movie):\n",
    "        if isinstance(other_movie, Movie):\n",
    "            print('The combined length of these movies is: {}'.format(self.length + other_movie.length))\n",
    "        else: \n",
    "            return NotImplemented"
   ]
  },
  {
   "cell_type": "code",
   "execution_count": 64,
   "id": "advised-pursuit",
   "metadata": {},
   "outputs": [],
   "source": [
    "lor1 = Movie('El señor de los anillos: el retorno del rey', 201, 'Peter Jackson')\n",
    "lor2 = Movie('El señor de los anillos: las dos torres', 172, 'Peter Jackson')"
   ]
  },
  {
   "cell_type": "code",
   "execution_count": 65,
   "id": "discrete-advocate",
   "metadata": {},
   "outputs": [
    {
     "name": "stdout",
     "output_type": "stream",
     "text": [
      "The combined length of these movies is: 373\n"
     ]
    }
   ],
   "source": [
    "lor1 + lor2"
   ]
  },
  {
   "cell_type": "code",
   "execution_count": 66,
   "id": "noble-newark",
   "metadata": {},
   "outputs": [
    {
     "ename": "TypeError",
     "evalue": "unsupported operand type(s) for +: 'Movie' and 'int'",
     "output_type": "error",
     "traceback": [
      "\u001b[1;31m---------------------------------------------------------------------------\u001b[0m",
      "\u001b[1;31mTypeError\u001b[0m                                 Traceback (most recent call last)",
      "\u001b[1;32m<ipython-input-66-757e37fa1e73>\u001b[0m in \u001b[0;36m<module>\u001b[1;34m\u001b[0m\n\u001b[1;32m----> 1\u001b[1;33m \u001b[0mlor1\u001b[0m \u001b[1;33m+\u001b[0m \u001b[1;36m1\u001b[0m\u001b[1;33m\u001b[0m\u001b[1;33m\u001b[0m\u001b[0m\n\u001b[0m",
      "\u001b[1;31mTypeError\u001b[0m: unsupported operand type(s) for +: 'Movie' and 'int'"
     ]
    }
   ],
   "source": [
    "lor1 + 1"
   ]
  },
  {
   "cell_type": "code",
   "execution_count": 67,
   "id": "offensive-network",
   "metadata": {},
   "outputs": [
    {
     "ename": "TypeError",
     "evalue": "unsupported operand type(s) for +: 'dict' and 'dict'",
     "output_type": "error",
     "traceback": [
      "\u001b[1;31m---------------------------------------------------------------------------\u001b[0m",
      "\u001b[1;31mTypeError\u001b[0m                                 Traceback (most recent call last)",
      "\u001b[1;32m<ipython-input-67-03eea6c7a00d>\u001b[0m in \u001b[0;36m<module>\u001b[1;34m\u001b[0m\n\u001b[1;32m----> 1\u001b[1;33m \u001b[1;33m{\u001b[0m\u001b[1;33m}\u001b[0m \u001b[1;33m+\u001b[0m \u001b[1;33m{\u001b[0m\u001b[1;33m}\u001b[0m\u001b[1;33m\u001b[0m\u001b[1;33m\u001b[0m\u001b[0m\n\u001b[0m",
      "\u001b[1;31mTypeError\u001b[0m: unsupported operand type(s) for +: 'dict' and 'dict'"
     ]
    }
   ],
   "source": [
    "{} + {}"
   ]
  },
  {
   "cell_type": "code",
   "execution_count": 68,
   "id": "exterior-congress",
   "metadata": {},
   "outputs": [],
   "source": [
    "class Movie:\n",
    "    \n",
    "    def __init__(self, name, length, director):\n",
    "        self.name     = name\n",
    "        self.length   = length\n",
    "        self.director = director\n",
    "        \n",
    "    def __add__(self, other_movie):\n",
    "        if isinstance(other_movie, Movie):\n",
    "            print('The combined length of these movies is: {}'.format(self.length + other_movie.length))\n",
    "        else: \n",
    "            return NotImplemented\n",
    "        \n",
    "    def __sub__(self, other_movie):\n",
    "        if isinstance(other_movie, Movie):\n",
    "            print('The difference length of these movies is: {}'.format(self.length - other_movie.length))\n",
    "        else: \n",
    "            return NotImplemented"
   ]
  },
  {
   "cell_type": "code",
   "execution_count": 70,
   "id": "municipal-emergency",
   "metadata": {},
   "outputs": [],
   "source": [
    "lor1 = Movie('El señor de los anillos: el retorno del rey', 201, 'Peter Jackson')\n",
    "lor2 = Movie('El señor de los anillos: las dos torres', 172, 'Peter Jackson')"
   ]
  },
  {
   "cell_type": "code",
   "execution_count": 71,
   "id": "extra-newspaper",
   "metadata": {},
   "outputs": [
    {
     "name": "stdout",
     "output_type": "stream",
     "text": [
      "The combined length of these movies is: 373\n"
     ]
    }
   ],
   "source": [
    "lor1 + lor2"
   ]
  },
  {
   "cell_type": "code",
   "execution_count": 72,
   "id": "little-precipitation",
   "metadata": {},
   "outputs": [
    {
     "name": "stdout",
     "output_type": "stream",
     "text": [
      "The difference length of these movies is: 29\n"
     ]
    }
   ],
   "source": [
    "lor1 - lor2"
   ]
  },
  {
   "cell_type": "code",
   "execution_count": 73,
   "id": "level-deposit",
   "metadata": {},
   "outputs": [
    {
     "name": "stdout",
     "output_type": "stream",
     "text": [
      "The difference length of these movies is: -29\n"
     ]
    }
   ],
   "source": [
    "lor2 - lor1"
   ]
  },
  {
   "cell_type": "code",
   "execution_count": 74,
   "id": "middle-exclusion",
   "metadata": {},
   "outputs": [
    {
     "ename": "TypeError",
     "evalue": "object of type 'Movie' has no len()",
     "output_type": "error",
     "traceback": [
      "\u001b[1;31m---------------------------------------------------------------------------\u001b[0m",
      "\u001b[1;31mTypeError\u001b[0m                                 Traceback (most recent call last)",
      "\u001b[1;32m<ipython-input-74-33901055e9f0>\u001b[0m in \u001b[0;36m<module>\u001b[1;34m\u001b[0m\n\u001b[1;32m----> 1\u001b[1;33m \u001b[0mlen\u001b[0m\u001b[1;33m(\u001b[0m\u001b[0mlor1\u001b[0m\u001b[1;33m)\u001b[0m\u001b[1;33m\u001b[0m\u001b[1;33m\u001b[0m\u001b[0m\n\u001b[0m",
      "\u001b[1;31mTypeError\u001b[0m: object of type 'Movie' has no len()"
     ]
    }
   ],
   "source": [
    "len(lor1)"
   ]
  },
  {
   "cell_type": "code",
   "execution_count": 75,
   "id": "boxed-seeking",
   "metadata": {},
   "outputs": [],
   "source": [
    "class Movie:\n",
    "    \n",
    "    def __init__(self, name, length, director):\n",
    "        self.name     = name\n",
    "        self.length   = length\n",
    "        self.director = director\n",
    "        \n",
    "    def __add__(self, other_movie):\n",
    "        if isinstance(other_movie, Movie):\n",
    "            print('The combined length of these movies is: {}'.format(self.length + other_movie.length))\n",
    "        else: \n",
    "            return NotImplemented\n",
    "        \n",
    "    def __sub__(self, other_movie):\n",
    "        if isinstance(other_movie, Movie):\n",
    "            print('The difference length of these movies is: {}'.format(self.length - other_movie.length))\n",
    "        else: \n",
    "            return NotImplemented\n",
    "        \n",
    "    def __len__(self):\n",
    "        return self.length"
   ]
  },
  {
   "cell_type": "code",
   "execution_count": 76,
   "id": "awful-queensland",
   "metadata": {},
   "outputs": [],
   "source": [
    "lor1 = Movie('El señor de los anillos: el retorno del rey', 201, 'Peter Jackson')"
   ]
  },
  {
   "cell_type": "code",
   "execution_count": 77,
   "id": "unexpected-hughes",
   "metadata": {},
   "outputs": [
    {
     "data": {
      "text/plain": [
       "201"
      ]
     },
     "execution_count": 77,
     "metadata": {},
     "output_type": "execute_result"
    }
   ],
   "source": [
    "len(lor1)"
   ]
  },
  {
   "cell_type": "code",
   "execution_count": 78,
   "id": "floating-pressure",
   "metadata": {},
   "outputs": [],
   "source": [
    "class Movie:\n",
    "    \n",
    "    def __init__(self, name, length, director):\n",
    "        self.name     = name\n",
    "        self.length   = length\n",
    "        self.director = director\n",
    "        \n",
    "    def __add__(self, other_movie):\n",
    "        if isinstance(other_movie, Movie):\n",
    "            print('The combined length of these movies is: {}'.format(self.length + other_movie.length))\n",
    "        else: \n",
    "            return NotImplemented\n",
    "        \n",
    "    def __sub__(self, other_movie):\n",
    "        if isinstance(other_movie, Movie):\n",
    "            print('The difference length of these movies is: {}'.format(self.length - other_movie.length))\n",
    "        else: \n",
    "            return NotImplemented\n",
    "        \n",
    "    def __len__(self):\n",
    "        return self.length\n",
    "    \n",
    "    def __mul__(self, an_int):\n",
    "        if isinstance(an_int, int) and an_int > 0:\n",
    "            msn = 'If you see this movie {} times you will spend {} minutes of you life'\n",
    "            print(msn.format(an_int, self.length * an_int))\n",
    "        else:\n",
    "            return NotImplemented"
   ]
  },
  {
   "cell_type": "code",
   "execution_count": 79,
   "id": "equivalent-dover",
   "metadata": {},
   "outputs": [],
   "source": [
    "lor1 = Movie('El señor de los anillos: el retorno del rey', 201, 'Peter Jackson')\n",
    "lor2 = Movie('El señor de los anillos: las dos torres', 172, 'Peter Jackson')"
   ]
  },
  {
   "cell_type": "code",
   "execution_count": 80,
   "id": "unable-november",
   "metadata": {},
   "outputs": [
    {
     "name": "stdout",
     "output_type": "stream",
     "text": [
      "If you see this movie 2 times you will spend 402 minutes of you life\n"
     ]
    }
   ],
   "source": [
    "lor1 * 2"
   ]
  },
  {
   "cell_type": "code",
   "execution_count": 81,
   "id": "collectible-attraction",
   "metadata": {},
   "outputs": [
    {
     "name": "stdout",
     "output_type": "stream",
     "text": [
      "If you see this movie 2 times you will spend 402 minutes of you life\n"
     ]
    }
   ],
   "source": [
    "lor1.__mul__(2)"
   ]
  },
  {
   "cell_type": "code",
   "execution_count": 82,
   "id": "generic-perception",
   "metadata": {},
   "outputs": [
    {
     "ename": "TypeError",
     "evalue": "unsupported operand type(s) for *: 'int' and 'Movie'",
     "output_type": "error",
     "traceback": [
      "\u001b[1;31m---------------------------------------------------------------------------\u001b[0m",
      "\u001b[1;31mTypeError\u001b[0m                                 Traceback (most recent call last)",
      "\u001b[1;32m<ipython-input-82-c8ba33a8b572>\u001b[0m in \u001b[0;36m<module>\u001b[1;34m\u001b[0m\n\u001b[1;32m----> 1\u001b[1;33m \u001b[1;36m2\u001b[0m \u001b[1;33m*\u001b[0m \u001b[0mlor1\u001b[0m\u001b[1;33m\u001b[0m\u001b[1;33m\u001b[0m\u001b[0m\n\u001b[0m",
      "\u001b[1;31mTypeError\u001b[0m: unsupported operand type(s) for *: 'int' and 'Movie'"
     ]
    }
   ],
   "source": [
    "2 * lor1"
   ]
  },
  {
   "cell_type": "code",
   "execution_count": 83,
   "id": "entitled-highland",
   "metadata": {},
   "outputs": [
    {
     "ename": "TypeError",
     "evalue": "unsupported operand type(s) for *: 'Movie' and 'int'",
     "output_type": "error",
     "traceback": [
      "\u001b[1;31m---------------------------------------------------------------------------\u001b[0m",
      "\u001b[1;31mTypeError\u001b[0m                                 Traceback (most recent call last)",
      "\u001b[1;32m<ipython-input-83-8043fd3282e4>\u001b[0m in \u001b[0;36m<module>\u001b[1;34m\u001b[0m\n\u001b[1;32m----> 1\u001b[1;33m \u001b[0mlor1\u001b[0m \u001b[1;33m*\u001b[0m \u001b[1;33m(\u001b[0m\u001b[1;33m-\u001b[0m\u001b[1;36m1\u001b[0m\u001b[1;33m)\u001b[0m\u001b[1;33m\u001b[0m\u001b[1;33m\u001b[0m\u001b[0m\n\u001b[0m",
      "\u001b[1;31mTypeError\u001b[0m: unsupported operand type(s) for *: 'Movie' and 'int'"
     ]
    }
   ],
   "source": [
    "lor1 * (-1)"
   ]
  },
  {
   "cell_type": "code",
   "execution_count": 84,
   "id": "metropolitan-participant",
   "metadata": {},
   "outputs": [],
   "source": [
    "class Movie:\n",
    "    \n",
    "    def __init__(self, name, length, director):\n",
    "        self.name     = name\n",
    "        self.length   = length\n",
    "        self.director = director\n",
    "        \n",
    "    def __add__(self, other_movie):\n",
    "        if isinstance(other_movie, Movie):\n",
    "            print('The combined length of these movies is: {}'.format(self.length + other_movie.length))\n",
    "        else: \n",
    "            return NotImplemented\n",
    "        \n",
    "    def __sub__(self, other_movie):\n",
    "        if isinstance(other_movie, Movie):\n",
    "            print('The difference length of these movies is: {}'.format(self.length - other_movie.length))\n",
    "        else: \n",
    "            return NotImplemented\n",
    "        \n",
    "    def __len__(self):\n",
    "        return self.length\n",
    "    \n",
    "    def __mul__(self, an_int):\n",
    "        if isinstance(an_int, int) and an_int > 0:\n",
    "            msn = 'If you see this movie {} times you will spend {} minutes of you life'\n",
    "            print(msn.format(an_int, self.length * an_int))\n",
    "        else:\n",
    "            return NotImplemented\n",
    "        \n",
    "    def __rmul__(self, an_int):\n",
    "        if isinstance(an_int, int) and an_int > 0:\n",
    "            msn = 'If you see this movie {} times you will spend {} minutes of you life'\n",
    "            print(msn.format(an_int, self.length * an_int))\n",
    "        else:\n",
    "            return NotImplemented"
   ]
  },
  {
   "cell_type": "code",
   "execution_count": 85,
   "id": "twelve-incentive",
   "metadata": {},
   "outputs": [],
   "source": [
    "lor1 = Movie('El señor de los anillos: el retorno del rey', 201, 'Peter Jackson')\n",
    "lor2 = Movie('El señor de los anillos: las dos torres', 172, 'Peter Jackson')"
   ]
  },
  {
   "cell_type": "code",
   "execution_count": 86,
   "id": "weighted-input",
   "metadata": {},
   "outputs": [
    {
     "name": "stdout",
     "output_type": "stream",
     "text": [
      "If you see this movie 3 times you will spend 603 minutes of you life\n"
     ]
    }
   ],
   "source": [
    "lor1 * 3"
   ]
  },
  {
   "cell_type": "code",
   "execution_count": 87,
   "id": "weekly-variation",
   "metadata": {},
   "outputs": [
    {
     "name": "stdout",
     "output_type": "stream",
     "text": [
      "If you see this movie 3 times you will spend 603 minutes of you life\n"
     ]
    }
   ],
   "source": [
    "3 * lor1"
   ]
  },
  {
   "cell_type": "markdown",
   "id": "dense-agriculture",
   "metadata": {},
   "source": [
    "**Rich Comparisons**\n",
    "\n",
    "\n",
    "|Special Method|Rich Comparison|\n",
    "|:------------:|:-------------:|\n",
    "|`__lt__`|<|\n",
    "|`__le__`|<=|\n",
    "|`__eq__`|==|\n",
    "|`__ne__`|!=|\n",
    "|`__gt__`|>|\n",
    "|`__ge__`|>=|"
   ]
  },
  {
   "cell_type": "code",
   "execution_count": 88,
   "id": "facial-information",
   "metadata": {},
   "outputs": [],
   "source": [
    "class Movie:\n",
    "    \n",
    "    def __init__(self, name, length, director):\n",
    "        self.name     = name\n",
    "        self.length   = length\n",
    "        self.director = director\n",
    "        \n",
    "    def __add__(self, other_movie):\n",
    "        if isinstance(other_movie, Movie):\n",
    "            print('The combined length of these movies is: {}'.format(self.length + other_movie.length))\n",
    "        else: \n",
    "            return NotImplemented\n",
    "        \n",
    "    def __sub__(self, other_movie):\n",
    "        if isinstance(other_movie, Movie):\n",
    "            print('The difference length of these movies is: {}'.format(self.length - other_movie.length))\n",
    "        else: \n",
    "            return NotImplemented\n",
    "        \n",
    "    def __len__(self):\n",
    "        return self.length\n",
    "    \n",
    "    def __mul__(self, an_int):\n",
    "        if isinstance(an_int, int) and an_int > 0:\n",
    "            msn = 'If you see this movie {} times you will spend {} minutes of you life'\n",
    "            print(msn.format(an_int, self.length * an_int))\n",
    "        else:\n",
    "            return NotImplemented\n",
    "        \n",
    "    def __rmul__(self, an_int):\n",
    "        if isinstance(an_int, int) and an_int > 0:\n",
    "            msn = 'If you see this movie {} times you will spend {} minutes of you life'\n",
    "            print(msn.format(an_int, self.length * an_int))\n",
    "        else:\n",
    "            return NotImplemented\n",
    "        \n",
    "    def __eq__(self, other):\n",
    "        if isinstance(other, Movie):\n",
    "            return self.name == other.name and self.length == other.length and self.director == other.director\n",
    "        else:\n",
    "            return NotImplemented\n",
    "        \n",
    "    def __gt__(self, other):\n",
    "        \n",
    "        if isinstance(other, Movie):\n",
    "            return self.length > other.length\n",
    "        else:\n",
    "            return NotImplemented"
   ]
  },
  {
   "cell_type": "code",
   "execution_count": 89,
   "id": "aerial-marsh",
   "metadata": {},
   "outputs": [],
   "source": [
    "lor1 = Movie('El señor de los anillos: el retorno del rey', 201, 'Peter Jackson')\n",
    "lor2 = Movie('El señor de los anillos: las dos torres', 172, 'Peter Jackson')"
   ]
  },
  {
   "cell_type": "code",
   "execution_count": 90,
   "id": "periodic-interval",
   "metadata": {},
   "outputs": [
    {
     "data": {
      "text/plain": [
       "False"
      ]
     },
     "execution_count": 90,
     "metadata": {},
     "output_type": "execute_result"
    }
   ],
   "source": [
    "lor1 == lor2"
   ]
  },
  {
   "cell_type": "code",
   "execution_count": 91,
   "id": "ordinary-berlin",
   "metadata": {},
   "outputs": [
    {
     "data": {
      "text/plain": [
       "True"
      ]
     },
     "execution_count": 91,
     "metadata": {},
     "output_type": "execute_result"
    }
   ],
   "source": [
    "lor1 == lor1"
   ]
  },
  {
   "cell_type": "code",
   "execution_count": 92,
   "id": "interested-decline",
   "metadata": {},
   "outputs": [
    {
     "data": {
      "text/plain": [
       "True"
      ]
     },
     "execution_count": 92,
     "metadata": {},
     "output_type": "execute_result"
    }
   ],
   "source": [
    "lor1 != lor2"
   ]
  },
  {
   "cell_type": "code",
   "execution_count": 93,
   "id": "desirable-notice",
   "metadata": {},
   "outputs": [
    {
     "data": {
      "text/plain": [
       "True"
      ]
     },
     "execution_count": 93,
     "metadata": {},
     "output_type": "execute_result"
    }
   ],
   "source": [
    "lor1 > lor2"
   ]
  },
  {
   "cell_type": "code",
   "execution_count": 94,
   "id": "separate-identification",
   "metadata": {},
   "outputs": [
    {
     "data": {
      "text/plain": [
       "False"
      ]
     },
     "execution_count": 94,
     "metadata": {},
     "output_type": "execute_result"
    }
   ],
   "source": [
    "lor1 < lor2"
   ]
  },
  {
   "cell_type": "markdown",
   "id": "collective-intelligence",
   "metadata": {},
   "source": [
    "**Exercise**\n",
    "\n",
    "Create a `class` called `Vector` and emulate the behaviour of a vector:\n",
    "\n",
    "- Make it for 3 dimensional vectors only\n",
    "- Use the `__repr__` method to give the vector a good representation\n",
    "- Define the sum of vectors (component by component)\n",
    "- Define the `*` operator like the scalar product of vectors\n",
    "\n",
    "$$\n",
    "\\begin{bmatrix}\n",
    "a_1, a_2, a_3\n",
    "\\end{bmatrix}\n",
    "\\cdot\n",
    "\\begin{bmatrix}\n",
    "b_1, b_2, b_3\n",
    "\\end{bmatrix}\n",
    "=\n",
    "a_1 b_1 + a_2 b_2 + a_3 b_3\n",
    "$$\n",
    "\n",
    "- Define the `*` operator for the case of Vector and any number\n",
    "- Define a property for the norm of the vector\n",
    "- Define a property for the dimension of the vector"
   ]
  },
  {
   "cell_type": "markdown",
   "id": "mineral-perry",
   "metadata": {},
   "source": [
    "<img src = 'porque-soy-barbaro.jpg'>"
   ]
  },
  {
   "cell_type": "code",
   "execution_count": 97,
   "id": "brief-salad",
   "metadata": {},
   "outputs": [
    {
     "name": "stdout",
     "output_type": "stream",
     "text": [
      "1 2 3 4 5 6 7\n"
     ]
    }
   ],
   "source": [
    "print(1, 2, 3, 4, 5, 6, 7)"
   ]
  },
  {
   "cell_type": "code",
   "execution_count": 98,
   "id": "future-spring",
   "metadata": {},
   "outputs": [],
   "source": [
    "def p(*arg):\n",
    "    return arg"
   ]
  },
  {
   "cell_type": "code",
   "execution_count": 99,
   "id": "lyric-inspector",
   "metadata": {},
   "outputs": [
    {
     "data": {
      "text/plain": [
       "(1,)"
      ]
     },
     "execution_count": 99,
     "metadata": {},
     "output_type": "execute_result"
    }
   ],
   "source": [
    "p(1)"
   ]
  },
  {
   "cell_type": "code",
   "execution_count": 102,
   "id": "further-vaccine",
   "metadata": {},
   "outputs": [
    {
     "data": {
      "text/plain": [
       "tuple"
      ]
     },
     "execution_count": 102,
     "metadata": {},
     "output_type": "execute_result"
    }
   ],
   "source": [
    "type((1,))"
   ]
  },
  {
   "cell_type": "code",
   "execution_count": 103,
   "id": "hidden-charles",
   "metadata": {},
   "outputs": [
    {
     "data": {
      "text/plain": [
       "(1, 2, 3, 4, 5, 6)"
      ]
     },
     "execution_count": 103,
     "metadata": {},
     "output_type": "execute_result"
    }
   ],
   "source": [
    "p(1, 2, 3, 4, 5, 6)"
   ]
  },
  {
   "cell_type": "code",
   "execution_count": 104,
   "id": "industrial-airfare",
   "metadata": {},
   "outputs": [],
   "source": [
    "a = (1, 2, 3, 4, 5)"
   ]
  },
  {
   "cell_type": "code",
   "execution_count": 105,
   "id": "exotic-amino",
   "metadata": {},
   "outputs": [
    {
     "name": "stdout",
     "output_type": "stream",
     "text": [
      "(1, 2, 3, 4, 5)\n"
     ]
    }
   ],
   "source": [
    "print(a)"
   ]
  },
  {
   "cell_type": "code",
   "execution_count": 106,
   "id": "compliant-anthony",
   "metadata": {},
   "outputs": [
    {
     "name": "stdout",
     "output_type": "stream",
     "text": [
      "1 2 3 4 5\n"
     ]
    }
   ],
   "source": [
    "print(*a)"
   ]
  },
  {
   "cell_type": "code",
   "execution_count": 107,
   "id": "patient-isaac",
   "metadata": {},
   "outputs": [
    {
     "name": "stdout",
     "output_type": "stream",
     "text": [
      "1 2 3 4 5\n"
     ]
    }
   ],
   "source": [
    "print(1, 2, 3, 4, 5)"
   ]
  },
  {
   "cell_type": "code",
   "execution_count": 118,
   "id": "talented-investigator",
   "metadata": {},
   "outputs": [],
   "source": [
    "class Vector:\n",
    "    \"\"\"\n",
    "    This class is used to represent a vector of arbitrary dimension\n",
    "    \n",
    "    ...\n",
    "    Attributes\n",
    "    ___________\n",
    "    components: tuple\n",
    "        The components of the vector, must be numeric\n",
    "    dimension: int\n",
    "        The number of the vector's components\n",
    "    norm: int >= 0\n",
    "        Is a measure of the length of the vector\n",
    "    \n",
    "    \"\"\"\n",
    "    def __init__(self, *components):\n",
    "        \n",
    "        for c in components:\n",
    "            if not isinstance(c, (int, float, complex)):\n",
    "                raise ValueError('The componets must be numeric')\n",
    "        \n",
    "        self._components = components\n",
    "        \n",
    "        self._dimension = len(self.components)\n",
    "        self._norm = sum([c ** 2 for c in self.components]) ** 0.5\n",
    "        \n",
    "    \n",
    "    #components property x-x-x-x-x-x-x-x-x-x-x-x-x-x-x-x-x-x-x-x-x-x-x-x-x-x-x-x-x-x-x-x-x-x-x-x-x-x-x-x-x-x-x-x-x\n",
    "    def get_components(self):\n",
    "        return self._components\n",
    "    \n",
    "    components = property(fget = get_components)\n",
    "    \n",
    "    #dimension property x-x-x-x-x-x-x-x-x-x-x-x-x-x-x-x-x-x-x-x-x-x-x-x-x-x-x-x-x-x-x-x-x-x-x-x-x-x-x-x-x-x-x-x-x-\n",
    "    def get_dimension(self):\n",
    "        return self._dimension\n",
    "    \n",
    "    dimension = property(fget = get_dimension, doc = 'The number of components of the vector')\n",
    "    \n",
    "    #norm property x-x-x-x-x-x-x-x-x-x-x-x-x-x-x-x-x-x-x-x-x-x-x-x-x-x-x-x-x-x-x-x-x-x-x-x-x-x-x-x-x-x-x-x-x-x-x-x\n",
    "    def get_norm(self):\n",
    "        return self._norm\n",
    "    \n",
    "    norm = property(fget = get_norm, doc = 'The length of the vector')\n",
    "    \n",
    "    #__repr__ method x-x-x-x-x-x-x-x-x-x-x-x-x-x-x-x-x-x-x-x-x-x-x-x-x-x-x-x-x-x-x-x-x-x-x-x-x-x-x-x-x-x-x-x-x-x-x-x\n",
    "    def __repr__(self):\n",
    "        r = '<' + '{}, ' * (self.dimension - 1) + '{}' + '>'\n",
    "        return r.format(*self.components)\n",
    "    \n",
    "    #__len__ method x-x-x-x-x-x-x-x-x-x-x-x-x-x-x-x-x-x-x-x-x-x-x-x-x-x-x-x-x-x-x-x-x-x-x-x-x-x-x-x-x-x-x-x-x-x-x-x\n",
    "    def __len__(self):\n",
    "        return self.dimension\n",
    "    \n",
    "    #__add__ method x-x-x-x-x-x-x-x-x-x-x-x-x-x-x-x-x-x-x-x-x-x-x-x-x-x-x-x-x-x-x-x-x-x-x-x-x-x-x-x-x-x-x-x-x-x-x-x\n",
    "    def __add__(self, other):\n",
    "        if isinstance(other, Vector) and self.dimension == other.dimension:\n",
    "            c = []\n",
    "            for i in range(self.dimension):\n",
    "                c.append(self.components[i] + other.components[i])\n",
    "                \n",
    "            return Vector(*c)\n",
    "        \n",
    "        elif isinstance(other, Vector) and self.dimension != other.dimension:\n",
    "            msn = 'Vectors must have the same dimension to be added: dim({}) + dim({})'\n",
    "            raise ValueError(msn.format(self.dimension, other.dimension))\n",
    "    \n",
    "        else:\n",
    "            return NotImplemented\n",
    "        \n",
    "        \n",
    "    #__mul__ method x-x-x-x-x-x-x-x-x-x-x-x-x-x-x-x-x-x-x-x-x-x-x-x-x-x-x-x-x-x-x-x-x-x-x-x-x-x-x-x-x-x-x-x-x-x-x-x\n",
    "    def __mul__(self, other):\n",
    "        if isinstance(other, Vector) and self.dimension == other.dimension:\n",
    "            p = 0\n",
    "            for i in range(self.dimension):\n",
    "                p += self.components[i] * other.components[i]\n",
    "                \n",
    "            return p\n",
    "        \n",
    "        elif isinstance(other, Vector) and self.dimension != other.dimension:\n",
    "            msn = 'Vectors must have the same dimension to scalar product: dim({}) * dim({})'\n",
    "            raise ValueError(msn.format(self.dimension, other.dimension))\n",
    "    \n",
    "        elif isinstance(other, (int, float, complex)):\n",
    "            c = []\n",
    "            for comp in self.components:\n",
    "                c.append(comp * other)\n",
    "            \n",
    "            return Vector(*c)\n",
    "        \n",
    "        else:\n",
    "            return NotImplemented\n",
    "        \n",
    "        \n",
    "    #__rmul__ method x-x-x-x-x-x-x-x-x-x-x-x-x-x-x-x-x-x-x-x-x-x-x-x-x-x-x-x-x-x-x-x-x-x-x-x-x-x-x-x-x-x-x-x-x-x-x-x\n",
    "    def __rmul__(self, other):\n",
    "        if isinstance(other, Vector) and self.dimension == other.dimension:\n",
    "            p = 0\n",
    "            for i in range(self.dimension):\n",
    "                p += self.components[i] * other.components[i]\n",
    "                \n",
    "            return p\n",
    "        \n",
    "        elif isinstance(other, Vector) and self.dimension != other.dimension:\n",
    "            msn = 'Vectors must have the same dimension to scalar product: dim({}) + dim({})'\n",
    "            raise ValueError(msn.format(self.dimension, other.dimension))\n",
    "    \n",
    "        elif isinstance(other, (int, float, complex)):\n",
    "            c = []\n",
    "            for comp in self.components:\n",
    "                c.append(comp * other)\n",
    "            \n",
    "            return Vector(*c)\n",
    "        \n",
    "        else:\n",
    "            return NotImplemented"
   ]
  },
  {
   "cell_type": "code",
   "execution_count": 119,
   "id": "lonely-karma",
   "metadata": {},
   "outputs": [],
   "source": [
    "vec = Vector(1, 2, 3, 4, 5)"
   ]
  },
  {
   "cell_type": "code",
   "execution_count": 120,
   "id": "packed-preparation",
   "metadata": {},
   "outputs": [
    {
     "data": {
      "text/plain": [
       "<1, 2, 3, 4, 5>"
      ]
     },
     "execution_count": 120,
     "metadata": {},
     "output_type": "execute_result"
    }
   ],
   "source": [
    "vec"
   ]
  },
  {
   "cell_type": "code",
   "execution_count": 121,
   "id": "intimate-cooking",
   "metadata": {},
   "outputs": [
    {
     "data": {
      "text/plain": [
       "(1, 2, 3, 4, 5)"
      ]
     },
     "execution_count": 121,
     "metadata": {},
     "output_type": "execute_result"
    }
   ],
   "source": [
    "vec.components"
   ]
  },
  {
   "cell_type": "code",
   "execution_count": 122,
   "id": "wired-rental",
   "metadata": {},
   "outputs": [
    {
     "data": {
      "text/plain": [
       "7.416198487095663"
      ]
     },
     "execution_count": 122,
     "metadata": {},
     "output_type": "execute_result"
    }
   ],
   "source": [
    "vec.norm"
   ]
  },
  {
   "cell_type": "code",
   "execution_count": 123,
   "id": "spiritual-yellow",
   "metadata": {},
   "outputs": [
    {
     "data": {
      "text/plain": [
       "5"
      ]
     },
     "execution_count": 123,
     "metadata": {},
     "output_type": "execute_result"
    }
   ],
   "source": [
    "vec.dimension"
   ]
  },
  {
   "cell_type": "code",
   "execution_count": 124,
   "id": "absent-liechtenstein",
   "metadata": {},
   "outputs": [],
   "source": [
    "vec2 = Vector(5, 4, 3, 2, 1)"
   ]
  },
  {
   "cell_type": "code",
   "execution_count": 125,
   "id": "rural-boring",
   "metadata": {},
   "outputs": [],
   "source": [
    "vec3 = vec + vec2"
   ]
  },
  {
   "cell_type": "code",
   "execution_count": 126,
   "id": "eight-teacher",
   "metadata": {},
   "outputs": [
    {
     "data": {
      "text/plain": [
       "<6, 6, 6, 6, 6>"
      ]
     },
     "execution_count": 126,
     "metadata": {},
     "output_type": "execute_result"
    }
   ],
   "source": [
    "vec3"
   ]
  },
  {
   "cell_type": "code",
   "execution_count": 127,
   "id": "horizontal-former",
   "metadata": {},
   "outputs": [
    {
     "data": {
      "text/plain": [
       "<6, 6, 6, 6, 6>"
      ]
     },
     "execution_count": 127,
     "metadata": {},
     "output_type": "execute_result"
    }
   ],
   "source": [
    "vec2 + vec"
   ]
  },
  {
   "cell_type": "code",
   "execution_count": 128,
   "id": "advanced-crime",
   "metadata": {},
   "outputs": [],
   "source": [
    "vec3 = Vector(1, 2, 3, 4)"
   ]
  },
  {
   "cell_type": "code",
   "execution_count": 129,
   "id": "micro-cyprus",
   "metadata": {},
   "outputs": [
    {
     "data": {
      "text/plain": [
       "4"
      ]
     },
     "execution_count": 129,
     "metadata": {},
     "output_type": "execute_result"
    }
   ],
   "source": [
    "vec3.dimension"
   ]
  },
  {
   "cell_type": "code",
   "execution_count": 130,
   "id": "favorite-disaster",
   "metadata": {},
   "outputs": [
    {
     "ename": "ValueError",
     "evalue": "Vectors must have the same dimension to be added: dim(5) + dim(4)",
     "output_type": "error",
     "traceback": [
      "\u001b[1;31m---------------------------------------------------------------------------\u001b[0m",
      "\u001b[1;31mValueError\u001b[0m                                Traceback (most recent call last)",
      "\u001b[1;32m<ipython-input-130-cc2ee6ef335e>\u001b[0m in \u001b[0;36m<module>\u001b[1;34m\u001b[0m\n\u001b[1;32m----> 1\u001b[1;33m \u001b[0mvec2\u001b[0m \u001b[1;33m+\u001b[0m \u001b[0mvec3\u001b[0m\u001b[1;33m\u001b[0m\u001b[1;33m\u001b[0m\u001b[0m\n\u001b[0m",
      "\u001b[1;32m<ipython-input-118-12c4c33b54b0>\u001b[0m in \u001b[0;36m__add__\u001b[1;34m(self, other)\u001b[0m\n\u001b[0;32m     64\u001b[0m         \u001b[1;32melif\u001b[0m \u001b[0misinstance\u001b[0m\u001b[1;33m(\u001b[0m\u001b[0mother\u001b[0m\u001b[1;33m,\u001b[0m \u001b[0mVector\u001b[0m\u001b[1;33m)\u001b[0m \u001b[1;32mand\u001b[0m \u001b[0mself\u001b[0m\u001b[1;33m.\u001b[0m\u001b[0mdimension\u001b[0m \u001b[1;33m!=\u001b[0m \u001b[0mother\u001b[0m\u001b[1;33m.\u001b[0m\u001b[0mdimension\u001b[0m\u001b[1;33m:\u001b[0m\u001b[1;33m\u001b[0m\u001b[1;33m\u001b[0m\u001b[0m\n\u001b[0;32m     65\u001b[0m             \u001b[0mmsn\u001b[0m \u001b[1;33m=\u001b[0m \u001b[1;34m'Vectors must have the same dimension to be added: dim({}) + dim({})'\u001b[0m\u001b[1;33m\u001b[0m\u001b[1;33m\u001b[0m\u001b[0m\n\u001b[1;32m---> 66\u001b[1;33m             \u001b[1;32mraise\u001b[0m \u001b[0mValueError\u001b[0m\u001b[1;33m(\u001b[0m\u001b[0mmsn\u001b[0m\u001b[1;33m.\u001b[0m\u001b[0mformat\u001b[0m\u001b[1;33m(\u001b[0m\u001b[0mself\u001b[0m\u001b[1;33m.\u001b[0m\u001b[0mdimension\u001b[0m\u001b[1;33m,\u001b[0m \u001b[0mother\u001b[0m\u001b[1;33m.\u001b[0m\u001b[0mdimension\u001b[0m\u001b[1;33m)\u001b[0m\u001b[1;33m)\u001b[0m\u001b[1;33m\u001b[0m\u001b[1;33m\u001b[0m\u001b[0m\n\u001b[0m\u001b[0;32m     67\u001b[0m \u001b[1;33m\u001b[0m\u001b[0m\n\u001b[0;32m     68\u001b[0m         \u001b[1;32melse\u001b[0m\u001b[1;33m:\u001b[0m\u001b[1;33m\u001b[0m\u001b[1;33m\u001b[0m\u001b[0m\n",
      "\u001b[1;31mValueError\u001b[0m: Vectors must have the same dimension to be added: dim(5) + dim(4)"
     ]
    }
   ],
   "source": [
    "vec2 + vec3"
   ]
  },
  {
   "cell_type": "code",
   "execution_count": 131,
   "id": "extraordinary-sword",
   "metadata": {},
   "outputs": [
    {
     "ename": "TypeError",
     "evalue": "unsupported operand type(s) for +: 'Vector' and 'str'",
     "output_type": "error",
     "traceback": [
      "\u001b[1;31m---------------------------------------------------------------------------\u001b[0m",
      "\u001b[1;31mTypeError\u001b[0m                                 Traceback (most recent call last)",
      "\u001b[1;32m<ipython-input-131-8f4b461c78d4>\u001b[0m in \u001b[0;36m<module>\u001b[1;34m\u001b[0m\n\u001b[1;32m----> 1\u001b[1;33m \u001b[0mvec2\u001b[0m \u001b[1;33m+\u001b[0m \u001b[1;34m'a'\u001b[0m\u001b[1;33m\u001b[0m\u001b[1;33m\u001b[0m\u001b[0m\n\u001b[0m",
      "\u001b[1;31mTypeError\u001b[0m: unsupported operand type(s) for +: 'Vector' and 'str'"
     ]
    }
   ],
   "source": [
    "vec2 + 'a'"
   ]
  },
  {
   "cell_type": "code",
   "execution_count": 132,
   "id": "romantic-worcester",
   "metadata": {},
   "outputs": [
    {
     "data": {
      "text/plain": [
       "35"
      ]
     },
     "execution_count": 132,
     "metadata": {},
     "output_type": "execute_result"
    }
   ],
   "source": [
    "vec * vec2"
   ]
  },
  {
   "cell_type": "code",
   "execution_count": 133,
   "id": "artistic-jimmy",
   "metadata": {},
   "outputs": [
    {
     "ename": "ValueError",
     "evalue": "Vectors must have the same dimension to scalar product: dim(5) * dim(4)",
     "output_type": "error",
     "traceback": [
      "\u001b[1;31m---------------------------------------------------------------------------\u001b[0m",
      "\u001b[1;31mValueError\u001b[0m                                Traceback (most recent call last)",
      "\u001b[1;32m<ipython-input-133-a72d7acada75>\u001b[0m in \u001b[0;36m<module>\u001b[1;34m\u001b[0m\n\u001b[1;32m----> 1\u001b[1;33m \u001b[0mvec\u001b[0m \u001b[1;33m*\u001b[0m \u001b[0mvec3\u001b[0m\u001b[1;33m\u001b[0m\u001b[1;33m\u001b[0m\u001b[0m\n\u001b[0m",
      "\u001b[1;32m<ipython-input-118-12c4c33b54b0>\u001b[0m in \u001b[0;36m__mul__\u001b[1;34m(self, other)\u001b[0m\n\u001b[0;32m     81\u001b[0m         \u001b[1;32melif\u001b[0m \u001b[0misinstance\u001b[0m\u001b[1;33m(\u001b[0m\u001b[0mother\u001b[0m\u001b[1;33m,\u001b[0m \u001b[0mVector\u001b[0m\u001b[1;33m)\u001b[0m \u001b[1;32mand\u001b[0m \u001b[0mself\u001b[0m\u001b[1;33m.\u001b[0m\u001b[0mdimension\u001b[0m \u001b[1;33m!=\u001b[0m \u001b[0mother\u001b[0m\u001b[1;33m.\u001b[0m\u001b[0mdimension\u001b[0m\u001b[1;33m:\u001b[0m\u001b[1;33m\u001b[0m\u001b[1;33m\u001b[0m\u001b[0m\n\u001b[0;32m     82\u001b[0m             \u001b[0mmsn\u001b[0m \u001b[1;33m=\u001b[0m \u001b[1;34m'Vectors must have the same dimension to scalar product: dim({}) * dim({})'\u001b[0m\u001b[1;33m\u001b[0m\u001b[1;33m\u001b[0m\u001b[0m\n\u001b[1;32m---> 83\u001b[1;33m             \u001b[1;32mraise\u001b[0m \u001b[0mValueError\u001b[0m\u001b[1;33m(\u001b[0m\u001b[0mmsn\u001b[0m\u001b[1;33m.\u001b[0m\u001b[0mformat\u001b[0m\u001b[1;33m(\u001b[0m\u001b[0mself\u001b[0m\u001b[1;33m.\u001b[0m\u001b[0mdimension\u001b[0m\u001b[1;33m,\u001b[0m \u001b[0mother\u001b[0m\u001b[1;33m.\u001b[0m\u001b[0mdimension\u001b[0m\u001b[1;33m)\u001b[0m\u001b[1;33m)\u001b[0m\u001b[1;33m\u001b[0m\u001b[1;33m\u001b[0m\u001b[0m\n\u001b[0m\u001b[0;32m     84\u001b[0m \u001b[1;33m\u001b[0m\u001b[0m\n\u001b[0;32m     85\u001b[0m         \u001b[1;32melif\u001b[0m \u001b[0misinstance\u001b[0m\u001b[1;33m(\u001b[0m\u001b[0mother\u001b[0m\u001b[1;33m,\u001b[0m \u001b[1;33m(\u001b[0m\u001b[0mint\u001b[0m\u001b[1;33m,\u001b[0m \u001b[0mfloat\u001b[0m\u001b[1;33m,\u001b[0m \u001b[0mcomplex\u001b[0m\u001b[1;33m)\u001b[0m\u001b[1;33m)\u001b[0m\u001b[1;33m:\u001b[0m\u001b[1;33m\u001b[0m\u001b[1;33m\u001b[0m\u001b[0m\n",
      "\u001b[1;31mValueError\u001b[0m: Vectors must have the same dimension to scalar product: dim(5) * dim(4)"
     ]
    }
   ],
   "source": [
    "vec * vec3"
   ]
  },
  {
   "cell_type": "code",
   "execution_count": 134,
   "id": "eight-inside",
   "metadata": {},
   "outputs": [
    {
     "data": {
      "text/plain": [
       "<3, 6, 9, 12, 15>"
      ]
     },
     "execution_count": 134,
     "metadata": {},
     "output_type": "execute_result"
    }
   ],
   "source": [
    "vec * 3"
   ]
  },
  {
   "cell_type": "code",
   "execution_count": 135,
   "id": "alleged-following",
   "metadata": {},
   "outputs": [
    {
     "data": {
      "text/plain": [
       "<3, 6, 9, 12, 15>"
      ]
     },
     "execution_count": 135,
     "metadata": {},
     "output_type": "execute_result"
    }
   ],
   "source": [
    "3 * vec"
   ]
  },
  {
   "cell_type": "code",
   "execution_count": 136,
   "id": "revolutionary-cincinnati",
   "metadata": {},
   "outputs": [
    {
     "data": {
      "text/plain": [
       "<(3+5j), (6+10j), (9+15j), (12+20j), (15+25j)>"
      ]
     },
     "execution_count": 136,
     "metadata": {},
     "output_type": "execute_result"
    }
   ],
   "source": [
    "vec * (3 + 5j)"
   ]
  },
  {
   "cell_type": "markdown",
   "id": "reasonable-regulation",
   "metadata": {},
   "source": [
    "## Netflix Example"
   ]
  },
  {
   "cell_type": "code",
   "execution_count": 137,
   "id": "thousand-desert",
   "metadata": {},
   "outputs": [],
   "source": [
    "class DebitCard:\n",
    "    \"\"\"\n",
    "    A class used to represent a debit card\n",
    "    \n",
    "    ...\n",
    "    Attributes\n",
    "    ----------\n",
    "    account : int\n",
    "        The account number of the card\n",
    "    card : int\n",
    "        The card number\n",
    "        \n",
    "    \"\"\"\n",
    "    \n",
    "    def __init__(self, account: int, card: int, balance: int):\n",
    "        \n",
    "        if isinstance(account, int) and len(str(account)) == 8:\n",
    "            self._account = account\n",
    "        else:\n",
    "            raise ValueError('The account number must be an 8-digit integer.')\n",
    "        \n",
    "        self.card  = card\n",
    "        self.balance = balance\n",
    "    \n",
    "    #account property x-x-x-x-x-x-x-x-x-x-x-x-x-x-x-x-x-x-x-x-x-x-x-x-x-x-x-x-x-x-x-x-x-x-x-x-x-x-x-x-x-x-x-x-x-x-x\n",
    "    def get_account(self):\n",
    "        return self._account\n",
    "    \n",
    "    account = property(fget = get_account, doc = 'The account number')\n",
    "    \n",
    "    \n",
    "    #card property x-x-x-x-x-x-x-x-x-x-x-x-x-x-x-x-x-x-x-x-x-x-x-x-x-x-x-x-x-x-x-x-x-x-x-x-x-x-x-x-x-x-x-x-x-x-x-x\n",
    "    def get_card(self):\n",
    "        return self._card\n",
    "    \n",
    "    def set_card(self, card: int):\n",
    "        if isinstance(card, int) and len(str(card)) == 16:\n",
    "            self._card = card\n",
    "            \n",
    "        else:\n",
    "            raise ValueError('The card number must be an 16-digit integer.')\n",
    "            \n",
    "    card = property(fget = get_card, fset = set_card, doc = 'The card number')\n",
    "\n",
    "    \n",
    "    #balance property x-x-x-x-x-x-x-x-x-x-x-x-x-x-x-x-x-x-x-x-x-x-x-x-x-x-x-x-x-x-x-x-x-x-x-x-x-x-x-x-x-x-x-x-x-x-x-x\n",
    "    def get_balance(self):\n",
    "        return self._balance\n",
    "    \n",
    "    def set_balance(self, balance: int):\n",
    "        if isinstance(balance, (int, float)):\n",
    "            self._balance = balance\n",
    "            \n",
    "        else:\n",
    "            raise ValueError('The card number must be an 16-digit integer.')\n",
    "            \n",
    "    balance = property(fget = get_balance, fset = set_balance)\n",
    "    \n",
    "    #Deposit x-x-x-x-x-x-x-x-x-x-x-x-x-x-x-x-x-x-x-x-x-x-x-x-x-x-x-x-x-x-x-x-x-x-x-x-x-x-x-x-x-x-x-x-x-x-x-x\n",
    "    def deposit(self, money):\n",
    "        if isinstance(money, (int, float)) and money > 0:\n",
    "            self.balance += money\n",
    "        else:\n",
    "            raise ValueError('Cannot do this deposit')\n",
    "            \n",
    "    #bank_withdrawal x-x-x-x-x-x-x-x-x-x-x-x-x-x-x-x-x-x-x-x-x-x-x-x-x-x-x-x-x-x-x-x-x-x-x-x-x-x-x-x-x-x-x-x-x-x-x-x\n",
    "    def bank_withdrawal(self, cost):\n",
    "        if isinstance(cost, (int, float)) and cost > 0 and self.balance > cost:\n",
    "            self.balance -= cost\n",
    "        else:\n",
    "            raise ValueError('Declined card')"
   ]
  },
  {
   "cell_type": "code",
   "execution_count": 138,
   "id": "obvious-george",
   "metadata": {},
   "outputs": [],
   "source": [
    "class Movie:\n",
    "\n",
    "    def __init__(self, name, length, director):\n",
    "        self.name     = name\n",
    "        self.length   = length\n",
    "        self.director = director\n",
    "        \n",
    "    def __add__(self, other_movie):\n",
    "        if isinstance(other_movie, Movie):\n",
    "            print('The combined length of these movies is: {}'.format(self.length + other_movie.length))\n",
    "        else: \n",
    "            return NotImplemented\n",
    "        \n",
    "    def __sub__(self, other_movie):\n",
    "        if isinstance(other_movie, Movie):\n",
    "            print('The difference length of these movies is: {}'.format(self.length - other_movie.length))\n",
    "        else: \n",
    "            return NotImplemented\n",
    "        \n",
    "    def __len__(self):\n",
    "        return self.length\n",
    "    \n",
    "    def __mul__(self, an_int):\n",
    "        if isinstance(an_int, int) and an_int > 0:\n",
    "            msn = 'If you see this movie {} times you will spend {} minutes of you life'\n",
    "            print(msn.format(an_int, self.length * an_int))\n",
    "        else:\n",
    "            return NotImplemented\n",
    "        \n",
    "    def __rmul__(self, an_int):\n",
    "        if isinstance(an_int, int) and an_int > 0:\n",
    "            msn = 'If you see this movie {} times you will spend {} minutes of you life'\n",
    "            print(msn.format(an_int, self.length * an_int))\n",
    "        else:\n",
    "            return NotImplemented\n",
    "        \n",
    "    def __eq__(self, other):\n",
    "        if isinstance(other, Movie):\n",
    "            return self.name == other.name and self.length == other.length and self.director == other.director\n",
    "        else:\n",
    "            return NotImplemented\n",
    "        \n",
    "    def __gt__(self, other):\n",
    "        \n",
    "        if isinstance(other, Movie):\n",
    "            return self.length > other.length\n",
    "        else:\n",
    "            return NotImplemented"
   ]
  },
  {
   "cell_type": "code",
   "execution_count": 140,
   "id": "computational-croatia",
   "metadata": {},
   "outputs": [],
   "source": [
    "class Person:\n",
    "    \"\"\"\n",
    "    A class used to represent a person with a netflix account\n",
    "    \n",
    "    ...\n",
    "    Attributes\n",
    "    ----------\n",
    "    name: str\n",
    "        The name of the person\n",
    "    \n",
    "    age: int\n",
    "        The age of the person\n",
    "    \n",
    "    netflix_account : Netflix\n",
    "        The account\n",
    "    \n",
    "    card : DebitCard\n",
    "        The card of the person \n",
    "        \n",
    "        \n",
    "    Methods\n",
    "    -------\n",
    "    \n",
    "    log_in:\n",
    "        log in in Netflix\n",
    "        \n",
    "    see_movie:\n",
    "        See a monie in Netflix account \n",
    "    \"\"\"\n",
    "\n",
    "        \n",
    "    def __init__(self, name, age, card, netflix_account = None):\n",
    "        self.name = name\n",
    "        self.age  = age\n",
    "        self.card = card\n",
    "        self._netflix_account = netflix_account\n",
    "\n",
    "\n",
    "    #name property__________________________________________________________________________________________\n",
    "    def get_name(self):\n",
    "        return self._name\n",
    "\n",
    "    def set_name(self, new_name):\n",
    "        if isinstance(new_name, str) and len(new_name) > 3:\n",
    "            self._name = new_name\n",
    "\n",
    "        else:\n",
    "            raise ValueError('Invalid name')\n",
    "\n",
    "    name = property(fget = get_name, fset = set_name)\n",
    "\n",
    "    #age property__________________________________________________________________________________________\n",
    "    def get_age(self):\n",
    "        return self._age\n",
    "\n",
    "    def set_age(self, new_age):\n",
    "        if isinstance(new_age, int) and new_age > 0:\n",
    "            self._age = new_age\n",
    "\n",
    "        else:\n",
    "            raise ValueError('Invalid age')\n",
    "\n",
    "    age = property(fget = get_age, fset = set_age)\n",
    "\n",
    "\n",
    "    #card property__________________________________________________________________________________________\n",
    "    def get_card(self):\n",
    "        return self._card\n",
    "\n",
    "    def set_card(self, new_card):\n",
    "        if isinstance(new_card, DebitCard):\n",
    "            self._card = new_card\n",
    "\n",
    "        else:\n",
    "            raise ValueError('Invalid card')\n",
    "\n",
    "    card = property(fget = get_card, fset = set_card)\n",
    "\n",
    "\n",
    "    #netflix_account property__________________________________________________________________________________________\n",
    "    def get_netflix_account(self):\n",
    "        return self._netflix_account\n",
    "\n",
    "    def set_netflix_account(self, new_netflix_account):\n",
    "        if isinstance(new_netflix_account, Netflix):\n",
    "            self._netflix_account = new_netflix_account\n",
    "\n",
    "        else:\n",
    "            raise ValueError('Invalid account')\n",
    "\n",
    "    netflix_account = property(fget = get_netflix_account, fset = set_netflix_account)\n",
    "\n",
    "    #Conect to Netflix____________________________________________________________________________________________________\n",
    "\n",
    "    def log_in(self):\n",
    "        self.netflix_account.log_in()\n",
    "\n",
    "\n",
    "\n",
    "    def see_movie(self):\n",
    "        self.netflix_account.catalogue()"
   ]
  },
  {
   "cell_type": "code",
   "execution_count": 141,
   "id": "vocal-decimal",
   "metadata": {},
   "outputs": [],
   "source": [
    "class Netflix:\n",
    "    movies = [Movie('El Señor de los Anillos: La Comunidad del Anillo', 178, 'Peter Jackson'),\n",
    "              Movie('El Señor de los Anillos: Las dos Torres', 172, 'Peter Jackson'),\n",
    "              Movie('El Señor de los Anillos: El Retorno del Rey', 201, 'Peter Jackson'),\n",
    "              Movie('Jurassic Park', 127, 'Steven Spielberg'),\n",
    "              Movie('Django Unchained', 170, 'Quentin Tarantino')]\n",
    "    \n",
    "    def __init__(self, user, password):\n",
    "        self.user = user\n",
    "        self.card = user.card\n",
    "        self._password = password\n",
    "        \n",
    "        self.active  = False\n",
    "        self.on_line = False\n",
    "        \n",
    "        self.pay()\n",
    "        \n",
    "        if self.active:\n",
    "            self._on_line = True\n",
    "        \n",
    "        \n",
    "    \n",
    "    #active property___________________________________________________________________________________________________\n",
    "    def get_active(self):\n",
    "        return self._active\n",
    "    \n",
    "    def set_active(self, new_value):\n",
    "        if isinstance(new_value, bool) and new_value:\n",
    "            self.pay()\n",
    "            \n",
    "        elif isinstance(new_value, bool) and not new_value:\n",
    "            self._active = False\n",
    "            \n",
    "        else:\n",
    "            raise ValueError('Invalid Value')\n",
    "            \n",
    "    active = property(fget = get_active, fset = set_active)\n",
    "    \n",
    "    #on_line property___________________________________________________________________________________________________\n",
    "    def get_on_line(self):\n",
    "        return self._on_line\n",
    "    \n",
    "    def set_on_line(self, new_value):\n",
    "        if isinstance(new_value, bool) and new_value:\n",
    "            self.log_in()\n",
    "            \n",
    "        elif isinstance(new_value, bool) and not new_value:\n",
    "            self.log_out()\n",
    "            \n",
    "        else:\n",
    "            raise ValueError('Invalid Value')\n",
    "            \n",
    "    on_line = property(fget = get_on_line, fset = set_on_line)\n",
    "    \n",
    "    #password property___________________________________________________________________________________________________\n",
    "    def get_password(self):\n",
    "        return self._password\n",
    "    \n",
    "    def set_password(self, new_value):\n",
    "        if isinstance(new_value, str):\n",
    "            self.change_password()\n",
    "            \n",
    "        else:\n",
    "            print(\"The password couldn't be changed\")\n",
    "            \n",
    "    password = property(fget = get_password, fset = set_password)\n",
    "    \n",
    "    \n",
    "    #pay your account_____________________________________________________________________________________________________\n",
    "    def pay(self):\n",
    "        try:\n",
    "            self.card.bank_withdrawal(149)\n",
    "            self._active = True\n",
    "        \n",
    "        except ValueError:\n",
    "            print('Payment could not be processed')\n",
    "            \n",
    "     \n",
    "    #lor in / log out_____________________________________________________________________________________________________\n",
    "    def log_out(self):\n",
    "        self._on_line = False\n",
    "    \n",
    "    def log_in(self):\n",
    "        password = input('Please enter your password: ')\n",
    "        \n",
    "        if self.password == password:\n",
    "            print('\\n\\nWelcome {}!!'.format(self.user.name))\n",
    "            self._on_line = True\n",
    "            \n",
    "        else:\n",
    "            print('Invalid Password')\n",
    "            \n",
    "     \n",
    "    #change password______________________________________________________________________________________________________\n",
    "    def change_password(self):\n",
    "        old_password = input('Please enter your old password: ')\n",
    "        \n",
    "        if old_password == self.password:\n",
    "            new_password = input('\\n\\nPlease enter your new password: ')\n",
    "            self._password = new_password\n",
    "            \n",
    "        else:\n",
    "            print(\"The password couldn't be changed\")\n",
    "            \n",
    "            \n",
    "    #SHOW THE MOVIES TO THE USER__________________________________________________________________________________________\n",
    "    def catalogue(self):\n",
    "        if self.active and self.on_line:\n",
    "            print('Netflix -')\n",
    "\n",
    "            max_l = max([len(m.name) for m in self.movies])\n",
    "            for i, m in enumerate(self.movies):\n",
    "                print('|{:2}|{}|{:4}|{}'.format(i + 1, m.name + ' ' * (max_l - len(m.name)), m.length, m.director))\n",
    "\n",
    "            option = int(input('Choose your movie: '))\n",
    "\n",
    "            print('Playing {}'.format(self.movies[option - 1].name))\n",
    "            \n",
    "        else:\n",
    "            print('Please log in.')"
   ]
  },
  {
   "cell_type": "markdown",
   "id": "brave-potential",
   "metadata": {},
   "source": [
    "**Simulation**"
   ]
  },
  {
   "cell_type": "code",
   "execution_count": 142,
   "id": "applicable-shuttle",
   "metadata": {},
   "outputs": [],
   "source": [
    "dani = Person('Dani Enriquez', 25, DebitCard(12345678, 1245235689784578, 100))"
   ]
  },
  {
   "cell_type": "code",
   "execution_count": 143,
   "id": "suitable-minister",
   "metadata": {},
   "outputs": [
    {
     "name": "stdout",
     "output_type": "stream",
     "text": [
      "Payment could not be processed\n"
     ]
    }
   ],
   "source": [
    "n = Netflix(dani, 'MAQUINADEGUERRAESLAONDA')"
   ]
  },
  {
   "cell_type": "code",
   "execution_count": 144,
   "id": "honey-quest",
   "metadata": {},
   "outputs": [
    {
     "data": {
      "text/plain": [
       "False"
      ]
     },
     "execution_count": 144,
     "metadata": {},
     "output_type": "execute_result"
    }
   ],
   "source": [
    "n.active"
   ]
  },
  {
   "cell_type": "code",
   "execution_count": 145,
   "id": "modular-northwest",
   "metadata": {},
   "outputs": [],
   "source": [
    "dani.card.deposit(10000)"
   ]
  },
  {
   "cell_type": "code",
   "execution_count": 146,
   "id": "rational-coffee",
   "metadata": {},
   "outputs": [],
   "source": [
    "n = Netflix(dani, 'MAQUINADEGUERRAESLAONDA')"
   ]
  },
  {
   "cell_type": "code",
   "execution_count": 147,
   "id": "lovely-theology",
   "metadata": {},
   "outputs": [
    {
     "data": {
      "text/plain": [
       "True"
      ]
     },
     "execution_count": 147,
     "metadata": {},
     "output_type": "execute_result"
    }
   ],
   "source": [
    "n.active"
   ]
  },
  {
   "cell_type": "code",
   "execution_count": 148,
   "id": "silent-content",
   "metadata": {},
   "outputs": [
    {
     "data": {
      "text/plain": [
       "True"
      ]
     },
     "execution_count": 148,
     "metadata": {},
     "output_type": "execute_result"
    }
   ],
   "source": [
    "n.on_line"
   ]
  },
  {
   "cell_type": "code",
   "execution_count": 149,
   "id": "looking-isolation",
   "metadata": {},
   "outputs": [
    {
     "data": {
      "text/plain": [
       "9951"
      ]
     },
     "execution_count": 149,
     "metadata": {},
     "output_type": "execute_result"
    }
   ],
   "source": [
    "dani.card.balance"
   ]
  },
  {
   "cell_type": "code",
   "execution_count": 150,
   "id": "aerial-missouri",
   "metadata": {},
   "outputs": [],
   "source": [
    "n.log_out()"
   ]
  },
  {
   "cell_type": "code",
   "execution_count": 151,
   "id": "public-boston",
   "metadata": {},
   "outputs": [],
   "source": [
    "dani.netflix_account = n"
   ]
  },
  {
   "cell_type": "code",
   "execution_count": 152,
   "id": "disturbed-clear",
   "metadata": {},
   "outputs": [
    {
     "name": "stdout",
     "output_type": "stream",
     "text": [
      "Please log in.\n"
     ]
    }
   ],
   "source": [
    "dani.see_movie()"
   ]
  },
  {
   "cell_type": "code",
   "execution_count": 154,
   "id": "excess-front",
   "metadata": {},
   "outputs": [
    {
     "name": "stdout",
     "output_type": "stream",
     "text": [
      "Please enter your password: MAQUINADEGUERRAESLAONDA\n",
      "\n",
      "\n",
      "Welcome Dani Enriquez!!\n"
     ]
    }
   ],
   "source": [
    "dani.log_in()"
   ]
  },
  {
   "cell_type": "code",
   "execution_count": 155,
   "id": "operational-swimming",
   "metadata": {},
   "outputs": [
    {
     "name": "stdout",
     "output_type": "stream",
     "text": [
      "Netflix -\n",
      "| 1|El Señor de los Anillos: La Comunidad del Anillo| 178|Peter Jackson\n",
      "| 2|El Señor de los Anillos: Las dos Torres         | 172|Peter Jackson\n",
      "| 3|El Señor de los Anillos: El Retorno del Rey     | 201|Peter Jackson\n",
      "| 4|Jurassic Park                                   | 127|Steven Spielberg\n",
      "| 5|Django Unchained                                | 170|Quentin Tarantino\n",
      "Choose your movie: 3\n",
      "Playing El Señor de los Anillos: El Retorno del Rey\n"
     ]
    }
   ],
   "source": [
    "dani.see_movie()"
   ]
  },
  {
   "cell_type": "code",
   "execution_count": 157,
   "id": "outside-topic",
   "metadata": {},
   "outputs": [
    {
     "name": "stdout",
     "output_type": "stream",
     "text": [
      "Please enter your old password: MAQUINADEGUERRAESLAONDA\n",
      "\n",
      "\n",
      "Please enter your new password: MAQUINADEGUERRAESLAONDA69\n"
     ]
    }
   ],
   "source": [
    "n.change_password()"
   ]
  },
  {
   "cell_type": "code",
   "execution_count": 158,
   "id": "painted-victor",
   "metadata": {},
   "outputs": [
    {
     "data": {
      "text/plain": [
       "'MAQUINADEGUERRAESLAONDA69'"
      ]
     },
     "execution_count": 158,
     "metadata": {},
     "output_type": "execute_result"
    }
   ],
   "source": [
    "n.password"
   ]
  },
  {
   "cell_type": "code",
   "execution_count": null,
   "id": "agreed-university",
   "metadata": {},
   "outputs": [],
   "source": []
  }
 ],
 "metadata": {
  "kernelspec": {
   "display_name": "Python 3",
   "language": "python",
   "name": "python3"
  },
  "language_info": {
   "codemirror_mode": {
    "name": "ipython",
    "version": 3
   },
   "file_extension": ".py",
   "mimetype": "text/x-python",
   "name": "python",
   "nbconvert_exporter": "python",
   "pygments_lexer": "ipython3",
   "version": "3.8.5"
  }
 },
 "nbformat": 4,
 "nbformat_minor": 5
}
