{
 "cells": [
  {
   "cell_type": "markdown",
   "id": "sought-preserve",
   "metadata": {},
   "source": [
    "<h1>Vectors</h1>\n",
    "\n",
    "Of the multiple definitions that exist for vectors, we will stick with the one in which we understand them as ordered arrangements of $n$ elements ($n$ is called the **dimension** of the vector), for example the following is a row vector of dimension $n$:\n",
    "\n",
    "$$\\vec{x} = \n",
    "\\begin{bmatrix}\n",
    "x_1 & x_2 & \\cdots & x_n\\\\\n",
    "\\end{bmatrix}\n",
    "$$\n",
    "\n",
    "The elements of $\\vec{x}$ are real numbers ($\\mathbb{R}$) or complex ($\\mathbb{C}$), depending on the case we say that $x \\in \\mathbb{R}^n$ o $x \\in \\mathbb{C}^n$. We can also represent them in the form of a column:\n",
    "\n",
    "$$\\vec{y} = \n",
    "\\begin{bmatrix}\n",
    "y_1\\\\\n",
    "y_2\\\\ \n",
    "\\vdots\\\\\n",
    "y_n\\\\\n",
    "\\end{bmatrix}\n",
    "$$\n",
    "\n",
    "We have two elementary operations with vectors: _the sum of vectors and scalar multiplication_. The sum of vectors is defined between vectors of the same **dimension** and this defined below: \n",
    "\n",
    "$$\\vec{x} + \\vec{y} = \n",
    "\\begin{bmatrix}\n",
    "x_1 + y_1 & x_2 + y_2 & \\cdots & x_n + y_n\\\\\n",
    "\\end{bmatrix}\n",
    "$$\n",
    "\n",
    "Resulting in another vector with the same **dimension**. And the scalar multiplication is defined as follows:\n",
    "\n",
    "$$\\alpha \\vec{x} = \n",
    "\\begin{bmatrix}\n",
    "\\alpha x_1 & \\alpha x_2 & \\cdots & \\alpha x_n \\\\\n",
    "\\end{bmatrix}\n",
    "$$"
   ]
  },
  {
   "cell_type": "markdown",
   "id": "different-boards",
   "metadata": {},
   "source": [
    "<hr>\n",
    "\n",
    "## List vs Array"
   ]
  },
  {
   "cell_type": "code",
   "execution_count": 1,
   "id": "conscious-beast",
   "metadata": {},
   "outputs": [],
   "source": [
    "l1 = [i for i in range(1, 5)]\n",
    "l2 = [i for i in range(6, 10)]"
   ]
  },
  {
   "cell_type": "code",
   "execution_count": 2,
   "id": "polar-israel",
   "metadata": {},
   "outputs": [
    {
     "data": {
      "text/plain": [
       "([1, 2, 3, 4], [6, 7, 8, 9])"
      ]
     },
     "execution_count": 2,
     "metadata": {},
     "output_type": "execute_result"
    }
   ],
   "source": [
    "l1, l2"
   ]
  },
  {
   "cell_type": "code",
   "execution_count": 3,
   "id": "reduced-thomson",
   "metadata": {},
   "outputs": [
    {
     "data": {
      "text/plain": [
       "[1, 2, 3, 4, 6, 7, 8, 9]"
      ]
     },
     "execution_count": 3,
     "metadata": {},
     "output_type": "execute_result"
    }
   ],
   "source": [
    "l1 + l2"
   ]
  },
  {
   "cell_type": "code",
   "execution_count": 4,
   "id": "equivalent-pantyhose",
   "metadata": {},
   "outputs": [
    {
     "data": {
      "text/plain": [
       "[1, 2, 3, 4, 1, 2, 3, 4, 1, 2, 3, 4]"
      ]
     },
     "execution_count": 4,
     "metadata": {},
     "output_type": "execute_result"
    }
   ],
   "source": [
    "l1 * 3"
   ]
  },
  {
   "cell_type": "markdown",
   "id": "obvious-devices",
   "metadata": {},
   "source": [
    "scalar multiplication"
   ]
  },
  {
   "cell_type": "code",
   "execution_count": 5,
   "id": "useful-ordering",
   "metadata": {},
   "outputs": [
    {
     "data": {
      "text/plain": [
       "[1, 2, 3, 4]"
      ]
     },
     "execution_count": 5,
     "metadata": {},
     "output_type": "execute_result"
    }
   ],
   "source": [
    "l1"
   ]
  },
  {
   "cell_type": "code",
   "execution_count": 6,
   "id": "liberal-packaging",
   "metadata": {},
   "outputs": [],
   "source": [
    "for i in range(len(l1)):\n",
    "    l1[i] *= 3"
   ]
  },
  {
   "cell_type": "code",
   "execution_count": 7,
   "id": "spiritual-transaction",
   "metadata": {},
   "outputs": [
    {
     "data": {
      "text/plain": [
       "[3, 6, 9, 12]"
      ]
     },
     "execution_count": 7,
     "metadata": {},
     "output_type": "execute_result"
    }
   ],
   "source": [
    "l1"
   ]
  },
  {
   "cell_type": "code",
   "execution_count": 8,
   "id": "jewish-armstrong",
   "metadata": {},
   "outputs": [],
   "source": [
    "class Vector:\n",
    "    \"\"\"\n",
    "    This class is used to represent a vector of arbitrary dimension\n",
    "    \n",
    "    ...\n",
    "    Attributes\n",
    "    ___________\n",
    "    components: tuple\n",
    "        The components of the vector, must be numeric\n",
    "    dimension: int\n",
    "        The number of the vector's components\n",
    "    norm: int >= 0\n",
    "        Is a measure of the length of the vector\n",
    "    \n",
    "    \"\"\"\n",
    "    def __init__(self, *components):\n",
    "        \n",
    "        for c in components:\n",
    "            if not isinstance(c, (int, float, complex)):\n",
    "                raise ValueError('The componets must be numeric')\n",
    "        \n",
    "        self._components = components\n",
    "        \n",
    "        self._dimension = len(self.components)\n",
    "        self._norm = sum([c ** 2 for c in self.components]) ** 0.5\n",
    "        \n",
    "    \n",
    "    #components property x-x-x-x-x-x-x-x-x-x-x-x-x-x-x-x-x-x-x-x-x-x-x-x-x-x-x-x-x-x-x-x-x-x-x-x-x-x-x-x-x-x-x-x-x\n",
    "    def get_components(self):\n",
    "        return self._components\n",
    "    \n",
    "    components = property(fget = get_components)\n",
    "    \n",
    "    #dimension property x-x-x-x-x-x-x-x-x-x-x-x-x-x-x-x-x-x-x-x-x-x-x-x-x-x-x-x-x-x-x-x-x-x-x-x-x-x-x-x-x-x-x-x-x-\n",
    "    def get_dimension(self):\n",
    "        return self._dimension\n",
    "    \n",
    "    dimension = property(fget = get_dimension, doc = 'The number of components of the vector')\n",
    "    \n",
    "    #norm property x-x-x-x-x-x-x-x-x-x-x-x-x-x-x-x-x-x-x-x-x-x-x-x-x-x-x-x-x-x-x-x-x-x-x-x-x-x-x-x-x-x-x-x-x-x-x-x\n",
    "    def get_norm(self):\n",
    "        return self._norm\n",
    "    \n",
    "    norm = property(fget = get_norm, doc = 'The length of the vector')\n",
    "    \n",
    "    #__repr__ method x-x-x-x-x-x-x-x-x-x-x-x-x-x-x-x-x-x-x-x-x-x-x-x-x-x-x-x-x-x-x-x-x-x-x-x-x-x-x-x-x-x-x-x-x-x-x-x\n",
    "    def __repr__(self):\n",
    "        r = '<' + '{}, ' * (self.dimension - 1) + '{}' + '>'\n",
    "        return r.format(*self.components)\n",
    "    \n",
    "    #__len__ method x-x-x-x-x-x-x-x-x-x-x-x-x-x-x-x-x-x-x-x-x-x-x-x-x-x-x-x-x-x-x-x-x-x-x-x-x-x-x-x-x-x-x-x-x-x-x-x\n",
    "    def __len__(self):\n",
    "        return self.dimension\n",
    "    \n",
    "    #__add__ method x-x-x-x-x-x-x-x-x-x-x-x-x-x-x-x-x-x-x-x-x-x-x-x-x-x-x-x-x-x-x-x-x-x-x-x-x-x-x-x-x-x-x-x-x-x-x-x\n",
    "    def __add__(self, other):\n",
    "        if isinstance(other, Vector) and self.dimension == other.dimension:\n",
    "            c = []\n",
    "            for i in range(self.dimension):\n",
    "                c.append(self.components[i] + other.components[i])\n",
    "                \n",
    "            return Vector(*c)\n",
    "        \n",
    "        elif isinstance(other, Vector) and self.dimension != other.dimension:\n",
    "            msn = 'Vectors must have the same dimension to be added: dim({}) + dim({})'\n",
    "            raise ValueError(msn.format(self.dimension, other.dimension))\n",
    "    \n",
    "        else:\n",
    "            return NotImplemented\n",
    "        \n",
    "        \n",
    "    #__mul__ method x-x-x-x-x-x-x-x-x-x-x-x-x-x-x-x-x-x-x-x-x-x-x-x-x-x-x-x-x-x-x-x-x-x-x-x-x-x-x-x-x-x-x-x-x-x-x-x\n",
    "    def __mul__(self, other):\n",
    "        if isinstance(other, Vector) and self.dimension == other.dimension:\n",
    "            p = 0\n",
    "            for i in range(self.dimension):\n",
    "                p += self.components[i] * other.components[i]\n",
    "                \n",
    "            return p\n",
    "        \n",
    "        elif isinstance(other, Vector) and self.dimension != other.dimension:\n",
    "            msn = 'Vectors must have the same dimension to scalar product: dim({}) + dim({})'\n",
    "            raise ValueError(msn.format(self.dimension, other.dimension))\n",
    "    \n",
    "        elif isinstance(other, (int, float, complex)):\n",
    "            c = []\n",
    "            for comp in self.components:\n",
    "                c.append(comp * other)\n",
    "            \n",
    "            return Vector(*c)\n",
    "        \n",
    "        else:\n",
    "            return NotImplemented\n",
    "        \n",
    "        \n",
    "    #__rmul__ method x-x-x-x-x-x-x-x-x-x-x-x-x-x-x-x-x-x-x-x-x-x-x-x-x-x-x-x-x-x-x-x-x-x-x-x-x-x-x-x-x-x-x-x-x-x-x-x\n",
    "    def __rmul__(self, other):\n",
    "        if isinstance(other, Vector) and self.dimension == other.dimension:\n",
    "            p = 0\n",
    "            for i in range(self.dimension):\n",
    "                p += self.components[i] * other.components[i]\n",
    "                \n",
    "            return p\n",
    "        \n",
    "        elif isinstance(other, Vector) and self.dimension != other.dimension:\n",
    "            msn = 'Vectors must have the same dimension to scalar product: dim({}) + dim({})'\n",
    "            raise ValueError(msn.format(self.dimension, other.dimension))\n",
    "    \n",
    "        elif isinstance(other, (int, float, complex)):\n",
    "            c = []\n",
    "            for comp in self.components:\n",
    "                c.append(comp * other)\n",
    "            \n",
    "            return Vector(*c)\n",
    "        \n",
    "        else:\n",
    "            return NotImplemented"
   ]
  },
  {
   "cell_type": "code",
   "execution_count": 9,
   "id": "oriented-porter",
   "metadata": {},
   "outputs": [],
   "source": [
    "v1 , v2 = Vector(*l1), Vector(*l2)"
   ]
  },
  {
   "cell_type": "code",
   "execution_count": 10,
   "id": "rental-overhead",
   "metadata": {},
   "outputs": [
    {
     "data": {
      "text/plain": [
       "<3, 6, 9, 12>"
      ]
     },
     "execution_count": 10,
     "metadata": {},
     "output_type": "execute_result"
    }
   ],
   "source": [
    "v1"
   ]
  },
  {
   "cell_type": "code",
   "execution_count": 11,
   "id": "palestinian-stick",
   "metadata": {},
   "outputs": [
    {
     "data": {
      "text/plain": [
       "<6, 7, 8, 9>"
      ]
     },
     "execution_count": 11,
     "metadata": {},
     "output_type": "execute_result"
    }
   ],
   "source": [
    "v2"
   ]
  },
  {
   "cell_type": "code",
   "execution_count": 12,
   "id": "friendly-conjunction",
   "metadata": {},
   "outputs": [
    {
     "data": {
      "text/plain": [
       "<9, 13, 17, 21>"
      ]
     },
     "execution_count": 12,
     "metadata": {},
     "output_type": "execute_result"
    }
   ],
   "source": [
    "v2 + v1"
   ]
  },
  {
   "cell_type": "code",
   "execution_count": 13,
   "id": "cheap-australian",
   "metadata": {},
   "outputs": [
    {
     "data": {
      "text/plain": [
       "<9, 18, 27, 36>"
      ]
     },
     "execution_count": 13,
     "metadata": {},
     "output_type": "execute_result"
    }
   ],
   "source": [
    "3 * v1"
   ]
  },
  {
   "cell_type": "code",
   "execution_count": 14,
   "id": "bright-combine",
   "metadata": {},
   "outputs": [],
   "source": [
    "import numpy as np\n",
    "import seaborn as sns\n",
    "import matplotlib.pyplot as plt\n",
    "from matplotlib.animation import FuncAnimation\n",
    "from IPython.display import HTML\n",
    "%matplotlib inline"
   ]
  },
  {
   "cell_type": "code",
   "execution_count": 15,
   "id": "executed-occurrence",
   "metadata": {},
   "outputs": [],
   "source": [
    "sns.set()"
   ]
  },
  {
   "cell_type": "markdown",
   "id": "spiritual-tissue",
   "metadata": {},
   "source": [
    "<img src = https://i.pinimg.com/564x/1f/ba/23/1fba23e6b8e16a7a4ce00ba6195965d4.jpg>"
   ]
  },
  {
   "cell_type": "code",
   "execution_count": 16,
   "id": "cross-atlanta",
   "metadata": {},
   "outputs": [],
   "source": [
    "l1 = [i for i in range(1, 5)]\n",
    "l2 = [i for i in range(6, 10)]"
   ]
  },
  {
   "cell_type": "code",
   "execution_count": 17,
   "id": "bibliographic-prospect",
   "metadata": {},
   "outputs": [],
   "source": [
    "a1 = np.array(l1)\n",
    "a2 = np.array(l2)"
   ]
  },
  {
   "cell_type": "code",
   "execution_count": 18,
   "id": "searching-traveler",
   "metadata": {},
   "outputs": [
    {
     "data": {
      "text/plain": [
       "array([1, 2, 3, 4])"
      ]
     },
     "execution_count": 18,
     "metadata": {},
     "output_type": "execute_result"
    }
   ],
   "source": [
    "a1"
   ]
  },
  {
   "cell_type": "code",
   "execution_count": 19,
   "id": "thirty-services",
   "metadata": {},
   "outputs": [
    {
     "data": {
      "text/plain": [
       "numpy.ndarray"
      ]
     },
     "execution_count": 19,
     "metadata": {},
     "output_type": "execute_result"
    }
   ],
   "source": [
    "type(a1)"
   ]
  },
  {
   "cell_type": "code",
   "execution_count": 20,
   "id": "alive-mapping",
   "metadata": {},
   "outputs": [
    {
     "data": {
      "text/plain": [
       "array([ 3,  6,  9, 12])"
      ]
     },
     "execution_count": 20,
     "metadata": {},
     "output_type": "execute_result"
    }
   ],
   "source": [
    "3 * a1"
   ]
  },
  {
   "cell_type": "code",
   "execution_count": 21,
   "id": "assumed-despite",
   "metadata": {},
   "outputs": [
    {
     "data": {
      "text/plain": [
       "array([ 7,  9, 11, 13])"
      ]
     },
     "execution_count": 21,
     "metadata": {},
     "output_type": "execute_result"
    }
   ],
   "source": [
    "a1 + a2"
   ]
  },
  {
   "cell_type": "code",
   "execution_count": 22,
   "id": "identical-manitoba",
   "metadata": {},
   "outputs": [
    {
     "data": {
      "text/plain": [
       "(4,)"
      ]
     },
     "execution_count": 22,
     "metadata": {},
     "output_type": "execute_result"
    }
   ],
   "source": [
    "a1.shape"
   ]
  },
  {
   "cell_type": "code",
   "execution_count": 23,
   "id": "indirect-relative",
   "metadata": {},
   "outputs": [
    {
     "data": {
      "text/plain": [
       "4"
      ]
     },
     "execution_count": 23,
     "metadata": {},
     "output_type": "execute_result"
    }
   ],
   "source": [
    "len(a1)"
   ]
  },
  {
   "cell_type": "markdown",
   "id": "aware-butterfly",
   "metadata": {},
   "source": [
    "Numpy goes beyond"
   ]
  },
  {
   "cell_type": "code",
   "execution_count": 24,
   "id": "russian-federal",
   "metadata": {},
   "outputs": [
    {
     "data": {
      "text/plain": [
       "array([2, 3, 4, 5])"
      ]
     },
     "execution_count": 24,
     "metadata": {},
     "output_type": "execute_result"
    }
   ],
   "source": [
    "a1 + 1"
   ]
  },
  {
   "cell_type": "code",
   "execution_count": 25,
   "id": "weighted-stream",
   "metadata": {},
   "outputs": [
    {
     "data": {
      "text/plain": [
       "array([ 3,  6,  9, 12])"
      ]
     },
     "execution_count": 25,
     "metadata": {},
     "output_type": "execute_result"
    }
   ],
   "source": [
    "a1 * 3"
   ]
  },
  {
   "cell_type": "code",
   "execution_count": 26,
   "id": "educated-toilet",
   "metadata": {},
   "outputs": [
    {
     "data": {
      "text/plain": [
       "array([0.5, 1. , 1.5, 2. ])"
      ]
     },
     "execution_count": 26,
     "metadata": {},
     "output_type": "execute_result"
    }
   ],
   "source": [
    "a1 / 2"
   ]
  },
  {
   "cell_type": "code",
   "execution_count": 27,
   "id": "gorgeous-twist",
   "metadata": {},
   "outputs": [
    {
     "data": {
      "text/plain": [
       "array([0, 1, 1, 2], dtype=int32)"
      ]
     },
     "execution_count": 27,
     "metadata": {},
     "output_type": "execute_result"
    }
   ],
   "source": [
    "a1 // 2"
   ]
  },
  {
   "cell_type": "code",
   "execution_count": 28,
   "id": "biblical-palestine",
   "metadata": {},
   "outputs": [
    {
     "data": {
      "text/plain": [
       "array([ 1,  4,  9, 16], dtype=int32)"
      ]
     },
     "execution_count": 28,
     "metadata": {},
     "output_type": "execute_result"
    }
   ],
   "source": [
    "a1 ** 2"
   ]
  },
  {
   "cell_type": "code",
   "execution_count": 29,
   "id": "vulnerable-counter",
   "metadata": {},
   "outputs": [
    {
     "data": {
      "text/plain": [
       "array([1, 0, 1, 0], dtype=int32)"
      ]
     },
     "execution_count": 29,
     "metadata": {},
     "output_type": "execute_result"
    }
   ],
   "source": [
    "a1 % 2"
   ]
  },
  {
   "cell_type": "code",
   "execution_count": 30,
   "id": "distinct-steel",
   "metadata": {},
   "outputs": [
    {
     "data": {
      "text/plain": [
       "array([False, False, False, False])"
      ]
     },
     "execution_count": 30,
     "metadata": {},
     "output_type": "execute_result"
    }
   ],
   "source": [
    "a1 > a2"
   ]
  },
  {
   "cell_type": "code",
   "execution_count": 31,
   "id": "continent-hospital",
   "metadata": {},
   "outputs": [
    {
     "data": {
      "text/plain": [
       "array([ True,  True,  True,  True])"
      ]
     },
     "execution_count": 31,
     "metadata": {},
     "output_type": "execute_result"
    }
   ],
   "source": [
    "a1 < a2"
   ]
  },
  {
   "cell_type": "code",
   "execution_count": 32,
   "id": "organic-ballet",
   "metadata": {},
   "outputs": [
    {
     "data": {
      "text/plain": [
       "array([False,  True, False,  True])"
      ]
     },
     "execution_count": 32,
     "metadata": {},
     "output_type": "execute_result"
    }
   ],
   "source": [
    "a1 % 2 == 0"
   ]
  },
  {
   "cell_type": "code",
   "execution_count": 33,
   "id": "substantial-group",
   "metadata": {},
   "outputs": [],
   "source": [
    "a1 += 1"
   ]
  },
  {
   "cell_type": "code",
   "execution_count": 34,
   "id": "impaired-seating",
   "metadata": {},
   "outputs": [
    {
     "data": {
      "text/plain": [
       "array([2, 3, 4, 5])"
      ]
     },
     "execution_count": 34,
     "metadata": {},
     "output_type": "execute_result"
    }
   ],
   "source": [
    "a1"
   ]
  },
  {
   "cell_type": "code",
   "execution_count": 35,
   "id": "indie-directory",
   "metadata": {},
   "outputs": [],
   "source": [
    "a1 += a2"
   ]
  },
  {
   "cell_type": "code",
   "execution_count": 36,
   "id": "circular-fisher",
   "metadata": {},
   "outputs": [
    {
     "data": {
      "text/plain": [
       "array([ 8, 10, 12, 14])"
      ]
     },
     "execution_count": 36,
     "metadata": {},
     "output_type": "execute_result"
    }
   ],
   "source": [
    "a1"
   ]
  },
  {
   "cell_type": "code",
   "execution_count": 37,
   "id": "constant-inspiration",
   "metadata": {},
   "outputs": [
    {
     "data": {
      "text/plain": [
       "array([6, 7, 8, 9])"
      ]
     },
     "execution_count": 37,
     "metadata": {},
     "output_type": "execute_result"
    }
   ],
   "source": [
    "a2"
   ]
  },
  {
   "cell_type": "markdown",
   "id": "likely-recall",
   "metadata": {},
   "source": [
    "<hr>\n",
    "<h3>Array Creation</h3>"
   ]
  },
  {
   "cell_type": "code",
   "execution_count": 38,
   "id": "fixed-centre",
   "metadata": {},
   "outputs": [],
   "source": [
    "l = [1, 2, 3, 4]"
   ]
  },
  {
   "cell_type": "code",
   "execution_count": 39,
   "id": "appreciated-poultry",
   "metadata": {
    "scrolled": true
   },
   "outputs": [
    {
     "data": {
      "text/plain": [
       "array([1, 2, 3, 4])"
      ]
     },
     "execution_count": 39,
     "metadata": {},
     "output_type": "execute_result"
    }
   ],
   "source": [
    "a = np.array(l)\n",
    "a"
   ]
  },
  {
   "cell_type": "code",
   "execution_count": 40,
   "id": "lucky-circle",
   "metadata": {},
   "outputs": [
    {
     "data": {
      "text/plain": [
       "dtype('int32')"
      ]
     },
     "execution_count": 40,
     "metadata": {},
     "output_type": "execute_result"
    }
   ],
   "source": [
    "a.dtype"
   ]
  },
  {
   "cell_type": "code",
   "execution_count": 41,
   "id": "genetic-schema",
   "metadata": {},
   "outputs": [],
   "source": [
    "l = [1.5, 2.5, 3.5, 4.5]"
   ]
  },
  {
   "cell_type": "code",
   "execution_count": 42,
   "id": "detected-concept",
   "metadata": {
    "scrolled": true
   },
   "outputs": [
    {
     "data": {
      "text/plain": [
       "array([1.5, 2.5, 3.5, 4.5])"
      ]
     },
     "execution_count": 42,
     "metadata": {},
     "output_type": "execute_result"
    }
   ],
   "source": [
    "a = np.array(l)\n",
    "a"
   ]
  },
  {
   "cell_type": "code",
   "execution_count": 43,
   "id": "experienced-poetry",
   "metadata": {},
   "outputs": [
    {
     "data": {
      "text/plain": [
       "dtype('float64')"
      ]
     },
     "execution_count": 43,
     "metadata": {},
     "output_type": "execute_result"
    }
   ],
   "source": [
    "a.dtype"
   ]
  },
  {
   "cell_type": "code",
   "execution_count": 44,
   "id": "embedded-transsexual",
   "metadata": {},
   "outputs": [],
   "source": [
    "l = [1.73, 25, 'Daniel']"
   ]
  },
  {
   "cell_type": "code",
   "execution_count": 45,
   "id": "primary-communications",
   "metadata": {
    "scrolled": true
   },
   "outputs": [
    {
     "data": {
      "text/plain": [
       "array(['1.73', '25', 'Daniel'], dtype='<U32')"
      ]
     },
     "execution_count": 45,
     "metadata": {},
     "output_type": "execute_result"
    }
   ],
   "source": [
    "a = np.array(l)\n",
    "a"
   ]
  },
  {
   "cell_type": "code",
   "execution_count": 46,
   "id": "equal-tenant",
   "metadata": {},
   "outputs": [
    {
     "data": {
      "text/plain": [
       "dtype('<U32')"
      ]
     },
     "execution_count": 46,
     "metadata": {},
     "output_type": "execute_result"
    }
   ],
   "source": [
    "a.dtype"
   ]
  },
  {
   "cell_type": "code",
   "execution_count": 47,
   "id": "warming-horizontal",
   "metadata": {},
   "outputs": [
    {
     "data": {
      "text/plain": [
       "'1.73'"
      ]
     },
     "execution_count": 47,
     "metadata": {},
     "output_type": "execute_result"
    }
   ],
   "source": [
    "a[0]"
   ]
  },
  {
   "cell_type": "code",
   "execution_count": 48,
   "id": "dramatic-henry",
   "metadata": {},
   "outputs": [],
   "source": [
    "l = [1, 2.5, 3 + 2j]"
   ]
  },
  {
   "cell_type": "code",
   "execution_count": 49,
   "id": "registered-forth",
   "metadata": {},
   "outputs": [
    {
     "data": {
      "text/plain": [
       "array([1. +0.j, 2.5+0.j, 3. +2.j])"
      ]
     },
     "execution_count": 49,
     "metadata": {},
     "output_type": "execute_result"
    }
   ],
   "source": [
    "a = np.array(l)\n",
    "a"
   ]
  },
  {
   "cell_type": "code",
   "execution_count": 50,
   "id": "forty-gambling",
   "metadata": {},
   "outputs": [
    {
     "data": {
      "text/plain": [
       "dtype('complex128')"
      ]
     },
     "execution_count": 50,
     "metadata": {},
     "output_type": "execute_result"
    }
   ],
   "source": [
    "a.dtype"
   ]
  },
  {
   "cell_type": "markdown",
   "id": "relevant-remains",
   "metadata": {},
   "source": [
    "A frequent error consists in calling array with multiple arguments, rather than providing a single sequence as an argument."
   ]
  },
  {
   "cell_type": "code",
   "execution_count": 51,
   "id": "blond-religious",
   "metadata": {},
   "outputs": [
    {
     "ename": "TypeError",
     "evalue": "array() takes from 1 to 2 positional arguments but 4 were given",
     "output_type": "error",
     "traceback": [
      "\u001b[1;31m---------------------------------------------------------------------------\u001b[0m",
      "\u001b[1;31mTypeError\u001b[0m                                 Traceback (most recent call last)",
      "\u001b[1;32m<ipython-input-51-56595bfbefd8>\u001b[0m in \u001b[0;36m<module>\u001b[1;34m\u001b[0m\n\u001b[1;32m----> 1\u001b[1;33m \u001b[0ma\u001b[0m \u001b[1;33m=\u001b[0m \u001b[0mnp\u001b[0m\u001b[1;33m.\u001b[0m\u001b[0marray\u001b[0m\u001b[1;33m(\u001b[0m\u001b[1;36m1\u001b[0m\u001b[1;33m,\u001b[0m \u001b[1;36m2\u001b[0m\u001b[1;33m,\u001b[0m \u001b[1;36m3\u001b[0m\u001b[1;33m,\u001b[0m \u001b[1;36m4\u001b[0m\u001b[1;33m)\u001b[0m    \u001b[1;31m# WRONG\u001b[0m\u001b[1;33m\u001b[0m\u001b[1;33m\u001b[0m\u001b[0m\n\u001b[0m",
      "\u001b[1;31mTypeError\u001b[0m: array() takes from 1 to 2 positional arguments but 4 were given"
     ]
    }
   ],
   "source": [
    "a = np.array(1, 2, 3, 4)    # WRONG"
   ]
  },
  {
   "cell_type": "code",
   "execution_count": 52,
   "id": "horizontal-console",
   "metadata": {},
   "outputs": [
    {
     "data": {
      "text/plain": [
       "array([1, 2, 3, 4])"
      ]
     },
     "execution_count": 52,
     "metadata": {},
     "output_type": "execute_result"
    }
   ],
   "source": [
    "a = np.array([1, 2, 3, 4])  # RIGHT\n",
    "a"
   ]
  },
  {
   "cell_type": "code",
   "execution_count": 53,
   "id": "fluid-operation",
   "metadata": {},
   "outputs": [
    {
     "data": {
      "text/plain": [
       "array([1, 2, 3, 4])"
      ]
     },
     "execution_count": 53,
     "metadata": {},
     "output_type": "execute_result"
    }
   ],
   "source": [
    "a = np.array((1, 2, 3, 4))\n",
    "a"
   ]
  },
  {
   "cell_type": "code",
   "execution_count": 54,
   "id": "viral-aging",
   "metadata": {},
   "outputs": [],
   "source": [
    "l = [i for i in range(1, 11)]"
   ]
  },
  {
   "cell_type": "code",
   "execution_count": 55,
   "id": "racial-privilege",
   "metadata": {},
   "outputs": [
    {
     "data": {
      "text/plain": [
       "array([ 1,  2,  3,  4,  5,  6,  7,  8,  9, 10])"
      ]
     },
     "execution_count": 55,
     "metadata": {},
     "output_type": "execute_result"
    }
   ],
   "source": [
    "np.array(l)"
   ]
  },
  {
   "cell_type": "code",
   "execution_count": 56,
   "id": "changed-coach",
   "metadata": {},
   "outputs": [
    {
     "data": {
      "text/plain": [
       "array([ 1.+0.j,  2.+0.j,  3.+0.j,  4.+0.j,  5.+0.j,  6.+0.j,  7.+0.j,\n",
       "        8.+0.j,  9.+0.j, 10.+0.j])"
      ]
     },
     "execution_count": 56,
     "metadata": {},
     "output_type": "execute_result"
    }
   ],
   "source": [
    "np.array(l, dtype = complex)"
   ]
  },
  {
   "cell_type": "code",
   "execution_count": 60,
   "id": "effective-think",
   "metadata": {},
   "outputs": [
    {
     "data": {
      "text/plain": [
       "'int32'"
      ]
     },
     "execution_count": 60,
     "metadata": {},
     "output_type": "execute_result"
    }
   ],
   "source": [
    "a.dtype.name"
   ]
  },
  {
   "cell_type": "code",
   "execution_count": 61,
   "id": "early-vinyl",
   "metadata": {},
   "outputs": [
    {
     "data": {
      "text/plain": [
       "array([ 1.,  2.,  3.,  4.,  5.,  6.,  7.,  8.,  9., 10.])"
      ]
     },
     "execution_count": 61,
     "metadata": {},
     "output_type": "execute_result"
    }
   ],
   "source": [
    "np.array(l, dtype = 'float64')"
   ]
  },
  {
   "cell_type": "markdown",
   "id": "sized-shopper",
   "metadata": {},
   "source": [
    "Often, the elements of an array are originally unknown, but its size is known. Hence, NumPy offers several functions to create arrays with initial placeholder content. These minimize the necessity of growing arrays, an expensive operation."
   ]
  },
  {
   "cell_type": "code",
   "execution_count": 62,
   "id": "processed-happening",
   "metadata": {},
   "outputs": [
    {
     "data": {
      "text/plain": [
       "array([0., 0., 0., 0., 0.])"
      ]
     },
     "execution_count": 62,
     "metadata": {},
     "output_type": "execute_result"
    }
   ],
   "source": [
    "np.zeros(5)"
   ]
  },
  {
   "cell_type": "code",
   "execution_count": 63,
   "id": "separate-barrier",
   "metadata": {},
   "outputs": [
    {
     "data": {
      "text/plain": [
       "array([1., 1., 1., 1., 1.])"
      ]
     },
     "execution_count": 63,
     "metadata": {},
     "output_type": "execute_result"
    }
   ],
   "source": [
    "np.ones(5)"
   ]
  },
  {
   "cell_type": "markdown",
   "id": "stuck-oasis",
   "metadata": {},
   "source": [
    "To create sequences of numbers, NumPy provides the arange function which is analogous to the Python built-in range, but returns an array."
   ]
  },
  {
   "cell_type": "code",
   "execution_count": 64,
   "id": "known-rates",
   "metadata": {},
   "outputs": [
    {
     "data": {
      "text/plain": [
       "array([ 0,  1,  2,  3,  4,  5,  6,  7,  8,  9, 10, 11, 12])"
      ]
     },
     "execution_count": 64,
     "metadata": {},
     "output_type": "execute_result"
    }
   ],
   "source": [
    "np.arange(13)"
   ]
  },
  {
   "cell_type": "code",
   "execution_count": 65,
   "id": "introductory-hydrogen",
   "metadata": {},
   "outputs": [
    {
     "data": {
      "text/plain": [
       "array([10, 15, 20, 25])"
      ]
     },
     "execution_count": 65,
     "metadata": {},
     "output_type": "execute_result"
    }
   ],
   "source": [
    "np.arange(10, 30, 5)"
   ]
  },
  {
   "cell_type": "code",
   "execution_count": 66,
   "id": "abandoned-array",
   "metadata": {},
   "outputs": [
    {
     "data": {
      "text/plain": [
       "array([0. , 0.3, 0.6, 0.9, 1.2, 1.5, 1.8])"
      ]
     },
     "execution_count": 66,
     "metadata": {},
     "output_type": "execute_result"
    }
   ],
   "source": [
    "np.arange(0, 2, 0.3)  # it accepts float arguments"
   ]
  },
  {
   "cell_type": "markdown",
   "id": "governmental-congo",
   "metadata": {},
   "source": [
    "When arange is used with floating point arguments, it is generally not possible to predict the number of elements obtained, due to the finite floating point precision. For this reason, it is usually better to use the function linspace that receives as an argument the number of elements that we want, instead of the step:"
   ]
  },
  {
   "cell_type": "code",
   "execution_count": 67,
   "id": "apart-opinion",
   "metadata": {},
   "outputs": [
    {
     "data": {
      "text/plain": [
       "array([0.        , 0.04081633, 0.08163265, 0.12244898, 0.16326531,\n",
       "       0.20408163, 0.24489796, 0.28571429, 0.32653061, 0.36734694,\n",
       "       0.40816327, 0.44897959, 0.48979592, 0.53061224, 0.57142857,\n",
       "       0.6122449 , 0.65306122, 0.69387755, 0.73469388, 0.7755102 ,\n",
       "       0.81632653, 0.85714286, 0.89795918, 0.93877551, 0.97959184,\n",
       "       1.02040816, 1.06122449, 1.10204082, 1.14285714, 1.18367347,\n",
       "       1.2244898 , 1.26530612, 1.30612245, 1.34693878, 1.3877551 ,\n",
       "       1.42857143, 1.46938776, 1.51020408, 1.55102041, 1.59183673,\n",
       "       1.63265306, 1.67346939, 1.71428571, 1.75510204, 1.79591837,\n",
       "       1.83673469, 1.87755102, 1.91836735, 1.95918367, 2.        ])"
      ]
     },
     "execution_count": 67,
     "metadata": {},
     "output_type": "execute_result"
    }
   ],
   "source": [
    "np.linspace(0, 2)"
   ]
  },
  {
   "cell_type": "code",
   "execution_count": 68,
   "id": "creative-sacramento",
   "metadata": {},
   "outputs": [
    {
     "data": {
      "text/plain": [
       "(50,)"
      ]
     },
     "execution_count": 68,
     "metadata": {},
     "output_type": "execute_result"
    }
   ],
   "source": [
    "np.linspace(0, 2).shape"
   ]
  },
  {
   "cell_type": "code",
   "execution_count": 69,
   "id": "simple-memorabilia",
   "metadata": {},
   "outputs": [
    {
     "data": {
      "text/plain": [
       "array([0.  , 0.25, 0.5 , 0.75, 1.  , 1.25, 1.5 , 1.75, 2.  ])"
      ]
     },
     "execution_count": 69,
     "metadata": {},
     "output_type": "execute_result"
    }
   ],
   "source": [
    "np.linspace(0, 2, 9)"
   ]
  },
  {
   "cell_type": "code",
   "execution_count": 70,
   "id": "collectible-mechanics",
   "metadata": {},
   "outputs": [
    {
     "data": {
      "text/plain": [
       "array([0.        , 0.12822827, 0.25645654, 0.38468481, 0.51291309,\n",
       "       0.64114136, 0.76936963, 0.8975979 , 1.02582617, 1.15405444,\n",
       "       1.28228272, 1.41051099, 1.53873926, 1.66696753, 1.7951958 ,\n",
       "       1.92342407, 2.05165235, 2.17988062, 2.30810889, 2.43633716,\n",
       "       2.56456543, 2.6927937 , 2.82102197, 2.94925025, 3.07747852,\n",
       "       3.20570679, 3.33393506, 3.46216333, 3.5903916 , 3.71861988,\n",
       "       3.84684815, 3.97507642, 4.10330469, 4.23153296, 4.35976123,\n",
       "       4.48798951, 4.61621778, 4.74444605, 4.87267432, 5.00090259,\n",
       "       5.12913086, 5.25735913, 5.38558741, 5.51381568, 5.64204395,\n",
       "       5.77027222, 5.89850049, 6.02672876, 6.15495704, 6.28318531])"
      ]
     },
     "execution_count": 70,
     "metadata": {},
     "output_type": "execute_result"
    }
   ],
   "source": [
    "np.linspace(0, 2 * np.pi)"
   ]
  },
  {
   "cell_type": "code",
   "execution_count": 77,
   "id": "stretch-blink",
   "metadata": {},
   "outputs": [
    {
     "data": {
      "text/plain": [
       "array([<AxesSubplot:>, <AxesSubplot:>], dtype=object)"
      ]
     },
     "execution_count": 77,
     "metadata": {},
     "output_type": "execute_result"
    },
    {
     "data": {
      "image/png": "[encoded data removed]",
      "text/plain": [
       "<Figure size 1152x432 with 2 Axes>"
      ]
     },
     "metadata": {},
     "output_type": "display_data"
    }
   ],
   "source": [
    "fig, ax = plt.subplots(1, 2, figsize = (16, 6))\n",
    "\n",
    "ax"
   ]
  },
  {
   "cell_type": "code",
   "execution_count": 79,
   "id": "prospective-nelson",
   "metadata": {},
   "outputs": [
    {
     "data": {
      "image/png": "[encoded data removed]",
      "text/plain": [
       "<Figure size 1152x432 with 2 Axes>"
      ]
     },
     "metadata": {},
     "output_type": "display_data"
    }
   ],
   "source": [
    "fig, ax = plt.subplots(1, 2, figsize = (16, 6))\n",
    "\n",
    "x = np.linspace(-2 * np.pi, 2 * np.pi)\n",
    "ax[0].plot(x, np.sin(x))\n",
    "ax[0].set_title('$\\\\sin{x}$ with 50 points')\n",
    "\n",
    "x = np.linspace(-2 * np.pi, 2 * np.pi, 1000)\n",
    "ax[1].plot(x, np.sin(x))\n",
    "ax[1].set_title('$\\\\sin{x}$ with 1000 points');"
   ]
  },
  {
   "cell_type": "code",
   "execution_count": 87,
   "id": "warming-excerpt",
   "metadata": {},
   "outputs": [
    {
     "data": {
      "text/plain": [
       "matplotlib.axes._subplots.AxesSubplot"
      ]
     },
     "execution_count": 87,
     "metadata": {},
     "output_type": "execute_result"
    }
   ],
   "source": [
    "type(ax[0])"
   ]
  },
  {
   "cell_type": "code",
   "execution_count": 80,
   "id": "excited-publicity",
   "metadata": {},
   "outputs": [
    {
     "data": {
      "image/png": "[encoded data removed]",
      "text/plain": [
       "<Figure size 1152x432 with 2 Axes>"
      ]
     },
     "metadata": {},
     "output_type": "display_data"
    }
   ],
   "source": [
    "fig, ax = plt.subplots(1, 2, figsize = (16, 6))\n",
    "\n",
    "x = np.linspace(-2 * np.pi, 2 * np.pi)\n",
    "ax[0].plot(x, np.sinc(x))\n",
    "ax[0].set_title('$\\\\sinc{x}$ with 50 points')\n",
    "\n",
    "x = np.linspace(-2 * np.pi, 2 * np.pi, 1000)\n",
    "ax[1].plot(x, np.sinc(x))\n",
    "ax[1].set_title('$\\\\sinc{x}$ with 1000 points');"
   ]
  },
  {
   "cell_type": "code",
   "execution_count": 88,
   "id": "registered-occasions",
   "metadata": {},
   "outputs": [
    {
     "data": {
      "text/plain": [
       "array([1, 2, 3, 4])"
      ]
     },
     "execution_count": 88,
     "metadata": {},
     "output_type": "execute_result"
    }
   ],
   "source": [
    "a"
   ]
  },
  {
   "cell_type": "code",
   "execution_count": 89,
   "id": "indonesian-commander",
   "metadata": {},
   "outputs": [
    {
     "data": {
      "text/plain": [
       "10"
      ]
     },
     "execution_count": 89,
     "metadata": {},
     "output_type": "execute_result"
    }
   ],
   "source": [
    "a.sum()"
   ]
  },
  {
   "cell_type": "code",
   "execution_count": 91,
   "id": "annual-petersburg",
   "metadata": {},
   "outputs": [
    {
     "data": {
      "text/plain": [
       "10"
      ]
     },
     "execution_count": 91,
     "metadata": {},
     "output_type": "execute_result"
    }
   ],
   "source": [
    "sum(a)"
   ]
  },
  {
   "cell_type": "code",
   "execution_count": 92,
   "id": "welsh-communications",
   "metadata": {},
   "outputs": [
    {
     "data": {
      "text/plain": [
       "24"
      ]
     },
     "execution_count": 92,
     "metadata": {},
     "output_type": "execute_result"
    }
   ],
   "source": [
    "a.prod()"
   ]
  },
  {
   "cell_type": "code",
   "execution_count": 93,
   "id": "lightweight-sacramento",
   "metadata": {},
   "outputs": [
    {
     "data": {
      "text/plain": [
       "2.5"
      ]
     },
     "execution_count": 93,
     "metadata": {},
     "output_type": "execute_result"
    }
   ],
   "source": [
    "a.mean()"
   ]
  },
  {
   "cell_type": "code",
   "execution_count": 99,
   "id": "renewable-unemployment",
   "metadata": {},
   "outputs": [
    {
     "data": {
      "text/plain": [
       "1.118033988749895"
      ]
     },
     "execution_count": 99,
     "metadata": {},
     "output_type": "execute_result"
    }
   ],
   "source": [
    "a.std()"
   ]
  },
  {
   "cell_type": "code",
   "execution_count": 95,
   "id": "compound-command",
   "metadata": {},
   "outputs": [
    {
     "data": {
      "text/plain": [
       "1.25"
      ]
     },
     "execution_count": 95,
     "metadata": {},
     "output_type": "execute_result"
    }
   ],
   "source": [
    "a.var()"
   ]
  },
  {
   "cell_type": "code",
   "execution_count": 96,
   "id": "specialized-childhood",
   "metadata": {},
   "outputs": [
    {
     "data": {
      "text/plain": [
       "4"
      ]
     },
     "execution_count": 96,
     "metadata": {},
     "output_type": "execute_result"
    }
   ],
   "source": [
    "a.max()"
   ]
  },
  {
   "cell_type": "code",
   "execution_count": 97,
   "id": "coated-depression",
   "metadata": {},
   "outputs": [
    {
     "data": {
      "text/plain": [
       "1"
      ]
     },
     "execution_count": 97,
     "metadata": {},
     "output_type": "execute_result"
    }
   ],
   "source": [
    "a.min()"
   ]
  },
  {
   "cell_type": "markdown",
   "id": "corresponding-philosophy",
   "metadata": {},
   "source": [
    "NumPy provides familiar mathematical functions such as sin, cos, and exp. In NumPy, these are called “universal functions” (ufunc). Within NumPy, these functions operate elementwise on an array, producing an array as output."
   ]
  },
  {
   "cell_type": "code",
   "execution_count": 100,
   "id": "thorough-example",
   "metadata": {},
   "outputs": [
    {
     "data": {
      "text/plain": [
       "array([1, 2, 3, 4])"
      ]
     },
     "execution_count": 100,
     "metadata": {},
     "output_type": "execute_result"
    }
   ],
   "source": [
    "a"
   ]
  },
  {
   "cell_type": "code",
   "execution_count": 101,
   "id": "enclosed-thing",
   "metadata": {},
   "outputs": [
    {
     "data": {
      "text/plain": [
       "array([ 0.84147098,  0.90929743,  0.14112001, -0.7568025 ])"
      ]
     },
     "execution_count": 101,
     "metadata": {},
     "output_type": "execute_result"
    }
   ],
   "source": [
    "np.sin(a)"
   ]
  },
  {
   "cell_type": "code",
   "execution_count": 102,
   "id": "square-hepatitis",
   "metadata": {},
   "outputs": [
    {
     "data": {
      "text/plain": [
       "array([ 0.54030231, -0.41614684, -0.9899925 , -0.65364362])"
      ]
     },
     "execution_count": 102,
     "metadata": {},
     "output_type": "execute_result"
    }
   ],
   "source": [
    "np.cos(a)"
   ]
  },
  {
   "cell_type": "code",
   "execution_count": 103,
   "id": "literary-norwegian",
   "metadata": {},
   "outputs": [
    {
     "data": {
      "text/plain": [
       "array([ 1.55740772, -2.18503986, -0.14254654,  1.15782128])"
      ]
     },
     "execution_count": 103,
     "metadata": {},
     "output_type": "execute_result"
    }
   ],
   "source": [
    "np.tan(a)"
   ]
  },
  {
   "cell_type": "code",
   "execution_count": 104,
   "id": "further-sucking",
   "metadata": {},
   "outputs": [
    {
     "name": "stderr",
     "output_type": "stream",
     "text": [
      "<ipython-input-104-d36a14897903>:1: RuntimeWarning: invalid value encountered in arccos\n",
      "  np.arccos(a)\n"
     ]
    },
    {
     "data": {
      "text/plain": [
       "array([ 0., nan, nan, nan])"
      ]
     },
     "execution_count": 104,
     "metadata": {},
     "output_type": "execute_result"
    }
   ],
   "source": [
    "np.arccos(a)"
   ]
  },
  {
   "cell_type": "code",
   "execution_count": 105,
   "id": "severe-highway",
   "metadata": {},
   "outputs": [
    {
     "data": {
      "text/plain": [
       "array([0.78539816, 1.10714872, 1.24904577, 1.32581766])"
      ]
     },
     "execution_count": 105,
     "metadata": {},
     "output_type": "execute_result"
    }
   ],
   "source": [
    "np.arctan(a)"
   ]
  },
  {
   "cell_type": "code",
   "execution_count": 106,
   "id": "guided-conversion",
   "metadata": {},
   "outputs": [
    {
     "data": {
      "text/plain": [
       "array([0.        , 0.69314718, 1.09861229, 1.38629436])"
      ]
     },
     "execution_count": 106,
     "metadata": {},
     "output_type": "execute_result"
    }
   ],
   "source": [
    "np.log(a) #ln"
   ]
  },
  {
   "cell_type": "code",
   "execution_count": 107,
   "id": "lovely-snowboard",
   "metadata": {},
   "outputs": [
    {
     "data": {
      "text/plain": [
       "array([0.        , 0.30103   , 0.47712125, 0.60205999])"
      ]
     },
     "execution_count": 107,
     "metadata": {},
     "output_type": "execute_result"
    }
   ],
   "source": [
    "np.log10(a)"
   ]
  },
  {
   "cell_type": "code",
   "execution_count": 108,
   "id": "rapid-vinyl",
   "metadata": {},
   "outputs": [
    {
     "data": {
      "text/plain": [
       "array([ 2.71828183,  7.3890561 , 20.08553692, 54.59815003])"
      ]
     },
     "execution_count": 108,
     "metadata": {},
     "output_type": "execute_result"
    }
   ],
   "source": [
    "np.exp(a)"
   ]
  },
  {
   "cell_type": "code",
   "execution_count": 109,
   "id": "hourly-dependence",
   "metadata": {},
   "outputs": [
    {
     "data": {
      "text/plain": [
       "array([1.        , 1.41421356, 1.73205081, 2.        ])"
      ]
     },
     "execution_count": 109,
     "metadata": {},
     "output_type": "execute_result"
    }
   ],
   "source": [
    "np.sqrt(a)"
   ]
  },
  {
   "cell_type": "code",
   "execution_count": 110,
   "id": "young-consideration",
   "metadata": {},
   "outputs": [
    {
     "data": {
      "text/plain": [
       "array([ 3.89817183e-17, -3.89817183e-17,  3.89817183e-17, -3.89817183e-17])"
      ]
     },
     "execution_count": 110,
     "metadata": {},
     "output_type": "execute_result"
    }
   ],
   "source": [
    "np.sinc(a) #sin(x) /  x"
   ]
  },
  {
   "cell_type": "code",
   "execution_count": 111,
   "id": "rocky-discretion",
   "metadata": {},
   "outputs": [
    {
     "data": {
      "text/plain": [
       "<function numpy.sinc(x)>"
      ]
     },
     "execution_count": 111,
     "metadata": {},
     "output_type": "execute_result"
    }
   ],
   "source": [
    "np.sinc"
   ]
  },
  {
   "cell_type": "markdown",
   "id": "supported-belle",
   "metadata": {},
   "source": [
    "`argmax` and `argmin`"
   ]
  },
  {
   "cell_type": "code",
   "execution_count": 112,
   "id": "racial-wales",
   "metadata": {},
   "outputs": [
    {
     "data": {
      "text/plain": [
       "3"
      ]
     },
     "execution_count": 112,
     "metadata": {},
     "output_type": "execute_result"
    }
   ],
   "source": [
    "np.argmax(a)"
   ]
  },
  {
   "cell_type": "code",
   "execution_count": 113,
   "id": "pharmaceutical-grade",
   "metadata": {},
   "outputs": [],
   "source": [
    "b = np.array([1, 2, 3, 4, 5, 5, 3, 3, 5])"
   ]
  },
  {
   "cell_type": "code",
   "execution_count": 114,
   "id": "protective-china",
   "metadata": {},
   "outputs": [
    {
     "data": {
      "text/plain": [
       "4"
      ]
     },
     "execution_count": 114,
     "metadata": {},
     "output_type": "execute_result"
    }
   ],
   "source": [
    "np.argmax(b)"
   ]
  },
  {
   "cell_type": "code",
   "execution_count": 115,
   "id": "extreme-horizon",
   "metadata": {},
   "outputs": [
    {
     "data": {
      "text/plain": [
       "0"
      ]
     },
     "execution_count": 115,
     "metadata": {},
     "output_type": "execute_result"
    }
   ],
   "source": [
    "np.argmin(a)"
   ]
  },
  {
   "cell_type": "markdown",
   "id": "designed-newman",
   "metadata": {},
   "source": [
    "Geometrically we will represent the vectors as points in the space of $n$ dimensions in which they are defined as an arrow that begins at the origin and ends at the point that has the components of the vector as coordinates.\n",
    "\n",
    "A classic example of the use of vectors is given in physics, we can use a vector to denote the position of a body in three-dimensional space (usually denoted by $\\vec{r}$), and the velocity that that body has is another vector given by:\n",
    "\n",
    "$$\\vec{v} = \\frac{d}{dt}\\vec{r}$$\n",
    "\n",
    "To see this example within python we are going to use `Sympy`."
   ]
  },
  {
   "cell_type": "code",
   "execution_count": 116,
   "id": "static-adolescent",
   "metadata": {},
   "outputs": [],
   "source": [
    "from sympy import * #symbolic python"
   ]
  },
  {
   "cell_type": "code",
   "execution_count": 117,
   "id": "northern-optimization",
   "metadata": {},
   "outputs": [
    {
     "data": {
      "text/latex": [
       "$\\displaystyle x$"
      ],
      "text/plain": [
       "x"
      ]
     },
     "execution_count": 117,
     "metadata": {},
     "output_type": "execute_result"
    }
   ],
   "source": [
    "x = symbols('x') \n",
    "x"
   ]
  },
  {
   "cell_type": "code",
   "execution_count": 118,
   "id": "dated-vitamin",
   "metadata": {},
   "outputs": [
    {
     "data": {
      "text/plain": [
       "sympy.core.symbol.Symbol"
      ]
     },
     "execution_count": 118,
     "metadata": {},
     "output_type": "execute_result"
    }
   ],
   "source": [
    "type(x)"
   ]
  },
  {
   "cell_type": "code",
   "execution_count": 119,
   "id": "graphic-quilt",
   "metadata": {},
   "outputs": [
    {
     "data": {
      "text/latex": [
       "$\\displaystyle a$"
      ],
      "text/plain": [
       "a"
      ]
     },
     "execution_count": 119,
     "metadata": {},
     "output_type": "execute_result"
    }
   ],
   "source": [
    "a, b, c = symbols('a, b, c')\n",
    "a"
   ]
  },
  {
   "cell_type": "code",
   "execution_count": 120,
   "id": "weird-diary",
   "metadata": {},
   "outputs": [
    {
     "data": {
      "text/latex": [
       "$\\displaystyle b$"
      ],
      "text/plain": [
       "b"
      ]
     },
     "execution_count": 120,
     "metadata": {},
     "output_type": "execute_result"
    }
   ],
   "source": [
    "b"
   ]
  },
  {
   "cell_type": "code",
   "execution_count": 121,
   "id": "directed-affairs",
   "metadata": {},
   "outputs": [
    {
     "data": {
      "text/latex": [
       "$\\displaystyle c$"
      ],
      "text/plain": [
       "c"
      ]
     },
     "execution_count": 121,
     "metadata": {},
     "output_type": "execute_result"
    }
   ],
   "source": [
    "c"
   ]
  },
  {
   "cell_type": "code",
   "execution_count": 122,
   "id": "expanded-corner",
   "metadata": {},
   "outputs": [
    {
     "data": {
      "text/latex": [
       "$\\displaystyle \\Delta$"
      ],
      "text/plain": [
       "\\Delta"
      ]
     },
     "execution_count": 122,
     "metadata": {},
     "output_type": "execute_result"
    }
   ],
   "source": [
    "delta = symbols('\\Delta')\n",
    "delta"
   ]
  },
  {
   "cell_type": "code",
   "execution_count": 125,
   "id": "naughty-there",
   "metadata": {},
   "outputs": [],
   "source": [
    "deltax = symbols('\\Delta x') "
   ]
  },
  {
   "cell_type": "code",
   "execution_count": 128,
   "id": "offshore-playback",
   "metadata": {},
   "outputs": [
    {
     "data": {
      "text/latex": [
       "$\\displaystyle x$"
      ],
      "text/plain": [
       "x"
      ]
     },
     "execution_count": 128,
     "metadata": {},
     "output_type": "execute_result"
    }
   ],
   "source": [
    "deltax[1]"
   ]
  },
  {
   "cell_type": "code",
   "execution_count": 129,
   "id": "mineral-commerce",
   "metadata": {},
   "outputs": [
    {
     "data": {
      "text/latex": [
       "$\\displaystyle \\Delta x$"
      ],
      "text/plain": [
       "\\Delta x"
      ]
     },
     "execution_count": 129,
     "metadata": {},
     "output_type": "execute_result"
    }
   ],
   "source": [
    "deltax = Symbol('\\Delta x') \n",
    "deltax"
   ]
  },
  {
   "cell_type": "code",
   "execution_count": 135,
   "id": "round-upset",
   "metadata": {},
   "outputs": [
    {
     "data": {
      "text/latex": [
       "$\\displaystyle x^{2} + \\sin{\\left(x \\right)}$"
      ],
      "text/plain": [
       "x**2 + sin(x)"
      ]
     },
     "execution_count": 135,
     "metadata": {},
     "output_type": "execute_result"
    }
   ],
   "source": [
    "f = x ** 2 + sin(x)#sympy sin\n",
    "f"
   ]
  },
  {
   "cell_type": "code",
   "execution_count": 133,
   "id": "undefined-german",
   "metadata": {},
   "outputs": [
    {
     "data": {
      "text/latex": [
       "$\\displaystyle \\sqrt{x}$"
      ],
      "text/plain": [
       "sqrt(x)"
      ]
     },
     "execution_count": 133,
     "metadata": {},
     "output_type": "execute_result"
    }
   ],
   "source": [
    "f = sqrt(x)\n",
    "f"
   ]
  },
  {
   "cell_type": "code",
   "execution_count": 131,
   "id": "damaged-horror",
   "metadata": {},
   "outputs": [
    {
     "data": {
      "text/plain": [
       "sympy.core.add.Add"
      ]
     },
     "execution_count": 131,
     "metadata": {},
     "output_type": "execute_result"
    }
   ],
   "source": [
    "type(f)"
   ]
  },
  {
   "cell_type": "markdown",
   "id": "suspected-chemical",
   "metadata": {},
   "source": [
    "These functions can be derived using the `diff` method."
   ]
  },
  {
   "cell_type": "code",
   "execution_count": 137,
   "id": "massive-virgin",
   "metadata": {},
   "outputs": [
    {
     "data": {
      "text/latex": [
       "$\\displaystyle 2 x + \\cos{\\left(x \\right)}$"
      ],
      "text/plain": [
       "2*x + cos(x)"
      ]
     },
     "execution_count": 137,
     "metadata": {},
     "output_type": "execute_result"
    }
   ],
   "source": [
    "d = f.diff(x)\n",
    "d"
   ]
  },
  {
   "cell_type": "markdown",
   "id": "coupled-complex",
   "metadata": {},
   "source": [
    "We can integrate with the `integrate` method."
   ]
  },
  {
   "cell_type": "code",
   "execution_count": 139,
   "id": "recovered-reaction",
   "metadata": {},
   "outputs": [
    {
     "data": {
      "text/latex": [
       "$\\displaystyle x^{2} + \\sin{\\left(x \\right)}$"
      ],
      "text/plain": [
       "x**2 + sin(x)"
      ]
     },
     "execution_count": 139,
     "metadata": {},
     "output_type": "execute_result"
    }
   ],
   "source": [
    "d.integrate(x)"
   ]
  },
  {
   "cell_type": "code",
   "execution_count": 140,
   "id": "variable-norman",
   "metadata": {},
   "outputs": [
    {
     "data": {
      "text/latex": [
       "$\\displaystyle \\sin{\\left(5 \\right)} + 25$"
      ],
      "text/plain": [
       "sin(5) + 25"
      ]
     },
     "execution_count": 140,
     "metadata": {},
     "output_type": "execute_result"
    }
   ],
   "source": [
    "d.integrate((x, 0, 5))"
   ]
  },
  {
   "cell_type": "markdown",
   "id": "authorized-information",
   "metadata": {},
   "source": [
    "These functions can also be evaluated, for this you must use the `evalf` method and the values must be passed in dictionary form to the `subs` parameter."
   ]
  },
  {
   "cell_type": "code",
   "execution_count": 141,
   "id": "married-proportion",
   "metadata": {},
   "outputs": [
    {
     "data": {
      "text/latex": [
       "$\\displaystyle 9.86960440108936$"
      ],
      "text/plain": [
       "9.86960440108936"
      ]
     },
     "execution_count": 141,
     "metadata": {},
     "output_type": "execute_result"
    }
   ],
   "source": [
    "values = {x : np.pi}\n",
    "f.evalf(subs = values)"
   ]
  },
  {
   "cell_type": "code",
   "execution_count": 142,
   "id": "formal-discovery",
   "metadata": {},
   "outputs": [
    {
     "data": {
      "text/latex": [
       "$\\displaystyle x^{2} - y^{2}$"
      ],
      "text/plain": [
       "x**2 - y**2"
      ]
     },
     "execution_count": 142,
     "metadata": {},
     "output_type": "execute_result"
    }
   ],
   "source": [
    "y = symbols(\"y\")\n",
    "g = x ** 2 - y ** 2 \n",
    "g"
   ]
  },
  {
   "cell_type": "code",
   "execution_count": 143,
   "id": "geographic-auckland",
   "metadata": {},
   "outputs": [
    {
     "data": {
      "text/latex": [
       "$\\displaystyle -5.0$"
      ],
      "text/plain": [
       "-5.00000000000000"
      ]
     },
     "execution_count": 143,
     "metadata": {},
     "output_type": "execute_result"
    }
   ],
   "source": [
    "g.evalf(subs = {x : 2, y : 3})"
   ]
  },
  {
   "cell_type": "code",
   "execution_count": 144,
   "id": "shaped-freeware",
   "metadata": {},
   "outputs": [
    {
     "data": {
      "text/plain": [
       "sympy.core.numbers.Float"
      ]
     },
     "execution_count": 144,
     "metadata": {},
     "output_type": "execute_result"
    }
   ],
   "source": [
    "type(f.evalf(subs = values))"
   ]
  },
  {
   "cell_type": "code",
   "execution_count": 148,
   "id": "saving-syndrome",
   "metadata": {},
   "outputs": [
    {
     "data": {
      "text/latex": [
       "$\\displaystyle 5.28318530717959$"
      ],
      "text/plain": [
       "5.28318530717959"
      ]
     },
     "execution_count": 148,
     "metadata": {},
     "output_type": "execute_result"
    }
   ],
   "source": [
    "d.evalf(subs = values)"
   ]
  },
  {
   "cell_type": "markdown",
   "id": "narrative-banks",
   "metadata": {},
   "source": [
    "<div class = \"alert alert-danger\">\n",
    "    <p>Note that the result is not a native Python \"number\", it is a \"Float\" object but belongs to Sympy, this may affect the performance of the calculations.</p>\n",
    "</div>"
   ]
  },
  {
   "cell_type": "code",
   "execution_count": 145,
   "id": "continued-slide",
   "metadata": {},
   "outputs": [
    {
     "data": {
      "text/latex": [
       "$\\displaystyle 9.86960440108936$"
      ],
      "text/plain": [
       "9.86960440108936"
      ]
     },
     "execution_count": 145,
     "metadata": {},
     "output_type": "execute_result"
    }
   ],
   "source": [
    "pi2_s = f.evalf(subs = values)\n",
    "pi2_s"
   ]
  },
  {
   "cell_type": "code",
   "execution_count": 146,
   "id": "floating-identifier",
   "metadata": {},
   "outputs": [
    {
     "data": {
      "text/plain": [
       "9.869604401089358"
      ]
     },
     "execution_count": 146,
     "metadata": {},
     "output_type": "execute_result"
    }
   ],
   "source": [
    "pi2_n = np.pi ** 2\n",
    "pi2_n"
   ]
  },
  {
   "cell_type": "code",
   "execution_count": 149,
   "id": "behavioral-banner",
   "metadata": {},
   "outputs": [
    {
     "name": "stdout",
     "output_type": "stream",
     "text": [
      "583 ns ± 54 ns per loop (mean ± std. dev. of 7 runs, 1000000 loops each)\n"
     ]
    }
   ],
   "source": [
    "%timeit pi2_n ** 2 + 3.0"
   ]
  },
  {
   "cell_type": "code",
   "execution_count": 150,
   "id": "sensitive-allah",
   "metadata": {},
   "outputs": [
    {
     "name": "stdout",
     "output_type": "stream",
     "text": [
      "66.6 µs ± 5.14 µs per loop (mean ± std. dev. of 7 runs, 10000 loops each)\n"
     ]
    }
   ],
   "source": [
    "%timeit pi2_s ** 2 + 3.0"
   ]
  },
  {
   "cell_type": "markdown",
   "id": "amino-voltage",
   "metadata": {},
   "source": [
    "<div class = \"alert alert-danger\">\n",
    "    <p>The difference in performance is ridiculous.</p>\n",
    "</div>"
   ]
  },
  {
   "cell_type": "markdown",
   "id": "developing-commission",
   "metadata": {},
   "source": [
    "The `lambdify` function is one of the useful ones since it will allow us to go from` Sympy` to `Numpy`."
   ]
  },
  {
   "cell_type": "code",
   "execution_count": 151,
   "id": "devoted-congress",
   "metadata": {},
   "outputs": [],
   "source": [
    "lam = lambda x: x ** 2"
   ]
  },
  {
   "cell_type": "code",
   "execution_count": 152,
   "id": "determined-priest",
   "metadata": {},
   "outputs": [
    {
     "data": {
      "text/plain": [
       "4"
      ]
     },
     "execution_count": 152,
     "metadata": {},
     "output_type": "execute_result"
    }
   ],
   "source": [
    "lam(2)"
   ]
  },
  {
   "cell_type": "code",
   "execution_count": 153,
   "id": "elementary-newman",
   "metadata": {},
   "outputs": [
    {
     "data": {
      "text/latex": [
       "$\\displaystyle x^{2} + \\sin{\\left(x \\right)}$"
      ],
      "text/plain": [
       "x**2 + sin(x)"
      ]
     },
     "execution_count": 153,
     "metadata": {},
     "output_type": "execute_result"
    }
   ],
   "source": [
    "f"
   ]
  },
  {
   "cell_type": "code",
   "execution_count": 154,
   "id": "detailed-heating",
   "metadata": {},
   "outputs": [],
   "source": [
    "F = lambdify(x, f)"
   ]
  },
  {
   "cell_type": "code",
   "execution_count": 155,
   "id": "disciplinary-petite",
   "metadata": {},
   "outputs": [
    {
     "data": {
      "text/plain": [
       "<function _lambdifygenerated(x)>"
      ]
     },
     "execution_count": 155,
     "metadata": {},
     "output_type": "execute_result"
    }
   ],
   "source": [
    "F"
   ]
  },
  {
   "cell_type": "code",
   "execution_count": 156,
   "id": "extensive-billy",
   "metadata": {},
   "outputs": [
    {
     "data": {
      "text/plain": [
       "function"
      ]
     },
     "execution_count": 156,
     "metadata": {},
     "output_type": "execute_result"
    }
   ],
   "source": [
    "type(F)"
   ]
  },
  {
   "cell_type": "code",
   "execution_count": 157,
   "id": "wicked-kruger",
   "metadata": {},
   "outputs": [
    {
     "data": {
      "text/plain": [
       "9.869604401089358"
      ]
     },
     "execution_count": 157,
     "metadata": {},
     "output_type": "execute_result"
    }
   ],
   "source": [
    "F(np.pi)"
   ]
  },
  {
   "cell_type": "code",
   "execution_count": 158,
   "id": "caring-morris",
   "metadata": {},
   "outputs": [
    {
     "data": {
      "text/plain": [
       "numpy.float64"
      ]
     },
     "execution_count": 158,
     "metadata": {},
     "output_type": "execute_result"
    }
   ],
   "source": [
    "type(F(np.pi))"
   ]
  },
  {
   "cell_type": "code",
   "execution_count": 159,
   "id": "worst-problem",
   "metadata": {},
   "outputs": [
    {
     "data": {
      "text/latex": [
       "$\\displaystyle x^{2} - y^{2}$"
      ],
      "text/plain": [
       "x**2 - y**2"
      ]
     },
     "execution_count": 159,
     "metadata": {},
     "output_type": "execute_result"
    }
   ],
   "source": [
    "g"
   ]
  },
  {
   "cell_type": "code",
   "execution_count": 160,
   "id": "brutal-indicator",
   "metadata": {},
   "outputs": [],
   "source": [
    "G1 = lambdify((x, y), g)\n",
    "G2 = lambdify((y, x), g)"
   ]
  },
  {
   "cell_type": "code",
   "execution_count": 161,
   "id": "immediate-heating",
   "metadata": {},
   "outputs": [
    {
     "data": {
      "text/plain": [
       "5"
      ]
     },
     "execution_count": 161,
     "metadata": {},
     "output_type": "execute_result"
    }
   ],
   "source": [
    "G1(3, 2)"
   ]
  },
  {
   "cell_type": "code",
   "execution_count": 162,
   "id": "recovered-membrane",
   "metadata": {},
   "outputs": [
    {
     "data": {
      "text/plain": [
       "-5"
      ]
     },
     "execution_count": 162,
     "metadata": {},
     "output_type": "execute_result"
    }
   ],
   "source": [
    "G2(3, 2)"
   ]
  },
  {
   "cell_type": "code",
   "execution_count": 163,
   "id": "unlimited-flexibility",
   "metadata": {},
   "outputs": [
    {
     "name": "stdout",
     "output_type": "stream",
     "text": [
      "Help on function _lambdifygenerated:\n",
      "\n",
      "_lambdifygenerated(x, y)\n",
      "    Created with lambdify. Signature:\n",
      "    \n",
      "    func(x, y)\n",
      "    \n",
      "    Expression:\n",
      "    \n",
      "    x**2 - y**2\n",
      "    \n",
      "    Source code:\n",
      "    \n",
      "    def _lambdifygenerated(x, y):\n",
      "        return (x**2 - y**2)\n",
      "    \n",
      "    \n",
      "    Imported modules:\n",
      "\n"
     ]
    }
   ],
   "source": [
    "help(G1)"
   ]
  },
  {
   "cell_type": "code",
   "execution_count": 164,
   "id": "blessed-allergy",
   "metadata": {},
   "outputs": [
    {
     "name": "stdout",
     "output_type": "stream",
     "text": [
      "Help on function _lambdifygenerated:\n",
      "\n",
      "_lambdifygenerated(y, x)\n",
      "    Created with lambdify. Signature:\n",
      "    \n",
      "    func(y, x)\n",
      "    \n",
      "    Expression:\n",
      "    \n",
      "    x**2 - y**2\n",
      "    \n",
      "    Source code:\n",
      "    \n",
      "    def _lambdifygenerated(y, x):\n",
      "        return (x**2 - y**2)\n",
      "    \n",
      "    \n",
      "    Imported modules:\n",
      "\n"
     ]
    }
   ],
   "source": [
    "help(G2)"
   ]
  },
  {
   "cell_type": "markdown",
   "id": "guided-bangkok",
   "metadata": {},
   "source": [
    "Taking up the example:\n",
    "\n",
    "$$\\vec{v} = \\frac{d}{dt}\\vec{r}$$"
   ]
  },
  {
   "cell_type": "code",
   "execution_count": 165,
   "id": "stylish-casino",
   "metadata": {},
   "outputs": [],
   "source": [
    "t = symbols(\"t\")"
   ]
  },
  {
   "cell_type": "code",
   "execution_count": 166,
   "id": "completed-chicken",
   "metadata": {},
   "outputs": [
    {
     "data": {
      "text/latex": [
       "$\\displaystyle \\left[\\begin{matrix}3 \\cos{\\left(t \\right)}\\\\3 \\sin{\\left(t \\right)}\\\\\\cos{\\left(2 t \\right)}\\end{matrix}\\right]$"
      ],
      "text/plain": [
       "Matrix([\n",
       "[3*cos(t)],\n",
       "[3*sin(t)],\n",
       "[cos(2*t)]])"
      ]
     },
     "execution_count": 166,
     "metadata": {},
     "output_type": "execute_result"
    }
   ],
   "source": [
    "r = Matrix([3 * cos(t), 3 * sin(t), cos(2 * t)])\n",
    "r"
   ]
  },
  {
   "cell_type": "code",
   "execution_count": 167,
   "id": "hydraulic-fifty",
   "metadata": {},
   "outputs": [
    {
     "data": {
      "text/plain": [
       "sympy.matrices.dense.MutableDenseMatrix"
      ]
     },
     "execution_count": 167,
     "metadata": {},
     "output_type": "execute_result"
    }
   ],
   "source": [
    "type(r)"
   ]
  },
  {
   "cell_type": "code",
   "execution_count": 168,
   "id": "turned-donor",
   "metadata": {},
   "outputs": [
    {
     "data": {
      "text/latex": [
       "$\\displaystyle 3 \\cos{\\left(t \\right)}$"
      ],
      "text/plain": [
       "3*cos(t)"
      ]
     },
     "execution_count": 168,
     "metadata": {},
     "output_type": "execute_result"
    }
   ],
   "source": [
    "r[0]"
   ]
  },
  {
   "cell_type": "code",
   "execution_count": 169,
   "id": "distinguished-preparation",
   "metadata": {},
   "outputs": [
    {
     "data": {
      "text/latex": [
       "$\\displaystyle \\left[\\begin{matrix}- 3 \\sin{\\left(t \\right)}\\\\3 \\cos{\\left(t \\right)}\\\\- 2 \\sin{\\left(2 t \\right)}\\end{matrix}\\right]$"
      ],
      "text/plain": [
       "Matrix([\n",
       "[  -3*sin(t)],\n",
       "[   3*cos(t)],\n",
       "[-2*sin(2*t)]])"
      ]
     },
     "execution_count": 169,
     "metadata": {},
     "output_type": "execute_result"
    }
   ],
   "source": [
    "v = r.diff()\n",
    "v"
   ]
  },
  {
   "cell_type": "code",
   "execution_count": 170,
   "id": "hispanic-stevens",
   "metadata": {},
   "outputs": [],
   "source": [
    "rx = lambdify(t, r[0])\n",
    "ry = lambdify(t, r[1])\n",
    "rz = lambdify(t, r[2])\n",
    "\n",
    "vx = lambdify(t, v[0])\n",
    "vy = lambdify(t, v[1])\n",
    "vz = lambdify(t, v[2])"
   ]
  },
  {
   "cell_type": "code",
   "execution_count": 171,
   "id": "soviet-shadow",
   "metadata": {},
   "outputs": [
    {
     "data": {
      "image/png": "[encoded data removed]",
      "text/plain": [
       "<Figure size 936x576 with 1 Axes>"
      ]
     },
     "metadata": {},
     "output_type": "display_data"
    }
   ],
   "source": [
    "from mpl_toolkits.mplot3d import axes3d\n",
    "fig = plt.figure(figsize = (13, 8))\n",
    "ax  = fig.gca(projection = '3d')"
   ]
  },
  {
   "cell_type": "code",
   "execution_count": 172,
   "id": "unavailable-touch",
   "metadata": {},
   "outputs": [],
   "source": [
    "t = np.linspace(0, 2 * np.pi, num = 200)"
   ]
  },
  {
   "cell_type": "code",
   "execution_count": 178,
   "id": "powered-dominican",
   "metadata": {},
   "outputs": [],
   "source": [
    "def make_curve(i: int):\n",
    "    \"\"\"Update the plot for our example\"\"\"\n",
    "    \n",
    "    ti = t[0:i]\n",
    "    x = rx(ti)\n",
    "    y = ry(ti)\n",
    "    z = rz(ti)\n",
    "\n",
    "    x0 = [0, rx(ti[-1])]\n",
    "    y0 = [0, ry(ti[-1])]\n",
    "    z0 = [0, rz(ti[-1])]\n",
    "    \n",
    "    xf = [rx(ti[-1]), vx(ti[-1])]\n",
    "    yf = [ry(ti[-1]), vy(ti[-1])]\n",
    "    zf = [rz(ti[-1]), vz(ti[-1])]\n",
    "    \n",
    "    ax.cla()\n",
    "    pl = ax.plot(x, y, z)\n",
    "    ax.quiver(x0, y0, z0, xf, yf, zf, arrow_length_ratio = 0.05,  color = 'k')\n",
    "    \n",
    "    ax.set_xlim3d(-5, 5)\n",
    "    ax.set_ylim3d(-5, 5)\n",
    "    ax.set_zlim3d(-2, 2)\n",
    "    \n",
    "    return (pl, )"
   ]
  },
  {
   "cell_type": "code",
   "execution_count": 179,
   "id": "impaired-passing",
   "metadata": {
    "scrolled": false
   },
   "outputs": [
    {
     "data": {
      "text/html": [
       "<video width=\"936\" height=\"576\" controls autoplay loop>\n",
       "  <source type=\"video/mp4\" src=\"data:video/mp4;base64,AAAAIGZ0eXBNNFYgAAACAE00ViBpc29taXNvMmF2YzEAAAAIZnJlZQABWTttZGF0AAACnwYF//+b\n",
       "3EXpvebZSLeWLNgg2SPu73gyNjQgLSBjb3JlIDE1OSAtIEguMjY0L01QRUctNCBBVkMgY29kZWMg\n",
       "LSBDb3B5bGVmdCAyMDAzLTIwMTkgLSBodHRwOi8vd3d3LnZpZGVvbGFuLm9yZy94MjY0Lmh0bWwg\n",
       "LSBvcHRpb25zOiBjYWJhYz0xIHJlZj0zIGRlYmxvY2s9MTowOjAgYW5hbHlzZT0weDM6MHgxMTMg\n",
       "bWU9aGV4IHN1Ym1lPTcgcHN5PTEgcHN5X3JkPTEuMDA6MC4wMCBtaXhlZF9yZWY9MSBtZV9yYW5n\n",
       "ZT0xNiBjaHJvbWFfbWU9MSB0cmVsbGlzPTEgOHg4ZGN0PTEgY3FtPTAgZGVhZHpvbmU9MjEsMTEg\n",
       "ZmFzdF9wc2tpcD0xIGNocm9tYV9xcF9vZmZzZXQ9LTIgdGhyZWFkcz0zIGxvb2thaGVhZF90aHJl\n",
       "YWRzPTEgc2xpY2VkX3RocmVhZHM9MCBucj0wIGRlY2ltYXRlPTEgaW50ZXJsYWNlZD0wIGJsdXJh\n",
       "eV9jb21wYXQ9MCBjb25zdHJhaW5lZF9pbnRyYT0wIGJmcmFtZXM9MyBiX3B5cmFtaWQ9MiBiX2Fk\n",
       "YXB0PTEgYl9iaWFzPTAgZGlyZWN0PTEgd2VpZ2h0Yj0xIG9wZW5fZ29wPTAgd2VpZ2h0cD0yIGtl\n",
       "eWludD0yNTAga2V5aW50X21pbj01IHNjZW5lY3V0PTQwIGludHJhX3JlZnJlc2g9MCByY19sb29r\n",
       "YWhlYWQ9NDAgcmM9Y3JmIG1idHJlZT0xIGNyZj0yMy4wIHFjb21wPTAuNjAgcXBtaW49MCBxcG1h\n",
       "eD02OSBxcHN0ZXA9NCBpcF9yYXRpbz0xLjQwIGFxPTE6MS4wMACAAABOXGWIhAAU//73x0/Apuj5\n",
       "ZsudRT0hMIrY+kgovVjs0DJ1AAADAAADAAADAAAEQ8w057dOLhLekAAAAwAG/AB1gBwdnO4jMkvG\n",
       "CnjoLeyVpfJh3i3o2Oh+BRKOgkziP9i7S16d3xgCmVct225k265qCce7e6L31q4QAd3Ipnbz+EQi\n",
       "zjfx8AisVyd8PAI2fWSFpGZ/P8ekxF8ZfY6aJgqvlV76Fb0pf5iHzLy/XltEu19Yz10L0RbUAyng\n",
       "J4ec2IvzliVAneIuIISOvp+evlCSnGXDLK8lyQSAQrKyxq988GIMehFvszVq0LP3Xw6Ey5JAbtL6\n",
       "/cVeul8MYoB0RQCOQ8+gyY9CCV0QKEpgScZLNs1upBK6qyP6L5HYvvNy/54cDqUumTvQYoljnqMf\n",
       "DfjK4E1R2evFbBqICJBASS6p/R2rbfi84pyJ4lNkJhWzwIzVsCZPXX0DcGVA9tOyeM7EmTWm77GE\n",
       "9mtYzU1OlZTO96yyC2Sl1GI/3v7ebP6osDyAbvW/XNZuplqZBdBQyR1/83I5BEx0cDwAAGfLmu3w\n",
       "GPpm6oSqTWzw3TrIkJy8e0gL0pjJ49Xrt8p1LpYYIiM3liqLWU5kEHS/80BbQol1z6aUG8WPt/HF\n",
       "GNQ+tfo4vsKxXTCqOIFyQh8yJ646HyNPipFl4DzK4kU0MN89jJ1CgnymBTCA5fvzODLwm149465k\n",
       "R0IU5zhNXSTWRGEAHq35xt8FgMJQRBz25342MEZYmnZiCWPrkKmdeyjceeti7+XsIESQUqcR2kxN\n",
       "l2DB8YpaJlG9mJrQSs+C6PirnWnNH2eQ5zOBJxONdVUHZU+R2xhVySMmrccj772et6ubeJnGVg13\n",
       "MEeNNztZ1JkVnUz4VpwwPx69zWZbJpH3bWgp9EuCaBIgnzZhPPm5ddD1ushilVcZS7rzc/IOo0S+\n",
       "1Pb8B6+9/94T+Zo0i3UsOYvdqzTOQxNxvEYGAZ1H/KHg7Bz0WF12N4QrpCEfAlVBzunjNx9kQ9Ti\n",
       "pUIWkfAGSHvuvbGChABY4kznPgF9eAnWuzos+4x175hdEwfc571eRdimfimp5al49W/xae0VekEz\n",
       "7QLtqvyo5mOAs1ptuKpjtKG6DZDhaH20zBpGn8OMykuY1DndD2sg17DS5pVb31yFmLLj1N26xWEm\n",
       "O1AYDZnYWDTCT5EXuDr7ywjqKM/GdfchL0ji7c5q0ULbEpy9e/zGQkGhMP8htAIk0ivY3HD5RBkZ\n",
       "Zta1wirK2QVTw7LA9hEVdZLM2/Zkjv7iNvsbr9tnKGFms97M1x3SWPZWyxvROW5Yr509SC5I1txS\n",
       "4K+3QqVzpatH2YRs05PbMXeoESyfE0/TTmG4G9/akzB+jNpeNo/+z5j140D+cQWbPIRm8sggA6lD\n",
       "LgPlT39X4Hil22gXCKOJu4LJE8ezKoAQaP9b/MhjM3cW/h0foDaEZ6WkQVjCLxdIRlwFAXSd7HcZ\n",
       "yLXIeehwOPBHUnW+Hy7Ziu1xsw2kNQnVPh5VKSEHzH+DPtCjC3tFMeIM++K1ehEfnea+X+l7YUyU\n",
       "y3oSSmkreGz9K01uTmsiT6pvqhmfhG1K+TXtnhFZ7svNKL7A43Xeih3Pk+JBNYbZxwOFxpRRFodY\n",
       "pE9swsra1/kboB1b9GmEqX4FIxOpOz+xztJlubnsUOEK1j/qPQnaQyNDU1ZemL7B/5t//bWAGZSp\n",
       "mIy25LFSRyaGHiBOwy2OKy9nW9gqGIJQC/YGNJsIR6wT1X8Ftuhkgorv5AKTYOOiHzbluL2m1rhU\n",
       "FDZpWYnLMN2VbWuxVNPe/SNfgP7mq++G66ekrakuneoP/SpI9vCqaqRk51O7NKjZj4o9ttucRufo\n",
       "08lWN6Db1GyyliUoTr2LHr3OZTYXnc2SC+7i2TIJM/qsBBx1U/x56tIviWkymAVrHqVRRUQZOCL2\n",
       "HpXrl+iMh4gLdEMWFfezOuqwPrG3Sc7TnNvAwZdVaMIcN4HEcXT5EQLlMkn0DeX+/+LZ4DnixX8B\n",
       "vF4pYaKvx6FGILFByygZNpqY/jvLZew+5pEC9z4qYWNFvMeO3FyaSDLyyTBBvkp4kdl4XwHY1RNP\n",
       "WR7BbgTNPH/SKpMAIFiL3poqC5X8Or5HhTOj/wQVCspz/fouaxhLdaiD9A0VIZfw4eYmTNpRbmB1\n",
       "kFcH2Ueo2s5GOXB5H4ubRavt4Q23ZSy6vj37JVeVUcpuSHPJPoIKbsqFc5Qma2POPvQCIsJMwCHv\n",
       "J4wwFXG0nuj7RM3+27crkNZzH4oncS92Rek8JA47O9wB3JGKGWrr+hVxRQcH1Q3PdR0vWyZ89lHP\n",
       "5Ks3JvD4NV6rrY6dyIKPNqXQy0k+A6/pOGz9atTQo4+ohq45Wg6gpMA6reqFWYUmxcd64CBv5hW1\n",
       "mvi0xOczr33J6ujs1zsqrIGjjEa6xlSCSM3TOZ5XYkiy/UAvqXDV9diW0iAtrBuIku4TOzzsFbDE\n",
       "y8L+Q5W8lCf0CiCeUbJv7Nr26df5++NSKVFVINF5cpq4AUeAaqxnYzJDrEHGl5qvJMynX5Lu29bK\n",
       "Ltk5R05YXjByOXsL61sbVBXypwU1+hb3d1f8PBJxAfIhNG1PIP8S12TpyDxfG+5aTuA2XodN4RX9\n",
       "3vkjQKLK4iIWMBwoMA/yFwWsPmSx0Hf/epu+X/ngzDuP8LLRh5/A3+vLwwFRf1cuOyCoqOXzolcE\n",
       "NbwOflhDLEZdaEaMDCuMwnMgwa/dVLLr3NyHQ6gVb9NWL71JvuUa1OPetyry3ie6Ebu0imfD6Ujc\n",
       "tLTDZHwEba0y7R5PzRYu1RdatazLW/eoPQ6xeaRQco/gQ8B3+4Q7vzdqz1ynDWWbVPQnqdA8G++b\n",
       "H/B3vTl0KlD3dHTcjx/C2IKNnIQWSXeYVlXHSAzqK4rtBTSvHOZl4DrMTsh6NvIROPeXUQwPdWwz\n",
       "hkaD98pEEQXlWwnpIwy2FdE7iDf729d2H0CrNLNY7yKD3/FwJWuOH2AcN6x4R6QP/Pu8/nvLeafG\n",
       "eQR5anCyEMBJ/v+Zsk68D/qTazO0xKiIK5cXejVqZQV56aE3cwFALpkKV6qhEeSir8w0RcUHB9dn\n",
       "fWiT/9W17cL/a4/Mq9+/qgAHFNAnXapcE5Q95wOIuYWYluD4pJSRJp0qEkVZiAZhN6IK9CnqxD3P\n",
       "EQ0EXqfQv+3TX/0W/5Q84X3y/guCtSHXz8jHB0y9OZdZRq+q/uzSaEn1o5c+wuTAwFLaV+0sidDq\n",
       "OrwTqUuCOPjsHy4tJrztOcGaO408WF8uBMFIhJ+4772xjYx8zb18GuzdDGrOY6f30VWW7VD84YWu\n",
       "4Ile/UCXIpwmCSinHqLsWz2MmZfBfY+Z5y78MzaQqq5XKallz7qQ+w+aEe15n3iGl8rUcgeewTm9\n",
       "FF5C7+1I/feYHGFsDlP/CJ11dPV+aq2aAFiENeuUUwUwZXwloNtrEeJpMSyFLZhdUWivWNcvbIcZ\n",
       "fu7NkdeIPLeXm4IXztmIvo+ODn2/DbxJ9LjzhSQt8QX7JIbWPCvvn8OTdVjE16FV7XrZDow0fLaD\n",
       "/ulvN8HXglHD3wdS31UKJc6oVkDs/928kVQRJZfkX7TF5GkpyhzVYrj2K/ftnVcso6UgRQyMRzeR\n",
       "6Gao/nAjY7NPzD35Hywc2mhIvmemIlRYK7uSjRA/pNGYen1e9lahy53qhGE+gOvxtGuZajguVvwY\n",
       "m2P3Vyvxu0S5DDWCmrDgsuLQ9rQGi6hExgEgFkifA2JL771tLO3gG6BHmxvW+fZ41aC+mQuXxKf+\n",
       "vMyUja0HLvftylXmBkdsALN4Rv3M+HfGvl53MGvM2gAKfQvH1Rpfuyr5+wGCpiEF2n7hiy7LeWGX\n",
       "v/DEMjSVEikbHjRcX7fERvP6HwHmnNO6Y497b21tbyHrVXT8ddF3KFPATJhpD4H90qQX1jl0/WZR\n",
       "KP39GNpQJmPV/s0DOsRToFvQgUI0SAP+fYxVfPvN/moaAb/soAvtCy1lxAVCyiLL//VElZijCAb8\n",
       "4EuYYE/Z3Hsy0PImZmLfUV1bPTpA41NK1MjGRCu4fq1Qe+NGwMEiymVyh91nZPUWgoi8Ky3w66Ry\n",
       "H4l/UoIBIp6z4CWt3aQ6bv7DaEr9foAiW1oASHvF06MlVpirtPlW8yg/IWzFTz3vataFFce8olqE\n",
       "flB0JH3uoEyWcSe+y3D5XOK8c6C2nDWrFH3rVErO3tTOKUO8JnulatF3Q2NMHtEZpuloT54lqXCF\n",
       "JMUL//OsWBvR1WsFQMhgOmtwD6QTpDzTWoFmaoHTgoMFzhw4mERjpLg7rrZGNR+sDgsJvnXvWrz0\n",
       "GOv9mJ5Gw1WRXIXpeV4bfX/6BPmdQ8LJfGda7ZZ2mFYUz7ptX5oWdjETbL2WMAsZrAJK+Ijy/FyH\n",
       "7UF2oyKAghf5Ul/oSW2wQB7Sop4FYH4zw46YRi4nkEdnOhV2+uK5H6rpzicJT2Uf9e0lTTlAvgj8\n",
       "CDowIgeCZPBH2dmVZ7NPgHEs/RfEcUJM61weRgGnkg12la2/v9dV8tFeoCTBFz1vpfGos45Ki06N\n",
       "bdJj4bPQR7mWusR+TnuNLNf7gCxY0uyEkt7vKD4mhvq9EwRo6/HwdwsuDRwPuj3IqGX+MrkRP38f\n",
       "8HIl/U2JS4Nutvh0H3ZEDttaFj9bg5xI/z3BM07tWImDSKOnkIT47buLHfM/mtXW9ofcvCCd9N3J\n",
       "95Q78BMsX4eJZokzi/9olF4qu/YeBAQbMGdlaGmW3iQWsGhN8XlM4TkeUMh+zJjvaI/mm2nftqdD\n",
       "Z2M4/+sjBbd3YntoGHStdONe3wbqcjR9gH40Byl/rc0MMf5M+nodW1HzfbwfspybpjRnM5zZvVeZ\n",
       "EQTFXapOzRzCN14OzzZvaFwDNf9Ve1Dtaq+Qh3Y5NToulq+hjdjVv5z84t3euJHfEVhgTJidt64p\n",
       "Pkp+EzFekPJ0xIW1EZ7FswMrtAUNvp37Nf6tgLZfts14zPf3Oesw48VF5jMccMjsKZ1jFYRAyrDV\n",
       "q8vbcYn3SN4yYVXxWjeCpABZHTHk+UVnghMSxKD7p9ejbOAjBqXEapEzl8XJHNDINpMZ7JMI49vE\n",
       "IHAjz8NyZC0J9RCwfrVxYN8FgdRTFihNMmzlt1oSceh8P75VC4dbYqIv7heWXRh7p1xLW/eSst0e\n",
       "2MhcXKsINr0NfDLR6v8ibV9fWzkg/FPXPDdbaNa9b27c8hIBPyttwgA1jPH+wFqhgIBdVBMcKB/0\n",
       "DneijBtxpT7tZm57Jy/lLchGD3j3TdVbBskROhMK5yJOZIS95T5X/YnR/v7NRiJm3w+neEOeR2Ug\n",
       "MWrSaQVvUMkov63HbqLnbC65H4hTw3YsOCuX6yxdo1SH1Z+YqVjZWRoKYzh7AQXtNjq1WM9LoMHL\n",
       "6U02gxKpE4zDxHXOiS20svAaVTrqB5xepeOmZtFPMt9kfezNYuOu2InZiVSNxVAJCvr1UwIjJE8U\n",
       "GPxKT0uSXLUISrb7ho1d90rSQTVNLJOra9kd3sZOGG3uLC+smSAVQIqMGV83E6yJ8uyxLE2hmIOP\n",
       "WjpYyr9o/SIf/E80bXx/FbsJfaGkxtjW72j+KzoxyoEBYYcOuCcn6zzNN2ps33sqy3i7/fgAZqv0\n",
       "+w4tzohpO3V1jRxhFuQy4HFZmKZsc0DPhSiiB9HAhsfbWVQ1iJhemT12jE0Kgforbj3Esph/qeff\n",
       "5XvmLmvFmni4KW+iZRRTub3/9Q/CQqtDbFPaGjHVj0AHyK1hfkuLDOj0ifOEWmxi0HycgOqvtM1h\n",
       "Ca+p/cu3aCCS5AwBjgH+WjdGHZLNbBXOjRAqii9HIoNWApirai55awZ0St20PgQAXKAD+FnKQsoB\n",
       "QlcQcENp8VP4gPZibEpQsaS1//en67REuiRYHzrwluh8lXfRE2+04BuyYRtzvDr7rNYNSQKev1Yu\n",
       "z04cji3urft0rnuuTtWIontIpnLdH6BF2aInrXGEiKexLrtF30TgGoDrafkkeSx5g4kyp2PFrauz\n",
       "OIYsDfFMxLrDffl2Vm/dyc5h4l9bic4iZEFijqf6W+0BOrRcF5x+vjlUSApmifPgI5DbtR7PQQB6\n",
       "1xcnu/i1vAX7jwI74a3H8qZh8Y67CqNPSR3KGri1Cvm7qexdgMEcbQT6/GEExgSGKbeDOOrxkjgk\n",
       "mId+R0sbEfdmzfscXafiyPituN035mzE71XK8HVjtvQcUAfJwrYrOS4e+8qwxMnSF9sXQwGKlrVS\n",
       "/60b8HfRd2Iz8J95bhl8CS6Gy3my1xjUidGPBVI8lKwfd8shoNqaHBhzC65eczfnL5Dcva6K7nB/\n",
       "xQp6vx9NsAPVF9+F9P8DdhC/e8TKd3oDpf9iwNkML0sgtU40Bl6gSx2tX4vZTzWaVxy4lMYwsLmf\n",
       "UcZ6bDXKkK1XcYh8mPk3lMm3amaFPRhv9VY/PW3ByBp7oviA3jN0OT3lDBxVIZAfbel/ixUbb59h\n",
       "D53VZgpe010NJKReUzAZKsNh8LJ/T4KbvwMSSTaMW6Nwj/vrPbxm7eZJuW0vL4RnWqEI5Kjn1KLM\n",
       "Afh9uaYiKGYGaOdM7+pxdXlBN0/RoHCaa1VYl9vuF2Lv4soef7nCHt95k36q/WMIeUBnkK8YzjJr\n",
       "w62pPW5fE+IRaa7/bPV2Oz0vBco77KOPggOfJxpyPC5/Ra4eEY0651v8vfD4txWH385dlmA8urMl\n",
       "jxfFe2lNELzexVbNhn7uSU8e2zASVQA4xWnaCgUT/WyAdDtU4xWYZ59p0hmOXnDG0VMM5lQsQpRp\n",
       "a/v/SXYpWx5WFcKeLQ8xqmNoLZTHlXGOYkqr3YNLkGKkVW+qwUpkh39IWNcgZJTqiZ2FyIcJFXCB\n",
       "PG94m91dyt4TkAeUgVNlbkqVW4pBiJGbSk5CqBLwDKmb1OGtB0wAjy57vSOW6kxXSWWMpQqj0rit\n",
       "A5Nd0ddvI5rTSGG/AHhvrHrMP1F8CJ6TwN/77vuTBMgm574zfNaZgO0wUwUBCIwc4NpWV6pgUPaN\n",
       "ottG2pTixI3Pwn/raAKWuQX2ZFP3gk55o2cF2onPXvksehedwqsm3heG7PHmH40YnacSl1TSc5Mq\n",
       "OjSz1yUX1v4MgOQTVT1GW61mBJ23U4nGf6alhVsfYVLv9tCQI7SDYXyOgEergHVD5/hpuUH7aW4W\n",
       "8jx9wXAb8ma7kiwpHi3WVl8f0TSdNLgqmpXcfj1XE+gbkSbUGzA8ZirDrdtOuYYGXN8QFowOyknK\n",
       "E7UPvL+0y8gk/cdBkD4FmWH6NaZ8Onshz3Nc0U4PG4Jyfsq6apLPcQy5P1Fi6WrB4Awcfy4Ifwyl\n",
       "KDe2kSxz0A/gT0UNomApa4SBo/pacz65PvF58kQcgcR4NoEjDqTL9WbaG3DH9O1fSE4S/lhaeBLj\n",
       "gXwCSHQSfDBl/OiM/wCnxoSHxC5a8NkFn3rUyHGcR6LcVaMNnxpF0fBM/Rq4gi+yi5AnPn0fHFrq\n",
       "g17Ed2TDOEMFAV/oYgaK9xJY20YIjlMK6IvoKkXVNdrYu7a94VAzc0VCA3tJR4IE0AU7WFPDpwZI\n",
       "d5RImdial86/OfY6z9zBWW+anSmsEXHVcBR41QtlgPwosPYom7I83UWK1KvbfIFTHnvY89DnSj96\n",
       "R8T18XOcTZ2EHkP//tUzAUf/y7SaPkRNTJDEr6Jwh99wJ5P+2STNhYom6zv1XIcIbqN+M4Q2CYcF\n",
       "SfaG2B24QnVMDJ6MVlWvsu3Ch4x+jsV0leeC9WS/5/VMlt818OPHOi18Ly/ixhJHH//xvIyb+Z5W\n",
       "sg00oMPtHcAsOCb1fsclGmqCRiz4dSnO8uv+Hwyb7s1TAC0fsxrKfFe8g+8r+SitD+fAzYb1iigj\n",
       "2Jst+fPl0sWCyjKlFHzeXsvLY7QdCQ4YTgiCt2caZYQIuPeJ06E4IlhCQIMu7G83+N7TForujcxM\n",
       "sD+8FFBv1noJMWppOmeyYXkemrH4iz0W1yNaCdr5RFox6CjVV37cEyVHo8zD7S26aheNWQalIUZI\n",
       "POcoBoAm/rIyfL5H3SnSJf12MG7i2axULVfA8rlXIR7dvIUxUUS+xyv3OMk6jEKyniE1yJcyP2P4\n",
       "BWPyVwtHT/UWnS+hQt3geKSQD9XDOMjajQjVSc2Qi7SGxSMWXW5QR9AodJnF03wTp8NaL7FBGWUo\n",
       "lO4iIvphZhme2/G4/13HdFPT385vlYAHVCcWvuT9A8t/KnBhQoOryJivPGk7mcygx3OVhRgQdAi+\n",
       "Ms2eEFYnYs5MbG9qHqVpAri3Ou3kbBGgBpBawhUX451OsYajJ+Er7oV2YXQFTi5h0Q5/z0AMzVZi\n",
       "3eQqol9gVtPLfGOQomHypYRjcngd8Lume7EUsNp84mum/gx1eC4EB4vhfGF3lTuZwKtgxJD8Flgf\n",
       "Ut5o2wF9Lpw1BrcXgxpjKCULzDJPgZ/Z9/sAV66NYeACWeI4RnfmZdF1+Ad9dU9gspDALwF4W+wd\n",
       "T0DwATxqrGZD+G97U80btS78FMTZ0btgNk8uf3s9IYhKeFGq3gMgY9MpmsRMMCT2iPQLN5SnnnPd\n",
       "LKkN/pEM2vUgrPPNpWX11znk6lDp/apZhQvw4CALFparz9cRnYtqWfSMBzR2m6oQCXHzSLkQIhRN\n",
       "rKMiYSYLaoyHwHuIxwOHVsFYA3KTDU82E42hIk4evmDNWC144X+tOPQhHzo4awbGpl6nemzt/t1L\n",
       "CpOV2oQaCwseugTDjsBtlhdG38fHv08KZ1a4mvpFjMgBkAk3VWV9P0QkWohm2ivX3TXsI8je8yzt\n",
       "E4GH8bUDTlXKASwkfTI94SP+GHcnUn/cYjSp8iZ9MK6u9t3N25W/BDUtrHezNDzcsKwdxwZ+zrri\n",
       "2tm9GQna+kJai4+TJO8N1ME4fBrx5XdfENrNukL7Qgv9rn/jEVHwaxHTohXC6CT6dscvsYC1fiMi\n",
       "JQqdKLxbzjlCQ/0ff+u9t70aVpv+4oOsAZm8saenpJKji1/SeU3GkLBQBnPjRdQgY5JAjbUVCc5n\n",
       "y3OrApcDv/+cz/dy4ikjv4/qLSRQdUYmQGITU5v3ttPiSB/5X8TckF3699aofHNca1lhF5W2UZtC\n",
       "RKtfzsDo61GqiYqYqh765lDKjJkHTjk9IriyosA0r8tPuSDyCaPRVc/kyvLAtDugkd42E3nBWqA9\n",
       "Ke8xdupKu5INj7O7NPqDf5g1VfmREwk3o73SqFYdFoZCSCTIclFPcOXRefCRL1zUPkv/0gDFfMpV\n",
       "kDsc/whQqBzYpFy+o/c0VluXkc1uh7GcyzYV7lRx07yznXFP9ohQVPa8tJIPrxucMF7jGk0RMmhk\n",
       "RhJJgVHpC7wEPbvLdwyFJ+47a916hXUzbTP1zgTEGYOG2fBaNj/3O3voZOv62cJ3C6ahBV7qvKiD\n",
       "87lJRhhzbpTINM4QDOUEGXzLPgFbXDbneVCImmPbY6mPbY/LdFmJaXxAAAOEaq/dTOENjMvaNWs7\n",
       "AbCm84WUJtIC9OYkODkKrBOtw+a9ZH6YAYE+qi/hb+Q8UY7+i4FMqj0EiOdNOKUzoqA4RwCn9QHE\n",
       "VM61kuuTwkLpQXR+jwFRpkMZfnIQohTzuSZQE/0FQC6LKgxtn71bclJLS2mzuROFZ/cypbK1CJIe\n",
       "C82X6Vb3ox9BtSXDewPwAUaUDHxdUQkAppwV456SKNuOOSe5UGdI3WcsYKuY5GCG7bUDVYmd6j+q\n",
       "PdtjxO1tzIOLbL13TzSlM0rETur6yDu5LbmMI9aZD1D8/hamX44lQbX7hgd3cR+R9Dr/B8gVSyvo\n",
       "nhhsAluLA9pMddqz74r5aOryatVZSlWxxefc779426b5Hk8RJErK8L2OXgiqS4YruYKjzZCrJ64L\n",
       "sQE9wGqlcfFQqdJfgNCFHAiekQ/AVmoFcCwGaUr6KrkcZfEQz+jXeORgFKy369RoN/YiOZcpZMNg\n",
       "7DZBRsDNVLW/vi3QdiXg1d8bJHN6fsxNHMv5Tc0kYRxsB8V7/rL1L8Vo0BD2V7aZ/7YH+v2+6WdG\n",
       "B3w/5Tsy7vsrVFsKRqdxlfMIqB1TpZ1WBgBugQYyxJWpB6g3g7Lb0OyyE/CnRtAW7+Ccl2j+47GP\n",
       "oGLNjl7DSwsyrnVrdvWF+TjwWNEZtGSWQ+VNzHe/qPerfCoG6yZ1LiaeKMooP1dub4Y1d041SRvS\n",
       "BQfd+hRLw+rVSh43IaDWypl6a5Fi/MHK6XUR3HeDg2UPzbZW9SGRKKhxFEjjj9jYtIyNakSGt91/\n",
       "+93OmQDeSxmtxVJahy36suWFE8HHITDtQf0zsD26kDiFQdrEY42gMRDUq696O6zqqIzaXmJm/DlM\n",
       "Yo4e36nWOpkXeojYx1hMI3xrjc1TIh/nX9ktHvyoKNWLke48dmg2hKAZlX1TrFfZTlvt7kFDQcs6\n",
       "oKMYBVb9K1rYixQSDjC31BP4YsuRP++/gZIhYaM93R56xz31DNCQPURp+DHOG31P9pgLlgnxmLuD\n",
       "KMHViMsSqA10CA+A8M0UMPSOnbxmVmAhUZHV68KCuc8E84JKQAnDyqq+0lw/YEJMVy/76HMSWkYH\n",
       "VWimP8MvKsaX9Y4Jdnsp1bqJxzsz/hyfZ3g6hZkdV2IuWrQaKYieGkATdteovrFaWXZScTeN5OVh\n",
       "gr1VOBByox9+CsnyqrfkLJDnWK9L3ewvCPpe6JTZtEPKOAzB51Ks6DkG4qlBEQuI6x377X5Q0PWw\n",
       "Usx8Ofeh3fX7rNrdZgBoWiPDOS9q/Zn4io83ZjL4T+ll2HXuiRhIM08shwITgb0NEWmRvWiGIg3W\n",
       "fhEPPA/lyffbqbldGmt/51G4nPc8+jtD8eXvpADPEl2trML8/UjbCQ8m5eVoyxzArYH/RbvUmI8V\n",
       "mjXu+R7SrpbhMD2qF4M7O/M9W2RVJ2wGV0lUJrpZUpArqbD27W3+d+1lERdRrUyRkK+HMjKROcal\n",
       "ttbN382OgnIKO92kbIc+L/gYR7eKPeV0wAqiwoBmFs2WlBxV7a3QD4ugMsyxt2uM/KAMUVtGzagE\n",
       "/1oksjUXqnnBNy4ohiMrMYFh6ooQvqLHk5h1x8CpdV7oPu1GuHFxLxplUqRYNZSIBrQErLJ4olou\n",
       "ssMl5EpzvjgFpLMG1rslLs8jM7IoIblFGJgAHLvQ0nM1GlR3h3KnPj1sIpFcV0P3R5KYqiadsLLQ\n",
       "xOmk7ZRHvhgFnylbvLUrSvo64xB2nzNc3A/QMAy9I4PEfD8LC/sql6/mnZ4bMSF05YLv4UKcuBHZ\n",
       "DYBm/gPBMeQh1bkjmfzfETph6lMQxr956TK9K33gvUrN7W/iQ4uZoq8DCzPmpk9P/moSHbP6VZzI\n",
       "QKIIIKMQ8T0xV6G0qV1EJSb3Km9WrjKRjuIOEfzxRycgvyoXG8a8Edx+sN8O9Nh83VuXzMsaE9xe\n",
       "K0V8yJbaFHzJXBX316EG91Ohmb3ynzSIpyLuudHyu7ota1kxQxs3319sRpFIbWmlp8V7RkzxNsq0\n",
       "gMyJJ4+LsOk0q5eBLl7lZSZ6mnlbK+Nkh5OA9BUFMCoNj7V2L+TAJO7qvmx9nO0jic+BZhMwaDzT\n",
       "DTeexTC7Almd08hYUIRF4aUvdWcYU/yuccbxxZDc6SLODutifHWqnn+vdbNsoC7xfq+KSiE4q/7Q\n",
       "CE+xBpHLtZ8CW4FTAFzjQSLxLbJv7Ccli9PqzKpBoGCA25rp71e0g6LI3Io033NzYvtnapXqjUTm\n",
       "EN1uXQz1HNIMQDmFmRYtqSAnMs/Z/ta8yUabDUDvC81a77iADYSWKJnHb2ShZIuZj8l+TZpIpHoG\n",
       "qVvghqh9vQ2g4RpPhNqvrFqmAo1XrVbl3kGPw2g+0tnGCbu/P1zCx0pWK7MoAhbGOp6vwbn4LuKS\n",
       "ozSOYpOHNwCXmVrS2SlsCzRTS3T565w16Fy0G+TUvmR9EC55CHYEJZKvNCI8gYi4aM79xjhE0RBE\n",
       "lOXS7g+7AjEWGpOeRMcaoZvXOqde90yptNTQC9c9m2yK6XNNKO1ONWHdYJpKQQm/ShbxmkdzZh/C\n",
       "TTSFpPnI7KnAzDB+aR4neR7fb1D8xATJgrNp9sE1d+Czp2I8YN8ZXDm5q0kmTZgYZh8X8+GIHn59\n",
       "nTNgiqN7x3xI/VIGY19dUyikXHDeF/iNKNVjPUkHtKx3UaeUvm/ZiZ8nTqtU/ki3uCX0elyyg8DU\n",
       "qPDjCMWgkiLh6xb262aftt2VOeCRiWJxNA0bfRtgCO4LYXVLihlpcGfk3ysc+eNy1URWbGHUaQjH\n",
       "4GHf5xr2Z7SnaN6wTqRONE+iy4FAYtbHGdpwH2KAxoii8rotExPGgfFn5jqUhGDgzBFMJ3sgcwI0\n",
       "UGukyhlJpJs+6THeolntbcnM7Vz8IAFKA9yMW5m07hKxc/N9dUQnlAW5fRnO7Y5WoRmsfkHYMuEe\n",
       "t3DSXmG0tt63YIus9X2X5v7z+aY29JeR1IrrFt9d2Ov5oJjWd4SkIir4Uu2IcWB+3+BA8XiEh9Br\n",
       "nODVDfjoG0MHkzDg8/vo6LhgzCOs0233o3ifzllHz0UM2feWiiOKkGJk76b//1SUDF+4NLHPhUsv\n",
       "opUyWES3lvkX8evtzVEGPF2YN0DjZv6mJSFIUY3/YNdCZgRVt+PaUxMv6Cw3sj75X/EPYEf1B6jo\n",
       "U4KD9l85qcXn9MJB9SU3ql/C92cDbJCJHNq0A4ZdA63IOlYlKHRj+XM27DHPpwYHGEZ3jSBI7W4i\n",
       "hOFMmrbQZRyy8ODI2ZeuosLjP27rtRAFraMvWyKXJULqtyW1ytO58c4+l2AARyLaEAyGs5l1ibWg\n",
       "xySqsM5ReDfpybyPE/5yAJ7pfIBiyIlWPPQWfM1cG9086q0ObVxZgsG8GJ+GBghHC5eSoobloWIz\n",
       "R2CRrkC6eT1Kk+I+0zFVWdKOfH2JTJTfeAUwBJiFil6ptdu32u8PuPMJpk9nl/61wCBCPGzXJdV0\n",
       "16XjlJc0b6frdGqz5b3ApRLfxd7j75kvglv9i73BVxYNkVUr62HhyfFlt780khFqlZ0czXzj3lCL\n",
       "sjMP1rc/A5roEPDF8dYYnI/T7SopqA1XFwpluhgHgZfLU4egqnlrTNimb6kVTZ37dSO/gb7EzbFS\n",
       "ai7nnC4oxhZ8Dlngafe8TL42S6ZwQsNXzS5Yud+1wBfKmcO6q5PbkJ9TrMWT9eB7xpKvHOLXYtnE\n",
       "D6uJNANwiHAZYXp8q4AXMMVKO0hZ8EIvMqrlQoz2Bt1lcTHnYo2DFsh296xqPeiev8EYQRAEN0JT\n",
       "BAlOkjdODCKJJHWgycAHb94grJICd7xV4dSKEQVVEO4kLJvN2PrmlHqlW1jeElCliQzm/ibI3b0s\n",
       "4G6RlgJqaYki59b4YtZgni5taa1ZPDNy//W1KA7kEzk1rF/d9Sn83sMhfZy5q8OS/TwLgQzYohdL\n",
       "xhIlIc/Mg3rbdm8KR+e67OnQQ/MHuk6C9WULPtc4idJB749kijOtDumbKrIfjRT2MCyYTovDS8m2\n",
       "K6ea8BeWy5LM8kKquhy6J+rMNaCc9kHrbu02/0Sgf/e/+M5d2YP64bXPm6ZUznOfBa7IZNBWQFM3\n",
       "7/h+VZovaYfi1NZGFVBaSM7jdlT10wSGdsVpI/QwjyRYe0sHrqVLdtrFoHfRHWS7fK4otop500XE\n",
       "x2O4j8uoozvRMkQigEoamQiTiFAo4XAFlica6W+yVqqXiu+4amHt/rKInpj1dph7YSIDVAeBlnY5\n",
       "aiADQwXIRmAWWK89jTmCeL/UEZMs5hTEY8AVFVX3qu2M7kvrCskUmRUcahL/mQ0HaJTSlCadRpd/\n",
       "zlUQFeJQV6ZGVUbXzxbK50L0sS+a/9QOKPjORrhC3c477FVlUzTVnKI1HYAo9UutHwDYrO3u7/Du\n",
       "yTTR812sBKwb9AdsWl+O6lmaLUI330Ugv5rKLcZYg23JRYcwi68fst0Wqrxmz6JE+uIcdHD4YrDD\n",
       "VxTAw3gFZ1hPBXlrobUwgUO1RtbSAzPTjuvzw+p56AR+IfECcF0xU4a9e0dZ0PdhKG9XdkWMaKS1\n",
       "Smn6qzoHph72TnUBxlMsIGmblYbD406SDB65BbsisxsD0aMrRiWNVLkIX/xEtQwIrpJQa780uGWg\n",
       "Xmg5FnwxTRSzdE8A32/WsSZXopj3xuLGfHmHsGkXvTX26CR6snR3OOIm+bNYXzx21rgEuMI+KaSt\n",
       "sTuYIUEtc5HnHhNXRSLUBqsiI7vcrP4ZemIA2FYTmWmuy44VAZYYlBHLm8e0F/5Ofz+kg19fyBO3\n",
       "ymK7vlatFmnTzBgnsYJTDmgowOh+kI5M8QA5nMgrmQILFyygUQgsX6uhIBotAu9EBzzg2q6xP3q2\n",
       "7LNy+qlxBuF7DLA66UAP3QXN8KV3d2fwYUdICzDaOGTHMtpLEQgFAnBZt7avgX154ZZ4IhipXEwG\n",
       "EswZwIqp7VNZcsv2q0JHDmbywEgJrJau6SWtCHtDCxiqMvOdgvIAQ634lqTlRlkoT2Dz/w0ROhh3\n",
       "LUoiJkoGioSHqKLqxcAWbND5yM62Sa5e1D3wCm4TzeUoGgyo7wxKnCLvc9LXGrrT2JlD0Bx7E6tc\n",
       "AWAUrVjJnWewqlJtHUKO+btD9Q0XjI4K4LYPxmDoxJu7arZWD6l+iVyQrA4nuMaStQc8dHzlvyRX\n",
       "ouZ8GKEweGQLymGOlXW43tAEfIFQ1V+bbmojb7BhfcajtCsDNl3uC4VPwQStfJc3CEnToT9HRPbi\n",
       "XT4+0tsnZVQPGia8bVFmw+xAljyfFUT351QBW/XOcd9NZ08WA2FC3T7e3iT6M7F4sGLwNpbkDFIk\n",
       "U8VC5B9YA1cBZdThY1Cp1GNNweGytJB+d1TbVnehXmksn6A8/JDgeFZjBmYPr2mRxYwL6uEvuxvw\n",
       "HgIeXgDW/0Gvp1IcXyv5QyLDlOPTAuBx5c38fmgflc0vbQ92yf7qC25Nonww5PgCxBqzgUYeTCzA\n",
       "vTv+E5jU45tj1FKII9MtefGTGaNtzaDc0srTNThvPB99q/Z5GZrQHWlllzmy537N9DgRyf/kYtYE\n",
       "22/6la9Z/cWfera7DIgoGaDF/68uBuRw2R64YuUuRdE4Ubg/L1UCTbzr92WKwj6NYpHQFGPU5o/5\n",
       "GpdNFhnFbHLmJFPJjH+xIjTzwNmn/EjvXRuN5zOB9qHmW0MX8DpyBie1ig/70d4BIkpev2x2ZCSZ\n",
       "yqYQmCeJ9L0V5sDwfJsiIGrJa+uIq2sCUmzpJNvphkqL+Ttw+r3Uh22yPdOkHRfjXF47pnDoDLjJ\n",
       "i5yO4PoGEmuozx0q6j+sMieJyELeeEdbV8LPybLOW6dvyaeb/6zjlLfiof4UeVFwyTIgmERtvqjO\n",
       "qkmr6EkHF4QR+sHgpw7VXMi2Y5qdxEgiQrVnTD1LmmO0HBQoT4BVrJVvfQCA4THmsRIBHIA76BCC\n",
       "S47JOy42FqRKUhAmtX3FQ8/gFwkRIPGaUvjfqfZFtGa27p/mXoRp20Ej57D86MScIjrJM0h++MpB\n",
       "EDdnqXWk9bEwlmtnLlb3C5RCLvxu0AYhGq4HqCKGAbftJRKaloe9zvauN77b1aX5KVwwwUlxggcO\n",
       "24hI3bwcXm/gCGcs6+yM6fs+QVW1L+TqffEPjQ4vXij/+znvBo+DX9OCl1AqZEVs+2rySvEwbaQu\n",
       "89croyeOFQhhWkKsrh/mwp0jhCvRxRaQb+Z8PoC0mRj24ulhSIW57Zl3nexpiKkJ1iYFiBe+hwKU\n",
       "+xabsgWoQKgf1lM/XKDvA7JCQ1Azso47SKNIddYIviZJxk7TAhpf7YFi5t2Qp2JkMMbDIFatsDRd\n",
       "JbCZmgCkKAEXWBGM7hDHj7JWVD7lGOFvy5hHXaKqggREoKr2bMOrLvfS6XNNBKkD6LfQ6qEOiZWq\n",
       "/ZBDS4AzzlONKBmJq05/Gzn8UC4dwzbn79o4BufZyFROtiJLC6Q+htJrYDMPdcOujD/kJmTVgY0t\n",
       "MAJgJ9KTrgYhH/Qc6eFAS85uCCmwn1LoMRH7YSnnQWFiYwuRC5vhLc4u1YgQdY+K3ldfl5hZJPOF\n",
       "n4CqaoVVn9VVnTd5JnuSihp22eex1DMDl3W1MNDTevsqckF3+tpEX1vGnyqMUOjMicewx5gSHFao\n",
       "Yr5RJoXBSF/5O9LBajO1SsPSa6M1sBkCf6uwWH8caZ6BvVJoOYNbMpJa09+NVCraLu6JaUHZuHzF\n",
       "yQyd5a1aWpOy2/NOOOR25XBeONn99lMpido/OjZQjEUJ6/co4gWjmpHfSarKdhau2ZtmQwiFqOQ7\n",
       "oDQcgv1pKFsvMqtSvuYZ7V/KA9P2js0D0NCIyHeiVPmXvMrJEuvWSRl46u3QHxqsWilK9G+77YKm\n",
       "lj2UZnZBTlvbtI8Tyu2hyh4tIGpMTiCz7q/pebV9kUSNAyhwSzSSCKZQE6OLtGLlFG9JWJ2aj5SA\n",
       "w7ivLj4yDOMRkfHFpcVyS49lJCTY/t+X5IyDaCG3bRD/4is5naQQIk9TTMF0iYZfg18vx1pn3lF/\n",
       "YyrpFco96bvfvUejstd4ERMrdymVPzII0h6WPGeYDCu/uSj4yp7+9oWcV2rK2XWzQEYIoDeG8kZa\n",
       "X56Sbn0x/PQxD06XczfNgDoUQ6JnH/iZaOpSemnJGaADPaP+eYtLZ38xR7KVYUkel3LqSybCEQf8\n",
       "3y20YSCBx8Scr7IGzHPrcc5hMdSPuFRkyVcGbVpz4UphA4NX7SoyKY1rFkLI4zxuL7kjvRtqKaZt\n",
       "YINqsVyNVe3pqb9x57yfpdvgy4JZi4bDPNmolFOOrA1Egr9TlPT6Zfl9Mvs8b0fNmlD71gfn1FpW\n",
       "p8+FjoU0CT0Lt/64Tra690ZQd44ELhG2OEYgQPU5lvfL5Y98inkGCkbJ9jqhIYqvw7zzztYy6gmZ\n",
       "NDuHoTNmtwSc2n8eu80O29Xt+c1l7a1Y7BpriwIrOgnZm8RrBYzGalPftM1tiIICL/nzqQbqWwCl\n",
       "DloU8/r/4LK3nxr8cZivsZPW6YflT9+YJ1tOkyvPYjaeYb7IBKOTq2wOfyZN0k6VPyEk53+HL9Xi\n",
       "ZgoXMO2ttgvCo/eVdbeCDDER6+HpmgjCE+xHuCmq1PdHpBw17XMINRMm0tBWCO/DX2P45bL+3aLj\n",
       "O4LpA71kV36m0GWZTTbUWxxHywRl2/rMNJg+V/CQm1M73CyQYriui0HQJOyzSGzfkZDd0CW3mFfZ\n",
       "ofTu06lPfVYyql3FaT+ucnTBdi30/YFxKj1gZMDXJTBuAZPY/LmVWet336AzQKwvAuvYm9QAh5H8\n",
       "bOD9kU/GB78WiaPhrQc0izH6qo7zdmQR5vIIMbgQyG1zO+wHzpIEbHw7HyQybP32SzWu5tHO+YVC\n",
       "X4t0a+27IIPdB0R1TlFx6mltI4ayFEUYFgr5Xh5au4zngDMO/GNU0uKGdCAveqmYA+LSNGf4nuFR\n",
       "RoZzfQI1xu23amAf7C8URKXAB85sY45+Ed7Y539RfVwW4o3dqQXwbZzgF/4GuYQgt3ZR61md+2+Q\n",
       "JqCa0YujBTmYDxP3ty/gsm57vDUOg7eud3PjUX5bKCtcrq/g/zISoiJ0PA2hm41V6nNctqTFmrJ4\n",
       "bnMBn9TVKDgUkeEPmSAHbP0hlIkSazdIduPVwloYxU9eyibVi2H227WkuQCee+nhgQk2spzm+obU\n",
       "DaRGKdyaCSZi2hAzD5h4LfjocdxrwjP8yJcBXb7ZMBGJkwCrmWsXDthvzuWGzBNt+iUuJlKpHHkS\n",
       "zaw2j/qCKUb4wYW/BEmLUA76Fq7nkQvy9V/I0gwROoCj09BPb2qSPDOcFmztyqecBW0KBfMsXtX+\n",
       "rQQ/Eb/YIsIuzumqw3Dz2nu8D9XqOqP6c93jjqH+WFKOkbQyDqlpJtBneNnd9mchJuSjxvriX3BC\n",
       "E5v2Rgb7vWARhcxlOKKik6XHIFZ0q1ZToP71ZOlDKD/E4zJSwTC1XBVBCrSUyV47QsdC0hvH6HXW\n",
       "fdDzZNafCGskWo1/tiGI1INocc+sO4S2XKlwQSTHGjkKYFKg1JvA7Yr2UPQOKWEcT9jNKplqf1tb\n",
       "n7osGK2a/Rjsgy+6SZuzUJ2eDf4qHsMQkd8+RAXSF17tZ6/5KXldYvPmuD1zvlLC/7ThkKRdI5x3\n",
       "LeNjibJat2zCCRd+rq1LD5oQBNSyLpacGaepZ3W91Qfvululf0RAvrxTte0DS3UD27Bn0/zOpMJ+\n",
       "VxN6AUTqB1CnSSxQcQDnOf9LnDXqIW4NH7zHAUfgQAR8qCsBIvdTf7/86O2gp1xKr35pALR5cDja\n",
       "KwnM3Z6XrJac0OArZoN+9DpbHJL+aChpE5qp70qaCJKVmIZMn6MUQC08+xNmw5SYj30n3t/0NEBC\n",
       "WM4RjTv8fvqDXUqekjupBFO2y8RlWCNu+HbOS3uQ7j93+voKctr9j1rACv0hADEi8+dmQSPOfMSw\n",
       "pZ9KLGj58Z1vm77PhvsmxkNz6UM/3DvHsH37VPLPOtKLMMngt6CCW+QdyDRMbekhVYnPP8rQL+FA\n",
       "J/y/rhcGjKA0lU8/V58/StSkXTFfsq/AI7phDDE3uhc0gHeS2WowK/9aEp6smrOUmtTCfdbgMQA/\n",
       "0wvHEAPTVK3QMNpYIqWpQrGwhOE+68VAn/adnn11r4hK5xj+qM7dFU+Rj1Klkh9I3ztk2XoKVyAL\n",
       "GXDjdjk1yvDbBRNC2QBwbObC2gViO8vVabXUkfMVZ8jLTIdlurdf2KS5pyer7fTo4PSapSLMmp5V\n",
       "nG+cCkjYQen3V+ajR4Tet/XcGgQ7iotPZgzPX53CaQX3uw9XZS0npR3p9kA15NvyXRTiC+WvmnfJ\n",
       "lbZrqHGE+9LQ+RKlZwtl1UpNWdp/owkZLlTeJ+qNSGJFCL4rLaXVapVx/eqXE9u0Nsf06kVFHQNr\n",
       "69Q6XqSdFsRkpwmK4+DQYj5f83f1pl9mqkps9FbvvejB7QqvUC7Lvb9OOQFRm8UxqaN16BrUj7s8\n",
       "0iMRYtHhNTouyBt8nVeBtm3o8L61z1y9ak4tKR3LMwDlJXJ8zwwz30CfsGuyyeu+I7XzbJdlwZFm\n",
       "6DwYyYPBdRQc1WmAQCAEmFeSNtTIImdHmHbjNLC9L6H9esxpjxcxUolenmhmizvTen2kuXILQdvR\n",
       "uopYUBWc7DRINdcoWvS9CBVG9mzVIjnYTl4KNQHw51UqNpaMjUq9hl3DeYbxVnUAwTUcjgOWsPvf\n",
       "0pAEBkIhjCZx/+fgLVYKgNxV7OyDuyam3aMMsgtgD15ru78GLY5RWPqxqrGhdjtc+vvQ53HIJyu4\n",
       "5EMEJ3dc88ik/Bx8eOxUYq2O2FpLmvt4U/xc1UkqE7mnsr0myJ7025GYCj6DbrMitDXlyWhUNKY4\n",
       "7IX0gdC2AIITHUkHOBuok6IBX2i7WbM63DbYzqNoC5NU3GDFZl9x8i27h+cTHIrFj5AAIx5LoswG\n",
       "XojfIu0TvavVyQcZxTyk6IVlDghBu+rstZLln3BmsZ2/VCKn5hFq/0hPiVyibJvSXviJjp9+LaGd\n",
       "KjdApAEpMa8u7m0woXOIgmX+x30kzfLTzyIAa9HEYbsUe/vxHZg9/W6xzzCm3hTmWqEPaC61Nogp\n",
       "ZD3jcadcZpxVVrUGLXWvLnQP4dwyCwfu760z09DzBkU57Fn1wtb9UAFrdpyXaxMEY5x2cDW63H+Q\n",
       "lF8uAGw7n8PX60Rln5MTiJ7PtZOvUcuDg83sCO76hxlPYaUK5I1KZtFaMRQWmFId9c2txxPAQnZi\n",
       "Cghy/60HhyeT7M6wSg12uX6xaKDKFkw0cMrAnT+PyCKFE9eJf2/sFd7gOMILl6yjQlG+Kp40XpZ3\n",
       "Heza50kyT4yZqufWnx1cYtFw8E/+RZvHiDT73g/82AWANbCHUKfVAjwWO0CUyFs18ExH3OviaMYf\n",
       "SU4sCzY0YblU7qyo+iDPSmrpesMOC60xKx7VNYcgVyGwEItdr3SJbCA3H7v/I1pxQ7ukX69FJYsU\n",
       "+oVFMbR6R0JrAl3fN5WJ8lXm+UpTVXlgqbcD5MBPYWfW9/TZiTgnnBngBztELvZndUpZ1pM7wwrO\n",
       "RbcwjbLVPwle5PrLDGG1DMx3tlJZ0QeNDdNh29hWvre76T9oVsnpVR65zU/+WELBFRlXvEh6nBFB\n",
       "mizPcyjJAtoXEDrdl++iFri/JV7O8ZxLCYnL72attYwkBVFx/Cx4jEEf11aaUAjYnmQQK+Rg/lSt\n",
       "7CJz1wy4cKGi94Ii90pE0+LAp8XlG2IvkMwJpg/9GIEYnO4jMkt6Ubx37QkD0JH0sonhyrKY7m54\n",
       "AzHfOj5WJg5h4/0XtgCAO2sZm73ds3eL50YE2GsjpAoM88VBBiXolQ8ht/37oO8OZFTwatViMkdr\n",
       "baeABkqdjYAzpfKQ51nlVnch/q0TOUv94Nvj8BoznHrK9v2K7OiVVc4CLAhQKfQJstXvNZ1zDr1y\n",
       "uboAxCqOP5DSeWXagNMtYspw6RhDj2AmRADMQQResibiLFaP6WLcM8amm/blnSCdBHx8j7aKDs6R\n",
       "iOb7Iixb0TLeY5pmYBmKq0ZBYLT/CX4iTsyOFR09E3VRF2eloaAmZrVMsQRWAtz3BiNvdFGsSOIA\n",
       "MsNYu0WkFl+tV/ASNM1PD5GIB+ZSBMRpf4jUQoc7lqRY84OvcjYBXfPmwZ23j7xVQhcMlOinub9S\n",
       "Vfv+mXxZA2FFsPPq0AT6ItJ8TP2H4Cl5dfg6N/cxeVPiKC8dvU2f4lmDtMj7Yqpieh0XzGnjF+Fa\n",
       "Bp7NsVKwbYqJErwarcLbmWdgUvTRxPCkXORy/k4SpRCYqBET8+KQGF/N3Upt/xy1naz3VDTBcMQs\n",
       "ZoYiwG+LN8+Fnes7hi9ORTfkoUMyAmdfJlOSkUg9PxW1gm7bZz5N6QQAoro0LjI6QROqIKH44a94\n",
       "JbMp50kQcCB80D/4SukrVMB9Ig6t652pstLHbXlx5nyOl+59WCYfphILtYAA0dHpNeSifIjfe80R\n",
       "yKkjJapa3nDZ0k4WcsS86vlYiSjQiYjIp26Joz10ZEM15YH/ch1O8+8VU2ZnCZaaD0I7Sb7r6Ibm\n",
       "S6gctaZ3B8jhqqzGBsz1hQaHBtS76Sc0hYuLvCphqf96si8nHEoUKhjpfCCGW1V/kKHsBFgTmiHn\n",
       "H1uLIjViB0vFGhmENqSTwbJ3ro7IHKfm67pStUKtEN7hk02GHq1u20pYTvjBAIzG4qY1g/7U32my\n",
       "34jcI32gWZI5QhZC8RFTf3UwgwgbLOYIHwK9hMsUOdtyfSYW2wLjmLWIbP1EflX67Ua3ne+QrOUc\n",
       "MtCNAHcXuqrluv/ERa05jWeSntHl9JTii50YsPUObsGoVNUNLQIlwLyH/pFj3BYpo8QhkeA5FnN/\n",
       "FanUH/fOqA9I4M7n/BcaeX9bh8n0eywgve1GbIbbA+JSc3+RHihCFVI38d4Dz+0a9GKBQUCrTDmT\n",
       "Bs4PXpc18rfjYLJNeglQv3XKduc9wz/3+qgcRF4PA1eILVjd3ruY8h0nHl9NynQGo8sNoiFpcQk/\n",
       "tsCmLloQSLWTSmEwlpQZ8O01M0j47ygAWNxmN8UWIMcbM5Z2zRw7YFJlzITFGwv2CLhNc+AX6XQN\n",
       "PgzFwiRMQ+EixhvLVce5suzTEbu4xeM5xy7/WFBMk51BcwrR8ZP6Xaol+OlpGdECCqjr0ox5NrIu\n",
       "wIdX/muZ7PbG0+1d8D1NEJOORZXlritzePpP/G1/OcO5fCyyuQDZRoAN9WbrIMR8hg0LABAnCP8H\n",
       "LmTjT/7d7b0LH8tvY4bSYHNhEQSNd1c/bnFty2uUh3rW8ERkHx+itn0z6rrv4FfyxYItPzKoUWPn\n",
       "PDjtBmTLCJLc5jnvpVRWe+16szqxOB3OZCgCw0IA//Ld4Cl4RXWn8PF8zrGbO0nKHwIZ188DZmra\n",
       "qAH6O2LLYgBj5l42JrjyYFhXc06EMtvTWbX1pL1fUKa38x5lTXITmgKVCjaMVysxEyADbhj7id/V\n",
       "IIR04InaFx9yRtjeHx+f5qd9vj3CohNPFQuuzLbH8g27aJbgcljZfEN8oKAV91IaB6xspHsSG00d\n",
       "ATdCWB8Y3ORFgXn/5SUZ3++u7UvZhLKP1T9S4uiAXdK6YZhvnAnifMPPdTPKPHeIcSYvsq6My7Nv\n",
       "g1yEs3B2TPgQ8KP8uxTECl1OzRK6szMHNqiPfYW2XQw7njDsJ+CSJo0n8pexXrunZJNylmDS7zto\n",
       "cV/maNYRlQ/CUQ5xz7ND+xINsltZB2z3pcOuTWxl1z3Y/f3vB+q0Y3wNSl6ilENIQmfNZUpDVyOl\n",
       "H537dNZMQ79kc6sVpHG/mvtIbRMQg9o7/aEq7I8ssJOAmPTUy+sQ7rhuB20D+y2k2Fa481srzHOJ\n",
       "H4qTI6EzBNAEcGJWYlf/9G3M829tp/k4HDZW6NTPu0Q1AI+z8F1+1Smqe4lPyLtlLD+M1p1juI5P\n",
       "CH/wMj6L5dj7cDapM7onZRMmkKX6PzeyCWRcS5Wdpztcv73JzdmVbaDUqil2NM8dyK5Tx/eikv4H\n",
       "uKRpy3IuUkVl1aWzNWQfYbeuBV+OaSNLvz4+w44BCjzDFobl1DZTh0Yht/XqBzK9HuD6oGn17rsE\n",
       "W61YHY9ovr8eQ4EBpZIKReV7M3WDu35K7VFUCBHQLe5TPN8xErZuSnbzuAWeDWytd+yTdxWb5Zki\n",
       "mRniiXI81fIs8yohU3mw5ZVl1Xr8AHiAmzkk8uG1sjQx56CRrCccgSUpFWjGst4I2c5PBNJa2uAY\n",
       "I6OJ4qO/wfoBYveuKV5ZS7yLAKfzO6VMawY90/82qik/CecvQXL/ZMefUxniSTAkThpFp3UvUpSa\n",
       "IwbbYY1BRKjB/hgmrREoQlJFy463IAH0trcve4hJnqBfJkJ5OIDOiqRSsOOHSzsTxofxYDLD8uXn\n",
       "y9jDRYBXEGT/safdWe8IFo19zT8ZvQl8ha+UFNvfPMj3oBjx3wBCzPf58L6iqSBGNYxgflHBXORt\n",
       "jtAr+qmKOxG6H4fqMEn/TD9BizLa05FwXJBm+s5fuzCYIdFqAxkKQDBV9XKVseVaEo0fukM/Vcp+\n",
       "2GMjtHyAfVdeokQ4fQ4yxQ9z8NlT9IUBfjj2ruS+M/PPQoyehRofHbsyI9sliEzBtsXta1uhJ3e6\n",
       "ddidL0jVcV3Gey/MfDdLhmJJb7b5u0Ypii5IRfAMZdZoi1jaT1RgrSDWAJcM2/5C3Lyg6pY/lP6Q\n",
       "WXav2gVPm64L7HYVUfugaAUyAKQVah1AlBabjVd9D/pvYCbiy3X4hklsd+mKoLbWDUxr/KygeAI+\n",
       "KkFlsBoRrn2k+o1sXPmpPoxPDlW3vs93knSxNPKgFGVeTLDjLp2T/0J7nzdYa2hogFaAVzqYKM0w\n",
       "JszCSL1rpZgIxgfy4vC153m8sgUrjnyuWAmHmGk25K07VigzlAlWgFLdluYZqLzyfPHw0NRmJj4w\n",
       "JqCoHGVjdDpwpvFV9re0JRw8uoZCLDGYhc4jIkRvz8r/XRw73cZtNmJvi3x30aLQY559t7NADqng\n",
       "3im1rQnMLFCydYhGjc1hIVv+osvmEtugtMom9sD+RTtB2uG6ZBphRTiqMFOEed0mAvVK4bDTvweA\n",
       "PeX2f/bSgs/MDmcrgJ6OBV+iad6fmKv1uY7UqOMW6KTZxu6IqJCB1fDJf3CqYQVLKInPjF58Zalo\n",
       "WZDDKiq1u2Y6lxxVwVNOp/l6debS1SpM193H9WtiCXnNH+tJv6BLGt/3jgeGBCoi8C/Noj1E9q8/\n",
       "pgUlzVU9HvHBJebnYah0sxAK02VSoCRiWRtU9Js0AZSsOA2JbDyWrZRiqTvhEUj2JGUB/DjkzzDF\n",
       "PdRGKEBCZ+tbnNxCSMdXRWjgkIhEJn77OPBHutGR//XjS5nBHD6WMzJOCOTZ0dWc1vbCBIp1BQ0t\n",
       "fPHyeoXOVSmv7pqg/lG+Lpgzhn/kI7/pumiD/ZXNdJDw3zNsEjP4lGH1R67t26n0AfttUPfFdr4k\n",
       "lUd8hOPyQ3ED49gHW7DjcEYmIOFSlozIClO1AajqBlZAHl3ZbdKcLUDMOxpj6FqKqGqPV9h8tFdY\n",
       "S43hNhugjLylTKnZxW3nTtut82faSYcKwgEaMC1v72sU+BYC4dGj8EUmHXujEx8Q/Q7U9K8CB7SB\n",
       "ZwSNPt2xMMWEhz8dQP3HSfOD+0xFA8dxUPXpdTZuRh1u2O9osw8+IsLBHJqD3M6c1Cu85IYrwi5d\n",
       "24WuPuqxjHmw60cca5t1OAYqjC8PYAN7HecweckFumuHhNdIpkq7kB0DxfxPJmJgEk1CMg4/wuQj\n",
       "sHiPTR6Fyr1djb53FjYPh/kn4Hwqa0F2OYMyDlo9Tcqd9GhG8UBoGJfhwjLfjhPJ1HA3zMkcAy47\n",
       "rD4Ls/HsbASp4mefgriE44KMXkbHjw/neZxBZ7rWCX/F5Q08OiTbhnCv//CTMaAdstudvn9584oB\n",
       "PPTxbqyHpUOWxZV7XFsjovi9XTTtvTn+8rKWN7o3Juuu5MVIuHC7gyAOKOdFIMLphWrO8dZwj/BY\n",
       "j4f7dU3J6Y9DfRuaXZaAB7y3pXdCaeX3Z0vzKo5XORJRQ1/eSJSptGLPUIrTgqoAI0X2Emv6Lqq/\n",
       "eqFJOoGsSVZnvpUiP9dM7aHN98hdiE11va8Ox6HUs0XieWQdKOurexWbSxO/S4quJ/n2w3CuRlMs\n",
       "EnhNAyTYtxUJO2Gj7zYwxfveuQEianmrHaIi8sUAg01EWFH+dz2N1QwQqS+vkPUBZqoSNzoIridu\n",
       "KnvN1rrD+qt0s2EgUnqSbuEWBgGKvdrWiuJAnkJHkp7GPA9KHIc0Bb2J7F6/l2aLlFTZC6IcoQV+\n",
       "6MHo0Bt7nXmqVX4O9I2hmfZRXbQBTkyT5r32fg2bSReHtgK0lxRrU9fwA7myNtlEqohHWTPvPIDB\n",
       "CMJVJBN3XshV/xyovCeOe/zeXoFcN315kMkZ3Ra5tL4Rjy/lRjnNDbJybS/zPfKDFwHUKaNJJ3H/\n",
       "6R/Wa+gQhun2W4IAj5BgVJ45AuNyFpyR9E63mnhNXZRFGvUbN9eqpr8i8yd7TSf5eS9HkfYKlDKl\n",
       "FYBPo0IzBsAda7LedoVThrhjGgBWjnfbb8nqvUsr5WbNLMItQuKw0tMJYu3yyx23ChQESSJMTdXb\n",
       "+AfCyz4xo3n996UYvxZ/KCx8dTu+I/8/xv0nXZO/zxUK8+yrIorBbK6XoHmJ3PZD4HD+11vlx5sw\n",
       "A9OyIxVy+Oz/+mvZqXttVFS3+eSrRji4Ck1/Pex9C8iVLpgxZJJU3NdTYpP2gW1laUfkai10d2rC\n",
       "PcUu8XgNnNEGZnzvkWUWn5xy9/22CoDQvGhuhKUc9KGmSlPOf9qWG3P6kx5Doa55Iv32+6Z8vb1N\n",
       "5v+GkARVfVHHrZAKj76MJMn3j8891BKL/mwz++Q4ZACXogAAGEIyOxtOOznWYQrj2ufdgSrYLVwb\n",
       "7kBrsM7Nc/Dbf1Xc+T/WZQS4jPHt6F8dL0SxR7FNVHzhEOo4Sg1ZQAPL2r3sYAoXwaD+Vx55vSeo\n",
       "Me2T3pKQ9VHT0l+ZPfRxnnuNxQwXrb9MmVAFAucW7eDtEi+AZ5SQfVDZQ+S4s8PFRoKBIRVz/NZ5\n",
       "hZVP+pG+esEuojRzMkZDytixL8rKOZpXFq/jnNpB7XhogKE4nOaTM52VSDmCoXScwdnPoG+EsCDo\n",
       "/Mmrbamx++yq7Sb3IkMqY0kfN2/KdWWsvZE3Zxky/3s4bNPSqog+/kkpUlIGN0jUFv0vK/Kz78wS\n",
       "FbpJk8Uzkx1R9v0AIgT3wdi2tNxhCaEFpZfUmp9EZZR2o9UbM16vslkP7T2VP9todQSCSY551w04\n",
       "5/fCGM4WS+FAkiWzRTwmO96lvFsUP+182Sxw3nr+DZzqFL9CKHNkJr44KJQ6IkKkclh3Smk9yxux\n",
       "r+Sv4C+5kdTGZZWkXvdLPdFESKfkrQ7T/U93huS7Ty5YyetdIIPS4TBM2zvv9B2hpCl/tSvCM6ju\n",
       "45417MH2C57Yp/0MsqD1XXBsd6esUvglmjP4ITkd5wBND4K/0qYw7VQ7kFaZBK8XmvQum4UZ+9MG\n",
       "eKws8nXhhsgFSmn7G62ywltONLrEcrffJaNHKmqVkAXPooTlcHWwEqOsAC+mJup4H/v/5kqjSf5j\n",
       "QwNYpoAWQgZ7Aar7qkpZMWY9cGtqMj6vwuuVKSLDmGGnoO4nxSzspHShGEyVyOauLjUPV35RrLXi\n",
       "YXQMElsp+Y3Yi8NkDj9h/a71ZpI1OY8//ImNpQD6S4Ibdi4Nkdz/ZWW2BUL5sv1no4Uoke0pk4Df\n",
       "IO90jUUjjPACTVPxDhS5yHS1eGnT7wmyZNGDunPBPhnCpYVD0hW7AIlcpZc0HLsqdXifvt9iW+RL\n",
       "88J15htCyy7NabYeIvZlTMLmhiL+7bueiTBKoaHU//EHaPrQZHalpXe2/3nnGhQHbexY0wLZ+3L8\n",
       "bYFf4l88oKixmWk4SDSDiQnT/Y2kgxIAEpPYpDo0Ud1HfW+Wydl8EoIdPtXjPgmAqkMegCamXXhA\n",
       "lOnomneytAK4nWP4TiElUYzfCYAxOV/ZMAnPIN+BjVHrDzrLyodx+/CJyj1IPw2FaPggDsdObdex\n",
       "nhc7+MHWAVJM5VplEkey578g3fZde2iZ5Bup85ILFuuht5HqeZibo+jtx9D2Mf9cBFiNtodUykzb\n",
       "k4ICehZlw0QRfSfUq0gc1xHWX+KPje0erKTSIDZFEPL1csB03v/dpGx4c5ohhPD/aO/6lnhbyLDq\n",
       "Dh0uHhMfvnuiAe2RqFrWzs1WiGhjr9aec5v3H5J15lojcyLg2Ulp4c2ebOdqDbjzKNKwleLTT/3i\n",
       "TToaMH7bx/yV8wVCUOMh2/OA8lMqp/fCqbRqpUQKTImQhiTou5yS1rhhshW2WuEHDbZDJJa79AOs\n",
       "i/kJyycLNJgCw1WqUtUNdvQLdi/5ygrqtK3k4gWyXz9/qDV8e1VqLP+Gud0Xo9LaSw2kNZbYis4d\n",
       "kPgiSB8FSfi4pnDoZ0dwd6lkIBJBX/btPFz6GfBxcDwYZnnaOY8nNYGw9syqWLLBWTXyDQ5PsFI1\n",
       "ndw65/tnejy6g5gAEezOh1s6PXnHUeKQABfa2UAAAAMAAAMAAAaFAAACZUGaJGxBT/7WjLAAAAMA\n",
       "LuRwxQCEqY0zKBHgA8TK78X7lXG+h6jqBKd4zCQ8+/yrJSph1JCdFkm19mVCushFnirQuG+SvgCv\n",
       "FzhYsAsq58O4+PQoSFtVzTQ6wbhuTheU2/3jC4n+AUk9OVXIwxm6GnxcEiXwH7LbPKThylHL+6Pp\n",
       "Y9tPeAPHI2BugZuBHyQTpXYC1bC0ifCJZYE2nJOfno87hGxL99tDltmuQJas8BfLrrDTGi20rEny\n",
       "TAzRRRSkhMxoyo/sTMZ3wnFLS+pw1yiasaaoIp5oIo0PKeCC5jZPx7acLcGqE/VB+tg7e5E0UB+Q\n",
       "MbaCstKGzH4IR8d5hhzrDqFsO/O49CoEzTjl/daNTHzKX2IILhRjKp+xPO0VITL1ZoczspLd13LX\n",
       "ocu25M7pNtAzm8QXAFhno9i6M7DtreP045Xd3zq05KfpNrzJD8vqHDKrU52rcYFaTiiZTgM4SX+p\n",
       "bov+24f4PHgDk+wmlVKzAnp+g8Sw8vAonR4/zpL6Gr09exHDEdv5P2sMoEcRS69zqvfHNXpFhArp\n",
       "eHmyNqvYiWHDztVS3faUQWJ0K3r+sFWPIBoZ17Wo+EuQSLwPy3HWq339PJxJtlQ6Nur7MwhHcMjR\n",
       "lN497ct2d4OeubUTzE/9dRsKOzBlNyxGUEQSgxnThbsBo5MwPuiUBlIP2XIWbJGklVv95WgrLVym\n",
       "jrhy/qm97r8HsYmo7SgakupmMZFLaIjfOGcVwO1anLaWYVuc11iObOdDa98yxRN8NVQUtfGPkXPC\n",
       "XVnPQTspWlDX0lgK6cXJLAwpg/oAH3qdNOvwFFAAAADYQZ5CeIIfAAADAADiT4J0g4cT2UO/dsXN\n",
       "/aKQ+kSSqABdHmG2X5jPdjDbYQKpqrbqTMb9N3Ya0crStKVACgIC4X5tiUYXW+azjExi1UPcE4JE\n",
       "sAgim9Lmx1hRZq/wmAxEyqm0JOiOHUBuHbqD4lpG6tr+50qfACj68AeIoyvbGYZmOFDigVpX0Ppz\n",
       "3ZVtYGrxOtEPBVCxqyTmQ96JLVACcey5+V55PT3YUtfFnYt7K7KYGpqMV01BiTBWUbnZMtYyIs50\n",
       "V/eOY36tsgnQW9DAxr0Xui/CACDhAAAAjgGeYXRD/wAAAwAABkbpMY9IeGRuv8WHB33o68AE1SCp\n",
       "Mvo3uYHNPno44YNffK0J1JpnJ/RQbDdpSeNY7KAVwmszz/50i1iU2GjnoGNAyM3C+v5eMGubKGUH\n",
       "qbRqc9CEnqp5kukM3zHFCOMDDJB+k62FBXpu0zwnZeInKYWBkh4uGXvzCG6TxNHxI0zgqYAAAAB1\n",
       "AZ5jakP/AAADAAADAWbarcwSiXpsOYAS0EXy7uvi1US83zQ5ZgzYoqEymc2223CagzH27G1eftRD\n",
       "rEg5dExnyVaHAvFwPVIPIQB4VLVn52L6y/w+/ew/iylV3hcyi3vzpFcTE+plrF2PNE/Amq03nagY\n",
       "ULiBAAABGUGaaEmoQWiZTAgp//7WjLAAAAMAAJA7394CCKnf8ASPBBQDRIjetlqk61fLRVypn1e7\n",
       "j8SUoeul12cg+4MI2DtN/xMImxYZW4zVrflBvbB4hnIKj0bAdLqLlHX+/woPGJiQTzG3SGcD+Jla\n",
       "R3k3pm7zognoIoezX1poIFPFY1Z3hjnbhNwMuoBMupjnPqEtzyiaIzEIGKK0EuXyh0Ei+MXg/aLQ\n",
       "R11W0GZzNXoUzrqXfiI2nF9o7Bg4w6ygVRH6dCYNFmnUMo8iKxahj8epZpNpjeV45reqWzf5/Lop\n",
       "m9dVUCkbEuUFwpAdwAFXXnOokSDo0ypAWch3d6nJvqr7/VFQF9YEZKpNVNcNz4qfEt3RdSjQAAAD\n",
       "ACqhAAAApUGehkURLBD/AAADAAADAKN8+iFkAAWnWu716TpI49xguge65HQUlZRtnozUx0V7wcU4\n",
       "rnHpTMbfbOJV6vtFee/6e2DpN8+mivC0c4TKs2Ib772InvEY9vE/9/5+Jt/ky9Z4w+ZPctoVyQ20\n",
       "SDJjyhd1Va5BCiW45nUMIH7MupKltDa4r8gXtUtl5N0n9Onq5a1uhyW0J50IkyqwSd7f8AAAAwAc\n",
       "cQAAAIEBnqV0Q/8AAAMAAAMBaxb8fZP4VoASzjIkaAynpieUOGetZXn8yRPmaMJfarz3lTtQzNmX\n",
       "KoKuj/oFL/0/gjDFb95jbN93jTIkaui9+mT5ECseSSpdYytOygyXu4ECIaQ6gjU6wCMYEZ5Znsiy\n",
       "RBE3La/njOsVaPF5kHAAAAMAFBEAAABuAZ6nakP/AAADAAADAFQ5NABxpATrdq0AqmLs3VlydjRH\n",
       "L1cc92GgmHIhb2Wrm4sBBCRmXXfmmKJRYDAVG+CHtwrgRoz8SQon75l0XyT/Er0e91OUp0JmQRa7\n",
       "o0lmsQk+RRUizf6zieAAAAMAA6YAAAFvQZqsSahBbJlMCCf//rUqgAAAAwACMIIsfj9PxJ5kJHqM\n",
       "OUnvb3139KeIYWptNzx4fqye4zKJmfwGS1WgxbUgfAYBphcA7ZLh1xjvW5EvnTjS2/221rKDspm/\n",
       "OJeq6r4LfT1Y3V/5c9QhhEAlJG+h2MKfvqMzkBgulHo5be+tkdpuIEj+gW3ZLxvHFj6CnX5a9ul0\n",
       "/Ej1DIEKVKV6Fi1MDnkXMQg7g4f5vtAeD5YOdjwNYneDkm/lqt/raX25TiuLyvlN1j8POs2JMh5G\n",
       "jbTbLRSR9nOIDIZnzD9u8ffNq0d30XgTQnXUMieFrqNITh40bhMn0Y46WCGfsSJ3lf13Vo9Gkgi6\n",
       "Cb0wNqyUrL3/IWuk6ECUW7m+43is91KAmnC0j1XCVP4fGqtIJ96/r0vYLOixDHeD2BRt2A2wxIBL\n",
       "nNQN3oZ9fD6BhXO3kTh+LuI0e1ZNqN+4E4LgJn1UnSl4fhYXRSqvxaVvIAAAAwAj4AAAAMpBnspF\n",
       "FSwQ/wAAAwAAAwAlqJcYAWHfzCo3QNQwR6DPQriYuZShz0aWkAi8ZaqmkwbnjF4nXXoVaYzsi5Q5\n",
       "2bk2h/QTSRGHgeeg+QZ+Pl9kZz/V14o27JcWIxEtF3ePXpmTzcsVjKXl3+uVfZOdZ+ysSuSqYP3y\n",
       "RxWLxbObraStZLFPOHr6Wv3hfUoXJxIv8DhhjVuqlWW8F9HAoPq/H5uZe3yRl0PVV0t6pKxFxRYJ\n",
       "6jGGBPVxDqhC3Fx6TVENVm2cnthMAAADAAXtAAAAdQGe6XRD/wAAAwAAAwBUOTQAjHpBWK0PcF0K\n",
       "mPLrePd9elfDcZ6nyHGej1KBEi5CsofOSVWIKS7SJ8OzaDHM95NE0DkZRgLXBLWyMA7vQXqOkjaK\n",
       "RjUHKrE4HdC37NbZQwVtcEKylAp/bwguuuMnPwAAAwACdgAAAIwBnutqQ/8AAAMAAAMAULco3Lmh\n",
       "aAEsfPyCVSk+Di8ZWFkQyIj88VKpcpw1ucnBjfd4RauYsbqHioUnY0QmSQT3JWyNozg3AvFWPxNS\n",
       "yWCFkW20SnGLxmEh1H7CO5Hpaickl2LCOey/62y7PhW+ner35Tbg77cUSjxsF0/Fa4GJm+1G1c5q\n",
       "AAADAABewAAAAaRBmvBJqEFsmUwIJ//+tSqAAAADAAIw5AviTzIM/cU/Fyag6uDJyxVpKERpx96Y\n",
       "NnQcJj53blsmDvGFXK0VHZ2hjNaD+3Eq+w+7i2WAoJ7ZCua+hEJjArCC0WaFjyuhjehOrID1b3SG\n",
       "PrHEvkKfYafrUp4dsnNUW09IW1Luhbcuw3oT3poLRYcckX1psHPEjxwYrWYcW14JDiNbfaywj3x+\n",
       "IkghYPtBBtOqL6wN6V//8ysiQeVZLp1125c7mKwM8bZpIKBMFPknjuEqRfzRuMKcnZlQhUak7Eew\n",
       "6o57yPnE9FXmBlUPXexpAJpfaXv/PZCkQUYmh8VSOGQcVxVGUcAYBfmZZEp2TwSkTNTUF06KiiP/\n",
       "ZD8dTIXqut59tlsFs3tjsOx6kOycqZWNwH3L7wwzoOEQKjpyktKo6BnKWR4viQbcviMkc/U74/Nu\n",
       "XwD+s5P/bMunF6tg09pvENawKtknqJc/q4EYBVzaBhYEmedxNY+4+qnieLx4B/Px0z+Cur8+QXS4\n",
       "M7J35QM01n04sZThUfcA0I+EGQlDW7IWv04AAAMAAQcAAAC8QZ8ORRUsEP8AAAMAAAMAJqtueQ+s\n",
       "dCYAbojlL0IO6ZFb3nf2VGGDDh2DUQArIc7s2jvh3EUA3f3pQjeaefQQtB/dqWTTZkGJaQNxZD6K\n",
       "hb3cc4MbUqLt2BPGyf0hpEszThbbE4T91vSqTNvJxBnrAxpN8pmORpJNCamryTqgyXaNMaMw927B\n",
       "yDs40vpn7NWeNn7vyBFj5nX+k3VxfWGC1HAzC6oI9pfw5l8UtDPw3yevA+02LIDAAAADAg8AAACK\n",
       "AZ8tdEP/AAADAAADAFIHD4ASyh5z2K73ULMcOsSjI/sTj/E7IQuLjfh7zWAUB3d0TNRaDKM2yPd9\n",
       "OIIrQsXhcwJJk61Hn5ULBMWxp6RLiTQH1HzsmHyj9KyJKleT5iE/z9f0aLsBg1qDcbOXzbC5K8P2\n",
       "FI+pnSNcVvANzWJdIXEKADYgAAADAEbBAAAAXAGfL2pD/wAAAwAAAwBRyrw4ARKgbRyfQaWIiapU\n",
       "mgaI/swIzTvMIMlpWZZ9Wem5tJ6d2LUbfqhg62jt8moFgzV4QN6unv8BWH3H4/Y4asX919r50yT+\n",
       "AAADABQwAAAB1kGbNEmoQWyZTAgn//61KoAAAAMAAjDkC+JPMgz9gSHi9F+87oZNAOvFrm3GlebE\n",
       "DYZ6JwHfpm/tK2DtV1ZHoUS+UwnWD3iuvlI5Rv9cp/0d14FcyCY0rRuLKN8/WxLZTCKWzz0t7Td2\n",
       "JDyOHjSD4JjeYAgMEqhbFedtgo3vr+ZIOKS86jJA3TsX3sKjZhWf7//eEP9qUs5OGKhlziumF6d5\n",
       "AbA8wN8vyLXgy2TD1MVLod+iXdIRX59XEuMYWa8eODBnGvfbPkl6PX12ssJstqV9ZxYCC6ttuXlh\n",
       "I392LXM+KaLs0VdRFmGFEqo9rRCOAqbtvqXSus0m+qEEPrfh9pP+kdSkTio+CFvrrNIikAEeCuNB\n",
       "wS+TxT4Dtm+vp/qECcQPt1ZSkle4s6Psh0cEB3rylgs88+UKwf6e5rxUEq6lceXSKSZgmKlvdyxa\n",
       "bdekZBLkv4UJihDLdUWTFbWVtjbV3CqT2hzl6I0wQpxYSTpWfVjN5w5MAE+YlfI+J7q1EP8wekbj\n",
       "R3W+tJyoSw6ekg4sDlKMMOuTvIoJ8OnIfOFcTBkTToWDIrQsRRu7rPQaiAzNrxVUM+H5OdMVcaFA\n",
       "Sqan98DxJrlqqTDUGVl3u/AgAAADAEXAAAAAzEGfUkUVLBD/AAADAAADACatshzkPEdkMe0Jh7a5\n",
       "am5u+s/CuQCQVwAASxWutRjBvmTWWeG3lPAcOt+xxoaX+tNVYR+9ROH/7T1Vdsz4Jvk0ldjTe0Ut\n",
       "ZXrKgWwrTSqC85uoGmBRoxDnjs2O0HCRlqQnL6+Oi57tlafi4bssPmf498Ip0mVDuh73cZUzqYOX\n",
       "w4oyNXHRA5YGFQ5hfdwegJN9IUMo/bAXYC6RkaSafx5DgZ+D/JC5rtCIgd41JRaFGx52ypHqDFNA\n",
       "AAALaQAAAGoBn3F0Q/8AAAMAAAMAE0uzAXrlMVBIEcxFOJ6XRb3ABMULT9cIqA5zM0nRe3NvvT4T\n",
       "UUpHqxcPvAXOaRlyAZ2mtzMc/8QzY8cQe5zB+WF/hNxgDO/ts6WeuGpFK/pGcdSGAsqUAAADACbg\n",
       "AAAApAGfc2pD/wAAAwAAAwATRegfFibcGWxpevjb5IrX94AJijIO3T3zJffSGT/cU/pVss6BWMN2\n",
       "D1qRKtUG3/fRWFVrY2PZx8yoQ/t7evCkFUIwkZjxxsBw6Ovypy64J1tzVvlDBtc4m5MFVPr9RAMI\n",
       "t4BAhgFEWu+UoBzBciBMeekwOhd/aL6RrqCsHLxZkPhvcoVnT1Fser6F6r/6SU0pAAADAAiYAAAB\n",
       "lkGbdkmoQWyZTBRME//+tSqAAAADAAIw5AviTzIMPKOmU79QTZed8hpJnI/XulaXKUSIZqKlWhbX\n",
       "iwEIKtA162XNZxVJdA9tPsp0ubq7lOe2AlHoe9oKCdFKWec+4D42PNbeSYObkPcbrBR7i/LFyhqY\n",
       "6lrFcP60eFmB0KwDYd0lAX1WWHxwqlwdVqbi6Ty+ixuxuSKUsPH5su9AeM0/YJ30yWdRoLXaybn1\n",
       "5kyzeV4ZfJI/umHI17D4PLCcpMX6XYOQsuUFZPj3z/xTynEIfLvJ//HsxCboD9DSNhromeLKYi+k\n",
       "GI08cplLDi1ukeBnuOyin/7BmvL5pqZphWwhC3sYkPr3lLzjoF8Ipp6aeVyNkroNcSpUz+d8a+nl\n",
       "aLnaq/DY9WxP1nKZv60VDyAi2/REYw3BayvxJhtUR+t0J3mdTNHIn3cTLed/3wobZn2vOnP8D4PI\n",
       "13foK0Uo5/0CcZguTnLV3lvNa+BYM6eJBltQZ0pt2aLpWTjgqZ82Nf3gleZJDq5TX7hSEYkglAD5\n",
       "I+gAAAMAvIEAAACOAZ+VakP/AAADAAADABNSerSQVIbR9Xe2RexAqk+fU9FQATbnfzuZoB8y58MK\n",
       "8s8AQdLLCXprS3S91JaMFFtVKgX16ZR/HdaWRw8Ykbqphtt2wxdXlWz038bUtyXopdikUCeKI50R\n",
       "7sGfkQxpN7ywlOY11nR9U9K9a7amldZRLZIl7VTBCZ+O9OAAAAMDlgAAAdtBm5lJ4QpSZTAgn//+\n",
       "tSqAAAADAAIw5AviTzIMOi2Hz+3vP3gpxHEpOGFPJMZsccvyZJM1AQvT9u2PyXs5jcCS3KxvtRxa\n",
       "Y5nX59zr1bFJY6bVYN1s+yc7a2mwpGx+0rG+rVyiHkFjXjXLNjDND6no7VehGZ9Jl033LLMrdIx5\n",
       "UTh3Tc9oU6AMpay1pdG36NWR5ZKAkW2OiLHfUdhDUGqVYVJIxjrdNryvYAoUmlYA5BJm6vOJkWlk\n",
       "mz0ekjpGzTEPBbeLXDY7q3/TggpsSHaLRwtAXdgJP31QwC8sZ9ZInuo9RIHHp7HIy4YcTfttbH/Q\n",
       "YNjA/VJxA6bREMfbl6mqQplCxrzH4FAggJ/BedZ6mJWBlM+9rUu1RShULBIlrRdoRpme0VXcwuaW\n",
       "1Xeq2jnOnZM0eEfDH58cVlETB0Pzq7qrdqK9K7yh+njsrqJWq0T5AuInHR6q3Wl5LiPSN7v6Piei\n",
       "srzQOqhW6SiVIUz6RFPGUzwhOU2dW6E6dhUpuddZMvoV9SybKTfF8wVzW2bOcGWm2GDkRCqjP0KT\n",
       "miH/zGS6INhm7YqkWlCPSiYc57qHNYhPRe1ZIT8gLtXDiUpAj9jpOjDnXjGS8RyG3qcoHLiPaF9W\n",
       "AAADACzhAAAApEGft0U0TBD/AAADAAADACasi8PEsocZ8i3x1RVIgABJOUsni6V0QzAjx3sjz62W\n",
       "+uotJ/4mEGZPXcjFjPhUZVxoo5MgGW0ziRJObHO6Q21tPn7canWo7MLZzOsvLImfRR0RGaJG48Fs\n",
       "T0Tjdtd8sLP2YTasV8wapVM4XLdMuFeLsab64k1Pkw6UF+5m+25Y/X/sGEW74ZMcB1fELBZ1goAA\n",
       "AAY1AAAAhQGf2GpD/wAAAwAAAwASxtq6C/+CEWhABOYuNIMVZKySBB1xe1tBhbJ9vmZ2fn3nlBdX\n",
       "gsZzYQWqJQLDHE+wxxj+gUuROMFAHJi/YqeHP2a9u5ixVuNF+CjGVLYtXNV523cmLznz+p+pMVh4\n",
       "xwZQfsHfS+IT0ttvtVb+yfg6P5gkwAAABJwAAAIUQZvbSahBaJlMFPBP//61KoAAAAMAAjDkC+JP\n",
       "Mgw4jz4K6jG8TbVjEngT92W0JKWMG3Jl2pwtsIVt66/7IpOVXQiJnLiAwytiK5E1kEOBWyshANgw\n",
       "l/KMlgfycDdnBTdFAbE611Cn0f6Jkgfr+gSTiIs5mHkg9eCaE8GFcgxSJ4oO4yNSjibxQ8bj/ZGx\n",
       "be0ueD6DM8BCkJ8SDGt5PPLjkueE9RfITUKaOHAnQEu7iw0zg4iuiBM/APdiz/GC36AbKYeN66Yl\n",
       "ljGRyjXbWXWFBEE4R03ftVxxaOE8DON403W1pncIgxrVTdfHapQWDFW5LfkUAfLPBdNrp+wV1rCU\n",
       "xhyl2rmVmG3YOL90TpWJyeUvJJ/59zOaMCpHxj8qRYn4SWxVLBIto1BAf34KrnRsiBvf6nj3ksXG\n",
       "qIEC3H6U7SUFFxnoei9wprRsy/u4OeSbwTjbbs9Ne7rxCY0iHc/iAwQoS7nMCkxUDWFxv/ciQmO7\n",
       "pQgDEaXzfZEmYPiGF6sxtgSRl9sUGiQBjYPPA5ukKdGq2zduGiAV51cV+e6uMT+n23n7SmabIx8a\n",
       "AvT2GFEzM9LZAzWS1KfIGmHtUDItloq23wmpijbMXp6TDyFO14Vs1D3UaHYtUrsbrQ665VcnAdiW\n",
       "lkywiIWWUNAL9YddwK1l9Z7mC5S8U17+TPD5gfuHsoNROnzxmCAwJh98fAAAAwCPgQAAALcBn/pq\n",
       "Q/8AAAMAAAMAElaiOAETXZXnYwJ9B0N4koh3bOo5p/l51+oTTFODj6eC6Aa3vsqqSlgIcDtT5gqY\n",
       "5fINnFXIu1Yn4aDQnbPpepjPPR9ZNRgFQWsnVc9DkYfRotzVMjnC5sddsvpavSwhNEVoBmmvPvgX\n",
       "PMPGnXQYkSHpJ8HN6uo9sZssn9Ol2JfT8zMyGe4UBBdCKtGNpedJVihYTvd/PC4lTz8JoAMQ9Ux3\n",
       "4V8sAAADAwIAAAHSQZv/SeEKUmUwIJ///rUqgAAAAwACMOQL4k8yDDnjplLUHFjQjlODINRKeIB0\n",
       "7x80NjXivGOWOOKZs31cJWfNOd0Tm1wAfdeb8S/J016gMOWv/ztTAJPmNzEH8j53eGVfJP6MQUJe\n",
       "CnDcM+ixpKhWXSHT/vevUyPf8654OTuBcNCgT6IEicGFuz/k3oEHFb93pWk4e413J6+b4iDTeu5D\n",
       "Ue+i90SNpXprutAGRC64lXQ/ij2RkvR1r1WAOGch0V+K2TeDRC5IOestVyWqrcUPz1hV6s2JZCt0\n",
       "CzDV55luLpMHasv/LCeEmlCHraRvuiOdg8yt6NL3rhOd11IVRnAA5OLpVkTgZFSWZK85i9BV/yKm\n",
       "g4lI8wOhVxaG4H502yAf6Uv2BSPR6HzNSiFuVNfrLB8s93miPs/TfVM/do+qMkHQc3/qJ4tNtsRa\n",
       "5aHQ5qLew8f4WahuVXkbI3FoEW235af/0dBNeTYDcVk/kmGwfdIwJMEGRsxjaJFILHCeH32ILZQK\n",
       "6xPj27iJD4fJCypKVDkU8woeM2BAhfoa47Cbxp3GPUL42O4GTpSZimsPYLcjVs7R78/7vlkhXmdd\n",
       "kg+MQ3Vq/3mtuBnMpFCak3BgAAAMqQAAAQlBnh1FNEwQ/wAAAwAAAwAmrIvQWPvNVqzvIAN6Y98x\n",
       "6bivcy5HTF2Uo0UwNKDSVrtjX7FXwIwzHmLFNrQqT9S5Q6j1ZK7E9cM80JBlCMeAEtor1pjsAiMO\n",
       "FDCHfbYYAGna4N2PmdaGpJpX9F7edMMyD1Ru5H4rMUISQI8Bj9ZyrfXApF45lc03n2tCmoWNo3fT\n",
       "WWzwlstQ7hy4ADlmq/C28u5XSrtJ2UDHvPLRcIjq8mIWVgNig+vToaiQFPdyK4pw+UKUnKruteWS\n",
       "pWwBtsZn6UteBwmKJ+zca32dxlf0j8qKOABalAfWiYH8vBdHw0IMeW0GHFxnx046ZUB9/HBtxboy\n",
       "TXAAAAkZAAAAlwGePHRD/wAAAwAAAwAS1160XdJ/2JZS0AE6n27qLdEuqlniDVj3kOqXA4G66OsH\n",
       "1ubYN3SkMI5vgK35G9V6LFkpTyzEvqSgLiIWTX1vtfuHs+6Qnrq7EOzQ3/DdxtUDPHdsM5jDnwwt\n",
       "VbH3+IGCid36OoYmFGK/JtCYYLMfs0N7mAu1CssPjZWvsTrYQ9YUTSZZoAAAGBAAAACAAZ4+akP/\n",
       "AAADAAADAARaL44AJnuaN6LF9rX717rNAuTxBzTP9xI9v9aUeWxBXOFGDussNYX+AAYu5RhYow0m\n",
       "Q5LKM0RSNwTJRFXnjfVC5QRT+oo1gtXAD2LmPTMPV27bofYwYAAIRg51Y8rmuIkOAr7U2EjZ4gju\n",
       "ifiDQAAAPuAAAAGxQZohSahBaJlMFPBP//61KoAAAAMAAjDkC+JPMgwNytxcLKe+Q0jV6BHtHYy9\n",
       "88ylfWRGWTRopCiRnJ5Org0lFNJlZUJfmf0n34jI6dfbnz63pbFMG3TiT9eTz3kDa2f9Scc5PzVU\n",
       "hRNm2BDg95A9g/aSg2zWwGnUfg4HIPwzl5oQCKqvTH4xw4dNUuVHqS/ZKEOxkjhXkkk43ym5/JoS\n",
       "DB3I3rObWagqU0g+FtKZlCNtbqnGK43kHZoOZeugkMWv9OA1foeaiPYAleALSCvrmAivQ7ARgJkp\n",
       "a6GFdPqy6T1EciASaNbmH9uKDRWAJRoOBiF5WBmskTQwJm4BHoNVQygjPYT2L0Ih35NF+dek3F/0\n",
       "I0JqSFRmAk7icjEb22aIDKY7AdQB80OWmr5UUBLbv5URq1Lzm9tGczIKaZ9ZE6C7wEk4Y85DRKrC\n",
       "mI9qZkU4phcK93hIz9Z4L2yFqD9+S/koPDWRYZXarw+1QDGSR5mXV6Z0zfYYkTnoX6wJ3ajm2tyR\n",
       "Iv9O4500uO9ikqNqcwU359vSAw4OcNr0A2YK2Kc4MfBotP/jzdjOLf+AAAATMQAAAIcBnkBqQ/8A\n",
       "AAMAAAMABFGgOd/UAAmEjvJJAph3C9Sj8wxB5dyFFHuHtTHYYxDpdfBHvhcKYeX93Tb/0cza0gvo\n",
       "U9DTh9STTmXoUfqxmGYz+I+BNZydj4T/4sB1/EuD10Y4HMOMFBGYv5slY5F9ilKXYtzD5nekAXeZ\n",
       "8ng2avP/ssMAAAMAUkAAAAH9QZpFSeEKUmUwIJ///rUqgAAAAwACMOQL4k8yDA3Kz6zB+IQQqEp+\n",
       "D8PYzKnmWiPZbUf0RnJJVWuX/+Wq4TCSRzuD2aAWpV2+E6qQtNuhCBEGdkJHuY0ykfuI1TjQSa4k\n",
       "+Bydzh1M8G67ofFfJMFCRDOwdOh7W/aMYxtoCrrLEYFJCaowJtAdMQKpQE060pNRMdKJOHsOMzIU\n",
       "xOPdg5Udyw8cmK59NpvLYZt2StF8LqDn+4yeLI0+njDdp5DPnTQwSO+JkFrbjJ+NLr+vVqrLqL2q\n",
       "EM5ORBzT8BDNfydPfRiZS+6dAaNv5w0SkeXEQensFw+3kPYLBRJDty5M/q7fLRC2BkTCBWhJRLjA\n",
       "oJLys8ZHL0OOfhO1JG//86grFQIfOPR5pcSU53vf1AuNJ0eUGbhLvCsTYZJU/AAVNPJSkANwh/Ch\n",
       "FSEJp9u0pNlvrmQrvWG6WU7lWBPdDUf4OfquuaTR1dvhGrtIoC7/wWqRP40j1uynh0X0JBsr4E3m\n",
       "knSdGl6QE2znMOqVvELcWS/hltSF/5LgF9kPmnJ3ggbV+D6ByGNW3lI9EY5m5EtPLLt88YnMzFdG\n",
       "nZfu3MyftFgBD4mmtnL8D89hAy307rERM4mjw+wckZJ+8CrIClHbKmmyZUmK+wAJN65MN4Lgp/nP\n",
       "eaZH5h4dWDuMAAADAUkAAADnQZ5jRTRMEP8AAAMAAAMAJqyLy6nsAAG844avkXo57LkDIdBZCV/+\n",
       "9CAsCvEqhqX6dyMmbM7jETOdHjl9CjXWwlrcQeDLtrICw6joyL6Bjn7JEBenFxgrH8xSVhrtklF1\n",
       "HO39A0T//57g4oACcGO6ZdAaW59o8bwYLEd4Ou+0s7b1GGjKYIvfmeSe+PtvjwBe+R1TAZBfPvXB\n",
       "czGuKi5nFogTOUKKGN0N93+uVEgVBo8Qu3CZqKOBOn2DHONRfxBZoIzTSBdYXNJJ8DhhUuMntc9a\n",
       "KyTxFGGDXC3flhpG7Y+ZlgAAAwF3AAAAgwGegnRD/wAAAwAAAwAEUuxUikkO8AH789TTNuw91Ncq\n",
       "gyfgthroz3iQ/ZUDR5t87qQ5KfZdqCsn4hkPkjuivMq2rkc3vucN8jfUR9a/ffk22VWWdN8Z+TAC\n",
       "FuyP+XqKN4abkZphH0dwfVt7KARv3oam4rlE2EErdAbObDYwAAADAPmBAAAAgAGehGpD/wAAAwAA\n",
       "AwAEUXxfFkO8AH789VJ+QIabx0+XAbDisRSQ7EUYnrV+iEoarrB1f2bDrz+aTQbbGgd69idJOJ/A\n",
       "epY7e/ZHC6GpqWdQPEkHyrnkPmjT46iItPBlv8J3+1nEH5SyCLPUxIX7eCGzHJHFegDbDi70AAAD\n",
       "ALOBAAACD0GaiUmoQWiZTAgn//61KoAAAAMAAjDkC+JPMgwN1jxaocXv8PQCY+vHbnkjyyR+gLiu\n",
       "duyHtzIa4+FotZ1DhBBILLzFUt4lsqQvptQVg1Gvvjbh85szYTgjMawcDm7LEI1Er2YZakjGDPsb\n",
       "CBnfu9Vb0L4UGeLYx4iXlaLaMmHULs2cAsBz5ob54kIbytHDFBEoEWlvVCVLmB/h8SYBSfTmWRCZ\n",
       "py5690GbPx4T4Z1p5o23pRf3W4PFdgRDJMs2y93sR3toyFpclI74kgyK601RvEIfsulOlHA003/0\n",
       "jQyPc13PSSY2eTD9g8ojx7q4q/3XlAVF51jGfxjqfCIMkTiBYhA4YEhnf2F2dV4KUhYMEoTG0Gva\n",
       "9vFi79Jz6dX2xfpYBfMte5jh/loiZF+4/SByphCdkCNczdJleQnt3ZSfxA33el90uTSINAstasor\n",
       "vVt2PTAOwXdYFWA7tRK4RFlO52iZv6bVLumdMizur9kucRc9gVl6FXYzFo3J+wGztM/ryXLVTBuE\n",
       "eZF/GeE3xpySuzDgFp9u//lGUJidWkimKQeTBMjH4/7xoBUchIOFiDpPkf57j+MHpLrevgvZPx0F\n",
       "EzgFaohLyugiTB1lhHQu2ZtP8bw87SwEdGtzG32WeurpgLBuI01KTD1AG2vvi773AQSAWkqaIWzd\n",
       "jQ430ZUs2L9bcBBCzeu8UAAAAwGBAAAA/kGep0URLBD/AAADAAADACatshVLWVF5sJuhtZqUeg7c\n",
       "cgAFqHKtEvRUOgx/W7/AuN35DopNeYjjwKrXWuYfNqD9mQZ5V7LH/KXyvn1KkboVO+jFvhkZ7UIH\n",
       "GA3IENqb7aYIvetbTp9iw1hT+OYj1bydmVEU6cpuZHK+8fSRvzNlfttmg0/CBKSkXVCdyd21mJ8H\n",
       "k7xAIIBLFpLYahDpP9MKyVoN+H3mL/g3Re421j0wPZeps8cT50VAxQiZo/cxOaQu605ghU0MdJnE\n",
       "w/7B1GPhb0fmLJLBadNbY5/jTiWaju/hC4Aly5KxYGSghLfJhh/yVejitulsAAADAGBBAAAAdgGe\n",
       "xnRD/wAAAwAAAwAEUutWmNmoAP62peHPJDPHPKJZmWnOqzP5rau/XiIoHA3o04z5vTlUIxITCa28\n",
       "kb8spXcWuOEOpeFuYnIoPaz/x22WV9gv2I6IlbaCjdmUWA6gR3UNqml6isQZS2iLFKUHsc4AAAMA\n",
       "HXAAAACVAZ7IakP/AAADAAADAARRfG3wfj7auACWlPcd9oX5ty5SlJ8BylnjcvlLiFD5WZi0QVPP\n",
       "IPdwafJivo4R2xpo0tIjEnulgnWuzoQRZ0E+2RM364IxZM7sJaDqTKIVvjr/wjp4SHI/m7/D1FjG\n",
       "98/GXLqfOZSdqNQstADI083MkDergI4/xA1P0aFLi+LJ8PvAAAADAk4AAAE0QZrLSahBbJlMFEwT\n",
       "//61KoAAAAMAAjDkC+JPMgwN1kWWIjtj2uqHw8ItTUbsINyfYmHHYlgMe3l6c+WkvecPRgsU5YFk\n",
       "TJ+fNlRlBZLuwadjVxHMgHUYWj1J3suV8dKTgjtjoobeOilBdo1EcNdYh0Fp+hNwsqKv8KaHVTqG\n",
       "oPJUrq9WDFsINcRFVhHmnOrArJZIBZF0A8foSQNWaovMXpb7n/ccl1qcMLXVEumTlL4GPnDrVDiv\n",
       "fi04iZqkVPavBmVUz+NRN5U6VsG3bKp6+39dXXhQWeZJfVP6lJcSfIIxrToR8FlURMnxj9W+CEj6\n",
       "KJlYyy6bBYUoMxxghAlj+BVvYGJFbzDcwPIR3fIb3Cbu6/adoQVNaisowdpTTviPi+YriLPW6b7p\n",
       "YwR+SsoAAAMAEnEAAAC4AZ7qakP/AAADAAADAARS0K2npoAJmU9hqp3CsnG99SYqtrDEsrv4kOIN\n",
       "LHvhrsbmSWM6jvy47BL5e/JDWhwKQbXOUAo3zc3HSIlLXHQ8/aa82OSbE6cN4lIrN0AG1D+ySzjW\n",
       "KTZDQitLGywUTrrwd8v7r6Pt49ogJhZPY90tZ2EZdMtOTIh2xdReZLYtFuPF/Wh5iA5rGgHA7126\n",
       "l4gMMsilNDTyx+jLo+SRfaEwYgD2QiAAAAMB0wAAAQtBmu1J4QpSZTBSwT/+tSqAAAADAAIw5Avi\n",
       "TzIMDcrSZOWYxReC/GUvJ5UW5V/d5705FP5HcljM3Kjofely0j3ByNKUklKMbijVWCBWwKrr4RGP\n",
       "39mNq8lYOsPqxqoZGZNwKis1n493FZ03V34pPL58+T9hLA/MXGFmUI+stPggvdCa44aufb+8WXCh\n",
       "lU8a4JR5lzOX/xe3jDo76lSsRBJj5nluwaUiGf23VE42M8RoYmUtP3b41vApeTiAzqtAflM2MR2o\n",
       "/f/k20G4PaXf3HBk730/fHHkBxhRy1Zgi5+4Z4O22MwWBWdsZ8AXnSg0ZcDphiOQow0G6mYH1q7b\n",
       "fTZddiLScSwAAAMATcAAAACMAZ8MakP/AAADAAADAARRhyYyDbQWCBGd8r6ayaXxHABbxRTDxgQP\n",
       "juaGL6MVP+DR9ywu9SkNZ8mkT8H/A4CmGiqLk/lg/MSUIbnt8XFhg/aQ7+40+K4G0qalC91J6YJd\n",
       "rxiiCM1ozM5ygFGWuMYDCLUo2ajppE2bkOuU76f4r/qwGCtJa7AAAAMAd0EAAAFsQZsRSeEOiZTA\n",
       "gn/+tSqAAAADAAIw5AviTzIMQV4SHrFVegI7LKeuXJZmNW3T9x+49lnv+tngdFJMOE2ObaPabqmy\n",
       "eeeFllgDw4ovr8MfDOHEsDPIcrKCaLnHK7UtBJjp9OXq6sQ96mzUpWABaXJhYS7l34WFoYe4aWZE\n",
       "xHYffFuu1igX0lAqrC6CMcw4ie4wMySalQ7Q0uiAtcVpM7raoXQtBC/vsBpgl5xqP7M/OdmQ8UYT\n",
       "nIQ3TLTvVePdjDJUIcL1wX4Z9T9yI2YB2cVcYTzikDuJBQbrfpd0tQdpliIKypYWqmYFBBRmVd5o\n",
       "N4ueMPWHxX+HJ5P6j//5xUGsXnZe2JN+5vg6SavnKc1bi7yZaGgGMQeT6mTvYVJqbgabNtX5u4v/\n",
       "175Hxwqx992IUoHvG0oAQaSQ4VC+HAw2yl3QtCJcQJcPhppvMdt7lul8qfIRPJe7vP9dAPUp1Spl\n",
       "ovDLd3nqdzOAAAAFJQAAAOpBny9FFTwQ/wAAAwAAAwAJqts4O/r/6x43cYoAQN7LufxoLCgKiL5f\n",
       "SXrx/tb+NUJJigLRVynihHq8kopYCdHO0ar0t7EfUZ8Y7YGXITGf4Lp7NjB3IkICrbYyJggP5hSd\n",
       "UgPUGLAyH/5X3dluXb0dWXJPF9ZZNPFuroCckjn8pcA409DLS0PToF3whmrwi+WtbedK7/XQXc+C\n",
       "0vfSRhQ612YlhAcyshxeQCNcNE1b3OTIn2P1tV/0LfaOb4BuREgD0u1d3PJfuTWdjeXpIOy8+ABP\n",
       "jbmhovSbJeECYX7cRkUZ3+gAAAMAW0EAAAC2AZ9OdEP/AAADAAADAASVBUtmmXABayf1XPqHyVZL\n",
       "Y76u+R0gg8gUs6MSsuch92n2yZ108/+bi/1R/vK5dkyJl2quVk1PIThr8IJyNe0dgUvdvs4dRJNz\n",
       "9bmAAoWSYUca6Vfsqf2VTSxrPzA6MfwVU3Y5Q1wG+vJnD6T7m1QH+Q+ThGlNTwCI7OCP29mx8s3L\n",
       "GhJZgFHRxBigDiXjqaMX1Qh4X0KkhRn3Rq5uHqgrIrsAAAMAB3QAAACvAZ9QakP/AAADAAADABWU\n",
       "fbvT1YArfyI9F9ftzVFT8xuFXu2wnpL0tJsU2hUgAUK2A5bnX1PTZfT1ljHtO7fJRAFtv9A42OJg\n",
       "2QPU0ZpmXXM1LcitlDN+1e3GyU1zb+6/kV4UMpahcV+8kVqNS/58UgZ0hTXbUZ6Z4mkgYeqMNXsO\n",
       "sT8h4n64HryNqn6lDYE3ZibFY5egmdhkpNyUETlhV6jZc+OfZHgvcAAAAwAmYAAAAbxBm1VJqEFo\n",
       "mUwIJf/+tSqAAAADAAIw4PfgqqTlu9R+CiqSMaWy/oSaD3PePYjm8Gcu1ydNuTDeCBfbb26ZgawL\n",
       "OWqeD/yPtTtYL01rqE1OfFEI3taffC/hZiJ9qXa0UZHhhJE2bSKWlXexD/M/nB2m6fgkJ8nZHXXx\n",
       "4L90hW9deUo5+0yPa8cbmyiTJy/ZRyICRZLuktcknAOxtMZPR897FnkYVvhEzfuP6pjlpQnSoekm\n",
       "ZLeRjUtOFZ+9GUvAzg7cPDkOZ0uoI58VOPcK/OO4dlMy44wdqTYhUwO7KCDLeCL5A7it1qvtbxCR\n",
       "3092WIo0rIinTOfKjM4+x3/3f3gVqrrDbgbm+CcL4OLSudNqnR59w1njhk7vqn3uo8rjb9Bk6g39\n",
       "fD5NqfFEpbeZeTNy0LQEcpG1m/mMfEQ/0FuO1KKyBHnoRRvSzeowYecTn0wEwZBys5Uxt/chT1CV\n",
       "++OMBjFkU3zWB0u7/cmJBZtrgQB66tf/lztUnNQd01+SFhss0Hyk+/z9lYfhhTrmkydMqFjux4OW\n",
       "4Mo/+YQohj/tzd3dkPFxZdBEumBHyQf960GXn3LyzJgAAAMAPSEAAAEDQZ9zRREsEP8AAAMAAAMA\n",
       "LWL1jVhg6aAYphLKABO3z4mjstGKoQcrm9NUSHoKOvWdn37ecPC4BLwif5mHeJaDhjL/VT60CTS5\n",
       "RktiuhJV5hHUFjnCw5DD1ZhCVDFaRCwlkOFO5WreTQZw2aS5vOxaV/0N6EiIzmXhHzLGlaVvlw+C\n",
       "r2D/0DqkxF12QDbY4JEgqefJ+JD3aTgVlpR2wm1n4iY9w3Q97ze3b0ztwUyqWqJ840o7co43xSzn\n",
       "o5vSeLd2e5XP4HWvErsDEkjGSG0kTyq8aR72qWwSIDkTWJa8H0xqz6J2qK2XsyZhuqFvotAT3VLk\n",
       "ouvMh26x0eiVm+AAAAMBKwAAALIBn5J0Q/8AAAMAAAMAFUq9XoR+9s0AFrTE/KbX8tiDZWjWNiEL\n",
       "QykgaENQ3cTivE4Z5/d8JNWU2uKahktrssy0FEVYliulZL3tMJKX06/X/3xU1DB6a32VKzggQEEt\n",
       "pJZKtEqRZ0x3PO5VX/wtWaF7Glfnxm4a+zrQXkbRwkzbmK334wCvw1CnZYzwbA+5cXQGAmOxQ99a\n",
       "PvQQw7MJGs3xQBTKjMwTewXCKWB9AAADAAZkAAAAfQGflGpD/wAAAwAAAwBkfHNRFA92205GZzWr\n",
       "aADxaP8COWgq4ZCumw7x82fZWuCvgTsKzyEI5IwiLQCsqQpxWeYRwb5y946d1/T+5ycFZwSG+41Q\n",
       "099m+nqV5Dvq26Gu6ltx7O7TYFHqfkvsSGc371mvSuykUvEAAAMAAGZBAAABO0GblkmoQWyZTAgl\n",
       "//61KoAAAAMAAjDg9+CqpOW87y9CNDsGQyfa5GBl3+bFxJb22IDnB6GmOsLS8iBjw9X2EfoKHP2r\n",
       "R4NO72lJbDi2K4I3ZX6BVZDseNfH376eLMO0SymzRskOlSr4bRTBWboLpE9jAigreODRbk0NuR9u\n",
       "m3k4Ao31B5QDp6PMCNW+m4d3cMppfb/TpjonwPFpy8pDi3ScrIF6AkBfbQh5D+YgErz7ETKAEDhu\n",
       "TMDWnjM3CjwcEfgHFgRo2Wtgh6ZJAFiOAfHK8auHWf/0IKCDOxKs+LuSbBAGtue7KKn/gnUXBG43\n",
       "d7PUUXqaZmSFV38+DA+ekPlOJQnOuxEKmUcuDOL4J6IpEn006+Y5vnNl1gBwU3gNWZSsdycOKriQ\n",
       "gTlBaP4a3+xKHBtKW6AAAAMBgwAAAUJBm7dJ4QpSZTAgl//+tSqAAAADAAIw4PfgqqTlvO8vQm3g\n",
       "KAfYih7GvKuv/e9JEe5aE+/OWo2VXUfRHNqFrPOHDzToTSV9SubMHBeD4HCpxSLZ8972N87XBAq5\n",
       "I+pRwlVc4QE8VdVo3PlR9QHh/LUmnZCTuWap7bUaQYhkg3rHcaGZBydLkj7tn1tGirchE0Ar7RY9\n",
       "yqMrmyZGOv7oRA66Q3+c88tKiuMtMKcZISKNADa/qRinqNniaYk6kwkvlFSfTnH6Gyh2EwTSgEQl\n",
       "HpSXqsAm1prHlcov4jCPybuotanJPHlw5+6k88YAvOz8/7/c0Ghp1nuTZTPpOlJbvSYDx/keItP4\n",
       "PutYpnw5okYFQCMB8dISXs0g8nj2X5EIYkmnHyLWbxqfFNijHjMuv3lltUF6oLGBy/OiBJysAAAD\n",
       "AANnAAABZkGb2EnhDomUwIJ//rUqgAAAAwE4cFuFyp+gXQExR1g7scqYfQ2E6zNtYS/SNH6BgJIC\n",
       "GYWAShbdVHBMSLZhA3BugH3aY23FMaSd+AiDgoMnHnsuR3QX42g1ohEOUUY0ajd0sElrDnvw8ro9\n",
       "Epm4OQc14Rjgpsa51zZMK/lTHZmDHGYVRB4TVtuw8HB7ceEujCFG03js/Rs+MoyyKyiQgQfcvhr0\n",
       "1QE0nbWh2nWRcSeinmTgXSWeAodP4xTxz6KpmS3vnSx0Rp/c3WPdomZqGdRc0+sQ79ZquoEu2y4y\n",
       "Z4Xt0789GBlvDOsSAPfsFbOF3s97FwDnqUhKRxzmBJqKifZjs3nyPX1rCRe6tyTnzGDY/GO7rKsK\n",
       "Yvq71GmZqZFP/BvwPHB8Yg788/2uUR+F1zbz+PYEGkecPZqj8U5zTrps0GHClw1+Zx6IocwSccFo\n",
       "7mbr+0k30Wv4CzoBZV/rZCAAAAMAB00AAAGgQZv6SeEPJlMFETwT//61KoAAAAMAAKmWrtwAlWTs\n",
       "TQR5hIjS9yCX2GpXublW4cgOEncNIXYiNNbwYQw7QCbB9SltmXRJ6EV7QuwP92T1S7VyKSmOjSpW\n",
       "v5AeYxtT6kUibUwt5M2e3tmwWFYx/EhVzst5M1FIvg7HledvG3yBx/3q8wfLi71PeUusNwc1WA/P\n",
       "ddlwCzDCLdJ2NhUdg6nk8wjqYit4CqIzQJOy+vtCzKyenrO2vkJx5Q8inq9O6tGSqTeQzCM3h6kx\n",
       "CBRwb44rl6xKBvsEMa7z09O5ZXtlxjVmi+TQfiU+6zkL5r4MFPFTAODrlTqbubY7X4jKMYcUXEBj\n",
       "3xH7tdUoVJMFDUW/Q4ZzNu3apSNZCxmXAH2GLM1JNTyayx0lEZ2gR5Rzl4Bliev4ABvBEHOWDnGl\n",
       "Q6TEPtrf3jV8GkgYnzk5WxqWD0IwsPXh3M+xsZT0s61x0i+p2bOr7Tw1g7NY9yyvMT8p+bcxfmMN\n",
       "ihh0Qs1yfqzRbDQTyVGZ6XTi86A54k5A7FRycULLGD8aZ2dqd0vAAAADAkYAAAB0AZ4ZakP/AAAD\n",
       "AAADAc/sQ5UwrmKs/agAPx9ZF6343/5vX/AO9RqIV4L9KZxgrFRxPIV2Fgfd3HidvDSC7DktNWQx\n",
       "N9z4kOsFW4gTB2WWrd5w5RuzJwXOOIS7nOHoCCnyDyBWFSvmPq3fjSU/tb4AAAMAAakAAAG+QZoc\n",
       "SeEPJlMFPBP//rUqgAAAAwADA9GORiaJiAEDYbRncDuKB6hhl+gBESK5ZuJXPrRxPA11mZNtldT3\n",
       "lsJ9Pcp5j/NX3VcI/IAFi9s39inYOIOfDuibkop8U0F0mwRpu7/5o4P0p49HBPfnYtGn6dlwOXGk\n",
       "aVAF+SREJcLU8JEf/ZYit4Vm9uo0mdp6qi9gjl6yWaI6ocHu63YCcWr4JQm0ld9PYp1rQwkQaTU5\n",
       "ETQrMpYRxrprkiIlzelVKmdlebhPbxLIl8tCRVwl0t6Uu3TYrOmxSLMHjT+F+695JhdZ0HTj3dba\n",
       "xTF6GflylSJtKxUG+LCPTaMBeSiS8KSelkc19ggQoXhGk1usWF4unBk68qnfIjrA4NqyL12L3G+u\n",
       "0uj8T+hftT4bw8iguPXaDbg1+mGsWx/2NvzhFQMtoTbmGWJ59zNRW3QeMj1S+1CcChjVthxya3ft\n",
       "/XsoNVQha7CXw1jpMnyYovn6tN9HhliXVQDQSUB3s573C1vNYEfDp+xSR8ZHy3ZqFw7IdhobN93X\n",
       "0ip1Ulv5E90He5PeSdmCUrOFqj/O0DvfGOd6qAFLKvsZtU2lIYAAAAMAdMAAAACVAZ47akP/AAAD\n",
       "AAAIDiuYAvchnAAOGPEqyB2e1XuPo6Tc4oWwltOs/cahkoZ4nKUIuVaFamWPLQgYDDT+j50DMDRJ\n",
       "OUTa5xrs1gm2uQhQ4ceiY17ZwzfsNQch+30F5aMtv763/5pw3fySFg9X9nM/LEveIDl+/Bp7mOo8\n",
       "3gn3FsY42bG7Jo2efTVteCSHgAAAAwAA6YEAAAHPQZo+SeEPJlMFPBL//rUqgAAAAwANltDtwBHo\n",
       "PiOK33NWCAEx3eexUDcKu6D/ved2AwO93m/Cco4L6dp7VgyrDIfAC+FV09mtXoDjEhPA+mnQvEhR\n",
       "dEzz88AXMt8e64fo3cb0Rj/nG/emAQBRsDDVo4YUsX0AVBSh1FD0N8rWXCbkpZ3mVf7fx6P5VrJH\n",
       "sHIIuTp3wrP5w7rgtXL5dXdomhoglyJVvhLiPLmUWzo5BFHLDf4rm3r+p/gXJ843ibAf0tsFBvQU\n",
       "c6jHnxkcuautBiAb/lTymmYpwsUuYQOQc2J3gLOOff2TTOI+ky8p2mjKdM5nLJEjD7egygj6iPtW\n",
       "0g9QL4m0ESSUlVGcAodBkDb+PmcsbnNl1K9bttZp6Czhy3jEUk6HANVFclLIZRp1U1y46BEdYI5S\n",
       "sP9AWFE7tCTL4C7Gw2wfE0LEJQUrblNCCKq15PRtwUfKi7VLqCHlxBPQqMKFWFgo53AwOvLsdyql\n",
       "f8qQIqpWzhYvMAB3j7mUZOXEQDAU5mOj0DQdmFclCpL37RdBbBQUT5yOBYNfFc9N/1L5vcuE2YL0\n",
       "MwyfD+ZSk8yiakEYlkbBWZYvxtr49w9JPgvt3nDLQAAAAwCqgQAAAHcBnl1qQ/8AAAMAACWwbKCy\n",
       "+Fc8Ud+KAB4B6vPIO/lNOoRXHa7DPkl0V/62rn1TouRaxl8JrGmPRi2x4XBbjS7Q62mYngb4FbM9\n",
       "YqBRj673YlmVUS7b6syCXi6nBBlkEJzP1Vz0fo8mUbKaqCsl+pTsUAAAAwAOmAAAAVJBml9J4Q8m\n",
       "UwIJ//61KoAAAAMADebZKABWF5nNdA399ekiixQ4jUPpZEpWOOSseBSyILN0QTLobFl/tdKZfHkz\n",
       "RGUi4oAtenKvrzqs01CSvF5qjnAsEKfzPghGKweU3x/M+iaGP3BZRw4DnLIA7+dTmUkQykqCqAXc\n",
       "RO8/ByC7KEL/bI7Qb7yeDaHk6VCmycLeAtY/sHL4ibAW+hZHnE6keTMbuGTPWcNW5puToDh3iPN3\n",
       "+LudN/NHzBx3no9CS0zXKdGa+G2+9uPqyhnhHqQ9/FUVQbatY/BiD1gUekf8hZDk28m5ZO9L8ft+\n",
       "t4p3EwRjVBgIkdAZvxmHk2aJ4U7G0KaMuw9E37kkYWStBm0LLMwrrkJiuuZZqnC4TDdM5J793YZx\n",
       "1+r38FobrUpboCAsh3JSjv3p251gq8Mjy0kcDKQPXC2BE9wPv0GvLIAAAAMBXwAAAeZBmmJJ4Q8m\n",
       "UwIJ//61KoAAAAMAPrT8G9rHugAQqfyCiKyYmjQpEMF1NiSrgLI2njObfB+5cNKEb3xLwhHn0T02\n",
       "zPGpoRhuDQ4aELT10jbZ2wKNUL4xN2DjFOaETryUwmXKzAecqY7ovqLjo77osiymKDpjSejk2ils\n",
       "1iwO5vKJT/fKrdLUllVr5SBr/+jgLX6ETRJHpoHmgCjCVLM3uTdfKw+sRr5gRNH0vn2F3ocJzwoY\n",
       "qbG28cYLmHJRGX90cNVqQNEMqJ6Hh9KhfvIIkS3UD19fgVzotQ6ZC1y+m7PGXAoozg6/shPB3DxO\n",
       "drwDCpyRfNHb4kaDOegVVZnCjUXiBMQJj/QgrUwAPa4BjTPdePLkSAiN+TDp6if/OX083L45Kcwm\n",
       "Q5LXbGB9qzGXgmeOHjfdqAbGBp+XrKW5aj/PmRRa+gZzeOxy4j+Um/a4k2QBcmnkdV40wsTVPGur\n",
       "vXsAwxv/uhnaZGeZcwJdwSOCZWTF8TC/AZcyr48OGK4DzQK8pmSzKwFugtlvNTK7H9GGqqvHJL1n\n",
       "mmdF7nE2pEbjdKTLXws6Jk6Gt6fHV5lLtgQwhyTAF1Tg0zwDHTNAF3GDMM3ty+6VrJgrAK72vjnl\n",
       "vv6Wy7jYah4K+RO0dlOsrOQAAAMABcUAAADNQZ6ARRE8EP8AAAMAAE+F7hbJFVKl4aLW4AW68XHY\n",
       "Q1+N9Rdp5Ushq/xjS68o7hhC0Ga0F7bCXyfzTYNCLAYN1TnkBHV/brnfPnlCA7AKbVxeaRiE38lJ\n",
       "+heQlTtF8rL8OH3IFLvL8cmWqn9FeXzHdQArsyZ/GNTvJHXtq9c2sXR2JolO8vtBBINygYUMl7QO\n",
       "Lzu+LoYYOmeyKv4DZpZzzlKNkgJPdnU3PPa255+9DcGauFoIuMTSUWfcyty/IX6NxFX40iamQAAA\n",
       "AwAiYAAAAHkBnqFqQ/8AAAMAALEj7MNwldGXQAfCCL75Syn4eZ+eMN8sHxXIBra8u5a434++lAUn\n",
       "0A4/eiGADU2FT6v8IXSeUg+xWdGjqn9SjSv+djL/fm4YoG0NChMH64BCuRdbmzSeFbdqrQDft15r\n",
       "Ov9UFLqEV//QAAADABlRAAACJkGapkmoQWiZTAgl//61KoAAAAMBKG9xAAibeFKd9gRmJQ02V/lr\n",
       "O5XUA/putJ5yhqQ4VIJnRmB37WmQUk7c7FfPKxtcutd5ofaZVssiV845hTJugeWtnbT9SLUV3wme\n",
       "SjEkPmV9vXNm3OzeIQiQorijzfNqw5vlaQh9qOl4Ice2Ya4z5jlSqZmgRSQPBqI8PgrlJBLVkYEy\n",
       "8zwNiY2JzduJI/yseKkAcn8x2bEotHvKy6IW2ErEHAa83/jXG8gmzlYqoOwGzxaLJpgcHeiWAakp\n",
       "3lFEy6t8Kg99W3fKCww6Y+hnnXsTEXxTzS4qsnZJ7zfGSLyaQDuO1LQisuEZ0CEukEqfb73c2GlZ\n",
       "oC4w5eHVIKPjBAj6Xcmt4ZXhBYd6EcUevIsyMSVvTGoY4XkyvC1omrbLtXb+KjTnKoNGz6Ua3KNz\n",
       "jdbhecXflk+DxQdXUBjSnEfBqzfOpktUxKQBqfAcr7L2wJ/jLiwr8Zm0uZPCDLxjXYbrMyVRGeOj\n",
       "4cc0ve1PdKeeR1BhsF9zJfyNez1uTTghr0Lb3vnuzGSSU5njerhOTwmmXPiwNiwMyy4tM5Jom3f5\n",
       "0m/GIxgIfAf4E6LChURzzJv1PWJq1JU/H6jf/9CF6SJWt1U9oCPbaYBMOS/mam90nen1xORTmBET\n",
       "RaH07zN18KKj8n/VUkdSq6BqfQgx+Bl+gOUogIs1kS4FVViZU36gosNo2TP23wcdWUAAAAMAk4AA\n",
       "AADAQZ7ERREsEP8AAAMAAXQXuQP1ERuxjzfwAAB+/3oNQ3xba56X78gaJsey5ZV54VmkeQU2ivyY\n",
       "+cp6EDoidviq1bGoZi1reP0f5fctDgQygchocxULW2fO3E3psZprTzs08le9KJRN5gCOAOiuNMKz\n",
       "hQNgOTyKpp85Yn3qdGzvdyfe2LgkaMFWbb6ccPQqZYE++at8FhZ8j/FxE38qs4B4auu3+S2cmGEB\n",
       "jKsDCiLTubwOICPpdSrtHBv/AAADAAK3AAAAbgGe43RD/wAAAwAAsPtVy/b2AD5KQKNOh5AwuTQQ\n",
       "uMntWBywNexUf2khDNnM6WL+PEnPjYK+W1s4+nfum8L3dFxvJLC9yEOpKZyDk7MfSXEvA3ECkDjX\n",
       "ZqFFJqzaKmvsNZsuppfM0Y94AAADABWxAAAAkwGe5WpD/wAAAwADN+O4Ad0ARvQld9kg2TO2Bp7M\n",
       "bk36nABXHYTVe03KDgvU6H7l3gw02icry03xlTpH/pEEWNACTh8yWKAAED8AVHiHQEdZG+qWjttB\n",
       "yEvPiry2Pq2UM/mShGZau3Hzz6Jcv+q6Lmq/E+PZSFBLrg137UEvXc/utEJPNC59+ls/qgTtAAAD\n",
       "AADjgQAAAcJBmuhJqEFsmUwUTBL//rUqgAAAAwEpy/GI0UHAANaIZ3ZY4oGRPWqJXbiS90wsycDt\n",
       "upfP9WLDk47xUJ7lKpvdvPaS7m77Xjb9qeAcN3Aie1Q1sFRW949/uoWa5TJyI2imCC5P8CM1FSjX\n",
       "SE1HRhyng5ONCqU3Uj3o8nem4OMEUstEet908RxUZCZ8fLoj6dLMYMmVL/sR5rkZcfxcJzMzxHzc\n",
       "nSxnFJX0RCHhOnC/XE73kQ/77g83L2+F7EnDKBoKY9oXlJj5XXWNmYSK6JW6ri0oi2WDXec/j8u/\n",
       "D9Fa4fP96G31i1erJpdqKOJNnhKRWgMHGT8x8h+W4WN4nPL1iVNJNkPqyqepwWKUpNfJUIgRilLH\n",
       "NgbxU3uTYUoXWqlQigUg2lbfubg/4wVINkE8xFe5fV3BB+n9/ksFJPOfA2M7ZvpT4bh//qlf1UH6\n",
       "2MRG+UYPIYW2guF+sjnS5x1bP+pOaE5m7nc4YzmTrFNwbWFwckyhbIYH6euLeW15cpCSl1nJAYks\n",
       "LeoC5NWO12wcSR+To/egB0odD7MB7g/HD+YkQ8bkJ7s56uDn6QEBjFRzwqZv//S35G1O6qIAAAMA\n",
       "BJ0AAABtAZ8HakP/AAADAAMt+NYI8PeeAEjUyEdcj1PHFEwi/4Fa95UWGmyt/r0uNAkNI8y7I/IO\n",
       "YKEgAApBJuInvJqAA/GKOEXf6rNbwGQc+dR8ofACTJTDmTKnvflN9BumbRyFZqhLltmy1YAAAAMB\n",
       "EwAAAMxBmwlJ4QpSZTAgn//+tSqAAAADAShDxeaZnrgABNalmc5Fwew2i8CoX81d/+MBe9XdNyfN\n",
       "eVn665cwhex93EwgIloRdP7G6IGWq5ii9A+ijr1F+imuC8T6Mgf1GPKYAibO019MLk6FrLWlzqsq\n",
       "Y55EAcQ+xxIlA97QocKKVJCVFaOjSxg6OKvJbPJgWZ6aGnqztaa5s1FG8kSPAiDTQY4LDmprHSGA\n",
       "Lxm/4cBMnIhuUqLo9xfsyTERSitTg4WP7mpQRNfHX/AAAAMAK2AAAAFkQZsrSeEOiZTBTRME//61\n",
       "KoAAAAMBKEEZ+rzR5pvSwAH9/9kIqVcKdNoMSqiBfyomL0WZ9TxjF1nVLNr23grqJzgY0FidhYWx\n",
       "+hXTqP3QZMo+FADarUVk94R0tymzHO1U1ubyYgvnSh2FDSoGxNG5DWt4Z3OCwe8P07F5NDWvuxEV\n",
       "uzLQQGaZ/dxiZAjyKZVnK8aEN/437GBJOr/lgnri/vvXbjOWFuj5rJ3LJBlGEz6dqvDCTxgbtI8+\n",
       "Ryke1D0pPgLURIKjuHDd7uU3NrAqaCfTE2kigFC/7kBazdj1YMDH3sAsnWcVoGvATSyA7ovBx78f\n",
       "002p//7ew0dsynaA9PvODtvspBSlbMfzI6SylEjoBHXdwNKSnq68azRvMzT++3nv1fW10cBnNc4a\n",
       "TjZuYX6wB2xufzRwi815iSJCcg1O0X3OKnb6ls8MdfH1cB/UpOWGFRKyQScqZp8dRKAAAAMAScEA\n",
       "AABOAZ9KakP/AAADAAM4FJ7UwT+ACaNY4QKk7mxpetK+Hs0LfiMxIvitCvVKCXXNTCRArMowcXLf\n",
       "IyosZhMiy273cTBdbhRaIrCAAAADAA6oAAABm0GbTUnhDyZTBTwT//61KoAAAAMBMbvYFEdHABEI\n",
       "0NB1GvBqodK/xfuCu/JYDa/ouYISGxbhMSb/qgSI97aPvUsITpABzpVPHhIFx2Jzp20fw8nAyk9Y\n",
       "omKSHuznFBP83npDYCi4HAUsdjVx5c2y/vfFDMB1bVJT14VZS8fX2OuMWM4t8d+IQI0N5whL0aF5\n",
       "LG9hTkgfLOQhS/rc1sqeCFckDGBXVo0oprCJuHkxJVA8KRUuywvYP+gr0vmrX+QAgA9WBbOPwkAr\n",
       "b9Gdu6x3lhsl8Yb6AOnTLErk8BkwvSV22yovXBv9C3A3+SM9SFn7R4dZWfxUT6IK3HIU2HhoMVa9\n",
       "viPtaqyo9I/OsG0DrLO9Vm/Frn5Cb0qk4NcZ+3QZnHxsHF2Ile8xLw/3CY8VxzV/nkwHSAkketcz\n",
       "mr4zDHXBm9qSVrnzQV5JgXIjWCGcdWqgQCqWAkUiK23WofcA/3YZFGLy4DNtPv153ThsSgL6riDT\n",
       "RI3wohUX2+EuPo+I0ir1RLsGhpdFsVuB2lFzjt1Jl78wAAADAAAOOAAAAHEBn2xqQ/8AAAMAA0vo\n",
       "c6AUQlTHiGRDw66dCsaKoGySntkAUVdzfCr8Mo44IfPzuM3TSWEblh9XV49pVvKGnMMOn4HRbgHI\n",
       "5Lsm/T/JYH4dFLZdEQqZjfTzk9ley8zl5/g4RvfCBxtNDeq0gAAAAwAYsQAAAhpBm3FJ4Q8mUwIJ\n",
       "//61KoAAAAMBMEDLO41eZK+igAndSJsY8y0+yqwY6/WGGj2P5loYQwrM8uBu9lDrI4mynCmx9gXs\n",
       "p4oHsSyFqpOgOcM0EZQdwa2jngxyCDieVBGusQuk7m5VGWkoVHSw7PJbdgW+pqbvsCoOZgrbn8Gf\n",
       "iymRMCCEYOec00Nx5ZsNx9sjxGOtHuA8behjogKP1I1V6g4bbLt331OKKln6qu/cNgjuvP2OhHAp\n",
       "Pguk1UyJbu7XzJ0jXpLCtSpFqThyVQSuRVpRKVA5UrNvPyNuNt5eQZuB27jJRiN9VdhN42fGsudj\n",
       "Bv7FzFIQxxUE8QWnUBBSzo7h+s8+GOR0DSDW1AfOueJPGijd/YKsSP6TnfUhzAbHBAjHQdi8S5+M\n",
       "WsUrLXTNsigUa2/mLK0VAYcwc+1+ykFZn2DqcbVkq1zZNZ5wkjshlW/DbosuKseR5hJ5F4LPFH4J\n",
       "aIO+P+esPLor0yDUkkkU0A6bWNbU7MVNQ8JPi8ein7Pqk2aBmCpYFFSRp2tYB4FH6sa5MYxvb8o1\n",
       "LIraDNnwrXYY3uPKHs5jW3kObHhA6TxELHcZFUAuoNRkeig2svF/yNfl+ARTh4fX4j8t/AZpx/7s\n",
       "b5lN7nME9yPxKjc7l5CY/0qbvqWLHG0faPAlBKP0XhXGQXffTCHZdagaHjefpwGfrPGvIvSp+Aco\n",
       "j9BzLqpHB1pgAAADAFJBAAAA0UGfj0URPBD/AAADAAF9bkZRJAAJTfqPvDVJJfuxmSk78qoJenML\n",
       "HR9GAuujjxqGE7Krcr53sRDClmdT1vjb8a689ULWjQ3pCTnaL9nIbo/qqFuecSt5QorkYuDmynOT\n",
       "CckbpFfA1h8MAO+p706S+s1Jb4TeLTnwxXdrpNhZjVYYX73ygzBKuaMBoaVlMjpUtLMzAvZmWkxm\n",
       "+VCtv0F0imo+YEXXiq2t5Ed/HrRR62uK5NrSzeAS+6EBzfBkFx9R/fdBMkXKGnL2EaCwAAADAAdV\n",
       "AAAAigGfrnRD/wAAAwADSVFvmOV0AFxIrHdKeIakUgFvH5ro/dZsYbkZZCvDC/bm/7h7XcuAx2Jb\n",
       "Qzfu9J4zqqWf0nm2UPcJ63Ir+a4L69BGQfEKkYxFbkmqkfg8Xl4Q6QS6qhh7NwA1MNoHLMEYfYBu\n",
       "0pNsGsdaVki2DiZiF0SuCfsLo45bAAADAAAesAAAAG4Bn7BqQ/8AAAMAA0k80heAjdgA7Km3P7Yo\n",
       "5OWrh3aFPNhdrmettAsR0SoguNdP2lLTzIrn17B2wwO5nT+Yh4JEI2qB1/gEn4OYkGfsD1E5rP27\n",
       "CDHxM8fyiMj+aVomR7dnziK+AqrYgAAAAwAYsAAAAhJBm7RJqEFomUwIJf/+tSqAAAADATD2LIWB\n",
       "AmEAABMjlqHIL0PsbpuPFLYV2pjdTNQU74wASSgvA1XYN8m70WX+SEiPLfX39r0LHUxYinluEXHR\n",
       "7YOUqKcGqnu2LJ3wlu8pRE0pEFV5YlqCJGdvZXf9EjGVeB/hnRfy4ItZO2ZJ34SlF98kHsAtAFHr\n",
       "WwfagyjJc8MozA61XLsSAa/O9PCk9QqiWtXUCP+ToR1rAGmmed21XOzk9zNBr+RAJR7G/wkJsyXj\n",
       "3dKVwgA7rWeSME7a1S56r0zi681rg+OqeAkapezg/0HhjE2u1tAfX5a22YUu4CmNZF3zhlHth7oJ\n",
       "i5luloR/qGDpoHgQoh/lxrrJmEtBA4n9n1r2Jfhswg7tGXKXjiA1X8WAShHDGLC+9er0ku+M2gao\n",
       "54IebIpEE9HixcFaTdJpTKmrjitF3V5NeWU/gmNmumsTBbHyrO7h3Ady2R6xaTcOhx7BOPx2SST3\n",
       "RiYKXgIgofxqf2C4v7mtOvsaUsvGjNM7yFfcuaou4i3KRKqchLVzZPbbl57pemIbmQWj5pXmjx1p\n",
       "U1K+oQIPWtQnuXrVQ0qBAdIlLNOhmDC1+kVcOrdU5Vlqhi3YPYEIOKdWFq4fSy6ti/CIDwJtGij9\n",
       "PfdZfdlnxp9G0bo9dquVz64vGEVuf9YEasb0EaPj5MW4itSBHdBe8C5HEAAAAwAYEQAAAMdBn9JF\n",
       "ESwQ/wAAAwABfJ66Dqu2hX0oAAuqf0pPu1jDR+AaDVeubEKTCtJMb5w4qFWe/oYMpxT/mO/AN64R\n",
       "dcwiSjl69zTNIxLgvjhBMalrq8Y6eBgXZh2mP2DFrmVOuM6IHnYivq/oMEPMdFiCoeha0URpzAjh\n",
       "ufv0bYm6+Z7hGNBGAHPHQAgP9v2o+Dt8DOt5spRPtqhm1sOHpY2rpz5ynpfzK6nBjzUpR3kxgz/A\n",
       "986CSdG3LKeZ5po2zRDFMf18AAADAAFJAAAAfgGf82pD/wAAAwADSsJjC1LZ+tAB/EspA0L10xYI\n",
       "9nj0HuWIBNDnyKblD0E8hRxcFb936oIpHM6989hqsNYjdLPxuyBSWO9fLh9uL4goFcUpHDsZnI3l\n",
       "jFG2HwPL0eoklQvSLzQua6YK2iB8WeF1u0iM0QGnnRxlAAADAAAu4AAAAddBm/ZJqEFsmUwUTBL/\n",
       "/rUqgAAAAwEwNnNSE7p/6x9AAOUZTe9ydx7NteM1iAHjOnVnyBmGvmufrwNPQ9L1e6Qe0nropUJl\n",
       "/Ld+Td3KQvVD/671Npsn4b+nfczSBTzUpxFUkD5ahFpP18zognb+XU9I2gwryUR/2ECuxpgr9w1N\n",
       "2HsRaoWatOezP+JGsyw4SdZoRF0X/jsa2c99k7qZmK3YVhaDnohUqmM5JqZ2MPFgnJhyAUWj/Cvv\n",
       "tbLi5Me/bqhx+eXD4rZ52sbu9w054VJb/eLGMS3U0RcTkM1qVuzqxv5HS0W+m3/qM2Wf3OP1Osca\n",
       "AiNLBPWCxWqOoD+H7b4WzyoD9XjtQicJSpiPnEqFS8Be8Wm/KOKuEP3tmrH0jB8GMvLLfgWqMBlt\n",
       "9uRm1wKZM0PWK8/LLxGXYfS01iM7cIhAqdA6I1R+Y2RstHxClVzmvP7//wMAyFP0r8rK7wTBsAHM\n",
       "fzRwbZK+T3n0hIy+6PiYMjBCUYiwxEZ1qldo3d5AFLRM8+28w9PV3FP+kKC0MSuWlLB9iKfy/Ggu\n",
       "I8OsXUCWG4Q2+wvfSMaLUgyoHiHg0hE+XFOvBCkblUGLvrcK7yzjAJirSZYQfIJNAepuJLEAAAMA\n",
       "AYEAAACcAZ4VakP/AAADAANIwkSKvgj60AJQjbEsCzkp69xrvus8MJPd2W2L9uw8HZ1s83naj2F8\n",
       "9OYZBKZymcE914V8iofRCWfZmj+O+PHcypoSs8C5b0jalVuIGbZgzjjljFmSVGTm45XEjIsWQD70\n",
       "SGK44xUbTs8/HbFc6PLkVNWdg3qc9TW5XGyEEOlQyDy7Rh5OMhW4D0nwAAADAAi4AAACA0GaGEnh\n",
       "ClJlMFLBL/61KoAAAAMBMGgIKJF/q9tZGbOOuL5DpsWLv6itDJBItK9Q6nbR3nEpG/JKTYO8rhaq\n",
       "eYJTpPnvQCd1/ysNJFeoOUnAAPfdt2teXoIKtiKJ6E3man5iZSLVJ8fHah+jAWyVJahPzVbVtySm\n",
       "3J1IJXzMrL6uSLbxnPiKAM6cenjnZCjsJG81AxUTLTi222KVRzQL1zb8ZcrP7jqmuon/uj9XPvzH\n",
       "hE24bLKAQHnJV6z/Xxjf4aVQ8VjtTPYglLS5ulS9wog7VXiM3u1QrxCsC1ltVrmjBieELOPc9J5B\n",
       "ogUBzQ3igOvmtWqEh/lbMnSUPpOy1gEo5hr0KmUttasD02mb2VOtlDA7xTFzRxCBcohcmiyXg7/J\n",
       "dDXZSib5X2RO2myON77NyeHTNmvtmX5xuyUrd27eGtJV1jj2tf8T9i09GcgCgpCgFEk/UA5pI6v9\n",
       "r0XLI/d2S/b9JNGorPfhDPZVa59sW95uRJ6ZNmhDWqQ0EAqYvVhIrbIz2LtbaaEBt4qwqsrKZoG7\n",
       "9PRzAEBv/lvYoM7lRlSUS4NQlpx6EyaFDS/MKXAt0IR4SbTSRxzclxSbtnidrMr33AJk1OkI+k1x\n",
       "eU96rKCeZDUwoLwCZNwpOdO+jDiK09imiZhN3KiHrwv/ApwwXsAMZscCdzNRjxpgAAADAFJBAAAA\n",
       "fgGeN2pD/wAAAwADS5olBkWVAlWL95EQAkH31w7NhDUg6XMowIq+TuSeinPKBYDK/NU7eTeS8an5\n",
       "vc6H5GW54BqHdpQX/x8JdeAaSZg3nD03G9KheVIr8MMVzCcDa6J199AmmZiOIN1ixCluDUSCBmqZ\n",
       "EGcAiA/AgAAAAwAS8QAAAmpBmjpJ4Q6JlMFEwS/+tSqAAAADAEIMZpOwpAkh6gARK43wj+a2obdH\n",
       "v1+4mRRIF5QjthE3fuvMu20aeCl486AdcmeKpsoOMJPgwzeFVE2hiuz49iL7yvn88d8jZstjGrDR\n",
       "4aI0I3dkY64RD98knwu6+3d3UXE/m7H7KQ91UAJkx+/v8KFWqt9xKeWggrLoRNS4xlqqwFcHo4Y2\n",
       "EN2crGBktaZz6g3ibSv96QjuseyCIUU+GV93ugPGAkEXmFutVAnTUSYd7x51zueNLwF7DodZ1yRm\n",
       "dXcxSX7FxZrl6agImoJ6hdm8sPudngufJwcikX9U280QCFyMg7eGnpA7CYGI2luO+9g/fhimNSqO\n",
       "rrSK7pzNys01n5HKP1rcQxV9U3LFtiMB9/DDA5dAyax/T/erryoFx46lvB7BZDdh1/K6b0gBP65h\n",
       "arEb29BlT7KmSgwQC2b3iKQTxUkqUgGVEkyGuQPzDaNyM+jKdUNvABrXlYrpMDc8uEWD+CRZfknj\n",
       "V7efI59dupl1vFtlwcwXjnoBhrrROylnqHGvZukaYJ4jG8m6mfnJXwbnYfRua40sAhARfzjziS1Z\n",
       "927Jg/24JXpAhPCdRec9sHWJ/tNyB28Rc36gpPUBOlhSJXc/qOYfvQ1kc0+LISUUBqBiqIqeFkDK\n",
       "DNb+LdyOG10kG9gqVSahocXkn+vNq8UYaR5fAr1mm3F3+O4l62odjW5jLisKln2p7KsM2OTUSMnn\n",
       "BQN5sKzmwQGjpn5uysqJ3bv2wO2YEudJHBW/gbisMzDBs2Yc9WG7R5u0GZ0L/bxR7xzY2VOEtftu\n",
       "0OAAAAMAEvAAAACSAZ5ZakP/AAADAAC325cFB15ciVnVFoAPF9Q3mlyz1ImYXSpBkXbIPBj41dqo\n",
       "NwNqRWuRV0SIF6irbMwDn4G8mcM3Q+/Ol/SI1CRTgGl1URUMp9GKTJ6yufV4NfpsuZDzQpdaps5H\n",
       "IhqtTZxKKhJ7wfTULMVGBI42UGhM0jwMqOf/K5IgBN155EFNdIAAAAMAGLEAAAGdQZpbSeEPJlMC\n",
       "Cf/+tSqAAAADAEIaqd+Y/3GYDuXriT3YD+WcCTZ3wC0Ygb0y02ZimlkjT24+7RpSMrldk4kLx0oB\n",
       "95reT2VxUG2VBxgxHFyinQzChxlt7UTAJB/vCqRg42DL5BgbxK57N4IIwpMHrTExIy/d8BMs98LE\n",
       "8MYby95C0piBj66LXHOkpqHPsHtc+pnsSWgFMLA2hMmrRcigEIsjSKEKmptaSKJ7WvqABbW8NUtR\n",
       "PNoFgif5a3rOc+IsjgYogTOy5trvfXPbpqa6Gnzu4tFRKzoPlRlLsxzMShCnkjZ9fkjGpa3CAgGp\n",
       "Ss6PUfJx74zk+YcXP8Tn7exSbRwfy6i2IxsY7r3ibUZa6KDf93+FlkcCZYjqd9IDM7Yjywyn/Cou\n",
       "tJMk2XimKs7LptetuKZmLJqI5ag/Qv5c7uVia7idh9AEi/JZImd4SNOTg5DnbfBwGBqLwMx5KpGp\n",
       "jAxYaAbs5OHP2kga7UQBuHHbdCiIet/cAfSrM349pbjaOyzomVofj/O5iVtIug0ynpLM9C3Bf0AA\n",
       "AAMAk4AAAAJXQZp+SeEPJlMCCf/+tSqAAAADAD5m9ZVBZHtulQJtxNvUmsmcd+cOzm/phBf6jVas\n",
       "BLlHeenJY2AWNcVVt01Wa9hRvvIaZ6GTm+TW+g1N/nnXuf/XUAC8YXX1VWg/0tagSXxSP882ZsMC\n",
       "kytXWQk4ZJddvFWnftnWwJTMSt+r9dw4wDHbf3CiYsgXY2T+o+B+nL/xpjOlAzuz21/QNfewKh88\n",
       "Wdsk86W2u9yS8WjwwYEm8M1XSemcFJPnAmNhtq4y2zRCt/kF12pOc0Ei6teiXrP6uPWPC5jyuYgX\n",
       "bM7y0HzfhXnXHqlpLBY14NyUAlCtVAmo3MAwIlChV+gq2AF4SI0Q4XSVOIJEYYRPdgkDtxPB4Mup\n",
       "qBXAnFN5+gqDSB/YizsG1RoEOpElEz2kKsA7bpksTEP3e1acRpYRemf3FSp3SZczX6y9h8Ys2adW\n",
       "o94YC5bvdCU1x3GqrTipVWM/ivhYzGzwCwhlWVeC30t5xUUfEXQ+JbQZw94l5H1Tb+zjL5m1M20A\n",
       "RljujYvc5CP2FYYGpGvZRSrMled4h/3jPk6n7rWwfOSDb481NtistLftkw4VqiR6nlkXtnRCw39U\n",
       "5qMqjBPz/W5U3diXvCUy5DD+oCRQpFaA5yvBhT3tI585zhQvxSmJYHfElzgInSumWz/xiEA6JNe0\n",
       "qkFfRHU8frToPOA7HnkYR46ylaN93UEa6qz4qE9v+IJYZ0dhZMF54aZKVejYQB9W2Vihr8ztoUA0\n",
       "0jfM0+N42hP5mGGut610/0FOw5apMOhxLthoodO4WUEAAAMAAysAAAD+QZ6cRRE8EP8AAAMAABJM\n",
       "BEhwKHAAgafwp1iMfiWdcGwEvympd/LE/4M3xsQNiX/lmfACsZeqAKPhvk8O5KHM/egG/fANUgum\n",
       "RaQQ65JM1fWvmxxQ90mUFbzD/cVNKat0ExuCVb6bTytKKGRfbzJJ3W/+gLvFZ+3LSxDNTxhvb6z+\n",
       "HkOcfjWL0/QcZM622P8ucdW0IPlbw+Ln1HGET7zx2OUr/bUnw0nkPJjmzbZpO37aUuZbBm2CM+9G\n",
       "2mJwuiKie1YfjLXjbKUaGq+m6Ju+HfWlv9qHRipZGEC86hkYe/t/QLgqehbabEt/Q80T/TgaRUyy\n",
       "mA2UwagAAAMAAYsAAADSAZ69akP/AAADAAAoXD6cRWkaApaAFhoxf86utEco6IFIzfv63uE7+GzX\n",
       "NXxDTjzIo5VEdjcMfsi7KiG+gcN3kaLvg9GUxPh4KQ+osQOTHwDEIkMZ1mKACNC/pQ37GnMC8oMt\n",
       "Y4QFghmXxWsTy0abdYjO6QqsunH+vMSt46A56aaxIzViXdkaUdeo7EU8JDZeBCWgyic+nkURpsrE\n",
       "QaviymLBE+83Kh0/NUv8MVVpPOavxNUeTcCO2eY5AIPygGt76bQamAkogmj5h1hAAAADACtgAAAB\n",
       "pEGav0moQWiZTAgn//61KoAAAAMAPm/iN42yKBya+sSfGIqUnB6hDnc04A9ANGjwY364BKAjXKkL\n",
       "1FVccMVhmx2/IsKKTfMt61jhX5BVNzvgV+jKqqaOoj3LHjdyQ/XlC6PQjBc+8/OVsXm3p1Ilj+Wh\n",
       "8fAbVXy3JmEuladKgj4H+SHsMxFoJEdQLoanTerqdfq3zh3CtuIm4VKixoQVPUcKVVTJmiXlU1Q5\n",
       "yVbhhgj5KzYW64Gy76pdAUbEw4hPkTQerKuCQPOiTxTC3b0fqdTiNGoITdr2lyoKqFMcANMJlEhc\n",
       "T2+j7GPu8QUp2Vu96Ei/jOpGD9XPiBvDIeGlLPvYyGT1S4mPQ+820xVS3FohXInugUO05O/pVIkM\n",
       "ht3YhUgu2tZeVtyW0Cxg9A8LE0gMNR5rPo0AT8EzGLVYFcVdUcLl2kOrmSHs0W7I1RF5Y+RtSpsY\n",
       "YkuZbOTHx6vNKLLN/UePtj4PeaqPZ5gVJGBcXD/+IkHMNdJNUEHJuCgTu09uPpFE37J4ntvoevEQ\n",
       "H3pn4EzFYSDKyqvIF1fFBAAAAwAMqAAAAj9BmsJJ4QpSZTAgn//+tSqAAAADAAM9YvdswmVqeRHG\n",
       "62XBwqcML3HZjCpLGgAe56cOOAv5EYvXkLqRChNcN6WeYVvPkcbHqRrhtN8JQEbqhRBIN/vm1+W9\n",
       "qydPiAvdcXkPsbeTg/elteh+kZ3NzbUmNQbqqwxThlTW9Q0HB46e303pYF7iwnTNuXGWPW4enZZt\n",
       "6IVbpEDlbjQaRuOi0HlfqTJlbvrePs+vYrLBXAE/CzVkkFag0ez7z2fhG145OOAEgZij77B8VcE/\n",
       "AUAX5j2+o8u3OJVl7bUzrpFCivklALlkA4b9SKCNe54WDUXSMV87OQzNB8JTZT/5p/wkERcLNA2C\n",
       "/1Y1YHIdq/QFiqYgzmUj7+b9fGjtZR1ySa/7OREyNPCh4HPOtz1ueM58y2SghJgKU9+ALmp2bz/9\n",
       "7V82HrOEcYwefpjPEpLey4ktCKIdt27jBWYqSndEeEX2D0E3bMTkknjbdjh0f/WHSnDEIrZr8zHg\n",
       "fD+VPMLaZrp0lA0vm4yiheDAyNgtaooKCfVWfMQmL2vs7wAdw3ZsSWwM5QJ824GHjipC0xAda/7V\n",
       "1CIKTwsSd+HBwVqF9PHJe9wwoBdZ74t9MMOh3TdD/RmTnJvUdjaoyjYbJDhKCX7o1GPTi+Z/0n7u\n",
       "beK1Huh7/qG9i1ZGJH8PQPxsqr9ZOQV6VC5egenYZZ50myeVIAFw+mcWaVcOAfdd4/PphtosmAdE\n",
       "OFbHtaHwyZ924vPowX54K99ks24qqVrAAAADAADZgQAAAQlBnuBFNEwQ/wAAAwAAAwPr++LCckqQ\n",
       "zE8F8AHG+fAraVXyWNh7kZVQ4bE7sRpEZ4XxfjxlSxRuXCqHMfhMFa5Ty0Z4QLL8uFc2xFOpTl+n\n",
       "D6/Wz1NXMeC35De/PffQzlZYultoafRtV9qS6997zlyntiID/JVx6Pgm7xt6DpwK1yEfo95/t54Z\n",
       "m9jGVqPVpLhhdfWxKn388uNeSGRB6T+So7hmNVH3jlVXjg35kXN29LJjxPGvGKxhNJQTfxqZpw5Y\n",
       "KpYEr61mSMqyorA4qw12crwzs/oYAtxCSZP7+i6LUF1fzFPMm8Fs1L052iY9xmSSHvYg6WEl5HJ/\n",
       "AvxfFkahClzEAAADAAHzAAAAyQGfAWpD/wAAAwAAKOTud6DDaJkFH4AWsXToyIOox9qt7uqiNHL7\n",
       "hreir1TH2T8s7SfMkSYJwRE2LHIwMczggF+IXiY4/5PWZ2WvfxX4SaHMb9ROc+siQUbRYtXjNqxI\n",
       "ECoiUrtfi51AbstnoyBsTfSp9JnAXguVZAvV1j+GBp5Wx+alulUQR0ESatl2IEmWc7P2dx3drjaE\n",
       "jFoktdJ+2viSw8S4juwrtkGyB+nBDlcqcZxoY0uAhG/7DBUgHjngN0Y4gAAAAwA+YQAAAqNBmwZJ\n",
       "qEFomUwIJ//+tSqAAAADAAM9urt0gTNH3qnPTopwFF/pbk7dwn8TTj6uvZKbBa7/u4HoywoqAhs5\n",
       "7WEJFzTQBZCIkcETIX0M0dBFoZJHuRPdLTGbgWSv2/sMDTl14I57OguOgDkoq/hzfs9V4wfJEMPr\n",
       "WZrtl0mQ7F9gZxwK3Uwgur97+6Zq9u4FUGkDPxCfxsUF/usV21MydXTOAsZggJBMoAzY/IV26Q8p\n",
       "+qcigS6QUB5lRPoIUucjO/arzfiK2DRYVTb+c/QtNxO61ILcjku9aQ5uJlu63roZO6X7E3PGs7HB\n",
       "OnILJj/pmdIlWgzKtHU2d3GY7NFtaHm1znLHkaCRYQ5FeyLWjn8t7KFXooQH6u9pCTrqp69Gn2Uz\n",
       "y698sr4v96oFZMikd7U+Zjju3CWd3X+Hy64VAGyKNgzpVh/f9rs6YCWjB05Z7TaE6r7/RoZOJvJG\n",
       "gzK61MODiYnsUBKTrmxS3c1PxKj25Cmx9cBysmh5oSUr0FoKNEefOH0kL6uqJ4CMnxr528GueTXk\n",
       "welktWHk4gQ0jgO7ck49H88B5VfTSrqDR9qcEN5sxECREk6CHgRieNRC5NK86w+SDFhx1HYvlqWh\n",
       "4y+VWojgL+pPQRuacokU41BriS+Q8mRizwqVjXJIHuf4cRg7ZvbSG+BhSHbiw0clSMmbfDQ/A80s\n",
       "e1qTvhtYkVahHkZEjXzc7qadBO1vURbZvRWA6UOk7qlehZG7lOvCtKSlARFfoCJfgLTXz1NzDahg\n",
       "VyH8IwcA6SCGmMiELm0ABQVqVK8KdqOOWcbXypMO23u00LmICmEDhOuo/otz/QZmPdhwzWq/mG+/\n",
       "mBZMRvSls6udZERHw1ITrN5DQtEk/gIyNmdRUFDENTcJYrT57TAAAAMAKSAAAAFpQZ8kRREsEP8A\n",
       "AAMAAAMDwHe4KAdgU7wAcb5yhQABMMsHZLFvNvD0G+DWHziE/LrxCwQzHPb5YpzGRMFOIjPSCKtD\n",
       "QB9RZDssrGFMKxZbO8LnN2DLTyUOFQRYd6zRUIrIt0m/L84PaWuBXEjEuVLkfI/DxZsBmbhs9BOq\n",
       "4msviJbGYO/xzjMPWQsH8oiMLzGoz4bTL45cPklAg2l8sHNkOOTywRXlJuAJgGdNYXzMccvzBQnV\n",
       "sVQQ4VaXo/J+yD4OLOCY78uFq+kHcym1zVGxX/N/HDYu9Kd1FXptyBtyk/qkwHHwLgJU9dqbg0qz\n",
       "bVbLoPK2F7+uX+LwaEh/zqq5iJ/i4idXd7YAeiUfB5fy5QNiZFY9Cycv9JMe/EF20Jxjykx+ZB51\n",
       "W2HXhNMO226aDheuTbW9jYQjSTY8s/mel64EdWfd6J5e+29bjwZonJ0AN8swy1uwk2uKqGsMFcmW\n",
       "Bnf6+wAAAwACPwAAANcBn0N0Q/8AAAMAAAhOYvgkMNzL+0YAS1H1zKtUmlUeEupo9KZEACX5h8HA\n",
       "hSPxqcs7WZTXr4Qg/JIPBVB4wBpQ4Z7ndFwbGGzWnDCObVqfHg7QMgX2C62NJreloGDhQZc7i5u6\n",
       "ANCZ2A6dE5XAWIoXXJYoQuI+aqe3LJ2uiuUChn2izid7DRbLhNUbhEnUR4sDoAHqxdX7Pv9nLSOY\n",
       "XVgPHBDo0xHDx4UcZNBqkmVmqiLvYH1bMI0WAUFr7/3noMEhlwod43g3l0vfs7Cv1kTKYAAAAwAR\n",
       "cQAAAMwBn0VqQ/8AAAMAAAhjBOGoHTVcAFndXjpTEbfCSUTsfY1cZW1zOfKFK2bh049xbOP2jPh1\n",
       "kiI00j9LJ43Dt815RUCxfQknUJKo2QJL3bKCe6jF52zUBCAt8fMyNyCHKxQatoEdB9ifvl2y0YRH\n",
       "yLJ1tvN+R78Cy6q10fSB0jGMRFJeLw+NzeBAha0edzO6/FJ8golnyM0mjVR+c8UEPDh3N4JvDo7j\n",
       "jstQ7mM2X3BCUGPJdQklVG1nd0qaFHEtEaCdcix98GAAAAMAD1kAAANPQZtKSahBbJlMCCX//rUq\n",
       "gAAAAwADGbjO0C00c40TAsFGXzm2nhXoRMkcBM5ENl08+3I/MAiQeKvxwuicWYJLf2rEOcpRhC5W\n",
       "psxltxazbG6NdsaI4/2EJ0RLVavjY6tyoejM8dHLIgStEkTamRn1gloZ0NF8sb+LnMJ78L0MTUwB\n",
       "NAVaVT8IazZekJn7Es54i6o8uF1XUOS8BsZmnvNAjYrc2vJVYJU7zXRL9WyDq43EWQoAHKZgHnnA\n",
       "ROOPPBwLSa2PFUXbu8N6pbJY971truv/B1DDCBfoHBLlrFC6U3mQKSY/xFTtQlgVxMtRZY4QmqYe\n",
       "5PXjog6UvW++9BQs0azhf17r+Bfm5sgx8QO152fC7j9J3m8N9L99B2wVtur39uMg8JLr0FgOVxtX\n",
       "cAnfIh00s1BT7jwj+ajy/hj/BH0EZNGpVrNeFucHsRyd5eC6fvkXGU9G5fMRRQD2e9R2SOClm12F\n",
       "PLTqkDKDasSAvKuDlPs76N2KWsxO7TskVG11cwb9nmaXoEOzzXJ298SklZdsNtAob/GMuVU/mGR8\n",
       "IGCY62ICmH7cUZWllCo0m3S4GIwQKCiSkBfHSpQSOoxsDem8hOdsAdLr80zhngDFiZIuU/+66iln\n",
       "Q6gM2LfttYBHqusz2lmLkP5ZKRB3vaO/Gq4YdJOy31DP9PgWQiadXIH/5OPGE7vMQoAqO5T+Rw24\n",
       "ew2opBwVTz2j+6zYUZ2vQ9En1RkKpggugIWtBU2TgyTBOHn4KdP9w9cphXBQ8LO595bIhcBcHNBr\n",
       "/esRt+0WQ714d+eOFnCvfP2ujVja8PCWoOswhZiP+T1VqviPhVx5EHclSevwNrXaPQYaEPnZlxBl\n",
       "RCM6R+HzSG8WT+OcwzEl2WolxzS3MFH3SxNEV92VqPjHL5MYvbb0WChSD+6FPkRTbt71wYlinuJ1\n",
       "QOJh/LFLnMgjlV1asy/UC/5AtZyFgnstiYozoy+Exdszc+ewyYefnhHq3XImSxaPPWmuG6QcCivB\n",
       "zai7qjrA0p9bFDjZ4ZElihE4TtmOQMCUeKaghy9IJCFIvoc9jK1T7QHpfQFIThEkNb/ogRegik/6\n",
       "xsYgOZ6EYzQaj+gkBLs0okHLkWP9wj77tIDz6wAAAwAM+QAAAZBBn2hFFSwQ/wAAAwAAAwPLQOAA\n",
       "IxROCEkQ6tpnT3R/1ogYM3WL7Txk4VIox1NuvMFdlPBPGVmGDdckO7xLNf7Cb5z3aifCwJS9Hpyr\n",
       "bOky4wnpWoQeXphHRwUh+Pe535SF66hHkPgjnidt1jFuAvCPzMHlacpJ7kwbh77ZY1YYgpqf/vlS\n",
       "uhHa/dGcoOP2gV9jEzh4KZxDvYb4S+MnRB+tNa9WyYHumO/W5V8mbKiMixeraoTxysp3R0nYhzLX\n",
       "fdrcRUNzQIBpCVm/Z4he4TZvZab0bqSWnn7l4Vyin2FzWtw82tgd5stqC8orrsya4i2aLEkfteUl\n",
       "nBojRq7eFaBCtoVO2QJRPIX1rCkvRifMX6Qis0h7hhKEumTsjmryiy0dYoTsAa64NlbjkDSzlMJo\n",
       "z7L3NbMhuVIK8swDeakN9HgiuZL7hgbg02cmpIcfLjaR7/LwFW5T7zVJR+wHddPSFkzrpcEnbmN7\n",
       "NqI49XM3U+MN1jjdOCyjFPeAVBbunsL3fGwnRO3C5egdsIAAAAYsAAAA1QGfh3RD/wAAAwAACHBL\n",
       "gAtvvYj/ZePNjo29hgzt47KegEPlbOKet7PFKVCIyMJSfIuZp60d93vIMaHtqz1sxW7Ea1Ak2s73\n",
       "wzck559M50WBNpPMr6CsDYaPT1h3j3IcbM28gFwQH7/ckwROT19R71nxWnAqTBdc2hyOISicSLhB\n",
       "nlEnoLAjK189fSaRu0u5PDz39dXKqvr9qEBD8hP/VFhL/zYT5yOaaVgKfuxcBy+3w6ik2dxg9x1w\n",
       "PVowjWxU4JqMXzBboJqrNGqdspCSQAAAAwCTgAAAALQBn4lqQ/8AAAMAAAhrR5ZJxGJHP4/fl7QZ\n",
       "vO/wrrQAfrM4ihjFWKzoORut+/ZvMVsxqnQTGO01Suyir86pfRN8n0gVqbFwKoOnuSoLdts43mk7\n",
       "ljmHOMYeBykZ9THblYPRIeLNsILSCO8Wn10NBKX9bisVNlFojDKsSgon1kwiXZLcGQIxTtwCl7bl\n",
       "NTFoCbMGeEk4XVxYT80iruS5VHZYsiTywNIgxZoqW4/+o3gAAAMARsEAAAHZQZuLSahBbJlMCCX/\n",
       "/rUqgAAAAwADAUFWgLHFhnjZ4b8pR+kp1dlX7XfkiiI0eMaoCL+mYB/073NGDK/FCgsUar6LjRmQ\n",
       "r6Il4DnxLWJcMoc1s1tma1b8DZG/I2pkNKcRvDfmTVXTdLUltZKHJ8Uof2eJCshsqhb4OUVSEWBz\n",
       "JvcNJi2xd+qpU2nFO7tGaYnmnWsk8WvEqg60qRdM1KsuFVzKE00TL9ALURwy5tnFPOW5hRb22W1M\n",
       "JEbns+CC04WXP3lQ0DY+K/HOCEdWmvJzwwJu5TbLngyc+KOfZFkRBuF1RRtoxkflTzOOb5hYst4Z\n",
       "jMQNx/SnNwxqoTRhBietfzdf6qDJ7Ngldfo/2Ynhqd+PcG7aoWhcZJFBVhMerssBEDerQ3IDLmbI\n",
       "ug5tR7O/BqtEnfJTVLm3IbbcjdcvDPZERKeeGTJ0iEZdsWWuIXE3VLeI/0/xHSXqg9Q7I5GePyt3\n",
       "zHoLn8Jg4pBriaynQyPH4bXz9D/oCXOyGvgeqkudzuycpp+MuakJP6EMom/NpeELpjKuNkGeCBN2\n",
       "hfLJN+/4L7r+j/jLAXJIrtUBgB3EtkxcAi4se5JzTcP6/3flRQeD5VMhEzDZG5hWNh+KSZlJvCEA\n",
       "AAMADjgAAAIHQZusSeEKUmUwIJf//rUqgAAAAwA+b+lOZGjlBzhXpPWCCbrN4BSEjWfcAbI86pTu\n",
       "KmhKahllDjs+wmocwaEPiIZPJ7oXwaPmawsJdnujLRFv0Q5yqVOozMg7b4WqmRQH4DSBQwFI9YdI\n",
       "LNGwayJaJOzjnI6DN+mTvqovlGp0zy1rQqj4eceAyw0MXLrcho6Sy4ahdh9TQ744z+CxYYmLffXP\n",
       "gy8saJrZBSg6EBnS/+oSwDVewoKcZY+xaUwgBHoyE1sncML7EkJrFu6+v2AvoG8SQNj+7dz5qfGY\n",
       "wTgtGNcOm3qh/pOp3kiNnL3tjoFWFVizPcQIlyJJwNC8xPdnLNo5BzdS65HHOddV9q4ShWdETE9t\n",
       "oCDhN4JZy/edGzbFadcsloE9RFqpvmx1MVelSk6CLUF9n5o99KRqvgieREqcDJY9Mee2x5gCitgv\n",
       "BQNfvx6CIYqoC9t5Vvo2LJzLXcnkWTL0ksucb4/MYlZnCHnM9+SffY4gk7AnWz5jUMeoxInHnk3M\n",
       "58Xa8fZeuQMeu1VnedBWTZz6wwnIGYGgI575ftcDTdLmS4+cjco69P41hEb2ffKcTL4oLI/Lc6Ap\n",
       "yMAMOt7BIWx69thVDQvlt77zh0NIxXQOZtNsLUEB4PqN0sgiAJ3EXfqEmp0JXK+IR/vLtun/V75t\n",
       "YethdpKS0WVOAAADAAGLAAAB7UGbzUnhDomUwIJ//rUqgAAAAwA+b+I3jbIoHJr6xJSgP3nDTs/g\n",
       "H6y7e1SBx1wEyJGCifemAv7n1a8BVGg1v1DfkxcXFYTjScj3wl1zpnq/K6hVfmVGCvVylbCiHgDx\n",
       "qXiAv3s+vIRXjCdFkedjIt2vvb6qMZEFsfEBJdkv3H+VfYY/ZxQNjCS7athzAZ56W3nvhbPIhe/a\n",
       "ctraR5+xw1uX9HGV7P6YYZcczTTAW1QCUMYApChK8Tcaoz5oAXyZCgwRQ0O5IZPoeLJQLkV98qe+\n",
       "yiz9VpJ4bzzSXk+aZzcPl8/YaM7u9La9EKx3MYmxQgG9dABKJ1H8knIkWIVAi+RuDSnEqzTHmRR5\n",
       "0M+YdcFoOvD2niWSIyx2s9sCLetZGHWPKWgytyCuWwBCQTaCM4fTGjjAPel7DNiNbpUjqO+sOUWg\n",
       "LMkOlRfZ3r8FKSZQ0xKi3WYZICs082q9y56ggc/iYsmZq2x2ch+mbfSxgXhehomBN8AsptliG1AS\n",
       "qNn0ZN2pjywko4oUmcvYc201o6ny9oJTd2YlQHaakkYncQXQ07gAQyrqRIFoH06TY1CNPmHkvI4X\n",
       "wre2xfAhmkV8CSTV7nZytWdm46yvv/O+zEdedNFVBzR0b3Il9z3ghE1kmiwU6rPA4+1uMAAAB/kA\n",
       "AAKgQZvvSeEPJlMFETwT//61KoAAAAMAPm/iN44IqBybCt6UoD95w07IWjoOzXzjvsxzGscyzhKD\n",
       "gUF4EhHW/2NpwzcrqOuacLFO02vufj7onOKY3/U66OXlMHHCRFJbsh2gWSqaHz7cub+KyZ9o1A9B\n",
       "+x03TyJPYWrukhDi0yFOapneEg9JU/cXfLj4/hQ2KCF8HWeMa+tpNfFpg70HhwfcGgBdCdTBrknN\n",
       "PyxOF6yzKKPRpxadFpIembBhLEK2Yv1yTD7BICKwp2x+cxj6CnjviXd4f/piGG6yfKbhWpKmNbEg\n",
       "4BFfpgC1Djo021x7enVU54xwE4r7CmWmTJyyC80TWZ+rBea6rIThwUXg8okzBB1nkyEmlaKmmKEx\n",
       "7C9nZE1/6tSIqeGo+m8a/2vkGkrMYYvU7iHDmBuz7ffpKXFuCA6r+6tq+bvxTbYBnFADpwihlMAw\n",
       "f8+n76jt00KVjOTW8HUeVJUdJEWg/cKmCa+NdDX3cMPJXRHTZm+mg/Q4xTMkNdPUagqx3iJTr7cs\n",
       "Zn4ttrl8H7Jvkf1oYQohoD8l08wN+ULVAS4zn5sDCVa7wuFNeYOL3wgEhYAA6YtRKFaQS4bM77Pi\n",
       "Kslom8ItkfLzrSWhdtVduBgWIhC7TYsfdxNMuJ7Oc/wAwHVF2C/yDAb6rGK4G0dTAPTESi16fL+X\n",
       "Juz3xwdcBgES3cvEHJIpFHvOMgIv/i7L5tfnVxIMkNt/cZkB8+ydfpakHqm07x4/WuU4KnbDstM0\n",
       "YP7QqbU7SmUrhro2ja6bH06GLcxKDveFE41fF8PokOLHnTz55qf9yz5v79SXsaDp3ZTWqEtgGIym\n",
       "x4SEpqXe/dq25nqR05NE4kzQn0rh2BsDaYM6XcL7WcTaHajcKXDT28YI8sAAAMaBAAAAwQGeDmpD\n",
       "/wAAAwAAAwHZ9SKP+2AEqCKma4yjR1/fu2VYGFWhURUjNBG/jDn5rreFwfWrMSrt0E4Cdf0sWrnO\n",
       "AXgCSPcrsZZhx+Txn4fNapUfsUl8EvmzTqWcOJCkEOr9ZvqcaBP64UghsxvEtGJZuDrSCsgG2pjL\n",
       "lNQMJznlx08zKDaTocTfbNslgghihEl8E5wW6UKrSB51CaueXxyUhS8nh6c0z9/cMy2ZDwoJ4QiI\n",
       "0/5SYUdSRjFRnnuaAAADA8cAAAKzQZoRSeEPJlMFPBP//rUqgAAAAwA+b+I3jbIoHJr6xJSgP3nD\n",
       "TsXFX08w1eynFlk8o97p26PYDzVmTq/iUBqvZS8ttJAu+I7cVnXvMc5+xH1iCUp2oi4eNCtk+Tua\n",
       "4gfG1gROLDnfOVdMRKGI5+/yMiDrHlZJKT6TEqv1vN9iQjLl/GPfvJAdU0FTjDCgPued4VdrMe73\n",
       "25N6WOhHO3BTmLOsk10/s7vQGhuAocVkNEWlxHvqbCc2ocnQeUztz/r1f3+cN9JSWAR5QsInntr9\n",
       "njoNABmFSVNERQGwc5XGlWu9kPqY1GFChrsj3BwiroUZRObvQEfeGSeJjUC0GymFUqDx+wl8y3c5\n",
       "Uahd9MovDN8seGFTB7UND3sqkltaI/3Dq5nQznIogTDNPfFtlRorMV5lvNHf/GHL5Be739fTtf96\n",
       "KrZBg9ycXBcLfL1aFDo59ETHQEA9Lp/T8BMNo8Ux3WCgDxp1l+VJq7hPNiT9znua/L4d2ZoALKvz\n",
       "j4Omf93UhQOeY7AupLIWuKT+OaZOEY6WuWH1T5XCxmt5r0Qypub9tu5ltdLDVsDas4DgTa8taK03\n",
       "PJSj1I50aTbPAb31TTRmFyYT3Q/wEZlkVObZPNh9usW+wcnNOtjxUHR5j4eziYdXDxqaks63f97D\n",
       "GTx3/cDgxTjBQsDNjq2ZrdJuFct1OE7B1MawAigsw3ljcZKcS0WQvHnyye/wp3+LKf7D8XQMGi/1\n",
       "jmLbIDz5jvHKCzVo3Qbj5d+1C7JWRqfEnDV7/37VedSjwd+o9eWs/06VrIBNdR6u9AIHIBnPKYMW\n",
       "qO6uFBk8W4V4s8QCBELnOPAqxgor6ZK8A0+jtZFZOry20+Rl5G6YpZiqJjLmYYJg/C6KgDFBgjJi\n",
       "7VXY2oD82F+9T4FveKWAH5E8YMHfPzjwAACbgAAAAKoBnjBqQ/8AAAMAAAMAaKLGu94s5Zn8AEvM\n",
       "EKpKCAx+d4Gk97pGfrllp/Ik95oeJp5omnrP1X9V1ZGsZcORm00ujPbEd1IHsmek5QaTTak+vkXF\n",
       "KsXpx2veL1aCapqcvCXUemnMcDXOm49zgS3lfODJKBQ7KKAoRAas786pjIAY0oR+J+iPx707mqx7\n",
       "g4F+w7pXwyn7Wl1mu9GWR4MOQKlHb4T/Y+SpgAAFTAAAAnBBmjNJ4Q8mUwU8E//+tSqAAAADAAAn\n",
       "CjlS/2op2iBWWTFQAUxBTQeKDPb6GFRS6Mqa3MA7rAtINoP+MDtZeARzSC4etciA1SGvWDaJD8xm\n",
       "B2daSYcpxkR+H9ASWBJDonNHsZukvKvmIdR0y8djJcFJ68cOW1EuVG+3reS/3CujKVet4JPtuhHt\n",
       "X2/NUraMAxKxKt5zBOp9BZOQ/0dj5MR3tt2Au9xjDtMj9Jymg1WBUusvHO4WhoPMpbrIXOzvR82R\n",
       "F9haWcilnZpJlYOYdMGIftIpITypdQn6hFY3OtVU0vGt5TvHqSCimZ3mLhh7JGHhoaZBSJhuMFsh\n",
       "9opCO/mm69dRm45+AbxQpddJYZQKQOy0pP9cNXVhrUKkuhJonvGg/9vg5juayh5T6VeOBSoE+CFO\n",
       "rTsSauJxcN+rPz8SZ24pLcRX7PN4EPZVf9moZYSyKXDiRmoLADtzPkpn78b1Sb8c/85bBNdyBWWx\n",
       "6nc1OE1/YkqJoPrDS0yCVjYDulFfcJVxARNMbzVWkjKMsfJFaV9K6ihpdSM8denGTIiIZ4qD4Yc2\n",
       "gfcGRsncy+T5P7dONYyesn5STKccZBvY1kAPBLUbdmydJ8gNSaX5wWbfNSaiBbxqYeFvQKuQX76G\n",
       "Ofv01wNvrODthEiWPO3kDfxTNMrZsbx39urqvX/91rtFwYzxixDggbF0Wb8/ekvG+WFmXY0E9+hV\n",
       "km72wBfjPUB6Jf7F0pfWGW4gT5ZCzPFkYiWm4v+/54lkWkfN/LkStKikpcGJ7AiKfZj0O6U+GJje\n",
       "1HEFWaSzFBhZ8/OEbe7iY9EyewzagB3ElX3eQ+AACbkAAADVAZ5SakP/AAADAAADAGkcjYEKk4AJ\n",
       "wE8l8vq/0f8VRxYTV5bJPr3MpHlEbOxXTYZK0P9dvSpozzOxNx2MHG78J0HwuB6f6v5NDW00laVb\n",
       "Q9vM/OyjtDALy1yjASHci91VBYUXd3gcN4UtLPtUzY2sqmfzOJYkY/gPmW93IsLqtsCkprHcuHWm\n",
       "q9+pkk4/hRyEjqacqyA5aNsEpsIIwb1PingpAvQr71OTb17y64zqeezClxisTZoXxsWsKDt061uU\n",
       "1WeS6U14JWEdp/X62cFix7VAABIwAAACmkGaV0nhDyZTAgn//rUqgAAAAwAAJgguC7yHBcABP1aH\n",
       "MMs0xAQvQWiCHz/hAkALTm8knN1PIUArDGZ6CR/HdIA9LkqiSNZIrkyUotNx9YEey3As8N3aChef\n",
       "4trmj15vYAjGy2ClGzV7KEZC7uNJJuuM2AzZTSCVXHuYEGhB2x/pXJXXE2kjsSUeSL0QUhvG1ZlY\n",
       "4f5ixdQFa1W7zBLLYbnWifV6bbbLH5euKMKeY77cuI49wj8rGjVIxMo8+AAIYZIWaUfKo5MDPDGO\n",
       "lBzKVUjx9EYageufV3QN5ksKtIjv2wiHc3dSnKmdtwca36BG4W3pX/uSOwC0hq37QzcHecNHahaV\n",
       "/ucfN1qmfWi+jdvPrewRibb2tis2+Inax8zog4f9EAwoZqocbtfr4RNvI6wY6F6pj9Rb6PnpCKtQ\n",
       "bDJXFeUKYRQGCh/Bo4Z1DKZG9Or7wjL34x+wzetHNRM2/71aqvizPrF/ZMjvnvCt3JCCP7+IqbwE\n",
       "7SSLnWzJWWEaeVIGZe18LwnPfGyjafWdKFj37oVujd/Cq/igYQDaMB/vLQ+HD+dpAbHfGRczYVDD\n",
       "9QpZEI2h4C31fvkSt5HqIzCylzI33ZmuEfy/zeLvjOreD3W0nBM7fz7zOcvqZHMs/HCCJk7CS4gV\n",
       "j4qhf097y8M4wXLReoLQ1UBXYJm3LPHFcESIe8DYAb4BbpjetzNzRDHxWJeg/WC/x+gCCXkeAt+V\n",
       "diRkJJ1LvP8lsYKhoJzhbUIQzownrd0sYw0NrwROEeb8RFMNOWbuEIdg7W74LrG5gOELn13Dz/2y\n",
       "sFVPNgWCrSHg8909vTclxWRHeUl8TL0XG3+AKNaj7huLS1xEasQB5k1L458AeEInlkRtcu4DWILf\n",
       "69ys8AAPSAAAAVNBnnVFETwQ/wAAAwAAAwAvtD41+H3lzkgAGvd0IC+1qIGNWIvAPi5XCrHY1DUp\n",
       "ohHGWwtGFGb+02ce5kX+AJnix+zt5E2GqDbKPVrLUwRBKtZC/PIBI70/gOsuc7LZTLB0whLM5ZJN\n",
       "dIZtunrIBC+RhP6kfHWkIK1J4KHTGFVNPxjGTi+gtqlqjQEXhnmHczVjeTHIpE74o80U4RjWZas3\n",
       "QYQij8fimY6qrN95oeX0J4S3PA7e/+jk1MA1yhVZZ+DbRObfNzovV+v27BNId978uxiAbWo3wRgV\n",
       "8vsTX+SephPnBKMqraUXM7WRTHoaWQDmPSGhGlRAirllzUd1L9RcONAL7N4LdjiV/2cLyNCOXV8H\n",
       "vW4+ieqQp3J9GT/2ZqHNWA4oDK8ZE/qi76P3h2WpfHZp9v40URybtbSS4lS6lo/+0ZNC8345jOu9\n",
       "8O9HHaoAAbMAAADXAZ6UdEP/AAADAAADAGlukdzX6zw3++8fVOFoAPoSX6AT/UKyA2Jjwdz9/FOy\n",
       "SW1HN8054egN7bydKWeW6F546JZRZ1voMQUW/a7hq+dIT4qYhkbuWx2G/bjo/7vdGdXat6Cql/FA\n",
       "tZUjzLpOgPLys23qGLYvTjnl+ZSY8DmtqzOyHFEuBD+9UlEGlwh4yzW57YUyKPLWXo6G3FUQZXL7\n",
       "ypZt4hf4DTsgs+8usRa6Cswxche7YsG6BTaPwHxYj/vzO52H/hK+Uy1XWV2U61uA/vv2lYAAIGAA\n",
       "AADSAZ6WakP/AAADAAADABdAE+96ADAB84aXchJeOs5zOyyl71eZuDiNJOrtaSJCnUCWF7/AsLqG\n",
       "7vXmSq92Eg4Uz7T8G4zrsSc7gMYT53NFBNjgg+O5zGuu7EUSBAB34VDkQ+H7dWfe4UL9kpoyVFMQ\n",
       "x8+5e2dljtYiHS36GArk/GxZ7d+FXhTLXU0emxr1WMGDs+dvmoLwBKL628LVB0aym5c4EIHCPU2E\n",
       "QKKAi8+Ch6GHCoHnWbV0CtC0BxKMgYL1BrIUWlm0YVEIL8mhdK8kAAHpAAACXEGamkmoQWiZTAgn\n",
       "//61KoAAAAMAACUKObZHv5dLMGtgyh7bwAl2R8icYXQeMMhWEQjHGPzDC8rkP9DV8+rWxeUAkmXF\n",
       "BAb3KYs74mdRrH+QCafouYtyTj/rLDlTIg+B8shx0ZE30I65c3SmdKzpJID7h8IUCZAxE1mBCFwd\n",
       "9693tq/05L3g889i+wqrDSbUj+l4d+6KPR/u6OTezYlXoEcO+hmrsj4l2vWtE+Wtyvs3vOEmR2Ou\n",
       "0Sd5GN+gVEO00oCUfBQ65YD7rGl6e8LK3wsv7ovhkiGz8MFKExdz+QrbZZS/ZQ2hV3SYDNyP9XEX\n",
       "Bbbcb6pOImFBj5rTdWgDSbBB/3p4WTyaB+YbAg/zaF//qEHR5zo1wxB7hUK1zv2n0ZQVidWw5J47\n",
       "UgURkgvi7P/u/3CEpXiLvV5nf+4nLQHD6Z4Dj5e8h9gtoNc+bOYRQn3wuV7rY41IyaFAYqDjQ2aX\n",
       "8Fn8Tg0GaYfidecW1/aOGBI1Gi1JYhliXnlXAJFvC2yVeL1/gpYOzhOgpgho4ERo/oJAFVV7QMuQ\n",
       "ugY5Ayh+8albj7tOZmUV0LphP92apV2zW76kqnBlfT3msJxno9KxTy99OsAAumZt0uIHrDb8eOzR\n",
       "A0xqpZ9ej1nTtFm3A4yswwyZeVXSvoC4gtay1NtUNIbl1jZj+ckb2CklLob8EB2auldcf54IHwey\n",
       "U5wQhxLPU9iB+HOO+FyhKc+bjhlNlb66Pabzyx1Jb8nJejYjlWXn6ZZGMkXsKlTD8Vee1BPZrL4d\n",
       "pXCGvnE1sfAk1YlbjGdgnd6Ar0gAEfEAAADzQZ64RREsEP8AAAMAAAMACl2r1/zJ4aqU1KTPhgVz\n",
       "iuAANfCpckrJM3OD4T/Bo3+SRLbBC0hzLDdS+2FMOXNv4vSFrwNpMK8nN3HAC3S0O+53kvmiRB3l\n",
       "YQl+pLPGmGhyf+4KhQlOW3jntmc03BQRf1FZYHHpIfGuCVv+JNJX0ho5wI/ywXTRZq6ycYu5lC+x\n",
       "Emx8AsqN4nJH9286MqM2GPQWGk1hIevIVQ0+QzGMtJjvMtYjBDbTY6MItDdZP8hxaegydRqssJYG\n",
       "Dkpo7JIoe4WDJgKzZ0nBOJn6rqKmoVmbY97ATLgORUJJhmHdDyXwABcQAAAA1AGe2WpD/wAAAwAA\n",
       "AwAXQnvdtGbcAHQNujfAB9dIdekiOlQU0UX0Bau5PXPVKx9/YBbdPObYVzBHfYmRjeOXh0PE7+JF\n",
       "Onw/yZFGhOf67FAkgRUQUMy3YUup1mP2LabDmIHrWdoqzopVTGWV1AUH++R5rwG9g7MpePxnO/Hj\n",
       "j9YPSJ0H6G8t7sd4xWBAlTKrBe3AwHw/FHhO1ED8Qk8N6M2jbstTgfaepWrzfZKQ9xlI9jVDJPgY\n",
       "nzh0BdvMe9+5Ivs8AjatM8eCI6KO3YEs4znYADZhAAACZ0Ga3EmoQWyZTBRME//+tSqAAAADAAAH\n",
       "SgDWAKAKA34ul24kOW0l813t4wSfPKmyX092R0ITpvY+uIWuTmhC2H952ynaORRuSbifBfdFK2gD\n",
       "hS5c+JjshcM+EbcQhRQygIM4rM79td51qf9es7ryjl7yxAaJ52SeZr4+/9TEEPD3t6iEmUUi8pKY\n",
       "Jownn7t3CbRitgOimGQvuwYbSlDyRz1W0hJML1j4RFIheA5Xg0cMAy5Wfq5YvXYdlhbbCcWfR0yw\n",
       "38jHIWleS0uoJFQo8udS+KXey77eXMWBUy3CtnM7Oq+7y/HcVeEMrtRJdYg/EoZUEK3QRZtalu9V\n",
       "bPo/o6ctgtE1+Q0jjaCNaJEbcactq243X0fYjvceNJ3KQipf5l6BWjMkiu9lqtC1z1G8veTEGIAI\n",
       "BnuVklwVf70YuRO3WrAtXWrG/7qNfA3Imh1zkx5nTrvLC6CB7r9DZVIml4O66OEG5j6nVpNGuPTA\n",
       "jX0a3/vdHCENJvYgMUG6FVgD3tzzWTTxHyt2MIXvifUSgeAgqxc+nc5rpeORtaWEVX2JjDsuzyrc\n",
       "9cJ0cUbXsl3F4xLfErqq8St9WIIEUVa8YUOit/GO2BaDO50PewO/hnufx1HXvq9uwtsFd0RUyBdZ\n",
       "ReWd+SYXpfgNLirftzLivpYdIBQBWZhD530BuR2/ACOZ8uBhO52SasGOgzEsOsZt+ee+VsJoAhxA\n",
       "76o0crJNChKmUmYGE7gE5pUrvxm/TBp+cPU3oF9cIUdLAtZAhlNO5ssYtZEdxwJ8sA+MfD70Be6o\n",
       "TQxQIb0Ntt9AILlrFd8UiBfVOmACTgAAAMkBnvtqQ/8AAAMAAAMABReRqXJp5OACbhsLijszh1FM\n",
       "zJwQWD/P6pNGri7Wt/Ga3rfEjN+OR7TvdL7e09KTlUOmq4qREIyGeeRnwPlDFJMkE1AfVtFO575I\n",
       "gi4qyF8ObZr7iIWLB6jCyPiHgAM5JWpnrMNy+0NM36+6ggztMQcBvaso9AYIU10+UnMUkH2k1waU\n",
       "Sgg0CDcREW46sqeTVOE/NZst7Tj5dagF9kGmLIknoyFggquVZuUkrZ1Q8uOVSoDpKZjTwAwAScEA\n",
       "AAQMQZrgSeEKUmUwIJf//rUqgAAAAwAC7lPNgMPX1JXa4rwzwDp4If2mbJpdF10YykAYbG4pAuVW\n",
       "Dw41cuybdqp5/+KHLa1UDD8euMRWs/YtFF794QcahD6IS/YVGERVxdO9A03CS9K2RKaRDCenVDBn\n",
       "P/YJjL2yqClHs0GNbYAuVmGBQEz6llHy9WAvHBe3jBxGD/NG3Q9jJFWjBdf73SFUT6/I9O4R9fhJ\n",
       "esO54I6oA4JtW1Q4HPVQNDj10dHEio/VWK0CE0s3R9uCHzKiKf2cP5OzAjkVwflLVdyyq4Zc2ZQ4\n",
       "9lTGsmjcMbDbVzUej825c40KzD0iPRh2PvHugtlccFSNw8QtP8+L3BsxUTT81TjmDExGVId5cgHS\n",
       "ON/mO6M950QGnoX7wV7dDe0XSFHZrwyVboT3yf/QiJVpDLkft9YW0DegjzEeGO3cHX6sLb8eCNNG\n",
       "G6N6cn5P0qWkJHwY88uydR1zV6se8r71PoneeIQMJS7fzKFlg9vk4eThyrM4h4iHcHIIsjDKSmek\n",
       "oAaBU1qCfGKKYRfmsmNi+3rXOKNz50JpKorlMqqbpBCukyDa2OXi93Pa3cO72VAAx91vkSF7Ik+Q\n",
       "3ykYO48T2Bzg8tNPT2w2uxe2nEkuUR7nygScF8h0nDW2y10PB+shier8hegBS7emqSU7ZvDFN5m9\n",
       "IUBt6EdYLwmwF3TSX5Wo/ZvM1gKTzdt+kR7R/C4kJt9l7vKfLPrU96uzjq8p4kIyvykXGgd2joWc\n",
       "maB43fc5PvFDLr/9hu4swjn/idpkgdHK0nLi9Ad5NlpK0An7/hu7C9or/DgVAdIXMrod5F+MkABx\n",
       "Ja7hGdIlkYPEXpDfOqj5c86kGFqzCvnQ7gToQarN0aW6wZjwDOmve5FQrD6un87y0WPdPoBsEXnN\n",
       "BMNBaH+MFJdn/zVG/ChxGDrUym3HMc2FzVs4mMURUjdor/6R/1Un0GlDPvtPieZ00f2NPZlS4VO5\n",
       "57rZXVLqf8ffHAOpX5Dp4mIOkgPg2Cqdz5vRoGG7kp/kL9ibZxC46BhDrHmFA4D2q6sC+bc0Ddst\n",
       "CcQKV3yK3ltFukRJfwXCl7217XBYFxtB7qkOc7SMcXPy/Uz2+CbT0Z+KOCw4D8R90A7K+0Vy624M\n",
       "QwLKFB3Kk6VGsicv2zAaox0i8CdFIPyPVYCzSLBZPfTM/yOMQyM+irDg1dGTwXdDMPkzngYU7dPI\n",
       "aU7/OwiIGYF0Z2pMixJSIcDSFQNaOd1DvyoNEM60O4W6JTdTurKd6SqmIqyW+8RBWWnprUcjmEie\n",
       "ND2r+iFUrAlCgA4iZPry1Eey92NhgaYC9msHn3V8HZoqEtFHb4aMcjoZrMw7SXlcaJIi7HYoIEic\n",
       "hW3trZRuNExqeADVgQAAAW1Bnx5FNEwQ/wAAAwAAAwAvtYAX325F1YDikTDZNixskyOuz4E8YAFz\n",
       "2g4cq2WtKxvaT6ikQmR3fpdfrc7PfUwtt+Cf/BtbW7XUIwQJ/o9zRtqXPq4I49uvFKGW5wTkkOz2\n",
       "P9/PCz2lLleFhnqJIqcyWrJ4YT8XbU5L12nkgcITtKHo8dCK6zAiKOPJ52g+Mxn2mgP0Jo1WCkqs\n",
       "21vZEHLgGialKmWn6th1TIEF1pzTrAbMlw8Af3rIX5bHKWax6FN9dlvL0jK2fC7/r596QyE6j4qS\n",
       "uufZtGlZLz9ODF+613WME04YAwbHSJbS2fDV75A/lHX/9ecWRFJuTxV5lf4J0bQvjiD3eI8hXT6Z\n",
       "JIE8yW3XwTGvBpxtGmLAkoETmJDzAXGDW7rCXlAaGf7kXll4zHi57wij+N4egeT1Q55+XniCy9S5\n",
       "0+d6XDavjc4HOqdfhwjSi1YdxBYcTjhdym7cfa4/GKgu6ib2h8AHdAAAAJsBnz10Q/8AAAMAAAMA\n",
       "BRxbdChjZgOE8l4gBrEhw2zQa/X30pz9zf8hWol4FLAUJmv7yNDWjPaqThFSbJ9C4nBOFjWyCUno\n",
       "rermPCbUL/rVqJjf4awBd0GmNlSKY5CH9dhrCvhlTtcULQNfFAxigWSuZu3eQ25ZvxcI2vrxI1qY\n",
       "kTKylA6UXChm1nkDP1y/oT2zZMLL7wQXh8ACXgAAALMBnz9qQ/8AAAMAAAMABLF8t/rsbwAsyOwK\n",
       "iqGsKEXb8qCFA2wfJJquK+zpK/jKAyVMT3imV+xYiXpLlv3eMberoBBiJ3/d4QTjDMip5eZPI6BG\n",
       "MCeawYKiWyWUi14rN9lJv3OYrdy0R9DWsjWfihm4ZdDW1VsVwpdzrpVQWd2bHVWTU17HZEOS9u6u\n",
       "AGpEzHh2duvEQj5l4TgbEptZoOMQwJCGsfUR5HMvFvXKoOk5kgADLwAAAyVBmyJJqEFomUwU8Ev/\n",
       "/rUqgAAAAwAAIg7GJ4APoqjZMx4aP4LXj7pafstzYskXiEAXUS+lpKlN4zAkD7fJjN/Qj9uo5vjL\n",
       "JmwJDEhvosIABSrlrHvjnD27M0PbHCYe9D+H8QUZ3tHDZyXoegJUvPRlzIivYm3sGtUBeVVWSb4e\n",
       "NnXtvrrI7u0HJTBdQXXSZiKRAZWqt/5wHyMkLkDlysRCsWBMioE3FZXpo0a3SET6VmcX1mImTCgy\n",
       "2pPJk7nKXw6rU0qkOzRbEoCBB7lRBB4Lb2CueJmaJzW2xNgixUmdtubx4gk8QsZ37DSkE3a1GNXv\n",
       "zfGsyoyBWOlVK5+Q0dOgukmMtkDpUMNIlU56JG9FgerThykZhpskfTCjiFjsHivnulfozZQ7IYA/\n",
       "Z1vzuEA/iIyZP6HOGQkn8Cee3RCDafL/KrvpaJZgDy5wb5XAt1tVzT9gVvS2uyqxyMvI1JrsUPNw\n",
       "a1E08lL0iFXrZXiQMjWU0xpXQeeavbRBvmxq982ECtA3PvxRBj/LTiqeHyvOpRSwBNkWOK7rsfja\n",
       "kPhOU91YKFds0qA4fC02xvdEMSxVk2qswzHf8JPjqmA03UIRECgzhKnD643MWcF2UKJSj5BRz4l9\n",
       "iJPCwGWnQtSL86nwpRR2NezoPkLGC2BcOQKXoQRz7LfvwKya0/v3iBWU/PSHmltp9QAZi3CQEJAV\n",
       "r4nsqTeGTBFf31RRgNvKDUufGrjO1zgzN1aaB748vrClckj/XStHVFiAJbM/GSBGBdaeI98NEOe0\n",
       "P9A7nAKj0IynigXUKxMPO0wG9GMlI4A+k23STm21cZlNVHp8Mdoa/mmTL12jJpz/VNp1fXooTdGG\n",
       "9FH2YmSNExPtK5XLw2LraT/oNqBr1I25oePWiMk5P/PHBNBWFw2dCk4geSrfD2kL06SD1zsm57TS\n",
       "kwqunmAc78zUJ739IK9FBjvf7PxVQfbgsVbb8GWG8TdxY9K7I10VvjpSdXC6r2ziWZhtdLjOg/Ud\n",
       "LsjQRnXl3YzpTM6NZRfnkQ2GZDW6yKSY6nPWnViLkmjfvD/cmB0ptDMeEOmxOJ4WAOWAAAAAxQGf\n",
       "QWpD/wAAAwAAAwAEtaDbmPUef9CfxAC3JnTdvWhFmUHjlpWVWZ1MA1MCpHfZR/jw8QPm/xa1as+n\n",
       "bHW9JZfaiJCEUVbcZTNReLl0xioNLFTz0h8C2Mfr4IWBGPV1l7ryD3vJAxqH0mK3fStfvJnvnNAP\n",
       "DxlMUTU6NX6uk7QXR5PqS7JwPVOuo2dP/KwkMvnAzLAUV6wixbXzs8j3cxlIbDnPzmuYYFyXIbKM\n",
       "911bolx2Ial9HN5ycwYtU+gzMjlhYA5ZAAACwUGbREnhClJlMFLBL/61KoAAAAMAAAMBqI5BJXwT\n",
       "QmwA22eep/XwwT7MFEi0rG7asV5C/I2D/FvA7RfmiQ/6nufv5N9LO9IE4SHQYpEboJeneT1A7Qv0\n",
       "IZ441W/eUNzUMJyktE8+xFt9KR5mZpR41VqWbxTg2Y8M7+fuEx9etAaf4gY9Jtj3K86NSs/PYxCk\n",
       "8bsKi4oLEw46wj36mMjwiIc4C3QaWFWadSnz0DFAGfiAAK11YI185mAbUFeh29rK45H3ZNZFcxBt\n",
       "fhUX7mVNrnh9XZ155AaByLlKtoDT35sR1Lj3g7m+X4BG9Ah+Fwpqp68P3Z2kZlWUAA5bxAR6Itr6\n",
       "jfX8qUvWh/IzCjQlCgfsjBfXXbAFK/liFK3lf6Ho6+KBqaXXpxSegSuFAFrUi0LkFQdt1SyoYeEq\n",
       "BnoT+bDGqbJe8VzVkV8n98cluxSCxkB/EuLrCRCCIQUel2MUdVZJBxkqnl8K8h7cz2A7+T7bAB6Y\n",
       "54YjqcCqqOueTZvH3T1jWa27K5OylUS7la06g/lfeNzaUEAA14DVXcsYNz8AUrF4o5IPViERLtor\n",
       "X1dHQmTImp+XMnyKbp3nj45JPmIro/A4NEq8e/DCn99Ye0w9b5Uv1to9Vxeu8P8X4TEqfIQPT+KB\n",
       "JDRwax+nbivyI61nqa6hqQtxgyO1OmDWOWqjRfhXuukfWgI73lv0jqzrERT0Zo48SWQMpdAFvL+Z\n",
       "NIOoZjw1NtxN9eBuULErXbM/2uzI/gS3ZdVeDoC4lDfHXeUMyzi38EfvTpf/7cT8EbHOf2aIKS57\n",
       "L1UKr3dwUbmMXcn6RSr+y7IiGEGGVVc7BExd+t4gf5HWGyQizX6GCFbtxWt8jOC/6LEwwY+8xrWB\n",
       "dqtD6M4mudHdVAMqFO93wim4iyOQUJLz61iq1wpfgAM3Sq4bCzI2z7bGH+V7zOwCTgAAAMYBn2Nq\n",
       "Q/8AAAMAAAMABJLQ3xAD4AR3HOvwqszJOSDkUx2dGUmKNiX4TKFipCBX6foj7q3DHxZ/AmE115OO\n",
       "X7nIqyphpOnwQU24ucSRYY77wYuKdTwd7gFPHRb/Ah3oK3pks5cwDZX1sdlSYeoXvn7Wdh53PCb5\n",
       "bDB2OcOrYNiBsaSXJGL2PWX4fyBHOGVf/zKuNU2MOxa1yY970wj5MaKer7SOQnfGaQp/u1SvlLKa\n",
       "8JF6ShAbVMg+8/anNc69fL+6KlEkAZ8AAAIdQZtlSeEOiZTAgl/+tSqAAAADAAADAaiPycWMSgBP\n",
       "VDGk1xfgIUZ6MlgQsaFhWPqyWe8V02VBibWlCvMIje3X8RT9d1/3MW0HwnjFO6OLYu53E8k3DeiI\n",
       "Z1C9MLSaUEpyUO7ZeXOwhng4zbs5Nvb212Ozm8KDD5kB42ld8mPCZAQhvv6C4625iFm9ZHkGoqcc\n",
       "JQ+kcKZfXD5XXtwuUqqMVPi0uKipIIR8A67XnlrRgVkuQ6erxgDwrhtuBN4o8thLtYi6m5AzLzwd\n",
       "7irRqw0h3wiSjYz1uBBevwqYkeXX3/L0VjonpRmGgzce71XWkwy8AHKfJCq7WzaDmPCfcDUpq9bc\n",
       "M6dioqpdU1bduBq2D3XmFOfHK/88W7BWKRvgU3BwPoVDVpTx7tHmIQ9A1MILcUiBeq7PHSq84juQ\n",
       "JAiOePiSEsnTsM8/NeaejwBCENiR6zs/W0CpQvKzHyk4HO8LbeovSi/2rhvoRi9/aCSJsp/+rG+n\n",
       "j5BnXT+VNEn6WEKF+zivdIZPNQhdxIzLBCEF1aV2zxbU8dNIvhz48NL4ajUZ42fqxQTjVyXez/b7\n",
       "CkS7fh4ctEZy99MxlAyn8dTo6lOj/p9U8N7aM/ce0G80ar6lNi1WhTVH2GjJaqgv3lZBrolN+mzC\n",
       "SYqjQoTwGEEPhFBlgT14yswpXcpggE0AdU8UAFKN/+lyTtB666Fr1I2qom+kBKp63T1wpaAK2QAA\n",
       "AtlBm4dJ4Q8mUwUVPBL//rUqgAAAAwAAAwGpstkHQA3+3xTkuFqaeKUFF/y8dzydZkOpndXHkzBP\n",
       "t0FS1CAq+0OKcdvyY3ZCkf7AgxD9WvgE9veqOmLWdgnyOTIA7TXoAGOKIR9+GN5W+W5mRNDIq8cU\n",
       "7stS9PzZyJ386JjpPjsgynQTNKFhZLcrU5Juy+9cn/ofSnDEddoVSED2ffsJho+fKB7sRxz83US7\n",
       "Tb8I/MlIMDzqJJGJMWhqnwDTXnuVpHSF2462LK3cxlaEgciu3PVQ9xoTtJg7IMXoodl/C1cXNnaw\n",
       "CFVr+CR9Vx9adoPg2buuflg2Culq909zd1Qt+T8XQVnbZLDHo3viHcVOqznpqZ4/bY8VRu244EGw\n",
       "C7W0WEFk2Zm99pUw7gbs09kRi6wpiyDbkcfkWrj+qdrM8nh4UECLG0d5UV7+H8fV6X8k3ja/PRR8\n",
       "u9+RZWfQKNHKQNOQ55nJ48uJWHJ4aFkY9feeK7ApnMUEsCVzcHQv3w8UbNuKE4cEmbVzYYTxuch5\n",
       "8ONk8Qq49l/aF9KO0tNIbg+CR/9KOzo1DX3ER9FYEDM7VgoB8h6yew+84RUpY8Yp1UK+xqzJaPw0\n",
       "nPpC980R9RSfhOq6nsNi6izBOkw5XIr5R7lmX3v+dQ6sFUXe9/Nfn6Xj2pAn2PyR056xzi4k4QxW\n",
       "ISBkqI3LnqqYy6J8bce/9/7ix0Jue7hHsO9NXW4OOVbPbHGQbDobUCiub5YOJPoZBI0EvxJCEC6b\n",
       "aN80KA0/yhFHKb98XpPB6UHsmbbsBYbloptXZkm6+3YFahn2zqWLZ8rXVNgsXXjH/hOzE0/X/CvE\n",
       "jEP6EUkJ6C771sPX8EDsVJgR3GvtgjfANJtXtAfouNyj2kgyvt063o0Tefv+QJa9Tv/sALOlVoJF\n",
       "BHYPS8a4sHsEGzMYy5YZJc6DElqFRYuQOmBwae/Zalq4oWtFLkF9A9QGppgA2oEAAAC2AZ+makP/\n",
       "AAADAAADAASQpzGZ47vJOtZdIhHDzoSLQkD4APPXNbM4qeEJFUmKgXTTuReoDKq7yvi9Wi9dE+Mi\n",
       "y2eGa+Oxq9naHLmN6D7p7cQ2OhntY23B8ugl+Re0mEOzd/ku+A3S32cj6ok+qUuv7ZRh72MSM1kF\n",
       "EVcL7c1aTUpesmK6gRVCadNVoXU8s/uJ+zhJ+bi8647P9sV99n/lu7+Yev6SHq4Hxj6oE9Hfj8vv\n",
       "XOcAMqEAAAHzQZuoSeEPJlMCCX/+tSqAAAADAAADAamqC4OAQgd7TuVAU+gddU8vGyrIUZ91oczS\n",
       "w0u+oewu5ur/2o3RTMrBAnhXKWTztDo4i+wdFKTAqCyZ4d/akKOa7PHEE2yP2yvw8f+hZXUku/4J\n",
       "ygaOEjlH3wrVRaJhRO8wUikUsCWOXApUWQfK15tMhSirq6jHIxRHIVoG/0Sjx0KR7XDo6iYdCw3o\n",
       "czg7GANPN69x0yhcONHppII0UEQ4PzAR6gLFYeSOvLIloeA8DD/uEHqkWMdxLKZGuf1qfJFzre59\n",
       "xC5qH3DorkcLsTvvMgY4EkINBKbrQB4DpvhSWfb91g6H/OxaM014IE0oXpBbX53CvzQqjosmNPCM\n",
       "DMPxr3o+0qmh19Ke15NpYiD1JtDQleEPwkkaSYR/kwwasNdFrd2l3ntEpQ+HU4MASvAvjQBILr3G\n",
       "FRkVdPEZRcIfOwBEEMOAGG8A3CORCmU12LlXKW7iu/2KJ9AvMgRuoXHge3/uWkORcyHxHB+CzM3H\n",
       "q23uAA+uRtuiDu4Z4JgRvaF2jA+6H0loz89FpMKjuJWkrYTFsOGplvH/BWn9NT4o8xzQ4PGLlef3\n",
       "VjdJBLrfunRNUzv3mQ8HKYUKIo9u/2jYKIxCUzo9Nt0l0pR/tTWrQhOisApO7oYOJAAeEAAAApxB\n",
       "m8pJ4Q8mUwURPBL//rUqgAAAAwAAAwGpqcQlgFigSwqIfxuvogVI49zM1jGWckc8ZdjqtKNLnsoU\n",
       "sQTP26vH9AcLQRWbU1yvX4+rm8fYjAC/52k3ZD0PC+S0t6jbxk2psXxMtiK6bM74+t3C5ACRKuMo\n",
       "Rm6OLUf+oU7DbIHvip+0/17rqNPmuqXhhT+h+I4/WH5PhQYAN7Y2fmOhrgMhDOCei8iby/Ej1rRV\n",
       "0PwVpEFlpkkWLjcR/gtUuFlURIyvcgzcvW+O4zIy45hhg6g6+ZWKAg+dYZVALwwqDWN5pNynDEqq\n",
       "d7CQ2GVsSrd6vYMBlJd261qDdgGO8nDGcw2a7ydMwI5ZHu6A0besIsEsOkY0Rly+M6+5K2mlYval\n",
       "WcuWG8FLFa8DsHMENbXGN0N0ku4uIFMGtgTh54GUvDh0LI5ypLV6g+b5BxZ8xxWytdvoS/5Vw2E8\n",
       "ftiSIK7WsD2MlHmoa5yYGrt/HIXqsJGeSBZm8lxfEJtu1kXRPTaexaWlyrfNw+i0YmwYpcs0++Oe\n",
       "q7yoqkxFjRcP1Jjrgde6Dmji9ZGMqxyiFCa8DM4KZ/gb4cJDv9La8iG8iCam6b9gBxq3jk7Ilp6I\n",
       "z3BXUilVM22GK3A9Ho+QQsbfySnbLO48waGBxpp9wQFQCzXRdhNbVh4MA64rfCmDZN0t/ibz3lS5\n",
       "qv6GKqPF7USxqcywRDW2WrBmSlwpEqjM1fV8e1X78XWbG5Yt31DLzUfyk+qgeypBNX/iz40jSp8J\n",
       "LDQq0r1kuyczXci0bN54LyZbFnL4LCXy2VGDESossNgFyfV1i4OxRtAHOq4rh2IyPDArEqOaikQP\n",
       "BHb71vkJXONKlHJ4DfObsp84fh2GqAfMMzD//VfVvq1WmXFbrwBtQAAAAMABn+lqQ/8AAAMAAAMA\n",
       "BJCv31SkHQtGaioyaqUNcBGefp9o0BYTuoQILlfsNx5qElVCSeaZ1K83pk0AEzczDJNw5rFLP2eJ\n",
       "n//4w1+n/rPOs1SWlV6vrnbRJxIa4ORcGRJOf7fc8se6SZ4O9KnMCw/tP65w/nyHjCX/9+yim94L\n",
       "4w7ZmTBRhsb1TgG+/3k3fEk/KqD7PTF/OhV9tCWsCNfGIKKq8jfhC8ZBIm+X0m3ynOA7O0k/RTvL\n",
       "6mJll0lEAVMAAAL2QZvsSeEPJlMFPBL//rUqgAAAAwAAAwGpqcHbAAyRyxl0dJEsl9DYxnhWKc7o\n",
       "hRYKrOxcGtGRoViyKMfc804PCmw+aYnelfh+eWXkXgKKHOdOp50IRU1xzl6+JiBDO+VYKygzFZJ8\n",
       "3NMfOtwatALvD2pxctouHVIeBWPtsKm65Go+bEN9sd3Tvh/hBBTxtGk/GNEWk0eleXyspxObQoOB\n",
       "weS8FYCq8GH+e5JRbU1PidiYgHlXv07G3dw5D5eV+ldMtkTBQIRbAGI0wCVbtacjZ/wxrIa7yX5l\n",
       "TRE9+Y3gGhM7HFKtOnofB/Axa3W1OVoaVkDHsbYwOgyOfiAvXLJ9jk6x0e0hC4qw0vEiS6XVs7H/\n",
       "KPu2aEoY6SrnOlz1kymNTAhhafDum1QgUff8ylJsACUPL7SGWbpmcDB/XzX1p68J+NYe5Efi/mE8\n",
       "9sPhi1T/t5dD4iSVnsPb+XC3XyjgakLMG4ovi8gD6iGerbMOHQA20GT02SYtNUYtWhM7xbbVswS5\n",
       "T7YnIlXonkZj0wlsI+QgoqAiaR/E8ajjs4HX3dfi9qMy3Pv0kbicTzxKx+ukt337J9Dyv+eQ1wN7\n",
       "G8CWg1fqVPQAA7c2qUu0IjbtUhGmSKkjpXF5az2Jl3FnohoxvEV8Yzqt/0rkNhe4+8nM2mNu/rlB\n",
       "Wnl2lNIc0Ek/fCHepq7EjDB1PDMT8X/K6eifGtkj0QxtKrZvhp8oa4x26TBB2il1uTnan81u/XRY\n",
       "GOev8DyozOwE5udF7NL9WMmLjJRTXJCuIb2341l0uAxv5Rt8Oy/Ut4KB+yzJDvlOJ7EtbaAfLdc3\n",
       "/YRenLUL+QiNhZW8C6tYPeqS7xQUEf/wsLrLOvFdrxoEp4FkSwFpxwqg9n4fesn29CUeRjKhJXab\n",
       "svkez9515Bz6hIbDLLwfJSPc1VweWJt9Gl/XNVh8eYy7Ggx5/DvCzKexmGpvKfqSFHB1OrxG84Ax\n",
       "JX2sRqzuForRsBORPr3kcRlwZ3HiW8XXzeSADKgAAADkAZ4LakP/AAADAAADAASQqb1tUbkcSme8\n",
       "aEXvL/iAE1wmf/beT9ka9vQoEeWlKL4SJsNZThEJRNNJ3nDas4PikpVXOZwfYiUBL+vmVqe7TGXP\n",
       "xWxuNHNGCp2afngOW2IQ8zGrz5Hp/5HEs+XCoGXIBSpJPG0pLYWrdFuJJmO0U9QxRMlIJtiuqYvQ\n",
       "1z+nDXna+ws4sdAhskcdf3ymPLm4I51V02GrUwZ2T7aXrQyvdswWIFp+JauAytqMPNcPvQMS2TcJ\n",
       "QJY6ZwrB6O4U6TtcRISv+IbpNiokc2PV0FJqjCNMANqAAAAB3kGaDUnhDyZTAgl//rUqgAAAAwAA\n",
       "AwGpp6HuAhWfRMpSghePs0tf3WYZ2zijOdDhZZqKCusvzSDuUsxFAHxGUU4OYMUYaALm7IFJp2Kd\n",
       "FjFmHd9J1d/n1WurghNzODmHD3IMitQr21Vx7bdjCnQMjBvuAIzc5YPkrMXQYcSzjailyGziY9Iq\n",
       "wFF3sEF5FpSSjVX+R++UXThBPOB0kFBFTZUzsQGaryHgnQ+kRiCSNQ3XNFclyOVQwzCU29DFR3uD\n",
       "nMXgGTqZfK6pg7RqLlj6K6I1Ewh9F4n4UkspbjQcHTR9ZmyWf+68WPRdlroFOsYVFkzGm1o8Lb3n\n",
       "sZCGt0k9eLg87Oy/iSkFg3cUBDF8Vhm31q4UlkoXZV5ZBQ/hUoi74QrjjIoNH2TWFVMTQLJa6dYe\n",
       "W/RRUFOfvlVMqPxNBp6Dr+EFOdAafA5d7OR0vnQkULG831k9MUtERHHKtOx3PBKXTq6vqRC7Q2W8\n",
       "BhFeJWvu1tSOhv8cDt6Q2vczi+Giz4C0MOFNNr7xzD+ky4nctDi2x1qZMJz3osrKwdmULZtCQMJj\n",
       "eY3jdf8aTPh/0ENtNo3ZzT3ml0MoK79oFxenuLCIfIuBA8T/G06NCS5hBwFdBcPJQTVEOj1H33oA\n",
       "OmEAAAIkQZouSeEPJlMCCX/+tSqAAAADAAADAamln0AVYnBQuxFxVP1XBbikhDk0p7evvdcisdN8\n",
       "ShEXR8/pCXRq6Uk6Xf3xwTvhHZT4JETO/Gy3CFXY304LIesW/75YZIJI9Aop3oDZX1ubdRDwYbqr\n",
       "r8eNcV044o6cuLkqXKdoT/PV7iT/+iWViGHD2dWadSuk80xuhPPF3kiNEett9R/0NTaTqzarsRux\n",
       "97mHhq9bLeICPlw3RF0ppQLmU3O1vXrkP2CfdN28DC9HwXuYTqOkbiT8EZaaUs12CFVjgxJXRaGw\n",
       "NqwaqRafUfCM7UqtFyArUo/fyLjVHd155fFWyOL3w+whuAIaxZL+YVXnd30dm8nAWQvGJZn8bMVH\n",
       "8Ip0BLvVBZZZWvHen7LhicDMAi7w4SvDud6VPgkCu0JHhQFJn1HJn0vO5or70240nMTp1zO6e1B2\n",
       "0KfE7A2YCbRTFryc30VAiKdWOqBYu7rIqXYf6DwqZoo9Vg7YBE4icO63zeZIi9yRmYNyVYJcuF9v\n",
       "R5EOslBnyHTfT/6rcZgNSMIrubgR08zlD45yLtH4FFIFrqYvUc02m/Y0719eg/Dbo6lduvhddbaw\n",
       "2eI9qDs5LX2/gsaFb8EZIBT9TS+o5mRNFkiG3iCZ3ZrAHHSiUL+VAKrr59nk5irKg0IiNcAYIfu3\n",
       "dv+aRfn1ZXVcd5htnJLklccLeabhSXKk35wLejCsQK0Tz67aXUcALKEAAAIVQZpPSeEPJlMCCX/+\n",
       "tSqAAAADAAADAap8sFg85u/NpNbsdWVW24n2sFm0NR7kv9PI2ap0xBDYwFSCNHF4bjy5Jyhg8XH0\n",
       "As0bq8NZfGVJyTiBfNGhgO9cUz3E6H4KN3EpYVkal1dwuqiMDG9A0Fun9IkYIdh2nlpPkXDitgBZ\n",
       "zIUUCC/e3UaC7WwHMqSMfAN4CHpHDiwGJVRNGox46svS2B3hyUqz54oDET7QokG32v9b1ovhXjLe\n",
       "G6g70t0w2eD7t/UPbVZIzXd8xb4rhmOsw61fBlhaLswQKD6Nr8CrozQDVkHShBZjg8JuQWL+LeK2\n",
       "Xt8wrmZ7hTqO4uCzgqEeT9THQzNgJyMj/fEbe2RfxIGbOzwGGz62QOkC9vbzCb4Ble6XyuRP8+RR\n",
       "wG9wa6QUNBDiYa2jBNKF/rRWN9HSYhIQfszEC5ZLayVoPY/PuDPfVb+0FMxalOPCxCiD+doJH0h7\n",
       "HKCzAujqCT5asrwxGM5a9ZpPqNh4El0TGR9Y7vXkWB5pWBvZrHJVbD8ncyHqQ4WfgnRCE4NZI/lx\n",
       "AQTqv82RIUqtIEKx2nCfoprkgzWnFzIw+7DxgrmApdtzuSWUOopfXmqTLIFr2Xi5p8Ga40UnjO5Y\n",
       "hNvnNg1E6HJRTsGK+MgVVFTxzjZv5wWg8RkHvoOwitblSNn2fwsGhf1BKIlU/9/hufRbjIwJL/86\n",
       "eX2SfZwAPuEAAAIdQZpwSeEPJlMCCX/+tSqAAAADAAADAamn5hAhKgeD8AHem5sQiZP0mhldrPJj\n",
       "dJXK3FoaU9I4q90mCFy2IIpXi2IUSSclJk7dxYCGX2AKHVODzPKEa6JSNHU/vPNVXCtaS5anyce4\n",
       "sRSqj+Np8iBoMIo40+xIaVZRxMX6hA2v7BMwNXMSM0yijTcK4b5PUOG1BkXbFoVGtsb21QTtSFpF\n",
       "92Mj5gVgw7fFkHVt4lL00ia4t5sco1n4zXb8yZPdxctXhdoHNRrH3CtpSOJjHoSIC2pzYtIHdhvI\n",
       "HCWOZaCLb6GSGOnd+ouNu1F3ddBjrM/8nmgruCYk5/4e+4DXNhbaWKSJ7pdmPzWUnI3aFZprLCPH\n",
       "ZrlBCwHRRYpyO+6o5Ebc86C0Xj43tDN6/4BTiub7A2+DR7xrksylBVkyZlwqdvfPGFivvjO/Klvf\n",
       "83LQQMdzny+vdLcVYul5FFEwhy19VLrBdEFvRwssJapbREeclPyV+Jw76ZDbTPlKmJm82k5aFUWg\n",
       "GZzvVql6EM7d+CpBle286gITTge6B/kFwzGRx9ToPzJQWk4nD2wcpalGWvqjWshbdAwFLwjfO7EE\n",
       "8DMDo2xuGscwmXaLlhlyIUE59ASKu9qoIc0bgacu/AXQMHYmNxhMkZeUSqJE8recBEl4oB0WKI2w\n",
       "VN5K/R3EfRi8ZTBO+UteO57kIMcKi/lrQOMi6LINNTidAdaMAAAm4AAAAnVBmpJJ4Q8mUwURPBL/\n",
       "/rUqgAAAAwAAB3SpTNClYNOYk7T46zl7IGF1r5f61x7Nkf1gw69OsV+cOK4fSfH6OporeBkTdrKK\n",
       "TUBE0YZrfytGOyMA36z4LJ8zuCQJKGsgEh2uESv4/pkYZhn5IVBDTJw84rMNV8r1ScMJL3/J0r7w\n",
       "hUX5HQIXtPvvFOUzx8X/t9b24ingNcrUwNaj3kYmRBiY5tWbeXAMJah6C1CzZmaPabLPifUlaoyQ\n",
       "zlOFhtKwYRpK0vmxxgZ22d8VB6LF5CnaIbBi5tnkRWwD8UgylDSVBKdBzD3MtfuFz1KxzRXm5uMZ\n",
       "u0ZuG6u6nPNVMuhKr1hj482eWyZ38f+/n0FtYczmXRiiVT9ftgMRRo0zubIgROCRjMTsFlzw2Xh+\n",
       "/4VO71crC167eVJY4yCzx6AbGc1xNwJCqf6Ql8r8bPmElXKDiis0vuO+WyiCTWzWaxWNj/ij+JVH\n",
       "LMId3xW8ysOYoISnc/rkn6P7JXrmc15+nEEjrN2N6f5TMKGt52GuobHanKYsICuND2xzH4MTiwoN\n",
       "x3zdqw9ufZlTk7k7SadLaA4iuO8rowVIVkMxdr/Y/lPxaTKJA2hpkzOi4ADybEx+ds6eAK5fU+3z\n",
       "QrRjKxDmQSXw3eS7JY0CK55JlO7WYPMBQmnqq77bhAFPk8smLcGauaLGFCRUdvGBkzLgJxBw9+vM\n",
       "F/2bi4+pFE5M3NLuLOjyDOQvydigTu5PH8c3Fx16lS0xVCeF6Zwk5aYeJkj2/BHbf9zaKAZNON09\n",
       "SfSJvPerRjp3l2wOCGe5IHner9LxCTZQ5DdzaBog5TxIj0zIcuqHzA4mgACzgAAAAMYBnrFqQ/8A\n",
       "AAMAAAMABJWj3AVziX1hIzvrVlNzr7I3z4IABbkf21ALD8PfohfMPFapDUqjNFRu7HTjx/1snIZt\n",
       "LeqRp1B35QnAoCi1Z9hriAeIGdWcIXvlqODFidRLrZIvFYy1Fhyb3E7kfZ17YXqE/7Qi/RNMM9Jz\n",
       "B5NnwfsB1HxxKukKRJhTXAuxar2s124eJHWYoMRSKglm9Q0JOydgZHSPNmvub5UlYL4TgDfVAiYy\n",
       "ouNcub24RxUjocMJsVED5bgADGkAAAICQZqzSeEPJlMCCX/+tSqAAAADAAADAaCEKz8ABl5QAkCD\n",
       "03LlSa57dUd2s/QUZWFpIuTPZsKrlI4zIIW+Pd8MRmhOXQXTuhgiPYKIMXZDg4QUg23fb15xh+g2\n",
       "VvNOHMNt5KSfzz/k/l55K8Zym3ESJaPWoboN4bwj7UHaBZxXYU2EYeTUSbqCUtsMXy3oxbvCkssW\n",
       "S6uHh9mU0gBj0vDvq5mR2Aqdf/F6LLlQHx+2wUqyA62QvPI9cTszI9m1SInbuYD/Ef1UMpvlJgGy\n",
       "EOwoJ4ITI1nhTQrRkasDlvLmgLSmTKngPI8nQPm2JFZ16i8Ub2NY7UQQIQB7nVPoqGXoH9VOVyJU\n",
       "rjqvLVdjm8HLgjxiPMUAJK7P4ylEl3meJ8YsCiXlnDg1+3w0Gi4iClNl8m1haEuoKVKshBjbkncX\n",
       "Z6LMNZVf46L1jyhSALQCcNTR7PsC5Vf0saEsO/bPJkZ5a9j07FY6+VwzoEaB/ZxxzNk7Y1kCOTH5\n",
       "i3te8QFyUsRPizr0BD9DvIP56yCm0G5/Qdx2nxx/TaJmerx5zuRQcAHkNXY6LTz7VQFLIGkdxtr6\n",
       "xrqXWAS2V+TB0R1kY02JYRKkIfj/bpTAMwKZO6flXS7fGLSZ6UyNLLZ6s0EcBZrsUChlkF/r/i76\n",
       "DOCn1rar9IMNTNgjXmN67XMNJZ9Hg4ABnwAAAaxBmtRJ4Q8mUwIJf/61KoAAAAMAAAMBn7oLNwBY\n",
       "2RT5lnrZeh8pL4J4oMIxHr3PbVBPMjZp+2bdbnnXs1CnhDb5L+EBrP8ezOrNJHcM3jWtcrblM4Zi\n",
       "KlND26/rv8lvhUySrKtlDxOhT4ifcyArzTEC3pbNcImCahG79B3st5cMNEXJQifDcw5EEKUBlw2g\n",
       "7ZURLdgP4Ri5wv19+Tyj3h9AVX5Nf2AtJThuogY6Ec20ov03sasE3JWYobI8RanJRbyJvMQ3lkjE\n",
       "NB44FOOcSI3U3ZZ9IC5Z5iHbOQhaIhIDhwBRgRh9i4HxJKJjYtSdidPGXSsnwtsSPwht6l3s3dcD\n",
       "UcrW6TCi8t+YOqI8vLnsF/OejSFjdG7M7zyGDbeERmoL8/3wNeKXBa16xZ/EOKVZlq+J4ilQm9Ve\n",
       "Q6Rpp7hjpEevKzHjulJBkESgJqND+HfEo9hj8h6gPrhJUfD/leedEUbkyuB8A9kV5J+E4Ec+DM99\n",
       "NAxzEJ4aIeYWaVSffX/CtX+c88P/2d4i2qILqv8/+NSVGFUgBhVNeV5WmmHszdtF60dPN7jWAADb\n",
       "gAAAAchBmvVJ4Q8mUwIJf/61KoAAAAMAAAMBn7oLfgANmdpc17TiOzhM5Rp+wUd/XrCy5GPqcNO7\n",
       "ZZ0ZpyVPOODirwlpYFRlyJUla/72cC+bDWTSBLy8N4bO/7hH04GWIJjKUxDGk7Wffjr6G/nepJXD\n",
       "/mJok/DMKnoM5KE+wrfaIzeKC5f6xnLL8Oj0Q0rlPn9p1PNOAFIzf3jjdcGeMn+k7nHnY9yc6pWP\n",
       "9UO2FuiTfY8Uv+o5/wQqAKMO+zOhBMVP+FuddsXxm6jtnE/YZscB2zTvr7p6vYYSv4tPXknKxxsc\n",
       "6HqiEH1mAtpPKx6K62U/5AdMMfgsPjnYqqo7Mo9xd9GNSha8c2nhILMyEzz24mUg/VsWAkVoC33o\n",
       "DEvwIoVdkpS274Pofa0K9jMkF/mzpzdtYJyZMnFPkEnH/i9Drt4HXA2NIp8gh7tR2Jpirtt/tFT3\n",
       "EtjDWi4kklffyGgsLn0809VF/SlQy01CH87enP2HfIP53tClUafbYnqzQzRPM9WH5SW+ctjvPmQi\n",
       "I6n6IkLS66Dvu4wl2hwX6QMFBtunCxEiuMNx1gFMRBPFKbUk0M3LBuipghvvrE5T2Z9aJmAQi65z\n",
       "qGAAChkAAAJeQZsYSeEPJlMCCX/+tSqAAAADAAADAZ+TmO3AFvy7MLfWNHhK3yQjyCJybvQgOfMW\n",
       "JRPh1kf7uKyuJqZaArFdZTtHAA+6IPakhefMPL2yJMlRNCvC4wBXzV1+LwkNIeasjoCzJTTWpy8u\n",
       "b6L2TsixCM++MWQIG/OYl7CIr6oNkT7ugFgyAF9dTSpNAY0XMfHIegxJkDKIqCVbZg13ueSK2C6d\n",
       "UkWWBfIszW642ZFU4BJDcWeaMN63Qd9fPFE68297q+5Vv4l44V3s/l3J2XZsvdEXgPaP2wCZb+TV\n",
       "0zWWXNetDNnLJvtRtNEsJvnYFZ+/f7pBlFlwjAJ7Z933h9yMb5+NeKkpGsapqFES1TOp9qI7Zjp/\n",
       "pWOJIr6yMOz7DzW8Z8kgrj6igPOXvnEaEcngQD5NWUnUS/R4qkjnMbDPNpVIzstJ3EbppXnaD8J3\n",
       "lP7lWvqgGwQxzQO3OePK6LskSWQMnwJMkp4C/9xoYcpo2tVlAvDdXS4XBiKWuO5z3TSv4M5hGPEk\n",
       "CNamQobHdhyB5aE26VhoSA6VHkzpEQUem45751jSbeBGzXSMu4gOgu/eWdN32xO01U0K6aQeshcj\n",
       "VhNmpr8jgz38FaOui9AilfBNHJyMwZeLgQr/X6VkG1LQD2GTbNO54QR28MNYJTcxa3A/ZOcS1Izv\n",
       "lDerpihfvn2FjUEcR+FVmSfE2HUTjmmob4MTxiCbGtRJKPv5CXz8a5wdH69XOfbhkTkCM7d6Pp/i\n",
       "URtFCdGBw9JtCtu6YxE5RKuZVfL5J0aLIJBkyXCyvJkayTDMzQ776WzQAAdUAAABDUGfNkURPBD/\n",
       "AAADAAADAABzfcI625bdNSWzf6q/MUtH8RKzXcSGGtwWsiPddjTACWjs/CuG5mGIeNyhwhVhAqqc\n",
       "lC/tLk74ahW9rJFSeoA6xqi2j7W0zsbk1jIp9ic611+DmeN2PAjBet+Ky6D9H+/cBCuIOBbqRzIl\n",
       "n3Mklhdpvw7uzLWGxYTWDWICobt18vq/cPzQzrc2jCZwdrdTGTrOOJxkQ+JnszBwbMOWB/hVkbVN\n",
       "1zt/MMNY6fwH7nhi3S4xj8XXhYxcpTyQJaP2oyImgZgrNNLTCjUHwq6PWn9Ajzltzkfu2a6ebjze\n",
       "k6dwH3vD0G5VEjOWmfcvV37gjglOz6/qfNtEMaMAAIWBAAAAzQGfV2pD/wAAAwAAAwAA+wIlt7z3\n",
       "29n33ugGDvraB8fXA0bThp4DYVfBexrC0Jg9xheupK8aS5pDQuRAAJog3SgwMYmUBzyshMO7FFjc\n",
       "2+5OZpx8JYEGVoQgfAm8VAs66yZQIqFAUySd1JNBoyLqmVi2uNvEmOvVWYU8YsW8a00inYtn4S/U\n",
       "McbrG8OovCjbvV4ziEHupkwooFTR4u5k3gUNfoZ0fCqlLqunFo0Tjcxfp/l0WajFRkzuehGGMK2n\n",
       "7N0hCKOL2b9TExMAk4EAAAGCQZtZSahBaJlMCCX//rUqgAAAAwAAAwGfugs3AF6aThtS/G6O0f7j\n",
       "kkbrzQ8/XxHTFfmjwzsSDHu7PfglGgxZd4DHpamHBAZbcJKt54v3oq5ey0/gypzlBxdMrUBZs+6t\n",
       "EN6nYMLFY4hv2bkauMwDWF4m602Syh6fNqzANyWAupYseHGq8/cv5WnkThLDieuuvRtG9MOeDpal\n",
       "Ja/hN75h0hD4ru80JghKohNDp5QXADp1Uuju4Mu5zLpOFqAhHO+u+Jc32H7c1peoRtKIyN1VGfJQ\n",
       "zXjo8xFmBMxB/oCwabw1+PZjrPGocfXGd3c/9XilNraS6rvTJGPb8QCFO4j8NBMMQr07IyT7EuFs\n",
       "t23e7HQcwrvXkJc0M9QHoNy45Gb3YpLOQYMl9w3EQ0wK63f17N06r2W0/FK/Ye92njcGKg7nOucJ\n",
       "DtRvFdEciCBSZwhw35wU3rW0EmljYVq3+CZgzz6L9bRafZVwBSrBQkd6HOfxx6o3BryKcpAZ30/6\n",
       "J0AABTQAAAHVQZt6SeEKUmUwIJf//rUqgAAAAwAAAwHHiQ9v5OpHhqUiP6I74RdFeu526ELN1zh6\n",
       "1rNU7ymDsvXM/qDfXIVyjBlsgGdDc1dTUcFj0ejZ7BBdjB+A/zhuXuUqgaEm8dI8Jun4W7c+ps4C\n",
       "9sFPQdu6Y2luZRq3LoK/VpV+VDKSIATMQCzwDv2D797JNJ7sXMkFssHR74BOi7ZeZSuG2hMjACSV\n",
       "WrEmwCujVM0DKWMTPmMXjWkmtWstfinuGweUbC8N1ZIY9tkub7QCIN5uCiwUAnkImf2GAOJVMPTH\n",
       "JZSL/6C3ud0a/kBKUOB6muilzjj994a98t9uJJkmc4U3aaSA/rrhtmDhiy3DWkqH+Ha6Tg4AKpZB\n",
       "g8z7XmW27Fx2ksdCsZUlqLaodU2MakiScDAf8vDRaZ6Te3ep0jcjbItRBHcYzTWSBYEyqzwK4Wtv\n",
       "O5cfIr/kvm2dBQmFHjXhCZW9WGZInbxGvVbKQSlFpEJrBBPK7fYnWniQSM0W1hb2Vs/ppb7FgPHW\n",
       "dvE9f5pVK8df9ceKirzGAdDwkNXwwgLWC7qlEuLWJg6M57kXrEiQtWt+rNQwOQalf+DHBhBgdnLH\n",
       "v3QMpUKQmCtTcvOIHFefQpb4AAA7oQAAAZ5Bm5tJ4Q6JlMCCX/61KoAAAAMAAAMBnpJ17UDcARwO\n",
       "u13q5rhM86CPsQ6zsrAh3CWFYHyZyPyYKR8CToDcSXMCp1gRs4X4xd8Osi/FvEA6z5mhfm7sgj2Z\n",
       "5RpTc/h9h7ne0jiDIlRmShJ/y6cAvjKdIDYd8G6bG8EM5C+AXLfkgMHzGVoBjwQ5jZ8pdWSUOg2+\n",
       "CXcM5IlYG8lG0OpYJ+xFITC4xJSFcbBUmhxrjZHpcyubQVfcrlRga8preuIBK3Ym3vM2AMaTvuq/\n",
       "u9qfcS+yX7bjbnbB/lr4oBxvsln9VA/IQsHcpoH6TAlbwfuYuVYBrNzFjpb9AGv31YVWxFHF2KwZ\n",
       "qr1CGlT7bFzYg4t0VjMSaJIDyY738Mhv04pVAvyr7XydaM44+S1UhqVNkGxAh67zY0dbJeGSByJu\n",
       "qPiz7I4KGzftNic7klMmgBXGr+QIL9Criu90c5gFOK/1GTCOtJUTOR3n0yXx01yQJkqUX3AZs81k\n",
       "dh1Pi0lTu69/YW4MBBxsbz7bTWk3lQqKz25EOkdKL3faztuEOAAAH3AAAAK1QZu9SeEPJlMFETwS\n",
       "//61KoAAAAMAAAMBoHy3fgALFPDu3Ss39X8pjf0Z4ZZQM4bMVO40MTH1TG2JFCRAzKDeFY0uW5Pk\n",
       "4u+tOV1m0APjQeNN8IwyHtjAesu6khc6zYfbypdkZI8o8S+5z7mmMlDa7e9y2HsFFXe9aJD5733Q\n",
       "TdRPtGOTr4Kh2wO5beLtLWH2nGc9hdl0vNBOnxJKXeEAd5auHbd5Xg6Figs6thqIdieM2EmdXB9G\n",
       "Yvt5z7vbVGeECx6wd2U7BgaGegjmiarf/BJMCPjXl/KaC2j0MoqG11UODlzW6SnX+nVzoU2YfR8I\n",
       "oHtuIDA7+Kiup3db4SFJ+3z/UC8tiO0i45T2UKdlNqMRy6momy0s0TPOh3cz/volrrS3y12hhlOs\n",
       "31EYbzmfo1c00i23FpBpS+n+dH7Q4cez/8bz32W2qnEQvdsA6vqp59k/E9l0VeaAUe1pP2OsKwQO\n",
       "YNwGr05DWWL+8RWhBf9kyDrHZjuQJ8TjfDYc9k9HnzJx73aPl98bFstGg/CHHI01bnV8Tq6E0tWF\n",
       "8nz09v4aVt+AZtVGK/5xVR2weZnZry6GxN9vuxBP6h6OduS1ldcN33ogTu074Mjt/i3ZpIl94S7D\n",
       "WIPc/G4Q4oV6G9/x6ybLDyt5ZvdxnZFJ4l9D4HJAV+J9Ube0gECTsqKcxgPZuyFeCx01fnmt31Jy\n",
       "bpxpJx4w3458bADGrmV4zGkOqKEhQrwcUcDvxJncvgyKtEJ89F4d0jzeFpqoblwAZnJNRxVttNK4\n",
       "MmMUXh87+gxAiJsHluKI1mwmbe0zYzOyheZyeCFlxaP5kxiHwBy6BN7KFlkUJ/3T5PrtLl5YhfQ5\n",
       "3P0m2eBi7ZFZMMvEp7zN15c6IXugi3TpLDN4nmsmQzbN7h9mB9vHYCaqB99w36gzzr7gAAb1AAAA\n",
       "tQGf3GpD/wAAAwAAAwAA+xHgePmtiT0AmkQbXwSQ5UnyQRsgflc0ymO4B652xADcIfXrHOfzF9Ia\n",
       "Rv+hbBTnJYLYY/qmOvHTBPaAT4ga4TYs7wNNm1DFXDpmowz+D/CzZ1qErYZhS6/c3UnsuWimLZLb\n",
       "xpe1Ba9zDq5LP4iJ01DqsdeG4DCS/RX4rsUgVsIvJs1JI8VNnNmAMvgL1myUqhY49B890m7luX5U\n",
       "dNP8Sb94/EAAAb0AAAHLQZveSeEPJlMCCX/+tSqAAAADAAADAZ+6CzcARv9tMKyu4BBD9fj/VKzC\n",
       "DsfU49yX3qtzHboi3mHRJFRQjpLvdpNGcbHVFLJ0XOgnaSHOr/fCfqicPlbFLo0+kNTS6XyAzqwZ\n",
       "ZWAY1Dhp/rnQpw4lMyeOO9qyQWmJa8d8CzsNh/0aXnEzluvEJdf8/Q6wT2hNsKeIPcBhPXJxzBcZ\n",
       "iQOCF11SFmiEUIvPWtdYJ+BzSIhAoUubfwDZ/xJFWSXNktBtKaWVETttGkYW0iKSr4sI9NWcu/Nn\n",
       "zGV3vgzQlsBqGtBaK9Up94jWNXV2GyYtooEBIe3mhZ29eyeU1imttjyou404cl1v1mig+RN8Q2in\n",
       "Sz7JH7D8fiiR3ShZca9A10u9GLwamto3AA6uRMTLlUSuA7ci0YyFLxNGdOm/CSqJKHiQr5I3/uSq\n",
       "IXhddb7YRD+p7TtANoPW5taDYhPZqqeouywcvgADMB5dtmzLhp64EEig6ImAA2HA/TFmgVex+uB8\n",
       "mPRGZthnBFZsiCz/CazqRULZPywiFjtpaLOKD4ykpq0blUopCI3q2b53tCSZE0DzJOdf5bcYdYX2\n",
       "z+WxQFt2G+8/Gl+DlQ8AAAU0AAABykGb/0nhDyZTAgn//rUqgAAAAwAAAwGffb5TgAiGHd7/hlMj\n",
       "FBp58sIoZFYVcQPpDrVXWJX/ovS+ax0C502w/4OK2MrqitgRKXdtxTR8z45jtF2gd8NbZyw8KOnZ\n",
       "JTWrgW23ULsAVm55B4pKjYd4Fdls5zn73H3rmBGbDIlaQNaTs8yfvz4bdsWVzifT2vXtomfhCXfs\n",
       "VqSGIJi9igqbIHZL9ACtchgfP3W1eAqiySX0g+GV/q6v4i8FNaDb3uoyATIaoWLAu3MdZ1TV5J9c\n",
       "ZIZuDWWUx5cTDfeU++Px6pVPzXb7NLT4z4hiUMjFW/zEqNCeNX1iIZnuHtakcz/PzmIvmXKFWIkW\n",
       "qBA/6LqhaauixckcMjyFWMrgtWckRlTXlERvXDywLdqP8DjT+jNMlQpXb/qfOe/qn5x4u4d8GTbH\n",
       "3lCz5UsN+Z+E8UAbnre8KmqTgk0YfUy4GTAYd00/AdMLZl9BjtTIgfcpDvBImGSsFOdfCe2exAmL\n",
       "lYYRk9AFgtXOsrBiH2MlgtpKfEL6t5jhbtIh+lYErOXWq3ZALcnlDJoT0uv461MXJolBGLU1N2Od\n",
       "DnU0Xl0fSoFALAPlfhL1lFjlJvAAACXgAAACc0GaAUnhDyZTBRE8E//+tSqAAAADAAADAZ/O9PxA\n",
       "ESIJsCRrU/NkBYL4h4lRjCvlSi09x38HydJPKeDOWXXG9uG/2AD+ck9TYT8n3MmvaS5nKQ2XomER\n",
       "yJPg5KJwqJp9rIZs/Osrer12g82jhOpfq/Fy5+GUIsnIVEUb+SQGYzPywCSITUo2OxI/Kl1mPat7\n",
       "iRPQNLAL9f/X4r6LkM02N3E/fde86r5HY0VSYNZnJd9JduknSPnbnLA52PJK5TUj2uC6392eLPek\n",
       "HIUlDk0e5vglzCnaKeJp3m9gVWG2g9pyhxUzKCutipT6LFPfp4QU4l2/vntJGwYtmsL/1fHN5GnJ\n",
       "NQeYZmE/6eneyVTit8pP9EuUzk7P62oOoqebKxQqaOVlObJ9P0cXTaDD8PzVhyCRYXwGKEnpF8v6\n",
       "kwnLBK7GQY/EIrAW+D4xMxE9C4TBcSTjO4ji/ctWExuP6jT9xv1rRNZzPvinYJMp+8Ag8GPeJUaL\n",
       "nRbetgjZXkGNx326KXojben0uz/AiNLPAamR6LhSbolEjQTQgRrWzv394t02V30F1198r3QOc7+S\n",
       "s39G/M9j9ACnqQXz/LNdRbeLkDhuoA0tywWcdsEjvmRLeYZQjHC9Sb3LTH7oVwwtR2CLwj5+3Cr7\n",
       "aQUXyLiJnIaXOxY8cPuSUb3k3FIXMYu/HmBRp63HTdFd1sMvV2/J7kCgs+hkvtEKxVuOhbByEoGQ\n",
       "Och3eqjbb8Ke8HJ+icis8FhmGsdQfeY8HpuS3pUUWjs14oYya3Wqexf6KtwbOHgSM7I3u4nj64kt\n",
       "1HcmsFOAmbLyt0afBfjosghsUvo9m72YAAApoQAAAMYBniBqQ/8AAAMAAAMAAP3geEV9asJamBqB\n",
       "IpSx8bx6gSPj+5CnDFU97sAYALp5MNmLwfRpQ1ne7C+SbXzGv7rkxXyjRX8eMXvhRwWO9DfVdHXc\n",
       "9YIlsk6FDphYXzTasfTwVuaSSBy7ax1d+gTEL3pkwDHstzdcAzagmWyHVoV8zmxEd5Ol4LNgthv7\n",
       "svd4zoiivYTn1wgPA9qEzYPgk5jYrxbA+Z1fZSQTW7fQRbtYtoNx+dcyNuawsJZQFHRDUy87AAAD\n",
       "AakAAAKpQZojSeEPJlMFPBP//rUqgAAAAwAAAwGfzvScADaWA/qssZQr44uagNFSffbYrsUr1LVB\n",
       "UbsgJHiLNERji1KhxyknBC6+OqVYfmxWMPGQxzV5mhgSuS5Skd0jlUrAVvpVDixHNrvNIK2NExvl\n",
       "UYhwtUk5fohA/flfqQASSSvX2PagyEAqfb4JQSMndcEQdF6K0VSFVFKGzYJ8luDOtuWDJFVwyV/s\n",
       "DHzQC3yo6xBRKGRoh/InpGe6E8G/atH7so8SfIYqUXZTCHiVfvodM1R3NcxEtru1kRbwxdVvXW8R\n",
       "ZrWRZbFpgvKPzwduqN/qdHH+954LYGStOKJOyZD8FWCzpeX353Bc/5cUtWchRltLvV30P1DAbfU/\n",
       "knD6dBw8v/xW2boywfnP99lkXRL0mfeCBOD3W5buY4yCBs5vG2I6suu/nGzu3tHMLVFm0eLKlU2z\n",
       "hrHODItEozJ+9YeHl+beCGXlU1MUN8r4voZhnifi5BrI7X0+LPOK6/jj/Q3B+NaDyi1Z8nqzcnsU\n",
       "ZZ8+6EmOtbib0tNgsaVUapYwK9noRZ74WpaSBRebxGvBj3DlX23kOaU6ShtQul8xVlQY1+NXHO6J\n",
       "KPfw92tSB9Ny1AJEoDF51aK1vrQ9wuljeBo8kYthsQVRfQQIhhZOJdfYRBVggkqpyZeuOFaK7Stz\n",
       "4DmjKG6OGBkewAz7T+YiWXOysbc9Ww35YNfqLlRUW3bJe5TvzmJzmyPHIm86WjK/yjEHSa6jbDMA\n",
       "nsMpikcPPzVa2Xxk/JunOrIfkoyG8uRlMvRXT6rJ+VKN7IKRaBHDgpJAXjCS7UOuA5YakIMcvctb\n",
       "dw5i225nYUz5L5HT7yZNtMvsuKnoPgjI3zGxQrN8VceujiCJ94n44OlXWqt0cRY67aZwmLyRkyAA\n",
       "APuBAAAAzwGeQmpD/wAAAwAAAwAD99jIrwg6fGqAJWUEZ/rJGcaAFrruN8MYj/UFWlDI93Hy0R45\n",
       "tsRXAZSBwBB0rKRQZSf79jXAV8//KTDJU0910PImAHCF0kTjFjK7o2OMjcoWuuaeqXpFq9TozOF9\n",
       "dJRKnmgwdrGUK5UUAMGjP8s5XUup6gpri8d2qEzNXU66f9niatLO4IBpAWlFxjz2tid6TzB82ufm\n",
       "oZaywfl2glyBYqUeA6GwSO6H+h7qJxHxOTKeBI0ARkilKP0+a1jKAAANWAAAAsdBmkZJ4Q8mUwIJ\n",
       "f/61KoAAAAMAAAZ7Z5sAF7rSlRH3BOQDMGmwihiwR2CNgzxBfBeiX4S/1AOghYuirfIJZgirtZs4\n",
       "heZAfpZdKrBa32Y11IMSY4cDI5KzipHqQvNNIDINJDmNWRIkXlc6MvDSFgukxhkMu3sylQ2Mn074\n",
       "IJusLw79Sd7hMeyqx+s1mnvOdw1KHKnAe/iYJtV79WiP7tZIdpy74WPXCgbH0C0DgoeXG+bu34r7\n",
       "SUeNNn3ayQCfVqZi54JywAp1cCWZl+g9BMfiguuduzzxPNxBb8rhsQ+jLSKF3NaCCrvhi4KSMXzR\n",
       "iUH9Z/T1ilrdq0dZF9J9N8LSepWSwJRr5FLdFuvWySvzyjzrzXmUSYPO6VLRlnjC45iqRK672+0a\n",
       "bMzhUT/np5O6niKTW77PCzrRRqa4K2XkJCyg0CxribWxIFodwQhKrXlH2Iut/ZwucMNxXXxbxiUi\n",
       "14xKJQndFKjyJbKSHlFslzhIDdGL87svx/TcIAY5R/7cK19rYM283rDFkCh0naoWROeq0z7GF9Qz\n",
       "9Pf+5HMzni0rnPROodsB4vQqmZRUYjEd1AAjLjczKM40V8ozrNwnk4X/242vt68y1rEaADB0rmVf\n",
       "nGpdWgQ59HgnjcuflSkwoaTtBNTOIqhTBxowPfJqC/zNcSHSudeaEqYGwB1Fp3AGCb+U9FGYgrVZ\n",
       "OulhOso+w0IAl8hysJ7D59kMv0I19YGjeXDIsE51p13c4+AbscIZYoyKp8BnxcgTN6PEb3Aler+j\n",
       "yfvHx90TWMgIvppHPyikF8HbS+QO0YRCmCWwK5omAoBnH/J3CZEY+k7Msanhop3wVfyGjKMmw0xg\n",
       "PFvnDhMbqxA4CSM6szw7uEeiCtwdOa/ipm7iODVg71RDE+ebJBM/Fg6NOz/pFPhApW4Jz4y2xGYN\n",
       "42l+3WsLqjRjvZdhAAADAssAAAEbQZ5kRRE8EP8AAAMAAAMAB+7+6Xf5MAN1XvRGm2iCKYrbu4hh\n",
       "okz1RZjAZ2Lr5bLnYtGDyEVfs5UTX+1SiLXqjAKzZxip6po/B7o+dtB+3fU64JCIHwX0Bc1Man9k\n",
       "sqOzxJkA7VxbFIxuO7Nw7r1di2LwQUwRiIzMDzv8zhT3SFrZ8l3eW3Bi94Jm521vk4C3VhkB71Gc\n",
       "uEziEIkooTYesoZvWkiz+ImPeMQ76SjGaneIIHbY/hIIREkA1KmG/DVovfbV/1dd5+H5EPzZDsWx\n",
       "SNew3xgBbb5eRDEr74KHIj7ixjHxWBNvH2Dhc6y06UwfXT32E9TI9b7elPsW7D18Ug/XPMbfP2Ws\n",
       "F8AI093s+B1oMDlW0fFQAAAYsQAAAOsBnoVqQ/8AAAMAAAMAEdhGXoAON8F/niUX/KfnnzIHRul7\n",
       "bqqWNd1K+siERYiEPA2OjJRf26ZzRlnAoSy4/iEUwTuId0Oj1rYQMP4i8aC3dmwa6Jnyxe2PUJRP\n",
       "CZa8l+iUoS10z9fuaEiw+1lKxhc1tDsp+d/A6cVV92CNg/MAmxml3j8mliWuGK9BrzmYM6TXaeEA\n",
       "UTJoO606TrneJPVnYXeBhtMFSQCyG0fm712INDE0xAVlQhZno8V5SEUTPh5K8CUEz1CY2YitDdll\n",
       "S9d2j3kKAr1nTaRYGb47ntnt1aovzoquhS6AAAFTAAADBkGaiEmoQWiZTBTwS//+tSqAAAADAAAd\n",
       "KAs0ADs3HIY2nhktCUaDjWJmjYdowkrRZ6je1jvTbZoJ1JM/zBmcLsYh/eTWyFqBavkoh6RTOT01\n",
       "JKXB9eyTHJD3OHGIPffJuieAeGEXBTh+FP5LxdLDH/qgz6CGluo5S+6SqORcarclE46BC77y/2kC\n",
       "DzIgwb0yQLLDqGT7rUky/lMNt87ZDyMTmmsXmLg3v0W0/yjIAs2OuT0uVFEGZVPbxFG2n7fCYk5L\n",
       "fjEZ/8m/kwMPmZwcHcvTZNRKVTlgjKAcuTjJm7DdUahpN/F23rA58u8jpImDm6xi9N/q+UkvkFIg\n",
       "Yhm5I4E2oXWVcMLRSo0/WtJi7y6c2lnEemEr8viSh2CnEK2CWi2LlpuDDhA3dXw3qG03Ecl7xtou\n",
       "em6WjIAgwR+hnDSV/q6nskfXF6zOQFT/lcLGbUOqZB3M/ZnzTJp8OaC144qBjPQeLUlsb6IDELtE\n",
       "wWmihqRUURmbzihmfosG9+jdmDoLEeBbEwpTu4wCHaxCoBdnJvZgXbDW7RQ8ocmTKXLcf1U/sqq1\n",
       "5jToAstYJYK8PK4OhvHcMz8rV0b3eBdmKRiMhH0q027+2jPyNU9C/XWUYBXESHKL/HAzdAYfpKhv\n",
       "ZmsHPbNptrrn/EkrImJq5t1FqFmAWbAepu/sFazKKZBidww/NbWdZxWTZBEBvWoKwYq4CFexrfe1\n",
       "kmmi017s5v6xksh1u4f4tWmvXXHprgVJ2ow+vS7iju71im39shNajyGYTuDIegYf/dX1aizxWAS+\n",
       "xA7WC6v4nHf2dUKpQZTuyQTRifD6zd0PHppmM/x8gVlmA+n+uBudk2xCFX+GMG81+cukA47HXp4G\n",
       "4Ltg1hJkLKfFeWa/Qi+/wPpjeoHD6mFkVYDvIvzQiTinxVyV2ElaocIfUYm/vYmbVqQCeHaqDB6a\n",
       "uBbKn3fEtbEFhj7WdEiZVw3qj+awRLiYS1ZoIuB9jG1D/GVyZaJGdytw6Ycl5cXkpNOQJAE68mUV\n",
       "I0ZEjFJQAAAsoQAAARUBnqdqQ/8AAAMAAAMAUdH3VXu3QBHyISuoG9rH2o1878EmyHS+lLyu+MIb\n",
       "4RUu4jhObI+3wsx9nZDo47PA7V+xexoyjIUf+KDvzBAdcBBTbD5VQWiOEhm5yPVpz6dlHBPCoZu6\n",
       "s7iclrPsOZVLZMJ8ZsHVMTnxu5cyf+9KJb7pxhWnnGHYJGuOqKC75vie6rPI5dNVhpDsrHixGk2S\n",
       "mUWGIFx6Liy9V1663oOIdWBhwYKMTslRzWd/x/hWDY9igj0Ce2amem2kFwaEF4sdYLiExhC7Djg2\n",
       "yMIIuTE1GIl+oSvjDCZc+4RUWwYjtm19+guOwxmvqvhsffESMB6EVxrfECDZolHC7nDqemwEfC1V\n",
       "qYwAAAWUAAACyUGaqknhClJlMFLBL/61KoAAAAMAAB0j+w4AIdQmJI9rqw2SoeNFx5jvqxxMTSHK\n",
       "xekmBy+1725EXfsoa9CbMuQtoHQ+GPiC4M/7mrLgZEOLG1Bj1Uqp1vb5cbBPJCK3x/2WFk92CW6+\n",
       "Ly05LMUm9Pnq7XifjFdZO8DPaiqNblOVMBfwA50oPXeHLsKIwzSMnCtzcGN/G3DCg3gVzMeEnfZs\n",
       "gJu0zI/+bOT9YLOJ5L+SaUciESvpiXsP5Ic1jQRRt6a2sByv/v2r0WIVyd8asP0KqO0Q+TAqbiVo\n",
       "44L9uxNipz/YJY2LMyuyVo78+ag1o0T3cfsg2wmVxAQxz/VTHvZSTwoXTneOi5N+LVjoqfCFOISV\n",
       "4Lt4oGL5P4y7mbpr+We7AKnWh2cwmfCBxf9ijs5gWcPqrPRQNVTqd0OmaDl1lP2IbQFX8JpUg/6S\n",
       "AgR0E5ZL69LOj+DFjVMaN8rA7q67jKinm1hwJ5u7edB3BTXjzutDh1wB89t/jztO7Jh9D5gWf5D8\n",
       "cvQmZgjLQUwoA/AxneOFo12ZPIwN9C6H5rRIiyoXEppTpw4ymeqhtp26YJKgxe4vtnnVw6oLxeFn\n",
       "mRhkWKDtlwkHbxpAYAlYEx875hcYRXLBnKq57j3WpA+U9OIwKFpOxTX9JkWzIBdLx3Uvi7SZmm5E\n",
       "DEXeRds/9dcL5EGiW+zrsRKcrfFFqafhreYbqPzyMzTWuVg1tYNbHFOq/xpZ6KygGzIClmgLqMAL\n",
       "ySeTUMIw7KtG8rv057/BuvcTbkP8XesbBNjRUEHk67fQ/gA55phiaaM56DPL9hiynWBl2uIIR2EP\n",
       "vZSBIusO8N7fXakc/Ua8wvgoJqx+4mD+3BtKm4/x8QxgxVvWDdU4jMQfmBDA/FfKXVLE7T09guzY\n",
       "nQtsL4y4gTVGeb+g3z0LUpHHmBlBJEEdjMjjPiTm17Arp4gAAAlYAAAA5wGeyWpD/wAAAwAAAwBR\n",
       "pkJ/6lrABNWIRlBaSf54Lg/vX4+//VSVA9p2gLo8EHoGfJhN6xZFXKQSXXaS3cuaZk5okS+IrPy/\n",
       "JRwNcpIH3Zk0PWVK/mLUrXcmDF7p/Rs+T9VWVZcyVTmjW+d1f/fB5QOZHmIKKbOsxjZeoX7R/pNg\n",
       "+nTFUeiWeYMYCENroIDvgJLdXOXRpOmfWntfX4vwUF4WxM6L50cBKIavg4JsXaC9S5FNJeGrF3jb\n",
       "iGQDujEeZxccdiiKUvn+JFuPnpuD6Jng/f3Mv7AMHFyiz3ktxqRf3NMAAAMCXwAAAkBBmstJ4Q6J\n",
       "lMCCX/61KoAAAAMAAIAbHzXba7RQAFSYr43XYBFJNTiFITvwdBxmR+g7awMxBYA9Jusu5OY6bwgC\n",
       "p0ZHgean1RETOgYXQrAIei1cQlvgbrPL7dtwh0M2eYOqbJweA50zzz205591iHzzgE4S/iNz4kvK\n",
       "yFGJTw5SUuFkO3zpjhdas4aPVAdkj7/4Lu6x0QliZXFpevOJphqjCClv1Py/YRd4Rstk6T5U2Roi\n",
       "I06h7u1+SCreVBuGhRlk05UPQmGyyEkzPMIanjrkKKuZH7tCaR4qNiAeqeyKBD9qYhGarwIikX87\n",
       "hEDAYZu9Ikj2WUeYsBB+ah0GtatNLRq+08wvw5+R6TmR5xjG0i533b42c/0TPX30SzrbxgMyG+SJ\n",
       "i6Ic2U5mhy39b2KXeA2b1OKN2MRAkMrJSOk0WMCYpA9cX2h4hOcGrF+dFMjlCenMRn2bM2Mmvitu\n",
       "BSY2L0hUXdxvn0NcRfMGh9uR9JqjFsJyptCvwJzQAUENN1Z/PPHsm16hmnTD7MkMDf0pIBx5OIb5\n",
       "cNdW4XcSa6TEpSuvnRbycKjtcieD8yy444DRZ/lca5C2fMtU3EHnZlWUfFu+gxkcFnHOEx/9hsPj\n",
       "dsj57i77CCIuRPn03moyDyGl3PRn5MXwhaP18YWIC5l6bU+mL95/1VCpP+UmwgNiuCwLqEDJ7Dfx\n",
       "5Emn3iKOOag/ehSwxc6+kEvH9AzS6fC39MEq+vRPcAzKbHUQL5hfkB9Wj+t6RCA92gvqsAAAI2AA\n",
       "AAILQZrsSeEPJlMCCX/+tSqAAAADAACE0q7ATqAxyzX9YbVSWiaWT2xxhEcfak0YqOwWeRFvufn1\n",
       "vIJf2ftiUlwd3uH7SAiTOrqnwCkBdwORbXTM/WE4FEChfzudifVTRhVnnTAR0atXKO8+mWxfvMuN\n",
       "ohyVUrlcbTUjYEcvRuPOTZgM+mMluEbH+dP/nJD7zLu1SA8XkDKeENVOLjdDYAolUS1nu+GmNf8I\n",
       "r4knu3VFuMaQXjp6/uAOF3YHke8SMsroxHUUG1G5vMG27Y8n12rIKE6rBp4UH4dIuPEK79ZAQj7B\n",
       "P+rn4r7d/fX3A0xrF+E/6QEy246ZdRrAGAyEdpofEd8EuRf1sPDR4KZVe9aTgACarIwpWfs3g1ow\n",
       "pAIItc/UXbPbPreiIb6C8aMOhs9+K665He6jgnoJZkKlOZn+u+xBM74lG6c1dMGjYVrdxibYH1Gw\n",
       "Wv7YiScKJV6p/kXD5q9xnCisWryqybJ+vwWksng1NC0gS716vI7Xgk/qHxuE+fQnwjeinGcXLKaM\n",
       "ltItw5YvEAsjRyxC8K+CX3QQcQgdiBbn0gkWIEWqGUhUdU9ek9Atg89mgoLIfVbjkfuihvpC80GG\n",
       "GkM3y0Nb5wr3sB1r1ip7UP1doJ2iHFtBIoyAZngsjBn92VhAcvmisW2f+MSXrRcJzfkI+d3B3yZM\n",
       "pVU5qYJrSNgAAAMDFgAAAf5Bmw1J4Q8mUwIJ//61KoAAAAMAAITig3U4Av+Wx1lJDQTVBhFFKwhM\n",
       "ASM9bFbUFtVnpR/QXgMYaP642zHl4ssmAW6TsJqQaXy3B7UdoLQT38AVa7/C6ZnnSJn2YTvshWl5\n",
       "hMH7M4bLdo8RuG/iK8Ds+t8bO9L+U2+IearkwQJ6mRzB75q1ov5mUcaVB215vQE1hl3a4gvgKybN\n",
       "XOtxb4dYGL6fWHf7hbVOEJZly8DXY3BKTGv0bveGwdqR/8RyND1aAKZErjdi4LEkVv0Xxpy/oOa8\n",
       "1SjvMq1lrqUW7nxgMx8ZkrMybGL+bv8YKVfuccbHs3wotMkqiBeHGn+fADLlb0J6ikGI2OdsGy0S\n",
       "Ampzao8hOaKidg2PmomIOmuq0UWAR6E6M9obQYL8N4fMX6jmZBIbIc/1+s+6vY9r/PnCiMWOrFoH\n",
       "DYU1qVelCqYQ68qCMGN0CLAxJU2poUL3mp8VPWWmK6+t3kYahdM3PAWNhzbON12SOqNl47VK9put\n",
       "JizktTveOcRZLjejzZtwwQUZute/kKzBLOZBRL8leMX6FNM63L8A0PoVzK57eYEmxJ8xRZ4N9/Po\n",
       "htimInpxTpHSHcaIotpBuNKWZpuANJ4F0wxYWINoBPRW8fEbo62PkRcmvq3wzBBEpKJzwRj9Nl10\n",
       "LRPzKhBIScWQgAAADKkAAAISQZsuSeEPJlMCCn/+1oywAAADAACYJOj/CK7cgA2rfg0nrwnlNkdS\n",
       "RB9V0XkN/K5d0h4guDaNL2/rJXbGylM90zItcHHt2q+FEEs2dOwuoPBuxFxEIbeE2aYE8OOQqzCe\n",
       "2d38aFoY8Hy0f7vQjUhXvGJM3Lh45KA4u9aUVOn5AAElehfkmFqLpcPi6BZ327DvSf/kAKWPYPTZ\n",
       "8P7+yuUA4lR2WFyBDFe1fpdEwyo2RUtIT+tyx4aTc3tRuNwe9rFhXazMNdd9Y15J+ZuCrXO2GmtI\n",
       "JjsgfVA4P9DMiH/xZAypuvX5Re5qvYdNM7FH1GWKIrjYGjhqR1Le+5nRC8yde6Ma1FGXIRG1ln1x\n",
       "KKSRY2V7Dm2Xmaoinlw8F3Kg+5HMHNUm0TavIBR6PnhMIF01RJs+Zq1Fzjd81KKhjKTYv3TGEyaV\n",
       "9JM0NcaT9ZhyypE1XcVe99+lnJL63v5BYAE+LXi1BoTIX7gb0oD23xsAjZuZHwcTGDMAKVmgdvtN\n",
       "sNwad93Ms7/bNyTBYRpmsG8BcCzpJkL+J81vOIDhR28yB4b9hjd0Kabyv5D0xp7vHDUCbRrwgtul\n",
       "dEtEvswTAE49blNAnDtTKMMKjM+sQXHs4G7nb9J8jCczD/G5W5sm/qMdkJqN7wSuugCAXMzidH6P\n",
       "vzSjtCZahzUwegCcdJwQtC9fDEnwS+7M7Bd3c0y/gAAAMWEAAAMhQZtSSeEPJlMCCf/+tSqAAABg\n",
       "No+AKBW6lEtFkTDE7dJg25IMOtLU+RCMJMYNO0Pz8fKzfb5HFYfnNd5OFHT0T37LKfebWm8NTeL3\n",
       "o/IrGJ0fjxMI1T/T6K85Ghdw4D+MLYOLdh6nDEyBZn5WQNgJ6koCuV9FxizCNerBkKVuH1B2Kwga\n",
       "V3XOSawzVpUo5PfYbZtaqYdks8+7A04uH40CilcJ4UFtEZGnVYk5cwaduYoRP6VWHJbbw+OKp3a2\n",
       "RkUKcF0gjIoP5RkcpUzkD3l6kM4vUjm0r49gaSXv2bp+gQPjWIb6VKTNHpLsx8+cdJJ8vDCvOCm2\n",
       "fOXAkPOnvxqeq1x6GoQS0v3C9fFAB4yKBRHz9ha9HiJcWQ/hQYb/Z8eC4sjkDqXCxVHVp03vcyKI\n",
       "baLIwZwi2fdm3eO6sx1rBLHoC3j7v8PbELdO6A9P43YZaduLM4wYlf4CSWkWIVhu6cHGmXXnxKGB\n",
       "wdhWV2jhhcF33/DEfGv00JriOhe6NOakPs6I5n918LjrHokSINqSmd+4cvpKuUM14EEd6Ih7qj2M\n",
       "JONVPkSjXVz0UzXXhGzd6eKSiKEIaimarYb/+vEVDUeFYiaUEXJFHj2J0NnGYRoMaGRQhXKje8S6\n",
       "2TsYV8w4KVb9J4PDbZTUd+udDTuxcuZf31giTEZ4xwjqKF1wdyUpZBbyrq9cpyThr1wZ0Ru+qn57\n",
       "HExQf95oayImOMmvNpzGJ9Lo2IvIkCoYU2z97v6+9m3jio7SkPq9QlfddB1O0e+KS0CJlqPyzi/8\n",
       "qjSNSjw+ZjRJtIA8eiiMSbSUIDWW7BSL084bbs0OKTH1bWhixZfA4xVeLM7SMTlCeBnDmavtKSbA\n",
       "9VjB/dtnc5pSgegNTsoazv8v40ZZRyTTezhb28I6dMjQKvDl+1jlLbjt1H2qGSjf2f/VIX6Ud/Je\n",
       "bwzSaq5mXIwUAJ2qjLVcF8T+6eOH6YXDPNSzpMtrfI/Z8usuLC0oRVMxBi0bZIJ84LtBw+YnFF++\n",
       "u0bKYelk7f+AABw1YbVsflR1JPOHHvq2rwOUgqPB7l2BfwCfqAAAAwLLAAABYkGfcEURPBD/AAAD\n",
       "AAANLf1jVvdDjDZuQu8MAD2m8W2KKI8kGuI0956kL/sdtFLgaGBGYMJSPRy8/BSaG67EYQRclTRB\n",
       "G4Vs4uQ1W/xKBTc3G9rsYfzCxTo7xKcWSV6MVE26nyIxiSbyZbXn+YaTGA+RMj3ldQXdIIPPMlZJ\n",
       "2Opf2n2TxRnBGitou6+u1GHDUl+qPcJDiQp/sSbvAFrBf6XywgRZFMX9DEyMh49rufkWOAfoICml\n",
       "/lj/RIGlt7j0Ap7FtoM7jrFmu9CeAa01np9xptHiJ8Wcc1McKCGBA2GItw8p1r29eLWpJUAM09Ge\n",
       "r10IV6unw0usoYzFOQ1BOvBletCSU4KJ6S2Y79lVTztweihAujkEzDaPPG6yn6l3KCNTaxL/TM1h\n",
       "l0o+6QL8/OSlqAi4SIGlhwEH7xZ0c8d6AMoBs6n1DEPYjsObFsA+C9e3NS6PlPDCe1OGTgAAAwBg\n",
       "wAAAAL0Bn490Q/8AAAMAAAZa9oe1gCz62Pl4kCy2ACY1MYpEbLKZrnAcd+wfREuMK8ruWfIkkV/A\n",
       "/9+VwGGp0XHWaAv+3S41GtVd6RPBt9QWBsyO1Sl0CmHXEXXmzNJU2QDeGBof/UL+71nIfqa7nRcO\n",
       "nnxgWuSyxUodX+7CTZHORx0FMhsmbk6oiRVFnW4g1ISOCy0AEy4RBfVv3nEq13fGQiyBw3PUhUap\n",
       "QYxuJrch/ceZpwUpZiJgRSBwgAAAW0AAAACtAZ+RakP/AAADAAAdAL6nfQBB7VSTjbZ0XaEvJNd2\n",
       "QQy1h31EqD0gkh7H4Yv5VYzPqpB8CcPjJ7N9D01Z+P3JkFyqi7RInxWGHWQp+ykFXHsTFDVB7wx+\n",
       "4SiPR29tGALRGSWEaTPWaNuSgNnQ+pQRS0YVJYgRAXiDFSqSOkD9xr6yQ47xR+KLGqjz7SzOT986\n",
       "2iilUxh6eirIWl0c8YdfrBAjI5cqeWcB4AAABjUAAAKHQZuWSahBaJlMCCf//rUqgAAAAwAKoK/W\n",
       "E4Av+87woKBjtsorAruapEiG9bJGfWK9XITCbnmMnYH9/XcplnJu8NH+Kyf2WBPhVEdSCMeDiAod\n",
       "wUWZJkanucPWaJHoLnO1SAJg3qPCwH+nOfYun5QGPb98++nsJ/M5bZ32sIL5K+SRcJD54fP6wCmX\n",
       "VTxGdrDIoU0PhqQTuM/kBl9uYnsMemsz85Ts+xGmzGwkkzAk5UCY8LPvHarKuQxYz/wtRmJhH3sq\n",
       "PkIUhzsH3J4qwz9Sn6dQ4NHhv6q7nmZUn3Fks3LiZwqUT7UKNB8ywwCwF/AxSa5s4TC+37dEKE1T\n",
       "NoZweoTzP8fcioiMmpbgYDFDtlvqC2IIMIr1gAtzwGPaN62rcS301VpGD6P8EiHxVk48EIe53IhW\n",
       "jORGz/uIlkPsTk4VBkq/U3jwtWx/3DQ8shnDu1T27dU4kCSbjkD6HYPgRdn6p1hPv4NL9A+m9fsT\n",
       "LM82EZx6aZMperCSzXhUiBNmWIzCAAvi3Zy258s8oxhUfQd8qvAmB05G6TqZbLafbTLX03wzXIZ2\n",
       "852/6xB0h3SfJOGCYgAguFxCL77vduYlAlDwxaRitj8AGXerbhwNcnasYA8BlngX4QsmNEWjdE7R\n",
       "v2o2dKNvdyM4kCQjBe+k+KDKeK6+Thf7HX6E6I326F7/9daCKcM6a0c5Gmn+04muiKDwh/SpAsOu\n",
       "NJvZHaoP306Og5+HNkLjG3HryNmBXLsiKN3l+TuHtyHUGnYSb/mgWOIIxxjJRsGWP2rdwMGw5+eG\n",
       "Z/tEQZ223f/AO9plbBCdqBjSQ8l+wzgzDhYXMOt3/devPdrLeSxmkd9Dzltf9OnjgAAAIeAAAAE9\n",
       "QZ+0RREsEP8AAAMAAA0qQkRmy85UAAASPTmLnOkaxEgmyB/DBaEg952zwvfZr1PtC74eI2VgD+MC\n",
       "fj6mvRvZFK3GIkOKyHW1cgHA5PpY1a9OlM5H9cPB21UjHn9Jcm5eAOWjbbyVEbjvH/5tM1Vf8j0d\n",
       "cJewc2mKJ2GtJdngvzRJaXX0LB8n8OLqwSNA557Jwjpo7o5+f7NSff4FzjeYPdZecH+n+mZFrhRo\n",
       "peggvP4a2VWahRpDnn+C5MHlHANJQ9r4cZcyf3V+FY7qOfbLUDBbsXfCmTHtGXWdvZYh1wz4+PBH\n",
       "SBtHFxVwAyaR6snmVrxw8Iqcua/vPro0UWITiWntODIAiWt1/q1GGYvfIjNFVlmF1tgZVMItVovH\n",
       "OAuLIU77LhQOsgFzzfnlh4zRDIu+npQ/YlUAAAMAHBAAAADEAZ/TdEP/AAADAAAcoiAL3OvAF/uy\n",
       "j6wmRbOBXoPRwLGFlpy0vEyfJ5JyzwuEy7fCYEGKJkXXkTLHCAXwwDTJ6OcScVintFFCtjkBMQlE\n",
       "/2ovedD/JgIEAvd5HYXzLJUHYhytU4Bpy1g8sQlXX81ZLKnNutEv3SihuLDg2JMNnJ70MfNYYcEV\n",
       "Y+S8KeGXrBOK4ttqdgZu89MM9r1eHVxWU7dXRZmUEvBbTvjBGF+uxUbRa4vgR/it58YXjzHBMAAA\n",
       "AwCTgQAAAHoBn9VqQ/8AAAMAABz4/o6i7i3mtBJjyKYKNKHBlyvH9J0AFe87XpFV9jTZyFQ1k2dR\n",
       "Q4w5lDd4DAdOkMD1W3MQDNMXdbXbel5aWz9VOTerRqO9vuDbz5x+zGwkDQhk9mPzAg0JVxbYVVGt\n",
       "9rs87Pv4EGLAIAAAAwDjgAAAAdJBm9pJqEFsmUwIJ//+tSqAAAADAAqg7xVylMY3GDneiuigAnB3\n",
       "oYFk5ICrsdLuby6oOCJoBgTfO0kCE01vSDM3EXgTEUVsF/tFXeUQMzs8U7jIKe0EMaXkybw8F40W\n",
       "0dsOuE3f+MIl4k4m6C18NtH+iEyCcz7/NH5daFuS8qVxKld93DXmDCY1+NSwb0GdGdSFA9gf/t52\n",
       "8QKP/Utmzegnio/qHlsOtbjGWxeyZit+cBrt6bXkYtdw7fKF9UUck0LHR2Xzboazpku0xItquvcp\n",
       "CDDRBsIqYau+gxBjlWIkZT/CwscI9MvwtlZVX93QMo4MwcR4rtUoI6Yz+S6iGcpK/8J58sARSG0J\n",
       "5Q0whmMaptdsHHIfOOAMJiMKCiIgx2sZ0V37OOLkAsknE2b9/xtg1vn3CNUf5APJ+LM2waWhmB8l\n",
       "c01jN0yfRhi0hIpGJKtVmLIrjhw7XsgzGbkX26Rh7B08aAg4mSdCZUooJF3qa2fhlmW1jHUG1LlP\n",
       "MNMVb0Qq6ysWr8mX771K4Awgv/OSv9V626VZXCxplNhM8aRmqKLMeXV4IJSEMOluDKwbin6R/pbU\n",
       "7kMa7OoMaHwPvDWkwKX4p49tWrIyteilc8AAAAZVAAAAz0Gf+EUVLBD/AAADAAANIfASOLY44AAF\n",
       "wvq/f5kwalfAcCRyJWZoiQXzI9iVfXfQAwqGKJ93io9qn+LI14vGUkA0yIChXMylPl7ka+3tbWiC\n",
       "jgGk9T6JWve4Zym4AbgNfWwC6oZdUL7YAkj561wMNHyUmbJBFaEV7YaDd2ixbAK9dAasN3V2hc2o\n",
       "Z0/V7igCQG1996u0wn3f1iX/ajFo0Xrpl49XBwRpuFWHH9MlOYCs5VKwvuvdDQXGstojvSLWQesR\n",
       "N+ywvjIkDYAAAAMBrQAAALIBnhd0Q/8AAAMAABz67Y9NzUJZJ4J1oAP4fNBD3EWL1v+z+/pZo0NS\n",
       "jaM9jEQnsvN+nwImINiAkrn2mxlP43y7ulgPR9iuPz7HxIs9jGBMBwpK9EWhzB8xn5T5ZyuWyTbo\n",
       "I/K6yMZ5kQ6lSaxvsyZ82UiKVKjRs9R0uVgDqk7A6lHUz4pHyCVGaHdjCKRYIYLggc8bpMrxy5U1\n",
       "V+oo9Shuh4d9uWPMcweygVbuAAADAAi4AAAAlgGeGWpD/wAAAwAAHKm7na7WvNO4daAD8wCFGYHg\n",
       "uClF7tNnXHxP/kDtyvYiE9l5xADA6kLYfQ3s0M4WEMMf+vFaC6SDizTd8I1ZOifiFuNPRGr9EFUB\n",
       "403bfRqYtgVXzNDHnFrrvlI7g7ze9JaTnt91QVPNmcXCfA98dYBmPVOzeLAPAJ+kr7EuMpUSBdwe\n",
       "ZaAAAAMBqQAAAf9Bmh1JqEFsmUwIJf/+tSqAAAADAAqf4x48gB8ndFuq0uI7UQFUoNIA+Al5CTh1\n",
       "EqFEbKXyjqH7cMHPxc/BVdxVC2zIn5ufH87YJJcFLOsWjq5ydoemdYvLjhsNqqm4XkDHpjQ6K/jD\n",
       "a5buhi7St0UpN/RU5VcRQrXDSaCPvX+GR32cETMxUTTqrk33y/WsSiYME7nEDsmRJLTHRTlZ8lvv\n",
       "FqZSMUsbkYQ3nzMCaAO7F5CW72rCGFsjZnyWGhlqvLx2NBq1LYX3bU+T04joQwjYAlMnDfocptGw\n",
       "ui1j4LO+MrklVUPxNi+0rfiD2xvD0sX/Jp2zHsQXatR5hGGjgdjMvFo4+6HIKWAGkM6WgzgGP9Mf\n",
       "zZrm/j4plaYr8TudeVMW8zDgBOWLPSP0p4AebvISIPQqWJ0+CwCfxJTaoXMB8IPVDqv8lF4Nnb75\n",
       "lRzqhoF0dTrIiqHsMM6Mqztmn+Q2MsC8B2HXG5014ya4pHGh+w4wxC9u9ln72CefnfAUM7OZbNDe\n",
       "GZBSOGk3NUOLA6EmNyQnSRiB0RfttYptN3zzDgzP0QvAuNJKIVo7zFpWCQ6lefKp5gcdbxOi5qxj\n",
       "3OnqWtg+Z0KyOBfZf7IKD83E7E0IDmwgOy4wKf9mX9Pn+hyYZ+UamZlvaEznOSncRxXb4VYZLUeZ\n",
       "iQiwAAADAAd0AAAA0UGeO0UVLBD/AAADAAANKjOFSiopCQAAJvcPi02Cssbd+LgTW3Kz9nqvBw+x\n",
       "EQ3PMAh7mRu0IDX4CuFDvSrtsh1Jv7Slp2NErL/FClornVEc0hWhnspSabZwIFrfD9QuY7/pqnEW\n",
       "XSvSeRgL3pcr3xSD2UBDGEcmdZ4hPh+VYj/ai0Y+PQ5cTJrUbny3irlzW0vENMwIhy73FZLBt/p9\n",
       "bb5cVq2zt6OEOHfgxsSKaheg67uzlOaOFwm4v8W0GnyL8sYGSXvsBQit/UeAAAADAELBAAAAgQGe\n",
       "XGpD/wAAAwAAHKoyKLrrLQAf0UTeibmLk0fb9gf2KkkKHY6eybzfBCq6fSMtRnMJgDo5s2fjmwfC\n",
       "L5Ebth3DD97644sKpQWhhblcEkoxfKg6FRgU5eLyEtRYdJdFqFMWYPqv4f+swbcTg+7MjqKeLQR6\n",
       "fa9CC0ndegAAAwAFfQAAAadBml9JqEFsmUwUTBL//rUqgAAAAwAKoViaO5cPHtRLoEYElQoACEWJ\n",
       "DW+c8cqYVe+ozJPfLA6uN/GMOLjZr01/4IdnJSXZ63dkNaUHkToms6XgkoRHMxJy2zDt3xUapeRA\n",
       "EC5wxls1WFKaYHZTcHPg/mJtOWyvLqjeeac5FK9blLNUUy2R932ETf40bCzzBNKfu/+k8qSd+Pl0\n",
       "5DH2IluPt6x+fHN/z1H3Z6fscVyM2iSWUhCbUsHPk1qh51evpnPMW8pnFx6LsyWIY14DxBdM7UKq\n",
       "hWNytCSDrStuPp0ZjNO97WFq9gMleKp27WeX7r55D/VhkdHHj3o4YOsIfPJNHOLqK5o5DGTbsxFe\n",
       "lOHCJp5nf2JvDeg8trXnhwzTHFKb7lakIPezejnCMyyJJplk01XE6iOERD2WPUn13ImwxfBMF3nM\n",
       "/BjukWIvX/Cyc6qQjRGLZYHk+xZ15AfKOH0M9PNvnwQJXhGGdsuEfDvcJODA/M634yXk7LM0WPIf\n",
       "z2lE5Vnqw+RPOcCb0KcnWB3ILLd1JpufjbPBJVQHTPivE4EAAAMABtwAAACaAZ5+akP/AAADAAAc\n",
       "/CA5XwGDmwAli+6o+A/y9/x7Uo3p4KP6ld8QweAKou3Hu9EoCOa78wyTPVmOaLoY2OPDinISM9hJ\n",
       "QWPxxF0yok7CSlkzgLToUwy6nu1bk2VH0jmf6z4Dezo+GectJ8gCtdlPgDCApxqEAbxRe8v3IQxe\n",
       "BK0LxB3v8fEAdxxG6TM+fslBfXrFOAAAAwANSAAAAbJBmmFJ4QpSZTBSwS/+tSqAAAADAApbvgF8\n",
       "bOX4AECme2SURRqbbvMuL8SGh0GoDC3O6NkZkfsX/X2OerNlxnfUOwSldx3pb/rU/g9D7XOX30Mn\n",
       "7fYEtUizgGwNEFzWVW6L7c9ZbidlY7pBZg9DfVdixh9mzdemHpv9cR+36zeBdOAgWALWYag+K1hc\n",
       "Ane6z5hza0wUUloH2rY2Ue1wKVQ125tm0HoKfwy1nPcnYsc48quup6Pu3wr7GyL6kncxNoUwS7MR\n",
       "MTCq3DJUTg/RIWrWFZfkVtEvVpJXpDvWlGh2eThw/K3hMKidViy0rtzuYu1GXQGK06aaht1ybC1Y\n",
       "0hWXFENyeZAtMbKuOOAfc96XMH7XYi+4FLe7K91o2sZ3iPIVfqwzpNtvrk6/XLm8so92BpZYQUZg\n",
       "6jR7swLcjhrMYIrfZzd0BEjz9fkbk6W+SU1GlQ9NkPi1plD1w8GcqNnyLWOKyIje8qHo5M03GHj3\n",
       "NwXzUZ5QjpgPSEoIWj0cXJViYJG42w+mzvnVHxsCueJsgMLKFkBkGThnd39aU5nJxoyNIKkU1L5y\n",
       "k39TQAAAAwANaQAAAKcBnoBqQ/8AAAMAABw0rHeP12AC6UDltfYIfcFnAE0FNBPdJlXspLc681xn\n",
       "GKUY0uvdadDDVEQ+k4nvPzA8+PbFbF5mLzeVJNa7vedrMlu7nYbkAOMWbJSRIfUeG+2E6WgA3xJ8\n",
       "2nQHJrY5W329lbOu3fegtUSq0GJHOT6kW26TZcrdAsCLmHPPZPx6hnzIZUU88ZngMhhmNw/9hcak\n",
       "3h+QoAAAAwAGjAAAAXZBmoNJ4Q6JlMFEwS/+tSqAAAADAApdPwHpMLtwB8TYUsgl/awlkbE5GbiJ\n",
       "Eo0iV3SM3a+GJKENIkmO6dTYqr9PLLwQu3v7CyHHein6e631NkrFU7dGwWdmTPsEEfY9+QwtRm1K\n",
       "s5R47v55F2EWwyYDc6LE3YyW/DIBRr/LBPmfB8xA6RbcmZblL4rnuvo/pmmXXfc1fiusNDrE110f\n",
       "ryoZjkQ/CKJp3c8RNETIfKibqMMK0op3GpKiiTammg7gCMyWksAq8EhT+N+Q9mvAvJkQSBQXs9b9\n",
       "djhLi7wj0E2bwzjAtwDMAri+9PF/nLRRonYc5S1niDRvOOuaABjsOYQ9vXjRyVPfAg9Au5UyC2fN\n",
       "bh/HZIJy2JNMtrxEreyuzaymnSMOEFn+stDhK6SrDEhwqA8Vbkc8IID46VWYIIrOf35vQSzQt6dC\n",
       "I0coxuu6xBRGxX5I0YSLMSKgazMll67M3FBiiCPC5OeJVqxxgqQz4AAAAwAKmQAAAJ8BnqJqQ/8A\n",
       "AAMAABxF2ZBn3ABxftyNZEuO4ew1uWIYsbebL53ytGNBslRE2PaeSKB0+G3VHXCz3MBIFWB1FDwO\n",
       "546oe6OOEyn7kRdEKe3S3FmxdSFf7sit6T2iEi3cSNHcXwu+q4pcuASn+aVnMSRA5aS46+KZyXFw\n",
       "kQD/HYrhMHSXJbUzw6MY/giDZzz1VhEs1yiOa/80ZYAAAAMAFJAAAAF7QZqmSeEPJlMCH//+qZYA\n",
       "AAMAAFCQC4IoDp9FS7yRmCngCVl9QAi/5QVsNaS+cesBg2Io4w07ZIFdTIjb/bN4ItlmjXtBIrv7\n",
       "0sxNKv8ttZC82GhiUunKOCUX5wq7EQuOYr7Q5evCVBJKYV3Pa0QVKkuP+7+YMglucMgt/pygZLUo\n",
       "Mrh6yu3wqXxJ7jbrta314rk1+WxIIouqlV0HFFHG4EzzF6FZIY4lOh+npuGDks8vpXVnYFQfUjF/\n",
       "KLVBOWjPBejNL9ftnw7Js4OGYiehAtoDpE/d+7C2j7FXshOlY4fQLDbBVODXyrrxKGQiV4semUri\n",
       "TCdx4AEx7C/LWBVCAlrQTc4S9zbm9ebvttov/koP3qYEe+VQCiNCScvIXXbQ0O+KjpVR7Jn5oNiN\n",
       "1AEbHWUcZ++6J/pZPNhJku7F5epYPiXWrRY3dklbnM9et/NESl3TvaTlPjoG1CFjXoj/ascNY6Qe\n",
       "vT0PwcN0PlO4AAJ1MqCY/AAAAwABUwAAANBBnsRFETwQ/wAAAwAADN0PoY4dnsG7nAWigRIAW6kW\n",
       "d/XpWteBcKwRyEJRsGtrXRLz1fIMmcssWrzSW2uRlb6AoVgLPPlmN0R6sSGaaCyQlEI5YujGxsuc\n",
       "LTV52aPrxRiD0xlKe51deBg17X2glz2wq2gLwAacJppt0R5rtiCSsaSLjkHqSKWSLW7mAhQQCUqc\n",
       "EYVu/KJsL44DowoHgPvBU9S3pkxDOl7jfYnxzjDNzdOLei5yvUGSHkQAlX6HNqtHtoE6bLdad5vV\n",
       "AAADAAKrAAAArQGe5WpD/wAAAwAABpfG8X8hyA5rm+A8b8AJYwfn5SJa2FEeiWfchRBOq3rkki2Q\n",
       "QnNOCMVbv62Sg/SZ4jE2U+kY0sK3q2ABBOKMFCzGmW/gDB3AUCbgQJKlVYEQAeHZU0fRr6XPjOHI\n",
       "L6J3tuXrAU51zleKv06O1bK1MuhTrTwhK9OzO32CgjKpF350HZThmNCZTp/n24/2TC1Eb/1K+R7D\n",
       "o5V7eRa4AAADAAg5AAALwG1vb3YAAABsbXZoZAAAAAAAAAAAAAAAAAAAA+gAAJt4AAEAAAEAAAAA\n",
       "AAAAAAAAAAABAAAAAAAAAAAAAAAAAAAAAQAAAAAAAAAAAAAAAAAAQAAAAAAAAAAAAAAAAAAAAAAA\n",
       "AAAAAAAAAAAAAAAAAAIAAArqdHJhawAAAFx0a2hkAAAAAwAAAAAAAAAAAAAAAQAAAAAAAJt4AAAA\n",
       "AAAAAAAAAAAAAAAAAAABAAAAAAAAAAAAAAAAAAAAAQAAAAAAAAAAAAAAAAAAQAAAAAOoAAACQAAA\n",
       "AAAAJGVkdHMAAAAcZWxzdAAAAAAAAAABAACbeAAAEAAAAQAAAAAKYm1kaWEAAAAgbWRoZAAAAAAA\n",
       "AAAAAAAAAAAAKAAABjgAVcQAAAAAAC1oZGxyAAAAAAAAAAB2aWRlAAAAAAAAAAAAAAAAVmlkZW9I\n",
       "YW5kbGVyAAAACg1taW5mAAAAFHZtaGQAAAABAAAAAAAAAAAAAAAkZGluZgAAABxkcmVmAAAAAAAA\n",
       "AAEAAAAMdXJsIAAAAAEAAAnNc3RibAAAALlzdHNkAAAAAAAAAAEAAACpYXZjMQAAAAAAAAABAAAA\n",
       "AAAAAAAAAAAAAAAAAAOoAkAASAAAAEgAAAAAAAAAAQAAAAAAAAAAAAAAAAAAAAAAAAAAAAAAAAAA\n",
       "AAAAAAAAABj//wAAADdhdmNDAWQAH//hABpnZAAfrNlA7BJ5eEAAAAMAQAAAAwKDxgxlgAEABmjr\n",
       "48siwP34+AAAAAAcdXVpZGtoQPJfJE/FujmlG88DI/MAAAAAAAAAGHN0dHMAAAAAAAAAAQAAAMcA\n",
       "AAgAAAAAFHN0c3MAAAAAAAAAAQAAAAEAAAWAY3R0cwAAAAAAAACuAAAAAQAAEAAAAAABAAAoAAAA\n",
       "AAEAABAAAAAAAQAAAAAAAAABAAAIAAAAAAEAACgAAAAAAQAAEAAAAAABAAAAAAAAAAEAAAgAAAAA\n",
       "AQAAKAAAAAABAAAQAAAAAAEAAAAAAAAAAQAACAAAAAABAAAoAAAAAAEAABAAAAAAAQAAAAAAAAAB\n",
       "AAAIAAAAAAEAACgAAAAAAQAAEAAAAAABAAAAAAAAAAEAAAgAAAAAAQAAGAAAAAABAAAIAAAAAAEA\n",
       "ACAAAAAAAgAACAAAAAABAAAYAAAAAAEAAAgAAAAAAQAAKAAAAAABAAAQAAAAAAEAAAAAAAAAAQAA\n",
       "CAAAAAABAAAYAAAAAAEAAAgAAAAAAQAAKAAAAAABAAAQAAAAAAEAAAAAAAAAAQAACAAAAAABAAAo\n",
       "AAAAAAEAABAAAAAAAQAAAAAAAAABAAAIAAAAAAEAABgAAAAAAQAACAAAAAABAAAYAAAAAAEAAAgA\n",
       "AAAAAQAAKAAAAAABAAAQAAAAAAEAAAAAAAAAAQAACAAAAAABAAAoAAAAAAEAABAAAAAAAQAAAAAA\n",
       "AAABAAAIAAAAAAMAABAAAAAAAQAAGAAAAAABAAAIAAAAAAEAABgAAAAAAQAACAAAAAABAAAYAAAA\n",
       "AAEAAAgAAAAAAQAAEAAAAAABAAAgAAAAAAIAAAgAAAAAAQAAKAAAAAABAAAQAAAAAAEAAAAAAAAA\n",
       "AQAACAAAAAABAAAYAAAAAAEAAAgAAAAAAQAAEAAAAAABAAAYAAAAAAEAAAgAAAAAAQAAGAAAAAAB\n",
       "AAAIAAAAAAEAACgAAAAAAQAAEAAAAAABAAAAAAAAAAEAAAgAAAAAAQAAIAAAAAACAAAIAAAAAAEA\n",
       "ABgAAAAAAQAACAAAAAABAAAYAAAAAAEAAAgAAAAAAQAAGAAAAAABAAAIAAAAAAEAABAAAAAAAQAA\n",
       "IAAAAAACAAAIAAAAAAEAABAAAAAAAQAAIAAAAAACAAAIAAAAAAEAACgAAAAAAQAAEAAAAAABAAAA\n",
       "AAAAAAEAAAgAAAAAAQAAKAAAAAABAAAQAAAAAAEAAAAAAAAAAQAACAAAAAADAAAQAAAAAAEAABgA\n",
       "AAAAAQAACAAAAAABAAAYAAAAAAEAAAgAAAAAAQAAGAAAAAABAAAIAAAAAAEAACgAAAAAAQAAEAAA\n",
       "AAABAAAAAAAAAAEAAAgAAAAAAQAAIAAAAAACAAAIAAAAAAEAABgAAAAAAQAACAAAAAABAAAoAAAA\n",
       "AAEAABAAAAAAAQAAAAAAAAABAAAIAAAAAAEAABgAAAAAAQAACAAAAAABAAAYAAAAAAEAAAgAAAAA\n",
       "AQAAEAAAAAABAAAYAAAAAAEAAAgAAAAAAQAAEAAAAAABAAAYAAAAAAEAAAgAAAAAAQAAGAAAAAAB\n",
       "AAAIAAAAAAQAABAAAAAAAQAAGAAAAAABAAAIAAAAAAMAABAAAAAAAQAAIAAAAAACAAAIAAAAAAMA\n",
       "ABAAAAAAAQAAGAAAAAABAAAIAAAAAAIAABAAAAAAAQAAGAAAAAABAAAIAAAAAAEAABgAAAAAAQAA\n",
       "CAAAAAABAAAgAAAAAAIAAAgAAAAAAQAAGAAAAAABAAAIAAAAAAEAABgAAAAAAQAACAAAAAAEAAAQ\n",
       "AAAAAAEAACgAAAAAAQAAEAAAAAABAAAAAAAAAAEAAAgAAAAAAQAAKAAAAAABAAAQAAAAAAEAAAAA\n",
       "AAAAAQAACAAAAAABAAAoAAAAAAEAABAAAAAAAQAAAAAAAAABAAAIAAAAAAEAACAAAAAAAgAACAAA\n",
       "AAABAAAYAAAAAAEAAAgAAAAAAQAAGAAAAAABAAAIAAAAAAEAABgAAAAAAQAACAAAAAABAAAgAAAA\n",
       "AAIAAAgAAAAAHHN0c2MAAAAAAAAAAQAAAAEAAADHAAAAAQAAAzBzdHN6AAAAAAAAAAAAAADHAABR\n",
       "AwAAAmkAAADcAAAAkgAAAHkAAAEdAAAAqQAAAIUAAAByAAABcwAAAM4AAAB5AAAAkAAAAagAAADA\n",
       "AAAAjgAAAGAAAAHaAAAA0AAAAG4AAACoAAABmgAAAJIAAAHfAAAAqAAAAIkAAAIYAAAAuwAAAdYA\n",
       "AAENAAAAmwAAAIQAAAG1AAAAiwAAAgEAAADrAAAAhwAAAIQAAAITAAABAgAAAHoAAACZAAABOAAA\n",
       "ALwAAAEPAAAAkAAAAXAAAADuAAAAugAAALMAAAHAAAABBwAAALYAAACBAAABPwAAAUYAAAFqAAAB\n",
       "pAAAAHgAAAHCAAAAmQAAAdMAAAB7AAABVgAAAeoAAADRAAAAfQAAAioAAADEAAAAcgAAAJcAAAHG\n",
       "AAAAcQAAANAAAAFoAAAAUgAAAZ8AAAB1AAACHgAAANUAAACOAAAAcgAAAhYAAADLAAAAggAAAdsA\n",
       "AACgAAACBwAAAIIAAAJuAAAAlgAAAaEAAAJbAAABAgAAANYAAAGoAAACQwAAAQ0AAADNAAACpwAA\n",
       "AW0AAADbAAAA0AAAA1MAAAGUAAAA2QAAALgAAAHdAAACCwAAAfEAAAKkAAAAxQAAArcAAACuAAAC\n",
       "dAAAANkAAAKeAAABVwAAANsAAADWAAACYAAAAPcAAADYAAACawAAAM0AAAQQAAABcQAAAJ8AAAC3\n",
       "AAADKQAAAMkAAALFAAAAygAAAiEAAALdAAAAugAAAfcAAAKgAAAAxAAAAvoAAADoAAAB4gAAAigA\n",
       "AAIZAAACIQAAAnkAAADKAAACBgAAAbAAAAHMAAACYgAAAREAAADRAAABhgAAAdkAAAGiAAACuQAA\n",
       "ALkAAAHPAAABzgAAAncAAADKAAACrQAAANMAAALLAAABHwAAAO8AAAMKAAABGQAAAs0AAADrAAAC\n",
       "RAAAAg8AAAICAAACFgAAAyUAAAFmAAAAwQAAALEAAAKLAAABQQAAAMgAAAB+AAAB1gAAANMAAAC2\n",
       "AAAAmgAAAgMAAADVAAAAhQAAAasAAACeAAABtgAAAKsAAAF6AAAAowAAAX8AAADUAAAAsQAAABRz\n",
       "dGNvAAAAAAAAAAEAAAAwAAAAYnVkdGEAAABabWV0YQAAAAAAAAAhaGRscgAAAAAAAAAAbWRpcmFw\n",
       "cGwAAAAAAAAAAAAAAAAtaWxzdAAAACWpdG9vAAAAHWRhdGEAAAABAAAAAExhdmY1OC40Mi4xMDI=\n",
       "\">\n",
       "  Your browser does not support the video tag.\n",
       "</video>"
      ],
      "text/plain": [
       "<IPython.core.display.HTML object>"
      ]
     },
     "execution_count": 179,
     "metadata": {},
     "output_type": "execute_result"
    }
   ],
   "source": [
    "index = np.array(range(1, len(t)))\n",
    "animation = FuncAnimation(fig, make_curve, index)\n",
    "HTML(animation.to_html5_video())"
   ]
  },
  {
   "cell_type": "markdown",
   "id": "invalid-magnet",
   "metadata": {},
   "source": [
    "<h2>Matrices</h2>\n",
    "\n",
    "We will understand by a matrix $A$ $m \\times n$ a rectangular array of numbers arranged in m rows and n columns.\n",
    "\n",
    "$$\n",
    "A = \n",
    "\\begin{bmatrix}\n",
    "a_{11} & a_{12} & \\cdots & a_{1n}\\\\\n",
    "a_{21} & a_{22} & \\cdots & a_{2n}\\\\\n",
    "\\cdots & \\cdots & \\ddots & \\cdots \\\\\n",
    "a_{m1} & a_{m2} & \\cdots & a_{mn}\\\\\n",
    "\\end{bmatrix}\n",
    "$$\n",
    "\n",
    "If the matrix has the same number of rows and columns, we will call it a square matrix and represent it as $A_n$. We can imagine each row or column of a matrix separately as a vector, row or column, and we also define the sum of matrices and the product by a **scalar** in a similar way to vectors, the sum element to element (so the matrices must have the same **dimension**), and the product by multiplying all elements by the **scalar**.\n",
    "\n",
    "\n",
    "$$\n",
    "A + B = \n",
    "\\begin{bmatrix}\n",
    "a_{11} + b_{11} & a_{12} + b_{12} & \\cdots & a_{1n} + b_{1n}\\\\\n",
    "a_{21} + b_{21} & a_{22} + b_{22} & \\cdots & a_{2n} + b_{2n}\\\\\n",
    "\\cdots & \\cdots & \\ddots & \\cdots \\\\\n",
    "a_{m1} + b_{m1} & a_{m2} + b_{m2} & \\cdots & a_{mn} + b_{mn}\\\\\n",
    "\\end{bmatrix}\n",
    "$$\n",
    "\n",
    "$$\n",
    "\\alpha A = \n",
    "\\begin{bmatrix}\n",
    "\\alpha a_{11} & \\alpha a_{12} & \\cdots &\\alpha a_{1n}\\\\\n",
    "\\alpha a_{21} &\\alpha a_{22} & \\cdots &\\alpha a_{2n}\\\\\n",
    "\\cdots & \\cdots & \\ddots & \\cdots \\\\\n",
    "\\alpha a_{m1} &\\alpha a_{m2} &\\alpha \\cdots &\\alpha a_{mn}\\\\\n",
    "\\end{bmatrix}\n",
    "$$\n",
    "\n"
   ]
  },
  {
   "cell_type": "markdown",
   "id": "continuing-western",
   "metadata": {},
   "source": [
    "### Row Vector"
   ]
  },
  {
   "cell_type": "code",
   "execution_count": 180,
   "id": "thrown-dover",
   "metadata": {},
   "outputs": [
    {
     "data": {
      "text/plain": [
       "array([1, 2, 3, 4, 5])"
      ]
     },
     "execution_count": 180,
     "metadata": {},
     "output_type": "execute_result"
    }
   ],
   "source": [
    "x = np.array([1, 2, 3, 4, 5])\n",
    "x"
   ]
  },
  {
   "cell_type": "code",
   "execution_count": 181,
   "id": "revised-homeless",
   "metadata": {},
   "outputs": [
    {
     "data": {
      "text/plain": [
       "(5,)"
      ]
     },
     "execution_count": 181,
     "metadata": {},
     "output_type": "execute_result"
    }
   ],
   "source": [
    "x.shape"
   ]
  },
  {
   "cell_type": "code",
   "execution_count": 182,
   "id": "interior-desktop",
   "metadata": {},
   "outputs": [
    {
     "data": {
      "text/latex": [
       "$\\displaystyle \\left[\\begin{matrix}1\\\\2\\\\3\\\\4\\\\5\\end{matrix}\\right]$"
      ],
      "text/plain": [
       "Matrix([\n",
       "[1],\n",
       "[2],\n",
       "[3],\n",
       "[4],\n",
       "[5]])"
      ]
     },
     "execution_count": 182,
     "metadata": {},
     "output_type": "execute_result"
    }
   ],
   "source": [
    "X = Matrix(x)\n",
    "X"
   ]
  },
  {
   "cell_type": "code",
   "execution_count": 183,
   "id": "vanilla-apache",
   "metadata": {},
   "outputs": [
    {
     "data": {
      "text/plain": [
       "(5, 1)"
      ]
     },
     "execution_count": 183,
     "metadata": {},
     "output_type": "execute_result"
    }
   ],
   "source": [
    "X.shape"
   ]
  },
  {
   "cell_type": "code",
   "execution_count": 184,
   "id": "automotive-independence",
   "metadata": {},
   "outputs": [
    {
     "data": {
      "text/latex": [
       "$\\displaystyle \\left[\\begin{matrix}1 & 2 & 3 & 4 & 5\\end{matrix}\\right]$"
      ],
      "text/plain": [
       "Matrix([[1, 2, 3, 4, 5]])"
      ]
     },
     "execution_count": 184,
     "metadata": {},
     "output_type": "execute_result"
    }
   ],
   "source": [
    "X = X.reshape(1, 5)\n",
    "X"
   ]
  },
  {
   "cell_type": "markdown",
   "id": "characteristic-screen",
   "metadata": {},
   "source": [
    "<div class = \"alert alert-success\">\n",
    "    <p>Note: A row vector of dimension $n$ should have a dimension $1 \\times n$ (in Python (1, n), but Python doesn't do it this way, it represents them with a dimension (n,).</p>\n",
    "</div>"
   ]
  },
  {
   "cell_type": "markdown",
   "id": "stylish-cincinnati",
   "metadata": {},
   "source": [
    "### Column Vector"
   ]
  },
  {
   "cell_type": "code",
   "execution_count": 185,
   "id": "spread-dylan",
   "metadata": {},
   "outputs": [
    {
     "data": {
      "text/plain": [
       "array([[1],\n",
       "       [2],\n",
       "       [3],\n",
       "       [4],\n",
       "       [5]])"
      ]
     },
     "execution_count": 185,
     "metadata": {},
     "output_type": "execute_result"
    }
   ],
   "source": [
    "y = np.array([[1],[2],[3],[4],[5]])\n",
    "y"
   ]
  },
  {
   "cell_type": "code",
   "execution_count": 186,
   "id": "light-diabetes",
   "metadata": {},
   "outputs": [
    {
     "data": {
      "text/plain": [
       "(5, 1)"
      ]
     },
     "execution_count": 186,
     "metadata": {},
     "output_type": "execute_result"
    }
   ],
   "source": [
    "y.shape"
   ]
  },
  {
   "cell_type": "code",
   "execution_count": 210,
   "id": "comprehensive-million",
   "metadata": {},
   "outputs": [
    {
     "data": {
      "text/plain": [
       "array([[1],\n",
       "       [2],\n",
       "       [3],\n",
       "       [4],\n",
       "       [5]])"
      ]
     },
     "execution_count": 210,
     "metadata": {},
     "output_type": "execute_result"
    }
   ],
   "source": [
    "y = np.array([1, 2, 3, 4, 5]).reshape(5, 1)\n",
    "y"
   ]
  },
  {
   "cell_type": "code",
   "execution_count": 211,
   "id": "medieval-essex",
   "metadata": {},
   "outputs": [
    {
     "data": {
      "text/latex": [
       "$\\displaystyle \\left[\\begin{matrix}1\\\\2\\\\3\\\\4\\\\5\\end{matrix}\\right]$"
      ],
      "text/plain": [
       "Matrix([\n",
       "[1],\n",
       "[2],\n",
       "[3],\n",
       "[4],\n",
       "[5]])"
      ]
     },
     "execution_count": 211,
     "metadata": {},
     "output_type": "execute_result"
    }
   ],
   "source": [
    "Y = Matrix(y)\n",
    "Y"
   ]
  },
  {
   "cell_type": "code",
   "execution_count": 212,
   "id": "congressional-reader",
   "metadata": {},
   "outputs": [
    {
     "data": {
      "text/plain": [
       "(5, 1)"
      ]
     },
     "execution_count": 212,
     "metadata": {},
     "output_type": "execute_result"
    }
   ],
   "source": [
    "Y.shape"
   ]
  },
  {
   "cell_type": "markdown",
   "id": "atomic-candle",
   "metadata": {},
   "source": [
    "### Matrix (Numpy and Sympy)"
   ]
  },
  {
   "cell_type": "code",
   "execution_count": 199,
   "id": "corresponding-trinity",
   "metadata": {},
   "outputs": [
    {
     "data": {
      "text/plain": [
       "array([['m11', 'm12', 'm13'],\n",
       "       ['m21', 'm22', 'm23'],\n",
       "       ['m31', 'm32', 'm33']], dtype='<U3')"
      ]
     },
     "execution_count": 199,
     "metadata": {},
     "output_type": "execute_result"
    }
   ],
   "source": [
    "mx = np.array([['m11', 'm12', 'm13'], ['m21', 'm22', 'm23'], ['m31', 'm32', 'm33']])\n",
    "mx"
   ]
  },
  {
   "cell_type": "code",
   "execution_count": 200,
   "id": "bulgarian-clearing",
   "metadata": {},
   "outputs": [
    {
     "data": {
      "text/plain": [
       "(3, 3)"
      ]
     },
     "execution_count": 200,
     "metadata": {},
     "output_type": "execute_result"
    }
   ],
   "source": [
    "mx.shape"
   ]
  },
  {
   "cell_type": "code",
   "execution_count": 201,
   "id": "ambient-buffalo",
   "metadata": {},
   "outputs": [
    {
     "data": {
      "text/latex": [
       "$\\displaystyle \\left[\\begin{matrix}m_{11} & m_{12} & m_{13}\\\\m_{21} & m_{22} & m_{23}\\\\m_{31} & m_{32} & m_{33}\\end{matrix}\\right]$"
      ],
      "text/plain": [
       "Matrix([\n",
       "[m11, m12, m13],\n",
       "[m21, m22, m23],\n",
       "[m31, m32, m33]])"
      ]
     },
     "execution_count": 201,
     "metadata": {},
     "output_type": "execute_result"
    }
   ],
   "source": [
    "MX = Matrix(mx)\n",
    "MX"
   ]
  },
  {
   "cell_type": "code",
   "execution_count": 202,
   "id": "structural-thursday",
   "metadata": {},
   "outputs": [
    {
     "data": {
      "text/plain": [
       "(3, 3)"
      ]
     },
     "execution_count": 202,
     "metadata": {},
     "output_type": "execute_result"
    }
   ],
   "source": [
    "MX.shape"
   ]
  },
  {
   "cell_type": "markdown",
   "id": "statewide-custom",
   "metadata": {},
   "source": [
    "### Suma de matrices y vectores (Numpy y Sympy)"
   ]
  },
  {
   "cell_type": "code",
   "execution_count": 203,
   "id": "palestinian-clock",
   "metadata": {},
   "outputs": [
    {
     "data": {
      "text/plain": [
       "array([ 2,  4,  6,  8, 10])"
      ]
     },
     "execution_count": 203,
     "metadata": {},
     "output_type": "execute_result"
    }
   ],
   "source": [
    "x_2 = x + x\n",
    "x_2"
   ]
  },
  {
   "cell_type": "code",
   "execution_count": 204,
   "id": "intelligent-surprise",
   "metadata": {},
   "outputs": [
    {
     "data": {
      "text/plain": [
       "(5,)"
      ]
     },
     "execution_count": 204,
     "metadata": {},
     "output_type": "execute_result"
    }
   ],
   "source": [
    "x_2.shape"
   ]
  },
  {
   "cell_type": "code",
   "execution_count": 205,
   "id": "becoming-fruit",
   "metadata": {
    "scrolled": true
   },
   "outputs": [
    {
     "data": {
      "text/latex": [
       "$\\displaystyle \\left[\\begin{matrix}2 & 4 & 6 & 8 & 10\\end{matrix}\\right]$"
      ],
      "text/plain": [
       "Matrix([[2, 4, 6, 8, 10]])"
      ]
     },
     "execution_count": 205,
     "metadata": {},
     "output_type": "execute_result"
    }
   ],
   "source": [
    "X + X"
   ]
  },
  {
   "cell_type": "code",
   "execution_count": 206,
   "id": "selective-accreditation",
   "metadata": {},
   "outputs": [
    {
     "data": {
      "text/latex": [
       "$\\displaystyle \\left[\\begin{matrix}1 & 2 & 3 & 4 & 5\\end{matrix}\\right]$"
      ],
      "text/plain": [
       "Matrix([[1, 2, 3, 4, 5]])"
      ]
     },
     "execution_count": 206,
     "metadata": {},
     "output_type": "execute_result"
    }
   ],
   "source": [
    "X"
   ]
  },
  {
   "cell_type": "code",
   "execution_count": 213,
   "id": "lightweight-strike",
   "metadata": {},
   "outputs": [
    {
     "data": {
      "text/latex": [
       "$\\displaystyle \\left[\\begin{matrix}1\\\\2\\\\3\\\\4\\\\5\\end{matrix}\\right]$"
      ],
      "text/plain": [
       "Matrix([\n",
       "[1],\n",
       "[2],\n",
       "[3],\n",
       "[4],\n",
       "[5]])"
      ]
     },
     "execution_count": 213,
     "metadata": {},
     "output_type": "execute_result"
    }
   ],
   "source": [
    "Y"
   ]
  },
  {
   "cell_type": "code",
   "execution_count": 214,
   "id": "turkish-wedding",
   "metadata": {},
   "outputs": [
    {
     "ename": "ShapeError",
     "evalue": "Matrix size mismatch: (1, 5) + (5, 1)",
     "output_type": "error",
     "traceback": [
      "\u001b[1;31m---------------------------------------------------------------------------\u001b[0m",
      "\u001b[1;31mShapeError\u001b[0m                                Traceback (most recent call last)",
      "\u001b[1;32m<ipython-input-214-e4a642f73c42>\u001b[0m in \u001b[0;36m<module>\u001b[1;34m\u001b[0m\n\u001b[1;32m----> 1\u001b[1;33m \u001b[0mX\u001b[0m \u001b[1;33m+\u001b[0m \u001b[0mY\u001b[0m\u001b[1;33m\u001b[0m\u001b[1;33m\u001b[0m\u001b[0m\n\u001b[0m",
      "\u001b[1;32mD:\\Anaconda\\lib\\site-packages\\sympy\\core\\decorators.py\u001b[0m in \u001b[0;36mbinary_op_wrapper\u001b[1;34m(self, other)\u001b[0m\n\u001b[0;32m    135\u001b[0m                     \u001b[1;32mif\u001b[0m \u001b[0mf\u001b[0m \u001b[1;32mis\u001b[0m \u001b[1;32mnot\u001b[0m \u001b[1;32mNone\u001b[0m\u001b[1;33m:\u001b[0m\u001b[1;33m\u001b[0m\u001b[1;33m\u001b[0m\u001b[0m\n\u001b[0;32m    136\u001b[0m                         \u001b[1;32mreturn\u001b[0m \u001b[0mf\u001b[0m\u001b[1;33m(\u001b[0m\u001b[0mself\u001b[0m\u001b[1;33m)\u001b[0m\u001b[1;33m\u001b[0m\u001b[1;33m\u001b[0m\u001b[0m\n\u001b[1;32m--> 137\u001b[1;33m             \u001b[1;32mreturn\u001b[0m \u001b[0mfunc\u001b[0m\u001b[1;33m(\u001b[0m\u001b[0mself\u001b[0m\u001b[1;33m,\u001b[0m \u001b[0mother\u001b[0m\u001b[1;33m)\u001b[0m\u001b[1;33m\u001b[0m\u001b[1;33m\u001b[0m\u001b[0m\n\u001b[0m\u001b[0;32m    138\u001b[0m         \u001b[1;32mreturn\u001b[0m \u001b[0mbinary_op_wrapper\u001b[0m\u001b[1;33m\u001b[0m\u001b[1;33m\u001b[0m\u001b[0m\n\u001b[0;32m    139\u001b[0m     \u001b[1;32mreturn\u001b[0m \u001b[0mpriority_decorator\u001b[0m\u001b[1;33m\u001b[0m\u001b[1;33m\u001b[0m\u001b[0m\n",
      "\u001b[1;32mD:\\Anaconda\\lib\\site-packages\\sympy\\matrices\\common.py\u001b[0m in \u001b[0;36m__add__\u001b[1;34m(self, other)\u001b[0m\n\u001b[0;32m   2545\u001b[0m         \u001b[1;32mif\u001b[0m \u001b[0mhasattr\u001b[0m\u001b[1;33m(\u001b[0m\u001b[0mother\u001b[0m\u001b[1;33m,\u001b[0m \u001b[1;34m'shape'\u001b[0m\u001b[1;33m)\u001b[0m\u001b[1;33m:\u001b[0m\u001b[1;33m\u001b[0m\u001b[1;33m\u001b[0m\u001b[0m\n\u001b[0;32m   2546\u001b[0m             \u001b[1;32mif\u001b[0m \u001b[0mself\u001b[0m\u001b[1;33m.\u001b[0m\u001b[0mshape\u001b[0m \u001b[1;33m!=\u001b[0m \u001b[0mother\u001b[0m\u001b[1;33m.\u001b[0m\u001b[0mshape\u001b[0m\u001b[1;33m:\u001b[0m\u001b[1;33m\u001b[0m\u001b[1;33m\u001b[0m\u001b[0m\n\u001b[1;32m-> 2547\u001b[1;33m                 raise ShapeError(\"Matrix size mismatch: %s + %s\" % (\n\u001b[0m\u001b[0;32m   2548\u001b[0m                     self.shape, other.shape))\n\u001b[0;32m   2549\u001b[0m \u001b[1;33m\u001b[0m\u001b[0m\n",
      "\u001b[1;31mShapeError\u001b[0m: Matrix size mismatch: (1, 5) + (5, 1)"
     ]
    }
   ],
   "source": [
    "X + Y"
   ]
  },
  {
   "cell_type": "code",
   "execution_count": 215,
   "id": "ordinary-shelf",
   "metadata": {},
   "outputs": [
    {
     "data": {
      "text/plain": [
       "array([1, 2, 3, 4, 5])"
      ]
     },
     "execution_count": 215,
     "metadata": {},
     "output_type": "execute_result"
    }
   ],
   "source": [
    "x"
   ]
  },
  {
   "cell_type": "code",
   "execution_count": 216,
   "id": "dietary-luxury",
   "metadata": {},
   "outputs": [
    {
     "data": {
      "text/plain": [
       "array([[1],\n",
       "       [2],\n",
       "       [3],\n",
       "       [4],\n",
       "       [5]])"
      ]
     },
     "execution_count": 216,
     "metadata": {},
     "output_type": "execute_result"
    }
   ],
   "source": [
    "y"
   ]
  },
  {
   "cell_type": "code",
   "execution_count": 217,
   "id": "joint-prevention",
   "metadata": {},
   "outputs": [
    {
     "data": {
      "text/plain": [
       "array([[ 2,  3,  4,  5,  6],\n",
       "       [ 3,  4,  5,  6,  7],\n",
       "       [ 4,  5,  6,  7,  8],\n",
       "       [ 5,  6,  7,  8,  9],\n",
       "       [ 6,  7,  8,  9, 10]])"
      ]
     },
     "execution_count": 217,
     "metadata": {},
     "output_type": "execute_result"
    }
   ],
   "source": [
    "x + y "
   ]
  },
  {
   "cell_type": "markdown",
   "id": "unlikely-transition",
   "metadata": {},
   "source": [
    "<div class = \"alert alert-danger\">\n",
    "    <p>Warning: Although the sum of a row vector and a column vector does not mathematically make sense, Numpy does perform the operation so we can lose the mathematical sense of our variables</p>\n",
    "</div>"
   ]
  },
  {
   "cell_type": "code",
   "execution_count": 218,
   "id": "experimental-penalty",
   "metadata": {},
   "outputs": [
    {
     "data": {
      "text/plain": [
       "(array([1, 2, 3, 4, 5]),\n",
       " array([[1],\n",
       "        [2],\n",
       "        [3],\n",
       "        [4],\n",
       "        [5]]))"
      ]
     },
     "execution_count": 218,
     "metadata": {},
     "output_type": "execute_result"
    }
   ],
   "source": [
    "x, y"
   ]
  },
  {
   "cell_type": "code",
   "execution_count": 219,
   "id": "severe-wayne",
   "metadata": {},
   "outputs": [
    {
     "data": {
      "text/plain": [
       "array([[ 1,  2,  3,  4,  5],\n",
       "       [ 2,  4,  6,  8, 10],\n",
       "       [ 3,  6,  9, 12, 15],\n",
       "       [ 4,  8, 12, 16, 20],\n",
       "       [ 5, 10, 15, 20, 25]])"
      ]
     },
     "execution_count": 219,
     "metadata": {},
     "output_type": "execute_result"
    }
   ],
   "source": [
    "x * y"
   ]
  },
  {
   "cell_type": "code",
   "execution_count": 220,
   "id": "fuzzy-declaration",
   "metadata": {},
   "outputs": [
    {
     "data": {
      "text/plain": [
       "array([[ 1,  2,  3,  4,  5],\n",
       "       [ 2,  4,  6,  8, 10],\n",
       "       [ 3,  6,  9, 12, 15],\n",
       "       [ 4,  8, 12, 16, 20],\n",
       "       [ 5, 10, 15, 20, 25]])"
      ]
     },
     "execution_count": 220,
     "metadata": {},
     "output_type": "execute_result"
    }
   ],
   "source": [
    "np.kron(x, y)"
   ]
  },
  {
   "cell_type": "code",
   "execution_count": 221,
   "id": "integral-fisher",
   "metadata": {},
   "outputs": [
    {
     "data": {
      "text/plain": [
       "array([[ True,  True,  True,  True,  True],\n",
       "       [ True,  True,  True,  True,  True],\n",
       "       [ True,  True,  True,  True,  True],\n",
       "       [ True,  True,  True,  True,  True],\n",
       "       [ True,  True,  True,  True,  True]])"
      ]
     },
     "execution_count": 221,
     "metadata": {},
     "output_type": "execute_result"
    }
   ],
   "source": [
    "np.kron(x, y) == x * y"
   ]
  },
  {
   "cell_type": "code",
   "execution_count": 222,
   "id": "based-ensemble",
   "metadata": {},
   "outputs": [
    {
     "ename": "ShapeError",
     "evalue": "Matrix size mismatch: (1, 5) * (1, 5).",
     "output_type": "error",
     "traceback": [
      "\u001b[1;31m---------------------------------------------------------------------------\u001b[0m",
      "\u001b[1;31mShapeError\u001b[0m                                Traceback (most recent call last)",
      "\u001b[1;32m<ipython-input-222-74c42e8d878b>\u001b[0m in \u001b[0;36m<module>\u001b[1;34m\u001b[0m\n\u001b[1;32m----> 1\u001b[1;33m \u001b[0mX\u001b[0m \u001b[1;33m*\u001b[0m \u001b[0mX\u001b[0m\u001b[1;33m\u001b[0m\u001b[1;33m\u001b[0m\u001b[0m\n\u001b[0m",
      "\u001b[1;32mD:\\Anaconda\\lib\\site-packages\\sympy\\core\\decorators.py\u001b[0m in \u001b[0;36mbinary_op_wrapper\u001b[1;34m(self, other)\u001b[0m\n\u001b[0;32m    135\u001b[0m                     \u001b[1;32mif\u001b[0m \u001b[0mf\u001b[0m \u001b[1;32mis\u001b[0m \u001b[1;32mnot\u001b[0m \u001b[1;32mNone\u001b[0m\u001b[1;33m:\u001b[0m\u001b[1;33m\u001b[0m\u001b[1;33m\u001b[0m\u001b[0m\n\u001b[0;32m    136\u001b[0m                         \u001b[1;32mreturn\u001b[0m \u001b[0mf\u001b[0m\u001b[1;33m(\u001b[0m\u001b[0mself\u001b[0m\u001b[1;33m)\u001b[0m\u001b[1;33m\u001b[0m\u001b[1;33m\u001b[0m\u001b[0m\n\u001b[1;32m--> 137\u001b[1;33m             \u001b[1;32mreturn\u001b[0m \u001b[0mfunc\u001b[0m\u001b[1;33m(\u001b[0m\u001b[0mself\u001b[0m\u001b[1;33m,\u001b[0m \u001b[0mother\u001b[0m\u001b[1;33m)\u001b[0m\u001b[1;33m\u001b[0m\u001b[1;33m\u001b[0m\u001b[0m\n\u001b[0m\u001b[0;32m    138\u001b[0m         \u001b[1;32mreturn\u001b[0m \u001b[0mbinary_op_wrapper\u001b[0m\u001b[1;33m\u001b[0m\u001b[1;33m\u001b[0m\u001b[0m\n\u001b[0;32m    139\u001b[0m     \u001b[1;32mreturn\u001b[0m \u001b[0mpriority_decorator\u001b[0m\u001b[1;33m\u001b[0m\u001b[1;33m\u001b[0m\u001b[0m\n",
      "\u001b[1;32mD:\\Anaconda\\lib\\site-packages\\sympy\\matrices\\common.py\u001b[0m in \u001b[0;36m__mul__\u001b[1;34m(self, other)\u001b[0m\n\u001b[0;32m   2605\u001b[0m         \"\"\"\n\u001b[0;32m   2606\u001b[0m \u001b[1;33m\u001b[0m\u001b[0m\n\u001b[1;32m-> 2607\u001b[1;33m         \u001b[1;32mreturn\u001b[0m \u001b[0mself\u001b[0m\u001b[1;33m.\u001b[0m\u001b[0mmultiply\u001b[0m\u001b[1;33m(\u001b[0m\u001b[0mother\u001b[0m\u001b[1;33m)\u001b[0m\u001b[1;33m\u001b[0m\u001b[1;33m\u001b[0m\u001b[0m\n\u001b[0m\u001b[0;32m   2608\u001b[0m \u001b[1;33m\u001b[0m\u001b[0m\n\u001b[0;32m   2609\u001b[0m     \u001b[1;32mdef\u001b[0m \u001b[0mmultiply\u001b[0m\u001b[1;33m(\u001b[0m\u001b[0mself\u001b[0m\u001b[1;33m,\u001b[0m \u001b[0mother\u001b[0m\u001b[1;33m,\u001b[0m \u001b[0mdotprodsimp\u001b[0m\u001b[1;33m=\u001b[0m\u001b[1;32mNone\u001b[0m\u001b[1;33m)\u001b[0m\u001b[1;33m:\u001b[0m\u001b[1;33m\u001b[0m\u001b[1;33m\u001b[0m\u001b[0m\n",
      "\u001b[1;32mD:\\Anaconda\\lib\\site-packages\\sympy\\matrices\\common.py\u001b[0m in \u001b[0;36mmultiply\u001b[1;34m(self, other, dotprodsimp)\u001b[0m\n\u001b[0;32m   2627\u001b[0m              getattr(other, 'is_MatrixLike', True))):\n\u001b[0;32m   2628\u001b[0m             \u001b[1;32mif\u001b[0m \u001b[0mself\u001b[0m\u001b[1;33m.\u001b[0m\u001b[0mshape\u001b[0m\u001b[1;33m[\u001b[0m\u001b[1;36m1\u001b[0m\u001b[1;33m]\u001b[0m \u001b[1;33m!=\u001b[0m \u001b[0mother\u001b[0m\u001b[1;33m.\u001b[0m\u001b[0mshape\u001b[0m\u001b[1;33m[\u001b[0m\u001b[1;36m0\u001b[0m\u001b[1;33m]\u001b[0m\u001b[1;33m:\u001b[0m\u001b[1;33m\u001b[0m\u001b[1;33m\u001b[0m\u001b[0m\n\u001b[1;32m-> 2629\u001b[1;33m                 raise ShapeError(\"Matrix size mismatch: %s * %s.\" % (\n\u001b[0m\u001b[0;32m   2630\u001b[0m                     self.shape, other.shape))\n\u001b[0;32m   2631\u001b[0m \u001b[1;33m\u001b[0m\u001b[0m\n",
      "\u001b[1;31mShapeError\u001b[0m: Matrix size mismatch: (1, 5) * (1, 5)."
     ]
    }
   ],
   "source": [
    "X * X"
   ]
  },
  {
   "cell_type": "code",
   "execution_count": 223,
   "id": "alert-watch",
   "metadata": {},
   "outputs": [
    {
     "data": {
      "text/plain": [
       "array([ 1,  4,  9, 16, 25])"
      ]
     },
     "execution_count": 223,
     "metadata": {},
     "output_type": "execute_result"
    }
   ],
   "source": [
    "x * x\n"
   ]
  },
  {
   "cell_type": "code",
   "execution_count": 224,
   "id": "brown-supplier",
   "metadata": {},
   "outputs": [
    {
     "data": {
      "text/plain": [
       "array([[1, 2, 3],\n",
       "       [4, 5, 6],\n",
       "       [7, 8, 9]])"
      ]
     },
     "execution_count": 224,
     "metadata": {},
     "output_type": "execute_result"
    }
   ],
   "source": [
    "A = np.array([[1, 2, 3], [4, 5, 6], [7, 8, 9]])\n",
    "A"
   ]
  },
  {
   "cell_type": "code",
   "execution_count": 225,
   "id": "refined-campbell",
   "metadata": {},
   "outputs": [
    {
     "data": {
      "text/plain": [
       "(3, 3)"
      ]
     },
     "execution_count": 225,
     "metadata": {},
     "output_type": "execute_result"
    }
   ],
   "source": [
    "A.shape"
   ]
  },
  {
   "cell_type": "code",
   "execution_count": 226,
   "id": "polyphonic-mainstream",
   "metadata": {},
   "outputs": [
    {
     "data": {
      "text/plain": [
       "array([[ 2,  4,  6],\n",
       "       [ 8, 10, 12],\n",
       "       [14, 16, 18]])"
      ]
     },
     "execution_count": 226,
     "metadata": {},
     "output_type": "execute_result"
    }
   ],
   "source": [
    "A_2 = A + A\n",
    "A_2"
   ]
  },
  {
   "cell_type": "code",
   "execution_count": 227,
   "id": "paperback-holmes",
   "metadata": {},
   "outputs": [
    {
     "data": {
      "text/plain": [
       "(3, 3)"
      ]
     },
     "execution_count": 227,
     "metadata": {},
     "output_type": "execute_result"
    }
   ],
   "source": [
    "A_2.shape"
   ]
  },
  {
   "cell_type": "code",
   "execution_count": 228,
   "id": "thirty-worship",
   "metadata": {},
   "outputs": [
    {
     "data": {
      "text/plain": [
       "array([[ 3,  6,  9],\n",
       "       [12, 15, 18],\n",
       "       [21, 24, 27]])"
      ]
     },
     "execution_count": 228,
     "metadata": {},
     "output_type": "execute_result"
    }
   ],
   "source": [
    "3 * A"
   ]
  },
  {
   "cell_type": "code",
   "execution_count": 229,
   "id": "documentary-birthday",
   "metadata": {},
   "outputs": [
    {
     "data": {
      "text/plain": [
       "array([[ 1,  4,  9],\n",
       "       [16, 25, 36],\n",
       "       [49, 64, 81]], dtype=int32)"
      ]
     },
     "execution_count": 229,
     "metadata": {},
     "output_type": "execute_result"
    }
   ],
   "source": [
    "A ** 2"
   ]
  },
  {
   "cell_type": "code",
   "execution_count": 230,
   "id": "limited-newark",
   "metadata": {},
   "outputs": [
    {
     "data": {
      "text/plain": [
       "array([[1, 0, 1],\n",
       "       [0, 1, 0],\n",
       "       [1, 0, 1]], dtype=int32)"
      ]
     },
     "execution_count": 230,
     "metadata": {},
     "output_type": "execute_result"
    }
   ],
   "source": [
    "A % 2"
   ]
  },
  {
   "cell_type": "code",
   "execution_count": 231,
   "id": "operational-train",
   "metadata": {},
   "outputs": [
    {
     "data": {
      "text/latex": [
       "$\\displaystyle \\left[\\begin{matrix}1 & 2 & 3\\\\4 & 5 & 6\\\\7 & 8 & 9\\end{matrix}\\right]$"
      ],
      "text/plain": [
       "Matrix([\n",
       "[1, 2, 3],\n",
       "[4, 5, 6],\n",
       "[7, 8, 9]])"
      ]
     },
     "execution_count": 231,
     "metadata": {},
     "output_type": "execute_result"
    }
   ],
   "source": [
    "As = Matrix(A)\n",
    "As"
   ]
  },
  {
   "cell_type": "code",
   "execution_count": 232,
   "id": "offensive-luther",
   "metadata": {},
   "outputs": [
    {
     "data": {
      "text/latex": [
       "$\\displaystyle \\left[\\begin{matrix}2 & 4 & 6\\\\8 & 10 & 12\\\\14 & 16 & 18\\end{matrix}\\right]$"
      ],
      "text/plain": [
       "Matrix([\n",
       "[ 2,  4,  6],\n",
       "[ 8, 10, 12],\n",
       "[14, 16, 18]])"
      ]
     },
     "execution_count": 232,
     "metadata": {},
     "output_type": "execute_result"
    }
   ],
   "source": [
    "As + As"
   ]
  },
  {
   "cell_type": "code",
   "execution_count": 233,
   "id": "formal-calvin",
   "metadata": {},
   "outputs": [
    {
     "data": {
      "text/latex": [
       "$\\displaystyle \\left[\\begin{matrix}3 & 6 & 9\\\\12 & 15 & 18\\\\21 & 24 & 27\\end{matrix}\\right]$"
      ],
      "text/plain": [
       "Matrix([\n",
       "[ 3,  6,  9],\n",
       "[12, 15, 18],\n",
       "[21, 24, 27]])"
      ]
     },
     "execution_count": 233,
     "metadata": {},
     "output_type": "execute_result"
    }
   ],
   "source": [
    "As * 3"
   ]
  },
  {
   "cell_type": "code",
   "execution_count": 234,
   "id": "necessary-settlement",
   "metadata": {},
   "outputs": [
    {
     "data": {
      "text/latex": [
       "$\\displaystyle \\left[\\begin{matrix}30 & 36 & 42\\\\66 & 81 & 96\\\\102 & 126 & 150\\end{matrix}\\right]$"
      ],
      "text/plain": [
       "Matrix([\n",
       "[ 30,  36,  42],\n",
       "[ 66,  81,  96],\n",
       "[102, 126, 150]])"
      ]
     },
     "execution_count": 234,
     "metadata": {},
     "output_type": "execute_result"
    }
   ],
   "source": [
    "As ** 2 #warning"
   ]
  },
  {
   "cell_type": "code",
   "execution_count": 235,
   "id": "allied-palace",
   "metadata": {},
   "outputs": [
    {
     "data": {
      "text/plain": [
       "array([[ 1,  4,  9],\n",
       "       [16, 25, 36],\n",
       "       [49, 64, 81]], dtype=int32)"
      ]
     },
     "execution_count": 235,
     "metadata": {},
     "output_type": "execute_result"
    }
   ],
   "source": [
    "A ** 2"
   ]
  },
  {
   "cell_type": "code",
   "execution_count": 236,
   "id": "finite-consequence",
   "metadata": {},
   "outputs": [
    {
     "data": {
      "text/latex": [
       "$\\displaystyle \\left[\\begin{matrix}1 & 0 & 1\\\\0 & 1 & 0\\\\1 & 0 & 1\\end{matrix}\\right]$"
      ],
      "text/plain": [
       "Matrix([\n",
       "[1, 0, 1],\n",
       "[0, 1, 0],\n",
       "[1, 0, 1]])"
      ]
     },
     "execution_count": 236,
     "metadata": {},
     "output_type": "execute_result"
    }
   ],
   "source": [
    "As % 2"
   ]
  },
  {
   "cell_type": "markdown",
   "id": "heavy-marble",
   "metadata": {},
   "source": [
    "Numpy's arrays have a method called ndarray.ndim and this give us the number of axes (dimensions) of the array."
   ]
  },
  {
   "cell_type": "code",
   "execution_count": 237,
   "id": "central-republican",
   "metadata": {},
   "outputs": [
    {
     "data": {
      "text/plain": [
       "array([[1, 2, 3],\n",
       "       [4, 5, 6],\n",
       "       [7, 8, 9]])"
      ]
     },
     "execution_count": 237,
     "metadata": {},
     "output_type": "execute_result"
    }
   ],
   "source": [
    "A"
   ]
  },
  {
   "cell_type": "code",
   "execution_count": 238,
   "id": "included-delight",
   "metadata": {},
   "outputs": [
    {
     "data": {
      "text/plain": [
       "2"
      ]
     },
     "execution_count": 238,
     "metadata": {},
     "output_type": "execute_result"
    }
   ],
   "source": [
    "A.ndim"
   ]
  },
  {
   "cell_type": "code",
   "execution_count": 239,
   "id": "universal-folks",
   "metadata": {},
   "outputs": [],
   "source": [
    "B = np.array([[[1, 2], [3, 4]],\n",
    "              [[5, 6], [7, 8]],\n",
    "              [[1, 2], [3, 4]]])"
   ]
  },
  {
   "cell_type": "code",
   "execution_count": 240,
   "id": "temporal-equality",
   "metadata": {},
   "outputs": [
    {
     "data": {
      "text/plain": [
       "array([[[1, 2],\n",
       "        [3, 4]],\n",
       "\n",
       "       [[5, 6],\n",
       "        [7, 8]],\n",
       "\n",
       "       [[1, 2],\n",
       "        [3, 4]]])"
      ]
     },
     "execution_count": 240,
     "metadata": {},
     "output_type": "execute_result"
    }
   ],
   "source": [
    "B"
   ]
  },
  {
   "cell_type": "code",
   "execution_count": 241,
   "id": "polar-register",
   "metadata": {},
   "outputs": [
    {
     "data": {
      "text/plain": [
       "3"
      ]
     },
     "execution_count": 241,
     "metadata": {},
     "output_type": "execute_result"
    }
   ],
   "source": [
    "B.ndim"
   ]
  },
  {
   "cell_type": "code",
   "execution_count": 242,
   "id": "civil-federation",
   "metadata": {},
   "outputs": [
    {
     "data": {
      "text/plain": [
       "(3, 2, 2)"
      ]
     },
     "execution_count": 242,
     "metadata": {},
     "output_type": "execute_result"
    }
   ],
   "source": [
    "B.shape"
   ]
  },
  {
   "cell_type": "code",
   "execution_count": 243,
   "id": "great-brake",
   "metadata": {},
   "outputs": [],
   "source": [
    "B = np.arange(1, 13).reshape((3, 2, 2))"
   ]
  },
  {
   "cell_type": "code",
   "execution_count": 244,
   "id": "isolated-distinction",
   "metadata": {},
   "outputs": [
    {
     "data": {
      "text/plain": [
       "array([[[ 1,  2],\n",
       "        [ 3,  4]],\n",
       "\n",
       "       [[ 5,  6],\n",
       "        [ 7,  8]],\n",
       "\n",
       "       [[ 9, 10],\n",
       "        [11, 12]]])"
      ]
     },
     "execution_count": 244,
     "metadata": {},
     "output_type": "execute_result"
    }
   ],
   "source": [
    "B"
   ]
  },
  {
   "cell_type": "code",
   "execution_count": 250,
   "id": "pregnant-fleece",
   "metadata": {},
   "outputs": [],
   "source": [
    "B = np.arange(1, 13).reshape(2, 3, 2)"
   ]
  },
  {
   "cell_type": "code",
   "execution_count": 251,
   "id": "moderate-cigarette",
   "metadata": {},
   "outputs": [
    {
     "data": {
      "text/plain": [
       "array([[[ 1,  2],\n",
       "        [ 3,  4],\n",
       "        [ 5,  6]],\n",
       "\n",
       "       [[ 7,  8],\n",
       "        [ 9, 10],\n",
       "        [11, 12]]])"
      ]
     },
     "execution_count": 251,
     "metadata": {},
     "output_type": "execute_result"
    }
   ],
   "source": [
    "B"
   ]
  },
  {
   "cell_type": "markdown",
   "id": "portuguese-beauty",
   "metadata": {},
   "source": [
    "**Zeros and Ones**"
   ]
  },
  {
   "cell_type": "code",
   "execution_count": 247,
   "id": "attractive-wireless",
   "metadata": {},
   "outputs": [
    {
     "data": {
      "text/plain": [
       "array([0., 0., 0.])"
      ]
     },
     "execution_count": 247,
     "metadata": {},
     "output_type": "execute_result"
    }
   ],
   "source": [
    "np.zeros(3)"
   ]
  },
  {
   "cell_type": "code",
   "execution_count": 248,
   "id": "flexible-highway",
   "metadata": {},
   "outputs": [
    {
     "data": {
      "text/plain": [
       "array([[0., 0., 0.],\n",
       "       [0., 0., 0.],\n",
       "       [0., 0., 0.]])"
      ]
     },
     "execution_count": 248,
     "metadata": {},
     "output_type": "execute_result"
    }
   ],
   "source": [
    "np.zeros((3, 3))"
   ]
  },
  {
   "cell_type": "code",
   "execution_count": 252,
   "id": "contained-practice",
   "metadata": {},
   "outputs": [
    {
     "ename": "TypeError",
     "evalue": "Cannot interpret '2' as a data type",
     "output_type": "error",
     "traceback": [
      "\u001b[1;31m---------------------------------------------------------------------------\u001b[0m",
      "\u001b[1;31mTypeError\u001b[0m                                 Traceback (most recent call last)",
      "\u001b[1;32m<ipython-input-252-d029f1f63cc8>\u001b[0m in \u001b[0;36m<module>\u001b[1;34m\u001b[0m\n\u001b[1;32m----> 1\u001b[1;33m \u001b[0mnp\u001b[0m\u001b[1;33m.\u001b[0m\u001b[0mzeros\u001b[0m\u001b[1;33m(\u001b[0m\u001b[1;36m2\u001b[0m\u001b[1;33m,\u001b[0m \u001b[1;36m2\u001b[0m\u001b[1;33m)\u001b[0m\u001b[1;33m\u001b[0m\u001b[1;33m\u001b[0m\u001b[0m\n\u001b[0m",
      "\u001b[1;31mTypeError\u001b[0m: Cannot interpret '2' as a data type"
     ]
    }
   ],
   "source": [
    "np.zeros(2, 2)"
   ]
  },
  {
   "cell_type": "code",
   "execution_count": 253,
   "id": "hispanic-litigation",
   "metadata": {},
   "outputs": [
    {
     "data": {
      "text/plain": [
       "array([[0., 0.],\n",
       "       [0., 0.]])"
      ]
     },
     "execution_count": 253,
     "metadata": {},
     "output_type": "execute_result"
    }
   ],
   "source": [
    "np.zeros((2, 2))"
   ]
  },
  {
   "cell_type": "code",
   "execution_count": 254,
   "id": "incoming-circle",
   "metadata": {},
   "outputs": [
    {
     "data": {
      "text/plain": [
       "array([[1., 1., 1., 1., 1.],\n",
       "       [1., 1., 1., 1., 1.],\n",
       "       [1., 1., 1., 1., 1.],\n",
       "       [1., 1., 1., 1., 1.],\n",
       "       [1., 1., 1., 1., 1.]])"
      ]
     },
     "execution_count": 254,
     "metadata": {},
     "output_type": "execute_result"
    }
   ],
   "source": [
    "np.ones((5, 5))"
   ]
  },
  {
   "cell_type": "markdown",
   "id": "listed-venice",
   "metadata": {},
   "source": [
    "**Axis**"
   ]
  },
  {
   "cell_type": "code",
   "execution_count": 255,
   "id": "existing-pasta",
   "metadata": {},
   "outputs": [],
   "source": [
    "B = np.arange(12).reshape(3, 4)"
   ]
  },
  {
   "cell_type": "code",
   "execution_count": 256,
   "id": "wired-classics",
   "metadata": {},
   "outputs": [
    {
     "data": {
      "text/plain": [
       "array([[ 0,  1,  2,  3],\n",
       "       [ 4,  5,  6,  7],\n",
       "       [ 8,  9, 10, 11]])"
      ]
     },
     "execution_count": 256,
     "metadata": {},
     "output_type": "execute_result"
    }
   ],
   "source": [
    "B"
   ]
  },
  {
   "cell_type": "code",
   "execution_count": 257,
   "id": "cathedral-terror",
   "metadata": {},
   "outputs": [
    {
     "data": {
      "text/plain": [
       "11"
      ]
     },
     "execution_count": 257,
     "metadata": {},
     "output_type": "execute_result"
    }
   ],
   "source": [
    "B.max()"
   ]
  },
  {
   "cell_type": "code",
   "execution_count": 258,
   "id": "hidden-schedule",
   "metadata": {},
   "outputs": [
    {
     "data": {
      "text/plain": [
       "66"
      ]
     },
     "execution_count": 258,
     "metadata": {},
     "output_type": "execute_result"
    }
   ],
   "source": [
    "B.sum()"
   ]
  },
  {
   "cell_type": "code",
   "execution_count": 259,
   "id": "ignored-encounter",
   "metadata": {},
   "outputs": [
    {
     "data": {
      "text/plain": [
       "array([12, 15, 18, 21])"
      ]
     },
     "execution_count": 259,
     "metadata": {},
     "output_type": "execute_result"
    }
   ],
   "source": [
    "B.sum(axis = 0)# sum of each column"
   ]
  },
  {
   "cell_type": "code",
   "execution_count": 261,
   "id": "interracial-friend",
   "metadata": {},
   "outputs": [
    {
     "data": {
      "text/plain": [
       "array([ 6, 22, 38])"
      ]
     },
     "execution_count": 261,
     "metadata": {},
     "output_type": "execute_result"
    }
   ],
   "source": [
    "B.sum(axis = 1)# min of each row"
   ]
  },
  {
   "cell_type": "code",
   "execution_count": 262,
   "id": "revolutionary-seeker",
   "metadata": {},
   "outputs": [
    {
     "data": {
      "text/plain": [
       "array([[ 0,  1,  2,  3],\n",
       "       [ 4,  5,  6,  7],\n",
       "       [ 8,  9, 10, 11]])"
      ]
     },
     "execution_count": 262,
     "metadata": {},
     "output_type": "execute_result"
    }
   ],
   "source": [
    "B"
   ]
  },
  {
   "cell_type": "code",
   "execution_count": 263,
   "id": "subjective-vegetable",
   "metadata": {},
   "outputs": [
    {
     "data": {
      "text/plain": [
       "array([ 0,  1,  3,  6, 10, 15, 21, 28, 36, 45, 55, 66], dtype=int32)"
      ]
     },
     "execution_count": 263,
     "metadata": {},
     "output_type": "execute_result"
    }
   ],
   "source": [
    "B.cumsum()"
   ]
  },
  {
   "cell_type": "code",
   "execution_count": 264,
   "id": "associate-likelihood",
   "metadata": {},
   "outputs": [
    {
     "data": {
      "text/plain": [
       "array([[ 0,  1,  3,  6],\n",
       "       [ 4,  9, 15, 22],\n",
       "       [ 8, 17, 27, 38]], dtype=int32)"
      ]
     },
     "execution_count": 264,
     "metadata": {},
     "output_type": "execute_result"
    }
   ],
   "source": [
    "B.cumsum(axis = 1)"
   ]
  },
  {
   "cell_type": "code",
   "execution_count": 265,
   "id": "geological-german",
   "metadata": {},
   "outputs": [
    {
     "data": {
      "text/plain": [
       "array([[ 0,  1,  2,  3],\n",
       "       [ 4,  6,  8, 10],\n",
       "       [12, 15, 18, 21]], dtype=int32)"
      ]
     },
     "execution_count": 265,
     "metadata": {},
     "output_type": "execute_result"
    }
   ],
   "source": [
    "B.cumsum(axis = 0)"
   ]
  },
  {
   "cell_type": "markdown",
   "id": "welsh-apple",
   "metadata": {},
   "source": [
    "## Slicing\n",
    "\n",
    "Multidimensional arrays can have one index per axis. These indices are given in a tuple separated by commas:"
   ]
  },
  {
   "cell_type": "code",
   "execution_count": 266,
   "id": "chicken-rogers",
   "metadata": {},
   "outputs": [
    {
     "data": {
      "text/plain": [
       "array([[ 0,  1,  2,  3],\n",
       "       [ 4,  5,  6,  7],\n",
       "       [ 8,  9, 10, 11]])"
      ]
     },
     "execution_count": 266,
     "metadata": {},
     "output_type": "execute_result"
    }
   ],
   "source": [
    "B"
   ]
  },
  {
   "cell_type": "code",
   "execution_count": 268,
   "id": "sorted-funeral",
   "metadata": {},
   "outputs": [
    {
     "data": {
      "text/plain": [
       "0"
      ]
     },
     "execution_count": 268,
     "metadata": {},
     "output_type": "execute_result"
    }
   ],
   "source": [
    "B[0]"
   ]
  },
  {
   "cell_type": "code",
   "execution_count": 269,
   "id": "raised-composite",
   "metadata": {},
   "outputs": [
    {
     "data": {
      "text/plain": [
       "6"
      ]
     },
     "execution_count": 269,
     "metadata": {},
     "output_type": "execute_result"
    }
   ],
   "source": [
    "B[1, 2]"
   ]
  },
  {
   "cell_type": "code",
   "execution_count": 270,
   "id": "printable-darwin",
   "metadata": {},
   "outputs": [
    {
     "data": {
      "text/plain": [
       "array([[ 5,  6],\n",
       "       [ 9, 10]])"
      ]
     },
     "execution_count": 270,
     "metadata": {},
     "output_type": "execute_result"
    }
   ],
   "source": [
    "B[1:, 1:3]"
   ]
  },
  {
   "cell_type": "markdown",
   "id": "driven-music",
   "metadata": {},
   "source": [
    "How I get a whole column?"
   ]
  },
  {
   "cell_type": "code",
   "execution_count": 271,
   "id": "tribal-volume",
   "metadata": {},
   "outputs": [
    {
     "data": {
      "text/plain": [
       "array([ 2,  6, 10])"
      ]
     },
     "execution_count": 271,
     "metadata": {},
     "output_type": "execute_result"
    }
   ],
   "source": [
    "B[:, 2]"
   ]
  },
  {
   "cell_type": "markdown",
   "id": "commercial-retreat",
   "metadata": {},
   "source": [
    "### For and Matrices"
   ]
  },
  {
   "cell_type": "code",
   "execution_count": 272,
   "id": "floppy-oxygen",
   "metadata": {},
   "outputs": [
    {
     "data": {
      "text/plain": [
       "array([[ 0,  1,  2,  3],\n",
       "       [ 4,  5,  6,  7],\n",
       "       [ 8,  9, 10, 11]])"
      ]
     },
     "execution_count": 272,
     "metadata": {},
     "output_type": "execute_result"
    }
   ],
   "source": [
    "B"
   ]
  },
  {
   "cell_type": "code",
   "execution_count": 273,
   "id": "continent-spice",
   "metadata": {},
   "outputs": [
    {
     "name": "stdout",
     "output_type": "stream",
     "text": [
      "[0 1 2 3]\n",
      "[4 5 6 7]\n",
      "[ 8  9 10 11]\n"
     ]
    }
   ],
   "source": [
    "for elem in B:\n",
    "    print(elem)"
   ]
  },
  {
   "cell_type": "markdown",
   "id": "derived-crack",
   "metadata": {},
   "source": [
    "if you want to loop through all the elements of an array use the `flat` field."
   ]
  },
  {
   "cell_type": "code",
   "execution_count": 275,
   "id": "irish-leeds",
   "metadata": {},
   "outputs": [
    {
     "data": {
      "text/plain": [
       "[0, 1, 2, 3, 4, 5, 6, 7, 8, 9, 10, 11]"
      ]
     },
     "execution_count": 275,
     "metadata": {},
     "output_type": "execute_result"
    }
   ],
   "source": [
    "list(B.flat)"
   ]
  },
  {
   "cell_type": "code",
   "execution_count": 276,
   "id": "sweet-edward",
   "metadata": {},
   "outputs": [
    {
     "name": "stdout",
     "output_type": "stream",
     "text": [
      "0\n",
      "1\n",
      "2\n",
      "3\n",
      "4\n",
      "5\n",
      "6\n",
      "7\n",
      "8\n",
      "9\n",
      "10\n",
      "11\n"
     ]
    }
   ],
   "source": [
    "for elem in B.flat:\n",
    "    print(elem)"
   ]
  },
  {
   "cell_type": "markdown",
   "id": "suspected-mainland",
   "metadata": {},
   "source": [
    "## Random in Numpy\n",
    "\n",
    "`Numpy` has its own random module."
   ]
  },
  {
   "cell_type": "code",
   "execution_count": 277,
   "id": "serial-blond",
   "metadata": {},
   "outputs": [
    {
     "data": {
      "text/plain": [
       "['BitGenerator',\n",
       " 'Generator',\n",
       " 'MT19937',\n",
       " 'PCG64',\n",
       " 'Philox',\n",
       " 'RandomState',\n",
       " 'SFC64',\n",
       " 'SeedSequence',\n",
       " '__RandomState_ctor',\n",
       " '__all__',\n",
       " '__builtins__',\n",
       " '__cached__',\n",
       " '__doc__',\n",
       " '__file__',\n",
       " '__loader__',\n",
       " '__name__',\n",
       " '__package__',\n",
       " '__path__',\n",
       " '__spec__',\n",
       " '_bounded_integers',\n",
       " '_common',\n",
       " '_generator',\n",
       " '_mt19937',\n",
       " '_pcg64',\n",
       " '_philox',\n",
       " '_pickle',\n",
       " '_sfc64',\n",
       " 'beta',\n",
       " 'binomial',\n",
       " 'bit_generator',\n",
       " 'bytes',\n",
       " 'chisquare',\n",
       " 'choice',\n",
       " 'default_rng',\n",
       " 'dirichlet',\n",
       " 'exponential',\n",
       " 'f',\n",
       " 'gamma',\n",
       " 'geometric',\n",
       " 'get_state',\n",
       " 'gumbel',\n",
       " 'hypergeometric',\n",
       " 'laplace',\n",
       " 'logistic',\n",
       " 'lognormal',\n",
       " 'logseries',\n",
       " 'mtrand',\n",
       " 'multinomial',\n",
       " 'multivariate_normal',\n",
       " 'negative_binomial',\n",
       " 'noncentral_chisquare',\n",
       " 'noncentral_f',\n",
       " 'normal',\n",
       " 'pareto',\n",
       " 'permutation',\n",
       " 'poisson',\n",
       " 'power',\n",
       " 'rand',\n",
       " 'randint',\n",
       " 'randn',\n",
       " 'random',\n",
       " 'random_integers',\n",
       " 'random_sample',\n",
       " 'ranf',\n",
       " 'rayleigh',\n",
       " 'sample',\n",
       " 'seed',\n",
       " 'set_state',\n",
       " 'shuffle',\n",
       " 'standard_cauchy',\n",
       " 'standard_exponential',\n",
       " 'standard_gamma',\n",
       " 'standard_normal',\n",
       " 'standard_t',\n",
       " 'test',\n",
       " 'triangular',\n",
       " 'uniform',\n",
       " 'vonmises',\n",
       " 'wald',\n",
       " 'weibull',\n",
       " 'zipf']"
      ]
     },
     "execution_count": 277,
     "metadata": {},
     "output_type": "execute_result"
    }
   ],
   "source": [
    "dir(np.random)"
   ]
  },
  {
   "cell_type": "code",
   "execution_count": 278,
   "id": "thirty-premises",
   "metadata": {},
   "outputs": [
    {
     "data": {
      "text/plain": [
       "0.2136728091775133"
      ]
     },
     "execution_count": 278,
     "metadata": {},
     "output_type": "execute_result"
    }
   ],
   "source": [
    "np.random.random()"
   ]
  },
  {
   "cell_type": "code",
   "execution_count": 279,
   "id": "impossible-coast",
   "metadata": {},
   "outputs": [
    {
     "data": {
      "text/plain": [
       "array([0.86407644, 0.74738208, 0.39537684, 0.06459398, 0.14456137])"
      ]
     },
     "execution_count": 279,
     "metadata": {},
     "output_type": "execute_result"
    }
   ],
   "source": [
    "np.random.random(5)"
   ]
  },
  {
   "cell_type": "code",
   "execution_count": 283,
   "id": "young-stock",
   "metadata": {},
   "outputs": [
    {
     "data": {
      "text/plain": [
       "array([[0.22796408, 0.08001555, 0.20444015],\n",
       "       [0.61318027, 0.3148729 , 0.10332592]])"
      ]
     },
     "execution_count": 283,
     "metadata": {},
     "output_type": "execute_result"
    }
   ],
   "source": [
    "np.random.random((2, 3))"
   ]
  },
  {
   "cell_type": "code",
   "execution_count": 284,
   "id": "broken-unemployment",
   "metadata": {},
   "outputs": [
    {
     "data": {
      "text/plain": [
       "array([2, 4, 1, 4, 1])"
      ]
     },
     "execution_count": 284,
     "metadata": {},
     "output_type": "execute_result"
    }
   ],
   "source": [
    "np.random.randint(1, 5, 5)"
   ]
  },
  {
   "cell_type": "code",
   "execution_count": 286,
   "id": "broad-horror",
   "metadata": {},
   "outputs": [
    {
     "data": {
      "text/plain": [
       "array([[63, 78, 42, 65, 76, 11],\n",
       "       [51,  9, 97, 67, 58,  4],\n",
       "       [ 6,  1,  6, 36, 51, 34],\n",
       "       [67, 77, 98, 49,  2, 34],\n",
       "       [21, 98, 27, 48, 44, 71]])"
      ]
     },
     "execution_count": 286,
     "metadata": {},
     "output_type": "execute_result"
    }
   ],
   "source": [
    "np.random.randint(1, 100, (5, 6))"
   ]
  },
  {
   "cell_type": "markdown",
   "id": "diagnostic-impact",
   "metadata": {},
   "source": [
    "## Stacking together different arrays\n",
    "\n",
    "Several arrays can be stacked together along different axes:"
   ]
  },
  {
   "cell_type": "code",
   "execution_count": 287,
   "id": "thrown-convert",
   "metadata": {},
   "outputs": [
    {
     "data": {
      "text/plain": [
       "array([[99,  9],\n",
       "       [68,  3]])"
      ]
     },
     "execution_count": 287,
     "metadata": {},
     "output_type": "execute_result"
    }
   ],
   "source": [
    "a = np.random.randint(1, 100, (2, 2))\n",
    "a"
   ]
  },
  {
   "cell_type": "code",
   "execution_count": 288,
   "id": "multiple-novel",
   "metadata": {},
   "outputs": [
    {
     "data": {
      "text/plain": [
       "array([[44, 71],\n",
       "       [47, 46]])"
      ]
     },
     "execution_count": 288,
     "metadata": {},
     "output_type": "execute_result"
    }
   ],
   "source": [
    "b = np.random.randint(1, 100, (2, 2))\n",
    "b"
   ]
  },
  {
   "cell_type": "code",
   "execution_count": 289,
   "id": "civic-stevens",
   "metadata": {},
   "outputs": [
    {
     "data": {
      "text/plain": [
       "array([[99,  9],\n",
       "       [68,  3],\n",
       "       [44, 71],\n",
       "       [47, 46]])"
      ]
     },
     "execution_count": 289,
     "metadata": {},
     "output_type": "execute_result"
    }
   ],
   "source": [
    "np.vstack((a, b))"
   ]
  },
  {
   "cell_type": "code",
   "execution_count": 290,
   "id": "economic-shaft",
   "metadata": {},
   "outputs": [
    {
     "data": {
      "text/plain": [
       "array([[21, 88],\n",
       "       [29, 63]])"
      ]
     },
     "execution_count": 290,
     "metadata": {},
     "output_type": "execute_result"
    }
   ],
   "source": [
    "c = np.random.randint(1, 100, (2, 2))\n",
    "c"
   ]
  },
  {
   "cell_type": "code",
   "execution_count": 291,
   "id": "built-florence",
   "metadata": {},
   "outputs": [
    {
     "data": {
      "text/plain": [
       "array([[99,  9],\n",
       "       [68,  3],\n",
       "       [44, 71],\n",
       "       [47, 46],\n",
       "       [21, 88],\n",
       "       [29, 63]])"
      ]
     },
     "execution_count": 291,
     "metadata": {},
     "output_type": "execute_result"
    }
   ],
   "source": [
    "np.vstack((a, b, c))"
   ]
  },
  {
   "cell_type": "code",
   "execution_count": 292,
   "id": "coordinate-blackjack",
   "metadata": {},
   "outputs": [
    {
     "data": {
      "text/plain": [
       "array([[99,  9, 44, 71],\n",
       "       [68,  3, 47, 46]])"
      ]
     },
     "execution_count": 292,
     "metadata": {},
     "output_type": "execute_result"
    }
   ],
   "source": [
    "np.hstack((a, b))"
   ]
  },
  {
   "cell_type": "markdown",
   "id": "closing-durham",
   "metadata": {},
   "source": [
    "#### Transpose matrix\n",
    "\n",
    "\n",
    "The transpose of a matrix is an operator which flips a matrix over its diagonal. The transpose of a matrix $A_{m \\times n}$ is matrix $A_{n \\times m}^T$ that has the columns of $A_{m \\times n}$ as rows, that is $a_{ij}^T = a_{ji}$.\n",
    "\n",
    "\n",
    "<img src = https://upload.wikimedia.org/wikipedia/commons/e/e4/Matrix_transpose.gif>"
   ]
  },
  {
   "cell_type": "code",
   "execution_count": 293,
   "id": "shaped-dividend",
   "metadata": {},
   "outputs": [
    {
     "data": {
      "text/plain": [
       "array([[ 0,  1,  2,  3],\n",
       "       [ 4,  5,  6,  7],\n",
       "       [ 8,  9, 10, 11]])"
      ]
     },
     "execution_count": 293,
     "metadata": {},
     "output_type": "execute_result"
    }
   ],
   "source": [
    "B"
   ]
  },
  {
   "cell_type": "code",
   "execution_count": 294,
   "id": "operating-yugoslavia",
   "metadata": {},
   "outputs": [
    {
     "data": {
      "text/plain": [
       "array([[ 0,  4,  8],\n",
       "       [ 1,  5,  9],\n",
       "       [ 2,  6, 10],\n",
       "       [ 3,  7, 11]])"
      ]
     },
     "execution_count": 294,
     "metadata": {},
     "output_type": "execute_result"
    }
   ],
   "source": [
    "B.T"
   ]
  },
  {
   "cell_type": "code",
   "execution_count": 295,
   "id": "flying-miller",
   "metadata": {},
   "outputs": [
    {
     "data": {
      "text/latex": [
       "$\\displaystyle \\left[\\begin{matrix}1 & 2 & 3 & 4 & 5\\end{matrix}\\right]$"
      ],
      "text/plain": [
       "Matrix([[1, 2, 3, 4, 5]])"
      ]
     },
     "execution_count": 295,
     "metadata": {},
     "output_type": "execute_result"
    }
   ],
   "source": [
    "X"
   ]
  },
  {
   "cell_type": "code",
   "execution_count": 296,
   "id": "exact-travel",
   "metadata": {},
   "outputs": [
    {
     "data": {
      "text/latex": [
       "$\\displaystyle \\left[\\begin{matrix}1\\\\2\\\\3\\\\4\\\\5\\end{matrix}\\right]$"
      ],
      "text/plain": [
       "Matrix([\n",
       "[1],\n",
       "[2],\n",
       "[3],\n",
       "[4],\n",
       "[5]])"
      ]
     },
     "execution_count": 296,
     "metadata": {},
     "output_type": "execute_result"
    }
   ],
   "source": [
    "X.T"
   ]
  },
  {
   "cell_type": "markdown",
   "id": "developmental-graduate",
   "metadata": {},
   "source": [
    "<hr>\n",
    "<h1>Product of matrices and vectors</h1>\n",
    "\n",
    "<h2>Dot product</h2>\n",
    "\n",
    "The dot product is a product defined between vectors with the same **dimension** and that returns a **scalar** as a result. It is defined as follows:\n",
    "\n",
    "$$\\vec{x} \\cdot \\vec{y} = x_1 y_1 + x_2 y_2 + \\cdots + x_n y_n$$\n",
    "\n",
    "or alternatively we define it as:\n",
    "\n",
    "$$ \\vec{x} \\cdot \\vec{y} = |\\vec{x}| |\\vec{y}|\\cos{\\theta}$$\n",
    "\n",
    "Where $|\\vec{x}|$ represents the **norm** of the vector $\\vec{x}$ and $\\theta$ is the smallest angle between $\\vec{x}$ and $\\vec{y}$. It is important to note that $\\cos{\\theta}$ vanishes when $\\theta = \\frac{\\pi}{2}$, so the dot product is 0 when the vectors are orthogonal."
   ]
  },
  {
   "cell_type": "markdown",
   "id": "amateur-handbook",
   "metadata": {},
   "source": [
    "\n",
    "### Producto escalar en Numpy"
   ]
  },
  {
   "cell_type": "code",
   "execution_count": 297,
   "id": "hidden-profile",
   "metadata": {},
   "outputs": [
    {
     "data": {
      "text/plain": [
       "array([ 0,  1,  2,  3,  4,  5,  6,  7,  8,  9, 10, 11, 12, 13, 14])"
      ]
     },
     "execution_count": 297,
     "metadata": {},
     "output_type": "execute_result"
    }
   ],
   "source": [
    "x = np.arange(15)\n",
    "x"
   ]
  },
  {
   "cell_type": "code",
   "execution_count": 298,
   "id": "accomplished-drama",
   "metadata": {},
   "outputs": [
    {
     "data": {
      "text/plain": [
       "array([0.79180192, 0.28587746, 0.15856074, 0.52861935, 0.14903953,\n",
       "       0.60083056, 0.14755073, 0.59231889, 0.18320902, 0.71315218,\n",
       "       0.88233277, 0.32346303, 0.27817987, 0.20672755, 0.95035806])"
      ]
     },
     "execution_count": 298,
     "metadata": {},
     "output_type": "execute_result"
    }
   ],
   "source": [
    "y = np.random.random(15)\n",
    "y"
   ]
  },
  {
   "cell_type": "code",
   "execution_count": 299,
   "id": "discrete-college",
   "metadata": {},
   "outputs": [
    {
     "data": {
      "text/plain": [
       "50.41679685345009"
      ]
     },
     "execution_count": 299,
     "metadata": {},
     "output_type": "execute_result"
    }
   ],
   "source": [
    "x.dot(y)"
   ]
  },
  {
   "cell_type": "code",
   "execution_count": 300,
   "id": "aboriginal-teddy",
   "metadata": {},
   "outputs": [
    {
     "data": {
      "text/plain": [
       "50.41679685345009"
      ]
     },
     "execution_count": 300,
     "metadata": {},
     "output_type": "execute_result"
    }
   ],
   "source": [
    "y.dot(x)"
   ]
  },
  {
   "cell_type": "code",
   "execution_count": 301,
   "id": "junior-buying",
   "metadata": {},
   "outputs": [
    {
     "data": {
      "text/plain": [
       "True"
      ]
     },
     "execution_count": 301,
     "metadata": {},
     "output_type": "execute_result"
    }
   ],
   "source": [
    "y.dot(x) == x.dot(y)"
   ]
  },
  {
   "cell_type": "code",
   "execution_count": 302,
   "id": "present-bonus",
   "metadata": {},
   "outputs": [],
   "source": [
    "x = np.array([3, 3])\n",
    "y = np.array([3, -3])"
   ]
  },
  {
   "cell_type": "code",
   "execution_count": 303,
   "id": "cooperative-revision",
   "metadata": {},
   "outputs": [
    {
     "data": {
      "text/plain": [
       "0"
      ]
     },
     "execution_count": 303,
     "metadata": {},
     "output_type": "execute_result"
    }
   ],
   "source": [
    "y.dot(x) "
   ]
  },
  {
   "cell_type": "code",
   "execution_count": 304,
   "id": "understood-morocco",
   "metadata": {},
   "outputs": [
    {
     "data": {
      "text/plain": [
       "0"
      ]
     },
     "execution_count": 304,
     "metadata": {},
     "output_type": "execute_result"
    }
   ],
   "source": [
    "x.dot(y)"
   ]
  },
  {
   "cell_type": "code",
   "execution_count": 305,
   "id": "wireless-wedding",
   "metadata": {},
   "outputs": [],
   "source": [
    "x = np.array([1, 2, 3, 4])\n",
    "y = np.array([5, 6, 7, 8])"
   ]
  },
  {
   "cell_type": "code",
   "execution_count": 306,
   "id": "coordinated-treasurer",
   "metadata": {},
   "outputs": [],
   "source": [
    "v1 = Vector(*[1, 2, 3, 4])\n",
    "v2 = Vector(*[5, 6, 7, 8])"
   ]
  },
  {
   "cell_type": "code",
   "execution_count": 307,
   "id": "missing-malaysia",
   "metadata": {},
   "outputs": [
    {
     "data": {
      "text/plain": [
       "array([1, 2, 3, 4])"
      ]
     },
     "execution_count": 307,
     "metadata": {},
     "output_type": "execute_result"
    }
   ],
   "source": [
    "x"
   ]
  },
  {
   "cell_type": "code",
   "execution_count": 308,
   "id": "congressional-convertible",
   "metadata": {},
   "outputs": [
    {
     "data": {
      "text/plain": [
       "<1, 2, 3, 4>"
      ]
     },
     "execution_count": 308,
     "metadata": {},
     "output_type": "execute_result"
    }
   ],
   "source": [
    "v1"
   ]
  },
  {
   "cell_type": "code",
   "execution_count": 309,
   "id": "adjustable-means",
   "metadata": {},
   "outputs": [
    {
     "data": {
      "text/plain": [
       "70"
      ]
     },
     "execution_count": 309,
     "metadata": {},
     "output_type": "execute_result"
    }
   ],
   "source": [
    "x.dot(y)"
   ]
  },
  {
   "cell_type": "code",
   "execution_count": 310,
   "id": "necessary-catalyst",
   "metadata": {},
   "outputs": [
    {
     "data": {
      "text/plain": [
       "70"
      ]
     },
     "execution_count": 310,
     "metadata": {},
     "output_type": "execute_result"
    }
   ],
   "source": [
    "np.dot(x, y)"
   ]
  },
  {
   "cell_type": "code",
   "execution_count": 311,
   "id": "spectacular-biology",
   "metadata": {},
   "outputs": [
    {
     "data": {
      "text/plain": [
       "70"
      ]
     },
     "execution_count": 311,
     "metadata": {},
     "output_type": "execute_result"
    }
   ],
   "source": [
    "v1 * v2"
   ]
  },
  {
   "cell_type": "code",
   "execution_count": 312,
   "id": "nonprofit-bronze",
   "metadata": {},
   "outputs": [
    {
     "name": "stdout",
     "output_type": "stream",
     "text": [
      "3.36 µs ± 475 ns per loop (mean ± std. dev. of 7 runs, 100000 loops each)\n"
     ]
    }
   ],
   "source": [
    "%timeit x.dot(y)"
   ]
  },
  {
   "cell_type": "code",
   "execution_count": 313,
   "id": "nutritional-maria",
   "metadata": {},
   "outputs": [
    {
     "name": "stdout",
     "output_type": "stream",
     "text": [
      "5.06 µs ± 157 ns per loop (mean ± std. dev. of 7 runs, 100000 loops each)\n"
     ]
    }
   ],
   "source": [
    "%timeit np.dot(x, y)"
   ]
  },
  {
   "cell_type": "code",
   "execution_count": 314,
   "id": "biological-developer",
   "metadata": {},
   "outputs": [
    {
     "name": "stdout",
     "output_type": "stream",
     "text": [
      "6.58 µs ± 227 ns per loop (mean ± std. dev. of 7 runs, 100000 loops each)\n"
     ]
    }
   ],
   "source": [
    "%timeit v1 * v2"
   ]
  },
  {
   "cell_type": "code",
   "execution_count": 315,
   "id": "breathing-initial",
   "metadata": {},
   "outputs": [],
   "source": [
    "x = np.array([i for i in range(10_000)])\n",
    "y = np.array([i for i in range(10_000, 20_000)])"
   ]
  },
  {
   "cell_type": "code",
   "execution_count": 316,
   "id": "suitable-emerald",
   "metadata": {},
   "outputs": [],
   "source": [
    "v1 = Vector(*[i for i in range(10_000)])\n",
    "v2 = Vector(*[i for i in range(10_000, 20_000)])"
   ]
  },
  {
   "cell_type": "code",
   "execution_count": 317,
   "id": "white-money",
   "metadata": {},
   "outputs": [
    {
     "name": "stdout",
     "output_type": "stream",
     "text": [
      "28.4 µs ± 4.05 µs per loop (mean ± std. dev. of 7 runs, 10000 loops each)\n"
     ]
    }
   ],
   "source": [
    "%timeit  x.dot(y) "
   ]
  },
  {
   "cell_type": "code",
   "execution_count": 318,
   "id": "computational-israel",
   "metadata": {},
   "outputs": [
    {
     "name": "stdout",
     "output_type": "stream",
     "text": [
      "37.7 µs ± 5.97 µs per loop (mean ± std. dev. of 7 runs, 10000 loops each)\n"
     ]
    }
   ],
   "source": [
    "%timeit  np.dot(x, y) "
   ]
  },
  {
   "cell_type": "code",
   "execution_count": 319,
   "id": "sapphire-reggae",
   "metadata": {},
   "outputs": [
    {
     "name": "stdout",
     "output_type": "stream",
     "text": [
      "16.6 ms ± 2.52 ms per loop (mean ± std. dev. of 7 runs, 100 loops each)\n"
     ]
    }
   ],
   "source": [
    "%timeit  v1 * v2 "
   ]
  },
  {
   "cell_type": "markdown",
   "id": "single-young",
   "metadata": {},
   "source": [
    "<h3>Matrix multiplication</h3>\n",
    "\n",
    "The Product between matrices is defined between two matrices $A_{m \\times n}$ and $B_{n \\times p}$ and will result in a matrix $C_{m \\times p} $, whose elements are defined as $ c_{ij} = a_{i1} b_{1j} + a_{i2} b_{2j} + \\ cdots + a_{in} b_{nj}$\n",
    "\n",
    "<img src=https://upload.wikimedia.org/wikipedia/commons/thumb/1/11/Matrix_multiplication_diagram.svg/800px-Matrix_multiplication_diagram.svg.png width = 400 height = 400>\n",
    "\n",
    "We can interpret the element $c_{ij}$ as the dot product between the i-th row vector of $A$ and the j-th column vector of $B$.\n",
    "\n",
    "\n",
    "$$c_{ij} =\n",
    "\\begin{bmatrix}\n",
    "a_{i1} & a_{i2} & \\cdots & a_{in}\n",
    "\\end{bmatrix}\n",
    "\\begin{bmatrix}\n",
    "b_{1j}\\\\\n",
    "b_{2j}\\\\\n",
    "\\vdots \\\\\n",
    "b_{nj}\\\\\n",
    "\\end{bmatrix}\n",
    "= a_{i1}b_{1j} + a_{i2}b_{2j} + \\cdots + a_{in}b_{nj}\n",
    "$$\n",
    "\n",
    "<div class = \"alert alert-success\">\n",
    "    <p>Note: Later we will identify the product of matrices as a composition of linear transformations</p>\n",
    "</div>\n",
    "\n"
   ]
  },
  {
   "cell_type": "code",
   "execution_count": 320,
   "id": "quantitative-jimmy",
   "metadata": {},
   "outputs": [
    {
     "data": {
      "text/plain": [
       "array([[ 0,  1,  2],\n",
       "       [ 3,  4,  5],\n",
       "       [ 6,  7,  8],\n",
       "       [ 9, 10, 11]])"
      ]
     },
     "execution_count": 320,
     "metadata": {},
     "output_type": "execute_result"
    }
   ],
   "source": [
    "A = np.arange(12).reshape(4,3)\n",
    "A"
   ]
  },
  {
   "cell_type": "code",
   "execution_count": 321,
   "id": "global-disclosure",
   "metadata": {},
   "outputs": [
    {
     "data": {
      "text/plain": [
       "array([[5, 3, 4, 7, 7],\n",
       "       [2, 6, 2, 6, 2],\n",
       "       [3, 1, 6, 6, 8]])"
      ]
     },
     "execution_count": 321,
     "metadata": {},
     "output_type": "execute_result"
    }
   ],
   "source": [
    "B = np.random.randint(1, 9, 15).reshape(3, 5)\n",
    "B"
   ]
  },
  {
   "cell_type": "code",
   "execution_count": 322,
   "id": "banner-right",
   "metadata": {},
   "outputs": [
    {
     "data": {
      "text/plain": [
       "array([[  8,   8,  14,  18,  18],\n",
       "       [ 38,  38,  50,  75,  69],\n",
       "       [ 68,  68,  86, 132, 120],\n",
       "       [ 98,  98, 122, 189, 171]])"
      ]
     },
     "execution_count": 322,
     "metadata": {},
     "output_type": "execute_result"
    }
   ],
   "source": [
    "A.dot(B)"
   ]
  },
  {
   "cell_type": "code",
   "execution_count": 323,
   "id": "breeding-preview",
   "metadata": {},
   "outputs": [
    {
     "data": {
      "text/plain": [
       "(4, 5)"
      ]
     },
     "execution_count": 323,
     "metadata": {},
     "output_type": "execute_result"
    }
   ],
   "source": [
    "A.dot(B).shape"
   ]
  },
  {
   "cell_type": "code",
   "execution_count": 324,
   "id": "designed-premises",
   "metadata": {},
   "outputs": [
    {
     "ename": "ValueError",
     "evalue": "shapes (3,5) and (4,3) not aligned: 5 (dim 1) != 4 (dim 0)",
     "output_type": "error",
     "traceback": [
      "\u001b[1;31m---------------------------------------------------------------------------\u001b[0m",
      "\u001b[1;31mValueError\u001b[0m                                Traceback (most recent call last)",
      "\u001b[1;32m<ipython-input-324-d482a1f78eb8>\u001b[0m in \u001b[0;36m<module>\u001b[1;34m\u001b[0m\n\u001b[1;32m----> 1\u001b[1;33m \u001b[0mB\u001b[0m\u001b[1;33m.\u001b[0m\u001b[0mdot\u001b[0m\u001b[1;33m(\u001b[0m\u001b[0mA\u001b[0m\u001b[1;33m)\u001b[0m\u001b[1;33m\u001b[0m\u001b[1;33m\u001b[0m\u001b[0m\n\u001b[0m",
      "\u001b[1;31mValueError\u001b[0m: shapes (3,5) and (4,3) not aligned: 5 (dim 1) != 4 (dim 0)"
     ]
    }
   ],
   "source": [
    "B.dot(A)"
   ]
  },
  {
   "cell_type": "code",
   "execution_count": 325,
   "id": "extended-guatemala",
   "metadata": {},
   "outputs": [
    {
     "data": {
      "text/plain": [
       "array([[  8,   8,  14,  18,  18],\n",
       "       [ 38,  38,  50,  75,  69],\n",
       "       [ 68,  68,  86, 132, 120],\n",
       "       [ 98,  98, 122, 189, 171]])"
      ]
     },
     "execution_count": 325,
     "metadata": {},
     "output_type": "execute_result"
    }
   ],
   "source": [
    "A @ B"
   ]
  },
  {
   "cell_type": "code",
   "execution_count": 326,
   "id": "abstract-symbol",
   "metadata": {},
   "outputs": [
    {
     "ename": "ValueError",
     "evalue": "matmul: Input operand 1 has a mismatch in its core dimension 0, with gufunc signature (n?,k),(k,m?)->(n?,m?) (size 4 is different from 5)",
     "output_type": "error",
     "traceback": [
      "\u001b[1;31m---------------------------------------------------------------------------\u001b[0m",
      "\u001b[1;31mValueError\u001b[0m                                Traceback (most recent call last)",
      "\u001b[1;32m<ipython-input-326-c9046335e71f>\u001b[0m in \u001b[0;36m<module>\u001b[1;34m\u001b[0m\n\u001b[1;32m----> 1\u001b[1;33m \u001b[0mB\u001b[0m \u001b[1;33m@\u001b[0m \u001b[0mA\u001b[0m\u001b[1;33m\u001b[0m\u001b[1;33m\u001b[0m\u001b[0m\n\u001b[0m",
      "\u001b[1;31mValueError\u001b[0m: matmul: Input operand 1 has a mismatch in its core dimension 0, with gufunc signature (n?,k),(k,m?)->(n?,m?) (size 4 is different from 5)"
     ]
    }
   ],
   "source": [
    "B @ A"
   ]
  },
  {
   "cell_type": "code",
   "execution_count": null,
   "id": "hindu-cocktail",
   "metadata": {},
   "outputs": [],
   "source": [
    "As = Matrix(A)\n",
    "As"
   ]
  },
  {
   "cell_type": "code",
   "execution_count": null,
   "id": "expired-patch",
   "metadata": {},
   "outputs": [],
   "source": [
    "Bs = Matrix(B)\n",
    "Bs"
   ]
  },
  {
   "cell_type": "code",
   "execution_count": null,
   "id": "unlike-sleeping",
   "metadata": {},
   "outputs": [],
   "source": [
    "As * Bs"
   ]
  },
  {
   "cell_type": "code",
   "execution_count": null,
   "id": "statistical-proposal",
   "metadata": {},
   "outputs": [],
   "source": [
    "Bs * As"
   ]
  },
  {
   "cell_type": "code",
   "execution_count": null,
   "id": "pending-madagascar",
   "metadata": {},
   "outputs": [],
   "source": [
    "x = Matrix([1, 2, 3, 4])\n",
    "y = Matrix([5, 6, 7, 8])"
   ]
  },
  {
   "cell_type": "code",
   "execution_count": null,
   "id": "crude-fitting",
   "metadata": {},
   "outputs": [],
   "source": [
    "x"
   ]
  },
  {
   "cell_type": "code",
   "execution_count": null,
   "id": "angry-hughes",
   "metadata": {},
   "outputs": [],
   "source": [
    "y"
   ]
  },
  {
   "cell_type": "code",
   "execution_count": null,
   "id": "protecting-equilibrium",
   "metadata": {},
   "outputs": [],
   "source": [
    "y.T * x"
   ]
  },
  {
   "cell_type": "code",
   "execution_count": null,
   "id": "artistic-melissa",
   "metadata": {},
   "outputs": [],
   "source": [
    "x.T * y"
   ]
  },
  {
   "cell_type": "code",
   "execution_count": null,
   "id": "hollywood-interview",
   "metadata": {},
   "outputs": [],
   "source": []
  }
 ],
 "metadata": {
  "kernelspec": {
   "display_name": "Python 3",
   "language": "python",
   "name": "python3"
  },
  "language_info": {
   "codemirror_mode": {
    "name": "ipython",
    "version": 3
   },
   "file_extension": ".py",
   "mimetype": "text/x-python",
   "name": "python",
   "nbconvert_exporter": "python",
   "pygments_lexer": "ipython3",
   "version": "3.8.5"
  }
 },
 "nbformat": 4,
 "nbformat_minor": 5
}
