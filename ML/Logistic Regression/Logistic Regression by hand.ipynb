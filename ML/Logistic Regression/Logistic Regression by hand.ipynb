{
 "cells": [
  {
   "cell_type": "markdown",
   "id": "committed-nylon",
   "metadata": {},
   "source": [
    "# What is Linear Classification?\n",
    "\n",
    "Imagine that you have two point clouds that you want to classify, what solution do you propose? The idea that logistic regression proposes is to separate them with a straight line."
   ]
  },
  {
   "cell_type": "code",
   "execution_count": 1,
   "id": "intelligent-banking",
   "metadata": {},
   "outputs": [],
   "source": [
    "import pandas as pd\n",
    "import numpy as np\n",
    "import matplotlib.pyplot as plt\n",
    "import seaborn as sns\n",
    "from ipywidgets import interact\n",
    "import dprocessing as dp\n",
    "%matplotlib inline"
   ]
  },
  {
   "cell_type": "code",
   "execution_count": 2,
   "id": "aggregate-rhythm",
   "metadata": {},
   "outputs": [],
   "source": [
    "sns.set()"
   ]
  },
  {
   "cell_type": "code",
   "execution_count": 3,
   "id": "expanded-consultancy",
   "metadata": {},
   "outputs": [],
   "source": [
    "np.random.seed(1995)"
   ]
  },
  {
   "cell_type": "code",
   "execution_count": 4,
   "id": "dressed-plumbing",
   "metadata": {},
   "outputs": [
    {
     "data": {
      "text/html": [
       "<div>\n",
       "<style scoped>\n",
       "    .dataframe tbody tr th:only-of-type {\n",
       "        vertical-align: middle;\n",
       "    }\n",
       "\n",
       "    .dataframe tbody tr th {\n",
       "        vertical-align: top;\n",
       "    }\n",
       "\n",
       "    .dataframe thead th {\n",
       "        text-align: right;\n",
       "    }\n",
       "</style>\n",
       "<table border=\"1\" class=\"dataframe\">\n",
       "  <thead>\n",
       "    <tr style=\"text-align: right;\">\n",
       "      <th></th>\n",
       "      <th>x</th>\n",
       "      <th>y</th>\n",
       "      <th>Type</th>\n",
       "    </tr>\n",
       "  </thead>\n",
       "  <tbody>\n",
       "    <tr>\n",
       "      <th>0</th>\n",
       "      <td>2.759367</td>\n",
       "      <td>3.450856</td>\n",
       "      <td>Stark</td>\n",
       "    </tr>\n",
       "    <tr>\n",
       "      <th>1</th>\n",
       "      <td>2.529421</td>\n",
       "      <td>4.037920</td>\n",
       "      <td>Stark</td>\n",
       "    </tr>\n",
       "    <tr>\n",
       "      <th>2</th>\n",
       "      <td>6.101191</td>\n",
       "      <td>2.030075</td>\n",
       "      <td>Stark</td>\n",
       "    </tr>\n",
       "    <tr>\n",
       "      <th>3</th>\n",
       "      <td>2.535178</td>\n",
       "      <td>1.790706</td>\n",
       "      <td>Stark</td>\n",
       "    </tr>\n",
       "    <tr>\n",
       "      <th>4</th>\n",
       "      <td>4.817922</td>\n",
       "      <td>0.162836</td>\n",
       "      <td>Stark</td>\n",
       "    </tr>\n",
       "  </tbody>\n",
       "</table>\n",
       "</div>"
      ],
      "text/plain": [
       "          x         y   Type\n",
       "0  2.759367  3.450856  Stark\n",
       "1  2.529421  4.037920  Stark\n",
       "2  6.101191  2.030075  Stark\n",
       "3  2.535178  1.790706  Stark\n",
       "4  4.817922  0.162836  Stark"
      ]
     },
     "execution_count": 4,
     "metadata": {},
     "output_type": "execute_result"
    }
   ],
   "source": [
    "x = [4 + np.random.normal() for i in range(20)] + [2 + np.random.normal() for i in range(20)]\n",
    "y = [2 + np.random.normal() for i in range(20)] + [4 + np.random.normal() for i in range(20)]\n",
    "z = ['Stark'] * 20 + ['Bolton'] * 20\n",
    "data = pd.DataFrame({'x' : x, 'y' : y, 'Type' : z})\n",
    "data.head()"
   ]
  },
  {
   "cell_type": "code",
   "execution_count": 9,
   "id": "racial-traffic",
   "metadata": {},
   "outputs": [],
   "source": [
    "def linear_classification(line = False, point1 = False, point2 = False, point3 = False):\n",
    "    \n",
    "    fig, ax = plt.subplots(figsize = (13, 8))\n",
    "    \n",
    "    sns.scatterplot(data = data, x = 'x', y = 'y', hue = 'Type', ax = ax)\n",
    "    \n",
    "    if line:\n",
    "        ax.plot([0, data['x'].max()], [0, data['x'].max()])\n",
    "        \n",
    "    if point1:\n",
    "        ax.plot([4], [2], markersize = 15, marker = '*', color = 'g')\n",
    "        \n",
    "    if point2:\n",
    "        ax.plot([2], [4], markersize = 15, marker = '*', color = 'g')\n",
    "        \n",
    "    if point3:\n",
    "        ax.plot([4], [4], markersize = 15, marker = '*', color = 'g')"
   ]
  },
  {
   "cell_type": "code",
   "execution_count": 10,
   "id": "private-grade",
   "metadata": {},
   "outputs": [
    {
     "data": {
      "application/vnd.jupyter.widget-view+json": {
       "model_id": "6d17902b6fc54162bf0c2771f72d54fa",
       "version_major": 2,
       "version_minor": 0
      },
      "text/plain": [
       "interactive(children=(Checkbox(value=False, description='line'), Checkbox(value=False, description='point1'), …"
      ]
     },
     "metadata": {},
     "output_type": "display_data"
    }
   ],
   "source": [
    "interact(linear_classification, line = False, point1 = False, point2 = False, point3 = False);"
   ]
  },
  {
   "cell_type": "markdown",
   "id": "regulated-observer",
   "metadata": {},
   "source": [
    "We can solve this problem by defining $h$ as follows:\n",
    "\n",
    "$$h(x, y) = x - y$$\n",
    "\n",
    "- If $h > 0$ → Stark\n",
    "- If $h < 0$ → Bolton"
   ]
  },
  {
   "cell_type": "markdown",
   "id": "commercial-semiconductor",
   "metadata": {},
   "source": [
    "# Biological inspiration\n",
    "\n",
    "\n",
    "This model, strange as it may seem, can be interpreted as a neuron, if we observe a neuron in our brain we will see that it is made up of several denditres and an axon, the neuron connects its axon to the denditres of another neuron, and in turn has several neurons connected to their own denditras.\n",
    "\n",
    "<img src = https://upload.wikimedia.org/wikipedia/commons/thumb/1/10/Blausen_0657_MultipolarNeuron.png/1024px-Blausen_0657_MultipolarNeuron.png>"
   ]
  },
  {
   "cell_type": "markdown",
   "id": "rotary-qualification",
   "metadata": {},
   "source": [
    "So a neuron receives information from several more neurons, but only sends a result (through the axon) to another, that is, the neuron has several inputs but only has one output. Like the previous model that receives two inputs ($x$, $y$) and a single output ($Stark$ / $Bolton$ depending on the case)."
   ]
  },
  {
   "cell_type": "markdown",
   "id": "material-finland",
   "metadata": {},
   "source": [
    "<hr>\n",
    "\n",
    "# From linear regression to logistics regression\n",
    "\n",
    "\n",
    "The first idea that we could have when trying to model the above would be to use the probability that a point is Stark or Bolton and use what we already know, linear regression to model it.\n",
    "\n",
    "$$P = \\alpha + \\beta X$$\n",
    "\n",
    "But something is wrong, here $P \\in [0, 1]$ but in the right side $X \\in (- \\infty, \\infty)$, so we still have a proiblem. What if we use the odds ratio?, the odds ratio is defined as follows: \n",
    "\n",
    "$$Odds_{P} = \\frac{P}{1 - P}$$\n",
    "\n",
    "if we use the odds ratio instead of probability our model would be as follows:\n",
    "\n",
    "$$\\frac{P}{1 - P} = \\alpha + \\beta X$$\n",
    "\n",
    "\n",
    "Notice when the numerator tends to 0 (the probability of success tends to 0) the odds ratio tends to 0. In the other hand when the numerator is bigger than the denominator, the odds ratio is bigger than one, even more so if the denominator tends to 0 (the probability of failure tends to 0 or the probability of success tends to 1) the odds ratio tend to $\\infty$. Thus the odds ratio is a real number in the $[0, \\infty)$, but in the right side of our equation we still have $X \\in (- \\infty, \\infty)$, the problem still there.\n",
    "\n",
    "\n",
    "So let's take a look at the function $\\ln$."
   ]
  },
  {
   "cell_type": "code",
   "execution_count": 11,
   "id": "interesting-insert",
   "metadata": {},
   "outputs": [],
   "source": [
    "x = np.linspace(0.0001, 100, 1000)\n",
    "y = np.log(x) #remember np.log is the logarithm base e"
   ]
  },
  {
   "cell_type": "code",
   "execution_count": 12,
   "id": "assumed-flashing",
   "metadata": {},
   "outputs": [
    {
     "data": {
      "image/png": "[encoded data removed]",
      "text/plain": [
       "<Figure size 936x576 with 1 Axes>"
      ]
     },
     "metadata": {},
     "output_type": "display_data"
    }
   ],
   "source": [
    "fig, ax = plt.subplots(figsize = (13, 8))\n",
    "\n",
    "\n",
    "ax.plot(x, y, color = 'purple', label = '$\\\\ln |x|$')\n",
    "ax.axvline(0, linestyle = '--', color = 'k', alpha = 0.5)\n",
    "ax.axhline(0, linestyle = '--', color = 'k', alpha = 0.5)\n",
    "ax.set_title('Natural logarithm', fontsize = 15)\n",
    "ax.legend(prop = {'size' : 15});"
   ]
  },
  {
   "cell_type": "markdown",
   "id": "warming-norway",
   "metadata": {},
   "source": [
    "\n",
    "$$\\ln \\left| \\frac{P}{1 - P} \\right| =  \\alpha + \\beta X$$\n",
    "\n",
    "Finally $\\ln \\left| \\frac{P}{1 - P} \\right| \\in (- \\infty, \\infty)$ and $X \\in (- \\infty, \\infty)$ and:\n",
    "\n",
    "\n",
    "Maybe you're thinking that the $\\ln$ is not look like a straight line, and you are right, but don't forget the for of the form of the odds."
   ]
  },
  {
   "cell_type": "code",
   "execution_count": 13,
   "id": "swedish-clinton",
   "metadata": {},
   "outputs": [
    {
     "data": {
      "image/png": "[encoded data removed]",
      "text/plain": [
       "<Figure size 936x432 with 2 Axes>"
      ]
     },
     "metadata": {},
     "output_type": "display_data"
    }
   ],
   "source": [
    "p = np.linspace(0.01, 0.99, 1000)\n",
    "odds = p / (1 - p)\n",
    "ln = np.log(odds)\n",
    "\n",
    "fig, ax = plt.subplots(1, 2, figsize = (13, 6))\n",
    "\n",
    "ax[0].plot(p, odds, color = 'purple', label = 'Odds')\n",
    "ax[0].set_xlabel('Probabilities', fontsize = 14)\n",
    "ax[0].set_ylabel('Odds', fontsize = 14)\n",
    "ax[0].legend(prop = {'size' : 12})\n",
    "\n",
    "ax[1].plot(p, ln, color = 'purple', label = 'Natural logarithm of Odds')\n",
    "ax[1].set_xlabel('Probabilities', fontsize = 14)\n",
    "ax[1].set_ylabel('Natural logarithm of Odds', fontsize = 14)\n",
    "ax[1].legend(prop = {'size' : 12});"
   ]
  },
  {
   "cell_type": "markdown",
   "id": "demonstrated-shakespeare",
   "metadata": {},
   "source": [
    "we can solve for P: \n",
    "\n",
    "$$\\ln \\left| \\frac{P}{1 - P} \\right|=  \\alpha + \\beta X$$\n",
    "\n",
    "\n",
    "Apply the exponential function:\n",
    "\n",
    "$$\\frac{P}{1 - P} = e^{\\alpha + \\beta X}$$\n",
    "\n",
    "\n",
    "multiply by $(1 - P)$\n",
    "\n",
    "$$P = e^{\\alpha + \\beta X} (1 - P)$$\n",
    "$$P = e^{\\alpha + \\beta X}  - P e^{\\alpha + \\beta X}$$\n",
    "\n",
    "\n",
    "Add $P e^{\\alpha + \\beta X}$\n",
    "\n",
    "$$P + P e^{\\alpha + \\beta X} = e^{\\alpha + \\beta X}$$\n",
    "\n",
    "$$P (1 + e^{\\alpha + \\beta X}) = e^{\\alpha + \\beta X}$$\n",
    "\n",
    "\n",
    "Divide by $(1 + e^{\\alpha + \\beta X})$\n",
    "\n",
    "$$P = \\frac{e^{\\alpha + \\beta X}}{1 + e^{\\alpha + \\beta X}}$$\n",
    "\n",
    "And finally apply a sneaky 1:\n",
    "\n",
    "$$P = \\frac{e^{-(\\alpha + \\beta X)}}{e^{-(\\alpha + \\beta X)}}\\frac{e^{\\alpha + \\beta X}}{1 + e^{\\alpha + \\beta X}}$$\n",
    "\n",
    "$$P = \\frac{1}{1 + e^{-(\\alpha + \\beta X)}}$$\n",
    "\n"
   ]
  },
  {
   "cell_type": "code",
   "execution_count": 14,
   "id": "continental-miniature",
   "metadata": {},
   "outputs": [
    {
     "data": {
      "image/png": "[encoded data removed]",
      "text/plain": [
       "<Figure size 936x576 with 1 Axes>"
      ]
     },
     "metadata": {},
     "output_type": "display_data"
    }
   ],
   "source": [
    "fig, ax = plt.subplots(figsize = (13, 8))\n",
    "\n",
    "x = np.linspace(-7, 7, 1000)\n",
    "y = 1 / (1 + np.exp(-x))\n",
    "\n",
    "ax.plot(x, y, color = 'purple', label = '$P = \\\\frac{1}{1 + e^{-x}}$')\n",
    "ax.axvline(0, linestyle = '--', color = 'k', alpha = 0.5)\n",
    "ax.axhline(0, linestyle = '--', color = 'r', alpha = 0.5)\n",
    "ax.axhline(0.5, linestyle = '--', color = 'y', alpha = 0.5)\n",
    "ax.axhline(1, linestyle = '--', color = 'g', alpha = 0.5)\n",
    "ax.set_title('Sigmoid Function', fontsize = 15)\n",
    "ax.legend(prop = {'size' : 15});"
   ]
  },
  {
   "cell_type": "markdown",
   "id": "polar-stock",
   "metadata": {},
   "source": [
    "In the case of multiple predictor variables we would have:\n",
    "\n",
    "$$\\ln \\left| \\frac{P}{1 - P} \\right| =  w_0 + w_1 X_1 + \\cdots + w_k X_k$$\n",
    "\n",
    "And we can define two vectors:\n",
    "\n",
    "$$\\vec{w}\n",
    "=\n",
    "\\begin{bmatrix}\n",
    "w_0\\\\\n",
    "w_1\\\\\n",
    "\\vdots \\\\\n",
    "w_k \\\\\n",
    "\\end{bmatrix}\n",
    "$$\n",
    "\n",
    "\n",
    "$$\\vec{X}\n",
    "=\n",
    "\\begin{bmatrix}\n",
    "1\\\\\n",
    "X_1\\\\\n",
    "\\vdots \\\\\n",
    "X_k \\\\\n",
    "\\end{bmatrix}\n",
    "$$\n",
    "\n",
    "Thus:\n",
    "\n",
    "$$\\ln \\left| \\frac{P}{1 - P} \\right| = w^T X$$\n",
    "\n",
    "$$P = \\frac{1}{1 + e^{-(w^T X)}}$$"
   ]
  },
  {
   "cell_type": "markdown",
   "id": "expressed-decade",
   "metadata": {},
   "source": [
    "# How we estimate the $\\vec{w}$\n",
    "\n",
    "Every time we fit a statistical or machine learning model, we are estimating parameters.A single variable linear regression has the equation:\n",
    "\n",
    "$Y = w_0 + w_1 X$\n",
    "\n",
    "Our goal when we fit this model is to estimate the parameters  $w_0$ and $w_1$ given our observed values of $Y$ and $X$. We use Ordinary Least Squares (OLS) to fit the linear regression model and estimate $w_0$ and $w_1$.\n",
    "\n",
    "- **Can we use OLS to estimate the $\\vec{w}$?**\n",
    "\n",
    "The answer is **No**. So we need to change cost function, now we will focus on the cross-error entropy function call.\n",
    "\n",
    "$$j = - \\left[y \\ln(P) + (1 - y) \\ln(1 - P) \\right]$$"
   ]
  },
  {
   "cell_type": "code",
   "execution_count": 15,
   "id": "dominican-federal",
   "metadata": {},
   "outputs": [],
   "source": [
    "def j(y, p):\n",
    "    return - (y * np.log(p) + (1 - y) * np.log(1 - p))"
   ]
  },
  {
   "cell_type": "code",
   "execution_count": 16,
   "id": "tutorial-vision",
   "metadata": {},
   "outputs": [
    {
     "name": "stderr",
     "output_type": "stream",
     "text": [
      "<ipython-input-15-b82060e7f6c9>:2: RuntimeWarning: divide by zero encountered in log\n",
      "  return - (y * np.log(p) + (1 - y) * np.log(1 - p))\n"
     ]
    },
    {
     "data": {
      "text/plain": [
       "inf"
      ]
     },
     "execution_count": 16,
     "metadata": {},
     "output_type": "execute_result"
    }
   ],
   "source": [
    "j(1, 0)"
   ]
  },
  {
   "cell_type": "code",
   "execution_count": 17,
   "id": "funny-revision",
   "metadata": {},
   "outputs": [
    {
     "name": "stderr",
     "output_type": "stream",
     "text": [
      "<ipython-input-15-b82060e7f6c9>:2: RuntimeWarning: divide by zero encountered in log\n",
      "  return - (y * np.log(p) + (1 - y) * np.log(1 - p))\n"
     ]
    },
    {
     "data": {
      "text/plain": [
       "inf"
      ]
     },
     "execution_count": 17,
     "metadata": {},
     "output_type": "execute_result"
    }
   ],
   "source": [
    "j(0, 1)"
   ]
  },
  {
   "cell_type": "code",
   "execution_count": 18,
   "id": "revolutionary-iraqi",
   "metadata": {},
   "outputs": [
    {
     "name": "stderr",
     "output_type": "stream",
     "text": [
      "<ipython-input-15-b82060e7f6c9>:2: RuntimeWarning: divide by zero encountered in log\n",
      "  return - (y * np.log(p) + (1 - y) * np.log(1 - p))\n",
      "<ipython-input-15-b82060e7f6c9>:2: RuntimeWarning: invalid value encountered in double_scalars\n",
      "  return - (y * np.log(p) + (1 - y) * np.log(1 - p))\n"
     ]
    },
    {
     "data": {
      "text/plain": [
       "nan"
      ]
     },
     "execution_count": 18,
     "metadata": {},
     "output_type": "execute_result"
    }
   ],
   "source": [
    "j(0, 0)"
   ]
  },
  {
   "cell_type": "code",
   "execution_count": 19,
   "id": "foreign-recorder",
   "metadata": {},
   "outputs": [
    {
     "name": "stderr",
     "output_type": "stream",
     "text": [
      "<ipython-input-15-b82060e7f6c9>:2: RuntimeWarning: divide by zero encountered in log\n",
      "  return - (y * np.log(p) + (1 - y) * np.log(1 - p))\n",
      "<ipython-input-15-b82060e7f6c9>:2: RuntimeWarning: invalid value encountered in double_scalars\n",
      "  return - (y * np.log(p) + (1 - y) * np.log(1 - p))\n"
     ]
    },
    {
     "data": {
      "text/plain": [
       "nan"
      ]
     },
     "execution_count": 19,
     "metadata": {},
     "output_type": "execute_result"
    }
   ],
   "source": [
    "j(1, 1)"
   ]
  },
  {
   "cell_type": "code",
   "execution_count": 21,
   "id": "communist-expression",
   "metadata": {},
   "outputs": [
    {
     "data": {
      "text/plain": [
       "0.01005033585350145"
      ]
     },
     "execution_count": 21,
     "metadata": {},
     "output_type": "execute_result"
    }
   ],
   "source": [
    "j(1, 0.99)"
   ]
  },
  {
   "cell_type": "code",
   "execution_count": 22,
   "id": "charged-intellectual",
   "metadata": {},
   "outputs": [
    {
     "data": {
      "text/plain": [
       "0.6931471805599453"
      ]
     },
     "execution_count": 22,
     "metadata": {},
     "output_type": "execute_result"
    }
   ],
   "source": [
    "j(1, 0.5)"
   ]
  },
  {
   "cell_type": "code",
   "execution_count": 24,
   "id": "eleven-rhythm",
   "metadata": {},
   "outputs": [
    {
     "data": {
      "text/plain": [
       "6.907755278982137"
      ]
     },
     "execution_count": 24,
     "metadata": {},
     "output_type": "execute_result"
    }
   ],
   "source": [
    "j(1, 0.001)"
   ]
  },
  {
   "cell_type": "markdown",
   "id": "charitable-automation",
   "metadata": {},
   "source": [
    "As you can see, this metric is smaller the smaller the error we make with our prediction, so we can reuse the above to build a function to minimize.\n",
    "\n",
    "$$J = - \\sum \\left[y_n \\ln(P_n) + (1 - y_n) \\ln(1 - P_n) \\right]$$\n",
    "\n",
    "To minimize the previous function we can use the descent of the gradient but for this we need to know what the gradient is, but first we must remember that P is a function of $w^T X$ and this in turn of $w_i$.\n",
    "\n",
    "$$P = \\frac{1}{1 + e^{-(w^T X)}}$$\n",
    "\n",
    "\n",
    "So if we use the chain rule we can express the derivative of $J$ with respect to $w_i$ as:\n",
    "\n",
    "$$\\frac{\\partial J}{\\partial w_i} = \\sum \\frac{\\partial J}{\\partial P_n}\\frac{\\partial P_n}{\\partial \\alpha_n}\\frac{\\partial \\alpha_n}{\\partial w_i}$$\n",
    "\n",
    "where $\\alpha$ is:\n",
    "\n",
    "\n",
    "$$\\alpha_i = w^T x_i$$\n",
    "\n",
    "If we calculate each of the individual derivatives we have:\n",
    "\n",
    "$$\n",
    "\\left \\{\n",
    "\\begin{array}{l}\n",
    "\\frac{\\partial J}{\\partial P_n} = -\\left[\\frac{y_n}{p_n} - \\frac{1 - y_n}{1 - p_n}\\right]\\\\\n",
    "\\frac{\\partial P_i}{\\partial \\alpha_n} = \\frac{1}{(1 + e^{-(w^T X)})^2} (e^{-\\alpha_n})(- 1)\\\\\n",
    "\\frac{\\partial \\alpha_n}{\\partial w_i} = x_{ni}\n",
    "\\end{array}\n",
    "\\right.\n",
    "$$\n",
    "\n",
    "\n",
    "\n",
    "The second derivative can be simplified\n",
    "\n",
    "$$\\frac{\\partial P_i}{\\partial \\alpha_i} = \\frac{1}{(1 + e^{-(w^T X)})^2} (e^{-\\alpha_i})(- 1)$$\n",
    "<hr>\n",
    "$$\\frac{1}{(1 + e^{-(w^T X)})^2} (e^{-\\alpha_i})(- 1) = \\frac{e^{-\\alpha_i}}{(1 + e^{-(w^T X)})^2}$$\n",
    "<hr>\n",
    "$$\\frac{e^{-\\alpha_i}}{(1 + e^{-(w^T X)})^2} = \\frac{1}{1 + e^{-(w^T X)}} \\frac{e^{-\\alpha_i}}{(1 + e^{-(w^T X)})}$$\n",
    "\n",
    "Finally notice that:\n",
    "\n",
    "$$1 - P_i = 1 - \\frac{1}{1 + e^{-(\\vec{w} \\cdot \\vec{X}_{ui})}}$$\n",
    "\n",
    "$$1 - P_i = \\frac{1 + e^{-(\\vec{w} \\cdot \\vec{X}_{ui})}}{1 + e^{-(\\vec{w} \\cdot \\vec{X}_{ui})}} - \\frac{1}{1 + e^{-(\\vec{w} \\cdot \\vec{X}_{ui})}}$$\n",
    "\n",
    "$$1 - P_i = \\frac{1 + e^{-(\\vec{w} \\cdot \\vec{X}_{ui})} - 1}{1 + e^{-(\\vec{w} \\cdot \\vec{X}_{ui})}}$$\n",
    "\n",
    "<div class=\"alert alert-danger\">$$1 - P_i = \\frac{e^{-(\\vec{w} \\cdot \\vec{X}_{ui})}}{1 + e^{-(\\vec{w} \\cdot \\vec{X}_{ui})}}$$</div>\n",
    "\n",
    "\n",
    "So.\n",
    "\n",
    "\n",
    "$$\n",
    "\\left \\{\n",
    "\\begin{array}{l}\n",
    "\\frac{\\partial J}{\\partial P_i} = -\\left[\\frac{y_i}{p_i} - \\frac{1 - y_i}{1 - p_i}\\right]\\\\\n",
    "\\frac{\\partial P_i}{\\partial \\alpha_i} = P_i (1 - P_i)\\\\\n",
    "\\frac{\\partial \\alpha_i}{\\partial w_i} = x_{ni}\n",
    "\\end{array}\n",
    "\\right.\n",
    "$$\n",
    "\n",
    "\n",
    "Putting them all together:\n",
    "\n",
    "$$\\frac{\\partial J}{\\partial w_i} = - \\sum \\left[ \\frac{y_i}{P_i} P_i(1 - P_i)x_{ni} - \\frac{1 - y_i}{1 - p_i} P_i (1 - P_i) x_{ni}\\right]$$\n",
    "\n",
    "\n",
    "\n",
    "$$\\frac{\\partial J}{\\partial w_i} = - \\sum \\left[ y_i(1 - P_i)x_{ni} - (1 - y_i) P_i  x_{ni}\\right]$$\n",
    "\n",
    "$$\\frac{\\partial J}{\\partial w_i} = - \\sum \\left[ (y_i - y_iP_i - P_i + y_iP_i)  x_{ni}\\right]$$\n",
    "\n",
    "\n",
    "$$\\frac{\\partial J}{\\partial w_i} = - \\sum(y_i  - P_i)  x_{ni}$$\n",
    "\n",
    "$$\\frac{\\partial J}{\\partial w_i} =  \\sum(P_i  - y_i)  x_{ni}$$\n",
    "\n",
    "<hr>\n",
    "\n",
    "$$\\frac{\\partial J}{\\partial \\vec{w}} =  \\sum(P_i  - y_i)  \\vec{x_n}$$\n",
    "\n",
    "\n",
    "<hr>\n",
    "\n",
    "$$\\nabla J =  X^T (P  - y)$$"
   ]
  },
  {
   "cell_type": "code",
   "execution_count": 25,
   "id": "desirable-chancellor",
   "metadata": {},
   "outputs": [
    {
     "data": {
      "text/html": [
       "<div>\n",
       "<style scoped>\n",
       "    .dataframe tbody tr th:only-of-type {\n",
       "        vertical-align: middle;\n",
       "    }\n",
       "\n",
       "    .dataframe tbody tr th {\n",
       "        vertical-align: top;\n",
       "    }\n",
       "\n",
       "    .dataframe thead th {\n",
       "        text-align: right;\n",
       "    }\n",
       "</style>\n",
       "<table border=\"1\" class=\"dataframe\">\n",
       "  <thead>\n",
       "    <tr style=\"text-align: right;\">\n",
       "      <th></th>\n",
       "      <th>x</th>\n",
       "      <th>y</th>\n",
       "      <th>Type</th>\n",
       "    </tr>\n",
       "  </thead>\n",
       "  <tbody>\n",
       "    <tr>\n",
       "      <th>0</th>\n",
       "      <td>3.948864</td>\n",
       "      <td>5.043422</td>\n",
       "      <td>1</td>\n",
       "    </tr>\n",
       "    <tr>\n",
       "      <th>1</th>\n",
       "      <td>4.654946</td>\n",
       "      <td>3.221058</td>\n",
       "      <td>1</td>\n",
       "    </tr>\n",
       "    <tr>\n",
       "      <th>2</th>\n",
       "      <td>2.346167</td>\n",
       "      <td>3.612457</td>\n",
       "      <td>1</td>\n",
       "    </tr>\n",
       "    <tr>\n",
       "      <th>3</th>\n",
       "      <td>3.160796</td>\n",
       "      <td>4.624555</td>\n",
       "      <td>1</td>\n",
       "    </tr>\n",
       "    <tr>\n",
       "      <th>4</th>\n",
       "      <td>3.705330</td>\n",
       "      <td>3.836523</td>\n",
       "      <td>1</td>\n",
       "    </tr>\n",
       "  </tbody>\n",
       "</table>\n",
       "</div>"
      ],
      "text/plain": [
       "          x         y  Type\n",
       "0  3.948864  5.043422     1\n",
       "1  4.654946  3.221058     1\n",
       "2  2.346167  3.612457     1\n",
       "3  3.160796  4.624555     1\n",
       "4  3.705330  3.836523     1"
      ]
     },
     "execution_count": 25,
     "metadata": {},
     "output_type": "execute_result"
    }
   ],
   "source": [
    "x = [4 + np.random.normal() for i in range(20)] + [2 + np.random.normal() for i in range(20)]\n",
    "y = [4 + np.random.normal() for i in range(20)] + [2 + np.random.normal() for i in range(20)]\n",
    "z = [1] * 20 + [0] * 20\n",
    "data = pd.DataFrame({'x' : x, 'y' : y, 'Type' : z})\n",
    "data.head()"
   ]
  },
  {
   "cell_type": "code",
   "execution_count": 26,
   "id": "random-baseline",
   "metadata": {},
   "outputs": [
    {
     "data": {
      "text/plain": [
       "<AxesSubplot:xlabel='x', ylabel='y'>"
      ]
     },
     "execution_count": 26,
     "metadata": {},
     "output_type": "execute_result"
    },
    {
     "data": {
      "image/png": "[encoded data removed]",
      "text/plain": [
       "<Figure size 936x576 with 1 Axes>"
      ]
     },
     "metadata": {},
     "output_type": "display_data"
    }
   ],
   "source": [
    "fig, ax = plt.subplots(figsize = (13, 8))\n",
    "    \n",
    "sns.scatterplot(data = data, x = 'x', y = 'y', hue = 'Type', ax = ax)"
   ]
  },
  {
   "cell_type": "code",
   "execution_count": 55,
   "id": "identical-singapore",
   "metadata": {},
   "outputs": [],
   "source": [
    "class LogisticClassifier:\n",
    "    \n",
    "    def __init__(self, X, y):\n",
    "        \n",
    "        self.n, self.d = X.shape\n",
    "        self.y = y\n",
    "        \n",
    "        #add a new column\n",
    "        new = np.array([[1] * self.n]).T\n",
    "        self.X = np.concatenate((X, new), axis = 1)\n",
    "        self.w = np.random.random(self.d + 1)\n",
    "    \n",
    "    \n",
    "    def _sigma(self, x):\n",
    "        return 1 / (1 + np.exp(-x))\n",
    "    \n",
    "    def _gradient_descent(self, w0, alpha = 0.3, epsilon = 0.1):\n",
    "        \n",
    "        p = self._sigma(self.X.dot(w0))\n",
    "        \n",
    "        w1 = w0 - alpha * self.X.T.dot(p - self.y) \n",
    "        \n",
    "        \n",
    "        while np.linalg.norm(w1 - w0) > epsilon:\n",
    "            \n",
    "            w0 = w1\n",
    "            \n",
    "            p = self._sigma(self.X.dot(w0))\n",
    "            w1 = w0 - alpha * self.X.T.dot(p - self.y)\n",
    "            \n",
    "            \n",
    "        return w0\n",
    "    \n",
    "    \n",
    "    def fit(self):\n",
    "        self.w = self._gradient_descent(self.w)\n",
    "        \n",
    "    def predict(self, X):\n",
    "        new = np.array([[1] * self.n]).T\n",
    "        X = np.concatenate((X, new), axis = 1)\n",
    "        \n",
    "        return np.round(self._sigma(X.dot(self.w)))"
   ]
  },
  {
   "cell_type": "code",
   "execution_count": 56,
   "id": "neither-conjunction",
   "metadata": {},
   "outputs": [],
   "source": [
    "X = data.drop('Type', axis = 1).values\n",
    "y = data['Type'].values"
   ]
  },
  {
   "cell_type": "code",
   "execution_count": 57,
   "id": "north-utility",
   "metadata": {},
   "outputs": [],
   "source": [
    "cls = LogisticClassifier(X, y)"
   ]
  },
  {
   "cell_type": "code",
   "execution_count": 58,
   "id": "future-palace",
   "metadata": {},
   "outputs": [],
   "source": [
    "cls.fit()"
   ]
  },
  {
   "cell_type": "code",
   "execution_count": 59,
   "id": "protected-rebate",
   "metadata": {},
   "outputs": [],
   "source": [
    "predinctions = cls.predict(X)"
   ]
  },
  {
   "cell_type": "code",
   "execution_count": 60,
   "id": "under-prospect",
   "metadata": {},
   "outputs": [
    {
     "data": {
      "text/plain": [
       "0.95"
      ]
     },
     "execution_count": 60,
     "metadata": {},
     "output_type": "execute_result"
    }
   ],
   "source": [
    "(y == predinctions).mean()"
   ]
  },
  {
   "cell_type": "code",
   "execution_count": 61,
   "id": "demographic-consideration",
   "metadata": {},
   "outputs": [
    {
     "data": {
      "image/png": "[encoded data removed]",
      "text/plain": [
       "<Figure size 936x576 with 2 Axes>"
      ]
     },
     "metadata": {},
     "output_type": "display_data"
    }
   ],
   "source": [
    "fig, ax = plt.subplots(1, 2, figsize = (13, 8))\n",
    "\n",
    "sns.scatterplot(data = data, x = 'x', y = 'y', hue = 'Type', ax = ax[0])\n",
    "sns.scatterplot(data = data, x = 'x', y = 'y', hue = predinctions, ax = ax[1]);"
   ]
  },
  {
   "cell_type": "code",
   "execution_count": 65,
   "id": "victorian-consultation",
   "metadata": {},
   "outputs": [
    {
     "data": {
      "text/plain": [
       "2"
      ]
     },
     "execution_count": 65,
     "metadata": {},
     "output_type": "execute_result"
    }
   ],
   "source": [
    "(y != predinctions).sum()"
   ]
  },
  {
   "cell_type": "code",
   "execution_count": 62,
   "id": "diverse-fetish",
   "metadata": {},
   "outputs": [
    {
     "data": {
      "text/plain": [
       "array([  13.67676134,   28.26122491, -131.50334963])"
      ]
     },
     "execution_count": 62,
     "metadata": {},
     "output_type": "execute_result"
    }
   ],
   "source": [
    "cls.w"
   ]
  },
  {
   "cell_type": "markdown",
   "id": "hidden-tension",
   "metadata": {},
   "source": [
    "$$w_1 x_1 + w_2 x_2 + w_0 = 0$$"
   ]
  },
  {
   "cell_type": "code",
   "execution_count": 63,
   "id": "according-black",
   "metadata": {},
   "outputs": [],
   "source": [
    "def line(x):\n",
    "    return -(cls.w[1] / cls.w[0]) * x  - (cls.w[2] / cls.w[0])"
   ]
  },
  {
   "cell_type": "code",
   "execution_count": 64,
   "id": "casual-carolina",
   "metadata": {},
   "outputs": [
    {
     "data": {
      "image/png": "[encoded data removed]",
      "text/plain": [
       "<Figure size 936x576 with 1 Axes>"
      ]
     },
     "metadata": {},
     "output_type": "display_data"
    }
   ],
   "source": [
    "fig, ax = plt.subplots(figsize = (13, 8))\n",
    "\n",
    "x = np.linspace(1, 5)\n",
    "ax.plot(x, line(x), color = 'r')\n",
    "sns.scatterplot(data = data, x = 'x', y = 'y', hue = 'Type', ax = ax);"
   ]
  },
  {
   "cell_type": "code",
   "execution_count": null,
   "id": "cardiac-burning",
   "metadata": {},
   "outputs": [],
   "source": [
    "fig, ax = plt.subplots(figsize = (13, 8))\n",
    "\n",
    "x = np.linspace(1, 5)\n",
    "ax.plot(x, line(x), color = 'r')\n",
    "sns.scatterplot(data = data, x = 'x', y = 'y', hue = predinctions, ax = ax);"
   ]
  },
  {
   "cell_type": "code",
   "execution_count": null,
   "id": "laden-priority",
   "metadata": {},
   "outputs": [],
   "source": []
  }
 ],
 "metadata": {
  "kernelspec": {
   "display_name": "Python 3",
   "language": "python",
   "name": "python3"
  },
  "language_info": {
   "codemirror_mode": {
    "name": "ipython",
    "version": 3
   },
   "file_extension": ".py",
   "mimetype": "text/x-python",
   "name": "python",
   "nbconvert_exporter": "python",
   "pygments_lexer": "ipython3",
   "version": "3.8.5"
  }
 },
 "nbformat": 4,
 "nbformat_minor": 5
}
