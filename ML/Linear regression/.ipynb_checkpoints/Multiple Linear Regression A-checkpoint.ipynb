{
 "cells": [
  {
   "cell_type": "markdown",
   "id": "appointed-floor",
   "metadata": {},
   "source": [
    "# Multiple Linear Regression\n",
    "\n",
    "\n",
    "In the one-dimensional case we had:\n",
    "\n",
    "$$\\{ (x_1, y_1), (x_1, y_1), (x_1, y_1), \\cdots, (x_n, y_n) \\}$$\n",
    "\n",
    "Now, we still have this, but $x_i$ is a vector, not a scalar.\n",
    "\n",
    "$$\\hat{y} = w^T x + b $$\n",
    "\n",
    "we will call the size Dimensionality, and we will represent it by the letter $D$. note that $w$ is also of dimension $D$. We can always absorb $b$ into $w$ by appending a 1 to the feature vector $x$.\n",
    "\n",
    "- This is equivalent to adding a column of 1s to our data matrix $X$\n",
    "\n",
    "$$\\hat{y} = b + w_1 x_1 + w_2 x_2 + \\cdots + w_D x_D$$\n",
    "$$\\hat{y} = w_0 + w_1 x_1 + w_2 x_2 + \\cdots + w_D x_D$$\n",
    "$$\\hat{y} = w_0 x_0 + w_1 x_1 + w_2 x_2 + \\cdots + w_D x_D$$\n",
    "\n",
    "Where $x_0 = 1$ and so:\n",
    "\n",
    "$$\\hat{y} = w^T x$$\n",
    "\n",
    "Imagine that these are your $X$ matrix:\n",
    "\n",
    "$$\n",
    "X\n",
    "=\n",
    "\\begin{bmatrix}\n",
    "0 & 0 & 1\\\\\n",
    "0 & 1 & 0\\\\\n",
    "1 & 0 & 0\\\\\n",
    "1 & 1 & 1\\\\\n",
    "\\end{bmatrix}\n",
    "$$\n",
    "\n",
    "and\n",
    "\n",
    "$$\n",
    "w\n",
    "=\n",
    "\\begin{bmatrix}\n",
    "1 \\\\\n",
    "2 \\\\\n",
    "3 \\\\\n",
    "\\end{bmatrix}\n",
    "$$\n",
    "\n",
    "\n",
    "If we want to make a prediction with $x_1$\n",
    "\n",
    "$$\\hat{y_1} = w^T x_1\n",
    "=\n",
    "\\begin{bmatrix}\n",
    "1 & 2 & 3\\\\\n",
    "\\end{bmatrix}\n",
    "\\begin{bmatrix}\n",
    "0 \\\\\n",
    "0 \\\\\n",
    "1 \\\\\n",
    "\\end{bmatrix}\n",
    "= 3\n",
    "$$\n",
    "\n",
    "\n",
    "\n",
    "This is extremely tedious to do for each vector but we can do it all at once with the following operation:\n",
    "\n",
    "$$Y_{4 \\times 1} = X_{4 \\times 3} w_{3 \\times 1} =\n",
    "\\begin{bmatrix}\n",
    "0 & 0 & 1\\\\\n",
    "0 & 1 & 0\\\\\n",
    "1 & 0 & 0\\\\\n",
    "1 & 1 & 1\\\\\n",
    "\\end{bmatrix}_{4 \\times 3}\n",
    "\\begin{bmatrix}\n",
    "1 \\\\\n",
    "2 \\\\\n",
    "3 \\\\\n",
    "\\end{bmatrix}_{3 \\times 1}\n",
    "$$"
   ]
  },
  {
   "cell_type": "markdown",
   "id": "caring-apple",
   "metadata": {},
   "source": [
    "##  Calculus\n",
    "\n",
    "\n",
    "Now we must optimize the cost function again, luckily it has not changed.\n",
    "\n",
    "$$S(w) = \\sum e_{i}^{2} = \\sum (y_i - \\hat{y}_i)^2 = \\sum (y_i - w^T x_i)^2$$\n",
    "\n",
    "\n",
    "\n",
    "Now let's find the derivative for each of the $w_j$\n",
    "\n",
    "$$\\frac{\\partial S}{\\partial w_j} = \\sum 2(y_i - \\hat{y}_i) (- x_{ij})$$\n",
    "\n",
    "\n",
    "\n",
    "we equal 0 each:\n",
    "\n",
    "$$\\sum y_i(- x_{ij}) - \\sum w^T x_i(- x_{ij}) = 0$$\n",
    "$$\\sum w^T x_i(- x_{ij}) = \\sum y_i(- x_{ij})$$\n",
    "\n",
    "We can take w ^ T from the sum\n",
    "\n",
    "$$w^T  \\sum x_i(- x_{ij}) = \\sum y_i(- x_{ij})$$\n",
    "\n",
    "\n",
    "This must be done for each of the $w_j$\n",
    "\n",
    "$$w^T  \\sum x_i(- x_{i1}) = \\sum y_i(- x_{i1})$$\n",
    "$$w^T  \\sum x_i(- x_{i2}) = \\sum y_i(- x_{i2})$$\n",
    "$$\\vdots$$\n",
    "$$w^T  \\sum x_i(- x_{iD}) = \\sum y_i(- x_{iD})$$\n",
    "\n",
    "\n",
    "\n",
    "We can rewrite them all together as follows:\n",
    "\n",
    "$$w^T (X^T X) = y^T X$$\n",
    "\n",
    "\n",
    "We transpose again ($(A^T B)^T = B^T A$).\n",
    "\n",
    "$$ (X^T X) w = X^T y$$\n",
    "\n",
    "Noticing that $(X^T X)^T = (X^T X)$\n",
    "\n",
    "\n",
    "Finally we multiply by the inverse of $(X^T X)$\n",
    "\n",
    "$$ w = (X^T X)^{-1} X^T y$$"
   ]
  },
  {
   "cell_type": "markdown",
   "id": "frozen-wrapping",
   "metadata": {},
   "source": [
    "## Exercise\n",
    "\n",
    "implements multiple linear regression"
   ]
  },
  {
   "cell_type": "code",
   "execution_count": 1,
   "id": "acquired-plenty",
   "metadata": {},
   "outputs": [],
   "source": [
    "import numpy as np\n",
    "import pandas as pd\n",
    "import matplotlib.pyplot as plt\n",
    "import seaborn as sns\n",
    "from mpl_toolkits.mplot3d import Axes3D\n",
    "%matplotlib inline"
   ]
  },
  {
   "cell_type": "code",
   "execution_count": 2,
   "id": "progressive-payroll",
   "metadata": {},
   "outputs": [],
   "source": [
    "sns.set()"
   ]
  },
  {
   "cell_type": "code",
   "execution_count": 3,
   "id": "brutal-lawyer",
   "metadata": {},
   "outputs": [],
   "source": [
    "data = pd.read_csv('data_2d.csv', names = ['X1', 'X2', 'y'])"
   ]
  },
  {
   "cell_type": "code",
   "execution_count": 4,
   "id": "mexican-housing",
   "metadata": {},
   "outputs": [
    {
     "data": {
      "text/html": [
       "<div>\n",
       "<style scoped>\n",
       "    .dataframe tbody tr th:only-of-type {\n",
       "        vertical-align: middle;\n",
       "    }\n",
       "\n",
       "    .dataframe tbody tr th {\n",
       "        vertical-align: top;\n",
       "    }\n",
       "\n",
       "    .dataframe thead th {\n",
       "        text-align: right;\n",
       "    }\n",
       "</style>\n",
       "<table border=\"1\" class=\"dataframe\">\n",
       "  <thead>\n",
       "    <tr style=\"text-align: right;\">\n",
       "      <th></th>\n",
       "      <th>X1</th>\n",
       "      <th>X2</th>\n",
       "      <th>y</th>\n",
       "    </tr>\n",
       "  </thead>\n",
       "  <tbody>\n",
       "    <tr>\n",
       "      <th>0</th>\n",
       "      <td>17.930201</td>\n",
       "      <td>94.520592</td>\n",
       "      <td>320.259530</td>\n",
       "    </tr>\n",
       "    <tr>\n",
       "      <th>1</th>\n",
       "      <td>97.144697</td>\n",
       "      <td>69.593282</td>\n",
       "      <td>404.634472</td>\n",
       "    </tr>\n",
       "    <tr>\n",
       "      <th>2</th>\n",
       "      <td>81.775901</td>\n",
       "      <td>5.737648</td>\n",
       "      <td>181.485108</td>\n",
       "    </tr>\n",
       "    <tr>\n",
       "      <th>3</th>\n",
       "      <td>55.854342</td>\n",
       "      <td>70.325902</td>\n",
       "      <td>321.773638</td>\n",
       "    </tr>\n",
       "    <tr>\n",
       "      <th>4</th>\n",
       "      <td>49.366550</td>\n",
       "      <td>75.114040</td>\n",
       "      <td>322.465486</td>\n",
       "    </tr>\n",
       "  </tbody>\n",
       "</table>\n",
       "</div>"
      ],
      "text/plain": [
       "          X1         X2           y\n",
       "0  17.930201  94.520592  320.259530\n",
       "1  97.144697  69.593282  404.634472\n",
       "2  81.775901   5.737648  181.485108\n",
       "3  55.854342  70.325902  321.773638\n",
       "4  49.366550  75.114040  322.465486"
      ]
     },
     "execution_count": 4,
     "metadata": {},
     "output_type": "execute_result"
    }
   ],
   "source": [
    "data.head()"
   ]
  },
  {
   "cell_type": "code",
   "execution_count": null,
   "id": "settled-turkey",
   "metadata": {},
   "outputs": [],
   "source": []
  },
  {
   "cell_type": "markdown",
   "id": "clinical-journalist",
   "metadata": {},
   "source": [
    "## Polynomial Regression\n",
    "\n",
    "We had already made transformations on the data in such a way that we were able to model phenomena that did not seem to have a linear relationship\n",
    "\n",
    "- In the linear regression model, what gives it its name is not the linearity of the input variables, but rather the linearity of the model parameters.\n",
    "\n",
    "\n",
    "Now that we know the multiple regression we can complete polynomials that weren't possible before like the following:\n",
    "\n",
    "$$\\hat{y} = w_0 + w_1 x + x_2 x^2$$"
   ]
  },
  {
   "cell_type": "code",
   "execution_count": 16,
   "id": "sudden-strategy",
   "metadata": {},
   "outputs": [],
   "source": [
    "data = pd.read_csv('data_poly.csv', names = ['X', 'y'])"
   ]
  },
  {
   "cell_type": "code",
   "execution_count": 17,
   "id": "bigger-sudan",
   "metadata": {},
   "outputs": [
    {
     "data": {
      "text/html": [
       "<div>\n",
       "<style scoped>\n",
       "    .dataframe tbody tr th:only-of-type {\n",
       "        vertical-align: middle;\n",
       "    }\n",
       "\n",
       "    .dataframe tbody tr th {\n",
       "        vertical-align: top;\n",
       "    }\n",
       "\n",
       "    .dataframe thead th {\n",
       "        text-align: right;\n",
       "    }\n",
       "</style>\n",
       "<table border=\"1\" class=\"dataframe\">\n",
       "  <thead>\n",
       "    <tr style=\"text-align: right;\">\n",
       "      <th></th>\n",
       "      <th>X</th>\n",
       "      <th>y</th>\n",
       "    </tr>\n",
       "  </thead>\n",
       "  <tbody>\n",
       "    <tr>\n",
       "      <th>0</th>\n",
       "      <td>76.700709</td>\n",
       "      <td>663.797276</td>\n",
       "    </tr>\n",
       "    <tr>\n",
       "      <th>1</th>\n",
       "      <td>95.273544</td>\n",
       "      <td>1014.362282</td>\n",
       "    </tr>\n",
       "    <tr>\n",
       "      <th>2</th>\n",
       "      <td>73.095723</td>\n",
       "      <td>618.938827</td>\n",
       "    </tr>\n",
       "    <tr>\n",
       "      <th>3</th>\n",
       "      <td>46.951635</td>\n",
       "      <td>288.012877</td>\n",
       "    </tr>\n",
       "    <tr>\n",
       "      <th>4</th>\n",
       "      <td>33.313748</td>\n",
       "      <td>144.977556</td>\n",
       "    </tr>\n",
       "  </tbody>\n",
       "</table>\n",
       "</div>"
      ],
      "text/plain": [
       "           X            y\n",
       "0  76.700709   663.797276\n",
       "1  95.273544  1014.362282\n",
       "2  73.095723   618.938827\n",
       "3  46.951635   288.012877\n",
       "4  33.313748   144.977556"
      ]
     },
     "execution_count": 17,
     "metadata": {},
     "output_type": "execute_result"
    }
   ],
   "source": [
    "data.head()"
   ]
  },
  {
   "cell_type": "code",
   "execution_count": 18,
   "id": "neural-swing",
   "metadata": {},
   "outputs": [
    {
     "data": {
      "image/png": "[encoded data removed]",
      "text/plain": [
       "<Figure size 936x576 with 1 Axes>"
      ]
     },
     "metadata": {},
     "output_type": "display_data"
    }
   ],
   "source": [
    "fig, ax = plt.subplots(figsize = (13, 8))\n",
    "\n",
    "ax.scatter(data['X'], data['y']);"
   ]
  },
  {
   "cell_type": "code",
   "execution_count": 19,
   "id": "alike-power",
   "metadata": {},
   "outputs": [],
   "source": [
    "data['X2'] = data['X'] ** 2"
   ]
  },
  {
   "cell_type": "code",
   "execution_count": 20,
   "id": "antique-agenda",
   "metadata": {},
   "outputs": [
    {
     "data": {
      "text/html": [
       "<div>\n",
       "<style scoped>\n",
       "    .dataframe tbody tr th:only-of-type {\n",
       "        vertical-align: middle;\n",
       "    }\n",
       "\n",
       "    .dataframe tbody tr th {\n",
       "        vertical-align: top;\n",
       "    }\n",
       "\n",
       "    .dataframe thead th {\n",
       "        text-align: right;\n",
       "    }\n",
       "</style>\n",
       "<table border=\"1\" class=\"dataframe\">\n",
       "  <thead>\n",
       "    <tr style=\"text-align: right;\">\n",
       "      <th></th>\n",
       "      <th>X</th>\n",
       "      <th>y</th>\n",
       "      <th>X2</th>\n",
       "    </tr>\n",
       "  </thead>\n",
       "  <tbody>\n",
       "    <tr>\n",
       "      <th>0</th>\n",
       "      <td>76.700709</td>\n",
       "      <td>663.797276</td>\n",
       "      <td>5882.998700</td>\n",
       "    </tr>\n",
       "    <tr>\n",
       "      <th>1</th>\n",
       "      <td>95.273544</td>\n",
       "      <td>1014.362282</td>\n",
       "      <td>9077.048216</td>\n",
       "    </tr>\n",
       "    <tr>\n",
       "      <th>2</th>\n",
       "      <td>73.095723</td>\n",
       "      <td>618.938827</td>\n",
       "      <td>5342.984757</td>\n",
       "    </tr>\n",
       "    <tr>\n",
       "      <th>3</th>\n",
       "      <td>46.951635</td>\n",
       "      <td>288.012877</td>\n",
       "      <td>2204.456072</td>\n",
       "    </tr>\n",
       "    <tr>\n",
       "      <th>4</th>\n",
       "      <td>33.313748</td>\n",
       "      <td>144.977556</td>\n",
       "      <td>1109.805806</td>\n",
       "    </tr>\n",
       "  </tbody>\n",
       "</table>\n",
       "</div>"
      ],
      "text/plain": [
       "           X            y           X2\n",
       "0  76.700709   663.797276  5882.998700\n",
       "1  95.273544  1014.362282  9077.048216\n",
       "2  73.095723   618.938827  5342.984757\n",
       "3  46.951635   288.012877  2204.456072\n",
       "4  33.313748   144.977556  1109.805806"
      ]
     },
     "execution_count": 20,
     "metadata": {},
     "output_type": "execute_result"
    }
   ],
   "source": [
    "data.head()"
   ]
  },
  {
   "cell_type": "code",
   "execution_count": 21,
   "id": "polished-technician",
   "metadata": {},
   "outputs": [],
   "source": [
    "X = data[['X', 'X2']]\n",
    "y = data['y']"
   ]
  },
  {
   "cell_type": "code",
   "execution_count": 22,
   "id": "moderate-dublin",
   "metadata": {},
   "outputs": [],
   "source": [
    "model = LinearRegression(X, y)"
   ]
  },
  {
   "cell_type": "code",
   "execution_count": 23,
   "id": "rural-traveler",
   "metadata": {},
   "outputs": [
    {
     "data": {
      "image/png": "[encoded data removed]",
      "text/plain": [
       "<Figure size 936x576 with 1 Axes>"
      ]
     },
     "metadata": {},
     "output_type": "display_data"
    }
   ],
   "source": [
    "fig, ax = plt.subplots(figsize = (13, 8))\n",
    "\n",
    "ax.scatter(data['X'], data['y'])\n",
    "ax.scatter(data['X'], model.predict(X), color = 'r', marker = '*', linewidths = 0.5);"
   ]
  },
  {
   "cell_type": "markdown",
   "id": "adapted-neighbor",
   "metadata": {},
   "source": [
    "\n",
    "This can provide an alternative solution to the problem of cars that we have seen before."
   ]
  },
  {
   "cell_type": "code",
   "execution_count": 26,
   "id": "mental-intensity",
   "metadata": {},
   "outputs": [
    {
     "data": {
      "text/html": [
       "<div>\n",
       "<style scoped>\n",
       "    .dataframe tbody tr th:only-of-type {\n",
       "        vertical-align: middle;\n",
       "    }\n",
       "\n",
       "    .dataframe tbody tr th {\n",
       "        vertical-align: top;\n",
       "    }\n",
       "\n",
       "    .dataframe thead th {\n",
       "        text-align: right;\n",
       "    }\n",
       "</style>\n",
       "<table border=\"1\" class=\"dataframe\">\n",
       "  <thead>\n",
       "    <tr style=\"text-align: right;\">\n",
       "      <th></th>\n",
       "      <th>mpg</th>\n",
       "      <th>cylinders</th>\n",
       "      <th>displacement</th>\n",
       "      <th>horsepower</th>\n",
       "      <th>weight</th>\n",
       "      <th>acceleration</th>\n",
       "      <th>model year</th>\n",
       "      <th>origin</th>\n",
       "      <th>car name</th>\n",
       "    </tr>\n",
       "  </thead>\n",
       "  <tbody>\n",
       "    <tr>\n",
       "      <th>0</th>\n",
       "      <td>18.0</td>\n",
       "      <td>8</td>\n",
       "      <td>307.0</td>\n",
       "      <td>130.0</td>\n",
       "      <td>3504</td>\n",
       "      <td>12.0</td>\n",
       "      <td>70</td>\n",
       "      <td>1</td>\n",
       "      <td>chevrolet chevelle malibu</td>\n",
       "    </tr>\n",
       "    <tr>\n",
       "      <th>1</th>\n",
       "      <td>15.0</td>\n",
       "      <td>8</td>\n",
       "      <td>350.0</td>\n",
       "      <td>165.0</td>\n",
       "      <td>3693</td>\n",
       "      <td>11.5</td>\n",
       "      <td>70</td>\n",
       "      <td>1</td>\n",
       "      <td>buick skylark 320</td>\n",
       "    </tr>\n",
       "    <tr>\n",
       "      <th>2</th>\n",
       "      <td>18.0</td>\n",
       "      <td>8</td>\n",
       "      <td>318.0</td>\n",
       "      <td>150.0</td>\n",
       "      <td>3436</td>\n",
       "      <td>11.0</td>\n",
       "      <td>70</td>\n",
       "      <td>1</td>\n",
       "      <td>plymouth satellite</td>\n",
       "    </tr>\n",
       "    <tr>\n",
       "      <th>3</th>\n",
       "      <td>16.0</td>\n",
       "      <td>8</td>\n",
       "      <td>304.0</td>\n",
       "      <td>150.0</td>\n",
       "      <td>3433</td>\n",
       "      <td>12.0</td>\n",
       "      <td>70</td>\n",
       "      <td>1</td>\n",
       "      <td>amc rebel sst</td>\n",
       "    </tr>\n",
       "    <tr>\n",
       "      <th>4</th>\n",
       "      <td>17.0</td>\n",
       "      <td>8</td>\n",
       "      <td>302.0</td>\n",
       "      <td>140.0</td>\n",
       "      <td>3449</td>\n",
       "      <td>10.5</td>\n",
       "      <td>70</td>\n",
       "      <td>1</td>\n",
       "      <td>ford torino</td>\n",
       "    </tr>\n",
       "  </tbody>\n",
       "</table>\n",
       "</div>"
      ],
      "text/plain": [
       "    mpg  cylinders  displacement  horsepower  weight  acceleration  \\\n",
       "0  18.0          8         307.0       130.0    3504          12.0   \n",
       "1  15.0          8         350.0       165.0    3693          11.5   \n",
       "2  18.0          8         318.0       150.0    3436          11.0   \n",
       "3  16.0          8         304.0       150.0    3433          12.0   \n",
       "4  17.0          8         302.0       140.0    3449          10.5   \n",
       "\n",
       "   model year  origin                   car name  \n",
       "0          70       1  chevrolet chevelle malibu  \n",
       "1          70       1          buick skylark 320  \n",
       "2          70       1         plymouth satellite  \n",
       "3          70       1              amc rebel sst  \n",
       "4          70       1                ford torino  "
      ]
     },
     "execution_count": 26,
     "metadata": {},
     "output_type": "execute_result"
    }
   ],
   "source": [
    "data_auto = pd.read_csv(\"auto-mpg.csv\")\n",
    "data_auto.head()"
   ]
  },
  {
   "cell_type": "code",
   "execution_count": 27,
   "id": "greenhouse-range",
   "metadata": {},
   "outputs": [],
   "source": [
    "data_auto.dropna(inplace = True)"
   ]
  },
  {
   "cell_type": "code",
   "execution_count": 28,
   "id": "marine-glossary",
   "metadata": {},
   "outputs": [
    {
     "data": {
      "image/png": "[encoded data removed]",
      "text/plain": [
       "<Figure size 936x576 with 1 Axes>"
      ]
     },
     "metadata": {},
     "output_type": "display_data"
    }
   ],
   "source": [
    "fig, ax = plt.subplots(figsize = (13, 8))\n",
    "\n",
    "ax.plot(data_auto[\"horsepower\"], data_auto[\"mpg\"], \"ro\")\n",
    "ax.set_xlabel(\"horsepower\", fontsize = 15)\n",
    "ax.set_ylabel(\"Milles per gal\", fontsize = 15)\n",
    "ax.set_title(\"HP vs MPG\", fontsize = 15);"
   ]
  },
  {
   "cell_type": "markdown",
   "id": "explicit-collector",
   "metadata": {},
   "source": [
    "$$\\hat{y} = w_0 + w_1 x^2$$"
   ]
  },
  {
   "cell_type": "code",
   "execution_count": 29,
   "id": "accurate-stuart",
   "metadata": {},
   "outputs": [],
   "source": [
    "X = data_auto['horsepower'].values.reshape(data_auto.shape[0], 1)\n",
    "y = data_auto['mpg']"
   ]
  },
  {
   "cell_type": "code",
   "execution_count": 30,
   "id": "polyphonic-gasoline",
   "metadata": {},
   "outputs": [],
   "source": [
    "model = LinearRegression(X ** 2, y)"
   ]
  },
  {
   "cell_type": "code",
   "execution_count": 31,
   "id": "wrapped-moisture",
   "metadata": {},
   "outputs": [
    {
     "data": {
      "image/png": "[encoded data removed]",
      "text/plain": [
       "<Figure size 936x576 with 1 Axes>"
      ]
     },
     "metadata": {},
     "output_type": "display_data"
    }
   ],
   "source": [
    "fig, ax = plt.subplots(figsize = (13, 8))\n",
    "\n",
    "ax.plot(X, y, \"ro\")\n",
    "ax.scatter(X, model.predict(X ** 2))\n",
    "ax.set_xlabel(\"horsepower\", fontsize = 15)\n",
    "ax.set_ylabel(\"Milles per gal\", fontsize = 15)\n",
    "ax.set_title(\"HP vs MPG\", fontsize = 15);"
   ]
  },
  {
   "cell_type": "code",
   "execution_count": 32,
   "id": "second-theme",
   "metadata": {},
   "outputs": [
    {
     "data": {
      "text/plain": [
       "0.5073670089832611"
      ]
     },
     "execution_count": 32,
     "metadata": {},
     "output_type": "execute_result"
    }
   ],
   "source": [
    "model.R2"
   ]
  },
  {
   "cell_type": "markdown",
   "id": "surprising-reference",
   "metadata": {},
   "source": [
    "$$\\hat{y} = w_0 + w_1 x + w_2 x^2$$"
   ]
  },
  {
   "cell_type": "code",
   "execution_count": 33,
   "id": "abroad-silicon",
   "metadata": {},
   "outputs": [],
   "source": [
    "data_auto['h2'] = X ** 2"
   ]
  },
  {
   "cell_type": "code",
   "execution_count": 34,
   "id": "crazy-librarian",
   "metadata": {},
   "outputs": [
    {
     "data": {
      "text/html": [
       "<div>\n",
       "<style scoped>\n",
       "    .dataframe tbody tr th:only-of-type {\n",
       "        vertical-align: middle;\n",
       "    }\n",
       "\n",
       "    .dataframe tbody tr th {\n",
       "        vertical-align: top;\n",
       "    }\n",
       "\n",
       "    .dataframe thead th {\n",
       "        text-align: right;\n",
       "    }\n",
       "</style>\n",
       "<table border=\"1\" class=\"dataframe\">\n",
       "  <thead>\n",
       "    <tr style=\"text-align: right;\">\n",
       "      <th></th>\n",
       "      <th>mpg</th>\n",
       "      <th>cylinders</th>\n",
       "      <th>displacement</th>\n",
       "      <th>horsepower</th>\n",
       "      <th>weight</th>\n",
       "      <th>acceleration</th>\n",
       "      <th>model year</th>\n",
       "      <th>origin</th>\n",
       "      <th>car name</th>\n",
       "      <th>h2</th>\n",
       "    </tr>\n",
       "  </thead>\n",
       "  <tbody>\n",
       "    <tr>\n",
       "      <th>0</th>\n",
       "      <td>18.0</td>\n",
       "      <td>8</td>\n",
       "      <td>307.0</td>\n",
       "      <td>130.0</td>\n",
       "      <td>3504</td>\n",
       "      <td>12.0</td>\n",
       "      <td>70</td>\n",
       "      <td>1</td>\n",
       "      <td>chevrolet chevelle malibu</td>\n",
       "      <td>16900.0</td>\n",
       "    </tr>\n",
       "    <tr>\n",
       "      <th>1</th>\n",
       "      <td>15.0</td>\n",
       "      <td>8</td>\n",
       "      <td>350.0</td>\n",
       "      <td>165.0</td>\n",
       "      <td>3693</td>\n",
       "      <td>11.5</td>\n",
       "      <td>70</td>\n",
       "      <td>1</td>\n",
       "      <td>buick skylark 320</td>\n",
       "      <td>27225.0</td>\n",
       "    </tr>\n",
       "    <tr>\n",
       "      <th>2</th>\n",
       "      <td>18.0</td>\n",
       "      <td>8</td>\n",
       "      <td>318.0</td>\n",
       "      <td>150.0</td>\n",
       "      <td>3436</td>\n",
       "      <td>11.0</td>\n",
       "      <td>70</td>\n",
       "      <td>1</td>\n",
       "      <td>plymouth satellite</td>\n",
       "      <td>22500.0</td>\n",
       "    </tr>\n",
       "    <tr>\n",
       "      <th>3</th>\n",
       "      <td>16.0</td>\n",
       "      <td>8</td>\n",
       "      <td>304.0</td>\n",
       "      <td>150.0</td>\n",
       "      <td>3433</td>\n",
       "      <td>12.0</td>\n",
       "      <td>70</td>\n",
       "      <td>1</td>\n",
       "      <td>amc rebel sst</td>\n",
       "      <td>22500.0</td>\n",
       "    </tr>\n",
       "    <tr>\n",
       "      <th>4</th>\n",
       "      <td>17.0</td>\n",
       "      <td>8</td>\n",
       "      <td>302.0</td>\n",
       "      <td>140.0</td>\n",
       "      <td>3449</td>\n",
       "      <td>10.5</td>\n",
       "      <td>70</td>\n",
       "      <td>1</td>\n",
       "      <td>ford torino</td>\n",
       "      <td>19600.0</td>\n",
       "    </tr>\n",
       "  </tbody>\n",
       "</table>\n",
       "</div>"
      ],
      "text/plain": [
       "    mpg  cylinders  displacement  horsepower  weight  acceleration  \\\n",
       "0  18.0          8         307.0       130.0    3504          12.0   \n",
       "1  15.0          8         350.0       165.0    3693          11.5   \n",
       "2  18.0          8         318.0       150.0    3436          11.0   \n",
       "3  16.0          8         304.0       150.0    3433          12.0   \n",
       "4  17.0          8         302.0       140.0    3449          10.5   \n",
       "\n",
       "   model year  origin                   car name       h2  \n",
       "0          70       1  chevrolet chevelle malibu  16900.0  \n",
       "1          70       1          buick skylark 320  27225.0  \n",
       "2          70       1         plymouth satellite  22500.0  \n",
       "3          70       1              amc rebel sst  22500.0  \n",
       "4          70       1                ford torino  19600.0  "
      ]
     },
     "execution_count": 34,
     "metadata": {},
     "output_type": "execute_result"
    }
   ],
   "source": [
    "data_auto.head()"
   ]
  },
  {
   "cell_type": "code",
   "execution_count": 35,
   "id": "wrapped-avenue",
   "metadata": {},
   "outputs": [],
   "source": [
    "X = data_auto[['horsepower', 'h2']]"
   ]
  },
  {
   "cell_type": "code",
   "execution_count": 36,
   "id": "future-spray",
   "metadata": {},
   "outputs": [],
   "source": [
    "model = LinearRegression(X, y)"
   ]
  },
  {
   "cell_type": "code",
   "execution_count": 37,
   "id": "allied-miami",
   "metadata": {},
   "outputs": [
    {
     "data": {
      "image/png": "[encoded data removed]",
      "text/plain": [
       "<Figure size 936x576 with 1 Axes>"
      ]
     },
     "metadata": {},
     "output_type": "display_data"
    }
   ],
   "source": [
    "fig, ax = plt.subplots(figsize = (13, 8))\n",
    "\n",
    "ax.plot(data_auto['horsepower'], y, \"ro\")\n",
    "ax.scatter(data_auto['horsepower'], model.predict(X))\n",
    "ax.set_xlabel(\"horsepower\", fontsize = 15)\n",
    "ax.set_ylabel(\"Milles per gal\", fontsize = 15)\n",
    "ax.set_title(\"HP vs MPG\", fontsize = 15);"
   ]
  },
  {
   "cell_type": "code",
   "execution_count": 38,
   "id": "interstate-equilibrium",
   "metadata": {},
   "outputs": [
    {
     "data": {
      "text/plain": [
       "0.6875590305127516"
      ]
     },
     "execution_count": 38,
     "metadata": {},
     "output_type": "execute_result"
    }
   ],
   "source": [
    "model.R2"
   ]
  },
  {
   "cell_type": "markdown",
   "id": "greater-extra",
   "metadata": {},
   "source": [
    "## When to stop? (overfiting)\n",
    "\n",
    "if we already add $x^2$, we can add $x^3$, and $x^4$, and $x^5$ ... and keep increasing the precision of the model.\n",
    "\n",
    "- After all we will only be making a Taylor approximation to any function.\n",
    "\n",
    "\n",
    "\n",
    "But that's not always the best idea. If we do this our model can be too fit to the training data which will worsen its performance with the data that it has not seen before."
   ]
  },
  {
   "cell_type": "code",
   "execution_count": 76,
   "id": "encouraging-jamaica",
   "metadata": {},
   "outputs": [],
   "source": [
    "x = np.linspace(0, 4, 15)"
   ]
  },
  {
   "cell_type": "code",
   "execution_count": 77,
   "id": "young-luther",
   "metadata": {},
   "outputs": [],
   "source": [
    "y = x ** 2 + 2 * np.sin(5 * x)"
   ]
  },
  {
   "cell_type": "code",
   "execution_count": 78,
   "id": "welsh-monster",
   "metadata": {},
   "outputs": [
    {
     "data": {
      "image/png": "[encoded data removed]",
      "text/plain": [
       "<Figure size 936x576 with 1 Axes>"
      ]
     },
     "metadata": {},
     "output_type": "display_data"
    }
   ],
   "source": [
    "fig, ax = plt.subplots(figsize = (13, 8))\n",
    "\n",
    "ax.scatter(x, y);"
   ]
  },
  {
   "cell_type": "markdown",
   "id": "considered-baghdad",
   "metadata": {},
   "source": [
    "Let's imagine that this is our data, let's make two models, one of degree 2 and the other of degree 10"
   ]
  },
  {
   "cell_type": "code",
   "execution_count": 79,
   "id": "vietnamese-arbitration",
   "metadata": {},
   "outputs": [
    {
     "data": {
      "text/plain": [
       "array([[0.        ],\n",
       "       [0.28571429],\n",
       "       [0.57142857],\n",
       "       [0.85714286],\n",
       "       [1.14285714],\n",
       "       [1.42857143],\n",
       "       [1.71428571],\n",
       "       [2.        ],\n",
       "       [2.28571429],\n",
       "       [2.57142857],\n",
       "       [2.85714286],\n",
       "       [3.14285714],\n",
       "       [3.42857143],\n",
       "       [3.71428571],\n",
       "       [4.        ]])"
      ]
     },
     "execution_count": 79,
     "metadata": {},
     "output_type": "execute_result"
    }
   ],
   "source": [
    "x.reshape((15, 1))"
   ]
  },
  {
   "cell_type": "code",
   "execution_count": 80,
   "id": "noble-promise",
   "metadata": {},
   "outputs": [],
   "source": [
    "X1 = np.append(x.reshape((15, 1)), x.reshape((15, 1)) ** 2, axis = 1)"
   ]
  },
  {
   "cell_type": "code",
   "execution_count": 81,
   "id": "metallic-journalist",
   "metadata": {},
   "outputs": [
    {
     "data": {
      "text/plain": [
       "array([[ 0.        ,  0.        ],\n",
       "       [ 0.28571429,  0.08163265],\n",
       "       [ 0.57142857,  0.32653061],\n",
       "       [ 0.85714286,  0.73469388],\n",
       "       [ 1.14285714,  1.30612245],\n",
       "       [ 1.42857143,  2.04081633],\n",
       "       [ 1.71428571,  2.93877551],\n",
       "       [ 2.        ,  4.        ],\n",
       "       [ 2.28571429,  5.2244898 ],\n",
       "       [ 2.57142857,  6.6122449 ],\n",
       "       [ 2.85714286,  8.16326531],\n",
       "       [ 3.14285714,  9.87755102],\n",
       "       [ 3.42857143, 11.75510204],\n",
       "       [ 3.71428571, 13.79591837],\n",
       "       [ 4.        , 16.        ]])"
      ]
     },
     "execution_count": 81,
     "metadata": {},
     "output_type": "execute_result"
    }
   ],
   "source": [
    "X1"
   ]
  },
  {
   "cell_type": "code",
   "execution_count": 82,
   "id": "conscious-drunk",
   "metadata": {},
   "outputs": [],
   "source": [
    "X2 = np.append(x.reshape((15, 1)), x.reshape((15, 1)) ** 2, axis = 1)\n",
    "for i in range(3, 11):\n",
    "    X2 = np.append(X2, x.reshape((15, 1)) ** i, axis = 1)"
   ]
  },
  {
   "cell_type": "code",
   "execution_count": 83,
   "id": "coated-circus",
   "metadata": {},
   "outputs": [
    {
     "data": {
      "text/plain": [
       "(15, 10)"
      ]
     },
     "execution_count": 83,
     "metadata": {},
     "output_type": "execute_result"
    }
   ],
   "source": [
    "X2.shape"
   ]
  },
  {
   "cell_type": "code",
   "execution_count": 87,
   "id": "ready-cooper",
   "metadata": {},
   "outputs": [],
   "source": [
    "model1 = LinearRegression(X1, y)"
   ]
  },
  {
   "cell_type": "code",
   "execution_count": 88,
   "id": "pediatric-marketplace",
   "metadata": {},
   "outputs": [],
   "source": [
    "model2 = LinearRegression(X2, y)"
   ]
  },
  {
   "cell_type": "code",
   "execution_count": 89,
   "id": "south-recipe",
   "metadata": {},
   "outputs": [
    {
     "data": {
      "text/plain": [
       "(0.933021679358262, 0.9984779600504621)"
      ]
     },
     "execution_count": 89,
     "metadata": {},
     "output_type": "execute_result"
    }
   ],
   "source": [
    "model1.R2, model2.R2"
   ]
  },
  {
   "cell_type": "code",
   "execution_count": 103,
   "id": "danish-replication",
   "metadata": {},
   "outputs": [
    {
     "data": {
      "image/png": "[encoded data removed]",
      "text/plain": [
       "<Figure size 936x432 with 2 Axes>"
      ]
     },
     "metadata": {},
     "output_type": "display_data"
    }
   ],
   "source": [
    "fig, ax = plt.subplots(1, 2, figsize = (13, 6))\n",
    "\n",
    "x_model = np.linspace(0, 4, 1000)\n",
    "\n",
    "x1 = np.append(x_model.reshape((1000, 1)), x_model.reshape((1000, 1)) ** 2, axis = 1)\n",
    "\n",
    "x2 = np.append(x_model.reshape((1000, 1)), x_model.reshape((1000, 1)) ** 2, axis = 1)\n",
    "for i in range(3, 11):\n",
    "    x2 = np.append(x2, x_model.reshape((1000, 1)) ** i, axis = 1)\n",
    "\n",
    "ax[0].scatter(x, y)\n",
    "ax[0].plot(x_model, model1.predict(x1), color = 'r')\n",
    "ax[0].plot([2.02], [5.3], marker = '*', color = 'y', markersize = 15)\n",
    "\n",
    "ax[1].scatter(x, y)\n",
    "ax[1].plot(x_model, model2.predict(x2), color = 'r')\n",
    "ax[1].plot([2.02], [5.3], marker = '*', color = 'y', markersize = 15);"
   ]
  }
 ],
 "metadata": {
  "kernelspec": {
   "display_name": "Python 3",
   "language": "python",
   "name": "python3"
  },
  "language_info": {
   "codemirror_mode": {
    "name": "ipython",
    "version": 3
   },
   "file_extension": ".py",
   "mimetype": "text/x-python",
   "name": "python",
   "nbconvert_exporter": "python",
   "pygments_lexer": "ipython3",
   "version": "3.8.5"
  }
 },
 "nbformat": 4,
 "nbformat_minor": 5
}
