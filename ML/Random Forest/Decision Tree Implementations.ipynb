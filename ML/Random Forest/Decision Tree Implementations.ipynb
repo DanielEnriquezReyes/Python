{
 "cells": [
  {
   "cell_type": "markdown",
   "id": "occupational-packaging",
   "metadata": {},
   "source": [
    "# Desicion Tree\n",
    "\n",
    "A decision tree is a flowchart-like structure in which each internal node represents a \"test\" on an attribute (e.g. whether a coin flip comes up heads or tails), each branch represents the outcome of the test, and each leaf node represents a class label (decision taken after computing all attributes). The paths from root to leaf represent classification rules.\n",
    "\n",
    "\n",
    "_When talking about the decision trees, I always imagine a list of questions I would ask my girlfriend when she does not know what she wants for dinner: Do you want to eat something with the noodle? How much do you want to spend? Asian or Western? Healthy or junk food?_"
   ]
  },
  {
   "cell_type": "code",
   "execution_count": 1,
   "id": "handled-newcastle",
   "metadata": {},
   "outputs": [],
   "source": [
    "import pandas as pd\n",
    "import numpy as np\n",
    "import matplotlib.pyplot as plt\n",
    "import seaborn as sns\n",
    "%matplotlib inline"
   ]
  },
  {
   "cell_type": "code",
   "execution_count": 2,
   "id": "blocked-testament",
   "metadata": {},
   "outputs": [],
   "source": [
    "sns.set()"
   ]
  },
  {
   "cell_type": "code",
   "execution_count": 3,
   "id": "better-justice",
   "metadata": {},
   "outputs": [
    {
     "data": {
      "image/png": "[encoded data removed]",
      "text/plain": [
       "<Figure size 936x576 with 1 Axes>"
      ]
     },
     "metadata": {},
     "output_type": "display_data"
    }
   ],
   "source": [
    "fig, ax = plt.subplots(figsize = (13, 8))\n",
    "\n",
    "x1 = np.random.random(20) + 5\n",
    "y1 = np.random.random(20) + 4\n",
    "\n",
    "x2 = np.random.random(20) + 4\n",
    "y2 = np.random.random(20) + 4\n",
    "\n",
    "x3 = np.random.random(20) + 5\n",
    "y3 = np.random.random(20) + 5\n",
    "\n",
    "x4 = np.random.random(20) + 4\n",
    "y4 = np.random.random(20) + 5\n",
    "\n",
    "ax.scatter(x1, y1, color = 'g')\n",
    "ax.scatter(x2, y2, color = 'r')\n",
    "ax.scatter(x3, y3, color = 'r')\n",
    "ax.scatter(x4, y4, color = 'r')\n",
    "ax.axvline(5, color = 'k', alpha = 0.5)\n",
    "ax.axhline(5, color = 'k', alpha = 0.5);"
   ]
  },
  {
   "cell_type": "markdown",
   "id": "worth-chicago",
   "metadata": {},
   "source": [
    "In this case our desicion tree have the following form:\n",
    "\n",
    "<img src=\"Árbol de Decisión.png\">\n",
    "\n"
   ]
  },
  {
   "cell_type": "markdown",
   "id": "impressed-bristol",
   "metadata": {},
   "source": [
    "As you can see, decision trees usually have sub-trees that serve to fine-tune the prediction of the previous node. This is so until we get to a node that does not split. This last node is known as a leaf node or leaf node. Let’s see a graphic example:\n",
    "\n",
    "\n",
    "<img src = https://anderfernandez.com/wp-content/uploads/2021/01/image.png.webp>\n",
    "\n",
    "\n",
    "Seen like this, a decision tree is very simple, but in practice, how do we define these classification rules?\n",
    "\n",
    "In this notebook we are going to implement our decision tree to find out:"
   ]
  },
  {
   "cell_type": "markdown",
   "id": "registered-article",
   "metadata": {},
   "source": [
    "## How to construct a decision tree?\n",
    "\n",
    "There are 2 popular tree building-algorithm out there: `Classification and Regression Tree (CART)`, and `ID3`. The main difference between these two models is the cost function that they use. The cost function decides which question to ask and how each node being split.\n",
    "\n",
    "There are 2 cost functions that we will talk about in this post: the **Gini Impurity** and **Entropy**"
   ]
  },
  {
   "cell_type": "markdown",
   "id": "included-carbon",
   "metadata": {},
   "source": [
    "## Gini Impurity and Gini Index\n",
    "\n",
    "\n",
    "### Gini Impurity\n",
    "\n",
    "Gini impurity is the cost function being used in the CART method. Gini Impurity measures how much noise a category has. For starters, each data feature may consist of many categories. For example, the weather feature can have categories: rain, sunny, or snowy; a numerical feature such as grade can be divide into 2 blocks: <70 or ≥70. Gini impurity can be calculated by the following formula:\n",
    "\n",
    "\n",
    "$$Gini(K) = \\sum_{i \\in N} P_{i, K} (1 - P_{i, K}) = 1 - \\sum_{i \\in N} P_{i, k}^{2}$$\n",
    "\n",
    "\n",
    "Where:\n",
    "\n",
    "- $N$ is the list of classes (in a binary case $N = \\{0, 1\\}$)\n",
    "- $K$ is the category in the feature variable.\n",
    "- $P_{i, K}$ is the probability of category $K$ having class $i$\n",
    "\n",
    "\n",
    "The maximum of the Gini impurity is obtained when we are not certain of anything, that is, when $P_{i, K}$ is $1 - \\frac{1}{n}$ for each class (where $n$ is the number of classes in $N$). The minimum value is reached when we are certain that the elements of category $k$ are of the same class (in this case some $P_{i, K} = 1$ and the others are $0$ so the Gini index takes the value $0$)."
   ]
  },
  {
   "cell_type": "code",
   "execution_count": 4,
   "id": "basic-genealogy",
   "metadata": {},
   "outputs": [],
   "source": [
    "classification   = ['Freshman','Freshman','Sophomore','Junior','Freshman','Sophomore']\n",
    "hour_of_practice = ['>2h','>2h','>2h','<2h','>2h','<2h']\n",
    "pass_the_quiz    = ['Yes','Yes','Yes', 'Yes', 'No','No']"
   ]
  },
  {
   "cell_type": "code",
   "execution_count": 5,
   "id": "meaning-professional",
   "metadata": {},
   "outputs": [],
   "source": [
    "data = pd.DataFrame({'Classification':classification, 'hour of practice':hour_of_practice, \"Pass the quiz\":pass_the_quiz })"
   ]
  },
  {
   "cell_type": "code",
   "execution_count": 6,
   "id": "binding-component",
   "metadata": {},
   "outputs": [
    {
     "data": {
      "text/html": [
       "<div>\n",
       "<style scoped>\n",
       "    .dataframe tbody tr th:only-of-type {\n",
       "        vertical-align: middle;\n",
       "    }\n",
       "\n",
       "    .dataframe tbody tr th {\n",
       "        vertical-align: top;\n",
       "    }\n",
       "\n",
       "    .dataframe thead th {\n",
       "        text-align: right;\n",
       "    }\n",
       "</style>\n",
       "<table border=\"1\" class=\"dataframe\">\n",
       "  <thead>\n",
       "    <tr style=\"text-align: right;\">\n",
       "      <th></th>\n",
       "      <th>Classification</th>\n",
       "      <th>hour of practice</th>\n",
       "      <th>Pass the quiz</th>\n",
       "    </tr>\n",
       "  </thead>\n",
       "  <tbody>\n",
       "    <tr>\n",
       "      <th>0</th>\n",
       "      <td>Freshman</td>\n",
       "      <td>&gt;2h</td>\n",
       "      <td>Yes</td>\n",
       "    </tr>\n",
       "    <tr>\n",
       "      <th>1</th>\n",
       "      <td>Freshman</td>\n",
       "      <td>&gt;2h</td>\n",
       "      <td>Yes</td>\n",
       "    </tr>\n",
       "    <tr>\n",
       "      <th>2</th>\n",
       "      <td>Sophomore</td>\n",
       "      <td>&gt;2h</td>\n",
       "      <td>Yes</td>\n",
       "    </tr>\n",
       "    <tr>\n",
       "      <th>3</th>\n",
       "      <td>Junior</td>\n",
       "      <td>&lt;2h</td>\n",
       "      <td>Yes</td>\n",
       "    </tr>\n",
       "    <tr>\n",
       "      <th>4</th>\n",
       "      <td>Freshman</td>\n",
       "      <td>&gt;2h</td>\n",
       "      <td>No</td>\n",
       "    </tr>\n",
       "    <tr>\n",
       "      <th>5</th>\n",
       "      <td>Sophomore</td>\n",
       "      <td>&lt;2h</td>\n",
       "      <td>No</td>\n",
       "    </tr>\n",
       "  </tbody>\n",
       "</table>\n",
       "</div>"
      ],
      "text/plain": [
       "  Classification hour of practice Pass the quiz\n",
       "0       Freshman              >2h           Yes\n",
       "1       Freshman              >2h           Yes\n",
       "2      Sophomore              >2h           Yes\n",
       "3         Junior              <2h           Yes\n",
       "4       Freshman              >2h            No\n",
       "5      Sophomore              <2h            No"
      ]
     },
     "execution_count": 6,
     "metadata": {},
     "output_type": "execute_result"
    }
   ],
   "source": [
    "data"
   ]
  },
  {
   "cell_type": "markdown",
   "id": "alternate-eclipse",
   "metadata": {},
   "source": [
    "From the data, the freshmen and sophomore pass the test if they study more than 2h and fail if they study less. The junior cheats the system and always passes the test.\n",
    "\n",
    "\n",
    "Let’s compute the Gini Impurity of the `classification` column:"
   ]
  },
  {
   "cell_type": "code",
   "execution_count": 8,
   "id": "protected-direction",
   "metadata": {},
   "outputs": [],
   "source": [
    "def gini_impurity(k, column, target):\n",
    "    \n",
    "    aux = 0 #for the sum of probabilities\n",
    "    index = column[column == k].index #the index of the elements in the category k\n",
    "    cat_in_target = target[index] #class of each element of the category k\n",
    "    \n",
    "    for c in cat_in_target.unique():\n",
    "        p = (cat_in_target == c).sum() / len(cat_in_target)\n",
    "        aux += p ** 2\n",
    "        \n",
    "    return 1 - aux"
   ]
  },
  {
   "cell_type": "code",
   "execution_count": 9,
   "id": "empirical-irrigation",
   "metadata": {},
   "outputs": [
    {
     "name": "stdout",
     "output_type": "stream",
     "text": [
      "Gini(Freshman) = 0.4444444444444444\n",
      "Gini(Sophomore) = 0.5\n",
      "Gini(Junior) = 0.0\n"
     ]
    }
   ],
   "source": [
    "msn = 'Gini({}) = {}'\n",
    "for k in data['Classification'].unique():\n",
    "    g = gini_impurity(k, data['Classification'], data['Pass the quiz'])\n",
    "    print(msn.format(k, g))"
   ]
  },
  {
   "cell_type": "code",
   "execution_count": 10,
   "id": "needed-france",
   "metadata": {},
   "outputs": [
    {
     "data": {
      "text/plain": [
       "0.4444444444444444"
      ]
     },
     "execution_count": 10,
     "metadata": {},
     "output_type": "execute_result"
    }
   ],
   "source": [
    "4 / 9"
   ]
  },
  {
   "cell_type": "markdown",
   "id": "falling-battlefield",
   "metadata": {},
   "source": [
    "- $Gini(Freshman) = 1 - (P_{No}^2 + P_{Yes}^2) = 1 - ((\\frac{1}{3})^2 + (\\frac{2}{3})^2) = \\frac{4}{9}$\n",
    "- $Gini(Sophomore) = 1 - (P_{No}^2 + P_{Yes}^2) = 1 - ((\\frac{1}{2})^2 + (\\frac{1}{2})^2) = \\frac{1}{2}$\n",
    "- $Gini(Junior) = 1 - (P_{No}^2 + P_{Yes}^2) = 1 - ((0)^2 + (1)^2) = 0$\n",
    "\n",
    "\n",
    "The Gini values tell us the value of noises present in the data set. In this case, the junior has 0 noise since we know all the junior will pass the test. On the other hand, the sophomore has the maximum noise."
   ]
  },
  {
   "cell_type": "markdown",
   "id": "interested-correlation",
   "metadata": {},
   "source": [
    "### Gini Index\n",
    "\n",
    "Gini Index combines the category noises together to get the feature noise. Gini Index is the weighted sum of Gini Impurity based on the corresponding fraction of the category in the feature. The formula is:\n",
    "\n",
    "$$I_{Gini}(a) = \\sum_{i \\in M} P_{k, a} Gini(k)$$\n",
    "\n",
    "- $a$ is the feature, the column.\n",
    "- $M$ is the list of all categories in feature $a$.\n",
    "- $P_{k, a}$ is the fraction of category k in feature $a$.\n",
    "\n",
    "Applying Gini Index to `classification` we obtain:"
   ]
  },
  {
   "cell_type": "code",
   "execution_count": 11,
   "id": "serial-benchmark",
   "metadata": {},
   "outputs": [],
   "source": [
    "def gini_index(column, target):\n",
    "    \n",
    "    gini = 0\n",
    "    \n",
    "    for k in column.unique():\n",
    "        p = (column == k).sum() / len(column)\n",
    "        gini += p * gini_impurity(k, column, target)\n",
    "        \n",
    "    return gini"
   ]
  },
  {
   "cell_type": "code",
   "execution_count": 12,
   "id": "reported-little",
   "metadata": {},
   "outputs": [
    {
     "data": {
      "text/plain": [
       "0.38888888888888884"
      ]
     },
     "execution_count": 12,
     "metadata": {},
     "output_type": "execute_result"
    }
   ],
   "source": [
    "gini_index(data['Classification'], data['Pass the quiz'])"
   ]
  },
  {
   "cell_type": "code",
   "execution_count": 13,
   "id": "alternative-bahrain",
   "metadata": {},
   "outputs": [
    {
     "data": {
      "text/plain": [
       "0.3888888888888889"
      ]
     },
     "execution_count": 13,
     "metadata": {},
     "output_type": "execute_result"
    }
   ],
   "source": [
    "7 / 18"
   ]
  },
  {
   "cell_type": "markdown",
   "id": "middle-attraction",
   "metadata": {},
   "source": [
    "- $I_{Gini}(Classification) = P_{Freshman, Classification} Gini(Freshman) + P_{Sophomore, Classification} Gini(Sophomore) + P_{Junior, Classification} Gini(Junior)$\n",
    "- $I_{Gini}(Classification) = \\frac{1}{2} \\frac{4}{9} + \\frac{1}{3} \\frac{1}{2} + \\frac{1}{6} 0 = \\frac{7}{18}$"
   ]
  },
  {
   "cell_type": "markdown",
   "id": "convinced-webster",
   "metadata": {},
   "source": [
    "Now that we can calculate the `Gini index` we do it for each of our predictor columns and we will ask the first question (split) on the column with the lowest `Gini index`."
   ]
  },
  {
   "cell_type": "code",
   "execution_count": 14,
   "id": "hybrid-restriction",
   "metadata": {},
   "outputs": [
    {
     "name": "stdout",
     "output_type": "stream",
     "text": [
      "Gini Index of Classification       = 0.38888888888888884\n",
      "Gini Index of hour of practice     = 0.41666666666666663\n"
     ]
    }
   ],
   "source": [
    "msn = 'Gini Index of {:20} = {}'\n",
    "for c in data.drop('Pass the quiz', axis = 1).columns:\n",
    "    print(msn.format(c, gini_index(data[c], data['Pass the quiz'])))"
   ]
  },
  {
   "cell_type": "markdown",
   "id": "broad-senegal",
   "metadata": {},
   "source": [
    "Since Classification has less noise than the hour of practice, the first split goes for the Classification feature."
   ]
  },
  {
   "cell_type": "markdown",
   "id": "buried-motorcycle",
   "metadata": {},
   "source": [
    "## Entropy and Information Gain\n",
    "\n",
    "### Entropy\n",
    "\n",
    "We had already talked about the concept of **entropy** before, it spoke to us about the uncertainty we have regarding some event, an event that we are sure of would have a minimum entropy, if we have total uncertainty we would have a maximum entropy.\n",
    "\n",
    "$$\n",
    "H(E) =\n",
    "\\left\\{\n",
    "\\begin{array}{ll}\n",
    "- \\sum_{i \\in N} P(i | E) \\log_{2} (P(i | E)) & P(i | E) \\ne 0 \\text{ for all } i\\\\\n",
    "0 & \\text{otherwise}\\\\\n",
    "\\end{array}\n",
    "\\right.\n",
    "$$\n",
    "\n",
    "- $N$ is the list of all classes\n",
    "- $P(i | E)$ is the probability of event $E$ having class $i$\n",
    "\n",
    "Applying this formula to _freshmen_, _sophomore_, and _junior_ we obtained:"
   ]
  },
  {
   "cell_type": "code",
   "execution_count": 7,
   "id": "beautiful-illustration",
   "metadata": {},
   "outputs": [
    {
     "data": {
      "text/html": [
       "<div>\n",
       "<style scoped>\n",
       "    .dataframe tbody tr th:only-of-type {\n",
       "        vertical-align: middle;\n",
       "    }\n",
       "\n",
       "    .dataframe tbody tr th {\n",
       "        vertical-align: top;\n",
       "    }\n",
       "\n",
       "    .dataframe thead th {\n",
       "        text-align: right;\n",
       "    }\n",
       "</style>\n",
       "<table border=\"1\" class=\"dataframe\">\n",
       "  <thead>\n",
       "    <tr style=\"text-align: right;\">\n",
       "      <th></th>\n",
       "      <th>Classification</th>\n",
       "      <th>hour of practice</th>\n",
       "      <th>Pass the quiz</th>\n",
       "    </tr>\n",
       "  </thead>\n",
       "  <tbody>\n",
       "    <tr>\n",
       "      <th>0</th>\n",
       "      <td>Freshman</td>\n",
       "      <td>&gt;2h</td>\n",
       "      <td>Yes</td>\n",
       "    </tr>\n",
       "    <tr>\n",
       "      <th>1</th>\n",
       "      <td>Freshman</td>\n",
       "      <td>&gt;2h</td>\n",
       "      <td>Yes</td>\n",
       "    </tr>\n",
       "    <tr>\n",
       "      <th>2</th>\n",
       "      <td>Sophomore</td>\n",
       "      <td>&gt;2h</td>\n",
       "      <td>Yes</td>\n",
       "    </tr>\n",
       "    <tr>\n",
       "      <th>3</th>\n",
       "      <td>Junior</td>\n",
       "      <td>&lt;2h</td>\n",
       "      <td>Yes</td>\n",
       "    </tr>\n",
       "    <tr>\n",
       "      <th>4</th>\n",
       "      <td>Freshman</td>\n",
       "      <td>&gt;2h</td>\n",
       "      <td>No</td>\n",
       "    </tr>\n",
       "    <tr>\n",
       "      <th>5</th>\n",
       "      <td>Sophomore</td>\n",
       "      <td>&lt;2h</td>\n",
       "      <td>No</td>\n",
       "    </tr>\n",
       "  </tbody>\n",
       "</table>\n",
       "</div>"
      ],
      "text/plain": [
       "  Classification hour of practice Pass the quiz\n",
       "0       Freshman              >2h           Yes\n",
       "1       Freshman              >2h           Yes\n",
       "2      Sophomore              >2h           Yes\n",
       "3         Junior              <2h           Yes\n",
       "4       Freshman              >2h            No\n",
       "5      Sophomore              <2h            No"
      ]
     },
     "execution_count": 7,
     "metadata": {},
     "output_type": "execute_result"
    }
   ],
   "source": [
    "data"
   ]
  },
  {
   "cell_type": "markdown",
   "id": "earlier-female",
   "metadata": {},
   "source": [
    "- $H(Freshman) = - (P(\\text{Yes} | \\text{Freshman}) log_{2}(P(\\text{Yes} | \\text{Freshman})) + P(\\text{No} | \\text{Freshman}) log_{2}(P(\\text{No} | \\text{Freshman}))) = - (\\frac{2}{3}log_{2}(\\frac{2}{3}) + \\frac{1}{3}log_{2}(\\frac{1}{3})) = 0.9183$\n",
    "- $H(Sophomore) = - (\\frac{1}{2}log_{2}(\\frac{1}{2}) + \\frac{1}{2}log_{2}(\\frac{1}{2})) = 1$\n",
    "- Since $P(\\text{No} | \\text{Junior} = 0$ then $H(Junior) = 0$"
   ]
  },
  {
   "cell_type": "code",
   "execution_count": 17,
   "id": "simple-protest",
   "metadata": {},
   "outputs": [],
   "source": [
    "def entropy(E, column, target):\n",
    "\n",
    "    mask = column == E\n",
    "    \n",
    "    result = 0\n",
    "    \n",
    "    for c in target.unique():\n",
    "        p = (target[mask] == c).sum() / len(target[mask])\n",
    "        \n",
    "        if p != 0:\n",
    "            result += p * np.log2(p)\n",
    "        \n",
    "        else:\n",
    "            return 0\n",
    "        \n",
    "    return -result"
   ]
  },
  {
   "cell_type": "code",
   "execution_count": 16,
   "id": "balanced-authority",
   "metadata": {},
   "outputs": [
    {
     "name": "stdout",
     "output_type": "stream",
     "text": [
      "H(Freshman) = 0.9182958340544896\n",
      "H(Sophomore) = 1.0\n",
      "H(Junior) = 0\n"
     ]
    }
   ],
   "source": [
    "msn = 'H({}) = {}'\n",
    "for k in data['Classification'].unique():\n",
    "    g = entropy(k, data['Classification'], data['Pass the quiz'])\n",
    "    print(msn.format(k, g))"
   ]
  },
  {
   "cell_type": "markdown",
   "id": "incorporated-lemon",
   "metadata": {},
   "source": [
    "Let's compare the **entropy** with the **Gini impurity**"
   ]
  },
  {
   "cell_type": "code",
   "execution_count": 18,
   "id": "portuguese-designation",
   "metadata": {},
   "outputs": [
    {
     "name": "stdout",
     "output_type": "stream",
     "text": [
      "Gini(Freshman) = 0.4444444444444444\n",
      "Gini(Sophomore) = 0.5\n",
      "Gini(Junior) = 0.0\n"
     ]
    }
   ],
   "source": [
    "msn = 'Gini({}) = {}'\n",
    "for k in data['Classification'].unique():\n",
    "    g = gini_impurity(k, data['Classification'], data['Pass the quiz'])\n",
    "    print(msn.format(k, g))"
   ]
  },
  {
   "cell_type": "markdown",
   "id": "proud-hypothetical",
   "metadata": {},
   "source": [
    "### Information Gain\n",
    "\n",
    "After obtaining the entropy for each category, we can combine them to get the information gain values for the features. The more information we gain, the better. The formula is:\n",
    "\n",
    "$$IG(T, a) = H(T) - \\sum_{i \\in a} P(i) H(i)$$\n",
    "\n",
    "Here $H(T)$ is the total entropy, an this is:\n",
    "\n",
    "$$\n",
    "H(T) =\n",
    "\\left\\{\n",
    "\\begin{array}{ll}\n",
    "- \\sum_{i \\in N} P(i) \\log_{2} (P(i)) & P(i) \\ne 0 \\text{ for all } i\\\\\n",
    "0 & \\text{otherwise}\\\\\n",
    "\\end{array}\n",
    "\\right.\n",
    "$$\n",
    "\n",
    "- $T$ is the sample space\n",
    "- $a$ is the feature"
   ]
  },
  {
   "cell_type": "code",
   "execution_count": 19,
   "id": "capital-soviet",
   "metadata": {},
   "outputs": [],
   "source": [
    "def total_entropy(target):\n",
    "    \n",
    "    result = 0\n",
    "    \n",
    "    for c in target.unique():\n",
    "        p = (target == c).sum() / len(target)\n",
    "        \n",
    "        if p != 0:\n",
    "            result += p * np.log2(p)\n",
    "        \n",
    "        else:\n",
    "            return 0\n",
    "        \n",
    "    return -result"
   ]
  },
  {
   "cell_type": "code",
   "execution_count": 20,
   "id": "grateful-immunology",
   "metadata": {},
   "outputs": [
    {
     "data": {
      "text/plain": [
       "0.9182958340544896"
      ]
     },
     "execution_count": 20,
     "metadata": {},
     "output_type": "execute_result"
    }
   ],
   "source": [
    "total_entropy(data['Pass the quiz'])"
   ]
  },
  {
   "cell_type": "code",
   "execution_count": 21,
   "id": "digital-publisher",
   "metadata": {},
   "outputs": [],
   "source": [
    "def information_gain(column, target):\n",
    "    \n",
    "    h_t = total_entropy(target)\n",
    "    \n",
    "    aux = 0\n",
    "    for k in column.unique():\n",
    "        p = (column == k).sum() / len(column)        \n",
    "        aux += p * entropy(k, column, target)\n",
    "        \n",
    "        \n",
    "    \n",
    "        \n",
    "    return h_t - aux"
   ]
  },
  {
   "cell_type": "code",
   "execution_count": 22,
   "id": "prerequisite-alberta",
   "metadata": {},
   "outputs": [
    {
     "data": {
      "text/plain": [
       "0.12581458369391152"
      ]
     },
     "execution_count": 22,
     "metadata": {},
     "output_type": "execute_result"
    }
   ],
   "source": [
    "information_gain(data['Classification'], data['Pass the quiz'])"
   ]
  },
  {
   "cell_type": "markdown",
   "id": "indian-processor",
   "metadata": {},
   "source": [
    "Now let's calculate which of our columns gives us the greatest information gain, note that $IG$ is a change in entropy, which means that the lower the $IG$, the more information we gain."
   ]
  },
  {
   "cell_type": "code",
   "execution_count": 23,
   "id": "aggressive-pharmaceutical",
   "metadata": {},
   "outputs": [
    {
     "name": "stdout",
     "output_type": "stream",
     "text": [
      "IG of Classification       = 0.38888888888888884\n",
      "IG of hour of practice     = 0.41666666666666663\n"
     ]
    }
   ],
   "source": [
    "msn = 'IG of {:20} = {}'\n",
    "for c in data.drop('Pass the quiz', axis = 1).columns:\n",
    "    print(msn.format(c, gini_index(data[c], data['Pass the quiz'])))"
   ]
  },
  {
   "cell_type": "markdown",
   "id": "environmental-sitting",
   "metadata": {},
   "source": [
    "Thus, _Classification_ has more information and so this will be our first split."
   ]
  },
  {
   "cell_type": "markdown",
   "id": "naval-encoding",
   "metadata": {},
   "source": [
    "In both methods, Classification is the first pick. The second split is the remaining feature, the hour of study, and we obtain the following tree:\n",
    "\n",
    "\n",
    "<img src = https://miro.medium.com/max/2400/1*Ss_MwsysjX8tQkigsXFLwg.png>\n",
    "\n",
    "\n",
    "Note that this tree is extremely biased because the data set has only 6 observations. A decision tree on real data is much bigger and more complicated."
   ]
  },
  {
   "cell_type": "markdown",
   "id": "fatty-behalf",
   "metadata": {},
   "source": [
    "# Criteria to stop the splitting tree\n",
    "\n",
    "\n",
    "As the data getting more complex, the decision tree also expands. Nonetheless, if we keep the tree growing until all the training data is classified, our model will be overfitting. Therefore, learning when to stop is very important. Let’s take a look at some commonly used criteria:\n",
    "\n",
    "\n",
    "- The number of observations in the nodes: The ideal upper bound is 5% of the total training dataset.\n",
    "\n",
    "\n",
    "- The tree’s depth: we can pre-specified the limit of the depth so that the tree won't expand excessively when facing complex datasets.\n",
    "\n"
   ]
  },
  {
   "cell_type": "markdown",
   "id": "homeless-house",
   "metadata": {},
   "source": [
    "# And the continuous variables?\n",
    "\n",
    "\n",
    "Until now it might seem that we have forgotten about continuous numerical variables but we have to work them separately, the idea is to create variables like the ones in the previous example from them."
   ]
  },
  {
   "cell_type": "code",
   "execution_count": 24,
   "id": "unsigned-bacon",
   "metadata": {},
   "outputs": [],
   "source": [
    "np.random.seed(1995)"
   ]
  },
  {
   "cell_type": "code",
   "execution_count": 25,
   "id": "active-veteran",
   "metadata": {},
   "outputs": [],
   "source": [
    "x1 = np.random.random(5) + 5\n",
    "y1 = np.random.random(5) + 4\n",
    "\n",
    "x2 = np.random.random(5) + 4\n",
    "y2 = np.random.random(5) + 4\n",
    "\n",
    "x3 = np.random.random(5) + 5\n",
    "y3 = np.random.random(5) + 5\n",
    "\n",
    "x4 = np.random.random(5) + 4\n",
    "y4 = np.random.random(5) + 5\n",
    "\n",
    "\n",
    "x = list(x1) + list(x2) + list(x3) + list(x4)\n",
    "y = list(y1) + list(y2) + list(y3) + list(y4)\n",
    "target = ['g'] * 5 + ['r'] * 15\n",
    "data = pd.DataFrame({'x1' :  x, 'x2' : y, 'y' : target})"
   ]
  },
  {
   "cell_type": "code",
   "execution_count": 26,
   "id": "registered-timing",
   "metadata": {},
   "outputs": [
    {
     "data": {
      "text/html": [
       "<div>\n",
       "<style scoped>\n",
       "    .dataframe tbody tr th:only-of-type {\n",
       "        vertical-align: middle;\n",
       "    }\n",
       "\n",
       "    .dataframe tbody tr th {\n",
       "        vertical-align: top;\n",
       "    }\n",
       "\n",
       "    .dataframe thead th {\n",
       "        text-align: right;\n",
       "    }\n",
       "</style>\n",
       "<table border=\"1\" class=\"dataframe\">\n",
       "  <thead>\n",
       "    <tr style=\"text-align: right;\">\n",
       "      <th></th>\n",
       "      <th>x1</th>\n",
       "      <th>x2</th>\n",
       "      <th>y</th>\n",
       "    </tr>\n",
       "  </thead>\n",
       "  <tbody>\n",
       "    <tr>\n",
       "      <th>0</th>\n",
       "      <td>5.348526</td>\n",
       "      <td>4.961205</td>\n",
       "      <td>g</td>\n",
       "    </tr>\n",
       "    <tr>\n",
       "      <th>1</th>\n",
       "      <td>5.372211</td>\n",
       "      <td>4.246980</td>\n",
       "      <td>g</td>\n",
       "    </tr>\n",
       "    <tr>\n",
       "      <th>2</th>\n",
       "      <td>5.444543</td>\n",
       "      <td>4.695837</td>\n",
       "      <td>g</td>\n",
       "    </tr>\n",
       "    <tr>\n",
       "      <th>3</th>\n",
       "      <td>5.579550</td>\n",
       "      <td>4.406196</td>\n",
       "      <td>g</td>\n",
       "    </tr>\n",
       "    <tr>\n",
       "      <th>4</th>\n",
       "      <td>5.964057</td>\n",
       "      <td>4.734401</td>\n",
       "      <td>g</td>\n",
       "    </tr>\n",
       "    <tr>\n",
       "      <th>5</th>\n",
       "      <td>4.175869</td>\n",
       "      <td>4.688678</td>\n",
       "      <td>r</td>\n",
       "    </tr>\n",
       "    <tr>\n",
       "      <th>6</th>\n",
       "      <td>4.411131</td>\n",
       "      <td>4.772541</td>\n",
       "      <td>r</td>\n",
       "    </tr>\n",
       "    <tr>\n",
       "      <th>7</th>\n",
       "      <td>4.754680</td>\n",
       "      <td>4.014275</td>\n",
       "      <td>r</td>\n",
       "    </tr>\n",
       "    <tr>\n",
       "      <th>8</th>\n",
       "      <td>4.835945</td>\n",
       "      <td>4.974265</td>\n",
       "      <td>r</td>\n",
       "    </tr>\n",
       "    <tr>\n",
       "      <th>9</th>\n",
       "      <td>4.190131</td>\n",
       "      <td>4.224454</td>\n",
       "      <td>r</td>\n",
       "    </tr>\n",
       "    <tr>\n",
       "      <th>10</th>\n",
       "      <td>5.613783</td>\n",
       "      <td>5.694772</td>\n",
       "      <td>r</td>\n",
       "    </tr>\n",
       "    <tr>\n",
       "      <th>11</th>\n",
       "      <td>5.269420</td>\n",
       "      <td>5.719578</td>\n",
       "      <td>r</td>\n",
       "    </tr>\n",
       "    <tr>\n",
       "      <th>12</th>\n",
       "      <td>5.251552</td>\n",
       "      <td>5.814367</td>\n",
       "      <td>r</td>\n",
       "    </tr>\n",
       "    <tr>\n",
       "      <th>13</th>\n",
       "      <td>5.115063</td>\n",
       "      <td>5.932639</td>\n",
       "      <td>r</td>\n",
       "    </tr>\n",
       "    <tr>\n",
       "      <th>14</th>\n",
       "      <td>5.387450</td>\n",
       "      <td>5.944924</td>\n",
       "      <td>r</td>\n",
       "    </tr>\n",
       "    <tr>\n",
       "      <th>15</th>\n",
       "      <td>4.063376</td>\n",
       "      <td>5.929268</td>\n",
       "      <td>r</td>\n",
       "    </tr>\n",
       "    <tr>\n",
       "      <th>16</th>\n",
       "      <td>4.425568</td>\n",
       "      <td>5.752171</td>\n",
       "      <td>r</td>\n",
       "    </tr>\n",
       "    <tr>\n",
       "      <th>17</th>\n",
       "      <td>4.132064</td>\n",
       "      <td>5.395802</td>\n",
       "      <td>r</td>\n",
       "    </tr>\n",
       "    <tr>\n",
       "      <th>18</th>\n",
       "      <td>4.861472</td>\n",
       "      <td>5.069991</td>\n",
       "      <td>r</td>\n",
       "    </tr>\n",
       "    <tr>\n",
       "      <th>19</th>\n",
       "      <td>4.982760</td>\n",
       "      <td>5.266261</td>\n",
       "      <td>r</td>\n",
       "    </tr>\n",
       "  </tbody>\n",
       "</table>\n",
       "</div>"
      ],
      "text/plain": [
       "          x1        x2  y\n",
       "0   5.348526  4.961205  g\n",
       "1   5.372211  4.246980  g\n",
       "2   5.444543  4.695837  g\n",
       "3   5.579550  4.406196  g\n",
       "4   5.964057  4.734401  g\n",
       "5   4.175869  4.688678  r\n",
       "6   4.411131  4.772541  r\n",
       "7   4.754680  4.014275  r\n",
       "8   4.835945  4.974265  r\n",
       "9   4.190131  4.224454  r\n",
       "10  5.613783  5.694772  r\n",
       "11  5.269420  5.719578  r\n",
       "12  5.251552  5.814367  r\n",
       "13  5.115063  5.932639  r\n",
       "14  5.387450  5.944924  r\n",
       "15  4.063376  5.929268  r\n",
       "16  4.425568  5.752171  r\n",
       "17  4.132064  5.395802  r\n",
       "18  4.861472  5.069991  r\n",
       "19  4.982760  5.266261  r"
      ]
     },
     "execution_count": 26,
     "metadata": {},
     "output_type": "execute_result"
    }
   ],
   "source": [
    "data"
   ]
  },
  {
   "cell_type": "markdown",
   "id": "endless-thousand",
   "metadata": {},
   "source": [
    "The idea is to order the data with respect to the characteristic with which we want to work and observe how the target variable changes."
   ]
  },
  {
   "cell_type": "code",
   "execution_count": 27,
   "id": "macro-storm",
   "metadata": {},
   "outputs": [
    {
     "data": {
      "text/html": [
       "<div>\n",
       "<style scoped>\n",
       "    .dataframe tbody tr th:only-of-type {\n",
       "        vertical-align: middle;\n",
       "    }\n",
       "\n",
       "    .dataframe tbody tr th {\n",
       "        vertical-align: top;\n",
       "    }\n",
       "\n",
       "    .dataframe thead th {\n",
       "        text-align: right;\n",
       "    }\n",
       "</style>\n",
       "<table border=\"1\" class=\"dataframe\">\n",
       "  <thead>\n",
       "    <tr style=\"text-align: right;\">\n",
       "      <th></th>\n",
       "      <th>x1</th>\n",
       "      <th>y</th>\n",
       "    </tr>\n",
       "  </thead>\n",
       "  <tbody>\n",
       "    <tr>\n",
       "      <th>15</th>\n",
       "      <td>4.063376</td>\n",
       "      <td>r</td>\n",
       "    </tr>\n",
       "    <tr>\n",
       "      <th>17</th>\n",
       "      <td>4.132064</td>\n",
       "      <td>r</td>\n",
       "    </tr>\n",
       "    <tr>\n",
       "      <th>5</th>\n",
       "      <td>4.175869</td>\n",
       "      <td>r</td>\n",
       "    </tr>\n",
       "    <tr>\n",
       "      <th>9</th>\n",
       "      <td>4.190131</td>\n",
       "      <td>r</td>\n",
       "    </tr>\n",
       "    <tr>\n",
       "      <th>6</th>\n",
       "      <td>4.411131</td>\n",
       "      <td>r</td>\n",
       "    </tr>\n",
       "    <tr>\n",
       "      <th>16</th>\n",
       "      <td>4.425568</td>\n",
       "      <td>r</td>\n",
       "    </tr>\n",
       "    <tr>\n",
       "      <th>7</th>\n",
       "      <td>4.754680</td>\n",
       "      <td>r</td>\n",
       "    </tr>\n",
       "    <tr>\n",
       "      <th>8</th>\n",
       "      <td>4.835945</td>\n",
       "      <td>r</td>\n",
       "    </tr>\n",
       "    <tr>\n",
       "      <th>18</th>\n",
       "      <td>4.861472</td>\n",
       "      <td>r</td>\n",
       "    </tr>\n",
       "    <tr>\n",
       "      <th>19</th>\n",
       "      <td>4.982760</td>\n",
       "      <td>r</td>\n",
       "    </tr>\n",
       "    <tr>\n",
       "      <th>13</th>\n",
       "      <td>5.115063</td>\n",
       "      <td>r</td>\n",
       "    </tr>\n",
       "    <tr>\n",
       "      <th>12</th>\n",
       "      <td>5.251552</td>\n",
       "      <td>r</td>\n",
       "    </tr>\n",
       "    <tr>\n",
       "      <th>11</th>\n",
       "      <td>5.269420</td>\n",
       "      <td>r</td>\n",
       "    </tr>\n",
       "    <tr>\n",
       "      <th>0</th>\n",
       "      <td>5.348526</td>\n",
       "      <td>g</td>\n",
       "    </tr>\n",
       "    <tr>\n",
       "      <th>1</th>\n",
       "      <td>5.372211</td>\n",
       "      <td>g</td>\n",
       "    </tr>\n",
       "    <tr>\n",
       "      <th>14</th>\n",
       "      <td>5.387450</td>\n",
       "      <td>r</td>\n",
       "    </tr>\n",
       "    <tr>\n",
       "      <th>2</th>\n",
       "      <td>5.444543</td>\n",
       "      <td>g</td>\n",
       "    </tr>\n",
       "    <tr>\n",
       "      <th>3</th>\n",
       "      <td>5.579550</td>\n",
       "      <td>g</td>\n",
       "    </tr>\n",
       "    <tr>\n",
       "      <th>10</th>\n",
       "      <td>5.613783</td>\n",
       "      <td>r</td>\n",
       "    </tr>\n",
       "    <tr>\n",
       "      <th>4</th>\n",
       "      <td>5.964057</td>\n",
       "      <td>g</td>\n",
       "    </tr>\n",
       "  </tbody>\n",
       "</table>\n",
       "</div>"
      ],
      "text/plain": [
       "          x1  y\n",
       "15  4.063376  r\n",
       "17  4.132064  r\n",
       "5   4.175869  r\n",
       "9   4.190131  r\n",
       "6   4.411131  r\n",
       "16  4.425568  r\n",
       "7   4.754680  r\n",
       "8   4.835945  r\n",
       "18  4.861472  r\n",
       "19  4.982760  r\n",
       "13  5.115063  r\n",
       "12  5.251552  r\n",
       "11  5.269420  r\n",
       "0   5.348526  g\n",
       "1   5.372211  g\n",
       "14  5.387450  r\n",
       "2   5.444543  g\n",
       "3   5.579550  g\n",
       "10  5.613783  r\n",
       "4   5.964057  g"
      ]
     },
     "execution_count": 27,
     "metadata": {},
     "output_type": "execute_result"
    }
   ],
   "source": [
    "data.sort_values('x1')[['x1', 'y']]"
   ]
  },
  {
   "cell_type": "code",
   "execution_count": 28,
   "id": "enhanced-november",
   "metadata": {},
   "outputs": [],
   "source": [
    "candidate1 = 5.348526\n",
    "candidate2 = 5.387450"
   ]
  },
  {
   "cell_type": "code",
   "execution_count": 29,
   "id": "younger-sally",
   "metadata": {},
   "outputs": [],
   "source": [
    "aux = data['x1'] < candidate1"
   ]
  },
  {
   "cell_type": "code",
   "execution_count": 30,
   "id": "taken-footage",
   "metadata": {},
   "outputs": [
    {
     "data": {
      "text/plain": [
       "0      True\n",
       "1     False\n",
       "2     False\n",
       "3     False\n",
       "4     False\n",
       "5      True\n",
       "6      True\n",
       "7      True\n",
       "8      True\n",
       "9      True\n",
       "10    False\n",
       "11     True\n",
       "12     True\n",
       "13     True\n",
       "14    False\n",
       "15     True\n",
       "16     True\n",
       "17     True\n",
       "18     True\n",
       "19     True\n",
       "Name: x1, dtype: bool"
      ]
     },
     "execution_count": 30,
     "metadata": {},
     "output_type": "execute_result"
    }
   ],
   "source": [
    "aux"
   ]
  },
  {
   "cell_type": "code",
   "execution_count": 31,
   "id": "liquid-kitty",
   "metadata": {},
   "outputs": [
    {
     "data": {
      "text/plain": [
       "0.22619047619047622"
      ]
     },
     "execution_count": 31,
     "metadata": {},
     "output_type": "execute_result"
    }
   ],
   "source": [
    "gini_index(aux, data['y'])"
   ]
  },
  {
   "cell_type": "code",
   "execution_count": 32,
   "id": "significant-ballot",
   "metadata": {},
   "outputs": [],
   "source": [
    "aux = data['x1'] < candidate2"
   ]
  },
  {
   "cell_type": "code",
   "execution_count": 33,
   "id": "adverse-buffer",
   "metadata": {},
   "outputs": [
    {
     "data": {
      "text/plain": [
       "0.25"
      ]
     },
     "execution_count": 33,
     "metadata": {},
     "output_type": "execute_result"
    }
   ],
   "source": [
    "gini_index(aux, data['y'])"
   ]
  },
  {
   "cell_type": "markdown",
   "id": "nonprofit-negotiation",
   "metadata": {},
   "source": [
    "### Exercise \n",
    "\n",
    "- Write a function that finds the best point to split the data"
   ]
  },
  {
   "cell_type": "code",
   "execution_count": 34,
   "id": "alive-watershed",
   "metadata": {},
   "outputs": [],
   "source": [
    "def get_candidates(column, target):\n",
    "    candidates = []\n",
    "    \n",
    "    index = column.sort_values().index\n",
    "    \n",
    "    column = column[index]\n",
    "    target = target[index]\n",
    "    \n",
    "    for i in range(1, len(index)):\n",
    "        \n",
    "        if target[index[i]] != target[index[i - 1]]:\n",
    "            candidates.append(column[index[i]])\n",
    "            \n",
    "    return candidates"
   ]
  },
  {
   "cell_type": "code",
   "execution_count": 35,
   "id": "inside-excellence",
   "metadata": {},
   "outputs": [
    {
     "data": {
      "text/plain": [
       "[5.348525866104282,\n",
       " 5.387449703573384,\n",
       " 5.444542520228588,\n",
       " 5.61378345109673,\n",
       " 5.96405710142795]"
      ]
     },
     "execution_count": 35,
     "metadata": {},
     "output_type": "execute_result"
    }
   ],
   "source": [
    "get_candidates(data['x1'], data['y'])"
   ]
  },
  {
   "cell_type": "code",
   "execution_count": 36,
   "id": "southern-sleep",
   "metadata": {},
   "outputs": [],
   "source": [
    "def get_split(column, target, verbose = False):\n",
    "    \n",
    "    candidates = get_candidates(column, target)\n",
    "    ginis = []\n",
    "    \n",
    "    for c in candidates:\n",
    "        aux = column < c\n",
    "        ginis.append(gini_index(aux, target))\n",
    "    \n",
    "    if verbose:\n",
    "        msn = 'candidate:{} → Gini: {}'\n",
    "        for c, g in zip(candidates, ginis):\n",
    "            print(msn.format(c, g))\n",
    "    \n",
    "    if ginis == []:\n",
    "        return None\n",
    "    \n",
    "    return candidates[np.argmin(ginis)]"
   ]
  },
  {
   "cell_type": "code",
   "execution_count": 37,
   "id": "essential-silver",
   "metadata": {},
   "outputs": [
    {
     "name": "stdout",
     "output_type": "stream",
     "text": [
      "candidate:5.348525866104282 → Gini: 0.14285714285714285\n",
      "candidate:5.387449703573384 → Gini: 0.2933333333333333\n",
      "candidate:5.444542520228588 → Gini: 0.25\n",
      "candidate:5.61378345109673 → Gini: 0.3611111111111111\n",
      "candidate:5.96405710142795 → Gini: 0.31578947368421045\n"
     ]
    },
    {
     "data": {
      "text/plain": [
       "5.348525866104282"
      ]
     },
     "execution_count": 37,
     "metadata": {},
     "output_type": "execute_result"
    }
   ],
   "source": [
    "get_split(data['x1'], data['y'], verbose = True)"
   ]
  },
  {
   "cell_type": "code",
   "execution_count": 38,
   "id": "bound-heath",
   "metadata": {},
   "outputs": [],
   "source": [
    "def make_node(data, target):\n",
    "    \n",
    "    ginis  = []\n",
    "    values = []\n",
    "    \n",
    "    for c in data.columns:\n",
    "        value = get_split(data[c], target)\n",
    "        aux   = data[c] < value\n",
    "        \n",
    "        ginis.append(gini_index(aux, target))\n",
    "        values.append(value)\n",
    "        \n",
    "        \n",
    "    column, value = data.columns[np.argmin(ginis)], values[np.argmin(ginis)]\n",
    "    \n",
    "    mask = data[column] < value\n",
    "    \n",
    "    left, right = (data[mask], target[mask]), (data[~mask], target[~mask])\n",
    "    \n",
    "    return {'column' : column, 'value' : value, 'groups' : (left, right)}"
   ]
  },
  {
   "cell_type": "code",
   "execution_count": 39,
   "id": "public-pottery",
   "metadata": {},
   "outputs": [],
   "source": [
    "data = [[2.771244718,1.784783929,0],\n",
    "        [1.728571309,1.169761413,0],\n",
    "        [3.678319846,2.81281357,0],\n",
    "        [3.961043357,2.61995032,0],\n",
    "        [2.999208922,2.209014212,0],\n",
    "        [7.497545867,3.162953546,1],\n",
    "        [9.00220326,3.339047188,1],\n",
    "        [7.444542326,0.476683375,1],\n",
    "        [10.12493903,3.234550982,1],\n",
    "        [6.642287351,3.319983761,1]]\n",
    "\n",
    "data = pd.DataFrame(data, columns = ['x1', 'x2', 'y'])   "
   ]
  },
  {
   "cell_type": "code",
   "execution_count": 40,
   "id": "passing-memory",
   "metadata": {},
   "outputs": [
    {
     "data": {
      "text/html": [
       "<div>\n",
       "<style scoped>\n",
       "    .dataframe tbody tr th:only-of-type {\n",
       "        vertical-align: middle;\n",
       "    }\n",
       "\n",
       "    .dataframe tbody tr th {\n",
       "        vertical-align: top;\n",
       "    }\n",
       "\n",
       "    .dataframe thead th {\n",
       "        text-align: right;\n",
       "    }\n",
       "</style>\n",
       "<table border=\"1\" class=\"dataframe\">\n",
       "  <thead>\n",
       "    <tr style=\"text-align: right;\">\n",
       "      <th></th>\n",
       "      <th>x1</th>\n",
       "      <th>x2</th>\n",
       "      <th>y</th>\n",
       "    </tr>\n",
       "  </thead>\n",
       "  <tbody>\n",
       "    <tr>\n",
       "      <th>0</th>\n",
       "      <td>2.771245</td>\n",
       "      <td>1.784784</td>\n",
       "      <td>0</td>\n",
       "    </tr>\n",
       "    <tr>\n",
       "      <th>1</th>\n",
       "      <td>1.728571</td>\n",
       "      <td>1.169761</td>\n",
       "      <td>0</td>\n",
       "    </tr>\n",
       "    <tr>\n",
       "      <th>2</th>\n",
       "      <td>3.678320</td>\n",
       "      <td>2.812814</td>\n",
       "      <td>0</td>\n",
       "    </tr>\n",
       "    <tr>\n",
       "      <th>3</th>\n",
       "      <td>3.961043</td>\n",
       "      <td>2.619950</td>\n",
       "      <td>0</td>\n",
       "    </tr>\n",
       "    <tr>\n",
       "      <th>4</th>\n",
       "      <td>2.999209</td>\n",
       "      <td>2.209014</td>\n",
       "      <td>0</td>\n",
       "    </tr>\n",
       "    <tr>\n",
       "      <th>5</th>\n",
       "      <td>7.497546</td>\n",
       "      <td>3.162954</td>\n",
       "      <td>1</td>\n",
       "    </tr>\n",
       "    <tr>\n",
       "      <th>6</th>\n",
       "      <td>9.002203</td>\n",
       "      <td>3.339047</td>\n",
       "      <td>1</td>\n",
       "    </tr>\n",
       "    <tr>\n",
       "      <th>7</th>\n",
       "      <td>7.444542</td>\n",
       "      <td>0.476683</td>\n",
       "      <td>1</td>\n",
       "    </tr>\n",
       "    <tr>\n",
       "      <th>8</th>\n",
       "      <td>10.124939</td>\n",
       "      <td>3.234551</td>\n",
       "      <td>1</td>\n",
       "    </tr>\n",
       "    <tr>\n",
       "      <th>9</th>\n",
       "      <td>6.642287</td>\n",
       "      <td>3.319984</td>\n",
       "      <td>1</td>\n",
       "    </tr>\n",
       "  </tbody>\n",
       "</table>\n",
       "</div>"
      ],
      "text/plain": [
       "          x1        x2  y\n",
       "0   2.771245  1.784784  0\n",
       "1   1.728571  1.169761  0\n",
       "2   3.678320  2.812814  0\n",
       "3   3.961043  2.619950  0\n",
       "4   2.999209  2.209014  0\n",
       "5   7.497546  3.162954  1\n",
       "6   9.002203  3.339047  1\n",
       "7   7.444542  0.476683  1\n",
       "8  10.124939  3.234551  1\n",
       "9   6.642287  3.319984  1"
      ]
     },
     "execution_count": 40,
     "metadata": {},
     "output_type": "execute_result"
    }
   ],
   "source": [
    "data"
   ]
  },
  {
   "cell_type": "code",
   "execution_count": 41,
   "id": "worthy-driver",
   "metadata": {},
   "outputs": [],
   "source": [
    "X = data.drop('y', axis = 1)\n",
    "y = data['y']"
   ]
  },
  {
   "cell_type": "code",
   "execution_count": 42,
   "id": "average-federation",
   "metadata": {},
   "outputs": [
    {
     "data": {
      "text/plain": [
       "{'column': 'x1',\n",
       " 'value': 6.642287351,\n",
       " 'groups': ((         x1        x2\n",
       "   0  2.771245  1.784784\n",
       "   1  1.728571  1.169761\n",
       "   2  3.678320  2.812814\n",
       "   3  3.961043  2.619950\n",
       "   4  2.999209  2.209014,\n",
       "   0    0\n",
       "   1    0\n",
       "   2    0\n",
       "   3    0\n",
       "   4    0\n",
       "   Name: y, dtype: int64),\n",
       "  (          x1        x2\n",
       "   5   7.497546  3.162954\n",
       "   6   9.002203  3.339047\n",
       "   7   7.444542  0.476683\n",
       "   8  10.124939  3.234551\n",
       "   9   6.642287  3.319984,\n",
       "   5    1\n",
       "   6    1\n",
       "   7    1\n",
       "   8    1\n",
       "   9    1\n",
       "   Name: y, dtype: int64))}"
      ]
     },
     "execution_count": 42,
     "metadata": {},
     "output_type": "execute_result"
    }
   ],
   "source": [
    "make_node(X, y)"
   ]
  },
  {
   "cell_type": "markdown",
   "id": "false-square",
   "metadata": {},
   "source": [
    "we are going to continue creating nodes until one of the acceptance criteria is met, at that time we will have the leaf nodes that we will use to make the prediction."
   ]
  },
  {
   "cell_type": "code",
   "execution_count": 43,
   "id": "specific-cricket",
   "metadata": {},
   "outputs": [],
   "source": [
    "l = [1, 1, 1, 1, 1, 1, 1, 1, 2, 2, 2]"
   ]
  },
  {
   "cell_type": "code",
   "execution_count": 45,
   "id": "baking-indie",
   "metadata": {},
   "outputs": [
    {
     "data": {
      "text/plain": [
       "1"
      ]
     },
     "execution_count": 45,
     "metadata": {},
     "output_type": "execute_result"
    }
   ],
   "source": [
    "max(l, key = l.count)"
   ]
  },
  {
   "cell_type": "code",
   "execution_count": 46,
   "id": "superb-maple",
   "metadata": {},
   "outputs": [],
   "source": [
    "def terminal_node(target):\n",
    "    values = target.values.tolist()\n",
    "    return max(values, key = values.count)"
   ]
  },
  {
   "cell_type": "code",
   "execution_count": 47,
   "id": "residential-cruise",
   "metadata": {},
   "outputs": [],
   "source": [
    "test_data = pd.Series([1, 1, 1, 0])"
   ]
  },
  {
   "cell_type": "code",
   "execution_count": 48,
   "id": "complex-consumption",
   "metadata": {},
   "outputs": [
    {
     "data": {
      "text/plain": [
       "1"
      ]
     },
     "execution_count": 48,
     "metadata": {},
     "output_type": "execute_result"
    }
   ],
   "source": [
    "terminal_node(test_data)"
   ]
  },
  {
   "cell_type": "code",
   "execution_count": 49,
   "id": "undefined-major",
   "metadata": {},
   "outputs": [],
   "source": [
    "def split(node, max_depth, min_size, depth):\n",
    "    \n",
    "    left, right = node['groups']\n",
    "    del(node['groups'])\n",
    "    \n",
    "    # check for a no split\n",
    "    if len(left[0]) == 0:\n",
    "        node['right'] = terminal_node(right[1])\n",
    "        return\n",
    "    \n",
    "    if len(right[0]) == 0:\n",
    "        node['left'] = terminal_node(left[1])\n",
    "        return\n",
    "    \n",
    "    # check for max depth\n",
    "    if depth >= max_depth:\n",
    "        node['left'], node['right'] = terminal_node(left[1]), terminal_node(right[1])\n",
    "        return\n",
    "    \n",
    "    # process left child\n",
    "    if len(left[0]) <= min_size:\n",
    "        node['left'] = terminal_node(left[1])\n",
    "    else:\n",
    "        node['left'] = make_node(*left)\n",
    "        #Agh, the recursion\n",
    "        split(node['left'], max_depth, min_size, depth + 1)\n",
    "    \n",
    "    # process right child\n",
    "    if len(right) <= min_size:\n",
    "        node['right'] = terminal_node(right[1])\n",
    "    else:\n",
    "        node['right'] = make_node(*right)\n",
    "        #Agh, the recursion\n",
    "        split(node['right'], max_depth, min_size, depth + 1)"
   ]
  },
  {
   "cell_type": "markdown",
   "id": "instant-plasma",
   "metadata": {},
   "source": [
    "## Building a Tree\n",
    "\n",
    "We can now put all of the pieces together."
   ]
  },
  {
   "cell_type": "code",
   "execution_count": 50,
   "id": "intensive-retailer",
   "metadata": {},
   "outputs": [],
   "source": [
    "def tree(data, target, max_depth, min_size):\n",
    "    \n",
    "    root = make_node(data, target)\n",
    "    split(root, max_depth, min_size, 1)\n",
    "    \n",
    "    return root"
   ]
  },
  {
   "cell_type": "code",
   "execution_count": 51,
   "id": "adapted-interstate",
   "metadata": {},
   "outputs": [
    {
     "data": {
      "text/plain": [
       "{'column': 'x1', 'value': 6.642287351, 'left': 0, 'right': 1}"
      ]
     },
     "execution_count": 51,
     "metadata": {},
     "output_type": "execute_result"
    }
   ],
   "source": [
    "tree(X, y, 1, 1)"
   ]
  },
  {
   "cell_type": "code",
   "execution_count": 52,
   "id": "devoted-squad",
   "metadata": {},
   "outputs": [],
   "source": [
    "x1 = np.random.random(5) + 5\n",
    "y1 = np.random.random(5) + 4\n",
    "\n",
    "x2 = np.random.random(5) + 4\n",
    "y2 = np.random.random(5) + 4\n",
    "\n",
    "x3 = np.random.random(5) + 5\n",
    "y3 = np.random.random(5) + 5\n",
    "\n",
    "x4 = np.random.random(5) + 4\n",
    "y4 = np.random.random(5) + 5\n",
    "\n",
    "\n",
    "x = list(x1) + list(x2) + list(x3) + list(x4)\n",
    "y = list(y1) + list(y2) + list(y3) + list(y4)\n",
    "target = ['g'] * 5 + ['r'] * 15\n",
    "data = pd.DataFrame({'x1' :  x, 'x2' : y, 'y' : target})"
   ]
  },
  {
   "cell_type": "code",
   "execution_count": 53,
   "id": "explicit-skating",
   "metadata": {},
   "outputs": [
    {
     "data": {
      "text/html": [
       "<div>\n",
       "<style scoped>\n",
       "    .dataframe tbody tr th:only-of-type {\n",
       "        vertical-align: middle;\n",
       "    }\n",
       "\n",
       "    .dataframe tbody tr th {\n",
       "        vertical-align: top;\n",
       "    }\n",
       "\n",
       "    .dataframe thead th {\n",
       "        text-align: right;\n",
       "    }\n",
       "</style>\n",
       "<table border=\"1\" class=\"dataframe\">\n",
       "  <thead>\n",
       "    <tr style=\"text-align: right;\">\n",
       "      <th></th>\n",
       "      <th>x1</th>\n",
       "      <th>x2</th>\n",
       "      <th>y</th>\n",
       "    </tr>\n",
       "  </thead>\n",
       "  <tbody>\n",
       "    <tr>\n",
       "      <th>0</th>\n",
       "      <td>5.128988</td>\n",
       "      <td>4.946671</td>\n",
       "      <td>g</td>\n",
       "    </tr>\n",
       "    <tr>\n",
       "      <th>1</th>\n",
       "      <td>5.556652</td>\n",
       "      <td>4.375871</td>\n",
       "      <td>g</td>\n",
       "    </tr>\n",
       "    <tr>\n",
       "      <th>2</th>\n",
       "      <td>5.883638</td>\n",
       "      <td>4.944007</td>\n",
       "      <td>g</td>\n",
       "    </tr>\n",
       "    <tr>\n",
       "      <th>3</th>\n",
       "      <td>5.472253</td>\n",
       "      <td>4.461605</td>\n",
       "      <td>g</td>\n",
       "    </tr>\n",
       "    <tr>\n",
       "      <th>4</th>\n",
       "      <td>5.928756</td>\n",
       "      <td>4.190926</td>\n",
       "      <td>g</td>\n",
       "    </tr>\n",
       "    <tr>\n",
       "      <th>5</th>\n",
       "      <td>4.494225</td>\n",
       "      <td>4.560661</td>\n",
       "      <td>r</td>\n",
       "    </tr>\n",
       "    <tr>\n",
       "      <th>6</th>\n",
       "      <td>4.064641</td>\n",
       "      <td>4.010585</td>\n",
       "      <td>r</td>\n",
       "    </tr>\n",
       "    <tr>\n",
       "      <th>7</th>\n",
       "      <td>4.294933</td>\n",
       "      <td>4.570327</td>\n",
       "      <td>r</td>\n",
       "    </tr>\n",
       "    <tr>\n",
       "      <th>8</th>\n",
       "      <td>4.384309</td>\n",
       "      <td>4.418749</td>\n",
       "      <td>r</td>\n",
       "    </tr>\n",
       "    <tr>\n",
       "      <th>9</th>\n",
       "      <td>4.585206</td>\n",
       "      <td>4.386350</td>\n",
       "      <td>r</td>\n",
       "    </tr>\n",
       "    <tr>\n",
       "      <th>10</th>\n",
       "      <td>5.900942</td>\n",
       "      <td>5.498762</td>\n",
       "      <td>r</td>\n",
       "    </tr>\n",
       "    <tr>\n",
       "      <th>11</th>\n",
       "      <td>5.010019</td>\n",
       "      <td>5.742605</td>\n",
       "      <td>r</td>\n",
       "    </tr>\n",
       "    <tr>\n",
       "      <th>12</th>\n",
       "      <td>5.261240</td>\n",
       "      <td>5.535303</td>\n",
       "      <td>r</td>\n",
       "    </tr>\n",
       "    <tr>\n",
       "      <th>13</th>\n",
       "      <td>5.251706</td>\n",
       "      <td>5.897432</td>\n",
       "      <td>r</td>\n",
       "    </tr>\n",
       "    <tr>\n",
       "      <th>14</th>\n",
       "      <td>5.791759</td>\n",
       "      <td>5.645237</td>\n",
       "      <td>r</td>\n",
       "    </tr>\n",
       "    <tr>\n",
       "      <th>15</th>\n",
       "      <td>4.323118</td>\n",
       "      <td>5.095006</td>\n",
       "      <td>r</td>\n",
       "    </tr>\n",
       "    <tr>\n",
       "      <th>16</th>\n",
       "      <td>4.547417</td>\n",
       "      <td>5.296999</td>\n",
       "      <td>r</td>\n",
       "    </tr>\n",
       "    <tr>\n",
       "      <th>17</th>\n",
       "      <td>4.147879</td>\n",
       "      <td>5.637751</td>\n",
       "      <td>r</td>\n",
       "    </tr>\n",
       "    <tr>\n",
       "      <th>18</th>\n",
       "      <td>4.335257</td>\n",
       "      <td>5.231553</td>\n",
       "      <td>r</td>\n",
       "    </tr>\n",
       "    <tr>\n",
       "      <th>19</th>\n",
       "      <td>4.790827</td>\n",
       "      <td>5.662823</td>\n",
       "      <td>r</td>\n",
       "    </tr>\n",
       "  </tbody>\n",
       "</table>\n",
       "</div>"
      ],
      "text/plain": [
       "          x1        x2  y\n",
       "0   5.128988  4.946671  g\n",
       "1   5.556652  4.375871  g\n",
       "2   5.883638  4.944007  g\n",
       "3   5.472253  4.461605  g\n",
       "4   5.928756  4.190926  g\n",
       "5   4.494225  4.560661  r\n",
       "6   4.064641  4.010585  r\n",
       "7   4.294933  4.570327  r\n",
       "8   4.384309  4.418749  r\n",
       "9   4.585206  4.386350  r\n",
       "10  5.900942  5.498762  r\n",
       "11  5.010019  5.742605  r\n",
       "12  5.261240  5.535303  r\n",
       "13  5.251706  5.897432  r\n",
       "14  5.791759  5.645237  r\n",
       "15  4.323118  5.095006  r\n",
       "16  4.547417  5.296999  r\n",
       "17  4.147879  5.637751  r\n",
       "18  4.335257  5.231553  r\n",
       "19  4.790827  5.662823  r"
      ]
     },
     "execution_count": 53,
     "metadata": {},
     "output_type": "execute_result"
    }
   ],
   "source": [
    "data"
   ]
  },
  {
   "cell_type": "code",
   "execution_count": 54,
   "id": "honest-silicon",
   "metadata": {},
   "outputs": [],
   "source": [
    "X = data.drop('y', axis = 1)\n",
    "y = data['y']"
   ]
  },
  {
   "cell_type": "code",
   "execution_count": 55,
   "id": "designed-sister",
   "metadata": {},
   "outputs": [],
   "source": [
    "tree1 = tree(X, y, 1, 1)"
   ]
  },
  {
   "cell_type": "code",
   "execution_count": 56,
   "id": "sustained-reality",
   "metadata": {},
   "outputs": [
    {
     "data": {
      "text/plain": [
       "{'column': 'x1', 'value': 5.128988376262237, 'left': 'r', 'right': 'g'}"
      ]
     },
     "execution_count": 56,
     "metadata": {},
     "output_type": "execute_result"
    }
   ],
   "source": [
    "tree1"
   ]
  },
  {
   "cell_type": "code",
   "execution_count": 57,
   "id": "sudden-search",
   "metadata": {},
   "outputs": [
    {
     "data": {
      "image/png": "[encoded data removed]",
      "text/plain": [
       "<Figure size 936x576 with 1 Axes>"
      ]
     },
     "metadata": {},
     "output_type": "display_data"
    }
   ],
   "source": [
    "fig, ax = plt.subplots(figsize = (13, 8))\n",
    "\n",
    "sns.scatterplot(data = data, x = 'x1', y = 'x2', hue = 'y', ax = ax, palette = ['g', 'r'])\n",
    "ax.axvline(tree1['value'], color = 'k', alpha = 0.7);"
   ]
  },
  {
   "cell_type": "code",
   "execution_count": 58,
   "id": "automotive-distance",
   "metadata": {},
   "outputs": [],
   "source": [
    "tree2 = tree(X, y, 2, 1)"
   ]
  },
  {
   "cell_type": "code",
   "execution_count": 59,
   "id": "hungarian-underground",
   "metadata": {},
   "outputs": [
    {
     "data": {
      "text/plain": [
       "{'column': 'x1',\n",
       " 'value': 5.128988376262237,\n",
       " 'left': {'column': 'x1', 'value': None, 'right': 'r'},\n",
       " 'right': {'column': 'x2',\n",
       "  'value': 5.4987624524999665,\n",
       "  'left': 'g',\n",
       "  'right': 'r'}}"
      ]
     },
     "execution_count": 59,
     "metadata": {},
     "output_type": "execute_result"
    }
   ],
   "source": [
    "tree2"
   ]
  },
  {
   "cell_type": "code",
   "execution_count": 60,
   "id": "exceptional-approval",
   "metadata": {},
   "outputs": [
    {
     "data": {
      "text/plain": [
       "{'column': 'x1', 'value': None, 'right': 'r'}"
      ]
     },
     "execution_count": 60,
     "metadata": {},
     "output_type": "execute_result"
    }
   ],
   "source": [
    "tree2['left']"
   ]
  },
  {
   "cell_type": "code",
   "execution_count": 61,
   "id": "gothic-pocket",
   "metadata": {},
   "outputs": [
    {
     "data": {
      "text/plain": [
       "{'column': 'x2', 'value': 5.4987624524999665, 'left': 'g', 'right': 'r'}"
      ]
     },
     "execution_count": 61,
     "metadata": {},
     "output_type": "execute_result"
    }
   ],
   "source": [
    "tree2['right']"
   ]
  },
  {
   "cell_type": "code",
   "execution_count": 62,
   "id": "massive-facial",
   "metadata": {},
   "outputs": [
    {
     "data": {
      "image/png": "[encoded data removed]",
      "text/plain": [
       "<Figure size 936x576 with 1 Axes>"
      ]
     },
     "metadata": {},
     "output_type": "display_data"
    }
   ],
   "source": [
    "fig, ax = plt.subplots(figsize = (13, 8))\n",
    "\n",
    "sns.scatterplot(data = data, x = 'x1', y = 'x2', hue = 'y', ax = ax, palette = ['g', 'r'])\n",
    "ax.axvline(tree2['value'], color = 'k', alpha = 0.7)\n",
    "ax.axhline(tree2['right']['value'], color = 'k', alpha = 0.7);"
   ]
  },
  {
   "cell_type": "markdown",
   "id": "comic-minutes",
   "metadata": {},
   "source": [
    "## Make a Prediction\n",
    "\n",
    "Making predictions with a decision tree involves navigating the tree with the specifically provided row of data.\n",
    "\n",
    "Again, we can implement this using a recursive function, where the same prediction routine is called again with the left or the right child nodes, depending on how the split affects the provided data."
   ]
  },
  {
   "cell_type": "code",
   "execution_count": 63,
   "id": "developmental-bride",
   "metadata": {},
   "outputs": [],
   "source": [
    "def predict_one(node, row):\n",
    "    \n",
    "    \n",
    "    if node['value'] == None:\n",
    "        return node['right']\n",
    "    \n",
    "    if row[node['column']] < node['value']: #in the left\n",
    "        \n",
    "        if isinstance(node['left'], dict):\n",
    "            return predict_one(node['left'], row)\n",
    "        \n",
    "        else:\n",
    "            return node['left']\n",
    "    \n",
    "    else:\n",
    "        \n",
    "        if isinstance(node['right'], dict):\n",
    "            return predict_one(node['right'], row)\n",
    "        \n",
    "        else:\n",
    "            return node['right']"
   ]
  },
  {
   "cell_type": "code",
   "execution_count": 65,
   "id": "falling-march",
   "metadata": {},
   "outputs": [],
   "source": [
    "def predict(node, data):\n",
    "    \n",
    "    predictions = []\n",
    "    \n",
    "    for i in data.index:\n",
    "        predictions.append(predict_one(node, data.loc[i, :]))\n",
    "    \n",
    "    return pd.Series(predictions, index = data.index)"
   ]
  },
  {
   "cell_type": "code",
   "execution_count": 66,
   "id": "sapphire-young",
   "metadata": {},
   "outputs": [],
   "source": [
    "points = [[5.25, 5],\n",
    "        [5.75, 4.5],\n",
    "        [4.5, 5.5],\n",
    "        [4.5, 4.5]]"
   ]
  },
  {
   "cell_type": "code",
   "execution_count": 67,
   "id": "tutorial-crawford",
   "metadata": {},
   "outputs": [],
   "source": [
    "points = pd.DataFrame(points, columns = ['x1', 'x2'])"
   ]
  },
  {
   "cell_type": "code",
   "execution_count": 68,
   "id": "plain-function",
   "metadata": {},
   "outputs": [
    {
     "data": {
      "text/html": [
       "<div>\n",
       "<style scoped>\n",
       "    .dataframe tbody tr th:only-of-type {\n",
       "        vertical-align: middle;\n",
       "    }\n",
       "\n",
       "    .dataframe tbody tr th {\n",
       "        vertical-align: top;\n",
       "    }\n",
       "\n",
       "    .dataframe thead th {\n",
       "        text-align: right;\n",
       "    }\n",
       "</style>\n",
       "<table border=\"1\" class=\"dataframe\">\n",
       "  <thead>\n",
       "    <tr style=\"text-align: right;\">\n",
       "      <th></th>\n",
       "      <th>x1</th>\n",
       "      <th>x2</th>\n",
       "    </tr>\n",
       "  </thead>\n",
       "  <tbody>\n",
       "    <tr>\n",
       "      <th>0</th>\n",
       "      <td>5.25</td>\n",
       "      <td>5.0</td>\n",
       "    </tr>\n",
       "    <tr>\n",
       "      <th>1</th>\n",
       "      <td>5.75</td>\n",
       "      <td>4.5</td>\n",
       "    </tr>\n",
       "    <tr>\n",
       "      <th>2</th>\n",
       "      <td>4.50</td>\n",
       "      <td>5.5</td>\n",
       "    </tr>\n",
       "    <tr>\n",
       "      <th>3</th>\n",
       "      <td>4.50</td>\n",
       "      <td>4.5</td>\n",
       "    </tr>\n",
       "  </tbody>\n",
       "</table>\n",
       "</div>"
      ],
      "text/plain": [
       "     x1   x2\n",
       "0  5.25  5.0\n",
       "1  5.75  4.5\n",
       "2  4.50  5.5\n",
       "3  4.50  4.5"
      ]
     },
     "execution_count": 68,
     "metadata": {},
     "output_type": "execute_result"
    }
   ],
   "source": [
    "points"
   ]
  },
  {
   "cell_type": "code",
   "execution_count": 69,
   "id": "historical-advocate",
   "metadata": {},
   "outputs": [
    {
     "data": {
      "text/plain": [
       "x1    5.25\n",
       "x2    5.00\n",
       "Name: 0, dtype: float64"
      ]
     },
     "execution_count": 69,
     "metadata": {},
     "output_type": "execute_result"
    }
   ],
   "source": [
    "points.loc[0, :]"
   ]
  },
  {
   "cell_type": "code",
   "execution_count": 70,
   "id": "attended-driver",
   "metadata": {},
   "outputs": [
    {
     "data": {
      "text/plain": [
       "'g'"
      ]
     },
     "execution_count": 70,
     "metadata": {},
     "output_type": "execute_result"
    }
   ],
   "source": [
    "predict_one(tree1, points.loc[0, :])"
   ]
  },
  {
   "cell_type": "code",
   "execution_count": 71,
   "id": "honey-fetish",
   "metadata": {},
   "outputs": [
    {
     "data": {
      "text/plain": [
       "0    g\n",
       "1    g\n",
       "2    r\n",
       "3    r\n",
       "dtype: object"
      ]
     },
     "execution_count": 71,
     "metadata": {},
     "output_type": "execute_result"
    }
   ],
   "source": [
    "predict(tree1, points)"
   ]
  },
  {
   "cell_type": "code",
   "execution_count": 72,
   "id": "color-reynolds",
   "metadata": {},
   "outputs": [
    {
     "data": {
      "image/png": "[encoded data removed]",
      "text/plain": [
       "<Figure size 936x576 with 1 Axes>"
      ]
     },
     "metadata": {},
     "output_type": "display_data"
    }
   ],
   "source": [
    "fig, ax = plt.subplots(figsize = (13, 8))\n",
    "\n",
    "sns.scatterplot(data = data, x = 'x1', y = 'x2', hue = 'y', ax = ax, palette = ['g', 'r'])\n",
    "ax.axvline(tree1['value'], color = 'k', alpha = 0.7)\n",
    "ax.scatter(points['x1'], points['x2'], color = predict(tree1, points), marker = 'p', linewidths = 7);"
   ]
  },
  {
   "cell_type": "code",
   "execution_count": 73,
   "id": "digital-shell",
   "metadata": {},
   "outputs": [
    {
     "data": {
      "text/plain": [
       "'g'"
      ]
     },
     "execution_count": 73,
     "metadata": {},
     "output_type": "execute_result"
    }
   ],
   "source": [
    "predict_one(tree2, points.loc[1, :])"
   ]
  },
  {
   "cell_type": "code",
   "execution_count": 74,
   "id": "departmental-structure",
   "metadata": {},
   "outputs": [
    {
     "data": {
      "text/plain": [
       "0    g\n",
       "1    g\n",
       "2    r\n",
       "3    r\n",
       "dtype: object"
      ]
     },
     "execution_count": 74,
     "metadata": {},
     "output_type": "execute_result"
    }
   ],
   "source": [
    "predict(tree2, points)"
   ]
  },
  {
   "cell_type": "code",
   "execution_count": 75,
   "id": "continuing-saint",
   "metadata": {},
   "outputs": [
    {
     "data": {
      "image/png": "[encoded data removed]",
      "text/plain": [
       "<Figure size 936x576 with 1 Axes>"
      ]
     },
     "metadata": {},
     "output_type": "display_data"
    }
   ],
   "source": [
    "fig, ax = plt.subplots(figsize = (13, 8))\n",
    "\n",
    "sns.scatterplot(data = data, x = 'x1', y = 'x2', hue = 'y', ax = ax, palette = ['g', 'r'])\n",
    "ax.axvline(tree2['value'], color = 'k', alpha = 0.7)\n",
    "ax.axhline(tree2['right']['value'], color = 'k', alpha = 0.7)\n",
    "ax.scatter(points['x1'], points['x2'], color = predict(tree2, points), marker = 'p', linewidths = 7);"
   ]
  },
  {
   "cell_type": "code",
   "execution_count": 76,
   "id": "roman-replica",
   "metadata": {},
   "outputs": [],
   "source": [
    "iris = pd.read_csv('Iris.csv')"
   ]
  },
  {
   "cell_type": "code",
   "execution_count": 77,
   "id": "worth-commitment",
   "metadata": {},
   "outputs": [
    {
     "data": {
      "text/html": [
       "<div>\n",
       "<style scoped>\n",
       "    .dataframe tbody tr th:only-of-type {\n",
       "        vertical-align: middle;\n",
       "    }\n",
       "\n",
       "    .dataframe tbody tr th {\n",
       "        vertical-align: top;\n",
       "    }\n",
       "\n",
       "    .dataframe thead th {\n",
       "        text-align: right;\n",
       "    }\n",
       "</style>\n",
       "<table border=\"1\" class=\"dataframe\">\n",
       "  <thead>\n",
       "    <tr style=\"text-align: right;\">\n",
       "      <th></th>\n",
       "      <th>Id</th>\n",
       "      <th>SepalLengthCm</th>\n",
       "      <th>SepalWidthCm</th>\n",
       "      <th>PetalLengthCm</th>\n",
       "      <th>PetalWidthCm</th>\n",
       "      <th>Species</th>\n",
       "    </tr>\n",
       "  </thead>\n",
       "  <tbody>\n",
       "    <tr>\n",
       "      <th>0</th>\n",
       "      <td>1</td>\n",
       "      <td>5.1</td>\n",
       "      <td>3.5</td>\n",
       "      <td>1.4</td>\n",
       "      <td>0.2</td>\n",
       "      <td>Iris-setosa</td>\n",
       "    </tr>\n",
       "    <tr>\n",
       "      <th>1</th>\n",
       "      <td>2</td>\n",
       "      <td>4.9</td>\n",
       "      <td>3.0</td>\n",
       "      <td>1.4</td>\n",
       "      <td>0.2</td>\n",
       "      <td>Iris-setosa</td>\n",
       "    </tr>\n",
       "    <tr>\n",
       "      <th>2</th>\n",
       "      <td>3</td>\n",
       "      <td>4.7</td>\n",
       "      <td>3.2</td>\n",
       "      <td>1.3</td>\n",
       "      <td>0.2</td>\n",
       "      <td>Iris-setosa</td>\n",
       "    </tr>\n",
       "    <tr>\n",
       "      <th>3</th>\n",
       "      <td>4</td>\n",
       "      <td>4.6</td>\n",
       "      <td>3.1</td>\n",
       "      <td>1.5</td>\n",
       "      <td>0.2</td>\n",
       "      <td>Iris-setosa</td>\n",
       "    </tr>\n",
       "    <tr>\n",
       "      <th>4</th>\n",
       "      <td>5</td>\n",
       "      <td>5.0</td>\n",
       "      <td>3.6</td>\n",
       "      <td>1.4</td>\n",
       "      <td>0.2</td>\n",
       "      <td>Iris-setosa</td>\n",
       "    </tr>\n",
       "  </tbody>\n",
       "</table>\n",
       "</div>"
      ],
      "text/plain": [
       "   Id  SepalLengthCm  SepalWidthCm  PetalLengthCm  PetalWidthCm      Species\n",
       "0   1            5.1           3.5            1.4           0.2  Iris-setosa\n",
       "1   2            4.9           3.0            1.4           0.2  Iris-setosa\n",
       "2   3            4.7           3.2            1.3           0.2  Iris-setosa\n",
       "3   4            4.6           3.1            1.5           0.2  Iris-setosa\n",
       "4   5            5.0           3.6            1.4           0.2  Iris-setosa"
      ]
     },
     "execution_count": 77,
     "metadata": {},
     "output_type": "execute_result"
    }
   ],
   "source": [
    "iris.head()"
   ]
  },
  {
   "cell_type": "code",
   "execution_count": 78,
   "id": "cheap-place",
   "metadata": {},
   "outputs": [],
   "source": [
    "iris.drop('Id', axis = 1, inplace = True)"
   ]
  },
  {
   "cell_type": "code",
   "execution_count": 79,
   "id": "touched-philosophy",
   "metadata": {},
   "outputs": [],
   "source": [
    "X = iris.drop('Species', axis = 1)\n",
    "y = iris['Species']"
   ]
  },
  {
   "cell_type": "code",
   "execution_count": 80,
   "id": "macro-liverpool",
   "metadata": {},
   "outputs": [
    {
     "data": {
      "text/plain": [
       "(150, 4)"
      ]
     },
     "execution_count": 80,
     "metadata": {},
     "output_type": "execute_result"
    }
   ],
   "source": [
    "X.shape"
   ]
  },
  {
   "cell_type": "code",
   "execution_count": 85,
   "id": "expected-reduction",
   "metadata": {},
   "outputs": [],
   "source": [
    "iris_tree = tree(X, y, max_depth = 4, min_size = 5)"
   ]
  },
  {
   "cell_type": "code",
   "execution_count": 86,
   "id": "declared-throw",
   "metadata": {},
   "outputs": [
    {
     "data": {
      "text/plain": [
       "{'column': 'PetalLengthCm',\n",
       " 'value': 3.0,\n",
       " 'left': {'column': 'SepalLengthCm', 'value': None, 'right': 'Iris-setosa'},\n",
       " 'right': 'Iris-versicolor'}"
      ]
     },
     "execution_count": 86,
     "metadata": {},
     "output_type": "execute_result"
    }
   ],
   "source": [
    "iris_tree"
   ]
  },
  {
   "cell_type": "code",
   "execution_count": 87,
   "id": "honey-measure",
   "metadata": {},
   "outputs": [],
   "source": [
    "y_pred = predict(iris_tree, X)"
   ]
  },
  {
   "cell_type": "code",
   "execution_count": 88,
   "id": "minor-square",
   "metadata": {},
   "outputs": [
    {
     "data": {
      "text/plain": [
       "0.6666666666666666"
      ]
     },
     "execution_count": 88,
     "metadata": {},
     "output_type": "execute_result"
    }
   ],
   "source": [
    "(y_pred == y).mean()"
   ]
  },
  {
   "cell_type": "code",
   "execution_count": null,
   "id": "swedish-cabinet",
   "metadata": {},
   "outputs": [],
   "source": []
  }
 ],
 "metadata": {
  "kernelspec": {
   "display_name": "Python 3",
   "language": "python",
   "name": "python3"
  },
  "language_info": {
   "codemirror_mode": {
    "name": "ipython",
    "version": 3
   },
   "file_extension": ".py",
   "mimetype": "text/x-python",
   "name": "python",
   "nbconvert_exporter": "python",
   "pygments_lexer": "ipython3",
   "version": "3.8.5"
  }
 },
 "nbformat": 4,
 "nbformat_minor": 5
}
